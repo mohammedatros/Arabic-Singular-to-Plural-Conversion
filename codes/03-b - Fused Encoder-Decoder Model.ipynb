{
 "cells": [
  {
   "cell_type": "markdown",
   "metadata": {
    "id": "Rf_dUQL_lcOz"
   },
   "source": [
    "# Imports"
   ]
  },
  {
   "cell_type": "code",
   "execution_count": null,
   "metadata": {
    "colab": {
     "base_uri": "https://localhost:8080/"
    },
    "id": "tytDsTGlCs2q",
    "outputId": "9ff6c0fe-2da9-45d2-e775-9bbae4a91108"
   },
   "outputs": [
    {
     "name": "stdout",
     "output_type": "stream",
     "text": [
      "Collecting PyArabic\n",
      "  Downloading PyArabic-0.6.14-py3-none-any.whl (126 kB)\n",
      "\u001b[?25l\r",
      "\u001b[K     |██▋                             | 10 kB 15.2 MB/s eta 0:00:01\r",
      "\u001b[K     |█████▏                          | 20 kB 11.8 MB/s eta 0:00:01\r",
      "\u001b[K     |███████▉                        | 30 kB 9.0 MB/s eta 0:00:01\r",
      "\u001b[K     |██████████▍                     | 40 kB 3.6 MB/s eta 0:00:01\r",
      "\u001b[K     |█████████████                   | 51 kB 3.7 MB/s eta 0:00:01\r",
      "\u001b[K     |███████████████▋                | 61 kB 4.4 MB/s eta 0:00:01\r",
      "\u001b[K     |██████████████████▏             | 71 kB 4.5 MB/s eta 0:00:01\r",
      "\u001b[K     |████████████████████▊           | 81 kB 4.7 MB/s eta 0:00:01\r",
      "\u001b[K     |███████████████████████▍        | 92 kB 5.2 MB/s eta 0:00:01\r",
      "\u001b[K     |██████████████████████████      | 102 kB 4.3 MB/s eta 0:00:01\r",
      "\u001b[K     |████████████████████████████▌   | 112 kB 4.3 MB/s eta 0:00:01\r",
      "\u001b[K     |███████████████████████████████▏| 122 kB 4.3 MB/s eta 0:00:01\r",
      "\u001b[K     |████████████████████████████████| 126 kB 4.3 MB/s \n",
      "\u001b[?25hRequirement already satisfied: six>=1.14.0 in /usr/local/lib/python3.7/dist-packages (from PyArabic) (1.15.0)\n",
      "Installing collected packages: PyArabic\n",
      "Successfully installed PyArabic-0.6.14\n"
     ]
    }
   ],
   "source": [
    "# install PyArabic library for Arabic preprocessing\n",
    "!pip install PyArabic"
   ]
  },
  {
   "cell_type": "code",
   "execution_count": null,
   "metadata": {
    "colab": {
     "base_uri": "https://localhost:8080/"
    },
    "id": "tB3hTHNrc_vN",
    "outputId": "f7a74cea-7ce2-4352-f03f-3831c70f8fe6"
   },
   "outputs": [
    {
     "name": "stdout",
     "output_type": "stream",
     "text": [
      "Collecting tensorflow_addons\n",
      "  Downloading tensorflow_addons-0.16.1-cp37-cp37m-manylinux_2_12_x86_64.manylinux2010_x86_64.whl (1.1 MB)\n",
      "\u001b[?25l\r",
      "\u001b[K     |▎                               | 10 kB 20.3 MB/s eta 0:00:01\r",
      "\u001b[K     |▋                               | 20 kB 6.3 MB/s eta 0:00:01\r",
      "\u001b[K     |▉                               | 30 kB 8.3 MB/s eta 0:00:01\r",
      "\u001b[K     |█▏                              | 40 kB 3.7 MB/s eta 0:00:01\r",
      "\u001b[K     |█▌                              | 51 kB 3.7 MB/s eta 0:00:01\r",
      "\u001b[K     |█▊                              | 61 kB 4.4 MB/s eta 0:00:01\r",
      "\u001b[K     |██                              | 71 kB 4.6 MB/s eta 0:00:01\r",
      "\u001b[K     |██▍                             | 81 kB 4.9 MB/s eta 0:00:01\r",
      "\u001b[K     |██▋                             | 92 kB 5.4 MB/s eta 0:00:01\r",
      "\u001b[K     |███                             | 102 kB 4.3 MB/s eta 0:00:01\r",
      "\u001b[K     |███▏                            | 112 kB 4.3 MB/s eta 0:00:01\r",
      "\u001b[K     |███▌                            | 122 kB 4.3 MB/s eta 0:00:01\r",
      "\u001b[K     |███▉                            | 133 kB 4.3 MB/s eta 0:00:01\r",
      "\u001b[K     |████                            | 143 kB 4.3 MB/s eta 0:00:01\r",
      "\u001b[K     |████▍                           | 153 kB 4.3 MB/s eta 0:00:01\r",
      "\u001b[K     |████▊                           | 163 kB 4.3 MB/s eta 0:00:01\r",
      "\u001b[K     |█████                           | 174 kB 4.3 MB/s eta 0:00:01\r",
      "\u001b[K     |█████▎                          | 184 kB 4.3 MB/s eta 0:00:01\r",
      "\u001b[K     |█████▌                          | 194 kB 4.3 MB/s eta 0:00:01\r",
      "\u001b[K     |█████▉                          | 204 kB 4.3 MB/s eta 0:00:01\r",
      "\u001b[K     |██████▏                         | 215 kB 4.3 MB/s eta 0:00:01\r",
      "\u001b[K     |██████▍                         | 225 kB 4.3 MB/s eta 0:00:01\r",
      "\u001b[K     |██████▊                         | 235 kB 4.3 MB/s eta 0:00:01\r",
      "\u001b[K     |███████                         | 245 kB 4.3 MB/s eta 0:00:01\r",
      "\u001b[K     |███████▎                        | 256 kB 4.3 MB/s eta 0:00:01\r",
      "\u001b[K     |███████▋                        | 266 kB 4.3 MB/s eta 0:00:01\r",
      "\u001b[K     |███████▉                        | 276 kB 4.3 MB/s eta 0:00:01\r",
      "\u001b[K     |████████▏                       | 286 kB 4.3 MB/s eta 0:00:01\r",
      "\u001b[K     |████████▌                       | 296 kB 4.3 MB/s eta 0:00:01\r",
      "\u001b[K     |████████▊                       | 307 kB 4.3 MB/s eta 0:00:01\r",
      "\u001b[K     |█████████                       | 317 kB 4.3 MB/s eta 0:00:01\r",
      "\u001b[K     |█████████▍                      | 327 kB 4.3 MB/s eta 0:00:01\r",
      "\u001b[K     |█████████▋                      | 337 kB 4.3 MB/s eta 0:00:01\r",
      "\u001b[K     |██████████                      | 348 kB 4.3 MB/s eta 0:00:01\r",
      "\u001b[K     |██████████▏                     | 358 kB 4.3 MB/s eta 0:00:01\r",
      "\u001b[K     |██████████▌                     | 368 kB 4.3 MB/s eta 0:00:01\r",
      "\u001b[K     |██████████▉                     | 378 kB 4.3 MB/s eta 0:00:01\r",
      "\u001b[K     |███████████                     | 389 kB 4.3 MB/s eta 0:00:01\r",
      "\u001b[K     |███████████▍                    | 399 kB 4.3 MB/s eta 0:00:01\r",
      "\u001b[K     |███████████▊                    | 409 kB 4.3 MB/s eta 0:00:01\r",
      "\u001b[K     |████████████                    | 419 kB 4.3 MB/s eta 0:00:01\r",
      "\u001b[K     |████████████▎                   | 430 kB 4.3 MB/s eta 0:00:01\r",
      "\u001b[K     |████████████▌                   | 440 kB 4.3 MB/s eta 0:00:01\r",
      "\u001b[K     |████████████▉                   | 450 kB 4.3 MB/s eta 0:00:01\r",
      "\u001b[K     |█████████████▏                  | 460 kB 4.3 MB/s eta 0:00:01\r",
      "\u001b[K     |█████████████▍                  | 471 kB 4.3 MB/s eta 0:00:01\r",
      "\u001b[K     |█████████████▊                  | 481 kB 4.3 MB/s eta 0:00:01\r",
      "\u001b[K     |██████████████                  | 491 kB 4.3 MB/s eta 0:00:01\r",
      "\u001b[K     |██████████████▎                 | 501 kB 4.3 MB/s eta 0:00:01\r",
      "\u001b[K     |██████████████▋                 | 512 kB 4.3 MB/s eta 0:00:01\r",
      "\u001b[K     |██████████████▉                 | 522 kB 4.3 MB/s eta 0:00:01\r",
      "\u001b[K     |███████████████▏                | 532 kB 4.3 MB/s eta 0:00:01\r",
      "\u001b[K     |███████████████▌                | 542 kB 4.3 MB/s eta 0:00:01\r",
      "\u001b[K     |███████████████▊                | 552 kB 4.3 MB/s eta 0:00:01\r",
      "\u001b[K     |████████████████                | 563 kB 4.3 MB/s eta 0:00:01\r",
      "\u001b[K     |████████████████▍               | 573 kB 4.3 MB/s eta 0:00:01\r",
      "\u001b[K     |████████████████▋               | 583 kB 4.3 MB/s eta 0:00:01\r",
      "\u001b[K     |█████████████████               | 593 kB 4.3 MB/s eta 0:00:01\r",
      "\u001b[K     |█████████████████▏              | 604 kB 4.3 MB/s eta 0:00:01\r",
      "\u001b[K     |█████████████████▌              | 614 kB 4.3 MB/s eta 0:00:01\r",
      "\u001b[K     |█████████████████▉              | 624 kB 4.3 MB/s eta 0:00:01\r",
      "\u001b[K     |██████████████████              | 634 kB 4.3 MB/s eta 0:00:01\r",
      "\u001b[K     |██████████████████▍             | 645 kB 4.3 MB/s eta 0:00:01\r",
      "\u001b[K     |██████████████████▊             | 655 kB 4.3 MB/s eta 0:00:01\r",
      "\u001b[K     |███████████████████             | 665 kB 4.3 MB/s eta 0:00:01\r",
      "\u001b[K     |███████████████████▎            | 675 kB 4.3 MB/s eta 0:00:01\r",
      "\u001b[K     |███████████████████▌            | 686 kB 4.3 MB/s eta 0:00:01\r",
      "\u001b[K     |███████████████████▉            | 696 kB 4.3 MB/s eta 0:00:01\r",
      "\u001b[K     |████████████████████▏           | 706 kB 4.3 MB/s eta 0:00:01\r",
      "\u001b[K     |████████████████████▍           | 716 kB 4.3 MB/s eta 0:00:01\r",
      "\u001b[K     |████████████████████▊           | 727 kB 4.3 MB/s eta 0:00:01\r",
      "\u001b[K     |█████████████████████           | 737 kB 4.3 MB/s eta 0:00:01\r",
      "\u001b[K     |█████████████████████▎          | 747 kB 4.3 MB/s eta 0:00:01\r",
      "\u001b[K     |█████████████████████▋          | 757 kB 4.3 MB/s eta 0:00:01\r",
      "\u001b[K     |█████████████████████▉          | 768 kB 4.3 MB/s eta 0:00:01\r",
      "\u001b[K     |██████████████████████▏         | 778 kB 4.3 MB/s eta 0:00:01\r",
      "\u001b[K     |██████████████████████▌         | 788 kB 4.3 MB/s eta 0:00:01\r",
      "\u001b[K     |██████████████████████▊         | 798 kB 4.3 MB/s eta 0:00:01\r",
      "\u001b[K     |███████████████████████         | 808 kB 4.3 MB/s eta 0:00:01\r",
      "\u001b[K     |███████████████████████▍        | 819 kB 4.3 MB/s eta 0:00:01\r",
      "\u001b[K     |███████████████████████▋        | 829 kB 4.3 MB/s eta 0:00:01\r",
      "\u001b[K     |████████████████████████        | 839 kB 4.3 MB/s eta 0:00:01\r",
      "\u001b[K     |████████████████████████▏       | 849 kB 4.3 MB/s eta 0:00:01\r",
      "\u001b[K     |████████████████████████▌       | 860 kB 4.3 MB/s eta 0:00:01\r",
      "\u001b[K     |████████████████████████▉       | 870 kB 4.3 MB/s eta 0:00:01\r",
      "\u001b[K     |█████████████████████████       | 880 kB 4.3 MB/s eta 0:00:01\r",
      "\u001b[K     |█████████████████████████▍      | 890 kB 4.3 MB/s eta 0:00:01\r",
      "\u001b[K     |█████████████████████████▊      | 901 kB 4.3 MB/s eta 0:00:01\r",
      "\u001b[K     |██████████████████████████      | 911 kB 4.3 MB/s eta 0:00:01\r",
      "\u001b[K     |██████████████████████████▎     | 921 kB 4.3 MB/s eta 0:00:01\r",
      "\u001b[K     |██████████████████████████▌     | 931 kB 4.3 MB/s eta 0:00:01\r",
      "\u001b[K     |██████████████████████████▉     | 942 kB 4.3 MB/s eta 0:00:01\r",
      "\u001b[K     |███████████████████████████▏    | 952 kB 4.3 MB/s eta 0:00:01\r",
      "\u001b[K     |███████████████████████████▍    | 962 kB 4.3 MB/s eta 0:00:01\r",
      "\u001b[K     |███████████████████████████▊    | 972 kB 4.3 MB/s eta 0:00:01\r",
      "\u001b[K     |████████████████████████████    | 983 kB 4.3 MB/s eta 0:00:01\r",
      "\u001b[K     |████████████████████████████▎   | 993 kB 4.3 MB/s eta 0:00:01\r",
      "\u001b[K     |████████████████████████████▋   | 1.0 MB 4.3 MB/s eta 0:00:01\r",
      "\u001b[K     |████████████████████████████▉   | 1.0 MB 4.3 MB/s eta 0:00:01\r",
      "\u001b[K     |█████████████████████████████▏  | 1.0 MB 4.3 MB/s eta 0:00:01\r",
      "\u001b[K     |█████████████████████████████▌  | 1.0 MB 4.3 MB/s eta 0:00:01\r",
      "\u001b[K     |█████████████████████████████▊  | 1.0 MB 4.3 MB/s eta 0:00:01\r",
      "\u001b[K     |██████████████████████████████  | 1.1 MB 4.3 MB/s eta 0:00:01\r",
      "\u001b[K     |██████████████████████████████▍ | 1.1 MB 4.3 MB/s eta 0:00:01\r",
      "\u001b[K     |██████████████████████████████▋ | 1.1 MB 4.3 MB/s eta 0:00:01\r",
      "\u001b[K     |███████████████████████████████ | 1.1 MB 4.3 MB/s eta 0:00:01\r",
      "\u001b[K     |███████████████████████████████▏| 1.1 MB 4.3 MB/s eta 0:00:01\r",
      "\u001b[K     |███████████████████████████████▌| 1.1 MB 4.3 MB/s eta 0:00:01\r",
      "\u001b[K     |███████████████████████████████▉| 1.1 MB 4.3 MB/s eta 0:00:01\r",
      "\u001b[K     |████████████████████████████████| 1.1 MB 4.3 MB/s \n",
      "\u001b[?25hRequirement already satisfied: typeguard>=2.7 in /usr/local/lib/python3.7/dist-packages (from tensorflow_addons) (2.7.1)\n",
      "Installing collected packages: tensorflow-addons\n",
      "Successfully installed tensorflow-addons-0.16.1\n"
     ]
    }
   ],
   "source": [
    "# install tensorflow_addons for AdamW optimizer\n",
    "!pip install tensorflow_addons"
   ]
  },
  {
   "cell_type": "code",
   "execution_count": null,
   "metadata": {
    "id": "Q6nYX2Lsfeki"
   },
   "outputs": [],
   "source": [
    "# Standard libraries imports\n",
    "import io\n",
    "import re\n",
    "import ast\n",
    "import math\n",
    "import requests\n",
    "import numpy as np\n",
    "import pandas as pd\n",
    "from tqdm import tqdm\n",
    "from lxml import etree\n",
    "import pyarabic.araby as araby\n",
    "\n",
    "import tensorflow as tf\n",
    "import tensorflow_addons as tfa\n",
    "from tensorflow.keras import layers"
   ]
  },
  {
   "cell_type": "code",
   "execution_count": null,
   "metadata": {
    "colab": {
     "base_uri": "https://localhost:8080/",
     "height": 363
    },
    "id": "ipxlWMCgBYSc",
    "outputId": "2652f303-1195-4083-e6f4-6cca0d25d24c"
   },
   "outputs": [
    {
     "data": {
      "text/html": [
       "\n",
       "  <div id=\"df-071c9056-f22e-46d5-aff6-39b0dd3f0fdd\">\n",
       "    <div class=\"colab-df-container\">\n",
       "      <div>\n",
       "<style scoped>\n",
       "    .dataframe tbody tr th:only-of-type {\n",
       "        vertical-align: middle;\n",
       "    }\n",
       "\n",
       "    .dataframe tbody tr th {\n",
       "        vertical-align: top;\n",
       "    }\n",
       "\n",
       "    .dataframe thead th {\n",
       "        text-align: right;\n",
       "    }\n",
       "</style>\n",
       "<table border=\"1\" class=\"dataframe\">\n",
       "  <thead>\n",
       "    <tr style=\"text-align: right;\">\n",
       "      <th></th>\n",
       "      <th>singular</th>\n",
       "      <th>plural</th>\n",
       "    </tr>\n",
       "  </thead>\n",
       "  <tbody>\n",
       "    <tr>\n",
       "      <th>0</th>\n",
       "      <td>ساحة</td>\n",
       "      <td>ساحات</td>\n",
       "    </tr>\n",
       "    <tr>\n",
       "      <th>1</th>\n",
       "      <td>أمر</td>\n",
       "      <td>أمور</td>\n",
       "    </tr>\n",
       "    <tr>\n",
       "      <th>2</th>\n",
       "      <td>أمة</td>\n",
       "      <td>أمم</td>\n",
       "    </tr>\n",
       "    <tr>\n",
       "      <th>3</th>\n",
       "      <td>جلسة</td>\n",
       "      <td>جلسات</td>\n",
       "    </tr>\n",
       "    <tr>\n",
       "      <th>4</th>\n",
       "      <td>ٱتهام</td>\n",
       "      <td>اتهامات</td>\n",
       "    </tr>\n",
       "    <tr>\n",
       "      <th>5</th>\n",
       "      <td>وزارة</td>\n",
       "      <td>وزارات</td>\n",
       "    </tr>\n",
       "    <tr>\n",
       "      <th>6</th>\n",
       "      <td>ملفة</td>\n",
       "      <td>ملفات</td>\n",
       "    </tr>\n",
       "    <tr>\n",
       "      <th>7</th>\n",
       "      <td>مسؤول</td>\n",
       "      <td>مسؤولين</td>\n",
       "    </tr>\n",
       "    <tr>\n",
       "      <th>8</th>\n",
       "      <td>خط</td>\n",
       "      <td>خطوط</td>\n",
       "    </tr>\n",
       "    <tr>\n",
       "      <th>9</th>\n",
       "      <td>ولاية</td>\n",
       "      <td>ولايات</td>\n",
       "    </tr>\n",
       "  </tbody>\n",
       "</table>\n",
       "</div>\n",
       "      <button class=\"colab-df-convert\" onclick=\"convertToInteractive('df-071c9056-f22e-46d5-aff6-39b0dd3f0fdd')\"\n",
       "              title=\"Convert this dataframe to an interactive table.\"\n",
       "              style=\"display:none;\">\n",
       "        \n",
       "  <svg xmlns=\"http://www.w3.org/2000/svg\" height=\"24px\"viewBox=\"0 0 24 24\"\n",
       "       width=\"24px\">\n",
       "    <path d=\"M0 0h24v24H0V0z\" fill=\"none\"/>\n",
       "    <path d=\"M18.56 5.44l.94 2.06.94-2.06 2.06-.94-2.06-.94-.94-2.06-.94 2.06-2.06.94zm-11 1L8.5 8.5l.94-2.06 2.06-.94-2.06-.94L8.5 2.5l-.94 2.06-2.06.94zm10 10l.94 2.06.94-2.06 2.06-.94-2.06-.94-.94-2.06-.94 2.06-2.06.94z\"/><path d=\"M17.41 7.96l-1.37-1.37c-.4-.4-.92-.59-1.43-.59-.52 0-1.04.2-1.43.59L10.3 9.45l-7.72 7.72c-.78.78-.78 2.05 0 2.83L4 21.41c.39.39.9.59 1.41.59.51 0 1.02-.2 1.41-.59l7.78-7.78 2.81-2.81c.8-.78.8-2.07 0-2.86zM5.41 20L4 18.59l7.72-7.72 1.47 1.35L5.41 20z\"/>\n",
       "  </svg>\n",
       "      </button>\n",
       "      \n",
       "  <style>\n",
       "    .colab-df-container {\n",
       "      display:flex;\n",
       "      flex-wrap:wrap;\n",
       "      gap: 12px;\n",
       "    }\n",
       "\n",
       "    .colab-df-convert {\n",
       "      background-color: #E8F0FE;\n",
       "      border: none;\n",
       "      border-radius: 50%;\n",
       "      cursor: pointer;\n",
       "      display: none;\n",
       "      fill: #1967D2;\n",
       "      height: 32px;\n",
       "      padding: 0 0 0 0;\n",
       "      width: 32px;\n",
       "    }\n",
       "\n",
       "    .colab-df-convert:hover {\n",
       "      background-color: #E2EBFA;\n",
       "      box-shadow: 0px 1px 2px rgba(60, 64, 67, 0.3), 0px 1px 3px 1px rgba(60, 64, 67, 0.15);\n",
       "      fill: #174EA6;\n",
       "    }\n",
       "\n",
       "    [theme=dark] .colab-df-convert {\n",
       "      background-color: #3B4455;\n",
       "      fill: #D2E3FC;\n",
       "    }\n",
       "\n",
       "    [theme=dark] .colab-df-convert:hover {\n",
       "      background-color: #434B5C;\n",
       "      box-shadow: 0px 1px 3px 1px rgba(0, 0, 0, 0.15);\n",
       "      filter: drop-shadow(0px 1px 2px rgba(0, 0, 0, 0.3));\n",
       "      fill: #FFFFFF;\n",
       "    }\n",
       "  </style>\n",
       "\n",
       "      <script>\n",
       "        const buttonEl =\n",
       "          document.querySelector('#df-071c9056-f22e-46d5-aff6-39b0dd3f0fdd button.colab-df-convert');\n",
       "        buttonEl.style.display =\n",
       "          google.colab.kernel.accessAllowed ? 'block' : 'none';\n",
       "\n",
       "        async function convertToInteractive(key) {\n",
       "          const element = document.querySelector('#df-071c9056-f22e-46d5-aff6-39b0dd3f0fdd');\n",
       "          const dataTable =\n",
       "            await google.colab.kernel.invokeFunction('convertToInteractive',\n",
       "                                                     [key], {});\n",
       "          if (!dataTable) return;\n",
       "\n",
       "          const docLinkHtml = 'Like what you see? Visit the ' +\n",
       "            '<a target=\"_blank\" href=https://colab.research.google.com/notebooks/data_table.ipynb>data table notebook</a>'\n",
       "            + ' to learn more about interactive tables.';\n",
       "          element.innerHTML = '';\n",
       "          dataTable['output_type'] = 'display_data';\n",
       "          await google.colab.output.renderOutput(dataTable, element);\n",
       "          const docLink = document.createElement('div');\n",
       "          docLink.innerHTML = docLinkHtml;\n",
       "          element.appendChild(docLink);\n",
       "        }\n",
       "      </script>\n",
       "    </div>\n",
       "  </div>\n",
       "  "
      ],
      "text/plain": [
       "  singular   plural\n",
       "0     ساحة    ساحات\n",
       "1      أمر     أمور\n",
       "2      أمة      أمم\n",
       "3     جلسة    جلسات\n",
       "4    ٱتهام  اتهامات\n",
       "5    وزارة   وزارات\n",
       "6     ملفة    ملفات\n",
       "7    مسؤول  مسؤولين\n",
       "8       خط     خطوط\n",
       "9    ولاية   ولايات"
      ]
     },
     "execution_count": 4,
     "metadata": {},
     "output_type": "execute_result"
    }
   ],
   "source": [
    "# read the competition training dataset\n",
    "train_df = pd.read_csv('https://raw.githubusercontent.com/sigmorphon/2022InflectionST/main/part2/ara_1000.train', sep='\\t', header=None)\n",
    "# take only the first and second columns which\n",
    "# contain the sigular and plural forms\n",
    "train_df = train_df.iloc[:, :2]\n",
    "# rename the columns\n",
    "train_df.columns = ['singular', 'plural']\n",
    "# remove the Arabic diacritics from each column\n",
    "for col in train_df.columns:\n",
    "  train_df[col] = train_df[col].apply(lambda x: araby.strip_diacritics(x))\n",
    "\n",
    "# fetch the top 10 rows\n",
    "train_df.head(10)"
   ]
  },
  {
   "cell_type": "code",
   "execution_count": null,
   "metadata": {
    "colab": {
     "base_uri": "https://localhost:8080/",
     "height": 363
    },
    "id": "tEoPasI8MsEj",
    "outputId": "2b12c8ec-2570-454a-aa71-5bc9a6cdd035"
   },
   "outputs": [
    {
     "data": {
      "text/html": [
       "\n",
       "  <div id=\"df-9bb34128-9e5b-4f39-a323-92e16a6a0769\">\n",
       "    <div class=\"colab-df-container\">\n",
       "      <div>\n",
       "<style scoped>\n",
       "    .dataframe tbody tr th:only-of-type {\n",
       "        vertical-align: middle;\n",
       "    }\n",
       "\n",
       "    .dataframe tbody tr th {\n",
       "        vertical-align: top;\n",
       "    }\n",
       "\n",
       "    .dataframe thead th {\n",
       "        text-align: right;\n",
       "    }\n",
       "</style>\n",
       "<table border=\"1\" class=\"dataframe\">\n",
       "  <thead>\n",
       "    <tr style=\"text-align: right;\">\n",
       "      <th></th>\n",
       "      <th>singular</th>\n",
       "      <th>plural</th>\n",
       "    </tr>\n",
       "  </thead>\n",
       "  <tbody>\n",
       "    <tr>\n",
       "      <th>0</th>\n",
       "      <td>تهمة</td>\n",
       "      <td>تهم</td>\n",
       "    </tr>\n",
       "    <tr>\n",
       "      <th>1</th>\n",
       "      <td>مانع</td>\n",
       "      <td>موانع</td>\n",
       "    </tr>\n",
       "    <tr>\n",
       "      <th>2</th>\n",
       "      <td>بعد</td>\n",
       "      <td>أبعاد</td>\n",
       "    </tr>\n",
       "    <tr>\n",
       "      <th>3</th>\n",
       "      <td>توظيف</td>\n",
       "      <td>توظيفات</td>\n",
       "    </tr>\n",
       "    <tr>\n",
       "      <th>4</th>\n",
       "      <td>خطر</td>\n",
       "      <td>أخطار</td>\n",
       "    </tr>\n",
       "    <tr>\n",
       "      <th>5</th>\n",
       "      <td>مسلك</td>\n",
       "      <td>مسالك</td>\n",
       "    </tr>\n",
       "    <tr>\n",
       "      <th>6</th>\n",
       "      <td>متحالف</td>\n",
       "      <td>متحالفين</td>\n",
       "    </tr>\n",
       "    <tr>\n",
       "      <th>7</th>\n",
       "      <td>فار</td>\n",
       "      <td>فارين</td>\n",
       "    </tr>\n",
       "    <tr>\n",
       "      <th>8</th>\n",
       "      <td>بحث</td>\n",
       "      <td>أبحاث</td>\n",
       "    </tr>\n",
       "    <tr>\n",
       "      <th>9</th>\n",
       "      <td>نزاع</td>\n",
       "      <td>نزاعات</td>\n",
       "    </tr>\n",
       "  </tbody>\n",
       "</table>\n",
       "</div>\n",
       "      <button class=\"colab-df-convert\" onclick=\"convertToInteractive('df-9bb34128-9e5b-4f39-a323-92e16a6a0769')\"\n",
       "              title=\"Convert this dataframe to an interactive table.\"\n",
       "              style=\"display:none;\">\n",
       "        \n",
       "  <svg xmlns=\"http://www.w3.org/2000/svg\" height=\"24px\"viewBox=\"0 0 24 24\"\n",
       "       width=\"24px\">\n",
       "    <path d=\"M0 0h24v24H0V0z\" fill=\"none\"/>\n",
       "    <path d=\"M18.56 5.44l.94 2.06.94-2.06 2.06-.94-2.06-.94-.94-2.06-.94 2.06-2.06.94zm-11 1L8.5 8.5l.94-2.06 2.06-.94-2.06-.94L8.5 2.5l-.94 2.06-2.06.94zm10 10l.94 2.06.94-2.06 2.06-.94-2.06-.94-.94-2.06-.94 2.06-2.06.94z\"/><path d=\"M17.41 7.96l-1.37-1.37c-.4-.4-.92-.59-1.43-.59-.52 0-1.04.2-1.43.59L10.3 9.45l-7.72 7.72c-.78.78-.78 2.05 0 2.83L4 21.41c.39.39.9.59 1.41.59.51 0 1.02-.2 1.41-.59l7.78-7.78 2.81-2.81c.8-.78.8-2.07 0-2.86zM5.41 20L4 18.59l7.72-7.72 1.47 1.35L5.41 20z\"/>\n",
       "  </svg>\n",
       "      </button>\n",
       "      \n",
       "  <style>\n",
       "    .colab-df-container {\n",
       "      display:flex;\n",
       "      flex-wrap:wrap;\n",
       "      gap: 12px;\n",
       "    }\n",
       "\n",
       "    .colab-df-convert {\n",
       "      background-color: #E8F0FE;\n",
       "      border: none;\n",
       "      border-radius: 50%;\n",
       "      cursor: pointer;\n",
       "      display: none;\n",
       "      fill: #1967D2;\n",
       "      height: 32px;\n",
       "      padding: 0 0 0 0;\n",
       "      width: 32px;\n",
       "    }\n",
       "\n",
       "    .colab-df-convert:hover {\n",
       "      background-color: #E2EBFA;\n",
       "      box-shadow: 0px 1px 2px rgba(60, 64, 67, 0.3), 0px 1px 3px 1px rgba(60, 64, 67, 0.15);\n",
       "      fill: #174EA6;\n",
       "    }\n",
       "\n",
       "    [theme=dark] .colab-df-convert {\n",
       "      background-color: #3B4455;\n",
       "      fill: #D2E3FC;\n",
       "    }\n",
       "\n",
       "    [theme=dark] .colab-df-convert:hover {\n",
       "      background-color: #434B5C;\n",
       "      box-shadow: 0px 1px 3px 1px rgba(0, 0, 0, 0.15);\n",
       "      filter: drop-shadow(0px 1px 2px rgba(0, 0, 0, 0.3));\n",
       "      fill: #FFFFFF;\n",
       "    }\n",
       "  </style>\n",
       "\n",
       "      <script>\n",
       "        const buttonEl =\n",
       "          document.querySelector('#df-9bb34128-9e5b-4f39-a323-92e16a6a0769 button.colab-df-convert');\n",
       "        buttonEl.style.display =\n",
       "          google.colab.kernel.accessAllowed ? 'block' : 'none';\n",
       "\n",
       "        async function convertToInteractive(key) {\n",
       "          const element = document.querySelector('#df-9bb34128-9e5b-4f39-a323-92e16a6a0769');\n",
       "          const dataTable =\n",
       "            await google.colab.kernel.invokeFunction('convertToInteractive',\n",
       "                                                     [key], {});\n",
       "          if (!dataTable) return;\n",
       "\n",
       "          const docLinkHtml = 'Like what you see? Visit the ' +\n",
       "            '<a target=\"_blank\" href=https://colab.research.google.com/notebooks/data_table.ipynb>data table notebook</a>'\n",
       "            + ' to learn more about interactive tables.';\n",
       "          element.innerHTML = '';\n",
       "          dataTable['output_type'] = 'display_data';\n",
       "          await google.colab.output.renderOutput(dataTable, element);\n",
       "          const docLink = document.createElement('div');\n",
       "          docLink.innerHTML = docLinkHtml;\n",
       "          element.appendChild(docLink);\n",
       "        }\n",
       "      </script>\n",
       "    </div>\n",
       "  </div>\n",
       "  "
      ],
      "text/plain": [
       "  singular    plural\n",
       "0     تهمة       تهم\n",
       "1     مانع     موانع\n",
       "2      بعد     أبعاد\n",
       "3    توظيف   توظيفات\n",
       "4      خطر     أخطار\n",
       "5     مسلك     مسالك\n",
       "6   متحالف  متحالفين\n",
       "7      فار     فارين\n",
       "8      بحث     أبحاث\n",
       "9     نزاع    نزاعات"
      ]
     },
     "execution_count": 5,
     "metadata": {},
     "output_type": "execute_result"
    }
   ],
   "source": [
    "# read the competition validation dataset\n",
    "valid_df = pd.read_csv('https://raw.githubusercontent.com/sigmorphon/2022InflectionST/main/part2/ara.dev', sep='\\t', header=None)\n",
    "# take only the first and second columns which\n",
    "# contain the sigular and plural forms\n",
    "valid_df = valid_df.iloc[:, :2]\n",
    "# rename the columns\n",
    "valid_df.columns = ['singular', 'plural']\n",
    "# remove the Arabic diacritics from each column\n",
    "for col in valid_df.columns:\n",
    "  valid_df[col] = valid_df[col].apply(lambda x: araby.strip_diacritics(x))\n",
    "\n",
    "# fetch the top 10 rows\n",
    "valid_df.head(10)"
   ]
  },
  {
   "cell_type": "code",
   "execution_count": null,
   "metadata": {
    "colab": {
     "base_uri": "https://localhost:8080/"
    },
    "id": "BjTNtEUBlVw9",
    "outputId": "b177a625-69a2-4fa5-db42-84fcf4383a6d"
   },
   "outputs": [
    {
     "name": "stdout",
     "output_type": "stream",
     "text": [
      "Mounted at /content/drive\n"
     ]
    }
   ],
   "source": [
    "# from google.colab import drive\n",
    "# drive.mount('/content/drive')"
   ]
  },
  {
   "cell_type": "markdown",
   "metadata": {
    "id": "y6h5SmwUlfc1"
   },
   "source": [
    "# Hardware Detection"
   ]
  },
  {
   "cell_type": "code",
   "execution_count": null,
   "metadata": {
    "colab": {
     "base_uri": "https://localhost:8080/"
    },
    "id": "TPs11Pr_f5qV",
    "outputId": "d53f4db1-b11b-47c0-d630-35869c238ebb"
   },
   "outputs": [
    {
     "name": "stdout",
     "output_type": "stream",
     "text": [
      "Running on single GPU  /device:GPU:0\n",
      "Number of accelerators:  1\n"
     ]
    }
   ],
   "source": [
    "# Detect hardware\n",
    "try:\n",
    "    tpu = tf.distribute.cluster_resolver.TPUClusterResolver() # TPU detection\n",
    "except ValueError:\n",
    "    tpu = None\n",
    "    gpus = tf.config.experimental.list_logical_devices(\"GPU\")\n",
    "    \n",
    "# Select an appropriate distribution strategy\n",
    "if tpu:\n",
    "    tf.config.experimental_connect_to_cluster(tpu)\n",
    "    tf.tpu.experimental.initialize_tpu_system(tpu)\n",
    "    strategy = tf.distribute.experimental.TPUStrategy(tpu) # Going back and forth between TPU and host is expensive. Better to run 128 batches on the TPU before reporting back.\n",
    "    print('Running on TPU ', tpu.cluster_spec().as_dict()['worker'])  \n",
    "elif len(gpus) > 1:\n",
    "    strategy = tf.distribute.MirroredStrategy([gpu.name for gpu in gpus])\n",
    "    print('Running on multiple GPUs ', [gpu.name for gpu in gpus])\n",
    "elif len(gpus) == 1:\n",
    "    strategy = tf.distribute.get_strategy() # default strategy that works on CPU and single GPU\n",
    "    print('Running on single GPU ', gpus[0].name)\n",
    "else:\n",
    "    strategy = tf.distribute.get_strategy() # default strategy that works on CPU and single GPU\n",
    "    print('Running on CPU')\n",
    "print(\"Number of accelerators: \", strategy.num_replicas_in_sync)"
   ]
  },
  {
   "cell_type": "markdown",
   "metadata": {
    "id": "8NOvELLKlinQ"
   },
   "source": [
    "# Configs"
   ]
  },
  {
   "cell_type": "code",
   "execution_count": null,
   "metadata": {
    "id": "NY2Le0HZf2w4"
   },
   "outputs": [],
   "source": [
    "class config:\n",
    "\n",
    "  MAXLEN = 17 # maximum length of sequence\n",
    "\n",
    "  # model configs\n",
    "  BATCH_SIZE_PER_REPLICA = 256 # batch size per replica\n",
    "  BATCH_SIZE = BATCH_SIZE_PER_REPLICA * strategy.num_replicas_in_sync # global batch size\n",
    "  EPOCHS = 100 # number of epochs\n",
    "  LEARNING_RATE = 1E-4 # learning rate\n",
    "  LEARTING_RATE_REDUCTION_PATIENCE = 10 # number of epochs to weight before lowering LR\n",
    "  LEARTING_RATE_REDUCTION_FACTOR = 0.2 # LR lowering factor\n",
    "  BUFFER = 1024 # buffer size for shuffling the training set\n",
    "  EMBEDDING_SIZE = 256 # embedding size\n",
    "  NUM_HEADS = 8 # number of heads\n",
    "  NUM_BLOCKS = 4 # number of encoder blocks\n",
    "  KEY_DIM = 64 # dimesion of the key, value, and query\n",
    "  DROPOUT = 0.0 # dopout rate\n",
    "  SKIP_RATIO = 0.0 # skip connection ratio"
   ]
  },
  {
   "cell_type": "markdown",
   "metadata": {
    "id": "EzdOcFqOMUf5"
   },
   "source": [
    "# Dataset"
   ]
  },
  {
   "cell_type": "code",
   "execution_count": null,
   "metadata": {
    "colab": {
     "base_uri": "https://localhost:8080/"
    },
    "id": "QEb7_GE9V0f5",
    "outputId": "f293738e-575b-4bfd-a87b-3f63879521ed"
   },
   "outputs": [
    {
     "name": "stdout",
     "output_type": "stream",
     "text": [
      "Number of Arabic Characters: 38\n"
     ]
    }
   ],
   "source": [
    "# list of all Arabic characters\n",
    "chars = list('اٱبتةثجحخدذرزسشصضطظعغفقكلمنهويءآأؤإئىی')\n",
    "print('Number of Arabic Characters:', len(chars))\n",
    "\n",
    "# character to index dictionary\n",
    "char_to_index = dict((char, index+3) for (index, char) in enumerate(chars))\n",
    "# index to character dictionary\n",
    "index_to_char=  dict((index+3, char) for (index, char) in enumerate(chars))\n",
    "\n",
    "char_to_index['p'] = 0 # pad\n",
    "char_to_index['s'] = 1 # separator\n",
    "char_to_index['_'] = 2 # mask\n",
    "\n",
    "\n",
    "index_to_char[0] = 'p' # pad\n",
    "index_to_char[1] = 's' # separator\n",
    "index_to_char[2] = '_' # mask\n",
    "\n",
    "# additional char_to_index and index_to_char extracted manually as shown in next \n",
    "# cells. They were extracted and then saved into a CSV file\n",
    "df = pd.read_csv('https://drive.google.com/uc?export=download&id=1lQFU7XFy82-1dE5kPK7yDLpJ6tleycCC')\n",
    "chars_2 = df['char'].values.tolist()\n",
    "indexes_2 = df['value'].values.tolist()\n",
    "del df\n",
    "\n",
    "# additional character to index dictionary\n",
    "char_to_index_2 = dict(zip(chars_2, indexes_2))\n",
    "# additional index to character dictionary\n",
    "index_to_char_2 = dict(zip(indexes_2, chars_2))"
   ]
  },
  {
   "cell_type": "code",
   "execution_count": null,
   "metadata": {
    "colab": {
     "base_uri": "https://localhost:8080/"
    },
    "id": "V1ovXyDXGFFZ",
    "outputId": "b040a336-ed1e-41e8-c91c-ddef53b73fc0"
   },
   "outputs": [
    {
     "name": "stdout",
     "output_type": "stream",
     "text": [
      "Train Max Length: 11\n",
      "Valid Max Length: 11\n"
     ]
    }
   ],
   "source": [
    "# find maximum token length in both datasets\n",
    "max_len = 0\n",
    "# iterate over each column\n",
    "for i in range(2):\n",
    "  # iterate over each row\n",
    "  for j in range(len(train_df)):\n",
    "    if len(train_df.iloc[j, i]) > max_len:\n",
    "      max_len = len(train_df.iloc[j, i])\n",
    "print('Train Max Length:', max_len)\n",
    "\n",
    "max_len = 0\n",
    "# iterate over each column\n",
    "for i in range(2):\n",
    "  # iterate over each row\n",
    "  for j in range(len(valid_df)):\n",
    "    if len(valid_df.iloc[j, i]) > max_len:\n",
    "      max_len = len(valid_df.iloc[j, i])\n",
    "print('Valid Max Length:', max_len)"
   ]
  },
  {
   "cell_type": "code",
   "execution_count": null,
   "metadata": {
    "id": "YFK6MAjtZfaY"
   },
   "outputs": [],
   "source": [
    "def text_to_index(lists):\n",
    "    # construct a list that includes the character-based tokenized input words\n",
    "    bert_indexed_inputs = []\n",
    "    \n",
    "    # iterate over texts\n",
    "    for text in tqdm(lists):\n",
    "      try:\n",
    "        indexes = []\n",
    "        indexes.append(char_to_index['s']) # special separator token\n",
    "        temp_list = list(text)\n",
    "        temp_list.reverse() # reverse list (Arabic from right to left)\n",
    "        for char in temp_list:\n",
    "          indexes.append(char_to_index[char]) # append index of each character to the list\n",
    "        indexes.append(char_to_index['s']) # special separator token\n",
    "        bert_indexed_inputs.append(indexes)\n",
    "      except: # if the characters are not in the dictionary continue iterating\n",
    "          continue\n",
    "    return bert_indexed_inputs"
   ]
  },
  {
   "cell_type": "code",
   "execution_count": null,
   "metadata": {
    "id": "XZhY_r1CbPQD"
   },
   "outputs": [],
   "source": [
    "def text_to_index_labels(lists):\n",
    "    # construct a list that includes the character-based tokenized input words\n",
    "    bert_indexed_inputs = []\n",
    "    \n",
    "    for text in tqdm(lists):\n",
    "      try:\n",
    "        indexes = []\n",
    "        indexes.append(char_to_index['s']) # special end token\n",
    "        temp_list = list(text)\n",
    "        temp_list.reverse() # reverse list (Arabic from right to left)\n",
    "        for char in temp_list:\n",
    "          indexes.append(char_to_index[char]) # append index of each character to the list\n",
    "        bert_indexed_inputs.append(indexes)\n",
    "      except: # if the characters are not in the dictionary continue iterating\n",
    "          continue\n",
    "    return bert_indexed_inputs"
   ]
  },
  {
   "cell_type": "code",
   "execution_count": null,
   "metadata": {
    "colab": {
     "base_uri": "https://localhost:8080/"
    },
    "id": "G1Km_UWgWZgd",
    "outputId": "8461ce2a-da13-4367-e01c-fbfb917da4dc"
   },
   "outputs": [
    {
     "name": "stderr",
     "output_type": "stream",
     "text": [
      "100%|██████████| 1000/1000 [00:00<00:00, 102310.08it/s]\n",
      "100%|██████████| 343/343 [00:00<00:00, 245251.67it/s]\n",
      "100%|██████████| 1000/1000 [00:00<00:00, 106568.02it/s]\n",
      "100%|██████████| 343/343 [00:00<00:00, 188873.08it/s]\n",
      "100%|██████████| 1000/1000 [00:00<00:00, 98448.60it/s]\n",
      "100%|██████████| 343/343 [00:00<00:00, 350376.59it/s]\n"
     ]
    }
   ],
   "source": [
    "# convert text to indexes (encoder part)\n",
    "enc_indexed_text_train = text_to_index(train_df.iloc[:, 0].tolist())\n",
    "enc_indexed_text_valid = text_to_index(valid_df.iloc[:, 0].tolist())\n",
    "# pad sequences\n",
    "enc_indexed_text_train = tf.keras.preprocessing.sequence.pad_sequences(enc_indexed_text_train, maxlen=config.MAXLEN, padding='pre')\n",
    "enc_indexed_text_valid = tf.keras.preprocessing.sequence.pad_sequences(enc_indexed_text_valid, maxlen=config.MAXLEN, padding='pre')\n",
    "\n",
    "# convert text to indexes (decoder part)\n",
    "dec_indexed_text_train = text_to_index(train_df.iloc[:, 1].tolist())\n",
    "dec_indexed_text_valid = text_to_index(valid_df.iloc[:, 1].tolist())\n",
    "# labels for decoder (no start token)\n",
    "dec_indexed_text_train_labels = text_to_index_labels(train_df.iloc[:, 1].tolist())\n",
    "dec_indexed_text_valid_labels = text_to_index_labels(valid_df.iloc[:, 1].tolist())\n",
    "# pad sequences\n",
    "dec_indexed_text_train = tf.keras.preprocessing.sequence.pad_sequences(dec_indexed_text_train, maxlen=config.MAXLEN, padding='pre')\n",
    "dec_indexed_text_valid = tf.keras.preprocessing.sequence.pad_sequences(dec_indexed_text_valid, maxlen=config.MAXLEN, padding='pre')\n",
    "# pad labels\n",
    "dec_indexed_text_train_labels = tf.keras.preprocessing.sequence.pad_sequences(dec_indexed_text_train_labels, maxlen=config.MAXLEN, padding='pre')\n",
    "dec_indexed_text_valid_labels = tf.keras.preprocessing.sequence.pad_sequences(dec_indexed_text_valid_labels, maxlen=config.MAXLEN, padding='pre')"
   ]
  },
  {
   "cell_type": "code",
   "execution_count": null,
   "metadata": {
    "id": "pqzP2h3B8nd6"
   },
   "outputs": [],
   "source": [
    "# create a TensorFlow training dataset that performs multiple functions including\n",
    "# shuffling, batching, and prefetching\n",
    "train_ds = tf.data.Dataset.from_tensor_slices((tf.constant(enc_indexed_text_train), tf.constant(dec_indexed_text_train), tf.constant(dec_indexed_text_train_labels)))\n",
    "train_ds = train_ds.shuffle(config.BUFFER).batch(config.BATCH_SIZE, drop_remainder=False).prefetch(-1).cache()\n",
    "\n",
    "# create a TensorFlow validation dataset that performs multiple functions including\n",
    "# batching and prefetching\n",
    "valid_ds = tf.data.Dataset.from_tensor_slices((tf.constant(enc_indexed_text_valid), tf.constant(dec_indexed_text_valid), tf.constant(dec_indexed_text_valid_labels)))\n",
    "valid_ds = valid_ds.batch(config.BATCH_SIZE, drop_remainder=False).prefetch(-1).cache()"
   ]
  },
  {
   "cell_type": "markdown",
   "metadata": {
    "id": "KxixXmUyHE5v"
   },
   "source": [
    "# Models"
   ]
  },
  {
   "cell_type": "markdown",
   "metadata": {
    "id": "nyZY2swzlYUP"
   },
   "source": [
    "## Pre-trained CBERT"
   ]
  },
  {
   "cell_type": "markdown",
   "metadata": {},
   "source": [
    "Use the TensorFlow functional API to develop the CBERT model."
   ]
  },
  {
   "cell_type": "code",
   "execution_count": null,
   "metadata": {
    "id": "2ath2aA-fk-O"
   },
   "outputs": [],
   "source": [
    "def encoder_block(inputs, num_heads=8, key_dim=64, dropout=0.0, linear_shape=128):\n",
    "  # multi-head attention layer\n",
    "  x = layers.MultiHeadAttention(num_heads=num_heads,\n",
    "                                  key_dim=key_dim,\n",
    "                                  dropout=dropout)(inputs, inputs)\n",
    "  # add & norm\n",
    "  x = layers.Add()([inputs, x])\n",
    "  x1 = layers.LayerNormalization()(x)\n",
    "  # feed-forward\n",
    "  x = layers.Dense(linear_shape, activation='gelu')(x1)\n",
    "  x2 = layers.Dense(inputs.shape[-1], activation='linear')(x)\n",
    "  # add & norm\n",
    "  x = layers.Add()([x1, x2])\n",
    "  x = layers.LayerNormalization()(x)\n",
    "  return x"
   ]
  },
  {
   "cell_type": "code",
   "execution_count": null,
   "metadata": {
    "id": "PkeY5Vpufo3V"
   },
   "outputs": [],
   "source": [
    "with strategy.scope():\n",
    "  # embedding layer that maps each input character index into a vector of the specified length\n",
    "  # in the config class\n",
    "  embedding_layer = layers.Embedding(input_dim=len(chars)+3, output_dim=config.EMBEDDING_SIZE, input_length=config.MAXLEN, mask_zero=True)\n",
    "  # use another trainable embedding layer to learn positional encoding \n",
    "  pos_encoding = layers.Embedding(input_dim=config.MAXLEN+1, output_dim=config.EMBEDDING_SIZE, input_length=config.MAXLEN, mask_zero=False)"
   ]
  },
  {
   "cell_type": "code",
   "execution_count": null,
   "metadata": {
    "id": "f6FNdtPCfs2-"
   },
   "outputs": [],
   "source": [
    "def encoder_model(inputs, num_blocks=4, num_heads=8, key_dim=64, dropout=0.0, skip_ratio=0.0):\n",
    "\n",
    "  # embedding layer for characters\n",
    "  embed = embedding_layer(inputs)\n",
    "  # trainable positional encoding\n",
    "  pos_encod = pos_encoding(tf.range(config.MAXLEN))\n",
    "  # add pos_encod to embeddings\n",
    "  encoded_embed = embed + pos_encod\n",
    "  # multi-head attention\n",
    "  mha = encoder_block(encoded_embed, num_heads=num_heads, key_dim=key_dim, dropout=dropout)\n",
    "  mha = skip_ratio * encoded_embed + (1 - skip_ratio) * mha # skip connection to preserve signal\n",
    "  # repeated blocks\n",
    "  block_outputs = dict()\n",
    "  for i in range(1, num_blocks):\n",
    "    x = mha\n",
    "    block_outputs[f'x{i}'] = x\n",
    "    mha = encoder_block(encoded_embed, num_heads=num_heads, key_dim=key_dim, dropout=dropout, linear_shape=128)\n",
    "    mha = skip_ratio * x + (1 - skip_ratio) * mha # skip connection to preserve signal\n",
    "  block_outputs[f'x{i+1}'] = mha\n",
    "  return block_outputs"
   ]
  },
  {
   "cell_type": "code",
   "execution_count": null,
   "metadata": {
    "id": "zRHE4G10ydR0"
   },
   "outputs": [],
   "source": [
    "def final_model():\n",
    "  # the full CBERT model\n",
    "  inputs = layers.Input(shape=(config.MAXLEN,), name='cbert_input')\n",
    "  bert_output = encoder_model(inputs, num_blocks=config.NUM_BLOCKS, \n",
    "                              num_heads=config.NUM_HEADS, key_dim=config.KEY_DIM,\n",
    "                              dropout=config.DROPOUT, skip_ratio=config.SKIP_RATIO)\n",
    "  final_encoder_name = [*bert_output][-1]\n",
    "  dense = layers.Dense(len(chars)+3, activation='softmax')(bert_output[final_encoder_name])\n",
    "\n",
    "  model = tf.keras.Model(inputs=inputs, outputs=dense)\n",
    "  return model"
   ]
  },
  {
   "cell_type": "code",
   "execution_count": null,
   "metadata": {
    "id": "tnDQ01PvluBg"
   },
   "outputs": [],
   "source": [
    "# instantiate the model\n",
    "cbert = final_model()\n",
    "# load the pre-trained weights\n",
    "url = 'https://drive.google.com/uc?export=download&id=1Qus-FZGOscfRDqCyKW2bftCT5tVOLZhK'\n",
    "r = requests.get(url, allow_redirects=True)\n",
    "open('best_pre_trained_weights.h5', 'wb').write(r.content)\n",
    "cbert.load_weights('/content/best_pre_trained_weights.h5')\n",
    "\n",
    "# define the input as the original CBERT input, and take the contextualized embeddings\n",
    "# from the layer before the head\n",
    "pretrained_encoder = tf.keras.Model(inputs=cbert.input, outputs=cbert.layers[-2].output)\n",
    "# freeze the model weights during fine-tuning\n",
    "pretrained_encoder.trainable = False"
   ]
  },
  {
   "cell_type": "markdown",
   "metadata": {
    "id": "mllS-FqGHv8e"
   },
   "source": [
    "## Full Model"
   ]
  },
  {
   "cell_type": "code",
   "execution_count": null,
   "metadata": {
    "id": "iPjpO-HwmCjq"
   },
   "outputs": [],
   "source": [
    "def main_encoder_block(inputs, cbert_output, num_heads=8, key_dim=64, dropout=0.0, linear_shape=128):\n",
    "  # multi-head self-attention layer\n",
    "  self_att = layers.MultiHeadAttention(num_heads=num_heads,\n",
    "                                       key_dim=key_dim, \n",
    "                                       dropout=dropout)(inputs, inputs)\n",
    "  # CBERT-Encoder attention\n",
    "  cbert_enc_att = layers.MultiHeadAttention(num_heads=num_heads,\n",
    "                                            key_dim=key_dim,\n",
    "                                            dropout=dropout)(query=inputs, value=cbert_output, key=cbert_output)\n",
    "  \n",
    "  # Drop Net (mean of both MHA layers)\n",
    "  drop_net = tf.math.reduce_mean([self_att, cbert_enc_att], axis=0)\n",
    "  # add & norm\n",
    "  add = layers.Add(name='encoder_add')([inputs, drop_net])\n",
    "  norm = layers.LayerNormalization()(add)\n",
    "\n",
    "  # feed-forward network\n",
    "  ff = layers.Dense(linear_shape, activation='gelu')(norm)\n",
    "  ff = layers.Dense(inputs.shape[-1], activation='linear')(ff)\n",
    "  \n",
    "  # add & norm\n",
    "  add = layers.Add()([norm, ff])\n",
    "  norm = layers.LayerNormalization()(add)\n",
    "  return norm"
   ]
  },
  {
   "cell_type": "code",
   "execution_count": null,
   "metadata": {
    "id": "GHYipJPb20fH"
   },
   "outputs": [],
   "source": [
    "def cbert_encoder_model(inputs, cbert_output):\n",
    "  # embed input sequences\n",
    "  embed = embedding_layer(inputs)\n",
    "  # trainable positional encoding\n",
    "  pos_encod = pos_encoding(tf.range(config.MAXLEN))\n",
    "  # add pos_encod to embeddings\n",
    "  embed = embed + pos_encod\n",
    "\n",
    "  main_encoder_output = main_encoder_block(embed, cbert_output)\n",
    "\n",
    "  return main_encoder_output"
   ]
  },
  {
   "cell_type": "code",
   "execution_count": null,
   "metadata": {
    "id": "YUYNtqXKFC93"
   },
   "outputs": [],
   "source": [
    "def main_decoder_block(inputs, cbert_output, main_encoder_output, \n",
    "                       attention_mask, num_heads=8, key_dim=64, \n",
    "                       dropout=0.0, linear_shape=128):\n",
    "  # multi-head masked self-attention layer\n",
    "  self_att = layers.MultiHeadAttention(num_heads=num_heads,\n",
    "                                       key_dim=key_dim, \n",
    "                                       dropout=dropout)(inputs, inputs, attention_mask=attention_mask)\n",
    "  # feed-forward network\n",
    "  ff = layers.Dense(linear_shape, activation='gelu')(self_att)\n",
    "  ff = layers.Dense(inputs.shape[-1], activation='linear')(ff)\n",
    "  # add & norm\n",
    "  add = layers.Add()([self_att, ff])\n",
    "  self_att_output = layers.LayerNormalization()(add)\n",
    "  \n",
    "  # CBERT-Decoder attention\n",
    "  cbert_dec_att = layers.MultiHeadAttention(num_heads=num_heads,\n",
    "                                            key_dim=key_dim,\n",
    "                                            dropout=dropout)(query=self_att_output, \n",
    "                                                             value=cbert_output, \n",
    "                                                             key=cbert_output)\n",
    "  # Encoder-Decoder Attention\n",
    "  enc_dec_att = layers.MultiHeadAttention(num_heads=num_heads,\n",
    "                                          key_dim=key_dim,\n",
    "                                          dropout=dropout)(query=self_att_output, value=main_encoder_output, key=main_encoder_output)                                      \n",
    "\n",
    "  # Drop Net (mean of both MHA layers)\n",
    "  drop_net = tf.math.reduce_mean([cbert_dec_att, enc_dec_att], axis=0)\n",
    "  # add & norm\n",
    "  add = layers.Add()([self_att_output, drop_net])\n",
    "  norm = layers.LayerNormalization()(add)\n",
    " \n",
    "  # feed-forward network\n",
    "  ff = layers.Dense(linear_shape, activation='gelu')(norm)\n",
    "  ff = layers.Dense(inputs.shape[-1], activation='linear')(ff)\n",
    "  \n",
    "  # add & norm\n",
    "  add = layers.Add()([norm, ff])\n",
    "  norm = layers.LayerNormalization()(add)\n",
    "  return norm"
   ]
  },
  {
   "cell_type": "code",
   "execution_count": null,
   "metadata": {
    "id": "ocATskZdIJnh"
   },
   "outputs": [],
   "source": [
    "def cbert_decoder_model(inputs, cbert_output, main_encoder_output, attention_mask):\n",
    "  # embed input sequences\n",
    "  embed = embedding_layer(inputs)\n",
    "  # trainable positional encoding\n",
    "  pos_encod = pos_encoding(tf.range(config.MAXLEN))\n",
    "  # add pos_encod to embeddings\n",
    "  embed = embed + pos_encod\n",
    "\n",
    "  main_decoder_output = main_decoder_block(embed, cbert_output, main_encoder_output, attention_mask)\n",
    "\n",
    "  return main_decoder_output"
   ]
  },
  {
   "cell_type": "code",
   "execution_count": null,
   "metadata": {
    "id": "RKnJZBTW2Xau"
   },
   "outputs": [],
   "source": [
    "def final_decoder_output(enc_inputs, dec_inputs, attention_mask):\n",
    "\n",
    "  cbert_output = pretrained_encoder(enc_inputs)\n",
    "  x = cbert_encoder_model(enc_inputs, cbert_output)\n",
    "  x = cbert_decoder_model(dec_inputs, cbert_output, x, attention_mask)\n",
    "  x = layers.GlobalAveragePooling1D()(x)\n",
    "  main_dec_output = layers.Dense(len(chars)+3, activation='softmax')(x)\n",
    "  return main_dec_output"
   ]
  },
  {
   "cell_type": "code",
   "execution_count": null,
   "metadata": {
    "id": "bHuTuJoZI_Yu"
   },
   "outputs": [],
   "source": [
    "def encoder_decoder_model():\n",
    "  # put it all together\n",
    "  enc_inputs = layers.Input(shape=(config.MAXLEN,), name='enc_input')\n",
    "  dec_inputs = layers.Input(shape=(config.MAXLEN,), name='dec_input')\n",
    "  attention_mask = layers.Input(shape=(config.NUM_HEADS, config.MAXLEN, config.MAXLEN,), name='att_mask')\n",
    "\n",
    "  main_dec_output = final_decoder_output(enc_inputs, dec_inputs, attention_mask)\n",
    "\n",
    "  model = tf.keras.Model(inputs=[enc_inputs, dec_inputs, attention_mask], outputs=main_dec_output)\n",
    "  return model"
   ]
  },
  {
   "cell_type": "code",
   "execution_count": null,
   "metadata": {
    "colab": {
     "base_uri": "https://localhost:8080/"
    },
    "id": "xPm99CCb0nG1",
    "outputId": "fc3fc1ad-c7d7-48ea-ebc4-c48838dfc9e8"
   },
   "outputs": [
    {
     "name": "stdout",
     "output_type": "stream",
     "text": [
      "Model: \"model\"\n",
      "__________________________________________________________________________________________________\n",
      " Layer (type)                   Output Shape         Param #     Connected to                     \n",
      "==================================================================================================\n",
      " dec_input (InputLayer)         [(None, 17)]         0           []                               \n",
      "                                                                                                  \n",
      " enc_input (InputLayer)         [(None, 17)]         0           []                               \n",
      "                                                                                                  \n",
      " embedding (Embedding)          (None, 17, 256)      10496       ['enc_input[0][0]',              \n",
      "                                                                  'dec_input[0][0]']              \n",
      "                                                                                                  \n",
      " model_1 (Functional)           (None, 17, 256)      2382592     ['enc_input[0][0]']              \n",
      "                                                                                                  \n",
      " tf.__operators__.add (TFOpLamb  (None, 17, 256)     0           ['embedding[1][0]']              \n",
      " da)                                                                                              \n",
      "                                                                                                  \n",
      " multi_head_attention (MultiHea  (None, 17, 256)     526080      ['tf.__operators__.add[0][0]',   \n",
      " dAttention)                                                      'tf.__operators__.add[0][0]']   \n",
      "                                                                                                  \n",
      " multi_head_attention_1 (MultiH  (None, 17, 256)     526080      ['tf.__operators__.add[0][0]',   \n",
      " eadAttention)                                                    'model_1[0][0]',                \n",
      "                                                                  'model_1[0][0]']                \n",
      "                                                                                                  \n",
      " tf.math.reduce_mean (TFOpLambd  (None, 17, 256)     0           ['multi_head_attention[0][0]',   \n",
      " a)                                                               'multi_head_attention_1[0][0]'] \n",
      "                                                                                                  \n",
      " tf.__operators__.add_1 (TFOpLa  (None, 17, 256)     0           ['embedding[2][0]']              \n",
      " mbda)                                                                                            \n",
      "                                                                                                  \n",
      " att_mask (InputLayer)          [(None, 8, 17, 17)]  0           []                               \n",
      "                                                                                                  \n",
      " encoder_add (Add)              (None, 17, 256)      0           ['tf.__operators__.add[0][0]',   \n",
      "                                                                  'tf.math.reduce_mean[0][0]']    \n",
      "                                                                                                  \n",
      " multi_head_attention_2 (MultiH  (None, 17, 256)     526080      ['tf.__operators__.add_1[0][0]', \n",
      " eadAttention)                                                    'tf.__operators__.add_1[0][0]', \n",
      "                                                                  'att_mask[0][0]']               \n",
      "                                                                                                  \n",
      " layer_normalization (LayerNorm  (None, 17, 256)     512         ['encoder_add[0][0]']            \n",
      " alization)                                                                                       \n",
      "                                                                                                  \n",
      " dense_2 (Dense)                (None, 17, 128)      32896       ['multi_head_attention_2[0][0]'] \n",
      "                                                                                                  \n",
      " dense (Dense)                  (None, 17, 128)      32896       ['layer_normalization[0][0]']    \n",
      "                                                                                                  \n",
      " dense_3 (Dense)                (None, 17, 256)      33024       ['dense_2[0][0]']                \n",
      "                                                                                                  \n",
      " dense_1 (Dense)                (None, 17, 256)      33024       ['dense[0][0]']                  \n",
      "                                                                                                  \n",
      " add_1 (Add)                    (None, 17, 256)      0           ['multi_head_attention_2[0][0]', \n",
      "                                                                  'dense_3[0][0]']                \n",
      "                                                                                                  \n",
      " add (Add)                      (None, 17, 256)      0           ['layer_normalization[0][0]',    \n",
      "                                                                  'dense_1[0][0]']                \n",
      "                                                                                                  \n",
      " layer_normalization_2 (LayerNo  (None, 17, 256)     512         ['add_1[0][0]']                  \n",
      " rmalization)                                                                                     \n",
      "                                                                                                  \n",
      " layer_normalization_1 (LayerNo  (None, 17, 256)     512         ['add[0][0]']                    \n",
      " rmalization)                                                                                     \n",
      "                                                                                                  \n",
      " multi_head_attention_3 (MultiH  (None, 17, 256)     526080      ['layer_normalization_2[0][0]',  \n",
      " eadAttention)                                                    'model_1[0][0]',                \n",
      "                                                                  'model_1[0][0]']                \n",
      "                                                                                                  \n",
      " multi_head_attention_4 (MultiH  (None, 17, 256)     526080      ['layer_normalization_2[0][0]',  \n",
      " eadAttention)                                                    'layer_normalization_1[0][0]',  \n",
      "                                                                  'layer_normalization_1[0][0]']  \n",
      "                                                                                                  \n",
      " tf.math.reduce_mean_1 (TFOpLam  (None, 17, 256)     0           ['multi_head_attention_3[0][0]', \n",
      " bda)                                                             'multi_head_attention_4[0][0]'] \n",
      "                                                                                                  \n",
      " add_2 (Add)                    (None, 17, 256)      0           ['layer_normalization_2[0][0]',  \n",
      "                                                                  'tf.math.reduce_mean_1[0][0]']  \n",
      "                                                                                                  \n",
      " layer_normalization_3 (LayerNo  (None, 17, 256)     512         ['add_2[0][0]']                  \n",
      " rmalization)                                                                                     \n",
      "                                                                                                  \n",
      " dense_4 (Dense)                (None, 17, 128)      32896       ['layer_normalization_3[0][0]']  \n",
      "                                                                                                  \n",
      " dense_5 (Dense)                (None, 17, 256)      33024       ['dense_4[0][0]']                \n",
      "                                                                                                  \n",
      " add_3 (Add)                    (None, 17, 256)      0           ['layer_normalization_3[0][0]',  \n",
      "                                                                  'dense_5[0][0]']                \n",
      "                                                                                                  \n",
      " layer_normalization_4 (LayerNo  (None, 17, 256)     512         ['add_3[0][0]']                  \n",
      " rmalization)                                                                                     \n",
      "                                                                                                  \n",
      " global_average_pooling1d (Glob  (None, 256)         0           ['layer_normalization_4[0][0]']  \n",
      " alAveragePooling1D)                                                                              \n",
      "                                                                                                  \n",
      " dense_6 (Dense)                (None, 41)           10537       ['global_average_pooling1d[0][0]'\n",
      "                                                                 ]                                \n",
      "                                                                                                  \n",
      "==================================================================================================\n",
      "Total params: 5,223,849\n",
      "Trainable params: 2,841,257\n",
      "Non-trainable params: 2,382,592\n",
      "__________________________________________________________________________________________________\n"
     ]
    }
   ],
   "source": [
    "# clear the session to release all previous states generated by Keras\n",
    "tf.keras.backend.clear_session()\n",
    "# instantiate the model and print the summary\n",
    "model = encoder_decoder_model()\n",
    "model.summary()"
   ]
  },
  {
   "cell_type": "code",
   "execution_count": null,
   "metadata": {
    "colab": {
     "base_uri": "https://localhost:8080/",
     "height": 1000
    },
    "id": "bWM0aTY2gk-5",
    "outputId": "d1c81231-219c-456d-8a75-917016bd5a25"
   },
   "outputs": [
    {
     "data": {
      "image/png": "[encoded data removed]",
      "text/plain": [
       "<IPython.core.display.Image object>"
      ]
     },
     "execution_count": 27,
     "metadata": {},
     "output_type": "execute_result"
    }
   ],
   "source": [
    "# plot the model\n",
    "tf.keras.utils.plot_model(model, show_layer_names=True, show_shapes=True)"
   ]
  },
  {
   "cell_type": "markdown",
   "metadata": {
    "id": "dUS2z4EDlpa5"
   },
   "source": [
    "# Custom Training"
   ]
  },
  {
   "cell_type": "markdown",
   "metadata": {
    "id": "9HjOrzz8rZ6x"
   },
   "source": [
    "## GPU"
   ]
  },
  {
   "cell_type": "code",
   "execution_count": null,
   "metadata": {
    "id": "wJcCo1-r5Pcc"
   },
   "outputs": [],
   "source": [
    "# construct attention masks list\n",
    "# for each position there a mask that prevents the model from \n",
    "# see current and next positions\n",
    "attention_masks = []\n",
    "for i in range(1, config.MAXLEN+1):\n",
    "  # Arabic masking starts from right to left\n",
    "  attention_mask = [0] * (config.MAXLEN - i) + [1] * i\n",
    "  attention_masks.append(attention_mask)"
   ]
  },
  {
   "cell_type": "code",
   "execution_count": null,
   "metadata": {
    "colab": {
     "base_uri": "https://localhost:8080/"
    },
    "id": "pHfBgeq5piI2",
    "outputId": "8278c3d9-dfae-430b-e201-4f46fcac0ccf"
   },
   "outputs": [
    {
     "data": {
      "text/plain": [
       "{0: 0.0,\n",
       " 1: 17.0,\n",
       " 2: 0.1,\n",
       " 3: 15.992474129821261,\n",
       " 4: 0.1,\n",
       " 5: 95.50561797752809,\n",
       " 6: 26.27511591962906,\n",
       " 7: 459.4594594594595,\n",
       " 8: 739.1304347826087,\n",
       " 9: 184.7826086956522,\n",
       " 10: 141.66666666666666,\n",
       " 11: 354.1666666666667,\n",
       " 12: 103.03030303030303,\n",
       " 13: 1000.0,\n",
       " 14: 54.83870967741935,\n",
       " 15: 377.77777777777777,\n",
       " 16: 112.58278145695364,\n",
       " 17: 250.0,\n",
       " 18: 204.81927710843374,\n",
       " 19: 404.76190476190476,\n",
       " 20: 204.81927710843374,\n",
       " 21: 1133.3333333333333,\n",
       " 22: 97.70114942528735,\n",
       " 23: 653.8461538461538,\n",
       " 24: 134.9206349206349,\n",
       " 25: 107.59493670886076,\n",
       " 26: 215.18987341772151,\n",
       " 27: 76.57657657657657,\n",
       " 28: 41.16222760290557,\n",
       " 29: 50.89820359281437,\n",
       " 30: 229.72972972972974,\n",
       " 31: 66.40625,\n",
       " 32: 41.46341463414634,\n",
       " 33: 447.36842105263156,\n",
       " 34: 1214.2857142857142,\n",
       " 35: 118.88111888111888,\n",
       " 36: 1416.6666666666667,\n",
       " 37: 500.0,\n",
       " 38: 340.0,\n",
       " 39: 2125.0,\n",
       " 40: 0.1}"
      ]
     },
     "execution_count": 27,
     "metadata": {},
     "output_type": "execute_result"
    }
   ],
   "source": [
    "# provide automatic class weights based on the inverse frequency \n",
    "# of each token, the more frequent, the less weight\n",
    "total_num_labels = np.array(dec_indexed_text_train_labels).size\n",
    "auto_weight_dict = dict()\n",
    "for i in range(len(chars)+3):\n",
    "  num_class_examples = (np.array(dec_indexed_text_train_labels) == i).sum()\n",
    "  if num_class_examples != 0:\n",
    "    auto_weight_dict[i] = total_num_labels / num_class_examples\n",
    "  else:\n",
    "    auto_weight_dict[i] = 0.1\n",
    "\n",
    "auto_weight_dict[0] = 0.0 # give 'p' zero weight\n",
    "auto_weight_dict"
   ]
  },
  {
   "cell_type": "code",
   "execution_count": null,
   "metadata": {
    "colab": {
     "base_uri": "https://localhost:8080/"
    },
    "id": "vIa8UhdG0rNU",
    "outputId": "4aff220f-1893-41ff-c67a-3d206faf0a4d"
   },
   "outputs": [
    {
     "name": "stdout",
     "output_type": "stream",
     "text": [
      "Epoch: 1/100\n"
     ]
    },
    {
     "name": "stderr",
     "output_type": "stream",
     "text": [
      "100%|██████████| 4/4 [00:23<00:00,  5.85s/it]\n"
     ]
    },
    {
     "name": "stdout",
     "output_type": "stream",
     "text": [
      "Train loss: 132.50373405042816 Train accuracy 0.022312373169423902\n"
     ]
    },
    {
     "name": "stderr",
     "output_type": "stream",
     "text": [
      "100%|██████████| 2/2 [00:10<00:00,  5.12s/it]\n"
     ]
    },
    {
     "name": "stdout",
     "output_type": "stream",
     "text": [
      "Valid loss: 5.071991177166209 Valid accuracy 0.04366865250117639\n",
      "Saving best model wieghts, Accuracy: 0.04366865250117639\n",
      "Epoch: 2/100\n"
     ]
    },
    {
     "name": "stderr",
     "output_type": "stream",
     "text": [
      "100%|██████████| 4/4 [00:20<00:00,  5.12s/it]\n"
     ]
    },
    {
     "name": "stdout",
     "output_type": "stream",
     "text": [
      "Train loss: 124.11348533104447 Train accuracy 0.04513184619410073\n"
     ]
    },
    {
     "name": "stderr",
     "output_type": "stream",
     "text": [
      "100%|██████████| 2/2 [00:05<00:00,  2.56s/it]\n"
     ]
    },
    {
     "name": "stdout",
     "output_type": "stream",
     "text": [
      "Valid loss: 5.753503203392029 Valid accuracy 0.015548407045357367\n",
      "Accuracy didn't improve from: 0.04366865250117639\n",
      "Epoch: 3/100\n"
     ]
    },
    {
     "name": "stderr",
     "output_type": "stream",
     "text": [
      "100%|██████████| 4/4 [00:12<00:00,  3.11s/it]\n"
     ]
    },
    {
     "name": "stdout",
     "output_type": "stream",
     "text": [
      "Train loss: 123.2015897806953 Train accuracy 0.05704868146601845\n"
     ]
    },
    {
     "name": "stderr",
     "output_type": "stream",
     "text": [
      "100%|██████████| 2/2 [00:10<00:00,  5.11s/it]\n"
     ]
    },
    {
     "name": "stdout",
     "output_type": "stream",
     "text": [
      "Valid loss: 6.967233475516824 Valid accuracy 0.02422059908070985\n",
      "Accuracy didn't improve from: 0.04366865250117639\n",
      "Epoch: 4/100\n"
     ]
    },
    {
     "name": "stderr",
     "output_type": "stream",
     "text": [
      "100%|██████████| 4/4 [00:20<00:00,  5.12s/it]\n"
     ]
    },
    {
     "name": "stdout",
     "output_type": "stream",
     "text": [
      "Train loss: 110.21146905159249 Train accuracy 0.08417849850786083\n"
     ]
    },
    {
     "name": "stderr",
     "output_type": "stream",
     "text": [
      "100%|██████████| 2/2 [00:04<00:00,  2.20s/it]\n"
     ]
    },
    {
     "name": "stdout",
     "output_type": "stream",
     "text": [
      "Valid loss: 6.799932283513686 Valid accuracy 0.029032760792795348\n",
      "Accuracy didn't improve from: 0.04366865250117639\n",
      "Epoch: 5/100\n"
     ]
    },
    {
     "name": "stderr",
     "output_type": "stream",
     "text": [
      "100%|██████████| 4/4 [00:20<00:00,  5.12s/it]\n"
     ]
    },
    {
     "name": "stdout",
     "output_type": "stream",
     "text": [
      "Train loss: 105.19082019609563 Train accuracy 0.07352941083338331\n"
     ]
    },
    {
     "name": "stderr",
     "output_type": "stream",
     "text": [
      "100%|██████████| 2/2 [00:05<00:00,  2.55s/it]\n"
     ]
    },
    {
     "name": "stdout",
     "output_type": "stream",
     "text": [
      "Valid loss: 5.919541239738464 Valid accuracy 0.08083217141821104\n",
      "Saving best model wieghts, Accuracy: 0.08083217141821104\n",
      "Epoch: 6/100\n"
     ]
    },
    {
     "name": "stderr",
     "output_type": "stream",
     "text": [
      "100%|██████████| 4/4 [00:20<00:00,  5.12s/it]\n"
     ]
    },
    {
     "name": "stdout",
     "output_type": "stream",
     "text": [
      "Train loss: 89.27429550535538 Train accuracy 0.06135902605841265\n"
     ]
    },
    {
     "name": "stderr",
     "output_type": "stream",
     "text": [
      "100%|██████████| 2/2 [00:04<00:00,  2.17s/it]\n"
     ]
    },
    {
     "name": "stdout",
     "output_type": "stream",
     "text": [
      "Valid loss: 6.468060100779814 Valid accuracy 0.09914453426266417\n",
      "Saving best model wieghts, Accuracy: 0.09914453426266417\n",
      "Epoch: 7/100\n"
     ]
    },
    {
     "name": "stderr",
     "output_type": "stream",
     "text": [
      "100%|██████████| 4/4 [00:20<00:00,  5.12s/it]\n"
     ]
    },
    {
     "name": "stdout",
     "output_type": "stream",
     "text": [
      "Train loss: 86.03536788067397 Train accuracy 0.1095334683161448\n"
     ]
    },
    {
     "name": "stderr",
     "output_type": "stream",
     "text": [
      "100%|██████████| 2/2 [00:04<00:00,  2.22s/it]\n"
     ]
    },
    {
     "name": "stdout",
     "output_type": "stream",
     "text": [
      "Valid loss: 6.55642897942487 Valid accuracy 0.0965350843308603\n",
      "Accuracy didn't improve from: 0.09914453426266417\n",
      "Epoch: 8/100\n"
     ]
    },
    {
     "name": "stderr",
     "output_type": "stream",
     "text": [
      "100%|██████████| 4/4 [00:20<00:00,  5.12s/it]\n"
     ]
    },
    {
     "name": "stdout",
     "output_type": "stream",
     "text": [
      "Train loss: 70.8563260493033 Train accuracy 0.11612575999735032\n"
     ]
    },
    {
     "name": "stderr",
     "output_type": "stream",
     "text": [
      "100%|██████████| 2/2 [00:04<00:00,  2.22s/it]\n"
     ]
    },
    {
     "name": "stdout",
     "output_type": "stream",
     "text": [
      "Valid loss: 6.3096438400885635 Valid accuracy 0.08459976129233837\n",
      "Accuracy didn't improve from: 0.09914453426266417\n",
      "Epoch: 9/100\n"
     ]
    },
    {
     "name": "stderr",
     "output_type": "stream",
     "text": [
      "100%|██████████| 4/4 [00:12<00:00,  3.03s/it]\n"
     ]
    },
    {
     "name": "stdout",
     "output_type": "stream",
     "text": [
      "Train loss: 54.44502216928146 Train accuracy 0.15618661221335917\n"
     ]
    },
    {
     "name": "stderr",
     "output_type": "stream",
     "text": [
      "100%|██████████| 2/2 [00:05<00:00,  2.56s/it]\n"
     ]
    },
    {
     "name": "stdout",
     "output_type": "stream",
     "text": [
      "Valid loss: 5.8467179396573234 Valid accuracy 0.10149779170751572\n",
      "Saving best model wieghts, Accuracy: 0.10149779170751572\n",
      "Epoch: 10/100\n"
     ]
    },
    {
     "name": "stderr",
     "output_type": "stream",
     "text": [
      "100%|██████████| 4/4 [00:12<00:00,  3.02s/it]\n"
     ]
    },
    {
     "name": "stdout",
     "output_type": "stream",
     "text": [
      "Train loss: 45.270295043640274 Train accuracy 0.1637931045911768\n"
     ]
    },
    {
     "name": "stderr",
     "output_type": "stream",
     "text": [
      "100%|██████████| 2/2 [00:04<00:00,  2.18s/it]\n"
     ]
    },
    {
     "name": "stdout",
     "output_type": "stream",
     "text": [
      "Valid loss: 6.181607390151305 Valid accuracy 0.15318231207921224\n",
      "Saving best model wieghts, Accuracy: 0.15318231207921224\n",
      "Epoch: 11/100\n"
     ]
    },
    {
     "name": "stderr",
     "output_type": "stream",
     "text": [
      "100%|██████████| 4/4 [00:12<00:00,  3.01s/it]\n"
     ]
    },
    {
     "name": "stdout",
     "output_type": "stream",
     "text": [
      "Train loss: 44.73206439438988 Train accuracy 0.1790060895111631\n"
     ]
    },
    {
     "name": "stderr",
     "output_type": "stream",
     "text": [
      "100%|██████████| 2/2 [00:04<00:00,  2.18s/it]\n"
     ]
    },
    {
     "name": "stdout",
     "output_type": "stream",
     "text": [
      "Valid loss: 5.306499758187463 Valid accuracy 0.15198059292400584\n",
      "Accuracy didn't improve from: 0.15318231207921224\n",
      "Epoch: 12/100\n"
     ]
    },
    {
     "name": "stderr",
     "output_type": "stream",
     "text": [
      "100%|██████████| 4/4 [00:20<00:00,  5.12s/it]\n"
     ]
    },
    {
     "name": "stdout",
     "output_type": "stream",
     "text": [
      "Train loss: 35.26643705280388 Train accuracy 0.1805273821193944\n"
     ]
    },
    {
     "name": "stderr",
     "output_type": "stream",
     "text": [
      "100%|██████████| 2/2 [00:05<00:00,  2.56s/it]\n"
     ]
    },
    {
     "name": "stdout",
     "output_type": "stream",
     "text": [
      "Valid loss: 5.913331249180962 Valid accuracy 0.17271884684177005\n",
      "Saving best model wieghts, Accuracy: 0.17271884684177005\n",
      "Epoch: 13/100\n"
     ]
    },
    {
     "name": "stderr",
     "output_type": "stream",
     "text": [
      "100%|██████████| 4/4 [00:12<00:00,  3.05s/it]\n"
     ]
    },
    {
     "name": "stdout",
     "output_type": "stream",
     "text": [
      "Train loss: 26.961485138710806 Train accuracy 0.21323529302197344\n"
     ]
    },
    {
     "name": "stderr",
     "output_type": "stream",
     "text": [
      "100%|██████████| 2/2 [00:04<00:00,  2.19s/it]\n"
     ]
    },
    {
     "name": "stdout",
     "output_type": "stream",
     "text": [
      "Valid loss: 5.58054819001871 Valid accuracy 0.199049715171842\n",
      "Saving best model wieghts, Accuracy: 0.199049715171842\n",
      "Epoch: 14/100\n"
     ]
    },
    {
     "name": "stderr",
     "output_type": "stream",
     "text": [
      "100%|██████████| 4/4 [00:12<00:00,  3.04s/it]\n"
     ]
    },
    {
     "name": "stdout",
     "output_type": "stream",
     "text": [
      "Train loss: 37.72881406457985 Train accuracy 0.18382352823391557\n"
     ]
    },
    {
     "name": "stderr",
     "output_type": "stream",
     "text": [
      "100%|██████████| 2/2 [00:04<00:00,  2.21s/it]\n"
     ]
    },
    {
     "name": "stdout",
     "output_type": "stream",
     "text": [
      "Valid loss: 6.115861796280917 Valid accuracy 0.17258414615164785\n",
      "Accuracy didn't improve from: 0.199049715171842\n",
      "Epoch: 15/100\n"
     ]
    },
    {
     "name": "stderr",
     "output_type": "stream",
     "text": [
      "100%|██████████| 4/4 [00:12<00:00,  3.01s/it]\n"
     ]
    },
    {
     "name": "stdout",
     "output_type": "stream",
     "text": [
      "Train loss: 31.330903226400125 Train accuracy 0.22489858131088755\n"
     ]
    },
    {
     "name": "stderr",
     "output_type": "stream",
     "text": [
      "100%|██████████| 2/2 [00:05<00:00,  2.56s/it]\n"
     ]
    },
    {
     "name": "stdout",
     "output_type": "stream",
     "text": [
      "Valid loss: 5.974753635771134 Valid accuracy 0.15683897518936327\n",
      "Accuracy didn't improve from: 0.199049715171842\n",
      "Epoch: 16/100\n"
     ]
    },
    {
     "name": "stderr",
     "output_type": "stream",
     "text": [
      "100%|██████████| 4/4 [00:20<00:00,  5.12s/it]\n"
     ]
    },
    {
     "name": "stdout",
     "output_type": "stream",
     "text": [
      "Train loss: 22.388827289728557 Train accuracy 0.25152129847008514\n"
     ]
    },
    {
     "name": "stderr",
     "output_type": "stream",
     "text": [
      "100%|██████████| 2/2 [00:05<00:00,  2.56s/it]\n"
     ]
    },
    {
     "name": "stdout",
     "output_type": "stream",
     "text": [
      "Valid loss: 5.653942677904578 Valid accuracy 0.19208502451724865\n",
      "Accuracy didn't improve from: 0.199049715171842\n",
      "Epoch: 17/100\n"
     ]
    },
    {
     "name": "stderr",
     "output_type": "stream",
     "text": [
      "100%|██████████| 4/4 [00:20<00:00,  5.12s/it]\n"
     ]
    },
    {
     "name": "stdout",
     "output_type": "stream",
     "text": [
      "Train loss: 29.593581217176773 Train accuracy 0.24974645104478388\n"
     ]
    },
    {
     "name": "stderr",
     "output_type": "stream",
     "text": [
      "100%|██████████| 2/2 [00:04<00:00,  2.10s/it]\n"
     ]
    },
    {
     "name": "stdout",
     "output_type": "stream",
     "text": [
      "Valid loss: 5.924884657649433 Valid accuracy 0.15878813768572667\n",
      "Accuracy didn't improve from: 0.199049715171842\n",
      "Epoch: 18/100\n"
     ]
    },
    {
     "name": "stderr",
     "output_type": "stream",
     "text": [
      "100%|██████████| 4/4 [00:11<00:00,  2.92s/it]\n"
     ]
    },
    {
     "name": "stdout",
     "output_type": "stream",
     "text": [
      "Train loss: 25.022476511404793 Train accuracy 0.22768762800842524\n"
     ]
    },
    {
     "name": "stderr",
     "output_type": "stream",
     "text": [
      "100%|██████████| 2/2 [00:04<00:00,  2.12s/it]\n"
     ]
    },
    {
     "name": "stdout",
     "output_type": "stream",
     "text": [
      "Valid loss: 5.698985145372503 Valid accuracy 0.2051058581427616\n",
      "Saving best model wieghts, Accuracy: 0.2051058581427616\n",
      "Epoch: 19/100\n"
     ]
    },
    {
     "name": "stderr",
     "output_type": "stream",
     "text": [
      "100%|██████████| 4/4 [00:20<00:00,  5.12s/it]\n"
     ]
    },
    {
     "name": "stdout",
     "output_type": "stream",
     "text": [
      "Train loss: 31.930176072260913 Train accuracy 0.18864097117501147\n"
     ]
    },
    {
     "name": "stderr",
     "output_type": "stream",
     "text": [
      "100%|██████████| 2/2 [00:04<00:00,  2.17s/it]\n"
     ]
    },
    {
     "name": "stdout",
     "output_type": "stream",
     "text": [
      "Valid loss: 5.583117826896555 Valid accuracy 0.14952301025828896\n",
      "Accuracy didn't improve from: 0.2051058581427616\n",
      "Epoch: 20/100\n"
     ]
    },
    {
     "name": "stderr",
     "output_type": "stream",
     "text": [
      "100%|██████████| 4/4 [00:11<00:00,  2.95s/it]\n"
     ]
    },
    {
     "name": "stdout",
     "output_type": "stream",
     "text": [
      "Train loss: 21.785197475377252 Train accuracy 0.2545638925341122\n"
     ]
    },
    {
     "name": "stderr",
     "output_type": "stream",
     "text": [
      "100%|██████████| 2/2 [00:05<00:00,  2.55s/it]\n"
     ]
    },
    {
     "name": "stdout",
     "output_type": "stream",
     "text": [
      "Valid loss: 5.680063486099243 Valid accuracy 0.18352772174950907\n",
      "Accuracy didn't improve from: 0.2051058581427616\n",
      "Epoch: 21/100\n"
     ]
    },
    {
     "name": "stderr",
     "output_type": "stream",
     "text": [
      "100%|██████████| 4/4 [00:20<00:00,  5.12s/it]\n"
     ]
    },
    {
     "name": "stdout",
     "output_type": "stream",
     "text": [
      "Train loss: 20.672850998008954 Train accuracy 0.2652129835503943\n"
     ]
    },
    {
     "name": "stderr",
     "output_type": "stream",
     "text": [
      "100%|██████████| 2/2 [00:05<00:00,  2.56s/it]\n"
     ]
    },
    {
     "name": "stdout",
     "output_type": "stream",
     "text": [
      "Valid loss: 5.524385732762954 Valid accuracy 0.17310313233996139\n",
      "Accuracy didn't improve from: 0.2051058581427616\n",
      "Epoch: 22/100\n"
     ]
    },
    {
     "name": "stderr",
     "output_type": "stream",
     "text": [
      "100%|██████████| 4/4 [00:20<00:00,  5.12s/it]\n"
     ]
    },
    {
     "name": "stdout",
     "output_type": "stream",
     "text": [
      "Train loss: 30.670819706776562 Train accuracy 0.2368154118440169\n"
     ]
    },
    {
     "name": "stderr",
     "output_type": "stream",
     "text": [
      "100%|██████████| 2/2 [00:04<00:00,  2.13s/it]\n"
     ]
    },
    {
     "name": "stdout",
     "output_type": "stream",
     "text": [
      "Valid loss: 5.489356342483969 Valid accuracy 0.17040784481693716\n",
      "Accuracy didn't improve from: 0.2051058581427616\n",
      "Epoch: 23/100\n"
     ]
    },
    {
     "name": "stderr",
     "output_type": "stream",
     "text": [
      "100%|██████████| 4/4 [00:11<00:00,  2.98s/it]\n"
     ]
    },
    {
     "name": "stdout",
     "output_type": "stream",
     "text": [
      "Train loss: 15.400689595324152 Train accuracy 0.27814401935457306\n"
     ]
    },
    {
     "name": "stderr",
     "output_type": "stream",
     "text": [
      "100%|██████████| 2/2 [00:04<00:00,  2.15s/it]\n"
     ]
    },
    {
     "name": "stdout",
     "output_type": "stream",
     "text": [
      "Valid loss: 5.654692661236314 Valid accuracy 0.18853004342492888\n",
      "Accuracy didn't improve from: 0.2051058581427616\n",
      "Epoch: 24/100\n"
     ]
    },
    {
     "name": "stderr",
     "output_type": "stream",
     "text": [
      "100%|██████████| 4/4 [00:20<00:00,  5.12s/it]\n"
     ]
    },
    {
     "name": "stdout",
     "output_type": "stream",
     "text": [
      "Train loss: 14.207923962789422 Train accuracy 0.29893509293084636\n"
     ]
    },
    {
     "name": "stderr",
     "output_type": "stream",
     "text": [
      "100%|██████████| 2/2 [00:05<00:00,  2.55s/it]\n"
     ]
    },
    {
     "name": "stdout",
     "output_type": "stream",
     "text": [
      "Valid loss: 5.498946946333437 Valid accuracy 0.21450304141377702\n",
      "Saving best model wieghts, Accuracy: 0.21450304141377702\n",
      "Epoch: 25/100\n"
     ]
    },
    {
     "name": "stderr",
     "output_type": "stream",
     "text": [
      "100%|██████████| 4/4 [00:11<00:00,  2.95s/it]\n"
     ]
    },
    {
     "name": "stdout",
     "output_type": "stream",
     "text": [
      "Train loss: 14.441686942296869 Train accuracy 0.28549695888753324\n"
     ]
    },
    {
     "name": "stderr",
     "output_type": "stream",
     "text": [
      "100%|██████████| 2/2 [00:04<00:00,  2.13s/it]\n"
     ]
    },
    {
     "name": "stdout",
     "output_type": "stream",
     "text": [
      "Valid loss: 5.708867066046771 Valid accuracy 0.20392394569866798\n",
      "Accuracy didn't improve from: 0.21450304141377702\n",
      "Epoch: 26/100\n"
     ]
    },
    {
     "name": "stderr",
     "output_type": "stream",
     "text": [
      "100%|██████████| 4/4 [00:20<00:00,  5.12s/it]\n"
     ]
    },
    {
     "name": "stdout",
     "output_type": "stream",
     "text": [
      "Train loss: 20.503022629329386 Train accuracy 0.2570993907147032\n"
     ]
    },
    {
     "name": "stderr",
     "output_type": "stream",
     "text": [
      "100%|██████████| 2/2 [00:05<00:00,  2.56s/it]\n"
     ]
    },
    {
     "name": "stdout",
     "output_type": "stream",
     "text": [
      "Valid loss: 4.955281860688153 Valid accuracy 0.22471502006930463\n",
      "Saving best model wieghts, Accuracy: 0.22471502006930463\n",
      "Epoch: 27/100\n"
     ]
    },
    {
     "name": "stderr",
     "output_type": "stream",
     "text": [
      "100%|██████████| 4/4 [00:11<00:00,  2.98s/it]\n"
     ]
    },
    {
     "name": "stdout",
     "output_type": "stream",
     "text": [
      "Train loss: 16.884352132678032 Train accuracy 0.2783975668854135\n"
     ]
    },
    {
     "name": "stderr",
     "output_type": "stream",
     "text": [
      "100%|██████████| 2/2 [00:05<00:00,  2.55s/it]\n"
     ]
    },
    {
     "name": "stdout",
     "output_type": "stream",
     "text": [
      "Valid loss: 5.746156273519292 Valid accuracy 0.2292247715899173\n",
      "Saving best model wieghts, Accuracy: 0.2292247715899173\n",
      "Epoch: 28/100\n"
     ]
    },
    {
     "name": "stderr",
     "output_type": "stream",
     "text": [
      "100%|██████████| 4/4 [00:11<00:00,  2.98s/it]\n"
     ]
    },
    {
     "name": "stdout",
     "output_type": "stream",
     "text": [
      "Train loss: 14.420811263953938 Train accuracy 0.286257605506655\n"
     ]
    },
    {
     "name": "stderr",
     "output_type": "stream",
     "text": [
      "100%|██████████| 2/2 [00:05<00:00,  2.55s/it]\n"
     ]
    },
    {
     "name": "stdout",
     "output_type": "stream",
     "text": [
      "Valid loss: 5.502086577170036 Valid accuracy 0.20526036565356395\n",
      "Accuracy didn't improve from: 0.2292247715899173\n",
      "Epoch: 29/100\n"
     ]
    },
    {
     "name": "stderr",
     "output_type": "stream",
     "text": [
      "100%|██████████| 4/4 [00:20<00:00,  5.12s/it]\n"
     ]
    },
    {
     "name": "stdout",
     "output_type": "stream",
     "text": [
      "Train loss: 13.49816747185062 Train accuracy 0.2837221099282889\n"
     ]
    },
    {
     "name": "stderr",
     "output_type": "stream",
     "text": [
      "100%|██████████| 2/2 [00:04<00:00,  2.20s/it]\n"
     ]
    },
    {
     "name": "stdout",
     "output_type": "stream",
     "text": [
      "Valid loss: 5.818979613044682 Valid accuracy 0.2275476465549539\n",
      "Accuracy didn't improve from: 0.2292247715899173\n",
      "Epoch: 30/100\n"
     ]
    },
    {
     "name": "stderr",
     "output_type": "stream",
     "text": [
      "100%|██████████| 4/4 [00:11<00:00,  2.97s/it]\n"
     ]
    },
    {
     "name": "stdout",
     "output_type": "stream",
     "text": [
      "Train loss: 10.487558085252257 Train accuracy 0.31059837442658406\n"
     ]
    },
    {
     "name": "stderr",
     "output_type": "stream",
     "text": [
      "100%|██████████| 2/2 [00:04<00:00,  2.14s/it]\n"
     ]
    },
    {
     "name": "stdout",
     "output_type": "stream",
     "text": [
      "Valid loss: 5.8141338159056275 Valid accuracy 0.24656255422707865\n",
      "Saving best model wieghts, Accuracy: 0.24656255422707865\n",
      "Epoch: 31/100\n"
     ]
    },
    {
     "name": "stderr",
     "output_type": "stream",
     "text": [
      "100%|██████████| 4/4 [00:11<00:00,  2.97s/it]\n"
     ]
    },
    {
     "name": "stdout",
     "output_type": "stream",
     "text": [
      "Train loss: 12.052961573004723 Train accuracy 0.2550709961420473\n"
     ]
    },
    {
     "name": "stderr",
     "output_type": "stream",
     "text": [
      "100%|██████████| 2/2 [00:05<00:00,  2.56s/it]\n"
     ]
    },
    {
     "name": "stdout",
     "output_type": "stream",
     "text": [
      "Valid loss: 5.566544398665428 Valid accuracy 0.23154897922102144\n",
      "Accuracy didn't improve from: 0.24656255422707865\n",
      "Epoch: 32/100\n"
     ]
    },
    {
     "name": "stderr",
     "output_type": "stream",
     "text": [
      "100%|██████████| 4/4 [00:12<00:00,  3.01s/it]\n"
     ]
    },
    {
     "name": "stdout",
     "output_type": "stream",
     "text": [
      "Train loss: 13.947453268310603 Train accuracy 0.2872717994648744\n"
     ]
    },
    {
     "name": "stderr",
     "output_type": "stream",
     "text": [
      "100%|██████████| 2/2 [00:04<00:00,  2.21s/it]\n"
     ]
    },
    {
     "name": "stdout",
     "output_type": "stream",
     "text": [
      "Valid loss: 5.751833580872592 Valid accuracy 0.20224418030942187\n",
      "Accuracy didn't improve from: 0.24656255422707865\n",
      "Epoch: 33/100\n"
     ]
    },
    {
     "name": "stderr",
     "output_type": "stream",
     "text": [
      "100%|██████████| 4/4 [00:20<00:00,  5.12s/it]\n"
     ]
    },
    {
     "name": "stdout",
     "output_type": "stream",
     "text": [
      "Train loss: 9.031999169027104 Train accuracy 0.32860041289206815\n"
     ]
    },
    {
     "name": "stderr",
     "output_type": "stream",
     "text": [
      "100%|██████████| 2/2 [00:05<00:00,  2.56s/it]\n"
     ]
    },
    {
     "name": "stdout",
     "output_type": "stream",
     "text": [
      "Valid loss: 5.402181568391183 Valid accuracy 0.2301769038552747\n",
      "Accuracy didn't improve from: 0.24656255422707865\n",
      "Epoch: 34/100\n"
     ]
    },
    {
     "name": "stderr",
     "output_type": "stream",
     "text": [
      "100%|██████████| 4/4 [00:20<00:00,  5.12s/it]\n"
     ]
    },
    {
     "name": "stdout",
     "output_type": "stream",
     "text": [
      "Train loss: 9.591606465332648 Train accuracy 0.31414807155070934\n"
     ]
    },
    {
     "name": "stderr",
     "output_type": "stream",
     "text": [
      "100%|██████████| 2/2 [00:05<00:00,  2.56s/it]\n"
     ]
    },
    {
     "name": "stdout",
     "output_type": "stream",
     "text": [
      "Valid loss: 5.646564795690424 Valid accuracy 0.211175202337258\n",
      "Accuracy didn't improve from: 0.24656255422707865\n",
      "Epoch: 35/100\n"
     ]
    },
    {
     "name": "stderr",
     "output_type": "stream",
     "text": [
      "100%|██████████| 4/4 [00:11<00:00,  2.98s/it]\n"
     ]
    },
    {
     "name": "stdout",
     "output_type": "stream",
     "text": [
      "Train loss: 17.665275253574638 Train accuracy 0.2801724143928903\n"
     ]
    },
    {
     "name": "stderr",
     "output_type": "stream",
     "text": [
      "100%|██████████| 2/2 [00:05<00:00,  2.56s/it]\n"
     ]
    },
    {
     "name": "stdout",
     "output_type": "stream",
     "text": [
      "Valid loss: 6.451723139075672 Valid accuracy 0.22733767473084085\n",
      "Accuracy didn't improve from: 0.24656255422707865\n",
      "Epoch: 36/100\n"
     ]
    },
    {
     "name": "stderr",
     "output_type": "stream",
     "text": [
      "100%|██████████| 4/4 [00:20<00:00,  5.12s/it]\n"
     ]
    },
    {
     "name": "stdout",
     "output_type": "stream",
     "text": [
      "Train loss: 9.131625423098312 Train accuracy 0.3336714002687265\n"
     ]
    },
    {
     "name": "stderr",
     "output_type": "stream",
     "text": [
      "100%|██████████| 2/2 [00:05<00:00,  2.56s/it]\n"
     ]
    },
    {
     "name": "stdout",
     "output_type": "stream",
     "text": [
      "Valid loss: 5.576123812619378 Valid accuracy 0.2266417337471948\n",
      "Accuracy didn't improve from: 0.24656255422707865\n",
      "Epoch: 37/100\n"
     ]
    },
    {
     "name": "stderr",
     "output_type": "stream",
     "text": [
      "100%|██████████| 4/4 [00:11<00:00,  2.96s/it]\n"
     ]
    },
    {
     "name": "stdout",
     "output_type": "stream",
     "text": [
      "Train loss: 9.535349318209816 Train accuracy 0.32631845583262686\n"
     ]
    },
    {
     "name": "stderr",
     "output_type": "stream",
     "text": [
      "100%|██████████| 2/2 [00:04<00:00,  2.17s/it]\n"
     ]
    },
    {
     "name": "stdout",
     "output_type": "stream",
     "text": [
      "Valid loss: 5.50835871082895 Valid accuracy 0.22345783846343265\n",
      "Accuracy didn't improve from: 0.24656255422707865\n",
      "Epoch: 38/100\n"
     ]
    },
    {
     "name": "stderr",
     "output_type": "stream",
     "text": [
      "100%|██████████| 4/4 [00:11<00:00,  2.96s/it]\n"
     ]
    },
    {
     "name": "stdout",
     "output_type": "stream",
     "text": [
      "Train loss: 8.771477008128867 Train accuracy 0.3138945214724278\n"
     ]
    },
    {
     "name": "stderr",
     "output_type": "stream",
     "text": [
      "100%|██████████| 2/2 [00:04<00:00,  2.17s/it]\n"
     ]
    },
    {
     "name": "stdout",
     "output_type": "stream",
     "text": [
      "Valid loss: 5.817914077464272 Valid accuracy 0.2225783363203792\n",
      "Accuracy didn't improve from: 0.24656255422707865\n",
      "Epoch: 39/100\n"
     ]
    },
    {
     "name": "stderr",
     "output_type": "stream",
     "text": [
      "100%|██████████| 4/4 [00:20<00:00,  5.12s/it]\n"
     ]
    },
    {
     "name": "stdout",
     "output_type": "stream",
     "text": [
      "Train loss: 7.961840081740828 Train accuracy 0.3286004056058386\n"
     ]
    },
    {
     "name": "stderr",
     "output_type": "stream",
     "text": [
      "100%|██████████| 2/2 [00:04<00:00,  2.18s/it]\n"
     ]
    },
    {
     "name": "stdout",
     "output_type": "stream",
     "text": [
      "Valid loss: 5.768672692425111 Valid accuracy 0.23703727323342771\n",
      "Accuracy didn't improve from: 0.24656255422707865\n",
      "Epoch: 40/100\n"
     ]
    },
    {
     "name": "stderr",
     "output_type": "stream",
     "text": [
      "100%|██████████| 4/4 [00:11<00:00,  2.93s/it]\n"
     ]
    },
    {
     "name": "stdout",
     "output_type": "stream",
     "text": [
      "Train loss: 6.482145443120423 Train accuracy 0.33544624421526403\n"
     ]
    },
    {
     "name": "stderr",
     "output_type": "stream",
     "text": [
      "100%|██████████| 2/2 [00:05<00:00,  2.56s/it]\n"
     ]
    },
    {
     "name": "stdout",
     "output_type": "stream",
     "text": [
      "Valid loss: 5.64621842082809 Valid accuracy 0.22833866779418552\n",
      "Accuracy didn't improve from: 0.24656255422707865\n",
      "Epoch: 41/100\n"
     ]
    },
    {
     "name": "stderr",
     "output_type": "stream",
     "text": [
      "100%|██████████| 4/4 [00:20<00:00,  5.12s/it]\n"
     ]
    },
    {
     "name": "stdout",
     "output_type": "stream",
     "text": [
      "Train loss: 8.183717837228494 Train accuracy 0.32124746223802075\n"
     ]
    },
    {
     "name": "stderr",
     "output_type": "stream",
     "text": [
      "100%|██████████| 2/2 [00:04<00:00,  2.17s/it]\n"
     ]
    },
    {
     "name": "stdout",
     "output_type": "stream",
     "text": [
      "Valid loss: 6.289601522333482 Valid accuracy 0.19246930782409274\n",
      "Accuracy didn't improve from: 0.24656255422707865\n",
      "Epoch: 42/100\n"
     ]
    },
    {
     "name": "stderr",
     "output_type": "stream",
     "text": [
      "100%|██████████| 4/4 [00:11<00:00,  2.94s/it]\n"
     ]
    },
    {
     "name": "stdout",
     "output_type": "stream",
     "text": [
      "Train loss: 10.343258717480827 Train accuracy 0.3012170376913512\n"
     ]
    },
    {
     "name": "stderr",
     "output_type": "stream",
     "text": [
      "100%|██████████| 2/2 [00:04<00:00,  2.11s/it]\n"
     ]
    },
    {
     "name": "stdout",
     "output_type": "stream",
     "text": [
      "Valid loss: 5.669060124193921 Valid accuracy 0.2484100321855615\n",
      "Saving best model wieghts, Accuracy: 0.2484100321855615\n",
      "Epoch: 43/100\n"
     ]
    },
    {
     "name": "stderr",
     "output_type": "stream",
     "text": [
      "100%|██████████| 4/4 [00:11<00:00,  2.95s/it]\n"
     ]
    },
    {
     "name": "stdout",
     "output_type": "stream",
     "text": [
      "Train loss: 7.190539620378438 Train accuracy 0.32555781167877074\n"
     ]
    },
    {
     "name": "stderr",
     "output_type": "stream",
     "text": [
      "100%|██████████| 2/2 [00:05<00:00,  2.56s/it]\n"
     ]
    },
    {
     "name": "stdout",
     "output_type": "stream",
     "text": [
      "Valid loss: 5.878462889615228 Valid accuracy 0.2599280552171609\n",
      "Saving best model wieghts, Accuracy: 0.2599280552171609\n",
      "Epoch: 44/100\n"
     ]
    },
    {
     "name": "stderr",
     "output_type": "stream",
     "text": [
      "100%|██████████| 4/4 [00:11<00:00,  2.94s/it]\n"
     ]
    },
    {
     "name": "stdout",
     "output_type": "stream",
     "text": [
      "Train loss: 7.115214645862579 Train accuracy 0.324290058329044\n"
     ]
    },
    {
     "name": "stderr",
     "output_type": "stream",
     "text": [
      "100%|██████████| 2/2 [00:04<00:00,  2.10s/it]\n"
     ]
    },
    {
     "name": "stdout",
     "output_type": "stream",
     "text": [
      "Valid loss: 5.7962143263396095 Valid accuracy 0.260056149762343\n",
      "Saving best model wieghts, Accuracy: 0.260056149762343\n",
      "Epoch: 45/100\n"
     ]
    },
    {
     "name": "stderr",
     "output_type": "stream",
     "text": [
      "100%|██████████| 4/4 [00:20<00:00,  5.12s/it]\n"
     ]
    },
    {
     "name": "stdout",
     "output_type": "stream",
     "text": [
      "Train loss: 6.330583982607898 Train accuracy 0.3412778897156172\n"
     ]
    },
    {
     "name": "stderr",
     "output_type": "stream",
     "text": [
      "100%|██████████| 2/2 [00:04<00:00,  2.19s/it]\n"
     ]
    },
    {
     "name": "stdout",
     "output_type": "stream",
     "text": [
      "Valid loss: 5.882447883486748 Valid accuracy 0.2518699306118138\n",
      "Accuracy didn't improve from: 0.260056149762343\n",
      "Epoch: 46/100\n"
     ]
    },
    {
     "name": "stderr",
     "output_type": "stream",
     "text": [
      "100%|██████████| 4/4 [00:20<00:00,  5.12s/it]\n"
     ]
    },
    {
     "name": "stdout",
     "output_type": "stream",
     "text": [
      "Train loss: 6.134407320224187 Train accuracy 0.34812373246121053\n"
     ]
    },
    {
     "name": "stderr",
     "output_type": "stream",
     "text": [
      "100%|██████████| 2/2 [00:04<00:00,  2.16s/it]\n"
     ]
    },
    {
     "name": "stdout",
     "output_type": "stream",
     "text": [
      "Valid loss: 6.001493539880304 Valid accuracy 0.21997548902735992\n",
      "Accuracy didn't improve from: 0.260056149762343\n",
      "Epoch: 47/100\n"
     ]
    },
    {
     "name": "stderr",
     "output_type": "stream",
     "text": [
      "100%|██████████| 4/4 [00:20<00:00,  5.12s/it]\n"
     ]
    },
    {
     "name": "stdout",
     "output_type": "stream",
     "text": [
      "Train loss: 14.860007535008823 Train accuracy 0.2834685601239257\n"
     ]
    },
    {
     "name": "stderr",
     "output_type": "stream",
     "text": [
      "100%|██████████| 2/2 [00:04<00:00,  2.29s/it]\n"
     ]
    },
    {
     "name": "stdout",
     "output_type": "stream",
     "text": [
      "Valid loss: 6.532119170707815 Valid accuracy 0.19005266303086982\n",
      "Accuracy didn't improve from: 0.260056149762343\n",
      "Epoch: 48/100\n"
     ]
    },
    {
     "name": "stderr",
     "output_type": "stream",
     "text": [
      "100%|██████████| 4/4 [00:20<00:00,  5.12s/it]\n"
     ]
    },
    {
     "name": "stdout",
     "output_type": "stream",
     "text": [
      "Train loss: 64.96282496960724 Train accuracy 0.1495943211347741\n"
     ]
    },
    {
     "name": "stderr",
     "output_type": "stream",
     "text": [
      "100%|██████████| 2/2 [00:04<00:00,  2.15s/it]\n"
     ]
    },
    {
     "name": "stdout",
     "output_type": "stream",
     "text": [
      "Valid loss: 7.086894652422736 Valid accuracy 0.17032596907194922\n",
      "Accuracy didn't improve from: 0.260056149762343\n",
      "Epoch: 49/100\n"
     ]
    },
    {
     "name": "stderr",
     "output_type": "stream",
     "text": [
      "100%|██████████| 4/4 [00:11<00:00,  2.97s/it]\n"
     ]
    },
    {
     "name": "stdout",
     "output_type": "stream",
     "text": [
      "Train loss: 11.561662802363143 Train accuracy 0.2941176462370683\n"
     ]
    },
    {
     "name": "stderr",
     "output_type": "stream",
     "text": [
      "100%|██████████| 2/2 [00:05<00:00,  2.55s/it]\n"
     ]
    },
    {
     "name": "stdout",
     "output_type": "stream",
     "text": [
      "Valid loss: 6.179599811049068 Valid accuracy 0.23511980232947013\n",
      "Accuracy didn't improve from: 0.260056149762343\n",
      "Epoch: 50/100\n"
     ]
    },
    {
     "name": "stderr",
     "output_type": "stream",
     "text": [
      "100%|██████████| 4/4 [00:20<00:00,  5.12s/it]\n"
     ]
    },
    {
     "name": "stdout",
     "output_type": "stream",
     "text": [
      "Train loss: 7.583224915406284 Train accuracy 0.3412778925095849\n"
     ]
    },
    {
     "name": "stderr",
     "output_type": "stream",
     "text": [
      "100%|██████████| 2/2 [00:05<00:00,  2.55s/it]\n"
     ]
    },
    {
     "name": "stdout",
     "output_type": "stream",
     "text": [
      "Valid loss: 5.921750798821449 Valid accuracy 0.2482726922368302\n",
      "Accuracy didn't improve from: 0.260056149762343\n",
      "Epoch: 51/100\n"
     ]
    },
    {
     "name": "stderr",
     "output_type": "stream",
     "text": [
      "100%|██████████| 4/4 [00:12<00:00,  3.03s/it]\n"
     ]
    },
    {
     "name": "stdout",
     "output_type": "stream",
     "text": [
      "Train loss: 5.4385410196640915 Train accuracy 0.34432048835408163\n"
     ]
    },
    {
     "name": "stderr",
     "output_type": "stream",
     "text": [
      "100%|██████████| 2/2 [00:05<00:00,  2.56s/it]\n"
     ]
    },
    {
     "name": "stdout",
     "output_type": "stream",
     "text": [
      "Valid loss: 5.841895656550632 Valid accuracy 0.24811818483559525\n",
      "Accuracy didn't improve from: 0.260056149762343\n",
      "Epoch: 52/100\n"
     ]
    },
    {
     "name": "stderr",
     "output_type": "stream",
     "text": [
      "100%|██████████| 4/4 [00:20<00:00,  5.12s/it]\n"
     ]
    },
    {
     "name": "stdout",
     "output_type": "stream",
     "text": [
      "Train loss: 6.114570453324738 Train accuracy 0.3326572030234863\n"
     ]
    },
    {
     "name": "stderr",
     "output_type": "stream",
     "text": [
      "100%|██████████| 2/2 [00:05<00:00,  2.56s/it]\n"
     ]
    },
    {
     "name": "stdout",
     "output_type": "stream",
     "text": [
      "Valid loss: 6.0086859254276055 Valid accuracy 0.23902605265817223\n",
      "Accuracy didn't improve from: 0.260056149762343\n",
      "Epoch: 53/100\n"
     ]
    },
    {
     "name": "stderr",
     "output_type": "stream",
     "text": [
      "100%|██████████| 4/4 [00:12<00:00,  3.04s/it]\n"
     ]
    },
    {
     "name": "stdout",
     "output_type": "stream",
     "text": [
      "Train loss: 6.915619212038377 Train accuracy 0.3496450323008877\n"
     ]
    },
    {
     "name": "stderr",
     "output_type": "stream",
     "text": [
      "100%|██████████| 2/2 [00:05<00:00,  2.56s/it]\n"
     ]
    },
    {
     "name": "stdout",
     "output_type": "stream",
     "text": [
      "Valid loss: 5.895475341116681 Valid accuracy 0.23233999958371415\n",
      "Accuracy didn't improve from: 0.260056149762343\n",
      "Epoch: 54/100\n"
     ]
    },
    {
     "name": "stderr",
     "output_type": "stream",
     "text": [
      "100%|██████████| 4/4 [00:20<00:00,  5.12s/it]\n"
     ]
    },
    {
     "name": "stdout",
     "output_type": "stream",
     "text": [
      "Train loss: 4.756195905015749 Train accuracy 0.36130831724799733\n"
     ]
    },
    {
     "name": "stderr",
     "output_type": "stream",
     "text": [
      "100%|██████████| 2/2 [00:04<00:00,  2.22s/it]\n"
     ]
    },
    {
     "name": "stdout",
     "output_type": "stream",
     "text": [
      "Valid loss: 5.9174013181644325 Valid accuracy 0.23928224317291202\n",
      "Accuracy didn't improve from: 0.260056149762343\n",
      "Epoch: 55/100\n"
     ]
    },
    {
     "name": "stderr",
     "output_type": "stream",
     "text": [
      "100%|██████████| 4/4 [00:12<00:00,  3.02s/it]\n"
     ]
    },
    {
     "name": "stdout",
     "output_type": "stream",
     "text": [
      "Train loss: 6.376534043866045 Train accuracy 0.3430527373600532\n"
     ]
    },
    {
     "name": "stderr",
     "output_type": "stream",
     "text": [
      "100%|██████████| 2/2 [00:04<00:00,  2.22s/it]\n"
     ]
    },
    {
     "name": "stdout",
     "output_type": "stream",
     "text": [
      "Valid loss: 6.396848864415112 Valid accuracy 0.2165089899345356\n",
      "Accuracy didn't improve from: 0.260056149762343\n",
      "Epoch: 56/100\n"
     ]
    },
    {
     "name": "stderr",
     "output_type": "stream",
     "text": [
      "100%|██████████| 4/4 [00:20<00:00,  5.12s/it]\n"
     ]
    },
    {
     "name": "stdout",
     "output_type": "stream",
     "text": [
      "Train loss: 7.293512318502454 Train accuracy 0.33265720579006214\n"
     ]
    },
    {
     "name": "stderr",
     "output_type": "stream",
     "text": [
      "100%|██████████| 2/2 [00:05<00:00,  2.56s/it]\n"
     ]
    },
    {
     "name": "stdout",
     "output_type": "stream",
     "text": [
      "Valid loss: 6.1299591862103515 Valid accuracy 0.20334685462362626\n",
      "Accuracy didn't improve from: 0.260056149762343\n",
      "Epoch: 57/100\n"
     ]
    },
    {
     "name": "stderr",
     "output_type": "stream",
     "text": [
      "100%|██████████| 4/4 [00:20<00:00,  5.12s/it]\n"
     ]
    },
    {
     "name": "stdout",
     "output_type": "stream",
     "text": [
      "Train loss: 5.695929448394215 Train accuracy 0.3483772838816923\n"
     ]
    },
    {
     "name": "stderr",
     "output_type": "stream",
     "text": [
      "100%|██████████| 2/2 [00:05<00:00,  2.55s/it]\n"
     ]
    },
    {
     "name": "stdout",
     "output_type": "stream",
     "text": [
      "Valid loss: 6.269460114486077 Valid accuracy 0.2312993899206905\n",
      "Accuracy didn't improve from: 0.260056149762343\n",
      "Epoch: 58/100\n"
     ]
    },
    {
     "name": "stderr",
     "output_type": "stream",
     "text": [
      "100%|██████████| 4/4 [00:20<00:00,  5.12s/it]\n"
     ]
    },
    {
     "name": "stdout",
     "output_type": "stream",
     "text": [
      "Train loss: 3.7093955716666054 Train accuracy 0.35851926937261047\n"
     ]
    },
    {
     "name": "stderr",
     "output_type": "stream",
     "text": [
      "100%|██████████| 2/2 [00:04<00:00,  2.20s/it]\n"
     ]
    },
    {
     "name": "stdout",
     "output_type": "stream",
     "text": [
      "Valid loss: 6.107637017965317 Valid accuracy 0.26123145923894997\n",
      "Saving best model wieghts, Accuracy: 0.26123145923894997\n",
      "Epoch: 59/100\n"
     ]
    },
    {
     "name": "stderr",
     "output_type": "stream",
     "text": [
      "100%|██████████| 4/4 [00:12<00:00,  3.01s/it]\n"
     ]
    },
    {
     "name": "stdout",
     "output_type": "stream",
     "text": [
      "Train loss: 6.250998340985355 Train accuracy 0.3521805264548782\n"
     ]
    },
    {
     "name": "stderr",
     "output_type": "stream",
     "text": [
      "100%|██████████| 2/2 [00:04<00:00,  2.21s/it]\n"
     ]
    },
    {
     "name": "stdout",
     "output_type": "stream",
     "text": [
      "Valid loss: 6.06122205713216 Valid accuracy 0.2452789576833739\n",
      "Accuracy didn't improve from: 0.26123145923894997\n",
      "Epoch: 60/100\n"
     ]
    },
    {
     "name": "stderr",
     "output_type": "stream",
     "text": [
      "100%|██████████| 4/4 [00:20<00:00,  5.12s/it]\n"
     ]
    },
    {
     "name": "stdout",
     "output_type": "stream",
     "text": [
      "Train loss: 3.6652013784384025 Train accuracy 0.36866125675356565\n"
     ]
    },
    {
     "name": "stderr",
     "output_type": "stream",
     "text": [
      "100%|██████████| 2/2 [00:05<00:00,  2.55s/it]\n"
     ]
    },
    {
     "name": "stdout",
     "output_type": "stream",
     "text": [
      "Valid loss: 6.309032840763821 Valid accuracy 0.2532750174184056\n",
      "Accuracy didn't improve from: 0.26123145923894997\n",
      "Epoch: 61/100\n"
     ]
    },
    {
     "name": "stderr",
     "output_type": "stream",
     "text": [
      "100%|██████████| 4/4 [00:12<00:00,  3.02s/it]\n"
     ]
    },
    {
     "name": "stdout",
     "output_type": "stream",
     "text": [
      "Train loss: 3.922690555015031 Train accuracy 0.36308316371458416\n"
     ]
    },
    {
     "name": "stderr",
     "output_type": "stream",
     "text": [
      "100%|██████████| 2/2 [00:05<00:00,  2.56s/it]\n"
     ]
    },
    {
     "name": "stdout",
     "output_type": "stream",
     "text": [
      "Valid loss: 6.480836708756054 Valid accuracy 0.2614480319487698\n",
      "Saving best model wieghts, Accuracy: 0.2614480319487698\n",
      "Epoch: 62/100\n"
     ]
    },
    {
     "name": "stderr",
     "output_type": "stream",
     "text": [
      "100%|██████████| 4/4 [00:11<00:00,  3.00s/it]\n"
     ]
    },
    {
     "name": "stdout",
     "output_type": "stream",
     "text": [
      "Train loss: 3.6012269407510757 Train accuracy 0.3668864142314038\n"
     ]
    },
    {
     "name": "stderr",
     "output_type": "stream",
     "text": [
      "100%|██████████| 2/2 [00:04<00:00,  2.18s/it]\n"
     ]
    },
    {
     "name": "stdout",
     "output_type": "stream",
     "text": [
      "Valid loss: 6.107516244053841 Valid accuracy 0.26471380593583865\n",
      "Saving best model wieghts, Accuracy: 0.26471380593583865\n",
      "Epoch: 63/100\n"
     ]
    },
    {
     "name": "stderr",
     "output_type": "stream",
     "text": [
      "100%|██████████| 4/4 [00:12<00:00,  3.00s/it]\n"
     ]
    },
    {
     "name": "stdout",
     "output_type": "stream",
     "text": [
      "Train loss: 4.663174571359859 Train accuracy 0.35294117504621253\n"
     ]
    },
    {
     "name": "stderr",
     "output_type": "stream",
     "text": [
      "100%|██████████| 2/2 [00:05<00:00,  2.56s/it]\n"
     ]
    },
    {
     "name": "stdout",
     "output_type": "stream",
     "text": [
      "Valid loss: 6.334470854086034 Valid accuracy 0.23807392050238216\n",
      "Accuracy didn't improve from: 0.26471380593583865\n",
      "Epoch: 64/100\n"
     ]
    },
    {
     "name": "stderr",
     "output_type": "stream",
     "text": [
      "100%|██████████| 4/4 [00:12<00:00,  3.01s/it]\n"
     ]
    },
    {
     "name": "stdout",
     "output_type": "stream",
     "text": [
      "Train loss: 10.052009458051009 Train accuracy 0.286764708101092\n"
     ]
    },
    {
     "name": "stderr",
     "output_type": "stream",
     "text": [
      "100%|██████████| 2/2 [00:04<00:00,  2.20s/it]\n"
     ]
    },
    {
     "name": "stdout",
     "output_type": "stream",
     "text": [
      "Valid loss: 6.638496163136819 Valid accuracy 0.24441266355707364\n",
      "Accuracy didn't improve from: 0.26471380593583865\n",
      "Epoch: 65/100\n"
     ]
    },
    {
     "name": "stderr",
     "output_type": "stream",
     "text": [
      "100%|██████████| 4/4 [00:20<00:00,  5.12s/it]\n"
     ]
    },
    {
     "name": "stdout",
     "output_type": "stream",
     "text": [
      "Train loss: 7.338005197398803 Train accuracy 0.3141480728929095\n"
     ]
    },
    {
     "name": "stderr",
     "output_type": "stream",
     "text": [
      "100%|██████████| 2/2 [00:05<00:00,  2.56s/it]\n"
     ]
    },
    {
     "name": "stdout",
     "output_type": "stream",
     "text": [
      "Valid loss: 6.742033486857133 Valid accuracy 0.25355365850469647\n",
      "Accuracy didn't improve from: 0.26471380593583865\n",
      "Epoch: 66/100\n"
     ]
    },
    {
     "name": "stderr",
     "output_type": "stream",
     "text": [
      "100%|██████████| 4/4 [00:20<00:00,  5.12s/it]\n"
     ]
    },
    {
     "name": "stdout",
     "output_type": "stream",
     "text": [
      "Train loss: 7.754621111842639 Train accuracy 0.3382352938711205\n"
     ]
    },
    {
     "name": "stderr",
     "output_type": "stream",
     "text": [
      "100%|██████████| 2/2 [00:04<00:00,  2.19s/it]\n"
     ]
    },
    {
     "name": "stdout",
     "output_type": "stream",
     "text": [
      "Valid loss: 6.847495183348656 Valid accuracy 0.2420950614135055\n",
      "Accuracy didn't improve from: 0.26471380593583865\n",
      "Epoch: 67/100\n"
     ]
    },
    {
     "name": "stderr",
     "output_type": "stream",
     "text": [
      "100%|██████████| 4/4 [00:20<00:00,  5.12s/it]\n"
     ]
    },
    {
     "name": "stdout",
     "output_type": "stream",
     "text": [
      "Train loss: 3.5350635994006607 Train accuracy 0.357758618398186\n"
     ]
    },
    {
     "name": "stderr",
     "output_type": "stream",
     "text": [
      "100%|██████████| 2/2 [00:05<00:00,  2.55s/it]\n"
     ]
    },
    {
     "name": "stdout",
     "output_type": "stream",
     "text": [
      "Valid loss: 6.2672130421680565 Valid accuracy 0.2710023665910258\n",
      "Saving best model wieghts, Accuracy: 0.2710023665910258\n",
      "Epoch: 68/100\n"
     ]
    },
    {
     "name": "stderr",
     "output_type": "stream",
     "text": [
      "100%|██████████| 4/4 [00:20<00:00,  5.12s/it]\n"
     ]
    },
    {
     "name": "stdout",
     "output_type": "stream",
     "text": [
      "Train loss: 4.042999405194731 Train accuracy 0.37170385782990384\n"
     ]
    },
    {
     "name": "stderr",
     "output_type": "stream",
     "text": [
      "100%|██████████| 2/2 [00:05<00:00,  2.56s/it]\n"
     ]
    },
    {
     "name": "stdout",
     "output_type": "stream",
     "text": [
      "Valid loss: 6.417036325615995 Valid accuracy 0.26355170359944596\n",
      "Accuracy didn't improve from: 0.2710023665910258\n",
      "Epoch: 69/100\n"
     ]
    },
    {
     "name": "stderr",
     "output_type": "stream",
     "text": [
      "100%|██████████| 4/4 [00:12<00:00,  3.00s/it]\n"
     ]
    },
    {
     "name": "stdout",
     "output_type": "stream",
     "text": [
      "Train loss: 2.9713847301900387 Train accuracy 0.36637930895256643\n"
     ]
    },
    {
     "name": "stderr",
     "output_type": "stream",
     "text": [
      "100%|██████████| 2/2 [00:05<00:00,  2.56s/it]\n"
     ]
    },
    {
     "name": "stdout",
     "output_type": "stream",
     "text": [
      "Valid loss: 6.21438969058149 Valid accuracy 0.2633351271643358\n",
      "Accuracy didn't improve from: 0.2710023665910258\n",
      "Epoch: 70/100\n"
     ]
    },
    {
     "name": "stderr",
     "output_type": "stream",
     "text": [
      "100%|██████████| 4/4 [00:11<00:00,  2.99s/it]\n"
     ]
    },
    {
     "name": "stdout",
     "output_type": "stream",
     "text": [
      "Train loss: 2.569848937146804 Train accuracy 0.37905679812983556\n"
     ]
    },
    {
     "name": "stderr",
     "output_type": "stream",
     "text": [
      "100%|██████████| 2/2 [00:05<00:00,  2.56s/it]\n"
     ]
    },
    {
     "name": "stdout",
     "output_type": "stream",
     "text": [
      "Valid loss: 6.399762161514339 Valid accuracy 0.2749020146096454\n",
      "Saving best model wieghts, Accuracy: 0.2749020146096454\n",
      "Epoch: 71/100\n"
     ]
    },
    {
     "name": "stderr",
     "output_type": "stream",
     "text": [
      "100%|██████████| 4/4 [00:12<00:00,  3.01s/it]\n"
     ]
    },
    {
     "name": "stdout",
     "output_type": "stream",
     "text": [
      "Train loss: 2.9561176295666134 Train accuracy 0.36080121418789907\n"
     ]
    },
    {
     "name": "stderr",
     "output_type": "stream",
     "text": [
      "100%|██████████| 2/2 [00:05<00:00,  2.56s/it]\n"
     ]
    },
    {
     "name": "stdout",
     "output_type": "stream",
     "text": [
      "Valid loss: 6.374013054896803 Valid accuracy 0.26658109663163915\n",
      "Accuracy didn't improve from: 0.2749020146096454\n",
      "Epoch: 72/100\n"
     ]
    },
    {
     "name": "stderr",
     "output_type": "stream",
     "text": [
      "100%|██████████| 4/4 [00:20<00:00,  5.12s/it]\n"
     ]
    },
    {
     "name": "stdout",
     "output_type": "stream",
     "text": [
      "Train loss: 3.6696669476873733 Train accuracy 0.3597870161756873\n"
     ]
    },
    {
     "name": "stderr",
     "output_type": "stream",
     "text": [
      "100%|██████████| 2/2 [00:05<00:00,  2.56s/it]\n"
     ]
    },
    {
     "name": "stdout",
     "output_type": "stream",
     "text": [
      "Valid loss: 6.452151976087514 Valid accuracy 0.25665567924871163\n",
      "Accuracy didn't improve from: 0.2749020146096454\n",
      "Epoch: 73/100\n"
     ]
    },
    {
     "name": "stderr",
     "output_type": "stream",
     "text": [
      "100%|██████████| 4/4 [00:20<00:00,  5.12s/it]\n"
     ]
    },
    {
     "name": "stdout",
     "output_type": "stream",
     "text": [
      "Train loss: 13.307981825488454 Train accuracy 0.3024847907397677\n"
     ]
    },
    {
     "name": "stderr",
     "output_type": "stream",
     "text": [
      "100%|██████████| 2/2 [00:05<00:00,  2.56s/it]\n"
     ]
    },
    {
     "name": "stdout",
     "output_type": "stream",
     "text": [
      "Valid loss: 7.33949791859178 Valid accuracy 0.17486213158596964\n",
      "Accuracy didn't improve from: 0.2749020146096454\n",
      "Epoch: 74/100\n"
     ]
    },
    {
     "name": "stderr",
     "output_type": "stream",
     "text": [
      "100%|██████████| 4/4 [00:20<00:00,  5.12s/it]\n"
     ]
    },
    {
     "name": "stdout",
     "output_type": "stream",
     "text": [
      "Train loss: 32.3166661393993 Train accuracy 0.26546653201255727\n"
     ]
    },
    {
     "name": "stderr",
     "output_type": "stream",
     "text": [
      "100%|██████████| 2/2 [00:05<00:00,  2.56s/it]\n"
     ]
    },
    {
     "name": "stdout",
     "output_type": "stream",
     "text": [
      "Valid loss: 5.990721194183125 Valid accuracy 0.16068844102761326\n",
      "Accuracy didn't improve from: 0.2749020146096454\n",
      "Epoch: 75/100\n"
     ]
    },
    {
     "name": "stderr",
     "output_type": "stream",
     "text": [
      "100%|██████████| 4/4 [00:20<00:00,  5.12s/it]\n"
     ]
    },
    {
     "name": "stdout",
     "output_type": "stream",
     "text": [
      "Train loss: 23.84068512741257 Train accuracy 0.2913285978138447\n"
     ]
    },
    {
     "name": "stderr",
     "output_type": "stream",
     "text": [
      "100%|██████████| 2/2 [00:04<00:00,  2.16s/it]\n"
     ]
    },
    {
     "name": "stdout",
     "output_type": "stream",
     "text": [
      "Valid loss: 6.887167930603027 Valid accuracy 0.15031667459098733\n",
      "Accuracy didn't improve from: 0.2749020146096454\n",
      "Epoch: 76/100\n"
     ]
    },
    {
     "name": "stderr",
     "output_type": "stream",
     "text": [
      "100%|██████████| 4/4 [00:20<00:00,  5.12s/it]\n"
     ]
    },
    {
     "name": "stdout",
     "output_type": "stream",
     "text": [
      "Train loss: 10.136770756367374 Train accuracy 0.33924949547166333\n"
     ]
    },
    {
     "name": "stderr",
     "output_type": "stream",
     "text": [
      "100%|██████████| 2/2 [00:04<00:00,  2.23s/it]\n"
     ]
    },
    {
     "name": "stdout",
     "output_type": "stream",
     "text": [
      "Valid loss: 6.848890372058925 Valid accuracy 0.23588837343542016\n",
      "Accuracy didn't improve from: 0.2749020146096454\n",
      "Epoch: 77/100\n"
     ]
    },
    {
     "name": "stderr",
     "output_type": "stream",
     "text": [
      "100%|██████████| 4/4 [00:12<00:00,  3.03s/it]\n"
     ]
    },
    {
     "name": "stdout",
     "output_type": "stream",
     "text": [
      "Train loss: 4.354163976276622 Train accuracy 0.35395537311320796\n"
     ]
    },
    {
     "name": "stderr",
     "output_type": "stream",
     "text": [
      "100%|██████████| 2/2 [00:05<00:00,  2.56s/it]\n"
     ]
    },
    {
     "name": "stdout",
     "output_type": "stream",
     "text": [
      "Valid loss: 7.020143879687085 Valid accuracy 0.24959854748757446\n",
      "Accuracy didn't improve from: 0.2749020146096454\n",
      "Epoch: 78/100\n"
     ]
    },
    {
     "name": "stderr",
     "output_type": "stream",
     "text": [
      "100%|██████████| 4/4 [00:11<00:00,  3.00s/it]\n"
     ]
    },
    {
     "name": "stdout",
     "output_type": "stream",
     "text": [
      "Train loss: 3.9201981263125645 Train accuracy 0.36359026230981245\n"
     ]
    },
    {
     "name": "stderr",
     "output_type": "stream",
     "text": [
      "100%|██████████| 2/2 [00:05<00:00,  2.56s/it]\n"
     ]
    },
    {
     "name": "stdout",
     "output_type": "stream",
     "text": [
      "Valid loss: 7.048367152319235 Valid accuracy 0.2588940458920072\n",
      "Accuracy didn't improve from: 0.2749020146096454\n",
      "Epoch: 79/100\n"
     ]
    },
    {
     "name": "stderr",
     "output_type": "stream",
     "text": [
      "100%|██████████| 4/4 [00:12<00:00,  3.03s/it]\n"
     ]
    },
    {
     "name": "stdout",
     "output_type": "stream",
     "text": [
      "Train loss: 3.2526870203368805 Train accuracy 0.36359026378897186\n"
     ]
    },
    {
     "name": "stderr",
     "output_type": "stream",
     "text": [
      "100%|██████████| 2/2 [00:05<00:00,  2.56s/it]\n"
     ]
    },
    {
     "name": "stdout",
     "output_type": "stream",
     "text": [
      "Valid loss: 7.051622116390397 Valid accuracy 0.25028788429849286\n",
      "Accuracy didn't improve from: 0.2749020146096454\n",
      "Epoch: 80/100\n"
     ]
    },
    {
     "name": "stderr",
     "output_type": "stream",
     "text": [
      "100%|██████████| 4/4 [00:12<00:00,  3.02s/it]\n"
     ]
    },
    {
     "name": "stdout",
     "output_type": "stream",
     "text": [
      "Train loss: 3.251995118225322 Train accuracy 0.3608012162970708\n"
     ]
    },
    {
     "name": "stderr",
     "output_type": "stream",
     "text": [
      "100%|██████████| 2/2 [00:04<00:00,  2.20s/it]\n"
     ]
    },
    {
     "name": "stdout",
     "output_type": "stream",
     "text": [
      "Valid loss: 6.961080218062682 Valid accuracy 0.25356026278699145\n",
      "Accuracy didn't improve from: 0.2749020146096454\n",
      "Epoch: 81/100\n"
     ]
    },
    {
     "name": "stderr",
     "output_type": "stream",
     "text": [
      "100%|██████████| 4/4 [00:20<00:00,  5.12s/it]\n"
     ]
    },
    {
     "name": "stdout",
     "output_type": "stream",
     "text": [
      "Train loss: 2.513369709253311 Train accuracy 0.3701825554427855\n"
     ]
    },
    {
     "name": "stderr",
     "output_type": "stream",
     "text": [
      "100%|██████████| 2/2 [00:05<00:00,  2.56s/it]\n"
     ]
    },
    {
     "name": "stdout",
     "output_type": "stream",
     "text": [
      "Valid loss: 6.915653331314816 Valid accuracy 0.24846945922164357\n",
      "Accuracy didn't improve from: 0.2749020146096454\n",
      "Epoch: 82/100\n"
     ]
    },
    {
     "name": "stderr",
     "output_type": "stream",
     "text": [
      "100%|██████████| 4/4 [00:12<00:00,  3.06s/it]\n"
     ]
    },
    {
     "name": "stdout",
     "output_type": "stream",
     "text": [
      "Train loss: 2.3657077375580284 Train accuracy 0.36359025905018344\n"
     ]
    },
    {
     "name": "stderr",
     "output_type": "stream",
     "text": [
      "100%|██████████| 2/2 [00:04<00:00,  2.25s/it]\n"
     ]
    },
    {
     "name": "stdout",
     "output_type": "stream",
     "text": [
      "Valid loss: 6.9486218200010414 Valid accuracy 0.2489224142011474\n",
      "Accuracy didn't improve from: 0.2749020146096454\n",
      "Epoch: 83/100\n"
     ]
    },
    {
     "name": "stderr",
     "output_type": "stream",
     "text": [
      "100%|██████████| 4/4 [00:20<00:00,  5.12s/it]\n"
     ]
    },
    {
     "name": "stdout",
     "output_type": "stream",
     "text": [
      "Train loss: 2.46481062581434 Train accuracy 0.3749999998082571\n"
     ]
    },
    {
     "name": "stderr",
     "output_type": "stream",
     "text": [
      "100%|██████████| 2/2 [00:05<00:00,  2.55s/it]\n"
     ]
    },
    {
     "name": "stdout",
     "output_type": "stream",
     "text": [
      "Valid loss: 6.99856239732574 Valid accuracy 0.2583988329724354\n",
      "Accuracy didn't improve from: 0.2749020146096454\n",
      "Epoch: 84/100\n"
     ]
    },
    {
     "name": "stderr",
     "output_type": "stream",
     "text": [
      "100%|██████████| 4/4 [00:12<00:00,  3.04s/it]\n"
     ]
    },
    {
     "name": "stdout",
     "output_type": "stream",
     "text": [
      "Train loss: 3.9413508281988254 Train accuracy 0.32834685736281033\n"
     ]
    },
    {
     "name": "stderr",
     "output_type": "stream",
     "text": [
      "100%|██████████| 2/2 [00:04<00:00,  2.19s/it]\n"
     ]
    },
    {
     "name": "stdout",
     "output_type": "stream",
     "text": [
      "Valid loss: 6.897900885518859 Valid accuracy 0.25527700124418035\n",
      "Accuracy didn't improve from: 0.2749020146096454\n",
      "Epoch: 85/100\n"
     ]
    },
    {
     "name": "stderr",
     "output_type": "stream",
     "text": [
      "100%|██████████| 4/4 [00:20<00:00,  5.12s/it]\n"
     ]
    },
    {
     "name": "stdout",
     "output_type": "stream",
     "text": [
      "Train loss: 2.583629984189482 Train accuracy 0.37221095535685034\n"
     ]
    },
    {
     "name": "stderr",
     "output_type": "stream",
     "text": [
      "100%|██████████| 2/2 [00:04<00:00,  2.22s/it]\n"
     ]
    },
    {
     "name": "stdout",
     "output_type": "stream",
     "text": [
      "Valid loss: 6.7587330481585335 Valid accuracy 0.24433738968389876\n",
      "Accuracy didn't improve from: 0.2749020146096454\n",
      "Epoch: 86/100\n"
     ]
    },
    {
     "name": "stderr",
     "output_type": "stream",
     "text": [
      "100%|██████████| 4/4 [00:12<00:00,  3.09s/it]\n"
     ]
    },
    {
     "name": "stdout",
     "output_type": "stream",
     "text": [
      "Train loss: 2.1312828521956417 Train accuracy 0.38083164103548317\n"
     ]
    },
    {
     "name": "stderr",
     "output_type": "stream",
     "text": [
      "100%|██████████| 2/2 [00:04<00:00,  2.17s/it]\n"
     ]
    },
    {
     "name": "stdout",
     "output_type": "stream",
     "text": [
      "Valid loss: 6.756881305400063 Valid accuracy 0.24288608265273712\n",
      "Accuracy didn't improve from: 0.2749020146096454\n",
      "Epoch: 87/100\n"
     ]
    },
    {
     "name": "stderr",
     "output_type": "stream",
     "text": [
      "100%|██████████| 4/4 [00:12<00:00,  3.03s/it]\n"
     ]
    },
    {
     "name": "stdout",
     "output_type": "stream",
     "text": [
      "Train loss: 1.7875807589906103 Train accuracy 0.37677484712399106\n"
     ]
    },
    {
     "name": "stderr",
     "output_type": "stream",
     "text": [
      "100%|██████████| 2/2 [00:05<00:00,  2.56s/it]\n"
     ]
    },
    {
     "name": "stdout",
     "output_type": "stream",
     "text": [
      "Valid loss: 6.831312776488416 Valid accuracy 0.25413470835808444\n",
      "Accuracy didn't improve from: 0.2749020146096454\n",
      "Epoch: 88/100\n"
     ]
    },
    {
     "name": "stderr",
     "output_type": "stream",
     "text": [
      "100%|██████████| 4/4 [00:12<00:00,  3.02s/it]\n"
     ]
    },
    {
     "name": "stdout",
     "output_type": "stream",
     "text": [
      "Train loss: 2.0793961179168785 Train accuracy 0.3757606500704937\n"
     ]
    },
    {
     "name": "stderr",
     "output_type": "stream",
     "text": [
      "100%|██████████| 2/2 [00:05<00:00,  2.56s/it]\n"
     ]
    },
    {
     "name": "stdout",
     "output_type": "stream",
     "text": [
      "Valid loss: 6.76047291299876 Valid accuracy 0.2418718836544191\n",
      "Accuracy didn't improve from: 0.2749020146096454\n",
      "Epoch: 89/100\n"
     ]
    },
    {
     "name": "stderr",
     "output_type": "stream",
     "text": [
      "100%|██████████| 4/4 [00:20<00:00,  5.12s/it]\n"
     ]
    },
    {
     "name": "stdout",
     "output_type": "stream",
     "text": [
      "Train loss: 1.929721957182183 Train accuracy 0.38133874497212034\n"
     ]
    },
    {
     "name": "stderr",
     "output_type": "stream",
     "text": [
      "100%|██████████| 2/2 [00:04<00:00,  2.26s/it]\n"
     ]
    },
    {
     "name": "stdout",
     "output_type": "stream",
     "text": [
      "Valid loss: 6.9054346461506455 Valid accuracy 0.24587321511524565\n",
      "Accuracy didn't improve from: 0.2749020146096454\n",
      "Epoch: 90/100\n"
     ]
    },
    {
     "name": "stderr",
     "output_type": "stream",
     "text": [
      "100%|██████████| 4/4 [00:12<00:00,  3.02s/it]\n"
     ]
    },
    {
     "name": "stdout",
     "output_type": "stream",
     "text": [
      "Train loss: 1.7164492385790628 Train accuracy 0.37728194656836633\n"
     ]
    },
    {
     "name": "stderr",
     "output_type": "stream",
     "text": [
      "100%|██████████| 2/2 [00:04<00:00,  2.17s/it]\n"
     ]
    },
    {
     "name": "stdout",
     "output_type": "stream",
     "text": [
      "Valid loss: 6.714884786921389 Valid accuracy 0.24850247329210534\n",
      "Accuracy didn't improve from: 0.2749020146096454\n",
      "Epoch: 91/100\n"
     ]
    },
    {
     "name": "stderr",
     "output_type": "stream",
     "text": [
      "100%|██████████| 4/4 [00:20<00:00,  5.12s/it]\n"
     ]
    },
    {
     "name": "stdout",
     "output_type": "stream",
     "text": [
      "Train loss: 1.5804792857345413 Train accuracy 0.3788032459971659\n"
     ]
    },
    {
     "name": "stderr",
     "output_type": "stream",
     "text": [
      "100%|██████████| 2/2 [00:04<00:00,  2.21s/it]\n"
     ]
    },
    {
     "name": "stdout",
     "output_type": "stream",
     "text": [
      "Valid loss: 6.941240881295765 Valid accuracy 0.2518831364372197\n",
      "Accuracy didn't improve from: 0.2749020146096454\n",
      "Epoch: 92/100\n"
     ]
    },
    {
     "name": "stderr",
     "output_type": "stream",
     "text": [
      "100%|██████████| 4/4 [00:20<00:00,  5.12s/it]\n"
     ]
    },
    {
     "name": "stdout",
     "output_type": "stream",
     "text": [
      "Train loss: 1.6302906336153256 Train accuracy 0.3732251493150697\n"
     ]
    },
    {
     "name": "stderr",
     "output_type": "stream",
     "text": [
      "100%|██████████| 4/4 [00:12<00:00,  3.02s/it]\n"
     ]
    },
    {
     "name": "stdout",
     "output_type": "stream",
     "text": [
      "Train loss: 1.3094659953871195 Train accuracy 0.3914807302712956\n"
     ]
    },
    {
     "name": "stderr",
     "output_type": "stream",
     "text": [
      "100%|██████████| 2/2 [00:04<00:00,  2.19s/it]\n"
     ]
    },
    {
     "name": "stdout",
     "output_type": "stream",
     "text": [
      "Valid loss: 6.994157685953028 Valid accuracy 0.2495166718521539\n",
      "Accuracy didn't improve from: 0.2749020146096454\n",
      "Epoch: 94/100\n"
     ]
    },
    {
     "name": "stderr",
     "output_type": "stream",
     "text": [
      "100%|██████████| 4/4 [00:12<00:00,  3.03s/it]\n"
     ]
    },
    {
     "name": "stdout",
     "output_type": "stream",
     "text": [
      "Train loss: 3.6649517460780987 Train accuracy 0.36156186587451133\n"
     ]
    },
    {
     "name": "stderr",
     "output_type": "stream",
     "text": [
      "100%|██████████| 2/2 [00:04<00:00,  2.19s/it]\n"
     ]
    },
    {
     "name": "stdout",
     "output_type": "stream",
     "text": [
      "Valid loss: 7.041379313258564 Valid accuracy 0.24504917849074392\n",
      "Accuracy didn't improve from: 0.2749020146096454\n",
      "Epoch: 95/100\n"
     ]
    },
    {
     "name": "stderr",
     "output_type": "stream",
     "text": [
      "100%|██████████| 4/4 [00:20<00:00,  5.12s/it]\n"
     ]
    },
    {
     "name": "stdout",
     "output_type": "stream",
     "text": [
      "Train loss: 3.536210600505857 Train accuracy 0.35065922595779686\n"
     ]
    },
    {
     "name": "stderr",
     "output_type": "stream",
     "text": [
      "100%|██████████| 2/2 [00:04<00:00,  2.24s/it]\n"
     ]
    },
    {
     "name": "stdout",
     "output_type": "stream",
     "text": [
      "Valid loss: 7.119472508921342 Valid accuracy 0.24538724453133695\n",
      "Accuracy didn't improve from: 0.2749020146096454\n",
      "Epoch: 96/100\n"
     ]
    },
    {
     "name": "stderr",
     "output_type": "stream",
     "text": [
      "100%|██████████| 4/4 [00:20<00:00,  5.12s/it]\n"
     ]
    },
    {
     "name": "stdout",
     "output_type": "stream",
     "text": [
      "Train loss: 19.44413044040694 Train accuracy 0.25000000071218786\n"
     ]
    },
    {
     "name": "stderr",
     "output_type": "stream",
     "text": [
      "100%|██████████| 2/2 [00:04<00:00,  2.19s/it]\n"
     ]
    },
    {
     "name": "stdout",
     "output_type": "stream",
     "text": [
      "Valid loss: 6.857976123690605 Valid accuracy 0.19883974630604773\n",
      "Accuracy didn't improve from: 0.2749020146096454\n",
      "Epoch: 97/100\n"
     ]
    },
    {
     "name": "stderr",
     "output_type": "stream",
     "text": [
      "100%|██████████| 4/4 [00:20<00:00,  5.12s/it]\n"
     ]
    },
    {
     "name": "stdout",
     "output_type": "stream",
     "text": [
      "Train loss: 19.988505061934976 Train accuracy 0.3253042593269664\n"
     ]
    },
    {
     "name": "stderr",
     "output_type": "stream",
     "text": [
      "100%|██████████| 2/2 [00:05<00:00,  2.55s/it]\n"
     ]
    },
    {
     "name": "stdout",
     "output_type": "stream",
     "text": [
      "Valid loss: 6.870845468605266 Valid accuracy 0.20164992079577027\n",
      "Accuracy didn't improve from: 0.2749020146096454\n",
      "Epoch: 98/100\n"
     ]
    },
    {
     "name": "stderr",
     "output_type": "stream",
     "text": [
      "100%|██████████| 4/4 [00:12<00:00,  3.01s/it]\n"
     ]
    },
    {
     "name": "stdout",
     "output_type": "stream",
     "text": [
      "Train loss: 6.158232261152828 Train accuracy 0.34229209430187063\n"
     ]
    },
    {
     "name": "stderr",
     "output_type": "stream",
     "text": [
      "100%|██████████| 2/2 [00:05<00:00,  2.56s/it]\n"
     ]
    },
    {
     "name": "stdout",
     "output_type": "stream",
     "text": [
      "Valid loss: 7.486316229490673 Valid accuracy 0.2224766521112007\n",
      "Accuracy didn't improve from: 0.2749020146096454\n",
      "Epoch: 99/100\n"
     ]
    },
    {
     "name": "stderr",
     "output_type": "stream",
     "text": [
      "100%|██████████| 4/4 [00:20<00:00,  5.12s/it]\n"
     ]
    },
    {
     "name": "stdout",
     "output_type": "stream",
     "text": [
      "Train loss: 3.292596284080954 Train accuracy 0.3788032472571906\n"
     ]
    },
    {
     "name": "stderr",
     "output_type": "stream",
     "text": [
      "100%|██████████| 2/2 [00:04<00:00,  2.25s/it]\n"
     ]
    },
    {
     "name": "stdout",
     "output_type": "stream",
     "text": [
      "Valid loss: 7.359088657533421 Valid accuracy 0.26054476541193095\n",
      "Accuracy didn't improve from: 0.2749020146096454\n",
      "Epoch: 100/100\n"
     ]
    },
    {
     "name": "stderr",
     "output_type": "stream",
     "text": [
      "100%|██████████| 4/4 [00:11<00:00,  3.00s/it]\n"
     ]
    },
    {
     "name": "stdout",
     "output_type": "stream",
     "text": [
      "Train loss: 2.3415065978598943 Train accuracy 0.3732251528486171\n"
     ]
    },
    {
     "name": "stderr",
     "output_type": "stream",
     "text": [
      "100%|██████████| 2/2 [00:04<00:00,  2.16s/it]"
     ]
    },
    {
     "name": "stdout",
     "output_type": "stream",
     "text": [
      "Valid loss: 7.475176357171115 Valid accuracy 0.25141037124044757\n",
      "Accuracy didn't improve from: 0.2749020146096454\n"
     ]
    },
    {
     "name": "stderr",
     "output_type": "stream",
     "text": [
      "\n"
     ]
    }
   ],
   "source": [
    "# clear the session to release all previous states generated by Keras\n",
    "tf.keras.backend.clear_session()\n",
    "# instantiate and compile the model inside the strategy scope defined previous\n",
    "with strategy.scope():\n",
    "  model = encoder_decoder_model()\n",
    "  # use Sparse Categorical Cross-entropy as a loss function as labels are not one-hot encoded\n",
    "  # use AdamW optimizer initially with a weight decay of 0.0\n",
    "  # use the Sparse Categorical Accuracy metric to monitor and save the best model weights\n",
    "  model.compile(loss=tf.keras.losses.SparseCategoricalCrossentropy(from_logits=False),\n",
    "                metrics=tf.keras.metrics.SparseCategoricalAccuracy(),\n",
    "                optimizer=tfa.optimizers.AdamW(learning_rate=config.LEARNING_RATE, weight_decay=0.0))\n",
    "\n",
    "# initialize the best accuracy at - infinity\n",
    "best_result = -np.inf\n",
    "\n",
    "# for each epoch iterate over the whole training and validation sets\n",
    "for epoch in range(config.EPOCHS):\n",
    "  print(f'Epoch: {epoch+1}/{config.EPOCHS}')\n",
    "  # iterate over the training dataset\n",
    "  for batch in tqdm(train_ds, total=len(train_ds)):\n",
    "    enc_inputs, dec_inputs, labels = batch\n",
    "    # create a variable for the number of examples in the current batch\n",
    "    num_examples = len(enc_inputs)\n",
    "    \n",
    "    # initialize losses and accuracies list\n",
    "    losses = []\n",
    "    accs = []\n",
    "    # sequencially predict the label (actual previous tokens as input)\n",
    "    for i in range(config.MAXLEN):\n",
    "      # extract the current mask from the attention_masks list\n",
    "      # broadcast the mask to the shape of (num_examples, num_heads(8), max_len(17), max_len(17))\n",
    "      current_att_mask = tf.broadcast_to(tf.constant(attention_masks[i]), (num_examples, config.NUM_HEADS, config.MAXLEN, config.MAXLEN))\n",
    "      # train on each batch and pass the class weights\n",
    "      train_results = model.train_on_batch(x=(enc_inputs, dec_inputs, current_att_mask), y=labels[:, -(i+1)], \n",
    "                           class_weight=auto_weight_dict, reset_metrics=True, return_dict=True)\n",
    "      # append the loss value\n",
    "      losses.append(train_results['loss'])\n",
    "      # append the accuracy value\n",
    "      accs.append(train_results['sparse_categorical_accuracy'])\n",
    "    \n",
    "  print('Train loss:', np.mean(losses), 'Train accuracy', np.mean(accs))\n",
    "  \n",
    "  # initialize losses and accuracies list\n",
    "  losses = []\n",
    "  accs = []\n",
    "  # iterate over the validation dataset\n",
    "  for batch in tqdm(valid_ds, total=len(valid_ds)):\n",
    "    enc_inputs, dec_inputs, labels = batch\n",
    "    # create a variable for the number of examples in the current batch\n",
    "    num_examples = len(enc_inputs)\n",
    "    # create a NumPy array to save the predictions of the previous tokens\n",
    "    # it is initialized with ones where the model will see 1 in the first \n",
    "    # pass which represents the special starting \"s\" token\n",
    "    full_sequence_preds = np.ones((num_examples, config.MAXLEN))\n",
    "    # sequencially predict the label (predicted previous tokens as input (Auto-Regression))\n",
    "    for i in range(config.MAXLEN):\n",
    "      # extract the current mask from the attention_masks list\n",
    "      # broadcast the mask to the shape of (num_examples, num_heads(8), max_len(17), max_len(17))\n",
    "      current_att_mask = tf.broadcast_to(tf.constant(attention_masks[i]), (num_examples, config.NUM_HEADS, config.MAXLEN, config.MAXLEN))\n",
    "      # evaluate on each batch\n",
    "      valid_results = model.test_on_batch(x=(enc_inputs, full_sequence_preds, current_att_mask), y=labels[:, -(i+1)], reset_metrics=True, return_dict=True)\n",
    "      # predict the tokens of the current position\n",
    "      preds = model.predict_on_batch(x=(enc_inputs, full_sequence_preds, current_att_mask))\n",
    "      # take the argmax value which represents the index of the highest prob character\n",
    "      current_preds = np.argmax(preds, axis=-1)\n",
    "      # populate the current position with the predicted values which will be used in the next \n",
    "      # pass as a decoder input\n",
    "      full_sequence_preds[:, -(i+1)] = current_preds # populate the column of the current timestep with the predicitons\n",
    "        \n",
    "      # append the loss value\n",
    "      losses.append(valid_results['loss'])\n",
    "      # append the accuracy value\n",
    "      accs.append(valid_results['sparse_categorical_accuracy'])\n",
    "  print('Valid loss:', np.mean(losses), 'Valid accuracy', np.mean(accs))\n",
    "  mean_acc = np.mean(accs)\n",
    "  # save the weights of the best model based on the validation accuracy\n",
    "  if mean_acc > best_result:\n",
    "    best_result = mean_acc\n",
    "    print('Saving best model wieghts,', 'Accuracy:', mean_acc)\n",
    "    model.save_weights('best_full_model_weights.h5')\n",
    "  else:\n",
    "    print(\"Accuracy didn't improve from:\", best_result)"
   ]
  },
  {
   "cell_type": "code",
   "execution_count": null,
   "metadata": {
    "colab": {
     "base_uri": "https://localhost:8080/"
    },
    "id": "6Oy7Feo26nCh",
    "outputId": "b2c272b5-540d-4167-c2b7-48d6075e06b5"
   },
   "outputs": [
    {
     "name": "stdout",
     "output_type": "stream",
     "text": [
      "Epoch: 1/100\n"
     ]
    },
    {
     "name": "stderr",
     "output_type": "stream",
     "text": [
      "100%|██████████| 4/4 [00:20<00:00,  5.12s/it]\n"
     ]
    },
    {
     "name": "stdout",
     "output_type": "stream",
     "text": [
      "Train loss: 137.49740825681124 Train accuracy 0.010649087208816233 Train top 5 accuracy 0.09077078991514795\n"
     ]
    },
    {
     "name": "stderr",
     "output_type": "stream",
     "text": [
      "100%|██████████| 2/2 [00:10<00:00,  5.11s/it]\n"
     ]
    },
    {
     "name": "stdout",
     "output_type": "stream",
     "text": [
      "Valid loss: 5.02009306234472 Valid accuracy 0.038564644863500315 Valid top 5 accuracy 0.16856696993550835\n",
      "Saving best model wieghts, Accuracy: 0.038564644863500315\n",
      "Epoch: 2/100\n"
     ]
    },
    {
     "name": "stderr",
     "output_type": "stream",
     "text": [
      "100%|██████████| 4/4 [00:10<00:00,  2.56s/it]\n"
     ]
    },
    {
     "name": "stdout",
     "output_type": "stream",
     "text": [
      "Train loss: 115.26943562574246 Train accuracy 0.056288033449912775 Train top 5 accuracy 0.187626773628461\n"
     ]
    },
    {
     "name": "stderr",
     "output_type": "stream",
     "text": [
      "100%|██████████| 2/2 [00:02<00:00,  1.27s/it]\n"
     ]
    },
    {
     "name": "stdout",
     "output_type": "stream",
     "text": [
      "Valid loss: 5.571088959189022 Valid accuracy 0.024732980658026302 Valid top 5 accuracy 0.10238785713034518\n",
      "Accuracy didn't improve from: 0.038564644863500315\n",
      "Epoch: 3/100\n"
     ]
    },
    {
     "name": "stderr",
     "output_type": "stream",
     "text": [
      "100%|██████████| 4/4 [00:05<00:00,  1.39s/it]\n"
     ]
    },
    {
     "name": "stdout",
     "output_type": "stream",
     "text": [
      "Train loss: 127.46692996866562 Train accuracy 0.04513184498885975 Train top 5 accuracy 0.16708925152745316\n"
     ]
    },
    {
     "name": "stderr",
     "output_type": "stream",
     "text": [
      "100%|██████████| 2/2 [00:02<00:00,  1.27s/it]\n"
     ]
    },
    {
     "name": "stdout",
     "output_type": "stream",
     "text": [
      "Valid loss: 6.411651968955994 Valid accuracy 0.011288243838969399 Valid top 5 accuracy 0.12460250714245964\n",
      "Accuracy didn't improve from: 0.038564644863500315\n",
      "Epoch: 4/100\n"
     ]
    },
    {
     "name": "stderr",
     "output_type": "stream",
     "text": [
      "100%|██████████| 4/4 [00:05<00:00,  1.39s/it]\n"
     ]
    },
    {
     "name": "stdout",
     "output_type": "stream",
     "text": [
      "Train loss: 125.17163347146091 Train accuracy 0.05958417814005824 Train top 5 accuracy 0.18509127796791933\n"
     ]
    },
    {
     "name": "stderr",
     "output_type": "stream",
     "text": [
      "100%|██████████| 2/2 [00:02<00:00,  1.27s/it]\n"
     ]
    },
    {
     "name": "stdout",
     "output_type": "stream",
     "text": [
      "Valid loss: 6.451581625377431 Valid accuracy 0.045221644508488035 Valid top 5 accuracy 0.13434832532177954\n",
      "Saving best model wieghts, Accuracy: 0.045221644508488035\n",
      "Epoch: 5/100\n"
     ]
    },
    {
     "name": "stderr",
     "output_type": "stream",
     "text": [
      "100%|██████████| 4/4 [00:10<00:00,  2.56s/it]\n"
     ]
    },
    {
     "name": "stdout",
     "output_type": "stream",
     "text": [
      "Train loss: 107.76297615030232 Train accuracy 0.1125760650371804 Train top 5 accuracy 0.23123731891460278\n"
     ]
    },
    {
     "name": "stderr",
     "output_type": "stream",
     "text": [
      "100%|██████████| 2/2 [00:02<00:00,  1.28s/it]\n"
     ]
    },
    {
     "name": "stdout",
     "output_type": "stream",
     "text": [
      "Valid loss: 6.31594449632308 Valid accuracy 0.04918996167971807 Valid top 5 accuracy 0.109858329024385\n",
      "Saving best model wieghts, Accuracy: 0.04918996167971807\n",
      "Epoch: 6/100\n"
     ]
    },
    {
     "name": "stderr",
     "output_type": "stream",
     "text": [
      "100%|██████████| 4/4 [00:05<00:00,  1.43s/it]\n"
     ]
    },
    {
     "name": "stdout",
     "output_type": "stream",
     "text": [
      "Train loss: 103.56939998532043 Train accuracy 0.06262677614851032 Train top 5 accuracy 0.19726166471510248\n"
     ]
    },
    {
     "name": "stderr",
     "output_type": "stream",
     "text": [
      "100%|██████████| 2/2 [00:02<00:00,  1.27s/it]\n"
     ]
    },
    {
     "name": "stdout",
     "output_type": "stream",
     "text": [
      "Valid loss: 6.262837220640743 Valid accuracy 0.05590242552844917 Valid top 5 accuracy 0.1816960879985024\n",
      "Saving best model wieghts, Accuracy: 0.05590242552844917\n",
      "Epoch: 7/100\n"
     ]
    },
    {
     "name": "stderr",
     "output_type": "stream",
     "text": [
      "100%|██████████| 4/4 [00:10<00:00,  2.56s/it]\n"
     ]
    },
    {
     "name": "stdout",
     "output_type": "stream",
     "text": [
      "Train loss: 76.48828495469164 Train accuracy 0.09634888454285614 Train top 5 accuracy 0.2160243413082379\n"
     ]
    },
    {
     "name": "stderr",
     "output_type": "stream",
     "text": [
      "100%|██████████| 2/2 [00:02<00:00,  1.07s/it]\n"
     ]
    },
    {
     "name": "stdout",
     "output_type": "stream",
     "text": [
      "Valid loss: 5.904667026856366 Valid accuracy 0.09097812171368037 Valid top 5 accuracy 0.23171008739839583\n",
      "Saving best model wieghts, Accuracy: 0.09097812171368037\n",
      "Epoch: 8/100\n"
     ]
    },
    {
     "name": "stderr",
     "output_type": "stream",
     "text": [
      "100%|██████████| 4/4 [00:06<00:00,  1.52s/it]\n"
     ]
    },
    {
     "name": "stdout",
     "output_type": "stream",
     "text": [
      "Train loss: 80.91225210533423 Train accuracy 0.0915314398760743 Train top 5 accuracy 0.22920892590328173\n"
     ]
    },
    {
     "name": "stderr",
     "output_type": "stream",
     "text": [
      "100%|██████████| 2/2 [00:02<00:00,  1.28s/it]\n"
     ]
    },
    {
     "name": "stdout",
     "output_type": "stream",
     "text": [
      "Valid loss: 6.380482070586261 Valid accuracy 0.0870916790821973 Valid top 5 accuracy 0.23283917467822046\n",
      "Accuracy didn't improve from: 0.09097812171368037\n",
      "Epoch: 9/100\n"
     ]
    },
    {
     "name": "stderr",
     "output_type": "stream",
     "text": [
      "100%|██████████| 4/4 [00:05<00:00,  1.42s/it]\n"
     ]
    },
    {
     "name": "stdout",
     "output_type": "stream",
     "text": [
      "Train loss: 54.92074109920684 Train accuracy 0.15770791246391394 Train top 5 accuracy 0.3088235278504298\n"
     ]
    },
    {
     "name": "stderr",
     "output_type": "stream",
     "text": [
      "100%|██████████| 2/2 [00:03<00:00,  1.58s/it]\n"
     ]
    },
    {
     "name": "stdout",
     "output_type": "stream",
     "text": [
      "Valid loss: 5.444342034704545 Valid accuracy 0.13973097273093812 Valid top 5 accuracy 0.298457046642023\n",
      "Saving best model wieghts, Accuracy: 0.13973097273093812\n",
      "Epoch: 10/100\n"
     ]
    },
    {
     "name": "stderr",
     "output_type": "stream",
     "text": [
      "100%|██████████| 4/4 [00:10<00:00,  2.56s/it]\n"
     ]
    },
    {
     "name": "stdout",
     "output_type": "stream",
     "text": [
      "Train loss: 47.8049997827586 Train accuracy 0.17469574259046247 Train top 5 accuracy 0.33012170306242566\n"
     ]
    },
    {
     "name": "stderr",
     "output_type": "stream",
     "text": [
      "100%|██████████| 2/2 [00:02<00:00,  1.07s/it]\n"
     ]
    },
    {
     "name": "stdout",
     "output_type": "stream",
     "text": [
      "Valid loss: 6.464541656129501 Valid accuracy 0.10798707933110349 Valid top 5 accuracy 0.26209511312053485\n",
      "Accuracy didn't improve from: 0.13973097273093812\n",
      "Epoch: 11/100\n"
     ]
    },
    {
     "name": "stderr",
     "output_type": "stream",
     "text": [
      "100%|██████████| 4/4 [00:05<00:00,  1.41s/it]\n"
     ]
    },
    {
     "name": "stdout",
     "output_type": "stream",
     "text": [
      "Train loss: 35.07660713353578 Train accuracy 0.19472616448012345 Train top 5 accuracy 0.36409736095982437\n"
     ]
    },
    {
     "name": "stderr",
     "output_type": "stream",
     "text": [
      "100%|██████████| 2/2 [00:02<00:00,  1.01s/it]\n"
     ]
    },
    {
     "name": "stdout",
     "output_type": "stream",
     "text": [
      "Valid loss: 5.758597545764026 Valid accuracy 0.17309652915334 Valid top 5 accuracy 0.33626368236454096\n",
      "Saving best model wieghts, Accuracy: 0.17309652915334\n",
      "Epoch: 12/100\n"
     ]
    },
    {
     "name": "stderr",
     "output_type": "stream",
     "text": [
      "100%|██████████| 4/4 [00:10<00:00,  2.56s/it]\n"
     ]
    },
    {
     "name": "stdout",
     "output_type": "stream",
     "text": [
      "Train loss: 33.60056934987797 Train accuracy 0.2157707886003396 Train top 5 accuracy 0.36790060827179866\n"
     ]
    },
    {
     "name": "stderr",
     "output_type": "stream",
     "text": [
      "100%|██████████| 2/2 [00:02<00:00,  1.27s/it]\n"
     ]
    },
    {
     "name": "stdout",
     "output_type": "stream",
     "text": [
      "Valid loss: 5.952986247399274 Valid accuracy 0.14883631040506504 Valid top 5 accuracy 0.31564031957703476\n",
      "Accuracy didn't improve from: 0.17309652915334\n",
      "Epoch: 13/100\n"
     ]
    },
    {
     "name": "stderr",
     "output_type": "stream",
     "text": [
      "100%|██████████| 4/4 [00:05<00:00,  1.45s/it]\n"
     ]
    },
    {
     "name": "stdout",
     "output_type": "stream",
     "text": [
      "Train loss: 32.25298536525053 Train accuracy 0.19092291615465107 Train top 5 accuracy 0.33950304113985863\n"
     ]
    },
    {
     "name": "stderr",
     "output_type": "stream",
     "text": [
      "100%|██████████| 2/2 [00:02<00:00,  1.27s/it]\n"
     ]
    },
    {
     "name": "stdout",
     "output_type": "stream",
     "text": [
      "Valid loss: 5.526696525952396 Valid accuracy 0.16326223269981496 Valid top 5 accuracy 0.3309457402895479\n",
      "Accuracy didn't improve from: 0.17309652915334\n",
      "Epoch: 14/100\n"
     ]
    },
    {
     "name": "stderr",
     "output_type": "stream",
     "text": [
      "100%|██████████| 4/4 [00:10<00:00,  2.56s/it]\n"
     ]
    },
    {
     "name": "stdout",
     "output_type": "stream",
     "text": [
      "Train loss: 33.966442581485296 Train accuracy 0.21602434212999308 Train top 5 accuracy 0.3668864110539503\n"
     ]
    },
    {
     "name": "stderr",
     "output_type": "stream",
     "text": [
      "100%|██████████| 2/2 [00:02<00:00,  1.28s/it]\n"
     ]
    },
    {
     "name": "stdout",
     "output_type": "stream",
     "text": [
      "Valid loss: 6.204115327666788 Valid accuracy 0.14653191583998063 Valid top 5 accuracy 0.3062721857910647\n",
      "Accuracy didn't improve from: 0.17309652915334\n",
      "Epoch: 15/100\n"
     ]
    },
    {
     "name": "stderr",
     "output_type": "stream",
     "text": [
      "100%|██████████| 4/4 [00:10<00:00,  2.56s/it]\n"
     ]
    },
    {
     "name": "stdout",
     "output_type": "stream",
     "text": [
      "Train loss: 33.29439844278728 Train accuracy 0.2251521294717403 Train top 5 accuracy 0.35826572285526814\n"
     ]
    },
    {
     "name": "stderr",
     "output_type": "stream",
     "text": [
      "100%|██████████| 2/2 [00:02<00:00,  1.27s/it]\n"
     ]
    },
    {
     "name": "stdout",
     "output_type": "stream",
     "text": [
      "Valid loss: 5.753085481769898 Valid accuracy 0.17516454309225082 Valid top 5 accuracy 0.3374944544013809\n",
      "Saving best model wieghts, Accuracy: 0.17516454309225082\n",
      "Epoch: 16/100\n"
     ]
    },
    {
     "name": "stderr",
     "output_type": "stream",
     "text": [
      "100%|██████████| 4/4 [00:05<00:00,  1.43s/it]\n"
     ]
    },
    {
     "name": "stdout",
     "output_type": "stream",
     "text": [
      "Train loss: 27.002175858792135 Train accuracy 0.2231237285441774 Train top 5 accuracy 0.3765212976209381\n"
     ]
    },
    {
     "name": "stderr",
     "output_type": "stream",
     "text": [
      "100%|██████████| 2/2 [00:02<00:00,  1.27s/it]\n"
     ]
    },
    {
     "name": "stdout",
     "output_type": "stream",
     "text": [
      "Valid loss: 5.966283160097459 Valid accuracy 0.20259545173715143 Valid top 5 accuracy 0.3584162655341275\n",
      "Saving best model wieghts, Accuracy: 0.20259545173715143\n",
      "Epoch: 17/100\n"
     ]
    },
    {
     "name": "stderr",
     "output_type": "stream",
     "text": [
      "100%|██████████| 4/4 [00:10<00:00,  2.56s/it]\n"
     ]
    },
    {
     "name": "stdout",
     "output_type": "stream",
     "text": [
      "Train loss: 34.907870324218976 Train accuracy 0.1769776875974939 Train top 5 accuracy 0.3265720064313534\n"
     ]
    },
    {
     "name": "stderr",
     "output_type": "stream",
     "text": [
      "100%|██████████| 2/2 [00:02<00:00,  1.27s/it]\n"
     ]
    },
    {
     "name": "stdout",
     "output_type": "stream",
     "text": [
      "Valid loss: 5.621833685566397 Valid accuracy 0.15124239421942653 Valid top 5 accuracy 0.3379540100474568\n",
      "Accuracy didn't improve from: 0.20259545173715143\n",
      "Epoch: 18/100\n"
     ]
    },
    {
     "name": "stderr",
     "output_type": "stream",
     "text": [
      "100%|██████████| 4/4 [00:05<00:00,  1.41s/it]\n"
     ]
    },
    {
     "name": "stdout",
     "output_type": "stream",
     "text": [
      "Train loss: 20.99238628674956 Train accuracy 0.25988843648091836 Train top 5 accuracy 0.38818458418416624\n"
     ]
    },
    {
     "name": "stderr",
     "output_type": "stream",
     "text": [
      "100%|██████████| 2/2 [00:02<00:00,  1.02s/it]\n"
     ]
    },
    {
     "name": "stdout",
     "output_type": "stream",
     "text": [
      "Valid loss: 5.714391669806312 Valid accuracy 0.211033900761429 Valid top 5 accuracy 0.33837395424351974\n",
      "Saving best model wieghts, Accuracy: 0.211033900761429\n",
      "Epoch: 19/100\n"
     ]
    },
    {
     "name": "stderr",
     "output_type": "stream",
     "text": [
      "100%|██████████| 4/4 [00:05<00:00,  1.41s/it]\n"
     ]
    },
    {
     "name": "stdout",
     "output_type": "stream",
     "text": [
      "Train loss: 14.748735957285938 Train accuracy 0.28245436285129366 Train top 5 accuracy 0.39148072947693224\n"
     ]
    },
    {
     "name": "stderr",
     "output_type": "stream",
     "text": [
      "100%|██████████| 2/2 [00:02<00:00,  1.27s/it]\n"
     ]
    },
    {
     "name": "stdout",
     "output_type": "stream",
     "text": [
      "Valid loss: 5.3661046624183655 Valid accuracy 0.19506159096079714 Valid top 5 accuracy 0.3465601752566941\n",
      "Accuracy didn't improve from: 0.211033900761429\n",
      "Epoch: 20/100\n"
     ]
    },
    {
     "name": "stderr",
     "output_type": "stream",
     "text": [
      "100%|██████████| 4/4 [00:10<00:00,  2.56s/it]\n"
     ]
    },
    {
     "name": "stdout",
     "output_type": "stream",
     "text": [
      "Train loss: 17.263725925894345 Train accuracy 0.2664807280799484 Train top 5 accuracy 0.39579106968663197\n"
     ]
    },
    {
     "name": "stderr",
     "output_type": "stream",
     "text": [
      "100%|██████████| 2/2 [00:02<00:00,  1.06s/it]\n"
     ]
    },
    {
     "name": "stdout",
     "output_type": "stream",
     "text": [
      "Valid loss: 5.28710496162667 Valid accuracy 0.1899021191193777 Valid top 5 accuracy 0.3367721023147597\n",
      "Accuracy didn't improve from: 0.211033900761429\n",
      "Epoch: 21/100\n"
     ]
    },
    {
     "name": "stderr",
     "output_type": "stream",
     "text": [
      "100%|██████████| 4/4 [00:05<00:00,  1.41s/it]\n"
     ]
    },
    {
     "name": "stdout",
     "output_type": "stream",
     "text": [
      "Train loss: 20.6953405019115 Train accuracy 0.23859026104978778 Train top 5 accuracy 0.3633367177646826\n"
     ]
    },
    {
     "name": "stderr",
     "output_type": "stream",
     "text": [
      "100%|██████████| 2/2 [00:02<00:00,  1.27s/it]\n"
     ]
    },
    {
     "name": "stdout",
     "output_type": "stream",
     "text": [
      "Valid loss: 5.376733730821049 Valid accuracy 0.21362090012168183 Valid top 5 accuracy 0.36455428085344677\n",
      "Saving best model wieghts, Accuracy: 0.21362090012168183\n",
      "Epoch: 22/100\n"
     ]
    },
    {
     "name": "stderr",
     "output_type": "stream",
     "text": [
      "100%|██████████| 4/4 [00:10<00:00,  2.56s/it]\n"
     ]
    },
    {
     "name": "stdout",
     "output_type": "stream",
     "text": [
      "Train loss: 16.688990938312866 Train accuracy 0.2822008131838897 Train top 5 accuracy 0.39072008058428764\n"
     ]
    },
    {
     "name": "stderr",
     "output_type": "stream",
     "text": [
      "100%|██████████| 2/2 [00:02<00:00,  1.27s/it]\n"
     ]
    },
    {
     "name": "stdout",
     "output_type": "stream",
     "text": [
      "Valid loss: 5.37399522171301 Valid accuracy 0.19184864279540145 Valid top 5 accuracy 0.35545554165454474\n",
      "Accuracy didn't improve from: 0.21362090012168183\n",
      "Epoch: 23/100\n"
     ]
    },
    {
     "name": "stderr",
     "output_type": "stream",
     "text": [
      "100%|██████████| 4/4 [00:05<00:00,  1.43s/it]\n"
     ]
    },
    {
     "name": "stdout",
     "output_type": "stream",
     "text": [
      "Train loss: 15.650208034936119 Train accuracy 0.2553245476447046 Train top 5 accuracy 0.3785496933166595\n"
     ]
    },
    {
     "name": "stderr",
     "output_type": "stream",
     "text": [
      "100%|██████████| 2/2 [00:02<00:00,  1.27s/it]\n"
     ]
    },
    {
     "name": "stdout",
     "output_type": "stream",
     "text": [
      "Valid loss: 5.150913675918298 Valid accuracy 0.22015905095373883 Valid top 5 accuracy 0.35693590211517673\n",
      "Saving best model wieghts, Accuracy: 0.22015905095373883\n",
      "Epoch: 24/100\n"
     ]
    },
    {
     "name": "stderr",
     "output_type": "stream",
     "text": [
      "100%|██████████| 4/4 [00:05<00:00,  1.41s/it]\n"
     ]
    },
    {
     "name": "stdout",
     "output_type": "stream",
     "text": [
      "Train loss: 19.01064346686882 Train accuracy 0.3090770810513812 Train top 5 accuracy 0.3932555777239887\n"
     ]
    },
    {
     "name": "stderr",
     "output_type": "stream",
     "text": [
      "100%|██████████| 2/2 [00:02<00:00,  1.02s/it]\n"
     ]
    },
    {
     "name": "stdout",
     "output_type": "stream",
     "text": [
      "Valid loss: 5.657036229091532 Valid accuracy 0.1830615608350319 Valid top 5 accuracy 0.31709426772945065\n",
      "Accuracy didn't improve from: 0.22015905095373883\n",
      "Epoch: 25/100\n"
     ]
    },
    {
     "name": "stderr",
     "output_type": "stream",
     "text": [
      "100%|██████████| 4/4 [00:10<00:00,  2.56s/it]\n"
     ]
    },
    {
     "name": "stdout",
     "output_type": "stream",
     "text": [
      "Train loss: 10.977322731824483 Train accuracy 0.29538539440973716 Train top 5 accuracy 0.38793103301021103\n"
     ]
    },
    {
     "name": "stderr",
     "output_type": "stream",
     "text": [
      "100%|██████████| 2/2 [00:02<00:00,  1.08s/it]\n"
     ]
    },
    {
     "name": "stdout",
     "output_type": "stream",
     "text": [
      "Valid loss: 5.667661633561639 Valid accuracy 0.2322713295545648 Valid top 5 accuracy 0.35863944373148327\n",
      "Saving best model wieghts, Accuracy: 0.2322713295545648\n",
      "Epoch: 26/100\n"
     ]
    },
    {
     "name": "stderr",
     "output_type": "stream",
     "text": [
      "100%|██████████| 4/4 [00:05<00:00,  1.42s/it]\n"
     ]
    },
    {
     "name": "stdout",
     "output_type": "stream",
     "text": [
      "Train loss: 15.855176540858606 Train accuracy 0.25253550100195055 Train top 5 accuracy 0.3633367131354616\n"
     ]
    },
    {
     "name": "stderr",
     "output_type": "stream",
     "text": [
      "100%|██████████| 2/2 [00:02<00:00,  1.04s/it]\n"
     ]
    },
    {
     "name": "stdout",
     "output_type": "stream",
     "text": [
      "Valid loss: 5.700998019646196 Valid accuracy 0.21644032165846405 Valid top 5 accuracy 0.3529411757036167\n",
      "Accuracy didn't improve from: 0.2322713295545648\n",
      "Epoch: 27/100\n"
     ]
    },
    {
     "name": "stderr",
     "output_type": "stream",
     "text": [
      "100%|██████████| 4/4 [00:10<00:00,  2.56s/it]\n"
     ]
    },
    {
     "name": "stdout",
     "output_type": "stream",
     "text": [
      "Train loss: 19.90912652892225 Train accuracy 0.28625760495881825 Train top 5 accuracy 0.38869168102631674\n"
     ]
    },
    {
     "name": "stderr",
     "output_type": "stream",
     "text": [
      "100%|██████████| 2/2 [00:02<00:00,  1.06s/it]\n"
     ]
    },
    {
     "name": "stdout",
     "output_type": "stream",
     "text": [
      "Valid loss: 5.5062870646224304 Valid accuracy 0.2369514353135053 Valid top 5 accuracy 0.36330369827063647\n",
      "Saving best model wieghts, Accuracy: 0.2369514353135053\n",
      "Epoch: 28/100\n"
     ]
    },
    {
     "name": "stderr",
     "output_type": "stream",
     "text": [
      "100%|██████████| 4/4 [00:05<00:00,  1.41s/it]\n"
     ]
    },
    {
     "name": "stdout",
     "output_type": "stream",
     "text": [
      "Train loss: 11.039443888208446 Train accuracy 0.28904664820498405 Train top 5 accuracy 0.3856490827165544\n"
     ]
    },
    {
     "name": "stderr",
     "output_type": "stream",
     "text": [
      "100%|██████████| 2/2 [00:02<00:00,  1.03s/it]\n"
     ]
    },
    {
     "name": "stdout",
     "output_type": "stream",
     "text": [
      "Valid loss: 5.504648753825356 Valid accuracy 0.24471111190231407 Valid top 5 accuracy 0.3662446134668939\n",
      "Saving best model wieghts, Accuracy: 0.24471111190231407\n",
      "Epoch: 29/100\n"
     ]
    },
    {
     "name": "stderr",
     "output_type": "stream",
     "text": [
      "100%|██████████| 4/4 [00:10<00:00,  2.56s/it]\n"
     ]
    },
    {
     "name": "stdout",
     "output_type": "stream",
     "text": [
      "Train loss: 11.910952471634921 Train accuracy 0.2895537537577398 Train top 5 accuracy 0.3889452316250433\n"
     ]
    },
    {
     "name": "stderr",
     "output_type": "stream",
     "text": [
      "100%|██████████| 2/2 [00:02<00:00,  1.28s/it]\n"
     ]
    },
    {
     "name": "stdout",
     "output_type": "stream",
     "text": [
      "Valid loss: 5.727067367995486 Valid accuracy 0.23382696136832237 Valid top 5 accuracy 0.3606744419564219\n",
      "Accuracy didn't improve from: 0.24471111190231407\n",
      "Epoch: 30/100\n"
     ]
    },
    {
     "name": "stderr",
     "output_type": "stream",
     "text": [
      "100%|██████████| 4/4 [00:05<00:00,  1.42s/it]\n"
     ]
    },
    {
     "name": "stdout",
     "output_type": "stream",
     "text": [
      "Train loss: 14.133264240096597 Train accuracy 0.2723123785108328 Train top 5 accuracy 0.38919878066243496\n"
     ]
    },
    {
     "name": "stderr",
     "output_type": "stream",
     "text": [
      "100%|██████████| 2/2 [00:02<00:00,  1.01s/it]\n"
     ]
    },
    {
     "name": "stdout",
     "output_type": "stream",
     "text": [
      "Valid loss: 5.78532072726418 Valid accuracy 0.21073545044397607 Valid top 5 accuracy 0.3567193326923777\n",
      "Accuracy didn't improve from: 0.24471111190231407\n",
      "Epoch: 31/100\n"
     ]
    },
    {
     "name": "stderr",
     "output_type": "stream",
     "text": [
      "100%|██████████| 4/4 [00:05<00:00,  1.42s/it]\n"
     ]
    },
    {
     "name": "stdout",
     "output_type": "stream",
     "text": [
      "Train loss: 10.947904933901395 Train accuracy 0.2865111600224148 Train top 5 accuracy 0.3861561852562077\n"
     ]
    },
    {
     "name": "stderr",
     "output_type": "stream",
     "text": [
      "100%|██████████| 2/2 [00:02<00:00,  1.02s/it]\n"
     ]
    },
    {
     "name": "stdout",
     "output_type": "stream",
     "text": [
      "Valid loss: 5.807255963192267 Valid accuracy 0.24224296420374336 Valid top 5 accuracy 0.3646757726502769\n",
      "Accuracy didn't improve from: 0.24471111190231407\n",
      "Epoch: 32/100\n"
     ]
    },
    {
     "name": "stderr",
     "output_type": "stream",
     "text": [
      "100%|██████████| 4/4 [00:10<00:00,  2.56s/it]\n"
     ]
    },
    {
     "name": "stdout",
     "output_type": "stream",
     "text": [
      "Train loss: 14.551947649787454 Train accuracy 0.28828600911861835 Train top 5 accuracy 0.39553752522367763\n"
     ]
    },
    {
     "name": "stderr",
     "output_type": "stream",
     "text": [
      "100%|██████████| 2/2 [00:02<00:00,  1.27s/it]\n"
     ]
    },
    {
     "name": "stdout",
     "output_type": "stream",
     "text": [
      "Valid loss: 5.7735842816969924 Valid accuracy 0.160259255043724 Valid top 5 accuracy 0.3371497850645991\n",
      "Accuracy didn't improve from: 0.24471111190231407\n",
      "Epoch: 33/100\n"
     ]
    },
    {
     "name": "stderr",
     "output_type": "stream",
     "text": [
      "100%|██████████| 4/4 [00:10<00:00,  2.56s/it]\n"
     ]
    },
    {
     "name": "stdout",
     "output_type": "stream",
     "text": [
      "Train loss: 49.572492480278015 Train accuracy 0.20486815451808713 Train top 5 accuracy 0.36866125631529617\n"
     ]
    },
    {
     "name": "stderr",
     "output_type": "stream",
     "text": [
      "100%|██████████| 2/2 [00:02<00:00,  1.28s/it]\n"
     ]
    },
    {
     "name": "stdout",
     "output_type": "stream",
     "text": [
      "Valid loss: 5.320364061523886 Valid accuracy 0.1831236281158293 Valid top 5 accuracy 0.31985822319984436\n",
      "Accuracy didn't improve from: 0.24471111190231407\n",
      "Epoch: 34/100\n"
     ]
    },
    {
     "name": "stderr",
     "output_type": "stream",
     "text": [
      "100%|██████████| 4/4 [00:05<00:00,  1.39s/it]\n"
     ]
    },
    {
     "name": "stdout",
     "output_type": "stream",
     "text": [
      "Train loss: 14.757874577360994 Train accuracy 0.30045638649779205 Train top 5 accuracy 0.39756592119331746\n"
     ]
    },
    {
     "name": "stderr",
     "output_type": "stream",
     "text": [
      "100%|██████████| 2/2 [00:02<00:00,  1.01s/it]\n"
     ]
    },
    {
     "name": "stdout",
     "output_type": "stream",
     "text": [
      "Valid loss: 5.990700007361524 Valid accuracy 0.21435249772141962 Valid top 5 accuracy 0.36398643540108905\n",
      "Accuracy didn't improve from: 0.24471111190231407\n",
      "Epoch: 35/100\n"
     ]
    },
    {
     "name": "stderr",
     "output_type": "stream",
     "text": [
      "100%|██████████| 4/4 [00:10<00:00,  2.56s/it]\n"
     ]
    },
    {
     "name": "stdout",
     "output_type": "stream",
     "text": [
      "Train loss: 10.356357733992969 Train accuracy 0.311105476500576 Train top 5 accuracy 0.3869168368880363\n"
     ]
    },
    {
     "name": "stderr",
     "output_type": "stream",
     "text": [
      "100%|██████████| 2/2 [00:02<00:00,  1.07s/it]\n"
     ]
    },
    {
     "name": "stdout",
     "output_type": "stream",
     "text": [
      "Valid loss: 6.00351507172865 Valid accuracy 0.21511446827036493 Valid top 5 accuracy 0.3609504408257849\n",
      "Accuracy didn't improve from: 0.24471111190231407\n",
      "Epoch: 36/100\n"
     ]
    },
    {
     "name": "stderr",
     "output_type": "stream",
     "text": [
      "100%|██████████| 4/4 [00:05<00:00,  1.42s/it]\n"
     ]
    },
    {
     "name": "stdout",
     "output_type": "stream",
     "text": [
      "Train loss: 7.537250754587791 Train accuracy 0.3417849865577677 Train top 5 accuracy 0.395030422574457\n"
     ]
    },
    {
     "name": "stderr",
     "output_type": "stream",
     "text": [
      "100%|██████████| 2/2 [00:02<00:00,  1.27s/it]\n"
     ]
    },
    {
     "name": "stdout",
     "output_type": "stream",
     "text": [
      "Valid loss: 5.874758951804218 Valid accuracy 0.2258441089926397 Valid top 5 accuracy 0.3633301106884199\n",
      "Accuracy didn't improve from: 0.24471111190231407\n",
      "Epoch: 37/100\n"
     ]
    },
    {
     "name": "stderr",
     "output_type": "stream",
     "text": [
      "100%|██████████| 4/4 [00:10<00:00,  2.56s/it]\n"
     ]
    },
    {
     "name": "stdout",
     "output_type": "stream",
     "text": [
      "Train loss: 7.989607069422217 Train accuracy 0.3341785003978978 Train top 5 accuracy 0.3932555770939764\n"
     ]
    },
    {
     "name": "stderr",
     "output_type": "stream",
     "text": [
      "100%|██████████| 2/2 [00:02<00:00,  1.09s/it]\n"
     ]
    },
    {
     "name": "stdout",
     "output_type": "stream",
     "text": [
      "Valid loss: 6.047419719836292 Valid accuracy 0.23343607476528952 Valid top 5 accuracy 0.36523041413987384\n",
      "Accuracy didn't improve from: 0.24471111190231407\n",
      "Epoch: 38/100\n"
     ]
    },
    {
     "name": "stderr",
     "output_type": "stream",
     "text": [
      "100%|██████████| 4/4 [00:10<00:00,  2.56s/it]\n"
     ]
    },
    {
     "name": "stdout",
     "output_type": "stream",
     "text": [
      "Train loss: 7.216937677825198 Train accuracy 0.33138945296078043 Train top 5 accuracy 0.39629817663637157\n"
     ]
    },
    {
     "name": "stderr",
     "output_type": "stream",
     "text": [
      "100%|██████████| 2/2 [00:02<00:00,  1.27s/it]\n"
     ]
    },
    {
     "name": "stdout",
     "output_type": "stream",
     "text": [
      "Valid loss: 6.034473757533466 Valid accuracy 0.2387500530218377 Valid top 5 accuracy 0.3631954117513755\n",
      "Accuracy didn't improve from: 0.24471111190231407\n",
      "Epoch: 39/100\n"
     ]
    },
    {
     "name": "stderr",
     "output_type": "stream",
     "text": [
      "100%|██████████| 4/4 [00:10<00:00,  2.56s/it]\n"
     ]
    },
    {
     "name": "stdout",
     "output_type": "stream",
     "text": [
      "Train loss: 8.915987210238681 Train accuracy 0.3194726168671075 Train top 5 accuracy 0.4003549698630677\n"
     ]
    },
    {
     "name": "stderr",
     "output_type": "stream",
     "text": [
      "100%|██████████| 2/2 [00:02<00:00,  1.07s/it]\n"
     ]
    },
    {
     "name": "stdout",
     "output_type": "stream",
     "text": [
      "Valid loss: 5.937210952534395 Valid accuracy 0.21375823908430688 Valid top 5 accuracy 0.3502432485932813\n",
      "Accuracy didn't improve from: 0.24471111190231407\n",
      "Epoch: 40/100\n"
     ]
    },
    {
     "name": "stderr",
     "output_type": "stream",
     "text": [
      "100%|██████████| 4/4 [00:05<00:00,  1.41s/it]\n"
     ]
    },
    {
     "name": "stdout",
     "output_type": "stream",
     "text": [
      "Train loss: 8.156513722503886 Train accuracy 0.32276876451557174 Train top 5 accuracy 0.3884381336872192\n"
     ]
    },
    {
     "name": "stderr",
     "output_type": "stream",
     "text": [
      "100%|██████████| 2/2 [00:02<00:00,  1.01s/it]\n"
     ]
    },
    {
     "name": "stdout",
     "output_type": "stream",
     "text": [
      "Valid loss: 6.484383407761069 Valid accuracy 0.24028984008028226 Valid top 5 accuracy 0.3608025378164123\n",
      "Accuracy didn't improve from: 0.24471111190231407\n",
      "Epoch: 41/100\n"
     ]
    },
    {
     "name": "stderr",
     "output_type": "stream",
     "text": [
      "100%|██████████| 4/4 [00:08<00:00,  2.07s/it]\n"
     ]
    },
    {
     "name": "stdout",
     "output_type": "stream",
     "text": [
      "Train loss: 6.723360328113332 Train accuracy 0.3308823532698786 Train top 5 accuracy 0.3894523327403209\n"
     ]
    },
    {
     "name": "stderr",
     "output_type": "stream",
     "text": [
      "100%|██████████| 2/2 [00:05<00:00,  2.56s/it]\n"
     ]
    },
    {
     "name": "stdout",
     "output_type": "stream",
     "text": [
      "Valid loss: 6.326612909927087 Valid accuracy 0.24275138294872114 Valid top 5 accuracy 0.3624175953514436\n",
      "Accuracy didn't improve from: 0.24471111190231407\n",
      "Epoch: 42/100\n"
     ]
    },
    {
     "name": "stderr",
     "output_type": "stream",
     "text": [
      "100%|██████████| 4/4 [00:10<00:00,  2.56s/it]\n"
     ]
    },
    {
     "name": "stdout",
     "output_type": "stream",
     "text": [
      "Train loss: 6.943451451904633 Train accuracy 0.3356998004567097 Train top 5 accuracy 0.3978194749694975\n"
     ]
    },
    {
     "name": "stderr",
     "output_type": "stream",
     "text": [
      "100%|██████████| 2/2 [00:02<00:00,  1.27s/it]\n"
     ]
    },
    {
     "name": "stdout",
     "output_type": "stream",
     "text": [
      "Valid loss: 6.220578684526331 Valid accuracy 0.2435463671298588 Valid top 5 accuracy 0.3644459944437532\n",
      "Accuracy didn't improve from: 0.24471111190231407\n",
      "Epoch: 43/100\n"
     ]
    },
    {
     "name": "stderr",
     "output_type": "stream",
     "text": [
      "100%|██████████| 4/4 [00:05<00:00,  1.42s/it]\n"
     ]
    },
    {
     "name": "stdout",
     "output_type": "stream",
     "text": [
      "Train loss: 9.679168513592552 Train accuracy 0.3144016237107708 Train top 5 accuracy 0.39350913084276457\n"
     ]
    },
    {
     "name": "stderr",
     "output_type": "stream",
     "text": [
      "100%|██████████| 2/2 [00:02<00:00,  1.27s/it]\n"
     ]
    },
    {
     "name": "stdout",
     "output_type": "stream",
     "text": [
      "Valid loss: 6.208358885610805 Valid accuracy 0.24782633869086995 Valid top 5 accuracy 0.36775798788842035\n",
      "Saving best model wieghts, Accuracy: 0.24782633869086995\n",
      "Epoch: 44/100\n"
     ]
    },
    {
     "name": "stderr",
     "output_type": "stream",
     "text": [
      "100%|██████████| 4/4 [00:05<00:00,  1.42s/it]\n"
     ]
    },
    {
     "name": "stdout",
     "output_type": "stream",
     "text": [
      "Train loss: 6.829204085995169 Train accuracy 0.33544624747489304 Train top 5 accuracy 0.3942697766401312\n"
     ]
    },
    {
     "name": "stderr",
     "output_type": "stream",
     "text": [
      "100%|██████████| 2/2 [00:02<00:00,  1.04s/it]\n"
     ]
    },
    {
     "name": "stdout",
     "output_type": "stream",
     "text": [
      "Valid loss: 5.796596763765111 Valid accuracy 0.23601911162190578 Valid top 5 accuracy 0.3508731628603795\n",
      "Accuracy didn't improve from: 0.24782633869086995\n",
      "Epoch: 45/100\n"
     ]
    },
    {
     "name": "stderr",
     "output_type": "stream",
     "text": [
      "100%|██████████| 4/4 [00:05<00:00,  1.44s/it]\n"
     ]
    },
    {
     "name": "stdout",
     "output_type": "stream",
     "text": [
      "Train loss: 9.610905226539163 Train accuracy 0.3075557843891575 Train top 5 accuracy 0.3871703827753663\n"
     ]
    },
    {
     "name": "stderr",
     "output_type": "stream",
     "text": [
      "100%|██████████| 2/2 [00:02<00:00,  1.27s/it]\n"
     ]
    },
    {
     "name": "stdout",
     "output_type": "stream",
     "text": [
      "Valid loss: 6.10847515306052 Valid accuracy 0.18656371270909028 Valid top 5 accuracy 0.32701704037540097\n",
      "Accuracy didn't improve from: 0.24782633869086995\n",
      "Epoch: 46/100\n"
     ]
    },
    {
     "name": "stderr",
     "output_type": "stream",
     "text": [
      "100%|██████████| 4/4 [00:05<00:00,  1.42s/it]\n"
     ]
    },
    {
     "name": "stdout",
     "output_type": "stream",
     "text": [
      "Train loss: 6.003748441881993 Train accuracy 0.3435598394340452 Train top 5 accuracy 0.3960446230519344\n"
     ]
    },
    {
     "name": "stderr",
     "output_type": "stream",
     "text": [
      "100%|██████████| 2/2 [00:02<00:00,  1.27s/it]\n"
     ]
    },
    {
     "name": "stdout",
     "output_type": "stream",
     "text": [
      "Valid loss: 6.190249534214244 Valid accuracy 0.22811549145947485 Valid top 5 accuracy 0.36218121516353946\n",
      "Accuracy didn't improve from: 0.24782633869086995\n",
      "Epoch: 47/100\n"
     ]
    },
    {
     "name": "stderr",
     "output_type": "stream",
     "text": [
      "100%|██████████| 4/4 [00:10<00:00,  2.56s/it]\n"
     ]
    },
    {
     "name": "stdout",
     "output_type": "stream",
     "text": [
      "Train loss: 9.832502754295573 Train accuracy 0.3326572025852168 Train top 5 accuracy 0.3980730216785827\n"
     ]
    },
    {
     "name": "stderr",
     "output_type": "stream",
     "text": [
      "100%|██████████| 2/2 [00:02<00:00,  1.27s/it]\n"
     ]
    },
    {
     "name": "stdout",
     "output_type": "stream",
     "text": [
      "Valid loss: 6.261989468160798 Valid accuracy 0.20639605535303845 Valid top 5 accuracy 0.35702438181375756\n",
      "Accuracy didn't improve from: 0.24782633869086995\n",
      "Epoch: 48/100\n"
     ]
    },
    {
     "name": "stderr",
     "output_type": "stream",
     "text": [
      "100%|██████████| 4/4 [00:10<00:00,  2.56s/it]\n"
     ]
    },
    {
     "name": "stdout",
     "output_type": "stream",
     "text": [
      "Train loss: 6.382452883702867 Train accuracy 0.33519269621876235 Train top 5 accuracy 0.38438133700915117\n"
     ]
    },
    {
     "name": "stderr",
     "output_type": "stream",
     "text": [
      "100%|██████████| 2/2 [00:02<00:00,  1.27s/it]\n"
     ]
    },
    {
     "name": "stdout",
     "output_type": "stream",
     "text": [
      "Valid loss: 6.516298931311159 Valid accuracy 0.22676322817364158 Valid top 5 accuracy 0.3623779795187361\n",
      "Accuracy didn't improve from: 0.24782633869086995\n",
      "Epoch: 49/100\n"
     ]
    },
    {
     "name": "stderr",
     "output_type": "stream",
     "text": [
      "100%|██████████| 4/4 [00:10<00:00,  2.56s/it]\n"
     ]
    },
    {
     "name": "stdout",
     "output_type": "stream",
     "text": [
      "Train loss: 5.031722617499969 Train accuracy 0.35801216899691257 Train top 5 accuracy 0.39908722286824794\n"
     ]
    },
    {
     "name": "stderr",
     "output_type": "stream",
     "text": [
      "100%|██████████| 2/2 [00:02<00:00,  1.06s/it]\n"
     ]
    },
    {
     "name": "stdout",
     "output_type": "stream",
     "text": [
      "Valid loss: 6.526570361326723 Valid accuracy 0.24648992169429274 Valid top 5 accuracy 0.3673538903103155\n",
      "Accuracy didn't improve from: 0.24782633869086995\n",
      "Epoch: 50/100\n"
     ]
    },
    {
     "name": "stderr",
     "output_type": "stream",
     "text": [
      "100%|██████████| 4/4 [00:10<00:00,  2.56s/it]\n"
     ]
    },
    {
     "name": "stdout",
     "output_type": "stream",
     "text": [
      "Train loss: 5.026958081213867 Train accuracy 0.34989858380354505 Train top 5 accuracy 0.3914807298056343\n"
     ]
    },
    {
     "name": "stderr",
     "output_type": "stream",
     "text": [
      "100%|██████████| 2/2 [00:02<00:00,  1.27s/it]\n"
     ]
    },
    {
     "name": "stdout",
     "output_type": "stream",
     "text": [
      "Valid loss: 6.486973087577259 Valid accuracy 0.23209041039295056 Valid top 5 accuracy 0.3590923975057462\n",
      "Accuracy didn't improve from: 0.24782633869086995\n",
      "Epoch: 51/100\n"
     ]
    },
    {
     "name": "stderr",
     "output_type": "stream",
     "text": [
      "100%|██████████| 4/4 [00:10<00:00,  2.56s/it]\n"
     ]
    },
    {
     "name": "stdout",
     "output_type": "stream",
     "text": [
      "Train loss: 9.791890866616193 Train accuracy 0.34634888747378306 Train top 5 accuracy 0.3937626759905149\n"
     ]
    },
    {
     "name": "stderr",
     "output_type": "stream",
     "text": [
      "100%|██████████| 2/2 [00:02<00:00,  1.08s/it]\n"
     ]
    },
    {
     "name": "stdout",
     "output_type": "stream",
     "text": [
      "Valid loss: 6.3140380259822395 Valid accuracy 0.23864836870309183 Valid top 5 accuracy 0.3606480309630142\n",
      "Accuracy didn't improve from: 0.24782633869086995\n",
      "Epoch: 52/100\n"
     ]
    },
    {
     "name": "stderr",
     "output_type": "stream",
     "text": [
      "100%|██████████| 4/4 [00:10<00:00,  2.56s/it]\n"
     ]
    },
    {
     "name": "stdout",
     "output_type": "stream",
     "text": [
      "Train loss: 5.1364545234862495 Train accuracy 0.35851927139960665 Train top 5 accuracy 0.4011156179065652\n"
     ]
    },
    {
     "name": "stderr",
     "output_type": "stream",
     "text": [
      "100%|██████████| 2/2 [00:02<00:00,  1.05s/it]\n"
     ]
    },
    {
     "name": "stdout",
     "output_type": "stream",
     "text": [
      "Valid loss: 6.168536957572488 Valid accuracy 0.23579593506806037 Valid top 5 accuracy 0.36102571294588204\n",
      "Accuracy didn't improve from: 0.24782633869086995\n",
      "Epoch: 53/100\n"
     ]
    },
    {
     "name": "stderr",
     "output_type": "stream",
     "text": [
      "100%|██████████| 4/4 [00:05<00:00,  1.40s/it]\n"
     ]
    },
    {
     "name": "stdout",
     "output_type": "stream",
     "text": [
      "Train loss: 4.967585426043062 Train accuracy 0.3372210999129011 Train top 5 accuracy 0.38894523348768845\n"
     ]
    },
    {
     "name": "stderr",
     "output_type": "stream",
     "text": [
      "100%|██████████| 2/2 [00:02<00:00,  1.02s/it]\n"
     ]
    },
    {
     "name": "stdout",
     "output_type": "stream",
     "text": [
      "Valid loss: 6.353939060779179 Valid accuracy 0.264612121069256 Valid top 5 accuracy 0.3675282066140105\n",
      "Saving best model wieghts, Accuracy: 0.264612121069256\n",
      "Epoch: 54/100\n"
     ]
    },
    {
     "name": "stderr",
     "output_type": "stream",
     "text": [
      "100%|██████████| 4/4 [00:10<00:00,  2.56s/it]\n"
     ]
    },
    {
     "name": "stdout",
     "output_type": "stream",
     "text": [
      "Train loss: 4.878292274825713 Train accuracy 0.33468560006140785 Train top 5 accuracy 0.3998478647759732\n"
     ]
    },
    {
     "name": "stderr",
     "output_type": "stream",
     "text": [
      "100%|██████████| 2/2 [00:02<00:00,  1.07s/it]\n"
     ]
    },
    {
     "name": "stdout",
     "output_type": "stream",
     "text": [
      "Valid loss: 6.556222097838626 Valid accuracy 0.2534519713371992 Valid top 5 accuracy 0.36089761708589163\n",
      "Accuracy didn't improve from: 0.264612121069256\n",
      "Epoch: 55/100\n"
     ]
    },
    {
     "name": "stderr",
     "output_type": "stream",
     "text": [
      "100%|██████████| 4/4 [00:05<00:00,  1.41s/it]\n"
     ]
    },
    {
     "name": "stdout",
     "output_type": "stream",
     "text": [
      "Train loss: 6.115822627263911 Train accuracy 0.3280933062710306 Train top 5 accuracy 0.3899594292811611\n"
     ]
    },
    {
     "name": "stderr",
     "output_type": "stream",
     "text": [
      "100%|██████████| 2/2 [00:02<00:00,  1.27s/it]\n"
     ]
    },
    {
     "name": "stdout",
     "output_type": "stream",
     "text": [
      "Valid loss: 6.308665826040156 Valid accuracy 0.23671241126516285 Valid top 5 accuracy 0.36307392061194954\n",
      "Accuracy didn't improve from: 0.264612121069256\n",
      "Epoch: 56/100\n"
     ]
    },
    {
     "name": "stderr",
     "output_type": "stream",
     "text": [
      "100%|██████████| 4/4 [00:05<00:00,  1.40s/it]\n"
     ]
    },
    {
     "name": "stdout",
     "output_type": "stream",
     "text": [
      "Train loss: 4.364353545886629 Train accuracy 0.3466024308958474 Train top 5 accuracy 0.39629817148670554\n"
     ]
    },
    {
     "name": "stderr",
     "output_type": "stream",
     "text": [
      "100%|██████████| 2/2 [00:02<00:00,  1.01s/it]\n"
     ]
    },
    {
     "name": "stdout",
     "output_type": "stream",
     "text": [
      "Valid loss: 6.251065712641267 Valid accuracy 0.24774050329099684 Valid top 5 accuracy 0.36286395229399204\n",
      "Accuracy didn't improve from: 0.264612121069256\n",
      "Epoch: 57/100\n"
     ]
    },
    {
     "name": "stderr",
     "output_type": "stream",
     "text": [
      "100%|██████████| 4/4 [00:10<00:00,  2.56s/it]\n"
     ]
    },
    {
     "name": "stdout",
     "output_type": "stream",
     "text": [
      "Train loss: 3.40433463892516 Train accuracy 0.3569979703546885 Train top 5 accuracy 0.39832657022292123\n"
     ]
    },
    {
     "name": "stderr",
     "output_type": "stream",
     "text": [
      "100%|██████████| 2/2 [00:02<00:00,  1.07s/it]\n"
     ]
    },
    {
     "name": "stdout",
     "output_type": "stream",
     "text": [
      "Valid loss: 6.360944393803091 Valid accuracy 0.2624886425978997 Valid top 5 accuracy 0.36455428172998566\n",
      "Accuracy didn't improve from: 0.264612121069256\n",
      "Epoch: 58/100\n"
     ]
    },
    {
     "name": "stderr",
     "output_type": "stream",
     "text": [
      "100%|██████████| 4/4 [00:10<00:00,  2.56s/it]\n"
     ]
    },
    {
     "name": "stdout",
     "output_type": "stream",
     "text": [
      "Train loss: 4.309101818238988 Train accuracy 0.35040567919392795 Train top 5 accuracy 0.3952839743510327\n"
     ]
    },
    {
     "name": "stderr",
     "output_type": "stream",
     "text": [
      "100%|██████████| 2/2 [00:02<00:00,  1.06s/it]\n"
     ]
    },
    {
     "name": "stdout",
     "output_type": "stream",
     "text": [
      "Valid loss: 6.268759040271535 Valid accuracy 0.23499567061662674 Valid top 5 accuracy 0.3624109943561694\n",
      "Accuracy didn't improve from: 0.264612121069256\n",
      "Epoch: 59/100\n"
     ]
    },
    {
     "name": "stderr",
     "output_type": "stream",
     "text": [
      "100%|██████████| 4/4 [00:10<00:00,  2.56s/it]\n"
     ]
    },
    {
     "name": "stdout",
     "output_type": "stream",
     "text": [
      "Train loss: 5.845854057108655 Train accuracy 0.3270791027256671 Train top 5 accuracy 0.38945233293206377\n"
     ]
    },
    {
     "name": "stderr",
     "output_type": "stream",
     "text": [
      "100%|██████████| 2/2 [00:02<00:00,  1.27s/it]\n"
     ]
    },
    {
     "name": "stdout",
     "output_type": "stream",
     "text": [
      "Valid loss: 6.393489546635571 Valid accuracy 0.22580845412962577 Valid top 5 accuracy 0.3612819037893239\n",
      "Accuracy didn't improve from: 0.264612121069256\n",
      "Epoch: 60/100\n"
     ]
    },
    {
     "name": "stderr",
     "output_type": "stream",
     "text": [
      "100%|██████████| 4/4 [00:05<00:00,  1.40s/it]\n"
     ]
    },
    {
     "name": "stdout",
     "output_type": "stream",
     "text": [
      "Train loss: 7.535026946926818 Train accuracy 0.30476673522635417 Train top 5 accuracy 0.39528397287187333\n"
     ]
    },
    {
     "name": "stderr",
     "output_type": "stream",
     "text": [
      "100%|██████████| 2/2 [00:02<00:00,  1.27s/it]\n"
     ]
    },
    {
     "name": "stdout",
     "output_type": "stream",
     "text": [
      "Valid loss: 7.224225764765459 Valid accuracy 0.2482687300618957 Valid top 5 accuracy 0.35530103721162853\n",
      "Accuracy didn't improve from: 0.264612121069256\n",
      "Epoch: 61/100\n"
     ]
    },
    {
     "name": "stderr",
     "output_type": "stream",
     "text": [
      "100%|██████████| 4/4 [00:10<00:00,  2.56s/it]\n"
     ]
    },
    {
     "name": "stdout",
     "output_type": "stream",
     "text": [
      "Train loss: 64.99392662241178 Train accuracy 0.1909229204277782 Train top 5 accuracy 0.3280933054218836\n"
     ]
    },
    {
     "name": "stderr",
     "output_type": "stream",
     "text": [
      "100%|██████████| 2/2 [00:02<00:00,  1.05s/it]\n"
     ]
    },
    {
     "name": "stdout",
     "output_type": "stream",
     "text": [
      "Valid loss: 6.361966795781079 Valid accuracy 0.15109448978567824 Valid top 5 accuracy 0.3140252579880111\n",
      "Accuracy didn't improve from: 0.264612121069256\n",
      "Epoch: 62/100\n"
     ]
    },
    {
     "name": "stderr",
     "output_type": "stream",
     "text": [
      "100%|██████████| 4/4 [00:05<00:00,  1.42s/it]\n"
     ]
    },
    {
     "name": "stdout",
     "output_type": "stream",
     "text": [
      "Train loss: 10.414115487652666 Train accuracy 0.33417850245228586 Train top 5 accuracy 0.3970588242415996\n"
     ]
    },
    {
     "name": "stderr",
     "output_type": "stream",
     "text": [
      "100%|██████████| 2/2 [00:02<00:00,  1.02s/it]\n"
     ]
    },
    {
     "name": "stdout",
     "output_type": "stream",
     "text": [
      "Valid loss: 6.541178852319717 Valid accuracy 0.23644565714194493 Valid top 5 accuracy 0.36439316774554115\n",
      "Accuracy didn't improve from: 0.264612121069256\n",
      "Epoch: 63/100\n"
     ]
    },
    {
     "name": "stderr",
     "output_type": "stream",
     "text": [
      "100%|██████████| 4/4 [00:05<00:00,  1.41s/it]\n"
     ]
    },
    {
     "name": "stdout",
     "output_type": "stream",
     "text": [
      "Train loss: 4.713351600310382 Train accuracy 0.36891480910537 Train top 5 accuracy 0.40441176626721725\n"
     ]
    },
    {
     "name": "stderr",
     "output_type": "stream",
     "text": [
      "100%|██████████| 2/2 [00:02<00:00,  1.27s/it]\n"
     ]
    },
    {
     "name": "stdout",
     "output_type": "stream",
     "text": [
      "Valid loss: 6.430313750224955 Valid accuracy 0.23908151642364614 Valid top 5 accuracy 0.36477745565421443\n",
      "Accuracy didn't improve from: 0.264612121069256\n",
      "Epoch: 64/100\n"
     ]
    },
    {
     "name": "stderr",
     "output_type": "stream",
     "text": [
      "100%|██████████| 4/4 [00:05<00:00,  1.40s/it]\n"
     ]
    },
    {
     "name": "stdout",
     "output_type": "stream",
     "text": [
      "Train loss: 3.9558033241945156 Train accuracy 0.36308316396111073 Train top 5 accuracy 0.39731237204635844\n"
     ]
    },
    {
     "name": "stderr",
     "output_type": "stream",
     "text": [
      "100%|██████████| 2/2 [00:02<00:00,  1.28s/it]\n"
     ]
    },
    {
     "name": "stdout",
     "output_type": "stream",
     "text": [
      "Valid loss: 6.480650517870398 Valid accuracy 0.24768767944153616 Valid top 5 accuracy 0.3700980397270006\n",
      "Accuracy didn't improve from: 0.264612121069256\n",
      "Epoch: 65/100\n"
     ]
    },
    {
     "name": "stderr",
     "output_type": "stream",
     "text": [
      "100%|██████████| 4/4 [00:10<00:00,  2.56s/it]\n"
     ]
    },
    {
     "name": "stdout",
     "output_type": "stream",
     "text": [
      "Train loss: 3.5147442668676376 Train accuracy 0.3521805265918374 Train top 5 accuracy 0.38894523072111253\n"
     ]
    },
    {
     "name": "stderr",
     "output_type": "stream",
     "text": [
      "100%|██████████| 2/2 [00:02<00:00,  1.27s/it]\n"
     ]
    },
    {
     "name": "stdout",
     "output_type": "stream",
     "text": [
      "Valid loss: 6.495973412604893 Valid accuracy 0.2478619949782596 Valid top 5 accuracy 0.3706790894708213\n",
      "Accuracy didn't improve from: 0.264612121069256\n",
      "Epoch: 66/100\n"
     ]
    },
    {
     "name": "stderr",
     "output_type": "stream",
     "text": [
      "100%|██████████| 4/4 [00:10<00:00,  2.56s/it]\n"
     ]
    },
    {
     "name": "stdout",
     "output_type": "stream",
     "text": [
      "Train loss: 3.382830237641054 Train accuracy 0.3671399635701057 Train top 5 accuracy 0.40289046199006195\n"
     ]
    },
    {
     "name": "stderr",
     "output_type": "stream",
     "text": [
      "100%|██████████| 2/2 [00:02<00:00,  1.28s/it]\n"
     ]
    },
    {
     "name": "stdout",
     "output_type": "stream",
     "text": [
      "Valid loss: 6.45138943195343 Valid accuracy 0.25078309929984455 Valid top 5 accuracy 0.3672720160992706\n",
      "Accuracy didn't improve from: 0.264612121069256\n",
      "Epoch: 67/100\n"
     ]
    },
    {
     "name": "stderr",
     "output_type": "stream",
     "text": [
      "100%|██████████| 4/4 [00:10<00:00,  2.56s/it]\n"
     ]
    },
    {
     "name": "stdout",
     "output_type": "stream",
     "text": [
      "Train loss: 3.6705288163879337 Train accuracy 0.3564908762517221 Train top 5 accuracy 0.39528397467973475\n"
     ]
    },
    {
     "name": "stderr",
     "output_type": "stream",
     "text": [
      "100%|██████████| 2/2 [00:02<00:00,  1.05s/it]\n"
     ]
    },
    {
     "name": "stdout",
     "output_type": "stream",
     "text": [
      "Valid loss: 6.468799750594532 Valid accuracy 0.2562449824284105 Valid top 5 accuracy 0.36683226815041375\n",
      "Accuracy didn't improve from: 0.264612121069256\n",
      "Epoch: 68/100\n"
     ]
    },
    {
     "name": "stderr",
     "output_type": "stream",
     "text": [
      "100%|██████████| 4/4 [00:05<00:00,  1.40s/it]\n"
     ]
    },
    {
     "name": "stdout",
     "output_type": "stream",
     "text": [
      "Train loss: 3.0026434914154163 Train accuracy 0.3656186589916401 Train top 5 accuracy 0.39655172082540746\n"
     ]
    },
    {
     "name": "stderr",
     "output_type": "stream",
     "text": [
      "100%|██████████| 2/2 [00:02<00:00,  1.27s/it]\n"
     ]
    },
    {
     "name": "stdout",
     "output_type": "stream",
     "text": [
      "Valid loss: 6.371523140107884 Valid accuracy 0.248626605991055 Valid top 5 accuracy 0.3679613543345648\n",
      "Accuracy didn't improve from: 0.264612121069256\n",
      "Epoch: 69/100\n"
     ]
    },
    {
     "name": "stderr",
     "output_type": "stream",
     "text": [
      "100%|██████████| 4/4 [00:10<00:00,  2.56s/it]\n"
     ]
    },
    {
     "name": "stdout",
     "output_type": "stream",
     "text": [
      "Train loss: 2.72979293413022 Train accuracy 0.3666328573599458 Train top 5 accuracy 0.39426977647578015\n"
     ]
    },
    {
     "name": "stderr",
     "output_type": "stream",
     "text": [
      "100%|██████████| 2/2 [00:02<00:00,  1.27s/it]\n"
     ]
    },
    {
     "name": "stdout",
     "output_type": "stream",
     "text": [
      "Valid loss: 6.31258540819673 Valid accuracy 0.2468147824573166 Valid top 5 accuracy 0.3663396916406996\n",
      "Accuracy didn't improve from: 0.264612121069256\n",
      "Epoch: 70/100\n"
     ]
    },
    {
     "name": "stderr",
     "output_type": "stream",
     "text": [
      "100%|██████████| 4/4 [00:05<00:00,  1.41s/it]\n"
     ]
    },
    {
     "name": "stdout",
     "output_type": "stream",
     "text": [
      "Train loss: 2.5558456563774277 Train accuracy 0.3737322497455513 Train top 5 accuracy 0.40035496994524317\n"
     ]
    },
    {
     "name": "stderr",
     "output_type": "stream",
     "text": [
      "100%|██████████| 2/2 [00:02<00:00,  1.27s/it]\n"
     ]
    },
    {
     "name": "stdout",
     "output_type": "stream",
     "text": [
      "Valid loss: 6.454301659675205 Valid accuracy 0.2559953920324059 Valid top 5 accuracy 0.36715712573598414\n",
      "Accuracy didn't improve from: 0.264612121069256\n",
      "Epoch: 71/100\n"
     ]
    },
    {
     "name": "stderr",
     "output_type": "stream",
     "text": [
      "100%|██████████| 4/4 [00:05<00:00,  1.42s/it]\n"
     ]
    },
    {
     "name": "stdout",
     "output_type": "stream",
     "text": [
      "Train loss: 5.7850914097884125 Train accuracy 0.3425456419970621 Train top 5 accuracy 0.385141986723551\n"
     ]
    },
    {
     "name": "stderr",
     "output_type": "stream",
     "text": [
      "100%|██████████| 2/2 [00:02<00:00,  1.01s/it]\n"
     ]
    },
    {
     "name": "stdout",
     "output_type": "stream",
     "text": [
      "Valid loss: 6.623452242682962 Valid accuracy 0.24991020132951877 Valid top 5 accuracy 0.3669405539027032\n",
      "Accuracy didn't improve from: 0.264612121069256\n",
      "Epoch: 72/100\n"
     ]
    },
    {
     "name": "stderr",
     "output_type": "stream",
     "text": [
      "100%|██████████| 4/4 [00:10<00:00,  2.56s/it]\n"
     ]
    },
    {
     "name": "stdout",
     "output_type": "stream",
     "text": [
      "Train loss: 4.578175436047947 Train accuracy 0.3496450310682549 Train top 5 accuracy 0.3902129817425328\n"
     ]
    },
    {
     "name": "stderr",
     "output_type": "stream",
     "text": [
      "100%|██████████| 2/2 [00:02<00:00,  1.06s/it]\n"
     ]
    },
    {
     "name": "stdout",
     "output_type": "stream",
     "text": [
      "Valid loss: 6.374269483720555 Valid accuracy 0.26016047542147774 Valid top 5 accuracy 0.3680960536003113\n",
      "Accuracy didn't improve from: 0.264612121069256\n",
      "Epoch: 73/100\n"
     ]
    },
    {
     "name": "stderr",
     "output_type": "stream",
     "text": [
      "100%|██████████| 4/4 [00:10<00:00,  2.56s/it]\n"
     ]
    },
    {
     "name": "stdout",
     "output_type": "stream",
     "text": [
      "Train loss: 3.9641394650234894 Train accuracy 0.3549695762750857 Train top 5 accuracy 0.3924949264756459\n"
     ]
    },
    {
     "name": "stderr",
     "output_type": "stream",
     "text": [
      "100%|██████████| 2/2 [00:02<00:00,  1.06s/it]\n"
     ]
    },
    {
     "name": "stdout",
     "output_type": "stream",
     "text": [
      "Valid loss: 6.444080301943948 Valid accuracy 0.22971074173555656 Valid top 5 accuracy 0.3607074560268837\n",
      "Accuracy didn't improve from: 0.264612121069256\n",
      "Epoch: 74/100\n"
     ]
    },
    {
     "name": "stderr",
     "output_type": "stream",
     "text": [
      "100%|██████████| 4/4 [00:05<00:00,  1.39s/it]\n"
     ]
    },
    {
     "name": "stdout",
     "output_type": "stream",
     "text": [
      "Train loss: 16.28502369628233 Train accuracy 0.2641987827442148 Train top 5 accuracy 0.32733266036409664\n"
     ]
    },
    {
     "name": "stderr",
     "output_type": "stream",
     "text": [
      "100%|██████████| 2/2 [00:02<00:00,  1.01s/it]\n"
     ]
    },
    {
     "name": "stdout",
     "output_type": "stream",
     "text": [
      "Valid loss: 6.5846526736722275 Valid accuracy 0.19044355401659713 Valid top 5 accuracy 0.3516021183527568\n",
      "Accuracy didn't improve from: 0.264612121069256\n",
      "Epoch: 75/100\n"
     ]
    },
    {
     "name": "stderr",
     "output_type": "stream",
     "text": [
      "100%|██████████| 4/4 [00:10<00:00,  2.56s/it]\n"
     ]
    },
    {
     "name": "stdout",
     "output_type": "stream",
     "text": [
      "Train loss: 8.490381683880354 Train accuracy 0.3443204847383587 Train top 5 accuracy 0.3935091278844458\n"
     ]
    },
    {
     "name": "stderr",
     "output_type": "stream",
     "text": [
      "100%|██████████| 2/2 [00:02<00:00,  1.27s/it]\n"
     ]
    },
    {
     "name": "stdout",
     "output_type": "stream",
     "text": [
      "Valid loss: 6.68039859217756 Valid accuracy 0.1683437929433935 Valid top 5 accuracy 0.31407808161833706\n",
      "Accuracy didn't improve from: 0.264612121069256\n",
      "Epoch: 76/100\n"
     ]
    },
    {
     "name": "stderr",
     "output_type": "stream",
     "text": [
      "100%|██████████| 4/4 [00:10<00:00,  2.56s/it]\n"
     ]
    },
    {
     "name": "stdout",
     "output_type": "stream",
     "text": [
      "Train loss: 3.089031002977315 Train accuracy 0.3673935090465581 Train top 5 accuracy 0.39908722179996614\n"
     ]
    },
    {
     "name": "stderr",
     "output_type": "stream",
     "text": [
      "100%|██████████| 2/2 [00:02<00:00,  1.07s/it]\n"
     ]
    },
    {
     "name": "stdout",
     "output_type": "stream",
     "text": [
      "Valid loss: 6.8073029553188995 Valid accuracy 0.2584146810147692 Valid top 5 accuracy 0.3654535905841519\n",
      "Accuracy didn't improve from: 0.264612121069256\n",
      "Epoch: 77/100\n"
     ]
    },
    {
     "name": "stderr",
     "output_type": "stream",
     "text": [
      "100%|██████████| 4/4 [00:05<00:00,  1.40s/it]\n"
     ]
    },
    {
     "name": "stdout",
     "output_type": "stream",
     "text": [
      "Train loss: 2.464055575430393 Train accuracy 0.36308316103018384 Train top 5 accuracy 0.3922413780956584\n"
     ]
    },
    {
     "name": "stderr",
     "output_type": "stream",
     "text": [
      "100%|██████████| 2/2 [00:02<00:00,  1.01s/it]\n"
     ]
    },
    {
     "name": "stdout",
     "output_type": "stream",
     "text": [
      "Valid loss: 6.737276906476302 Valid accuracy 0.26430970912470536 Valid top 5 accuracy 0.3657916558577734\n",
      "Accuracy didn't improve from: 0.264612121069256\n",
      "Epoch: 78/100\n"
     ]
    },
    {
     "name": "stderr",
     "output_type": "stream",
     "text": [
      "100%|██████████| 4/4 [00:05<00:00,  1.41s/it]\n"
     ]
    },
    {
     "name": "stdout",
     "output_type": "stream",
     "text": [
      "Train loss: 2.383774071931839 Train accuracy 0.3564908712390153 Train top 5 accuracy 0.3932555794770665\n"
     ]
    },
    {
     "name": "stderr",
     "output_type": "stream",
     "text": [
      "100%|██████████| 2/2 [00:02<00:00,  1.02s/it]\n"
     ]
    },
    {
     "name": "stdout",
     "output_type": "stream",
     "text": [
      "Valid loss: 6.737627731526599 Valid accuracy 0.2618613713147009 Valid top 5 accuracy 0.36592635567135673\n",
      "Accuracy didn't improve from: 0.264612121069256\n",
      "Epoch: 79/100\n"
     ]
    },
    {
     "name": "stderr",
     "output_type": "stream",
     "text": [
      "100%|██████████| 4/4 [00:10<00:00,  2.56s/it]\n"
     ]
    },
    {
     "name": "stdout",
     "output_type": "stream",
     "text": [
      "Train loss: 2.1068215541651143 Train accuracy 0.37677484583657456 Train top 5 accuracy 0.4021298154257238\n"
     ]
    },
    {
     "name": "stderr",
     "output_type": "stream",
     "text": [
      "100%|██████████| 2/2 [00:02<00:00,  1.27s/it]\n"
     ]
    },
    {
     "name": "stdout",
     "output_type": "stream",
     "text": [
      "Valid loss: 6.687299728393555 Valid accuracy 0.2612803214613129 Valid top 5 accuracy 0.3651353326790473\n",
      "Accuracy didn't improve from: 0.264612121069256\n",
      "Epoch: 80/100\n"
     ]
    },
    {
     "name": "stderr",
     "output_type": "stream",
     "text": [
      "100%|██████████| 4/4 [00:05<00:00,  1.40s/it]\n"
     ]
    },
    {
     "name": "stdout",
     "output_type": "stream",
     "text": [
      "Train loss: 2.1581660749062017 Train accuracy 0.37297160424949494 Train top 5 accuracy 0.40010142383877845\n"
     ]
    },
    {
     "name": "stderr",
     "output_type": "stream",
     "text": [
      "100%|██████████| 2/2 [00:02<00:00,  1.04s/it]\n"
     ]
    },
    {
     "name": "stdout",
     "output_type": "stream",
     "text": [
      "Valid loss: 6.668120697140694 Valid accuracy 0.2585427765460575 Valid top 5 accuracy 0.36467577188330536\n",
      "Accuracy didn't improve from: 0.264612121069256\n",
      "Epoch: 81/100\n"
     ]
    },
    {
     "name": "stderr",
     "output_type": "stream",
     "text": [
      "100%|██████████| 4/4 [00:10<00:00,  2.56s/it]\n"
     ]
    },
    {
     "name": "stdout",
     "output_type": "stream",
     "text": [
      "Train loss: 2.0083897166392384 Train accuracy 0.36739350652650876 Train top 5 accuracy 0.39452332699233117\n"
     ]
    },
    {
     "name": "stderr",
     "output_type": "stream",
     "text": [
      "100%|██████████| 2/2 [00:02<00:00,  1.27s/it]\n"
     ]
    },
    {
     "name": "stdout",
     "output_type": "stream",
     "text": [
      "Valid loss: 6.740598768872373 Valid accuracy 0.257108636200428 Valid top 5 accuracy 0.36285074252416105\n",
      "Accuracy didn't improve from: 0.264612121069256\n",
      "Epoch: 82/100\n"
     ]
    },
    {
     "name": "stderr",
     "output_type": "stream",
     "text": [
      "100%|██████████| 4/4 [00:10<00:00,  2.56s/it]\n"
     ]
    },
    {
     "name": "stdout",
     "output_type": "stream",
     "text": [
      "Train loss: 1.913085103911512 Train accuracy 0.37728195001973824 Train top 5 accuracy 0.40491886478027\n"
     ]
    },
    {
     "name": "stderr",
     "output_type": "stream",
     "text": [
      "100%|██████████| 2/2 [00:02<00:00,  1.06s/it]\n"
     ]
    },
    {
     "name": "stdout",
     "output_type": "stream",
     "text": [
      "Valid loss: 6.691810952389941 Valid accuracy 0.25742689509163885 Valid top 5 accuracy 0.36591314940768127\n",
      "Accuracy didn't improve from: 0.264612121069256\n",
      "Epoch: 83/100\n"
     ]
    },
    {
     "name": "stderr",
     "output_type": "stream",
     "text": [
      "100%|██████████| 4/4 [00:10<00:00,  2.56s/it]\n"
     ]
    },
    {
     "name": "stdout",
     "output_type": "stream",
     "text": [
      "Train loss: 1.7817001272650326 Train accuracy 0.3714503015336745 Train top 5 accuracy 0.38945233684909697\n"
     ]
    },
    {
     "name": "stderr",
     "output_type": "stream",
     "text": [
      "100%|██████████| 2/2 [00:02<00:00,  1.27s/it]\n"
     ]
    },
    {
     "name": "stdout",
     "output_type": "stream",
     "text": [
      "Valid loss: 6.6714922452674195 Valid accuracy 0.25526379870579524 Valid top 5 accuracy 0.36034297965028705\n",
      "Accuracy didn't improve from: 0.264612121069256\n",
      "Epoch: 84/100\n"
     ]
    },
    {
     "name": "stderr",
     "output_type": "stream",
     "text": [
      "100%|██████████| 4/4 [00:05<00:00,  1.40s/it]\n"
     ]
    },
    {
     "name": "stdout",
     "output_type": "stream",
     "text": [
      "Train loss: 2.3444226612063015 Train accuracy 0.3808316384058665 Train top 5 accuracy 0.41049695688792887\n"
     ]
    },
    {
     "name": "stderr",
     "output_type": "stream",
     "text": [
      "100%|██████████| 2/2 [00:02<00:00,  1.27s/it]\n"
     ]
    },
    {
     "name": "stdout",
     "output_type": "stream",
     "text": [
      "Valid loss: 6.585522381698384 Valid accuracy 0.24196036192862427 Valid top 5 accuracy 0.3550091922721442\n",
      "Accuracy didn't improve from: 0.264612121069256\n",
      "Epoch: 85/100\n"
     ]
    },
    {
     "name": "stderr",
     "output_type": "stream",
     "text": [
      "100%|██████████| 4/4 [00:10<00:00,  2.56s/it]\n"
     ]
    },
    {
     "name": "stdout",
     "output_type": "stream",
     "text": [
      "Train loss: 6.91114858844701 Train accuracy 0.31313387512722435 Train top 5 accuracy 0.38083164158331995\n"
     ]
    },
    {
     "name": "stderr",
     "output_type": "stream",
     "text": [
      "100%|██████████| 2/2 [00:02<00:00,  1.27s/it]\n"
     ]
    },
    {
     "name": "stdout",
     "output_type": "stream",
     "text": [
      "Valid loss: 7.070590637185994 Valid accuracy 0.22406529887195895 Valid top 5 accuracy 0.3498034999870202\n",
      "Accuracy didn't improve from: 0.264612121069256\n",
      "Epoch: 86/100\n"
     ]
    },
    {
     "name": "stderr",
     "output_type": "stream",
     "text": [
      "100%|██████████| 4/4 [00:10<00:00,  2.56s/it]\n"
     ]
    },
    {
     "name": "stdout",
     "output_type": "stream",
     "text": [
      "Train loss: 17.92337728247923 Train accuracy 0.3293610549915363 Train top 5 accuracy 0.386916835573228\n"
     ]
    },
    {
     "name": "stderr",
     "output_type": "stream",
     "text": [
      "100%|██████████| 2/2 [00:02<00:00,  1.27s/it]\n"
     ]
    },
    {
     "name": "stdout",
     "output_type": "stream",
     "text": [
      "Valid loss: 6.666447702576132 Valid accuracy 0.17139563052093282 Valid top 5 accuracy 0.3052645882262903\n",
      "Accuracy didn't improve from: 0.264612121069256\n",
      "Epoch: 87/100\n"
     ]
    },
    {
     "name": "stderr",
     "output_type": "stream",
     "text": [
      "100%|██████████| 4/4 [00:05<00:00,  1.42s/it]\n"
     ]
    },
    {
     "name": "stdout",
     "output_type": "stream",
     "text": [
      "Train loss: 8.234073752646937 Train accuracy 0.33468559496652556 Train top 5 accuracy 0.39680527142413397\n"
     ]
    },
    {
     "name": "stderr",
     "output_type": "stream",
     "text": [
      "100%|██████████| 2/2 [00:02<00:00,  1.28s/it]\n"
     ]
    },
    {
     "name": "stdout",
     "output_type": "stream",
     "text": [
      "Valid loss: 6.51454141385415 Valid accuracy 0.2518329526133397 Valid top 5 accuracy 0.3653254931902184\n",
      "Accuracy didn't improve from: 0.264612121069256\n",
      "Epoch: 88/100\n"
     ]
    },
    {
     "name": "stderr",
     "output_type": "stream",
     "text": [
      "100%|██████████| 4/4 [00:05<00:00,  1.43s/it]\n"
     ]
    },
    {
     "name": "stdout",
     "output_type": "stream",
     "text": [
      "Train loss: 2.9312834345242558 Train accuracy 0.3727180485832779 Train top 5 accuracy 0.39858011915074554\n"
     ]
    },
    {
     "name": "stderr",
     "output_type": "stream",
     "text": [
      "100%|██████████| 2/2 [00:02<00:00,  1.27s/it]\n"
     ]
    },
    {
     "name": "stdout",
     "output_type": "stream",
     "text": [
      "Valid loss: 6.757115826887243 Valid accuracy 0.2433258335599128 Valid top 5 accuracy 0.3669471586232676\n",
      "Accuracy didn't improve from: 0.264612121069256\n",
      "Epoch: 89/100\n"
     ]
    },
    {
     "name": "stderr",
     "output_type": "stream",
     "text": [
      "100%|██████████| 4/4 [00:10<00:00,  2.56s/it]\n"
     ]
    },
    {
     "name": "stdout",
     "output_type": "stream",
     "text": [
      "Train loss: 2.090042207609205 Train accuracy 0.3681541609523051 Train top 5 accuracy 0.38488843670005307\n"
     ]
    },
    {
     "name": "stderr",
     "output_type": "stream",
     "text": [
      "100%|██████████| 2/2 [00:02<00:00,  1.06s/it]\n"
     ]
    },
    {
     "name": "stdout",
     "output_type": "stream",
     "text": [
      "Valid loss: 6.757725694600274 Valid accuracy 0.2559399303487119 Valid top 5 accuracy 0.36761008246856575\n",
      "Accuracy didn't improve from: 0.264612121069256\n",
      "Epoch: 90/100\n"
     ]
    },
    {
     "name": "stderr",
     "output_type": "stream",
     "text": [
      "100%|██████████| 4/4 [00:05<00:00,  1.42s/it]\n"
     ]
    },
    {
     "name": "stdout",
     "output_type": "stream",
     "text": [
      "Train loss: 2.1324645333430348 Train accuracy 0.3815922952421448 Train top 5 accuracy 0.39934076965950865\n"
     ]
    },
    {
     "name": "stderr",
     "output_type": "stream",
     "text": [
      "100%|██████████| 2/2 [00:02<00:00,  1.27s/it]\n"
     ]
    },
    {
     "name": "stdout",
     "output_type": "stream",
     "text": [
      "Valid loss: 6.863513612571885 Valid accuracy 0.24000723780516317 Valid top 5 accuracy 0.3633036983802038\n",
      "Accuracy didn't improve from: 0.264612121069256\n",
      "Epoch: 91/100\n"
     ]
    },
    {
     "name": "stderr",
     "output_type": "stream",
     "text": [
      "100%|██████████| 4/4 [00:05<00:00,  1.42s/it]\n"
     ]
    },
    {
     "name": "stdout",
     "output_type": "stream",
     "text": [
      "Train loss: 1.917810890440117 Train accuracy 0.3750000006300123 Train top 5 accuracy 0.39072008274824305\n"
     ]
    },
    {
     "name": "stderr",
     "output_type": "stream",
     "text": [
      "100%|██████████| 2/2 [00:02<00:00,  1.27s/it]\n"
     ]
    },
    {
     "name": "stdout",
     "output_type": "stream",
     "text": [
      "Valid loss: 6.887184658471276 Valid accuracy 0.24901749686721494 Valid top 5 accuracy 0.3621680072563536\n",
      "Accuracy didn't improve from: 0.264612121069256\n",
      "Epoch: 92/100\n"
     ]
    },
    {
     "name": "stderr",
     "output_type": "stream",
     "text": [
      "100%|██████████| 4/4 [00:10<00:00,  2.56s/it]\n"
     ]
    },
    {
     "name": "stdout",
     "output_type": "stream",
     "text": [
      "Train loss: 1.810526266694069 Train accuracy 0.38235293802640896 Train top 5 accuracy 0.3975659247542567\n"
     ]
    },
    {
     "name": "stderr",
     "output_type": "stream",
     "text": [
      "100%|██████████| 2/2 [00:02<00:00,  1.27s/it]\n"
     ]
    },
    {
     "name": "stdout",
     "output_type": "stream",
     "text": [
      "Valid loss: 6.820639388526187 Valid accuracy 0.2399451706339331 Valid top 5 accuracy 0.35907919069423394\n",
      "Accuracy didn't improve from: 0.264612121069256\n",
      "Epoch: 93/100\n"
     ]
    },
    {
     "name": "stderr",
     "output_type": "stream",
     "text": [
      "100%|██████████| 4/4 [00:10<00:00,  2.56s/it]\n"
     ]
    },
    {
     "name": "stdout",
     "output_type": "stream",
     "text": [
      "Train loss: 1.7092299314544481 Train accuracy 0.37905679361018185 Train top 5 accuracy 0.39553752379930196\n"
     ]
    },
    {
     "name": "stderr",
     "output_type": "stream",
     "text": [
      "100%|██████████| 2/2 [00:02<00:00,  1.08s/it]\n"
     ]
    },
    {
     "name": "stdout",
     "output_type": "stream",
     "text": [
      "Valid loss: 6.9337989696685005 Valid accuracy 0.24679233276230447 Valid top 5 accuracy 0.36340538237024755\n",
      "Accuracy didn't improve from: 0.264612121069256\n",
      "Epoch: 94/100\n"
     ]
    },
    {
     "name": "stderr",
     "output_type": "stream",
     "text": [
      "100%|██████████| 4/4 [00:10<00:00,  2.56s/it]\n"
     ]
    },
    {
     "name": "stdout",
     "output_type": "stream",
     "text": [
      "Train loss: 1.4359194688937242 Train accuracy 0.37525354868129773 Train top 5 accuracy 0.3881845846224357\n"
     ]
    },
    {
     "name": "stderr",
     "output_type": "stream",
     "text": [
      "100%|██████████| 2/2 [00:02<00:00,  1.08s/it]\n"
     ]
    },
    {
     "name": "stdout",
     "output_type": "stream",
     "text": [
      "Valid loss: 6.942668635179015 Valid accuracy 0.24836117160670898 Valid top 5 accuracy 0.3627358545713565\n",
      "Accuracy didn't improve from: 0.264612121069256\n",
      "Epoch: 95/100\n"
     ]
    },
    {
     "name": "stderr",
     "output_type": "stream",
     "text": [
      "100%|██████████| 4/4 [00:05<00:00,  1.49s/it]\n"
     ]
    },
    {
     "name": "stdout",
     "output_type": "stream",
     "text": [
      "Train loss: 1.4076708349234917 Train accuracy 0.38159229148946266 Train top 5 accuracy 0.39452332502011866\n"
     ]
    },
    {
     "name": "stderr",
     "output_type": "stream",
     "text": [
      "100%|██████████| 2/2 [00:02<00:00,  1.27s/it]\n"
     ]
    },
    {
     "name": "stdout",
     "output_type": "stream",
     "text": [
      "Valid loss: 6.926960570847287 Valid accuracy 0.24643445847665563 Valid top 5 accuracy 0.3620597222710357\n",
      "Accuracy didn't improve from: 0.264612121069256\n",
      "Epoch: 96/100\n"
     ]
    },
    {
     "name": "stderr",
     "output_type": "stream",
     "text": [
      "100%|██████████| 4/4 [00:06<00:00,  1.56s/it]\n"
     ]
    },
    {
     "name": "stdout",
     "output_type": "stream",
     "text": [
      "Train loss: 1.3141293530078495 Train accuracy 0.38057809175156493 Train top 5 accuracy 0.39426977696883325\n"
     ]
    },
    {
     "name": "stderr",
     "output_type": "stream",
     "text": [
      "100%|██████████| 2/2 [00:02<00:00,  1.04s/it]\n"
     ]
    },
    {
     "name": "stdout",
     "output_type": "stream",
     "text": [
      "Valid loss: 6.896054660572725 Valid accuracy 0.24823967948117676 Valid top 5 accuracy 0.3609174280701315\n",
      "Accuracy didn't improve from: 0.264612121069256\n",
      "Epoch: 97/100\n"
     ]
    },
    {
     "name": "stderr",
     "output_type": "stream",
     "text": [
      "100%|██████████| 4/4 [00:05<00:00,  1.45s/it]\n"
     ]
    },
    {
     "name": "stdout",
     "output_type": "stream",
     "text": [
      "Train loss: 1.290159033392282 Train accuracy 0.38133874146596475 Train top 5 accuracy 0.39173427755560947\n"
     ]
    },
    {
     "name": "stderr",
     "output_type": "stream",
     "text": [
      "100%|██████████| 2/2 [00:02<00:00,  1.27s/it]\n"
     ]
    },
    {
     "name": "stdout",
     "output_type": "stream",
     "text": [
      "Valid loss: 7.008120698963895 Valid accuracy 0.25243117309668484 Valid top 5 accuracy 0.3606744428329608\n",
      "Accuracy didn't improve from: 0.264612121069256\n",
      "Epoch: 98/100\n"
     ]
    },
    {
     "name": "stderr",
     "output_type": "stream",
     "text": [
      "100%|██████████| 4/4 [00:05<00:00,  1.47s/it]\n"
     ]
    },
    {
     "name": "stdout",
     "output_type": "stream",
     "text": [
      "Train loss: 1.404928206178524 Train accuracy 0.3818458405268543 Train top 5 accuracy 0.39604462661287365\n"
     ]
    },
    {
     "name": "stderr",
     "output_type": "stream",
     "text": [
      "100%|██████████| 2/2 [00:02<00:00,  1.27s/it]\n"
     ]
    },
    {
     "name": "stdout",
     "output_type": "stream",
     "text": [
      "Valid loss: 6.947567999362946 Valid accuracy 0.24029644063728697 Valid top 5 accuracy 0.35828817000283913\n",
      "Accuracy didn't improve from: 0.264612121069256\n",
      "Epoch: 99/100\n"
     ]
    },
    {
     "name": "stderr",
     "output_type": "stream",
     "text": [
      "100%|██████████| 4/4 [00:05<00:00,  1.46s/it]\n"
     ]
    },
    {
     "name": "stdout",
     "output_type": "stream",
     "text": [
      "Train loss: 1.4163146943730467 Train accuracy 0.38362069049959674 Train top 5 accuracy 0.39705882689860816\n"
     ]
    },
    {
     "name": "stderr",
     "output_type": "stream",
     "text": [
      "100%|██████████| 2/2 [00:02<00:00,  1.03s/it]\n"
     ]
    },
    {
     "name": "stdout",
     "output_type": "stream",
     "text": [
      "Valid loss: 7.04020432426649 Valid accuracy 0.24884714230018504 Valid top 5 accuracy 0.3598966258851921\n",
      "Accuracy didn't improve from: 0.264612121069256\n",
      "Epoch: 100/100\n"
     ]
    },
    {
     "name": "stderr",
     "output_type": "stream",
     "text": [
      "100%|██████████| 4/4 [00:05<00:00,  1.45s/it]\n"
     ]
    },
    {
     "name": "stdout",
     "output_type": "stream",
     "text": [
      "Train loss: 0.951484069447307 Train accuracy 0.3833671379286577 Train top 5 accuracy 0.39629817496546926\n"
     ]
    },
    {
     "name": "stderr",
     "output_type": "stream",
     "text": [
      "100%|██████████| 2/2 [00:02<00:00,  1.02s/it]"
     ]
    },
    {
     "name": "stdout",
     "output_type": "stream",
     "text": [
      "Valid loss: 6.98566547036171 Valid accuracy 0.25156487754600887 Valid top 5 accuracy 0.3611736159552546\n",
      "Accuracy didn't improve from: 0.264612121069256\n"
     ]
    },
    {
     "name": "stderr",
     "output_type": "stream",
     "text": [
      "\n"
     ]
    }
   ],
   "source": [
    "# clear the session to release all previous states generated by Keras\n",
    "tf.keras.backend.clear_session()\n",
    "# instantiate and compile the model inside the strategy scope defined previous\n",
    "with strategy.scope():\n",
    "  model = encoder_decoder_model()\n",
    "  # use Sparse Categorical Cross-entropy as a loss function as labels are not one-hot encoded\n",
    "  # use AdamW optimizer initially with a weight decay of 0.0\n",
    "  # use the Sparse Categorical Accuracy and top k=5 accuracy metrics to monitor and save the best model weights\n",
    "  metrics = [tf.keras.metrics.SparseCategoricalAccuracy(),\n",
    "             tf.keras.metrics.SparseTopKCategoricalAccuracy(k=5, name='top_k_acc')]\n",
    "  model.compile(loss=tf.keras.losses.SparseCategoricalCrossentropy(from_logits=False),\n",
    "                metrics=metrics,\n",
    "                optimizer=tfa.optimizers.AdamW(learning_rate=config.LEARNING_RATE, weight_decay=0.0))\n",
    "\n",
    "# initialize the best accuracy at - infinity\n",
    "best_result = -np.inf\n",
    "# for each epoch iterate over the whole training and validation sets\n",
    "for epoch in range(config.EPOCHS):\n",
    "  print(f'Epoch: {epoch+1}/{config.EPOCHS}')\n",
    "  # iterate over the training dataset\n",
    "  for batch in tqdm(train_ds, total=len(train_ds)):\n",
    "    enc_inputs, dec_inputs, labels = batch\n",
    "    # create a variable for the number of examples in the current batch\n",
    "    num_examples = len(enc_inputs)\n",
    "    # initialize losses and accuracies list\n",
    "    losses = []\n",
    "    accs = []\n",
    "    top_accs = []\n",
    "    # sequencially predict the label (actual previous token as input)\n",
    "    for i in range(config.MAXLEN):\n",
    "      # extract the current mask from the attention_masks list\n",
    "      # broadcast the mask to the shape of (num_examples, num_heads(8), max_len(17), max_len(17))\n",
    "      current_att_mask = tf.broadcast_to(tf.constant(attention_masks[i]), (num_examples, config.NUM_HEADS, config.MAXLEN, config.MAXLEN))\n",
    "      # train on each batch and pass the class weights\n",
    "      train_results = model.train_on_batch(x=(enc_inputs, dec_inputs, current_att_mask), y=labels[:, -(i+1)], \n",
    "                           class_weight=auto_weight_dict, reset_metrics=True, return_dict=True)\n",
    "      # append the loss value\n",
    "      losses.append(train_results['loss'])\n",
    "      # append the accuracy value\n",
    "      accs.append(train_results['sparse_categorical_accuracy'])\n",
    "      # append the top 5 accuracy value\n",
    "      top_accs.append(train_results['top_k_acc'])\n",
    "  print('Train loss:', np.mean(losses), 'Train accuracy', np.mean(accs), 'Train top 5 accuracy', np.mean(top_accs))\n",
    "\n",
    "  # initialize losses and accuracies list\n",
    "  losses = []\n",
    "  accs = []\n",
    "  top_accs = []\n",
    "  # iterate over the validation dataset\n",
    "  for batch in tqdm(valid_ds, total=len(valid_ds)):\n",
    "    enc_inputs, dec_inputs, labels = batch\n",
    "    # create a variable for the number of examples in the current batch\n",
    "    num_examples = len(enc_inputs)\n",
    "    # create a NumPy array to save the predictions of the previous tokens\n",
    "    # it is initialized with ones where the model will see 1 in the first \n",
    "    # pass which represents the special starting \"s\" token\n",
    "    full_sequence_preds = np.ones((num_examples, config.MAXLEN))\n",
    "    # sequencially predict the label (predicted previous token as input (Auto-Regression))\n",
    "    for i in range(config.MAXLEN):\n",
    "      # extract the current mask from the attention_masks list\n",
    "      # broadcast the mask to the shape of (num_examples, num_heads(8), max_len(17), max_len(17))\n",
    "      current_att_mask = tf.broadcast_to(tf.constant(attention_masks[i]), (num_examples, config.NUM_HEADS, config.MAXLEN, config.MAXLEN))\n",
    "      # evaluate on each batch\n",
    "      valid_results = model.test_on_batch(x=(enc_inputs, full_sequence_preds, current_att_mask), y=labels[:, -(i+1)], reset_metrics=True, return_dict=True)\n",
    "      # predict the tokens of the current position\n",
    "      preds = model.predict_on_batch(x=(enc_inputs, full_sequence_preds, current_att_mask))\n",
    "      # take the argmax value which represents the index of the highest prob character\n",
    "      current_preds = np.argmax(preds, axis=-1)\n",
    "      # populate the current position with the predicted values which will be used in the next \n",
    "      # pass as a decoder input\n",
    "      full_sequence_preds[:, -(i+1)] = current_preds # populate the column of the current timestep with the predicitons\n",
    "        \n",
    "      # append the loss value  \n",
    "      losses.append(valid_results['loss'])\n",
    "      # append the accuracy value\n",
    "      accs.append(valid_results['sparse_categorical_accuracy'])\n",
    "      # append the top 5 accuracy value\n",
    "      top_accs.append(valid_results['top_k_acc'])\n",
    "  print('Valid loss:', np.mean(losses), 'Valid accuracy', np.mean(accs), 'Valid top 5 accuracy', np.mean(top_accs))\n",
    "\n",
    "  mean_acc = np.mean(accs)\n",
    "  # save the weights of the best model based on the validation accuracy\n",
    "  if mean_acc > best_result:\n",
    "    best_result = mean_acc\n",
    "    print('Saving best model wieghts,', 'Accuracy:', mean_acc)\n",
    "    model.save_weights('best_full_model_weights.h5')\n",
    "  else:\n",
    "    print(\"Accuracy didn't improve from:\", best_result)"
   ]
  },
  {
   "cell_type": "code",
   "execution_count": null,
   "metadata": {
    "id": "HhqIxXrsw-hG"
   },
   "outputs": [],
   "source": [
    "# !mv /content/best_full_model_weights.h5 /content/drive/MyDrive/NLP_Course"
   ]
  },
  {
   "cell_type": "code",
   "execution_count": null,
   "metadata": {
    "colab": {
     "base_uri": "https://localhost:8080/"
    },
    "id": "NTP0jBAR221i",
    "outputId": "d69cd37e-c030-4d9d-ab59-91a38746e559"
   },
   "outputs": [
    {
     "name": "stdout",
     "output_type": "stream",
     "text": [
      "Epoch: 1/100\n"
     ]
    },
    {
     "name": "stderr",
     "output_type": "stream",
     "text": [
      "100%|██████████| 4/4 [00:11<00:00,  2.92s/it]\n"
     ]
    },
    {
     "name": "stdout",
     "output_type": "stream",
     "text": [
      "Train loss: 154.6742080923389 Train accuracy 0.008620689705233364 Train top 5 accuracy 0.05400608553934623\n"
     ]
    },
    {
     "name": "stderr",
     "output_type": "stream",
     "text": [
      "100%|██████████| 2/2 [00:10<00:00,  5.11s/it]\n"
     ]
    },
    {
     "name": "stdout",
     "output_type": "stream",
     "text": [
      "Valid loss: 5.456694616990931 Valid accuracy 0.00045295596561011146 Valid top 5 accuracy 0.09859649683622752\n",
      "Saving best model wieghts, Accuracy: 0.00045295596561011146\n",
      "Epoch: 2/100\n"
     ]
    },
    {
     "name": "stderr",
     "output_type": "stream",
     "text": [
      "100%|██████████| 4/4 [00:05<00:00,  1.38s/it]\n"
     ]
    },
    {
     "name": "stdout",
     "output_type": "stream",
     "text": [
      "Train loss: 148.28139893710613 Train accuracy 0.012423935209346168 Train top 5 accuracy 0.13007099436157765\n"
     ]
    },
    {
     "name": "stderr",
     "output_type": "stream",
     "text": [
      "100%|██████████| 2/2 [00:02<00:00,  1.02s/it]\n"
     ]
    },
    {
     "name": "stdout",
     "output_type": "stream",
     "text": [
      "Valid loss: 4.95032469665303 Valid accuracy 0.051582836600787496 Valid top 5 accuracy 0.0934330633677104\n",
      "Saving best model wieghts, Accuracy: 0.051582836600787496\n",
      "Epoch: 3/100\n"
     ]
    },
    {
     "name": "stderr",
     "output_type": "stream",
     "text": [
      "100%|██████████| 4/4 [00:05<00:00,  1.35s/it]\n"
     ]
    },
    {
     "name": "stdout",
     "output_type": "stream",
     "text": [
      "Train loss: 131.9648285262725 Train accuracy 0.011916835901930052 Train top 5 accuracy 0.1597363118575338\n"
     ]
    },
    {
     "name": "stderr",
     "output_type": "stream",
     "text": [
      "100%|██████████| 2/2 [00:02<00:00,  1.27s/it]\n"
     ]
    },
    {
     "name": "stdout",
     "output_type": "stream",
     "text": [
      "Valid loss: 6.58903181552887 Valid accuracy 0.007415008128565901 Valid top 5 accuracy 0.12451403007349547\n",
      "Accuracy didn't improve from: 0.051582836600787496\n",
      "Epoch: 4/100\n"
     ]
    },
    {
     "name": "stderr",
     "output_type": "stream",
     "text": [
      "100%|██████████| 4/4 [00:05<00:00,  1.34s/it]\n"
     ]
    },
    {
     "name": "stdout",
     "output_type": "stream",
     "text": [
      "Train loss: 140.96722889735418 Train accuracy 0.04513184567365576 Train top 5 accuracy 0.17849898658802404\n"
     ]
    },
    {
     "name": "stderr",
     "output_type": "stream",
     "text": [
      "100%|██████████| 2/2 [00:02<00:00,  1.27s/it]\n"
     ]
    },
    {
     "name": "stdout",
     "output_type": "stream",
     "text": [
      "Valid loss: 5.2254222911946915 Valid accuracy 0.06854293484459906 Valid top 5 accuracy 0.15558179040603778\n",
      "Saving best model wieghts, Accuracy: 0.06854293484459906\n",
      "Epoch: 5/100\n"
     ]
    },
    {
     "name": "stderr",
     "output_type": "stream",
     "text": [
      "100%|██████████| 4/4 [00:10<00:00,  2.56s/it]\n"
     ]
    },
    {
     "name": "stdout",
     "output_type": "stream",
     "text": [
      "Train loss: 129.03379944142173 Train accuracy 0.029158215230221256 Train top 5 accuracy 0.14553752653848598\n"
     ]
    },
    {
     "name": "stderr",
     "output_type": "stream",
     "text": [
      "100%|██████████| 2/2 [00:02<00:00,  1.27s/it]\n"
     ]
    },
    {
     "name": "stdout",
     "output_type": "stream",
     "text": [
      "Valid loss: 6.300386961768655 Valid accuracy 0.048703991862780904 Valid top 5 accuracy 0.14733614345245502\n",
      "Accuracy didn't improve from: 0.06854293484459906\n",
      "Epoch: 6/100\n"
     ]
    },
    {
     "name": "stderr",
     "output_type": "stream",
     "text": [
      "100%|██████████| 4/4 [00:10<00:00,  2.56s/it]\n"
     ]
    },
    {
     "name": "stdout",
     "output_type": "stream",
     "text": [
      "Train loss: 100.29453527138514 Train accuracy 0.08367139898130999 Train top 5 accuracy 0.24315415917183547\n"
     ]
    },
    {
     "name": "stderr",
     "output_type": "stream",
     "text": [
      "100%|██████████| 2/2 [00:02<00:00,  1.03s/it]\n"
     ]
    },
    {
     "name": "stdout",
     "output_type": "stream",
     "text": [
      "Valid loss: 5.793930341215694 Valid accuracy 0.042349402409266025 Valid top 5 accuracy 0.17885025787879438\n",
      "Accuracy didn't improve from: 0.06854293484459906\n",
      "Epoch: 7/100\n"
     ]
    },
    {
     "name": "stderr",
     "output_type": "stream",
     "text": [
      "100%|██████████| 4/4 [00:05<00:00,  1.31s/it]\n"
     ]
    },
    {
     "name": "stdout",
     "output_type": "stream",
     "text": [
      "Train loss: 94.37613904651474 Train accuracy 0.12576064944048138 Train top 5 accuracy 0.2667342840200838\n"
     ]
    },
    {
     "name": "stderr",
     "output_type": "stream",
     "text": [
      "100%|██████████| 2/2 [00:01<00:00,  1.05it/s]\n"
     ]
    },
    {
     "name": "stdout",
     "output_type": "stream",
     "text": [
      "Valid loss: 5.979460835456848 Valid accuracy 0.023794054108507493 Valid top 5 accuracy 0.15599513053894043\n",
      "Accuracy didn't improve from: 0.06854293484459906\n",
      "Epoch: 8/100\n"
     ]
    },
    {
     "name": "stderr",
     "output_type": "stream",
     "text": [
      "100%|██████████| 4/4 [00:10<00:00,  2.56s/it]\n"
     ]
    },
    {
     "name": "stdout",
     "output_type": "stream",
     "text": [
      "Train loss: 89.0730907540111 Train accuracy 0.12677484843879938 Train top 5 accuracy 0.26572008031036926\n"
     ]
    },
    {
     "name": "stderr",
     "output_type": "stream",
     "text": [
      "100%|██████████| 2/2 [00:02<00:00,  1.27s/it]\n"
     ]
    },
    {
     "name": "stdout",
     "output_type": "stream",
     "text": [
      "Valid loss: 6.255956797038808 Valid accuracy 0.060412177706466 Valid top 5 accuracy 0.18193907422177932\n",
      "Accuracy didn't improve from: 0.06854293484459906\n",
      "Epoch: 9/100\n"
     ]
    },
    {
     "name": "stderr",
     "output_type": "stream",
     "text": [
      "100%|██████████| 4/4 [00:05<00:00,  1.33s/it]\n"
     ]
    },
    {
     "name": "stdout",
     "output_type": "stream",
     "text": [
      "Train loss: 69.23635404513163 Train accuracy 0.12829614597756198 Train top 5 accuracy 0.31059837667271495\n"
     ]
    },
    {
     "name": "stderr",
     "output_type": "stream",
     "text": [
      "100%|██████████| 2/2 [00:02<00:00,  1.27s/it]\n"
     ]
    },
    {
     "name": "stdout",
     "output_type": "stream",
     "text": [
      "Valid loss: 5.8447672198800475 Valid accuracy 0.098983424332212 Valid top 5 accuracy 0.21377144545754967\n",
      "Saving best model wieghts, Accuracy: 0.098983424332212\n",
      "Epoch: 10/100\n"
     ]
    },
    {
     "name": "stderr",
     "output_type": "stream",
     "text": [
      "100%|██████████| 4/4 [00:05<00:00,  1.34s/it]\n"
     ]
    },
    {
     "name": "stdout",
     "output_type": "stream",
     "text": [
      "Train loss: 52.53916199768291 Train accuracy 0.16100405734580228 Train top 5 accuracy 0.3298681530937114\n"
     ]
    },
    {
     "name": "stderr",
     "output_type": "stream",
     "text": [
      "100%|██████████| 2/2 [00:01<00:00,  1.01it/s]\n"
     ]
    },
    {
     "name": "stdout",
     "output_type": "stream",
     "text": [
      "Valid loss: 5.659133616615744 Valid accuracy 0.093265350908041 Valid top 5 accuracy 0.21652879894656293\n",
      "Accuracy didn't improve from: 0.098983424332212\n",
      "Epoch: 11/100\n"
     ]
    },
    {
     "name": "stderr",
     "output_type": "stream",
     "text": [
      "100%|██████████| 4/4 [00:10<00:00,  2.56s/it]\n"
     ]
    },
    {
     "name": "stdout",
     "output_type": "stream",
     "text": [
      "Train loss: 42.327701805707285 Train accuracy 0.18585192746318438 Train top 5 accuracy 0.3410243375829476\n"
     ]
    },
    {
     "name": "stderr",
     "output_type": "stream",
     "text": [
      "100%|██████████| 2/2 [00:02<00:00,  1.27s/it]\n"
     ]
    },
    {
     "name": "stdout",
     "output_type": "stream",
     "text": [
      "Valid loss: 6.017159153433407 Valid accuracy 0.12507527255836656 Valid top 5 accuracy 0.29861155086580443\n",
      "Saving best model wieghts, Accuracy: 0.12507527255836656\n",
      "Epoch: 12/100\n"
     ]
    },
    {
     "name": "stderr",
     "output_type": "stream",
     "text": [
      "100%|██████████| 4/4 [00:05<00:00,  1.34s/it]\n"
     ]
    },
    {
     "name": "stdout",
     "output_type": "stream",
     "text": [
      "Train loss: 44.422206793199564 Train accuracy 0.1541582146549926 Train top 5 accuracy 0.3334178501904449\n"
     ]
    },
    {
     "name": "stderr",
     "output_type": "stream",
     "text": [
      "100%|██████████| 2/2 [00:02<00:00,  1.27s/it]\n"
     ]
    },
    {
     "name": "stdout",
     "output_type": "stream",
     "text": [
      "Valid loss: 6.794475092607386 Valid accuracy 0.12308913272093325 Valid top 5 accuracy 0.27161379070842967\n",
      "Accuracy didn't improve from: 0.12507527255836656\n",
      "Epoch: 13/100\n"
     ]
    },
    {
     "name": "stderr",
     "output_type": "stream",
     "text": [
      "100%|██████████| 4/4 [00:05<00:00,  1.35s/it]\n"
     ]
    },
    {
     "name": "stdout",
     "output_type": "stream",
     "text": [
      "Train loss: 49.58614774355117 Train accuracy 0.19827586250817952 Train top 5 accuracy 0.3673935113200808\n"
     ]
    },
    {
     "name": "stderr",
     "output_type": "stream",
     "text": [
      "100%|██████████| 2/2 [00:02<00:00,  1.27s/it]\n"
     ]
    },
    {
     "name": "stdout",
     "output_type": "stream",
     "text": [
      "Valid loss: 6.171368500765632 Valid accuracy 0.14532755457741373 Valid top 5 accuracy 0.3225759573499946\n",
      "Saving best model wieghts, Accuracy: 0.14532755457741373\n",
      "Epoch: 14/100\n"
     ]
    },
    {
     "name": "stderr",
     "output_type": "stream",
     "text": [
      "100%|██████████| 4/4 [00:10<00:00,  2.56s/it]\n"
     ]
    },
    {
     "name": "stdout",
     "output_type": "stream",
     "text": [
      "Train loss: 35.47929577836219 Train accuracy 0.1990365132360774 Train top 5 accuracy 0.345334685736281\n"
     ]
    },
    {
     "name": "stderr",
     "output_type": "stream",
     "text": [
      "100%|██████████| 2/2 [00:02<00:00,  1.27s/it]\n"
     ]
    },
    {
     "name": "stdout",
     "output_type": "stream",
     "text": [
      "Valid loss: 6.444173621780732 Valid accuracy 0.1596848049803692 Valid top 5 accuracy 0.3272732289179283\n",
      "Saving best model wieghts, Accuracy: 0.1596848049803692\n",
      "Epoch: 15/100\n"
     ]
    },
    {
     "name": "stderr",
     "output_type": "stream",
     "text": [
      "100%|██████████| 4/4 [00:10<00:00,  2.56s/it]\n"
     ]
    },
    {
     "name": "stdout",
     "output_type": "stream",
     "text": [
      "Train loss: 30.449926932068433 Train accuracy 0.18483772775267854 Train top 5 accuracy 0.34001014088554415\n"
     ]
    },
    {
     "name": "stderr",
     "output_type": "stream",
     "text": [
      "100%|██████████| 2/2 [00:02<00:00,  1.27s/it]\n"
     ]
    },
    {
     "name": "stdout",
     "output_type": "stream",
     "text": [
      "Valid loss: 6.574959441142924 Valid accuracy 0.16681721258689375 Valid top 5 accuracy 0.3148955149466501\n",
      "Saving best model wieghts, Accuracy: 0.16681721258689375\n",
      "Epoch: 16/100\n"
     ]
    },
    {
     "name": "stderr",
     "output_type": "stream",
     "text": [
      "100%|██████████| 4/4 [00:05<00:00,  1.34s/it]\n"
     ]
    },
    {
     "name": "stdout",
     "output_type": "stream",
     "text": [
      "Train loss: 28.69062860836001 Train accuracy 0.22591278293882222 Train top 5 accuracy 0.3727180520894335\n"
     ]
    },
    {
     "name": "stderr",
     "output_type": "stream",
     "text": [
      "100%|██████████| 2/2 [00:02<00:00,  1.27s/it]\n"
     ]
    },
    {
     "name": "stdout",
     "output_type": "stream",
     "text": [
      "Valid loss: 6.15394800901413 Valid accuracy 0.17784266294363668 Valid top 5 accuracy 0.3510672869708608\n",
      "Saving best model wieghts, Accuracy: 0.17784266294363668\n",
      "Epoch: 17/100\n"
     ]
    },
    {
     "name": "stderr",
     "output_type": "stream",
     "text": [
      "100%|██████████| 4/4 [00:10<00:00,  2.56s/it]\n"
     ]
    },
    {
     "name": "stdout",
     "output_type": "stream",
     "text": [
      "Train loss: 26.60914273735355 Train accuracy 0.22540567952263005 Train top 5 accuracy 0.3405172437538995\n"
     ]
    },
    {
     "name": "stderr",
     "output_type": "stream",
     "text": [
      "100%|██████████| 2/2 [00:02<00:00,  1.03s/it]\n"
     ]
    },
    {
     "name": "stdout",
     "output_type": "stream",
     "text": [
      "Valid loss: 6.017252723960316 Valid accuracy 0.17626061641118107 Valid top 5 accuracy 0.343212526949013\n",
      "Accuracy didn't improve from: 0.17784266294363668\n",
      "Epoch: 18/100\n"
     ]
    },
    {
     "name": "stderr",
     "output_type": "stream",
     "text": [
      "100%|██████████| 4/4 [00:10<00:00,  2.56s/it]\n"
     ]
    },
    {
     "name": "stdout",
     "output_type": "stream",
     "text": [
      "Train loss: 22.702654605402667 Train accuracy 0.24467546079198227 Train top 5 accuracy 0.3897058801342021\n"
     ]
    },
    {
     "name": "stderr",
     "output_type": "stream",
     "text": [
      "100%|██████████| 2/2 [00:02<00:00,  1.27s/it]\n"
     ]
    },
    {
     "name": "stdout",
     "output_type": "stream",
     "text": [
      "Valid loss: 6.327880084514618 Valid accuracy 0.15211529032710722 Valid top 5 accuracy 0.29402256680323796\n",
      "Accuracy didn't improve from: 0.17784266294363668\n",
      "Epoch: 19/100\n"
     ]
    },
    {
     "name": "stderr",
     "output_type": "stream",
     "text": [
      "100%|██████████| 4/4 [00:10<00:00,  2.56s/it]\n"
     ]
    },
    {
     "name": "stdout",
     "output_type": "stream",
     "text": [
      "Train loss: 18.592168796588393 Train accuracy 0.26774848008747487 Train top 5 accuracy 0.38818458262283134\n"
     ]
    },
    {
     "name": "stderr",
     "output_type": "stream",
     "text": [
      "100%|██████████| 2/2 [00:02<00:00,  1.05s/it]\n"
     ]
    },
    {
     "name": "stdout",
     "output_type": "stream",
     "text": [
      "Valid loss: 6.293074045111151 Valid accuracy 0.18410877247943597 Valid top 5 accuracy 0.35797651407911496\n",
      "Saving best model wieghts, Accuracy: 0.18410877247943597\n",
      "Epoch: 20/100\n"
     ]
    },
    {
     "name": "stderr",
     "output_type": "stream",
     "text": [
      "100%|██████████| 4/4 [00:05<00:00,  1.34s/it]\n"
     ]
    },
    {
     "name": "stdout",
     "output_type": "stream",
     "text": [
      "Train loss: 21.92280887680895 Train accuracy 0.2390973600832855 Train top 5 accuracy 0.35623731754501076\n"
     ]
    },
    {
     "name": "stderr",
     "output_type": "stream",
     "text": [
      "100%|██████████| 2/2 [00:01<00:00,  1.02it/s]\n"
     ]
    },
    {
     "name": "stdout",
     "output_type": "stream",
     "text": [
      "Valid loss: 6.469618052244186 Valid accuracy 0.2178480501341469 Valid top 5 accuracy 0.3633037001332816\n",
      "Saving best model wieghts, Accuracy: 0.2178480501341469\n",
      "Epoch: 21/100\n"
     ]
    },
    {
     "name": "stderr",
     "output_type": "stream",
     "text": [
      "100%|██████████| 4/4 [00:05<00:00,  1.34s/it]\n"
     ]
    },
    {
     "name": "stdout",
     "output_type": "stream",
     "text": [
      "Train loss: 21.832307315924588 Train accuracy 0.23706896334667416 Train top 5 accuracy 0.3559837710824521\n"
     ]
    },
    {
     "name": "stderr",
     "output_type": "stream",
     "text": [
      "100%|██████████| 2/2 [00:01<00:00,  1.02it/s]\n"
     ]
    },
    {
     "name": "stdout",
     "output_type": "stream",
     "text": [
      "Valid loss: 6.96018992802676 Valid accuracy 0.16473070784088442 Valid top 5 accuracy 0.3399599613073994\n",
      "Accuracy didn't improve from: 0.2178480501341469\n",
      "Epoch: 22/100\n"
     ]
    },
    {
     "name": "stderr",
     "output_type": "stream",
     "text": [
      "100%|██████████| 4/4 [00:10<00:00,  2.56s/it]\n"
     ]
    },
    {
     "name": "stdout",
     "output_type": "stream",
     "text": [
      "Train loss: 27.698823735117912 Train accuracy 0.18737322439932647 Train top 5 accuracy 0.35471602323848533\n"
     ]
    },
    {
     "name": "stderr",
     "output_type": "stream",
     "text": [
      "100%|██████████| 2/2 [00:02<00:00,  1.03s/it]\n"
     ]
    },
    {
     "name": "stdout",
     "output_type": "stream",
     "text": [
      "Valid loss: 6.39108806848526 Valid accuracy 0.188191979246981 Valid top 5 accuracy 0.3557117356754401\n",
      "Accuracy didn't improve from: 0.2178480501341469\n",
      "Epoch: 23/100\n"
     ]
    },
    {
     "name": "stderr",
     "output_type": "stream",
     "text": [
      "100%|██████████| 4/4 [00:05<00:00,  1.33s/it]\n"
     ]
    },
    {
     "name": "stdout",
     "output_type": "stream",
     "text": [
      "Train loss: 16.82933428445283 Train accuracy 0.2829614565707743 Train top 5 accuracy 0.3818458439782262\n"
     ]
    },
    {
     "name": "stderr",
     "output_type": "stream",
     "text": [
      "100%|██████████| 2/2 [00:01<00:00,  1.02it/s]\n"
     ]
    },
    {
     "name": "stdout",
     "output_type": "stream",
     "text": [
      "Valid loss: 6.0929548091748185 Valid accuracy 0.17178652194492958 Valid top 5 accuracy 0.32630789279937744\n",
      "Accuracy didn't improve from: 0.2178480501341469\n",
      "Epoch: 24/100\n"
     ]
    },
    {
     "name": "stderr",
     "output_type": "stream",
     "text": [
      "100%|██████████| 4/4 [00:05<00:00,  1.34s/it]\n"
     ]
    },
    {
     "name": "stdout",
     "output_type": "stream",
     "text": [
      "Train loss: 13.406529112773782 Train accuracy 0.2925963521222858 Train top 5 accuracy 0.3897058807368226\n"
     ]
    },
    {
     "name": "stderr",
     "output_type": "stream",
     "text": [
      "100%|██████████| 2/2 [00:01<00:00,  1.02it/s]\n"
     ]
    },
    {
     "name": "stdout",
     "output_type": "stream",
     "text": [
      "Valid loss: 6.265865165521117 Valid accuracy 0.21896129112471552 Valid top 5 accuracy 0.3593353816472432\n",
      "Saving best model wieghts, Accuracy: 0.21896129112471552\n",
      "Epoch: 25/100\n"
     ]
    },
    {
     "name": "stderr",
     "output_type": "stream",
     "text": [
      "100%|██████████| 4/4 [00:05<00:00,  1.35s/it]\n"
     ]
    },
    {
     "name": "stdout",
     "output_type": "stream",
     "text": [
      "Train loss: 12.765656159204596 Train accuracy 0.28422921170097065 Train top 5 accuracy 0.3894523295902592\n"
     ]
    },
    {
     "name": "stderr",
     "output_type": "stream",
     "text": [
      "100%|██████████| 2/2 [00:01<00:00,  1.02it/s]\n"
     ]
    },
    {
     "name": "stdout",
     "output_type": "stream",
     "text": [
      "Valid loss: 6.489471728310866 Valid accuracy 0.18057360379573176 Valid top 5 accuracy 0.34374735953614993\n",
      "Accuracy didn't improve from: 0.21896129112471552\n",
      "Epoch: 26/100\n"
     ]
    },
    {
     "name": "stderr",
     "output_type": "stream",
     "text": [
      "100%|██████████| 4/4 [00:10<00:00,  2.56s/it]\n"
     ]
    },
    {
     "name": "stdout",
     "output_type": "stream",
     "text": [
      "Train loss: 15.300013824420816 Train accuracy 0.27510141657994075 Train top 5 accuracy 0.38564908518182006\n"
     ]
    },
    {
     "name": "stderr",
     "output_type": "stream",
     "text": [
      "100%|██████████| 2/2 [00:02<00:00,  1.03s/it]\n"
     ]
    },
    {
     "name": "stdout",
     "output_type": "stream",
     "text": [
      "Valid loss: 5.911974660613957 Valid accuracy 0.1936049997149145 Valid top 5 accuracy 0.35489430026534724\n",
      "Accuracy didn't improve from: 0.21896129112471552\n",
      "Epoch: 27/100\n"
     ]
    },
    {
     "name": "stderr",
     "output_type": "stream",
     "text": [
      "100%|██████████| 4/4 [00:10<00:00,  2.56s/it]\n"
     ]
    },
    {
     "name": "stdout",
     "output_type": "stream",
     "text": [
      "Train loss: 15.724077032331158 Train accuracy 0.27205882522770586 Train top 5 accuracy 0.3856490816756645\n"
     ]
    },
    {
     "name": "stderr",
     "output_type": "stream",
     "text": [
      "100%|██████████| 2/2 [00:02<00:00,  1.02s/it]\n"
     ]
    },
    {
     "name": "stdout",
     "output_type": "stream",
     "text": [
      "Valid loss: 6.617325348012588 Valid accuracy 0.21922672539949417 Valid top 5 accuracy 0.3611339986981714\n",
      "Saving best model wieghts, Accuracy: 0.21922672539949417\n",
      "Epoch: 28/100\n"
     ]
    },
    {
     "name": "stderr",
     "output_type": "stream",
     "text": [
      "100%|██████████| 4/4 [00:10<00:00,  2.56s/it]\n"
     ]
    },
    {
     "name": "stdout",
     "output_type": "stream",
     "text": [
      "Train loss: 12.584916968117742 Train accuracy 0.29158214849474673 Train top 5 accuracy 0.38387423942742105\n"
     ]
    },
    {
     "name": "stderr",
     "output_type": "stream",
     "text": [
      "100%|██████████| 2/2 [00:02<00:00,  1.03s/it]\n"
     ]
    },
    {
     "name": "stdout",
     "output_type": "stream",
     "text": [
      "Valid loss: 6.772039516883738 Valid accuracy 0.19397608289385543 Valid top 5 accuracy 0.3521699644625187\n",
      "Accuracy didn't improve from: 0.21922672539949417\n",
      "Epoch: 29/100\n"
     ]
    },
    {
     "name": "stderr",
     "output_type": "stream",
     "text": [
      "100%|██████████| 4/4 [00:10<00:00,  2.56s/it]\n"
     ]
    },
    {
     "name": "stdout",
     "output_type": "stream",
     "text": [
      "Train loss: 10.064708217101938 Train accuracy 0.3316430053947603 Train top 5 accuracy 0.3937626815510585\n"
     ]
    },
    {
     "name": "stderr",
     "output_type": "stream",
     "text": [
      "100%|██████████| 2/2 [00:02<00:00,  1.04s/it]\n"
     ]
    },
    {
     "name": "stdout",
     "output_type": "stream",
     "text": [
      "Valid loss: 6.368556914960637 Valid accuracy 0.19275455286397652 Valid top 5 accuracy 0.3303356347057749\n",
      "Accuracy didn't improve from: 0.21922672539949417\n",
      "Epoch: 30/100\n"
     ]
    },
    {
     "name": "stderr",
     "output_type": "stream",
     "text": [
      "100%|██████████| 4/4 [00:10<00:00,  2.56s/it]\n"
     ]
    },
    {
     "name": "stdout",
     "output_type": "stream",
     "text": [
      "Train loss: 10.990445600713 Train accuracy 0.31921906484400525 Train top 5 accuracy 0.3930020298644462\n"
     ]
    },
    {
     "name": "stderr",
     "output_type": "stream",
     "text": [
      "100%|██████████| 2/2 [00:02<00:00,  1.27s/it]\n"
     ]
    },
    {
     "name": "stdout",
     "output_type": "stream",
     "text": [
      "Valid loss: 6.183163216885398 Valid accuracy 0.1877588324029656 Valid top 5 accuracy 0.32225110129836726\n",
      "Accuracy didn't improve from: 0.21922672539949417\n",
      "Epoch: 31/100\n"
     ]
    },
    {
     "name": "stderr",
     "output_type": "stream",
     "text": [
      "100%|██████████| 4/4 [00:10<00:00,  2.56s/it]\n"
     ]
    },
    {
     "name": "stdout",
     "output_type": "stream",
     "text": [
      "Train loss: 11.20954723349389 Train accuracy 0.3057809318141902 Train top 5 accuracy 0.3912271788508138\n"
     ]
    },
    {
     "name": "stderr",
     "output_type": "stream",
     "text": [
      "100%|██████████| 2/2 [00:02<00:00,  1.04s/it]\n"
     ]
    },
    {
     "name": "stdout",
     "output_type": "stream",
     "text": [
      "Valid loss: 6.715982836835525 Valid accuracy 0.1906574860434322 Valid top 5 accuracy 0.35071601269437985\n",
      "Accuracy didn't improve from: 0.21922672539949417\n",
      "Epoch: 32/100\n"
     ]
    },
    {
     "name": "stderr",
     "output_type": "stream",
     "text": [
      "100%|██████████| 4/4 [00:10<00:00,  2.56s/it]\n"
     ]
    },
    {
     "name": "stdout",
     "output_type": "stream",
     "text": [
      "Train loss: 12.05574676087674 Train accuracy 0.3103448339354466 Train top 5 accuracy 0.39021298302994933\n"
     ]
    },
    {
     "name": "stderr",
     "output_type": "stream",
     "text": [
      "100%|██████████| 2/2 [00:02<00:00,  1.04s/it]\n"
     ]
    },
    {
     "name": "stdout",
     "output_type": "stream",
     "text": [
      "Valid loss: 6.395547638044638 Valid accuracy 0.22785005652729204 Valid top 5 accuracy 0.3608289494672242\n",
      "Saving best model wieghts, Accuracy: 0.22785005652729204\n",
      "Epoch: 33/100\n"
     ]
    },
    {
     "name": "stderr",
     "output_type": "stream",
     "text": [
      "100%|██████████| 4/4 [00:10<00:00,  2.56s/it]\n"
     ]
    },
    {
     "name": "stdout",
     "output_type": "stream",
     "text": [
      "Train loss: 10.163923288969432 Train accuracy 0.29386409744620323 Train top 5 accuracy 0.385395537240102\n"
     ]
    },
    {
     "name": "stderr",
     "output_type": "stream",
     "text": [
      "100%|██████████| 2/2 [00:02<00:00,  1.03s/it]\n"
     ]
    },
    {
     "name": "stdout",
     "output_type": "stream",
     "text": [
      "Valid loss: 6.907388836145401 Valid accuracy 0.21609565034946976 Valid top 5 accuracy 0.3402121915098499\n",
      "Accuracy didn't improve from: 0.22785005652729204\n",
      "Epoch: 34/100\n"
     ]
    },
    {
     "name": "stderr",
     "output_type": "stream",
     "text": [
      "100%|██████████| 4/4 [00:10<00:00,  2.56s/it]\n"
     ]
    },
    {
     "name": "stdout",
     "output_type": "stream",
     "text": [
      "Train loss: 11.066417190958472 Train accuracy 0.29690669561900634 Train top 5 accuracy 0.3891987801967737\n"
     ]
    },
    {
     "name": "stderr",
     "output_type": "stream",
     "text": [
      "100%|██████████| 2/2 [00:02<00:00,  1.27s/it]\n"
     ]
    },
    {
     "name": "stdout",
     "output_type": "stream",
     "text": [
      "Valid loss: 6.328823493684039 Valid accuracy 0.24247274416334488 Valid top 5 accuracy 0.3650006347281091\n",
      "Saving best model wieghts, Accuracy: 0.24247274416334488\n",
      "Epoch: 35/100\n"
     ]
    },
    {
     "name": "stderr",
     "output_type": "stream",
     "text": [
      "100%|██████████| 4/4 [00:10<00:00,  2.56s/it]\n"
     ]
    },
    {
     "name": "stdout",
     "output_type": "stream",
     "text": [
      "Train loss: 7.021044590893914 Train accuracy 0.3341784999596284 Train top 5 accuracy 0.3950304250123308\n"
     ]
    },
    {
     "name": "stderr",
     "output_type": "stream",
     "text": [
      "100%|██████████| 2/2 [00:02<00:00,  1.03s/it]\n"
     ]
    },
    {
     "name": "stdout",
     "output_type": "stream",
     "text": [
      "Valid loss: 6.417035446447485 Valid accuracy 0.2317853589706561 Valid top 5 accuracy 0.35897090417497296\n",
      "Accuracy didn't improve from: 0.24247274416334488\n",
      "Epoch: 36/100\n"
     ]
    },
    {
     "name": "stderr",
     "output_type": "stream",
     "text": [
      "100%|██████████| 4/4 [00:05<00:00,  1.33s/it]\n"
     ]
    },
    {
     "name": "stdout",
     "output_type": "stream",
     "text": [
      "Train loss: 8.516860023140907 Train accuracy 0.3042596316732028 Train top 5 accuracy 0.3909736294573283\n"
     ]
    },
    {
     "name": "stderr",
     "output_type": "stream",
     "text": [
      "100%|██████████| 2/2 [00:02<00:00,  1.27s/it]\n"
     ]
    },
    {
     "name": "stdout",
     "output_type": "stream",
     "text": [
      "Valid loss: 6.558081712792902 Valid accuracy 0.23883589116089485 Valid top 5 accuracy 0.35907258860328617\n",
      "Accuracy didn't improve from: 0.24247274416334488\n",
      "Epoch: 37/100\n"
     ]
    },
    {
     "name": "stderr",
     "output_type": "stream",
     "text": [
      "100%|██████████| 4/4 [00:10<00:00,  2.56s/it]\n"
     ]
    },
    {
     "name": "stdout",
     "output_type": "stream",
     "text": [
      "Train loss: 9.210735808400546 Train accuracy 0.30882353111005884 Train top 5 accuracy 0.3912271788508138\n"
     ]
    },
    {
     "name": "stderr",
     "output_type": "stream",
     "text": [
      "100%|██████████| 2/2 [00:02<00:00,  1.27s/it]\n"
     ]
    },
    {
     "name": "stdout",
     "output_type": "stream",
     "text": [
      "Valid loss: 6.854704474701601 Valid accuracy 0.21446474630604773 Valid top 5 accuracy 0.3566242484923671\n",
      "Accuracy didn't improve from: 0.24247274416334488\n",
      "Epoch: 38/100\n"
     ]
    },
    {
     "name": "stderr",
     "output_type": "stream",
     "text": [
      "100%|██████████| 4/4 [00:05<00:00,  1.35s/it]\n"
     ]
    },
    {
     "name": "stdout",
     "output_type": "stream",
     "text": [
      "Train loss: 6.504734249675975 Train accuracy 0.336967545808019 Train top 5 accuracy 0.3927484804709606\n"
     ]
    },
    {
     "name": "stderr",
     "output_type": "stream",
     "text": [
      "100%|██████████| 2/2 [00:02<00:00,  1.27s/it]\n"
     ]
    },
    {
     "name": "stdout",
     "output_type": "stream",
     "text": [
      "Valid loss: 6.658009781556971 Valid accuracy 0.24413666205809398 Valid top 5 accuracy 0.3629590307964998\n",
      "Saving best model wieghts, Accuracy: 0.24413666205809398\n",
      "Epoch: 39/100\n"
     ]
    },
    {
     "name": "stderr",
     "output_type": "stream",
     "text": [
      "100%|██████████| 4/4 [00:05<00:00,  1.34s/it]\n"
     ]
    },
    {
     "name": "stdout",
     "output_type": "stream",
     "text": [
      "Train loss: 7.417399092193912 Train accuracy 0.31769776790786314 Train top 5 accuracy 0.38919878194985147\n"
     ]
    },
    {
     "name": "stderr",
     "output_type": "stream",
     "text": [
      "100%|██████████| 2/2 [00:02<00:00,  1.27s/it]\n"
     ]
    },
    {
     "name": "stdout",
     "output_type": "stream",
     "text": [
      "Valid loss: 6.834110927055864 Valid accuracy 0.23432613898287802 Valid top 5 accuracy 0.3569755247410606\n",
      "Accuracy didn't improve from: 0.24413666205809398\n",
      "Epoch: 40/100\n"
     ]
    },
    {
     "name": "stderr",
     "output_type": "stream",
     "text": [
      "100%|██████████| 4/4 [00:05<00:00,  1.33s/it]\n"
     ]
    },
    {
     "name": "stdout",
     "output_type": "stream",
     "text": [
      "Train loss: 7.147218480706215 Train accuracy 0.33569979511530085 Train top 5 accuracy 0.3940162291914663\n"
     ]
    },
    {
     "name": "stderr",
     "output_type": "stream",
     "text": [
      "100%|██████████| 2/2 [00:02<00:00,  1.27s/it]\n"
     ]
    },
    {
     "name": "stdout",
     "output_type": "stream",
     "text": [
      "Valid loss: 6.841553153360591 Valid accuracy 0.21020062212996624 Valid top 5 accuracy 0.35158231043640303\n",
      "Accuracy didn't improve from: 0.24413666205809398\n",
      "Epoch: 41/100\n"
     ]
    },
    {
     "name": "stderr",
     "output_type": "stream",
     "text": [
      "100%|██████████| 4/4 [00:05<00:00,  1.34s/it]\n"
     ]
    },
    {
     "name": "stdout",
     "output_type": "stream",
     "text": [
      "Train loss: 6.4857578628203445 Train accuracy 0.32555781148702784 Train top 5 accuracy 0.3940162291914663\n"
     ]
    },
    {
     "name": "stderr",
     "output_type": "stream",
     "text": [
      "100%|██████████| 2/2 [00:02<00:00,  1.27s/it]\n"
     ]
    },
    {
     "name": "stdout",
     "output_type": "stream",
     "text": [
      "Valid loss: 6.904090729706428 Valid accuracy 0.2486767878427225 Valid top 5 accuracy 0.36605445021653876\n",
      "Saving best model wieghts, Accuracy: 0.2486767878427225\n",
      "Epoch: 42/100\n"
     ]
    },
    {
     "name": "stderr",
     "output_type": "stream",
     "text": [
      "100%|██████████| 4/4 [00:10<00:00,  2.56s/it]\n"
     ]
    },
    {
     "name": "stdout",
     "output_type": "stream",
     "text": [
      "Train loss: 6.038574843722231 Train accuracy 0.3351926983005422 Train top 5 accuracy 0.3942697750787963\n"
     ]
    },
    {
     "name": "stderr",
     "output_type": "stream",
     "text": [
      "100%|██████████| 2/2 [00:02<00:00,  1.02s/it]\n"
     ]
    },
    {
     "name": "stdout",
     "output_type": "stream",
     "text": [
      "Valid loss: 6.666400890139973 Valid accuracy 0.24463583846740863 Valid top 5 accuracy 0.3653453020926784\n",
      "Accuracy didn't improve from: 0.2486767878427225\n",
      "Epoch: 43/100\n"
     ]
    },
    {
     "name": "stderr",
     "output_type": "stream",
     "text": [
      "100%|██████████| 4/4 [00:05<00:00,  1.35s/it]\n"
     ]
    },
    {
     "name": "stdout",
     "output_type": "stream",
     "text": [
      "Train loss: 12.606413695742102 Train accuracy 0.2910750537891598 Train top 5 accuracy 0.38970588218859015\n"
     ]
    },
    {
     "name": "stderr",
     "output_type": "stream",
     "text": [
      "100%|██████████| 2/2 [00:01<00:00,  1.03it/s]\n"
     ]
    },
    {
     "name": "stdout",
     "output_type": "stream",
     "text": [
      "Valid loss: 6.61271248144262 Valid accuracy 0.1713573366184445 Valid top 5 accuracy 0.3109007880968206\n",
      "Accuracy didn't improve from: 0.2486767878427225\n",
      "Epoch: 44/100\n"
     ]
    },
    {
     "name": "stderr",
     "output_type": "stream",
     "text": [
      "100%|██████████| 4/4 [00:10<00:00,  2.56s/it]\n"
     ]
    },
    {
     "name": "stdout",
     "output_type": "stream",
     "text": [
      "Train loss: 17.4452664614929 Train accuracy 0.2966531418154345 Train top 5 accuracy 0.39173427939086275\n"
     ]
    },
    {
     "name": "stderr",
     "output_type": "stream",
     "text": [
      "100%|██████████| 2/2 [00:02<00:00,  1.27s/it]\n"
     ]
    },
    {
     "name": "stdout",
     "output_type": "stream",
     "text": [
      "Valid loss: 6.42504141961827 Valid accuracy 0.1880770905272049 Valid top 5 accuracy 0.3125581059824018\n",
      "Accuracy didn't improve from: 0.2486767878427225\n",
      "Epoch: 45/100\n"
     ]
    },
    {
     "name": "stderr",
     "output_type": "stream",
     "text": [
      "100%|██████████| 4/4 [00:05<00:00,  1.34s/it]\n"
     ]
    },
    {
     "name": "stdout",
     "output_type": "stream",
     "text": [
      "Train loss: 44.86442464327111 Train accuracy 0.22210953480509274 Train top 5 accuracy 0.3795638909727773\n"
     ]
    },
    {
     "name": "stderr",
     "output_type": "stream",
     "text": [
      "100%|██████████| 2/2 [00:02<00:00,  1.27s/it]\n"
     ]
    },
    {
     "name": "stdout",
     "output_type": "stream",
     "text": [
      "Valid loss: 6.411385329330669 Valid accuracy 0.09020954896421994 Valid top 5 accuracy 0.2044957547503359\n",
      "Accuracy didn't improve from: 0.2486767878427225\n",
      "Epoch: 46/100\n"
     ]
    },
    {
     "name": "stderr",
     "output_type": "stream",
     "text": [
      "100%|██████████| 4/4 [00:05<00:00,  1.36s/it]\n"
     ]
    },
    {
     "name": "stdout",
     "output_type": "stream",
     "text": [
      "Train loss: 16.390338714618018 Train accuracy 0.3007099369321676 Train top 5 accuracy 0.38995943538954153\n"
     ]
    },
    {
     "name": "stderr",
     "output_type": "stream",
     "text": [
      "100%|██████████| 2/2 [00:01<00:00,  1.00it/s]\n"
     ]
    },
    {
     "name": "stdout",
     "output_type": "stream",
     "text": [
      "Valid loss: 6.993836751755546 Valid accuracy 0.20933432646972291 Valid top 5 accuracy 0.35104087323826905\n",
      "Accuracy didn't improve from: 0.2486767878427225\n",
      "Epoch: 47/100\n"
     ]
    },
    {
     "name": "stderr",
     "output_type": "stream",
     "text": [
      "100%|██████████| 4/4 [00:05<00:00,  1.34s/it]\n"
     ]
    },
    {
     "name": "stdout",
     "output_type": "stream",
     "text": [
      "Train loss: 8.26582579840632 Train accuracy 0.3425456398878904 Train top 5 accuracy 0.3930020263582906\n"
     ]
    },
    {
     "name": "stderr",
     "output_type": "stream",
     "text": [
      "100%|██████████| 2/2 [00:01<00:00,  1.02it/s]\n"
     ]
    },
    {
     "name": "stdout",
     "output_type": "stream",
     "text": [
      "Valid loss: 6.996380798080388 Valid accuracy 0.22724919536096208 Valid top 5 accuracy 0.35923369864330573\n",
      "Accuracy didn't improve from: 0.2486767878427225\n",
      "Epoch: 48/100\n"
     ]
    },
    {
     "name": "stderr",
     "output_type": "stream",
     "text": [
      "100%|██████████| 4/4 [00:10<00:00,  2.56s/it]\n"
     ]
    },
    {
     "name": "stdout",
     "output_type": "stream",
     "text": [
      "Train loss: 6.477445045814795 Train accuracy 0.3516734285992296 Train top 5 accuracy 0.3945233244722819\n"
     ]
    },
    {
     "name": "stderr",
     "output_type": "stream",
     "text": [
      "100%|██████████| 2/2 [00:02<00:00,  1.27s/it]\n"
     ]
    },
    {
     "name": "stdout",
     "output_type": "stream",
     "text": [
      "Valid loss: 6.956133465556538 Valid accuracy 0.224098313928527 Valid top 5 accuracy 0.35675234742024364\n",
      "Accuracy didn't improve from: 0.2486767878427225\n",
      "Epoch: 49/100\n"
     ]
    },
    {
     "name": "stderr",
     "output_type": "stream",
     "text": [
      "100%|██████████| 4/4 [00:05<00:00,  1.33s/it]\n"
     ]
    },
    {
     "name": "stdout",
     "output_type": "stream",
     "text": [
      "Train loss: 5.935666353386991 Train accuracy 0.3519269796088338 Train top 5 accuracy 0.3947768756188452\n"
     ]
    },
    {
     "name": "stderr",
     "output_type": "stream",
     "text": [
      "100%|██████████| 2/2 [00:01<00:00,  1.00it/s]\n"
     ]
    },
    {
     "name": "stdout",
     "output_type": "stream",
     "text": [
      "Valid loss: 6.947705140885184 Valid accuracy 0.2201498068649979 Valid top 5 accuracy 0.3576648612232769\n",
      "Accuracy didn't improve from: 0.2486767878427225\n",
      "Epoch: 50/100\n"
     ]
    },
    {
     "name": "stderr",
     "output_type": "stream",
     "text": [
      "100%|██████████| 4/4 [00:10<00:00,  2.56s/it]\n"
     ]
    },
    {
     "name": "stdout",
     "output_type": "stream",
     "text": [
      "Train loss: 5.2633603614042785 Train accuracy 0.35471602644333067 Train top 5 accuracy 0.395030423259253\n"
     ]
    },
    {
     "name": "stderr",
     "output_type": "stream",
     "text": [
      "100%|██████████| 2/2 [00:02<00:00,  1.27s/it]\n"
     ]
    },
    {
     "name": "stdout",
     "output_type": "stream",
     "text": [
      "Valid loss: 6.953987339840216 Valid accuracy 0.2285195866270977 Valid top 5 accuracy 0.35889563391752105\n",
      "Accuracy didn't improve from: 0.2486767878427225\n",
      "Epoch: 51/100\n"
     ]
    },
    {
     "name": "stderr",
     "output_type": "stream",
     "text": [
      "100%|██████████| 4/4 [00:10<00:00,  2.56s/it]\n"
     ]
    },
    {
     "name": "stdout",
     "output_type": "stream",
     "text": [
      "Train loss: 4.525357347200899 Train accuracy 0.36130831680972786 Train top 5 accuracy 0.39503042676540856\n"
     ]
    },
    {
     "name": "stderr",
     "output_type": "stream",
     "text": [
      "100%|██████████| 2/2 [00:02<00:00,  1.27s/it]\n"
     ]
    },
    {
     "name": "stdout",
     "output_type": "stream",
     "text": [
      "Valid loss: 6.970192466588581 Valid accuracy 0.24498050769462304 Valid top 5 accuracy 0.36174806722385044\n",
      "Accuracy didn't improve from: 0.2486767878427225\n",
      "model didn't improve for 10 epochs----> lower learning rate to 2e-05\n",
      "Epoch: 52/100\n"
     ]
    },
    {
     "name": "stderr",
     "output_type": "stream",
     "text": [
      "100%|██████████| 4/4 [00:11<00:00,  2.93s/it]\n"
     ]
    },
    {
     "name": "stdout",
     "output_type": "stream",
     "text": [
      "Train loss: 4.13460994336535 Train accuracy 0.36130832206896124 Train top 5 accuracy 0.39528397440581636\n"
     ]
    },
    {
     "name": "stderr",
     "output_type": "stream",
     "text": [
      "100%|██████████| 2/2 [00:10<00:00,  5.11s/it]\n"
     ]
    },
    {
     "name": "stdout",
     "output_type": "stream",
     "text": [
      "Valid loss: 7.061620437047061 Valid accuracy 0.25113172872978096 Valid top 5 accuracy 0.36116041177335906\n",
      "Saving best model wieghts, Accuracy: 0.25113172872978096\n",
      "Epoch: 53/100\n"
     ]
    },
    {
     "name": "stderr",
     "output_type": "stream",
     "text": [
      "100%|██████████| 4/4 [00:10<00:00,  2.56s/it]\n"
     ]
    },
    {
     "name": "stdout",
     "output_type": "stream",
     "text": [
      "Train loss: 3.8366135135293007 Train accuracy 0.3605476686292711 Train top 5 accuracy 0.39528397440581636\n"
     ]
    },
    {
     "name": "stderr",
     "output_type": "stream",
     "text": [
      "100%|██████████| 2/2 [00:02<00:00,  1.03s/it]\n"
     ]
    },
    {
     "name": "stdout",
     "output_type": "stream",
     "text": [
      "Valid loss: 7.073450113044066 Valid accuracy 0.25293034884859533 Valid top 5 accuracy 0.36184314704116655\n",
      "Saving best model wieghts, Accuracy: 0.25293034884859533\n",
      "Epoch: 54/100\n"
     ]
    },
    {
     "name": "stderr",
     "output_type": "stream",
     "text": [
      "100%|██████████| 4/4 [00:05<00:00,  1.34s/it]\n"
     ]
    },
    {
     "name": "stdout",
     "output_type": "stream",
     "text": [
      "Train loss: 3.667528662173187 Train accuracy 0.3602941224406309 Train top 5 accuracy 0.39528397440581636\n"
     ]
    },
    {
     "name": "stderr",
     "output_type": "stream",
     "text": [
      "100%|██████████| 2/2 [00:01<00:00,  1.01it/s]\n"
     ]
    },
    {
     "name": "stdout",
     "output_type": "stream",
     "text": [
      "Valid loss: 7.114677389754968 Valid accuracy 0.2549521410289933 Valid top 5 accuracy 0.3623977875446572\n",
      "Saving best model wieghts, Accuracy: 0.2549521410289933\n",
      "Epoch: 55/100\n"
     ]
    },
    {
     "name": "stderr",
     "output_type": "stream",
     "text": [
      "100%|██████████| 4/4 [00:10<00:00,  2.56s/it]\n"
     ]
    },
    {
     "name": "stdout",
     "output_type": "stream",
     "text": [
      "Train loss: 3.482888137592989 Train accuracy 0.36359026630902114 Train top 5 accuracy 0.39553752555237975\n"
     ]
    },
    {
     "name": "stderr",
     "output_type": "stream",
     "text": [
      "100%|██████████| 2/2 [00:02<00:00,  1.27s/it]\n"
     ]
    },
    {
     "name": "stdout",
     "output_type": "stream",
     "text": [
      "Valid loss: 7.134532977552975 Valid accuracy 0.2554183036965482 Valid top 5 accuracy 0.36343179577413726\n",
      "Saving best model wieghts, Accuracy: 0.2554183036965482\n",
      "Epoch: 56/100\n"
     ]
    },
    {
     "name": "stderr",
     "output_type": "stream",
     "text": [
      "100%|██████████| 4/4 [00:05<00:00,  1.35s/it]\n"
     ]
    },
    {
     "name": "stdout",
     "output_type": "stream",
     "text": [
      "Train loss: 3.337509474333595 Train accuracy 0.36866125590441856 Train top 5 accuracy 0.39553752555237975\n"
     ]
    },
    {
     "name": "stderr",
     "output_type": "stream",
     "text": [
      "100%|██████████| 2/2 [00:01<00:00,  1.02it/s]\n"
     ]
    },
    {
     "name": "stdout",
     "output_type": "stream",
     "text": [
      "Valid loss: 7.128908483421101 Valid accuracy 0.2536130818154882 Valid top 5 accuracy 0.3628771561471855\n",
      "Accuracy didn't improve from: 0.2554183036965482\n",
      "Epoch: 57/100\n"
     ]
    },
    {
     "name": "stderr",
     "output_type": "stream",
     "text": [
      "100%|██████████| 4/4 [00:05<00:00,  1.35s/it]\n"
     ]
    },
    {
     "name": "stdout",
     "output_type": "stream",
     "text": [
      "Train loss: 3.2872441042872036 Train accuracy 0.3729716043590623 Train top 5 accuracy 0.39553752555237975\n"
     ]
    },
    {
     "name": "stderr",
     "output_type": "stream",
     "text": [
      "100%|██████████| 2/2 [00:02<00:00,  1.27s/it]\n"
     ]
    },
    {
     "name": "stdout",
     "output_type": "stream",
     "text": [
      "Valid loss: 7.169055149835699 Valid accuracy 0.2434935442665044 Valid top 5 accuracy 0.3606057731325136\n",
      "Accuracy didn't improve from: 0.2554183036965482\n",
      "Epoch: 58/100\n"
     ]
    },
    {
     "name": "stderr",
     "output_type": "stream",
     "text": [
      "100%|██████████| 4/4 [00:10<00:00,  2.56s/it]\n"
     ]
    },
    {
     "name": "stdout",
     "output_type": "stream",
     "text": [
      "Train loss: 3.1408991053262176 Train accuracy 0.3727180479532656 Train top 5 accuracy 0.3957910731927875\n"
     ]
    },
    {
     "name": "stderr",
     "output_type": "stream",
     "text": [
      "100%|██████████| 2/2 [00:02<00:00,  1.28s/it]\n"
     ]
    },
    {
     "name": "stdout",
     "output_type": "stream",
     "text": [
      "Valid loss: 7.23067359012716 Valid accuracy 0.24372332444524064 Valid top 5 accuracy 0.35888902864911976\n",
      "Accuracy didn't improve from: 0.2554183036965482\n",
      "Epoch: 59/100\n"
     ]
    },
    {
     "name": "stderr",
     "output_type": "stream",
     "text": [
      "100%|██████████| 4/4 [00:10<00:00,  2.56s/it]\n"
     ]
    },
    {
     "name": "stdout",
     "output_type": "stream",
     "text": [
      "Train loss: 3.0542768882039715 Train accuracy 0.36992900462492423 Train top 5 accuracy 0.3957910731927875\n"
     ]
    },
    {
     "name": "stderr",
     "output_type": "stream",
     "text": [
      "100%|██████████| 2/2 [00:02<00:00,  1.28s/it]\n"
     ]
    },
    {
     "name": "stdout",
     "output_type": "stream",
     "text": [
      "Valid loss: 7.212690767119913 Valid accuracy 0.2482660899267477 Valid top 5 accuracy 0.3582261039272827\n",
      "Accuracy didn't improve from: 0.2554183036965482\n",
      "Epoch: 60/100\n"
     ]
    },
    {
     "name": "stderr",
     "output_type": "stream",
     "text": [
      "100%|██████████| 4/4 [00:10<00:00,  2.56s/it]\n"
     ]
    },
    {
     "name": "stdout",
     "output_type": "stream",
     "text": [
      "Train loss: 3.0310690836871372 Train accuracy 0.3646044621024938 Train top 5 accuracy 0.39553752204622417\n"
     ]
    },
    {
     "name": "stderr",
     "output_type": "stream",
     "text": [
      "100%|██████████| 2/2 [00:02<00:00,  1.27s/it]\n"
     ]
    },
    {
     "name": "stdout",
     "output_type": "stream",
     "text": [
      "Valid loss: 7.191841914373286 Valid accuracy 0.2550868413904134 Valid top 5 accuracy 0.36150508176754503\n",
      "Accuracy didn't improve from: 0.2554183036965482\n",
      "Epoch: 61/100\n"
     ]
    },
    {
     "name": "stderr",
     "output_type": "stream",
     "text": [
      "100%|██████████| 4/4 [00:10<00:00,  2.56s/it]\n"
     ]
    },
    {
     "name": "stdout",
     "output_type": "stream",
     "text": [
      "Train loss: 3.1630922512096515 Train accuracy 0.3595334672204712 Train top 5 accuracy 0.3957910731927875\n"
     ]
    },
    {
     "name": "stderr",
     "output_type": "stream",
     "text": [
      "100%|██████████| 2/2 [00:02<00:00,  1.27s/it]\n"
     ]
    },
    {
     "name": "stdout",
     "output_type": "stream",
     "text": [
      "Valid loss: 7.282748487942359 Valid accuracy 0.260184245512766 Valid top 5 accuracy 0.3613901919520953\n",
      "Saving best model wieghts, Accuracy: 0.260184245512766\n",
      "Epoch: 62/100\n"
     ]
    },
    {
     "name": "stderr",
     "output_type": "stream",
     "text": [
      "100%|██████████| 4/4 [00:10<00:00,  2.56s/it]\n"
     ]
    },
    {
     "name": "stdout",
     "output_type": "stream",
     "text": [
      "Train loss: 2.5343909276758922 Train accuracy 0.37068965631153655 Train top 5 accuracy 0.3957910731927875\n"
     ]
    },
    {
     "name": "stderr",
     "output_type": "stream",
     "text": [
      "100%|██████████| 2/2 [00:02<00:00,  1.27s/it]\n"
     ]
    },
    {
     "name": "stdout",
     "output_type": "stream",
     "text": [
      "Valid loss: 7.3413068652153015 Valid accuracy 0.26507828209330053 Valid top 5 accuracy 0.3619646388379967\n",
      "Saving best model wieghts, Accuracy: 0.26507828209330053\n",
      "Epoch: 63/100\n"
     ]
    },
    {
     "name": "stderr",
     "output_type": "stream",
     "text": [
      "100%|██████████| 4/4 [00:05<00:00,  1.33s/it]\n"
     ]
    },
    {
     "name": "stdout",
     "output_type": "stream",
     "text": [
      "Train loss: 2.6597835130113014 Train accuracy 0.369929006378002 Train top 5 accuracy 0.3957910731927875\n"
     ]
    },
    {
     "name": "stderr",
     "output_type": "stream",
     "text": [
      "100%|██████████| 2/2 [00:02<00:00,  1.27s/it]\n"
     ]
    },
    {
     "name": "stdout",
     "output_type": "stream",
     "text": [
      "Valid loss: 7.4164601371568795 Valid accuracy 0.25593068801304875 Valid top 5 accuracy 0.36152488804038835\n",
      "Accuracy didn't improve from: 0.26507828209330053\n",
      "Epoch: 64/100\n"
     ]
    },
    {
     "name": "stderr",
     "output_type": "stream",
     "text": [
      "100%|██████████| 4/4 [00:05<00:00,  1.36s/it]\n"
     ]
    },
    {
     "name": "stdout",
     "output_type": "stream",
     "text": [
      "Train loss: 2.3731460198760033 Train accuracy 0.37221095442552776 Train top 5 accuracy 0.3957910731927875\n"
     ]
    },
    {
     "name": "stderr",
     "output_type": "stream",
     "text": [
      "100%|██████████| 2/2 [00:01<00:00,  1.02it/s]\n"
     ]
    },
    {
     "name": "stdout",
     "output_type": "stream",
     "text": [
      "Valid loss: 7.394062372691491 Valid accuracy 0.2614414301865241 Valid top 5 accuracy 0.3627490605063298\n",
      "Accuracy didn't improve from: 0.26507828209330053\n",
      "Epoch: 65/100\n"
     ]
    },
    {
     "name": "stderr",
     "output_type": "stream",
     "text": [
      "100%|██████████| 4/4 [00:05<00:00,  1.36s/it]\n"
     ]
    },
    {
     "name": "stdout",
     "output_type": "stream",
     "text": [
      "Train loss: 2.2419338885913875 Train accuracy 0.37525354890043244 Train top 5 accuracy 0.3960446208331953\n"
     ]
    },
    {
     "name": "stderr",
     "output_type": "stream",
     "text": [
      "100%|██████████| 2/2 [00:01<00:00,  1.01it/s]\n"
     ]
    },
    {
     "name": "stdout",
     "output_type": "stream",
     "text": [
      "Valid loss: 7.342323957120671 Valid accuracy 0.2642674503080985 Valid top 5 accuracy 0.36285074164762215\n",
      "Accuracy didn't improve from: 0.26507828209330053\n",
      "Epoch: 66/100\n"
     ]
    },
    {
     "name": "stderr",
     "output_type": "stream",
     "text": [
      "100%|██████████| 4/4 [00:10<00:00,  2.56s/it]\n"
     ]
    },
    {
     "name": "stdout",
     "output_type": "stream",
     "text": [
      "Train loss: 2.2070079750436196 Train accuracy 0.37753550220719156 Train top 5 accuracy 0.3960446208331953\n"
     ]
    },
    {
     "name": "stderr",
     "output_type": "stream",
     "text": [
      "100%|██████████| 2/2 [00:02<00:00,  1.02s/it]\n"
     ]
    },
    {
     "name": "stdout",
     "output_type": "stream",
     "text": [
      "Valid loss: 7.303320921519223 Valid accuracy 0.26422783513279524 Valid top 5 accuracy 0.3604842783773647\n",
      "Accuracy didn't improve from: 0.26507828209330053\n",
      "Epoch: 67/100\n"
     ]
    },
    {
     "name": "stderr",
     "output_type": "stream",
     "text": [
      "100%|██████████| 4/4 [00:10<00:00,  2.56s/it]\n"
     ]
    },
    {
     "name": "stdout",
     "output_type": "stream",
     "text": [
      "Train loss: 2.2182298775981453 Train accuracy 0.3793103409492794 Train top 5 accuracy 0.3960446208331953\n"
     ]
    },
    {
     "name": "stderr",
     "output_type": "stream",
     "text": [
      "100%|██████████| 2/2 [00:02<00:00,  1.27s/it]\n"
     ]
    },
    {
     "name": "stdout",
     "output_type": "stream",
     "text": [
      "Valid loss: 7.372915077735396 Valid accuracy 0.2504846510641715 Valid top 5 accuracy 0.3584294704829945\n",
      "Accuracy didn't improve from: 0.26507828209330053\n",
      "Epoch: 68/100\n"
     ]
    },
    {
     "name": "stderr",
     "output_type": "stream",
     "text": [
      "100%|██████████| 4/4 [00:05<00:00,  1.33s/it]\n"
     ]
    },
    {
     "name": "stdout",
     "output_type": "stream",
     "text": [
      "Train loss: 2.1633291084538486 Train accuracy 0.38057809317594066 Train top 5 accuracy 0.3960446208331953\n"
     ]
    },
    {
     "name": "stderr",
     "output_type": "stream",
     "text": [
      "100%|██████████| 2/2 [00:02<00:00,  1.27s/it]\n"
     ]
    },
    {
     "name": "stdout",
     "output_type": "stream",
     "text": [
      "Valid loss: 7.4145624400938255 Valid accuracy 0.25070782838498845 Valid top 5 accuracy 0.35775333730613484\n",
      "Accuracy didn't improve from: 0.26507828209330053\n",
      "Epoch: 69/100\n"
     ]
    },
    {
     "name": "stderr",
     "output_type": "stream",
     "text": [
      "100%|██████████| 4/4 [00:10<00:00,  2.56s/it]\n"
     ]
    },
    {
     "name": "stdout",
     "output_type": "stream",
     "text": [
      "Train loss: 1.9727203438387197 Train accuracy 0.38133874168509946 Train top 5 accuracy 0.3960446208331953\n"
     ]
    },
    {
     "name": "stderr",
     "output_type": "stream",
     "text": [
      "100%|██████████| 2/2 [00:02<00:00,  1.27s/it]\n"
     ]
    },
    {
     "name": "stdout",
     "output_type": "stream",
     "text": [
      "Valid loss: 7.438862541142632 Valid accuracy 0.2614084153490908 Valid top 5 accuracy 0.35844267904758453\n",
      "Accuracy didn't improve from: 0.26507828209330053\n",
      "Epoch: 70/100\n"
     ]
    },
    {
     "name": "stderr",
     "output_type": "stream",
     "text": [
      "100%|██████████| 4/4 [00:10<00:00,  2.56s/it]\n"
     ]
    },
    {
     "name": "stdout",
     "output_type": "stream",
     "text": [
      "Train loss: 1.8242459292797482 Train accuracy 0.37931035004337044 Train top 5 accuracy 0.3960446208331953\n"
     ]
    },
    {
     "name": "stderr",
     "output_type": "stream",
     "text": [
      "100%|██████████| 2/2 [00:02<00:00,  1.27s/it]\n"
     ]
    },
    {
     "name": "stdout",
     "output_type": "stream",
     "text": [
      "Valid loss: 7.477609158438795 Valid accuracy 0.2665586432113367 Valid top 5 accuracy 0.36343179577413726\n",
      "Saving best model wieghts, Accuracy: 0.2665586432113367\n",
      "Epoch: 71/100\n"
     ]
    },
    {
     "name": "stderr",
     "output_type": "stream",
     "text": [
      "100%|██████████| 4/4 [00:05<00:00,  1.34s/it]\n"
     ]
    },
    {
     "name": "stdout",
     "output_type": "stream",
     "text": [
      "Train loss: 2.240682331078193 Train accuracy 0.3673935106900685 Train top 5 accuracy 0.3960446243393509\n"
     ]
    },
    {
     "name": "stderr",
     "output_type": "stream",
     "text": [
      "100%|██████████| 2/2 [00:01<00:00,  1.01it/s]\n"
     ]
    },
    {
     "name": "stdout",
     "output_type": "stream",
     "text": [
      "Valid loss: 7.592026989249622 Valid accuracy 0.25427997232798266 Valid top 5 accuracy 0.36151828540160375\n",
      "Accuracy didn't improve from: 0.2665586432113367\n",
      "Epoch: 72/100\n"
     ]
    },
    {
     "name": "stderr",
     "output_type": "stream",
     "text": [
      "100%|██████████| 4/4 [00:10<00:00,  2.56s/it]\n"
     ]
    },
    {
     "name": "stdout",
     "output_type": "stream",
     "text": [
      "Train loss: 2.0580763645908413 Train accuracy 0.37347870139295564 Train top 5 accuracy 0.3962981719797587\n"
     ]
    },
    {
     "name": "stderr",
     "output_type": "stream",
     "text": [
      "100%|██████████| 2/2 [00:02<00:00,  1.05s/it]\n"
     ]
    },
    {
     "name": "stdout",
     "output_type": "stream",
     "text": [
      "Valid loss: 7.545439856893876 Valid accuracy 0.26203568761839585 Valid top 5 accuracy 0.36478406037477884\n",
      "Accuracy didn't improve from: 0.2665586432113367\n",
      "Epoch: 73/100\n"
     ]
    },
    {
     "name": "stderr",
     "output_type": "stream",
     "text": [
      "100%|██████████| 4/4 [00:10<00:00,  2.56s/it]\n"
     ]
    },
    {
     "name": "stdout",
     "output_type": "stream",
     "text": [
      "Train loss: 1.8297016614061945 Train accuracy 0.38133874343817725 Train top 5 accuracy 0.3962981719797587\n"
     ]
    },
    {
     "name": "stderr",
     "output_type": "stream",
     "text": [
      "100%|██████████| 2/2 [00:02<00:00,  1.01s/it]\n"
     ]
    },
    {
     "name": "stdout",
     "output_type": "stream",
     "text": [
      "Valid loss: 7.408782943206675 Valid accuracy 0.2575549888698494 Valid top 5 accuracy 0.35990322797613983\n",
      "Accuracy didn't improve from: 0.2665586432113367\n",
      "Epoch: 74/100\n"
     ]
    },
    {
     "name": "stderr",
     "output_type": "stream",
     "text": [
      "100%|██████████| 4/4 [00:10<00:00,  2.56s/it]\n"
     ]
    },
    {
     "name": "stdout",
     "output_type": "stream",
     "text": [
      "Train loss: 1.9745754264295101 Train accuracy 0.37601419740959124 Train top 5 accuracy 0.3962981719797587\n"
     ]
    },
    {
     "name": "stderr",
     "output_type": "stream",
     "text": [
      "100%|██████████| 2/2 [00:02<00:00,  1.28s/it]\n"
     ]
    },
    {
     "name": "stdout",
     "output_type": "stream",
     "text": [
      "Valid loss: 7.40803318865159 Valid accuracy 0.24786595726276145 Valid top 5 accuracy 0.3564010720480891\n",
      "Accuracy didn't improve from: 0.2665586432113367\n",
      "Epoch: 75/100\n"
     ]
    },
    {
     "name": "stderr",
     "output_type": "stream",
     "text": [
      "100%|██████████| 4/4 [00:05<00:00,  1.35s/it]\n"
     ]
    },
    {
     "name": "stdout",
     "output_type": "stream",
     "text": [
      "Train loss: 2.5020661868483707 Train accuracy 0.36460446067811814 Train top 5 accuracy 0.3960446208331953\n"
     ]
    },
    {
     "name": "stderr",
     "output_type": "stream",
     "text": [
      "100%|██████████| 2/2 [00:01<00:00,  1.03it/s]\n"
     ]
    },
    {
     "name": "stdout",
     "output_type": "stream",
     "text": [
      "Valid loss: 7.500071101328906 Valid accuracy 0.24199733795488582 Valid top 5 accuracy 0.35325019160176024\n",
      "Accuracy didn't improve from: 0.2665586432113367\n",
      "Epoch: 76/100\n"
     ]
    },
    {
     "name": "stderr",
     "output_type": "stream",
     "text": [
      "100%|██████████| 4/4 [00:05<00:00,  1.33s/it]\n"
     ]
    },
    {
     "name": "stdout",
     "output_type": "stream",
     "text": [
      "Train loss: 3.21905453415478 Train accuracy 0.3552231217241463 Train top 5 accuracy 0.39477687386576743\n"
     ]
    },
    {
     "name": "stderr",
     "output_type": "stream",
     "text": [
      "100%|██████████| 2/2 [00:01<00:00,  1.01it/s]\n"
     ]
    },
    {
     "name": "stdout",
     "output_type": "stream",
     "text": [
      "Valid loss: 7.87223800666192 Valid accuracy 0.25664907737689857 Valid top 5 accuracy 0.35682101471020894\n",
      "Accuracy didn't improve from: 0.2665586432113367\n",
      "Epoch: 77/100\n"
     ]
    },
    {
     "name": "stderr",
     "output_type": "stream",
     "text": [
      "100%|██████████| 4/4 [00:10<00:00,  2.56s/it]\n"
     ]
    },
    {
     "name": "stdout",
     "output_type": "stream",
     "text": [
      "Train loss: 1.650199605480713 Train accuracy 0.3815922945847406 Train top 5 accuracy 0.3962981719797587\n"
     ]
    },
    {
     "name": "stderr",
     "output_type": "stream",
     "text": [
      "100%|██████████| 2/2 [00:02<00:00,  1.04s/it]\n"
     ]
    },
    {
     "name": "stdout",
     "output_type": "stream",
     "text": [
      "Valid loss: 7.826112873413983 Valid accuracy 0.26745135074152665 Valid top 5 accuracy 0.36048427936347094\n",
      "Saving best model wieghts, Accuracy: 0.26745135074152665\n",
      "Epoch: 78/100\n"
     ]
    },
    {
     "name": "stderr",
     "output_type": "stream",
     "text": [
      "100%|██████████| 4/4 [00:10<00:00,  2.56s/it]\n"
     ]
    },
    {
     "name": "stdout",
     "output_type": "stream",
     "text": [
      "Train loss: 1.480096479110858 Train accuracy 0.38412778851959634 Train top 5 accuracy 0.3962981719797587\n"
     ]
    },
    {
     "name": "stderr",
     "output_type": "stream",
     "text": [
      "100%|██████████| 2/2 [00:02<00:00,  1.27s/it]\n"
     ]
    },
    {
     "name": "stdout",
     "output_type": "stream",
     "text": [
      "Valid loss: 7.689443700453815 Valid accuracy 0.26916148864171086 Valid top 5 accuracy 0.3609438381870003\n",
      "Saving best model wieghts, Accuracy: 0.26916148864171086\n",
      "Epoch: 79/100\n"
     ]
    },
    {
     "name": "stderr",
     "output_type": "stream",
     "text": [
      "100%|██████████| 4/4 [00:10<00:00,  2.56s/it]\n"
     ]
    },
    {
     "name": "stdout",
     "output_type": "stream",
     "text": [
      "Train loss: 1.421825599801891 Train accuracy 0.3846348873065675 Train top 5 accuracy 0.3962981719797587\n"
     ]
    },
    {
     "name": "stderr",
     "output_type": "stream",
     "text": [
      "100%|██████████| 2/2 [00:02<00:00,  1.27s/it]\n"
     ]
    },
    {
     "name": "stdout",
     "output_type": "stream",
     "text": [
      "Valid loss: 7.679379557862001 Valid accuracy 0.26689010814708825 Valid top 5 accuracy 0.3598147491540979\n",
      "Accuracy didn't improve from: 0.26916148864171086\n",
      "Epoch: 80/100\n"
     ]
    },
    {
     "name": "stderr",
     "output_type": "stream",
     "text": [
      "100%|██████████| 4/4 [00:05<00:00,  1.35s/it]\n"
     ]
    },
    {
     "name": "stdout",
     "output_type": "stream",
     "text": [
      "Train loss: 1.3675024174153805 Train accuracy 0.38488843670005307 Train top 5 accuracy 0.3962981719797587\n"
     ]
    },
    {
     "name": "stderr",
     "output_type": "stream",
     "text": [
      "100%|██████████| 2/2 [00:02<00:00,  1.02s/it]\n"
     ]
    },
    {
     "name": "stdout",
     "output_type": "stream",
     "text": [
      "Valid loss: 7.665961983449319 Valid accuracy 0.2662205788142541 Valid top 5 accuracy 0.3595849688657943\n",
      "Accuracy didn't improve from: 0.26916148864171086\n",
      "Epoch: 81/100\n"
     ]
    },
    {
     "name": "stderr",
     "output_type": "stream",
     "text": [
      "100%|██████████| 4/4 [00:10<00:00,  2.56s/it]\n"
     ]
    },
    {
     "name": "stdout",
     "output_type": "stream",
     "text": [
      "Train loss: 1.3246617265703047 Train accuracy 0.38488843670005307 Train top 5 accuracy 0.3962981719797587\n"
     ]
    },
    {
     "name": "stderr",
     "output_type": "stream",
     "text": [
      "100%|██████████| 2/2 [00:02<00:00,  1.27s/it]\n"
     ]
    },
    {
     "name": "stdout",
     "output_type": "stream",
     "text": [
      "Valid loss: 7.672606536570718 Valid accuracy 0.26544276186648535 Valid top 5 accuracy 0.35879394773613005\n",
      "Accuracy didn't improve from: 0.26916148864171086\n",
      "Epoch: 82/100\n"
     ]
    },
    {
     "name": "stderr",
     "output_type": "stream",
     "text": [
      "100%|██████████| 4/4 [00:10<00:00,  2.56s/it]\n"
     ]
    },
    {
     "name": "stdout",
     "output_type": "stream",
     "text": [
      "Train loss: 1.283689591266653 Train accuracy 0.38514198784661646 Train top 5 accuracy 0.3962981719797587\n"
     ]
    },
    {
     "name": "stderr",
     "output_type": "stream",
     "text": [
      "100%|██████████| 2/2 [00:02<00:00,  1.02s/it]\n"
     ]
    },
    {
     "name": "stdout",
     "output_type": "stream",
     "text": [
      "Valid loss: 7.6623779079493355 Valid accuracy 0.26588911475504146 Valid top 5 accuracy 0.3592336967806606\n",
      "Accuracy didn't improve from: 0.26916148864171086\n",
      "Epoch: 83/100\n"
     ]
    },
    {
     "name": "stderr",
     "output_type": "stream",
     "text": [
      "100%|██████████| 4/4 [00:05<00:00,  1.34s/it]\n"
     ]
    },
    {
     "name": "stdout",
     "output_type": "stream",
     "text": [
      "Train loss: 1.2477934715502403 Train accuracy 0.385395537240102 Train top 5 accuracy 0.3962981719797587\n"
     ]
    },
    {
     "name": "stderr",
     "output_type": "stream",
     "text": [
      "100%|██████████| 2/2 [00:01<00:00,  1.03it/s]\n"
     ]
    },
    {
     "name": "stdout",
     "output_type": "stream",
     "text": [
      "Valid loss: 7.67575690851492 Valid accuracy 0.2655576498192899 Valid top 5 accuracy 0.3592336967806606\n",
      "Accuracy didn't improve from: 0.26916148864171086\n",
      "Epoch: 84/100\n"
     ]
    },
    {
     "name": "stderr",
     "output_type": "stream",
     "text": [
      "100%|██████████| 4/4 [00:05<00:00,  1.33s/it]\n"
     ]
    },
    {
     "name": "stdout",
     "output_type": "stream",
     "text": [
      "Train loss: 1.2335070777027046 Train accuracy 0.38412778851959634 Train top 5 accuracy 0.3962981719797587\n"
     ]
    },
    {
     "name": "stderr",
     "output_type": "stream",
     "text": [
      "100%|██████████| 2/2 [00:02<00:00,  1.27s/it]\n"
     ]
    },
    {
     "name": "stdout",
     "output_type": "stream",
     "text": [
      "Valid loss: 7.687870236880639 Valid accuracy 0.2644417684744386 Valid top 5 accuracy 0.359118808827856\n",
      "Accuracy didn't improve from: 0.26916148864171086\n",
      "Epoch: 85/100\n"
     ]
    },
    {
     "name": "stderr",
     "output_type": "stream",
     "text": [
      "100%|██████████| 4/4 [00:10<00:00,  2.56s/it]\n"
     ]
    },
    {
     "name": "stdout",
     "output_type": "stream",
     "text": [
      "Train loss: 1.3492863895919394 Train accuracy 0.3800709894584382 Train top 5 accuracy 0.3962981719797587\n"
     ]
    },
    {
     "name": "stderr",
     "output_type": "stream",
     "text": [
      "100%|██████████| 2/2 [00:02<00:00,  1.03s/it]\n"
     ]
    },
    {
     "name": "stdout",
     "output_type": "stream",
     "text": [
      "Valid loss: 7.7321699629811675 Valid accuracy 0.2590261053513078 Valid top 5 accuracy 0.35901052121292143\n",
      "Accuracy didn't improve from: 0.26916148864171086\n",
      "Epoch: 86/100\n"
     ]
    },
    {
     "name": "stderr",
     "output_type": "stream",
     "text": [
      "100%|██████████| 4/4 [00:10<00:00,  2.56s/it]\n"
     ]
    },
    {
     "name": "stdout",
     "output_type": "stream",
     "text": [
      "Train loss: 1.6387323532253504 Train accuracy 0.37297160118160877 Train top 5 accuracy 0.3962981719797587\n"
     ]
    },
    {
     "name": "stderr",
     "output_type": "stream",
     "text": [
      "100%|██████████| 2/2 [00:02<00:00,  1.02s/it]\n"
     ]
    },
    {
     "name": "stdout",
     "output_type": "stream",
     "text": [
      "Valid loss: 7.801961887408705 Valid accuracy 0.26049986262531843 Valid top 5 accuracy 0.35923369951984463\n",
      "Accuracy didn't improve from: 0.26916148864171086\n",
      "Epoch: 87/100\n"
     ]
    },
    {
     "name": "stderr",
     "output_type": "stream",
     "text": [
      "100%|██████████| 4/4 [00:05<00:00,  1.34s/it]\n"
     ]
    },
    {
     "name": "stdout",
     "output_type": "stream",
     "text": [
      "Train loss: 1.2213919271221931 Train accuracy 0.38336713683298407 Train top 5 accuracy 0.3962981719797587\n"
     ]
    },
    {
     "name": "stderr",
     "output_type": "stream",
     "text": [
      "100%|██████████| 2/2 [00:02<00:00,  1.28s/it]\n"
     ]
    },
    {
     "name": "stdout",
     "output_type": "stream",
     "text": [
      "Valid loss: 7.826342795701588 Valid accuracy 0.2659353328978314 Valid top 5 accuracy 0.3616067645523478\n",
      "Accuracy didn't improve from: 0.26916148864171086\n",
      "Epoch: 88/100\n"
     ]
    },
    {
     "name": "stderr",
     "output_type": "stream",
     "text": [
      "100%|██████████| 4/4 [00:10<00:00,  2.56s/it]\n"
     ]
    },
    {
     "name": "stdout",
     "output_type": "stream",
     "text": [
      "Train loss: 1.2714142752811313 Train accuracy 0.38640973130788875 Train top 5 accuracy 0.3962981719797587\n"
     ]
    },
    {
     "name": "stderr",
     "output_type": "stream",
     "text": [
      "100%|██████████| 2/2 [00:02<00:00,  1.03s/it]\n"
     ]
    },
    {
     "name": "stdout",
     "output_type": "stream",
     "text": [
      "Valid loss: 7.791001832660506 Valid accuracy 0.25920966574374366 Valid top 5 accuracy 0.3543462631676127\n",
      "Accuracy didn't improve from: 0.26916148864171086\n",
      "model didn't improve for 10 epochs----> lower learning rate to 4.000000000000001e-06\n",
      "Epoch: 89/100\n"
     ]
    },
    {
     "name": "stderr",
     "output_type": "stream",
     "text": [
      "100%|██████████| 4/4 [00:20<00:00,  5.12s/it]\n"
     ]
    },
    {
     "name": "stdout",
     "output_type": "stream",
     "text": [
      "Train loss: 1.0022729589220356 Train accuracy 0.3874239358941422 Train top 5 accuracy 0.3962981719797587\n"
     ]
    },
    {
     "name": "stderr",
     "output_type": "stream",
     "text": [
      "100%|██████████| 2/2 [00:10<00:00,  5.11s/it]\n"
     ]
    },
    {
     "name": "stdout",
     "output_type": "stream",
     "text": [
      "Valid loss: 7.800049633664243 Valid accuracy 0.26828859176705866 Valid top 5 accuracy 0.3618365448406514\n",
      "Accuracy didn't improve from: 0.26916148864171086\n",
      "Epoch: 90/100\n"
     ]
    },
    {
     "name": "stderr",
     "output_type": "stream",
     "text": [
      "100%|██████████| 4/4 [00:05<00:00,  1.40s/it]\n"
     ]
    },
    {
     "name": "stdout",
     "output_type": "stream",
     "text": [
      "Train loss: 0.9969914335319224 Train accuracy 0.38767748704070554 Train top 5 accuracy 0.3962981719797587\n"
     ]
    },
    {
     "name": "stderr",
     "output_type": "stream",
     "text": [
      "100%|██████████| 2/2 [00:02<00:00,  1.28s/it]\n"
     ]
    },
    {
     "name": "stdout",
     "output_type": "stream",
     "text": [
      "Valid loss: 7.7879522986271805 Valid accuracy 0.27111461627132755 Valid top 5 accuracy 0.3616067663054256\n",
      "Saving best model wieghts, Accuracy: 0.27111461627132755\n",
      "Epoch: 91/100\n"
     ]
    },
    {
     "name": "stderr",
     "output_type": "stream",
     "text": [
      "100%|██████████| 4/4 [00:05<00:00,  1.35s/it]\n"
     ]
    },
    {
     "name": "stdout",
     "output_type": "stream",
     "text": [
      "Train loss: 0.9893956963411149 Train accuracy 0.38767748353454995 Train top 5 accuracy 0.3962981719797587\n"
     ]
    },
    {
     "name": "stderr",
     "output_type": "stream",
     "text": [
      "100%|██████████| 2/2 [00:02<00:00,  1.01s/it]\n"
     ]
    },
    {
     "name": "stdout",
     "output_type": "stream",
     "text": [
      "Valid loss: 7.77985839370419 Valid accuracy 0.27076994715368047 Valid top 5 accuracy 0.3612686992787263\n",
      "Accuracy didn't improve from: 0.27111461627132755\n",
      "Epoch: 92/100\n"
     ]
    },
    {
     "name": "stderr",
     "output_type": "stream",
     "text": [
      "100%|██████████| 4/4 [00:05<00:00,  1.35s/it]\n"
     ]
    },
    {
     "name": "stdout",
     "output_type": "stream",
     "text": [
      "Train loss: 0.9802943062146797 Train accuracy 0.38793103117495775 Train top 5 accuracy 0.3962981719797587\n"
     ]
    },
    {
     "name": "stderr",
     "output_type": "stream",
     "text": [
      "100%|██████████| 2/2 [00:02<00:00,  1.04s/it]\n"
     ]
    },
    {
     "name": "stdout",
     "output_type": "stream",
     "text": [
      "Valid loss: 7.778079877881443 Valid accuracy 0.2709997265654452 Valid top 5 accuracy 0.3612686992787263\n",
      "Accuracy didn't improve from: 0.27111461627132755\n",
      "Epoch: 93/100\n"
     ]
    },
    {
     "name": "stderr",
     "output_type": "stream",
     "text": [
      "100%|██████████| 4/4 [00:10<00:00,  2.56s/it]\n"
     ]
    },
    {
     "name": "stdout",
     "output_type": "stream",
     "text": [
      "Train loss: 0.9706925939330283 Train accuracy 0.38793103117495775 Train top 5 accuracy 0.3962981719797587\n"
     ]
    },
    {
     "name": "stderr",
     "output_type": "stream",
     "text": [
      "100%|██████████| 2/2 [00:02<00:00,  1.03s/it]\n"
     ]
    },
    {
     "name": "stdout",
     "output_type": "stream",
     "text": [
      "Valid loss: 7.773893025868079 Valid accuracy 0.2713443956830922 Valid top 5 accuracy 0.360930632252027\n",
      "Saving best model wieghts, Accuracy: 0.2713443956830922\n",
      "Epoch: 94/100\n"
     ]
    },
    {
     "name": "stderr",
     "output_type": "stream",
     "text": [
      "100%|██████████| 4/4 [00:10<00:00,  2.56s/it]\n"
     ]
    },
    {
     "name": "stdout",
     "output_type": "stream",
     "text": [
      "Train loss: 0.9608906947405023 Train accuracy 0.38793103117495775 Train top 5 accuracy 0.3962981719797587\n"
     ]
    },
    {
     "name": "stderr",
     "output_type": "stream",
     "text": [
      "100%|██████████| 2/2 [00:02<00:00,  1.28s/it]\n"
     ]
    },
    {
     "name": "stdout",
     "output_type": "stream",
     "text": [
      "Valid loss: 7.771194359835456 Valid accuracy 0.27157417421831803 Valid top 5 accuracy 0.3612686966491096\n",
      "Saving best model wieghts, Accuracy: 0.27157417421831803\n",
      "Epoch: 95/100\n"
     ]
    },
    {
     "name": "stderr",
     "output_type": "stream",
     "text": [
      "100%|██████████| 4/4 [00:05<00:00,  1.35s/it]\n"
     ]
    },
    {
     "name": "stdout",
     "output_type": "stream",
     "text": [
      "Train loss: 0.9510026028489366 Train accuracy 0.3881845823215211 Train top 5 accuracy 0.3962981719797587\n"
     ]
    },
    {
     "name": "stderr",
     "output_type": "stream",
     "text": [
      "100%|██████████| 2/2 [00:02<00:00,  1.27s/it]\n"
     ]
    },
    {
     "name": "stdout",
     "output_type": "stream",
     "text": [
      "Valid loss: 7.783322648090475 Valid accuracy 0.26999213020591173 Valid top 5 accuracy 0.36115380869630503\n",
      "Accuracy didn't improve from: 0.27157417421831803\n",
      "Epoch: 96/100\n"
     ]
    },
    {
     "name": "stderr",
     "output_type": "stream",
     "text": [
      "100%|██████████| 4/4 [00:10<00:00,  2.56s/it]\n"
     ]
    },
    {
     "name": "stdout",
     "output_type": "stream",
     "text": [
      "Train loss: 0.9410796638249475 Train accuracy 0.3884381334680845 Train top 5 accuracy 0.3962981719797587\n"
     ]
    },
    {
     "name": "stderr",
     "output_type": "stream",
     "text": [
      "100%|██████████| 2/2 [00:02<00:00,  1.01s/it]\n"
     ]
    },
    {
     "name": "stdout",
     "output_type": "stream",
     "text": [
      "Valid loss: 7.789555332239936 Valid accuracy 0.26999213020591173 Valid top 5 accuracy 0.3610389189904227\n",
      "Accuracy didn't improve from: 0.27157417421831803\n",
      "Epoch: 97/100\n"
     ]
    },
    {
     "name": "stderr",
     "output_type": "stream",
     "text": [
      "100%|██████████| 4/4 [00:10<00:00,  2.56s/it]\n"
     ]
    },
    {
     "name": "stdout",
     "output_type": "stream",
     "text": [
      "Train loss: 0.9311528251889873 Train accuracy 0.3886916811084923 Train top 5 accuracy 0.3962981719797587\n"
     ]
    },
    {
     "name": "stderr",
     "output_type": "stream",
     "text": [
      "100%|██████████| 2/2 [00:02<00:00,  1.27s/it]\n"
     ]
    },
    {
     "name": "stdout",
     "output_type": "stream",
     "text": [
      "Valid loss: 7.799200831967242 Valid accuracy 0.26874814971404914 Valid top 5 accuracy 0.3607008537168012\n",
      "Accuracy didn't improve from: 0.27157417421831803\n",
      "Epoch: 98/100\n"
     ]
    },
    {
     "name": "stderr",
     "output_type": "stream",
     "text": [
      "100%|██████████| 4/4 [00:10<00:00,  2.56s/it]\n"
     ]
    },
    {
     "name": "stdout",
     "output_type": "stream",
     "text": [
      "Train loss: 0.9212437785942765 Train accuracy 0.3889452305019778 Train top 5 accuracy 0.3962981719797587\n"
     ]
    },
    {
     "name": "stderr",
     "output_type": "stream",
     "text": [
      "100%|██████████| 2/2 [00:02<00:00,  1.27s/it]\n"
     ]
    },
    {
     "name": "stdout",
     "output_type": "stream",
     "text": [
      "Valid loss: 7.80822741196436 Valid accuracy 0.26908621674074845 Valid top 5 accuracy 0.3607008537168012\n",
      "Accuracy didn't improve from: 0.27157417421831803\n",
      "Epoch: 99/100\n"
     ]
    },
    {
     "name": "stderr",
     "output_type": "stream",
     "text": [
      "100%|██████████| 4/4 [00:10<00:00,  2.56s/it]\n"
     ]
    },
    {
     "name": "stdout",
     "output_type": "stream",
     "text": [
      "Train loss: 0.9113663181333858 Train accuracy 0.3889452305019778 Train top 5 accuracy 0.3962981719797587\n"
     ]
    },
    {
     "name": "stderr",
     "output_type": "stream",
     "text": [
      "100%|██████████| 2/2 [00:02<00:00,  1.02s/it]\n"
     ]
    },
    {
     "name": "stdout",
     "output_type": "stream",
     "text": [
      "Valid loss: 7.809765671982484 Valid accuracy 0.26931599615251317 Valid top 5 accuracy 0.36035618459915414\n",
      "Accuracy didn't improve from: 0.27157417421831803\n",
      "Epoch: 100/100\n"
     ]
    },
    {
     "name": "stderr",
     "output_type": "stream",
     "text": [
      "100%|██████████| 4/4 [00:10<00:00,  2.56s/it]\n"
     ]
    },
    {
     "name": "stdout",
     "output_type": "stream",
     "text": [
      "Train loss: 0.9015316157875692 Train accuracy 0.3889452305019778 Train top 5 accuracy 0.3962981719797587\n"
     ]
    },
    {
     "name": "stderr",
     "output_type": "stream",
     "text": [
      "100%|██████████| 2/2 [00:02<00:00,  1.02s/it]"
     ]
    },
    {
     "name": "stdout",
     "output_type": "stream",
     "text": [
      "Valid loss: 7.815402437658871 Valid accuracy 0.26931599615251317 Valid top 5 accuracy 0.35934198527213407\n",
      "Accuracy didn't improve from: 0.27157417421831803\n"
     ]
    },
    {
     "name": "stderr",
     "output_type": "stream",
     "text": [
      "\n"
     ]
    }
   ],
   "source": [
    "# clear the session to release all previous states generated by Keras\n",
    "tf.keras.backend.clear_session()\n",
    "# instantiate and compile the model inside the strategy scope defined previous\n",
    "with strategy.scope():\n",
    "  model = encoder_decoder_model()\n",
    "  # use Sparse Categorical Cross-entropy as a loss function as labels are not one-hot encoded\n",
    "  # use AdamW optimizer initially with a weight decay of 0.0\n",
    "  # use the Sparse Categorical Accuracy and top k=5 accuracy metrics to monitor and save the best model weights\n",
    "  metrics = [tf.keras.metrics.SparseCategoricalAccuracy(),\n",
    "             tf.keras.metrics.SparseTopKCategoricalAccuracy(k=5, name='top_k_acc')]\n",
    "  model.compile(loss=tf.keras.losses.SparseCategoricalCrossentropy(from_logits=False),\n",
    "                metrics=metrics,\n",
    "                optimizer=tfa.optimizers.AdamW(learning_rate=config.LEARNING_RATE, weight_decay=0.0))\n",
    "\n",
    "# initialize the best accuracy at - infinity\n",
    "best_result = -np.inf\n",
    "# initialize the epoch of the best result as 0\n",
    "epoch_of_best_result = 0\n",
    "# initialize a variable for the current learning rate\n",
    "current_learning = config.LEARNING_RATE\n",
    "# for each epoch iterate over the whole training and validation sets\n",
    "for epoch in range(config.EPOCHS):\n",
    "  print(f'Epoch: {epoch+1}/{config.EPOCHS}')\n",
    "  # iterate over the training dataset\n",
    "  for batch in tqdm(train_ds, total=len(train_ds)):\n",
    "    enc_inputs, dec_inputs, labels = batch\n",
    "    # create a variable for the number of examples in the current batch\n",
    "    num_examples = len(enc_inputs)\n",
    "    # initialize losses and accuracies list\n",
    "    losses = []\n",
    "    accs = []\n",
    "    top_accs = []\n",
    "    # sequencially predict the label (actual previous token as input)\n",
    "    for i in range(config.MAXLEN):\n",
    "      # extract the current mask from the attention_masks list\n",
    "      # broadcast the mask to the shape of (num_examples, num_heads(8), max_len(17), max_len(17))\n",
    "      current_att_mask = tf.broadcast_to(tf.constant(attention_masks[i]), (num_examples, config.NUM_HEADS, config.MAXLEN, config.MAXLEN))\n",
    "      # train on each batch and pass the class weights\n",
    "      train_results = model.train_on_batch(x=(enc_inputs, dec_inputs, current_att_mask), y=labels[:, -(i+1)], \n",
    "                           class_weight=auto_weight_dict, reset_metrics=True, return_dict=True)\n",
    "      # append the loss value\n",
    "      losses.append(train_results['loss'])\n",
    "      # append the accuracy value\n",
    "      accs.append(train_results['sparse_categorical_accuracy'])\n",
    "      # append the top 5 accuracy value\n",
    "      top_accs.append(train_results['top_k_acc'])\n",
    "  print('Train loss:', np.mean(losses), 'Train accuracy', np.mean(accs), 'Train top 5 accuracy', np.mean(top_accs))\n",
    "\n",
    "  # initialize losses and accuracies list\n",
    "  losses = []\n",
    "  accs = []\n",
    "  top_accs = []\n",
    "  # iterate over the validation dataset\n",
    "  for batch in tqdm(valid_ds, total=len(valid_ds)):\n",
    "    enc_inputs, dec_inputs, labels = batch\n",
    "    # create a variable for the number of examples in the current batch\n",
    "    num_examples = len(enc_inputs)\n",
    "    # create a NumPy array to save the predictions of the previous tokens\n",
    "    # it is initialized with ones where the model will see 1 in the first \n",
    "    # pass which represents the special starting \"s\" token\n",
    "    full_sequence_preds = np.ones((num_examples, config.MAXLEN))\n",
    "    # sequencially predict the label (predicted previous token as input (Auto-Regression))\n",
    "    for i in range(config.MAXLEN):\n",
    "      # extract the current mask from the attention_masks list\n",
    "      # broadcast the mask to the shape of (num_examples, num_heads(8), max_len(17), max_len(17))\n",
    "      current_att_mask = tf.broadcast_to(tf.constant(attention_masks[i]), (num_examples, config.NUM_HEADS, config.MAXLEN, config.MAXLEN))\n",
    "      # evaluate on each batch\n",
    "      valid_results = model.test_on_batch(x=(enc_inputs, full_sequence_preds, current_att_mask), y=labels[:, -(i+1)], reset_metrics=True, return_dict=True)\n",
    "      # predict the tokens of the current position\n",
    "      preds = model.predict_on_batch(x=(enc_inputs, full_sequence_preds, current_att_mask))\n",
    "      # take the argmax value which represents the index of the highest prob character\n",
    "      current_preds = np.argmax(preds, axis=-1)\n",
    "      # populate the current position with the predicted values which will be used in the next \n",
    "      # pass as a decoder input\n",
    "      full_sequence_preds[:, -(i+1)] = current_preds # populate the column of the current timestep with the predicitons\n",
    "        \n",
    "      # append the loss value  \n",
    "      losses.append(valid_results['loss'])\n",
    "      # append the accuracy value\n",
    "      accs.append(valid_results['sparse_categorical_accuracy'])\n",
    "      # append the top 5 accuracy value\n",
    "      top_accs.append(valid_results['top_k_acc'])\n",
    "  print('Valid loss:', np.mean(losses), 'Valid accuracy', np.mean(accs), 'Valid top 5 accuracy', np.mean(top_accs))\n",
    "\n",
    "  mean_acc = np.mean(accs)\n",
    "  # save the weights of the best model based on the validation accuracy\n",
    "  # lower the LR a factor defined in the config class if the validation accuracy \n",
    "  # does not improve for the stated patience in the config class\n",
    "  if mean_acc > best_result:\n",
    "    best_result = mean_acc\n",
    "    epoch_of_best_result = epoch\n",
    "    print('Saving best model wieghts,', 'Accuracy:', mean_acc)\n",
    "    model.save_weights('best_full_model_weights.h5')\n",
    "  else:\n",
    "    print(\"Accuracy didn't improve from:\", best_result)\n",
    "  if epoch - epoch_of_best_result == config.LEARTING_RATE_REDUCTION_PATIENCE:\n",
    "    current_learning = current_learning * config.LEARTING_RATE_REDUCTION_FACTOR\n",
    "    print(\"model didn't improve for 10 epochs---->\", f\"lower learning rate to {current_learning}\")\n",
    "    model.compile(loss=tf.keras.losses.SparseCategoricalCrossentropy(from_logits=False),\n",
    "                metrics=metrics,\n",
    "                optimizer=tf.keras.optimizers.Adam(learning_rate=current_learning))  \n",
    "\n",
    "    "
   ]
  },
  {
   "cell_type": "code",
   "execution_count": null,
   "metadata": {
    "colab": {
     "base_uri": "https://localhost:8080/"
    },
    "id": "ZFfqU57b_STF",
    "outputId": "bdce0184-8f7a-4d6d-81cd-889160d9eaac"
   },
   "outputs": [
    {
     "name": "stdout",
     "output_type": "stream",
     "text": [
      "Epoch: 1/100\n"
     ]
    },
    {
     "name": "stderr",
     "output_type": "stream",
     "text": [
      "100%|██████████| 4/4 [00:16<00:00,  4.14s/it]\n"
     ]
    },
    {
     "name": "stdout",
     "output_type": "stream",
     "text": [
      "Train loss: 129.72933166079662 Train accuracy 0.0035496957271414645 Train top 5 accuracy 0.09558823345886434\n"
     ]
    },
    {
     "name": "stderr",
     "output_type": "stream",
     "text": [
      "100%|██████████| 2/2 [00:05<00:00,  2.56s/it]\n"
     ]
    },
    {
     "name": "stdout",
     "output_type": "stream",
     "text": [
      "Valid loss: 5.4399215333602005 Valid accuracy 0.03662472525063683 Valid top 5 accuracy 0.14323048698989785\n",
      "Saving best model wieghts, Accuracy: 0.03662472525063683\n",
      "Epoch: 2/100\n"
     ]
    },
    {
     "name": "stderr",
     "output_type": "stream",
     "text": [
      "100%|██████████| 4/4 [00:05<00:00,  1.30s/it]\n"
     ]
    },
    {
     "name": "stdout",
     "output_type": "stream",
     "text": [
      "Train loss: 124.46908564514973 Train accuracy 0.021551723811118043 Train top 5 accuracy 0.13286004010040095\n"
     ]
    },
    {
     "name": "stderr",
     "output_type": "stream",
     "text": [
      "100%|██████████| 2/2 [00:01<00:00,  1.10it/s]\n"
     ]
    },
    {
     "name": "stdout",
     "output_type": "stream",
     "text": [
      "Valid loss: 6.240948705112233 Valid accuracy 0.06170237524544492 Valid top 5 accuracy 0.13116442675099654\n",
      "Saving best model wieghts, Accuracy: 0.06170237524544492\n",
      "Epoch: 3/100\n"
     ]
    },
    {
     "name": "stderr",
     "output_type": "stream",
     "text": [
      "100%|██████████| 4/4 [00:05<00:00,  1.28s/it]\n"
     ]
    },
    {
     "name": "stdout",
     "output_type": "stream",
     "text": [
      "Train loss: 119.89506050506058 Train accuracy 0.06338742241153822 Train top 5 accuracy 0.17444218938951106\n"
     ]
    },
    {
     "name": "stderr",
     "output_type": "stream",
     "text": [
      "100%|██████████| 2/2 [00:01<00:00,  1.08it/s]\n"
     ]
    },
    {
     "name": "stdout",
     "output_type": "stream",
     "text": [
      "Valid loss: 6.868494749069214 Valid accuracy 0.06465649276095278 Valid top 5 accuracy 0.11811322105281494\n",
      "Saving best model wieghts, Accuracy: 0.06465649276095278\n",
      "Epoch: 4/100\n"
     ]
    },
    {
     "name": "stderr",
     "output_type": "stream",
     "text": [
      "100%|██████████| 4/4 [00:05<00:00,  1.30s/it]\n"
     ]
    },
    {
     "name": "stdout",
     "output_type": "stream",
     "text": [
      "Train loss: 118.80689693373792 Train accuracy 0.0349898584844435 Train top 5 accuracy 0.11029411778401803\n"
     ]
    },
    {
     "name": "stderr",
     "output_type": "stream",
     "text": [
      "100%|██████████| 2/2 [00:01<00:00,  1.10it/s]\n"
     ]
    },
    {
     "name": "stdout",
     "output_type": "stream",
     "text": [
      "Valid loss: 6.378824977313771 Valid accuracy 0.10689100579303853 Valid top 5 accuracy 0.2037179372547304\n",
      "Saving best model wieghts, Accuracy: 0.10689100579303853\n",
      "Epoch: 5/100\n"
     ]
    },
    {
     "name": "stderr",
     "output_type": "stream",
     "text": [
      "100%|██████████| 4/4 [00:05<00:00,  1.33s/it]\n"
     ]
    },
    {
     "name": "stdout",
     "output_type": "stream",
     "text": [
      "Train loss: 105.12412245396305 Train accuracy 0.05628803276511676 Train top 5 accuracy 0.15998985763529644\n"
     ]
    },
    {
     "name": "stderr",
     "output_type": "stream",
     "text": [
      "100%|██████████| 2/2 [00:02<00:00,  1.27s/it]\n"
     ]
    },
    {
     "name": "stdout",
     "output_type": "stream",
     "text": [
      "Valid loss: 6.440104302238016 Valid accuracy 0.07448418471304809 Valid top 5 accuracy 0.20850368797340812\n",
      "Accuracy didn't improve from: 0.10689100579303853\n",
      "Epoch: 6/100\n"
     ]
    },
    {
     "name": "stderr",
     "output_type": "stream",
     "text": [
      "100%|██████████| 4/4 [00:05<00:00,  1.45s/it]\n"
     ]
    },
    {
     "name": "stdout",
     "output_type": "stream",
     "text": [
      "Train loss: 99.87336068907204 Train accuracy 0.07936105444369947 Train top 5 accuracy 0.19624746486763744\n"
     ]
    },
    {
     "name": "stderr",
     "output_type": "stream",
     "text": [
      "100%|██████████| 2/2 [00:01<00:00,  1.06it/s]\n"
     ]
    },
    {
     "name": "stdout",
     "output_type": "stream",
     "text": [
      "Valid loss: 6.553198793355157 Valid accuracy 0.031290937543791884 Valid top 5 accuracy 0.15440648312077804\n",
      "Accuracy didn't improve from: 0.10689100579303853\n",
      "Epoch: 7/100\n"
     ]
    },
    {
     "name": "stderr",
     "output_type": "stream",
     "text": [
      "100%|██████████| 4/4 [00:10<00:00,  2.56s/it]\n"
     ]
    },
    {
     "name": "stdout",
     "output_type": "stream",
     "text": [
      "Train loss: 84.34214443056023 Train accuracy 0.08341785084784907 Train top 5 accuracy 0.2190669409602004\n"
     ]
    },
    {
     "name": "stderr",
     "output_type": "stream",
     "text": [
      "100%|██████████| 2/2 [00:02<00:00,  1.27s/it]\n"
     ]
    },
    {
     "name": "stdout",
     "output_type": "stream",
     "text": [
      "Valid loss: 6.670273500330308 Valid accuracy 0.05553794794661157 Valid top 5 accuracy 0.21716927649343715\n",
      "Accuracy didn't improve from: 0.10689100579303853\n",
      "Epoch: 8/100\n"
     ]
    },
    {
     "name": "stderr",
     "output_type": "stream",
     "text": [
      "100%|██████████| 4/4 [00:10<00:00,  2.56s/it]\n"
     ]
    },
    {
     "name": "stdout",
     "output_type": "stream",
     "text": [
      "Train loss: 72.82809571045287 Train accuracy 0.09685598480898668 Train top 5 accuracy 0.21374239183633642\n"
     ]
    },
    {
     "name": "stderr",
     "output_type": "stream",
     "text": [
      "100%|██████████| 2/2 [00:01<00:00,  1.02it/s]\n"
     ]
    },
    {
     "name": "stdout",
     "output_type": "stream",
     "text": [
      "Valid loss: 6.032687243293314 Valid accuracy 0.08148189250598936 Valid top 5 accuracy 0.2221187754150699\n",
      "Accuracy didn't improve from: 0.10689100579303853\n",
      "Epoch: 9/100\n"
     ]
    },
    {
     "name": "stderr",
     "output_type": "stream",
     "text": [
      "100%|██████████| 4/4 [00:10<00:00,  2.56s/it]\n"
     ]
    },
    {
     "name": "stdout",
     "output_type": "stream",
     "text": [
      "Train loss: 47.74858434673618 Train accuracy 0.1364097379914978 Train top 5 accuracy 0.31034483029233184\n"
     ]
    },
    {
     "name": "stderr",
     "output_type": "stream",
     "text": [
      "100%|██████████| 2/2 [00:02<00:00,  1.27s/it]\n"
     ]
    },
    {
     "name": "stdout",
     "output_type": "stream",
     "text": [
      "Valid loss: 6.292342340244966 Valid accuracy 0.08970773132408366 Valid top 5 accuracy 0.2735669155988623\n",
      "Accuracy didn't improve from: 0.10689100579303853\n",
      "Epoch: 10/100\n"
     ]
    },
    {
     "name": "stderr",
     "output_type": "stream",
     "text": [
      "100%|██████████| 4/4 [00:10<00:00,  2.56s/it]\n"
     ]
    },
    {
     "name": "stdout",
     "output_type": "stream",
     "text": [
      "Train loss: 57.00656681288691 Train accuracy 0.11308316511156805 Train top 5 accuracy 0.27307302178815007\n"
     ]
    },
    {
     "name": "stderr",
     "output_type": "stream",
     "text": [
      "100%|██████████| 2/2 [00:02<00:00,  1.28s/it]\n"
     ]
    },
    {
     "name": "stdout",
     "output_type": "stream",
     "text": [
      "Valid loss: 6.338091583812938 Valid accuracy 0.12180289735688883 Valid top 5 accuracy 0.2889119543354301\n",
      "Saving best model wieghts, Accuracy: 0.12180289735688883\n",
      "Epoch: 11/100\n"
     ]
    },
    {
     "name": "stderr",
     "output_type": "stream",
     "text": [
      "100%|██████████| 4/4 [00:10<00:00,  2.56s/it]\n"
     ]
    },
    {
     "name": "stdout",
     "output_type": "stream",
     "text": [
      "Train loss: 43.485364601454314 Train accuracy 0.1660750501186532 Train top 5 accuracy 0.3144016219029093\n"
     ]
    },
    {
     "name": "stderr",
     "output_type": "stream",
     "text": [
      "100%|██████████| 2/2 [00:02<00:00,  1.28s/it]\n"
     ]
    },
    {
     "name": "stdout",
     "output_type": "stream",
     "text": [
      "Valid loss: 6.814276491894441 Valid accuracy 0.16974491768461816 Valid top 5 accuracy 0.3210269288324258\n",
      "Saving best model wieghts, Accuracy: 0.16974491768461816\n",
      "Epoch: 12/100\n"
     ]
    },
    {
     "name": "stderr",
     "output_type": "stream",
     "text": [
      "100%|██████████| 4/4 [00:10<00:00,  2.56s/it]\n"
     ]
    },
    {
     "name": "stdout",
     "output_type": "stream",
     "text": [
      "Train loss: 34.937961628770125 Train accuracy 0.1909229232765296 Train top 5 accuracy 0.35826572351267233\n"
     ]
    },
    {
     "name": "stderr",
     "output_type": "stream",
     "text": [
      "100%|██████████| 2/2 [00:02<00:00,  1.01s/it]\n"
     ]
    },
    {
     "name": "stdout",
     "output_type": "stream",
     "text": [
      "Valid loss: 7.106264549143174 Valid accuracy 0.15438667345134652 Valid top 5 accuracy 0.31737686890889616\n",
      "Accuracy didn't improve from: 0.16974491768461816\n",
      "Epoch: 13/100\n"
     ]
    },
    {
     "name": "stderr",
     "output_type": "stream",
     "text": [
      "100%|██████████| 4/4 [00:10<00:00,  2.56s/it]\n"
     ]
    },
    {
     "name": "stdout",
     "output_type": "stream",
     "text": [
      "Train loss: 32.87523112402243 Train accuracy 0.20968559871920767 Train top 5 accuracy 0.3613083138514091\n"
     ]
    },
    {
     "name": "stderr",
     "output_type": "stream",
     "text": [
      "100%|██████████| 2/2 [00:02<00:00,  1.00s/it]\n"
     ]
    },
    {
     "name": "stdout",
     "output_type": "stream",
     "text": [
      "Valid loss: 6.577102701453602 Valid accuracy 0.1296510512337965 Valid top 5 accuracy 0.2985983452595332\n",
      "Accuracy didn't improve from: 0.16974491768461816\n",
      "Epoch: 14/100\n"
     ]
    },
    {
     "name": "stderr",
     "output_type": "stream",
     "text": [
      "100%|██████████| 4/4 [00:05<00:00,  1.31s/it]\n"
     ]
    },
    {
     "name": "stdout",
     "output_type": "stream",
     "text": [
      "Train loss: 32.2103235550663 Train accuracy 0.20182555692051263 Train top 5 accuracy 0.3443204827661462\n"
     ]
    },
    {
     "name": "stderr",
     "output_type": "stream",
     "text": [
      "100%|██████████| 2/2 [00:02<00:00,  1.27s/it]\n"
     ]
    },
    {
     "name": "stdout",
     "output_type": "stream",
     "text": [
      "Valid loss: 7.099571689086802 Valid accuracy 0.18669841438531876 Valid top 5 accuracy 0.33124154740396666\n",
      "Saving best model wieghts, Accuracy: 0.18669841438531876\n",
      "Epoch: 15/100\n"
     ]
    },
    {
     "name": "stderr",
     "output_type": "stream",
     "text": [
      "100%|██████████| 4/4 [00:10<00:00,  2.56s/it]\n"
     ]
    },
    {
     "name": "stdout",
     "output_type": "stream",
     "text": [
      "Train loss: 25.830393877976082 Train accuracy 0.2157707901342827 Train top 5 accuracy 0.3646044653621228\n"
     ]
    },
    {
     "name": "stderr",
     "output_type": "stream",
     "text": [
      "100%|██████████| 2/2 [00:02<00:00,  1.04s/it]\n"
     ]
    },
    {
     "name": "stdout",
     "output_type": "stream",
     "text": [
      "Valid loss: 6.937162143342635 Valid accuracy 0.17328669076018474 Valid top 5 accuracy 0.32398104492355795\n",
      "Accuracy didn't improve from: 0.18669841438531876\n",
      "Epoch: 16/100\n"
     ]
    },
    {
     "name": "stderr",
     "output_type": "stream",
     "text": [
      "100%|██████████| 4/4 [00:05<00:00,  1.39s/it]\n"
     ]
    },
    {
     "name": "stdout",
     "output_type": "stream",
     "text": [
      "Train loss: 31.54929986245492 Train accuracy 0.16404665242332747 Train top 5 accuracy 0.3136409730924403\n"
     ]
    },
    {
     "name": "stderr",
     "output_type": "stream",
     "text": [
      "100%|██████████| 2/2 [00:01<00:00,  1.00it/s]\n"
     ]
    },
    {
     "name": "stdout",
     "output_type": "stream",
     "text": [
      "Valid loss: 6.7721196763655716 Valid accuracy 0.2031104733400485 Valid top 5 accuracy 0.34783716839464274\n",
      "Saving best model wieghts, Accuracy: 0.2031104733400485\n",
      "Epoch: 17/100\n"
     ]
    },
    {
     "name": "stderr",
     "output_type": "stream",
     "text": [
      "100%|██████████| 4/4 [00:05<00:00,  1.36s/it]\n"
     ]
    },
    {
     "name": "stdout",
     "output_type": "stream",
     "text": [
      "Train loss: 23.707971401950893 Train accuracy 0.22058823617065654 Train top 5 accuracy 0.36004056576091575\n"
     ]
    },
    {
     "name": "stderr",
     "output_type": "stream",
     "text": [
      "100%|██████████| 2/2 [00:02<00:00,  1.00s/it]\n"
     ]
    },
    {
     "name": "stdout",
     "output_type": "stream",
     "text": [
      "Valid loss: 6.7642355368417855 Valid accuracy 0.17617874209056883 Valid top 5 accuracy 0.34852650421945486\n",
      "Accuracy didn't improve from: 0.2031104733400485\n",
      "Epoch: 18/100\n"
     ]
    },
    {
     "name": "stderr",
     "output_type": "stream",
     "text": [
      "100%|██████████| 4/4 [00:10<00:00,  2.56s/it]\n"
     ]
    },
    {
     "name": "stdout",
     "output_type": "stream",
     "text": [
      "Train loss: 20.227246463298798 Train accuracy 0.22819472663104534 Train top 5 accuracy 0.3696754567379899\n"
     ]
    },
    {
     "name": "stderr",
     "output_type": "stream",
     "text": [
      "100%|██████████| 2/2 [00:02<00:00,  1.28s/it]\n"
     ]
    },
    {
     "name": "stdout",
     "output_type": "stream",
     "text": [
      "Valid loss: 6.899551095331416 Valid accuracy 0.20469912097734563 Valid top 5 accuracy 0.3533122547189979\n",
      "Saving best model wieghts, Accuracy: 0.20469912097734563\n",
      "Epoch: 19/100\n"
     ]
    },
    {
     "name": "stderr",
     "output_type": "stream",
     "text": [
      "100%|██████████| 4/4 [00:10<00:00,  2.56s/it]\n"
     ]
    },
    {
     "name": "stdout",
     "output_type": "stream",
     "text": [
      "Train loss: 21.32786650079138 Train accuracy 0.24797160581082983 Train top 5 accuracy 0.35573022136026444\n"
     ]
    },
    {
     "name": "stderr",
     "output_type": "stream",
     "text": [
      "100%|██████████| 2/2 [00:02<00:00,  1.28s/it]\n"
     ]
    },
    {
     "name": "stdout",
     "output_type": "stream",
     "text": [
      "Valid loss: 6.803005006383447 Valid accuracy 0.21141818757442868 Valid top 5 accuracy 0.35536706655779304\n",
      "Saving best model wieghts, Accuracy: 0.21141818757442868\n",
      "Epoch: 20/100\n"
     ]
    },
    {
     "name": "stderr",
     "output_type": "stream",
     "text": [
      "100%|██████████| 4/4 [00:10<00:00,  2.56s/it]\n"
     ]
    },
    {
     "name": "stdout",
     "output_type": "stream",
     "text": [
      "Train loss: 18.405020806719275 Train accuracy 0.24746450559948296 Train top 5 accuracy 0.36511155888986063\n"
     ]
    },
    {
     "name": "stderr",
     "output_type": "stream",
     "text": [
      "100%|██████████| 2/2 [00:02<00:00,  1.14s/it]\n"
     ]
    },
    {
     "name": "stdout",
     "output_type": "stream",
     "text": [
      "Valid loss: 6.6097914322334175 Valid accuracy 0.22117985018035946 Valid top 5 accuracy 0.3543396599809913\n",
      "Saving best model wieghts, Accuracy: 0.22117985018035946\n",
      "Epoch: 21/100\n"
     ]
    },
    {
     "name": "stderr",
     "output_type": "stream",
     "text": [
      "100%|██████████| 4/4 [00:10<00:00,  2.56s/it]\n"
     ]
    },
    {
     "name": "stdout",
     "output_type": "stream",
     "text": [
      "Train loss: 29.19733269074384 Train accuracy 0.18280933287871234 Train top 5 accuracy 0.33113589756848183\n"
     ]
    },
    {
     "name": "stderr",
     "output_type": "stream",
     "text": [
      "100%|██████████| 2/2 [00:02<00:00,  1.27s/it]\n"
     ]
    },
    {
     "name": "stdout",
     "output_type": "stream",
     "text": [
      "Valid loss: 6.85931157978142 Valid accuracy 0.193457095829003 Valid top 5 accuracy 0.35012175515294075\n",
      "Accuracy didn't improve from: 0.22117985018035946\n",
      "Epoch: 22/100\n"
     ]
    },
    {
     "name": "stderr",
     "output_type": "stream",
     "text": [
      "100%|██████████| 4/4 [00:05<00:00,  1.38s/it]\n"
     ]
    },
    {
     "name": "stdout",
     "output_type": "stream",
     "text": [
      "Train loss: 19.786194746108617 Train accuracy 0.25354969452190046 Train top 5 accuracy 0.38032454178285074\n"
     ]
    },
    {
     "name": "stderr",
     "output_type": "stream",
     "text": [
      "100%|██████████| 2/2 [00:02<00:00,  1.27s/it]\n"
     ]
    },
    {
     "name": "stdout",
     "output_type": "stream",
     "text": [
      "Valid loss: 6.737752187777968 Valid accuracy 0.18811010361156044 Valid top 5 accuracy 0.35229805824072924\n",
      "Accuracy didn't improve from: 0.22117985018035946\n",
      "Epoch: 23/100\n"
     ]
    },
    {
     "name": "stderr",
     "output_type": "stream",
     "text": [
      "100%|██████████| 4/4 [00:10<00:00,  2.56s/it]\n"
     ]
    },
    {
     "name": "stdout",
     "output_type": "stream",
     "text": [
      "Train loss: 16.237203159753015 Train accuracy 0.2771298167131403 Train top 5 accuracy 0.38640973248573784\n"
     ]
    },
    {
     "name": "stderr",
     "output_type": "stream",
     "text": [
      "100%|██████████| 2/2 [00:02<00:00,  1.05s/it]\n"
     ]
    },
    {
     "name": "stdout",
     "output_type": "stream",
     "text": [
      "Valid loss: 6.898210635956596 Valid accuracy 0.1985346928019734 Valid top 5 accuracy 0.3429563354481669\n",
      "Accuracy didn't improve from: 0.22117985018035946\n",
      "Epoch: 24/100\n"
     ]
    },
    {
     "name": "stderr",
     "output_type": "stream",
     "text": [
      "100%|██████████| 4/4 [00:05<00:00,  1.34s/it]\n"
     ]
    },
    {
     "name": "stdout",
     "output_type": "stream",
     "text": [
      "Train loss: 14.883042786927785 Train accuracy 0.28498985919663133 Train top 5 accuracy 0.38564908178523183\n"
     ]
    },
    {
     "name": "stderr",
     "output_type": "stream",
     "text": [
      "100%|██████████| 2/2 [00:02<00:00,  1.27s/it]\n"
     ]
    },
    {
     "name": "stdout",
     "output_type": "stream",
     "text": [
      "Valid loss: 6.363479609875118 Valid accuracy 0.21022307215368047 Valid top 5 accuracy 0.3424967760768007\n",
      "Accuracy didn't improve from: 0.22117985018035946\n",
      "Epoch: 25/100\n"
     ]
    },
    {
     "name": "stderr",
     "output_type": "stream",
     "text": [
      "100%|██████████| 4/4 [00:10<00:00,  2.56s/it]\n"
     ]
    },
    {
     "name": "stdout",
     "output_type": "stream",
     "text": [
      "Train loss: 16.90253053167287 Train accuracy 0.27636916940922246 Train top 5 accuracy 0.36764705600216985\n"
     ]
    },
    {
     "name": "stderr",
     "output_type": "stream",
     "text": [
      "100%|██████████| 2/2 [00:02<00:00,  1.27s/it]\n"
     ]
    },
    {
     "name": "stdout",
     "output_type": "stream",
     "text": [
      "Valid loss: 6.343359161825741 Valid accuracy 0.1765300137374331 Valid top 5 accuracy 0.34138089484151674\n",
      "Accuracy didn't improve from: 0.22117985018035946\n",
      "Epoch: 26/100\n"
     ]
    },
    {
     "name": "stderr",
     "output_type": "stream",
     "text": [
      "100%|██████████| 4/4 [00:10<00:00,  2.56s/it]\n"
     ]
    },
    {
     "name": "stdout",
     "output_type": "stream",
     "text": [
      "Train loss: 14.188852414488792 Train accuracy 0.2867647051975569 Train top 5 accuracy 0.3831135903704254\n"
     ]
    },
    {
     "name": "stderr",
     "output_type": "stream",
     "text": [
      "100%|██████████| 2/2 [00:02<00:00,  1.27s/it]\n"
     ]
    },
    {
     "name": "stdout",
     "output_type": "stream",
     "text": [
      "Valid loss: 6.117330062915297 Valid accuracy 0.23757870528189576 Valid top 5 accuracy 0.36093723609605255\n",
      "Saving best model wieghts, Accuracy: 0.23757870528189576\n",
      "Epoch: 27/100\n"
     ]
    },
    {
     "name": "stderr",
     "output_type": "stream",
     "text": [
      "100%|██████████| 4/4 [00:05<00:00,  1.42s/it]\n"
     ]
    },
    {
     "name": "stdout",
     "output_type": "stream",
     "text": [
      "Train loss: 12.960203630959287 Train accuracy 0.26724137820522575 Train top 5 accuracy 0.37221095374073176\n"
     ]
    },
    {
     "name": "stderr",
     "output_type": "stream",
     "text": [
      "100%|██████████| 2/2 [00:01<00:00,  1.01it/s]\n"
     ]
    },
    {
     "name": "stdout",
     "output_type": "stream",
     "text": [
      "Valid loss: 6.686923165531719 Valid accuracy 0.20770606190404473 Valid top 5 accuracy 0.34843802726005807\n",
      "Accuracy didn't improve from: 0.23757870528189576\n",
      "Epoch: 28/100\n"
     ]
    },
    {
     "name": "stderr",
     "output_type": "stream",
     "text": [
      "100%|██████████| 4/4 [00:10<00:00,  2.56s/it]\n"
     ]
    },
    {
     "name": "stdout",
     "output_type": "stream",
     "text": [
      "Train loss: 16.07629717097563 Train accuracy 0.26901622916407447 Train top 5 accuracy 0.3790567926240756\n"
     ]
    },
    {
     "name": "stderr",
     "output_type": "stream",
     "text": [
      "100%|██████████| 2/2 [00:02<00:00,  1.04s/it]\n"
     ]
    },
    {
     "name": "stdout",
     "output_type": "stream",
     "text": [
      "Valid loss: 6.558658394743414 Valid accuracy 0.20870045167120063 Valid top 5 accuracy 0.36036278877188177\n",
      "Accuracy didn't improve from: 0.23757870528189576\n",
      "Epoch: 29/100\n"
     ]
    },
    {
     "name": "stderr",
     "output_type": "stream",
     "text": [
      "100%|██████████| 4/4 [00:05<00:00,  1.35s/it]\n"
     ]
    },
    {
     "name": "stdout",
     "output_type": "stream",
     "text": [
      "Train loss: 10.54067687690258 Train accuracy 0.30451318355934587 Train top 5 accuracy 0.38590263515053425\n"
     ]
    },
    {
     "name": "stderr",
     "output_type": "stream",
     "text": [
      "100%|██████████| 2/2 [00:02<00:00,  1.27s/it]\n"
     ]
    },
    {
     "name": "stdout",
     "output_type": "stream",
     "text": [
      "Valid loss: 6.4198265391237594 Valid accuracy 0.22463974729180336 Valid top 5 accuracy 0.36140339788706866\n",
      "Accuracy didn't improve from: 0.23757870528189576\n",
      "Epoch: 30/100\n"
     ]
    },
    {
     "name": "stderr",
     "output_type": "stream",
     "text": [
      "100%|██████████| 4/4 [00:10<00:00,  2.56s/it]\n"
     ]
    },
    {
     "name": "stdout",
     "output_type": "stream",
     "text": [
      "Train loss: 11.360494826646413 Train accuracy 0.30527383505421524 Train top 5 accuracy 0.38209939391954856\n"
     ]
    },
    {
     "name": "stderr",
     "output_type": "stream",
     "text": [
      "100%|██████████| 2/2 [00:02<00:00,  1.27s/it]\n"
     ]
    },
    {
     "name": "stdout",
     "output_type": "stream",
     "text": [
      "Valid loss: 6.607919234563322 Valid accuracy 0.23471306428751526 Valid top 5 accuracy 0.36694055379313584\n",
      "Accuracy didn't improve from: 0.23757870528189576\n",
      "Epoch: 31/100\n"
     ]
    },
    {
     "name": "stderr",
     "output_type": "stream",
     "text": [
      "100%|██████████| 4/4 [00:05<00:00,  1.34s/it]\n"
     ]
    },
    {
     "name": "stdout",
     "output_type": "stream",
     "text": [
      "Train loss: 9.751985201064278 Train accuracy 0.3154158217503744 Train top 5 accuracy 0.3902129815233981\n"
     ]
    },
    {
     "name": "stderr",
     "output_type": "stream",
     "text": [
      "100%|██████████| 2/2 [00:02<00:00,  1.27s/it]\n"
     ]
    },
    {
     "name": "stdout",
     "output_type": "stream",
     "text": [
      "Valid loss: 6.237841994446867 Valid accuracy 0.2018202749245307 Valid top 5 accuracy 0.34666185935630517\n",
      "Accuracy didn't improve from: 0.23757870528189576\n",
      "Epoch: 32/100\n"
     ]
    },
    {
     "name": "stderr",
     "output_type": "stream",
     "text": [
      "100%|██████████| 4/4 [00:10<00:00,  2.56s/it]\n"
     ]
    },
    {
     "name": "stdout",
     "output_type": "stream",
     "text": [
      "Train loss: 8.581198866753017 Train accuracy 0.3136409670662354 Train top 5 accuracy 0.3894523304667981\n"
     ]
    },
    {
     "name": "stderr",
     "output_type": "stream",
     "text": [
      "100%|██████████| 2/2 [00:02<00:00,  1.03s/it]\n"
     ]
    },
    {
     "name": "stdout",
     "output_type": "stream",
     "text": [
      "Valid loss: 6.272198761210722 Valid accuracy 0.24041133286321864 Valid top 5 accuracy 0.3645542838117656\n",
      "Saving best model wieghts, Accuracy: 0.24041133286321864\n",
      "Epoch: 33/100\n"
     ]
    },
    {
     "name": "stderr",
     "output_type": "stream",
     "text": [
      "100%|██████████| 4/4 [00:05<00:00,  1.41s/it]\n"
     ]
    },
    {
     "name": "stdout",
     "output_type": "stream",
     "text": [
      "Train loss: 10.777050032335168 Train accuracy 0.2908215039026211 Train top 5 accuracy 0.3836206923622419\n"
     ]
    },
    {
     "name": "stderr",
     "output_type": "stream",
     "text": [
      "100%|██████████| 2/2 [00:01<00:00,  1.01it/s]\n"
     ]
    },
    {
     "name": "stdout",
     "output_type": "stream",
     "text": [
      "Valid loss: 6.251956729327931 Valid accuracy 0.2064224663464462 Valid top 5 accuracy 0.3559415147585027\n",
      "Accuracy didn't improve from: 0.24041133286321864\n",
      "Epoch: 34/100\n"
     ]
    },
    {
     "name": "stderr",
     "output_type": "stream",
     "text": [
      "100%|██████████| 4/4 [00:10<00:00,  2.56s/it]\n"
     ]
    },
    {
     "name": "stdout",
     "output_type": "stream",
     "text": [
      "Train loss: 9.362011768362102 Train accuracy 0.305020286811187 Train top 5 accuracy 0.3897058827364269\n"
     ]
    },
    {
     "name": "stderr",
     "output_type": "stream",
     "text": [
      "100%|██████████| 2/2 [00:02<00:00,  1.04s/it]\n"
     ]
    },
    {
     "name": "stdout",
     "output_type": "stream",
     "text": [
      "Valid loss: 6.204699597814503 Valid accuracy 0.23298971869927995 Valid top 5 accuracy 0.3624308007385801\n",
      "Accuracy didn't improve from: 0.24041133286321864\n",
      "Epoch: 35/100\n"
     ]
    },
    {
     "name": "stderr",
     "output_type": "stream",
     "text": [
      "100%|██████████| 4/4 [00:05<00:00,  1.35s/it]\n"
     ]
    },
    {
     "name": "stdout",
     "output_type": "stream",
     "text": [
      "Train loss: 7.523334980010986 Train accuracy 0.31997971790020957 Train top 5 accuracy 0.38945233367164345\n"
     ]
    },
    {
     "name": "stderr",
     "output_type": "stream",
     "text": [
      "100%|██████████| 2/2 [00:02<00:00,  1.28s/it]\n"
     ]
    },
    {
     "name": "stdout",
     "output_type": "stream",
     "text": [
      "Valid loss: 6.278972065624068 Valid accuracy 0.24561702229959123 Valid top 5 accuracy 0.36865729750955806\n",
      "Saving best model wieghts, Accuracy: 0.24561702229959123\n",
      "Epoch: 36/100\n"
     ]
    },
    {
     "name": "stderr",
     "output_type": "stream",
     "text": [
      "100%|██████████| 4/4 [00:10<00:00,  2.56s/it]\n"
     ]
    },
    {
     "name": "stdout",
     "output_type": "stream",
     "text": [
      "Train loss: 12.536978165892993 Train accuracy 0.291582148960408 Train top 5 accuracy 0.3798174424754346\n"
     ]
    },
    {
     "name": "stderr",
     "output_type": "stream",
     "text": [
      "100%|██████████| 2/2 [00:02<00:00,  1.02s/it]\n"
     ]
    },
    {
     "name": "stdout",
     "output_type": "stream",
     "text": [
      "Valid loss: 6.5485880725524 Valid accuracy 0.2407322323278469 Valid top 5 accuracy 0.365906545344521\n",
      "Accuracy didn't improve from: 0.24561702229959123\n",
      "Epoch: 37/100\n"
     ]
    },
    {
     "name": "stderr",
     "output_type": "stream",
     "text": [
      "100%|██████████| 4/4 [00:10<00:00,  2.56s/it]\n"
     ]
    },
    {
     "name": "stdout",
     "output_type": "stream",
     "text": [
      "Train loss: 15.970666971276788 Train accuracy 0.30578093340291695 Train top 5 accuracy 0.3775354960714193\n"
     ]
    },
    {
     "name": "stderr",
     "output_type": "stream",
     "text": [
      "100%|██████████| 2/2 [00:02<00:00,  1.00s/it]\n"
     ]
    },
    {
     "name": "stdout",
     "output_type": "stream",
     "text": [
      "Valid loss: 6.58795905288528 Valid accuracy 0.1925181709229946 Valid top 5 accuracy 0.33453373161747174\n",
      "Accuracy didn't improve from: 0.24561702229959123\n",
      "Epoch: 38/100\n"
     ]
    },
    {
     "name": "stderr",
     "output_type": "stream",
     "text": [
      "100%|██████████| 4/4 [00:10<00:00,  2.56s/it]\n"
     ]
    },
    {
     "name": "stdout",
     "output_type": "stream",
     "text": [
      "Train loss: 16.77370628495427 Train accuracy 0.2723123752512038 Train top 5 accuracy 0.3719573983210413\n"
     ]
    },
    {
     "name": "stderr",
     "output_type": "stream",
     "text": [
      "100%|██████████| 2/2 [00:02<00:00,  1.27s/it]\n"
     ]
    },
    {
     "name": "stdout",
     "output_type": "stream",
     "text": [
      "Valid loss: 6.346181594273624 Valid accuracy 0.20037292886306257 Valid top 5 accuracy 0.32781466512995605\n",
      "Accuracy didn't improve from: 0.24561702229959123\n",
      "Epoch: 39/100\n"
     ]
    },
    {
     "name": "stderr",
     "output_type": "stream",
     "text": [
      "100%|██████████| 4/4 [00:10<00:00,  2.56s/it]\n"
     ]
    },
    {
     "name": "stdout",
     "output_type": "stream",
     "text": [
      "Train loss: 37.274166378028255 Train accuracy 0.21424948944545844 Train top 5 accuracy 0.37018255314187093\n"
     ]
    },
    {
     "name": "stderr",
     "output_type": "stream",
     "text": [
      "100%|██████████| 2/2 [00:02<00:00,  1.27s/it]\n"
     ]
    },
    {
     "name": "stdout",
     "output_type": "stream",
     "text": [
      "Valid loss: 5.985604494810104 Valid accuracy 0.20257828439421513 Valid top 5 accuracy 0.3321276532814783\n",
      "Accuracy didn't improve from: 0.24561702229959123\n",
      "Epoch: 40/100\n"
     ]
    },
    {
     "name": "stderr",
     "output_type": "stream",
     "text": [
      "100%|██████████| 4/4 [00:10<00:00,  2.56s/it]\n"
     ]
    },
    {
     "name": "stdout",
     "output_type": "stream",
     "text": [
      "Train loss: 11.153589529149672 Train accuracy 0.2999492931344053 Train top 5 accuracy 0.3886916822863414\n"
     ]
    },
    {
     "name": "stderr",
     "output_type": "stream",
     "text": [
      "100%|██████████| 2/2 [00:02<00:00,  1.07s/it]\n"
     ]
    },
    {
     "name": "stdout",
     "output_type": "stream",
     "text": [
      "Valid loss: 6.81043134191457 Valid accuracy 0.2353825966882355 Valid top 5 accuracy 0.3623977884211961\n",
      "Accuracy didn't improve from: 0.24561702229959123\n",
      "Epoch: 41/100\n"
     ]
    },
    {
     "name": "stderr",
     "output_type": "stream",
     "text": [
      "100%|██████████| 4/4 [00:05<00:00,  1.33s/it]\n"
     ]
    },
    {
     "name": "stdout",
     "output_type": "stream",
     "text": [
      "Train loss: 8.447179093956947 Train accuracy 0.3136409720241585 Train top 5 accuracy 0.38818458319806\n"
     ]
    },
    {
     "name": "stderr",
     "output_type": "stream",
     "text": [
      "100%|██████████| 2/2 [00:01<00:00,  1.02it/s]\n"
     ]
    },
    {
     "name": "stdout",
     "output_type": "stream",
     "text": [
      "Valid loss: 6.7883226836428925 Valid accuracy 0.2394988141296541 Valid top 5 accuracy 0.36251267549746174\n",
      "Accuracy didn't improve from: 0.24561702229959123\n",
      "Epoch: 42/100\n"
     ]
    },
    {
     "name": "stderr",
     "output_type": "stream",
     "text": [
      "100%|██████████| 4/4 [00:10<00:00,  2.56s/it]\n"
     ]
    },
    {
     "name": "stdout",
     "output_type": "stream",
     "text": [
      "Train loss: 7.334046737236135 Train accuracy 0.31820487017359805 Train top 5 accuracy 0.38818458319806\n"
     ]
    },
    {
     "name": "stderr",
     "output_type": "stream",
     "text": [
      "100%|██████████| 2/2 [00:02<00:00,  1.27s/it]\n"
     ]
    },
    {
     "name": "stdout",
     "output_type": "stream",
     "text": [
      "Valid loss: 6.846039200530333 Valid accuracy 0.24973324489067583 Valid top 5 accuracy 0.36478406125131774\n",
      "Saving best model wieghts, Accuracy: 0.24973324489067583\n",
      "Epoch: 43/100\n"
     ]
    },
    {
     "name": "stderr",
     "output_type": "stream",
     "text": [
      "100%|██████████| 4/4 [00:10<00:00,  2.56s/it]\n"
     ]
    },
    {
     "name": "stdout",
     "output_type": "stream",
     "text": [
      "Train loss: 6.289604157209396 Train accuracy 0.33291075121173086 Train top 5 accuracy 0.389198782196378\n"
     ]
    },
    {
     "name": "stderr",
     "output_type": "stream",
     "text": [
      "100%|██████████| 2/2 [00:02<00:00,  1.27s/it]\n"
     ]
    },
    {
     "name": "stdout",
     "output_type": "stream",
     "text": [
      "Valid loss: 6.914556249976158 Valid accuracy 0.26015783430022354 Valid top 5 accuracy 0.3637698626912692\n",
      "Saving best model wieghts, Accuracy: 0.26015783430022354\n",
      "Epoch: 44/100\n"
     ]
    },
    {
     "name": "stderr",
     "output_type": "stream",
     "text": [
      "100%|██████████| 4/4 [00:05<00:00,  1.39s/it]\n"
     ]
    },
    {
     "name": "stdout",
     "output_type": "stream",
     "text": [
      "Train loss: 5.835788888089797 Train accuracy 0.3351926975061788 Train top 5 accuracy 0.3897058827364269\n"
     ]
    },
    {
     "name": "stderr",
     "output_type": "stream",
     "text": [
      "100%|██████████| 2/2 [00:01<00:00,  1.02it/s]\n"
     ]
    },
    {
     "name": "stdout",
     "output_type": "stream",
     "text": [
      "Valid loss: 6.991727272377295 Valid accuracy 0.2692037463626441 Valid top 5 accuracy 0.36535190681324287\n",
      "Saving best model wieghts, Accuracy: 0.2692037463626441\n",
      "Epoch: 45/100\n"
     ]
    },
    {
     "name": "stderr",
     "output_type": "stream",
     "text": [
      "100%|██████████| 4/4 [00:05<00:00,  1.37s/it]\n"
     ]
    },
    {
     "name": "stdout",
     "output_type": "stream",
     "text": [
      "Train loss: 6.233880400657654 Train accuracy 0.31617646494551616 Train top 5 accuracy 0.38919878074461045\n"
     ]
    },
    {
     "name": "stderr",
     "output_type": "stream",
     "text": [
      "100%|██████████| 2/2 [00:02<00:00,  1.01s/it]\n"
     ]
    },
    {
     "name": "stdout",
     "output_type": "stream",
     "text": [
      "Valid loss: 7.136096686124802 Valid accuracy 0.25007791324135137 Valid top 5 accuracy 0.36480386774329576\n",
      "Accuracy didn't improve from: 0.2692037463626441\n",
      "Epoch: 46/100\n"
     ]
    },
    {
     "name": "stderr",
     "output_type": "stream",
     "text": [
      "100%|██████████| 4/4 [00:05<00:00,  1.37s/it]\n"
     ]
    },
    {
     "name": "stdout",
     "output_type": "stream",
     "text": [
      "Train loss: 7.079425843322978 Train accuracy 0.3212474670863765 Train top 5 accuracy 0.3884381325641537\n"
     ]
    },
    {
     "name": "stderr",
     "output_type": "stream",
     "text": [
      "100%|██████████| 2/2 [00:02<00:00,  1.27s/it]\n"
     ]
    },
    {
     "name": "stdout",
     "output_type": "stream",
     "text": [
      "Valid loss: 6.919992692330304 Valid accuracy 0.22200652989832795 Valid top 5 accuracy 0.3613571772242294\n",
      "Accuracy didn't improve from: 0.2692037463626441\n",
      "Epoch: 47/100\n"
     ]
    },
    {
     "name": "stderr",
     "output_type": "stream",
     "text": [
      "100%|██████████| 4/4 [00:10<00:00,  2.56s/it]\n"
     ]
    },
    {
     "name": "stdout",
     "output_type": "stream",
     "text": [
      "Train loss: 6.17165460656671 Train accuracy 0.3450811366988894 Train top 5 accuracy 0.3912271797273527\n"
     ]
    },
    {
     "name": "stderr",
     "output_type": "stream",
     "text": [
      "100%|██████████| 2/2 [00:02<00:00,  1.28s/it]\n"
     ]
    },
    {
     "name": "stdout",
     "output_type": "stream",
     "text": [
      "Valid loss: 6.7418992291478546 Valid accuracy 0.24393989715506048 Valid top 5 accuracy 0.36318220515899796\n",
      "Accuracy didn't improve from: 0.2692037463626441\n",
      "Epoch: 48/100\n"
     ]
    },
    {
     "name": "stderr",
     "output_type": "stream",
     "text": [
      "100%|██████████| 4/4 [00:05<00:00,  1.33s/it]\n"
     ]
    },
    {
     "name": "stdout",
     "output_type": "stream",
     "text": [
      "Train loss: 5.631370749543695 Train accuracy 0.34305273900356364 Train top 5 accuracy 0.3904665297938182\n"
     ]
    },
    {
     "name": "stderr",
     "output_type": "stream",
     "text": [
      "100%|██████████| 2/2 [00:02<00:00,  1.27s/it]\n"
     ]
    },
    {
     "name": "stdout",
     "output_type": "stream",
     "text": [
      "Valid loss: 6.876167596263044 Valid accuracy 0.25474217282060313 Valid top 5 accuracy 0.36579825970179897\n",
      "Accuracy didn't improve from: 0.2692037463626441\n",
      "Epoch: 49/100\n"
     ]
    },
    {
     "name": "stderr",
     "output_type": "stream",
     "text": [
      "100%|██████████| 4/4 [00:05<00:00,  1.32s/it]\n"
     ]
    },
    {
     "name": "stdout",
     "output_type": "stream",
     "text": [
      "Train loss: 4.7563349464360405 Train accuracy 0.34939148107214885 Train top 5 accuracy 0.3909736300325569\n"
     ]
    },
    {
     "name": "stderr",
     "output_type": "stream",
     "text": [
      "100%|██████████| 2/2 [00:02<00:00,  1.27s/it]\n"
     ]
    },
    {
     "name": "stdout",
     "output_type": "stream",
     "text": [
      "Valid loss: 6.853297541246695 Valid accuracy 0.24349354580044746 Valid top 5 accuracy 0.3636483694700634\n",
      "Accuracy didn't improve from: 0.2692037463626441\n",
      "Epoch: 50/100\n"
     ]
    },
    {
     "name": "stderr",
     "output_type": "stream",
     "text": [
      "100%|██████████| 4/4 [00:05<00:00,  1.37s/it]\n"
     ]
    },
    {
     "name": "stdout",
     "output_type": "stream",
     "text": [
      "Train loss: 7.6633954276056855 Train accuracy 0.316937123233562 Train top 5 accuracy 0.3871703856241177\n"
     ]
    },
    {
     "name": "stderr",
     "output_type": "stream",
     "text": [
      "100%|██████████| 2/2 [00:02<00:00,  1.27s/it]\n"
     ]
    },
    {
     "name": "stdout",
     "output_type": "stream",
     "text": [
      "Valid loss: 7.021729199325337 Valid accuracy 0.25106570157496366 Valid top 5 accuracy 0.3585575663429849\n",
      "Accuracy didn't improve from: 0.2692037463626441\n",
      "Epoch: 51/100\n"
     ]
    },
    {
     "name": "stderr",
     "output_type": "stream",
     "text": [
      "100%|██████████| 4/4 [00:05<00:00,  1.36s/it]\n"
     ]
    },
    {
     "name": "stdout",
     "output_type": "stream",
     "text": [
      "Train loss: 5.024079413974986 Train accuracy 0.32910750515978127 Train top 5 accuracy 0.3884381322628435\n"
     ]
    },
    {
     "name": "stderr",
     "output_type": "stream",
     "text": [
      "100%|██████████| 2/2 [00:01<00:00,  1.01it/s]\n"
     ]
    },
    {
     "name": "stdout",
     "output_type": "stream",
     "text": [
      "Valid loss: 6.983695733196595 Valid accuracy 0.26109676095930967 Valid top 5 accuracy 0.3648989500806612\n",
      "Accuracy didn't improve from: 0.2692037463626441\n",
      "Epoch: 52/100\n"
     ]
    },
    {
     "name": "stderr",
     "output_type": "stream",
     "text": [
      "100%|██████████| 4/4 [00:05<00:00,  1.37s/it]\n"
     ]
    },
    {
     "name": "stdout",
     "output_type": "stream",
     "text": [
      "Train loss: 7.267644123119466 Train accuracy 0.30476673284326405 Train top 5 accuracy 0.38514198376523223\n"
     ]
    },
    {
     "name": "stderr",
     "output_type": "stream",
     "text": [
      "100%|██████████| 2/2 [00:01<00:00,  1.01it/s]\n"
     ]
    },
    {
     "name": "stdout",
     "output_type": "stream",
     "text": [
      "Valid loss: 7.026685323785333 Valid accuracy 0.2392096120645018 Valid top 5 accuracy 0.36274905897238674\n",
      "Accuracy didn't improve from: 0.2692037463626441\n",
      "Epoch: 53/100\n"
     ]
    },
    {
     "name": "stderr",
     "output_type": "stream",
     "text": [
      "100%|██████████| 4/4 [00:05<00:00,  1.36s/it]\n"
     ]
    },
    {
     "name": "stdout",
     "output_type": "stream",
     "text": [
      "Train loss: 4.549027474487529 Train accuracy 0.33848884449723887 Train top 5 accuracy 0.3899594324312228\n"
     ]
    },
    {
     "name": "stderr",
     "output_type": "stream",
     "text": [
      "100%|██████████| 2/2 [00:01<00:00,  1.04it/s]\n"
     ]
    },
    {
     "name": "stdout",
     "output_type": "stream",
     "text": [
      "Valid loss: 6.897205470239415 Valid accuracy 0.2505863337394069 Valid top 5 accuracy 0.36421621459371906\n",
      "Accuracy didn't improve from: 0.2692037463626441\n",
      "Epoch: 54/100\n"
     ]
    },
    {
     "name": "stderr",
     "output_type": "stream",
     "text": [
      "100%|██████████| 4/4 [00:05<00:00,  1.31s/it]\n"
     ]
    },
    {
     "name": "stdout",
     "output_type": "stream",
     "text": [
      "Train loss: 5.517501918708577 Train accuracy 0.3425456429009928 Train top 5 accuracy 0.3909736282794791\n"
     ]
    },
    {
     "name": "stderr",
     "output_type": "stream",
     "text": [
      "100%|██████████| 2/2 [00:02<00:00,  1.27s/it]\n"
     ]
    },
    {
     "name": "stdout",
     "output_type": "stream",
     "text": [
      "Valid loss: 7.047413641915602 Valid accuracy 0.2518857743810205 Valid top 5 accuracy 0.36261436167885275\n",
      "Accuracy didn't improve from: 0.2692037463626441\n",
      "model didn't improve for 10 epochs----> lower learning rate to 2e-05\n",
      "Epoch: 55/100\n"
     ]
    },
    {
     "name": "stderr",
     "output_type": "stream",
     "text": [
      "100%|██████████| 4/4 [00:11<00:00,  2.79s/it]\n"
     ]
    },
    {
     "name": "stdout",
     "output_type": "stream",
     "text": [
      "Train loss: 3.692920009002966 Train accuracy 0.3577586152755162 Train top 5 accuracy 0.39173427851432385\n"
     ]
    },
    {
     "name": "stderr",
     "output_type": "stream",
     "text": [
      "100%|██████████| 2/2 [00:05<00:00,  2.64s/it]\n"
     ]
    },
    {
     "name": "stdout",
     "output_type": "stream",
     "text": [
      "Valid loss: 7.046843997695866 Valid accuracy 0.259081568897647 Valid top 5 accuracy 0.3655882887542248\n",
      "Accuracy didn't improve from: 0.2692037463626441\n",
      "Epoch: 56/100\n"
     ]
    },
    {
     "name": "stderr",
     "output_type": "stream",
     "text": [
      "100%|██████████| 4/4 [00:10<00:00,  2.56s/it]\n"
     ]
    },
    {
     "name": "stdout",
     "output_type": "stream",
     "text": [
      "Train loss: 3.1619019341819428 Train accuracy 0.3620689674006665 Train top 5 accuracy 0.39173427851432385\n"
     ]
    },
    {
     "name": "stderr",
     "output_type": "stream",
     "text": [
      "100%|██████████| 2/2 [00:02<00:00,  1.27s/it]\n"
     ]
    },
    {
     "name": "stdout",
     "output_type": "stream",
     "text": [
      "Valid loss: 6.987952738123782 Valid accuracy 0.2588517887189108 Valid top 5 accuracy 0.36525022172752547\n",
      "Accuracy didn't improve from: 0.2692037463626441\n",
      "Epoch: 57/100\n"
     ]
    },
    {
     "name": "stderr",
     "output_type": "stream",
     "text": [
      "100%|██████████| 4/4 [00:05<00:00,  1.37s/it]\n"
     ]
    },
    {
     "name": "stdout",
     "output_type": "stream",
     "text": [
      "Train loss: 3.0261502336053288 Train accuracy 0.364350910517661 Train top 5 accuracy 0.39173427851432385\n"
     ]
    },
    {
     "name": "stderr",
     "output_type": "stream",
     "text": [
      "100%|██████████| 2/2 [00:02<00:00,  1.27s/it]\n"
     ]
    },
    {
     "name": "stdout",
     "output_type": "stream",
     "text": [
      "Valid loss: 6.947371118208942 Valid accuracy 0.25997427478432655 Valid top 5 accuracy 0.3647906629039961\n",
      "Accuracy didn't improve from: 0.2692037463626441\n",
      "Epoch: 58/100\n"
     ]
    },
    {
     "name": "stderr",
     "output_type": "stream",
     "text": [
      "100%|██████████| 4/4 [00:05<00:00,  1.37s/it]\n"
     ]
    },
    {
     "name": "stdout",
     "output_type": "stream",
     "text": [
      "Train loss: 2.9256564878365574 Train accuracy 0.36587221038473006 Train top 5 accuracy 0.39173427851432385\n"
     ]
    },
    {
     "name": "stderr",
     "output_type": "stream",
     "text": [
      "100%|██████████| 2/2 [00:02<00:00,  1.28s/it]\n"
     ]
    },
    {
     "name": "stdout",
     "output_type": "stream",
     "text": [
      "Valid loss: 6.931959819267778 Valid accuracy 0.2608537737499265 Valid top 5 accuracy 0.3657916567343123\n",
      "Accuracy didn't improve from: 0.2692037463626441\n",
      "Epoch: 59/100\n"
     ]
    },
    {
     "name": "stderr",
     "output_type": "stream",
     "text": [
      "100%|██████████| 4/4 [00:05<00:00,  1.34s/it]\n"
     ]
    },
    {
     "name": "stdout",
     "output_type": "stream",
     "text": [
      "Train loss: 2.824687857838238 Train accuracy 0.3661257615312934 Train top 5 accuracy 0.39173427851432385\n"
     ]
    },
    {
     "name": "stderr",
     "output_type": "stream",
     "text": [
      "100%|██████████| 2/2 [00:01<00:00,  1.02it/s]\n"
     ]
    },
    {
     "name": "stdout",
     "output_type": "stream",
     "text": [
      "Valid loss: 6.937599485411363 Valid accuracy 0.2622390540645403 Valid top 5 accuracy 0.3653453038457562\n",
      "Accuracy didn't improve from: 0.2692037463626441\n",
      "Epoch: 60/100\n"
     ]
    },
    {
     "name": "stderr",
     "output_type": "stream",
     "text": [
      "100%|██████████| 4/4 [00:05<00:00,  1.33s/it]\n"
     ]
    },
    {
     "name": "stdout",
     "output_type": "stream",
     "text": [
      "Train loss: 2.7228182124740936 Train accuracy 0.36739351025179906 Train top 5 accuracy 0.39173427851432385\n"
     ]
    },
    {
     "name": "stderr",
     "output_type": "stream",
     "text": [
      "100%|██████████| 2/2 [00:01<00:00,  1.02it/s]\n"
     ]
    },
    {
     "name": "stdout",
     "output_type": "stream",
     "text": [
      "Valid loss: 6.945792759166045 Valid accuracy 0.2637326202410109 Valid top 5 accuracy 0.3645542827160919\n",
      "Accuracy didn't improve from: 0.2692037463626441\n",
      "Epoch: 61/100\n"
     ]
    },
    {
     "name": "stderr",
     "output_type": "stream",
     "text": [
      "100%|██████████| 4/4 [00:10<00:00,  2.56s/it]\n"
     ]
    },
    {
     "name": "stdout",
     "output_type": "stream",
     "text": [
      "Train loss: 2.623953245141927 Train accuracy 0.36866125721922693 Train top 5 accuracy 0.39173427851432385\n"
     ]
    },
    {
     "name": "stderr",
     "output_type": "stream",
     "text": [
      "100%|██████████| 2/2 [00:02<00:00,  1.27s/it]\n"
     ]
    },
    {
     "name": "stdout",
     "output_type": "stream",
     "text": [
      "Valid loss: 6.969086638268302 Valid accuracy 0.26281350358005834 Valid top 5 accuracy 0.3638715465717456\n",
      "Accuracy didn't improve from: 0.2692037463626441\n",
      "Epoch: 62/100\n"
     ]
    },
    {
     "name": "stderr",
     "output_type": "stream",
     "text": [
      "100%|██████████| 4/4 [00:05<00:00,  1.33s/it]\n"
     ]
    },
    {
     "name": "stdout",
     "output_type": "stream",
     "text": [
      "Train loss: 2.5307113317882313 Train accuracy 0.37018255796283484 Train top 5 accuracy 0.39173427851432385\n"
     ]
    },
    {
     "name": "stderr",
     "output_type": "stream",
     "text": [
      "100%|██████████| 2/2 [00:02<00:00,  1.28s/it]\n"
     ]
    },
    {
     "name": "stdout",
     "output_type": "stream",
     "text": [
      "Valid loss: 6.982404117198551 Valid accuracy 0.262698613874176 Valid top 5 accuracy 0.3637566568658632\n",
      "Accuracy didn't improve from: 0.2692037463626441\n",
      "Epoch: 63/100\n"
     ]
    },
    {
     "name": "stderr",
     "output_type": "stream",
     "text": [
      "100%|██████████| 4/4 [00:10<00:00,  2.56s/it]\n"
     ]
    },
    {
     "name": "stdout",
     "output_type": "stream",
     "text": [
      "Train loss: 2.4444452620604458 Train accuracy 0.3709432114025249 Train top 5 accuracy 0.39173427851432385\n"
     ]
    },
    {
     "name": "stderr",
     "output_type": "stream",
     "text": [
      "100%|██████████| 2/2 [00:02<00:00,  1.04s/it]\n"
     ]
    },
    {
     "name": "stdout",
     "output_type": "stream",
     "text": [
      "Valid loss: 6.991125142749618 Valid accuracy 0.26373262298019495 Valid top 5 accuracy 0.36318881042739926\n",
      "Accuracy didn't improve from: 0.2692037463626441\n",
      "Epoch: 64/100\n"
     ]
    },
    {
     "name": "stderr",
     "output_type": "stream",
     "text": [
      "100%|██████████| 4/4 [00:10<00:00,  2.56s/it]\n"
     ]
    },
    {
     "name": "stdout",
     "output_type": "stream",
     "text": [
      "Train loss: 2.3667242649723503 Train accuracy 0.37170385520028715 Train top 5 accuracy 0.39173427851432385\n"
     ]
    },
    {
     "name": "stderr",
     "output_type": "stream",
     "text": [
      "100%|██████████| 2/2 [00:02<00:00,  1.27s/it]\n"
     ]
    },
    {
     "name": "stdout",
     "output_type": "stream",
     "text": [
      "Valid loss: 7.0116047429687836 Valid accuracy 0.26541634911999984 Valid top 5 accuracy 0.362276296624366\n",
      "Accuracy didn't improve from: 0.2692037463626441\n",
      "Epoch: 65/100\n"
     ]
    },
    {
     "name": "stderr",
     "output_type": "stream",
     "text": [
      "100%|██████████| 4/4 [00:10<00:00,  2.56s/it]\n"
     ]
    },
    {
     "name": "stdout",
     "output_type": "stream",
     "text": [
      "Train loss: 2.302146397092763 Train accuracy 0.37195740809992833 Train top 5 accuracy 0.39173427851432385\n"
     ]
    },
    {
     "name": "stderr",
     "output_type": "stream",
     "text": [
      "100%|██████████| 2/2 [00:02<00:00,  1.27s/it]\n"
     ]
    },
    {
     "name": "stdout",
     "output_type": "stream",
     "text": [
      "Valid loss: 7.036054615588749 Valid accuracy 0.26732985730118614 Valid top 5 accuracy 0.36340538565726843\n",
      "Accuracy didn't improve from: 0.2692037463626441\n",
      "Epoch: 66/100\n"
     ]
    },
    {
     "name": "stderr",
     "output_type": "stream",
     "text": [
      "100%|██████████| 4/4 [00:05<00:00,  1.36s/it]\n"
     ]
    },
    {
     "name": "stdout",
     "output_type": "stream",
     "text": [
      "Train loss: 2.2687803524381973 Train accuracy 0.37094320877290826 Train top 5 accuracy 0.39173427851432385\n"
     ]
    },
    {
     "name": "stderr",
     "output_type": "stream",
     "text": [
      "100%|██████████| 2/2 [00:01<00:00,  1.02it/s]\n"
     ]
    },
    {
     "name": "stdout",
     "output_type": "stream",
     "text": [
      "Valid loss: 7.10173165973495 Valid accuracy 0.27050715202794356 Valid top 5 accuracy 0.3636285612250076\n",
      "Saving best model wieghts, Accuracy: 0.27050715202794356\n",
      "Epoch: 67/100\n"
     ]
    },
    {
     "name": "stderr",
     "output_type": "stream",
     "text": [
      "100%|██████████| 4/4 [00:05<00:00,  1.33s/it]\n"
     ]
    },
    {
     "name": "stdout",
     "output_type": "stream",
     "text": [
      "Train loss: 2.344680601183106 Train accuracy 0.3663793091717012 Train top 5 accuracy 0.39173427851432385\n"
     ]
    },
    {
     "name": "stderr",
     "output_type": "stream",
     "text": [
      "100%|██████████| 2/2 [00:02<00:00,  1.27s/it]\n"
     ]
    },
    {
     "name": "stdout",
     "output_type": "stream",
     "text": [
      "Valid loss: 7.210572617018924 Valid accuracy 0.2717247169245692 Valid top 5 accuracy 0.36318220647380633\n",
      "Saving best model wieghts, Accuracy: 0.2717247169245692\n",
      "Epoch: 68/100\n"
     ]
    },
    {
     "name": "stderr",
     "output_type": "stream",
     "text": [
      "100%|██████████| 4/4 [00:05<00:00,  1.34s/it]\n"
     ]
    },
    {
     "name": "stdout",
     "output_type": "stream",
     "text": [
      "Train loss: 2.8843723816030167 Train accuracy 0.3488843801212223 Train top 5 accuracy 0.3914807291208383\n"
     ]
    },
    {
     "name": "stderr",
     "output_type": "stream",
     "text": [
      "100%|██████████| 2/2 [00:02<00:00,  1.27s/it]\n"
     ]
    },
    {
     "name": "stdout",
     "output_type": "stream",
     "text": [
      "Valid loss: 7.2936673699056405 Valid accuracy 0.2683176455252311 Valid top 5 accuracy 0.36251267889405\n",
      "Accuracy didn't improve from: 0.2717247169245692\n",
      "Epoch: 69/100\n"
     ]
    },
    {
     "name": "stderr",
     "output_type": "stream",
     "text": [
      "100%|██████████| 4/4 [00:05<00:00,  1.36s/it]\n"
     ]
    },
    {
     "name": "stdout",
     "output_type": "stream",
     "text": [
      "Train loss: 2.072999921791694 Train accuracy 0.37043610779458985 Train top 5 accuracy 0.39173427851432385\n"
     ]
    },
    {
     "name": "stderr",
     "output_type": "stream",
     "text": [
      "100%|██████████| 2/2 [00:02<00:00,  1.27s/it]\n"
     ]
    },
    {
     "name": "stdout",
     "output_type": "stream",
     "text": [
      "Valid loss: 7.126111354021465 Valid accuracy 0.27102217647959204 Valid top 5 accuracy 0.36568336988634925\n",
      "Accuracy didn't improve from: 0.2717247169245692\n",
      "Epoch: 70/100\n"
     ]
    },
    {
     "name": "stderr",
     "output_type": "stream",
     "text": [
      "100%|██████████| 4/4 [00:10<00:00,  2.56s/it]\n"
     ]
    },
    {
     "name": "stdout",
     "output_type": "stream",
     "text": [
      "Train loss: 2.13106073614429 Train accuracy 0.37221095311071944 Train top 5 accuracy 0.39173427851432385\n"
     ]
    },
    {
     "name": "stderr",
     "output_type": "stream",
     "text": [
      "100%|██████████| 2/2 [00:02<00:00,  1.02s/it]\n"
     ]
    },
    {
     "name": "stdout",
     "output_type": "stream",
     "text": [
      "Valid loss: 7.0991298477439315 Valid accuracy 0.26503206208786545 Valid top 5 accuracy 0.3644327908096945\n",
      "Accuracy didn't improve from: 0.2717247169245692\n",
      "Epoch: 71/100\n"
     ]
    },
    {
     "name": "stderr",
     "output_type": "stream",
     "text": [
      "100%|██████████| 4/4 [00:05<00:00,  1.35s/it]\n"
     ]
    },
    {
     "name": "stdout",
     "output_type": "stream",
     "text": [
      "Train loss: 1.9285679551608421 Train accuracy 0.37525355153004913 Train top 5 accuracy 0.39173427851432385\n"
     ]
    },
    {
     "name": "stderr",
     "output_type": "stream",
     "text": [
      "100%|██████████| 2/2 [00:02<00:00,  1.27s/it]\n"
     ]
    },
    {
     "name": "stdout",
     "output_type": "stream",
     "text": [
      "Valid loss: 7.133058773244128 Valid accuracy 0.26689010727054935 Valid top 5 accuracy 0.3643178985837628\n",
      "Accuracy didn't improve from: 0.2717247169245692\n",
      "Epoch: 72/100\n"
     ]
    },
    {
     "name": "stderr",
     "output_type": "stream",
     "text": [
      "100%|██████████| 4/4 [00:05<00:00,  1.33s/it]\n"
     ]
    },
    {
     "name": "stdout",
     "output_type": "stream",
     "text": [
      "Train loss: 1.8568759258179104 Train accuracy 0.3775354995775749 Train top 5 accuracy 0.39173427851432385\n"
     ]
    },
    {
     "name": "stderr",
     "output_type": "stream",
     "text": [
      "100%|██████████| 2/2 [00:01<00:00,  1.02it/s]\n"
     ]
    },
    {
     "name": "stdout",
     "output_type": "stream",
     "text": [
      "Valid loss: 7.148476221982171 Valid accuracy 0.25806076769881386 Valid top 5 accuracy 0.36147206682054434\n",
      "Accuracy didn't improve from: 0.2717247169245692\n",
      "Epoch: 73/100\n"
     ]
    },
    {
     "name": "stderr",
     "output_type": "stream",
     "text": [
      "100%|██████████| 4/4 [00:10<00:00,  2.56s/it]\n"
     ]
    },
    {
     "name": "stdout",
     "output_type": "stream",
     "text": [
      "Train loss: 2.1117897515787796 Train accuracy 0.3724645042572828 Train top 5 accuracy 0.39173427851432385\n"
     ]
    },
    {
     "name": "stderr",
     "output_type": "stream",
     "text": [
      "100%|██████████| 2/2 [00:01<00:00,  1.00it/s]\n"
     ]
    },
    {
     "name": "stdout",
     "output_type": "stream",
     "text": [
      "Valid loss: 7.191173232653561 Valid accuracy 0.25113833334077806 Valid top 5 accuracy 0.35862623746780786\n",
      "Accuracy didn't improve from: 0.2717247169245692\n",
      "Epoch: 74/100\n"
     ]
    },
    {
     "name": "stderr",
     "output_type": "stream",
     "text": [
      "100%|██████████| 4/4 [00:05<00:00,  1.31s/it]\n"
     ]
    },
    {
     "name": "stdout",
     "output_type": "stream",
     "text": [
      "Train loss: 1.7037178917842752 Train accuracy 0.3785496936453616 Train top 5 accuracy 0.39173427851432385\n"
     ]
    },
    {
     "name": "stderr",
     "output_type": "stream",
     "text": [
      "100%|██████████| 2/2 [00:02<00:00,  1.27s/it]\n"
     ]
    },
    {
     "name": "stdout",
     "output_type": "stream",
     "text": [
      "Valid loss: 7.1983591993065446 Valid accuracy 0.2690135874949834 Valid top 5 accuracy 0.3622696926707731\n",
      "Accuracy didn't improve from: 0.2717247169245692\n",
      "Epoch: 75/100\n"
     ]
    },
    {
     "name": "stderr",
     "output_type": "stream",
     "text": [
      "100%|██████████| 4/4 [00:10<00:00,  2.56s/it]\n"
     ]
    },
    {
     "name": "stdout",
     "output_type": "stream",
     "text": [
      "Train loss: 1.5756283003617735 Train accuracy 0.37677484789096255 Train top 5 accuracy 0.39173427851432385\n"
     ]
    },
    {
     "name": "stderr",
     "output_type": "stream",
     "text": [
      "100%|██████████| 2/2 [00:02<00:00,  1.27s/it]\n"
     ]
    },
    {
     "name": "stdout",
     "output_type": "stream",
     "text": [
      "Valid loss: 7.20065051317215 Valid accuracy 0.2760244989219834 Valid top 5 accuracy 0.3655618781990865\n",
      "Saving best model wieghts, Accuracy: 0.2760244989219834\n",
      "Epoch: 76/100\n"
     ]
    },
    {
     "name": "stderr",
     "output_type": "stream",
     "text": [
      "100%|██████████| 4/4 [00:05<00:00,  1.36s/it]\n"
     ]
    },
    {
     "name": "stdout",
     "output_type": "stream",
     "text": [
      "Train loss: 1.6368503338273834 Train accuracy 0.37347870226949453 Train top 5 accuracy 0.39173427851432385\n"
     ]
    },
    {
     "name": "stderr",
     "output_type": "stream",
     "text": [
      "100%|██████████| 2/2 [00:01<00:00,  1.00it/s]\n"
     ]
    },
    {
     "name": "stdout",
     "output_type": "stream",
     "text": [
      "Valid loss: 7.247253990348647 Valid accuracy 0.26958803525742364 Valid top 5 accuracy 0.3639864352915217\n",
      "Accuracy didn't improve from: 0.2760244989219834\n",
      "Epoch: 77/100\n"
     ]
    },
    {
     "name": "stderr",
     "output_type": "stream",
     "text": [
      "100%|██████████| 4/4 [00:05<00:00,  1.38s/it]\n"
     ]
    },
    {
     "name": "stdout",
     "output_type": "stream",
     "text": [
      "Train loss: 1.7314772005466854 Train accuracy 0.3691683590740842 Train top 5 accuracy 0.39173427851432385\n"
     ]
    },
    {
     "name": "stderr",
     "output_type": "stream",
     "text": [
      "100%|██████████| 2/2 [00:02<00:00,  1.01s/it]\n"
     ]
    },
    {
     "name": "stdout",
     "output_type": "stream",
     "text": [
      "Valid loss: 7.288335590678103 Valid accuracy 0.26901358497493405 Valid top 5 accuracy 0.363878148553126\n",
      "Accuracy didn't improve from: 0.2760244989219834\n",
      "Epoch: 78/100\n"
     ]
    },
    {
     "name": "stderr",
     "output_type": "stream",
     "text": [
      "100%|██████████| 4/4 [00:05<00:00,  1.36s/it]\n"
     ]
    },
    {
     "name": "stdout",
     "output_type": "stream",
     "text": [
      "Train loss: 1.484614256550284 Train accuracy 0.37626774765222387 Train top 5 accuracy 0.39173427851432385\n"
     ]
    },
    {
     "name": "stderr",
     "output_type": "stream",
     "text": [
      "100%|██████████| 2/2 [00:01<00:00,  1.01it/s]\n"
     ]
    },
    {
     "name": "stdout",
     "output_type": "stream",
     "text": [
      "Valid loss: 7.317845217445317 Valid accuracy 0.26914828697986465 Valid top 5 accuracy 0.3624043912791154\n",
      "Accuracy didn't improve from: 0.2760244989219834\n",
      "Epoch: 79/100\n"
     ]
    },
    {
     "name": "stderr",
     "output_type": "stream",
     "text": [
      "100%|██████████| 4/4 [00:05<00:00,  1.36s/it]\n"
     ]
    },
    {
     "name": "stdout",
     "output_type": "stream",
     "text": [
      "Train loss: 1.5493862672763712 Train accuracy 0.37778904357486787 Train top 5 accuracy 0.39173427851432385\n"
     ]
    },
    {
     "name": "stderr",
     "output_type": "stream",
     "text": [
      "100%|██████████| 2/2 [00:01<00:00,  1.02it/s]\n"
     ]
    },
    {
     "name": "stdout",
     "output_type": "stream",
     "text": [
      "Valid loss: 7.313326576176812 Valid accuracy 0.26528825523222194 Valid top 5 accuracy 0.36022809038267417\n",
      "Accuracy didn't improve from: 0.2760244989219834\n",
      "Epoch: 80/100\n"
     ]
    },
    {
     "name": "stderr",
     "output_type": "stream",
     "text": [
      "100%|██████████| 4/4 [00:05<00:00,  1.36s/it]\n"
     ]
    },
    {
     "name": "stdout",
     "output_type": "stream",
     "text": [
      "Train loss: 1.865556294865468 Train accuracy 0.3755071025396533 Train top 5 accuracy 0.39173427851432385\n"
     ]
    },
    {
     "name": "stderr",
     "output_type": "stream",
     "text": [
      "100%|██████████| 2/2 [00:02<00:00,  1.27s/it]\n"
     ]
    },
    {
     "name": "stdout",
     "output_type": "stream",
     "text": [
      "Valid loss: 7.3269645221093125 Valid accuracy 0.25249720101847367 Valid top 5 accuracy 0.35601018522592154\n",
      "Accuracy didn't improve from: 0.2760244989219834\n",
      "Epoch: 81/100\n"
     ]
    },
    {
     "name": "stderr",
     "output_type": "stream",
     "text": [
      "100%|██████████| 4/4 [00:10<00:00,  2.56s/it]\n"
     ]
    },
    {
     "name": "stdout",
     "output_type": "stream",
     "text": [
      "Train loss: 1.5720920019290026 Train accuracy 0.3795638947254595 Train top 5 accuracy 0.3919878282091197\n"
     ]
    },
    {
     "name": "stderr",
     "output_type": "stream",
     "text": [
      "100%|██████████| 2/2 [00:02<00:00,  1.03s/it]\n"
     ]
    },
    {
     "name": "stdout",
     "output_type": "stream",
     "text": [
      "Valid loss: 7.321069522815592 Valid accuracy 0.255667892339475 Valid top 5 accuracy 0.3555704342091785\n",
      "Accuracy didn't improve from: 0.2760244989219834\n",
      "Epoch: 82/100\n"
     ]
    },
    {
     "name": "stderr",
     "output_type": "stream",
     "text": [
      "100%|██████████| 4/4 [00:05<00:00,  1.38s/it]\n"
     ]
    },
    {
     "name": "stdout",
     "output_type": "stream",
     "text": [
      "Train loss: 1.577972280628541 Train accuracy 0.3782961460049538 Train top 5 accuracy 0.39173427851432385\n"
     ]
    },
    {
     "name": "stderr",
     "output_type": "stream",
     "text": [
      "100%|██████████| 2/2 [00:02<00:00,  1.27s/it]\n"
     ]
    },
    {
     "name": "stdout",
     "output_type": "stream",
     "text": [
      "Valid loss: 7.2926568064619515 Valid accuracy 0.25898648831335935 Valid top 5 accuracy 0.35842287069296136\n",
      "Accuracy didn't improve from: 0.2760244989219834\n",
      "Epoch: 83/100\n"
     ]
    },
    {
     "name": "stderr",
     "output_type": "stream",
     "text": [
      "100%|██████████| 4/4 [00:05<00:00,  1.38s/it]\n"
     ]
    },
    {
     "name": "stdout",
     "output_type": "stream",
     "text": [
      "Train loss: 1.8592297864310883 Train accuracy 0.37474644967519183 Train top 5 accuracy 0.39173427851432385\n"
     ]
    },
    {
     "name": "stderr",
     "output_type": "stream",
     "text": [
      "100%|██████████| 2/2 [00:02<00:00,  1.27s/it]\n"
     ]
    },
    {
     "name": "stdout",
     "output_type": "stream",
     "text": [
      "Valid loss: 7.185186236220248 Valid accuracy 0.2665058219914927 Valid top 5 accuracy 0.360323171624366\n",
      "Accuracy didn't improve from: 0.2760244989219834\n",
      "Epoch: 84/100\n"
     ]
    },
    {
     "name": "stderr",
     "output_type": "stream",
     "text": [
      "100%|██████████| 4/4 [00:05<00:00,  1.38s/it]\n"
     ]
    },
    {
     "name": "stdout",
     "output_type": "stream",
     "text": [
      "Train loss: 3.239210730089861 Train accuracy 0.36384381063501625 Train top 5 accuracy 0.3902129835777861\n"
     ]
    },
    {
     "name": "stderr",
     "output_type": "stream",
     "text": [
      "100%|██████████| 2/2 [00:02<00:00,  1.28s/it]\n"
     ]
    },
    {
     "name": "stdout",
     "output_type": "stream",
     "text": [
      "Valid loss: 7.506371864501168 Valid accuracy 0.2597444975639091 Valid top 5 accuracy 0.35897750999121103\n",
      "Accuracy didn't improve from: 0.2760244989219834\n",
      "Epoch: 85/100\n"
     ]
    },
    {
     "name": "stderr",
     "output_type": "stream",
     "text": [
      "100%|██████████| 4/4 [00:10<00:00,  2.56s/it]\n"
     ]
    },
    {
     "name": "stdout",
     "output_type": "stream",
     "text": [
      "Train loss: 1.3702029691022986 Train accuracy 0.37601419957354665 Train top 5 accuracy 0.39173427851432385\n"
     ]
    },
    {
     "name": "stderr",
     "output_type": "stream",
     "text": [
      "100%|██████████| 2/2 [00:02<00:00,  1.02s/it]\n"
     ]
    },
    {
     "name": "stdout",
     "output_type": "stream",
     "text": [
      "Valid loss: 7.707312110592337 Valid accuracy 0.271777542636675 Valid top 5 accuracy 0.3626143635414979\n",
      "Accuracy didn't improve from: 0.2760244989219834\n",
      "model didn't improve for 10 epochs----> lower learning rate to 4.000000000000001e-06\n",
      "Epoch: 86/100\n"
     ]
    },
    {
     "name": "stderr",
     "output_type": "stream",
     "text": [
      "100%|██████████| 4/4 [00:20<00:00,  5.12s/it]\n"
     ]
    },
    {
     "name": "stdout",
     "output_type": "stream",
     "text": [
      "Train loss: 1.1398757564670898 Train accuracy 0.37931034037405076 Train top 5 accuracy 0.39173427851432385\n"
     ]
    },
    {
     "name": "stderr",
     "output_type": "stream",
     "text": [
      "100%|██████████| 2/2 [00:05<00:00,  2.85s/it]\n"
     ]
    },
    {
     "name": "stdout",
     "output_type": "stream",
     "text": [
      "Valid loss: 7.617571151431869 Valid accuracy 0.26761906144811826 Valid top 5 accuracy 0.3607008545933401\n",
      "Accuracy didn't improve from: 0.2760244989219834\n",
      "Epoch: 87/100\n"
     ]
    },
    {
     "name": "stderr",
     "output_type": "stream",
     "text": [
      "100%|██████████| 4/4 [00:10<00:00,  2.56s/it]\n"
     ]
    },
    {
     "name": "stdout",
     "output_type": "stream",
     "text": [
      "Train loss: 1.112054004388697 Train accuracy 0.3800709903075853 Train top 5 accuracy 0.39173427851432385\n"
     ]
    },
    {
     "name": "stderr",
     "output_type": "stream",
     "text": [
      "100%|██████████| 2/2 [00:02<00:00,  1.27s/it]\n"
     ]
    },
    {
     "name": "stdout",
     "output_type": "stream",
     "text": [
      "Valid loss: 7.59892898710335 Valid accuracy 0.26579403121243506 Valid top 5 accuracy 0.3605793610434322\n",
      "Accuracy didn't improve from: 0.2760244989219834\n",
      "Epoch: 88/100\n"
     ]
    },
    {
     "name": "stderr",
     "output_type": "stream",
     "text": [
      "100%|██████████| 4/4 [00:05<00:00,  1.38s/it]\n"
     ]
    },
    {
     "name": "stdout",
     "output_type": "stream",
     "text": [
      "Train loss: 1.0943384034668697 Train accuracy 0.3803245414541486 Train top 5 accuracy 0.39173427851432385\n"
     ]
    },
    {
     "name": "stderr",
     "output_type": "stream",
     "text": [
      "100%|██████████| 2/2 [00:02<00:00,  1.01s/it]\n"
     ]
    },
    {
     "name": "stdout",
     "output_type": "stream",
     "text": [
      "Valid loss: 7.582718181259492 Valid accuracy 0.2652327894945355 Valid top 5 accuracy 0.36046447133754983\n",
      "Accuracy didn't improve from: 0.2760244989219834\n",
      "Epoch: 89/100\n"
     ]
    },
    {
     "name": "stderr",
     "output_type": "stream",
     "text": [
      "100%|██████████| 4/4 [00:05<00:00,  1.38s/it]\n"
     ]
    },
    {
     "name": "stdout",
     "output_type": "stream",
     "text": [
      "Train loss: 1.0786413103342056 Train accuracy 0.380831638488042 Train top 5 accuracy 0.39173427851432385\n"
     ]
    },
    {
     "name": "stderr",
     "output_type": "stream",
     "text": [
      "100%|██████████| 2/2 [00:01<00:00,  1.03it/s]\n"
     ]
    },
    {
     "name": "stdout",
     "output_type": "stream",
     "text": [
      "Valid loss: 7.570413592983694 Valid accuracy 0.2651112969307339 Valid top 5 accuracy 0.36034958086469593\n",
      "Accuracy didn't improve from: 0.2760244989219834\n",
      "Epoch: 90/100\n"
     ]
    },
    {
     "name": "stderr",
     "output_type": "stream",
     "text": [
      "100%|██████████| 4/4 [00:10<00:00,  2.56s/it]\n"
     ]
    },
    {
     "name": "stdout",
     "output_type": "stream",
     "text": [
      "Train loss: 1.064092256128788 Train accuracy 0.380831638488042 Train top 5 accuracy 0.39173427851432385\n"
     ]
    },
    {
     "name": "stderr",
     "output_type": "stream",
     "text": [
      "100%|██████████| 2/2 [00:02<00:00,  1.28s/it]\n"
     ]
    },
    {
     "name": "stdout",
     "output_type": "stream",
     "text": [
      "Valid loss: 7.560740426182747 Valid accuracy 0.26557085575426326 Valid top 5 accuracy 0.3594502712435582\n",
      "Accuracy didn't improve from: 0.2760244989219834\n",
      "Epoch: 91/100\n"
     ]
    },
    {
     "name": "stderr",
     "output_type": "stream",
     "text": [
      "100%|██████████| 4/4 [00:10<00:00,  2.56s/it]\n"
     ]
    },
    {
     "name": "stdout",
     "output_type": "stream",
     "text": [
      "Train loss: 1.0503620417679058 Train accuracy 0.380831638488042 Train top 5 accuracy 0.39173427851432385\n"
     ]
    },
    {
     "name": "stderr",
     "output_type": "stream",
     "text": [
      "100%|██████████| 2/2 [00:01<00:00,  1.00it/s]\n"
     ]
    },
    {
     "name": "stdout",
     "output_type": "stream",
     "text": [
      "Valid loss: 7.555464579778559 Valid accuracy 0.2661320992252406 Valid top 5 accuracy 0.3592204918317935\n",
      "Accuracy didn't improve from: 0.2760244989219834\n",
      "Epoch: 92/100\n"
     ]
    },
    {
     "name": "stderr",
     "output_type": "stream",
     "text": [
      "100%|██████████| 4/4 [00:05<00:00,  1.33s/it]\n"
     ]
    },
    {
     "name": "stdout",
     "output_type": "stream",
     "text": [
      "Train loss: 1.0372693306382965 Train accuracy 0.38108518963460536 Train top 5 accuracy 0.39173427851432385\n"
     ]
    },
    {
     "name": "stderr",
     "output_type": "stream",
     "text": [
      "100%|██████████| 2/2 [00:02<00:00,  1.27s/it]\n"
     ]
    },
    {
     "name": "stdout",
     "output_type": "stream",
     "text": [
      "Valid loss: 7.554259855081053 Valid accuracy 0.26601720951935826 Valid top 5 accuracy 0.358882426558172\n",
      "Accuracy didn't improve from: 0.2760244989219834\n",
      "Epoch: 93/100\n"
     ]
    },
    {
     "name": "stderr",
     "output_type": "stream",
     "text": [
      "100%|██████████| 4/4 [00:10<00:00,  2.56s/it]\n"
     ]
    },
    {
     "name": "stdout",
     "output_type": "stream",
     "text": [
      "Train loss: 1.0246956668355887 Train accuracy 0.38133874078116875 Train top 5 accuracy 0.39173427851432385\n"
     ]
    },
    {
     "name": "stderr",
     "output_type": "stream",
     "text": [
      "100%|██████████| 2/2 [00:02<00:00,  1.04s/it]\n"
     ]
    },
    {
     "name": "stdout",
     "output_type": "stream",
     "text": [
      "Valid loss: 7.552433408358517 Valid accuracy 0.26601720951935826 Valid top 5 accuracy 0.358882426558172\n",
      "Accuracy didn't improve from: 0.2760244989219834\n",
      "Epoch: 94/100\n"
     ]
    },
    {
     "name": "stderr",
     "output_type": "stream",
     "text": [
      "100%|██████████| 4/4 [00:10<00:00,  2.56s/it]\n"
     ]
    },
    {
     "name": "stdout",
     "output_type": "stream",
     "text": [
      "Train loss: 1.0125518579255133 Train accuracy 0.3815922919277321 Train top 5 accuracy 0.39173427851432385\n"
     ]
    },
    {
     "name": "stderr",
     "output_type": "stream",
     "text": [
      "100%|██████████| 2/2 [00:02<00:00,  1.27s/it]\n"
     ]
    },
    {
     "name": "stdout",
     "output_type": "stream",
     "text": [
      "Valid loss: 7.552863773177652 Valid accuracy 0.26578743010759354 Valid top 5 accuracy 0.3587675368522896\n",
      "Accuracy didn't improve from: 0.2760244989219834\n",
      "Epoch: 95/100\n"
     ]
    },
    {
     "name": "stderr",
     "output_type": "stream",
     "text": [
      "100%|██████████| 4/4 [00:10<00:00,  2.56s/it]\n"
     ]
    },
    {
     "name": "stdout",
     "output_type": "stream",
     "text": [
      "Train loss: 1.000771815505098 Train accuracy 0.3815922919277321 Train top 5 accuracy 0.39173427851432385\n"
     ]
    },
    {
     "name": "stderr",
     "output_type": "stream",
     "text": [
      "100%|██████████| 2/2 [00:02<00:00,  1.02s/it]\n"
     ]
    },
    {
     "name": "stdout",
     "output_type": "stream",
     "text": [
      "Valid loss: 7.54586088745033 Valid accuracy 0.26612549625775395 Valid top 5 accuracy 0.358882426558172\n",
      "Accuracy didn't improve from: 0.2760244989219834\n",
      "Epoch: 96/100\n"
     ]
    },
    {
     "name": "stderr",
     "output_type": "stream",
     "text": [
      "100%|██████████| 4/4 [00:05<00:00,  1.34s/it]\n"
     ]
    },
    {
     "name": "stdout",
     "output_type": "stream",
     "text": [
      "Train loss: 0.9893034661517424 Train accuracy 0.3815922919277321 Train top 5 accuracy 0.39173427851432385\n"
     ]
    },
    {
     "name": "stderr",
     "output_type": "stream",
     "text": [
      "100%|██████████| 2/2 [00:02<00:00,  1.27s/it]\n"
     ]
    },
    {
     "name": "stdout",
     "output_type": "stream",
     "text": [
      "Valid loss: 7.552055895328522 Valid accuracy 0.2662403859636363 Valid top 5 accuracy 0.3591122059699367\n",
      "Accuracy didn't improve from: 0.2760244989219834\n",
      "Epoch: 97/100\n"
     ]
    },
    {
     "name": "stderr",
     "output_type": "stream",
     "text": [
      "100%|██████████| 4/4 [00:05<00:00,  1.35s/it]\n"
     ]
    },
    {
     "name": "stdout",
     "output_type": "stream",
     "text": [
      "Train loss: 0.9781065852764774 Train accuracy 0.3820993942208588 Train top 5 accuracy 0.39173427851432385\n"
     ]
    },
    {
     "name": "stderr",
     "output_type": "stream",
     "text": [
      "100%|██████████| 2/2 [00:01<00:00,  1.01it/s]\n"
     ]
    },
    {
     "name": "stdout",
     "output_type": "stream",
     "text": [
      "Valid loss: 7.5544858013882354 Valid accuracy 0.2662403859636363 Valid top 5 accuracy 0.3591122059699367\n",
      "Accuracy didn't improve from: 0.2760244989219834\n",
      "Epoch: 98/100\n"
     ]
    },
    {
     "name": "stderr",
     "output_type": "stream",
     "text": [
      "100%|██████████| 4/4 [00:10<00:00,  2.56s/it]\n"
     ]
    },
    {
     "name": "stdout",
     "output_type": "stream",
     "text": [
      "Train loss: 0.9671479985117912 Train accuracy 0.3820993942208588 Train top 5 accuracy 0.39173427851432385\n"
     ]
    },
    {
     "name": "stderr",
     "output_type": "stream",
     "text": [
      "100%|██████████| 2/2 [00:02<00:00,  1.03s/it]\n"
     ]
    },
    {
     "name": "stdout",
     "output_type": "stream",
     "text": [
      "Valid loss: 7.557542134733761 Valid accuracy 0.2660106065518716 Valid top 5 accuracy 0.3591122050933978\n",
      "Accuracy didn't improve from: 0.2760244989219834\n",
      "Epoch: 99/100\n"
     ]
    },
    {
     "name": "stderr",
     "output_type": "stream",
     "text": [
      "100%|██████████| 4/4 [00:05<00:00,  1.36s/it]\n"
     ]
    },
    {
     "name": "stdout",
     "output_type": "stream",
     "text": [
      "Train loss: 0.9564024852040935 Train accuracy 0.3820993942208588 Train top 5 accuracy 0.39173427851432385\n"
     ]
    },
    {
     "name": "stderr",
     "output_type": "stream",
     "text": [
      "100%|██████████| 2/2 [00:02<00:00,  1.28s/it]\n"
     ]
    },
    {
     "name": "stdout",
     "output_type": "stream",
     "text": [
      "Valid loss: 7.562793786034865 Valid accuracy 0.2658957168459892 Valid top 5 accuracy 0.35899731538751545\n",
      "Accuracy didn't improve from: 0.2760244989219834\n",
      "Epoch: 100/100\n"
     ]
    },
    {
     "name": "stderr",
     "output_type": "stream",
     "text": [
      "100%|██████████| 4/4 [00:10<00:00,  2.56s/it]\n"
     ]
    },
    {
     "name": "stdout",
     "output_type": "stream",
     "text": [
      "Train loss: 0.9458491512957741 Train accuracy 0.38260648950167436 Train top 5 accuracy 0.39173427851432385\n"
     ]
    },
    {
     "name": "stderr",
     "output_type": "stream",
     "text": [
      "100%|██████████| 2/2 [00:02<00:00,  1.27s/it]"
     ]
    },
    {
     "name": "stdout",
     "output_type": "stream",
     "text": [
      "Valid loss: 7.566760517218533 Valid accuracy 0.2658957168459892 Valid top 5 accuracy 0.35899731538751545\n",
      "Accuracy didn't improve from: 0.2760244989219834\n"
     ]
    },
    {
     "name": "stderr",
     "output_type": "stream",
     "text": [
      "\n"
     ]
    }
   ],
   "source": [
    "# clear the session to release all previous states generated by Keras\n",
    "tf.keras.backend.clear_session()\n",
    "# instantiate and compile the model inside the strategy scope defined previous\n",
    "with strategy.scope():\n",
    "  model = encoder_decoder_model()\n",
    "  # use Sparse Categorical Cross-entropy as a loss function as labels are not one-hot encoded\n",
    "  # use AdamW optimizer initially with a weight decay of 0.0\n",
    "  # use the Sparse Categorical Accuracy and top k=5 accuracy metrics to monitor and save the best model weights\n",
    "  metrics = [tf.keras.metrics.SparseCategoricalAccuracy(),\n",
    "             tf.keras.metrics.SparseTopKCategoricalAccuracy(k=5, name='top_k_acc')]\n",
    "  model.compile(loss=tf.keras.losses.SparseCategoricalCrossentropy(from_logits=False),\n",
    "                metrics=metrics,\n",
    "                optimizer=tfa.optimizers.AdamW(learning_rate=config.LEARNING_RATE, weight_decay=0.0))\n",
    "\n",
    "# initialize the best accuracy at - infinity\n",
    "best_result = -np.inf\n",
    "# initialize the epoch of the best result as 0\n",
    "epoch_of_best_result = 0\n",
    "# initialize a variable for the current learning rate\n",
    "current_learning = config.LEARNING_RATE\n",
    "# for each epoch iterate over the whole training and validation sets\n",
    "for epoch in range(config.EPOCHS):\n",
    "  print(f'Epoch: {epoch+1}/{config.EPOCHS}')\n",
    "  # iterate over the training dataset\n",
    "  for batch in tqdm(train_ds, total=len(train_ds)):\n",
    "    enc_inputs, dec_inputs, labels = batch\n",
    "    # create a variable for the number of examples in the current batch\n",
    "    num_examples = len(enc_inputs)\n",
    "    # initialize losses and accuracies list\n",
    "    losses = []\n",
    "    accs = []\n",
    "    top_accs = []\n",
    "    # sequencially predict the label (actual previous token as input)\n",
    "    for i in range(config.MAXLEN):\n",
    "      # extract the current mask from the attention_masks list\n",
    "      # broadcast the mask to the shape of (num_examples, num_heads(8), max_len(17), max_len(17))\n",
    "      current_att_mask = tf.broadcast_to(tf.constant(attention_masks[i]), (num_examples, config.NUM_HEADS, config.MAXLEN, config.MAXLEN))\n",
    "      # train on each batch and pass the class weights\n",
    "      train_results = model.train_on_batch(x=(enc_inputs, dec_inputs, current_att_mask), y=labels[:, -(i+1)], \n",
    "                           class_weight=auto_weight_dict, reset_metrics=True, return_dict=True)\n",
    "      # append the loss value\n",
    "      losses.append(train_results['loss'])\n",
    "      # append the accuracy value\n",
    "      accs.append(train_results['sparse_categorical_accuracy'])\n",
    "      # append the top 5 accuracy value\n",
    "      top_accs.append(train_results['top_k_acc'])\n",
    "  print('Train loss:', np.mean(losses), 'Train accuracy', np.mean(accs), 'Train top 5 accuracy', np.mean(top_accs))\n",
    "\n",
    "  # initialize losses and accuracies list\n",
    "  losses = []\n",
    "  accs = []\n",
    "  top_accs = []\n",
    "  # iterate over the validation dataset\n",
    "  for batch in tqdm(valid_ds, total=len(valid_ds)):\n",
    "    enc_inputs, dec_inputs, labels = batch\n",
    "    # create a variable for the number of examples in the current batch\n",
    "    num_examples = len(enc_inputs)\n",
    "    # create a NumPy array to save the predictions of the previous tokens\n",
    "    # it is initialized with ones where the model will see 1 in the first \n",
    "    # pass which represents the special starting \"s\" token\n",
    "    full_sequence_preds = np.ones((num_examples, config.MAXLEN))\n",
    "    # sequencially predict the label (predicted previous token as input (Auto-Regression))\n",
    "    for i in range(config.MAXLEN):\n",
    "      # extract the current mask from the attention_masks list\n",
    "      # broadcast the mask to the shape of (num_examples, num_heads(8), max_len(17), max_len(17))\n",
    "      current_att_mask = tf.broadcast_to(tf.constant(attention_masks[i]), (num_examples, config.NUM_HEADS, config.MAXLEN, config.MAXLEN))\n",
    "      # evaluate on each batch\n",
    "      valid_results = model.test_on_batch(x=(enc_inputs, full_sequence_preds, current_att_mask), y=labels[:, -(i+1)], reset_metrics=True, return_dict=True)\n",
    "      # predict the tokens of the current position\n",
    "      preds = model.predict_on_batch(x=(enc_inputs, full_sequence_preds, current_att_mask))\n",
    "      # take the argmax value which represents the index of the highest prob character\n",
    "      current_preds = np.argmax(preds, axis=-1)\n",
    "      # populate the current position with the predicted values which will be used in the next \n",
    "      # pass as a decoder input\n",
    "      full_sequence_preds[:, -(i+1)] = current_preds # populate the column of the current timestep with the predicitons\n",
    "        \n",
    "      # append the loss value  \n",
    "      losses.append(valid_results['loss'])\n",
    "      # append the accuracy value\n",
    "      accs.append(valid_results['sparse_categorical_accuracy'])\n",
    "      # append the top 5 accuracy value\n",
    "      top_accs.append(valid_results['top_k_acc'])\n",
    "  print('Valid loss:', np.mean(losses), 'Valid accuracy', np.mean(accs), 'Valid top 5 accuracy', np.mean(top_accs))\n",
    "\n",
    "  mean_acc = np.mean(accs)\n",
    "  # save the weights of the best model based on the validation accuracy\n",
    "  # lower the LR a factor defined in the config class if the validation accuracy \n",
    "  # does not improve for the stated patience in the config class\n",
    "  if mean_acc > best_result:\n",
    "    best_result = mean_acc\n",
    "    epoch_of_best_result = epoch\n",
    "    print('Saving best model wieghts,', 'Accuracy:', mean_acc)\n",
    "    model.save_weights('best_full_model_weights.h5')\n",
    "  else:\n",
    "    print(\"Accuracy didn't improve from:\", best_result)\n",
    "  if epoch - epoch_of_best_result == config.LEARTING_RATE_REDUCTION_PATIENCE:\n",
    "    current_learning = current_learning * config.LEARTING_RATE_REDUCTION_FACTOR\n",
    "    print(\"model didn't improve for 10 epochs---->\", f\"lower learning rate to {current_learning}\")\n",
    "    model.compile(loss=tf.keras.losses.SparseCategoricalCrossentropy(from_logits=False),\n",
    "                metrics=metrics,\n",
    "                optimizer=tf.keras.optimizers.Adam(learning_rate=current_learning))  \n",
    "\n",
    "    "
   ]
  },
  {
   "cell_type": "code",
   "execution_count": null,
   "metadata": {
    "colab": {
     "base_uri": "https://localhost:8080/"
    },
    "id": "Ttq7i5kKq9du",
    "outputId": "1ba41b65-b991-4c95-e62f-853726fa1488"
   },
   "outputs": [
    {
     "metadata": {
      "tags": null
     },
     "name": "stdout",
     "output_type": "stream",
     "text": [
      "Epoch: 1/100\n"
     ]
    },
    {
     "metadata": {
      "tags": null
     },
     "name": "stderr",
     "output_type": "stream",
     "text": [
      "100%|██████████| 4/4 [00:40<00:00, 10.24s/it]\n"
     ]
    },
    {
     "metadata": {
      "tags": null
     },
     "name": "stdout",
     "output_type": "stream",
     "text": [
      "Train loss: 123.33230235646752 Train accuracy 0.023833671228631455 Train top 5 accuracy 0.10573022220941151\n"
     ]
    },
    {
     "metadata": {
      "tags": null
     },
     "name": "stderr",
     "output_type": "stream",
     "text": [
      "100%|██████████| 2/2 [00:08<00:00,  4.25s/it]\n"
     ]
    },
    {
     "metadata": {
      "tags": null
     },
     "name": "stdout",
     "output_type": "stream",
     "text": [
      "Valid loss: 5.43224109621609 Valid accuracy 0.0019333164262420992 Valid top 5 accuracy 0.1271168758325717\n",
      "Saving best model wieghts, Accuracy: 0.0019333164262420992\n",
      "Epoch: 2/100\n"
     ]
    },
    {
     "metadata": {
      "tags": null
     },
     "name": "stderr",
     "output_type": "stream",
     "text": [
      "100%|██████████| 4/4 [00:20<00:00,  5.12s/it]\n"
     ]
    },
    {
     "metadata": {
      "tags": null
     },
     "name": "stdout",
     "output_type": "stream",
     "text": [
      "Train loss: 118.6430680401185 Train accuracy 0.06110547608969843 Train top 5 accuracy 0.16430020310422955\n"
     ]
    },
    {
     "metadata": {
      "tags": null
     },
     "name": "stderr",
     "output_type": "stream",
     "text": [
      "100%|██████████| 2/2 [00:04<00:00,  2.17s/it]\n"
     ]
    },
    {
     "metadata": {
      "tags": null
     },
     "name": "stdout",
     "output_type": "stream",
     "text": [
      "Valid loss: 5.853537825977101 Valid accuracy 0.008192824528497808 Valid top 5 accuracy 0.15359565188341281\n",
      "Saving best model wieghts, Accuracy: 0.008192824528497808\n",
      "Epoch: 3/100\n"
     ]
    },
    {
     "metadata": {
      "tags": null
     },
     "name": "stderr",
     "output_type": "stream",
     "text": [
      "100%|██████████| 4/4 [00:11<00:00,  2.83s/it]\n"
     ]
    },
    {
     "metadata": {
      "tags": null
     },
     "name": "stdout",
     "output_type": "stream",
     "text": [
      "Train loss: 117.19859932801303 Train accuracy 0.05780933079693247 Train top 5 accuracy 0.18458417868789503\n"
     ]
    },
    {
     "metadata": {
      "tags": null
     },
     "name": "stderr",
     "output_type": "stream",
     "text": [
      "100%|██████████| 2/2 [00:05<00:00,  2.56s/it]\n"
     ]
    },
    {
     "metadata": {
      "tags": null
     },
     "name": "stdout",
     "output_type": "stream",
     "text": [
      "Valid loss: 5.975364025901346 Valid accuracy 0.050190954304793305 Valid top 5 accuracy 0.1722724904470584\n",
      "Saving best model wieghts, Accuracy: 0.050190954304793305\n",
      "Epoch: 4/100\n"
     ]
    },
    {
     "metadata": {
      "tags": null
     },
     "name": "stderr",
     "output_type": "stream",
     "text": [
      "100%|██████████| 4/4 [00:20<00:00,  5.12s/it]\n"
     ]
    },
    {
     "metadata": {
      "tags": null
     },
     "name": "stdout",
     "output_type": "stream",
     "text": [
      "Train loss: 110.6678148262641 Train accuracy 0.06795131867094074 Train top 5 accuracy 0.2114604441996883\n"
     ]
    },
    {
     "metadata": {
      "tags": null
     },
     "name": "stderr",
     "output_type": "stream",
     "text": [
      "100%|██████████| 2/2 [00:04<00:00,  2.04s/it]\n"
     ]
    },
    {
     "metadata": {
      "tags": null
     },
     "name": "stdout",
     "output_type": "stream",
     "text": [
      "Valid loss: 6.406576949007371 Valid accuracy 0.04485056439743323 Valid top 5 accuracy 0.11684283132062238\n",
      "Accuracy didn't improve from: 0.050190954304793305\n",
      "Epoch: 5/100\n"
     ]
    },
    {
     "metadata": {
      "tags": null
     },
     "name": "stderr",
     "output_type": "stream",
     "text": [
      "100%|██████████| 4/4 [00:20<00:00,  5.12s/it]\n"
     ]
    },
    {
     "metadata": {
      "tags": null
     },
     "name": "stdout",
     "output_type": "stream",
     "text": [
      "Train loss: 94.24465955530896 Train accuracy 0.08772819439935334 Train top 5 accuracy 0.22388437850510373\n"
     ]
    },
    {
     "metadata": {
      "tags": null
     },
     "name": "stderr",
     "output_type": "stream",
     "text": [
      "100%|██████████| 2/2 [00:04<00:00,  2.11s/it]\n"
     ]
    },
    {
     "metadata": {
      "tags": null
     },
     "name": "stdout",
     "output_type": "stream",
     "text": [
      "Valid loss: 6.498966238077949 Valid accuracy 0.049928161151268906 Valid top 5 accuracy 0.22764933076413238\n",
      "Accuracy didn't improve from: 0.050190954304793305\n",
      "Epoch: 6/100\n"
     ]
    },
    {
     "metadata": {
      "tags": null
     },
     "name": "stderr",
     "output_type": "stream",
     "text": [
      "100%|██████████| 4/4 [00:20<00:00,  5.12s/it]\n"
     ]
    },
    {
     "metadata": {
      "tags": null
     },
     "name": "stdout",
     "output_type": "stream",
     "text": [
      "Train loss: 89.28302529980155 Train accuracy 0.06440162308075849 Train top 5 accuracy 0.1848377284922582\n"
     ]
    },
    {
     "metadata": {
      "tags": null
     },
     "name": "stderr",
     "output_type": "stream",
     "text": [
      "100%|██████████| 2/2 [00:05<00:00,  2.56s/it]\n"
     ]
    },
    {
     "metadata": {
      "tags": null
     },
     "name": "stdout",
     "output_type": "stream",
     "text": [
      "Valid loss: 6.358902601634755 Valid accuracy 0.10301776986350031 Valid top 5 accuracy 0.2541320697568795\n",
      "Saving best model wieghts, Accuracy: 0.10301776986350031\n",
      "Epoch: 7/100\n"
     ]
    },
    {
     "metadata": {
      "tags": null
     },
     "name": "stderr",
     "output_type": "stream",
     "text": [
      "100%|██████████| 4/4 [00:20<00:00,  5.12s/it]\n"
     ]
    },
    {
     "metadata": {
      "tags": null
     },
     "name": "stdout",
     "output_type": "stream",
     "text": [
      "Train loss: 76.95849536271656 Train accuracy 0.11080121777623016 Train top 5 accuracy 0.27560851920176954\n"
     ]
    },
    {
     "metadata": {
      "tags": null
     },
     "name": "stderr",
     "output_type": "stream",
     "text": [
      "100%|██████████| 2/2 [00:05<00:00,  2.55s/it]\n"
     ]
    },
    {
     "metadata": {
      "tags": null
     },
     "name": "stdout",
     "output_type": "stream",
     "text": [
      "Valid loss: 6.2141059566946595 Valid accuracy 0.09448687874657266 Valid top 5 accuracy 0.2175205479211667\n",
      "Accuracy didn't improve from: 0.10301776986350031\n",
      "Epoch: 8/100\n"
     ]
    },
    {
     "metadata": {
      "tags": null
     },
     "name": "stderr",
     "output_type": "stream",
     "text": [
      "100%|██████████| 4/4 [00:11<00:00,  2.87s/it]\n"
     ]
    },
    {
     "metadata": {
      "tags": null
     },
     "name": "stdout",
     "output_type": "stream",
     "text": [
      "Train loss: 66.09154033485581 Train accuracy 0.12423935140866567 Train top 5 accuracy 0.29056794985252266\n"
     ]
    },
    {
     "metadata": {
      "tags": null
     },
     "name": "stderr",
     "output_type": "stream",
     "text": [
      "100%|██████████| 2/2 [00:04<00:00,  2.04s/it]\n"
     ]
    },
    {
     "metadata": {
      "tags": null
     },
     "name": "stdout",
     "output_type": "stream",
     "text": [
      "Valid loss: 6.359887698117425 Valid accuracy 0.08403587680967416 Valid top 5 accuracy 0.21442512882982984\n",
      "Accuracy didn't improve from: 0.10301776986350031\n",
      "Epoch: 9/100\n"
     ]
    },
    {
     "metadata": {
      "tags": null
     },
     "name": "stderr",
     "output_type": "stream",
     "text": [
      "100%|██████████| 4/4 [00:20<00:00,  5.12s/it]\n"
     ]
    },
    {
     "metadata": {
      "tags": null
     },
     "name": "stdout",
     "output_type": "stream",
     "text": [
      "Train loss: 57.29780053391176 Train accuracy 0.13539553666487336 Train top 5 accuracy 0.30527383023325133\n"
     ]
    },
    {
     "metadata": {
      "tags": null
     },
     "name": "stderr",
     "output_type": "stream",
     "text": [
      "100%|██████████| 2/2 [00:05<00:00,  2.56s/it]\n"
     ]
    },
    {
     "metadata": {
      "tags": null
     },
     "name": "stdout",
     "output_type": "stream",
     "text": [
      "Valid loss: 6.757519627318663 Valid accuracy 0.11333407373989329 Valid top 5 accuracy 0.26934240824159456\n",
      "Saving best model wieghts, Accuracy: 0.11333407373989329\n",
      "Epoch: 10/100\n"
     ]
    },
    {
     "metadata": {
      "tags": null
     },
     "name": "stderr",
     "output_type": "stream",
     "text": [
      "100%|██████████| 4/4 [00:11<00:00,  2.87s/it]\n"
     ]
    },
    {
     "metadata": {
      "tags": null
     },
     "name": "stdout",
     "output_type": "stream",
     "text": [
      "Train loss: 53.110852634205536 Train accuracy 0.16075050663750837 Train top 5 accuracy 0.2976673457442838\n"
     ]
    },
    {
     "metadata": {
      "tags": null
     },
     "name": "stderr",
     "output_type": "stream",
     "text": [
      "100%|██████████| 2/2 [00:05<00:00,  2.55s/it]\n"
     ]
    },
    {
     "metadata": {
      "tags": null
     },
     "name": "stdout",
     "output_type": "stream",
     "text": [
      "Valid loss: 6.253327779910144 Valid accuracy 0.10523632891914424 Valid top 5 accuracy 0.20961296711774433\n",
      "Accuracy didn't improve from: 0.11333407373989329\n",
      "Epoch: 11/100\n"
     ]
    },
    {
     "metadata": {
      "tags": null
     },
     "name": "stderr",
     "output_type": "stream",
     "text": [
      "100%|██████████| 4/4 [00:11<00:00,  2.87s/it]\n"
     ]
    },
    {
     "metadata": {
      "tags": null
     },
     "name": "stdout",
     "output_type": "stream",
     "text": [
      "Train loss: 35.928783243193344 Train accuracy 0.18280933098867536 Train top 5 accuracy 0.3468559833572191\n"
     ]
    },
    {
     "metadata": {
      "tags": null
     },
     "name": "stderr",
     "output_type": "stream",
     "text": [
      "100%|██████████| 2/2 [00:04<00:00,  2.05s/it]\n"
     ]
    },
    {
     "metadata": {
      "tags": null
     },
     "name": "stdout",
     "output_type": "stream",
     "text": [
      "Valid loss: 6.578828585498473 Valid accuracy 0.16745372653445778 Valid top 5 accuracy 0.33076217978754463\n",
      "Saving best model wieghts, Accuracy: 0.16745372653445778\n",
      "Epoch: 12/100\n"
     ]
    },
    {
     "metadata": {
      "tags": null
     },
     "name": "stderr",
     "output_type": "stream",
     "text": [
      "100%|██████████| 4/4 [00:20<00:00,  5.12s/it]\n"
     ]
    },
    {
     "metadata": {
      "tags": null
     },
     "name": "stdout",
     "output_type": "stream",
     "text": [
      "Train loss: 42.67734331243179 Train accuracy 0.14756592171376243 Train top 5 accuracy 0.268762677688809\n"
     ]
    },
    {
     "metadata": {
      "tags": null
     },
     "name": "stderr",
     "output_type": "stream",
     "text": [
      "100%|██████████| 2/2 [00:04<00:00,  2.15s/it]\n"
     ]
    },
    {
     "metadata": {
      "tags": null
     },
     "name": "stdout",
     "output_type": "stream",
     "text": [
      "Valid loss: 6.299299617024029 Valid accuracy 0.13333676700644634 Valid top 5 accuracy 0.29256201294415135\n",
      "Accuracy didn't improve from: 0.16745372653445778\n",
      "Epoch: 13/100\n"
     ]
    },
    {
     "metadata": {
      "tags": null
     },
     "name": "stderr",
     "output_type": "stream",
     "text": [
      "100%|██████████| 4/4 [00:11<00:00,  2.90s/it]\n"
     ]
    },
    {
     "metadata": {
      "tags": null
     },
     "name": "stdout",
     "output_type": "stream",
     "text": [
      "Train loss: 33.92086161059492 Train accuracy 0.1894016243133913 Train top 5 accuracy 0.3182048659552546\n"
     ]
    },
    {
     "metadata": {
      "tags": null
     },
     "name": "stderr",
     "output_type": "stream",
     "text": [
      "100%|██████████| 2/2 [00:04<00:00,  2.10s/it]\n"
     ]
    },
    {
     "metadata": {
      "tags": null
     },
     "name": "stdout",
     "output_type": "stream",
     "text": [
      "Valid loss: 7.021044552326202 Valid accuracy 0.11872728508623208 Valid top 5 accuracy 0.29939597121932926\n",
      "Accuracy didn't improve from: 0.16745372653445778\n",
      "Epoch: 14/100\n"
     ]
    },
    {
     "metadata": {
      "tags": null
     },
     "name": "stderr",
     "output_type": "stream",
     "text": [
      "100%|██████████| 4/4 [00:20<00:00,  5.12s/it]\n"
     ]
    },
    {
     "metadata": {
      "tags": null
     },
     "name": "stdout",
     "output_type": "stream",
     "text": [
      "Train loss: 31.85435136977364 Train accuracy 0.22134888224194155 Train top 5 accuracy 0.3448275864562568\n"
     ]
    },
    {
     "metadata": {
      "tags": null
     },
     "name": "stderr",
     "output_type": "stream",
     "text": [
      "100%|██████████| 2/2 [00:05<00:00,  2.55s/it]\n"
     ]
    },
    {
     "metadata": {
      "tags": null
     },
     "name": "stdout",
     "output_type": "stream",
     "text": [
      "Valid loss: 6.753711647847119 Valid accuracy 0.14695845949737465 Valid top 5 accuracy 0.3252184210235582\n",
      "Accuracy didn't improve from: 0.16745372653445778\n",
      "Epoch: 15/100\n"
     ]
    },
    {
     "metadata": {
      "tags": null
     },
     "name": "stderr",
     "output_type": "stream",
     "text": [
      "100%|██████████| 4/4 [00:20<00:00,  5.12s/it]\n"
     ]
    },
    {
     "metadata": {
      "tags": null
     },
     "name": "stdout",
     "output_type": "stream",
     "text": [
      "Train loss: 24.777787878232843 Train accuracy 0.23301216951735756 Train top 5 accuracy 0.37094320510240164\n"
     ]
    },
    {
     "metadata": {
      "tags": null
     },
     "name": "stderr",
     "output_type": "stream",
     "text": [
      "100%|██████████| 2/2 [00:05<00:00,  2.56s/it]\n"
     ]
    },
    {
     "metadata": {
      "tags": null
     },
     "name": "stdout",
     "output_type": "stream",
     "text": [
      "Valid loss: 6.859075858312495 Valid accuracy 0.1676214408567723 Valid top 5 accuracy 0.3338708071147694\n",
      "Saving best model wieghts, Accuracy: 0.1676214408567723\n",
      "Epoch: 16/100\n"
     ]
    },
    {
     "metadata": {
      "tags": null
     },
     "name": "stderr",
     "output_type": "stream",
     "text": [
      "100%|██████████| 4/4 [00:11<00:00,  2.91s/it]\n"
     ]
    },
    {
     "metadata": {
      "tags": null
     },
     "name": "stdout",
     "output_type": "stream",
     "text": [
      "Train loss: 25.81210881471634 Train accuracy 0.21120689510751298 Train top 5 accuracy 0.34279919218491106\n"
     ]
    },
    {
     "metadata": {
      "tags": null
     },
     "name": "stderr",
     "output_type": "stream",
     "text": [
      "100%|██████████| 2/2 [00:04<00:00,  2.07s/it]\n"
     ]
    },
    {
     "metadata": {
      "tags": null
     },
     "name": "stdout",
     "output_type": "stream",
     "text": [
      "Valid loss: 6.992825678166221 Valid accuracy 0.1999556286370053 Valid top 5 accuracy 0.35442153857473063\n",
      "Saving best model wieghts, Accuracy: 0.1999556286370053\n",
      "Epoch: 17/100\n"
     ]
    },
    {
     "metadata": {
      "tags": null
     },
     "name": "stderr",
     "output_type": "stream",
     "text": [
      "100%|██████████| 4/4 [00:11<00:00,  2.89s/it]\n"
     ]
    },
    {
     "metadata": {
      "tags": null
     },
     "name": "stdout",
     "output_type": "stream",
     "text": [
      "Train loss: 31.243929188041125 Train accuracy 0.21906693975495942 Train top 5 accuracy 0.3602941167705199\n"
     ]
    },
    {
     "metadata": {
      "tags": null
     },
     "name": "stderr",
     "output_type": "stream",
     "text": [
      "100%|██████████| 2/2 [00:05<00:00,  2.55s/it]\n"
     ]
    },
    {
     "metadata": {
      "tags": null
     },
     "name": "stdout",
     "output_type": "stream",
     "text": [
      "Valid loss: 5.769763667793835 Valid accuracy 0.1701714638620615 Valid top 5 accuracy 0.31815468969152255\n",
      "Accuracy didn't improve from: 0.1999556286370053\n",
      "Epoch: 18/100\n"
     ]
    },
    {
     "metadata": {
      "tags": null
     },
     "name": "stderr",
     "output_type": "stream",
     "text": [
      "100%|██████████| 4/4 [00:20<00:00,  5.12s/it]\n"
     ]
    },
    {
     "metadata": {
      "tags": null
     },
     "name": "stdout",
     "output_type": "stream",
     "text": [
      "Train loss: 21.03074476298164 Train accuracy 0.20968560052706914 Train top 5 accuracy 0.33417849587824416\n"
     ]
    },
    {
     "metadata": {
      "tags": null
     },
     "name": "stderr",
     "output_type": "stream",
     "text": [
      "100%|██████████| 2/2 [00:05<00:00,  2.56s/it]\n"
     ]
    },
    {
     "metadata": {
      "tags": null
     },
     "name": "stdout",
     "output_type": "stream",
     "text": [
      "Valid loss: 6.715473669416764 Valid accuracy 0.21315077758010695 Valid top 5 accuracy 0.36024789720335426\n",
      "Saving best model wieghts, Accuracy: 0.21315077758010695\n",
      "Epoch: 19/100\n"
     ]
    },
    {
     "metadata": {
      "tags": null
     },
     "name": "stderr",
     "output_type": "stream",
     "text": [
      "100%|██████████| 4/4 [00:20<00:00,  5.12s/it]\n"
     ]
    },
    {
     "metadata": {
      "tags": null
     },
     "name": "stdout",
     "output_type": "stream",
     "text": [
      "Train loss: 24.897261647617114 Train accuracy 0.19320486811921 Train top 5 accuracy 0.31769776946919803\n"
     ]
    },
    {
     "metadata": {
      "tags": null
     },
     "name": "stderr",
     "output_type": "stream",
     "text": [
      "100%|██████████| 2/2 [00:05<00:00,  2.56s/it]\n"
     ]
    },
    {
     "metadata": {
      "tags": null
     },
     "name": "stdout",
     "output_type": "stream",
     "text": [
      "Valid loss: 6.071343079209328 Valid accuracy 0.1921140768510454 Valid top 5 accuracy 0.3422802049009239\n",
      "Accuracy didn't improve from: 0.21315077758010695\n",
      "Epoch: 20/100\n"
     ]
    },
    {
     "metadata": {
      "tags": null
     },
     "name": "stderr",
     "output_type": "stream",
     "text": [
      "100%|██████████| 4/4 [00:11<00:00,  2.92s/it]\n"
     ]
    },
    {
     "metadata": {
      "tags": null
     },
     "name": "stdout",
     "output_type": "stream",
     "text": [
      "Train loss: 19.003327793934766 Train accuracy 0.242393510087448 Train top 5 accuracy 0.36866125650703907\n"
     ]
    },
    {
     "metadata": {
      "tags": null
     },
     "name": "stderr",
     "output_type": "stream",
     "text": [
      "100%|██████████| 2/2 [00:05<00:00,  2.56s/it]\n"
     ]
    },
    {
     "metadata": {
      "tags": null
     },
     "name": "stdout",
     "output_type": "stream",
     "text": [
      "Valid loss: 6.777893850032021 Valid accuracy 0.2205261675750508 Valid top 5 accuracy 0.36262096475590677\n",
      "Saving best model wieghts, Accuracy: 0.2205261675750508\n",
      "Epoch: 21/100\n"
     ]
    },
    {
     "metadata": {
      "tags": null
     },
     "name": "stderr",
     "output_type": "stream",
     "text": [
      "100%|██████████| 4/4 [00:20<00:00,  5.12s/it]\n"
     ]
    },
    {
     "metadata": {
      "tags": null
     },
     "name": "stdout",
     "output_type": "stream",
     "text": [
      "Train loss: 15.112972809987909 Train accuracy 0.26749492836568284 Train top 5 accuracy 0.38438134092618437\n"
     ]
    },
    {
     "metadata": {
      "tags": null
     },
     "name": "stderr",
     "output_type": "stream",
     "text": [
      "100%|██████████| 2/2 [00:05<00:00,  2.55s/it]\n"
     ]
    },
    {
     "metadata": {
      "tags": null
     },
     "name": "stdout",
     "output_type": "stream",
     "text": [
      "Valid loss: 6.106175347286112 Valid accuracy 0.20441652001703486 Valid top 5 accuracy 0.3528064800535931\n",
      "Accuracy didn't improve from: 0.2205261675750508\n",
      "Epoch: 22/100\n"
     ]
    },
    {
     "metadata": {
      "tags": null
     },
     "name": "stderr",
     "output_type": "stream",
     "text": [
      "100%|██████████| 4/4 [00:11<00:00,  2.86s/it]\n"
     ]
    },
    {
     "metadata": {
      "tags": null
     },
     "name": "stdout",
     "output_type": "stream",
     "text": [
      "Train loss: 16.723700726733487 Train accuracy 0.25938134092618437 Train top 5 accuracy 0.3666328563738395\n"
     ]
    },
    {
     "metadata": {
      "tags": null
     },
     "name": "stderr",
     "output_type": "stream",
     "text": [
      "100%|██████████| 2/2 [00:04<00:00,  2.05s/it]\n"
     ]
    },
    {
     "metadata": {
      "tags": null
     },
     "name": "stdout",
     "output_type": "stream",
     "text": [
      "Valid loss: 6.289423604221905 Valid accuracy 0.19504838469712174 Valid top 5 accuracy 0.2947937785921728\n",
      "Accuracy didn't improve from: 0.2205261675750508\n",
      "Epoch: 23/100\n"
     ]
    },
    {
     "metadata": {
      "tags": null
     },
     "name": "stderr",
     "output_type": "stream",
     "text": [
      "100%|██████████| 4/4 [00:20<00:00,  5.12s/it]\n"
     ]
    },
    {
     "metadata": {
      "tags": null
     },
     "name": "stdout",
     "output_type": "stream",
     "text": [
      "Train loss: 22.589742965557996 Train accuracy 0.20258620956583934 Train top 5 accuracy 0.32936105488196893\n"
     ]
    },
    {
     "metadata": {
      "tags": null
     },
     "name": "stderr",
     "output_type": "stream",
     "text": [
      "100%|██████████| 2/2 [00:04<00:00,  2.06s/it]\n"
     ]
    },
    {
     "metadata": {
      "tags": null
     },
     "name": "stdout",
     "output_type": "stream",
     "text": [
      "Valid loss: 6.722338209257407 Valid accuracy 0.22909007155719927 Valid top 5 accuracy 0.35719869789831776\n",
      "Saving best model wieghts, Accuracy: 0.22909007155719927\n",
      "Epoch: 24/100\n"
     ]
    },
    {
     "metadata": {
      "tags": null
     },
     "name": "stderr",
     "output_type": "stream",
     "text": [
      "100%|██████████| 4/4 [00:11<00:00,  2.88s/it]\n"
     ]
    },
    {
     "metadata": {
      "tags": null
     },
     "name": "stdout",
     "output_type": "stream",
     "text": [
      "Train loss: 14.9755136914113 Train accuracy 0.2499999936998767 Train top 5 accuracy 0.37043610631543045\n"
     ]
    },
    {
     "metadata": {
      "tags": null
     },
     "name": "stderr",
     "output_type": "stream",
     "text": [
      "100%|██████████| 2/2 [00:04<00:00,  2.15s/it]\n"
     ]
    },
    {
     "metadata": {
      "tags": null
     },
     "name": "stdout",
     "output_type": "stream",
     "text": [
      "Valid loss: 6.684539495145573 Valid accuracy 0.21693289301851215 Valid top 5 accuracy 0.3609240302706466\n",
      "Accuracy didn't improve from: 0.22909007155719927\n",
      "Epoch: 25/100\n"
     ]
    },
    {
     "metadata": {
      "tags": null
     },
     "name": "stderr",
     "output_type": "stream",
     "text": [
      "100%|██████████| 4/4 [00:20<00:00,  5.12s/it]\n"
     ]
    },
    {
     "metadata": {
      "tags": null
     },
     "name": "stdout",
     "output_type": "stream",
     "text": [
      "Train loss: 16.005619224380045 Train accuracy 0.2484787008999025 Train top 5 accuracy 0.36967545988805156\n"
     ]
    },
    {
     "metadata": {
      "tags": null
     },
     "name": "stderr",
     "output_type": "stream",
     "text": [
      "100%|██████████| 2/2 [00:05<00:00,  2.56s/it]\n"
     ]
    },
    {
     "metadata": {
      "tags": null
     },
     "name": "stdout",
     "output_type": "stream",
     "text": [
      "Valid loss: 6.748147250974879 Valid accuracy 0.21727756323183284 Valid top 5 accuracy 0.35512408055365086\n",
      "Accuracy didn't improve from: 0.22909007155719927\n",
      "Epoch: 26/100\n"
     ]
    },
    {
     "metadata": {
      "tags": null
     },
     "name": "stderr",
     "output_type": "stream",
     "text": [
      "100%|██████████| 4/4 [00:11<00:00,  2.92s/it]\n"
     ]
    },
    {
     "metadata": {
      "tags": null
     },
     "name": "stdout",
     "output_type": "stream",
     "text": [
      "Train loss: 12.218676942236284 Train accuracy 0.30324543607147303 Train top 5 accuracy 0.3866632854675545\n"
     ]
    },
    {
     "metadata": {
      "tags": null
     },
     "name": "stderr",
     "output_type": "stream",
     "text": [
      "100%|██████████| 2/2 [00:05<00:00,  2.56s/it]\n"
     ]
    },
    {
     "metadata": {
      "tags": null
     },
     "name": "stdout",
     "output_type": "stream",
     "text": [
      "Valid loss: 6.352499939939555 Valid accuracy 0.21316134447560592 Valid top 5 accuracy 0.3461666436975493\n",
      "Accuracy didn't improve from: 0.22909007155719927\n",
      "Epoch: 27/100\n"
     ]
    },
    {
     "metadata": {
      "tags": null
     },
     "name": "stderr",
     "output_type": "stream",
     "text": [
      "100%|██████████| 4/4 [00:11<00:00,  2.88s/it]\n"
     ]
    },
    {
     "metadata": {
      "tags": null
     },
     "name": "stdout",
     "output_type": "stream",
     "text": [
      "Train loss: 21.655038167448605 Train accuracy 0.22464503205436118 Train top 5 accuracy 0.31845841633484645\n"
     ]
    },
    {
     "metadata": {
      "tags": null
     },
     "name": "stderr",
     "output_type": "stream",
     "text": [
      "100%|██████████| 2/2 [00:04<00:00,  2.06s/it]\n"
     ]
    },
    {
     "metadata": {
      "tags": null
     },
     "name": "stdout",
     "output_type": "stream",
     "text": [
      "Valid loss: 6.742851744679844 Valid accuracy 0.1921114358393585 Valid top 5 accuracy 0.34420691846924667\n",
      "Accuracy didn't improve from: 0.22909007155719927\n",
      "Epoch: 28/100\n"
     ]
    },
    {
     "metadata": {
      "tags": null
     },
     "name": "stderr",
     "output_type": "stream",
     "text": [
      "100%|██████████| 4/4 [00:11<00:00,  2.92s/it]\n"
     ]
    },
    {
     "metadata": {
      "tags": null
     },
     "name": "stdout",
     "output_type": "stream",
     "text": [
      "Train loss: 12.58373217722949 Train accuracy 0.2910750477355631 Train top 5 accuracy 0.3815922923386097\n"
     ]
    },
    {
     "metadata": {
      "tags": null
     },
     "name": "stderr",
     "output_type": "stream",
     "text": [
      "100%|██████████| 2/2 [00:04<00:00,  2.10s/it]\n"
     ]
    },
    {
     "metadata": {
      "tags": null
     },
     "name": "stdout",
     "output_type": "stream",
     "text": [
      "Valid loss: 6.504369821618585 Valid accuracy 0.22089064658126412 Valid top 5 accuracy 0.33757632751675215\n",
      "Accuracy didn't improve from: 0.22909007155719927\n",
      "Epoch: 29/100\n"
     ]
    },
    {
     "metadata": {
      "tags": null
     },
     "name": "stderr",
     "output_type": "stream",
     "text": [
      "100%|██████████| 4/4 [00:11<00:00,  2.95s/it]\n"
     ]
    },
    {
     "metadata": {
      "tags": null
     },
     "name": "stdout",
     "output_type": "stream",
     "text": [
      "Train loss: 11.472700918422026 Train accuracy 0.2756085216122515 Train top 5 accuracy 0.3798174445572145\n"
     ]
    },
    {
     "metadata": {
      "tags": null
     },
     "name": "stderr",
     "output_type": "stream",
     "text": [
      "100%|██████████| 2/2 [00:04<00:00,  2.09s/it]\n"
     ]
    },
    {
     "metadata": {
      "tags": null
     },
     "name": "stdout",
     "output_type": "stream",
     "text": [
      "Valid loss: 6.853714104960947 Valid accuracy 0.2343525507432573 Valid top 5 accuracy 0.3634251922588138\n",
      "Saving best model wieghts, Accuracy: 0.2343525507432573\n",
      "Epoch: 30/100\n"
     ]
    },
    {
     "metadata": {
      "tags": null
     },
     "name": "stderr",
     "output_type": "stream",
     "text": [
      "100%|██████████| 4/4 [00:20<00:00,  5.12s/it]\n"
     ]
    },
    {
     "metadata": {
      "tags": null
     },
     "name": "stdout",
     "output_type": "stream",
     "text": [
      "Train loss: 10.573535480920006 Train accuracy 0.2882860042154789 Train top 5 accuracy 0.37728194473311305\n"
     ]
    },
    {
     "metadata": {
      "tags": null
     },
     "name": "stderr",
     "output_type": "stream",
     "text": [
      "100%|██████████| 2/2 [00:04<00:00,  2.13s/it]\n"
     ]
    },
    {
     "metadata": {
      "tags": null
     },
     "name": "stdout",
     "output_type": "stream",
     "text": [
      "Valid loss: 6.624434689388556 Valid accuracy 0.22361894751734593 Valid top 5 accuracy 0.3603495817412348\n",
      "Accuracy didn't improve from: 0.2343525507432573\n",
      "Epoch: 31/100\n"
     ]
    },
    {
     "metadata": {
      "tags": null
     },
     "name": "stderr",
     "output_type": "stream",
     "text": [
      "100%|██████████| 4/4 [00:20<00:00,  5.12s/it]\n"
     ]
    },
    {
     "metadata": {
      "tags": null
     },
     "name": "stdout",
     "output_type": "stream",
     "text": [
      "Train loss: 21.451221578261432 Train accuracy 0.2507606488926446 Train top 5 accuracy 0.3727180512950701\n"
     ]
    },
    {
     "metadata": {
      "tags": null
     },
     "name": "stderr",
     "output_type": "stream",
     "text": [
      "100%|██████████| 2/2 [00:04<00:00,  2.08s/it]\n"
     ]
    },
    {
     "metadata": {
      "tags": null
     },
     "name": "stdout",
     "output_type": "stream",
     "text": [
      "Valid loss: 7.000123760279487 Valid accuracy 0.11339613970588236 Valid top 5 accuracy 0.313214428284589\n",
      "Accuracy didn't improve from: 0.2343525507432573\n",
      "Epoch: 32/100\n"
     ]
    },
    {
     "metadata": {
      "tags": null
     },
     "name": "stderr",
     "output_type": "stream",
     "text": [
      "100%|██████████| 4/4 [00:20<00:00,  5.12s/it]\n"
     ]
    },
    {
     "metadata": {
      "tags": null
     },
     "name": "stdout",
     "output_type": "stream",
     "text": [
      "Train loss: 37.78694549202919 Train accuracy 0.20689655421301723 Train top 5 accuracy 0.34077079572221813\n"
     ]
    },
    {
     "metadata": {
      "tags": null
     },
     "name": "stderr",
     "output_type": "stream",
     "text": [
      "100%|██████████| 2/2 [00:04<00:00,  2.16s/it]\n"
     ]
    },
    {
     "metadata": {
      "tags": null
     },
     "name": "stdout",
     "output_type": "stream",
     "text": [
      "Valid loss: 6.534596104832256 Valid accuracy 0.18719758860328617 Valid top 5 accuracy 0.33033563404837074\n",
      "Accuracy didn't improve from: 0.2343525507432573\n",
      "Epoch: 33/100\n"
     ]
    },
    {
     "metadata": {
      "tags": null
     },
     "name": "stderr",
     "output_type": "stream",
     "text": [
      "100%|██████████| 4/4 [00:20<00:00,  5.12s/it]\n"
     ]
    },
    {
     "metadata": {
      "tags": null
     },
     "name": "stdout",
     "output_type": "stream",
     "text": [
      "Train loss: 12.050136948333067 Train accuracy 0.291075048091657 Train top 5 accuracy 0.38235294051906643\n"
     ]
    },
    {
     "metadata": {
      "tags": null
     },
     "name": "stderr",
     "output_type": "stream",
     "text": [
      "100%|██████████| 2/2 [00:04<00:00,  2.07s/it]\n"
     ]
    },
    {
     "metadata": {
      "tags": null
     },
     "name": "stdout",
     "output_type": "stream",
     "text": [
      "Valid loss: 6.551983486203587 Valid accuracy 0.21872754975715103 Valid top 5 accuracy 0.35557703684796305\n",
      "Accuracy didn't improve from: 0.2343525507432573\n",
      "Epoch: 34/100\n"
     ]
    },
    {
     "metadata": {
      "tags": null
     },
     "name": "stderr",
     "output_type": "stream",
     "text": [
      "100%|██████████| 4/4 [00:11<00:00,  2.91s/it]\n"
     ]
    },
    {
     "metadata": {
      "tags": null
     },
     "name": "stdout",
     "output_type": "stream",
     "text": [
      "Train loss: 9.62767204466988 Train accuracy 0.30831643796580677 Train top 5 accuracy 0.3853955367470489\n"
     ]
    },
    {
     "metadata": {
      "tags": null
     },
     "name": "stderr",
     "output_type": "stream",
     "text": [
      "100%|██████████| 2/2 [00:05<00:00,  2.56s/it]\n"
     ]
    },
    {
     "metadata": {
      "tags": null
     },
     "name": "stdout",
     "output_type": "stream",
     "text": [
      "Valid loss: 6.306290059405215 Valid accuracy 0.21422440153272712 Valid top 5 accuracy 0.35237333057996106\n",
      "Accuracy didn't improve from: 0.2343525507432573\n",
      "Epoch: 35/100\n"
     ]
    },
    {
     "metadata": {
      "tags": null
     },
     "name": "stderr",
     "output_type": "stream",
     "text": [
      "100%|██████████| 4/4 [00:11<00:00,  2.92s/it]\n"
     ]
    },
    {
     "metadata": {
      "tags": null
     },
     "name": "stdout",
     "output_type": "stream",
     "text": [
      "Train loss: 10.245110020918005 Train accuracy 0.2842292092083132 Train top 5 accuracy 0.382352938875556\n"
     ]
    },
    {
     "metadata": {
      "tags": null
     },
     "name": "stderr",
     "output_type": "stream",
     "text": [
      "100%|██████████| 2/2 [00:05<00:00,  2.55s/it]\n"
     ]
    },
    {
     "metadata": {
      "tags": null
     },
     "name": "stdout",
     "output_type": "stream",
     "text": [
      "Valid loss: 6.601082304821295 Valid accuracy 0.2293040064327857 Valid top 5 accuracy 0.35955195676754503\n",
      "Accuracy didn't improve from: 0.2343525507432573\n",
      "Epoch: 36/100\n"
     ]
    },
    {
     "metadata": {
      "tags": null
     },
     "name": "stderr",
     "output_type": "stream",
     "text": [
      "100%|██████████| 4/4 [00:20<00:00,  5.12s/it]\n"
     ]
    },
    {
     "metadata": {
      "tags": null
     },
     "name": "stdout",
     "output_type": "stream",
     "text": [
      "Train loss: 7.691924571990967 Train accuracy 0.3273326617610805 Train top 5 accuracy 0.3879310339141418\n"
     ]
    },
    {
     "metadata": {
      "tags": null
     },
     "name": "stderr",
     "output_type": "stream",
     "text": [
      "100%|██████████| 2/2 [00:05<00:00,  2.56s/it]\n"
     ]
    },
    {
     "metadata": {
      "tags": null
     },
     "name": "stdout",
     "output_type": "stream",
     "text": [
      "Valid loss: 6.5689777425106834 Valid accuracy 0.24009307561551824 Valid top 5 accuracy 0.36228289772920746\n",
      "Saving best model wieghts, Accuracy: 0.24009307561551824\n",
      "Epoch: 37/100\n"
     ]
    },
    {
     "metadata": {
      "tags": null
     },
     "name": "stderr",
     "output_type": "stream",
     "text": [
      "100%|██████████| 4/4 [00:20<00:00,  5.12s/it]\n"
     ]
    },
    {
     "metadata": {
      "tags": null
     },
     "name": "stdout",
     "output_type": "stream",
     "text": [
      "Train loss: 8.365250962622026 Train accuracy 0.3199797175167238 Train top 5 accuracy 0.38666328519363613\n"
     ]
    },
    {
     "metadata": {
      "tags": null
     },
     "name": "stderr",
     "output_type": "stream",
     "text": [
      "100%|██████████| 2/2 [00:04<00:00,  2.11s/it]\n"
     ]
    },
    {
     "metadata": {
      "tags": null
     },
     "name": "stdout",
     "output_type": "stream",
     "text": [
      "Valid loss: 6.425535606987336 Valid accuracy 0.23957409041331096 Valid top 5 accuracy 0.3593419871347792\n",
      "Accuracy didn't improve from: 0.24009307561551824\n",
      "Epoch: 38/100\n"
     ]
    },
    {
     "metadata": {
      "tags": null
     },
     "name": "stderr",
     "output_type": "stream",
     "text": [
      "100%|██████████| 4/4 [00:11<00:00,  2.93s/it]\n"
     ]
    },
    {
     "metadata": {
      "tags": null
     },
     "name": "stdout",
     "output_type": "stream",
     "text": [
      "Train loss: 7.977934742675108 Train accuracy 0.32352941253167744 Train top 5 accuracy 0.3861561846535872\n"
     ]
    },
    {
     "metadata": {
      "tags": null
     },
     "name": "stderr",
     "output_type": "stream",
     "text": [
      "100%|██████████| 2/2 [00:05<00:00,  2.56s/it]\n"
     ]
    },
    {
     "metadata": {
      "tags": null
     },
     "name": "stdout",
     "output_type": "stream",
     "text": [
      "Valid loss: 6.3643189887790115 Valid accuracy 0.2378969615434899 Valid top 5 accuracy 0.36057936071473007\n",
      "Accuracy didn't improve from: 0.24009307561551824\n",
      "Epoch: 39/100\n"
     ]
    },
    {
     "metadata": {
      "tags": null
     },
     "name": "stderr",
     "output_type": "stream",
     "text": [
      "100%|██████████| 4/4 [00:20<00:00,  5.12s/it]\n"
     ]
    },
    {
     "metadata": {
      "tags": null
     },
     "name": "stdout",
     "output_type": "stream",
     "text": [
      "Train loss: 7.8580772596247055 Train accuracy 0.31719066772390814 Train top 5 accuracy 0.3859026352601016\n"
     ]
    },
    {
     "metadata": {
      "tags": null
     },
     "name": "stderr",
     "output_type": "stream",
     "text": [
      "100%|██████████| 2/2 [00:04<00:00,  2.20s/it]\n"
     ]
    },
    {
     "metadata": {
      "tags": null
     },
     "name": "stdout",
     "output_type": "stream",
     "text": [
      "Valid loss: 6.405501725042567 Valid accuracy 0.22853939498172088 Valid top 5 accuracy 0.35578040143146233\n",
      "Accuracy didn't improve from: 0.24009307561551824\n",
      "Epoch: 40/100\n"
     ]
    },
    {
     "metadata": {
      "tags": null
     },
     "name": "stderr",
     "output_type": "stream",
     "text": [
      "100%|██████████| 4/4 [00:11<00:00,  2.97s/it]\n"
     ]
    },
    {
     "metadata": {
      "tags": null
     },
     "name": "stdout",
     "output_type": "stream",
     "text": [
      "Train loss: 8.26049811699811 Train accuracy 0.30502028388026003 Train top 5 accuracy 0.38463489031966996\n"
     ]
    },
    {
     "metadata": {
      "tags": null
     },
     "name": "stderr",
     "output_type": "stream",
     "text": [
      "100%|██████████| 2/2 [00:05<00:00,  2.56s/it]\n"
     ]
    },
    {
     "metadata": {
      "tags": null
     },
     "name": "stdout",
     "output_type": "stream",
     "text": [
      "Valid loss: 6.641463607549667 Valid accuracy 0.22361234378288775 Valid top 5 accuracy 0.3578682307373075\n",
      "Accuracy didn't improve from: 0.24009307561551824\n",
      "Epoch: 41/100\n"
     ]
    },
    {
     "metadata": {
      "tags": null
     },
     "name": "stderr",
     "output_type": "stream",
     "text": [
      "100%|██████████| 4/4 [00:11<00:00,  2.93s/it]\n"
     ]
    },
    {
     "metadata": {
      "tags": null
     },
     "name": "stdout",
     "output_type": "stream",
     "text": [
      "Train loss: 7.269527784165214 Train accuracy 0.31693712002871666 Train top 5 accuracy 0.3886916841215947\n"
     ]
    },
    {
     "metadata": {
      "tags": null
     },
     "name": "stderr",
     "output_type": "stream",
     "text": [
      "100%|██████████| 2/2 [00:05<00:00,  2.56s/it]\n"
     ]
    },
    {
     "metadata": {
      "tags": null
     },
     "name": "stdout",
     "output_type": "stream",
     "text": [
      "Valid loss: 6.672075229532578 Valid accuracy 0.240804860368371 Valid top 5 accuracy 0.35807159564950886\n",
      "Saving best model wieghts, Accuracy: 0.240804860368371\n",
      "Epoch: 42/100\n"
     ]
    },
    {
     "metadata": {
      "tags": null
     },
     "name": "stderr",
     "output_type": "stream",
     "text": [
      "100%|██████████| 4/4 [00:20<00:00,  5.12s/it]\n"
     ]
    },
    {
     "metadata": {
      "tags": null
     },
     "name": "stdout",
     "output_type": "stream",
     "text": [
      "Train loss: 7.1616538815638595 Train accuracy 0.33392495177138376 Train top 5 accuracy 0.3902129800442387\n"
     ]
    },
    {
     "metadata": {
      "tags": null
     },
     "name": "stderr",
     "output_type": "stream",
     "text": [
      "100%|██████████| 2/2 [00:04<00:00,  2.19s/it]\n"
     ]
    },
    {
     "metadata": {
      "tags": null
     },
     "name": "stdout",
     "output_type": "stream",
     "text": [
      "Valid loss: 6.392565702690797 Valid accuracy 0.2167942320161006 Valid top 5 accuracy 0.3514938318334958\n",
      "Accuracy didn't improve from: 0.240804860368371\n",
      "Epoch: 43/100\n"
     ]
    },
    {
     "metadata": {
      "tags": null
     },
     "name": "stderr",
     "output_type": "stream",
     "text": [
      "100%|██████████| 4/4 [00:20<00:00,  5.12s/it]\n"
     ]
    },
    {
     "metadata": {
      "tags": null
     },
     "name": "stdout",
     "output_type": "stream",
     "text": [
      "Train loss: 5.869028300046921 Train accuracy 0.34203854329226646 Train top 5 accuracy 0.39072007883120985\n"
     ]
    },
    {
     "metadata": {
      "tags": null
     },
     "name": "stderr",
     "output_type": "stream",
     "text": [
      "100%|██████████| 2/2 [00:05<00:00,  2.56s/it]\n"
     ]
    },
    {
     "metadata": {
      "tags": null
     },
     "name": "stdout",
     "output_type": "stream",
     "text": [
      "Valid loss: 6.521056588081753 Valid accuracy 0.21758921674507506 Valid top 5 accuracy 0.35380482991390366\n",
      "Accuracy didn't improve from: 0.240804860368371\n",
      "Epoch: 44/100\n"
     ]
    },
    {
     "metadata": {
      "tags": null
     },
     "name": "stderr",
     "output_type": "stream",
     "text": [
      "100%|██████████| 4/4 [00:20<00:00,  5.12s/it]\n"
     ]
    },
    {
     "metadata": {
      "tags": null
     },
     "name": "stdout",
     "output_type": "stream",
     "text": [
      "Train loss: 7.047740029061542 Train accuracy 0.3227687608998488 Train top 5 accuracy 0.39021298048250813\n"
     ]
    },
    {
     "metadata": {
      "tags": null
     },
     "name": "stderr",
     "output_type": "stream",
     "text": [
      "100%|██████████| 2/2 [00:04<00:00,  2.18s/it]\n"
     ]
    },
    {
     "metadata": {
      "tags": null
     },
     "name": "stdout",
     "output_type": "stream",
     "text": [
      "Valid loss: 6.98782952042187 Valid accuracy 0.22262455621624694 Valid top 5 accuracy 0.35628618573879495\n",
      "Accuracy didn't improve from: 0.240804860368371\n",
      "Epoch: 45/100\n"
     ]
    },
    {
     "metadata": {
      "tags": null
     },
     "name": "stderr",
     "output_type": "stream",
     "text": [
      "100%|██████████| 4/4 [00:11<00:00,  2.93s/it]\n"
     ]
    },
    {
     "metadata": {
      "tags": null
     },
     "name": "stdout",
     "output_type": "stream",
     "text": [
      "Train loss: 7.469393717015491 Train accuracy 0.31085192390224514 Train top 5 accuracy 0.38717038600760345\n"
     ]
    },
    {
     "metadata": {
      "tags": null
     },
     "name": "stderr",
     "output_type": "stream",
     "text": [
      "100%|██████████| 2/2 [00:04<00:00,  2.10s/it]\n"
     ]
    },
    {
     "metadata": {
      "tags": null
     },
     "name": "stdout",
     "output_type": "stream",
     "text": [
      "Valid loss: 7.021436551914496 Valid accuracy 0.24320170064182842 Valid top 5 accuracy 0.36548000234453115\n",
      "Saving best model wieghts, Accuracy: 0.24320170064182842\n",
      "Epoch: 46/100\n"
     ]
    },
    {
     "metadata": {
      "tags": null
     },
     "name": "stderr",
     "output_type": "stream",
     "text": [
      "100%|██████████| 4/4 [00:11<00:00,  2.94s/it]\n"
     ]
    },
    {
     "metadata": {
      "tags": null
     },
     "name": "stdout",
     "output_type": "stream",
     "text": [
      "Train loss: 5.324202449882732 Train accuracy 0.34685598735642786 Train top 5 accuracy 0.39072007751640153\n"
     ]
    },
    {
     "metadata": {
      "tags": null
     },
     "name": "stderr",
     "output_type": "stream",
     "text": [
      "100%|██████████| 2/2 [00:04<00:00,  2.16s/it]\n"
     ]
    },
    {
     "metadata": {
      "tags": null
     },
     "name": "stdout",
     "output_type": "stream",
     "text": [
      "Valid loss: 6.810581225682707 Valid accuracy 0.2354816375848125 Valid top 5 accuracy 0.358212897882742\n",
      "Accuracy didn't improve from: 0.24320170064182842\n",
      "Epoch: 47/100\n"
     ]
    },
    {
     "metadata": {
      "tags": null
     },
     "name": "stderr",
     "output_type": "stream",
     "text": [
      "100%|██████████| 4/4 [00:11<00:00,  2.96s/it]\n"
     ]
    },
    {
     "metadata": {
      "tags": null
     },
     "name": "stdout",
     "output_type": "stream",
     "text": [
      "Train loss: 6.276916104204514 Train accuracy 0.34381338493788943 Train top 5 accuracy 0.39046652987599373\n"
     ]
    },
    {
     "metadata": {
      "tags": null
     },
     "name": "stderr",
     "output_type": "stream",
     "text": [
      "100%|██████████| 2/2 [00:05<00:00,  2.55s/it]\n"
     ]
    },
    {
     "metadata": {
      "tags": null
     },
     "name": "stdout",
     "output_type": "stream",
     "text": [
      "Valid loss: 6.701429884223377 Valid accuracy 0.1969302000806612 Valid top 5 accuracy 0.3409834036274868\n",
      "Accuracy didn't improve from: 0.24320170064182842\n",
      "Epoch: 48/100\n"
     ]
    },
    {
     "metadata": {
      "tags": null
     },
     "name": "stderr",
     "output_type": "stream",
     "text": [
      "100%|██████████| 4/4 [00:20<00:00,  5.12s/it]\n"
     ]
    },
    {
     "metadata": {
      "tags": null
     },
     "name": "stdout",
     "output_type": "stream",
     "text": [
      "Train loss: 9.732716872411615 Train accuracy 0.3067951300455367 Train top 5 accuracy 0.3879310302436352\n"
     ]
    },
    {
     "metadata": {
      "tags": null
     },
     "name": "stderr",
     "output_type": "stream",
     "text": [
      "100%|██████████| 2/2 [00:05<00:00,  2.56s/it]\n"
     ]
    },
    {
     "metadata": {
      "tags": null
     },
     "name": "stdout",
     "output_type": "stream",
     "text": [
      "Valid loss: 6.224791154265404 Valid accuracy 0.2299405215855907 Valid top 5 accuracy 0.3609108259791837\n",
      "Accuracy didn't improve from: 0.24320170064182842\n",
      "Epoch: 49/100\n"
     ]
    },
    {
     "metadata": {
      "tags": null
     },
     "name": "stderr",
     "output_type": "stream",
     "text": [
      "100%|██████████| 4/4 [00:11<00:00,  2.95s/it]\n"
     ]
    },
    {
     "metadata": {
      "tags": null
     },
     "name": "stdout",
     "output_type": "stream",
     "text": [
      "Train loss: 24.588536956731012 Train accuracy 0.2167849918717847 Train top 5 accuracy 0.3136409753385712\n"
     ]
    },
    {
     "metadata": {
      "tags": null
     },
     "name": "stderr",
     "output_type": "stream",
     "text": [
      "100%|██████████| 2/2 [00:05<00:00,  2.55s/it]\n"
     ]
    },
    {
     "metadata": {
      "tags": null
     },
     "name": "stdout",
     "output_type": "stream",
     "text": [
      "Valid loss: 6.377596686868107 Valid accuracy 0.1466903854161501 Valid top 5 accuracy 0.307290345978211\n",
      "Accuracy didn't improve from: 0.24320170064182842\n",
      "Epoch: 50/100\n"
     ]
    },
    {
     "metadata": {
      "tags": null
     },
     "name": "stderr",
     "output_type": "stream",
     "text": [
      "100%|██████████| 4/4 [00:20<00:00,  5.12s/it]\n"
     ]
    },
    {
     "metadata": {
      "tags": null
     },
     "name": "stdout",
     "output_type": "stream",
     "text": [
      "Train loss: 17.035231725257987 Train accuracy 0.2588742387974087 Train top 5 accuracy 0.36130831544013586\n"
     ]
    },
    {
     "metadata": {
      "tags": null
     },
     "name": "stderr",
     "output_type": "stream",
     "text": [
      "100%|██████████| 2/2 [00:05<00:00,  2.56s/it]\n"
     ]
    },
    {
     "metadata": {
      "tags": null
     },
     "name": "stdout",
     "output_type": "stream",
     "text": [
      "Valid loss: 7.01566922138719 Valid accuracy 0.22435054391184273 Valid top 5 accuracy 0.35376521353335943\n",
      "Accuracy didn't improve from: 0.24320170064182842\n",
      "Epoch: 51/100\n"
     ]
    },
    {
     "metadata": {
      "tags": null
     },
     "name": "stderr",
     "output_type": "stream",
     "text": [
      "100%|██████████| 4/4 [00:11<00:00,  2.94s/it]\n"
     ]
    },
    {
     "metadata": {
      "tags": null
     },
     "name": "stdout",
     "output_type": "stream",
     "text": [
      "Train loss: 6.059804353643866 Train accuracy 0.33722109692719054 Train top 5 accuracy 0.38945233230205145\n"
     ]
    },
    {
     "metadata": {
      "tags": null
     },
     "name": "stderr",
     "output_type": "stream",
     "text": [
      "100%|██████████| 2/2 [00:05<00:00,  2.56s/it]\n"
     ]
    },
    {
     "metadata": {
      "tags": null
     },
     "name": "stdout",
     "output_type": "stream",
     "text": [
      "Valid loss: 6.680719069698277 Valid accuracy 0.24417628008214867 Valid top 5 accuracy 0.3589907116530573\n",
      "Saving best model wieghts, Accuracy: 0.24417628008214867\n",
      "Epoch: 52/100\n"
     ]
    },
    {
     "metadata": {
      "tags": null
     },
     "name": "stderr",
     "output_type": "stream",
     "text": [
      "100%|██████████| 4/4 [00:20<00:00,  5.12s/it]\n"
     ]
    },
    {
     "metadata": {
      "tags": null
     },
     "name": "stdout",
     "output_type": "stream",
     "text": [
      "Train loss: 4.859995822696125 Train accuracy 0.3466024348402725 Train top 5 accuracy 0.389452335808207\n"
     ]
    },
    {
     "metadata": {
      "tags": null
     },
     "name": "stderr",
     "output_type": "stream",
     "text": [
      "100%|██████████| 2/2 [00:05<00:00,  2.56s/it]\n"
     ]
    },
    {
     "metadata": {
      "tags": null
     },
     "name": "stdout",
     "output_type": "stream",
     "text": [
      "Valid loss: 6.665154066155939 Valid accuracy 0.2522079950088964 Valid top 5 accuracy 0.3622828995918526\n",
      "Saving best model wieghts, Accuracy: 0.2522079950088964\n",
      "Epoch: 53/100\n"
     ]
    },
    {
     "metadata": {
      "tags": null
     },
     "name": "stderr",
     "output_type": "stream",
     "text": [
      "100%|██████████| 4/4 [00:11<00:00,  2.91s/it]\n"
     ]
    },
    {
     "metadata": {
      "tags": null
     },
     "name": "stdout",
     "output_type": "stream",
     "text": [
      "Train loss: 4.5459895519649285 Train accuracy 0.35116632288212285 Train top 5 accuracy 0.3897058799424592\n"
     ]
    },
    {
     "metadata": {
      "tags": null
     },
     "name": "stderr",
     "output_type": "stream",
     "text": [
      "100%|██████████| 2/2 [00:05<00:00,  2.56s/it]\n"
     ]
    },
    {
     "metadata": {
      "tags": null
     },
     "name": "stdout",
     "output_type": "stream",
     "text": [
      "Valid loss: 6.597511313417378 Valid accuracy 0.24199997765176437 Valid top 5 accuracy 0.36286395141745315\n",
      "Accuracy didn't improve from: 0.2522079950088964\n",
      "Epoch: 54/100\n"
     ]
    },
    {
     "metadata": {
      "tags": null
     },
     "name": "stderr",
     "output_type": "stream",
     "text": [
      "100%|██████████| 4/4 [00:11<00:00,  2.91s/it]\n"
     ]
    },
    {
     "metadata": {
      "tags": null
     },
     "name": "stdout",
     "output_type": "stream",
     "text": [
      "Train loss: 4.289296618279288 Train accuracy 0.35192698127973604 Train top 5 accuracy 0.3897058834486148\n"
     ]
    },
    {
     "metadata": {
      "tags": null
     },
     "name": "stderr",
     "output_type": "stream",
     "text": [
      "100%|██████████| 2/2 [00:04<00:00,  2.08s/it]\n"
     ]
    },
    {
     "metadata": {
      "tags": null
     },
     "name": "stdout",
     "output_type": "stream",
     "text": [
      "Valid loss: 6.703787297010422 Valid accuracy 0.24777351659448707 Valid top 5 accuracy 0.3616199723499663\n",
      "Accuracy didn't improve from: 0.2522079950088964\n",
      "Epoch: 55/100\n"
     ]
    },
    {
     "metadata": {
      "tags": null
     },
     "name": "stderr",
     "output_type": "stream",
     "text": [
      "100%|██████████| 4/4 [00:11<00:00,  2.89s/it]\n"
     ]
    },
    {
     "metadata": {
      "tags": null
     },
     "name": "stdout",
     "output_type": "stream",
     "text": [
      "Train loss: 3.8810451162212036 Train accuracy 0.3531947253710207 Train top 5 accuracy 0.3899594310890226\n"
     ]
    },
    {
     "metadata": {
      "tags": null
     },
     "name": "stderr",
     "output_type": "stream",
     "text": [
      "100%|██████████| 2/2 [00:04<00:00,  2.05s/it]\n"
     ]
    },
    {
     "metadata": {
      "tags": null
     },
     "name": "stdout",
     "output_type": "stream",
     "text": [
      "Valid loss: 6.795642862425131 Valid accuracy 0.25047804809668484 Valid top 5 accuracy 0.3602478970937869\n",
      "Accuracy didn't improve from: 0.2522079950088964\n",
      "Epoch: 56/100\n"
     ]
    },
    {
     "metadata": {
      "tags": null
     },
     "name": "stderr",
     "output_type": "stream",
     "text": [
      "100%|██████████| 4/4 [00:20<00:00,  5.12s/it]\n"
     ]
    },
    {
     "metadata": {
      "tags": null
     },
     "name": "stdout",
     "output_type": "stream",
     "text": [
      "Train loss: 4.447289940188913 Train accuracy 0.34584178928943243 Train top 5 accuracy 0.39072007751640153\n"
     ]
    },
    {
     "metadata": {
      "tags": null
     },
     "name": "stderr",
     "output_type": "stream",
     "text": [
      "100%|██████████| 2/2 [00:05<00:00,  2.56s/it]\n"
     ]
    },
    {
     "metadata": {
      "tags": null
     },
     "name": "stdout",
     "output_type": "stream",
     "text": [
      "Valid loss: 6.8583352758603935 Valid accuracy 0.2490703157861443 Valid top 5 accuracy 0.3612819044467281\n",
      "Accuracy didn't improve from: 0.2522079950088964\n",
      "Epoch: 57/100\n"
     ]
    },
    {
     "metadata": {
      "tags": null
     },
     "name": "stderr",
     "output_type": "stream",
     "text": [
      "100%|██████████| 4/4 [00:11<00:00,  2.89s/it]\n"
     ]
    },
    {
     "metadata": {
      "tags": null
     },
     "name": "stdout",
     "output_type": "stream",
     "text": [
      "Train loss: 4.458541061948328 Train accuracy 0.33544624618747654 Train top 5 accuracy 0.3897058799424592\n"
     ]
    },
    {
     "metadata": {
      "tags": null
     },
     "name": "stderr",
     "output_type": "stream",
     "text": [
      "100%|██████████| 2/2 [00:04<00:00,  2.08s/it]\n"
     ]
    },
    {
     "metadata": {
      "tags": null
     },
     "name": "stdout",
     "output_type": "stream",
     "text": [
      "Valid loss: 6.856726566658301 Valid accuracy 0.2662337828865823 Valid top 5 accuracy 0.36727861917632465\n",
      "Saving best model wieghts, Accuracy: 0.2662337828865823\n",
      "Epoch: 58/100\n"
     ]
    },
    {
     "metadata": {
      "tags": null
     },
     "name": "stderr",
     "output_type": "stream",
     "text": [
      "100%|██████████| 4/4 [00:20<00:00,  5.12s/it]\n"
     ]
    },
    {
     "metadata": {
      "tags": null
     },
     "name": "stdout",
     "output_type": "stream",
     "text": [
      "Train loss: 4.962184941067415 Train accuracy 0.3463488838580601 Train top 5 accuracy 0.38945233230205145\n"
     ]
    },
    {
     "metadata": {
      "tags": null
     },
     "name": "stderr",
     "output_type": "stream",
     "text": [
      "100%|██████████| 2/2 [00:04<00:00,  2.12s/it]\n"
     ]
    },
    {
     "metadata": {
      "tags": null
     },
     "name": "stdout",
     "output_type": "stream",
     "text": [
      "Valid loss: 6.466966862187666 Valid accuracy 0.26874418951132717 Valid top 5 accuracy 0.35896430142662106\n",
      "Saving best model wieghts, Accuracy: 0.26874418951132717\n",
      "Epoch: 59/100\n"
     ]
    },
    {
     "metadata": {
      "tags": null
     },
     "name": "stderr",
     "output_type": "stream",
     "text": [
      "100%|██████████| 4/4 [00:20<00:00,  5.12s/it]\n"
     ]
    },
    {
     "metadata": {
      "tags": null
     },
     "name": "stdout",
     "output_type": "stream",
     "text": [
      "Train loss: 10.050571883425993 Train accuracy 0.2882859987371108 Train top 5 accuracy 0.3554766723776565\n"
     ]
    },
    {
     "metadata": {
      "tags": null
     },
     "name": "stderr",
     "output_type": "stream",
     "text": [
      "100%|██████████| 2/2 [00:04<00:00,  2.07s/it]\n"
     ]
    },
    {
     "metadata": {
      "tags": null
     },
     "name": "stdout",
     "output_type": "stream",
     "text": [
      "Valid loss: 7.058026463669889 Valid accuracy 0.23080417623414712 Valid top 5 accuracy 0.35880715465720964\n",
      "Accuracy didn't improve from: 0.26874418951132717\n",
      "Epoch: 60/100\n"
     ]
    },
    {
     "metadata": {
      "tags": null
     },
     "name": "stderr",
     "output_type": "stream",
     "text": [
      "100%|██████████| 4/4 [00:20<00:00,  5.12s/it]\n"
     ]
    },
    {
     "metadata": {
      "tags": null
     },
     "name": "stdout",
     "output_type": "stream",
     "text": [
      "Train loss: 3.7657028533080044 Train accuracy 0.34863083278212476 Train top 5 accuracy 0.39097363216912046\n"
     ]
    },
    {
     "metadata": {
      "tags": null
     },
     "name": "stderr",
     "output_type": "stream",
     "text": [
      "100%|██████████| 2/2 [00:04<00:00,  2.14s/it]\n"
     ]
    },
    {
     "metadata": {
      "tags": null
     },
     "name": "stdout",
     "output_type": "stream",
     "text": [
      "Valid loss: 7.032565845286145 Valid accuracy 0.24477053795228987 Valid top 5 accuracy 0.3620795301873894\n",
      "Accuracy didn't improve from: 0.26874418951132717\n",
      "Epoch: 61/100\n"
     ]
    },
    {
     "metadata": {
      "tags": null
     },
     "name": "stderr",
     "output_type": "stream",
     "text": [
      "100%|██████████| 4/4 [00:11<00:00,  2.86s/it]\n"
     ]
    },
    {
     "metadata": {
      "tags": null
     },
     "name": "stdout",
     "output_type": "stream",
     "text": [
      "Train loss: 3.8350497037172318 Train accuracy 0.3450811369180241 Train top 5 accuracy 0.39072008102255706\n"
     ]
    },
    {
     "metadata": {
      "tags": null
     },
     "name": "stderr",
     "output_type": "stream",
     "text": [
      "100%|██████████| 2/2 [00:05<00:00,  2.56s/it]\n"
     ]
    },
    {
     "metadata": {
      "tags": null
     },
     "name": "stdout",
     "output_type": "stream",
     "text": [
      "Valid loss: 7.102115717880866 Valid accuracy 0.26516676157274666 Valid top 5 accuracy 0.3636483684839571\n",
      "Accuracy didn't improve from: 0.26874418951132717\n",
      "Epoch: 62/100\n"
     ]
    },
    {
     "metadata": {
      "tags": null
     },
     "name": "stderr",
     "output_type": "stream",
     "text": [
      "100%|██████████| 4/4 [00:20<00:00,  5.12s/it]\n"
     ]
    },
    {
     "metadata": {
      "tags": null
     },
     "name": "stdout",
     "output_type": "stream",
     "text": [
      "Train loss: 3.088084455798654 Train accuracy 0.36206896027878804 Train top 5 accuracy 0.39122717980952826\n"
     ]
    },
    {
     "metadata": {
      "tags": null
     },
     "name": "stderr",
     "output_type": "stream",
     "text": [
      "100%|██████████| 2/2 [00:04<00:00,  2.10s/it]\n"
     ]
    },
    {
     "metadata": {
      "tags": null
     },
     "name": "stdout",
     "output_type": "stream",
     "text": [
      "Valid loss: 6.749177746036473 Valid accuracy 0.24150080157115178 Valid top 5 accuracy 0.3588692228145459\n",
      "Accuracy didn't improve from: 0.26874418951132717\n",
      "Epoch: 63/100\n"
     ]
    },
    {
     "metadata": {
      "tags": null
     },
     "name": "stderr",
     "output_type": "stream",
     "text": [
      "100%|██████████| 4/4 [00:11<00:00,  2.91s/it]\n"
     ]
    },
    {
     "metadata": {
      "tags": null
     },
     "name": "stdout",
     "output_type": "stream",
     "text": [
      "Train loss: 3.5257711708545685 Train accuracy 0.3610547644579235 Train top 5 accuracy 0.3914807309560916\n"
     ]
    },
    {
     "metadata": {
      "tags": null
     },
     "name": "stderr",
     "output_type": "stream",
     "text": [
      "100%|██████████| 2/2 [00:04<00:00,  2.07s/it]\n"
     ]
    },
    {
     "metadata": {
      "tags": null
     },
     "name": "stdout",
     "output_type": "stream",
     "text": [
      "Valid loss: 6.7480931080439515 Valid accuracy 0.2352743079776273 Valid top 5 accuracy 0.358537758974468\n",
      "Accuracy didn't improve from: 0.26874418951132717\n",
      "Epoch: 64/100\n"
     ]
    },
    {
     "metadata": {
      "tags": null
     },
     "name": "stderr",
     "output_type": "stream",
     "text": [
      "100%|██████████| 4/4 [00:20<00:00,  5.12s/it]\n"
     ]
    },
    {
     "metadata": {
      "tags": null
     },
     "name": "stdout",
     "output_type": "stream",
     "text": [
      "Train loss: 2.810226419392754 Train accuracy 0.36004056513090343 Train top 5 accuracy 0.391480727449936\n"
     ]
    },
    {
     "metadata": {
      "tags": null
     },
     "name": "stderr",
     "output_type": "stream",
     "text": [
      "100%|██████████| 2/2 [00:04<00:00,  2.15s/it]\n"
     ]
    },
    {
     "metadata": {
      "tags": null
     },
     "name": "stdout",
     "output_type": "stream",
     "text": [
      "Valid loss: 7.000636914197137 Valid accuracy 0.2572921944015166 Valid top 5 accuracy 0.3626209648654741\n",
      "Accuracy didn't improve from: 0.26874418951132717\n",
      "Epoch: 65/100\n"
     ]
    },
    {
     "metadata": {
      "tags": null
     },
     "name": "stderr",
     "output_type": "stream",
     "text": [
      "100%|██████████| 4/4 [00:11<00:00,  2.90s/it]\n"
     ]
    },
    {
     "metadata": {
      "tags": null
     },
     "name": "stdout",
     "output_type": "stream",
     "text": [
      "Train loss: 2.8451365013332928 Train accuracy 0.3580121717360966 Train top 5 accuracy 0.3917342785964994\n"
     ]
    },
    {
     "metadata": {
      "tags": null
     },
     "name": "stderr",
     "output_type": "stream",
     "text": [
      "100%|██████████| 2/2 [00:05<00:00,  2.55s/it]\n"
     ]
    },
    {
     "metadata": {
      "tags": null
     },
     "name": "stdout",
     "output_type": "stream",
     "text": [
      "Valid loss: 6.987272972569746 Valid accuracy 0.25744670333669467 Valid top 5 accuracy 0.36179692802183766\n",
      "Accuracy didn't improve from: 0.26874418951132717\n",
      "Epoch: 66/100\n"
     ]
    },
    {
     "metadata": {
      "tags": null
     },
     "name": "stderr",
     "output_type": "stream",
     "text": [
      "100%|██████████| 4/4 [00:20<00:00,  5.12s/it]\n"
     ]
    },
    {
     "metadata": {
      "tags": null
     },
     "name": "stdout",
     "output_type": "stream",
     "text": [
      "Train loss: 2.9968151783241943 Train accuracy 0.3544624697088319 Train top 5 accuracy 0.3917342785964994\n"
     ]
    },
    {
     "metadata": {
      "tags": null
     },
     "name": "stderr",
     "output_type": "stream",
     "text": [
      "100%|██████████| 2/2 [00:04<00:00,  2.15s/it]\n"
     ]
    },
    {
     "metadata": {
      "tags": null
     },
     "name": "stdout",
     "output_type": "stream",
     "text": [
      "Valid loss: 7.076270664439482 Valid accuracy 0.255159472608391 Valid top 5 accuracy 0.36024129500283913\n",
      "Accuracy didn't improve from: 0.26874418951132717\n",
      "Epoch: 67/100\n"
     ]
    },
    {
     "metadata": {
      "tags": null
     },
     "name": "stderr",
     "output_type": "stream",
     "text": [
      "100%|██████████| 4/4 [00:20<00:00,  5.12s/it]\n"
     ]
    },
    {
     "metadata": {
      "tags": null
     },
     "name": "stdout",
     "output_type": "stream",
     "text": [
      "Train loss: 5.124531667022144 Train accuracy 0.3296146061380996 Train top 5 accuracy 0.389705881695537\n"
     ]
    },
    {
     "metadata": {
      "tags": null
     },
     "name": "stderr",
     "output_type": "stream",
     "text": [
      "100%|██████████| 2/2 [00:04<00:00,  2.08s/it]\n"
     ]
    },
    {
     "metadata": {
      "tags": null
     },
     "name": "stdout",
     "output_type": "stream",
     "text": [
      "Valid loss: 7.062000550767955 Valid accuracy 0.24646087001790018 Valid top 5 accuracy 0.3592138893025763\n",
      "Accuracy didn't improve from: 0.26874418951132717\n",
      "Epoch: 68/100\n"
     ]
    },
    {
     "name": "stderr",
     "output_type": "stream",
     "text": [
      "100%|██████████| 4/4 [00:11<00:00,  2.92s/it]\n"
     ]
    },
    {
     "name": "stdout",
     "output_type": "stream",
     "text": [
      "Train loss: 7.521727186792037 Train accuracy 0.32809330794193287 Train top 5 accuracy 0.3909736301421243\n"
     ]
    },
    {
     "name": "stderr",
     "output_type": "stream",
     "text": [
      "100%|██████████| 2/2 [00:04<00:00,  2.09s/it]\n"
     ]
    },
    {
     "name": "stdout",
     "output_type": "stream",
     "text": [
      "Valid loss: 7.17153923125828 Valid accuracy 0.24686760345802589 Valid top 5 accuracy 0.3486215885290328\n",
      "Accuracy didn't improve from: 0.26874418951132717\n",
      "model didn't improve for 10 epochs----> lower learning rate to 2e-05\n",
      "Epoch: 69/100\n"
     ]
    },
    {
     "name": "stderr",
     "output_type": "stream",
     "text": [
      "100%|██████████| 4/4 [00:19<00:00,  4.89s/it]\n"
     ]
    },
    {
     "name": "stdout",
     "output_type": "stream",
     "text": [
      "Train loss: 3.9754853125880745 Train accuracy 0.3595334696309531 Train top 5 accuracy 0.3917342785964994\n"
     ]
    },
    {
     "name": "stderr",
     "output_type": "stream",
     "text": [
      "100%|██████████| 2/2 [00:08<00:00,  4.25s/it]\n"
     ]
    },
    {
     "name": "stdout",
     "output_type": "stream",
     "text": [
      "Valid loss: 6.9816109503016754 Valid accuracy 0.25083592402584415 Valid top 5 accuracy 0.3588560156743316\n",
      "Accuracy didn't improve from: 0.26874418951132717\n",
      "Epoch: 70/100\n"
     ]
    },
    {
     "name": "stderr",
     "output_type": "stream",
     "text": [
      "100%|██████████| 4/4 [00:11<00:00,  2.89s/it]\n"
     ]
    },
    {
     "name": "stdout",
     "output_type": "stream",
     "text": [
      "Train loss: 2.7444703973391475 Train accuracy 0.36359026167980013 Train top 5 accuracy 0.3917342785964994\n"
     ]
    },
    {
     "name": "stderr",
     "output_type": "stream",
     "text": [
      "100%|██████████| 2/2 [00:04<00:00,  2.08s/it]\n"
     ]
    },
    {
     "name": "stdout",
     "output_type": "stream",
     "text": [
      "Valid loss: 6.981289973153787 Valid accuracy 0.2519782173502095 Valid top 5 accuracy 0.35941725903574157\n",
      "Accuracy didn't improve from: 0.26874418951132717\n",
      "Epoch: 71/100\n"
     ]
    },
    {
     "name": "stderr",
     "output_type": "stream",
     "text": [
      "100%|██████████| 4/4 [00:20<00:00,  5.12s/it]\n"
     ]
    },
    {
     "name": "stdout",
     "output_type": "stream",
     "text": [
      "Train loss: 2.3943630150135826 Train accuracy 0.3676470543860513 Train top 5 accuracy 0.3917342785964994\n"
     ]
    },
    {
     "name": "stderr",
     "output_type": "stream",
     "text": [
      "100%|██████████| 2/2 [00:04<00:00,  2.16s/it]\n"
     ]
    },
    {
     "name": "stdout",
     "output_type": "stream",
     "text": [
      "Valid loss: 6.977880086968927 Valid accuracy 0.25571014984127355 Valid top 5 accuracy 0.35943046420374336\n",
      "Accuracy didn't improve from: 0.26874418951132717\n",
      "Epoch: 72/100\n"
     ]
    },
    {
     "name": "stderr",
     "output_type": "stream",
     "text": [
      "100%|██████████| 4/4 [00:20<00:00,  5.12s/it]\n"
     ]
    },
    {
     "name": "stdout",
     "output_type": "stream",
     "text": [
      "Train loss: 2.1932160074219986 Train accuracy 0.36992900769281034 Train top 5 accuracy 0.3917342785964994\n"
     ]
    },
    {
     "name": "stderr",
     "output_type": "stream",
     "text": [
      "100%|██████████| 2/2 [00:05<00:00,  2.56s/it]\n"
     ]
    },
    {
     "name": "stdout",
     "output_type": "stream",
     "text": [
      "Valid loss: 6.9662021538790535 Valid accuracy 0.25727898890481277 Valid top 5 accuracy 0.36043805957717057\n",
      "Accuracy didn't improve from: 0.26874418951132717\n",
      "Epoch: 73/100\n"
     ]
    },
    {
     "name": "stderr",
     "output_type": "stream",
     "text": [
      "100%|██████████| 4/4 [00:20<00:00,  5.12s/it]\n"
     ]
    },
    {
     "name": "stdout",
     "output_type": "stream",
     "text": [
      "Train loss: 2.0520980401950726 Train accuracy 0.3706896541201893 Train top 5 accuracy 0.3917342785964994\n"
     ]
    },
    {
     "name": "stderr",
     "output_type": "stream",
     "text": [
      "100%|██████████| 2/2 [00:04<00:00,  2.19s/it]\n"
     ]
    },
    {
     "name": "stdout",
     "output_type": "stream",
     "text": [
      "Valid loss: 6.967829944456325 Valid accuracy 0.25604161313351465 Valid top 5 accuracy 0.3601065956275253\n",
      "Accuracy didn't improve from: 0.26874418951132717\n",
      "Epoch: 74/100\n"
     ]
    },
    {
     "name": "stderr",
     "output_type": "stream",
     "text": [
      "100%|██████████| 4/4 [00:20<00:00,  5.12s/it]\n"
     ]
    },
    {
     "name": "stdout",
     "output_type": "stream",
     "text": [
      "Train loss: 1.9392647366313374 Train accuracy 0.37170385520028715 Train top 5 accuracy 0.3917342785964994\n"
     ]
    },
    {
     "name": "stderr",
     "output_type": "stream",
     "text": [
      "100%|██████████| 2/2 [00:05<00:00,  2.55s/it]\n"
     ]
    },
    {
     "name": "stdout",
     "output_type": "stream",
     "text": [
      "Valid loss: 6.994659540407798 Valid accuracy 0.2533370848087704 Valid top 5 accuracy 0.35897090351756883\n",
      "Accuracy didn't improve from: 0.26874418951132717\n",
      "Epoch: 75/100\n"
     ]
    },
    {
     "name": "stderr",
     "output_type": "stream",
     "text": [
      "100%|██████████| 4/4 [00:20<00:00,  5.12s/it]\n"
     ]
    },
    {
     "name": "stdout",
     "output_type": "stream",
     "text": [
      "Train loss: 1.8431206196546555 Train accuracy 0.372971602167715 Train top 5 accuracy 0.39198782974306273\n"
     ]
    },
    {
     "name": "stderr",
     "output_type": "stream",
     "text": [
      "100%|██████████| 2/2 [00:04<00:00,  2.15s/it]\n"
     ]
    },
    {
     "name": "stdout",
     "output_type": "stream",
     "text": [
      "Valid loss: 7.019866021240459 Valid accuracy 0.2531139083644923 Valid top 5 accuracy 0.35964703505091805\n",
      "Accuracy didn't improve from: 0.26874418951132717\n",
      "Epoch: 76/100\n"
     ]
    },
    {
     "name": "stderr",
     "output_type": "stream",
     "text": [
      "100%|██████████| 4/4 [00:11<00:00,  2.85s/it]\n"
     ]
    },
    {
     "name": "stdout",
     "output_type": "stream",
     "text": [
      "Train loss: 1.7577627664979767 Train accuracy 0.37347870446084175 Train top 5 accuracy 0.39198782974306273\n"
     ]
    },
    {
     "name": "stderr",
     "output_type": "stream",
     "text": [
      "100%|██████████| 2/2 [00:04<00:00,  2.07s/it]\n"
     ]
    },
    {
     "name": "stdout",
     "output_type": "stream",
     "text": [
      "Valid loss: 7.057783118065665 Valid accuracy 0.25255266533178444 Valid top 5 accuracy 0.35918747622738867\n",
      "Accuracy didn't improve from: 0.26874418951132717\n",
      "Epoch: 77/100\n"
     ]
    },
    {
     "name": "stderr",
     "output_type": "stream",
     "text": [
      "100%|██████████| 4/4 [00:20<00:00,  5.12s/it]\n"
     ]
    },
    {
     "name": "stdout",
     "output_type": "stream",
     "text": [
      "Train loss: 1.6798529752037104 Train accuracy 0.37398580324781294 Train top 5 accuracy 0.3917342785964994\n"
     ]
    },
    {
     "name": "stderr",
     "output_type": "stream",
     "text": [
      "100%|██████████| 2/2 [00:04<00:00,  2.16s/it]\n"
     ]
    },
    {
     "name": "stdout",
     "output_type": "stream",
     "text": [
      "Valid loss: 7.0840325197752785 Valid accuracy 0.2536817508585313 Valid top 5 accuracy 0.3583964550977244\n",
      "Accuracy didn't improve from: 0.26874418951132717\n",
      "Epoch: 78/100\n"
     ]
    },
    {
     "name": "stderr",
     "output_type": "stream",
     "text": [
      "100%|██████████| 4/4 [00:11<00:00,  2.82s/it]\n"
     ]
    },
    {
     "name": "stdout",
     "output_type": "stream",
     "text": [
      "Train loss: 1.6075241184409927 Train accuracy 0.3750000043279108 Train top 5 accuracy 0.3917342785964994\n"
     ]
    },
    {
     "name": "stderr",
     "output_type": "stream",
     "text": [
      "100%|██████████| 2/2 [00:05<00:00,  2.55s/it]\n"
     ]
    },
    {
     "name": "stdout",
     "output_type": "stream",
     "text": [
      "Valid loss: 7.120505240910194 Valid accuracy 0.2510921112535631 Valid top 5 accuracy 0.35749714810620337\n",
      "Accuracy didn't improve from: 0.26874418951132717\n",
      "Epoch: 79/100\n"
     ]
    },
    {
     "name": "stderr",
     "output_type": "stream",
     "text": [
      "100%|██████████| 4/4 [00:20<00:00,  5.12s/it]\n"
     ]
    },
    {
     "name": "stdout",
     "output_type": "stream",
     "text": [
      "Train loss: 1.5398033800370552 Train accuracy 0.37550710514187813 Train top 5 accuracy 0.3917342785964994\n"
     ]
    },
    {
     "name": "stderr",
     "output_type": "stream",
     "text": [
      "100%|██████████| 2/2 [00:05<00:00,  2.56s/it]\n"
     ]
    },
    {
     "name": "stdout",
     "output_type": "stream",
     "text": [
      "Valid loss: 7.154099773834734 Valid accuracy 0.25065236319513884 Valid top 5 accuracy 0.35670612434692245\n",
      "Accuracy didn't improve from: 0.26874418951132717\n",
      "Epoch: 80/100\n"
     ]
    },
    {
     "name": "stderr",
     "output_type": "stream",
     "text": [
      "100%|██████████| 4/4 [00:11<00:00,  2.88s/it]\n"
     ]
    },
    {
     "name": "stdout",
     "output_type": "stream",
     "text": [
      "Train loss: 1.4765603327575851 Train accuracy 0.37626775332233486 Train top 5 accuracy 0.3917342785964994\n"
     ]
    },
    {
     "name": "stderr",
     "output_type": "stream",
     "text": [
      "100%|██████████| 2/2 [00:04<00:00,  2.05s/it]\n"
     ]
    },
    {
     "name": "stdout",
     "output_type": "stream",
     "text": [
      "Valid loss: 7.194079021320624 Valid accuracy 0.25065896703916435 Valid top 5 accuracy 0.35692930166773934\n",
      "Accuracy didn't improve from: 0.26874418951132717\n",
      "Epoch: 81/100\n"
     ]
    },
    {
     "name": "stderr",
     "output_type": "stream",
     "text": [
      "100%|██████████| 4/4 [00:11<00:00,  2.89s/it]\n"
     ]
    },
    {
     "name": "stdout",
     "output_type": "stream",
     "text": [
      "Train loss: 1.4201975916238392 Train accuracy 0.3765213027158204 Train top 5 accuracy 0.3917342785964994\n"
     ]
    },
    {
     "name": "stderr",
     "output_type": "stream",
     "text": [
      "100%|██████████| 2/2 [00:05<00:00,  2.56s/it]\n"
     ]
    },
    {
     "name": "stdout",
     "output_type": "stream",
     "text": [
      "Valid loss: 7.235848835285972 Valid accuracy 0.24826609211809494 Valid top 5 accuracy 0.35657803045914455\n",
      "Accuracy didn't improve from: 0.26874418951132717\n",
      "Epoch: 82/100\n"
     ]
    },
    {
     "name": "stderr",
     "output_type": "stream",
     "text": [
      "100%|██████████| 4/4 [00:11<00:00,  2.87s/it]\n"
     ]
    },
    {
     "name": "stdout",
     "output_type": "stream",
     "text": [
      "Train loss: 1.3891242812661564 Train accuracy 0.37373225062209015 Train top 5 accuracy 0.3917342785964994\n"
     ]
    },
    {
     "name": "stderr",
     "output_type": "stream",
     "text": [
      "100%|██████████| 2/2 [00:05<00:00,  2.55s/it]\n"
     ]
    },
    {
     "name": "stdout",
     "output_type": "stream",
     "text": [
      "Valid loss: 7.28411039622391 Valid accuracy 0.25180786059183236 Valid top 5 accuracy 0.3560101840206805\n",
      "Accuracy didn't improve from: 0.26874418951132717\n",
      "Epoch: 83/100\n"
     ]
    },
    {
     "name": "stderr",
     "output_type": "stream",
     "text": [
      "100%|██████████| 4/4 [00:11<00:00,  2.92s/it]\n"
     ]
    },
    {
     "name": "stdout",
     "output_type": "stream",
     "text": [
      "Train loss: 1.477794816827073 Train accuracy 0.36942190742667985 Train top 5 accuracy 0.3917342785964994\n"
     ]
    },
    {
     "name": "stderr",
     "output_type": "stream",
     "text": [
      "100%|██████████| 2/2 [00:05<00:00,  2.56s/it]\n"
     ]
    },
    {
     "name": "stdout",
     "output_type": "stream",
     "text": [
      "Valid loss: 7.373188588549109 Valid accuracy 0.25353120771401066 Valid top 5 accuracy 0.355455542640651\n",
      "Accuracy didn't improve from: 0.26874418951132717\n",
      "Epoch: 84/100\n"
     ]
    },
    {
     "name": "stderr",
     "output_type": "stream",
     "text": [
      "100%|██████████| 4/4 [00:11<00:00,  2.91s/it]\n"
     ]
    },
    {
     "name": "stdout",
     "output_type": "stream",
     "text": [
      "Train loss: 1.4916368359152008 Train accuracy 0.3689148051335531 Train top 5 accuracy 0.3917342785964994\n"
     ]
    },
    {
     "name": "stderr",
     "output_type": "stream",
     "text": [
      "100%|██████████| 2/2 [00:04<00:00,  2.07s/it]\n"
     ]
    },
    {
     "name": "stdout",
     "output_type": "stream",
     "text": [
      "Valid loss: 7.378205733264194 Valid accuracy 0.25510004469577 Valid top 5 accuracy 0.3540966740864165\n",
      "Accuracy didn't improve from: 0.26874418951132717\n",
      "Epoch: 85/100\n"
     ]
    },
    {
     "name": "stderr",
     "output_type": "stream",
     "text": [
      "100%|██████████| 4/4 [00:11<00:00,  2.87s/it]\n"
     ]
    },
    {
     "name": "stdout",
     "output_type": "stream",
     "text": [
      "Train loss: 1.2489188002312885 Train accuracy 0.37702840325586934 Train top 5 accuracy 0.3917342785964994\n"
     ]
    },
    {
     "name": "stderr",
     "output_type": "stream",
     "text": [
      "100%|██████████| 2/2 [00:04<00:00,  2.07s/it]\n"
     ]
    },
    {
     "name": "stdout",
     "output_type": "stream",
     "text": [
      "Valid loss: 7.37640719992273 Valid accuracy 0.2520442438476226 Valid top 5 accuracy 0.3546579175573938\n",
      "Accuracy didn't improve from: 0.26874418951132717\n",
      "Epoch: 86/100\n"
     ]
    },
    {
     "name": "stderr",
     "output_type": "stream",
     "text": [
      "100%|██████████| 4/4 [00:20<00:00,  5.12s/it]\n"
     ]
    },
    {
     "name": "stdout",
     "output_type": "stream",
     "text": [
      "Train loss: 1.4361992066397387 Train accuracy 0.37905679445932894 Train top 5 accuracy 0.39198782974306273\n"
     ]
    },
    {
     "name": "stderr",
     "output_type": "stream",
     "text": [
      "100%|██████████| 2/2 [00:05<00:00,  2.55s/it]\n"
     ]
    },
    {
     "name": "stdout",
     "output_type": "stream",
     "text": [
      "Valid loss: 7.394562992102959 Valid accuracy 0.2515846850240932 Valid top 5 accuracy 0.3534073376042001\n",
      "Accuracy didn't improve from: 0.26874418951132717\n",
      "Epoch: 87/100\n"
     ]
    },
    {
     "name": "stderr",
     "output_type": "stream",
     "text": [
      "100%|██████████| 4/4 [00:20<00:00,  5.12s/it]\n"
     ]
    },
    {
     "name": "stdout",
     "output_type": "stream",
     "text": [
      "Train loss: 2.596421781269943 Train accuracy 0.35319472635712695 Train top 5 accuracy 0.3881845813901985\n"
     ]
    },
    {
     "name": "stderr",
     "output_type": "stream",
     "text": [
      "100%|██████████| 2/2 [00:04<00:00,  2.06s/it]\n"
     ]
    },
    {
     "name": "stdout",
     "output_type": "stream",
     "text": [
      "Valid loss: 7.777741312104113 Valid accuracy 0.26179930239039306 Valid top 5 accuracy 0.35670612511389393\n",
      "Accuracy didn't improve from: 0.26874418951132717\n",
      "Epoch: 88/100\n"
     ]
    },
    {
     "name": "stderr",
     "output_type": "stream",
     "text": [
      "100%|██████████| 4/4 [00:11<00:00,  2.87s/it]\n"
     ]
    },
    {
     "name": "stdout",
     "output_type": "stream",
     "text": [
      "Train loss: 1.3121864427538479 Train accuracy 0.3765212967443992 Train top 5 accuracy 0.39198782974306273\n"
     ]
    },
    {
     "name": "stderr",
     "output_type": "stream",
     "text": [
      "100%|██████████| 2/2 [00:05<00:00,  2.56s/it]\n"
     ]
    },
    {
     "name": "stdout",
     "output_type": "stream",
     "text": [
      "Valid loss: 7.533870762761901 Valid accuracy 0.2579260685426347 Valid top 5 accuracy 0.35759883176754503\n",
      "Accuracy didn't improve from: 0.26874418951132717\n",
      "Epoch: 89/100\n"
     ]
    },
    {
     "name": "stderr",
     "output_type": "stream",
     "text": [
      "100%|██████████| 4/4 [00:20<00:00,  5.12s/it]\n"
     ]
    },
    {
     "name": "stdout",
     "output_type": "stream",
     "text": [
      "Train loss: 1.1449484559981262 Train accuracy 0.38235293876598864 Train top 5 accuracy 0.39198782974306273\n"
     ]
    },
    {
     "name": "stderr",
     "output_type": "stream",
     "text": [
      "100%|██████████| 2/2 [00:04<00:00,  2.14s/it]\n"
     ]
    },
    {
     "name": "stdout",
     "output_type": "stream",
     "text": [
      "Valid loss: 7.5006349612684815 Valid accuracy 0.25281545782790465 Valid top 5 accuracy 0.35636145785889206\n",
      "Accuracy didn't improve from: 0.26874418951132717\n",
      "Epoch: 90/100\n"
     ]
    },
    {
     "name": "stderr",
     "output_type": "stream",
     "text": [
      "100%|██████████| 4/4 [00:20<00:00,  5.12s/it]\n"
     ]
    },
    {
     "name": "stdout",
     "output_type": "stream",
     "text": [
      "Train loss: 1.0581992240074802 Train accuracy 0.38209939112558083 Train top 5 accuracy 0.39198782974306273\n"
     ]
    },
    {
     "name": "stderr",
     "output_type": "stream",
     "text": [
      "100%|██████████| 2/2 [00:05<00:00,  2.56s/it]\n"
     ]
    },
    {
     "name": "stdout",
     "output_type": "stream",
     "text": [
      "Valid loss: 7.5068890680285065 Valid accuracy 0.250691979246981 Valid top 5 accuracy 0.3526229177985121\n",
      "Accuracy didn't improve from: 0.26874418951132717\n",
      "Epoch: 91/100\n"
     ]
    },
    {
     "name": "stderr",
     "output_type": "stream",
     "text": [
      "100%|██████████| 4/4 [00:20<00:00,  5.12s/it]\n"
     ]
    },
    {
     "name": "stdout",
     "output_type": "stream",
     "text": [
      "Train loss: 1.0086181516594745 Train accuracy 0.38184584348517303 Train top 5 accuracy 0.39198782974306273\n"
     ]
    },
    {
     "name": "stderr",
     "output_type": "stream",
     "text": [
      "100%|██████████| 2/2 [00:05<00:00,  2.56s/it]\n"
     ]
    },
    {
     "name": "stdout",
     "output_type": "stream",
     "text": [
      "Valid loss: 7.527596634100465 Valid accuracy 0.25326841368394737 Valid top 5 accuracy 0.35375200858449235\n",
      "Accuracy didn't improve from: 0.26874418951132717\n",
      "Epoch: 92/100\n"
     ]
    },
    {
     "name": "stderr",
     "output_type": "stream",
     "text": [
      "100%|██████████| 4/4 [00:20<00:00,  5.12s/it]\n"
     ]
    },
    {
     "name": "stdout",
     "output_type": "stream",
     "text": [
      "Train loss: 0.9735351345118355 Train accuracy 0.38235294577829976 Train top 5 accuracy 0.3917342785964994\n"
     ]
    },
    {
     "name": "stderr",
     "output_type": "stream",
     "text": [
      "100%|██████████| 2/2 [00:05<00:00,  2.56s/it]\n"
     ]
    },
    {
     "name": "stdout",
     "output_type": "stream",
     "text": [
      "Valid loss: 7.52390239080962 Valid accuracy 0.2523823091212441 Valid top 5 accuracy 0.3538735003813225\n",
      "Accuracy didn't improve from: 0.26874418951132717\n",
      "Epoch: 93/100\n"
     ]
    },
    {
     "name": "stderr",
     "output_type": "stream",
     "text": [
      "100%|██████████| 4/4 [00:11<00:00,  2.91s/it]\n"
     ]
    },
    {
     "name": "stdout",
     "output_type": "stream",
     "text": [
      "Train loss: 0.9492346195175367 Train accuracy 0.38083164941738634 Train top 5 accuracy 0.3917342785964994\n"
     ]
    },
    {
     "name": "stderr",
     "output_type": "stream",
     "text": [
      "100%|██████████| 2/2 [00:04<00:00,  2.09s/it]\n"
     ]
    },
    {
     "name": "stdout",
     "output_type": "stream",
     "text": [
      "Valid loss: 7.546763271969907 Valid accuracy 0.254863663631327 Valid top 5 accuracy 0.3529675876831307\n",
      "Accuracy didn't improve from: 0.26874418951132717\n",
      "Epoch: 94/100\n"
     ]
    },
    {
     "name": "stderr",
     "output_type": "stream",
     "text": [
      "100%|██████████| 4/4 [00:11<00:00,  2.89s/it]\n"
     ]
    },
    {
     "name": "stdout",
     "output_type": "stream",
     "text": [
      "Train loss: 0.9521942241665196 Train accuracy 0.380324543618104 Train top 5 accuracy 0.3917342785964994\n"
     ]
    },
    {
     "name": "stderr",
     "output_type": "stream",
     "text": [
      "100%|██████████| 2/2 [00:05<00:00,  2.56s/it]\n"
     ]
    },
    {
     "name": "stdout",
     "output_type": "stream",
     "text": [
      "Valid loss: 7.5740099619416625 Valid accuracy 0.2546206765315112 Valid top 5 accuracy 0.35329905174234333\n",
      "Accuracy didn't improve from: 0.26874418951132717\n",
      "Epoch: 95/100\n"
     ]
    },
    {
     "name": "stderr",
     "output_type": "stream",
     "text": [
      "100%|██████████| 4/4 [00:20<00:00,  5.12s/it]\n"
     ]
    },
    {
     "name": "stdout",
     "output_type": "stream",
     "text": [
      "Train loss: 1.0200563763432644 Train accuracy 0.37576064927613034 Train top 5 accuracy 0.3917342785964994\n"
     ]
    },
    {
     "name": "stderr",
     "output_type": "stream",
     "text": [
      "100%|██████████| 2/2 [00:05<00:00,  2.56s/it]\n"
     ]
    },
    {
     "name": "stdout",
     "output_type": "stream",
     "text": [
      "Valid loss: 7.617751000558629 Valid accuracy 0.25657380372285843 Valid top 5 accuracy 0.353758608812795\n",
      "Accuracy didn't improve from: 0.26874418951132717\n",
      "Epoch: 96/100\n"
     ]
    },
    {
     "name": "stderr",
     "output_type": "stream",
     "text": [
      "100%|██████████| 4/4 [00:11<00:00,  2.86s/it]\n"
     ]
    },
    {
     "name": "stdout",
     "output_type": "stream",
     "text": [
      "Train loss: 0.9970088857499992 Train accuracy 0.377028397996636 Train top 5 accuracy 0.3917342785964994\n"
     ]
    },
    {
     "name": "stderr",
     "output_type": "stream",
     "text": [
      "100%|██████████| 2/2 [00:05<00:00,  2.56s/it]\n"
     ]
    },
    {
     "name": "stdout",
     "output_type": "stream",
     "text": [
      "Valid loss: 7.625542584587546 Valid accuracy 0.25770949397016973 Valid top 5 accuracy 0.3536437173538348\n",
      "Accuracy didn't improve from: 0.26874418951132717\n",
      "Epoch: 97/100\n"
     ]
    },
    {
     "name": "stderr",
     "output_type": "stream",
     "text": [
      "100%|██████████| 4/4 [00:20<00:00,  5.12s/it]\n"
     ]
    },
    {
     "name": "stdout",
     "output_type": "stream",
     "text": [
      "Train loss: 0.8510788761298446 Train accuracy 0.3846348850604366 Train top 5 accuracy 0.3917342785964994\n"
     ]
    },
    {
     "name": "stderr",
     "output_type": "stream",
     "text": [
      "100%|██████████| 2/2 [00:04<00:00,  2.14s/it]\n"
     ]
    },
    {
     "name": "stdout",
     "output_type": "stream",
     "text": [
      "Valid loss: 7.586797415333636 Valid accuracy 0.2536394937950022 Valid top 5 accuracy 0.35375860968933387\n",
      "Accuracy didn't improve from: 0.26874418951132717\n",
      "Epoch: 98/100\n"
     ]
    },
    {
     "name": "stderr",
     "output_type": "stream",
     "text": [
      "100%|██████████| 4/4 [00:11<00:00,  2.90s/it]\n"
     ]
    },
    {
     "name": "stdout",
     "output_type": "stream",
     "text": [
      "Train loss: 0.9930831473320723 Train accuracy 0.38539553850012664 Train top 5 accuracy 0.39198782974306273\n"
     ]
    },
    {
     "name": "stderr",
     "output_type": "stream",
     "text": [
      "100%|██████████| 2/2 [00:05<00:00,  2.56s/it]\n"
     ]
    },
    {
     "name": "stdout",
     "output_type": "stream",
     "text": [
      "Valid loss: 7.405690595507622 Valid accuracy 0.24621128148454077 Valid top 5 accuracy 0.3499936608268934\n",
      "Accuracy didn't improve from: 0.26874418951132717\n",
      "Epoch: 99/100\n"
     ]
    },
    {
     "name": "stderr",
     "output_type": "stream",
     "text": [
      "100%|██████████| 4/4 [00:20<00:00,  5.12s/it]\n"
     ]
    },
    {
     "name": "stdout",
     "output_type": "stream",
     "text": [
      "Train loss: 1.1714176896083004 Train accuracy 0.3836206888013026 Train top 5 accuracy 0.39198782974306273\n"
     ]
    },
    {
     "name": "stderr",
     "output_type": "stream",
     "text": [
      "100%|██████████| 2/2 [00:04<00:00,  2.06s/it]\n"
     ]
    },
    {
     "name": "stdout",
     "output_type": "stream",
     "text": [
      "Valid loss: 7.380462673657081 Valid accuracy 0.23974840463522604 Valid top 5 accuracy 0.3497638796620509\n",
      "Accuracy didn't improve from: 0.26874418951132717\n",
      "Epoch: 100/100\n"
     ]
    },
    {
     "name": "stderr",
     "output_type": "stream",
     "text": [
      "100%|██████████| 4/4 [00:20<00:00,  5.12s/it]\n"
     ]
    },
    {
     "name": "stdout",
     "output_type": "stream",
     "text": [
      "Train loss: 0.8027281519573402 Train accuracy 0.38590263509575057 Train top 5 accuracy 0.39198782974306273\n"
     ]
    },
    {
     "name": "stderr",
     "output_type": "stream",
     "text": [
      "100%|██████████| 2/2 [00:04<00:00,  2.13s/it]"
     ]
    },
    {
     "name": "stdout",
     "output_type": "stream",
     "text": [
      "Valid loss: 7.587611306239577 Valid accuracy 0.25451899199363065 Valid top 5 accuracy 0.3520616759710452\n",
      "Accuracy didn't improve from: 0.26874418951132717\n"
     ]
    },
    {
     "name": "stderr",
     "output_type": "stream",
     "text": [
      "\n"
     ]
    }
   ],
   "source": [
    "# clear the session to release all previous states generated by Keras\n",
    "tf.keras.backend.clear_session()\n",
    "# instantiate and compile the model inside the strategy scope defined previous\n",
    "with strategy.scope():\n",
    "  model = encoder_decoder_model()\n",
    "  # use Sparse Categorical Cross-entropy as a loss function as labels are not one-hot encoded\n",
    "  # use AdamW optimizer initially with a weight decay of 0.0\n",
    "  # use the Sparse Categorical Accuracy and top k=5 accuracy metrics to monitor and save the best model weights\n",
    "  metrics = [tf.keras.metrics.SparseCategoricalAccuracy(),\n",
    "             tf.keras.metrics.SparseTopKCategoricalAccuracy(k=5, name='top_k_acc')]\n",
    "  model.compile(loss=tf.keras.losses.SparseCategoricalCrossentropy(from_logits=False),\n",
    "                metrics=metrics,\n",
    "                optimizer=tfa.optimizers.AdamW(learning_rate=config.LEARNING_RATE, weight_decay=0.0))\n",
    "\n",
    "# initialize the best accuracy at - infinity\n",
    "best_result = -np.inf\n",
    "# initialize the epoch of the best result as 0\n",
    "epoch_of_best_result = 0\n",
    "# initialize a variable for the current learning rate\n",
    "current_learning = config.LEARNING_RATE\n",
    "# for each epoch iterate over the whole training and validation sets\n",
    "for epoch in range(config.EPOCHS):\n",
    "  print(f'Epoch: {epoch+1}/{config.EPOCHS}')\n",
    "  # iterate over the training dataset\n",
    "  for batch in tqdm(train_ds, total=len(train_ds)):\n",
    "    enc_inputs, dec_inputs, labels = batch\n",
    "    # create a variable for the number of examples in the current batch\n",
    "    num_examples = len(enc_inputs)\n",
    "    # initialize losses and accuracies list\n",
    "    losses = []\n",
    "    accs = []\n",
    "    top_accs = []\n",
    "    # sequencially predict the label (actual previous token as input)\n",
    "    for i in range(config.MAXLEN):\n",
    "      # extract the current mask from the attention_masks list\n",
    "      # broadcast the mask to the shape of (num_examples, num_heads(8), max_len(17), max_len(17))\n",
    "      current_att_mask = tf.broadcast_to(tf.constant(attention_masks[i]), (num_examples, config.NUM_HEADS, config.MAXLEN, config.MAXLEN))\n",
    "      # train on each batch and pass the class weights\n",
    "      train_results = model.train_on_batch(x=(enc_inputs, dec_inputs, current_att_mask), y=labels[:, -(i+1)], \n",
    "                           class_weight=auto_weight_dict, reset_metrics=True, return_dict=True)\n",
    "      # append the loss value\n",
    "      losses.append(train_results['loss'])\n",
    "      # append the accuracy value\n",
    "      accs.append(train_results['sparse_categorical_accuracy'])\n",
    "      # append the top 5 accuracy value\n",
    "      top_accs.append(train_results['top_k_acc'])\n",
    "  print('Train loss:', np.mean(losses), 'Train accuracy', np.mean(accs), 'Train top 5 accuracy', np.mean(top_accs))\n",
    "\n",
    "  # initialize losses and accuracies list\n",
    "  losses = []\n",
    "  accs = []\n",
    "  top_accs = []\n",
    "  # iterate over the validation dataset\n",
    "  for batch in tqdm(valid_ds, total=len(valid_ds)):\n",
    "    enc_inputs, dec_inputs, labels = batch\n",
    "    # create a variable for the number of examples in the current batch\n",
    "    num_examples = len(enc_inputs)\n",
    "    # create a NumPy array to save the predictions of the previous tokens\n",
    "    # it is initialized with ones where the model will see 1 in the first \n",
    "    # pass which represents the special starting \"s\" token\n",
    "    full_sequence_preds = np.ones((num_examples, config.MAXLEN))\n",
    "    # sequencially predict the label (predicted previous token as input (Auto-Regression))\n",
    "    for i in range(config.MAXLEN):\n",
    "      # extract the current mask from the attention_masks list\n",
    "      # broadcast the mask to the shape of (num_examples, num_heads(8), max_len(17), max_len(17))\n",
    "      current_att_mask = tf.broadcast_to(tf.constant(attention_masks[i]), (num_examples, config.NUM_HEADS, config.MAXLEN, config.MAXLEN))\n",
    "      # evaluate on each batch\n",
    "      valid_results = model.test_on_batch(x=(enc_inputs, full_sequence_preds, current_att_mask), y=labels[:, -(i+1)], reset_metrics=True, return_dict=True)\n",
    "      # predict the tokens of the current position\n",
    "      preds = model.predict_on_batch(x=(enc_inputs, full_sequence_preds, current_att_mask))\n",
    "      # take the argmax value which represents the index of the highest prob character\n",
    "      current_preds = np.argmax(preds, axis=-1)\n",
    "      # populate the current position with the predicted values which will be used in the next \n",
    "      # pass as a decoder input\n",
    "      full_sequence_preds[:, -(i+1)] = current_preds # populate the column of the current timestep with the predicitons\n",
    "        \n",
    "      # append the loss value  \n",
    "      losses.append(valid_results['loss'])\n",
    "      # append the accuracy value\n",
    "      accs.append(valid_results['sparse_categorical_accuracy'])\n",
    "      # append the top 5 accuracy value\n",
    "      top_accs.append(valid_results['top_k_acc'])\n",
    "  print('Valid loss:', np.mean(losses), 'Valid accuracy', np.mean(accs), 'Valid top 5 accuracy', np.mean(top_accs))\n",
    "\n",
    "  mean_acc = np.mean(accs)\n",
    "  # save the weights of the best model based on the validation accuracy\n",
    "  # lower the LR a factor defined in the config class if the validation accuracy \n",
    "  # does not improve for the stated patience in the config class\n",
    "  if mean_acc > best_result:\n",
    "    best_result = mean_acc\n",
    "    epoch_of_best_result = epoch\n",
    "    print('Saving best model wieghts,', 'Accuracy:', mean_acc)\n",
    "    model.save_weights('best_full_model_weights.h5')\n",
    "  else:\n",
    "    print(\"Accuracy didn't improve from:\", best_result)\n",
    "  if epoch - epoch_of_best_result == config.LEARTING_RATE_REDUCTION_PATIENCE:\n",
    "    current_learning = current_learning * config.LEARTING_RATE_REDUCTION_FACTOR\n",
    "    print(\"model didn't improve for 10 epochs---->\", f\"lower learning rate to {current_learning}\")\n",
    "    model.compile(loss=tf.keras.losses.SparseCategoricalCrossentropy(from_logits=False),\n",
    "                metrics=metrics,\n",
    "                optimizer=tf.keras.optimizers.Adam(learning_rate=current_learning))  \n",
    "\n",
    "    "
   ]
  },
  {
   "cell_type": "markdown",
   "metadata": {
    "id": "MJvy76RW8sZ-"
   },
   "source": [
    "## Prediction"
   ]
  },
  {
   "cell_type": "code",
   "execution_count": null,
   "metadata": {
    "id": "fO-1ia8U4sPe"
   },
   "outputs": [],
   "source": [
    "# construct attention masks list\n",
    "# for each position there a mask that prevents the model from \n",
    "# see current and next positions\n",
    "attention_masks = []\n",
    "for i in range(1, config.MAXLEN+1):\n",
    "  # Arabic masking starts from right to left\n",
    "  attention_mask = [0] * (config.MAXLEN - i) + [1] * i\n",
    "  attention_masks.append(attention_mask)"
   ]
  },
  {
   "cell_type": "code",
   "execution_count": null,
   "metadata": {
    "colab": {
     "base_uri": "https://localhost:8080/"
    },
    "id": "7_3dfPim8q8P",
    "outputId": "a0e7448f-55cc-487f-9ef0-50addd101187"
   },
   "outputs": [
    {
     "name": "stderr",
     "output_type": "stream",
     "text": [
      "100%|██████████| 2/2 [00:19<00:00,  9.56s/it]"
     ]
    },
    {
     "name": "stdout",
     "output_type": "stream",
     "text": [
      "{'loss': 6.500792980194092, 'sparse_categorical_accuracy': 0.26290515065193176, 'top_k_acc': 0.35860058665275574}\n"
     ]
    },
    {
     "name": "stderr",
     "output_type": "stream",
     "text": [
      "\n"
     ]
    }
   ],
   "source": [
    "# clear the session to release all previous states generated by Keras\n",
    "tf.keras.backend.clear_session()\n",
    "# instantiate and compile the model inside the strategy scope defined previous\n",
    "with strategy.scope():\n",
    "  model = encoder_decoder_model()\n",
    "  # use Sparse Categorical Cross-entropy as a loss function as labels are not one-hot encoded\n",
    "  # use AdamW optimizer initially with a weight decay of 0.0\n",
    "  # use the Sparse Categorical Accuracy and top k=5 accuracy metrics to monitor and save the best model weights\n",
    "  metrics = [tf.keras.metrics.SparseCategoricalAccuracy(),\n",
    "             tf.keras.metrics.SparseTopKCategoricalAccuracy(k=5, name='top_k_acc')]\n",
    "  model.compile(loss=tf.keras.losses.SparseCategoricalCrossentropy(from_logits=False),\n",
    "                metrics=metrics,\n",
    "                optimizer=tfa.optimizers.AdamW(learning_rate=config.LEARNING_RATE, weight_decay=0.0))\n",
    "  # load_weights of best performing model\n",
    "  model.load_weights('/content/best_full_model_weights.h5')\n",
    "    \n",
    "# iterate over the validation dataset\n",
    "for iteration, batch in enumerate(tqdm(valid_ds, total=len(valid_ds))):\n",
    "  enc_inputs, dec_inputs, labels = batch\n",
    "  # create a variable for the number of examples in the current batch\n",
    "  num_examples = len(enc_inputs)\n",
    "  # create a NumPy array to save the predictions of the previous tokens\n",
    "  # it is initialized with ones where the model will see 1 in the first \n",
    "  # pass which represents the special starting \"s\" token\n",
    "  full_sequence_preds = np.ones((num_examples, config.MAXLEN))\n",
    "  # sequencially predict the label (predicted previous token as input (Auto-Regression))\n",
    "  for i in range(config.MAXLEN):\n",
    "    # extract the current mask from the attention_masks list\n",
    "    # broadcast the mask to the shape of (num_examples, num_heads(8), max_len(17), max_len(17))\n",
    "    current_att_mask = tf.broadcast_to(tf.constant(attention_masks[i]), (num_examples, config.NUM_HEADS, config.MAXLEN, config.MAXLEN))\n",
    "    # evaluate on each batch\n",
    "    valid_results = model.test_on_batch(x=(enc_inputs, full_sequence_preds, current_att_mask), y=labels[:, -(i+1)], reset_metrics=False, return_dict=True)\n",
    "    # predict the tokens of the current position\n",
    "    preds = model.predict_on_batch(x=(enc_inputs, full_sequence_preds, current_att_mask))\n",
    "    # take the argmax value which represents the index of the highest prob character\n",
    "    current_preds = np.argmax(preds, axis=-1)\n",
    "    # populate the current position with the predicted values which will be used in the next \n",
    "    # pass as a decoder input\n",
    "    full_sequence_preds[:, -(i+1)] = current_preds\n",
    "  if iteration == 0:\n",
    "    final_full_sequence_preds = full_sequence_preds\n",
    "  else: # concatenate the preditions to form the final model predictions\n",
    "    final_full_sequence_preds = np.concatenate([final_full_sequence_preds, full_sequence_preds], axis=0)\n",
    "\n",
    "print(valid_results)"
   ]
  },
  {
   "cell_type": "code",
   "execution_count": null,
   "metadata": {
    "id": "l1IUXFTRgbNi"
   },
   "outputs": [],
   "source": [
    "# save the predictions as a NumPy array\n",
    "np.save('validation_set_prediction_4.npy', final_full_sequence_preds)\n",
    "# !mv /content/validation_set_prediction_4.npy /content/drive/MyDrive/NLP_Course"
   ]
  },
  {
   "cell_type": "code",
   "execution_count": null,
   "metadata": {
    "id": "7N8R8N28tYK9"
   },
   "outputs": [],
   "source": [
    "# build a dataframe and populate it the training history\n",
    "pd.DataFrame({'full_train_losses':full_train_losses,\n",
    "              'full_train_accs': full_train_accs,\n",
    "              'full_train_top_k_accs': full_train_top_k_accs,\n",
    "              'full_valid_losses':full_valid_losses,\n",
    "              'full_valid_accs': full_valid_accs,\n",
    "              'full_valid_top_k_accs': full_valid_top_k_accs}).to_csv('metrics_4.csv', index=False)"
   ]
  },
  {
   "cell_type": "code",
   "execution_count": null,
   "metadata": {
    "id": "SQs60gvUINhh"
   },
   "outputs": [],
   "source": [
    "# !mv /content/metrics_4.csv /content/drive/MyDrive/NLP_Course"
   ]
  },
  {
   "cell_type": "code",
   "execution_count": null,
   "metadata": {
    "id": "RfUGxOSoIu4-"
   },
   "outputs": [],
   "source": []
  }
 ],
 "metadata": {
  "colab": {
   "collapsed_sections": [],
   "name": "Encoder-Decoder.ipynb",
   "provenance": []
  },
  "kernelspec": {
   "display_name": "Python 3 (ipykernel)",
   "language": "python",
   "name": "python3"
  },
  "language_info": {
   "codemirror_mode": {
    "name": "ipython",
    "version": 3
   },
   "file_extension": ".py",
   "mimetype": "text/x-python",
   "name": "python",
   "nbconvert_exporter": "python",
   "pygments_lexer": "ipython3",
   "version": "3.8.10"
  }
 },
 "nbformat": 4,
 "nbformat_minor": 1
}
