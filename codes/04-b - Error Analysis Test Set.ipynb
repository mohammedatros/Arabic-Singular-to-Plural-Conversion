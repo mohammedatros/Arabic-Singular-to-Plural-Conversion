{
  "cells": [
    {
      "cell_type": "code",
      "execution_count": null,
      "metadata": {
        "colab": {
          "base_uri": "https://localhost:8080/"
        },
        "id": "TxARKGBw5Jt6",
        "outputId": "c0a1d6e3-a24e-4350-e144-6c53454f42ba"
      },
      "outputs": [
        {
          "output_type": "stream",
          "name": "stdout",
          "text": [
            "Looking in indexes: https://pypi.org/simple, https://us-python.pkg.dev/colab-wheels/public/simple/\n",
            "Collecting PyArabic\n",
            "  Downloading PyArabic-0.6.15-py3-none-any.whl (126 kB)\n",
            "\u001b[K     |████████████████████████████████| 126 kB 5.2 MB/s \n",
            "\u001b[?25hRequirement already satisfied: six>=1.14.0 in /usr/local/lib/python3.7/dist-packages (from PyArabic) (1.15.0)\n",
            "Installing collected packages: PyArabic\n",
            "Successfully installed PyArabic-0.6.15\n"
          ]
        }
      ],
      "source": [
        "# install PyArabic library for Arabic preprocessing\n",
        "!pip install PyArabic"
      ]
    },
    {
      "cell_type": "code",
      "execution_count": null,
      "metadata": {
        "id": "lVoQGZH0x1uR"
      },
      "outputs": [],
      "source": [
        "# Standard libraries imports\n",
        "import requests\n",
        "import numpy as np\n",
        "import pandas as pd\n",
        "from scipy import stats\n",
        "import pyarabic.araby as araby\n",
        "\n",
        "import seaborn as sns\n",
        "import matplotlib.pyplot as plt\n",
        "%matplotlib inline"
      ]
    },
    {
      "cell_type": "code",
      "execution_count": null,
      "metadata": {
        "id": "ZCybjAyYyTWY"
      },
      "outputs": [],
      "source": [
        "# from google.colab import drive\n",
        "# drive.mount('/content/drive')"
      ]
    },
    {
      "cell_type": "code",
      "execution_count": null,
      "metadata": {
        "colab": {
          "base_uri": "https://localhost:8080/"
        },
        "id": "apgoaIXXzjIJ",
        "outputId": "183b5730-fbb2-4b6b-d8fa-1fbfc02bce37"
      },
      "outputs": [
        {
          "output_type": "stream",
          "name": "stdout",
          "text": [
            "Number of Arabic Characters: 38\n"
          ]
        }
      ],
      "source": [
        "# list of all Arabic characters\n",
        "chars = list('اٱبتةثجحخدذرزسشصضطظعغفقكلمنهويءآأؤإئىی')\n",
        "print('Number of Arabic Characters:', len(chars))\n",
        "\n",
        "# character to index dictionary\n",
        "char_to_index = dict((char, index+3) for (index, char) in enumerate(chars))\n",
        "# index to character dictionary\n",
        "index_to_char=  dict((index+3, char) for (index, char) in enumerate(chars))\n",
        "\n",
        "char_to_index['p'] = 0 # pad\n",
        "char_to_index['s'] = 1 # separator\n",
        "char_to_index['_'] = 2 # mask\n",
        "\n",
        "\n",
        "index_to_char[0] = 'p' # pad\n",
        "index_to_char[1] = 's' # separator\n",
        "index_to_char[2] = '_' # mask\n",
        "\n",
        "# additional char_to_index and index_to_char extracted manually as shown in next \n",
        "# cells. They were extracted and then saved into a CSV file\n",
        "df = pd.read_csv('https://drive.google.com/uc?export=download&id=1lQFU7XFy82-1dE5kPK7yDLpJ6tleycCC')\n",
        "chars_2 = df['char'].values.tolist()\n",
        "indexes_2 = df['value'].values.tolist()\n",
        "del df\n",
        "\n",
        "# additional character to index dictionary\n",
        "char_to_index_2 = dict(zip(chars_2, indexes_2))\n",
        "# additional index to character dictionary\n",
        "index_to_char_2 = dict(zip(indexes_2, chars_2))"
      ]
    },
    {
      "cell_type": "code",
      "source": [
        "# read the competition training dataset\n",
        "train_df = pd.read_csv('https://raw.githubusercontent.com/sigmorphon/2022InflectionST/main/part2/ara_1000.train', sep='\\t', header=None)\n",
        "# take only the first and second columns which\n",
        "# contain the sigular and plural forms\n",
        "train_df = train_df.iloc[:, :2]\n",
        "# rename the columns\n",
        "train_df.columns = ['singular', 'plural']\n",
        "# remove the Arabic diacritics from each column\n",
        "for col in train_df.columns:\n",
        "  train_df[col] = train_df[col].apply(lambda x: araby.strip_diacritics(x))\n",
        "\n",
        "# fetch the top 10 rows\n",
        "train_df.head(10)"
      ],
      "metadata": {
        "colab": {
          "base_uri": "https://localhost:8080/",
          "height": 363
        },
        "id": "L1HqNQZTP5wj",
        "outputId": "1bd54067-ed44-4948-fc9a-8aac1b1cd10b"
      },
      "execution_count": null,
      "outputs": [
        {
          "output_type": "execute_result",
          "data": {
            "text/plain": [
              "  singular   plural\n",
              "0     ساحة    ساحات\n",
              "1      أمر     أمور\n",
              "2      أمة      أمم\n",
              "3     جلسة    جلسات\n",
              "4    ٱتهام  اتهامات\n",
              "5    وزارة   وزارات\n",
              "6     ملفة    ملفات\n",
              "7    مسؤول  مسؤولين\n",
              "8       خط     خطوط\n",
              "9    ولاية   ولايات"
            ],
            "text/html": [
              "\n",
              "  <div id=\"df-9351bd60-06bb-46ea-a4ad-11829be677fa\">\n",
              "    <div class=\"colab-df-container\">\n",
              "      <div>\n",
              "<style scoped>\n",
              "    .dataframe tbody tr th:only-of-type {\n",
              "        vertical-align: middle;\n",
              "    }\n",
              "\n",
              "    .dataframe tbody tr th {\n",
              "        vertical-align: top;\n",
              "    }\n",
              "\n",
              "    .dataframe thead th {\n",
              "        text-align: right;\n",
              "    }\n",
              "</style>\n",
              "<table border=\"1\" class=\"dataframe\">\n",
              "  <thead>\n",
              "    <tr style=\"text-align: right;\">\n",
              "      <th></th>\n",
              "      <th>singular</th>\n",
              "      <th>plural</th>\n",
              "    </tr>\n",
              "  </thead>\n",
              "  <tbody>\n",
              "    <tr>\n",
              "      <th>0</th>\n",
              "      <td>ساحة</td>\n",
              "      <td>ساحات</td>\n",
              "    </tr>\n",
              "    <tr>\n",
              "      <th>1</th>\n",
              "      <td>أمر</td>\n",
              "      <td>أمور</td>\n",
              "    </tr>\n",
              "    <tr>\n",
              "      <th>2</th>\n",
              "      <td>أمة</td>\n",
              "      <td>أمم</td>\n",
              "    </tr>\n",
              "    <tr>\n",
              "      <th>3</th>\n",
              "      <td>جلسة</td>\n",
              "      <td>جلسات</td>\n",
              "    </tr>\n",
              "    <tr>\n",
              "      <th>4</th>\n",
              "      <td>ٱتهام</td>\n",
              "      <td>اتهامات</td>\n",
              "    </tr>\n",
              "    <tr>\n",
              "      <th>5</th>\n",
              "      <td>وزارة</td>\n",
              "      <td>وزارات</td>\n",
              "    </tr>\n",
              "    <tr>\n",
              "      <th>6</th>\n",
              "      <td>ملفة</td>\n",
              "      <td>ملفات</td>\n",
              "    </tr>\n",
              "    <tr>\n",
              "      <th>7</th>\n",
              "      <td>مسؤول</td>\n",
              "      <td>مسؤولين</td>\n",
              "    </tr>\n",
              "    <tr>\n",
              "      <th>8</th>\n",
              "      <td>خط</td>\n",
              "      <td>خطوط</td>\n",
              "    </tr>\n",
              "    <tr>\n",
              "      <th>9</th>\n",
              "      <td>ولاية</td>\n",
              "      <td>ولايات</td>\n",
              "    </tr>\n",
              "  </tbody>\n",
              "</table>\n",
              "</div>\n",
              "      <button class=\"colab-df-convert\" onclick=\"convertToInteractive('df-9351bd60-06bb-46ea-a4ad-11829be677fa')\"\n",
              "              title=\"Convert this dataframe to an interactive table.\"\n",
              "              style=\"display:none;\">\n",
              "        \n",
              "  <svg xmlns=\"http://www.w3.org/2000/svg\" height=\"24px\"viewBox=\"0 0 24 24\"\n",
              "       width=\"24px\">\n",
              "    <path d=\"M0 0h24v24H0V0z\" fill=\"none\"/>\n",
              "    <path d=\"M18.56 5.44l.94 2.06.94-2.06 2.06-.94-2.06-.94-.94-2.06-.94 2.06-2.06.94zm-11 1L8.5 8.5l.94-2.06 2.06-.94-2.06-.94L8.5 2.5l-.94 2.06-2.06.94zm10 10l.94 2.06.94-2.06 2.06-.94-2.06-.94-.94-2.06-.94 2.06-2.06.94z\"/><path d=\"M17.41 7.96l-1.37-1.37c-.4-.4-.92-.59-1.43-.59-.52 0-1.04.2-1.43.59L10.3 9.45l-7.72 7.72c-.78.78-.78 2.05 0 2.83L4 21.41c.39.39.9.59 1.41.59.51 0 1.02-.2 1.41-.59l7.78-7.78 2.81-2.81c.8-.78.8-2.07 0-2.86zM5.41 20L4 18.59l7.72-7.72 1.47 1.35L5.41 20z\"/>\n",
              "  </svg>\n",
              "      </button>\n",
              "      \n",
              "  <style>\n",
              "    .colab-df-container {\n",
              "      display:flex;\n",
              "      flex-wrap:wrap;\n",
              "      gap: 12px;\n",
              "    }\n",
              "\n",
              "    .colab-df-convert {\n",
              "      background-color: #E8F0FE;\n",
              "      border: none;\n",
              "      border-radius: 50%;\n",
              "      cursor: pointer;\n",
              "      display: none;\n",
              "      fill: #1967D2;\n",
              "      height: 32px;\n",
              "      padding: 0 0 0 0;\n",
              "      width: 32px;\n",
              "    }\n",
              "\n",
              "    .colab-df-convert:hover {\n",
              "      background-color: #E2EBFA;\n",
              "      box-shadow: 0px 1px 2px rgba(60, 64, 67, 0.3), 0px 1px 3px 1px rgba(60, 64, 67, 0.15);\n",
              "      fill: #174EA6;\n",
              "    }\n",
              "\n",
              "    [theme=dark] .colab-df-convert {\n",
              "      background-color: #3B4455;\n",
              "      fill: #D2E3FC;\n",
              "    }\n",
              "\n",
              "    [theme=dark] .colab-df-convert:hover {\n",
              "      background-color: #434B5C;\n",
              "      box-shadow: 0px 1px 3px 1px rgba(0, 0, 0, 0.15);\n",
              "      filter: drop-shadow(0px 1px 2px rgba(0, 0, 0, 0.3));\n",
              "      fill: #FFFFFF;\n",
              "    }\n",
              "  </style>\n",
              "\n",
              "      <script>\n",
              "        const buttonEl =\n",
              "          document.querySelector('#df-9351bd60-06bb-46ea-a4ad-11829be677fa button.colab-df-convert');\n",
              "        buttonEl.style.display =\n",
              "          google.colab.kernel.accessAllowed ? 'block' : 'none';\n",
              "\n",
              "        async function convertToInteractive(key) {\n",
              "          const element = document.querySelector('#df-9351bd60-06bb-46ea-a4ad-11829be677fa');\n",
              "          const dataTable =\n",
              "            await google.colab.kernel.invokeFunction('convertToInteractive',\n",
              "                                                     [key], {});\n",
              "          if (!dataTable) return;\n",
              "\n",
              "          const docLinkHtml = 'Like what you see? Visit the ' +\n",
              "            '<a target=\"_blank\" href=https://colab.research.google.com/notebooks/data_table.ipynb>data table notebook</a>'\n",
              "            + ' to learn more about interactive tables.';\n",
              "          element.innerHTML = '';\n",
              "          dataTable['output_type'] = 'display_data';\n",
              "          await google.colab.output.renderOutput(dataTable, element);\n",
              "          const docLink = document.createElement('div');\n",
              "          docLink.innerHTML = docLinkHtml;\n",
              "          element.appendChild(docLink);\n",
              "        }\n",
              "      </script>\n",
              "    </div>\n",
              "  </div>\n",
              "  "
            ]
          },
          "metadata": {},
          "execution_count": 5
        }
      ]
    },
    {
      "cell_type": "code",
      "source": [
        "# read the competition test dataset\n",
        "test_df = pd.read_csv('https://raw.githubusercontent.com/sigmorphon/2022InflectionST/main/part2/ara.gold', sep='\\t', header=None)\n",
        "# take only the first and second columns which\n",
        "# contain the sigular and plural forms\n",
        "test_df = test_df.iloc[:, :2]\n",
        "# rename the columns\n",
        "test_df.columns = ['singular', 'plural']\n",
        "# remove the Arabic diacritics from each column\n",
        "for col in test_df.columns:\n",
        "  test_df[col] = test_df[col].apply(lambda x: araby.strip_diacritics(x))\n",
        "\n",
        "# fetch the top 10 rows\n",
        "test_df.head(10)"
      ],
      "metadata": {
        "colab": {
          "base_uri": "https://localhost:8080/",
          "height": 363
        },
        "id": "8z7AKcjhOs8X",
        "outputId": "0ba5c199-d195-4f7c-97f1-7cdacee7ce5e"
      },
      "execution_count": null,
      "outputs": [
        {
          "output_type": "execute_result",
          "data": {
            "text/plain": [
              "  singular    plural\n",
              "0    طربيد  طوربيدات\n",
              "1    مولود    مواليد\n",
              "2    ضروري   ضروريات\n",
              "3     معني    معنيين\n",
              "4     جدار     جدران\n",
              "5    كوليس    كواليس\n",
              "6    حديقة     حدائق\n",
              "7     حياة     حيوات\n",
              "8     دمية       دمى\n",
              "9    تعاقد   تعاقدات"
            ],
            "text/html": [
              "\n",
              "  <div id=\"df-70aaf506-9b40-46ff-a450-77d4be826cbc\">\n",
              "    <div class=\"colab-df-container\">\n",
              "      <div>\n",
              "<style scoped>\n",
              "    .dataframe tbody tr th:only-of-type {\n",
              "        vertical-align: middle;\n",
              "    }\n",
              "\n",
              "    .dataframe tbody tr th {\n",
              "        vertical-align: top;\n",
              "    }\n",
              "\n",
              "    .dataframe thead th {\n",
              "        text-align: right;\n",
              "    }\n",
              "</style>\n",
              "<table border=\"1\" class=\"dataframe\">\n",
              "  <thead>\n",
              "    <tr style=\"text-align: right;\">\n",
              "      <th></th>\n",
              "      <th>singular</th>\n",
              "      <th>plural</th>\n",
              "    </tr>\n",
              "  </thead>\n",
              "  <tbody>\n",
              "    <tr>\n",
              "      <th>0</th>\n",
              "      <td>طربيد</td>\n",
              "      <td>طوربيدات</td>\n",
              "    </tr>\n",
              "    <tr>\n",
              "      <th>1</th>\n",
              "      <td>مولود</td>\n",
              "      <td>مواليد</td>\n",
              "    </tr>\n",
              "    <tr>\n",
              "      <th>2</th>\n",
              "      <td>ضروري</td>\n",
              "      <td>ضروريات</td>\n",
              "    </tr>\n",
              "    <tr>\n",
              "      <th>3</th>\n",
              "      <td>معني</td>\n",
              "      <td>معنيين</td>\n",
              "    </tr>\n",
              "    <tr>\n",
              "      <th>4</th>\n",
              "      <td>جدار</td>\n",
              "      <td>جدران</td>\n",
              "    </tr>\n",
              "    <tr>\n",
              "      <th>5</th>\n",
              "      <td>كوليس</td>\n",
              "      <td>كواليس</td>\n",
              "    </tr>\n",
              "    <tr>\n",
              "      <th>6</th>\n",
              "      <td>حديقة</td>\n",
              "      <td>حدائق</td>\n",
              "    </tr>\n",
              "    <tr>\n",
              "      <th>7</th>\n",
              "      <td>حياة</td>\n",
              "      <td>حيوات</td>\n",
              "    </tr>\n",
              "    <tr>\n",
              "      <th>8</th>\n",
              "      <td>دمية</td>\n",
              "      <td>دمى</td>\n",
              "    </tr>\n",
              "    <tr>\n",
              "      <th>9</th>\n",
              "      <td>تعاقد</td>\n",
              "      <td>تعاقدات</td>\n",
              "    </tr>\n",
              "  </tbody>\n",
              "</table>\n",
              "</div>\n",
              "      <button class=\"colab-df-convert\" onclick=\"convertToInteractive('df-70aaf506-9b40-46ff-a450-77d4be826cbc')\"\n",
              "              title=\"Convert this dataframe to an interactive table.\"\n",
              "              style=\"display:none;\">\n",
              "        \n",
              "  <svg xmlns=\"http://www.w3.org/2000/svg\" height=\"24px\"viewBox=\"0 0 24 24\"\n",
              "       width=\"24px\">\n",
              "    <path d=\"M0 0h24v24H0V0z\" fill=\"none\"/>\n",
              "    <path d=\"M18.56 5.44l.94 2.06.94-2.06 2.06-.94-2.06-.94-.94-2.06-.94 2.06-2.06.94zm-11 1L8.5 8.5l.94-2.06 2.06-.94-2.06-.94L8.5 2.5l-.94 2.06-2.06.94zm10 10l.94 2.06.94-2.06 2.06-.94-2.06-.94-.94-2.06-.94 2.06-2.06.94z\"/><path d=\"M17.41 7.96l-1.37-1.37c-.4-.4-.92-.59-1.43-.59-.52 0-1.04.2-1.43.59L10.3 9.45l-7.72 7.72c-.78.78-.78 2.05 0 2.83L4 21.41c.39.39.9.59 1.41.59.51 0 1.02-.2 1.41-.59l7.78-7.78 2.81-2.81c.8-.78.8-2.07 0-2.86zM5.41 20L4 18.59l7.72-7.72 1.47 1.35L5.41 20z\"/>\n",
              "  </svg>\n",
              "      </button>\n",
              "      \n",
              "  <style>\n",
              "    .colab-df-container {\n",
              "      display:flex;\n",
              "      flex-wrap:wrap;\n",
              "      gap: 12px;\n",
              "    }\n",
              "\n",
              "    .colab-df-convert {\n",
              "      background-color: #E8F0FE;\n",
              "      border: none;\n",
              "      border-radius: 50%;\n",
              "      cursor: pointer;\n",
              "      display: none;\n",
              "      fill: #1967D2;\n",
              "      height: 32px;\n",
              "      padding: 0 0 0 0;\n",
              "      width: 32px;\n",
              "    }\n",
              "\n",
              "    .colab-df-convert:hover {\n",
              "      background-color: #E2EBFA;\n",
              "      box-shadow: 0px 1px 2px rgba(60, 64, 67, 0.3), 0px 1px 3px 1px rgba(60, 64, 67, 0.15);\n",
              "      fill: #174EA6;\n",
              "    }\n",
              "\n",
              "    [theme=dark] .colab-df-convert {\n",
              "      background-color: #3B4455;\n",
              "      fill: #D2E3FC;\n",
              "    }\n",
              "\n",
              "    [theme=dark] .colab-df-convert:hover {\n",
              "      background-color: #434B5C;\n",
              "      box-shadow: 0px 1px 3px 1px rgba(0, 0, 0, 0.15);\n",
              "      filter: drop-shadow(0px 1px 2px rgba(0, 0, 0, 0.3));\n",
              "      fill: #FFFFFF;\n",
              "    }\n",
              "  </style>\n",
              "\n",
              "      <script>\n",
              "        const buttonEl =\n",
              "          document.querySelector('#df-70aaf506-9b40-46ff-a450-77d4be826cbc button.colab-df-convert');\n",
              "        buttonEl.style.display =\n",
              "          google.colab.kernel.accessAllowed ? 'block' : 'none';\n",
              "\n",
              "        async function convertToInteractive(key) {\n",
              "          const element = document.querySelector('#df-70aaf506-9b40-46ff-a450-77d4be826cbc');\n",
              "          const dataTable =\n",
              "            await google.colab.kernel.invokeFunction('convertToInteractive',\n",
              "                                                     [key], {});\n",
              "          if (!dataTable) return;\n",
              "\n",
              "          const docLinkHtml = 'Like what you see? Visit the ' +\n",
              "            '<a target=\"_blank\" href=https://colab.research.google.com/notebooks/data_table.ipynb>data table notebook</a>'\n",
              "            + ' to learn more about interactive tables.';\n",
              "          element.innerHTML = '';\n",
              "          dataTable['output_type'] = 'display_data';\n",
              "          await google.colab.output.renderOutput(dataTable, element);\n",
              "          const docLink = document.createElement('div');\n",
              "          docLink.innerHTML = docLinkHtml;\n",
              "          element.appendChild(docLink);\n",
              "        }\n",
              "      </script>\n",
              "    </div>\n",
              "  </div>\n",
              "  "
            ]
          },
          "metadata": {},
          "execution_count": 6
        }
      ]
    },
    {
      "cell_type": "markdown",
      "metadata": {
        "id": "XTo4mqT9rHp5"
      },
      "source": [
        "# Helper Functions"
      ]
    },
    {
      "cell_type": "code",
      "execution_count": null,
      "metadata": {
        "id": "-jcCv_yBzB15"
      },
      "outputs": [],
      "source": [
        "def indexes_to_word(example):\n",
        "  '''\n",
        "  Args: an array of indexes\n",
        "  Returns: a list of characters\n",
        "  '''\n",
        "  example = example.tolist()\n",
        "  list_of_chars = [index_to_char[idx] for idx in example]\n",
        "  return list_of_chars"
      ]
    },
    {
      "cell_type": "code",
      "execution_count": null,
      "metadata": {
        "id": "W0hLRMfcLBp8"
      },
      "outputs": [],
      "source": [
        "def final_prediction_as_chars(index, return_gold=False):\n",
        "  '''\n",
        "  Args: index in the preditions array, int\n",
        "  Returns: a list of characters of the predictions from the start to the first 's' character\n",
        "  '''\n",
        "  # extract the predictions\n",
        "  example = preds[index]\n",
        "  # flip the predictions (Arabic)\n",
        "  flipped_example = np.flip(example)\n",
        "  # find the position of the first separator index, which is 1\n",
        "  first_separator_index = np.where(flipped_example == 1)[0][0]\n",
        "  # limit the returned sequence to the first separator\n",
        "  predicted_flipped_example = flipped_example[:first_separator_index]\n",
        "  # convert the array into a list\n",
        "  example = np.int32(predicted_flipped_example).tolist()\n",
        "  # convert indexes into characters\n",
        "  pred_chars = [index_to_char[i] for i in example]\n",
        "  # if gold is required, return it\n",
        "  if return_gold:\n",
        "    gold = list(test_df.iloc[index, 1])\n",
        "    return pred_chars, gold\n",
        "  return pred_chars"
      ]
    },
    {
      "cell_type": "code",
      "execution_count": null,
      "metadata": {
        "id": "kHctn34LLT1T"
      },
      "outputs": [],
      "source": [
        "def final_prediction_as_indexes(index, return_gold=False):\n",
        "  '''\n",
        "  Args: index in the preditions array, int\n",
        "  Returns: a list of indexes of the predictions from the start to the index of the first 's' character\n",
        "  '''\n",
        "  # extract the predictions\n",
        "  example = preds[index]\n",
        "  # flip the predictions (Arabic)\n",
        "  flipped_example = np.flip(example)\n",
        "  # find the position of the first separator index, which is 1\n",
        "  first_separator_index = np.where(flipped_example == 1)[0][0]\n",
        "  # limit the returned sequence to the first separator\n",
        "  predicted_flipped_example = flipped_example[:first_separator_index]\n",
        "  # convert the array into a list\n",
        "  pred_indexes = np.int32(predicted_flipped_example).tolist()\n",
        "  # if gold is required, return it\n",
        "  if return_gold:\n",
        "    gold = [char_to_index[char] for char in list(test_df.iloc[index, 1])]\n",
        "    return pred_indexes, gold\n",
        "  return pred_indexes"
      ]
    },
    {
      "cell_type": "code",
      "execution_count": null,
      "metadata": {
        "id": "iJOKh_6CLxCf"
      },
      "outputs": [],
      "source": [
        "def arabic_leven_dis(gold, pred, return_matrix=False):\n",
        "  '''\n",
        "  Levenshtein distance\n",
        "  Args:\n",
        "    gold: list of indexes of the gold characters\n",
        "    pred: list of indexes of the predicted characters\n",
        "  Returns:\n",
        "    Levenshtein distance\n",
        "  '''\n",
        "\n",
        "  # construct a matrix of the correct size\n",
        "  sol = np.zeros((len(pred), len(gold)))\n",
        "\n",
        "  # first row and column\n",
        "  sol[0, :] = np.flip([i for i in range(len(gold))])\n",
        "  sol[:, -1] = [i for i in range(len(pred))]\n",
        "\n",
        "  # fill in the rest\n",
        "  # through every column\n",
        "  for c in reversed(range(len(gold) - 1)):\n",
        "    # through every row\n",
        "    for r in range(1, len(pred)):\n",
        "\n",
        "      # in case not the same corresponding letters, take the minimum value of the above right corner three values (Arabic) + 1 \n",
        "      if gold[c] != pred[-(r+1)]:\n",
        "        sol[r, c] = min(sol[r-1, c+1], sol[r-1, c], sol[r, c+1]) + 1\n",
        "      # in case the corresponding letters are the same, take the upper diagonal value\n",
        "      else:\n",
        "        sol[r, c] = sol[r-1, c+1]\n",
        "\n",
        "  # if the full matrix is required\n",
        "  if return_matrix: \n",
        "    return sol\n",
        "  # if only the minimum number of edits is required\n",
        "  return sol[-1, 0]"
      ]
    },
    {
      "cell_type": "code",
      "execution_count": null,
      "metadata": {
        "id": "_pFCPjtqrE_3"
      },
      "outputs": [],
      "source": [
        "# load the predictions\n",
        "url = 'https://drive.google.com/uc?export=download&id=1G6PUu5q23radFEZNxCtJZ1XVG18GExK5'\n",
        "r = requests.get(url, allow_redirects=True)\n",
        "open('validation_set_prediction_2.npy', 'wb').write(r.content)\n",
        "# read the predictions NumPy array\n",
        "with open('/content/validation_set_prediction_2.npy', 'rb') as f:\n",
        "  preds = np.load(f)"
      ]
    },
    {
      "cell_type": "code",
      "execution_count": null,
      "metadata": {
        "id": "jhksQjDTpV1u"
      },
      "outputs": [],
      "source": [
        "# construct a distances list\n",
        "distances = []\n",
        "# iterate over each plural example in the validation set\n",
        "for i in range(len(test_df)):\n",
        "  # extract the final predicted indexes alongside with the ground truth ones\n",
        "  pred, gold = final_prediction_as_indexes(i, True)\n",
        "  gold = gold + [-1] # add -1 for the '#' in the Levenshtein distance\n",
        "  pred = pred + [-1] # add -1 for the '#' in the Levenshtein distance\n",
        "  # calculate the minimum edits required\n",
        "  dist = arabic_leven_dis(gold, pred)\n",
        "  # append the distance to the distances list\n",
        "  distances.append(dist)\n",
        "\n",
        "# convert the distances list into a NumPy array\n",
        "distances = np.array(distances)"
      ]
    },
    {
      "cell_type": "code",
      "execution_count": null,
      "metadata": {
        "colab": {
          "base_uri": "https://localhost:8080/"
        },
        "id": "chGdjnWn2W3i",
        "outputId": "fd7b608d-edfc-4442-8b72-23eb1762a204"
      },
      "outputs": [
        {
          "output_type": "execute_result",
          "data": {
            "text/plain": [
              "DescribeResult(nobs=600, minmax=(0.0, 7.0), mean=1.625, variance=1.8808430717863105, skewness=0.3576180080411362, kurtosis=-0.5226886976587402)"
            ]
          },
          "metadata": {},
          "execution_count": 13
        }
      ],
      "source": [
        "# print the statistics of the distances array\n",
        "statistics = stats.describe(distances)\n",
        "statistics"
      ]
    },
    {
      "cell_type": "code",
      "execution_count": null,
      "metadata": {
        "colab": {
          "base_uri": "https://localhost:8080/",
          "height": 300
        },
        "id": "ALHVOH2QzsmN",
        "outputId": "413cdc19-54bf-4acd-9409-b6829c02b3df"
      },
      "outputs": [
        {
          "output_type": "execute_result",
          "data": {
            "text/plain": [
              "             dist\n",
              "count  600.000000\n",
              "mean     1.625000\n",
              "std      1.371438\n",
              "min      0.000000\n",
              "25%      0.000000\n",
              "50%      2.000000\n",
              "75%      3.000000\n",
              "max      7.000000"
            ],
            "text/html": [
              "\n",
              "  <div id=\"df-327018d8-12c3-463c-837b-e7c036614e57\">\n",
              "    <div class=\"colab-df-container\">\n",
              "      <div>\n",
              "<style scoped>\n",
              "    .dataframe tbody tr th:only-of-type {\n",
              "        vertical-align: middle;\n",
              "    }\n",
              "\n",
              "    .dataframe tbody tr th {\n",
              "        vertical-align: top;\n",
              "    }\n",
              "\n",
              "    .dataframe thead th {\n",
              "        text-align: right;\n",
              "    }\n",
              "</style>\n",
              "<table border=\"1\" class=\"dataframe\">\n",
              "  <thead>\n",
              "    <tr style=\"text-align: right;\">\n",
              "      <th></th>\n",
              "      <th>dist</th>\n",
              "    </tr>\n",
              "  </thead>\n",
              "  <tbody>\n",
              "    <tr>\n",
              "      <th>count</th>\n",
              "      <td>600.000000</td>\n",
              "    </tr>\n",
              "    <tr>\n",
              "      <th>mean</th>\n",
              "      <td>1.625000</td>\n",
              "    </tr>\n",
              "    <tr>\n",
              "      <th>std</th>\n",
              "      <td>1.371438</td>\n",
              "    </tr>\n",
              "    <tr>\n",
              "      <th>min</th>\n",
              "      <td>0.000000</td>\n",
              "    </tr>\n",
              "    <tr>\n",
              "      <th>25%</th>\n",
              "      <td>0.000000</td>\n",
              "    </tr>\n",
              "    <tr>\n",
              "      <th>50%</th>\n",
              "      <td>2.000000</td>\n",
              "    </tr>\n",
              "    <tr>\n",
              "      <th>75%</th>\n",
              "      <td>3.000000</td>\n",
              "    </tr>\n",
              "    <tr>\n",
              "      <th>max</th>\n",
              "      <td>7.000000</td>\n",
              "    </tr>\n",
              "  </tbody>\n",
              "</table>\n",
              "</div>\n",
              "      <button class=\"colab-df-convert\" onclick=\"convertToInteractive('df-327018d8-12c3-463c-837b-e7c036614e57')\"\n",
              "              title=\"Convert this dataframe to an interactive table.\"\n",
              "              style=\"display:none;\">\n",
              "        \n",
              "  <svg xmlns=\"http://www.w3.org/2000/svg\" height=\"24px\"viewBox=\"0 0 24 24\"\n",
              "       width=\"24px\">\n",
              "    <path d=\"M0 0h24v24H0V0z\" fill=\"none\"/>\n",
              "    <path d=\"M18.56 5.44l.94 2.06.94-2.06 2.06-.94-2.06-.94-.94-2.06-.94 2.06-2.06.94zm-11 1L8.5 8.5l.94-2.06 2.06-.94-2.06-.94L8.5 2.5l-.94 2.06-2.06.94zm10 10l.94 2.06.94-2.06 2.06-.94-2.06-.94-.94-2.06-.94 2.06-2.06.94z\"/><path d=\"M17.41 7.96l-1.37-1.37c-.4-.4-.92-.59-1.43-.59-.52 0-1.04.2-1.43.59L10.3 9.45l-7.72 7.72c-.78.78-.78 2.05 0 2.83L4 21.41c.39.39.9.59 1.41.59.51 0 1.02-.2 1.41-.59l7.78-7.78 2.81-2.81c.8-.78.8-2.07 0-2.86zM5.41 20L4 18.59l7.72-7.72 1.47 1.35L5.41 20z\"/>\n",
              "  </svg>\n",
              "      </button>\n",
              "      \n",
              "  <style>\n",
              "    .colab-df-container {\n",
              "      display:flex;\n",
              "      flex-wrap:wrap;\n",
              "      gap: 12px;\n",
              "    }\n",
              "\n",
              "    .colab-df-convert {\n",
              "      background-color: #E8F0FE;\n",
              "      border: none;\n",
              "      border-radius: 50%;\n",
              "      cursor: pointer;\n",
              "      display: none;\n",
              "      fill: #1967D2;\n",
              "      height: 32px;\n",
              "      padding: 0 0 0 0;\n",
              "      width: 32px;\n",
              "    }\n",
              "\n",
              "    .colab-df-convert:hover {\n",
              "      background-color: #E2EBFA;\n",
              "      box-shadow: 0px 1px 2px rgba(60, 64, 67, 0.3), 0px 1px 3px 1px rgba(60, 64, 67, 0.15);\n",
              "      fill: #174EA6;\n",
              "    }\n",
              "\n",
              "    [theme=dark] .colab-df-convert {\n",
              "      background-color: #3B4455;\n",
              "      fill: #D2E3FC;\n",
              "    }\n",
              "\n",
              "    [theme=dark] .colab-df-convert:hover {\n",
              "      background-color: #434B5C;\n",
              "      box-shadow: 0px 1px 3px 1px rgba(0, 0, 0, 0.15);\n",
              "      filter: drop-shadow(0px 1px 2px rgba(0, 0, 0, 0.3));\n",
              "      fill: #FFFFFF;\n",
              "    }\n",
              "  </style>\n",
              "\n",
              "      <script>\n",
              "        const buttonEl =\n",
              "          document.querySelector('#df-327018d8-12c3-463c-837b-e7c036614e57 button.colab-df-convert');\n",
              "        buttonEl.style.display =\n",
              "          google.colab.kernel.accessAllowed ? 'block' : 'none';\n",
              "\n",
              "        async function convertToInteractive(key) {\n",
              "          const element = document.querySelector('#df-327018d8-12c3-463c-837b-e7c036614e57');\n",
              "          const dataTable =\n",
              "            await google.colab.kernel.invokeFunction('convertToInteractive',\n",
              "                                                     [key], {});\n",
              "          if (!dataTable) return;\n",
              "\n",
              "          const docLinkHtml = 'Like what you see? Visit the ' +\n",
              "            '<a target=\"_blank\" href=https://colab.research.google.com/notebooks/data_table.ipynb>data table notebook</a>'\n",
              "            + ' to learn more about interactive tables.';\n",
              "          element.innerHTML = '';\n",
              "          dataTable['output_type'] = 'display_data';\n",
              "          await google.colab.output.renderOutput(dataTable, element);\n",
              "          const docLink = document.createElement('div');\n",
              "          docLink.innerHTML = docLinkHtml;\n",
              "          element.appendChild(docLink);\n",
              "        }\n",
              "      </script>\n",
              "    </div>\n",
              "  </div>\n",
              "  "
            ]
          },
          "metadata": {},
          "execution_count": 14
        }
      ],
      "source": [
        "# display additional statistics using Pandas methods\n",
        "pd.DataFrame({'dist': distances}).describe()"
      ]
    },
    {
      "cell_type": "code",
      "execution_count": null,
      "metadata": {
        "colab": {
          "base_uri": "https://localhost:8080/",
          "height": 588
        },
        "id": "X-Fw2OnMvGiO",
        "outputId": "91228978-2739-4f9c-ff3f-58c258313588"
      },
      "outputs": [
        {
          "output_type": "stream",
          "name": "stderr",
          "text": [
            "/usr/local/lib/python3.7/dist-packages/seaborn/_decorators.py:43: FutureWarning: Pass the following variable as a keyword arg: x. From version 0.12, the only valid positional argument will be `data`, and passing other arguments without an explicit keyword will result in an error or misinterpretation.\n",
            "  FutureWarning\n"
          ]
        },
        {
          "output_type": "display_data",
          "data": {
            "text/plain": [
              "<Figure size 1200x600 with 2 Axes>"
            ],
            "image/png": "[encoded data removed]"
          },
          "metadata": {
            "needs_background": "light"
          }
        }
      ],
      "source": [
        "plt.figure(figsize=(12, 6), dpi=100)\n",
        "plt.subplot(1, 2, 1)\n",
        "# plot a figure showing the frequencies of each distance value\n",
        "sns.countplot(np.int32(distances), palette=\"Set2\")\n",
        "# plt.box(False)\n",
        "plt.xlabel('Levenshtein Distance')\n",
        "plt.ylabel('Frequency')\n",
        "plt.title('')\n",
        "plt.grid(linestyle='dashed', alpha=1, axis='y')\n",
        "plt.subplot(1, 2, 2)\n",
        "# plot a box plot that shows the distribution of distances\n",
        "sns.boxplot(y=distances, color='darkgrey')\n",
        "plt.ylabel('Levenshtein Distance')\n",
        "# plt.box(False)\n",
        "plt.grid(linestyle='dashed', alpha=1, axis='y')\n",
        "plt.savefig('test_frequency.jpg', dpi=100, bbox_inches='tight')\n",
        "plt.show()"
      ]
    },
    {
      "cell_type": "code",
      "execution_count": null,
      "metadata": {
        "colab": {
          "base_uri": "https://localhost:8080/"
        },
        "id": "7prwOTG2EwXT",
        "outputId": "c0bda0d1-dee3-4a0b-e741-c87b8bc7185f"
      },
      "outputs": [
        {
          "output_type": "stream",
          "name": "stdout",
          "text": [
            "Number of feminine examples: 256\n",
            "Number of masculine examples: 64\n",
            "Number of takseer examples: 280\n"
          ]
        }
      ],
      "source": [
        "# the whole dataset\n",
        "# count the masculine, feminine, and takseer forms based on the word endings\n",
        "feminine_counts = 0\n",
        "masculine_counts = 0\n",
        "takseer_counts = 0\n",
        "\n",
        "# create lists to collect their indexes\n",
        "feminine_indexes = []\n",
        "masculine_indexes = []\n",
        "takseer_indexes = []\n",
        "\n",
        "# go over each word and check whether it is masculine, feminine, or takseer\n",
        "for i, word in enumerate(test_df.iloc[:, -1].values.tolist()):\n",
        "  if word[-2:] == 'ات':\n",
        "    feminine_counts += 1\n",
        "    feminine_indexes.append(i)\n",
        "  elif word[-2:] == 'ين':\n",
        "    masculine_counts += 1\n",
        "    masculine_indexes.append(i)\n",
        "  else:\n",
        "    takseer_counts += 1\n",
        "    takseer_indexes.append(i)\n",
        "\n",
        "print('Number of feminine examples:', feminine_counts)\n",
        "print('Number of masculine examples:', masculine_counts)\n",
        "print('Number of takseer examples:', takseer_counts)"
      ]
    },
    {
      "cell_type": "markdown",
      "metadata": {
        "id": "5troyB9ls4l2"
      },
      "source": [
        "# Intensive Study"
      ]
    },
    {
      "cell_type": "code",
      "execution_count": null,
      "metadata": {
        "colab": {
          "base_uri": "https://localhost:8080/",
          "height": 269
        },
        "id": "xfGbK-nNs3qJ",
        "outputId": "4d058841-e22f-4ec9-eb76-a462fff2c16b"
      },
      "outputs": [
        {
          "output_type": "display_data",
          "data": {
            "text/plain": [
              "   Distance  Counts\n",
              "0         0     191\n",
              "1         1      62\n",
              "2         2     194\n",
              "3         3     101\n",
              "4         4      40\n",
              "5         5      11\n",
              "6         7       1"
            ],
            "text/html": [
              "\n",
              "  <div id=\"df-c6b3b1b2-e6a2-4e18-9221-108ad60a1679\">\n",
              "    <div class=\"colab-df-container\">\n",
              "      <div>\n",
              "<style scoped>\n",
              "    .dataframe tbody tr th:only-of-type {\n",
              "        vertical-align: middle;\n",
              "    }\n",
              "\n",
              "    .dataframe tbody tr th {\n",
              "        vertical-align: top;\n",
              "    }\n",
              "\n",
              "    .dataframe thead th {\n",
              "        text-align: right;\n",
              "    }\n",
              "</style>\n",
              "<table border=\"1\" class=\"dataframe\">\n",
              "  <thead>\n",
              "    <tr style=\"text-align: right;\">\n",
              "      <th></th>\n",
              "      <th>Distance</th>\n",
              "      <th>Counts</th>\n",
              "    </tr>\n",
              "  </thead>\n",
              "  <tbody>\n",
              "    <tr>\n",
              "      <th>0</th>\n",
              "      <td>0</td>\n",
              "      <td>191</td>\n",
              "    </tr>\n",
              "    <tr>\n",
              "      <th>1</th>\n",
              "      <td>1</td>\n",
              "      <td>62</td>\n",
              "    </tr>\n",
              "    <tr>\n",
              "      <th>2</th>\n",
              "      <td>2</td>\n",
              "      <td>194</td>\n",
              "    </tr>\n",
              "    <tr>\n",
              "      <th>3</th>\n",
              "      <td>3</td>\n",
              "      <td>101</td>\n",
              "    </tr>\n",
              "    <tr>\n",
              "      <th>4</th>\n",
              "      <td>4</td>\n",
              "      <td>40</td>\n",
              "    </tr>\n",
              "    <tr>\n",
              "      <th>5</th>\n",
              "      <td>5</td>\n",
              "      <td>11</td>\n",
              "    </tr>\n",
              "    <tr>\n",
              "      <th>6</th>\n",
              "      <td>7</td>\n",
              "      <td>1</td>\n",
              "    </tr>\n",
              "  </tbody>\n",
              "</table>\n",
              "</div>\n",
              "      <button class=\"colab-df-convert\" onclick=\"convertToInteractive('df-c6b3b1b2-e6a2-4e18-9221-108ad60a1679')\"\n",
              "              title=\"Convert this dataframe to an interactive table.\"\n",
              "              style=\"display:none;\">\n",
              "        \n",
              "  <svg xmlns=\"http://www.w3.org/2000/svg\" height=\"24px\"viewBox=\"0 0 24 24\"\n",
              "       width=\"24px\">\n",
              "    <path d=\"M0 0h24v24H0V0z\" fill=\"none\"/>\n",
              "    <path d=\"M18.56 5.44l.94 2.06.94-2.06 2.06-.94-2.06-.94-.94-2.06-.94 2.06-2.06.94zm-11 1L8.5 8.5l.94-2.06 2.06-.94-2.06-.94L8.5 2.5l-.94 2.06-2.06.94zm10 10l.94 2.06.94-2.06 2.06-.94-2.06-.94-.94-2.06-.94 2.06-2.06.94z\"/><path d=\"M17.41 7.96l-1.37-1.37c-.4-.4-.92-.59-1.43-.59-.52 0-1.04.2-1.43.59L10.3 9.45l-7.72 7.72c-.78.78-.78 2.05 0 2.83L4 21.41c.39.39.9.59 1.41.59.51 0 1.02-.2 1.41-.59l7.78-7.78 2.81-2.81c.8-.78.8-2.07 0-2.86zM5.41 20L4 18.59l7.72-7.72 1.47 1.35L5.41 20z\"/>\n",
              "  </svg>\n",
              "      </button>\n",
              "      \n",
              "  <style>\n",
              "    .colab-df-container {\n",
              "      display:flex;\n",
              "      flex-wrap:wrap;\n",
              "      gap: 12px;\n",
              "    }\n",
              "\n",
              "    .colab-df-convert {\n",
              "      background-color: #E8F0FE;\n",
              "      border: none;\n",
              "      border-radius: 50%;\n",
              "      cursor: pointer;\n",
              "      display: none;\n",
              "      fill: #1967D2;\n",
              "      height: 32px;\n",
              "      padding: 0 0 0 0;\n",
              "      width: 32px;\n",
              "    }\n",
              "\n",
              "    .colab-df-convert:hover {\n",
              "      background-color: #E2EBFA;\n",
              "      box-shadow: 0px 1px 2px rgba(60, 64, 67, 0.3), 0px 1px 3px 1px rgba(60, 64, 67, 0.15);\n",
              "      fill: #174EA6;\n",
              "    }\n",
              "\n",
              "    [theme=dark] .colab-df-convert {\n",
              "      background-color: #3B4455;\n",
              "      fill: #D2E3FC;\n",
              "    }\n",
              "\n",
              "    [theme=dark] .colab-df-convert:hover {\n",
              "      background-color: #434B5C;\n",
              "      box-shadow: 0px 1px 3px 1px rgba(0, 0, 0, 0.15);\n",
              "      filter: drop-shadow(0px 1px 2px rgba(0, 0, 0, 0.3));\n",
              "      fill: #FFFFFF;\n",
              "    }\n",
              "  </style>\n",
              "\n",
              "      <script>\n",
              "        const buttonEl =\n",
              "          document.querySelector('#df-c6b3b1b2-e6a2-4e18-9221-108ad60a1679 button.colab-df-convert');\n",
              "        buttonEl.style.display =\n",
              "          google.colab.kernel.accessAllowed ? 'block' : 'none';\n",
              "\n",
              "        async function convertToInteractive(key) {\n",
              "          const element = document.querySelector('#df-c6b3b1b2-e6a2-4e18-9221-108ad60a1679');\n",
              "          const dataTable =\n",
              "            await google.colab.kernel.invokeFunction('convertToInteractive',\n",
              "                                                     [key], {});\n",
              "          if (!dataTable) return;\n",
              "\n",
              "          const docLinkHtml = 'Like what you see? Visit the ' +\n",
              "            '<a target=\"_blank\" href=https://colab.research.google.com/notebooks/data_table.ipynb>data table notebook</a>'\n",
              "            + ' to learn more about interactive tables.';\n",
              "          element.innerHTML = '';\n",
              "          dataTable['output_type'] = 'display_data';\n",
              "          await google.colab.output.renderOutput(dataTable, element);\n",
              "          const docLink = document.createElement('div');\n",
              "          docLink.innerHTML = docLinkHtml;\n",
              "          element.appendChild(docLink);\n",
              "        }\n",
              "      </script>\n",
              "    </div>\n",
              "  </div>\n",
              "  "
            ]
          },
          "metadata": {}
        }
      ],
      "source": [
        "# print(count of each Levenshtein distance)\n",
        "dists = np.unique(np.int32(distances), return_counts=True)[0]\n",
        "couts = np.unique(np.int32(distances), return_counts=True)[1]\n",
        "display(pd.DataFrame({'Distance': dists, 'Counts': couts}))"
      ]
    },
    {
      "cell_type": "code",
      "execution_count": null,
      "metadata": {
        "id": "TrrLyiFts7uJ"
      },
      "outputs": [],
      "source": [
        "# group by each distance value\n",
        "zero_distance_indexes = np.where(distances==0)[0]\n",
        "one_distance_indexes = np.where(distances==1)[0]\n",
        "two_distance_indexes = np.where(distances==2)[0]\n",
        "three_distance_indexes = np.where(distances==3)[0]\n",
        "four_distance_indexes = np.where(distances==4)[0]\n",
        "five_distance_indexes = np.where(distances==5)[0]\n",
        "six_distance_indexes = np.where(distances==6)[0] # empty list (no examples lie in this range)\n",
        "seven_distance_indexes = np.where(distances==7)[0]"
      ]
    },
    {
      "cell_type": "markdown",
      "metadata": {
        "id": "7eVn4CSyzDkg"
      },
      "source": [
        "## Zero Levenshtein Distance (Perfect Match) "
      ]
    },
    {
      "cell_type": "code",
      "execution_count": null,
      "metadata": {
        "id": "Dh31VsHUs7we"
      },
      "outputs": [],
      "source": [
        "# extract a list of the plural forms\n",
        "zero_distance_plural = test_df.iloc[zero_distance_indexes, -1].values.tolist()"
      ]
    },
    {
      "cell_type": "code",
      "execution_count": null,
      "metadata": {
        "colab": {
          "base_uri": "https://localhost:8080/"
        },
        "id": "w0grLslls7y6",
        "outputId": "bf65089e-2a81-4f02-e3ab-3db9d5bded15"
      },
      "outputs": [
        {
          "output_type": "stream",
          "name": "stdout",
          "text": [
            "Number of feminine examples: 156\n",
            "Number of masculine examples: 5\n",
            "Number of takseer examples: 30\n"
          ]
        }
      ],
      "source": [
        "# count the masculine, feminine, and takseer forms based on the word endings\n",
        "feminine_counts = 0\n",
        "masculine_counts = 0\n",
        "takseer_counts = 0\n",
        "\n",
        "# create lists to collect their indexes\n",
        "feminine_indexes = []\n",
        "masculine_indexes = []\n",
        "takseer_indexes = []\n",
        "\n",
        "# go over each word and check whether it is masculine, feminine, or takseer\n",
        "for i, word in enumerate(zero_distance_plural):\n",
        "  if word[-2:] == 'ات':\n",
        "    feminine_counts += 1\n",
        "    feminine_indexes.append(i)\n",
        "  elif word[-2:] == 'ين':\n",
        "    masculine_counts += 1\n",
        "    masculine_indexes.append(i)\n",
        "  else:\n",
        "    takseer_counts += 1\n",
        "    takseer_indexes.append(i)\n",
        "\n",
        "print('Number of feminine examples:', feminine_counts)\n",
        "print('Number of masculine examples:', masculine_counts)\n",
        "print('Number of takseer examples:', takseer_counts)"
      ]
    },
    {
      "cell_type": "code",
      "execution_count": null,
      "metadata": {
        "colab": {
          "base_uri": "https://localhost:8080/"
        },
        "id": "48zzvBKys71J",
        "outputId": "a6c46615-81d6-41f0-c4ef-b8347f5a4695"
      },
      "outputs": [
        {
          "output_type": "stream",
          "name": "stdout",
          "text": [
            "No word in the validation set is in the training set\n"
          ]
        }
      ],
      "source": [
        "# retrieving takseer examples\n",
        "takseer_examples = [zero_distance_plural[i] for i in takseer_indexes]\n",
        "\n",
        "# ensure all takseer examples are not in the training set\n",
        "counts = 0\n",
        "for word in takseer_examples:\n",
        "  if (word in train_df.iloc[:, -1].values.tolist()):\n",
        "    print(f\"{word} is in training set\")\n",
        "    counts += 1\n",
        "if counts == 0:\n",
        "  print(\"No word in the validation set is in the training set\")\n",
        "else:\n",
        "  print('*'*50)\n",
        "  print(f\"{counts} out of {takseer_counts} words is/are in the training set\")"
      ]
    },
    {
      "cell_type": "code",
      "execution_count": null,
      "metadata": {
        "colab": {
          "base_uri": "https://localhost:8080/"
        },
        "id": "NHt6Bguhxkvv",
        "outputId": "6786327a-0ba3-464b-f075-26561fb056aa"
      },
      "outputs": [
        {
          "output_type": "stream",
          "name": "stdout",
          "text": [
            "تقنيات is in training set\n",
            "تشكيلات is in training set\n",
            "ضمانات is in training set\n",
            "مجتمعات is in training set\n",
            "مساعدات is in training set\n",
            "مقررات is in training set\n",
            "**************************************************\n",
            "6 out of 156 words is/are in the training set\n"
          ]
        }
      ],
      "source": [
        "# retrieving feminine examples\n",
        "feminine_examples = [zero_distance_plural[i] for i in feminine_indexes]\n",
        "\n",
        "# ensure all feminine examples are not in the training set\n",
        "counts = 0\n",
        "for word in feminine_examples:\n",
        "  if (word in train_df.iloc[:, -1].values.tolist()):\n",
        "    print(f\"{word} is in training set\")\n",
        "    counts += 1\n",
        "if counts == 0:\n",
        "  print(\"No word in the validation set is in the training set\")\n",
        "else:\n",
        "  print('*'*50)\n",
        "  print(f\"{counts} out of {feminine_counts} words is/are in the training set\")"
      ]
    },
    {
      "cell_type": "code",
      "execution_count": null,
      "metadata": {
        "colab": {
          "base_uri": "https://localhost:8080/"
        },
        "id": "pj6VWunWxkx2",
        "outputId": "66ffcab6-d275-49b4-aaf9-45a610065244"
      },
      "outputs": [
        {
          "output_type": "stream",
          "name": "stdout",
          "text": [
            "No word in the validation set is in the training set\n"
          ]
        }
      ],
      "source": [
        "# retrieving masculine examples\n",
        "masculine_examples = [zero_distance_plural[i] for i in masculine_indexes]\n",
        "\n",
        "# ensure all masculine examples are not in the training set\n",
        "counts = 0\n",
        "for word in masculine_examples:\n",
        "  if (word in train_df.iloc[:, -1].values.tolist()):\n",
        "    print(f\"{word} is in training set\")\n",
        "    counts += 1\n",
        "if counts == 0:\n",
        "  print(\"No word in the validation set is in the training set\")\n",
        "else:\n",
        "  print('*'*50)\n",
        "  print(f\"{counts} out of {masculine_counts} words is/are in the training set\")"
      ]
    },
    {
      "cell_type": "markdown",
      "metadata": {
        "id": "4QgeEZs5zwoo"
      },
      "source": [
        "## One Levenshtein Distance"
      ]
    },
    {
      "cell_type": "code",
      "execution_count": null,
      "metadata": {
        "id": "2bZoZ9dpz6po"
      },
      "outputs": [],
      "source": [
        "# extract a list of the plural forms\n",
        "one_distance_plural = test_df.iloc[one_distance_indexes, -1].values.tolist()"
      ]
    },
    {
      "cell_type": "code",
      "execution_count": null,
      "metadata": {
        "colab": {
          "base_uri": "https://localhost:8080/"
        },
        "id": "ylKy6fu8z19K",
        "outputId": "b75b8ba5-92bd-4dc8-a81b-43de24adefcd"
      },
      "outputs": [
        {
          "output_type": "stream",
          "name": "stdout",
          "text": [
            "Number of feminine examples: 25\n",
            "Number of masculine examples: 1\n",
            "Number of takseer examples: 36\n"
          ]
        }
      ],
      "source": [
        "# count the masculine, feminine, and takseer forms based on the word endings\n",
        "feminine_counts = 0\n",
        "masculine_counts = 0\n",
        "takseer_counts = 0\n",
        "\n",
        "# create lists to collect their indexes\n",
        "feminine_indexes = []\n",
        "masculine_indexes = []\n",
        "takseer_indexes = []\n",
        "\n",
        "# go over each word and check whether it is masculine, feminine, or takseer\n",
        "for i, word in enumerate(one_distance_plural):\n",
        "  if word[-2:] == 'ات':\n",
        "    feminine_counts += 1\n",
        "    feminine_indexes.append(i)\n",
        "  elif word[-2:] == 'ين':\n",
        "    masculine_counts += 1\n",
        "    masculine_indexes.append(i)\n",
        "  else:\n",
        "    takseer_counts += 1\n",
        "    takseer_indexes.append(i)\n",
        "\n",
        "print('Number of feminine examples:', feminine_counts)\n",
        "print('Number of masculine examples:', masculine_counts)\n",
        "print('Number of takseer examples:', takseer_counts)"
      ]
    },
    {
      "cell_type": "code",
      "execution_count": null,
      "metadata": {
        "colab": {
          "base_uri": "https://localhost:8080/"
        },
        "id": "HmGjZia7z19L",
        "outputId": "cfe91414-b058-41fe-f0b6-37f2f8c690ec"
      },
      "outputs": [
        {
          "output_type": "stream",
          "name": "stdout",
          "text": [
            "منشآت is in training set\n",
            "**************************************************\n",
            "1 out of 36 words is/are in the training set\n"
          ]
        }
      ],
      "source": [
        "# retrieving takseer examples\n",
        "takseer_examples = [one_distance_plural[i] for i in takseer_indexes]\n",
        "\n",
        "# ensure all takseer examples are not in the training set\n",
        "counts = 0\n",
        "for word in takseer_examples:\n",
        "  if (word in train_df.iloc[:, -1].values.tolist()):\n",
        "    print(f\"{word} is in training set\")\n",
        "    counts += 1\n",
        "if counts == 0:\n",
        "  print(\"No word in the validation set is in the training set\")\n",
        "else:\n",
        "  print('*'*50)\n",
        "  print(f\"{counts} out of {takseer_counts} words is/are in the training set\")"
      ]
    },
    {
      "cell_type": "code",
      "execution_count": null,
      "metadata": {
        "colab": {
          "base_uri": "https://localhost:8080/"
        },
        "id": "9eFjs8Ghz19L",
        "outputId": "7de724f3-7cd4-4433-990a-184709dbe47a"
      },
      "outputs": [
        {
          "output_type": "stream",
          "name": "stdout",
          "text": [
            "No word in the validation set is in the training set\n"
          ]
        }
      ],
      "source": [
        "# retrieving feminine examples\n",
        "feminine_examples = [one_distance_plural[i] for i in feminine_indexes]\n",
        "\n",
        "# ensure all feminine examples are not in the training set\n",
        "counts = 0\n",
        "for word in feminine_examples:\n",
        "  if (word in train_df.iloc[:, -1].values.tolist()):\n",
        "    print(f\"{word} is in training set\")\n",
        "    counts += 1\n",
        "if counts == 0:\n",
        "  print(\"No word in the validation set is in the training set\")\n",
        "else:\n",
        "  print('*'*50)\n",
        "  print(f\"{counts} out of {feminine_counts} words is/are in the training set\")"
      ]
    },
    {
      "cell_type": "code",
      "execution_count": null,
      "metadata": {
        "colab": {
          "base_uri": "https://localhost:8080/"
        },
        "id": "C03LM1dtz19L",
        "outputId": "64ba3e05-ac15-4e8d-92bf-cb73af7d6af5"
      },
      "outputs": [
        {
          "output_type": "stream",
          "name": "stdout",
          "text": [
            "No word in the validation set is in the training set\n"
          ]
        }
      ],
      "source": [
        "# retrieving masculine examples\n",
        "masculine_examples = [one_distance_plural[i] for i in masculine_indexes]\n",
        "\n",
        "# ensure all masculine examples are not in the training set\n",
        "counts = 0\n",
        "for word in masculine_examples:\n",
        "  if (word in train_df.iloc[:, -1].values.tolist()):\n",
        "    print(f\"{word} is in training set\")\n",
        "    counts += 1\n",
        "if counts == 0:\n",
        "  print(\"No word in the validation set is in the training set\")\n",
        "else:\n",
        "  print('*'*50)\n",
        "  print(f\"{counts} out of {masculine_counts} words is/are in the training set\")"
      ]
    },
    {
      "cell_type": "markdown",
      "metadata": {
        "id": "sNxkWXs90UIJ"
      },
      "source": [
        "## Two Levenshtein Distance"
      ]
    },
    {
      "cell_type": "code",
      "execution_count": null,
      "metadata": {
        "id": "uKMBr39S0UIK"
      },
      "outputs": [],
      "source": [
        "# extract a list of the plural forms\n",
        "two_distance_plural = test_df.iloc[two_distance_indexes, -1].values.tolist()"
      ]
    },
    {
      "cell_type": "code",
      "execution_count": null,
      "metadata": {
        "colab": {
          "base_uri": "https://localhost:8080/"
        },
        "id": "1f6OANmf0UIL",
        "outputId": "b64f8f99-92ef-447c-dc37-85214e8a0334"
      },
      "outputs": [
        {
          "output_type": "stream",
          "name": "stdout",
          "text": [
            "Number of feminine examples: 54\n",
            "Number of masculine examples: 30\n",
            "Number of takseer examples: 110\n"
          ]
        }
      ],
      "source": [
        "# count the masculine, feminine, and takseer forms based on the word endings\n",
        "feminine_counts = 0\n",
        "masculine_counts = 0\n",
        "takseer_counts = 0\n",
        "\n",
        "# create lists to collect their indexes\n",
        "feminine_indexes = []\n",
        "masculine_indexes = []\n",
        "takseer_indexes = []\n",
        "\n",
        "# go over each word and check whether it is masculine, feminine, or takseer\n",
        "for i, word in enumerate(two_distance_plural):\n",
        "  if word[-2:] == 'ات':\n",
        "    feminine_counts += 1\n",
        "    feminine_indexes.append(i)\n",
        "  elif word[-2:] == 'ين':\n",
        "    masculine_counts += 1\n",
        "    masculine_indexes.append(i)\n",
        "  else:\n",
        "    takseer_counts += 1\n",
        "    takseer_indexes.append(i)\n",
        "\n",
        "print('Number of feminine examples:', feminine_counts)\n",
        "print('Number of masculine examples:', masculine_counts)\n",
        "print('Number of takseer examples:', takseer_counts)"
      ]
    },
    {
      "cell_type": "code",
      "execution_count": null,
      "metadata": {
        "colab": {
          "base_uri": "https://localhost:8080/"
        },
        "id": "sF6iUdzO0UIM",
        "outputId": "3d179285-594b-4c33-f5d6-1cf1c0d60975"
      },
      "outputs": [
        {
          "output_type": "stream",
          "name": "stdout",
          "text": [
            "عموم is in training set\n",
            "**************************************************\n",
            "1 out of 110 words is/are in the training set\n"
          ]
        }
      ],
      "source": [
        "# retrieving takseer examples\n",
        "takseer_examples = [two_distance_plural[i] for i in takseer_indexes]\n",
        "\n",
        "# ensure all takseer examples are not in the training set\n",
        "counts = 0\n",
        "for word in takseer_examples:\n",
        "  if (word in train_df.iloc[:, -1].values.tolist()):\n",
        "    print(f\"{word} is in training set\")\n",
        "    counts += 1\n",
        "if counts == 0:\n",
        "  print(\"No word in the validation set is in the training set\")\n",
        "else:\n",
        "  print('*'*50)\n",
        "  print(f\"{counts} out of {takseer_counts} words is/are in the training set\")"
      ]
    },
    {
      "cell_type": "code",
      "execution_count": null,
      "metadata": {
        "colab": {
          "base_uri": "https://localhost:8080/"
        },
        "id": "aRvkNU2b0UIN",
        "outputId": "caccb809-dbec-4bbd-8863-3c554fda3fdf"
      },
      "outputs": [
        {
          "output_type": "stream",
          "name": "stdout",
          "text": [
            "إستراتيجيات is in training set\n",
            "لوحات is in training set\n",
            "تقديمات is in training set\n",
            "**************************************************\n",
            "3 out of 54 words is/are in the training set\n"
          ]
        }
      ],
      "source": [
        "# retrieving feminine examples\n",
        "feminine_examples = [two_distance_plural[i] for i in feminine_indexes]\n",
        "\n",
        "# ensure all feminine examples are not in the training set\n",
        "counts = 0\n",
        "for word in feminine_examples:\n",
        "  if (word in train_df.iloc[:, -1].values.tolist()):\n",
        "    print(f\"{word} is in training set\")\n",
        "    counts += 1\n",
        "if counts == 0:\n",
        "  print(\"No word in the validation set is in the training set\")\n",
        "else:\n",
        "  print('*'*50)\n",
        "  print(f\"{counts} out of {feminine_counts} words is/are in the training set\")"
      ]
    },
    {
      "cell_type": "code",
      "execution_count": null,
      "metadata": {
        "colab": {
          "base_uri": "https://localhost:8080/"
        },
        "id": "fQ3pUCna0UIO",
        "outputId": "d21c0dc7-d3e9-48f0-be25-265d6a1f30ed"
      },
      "outputs": [
        {
          "output_type": "stream",
          "name": "stdout",
          "text": [
            "متهمين is in training set\n",
            "**************************************************\n",
            "1 out of 30 words is/are in the training set\n"
          ]
        }
      ],
      "source": [
        "# retrieving masculine examples\n",
        "masculine_examples = [two_distance_plural[i] for i in masculine_indexes]\n",
        "\n",
        "# ensure all masculine examples are not in the training set\n",
        "counts = 0\n",
        "for word in masculine_examples:\n",
        "  if (word in train_df.iloc[:, -1].values.tolist()):\n",
        "    print(f\"{word} is in training set\")\n",
        "    counts += 1\n",
        "if counts == 0:\n",
        "  print(\"No word in the validation set is in the training set\")\n",
        "else:\n",
        "  print('*'*50)\n",
        "  print(f\"{counts} out of {masculine_counts} words is/are in the training set\")"
      ]
    },
    {
      "cell_type": "markdown",
      "metadata": {
        "id": "9HR3FycN0jTG"
      },
      "source": [
        "## Three Levenshtein Distance"
      ]
    },
    {
      "cell_type": "code",
      "execution_count": null,
      "metadata": {
        "id": "JKIwBaji0jTH"
      },
      "outputs": [],
      "source": [
        "# extract a list of the plural forms\n",
        "three_distance_plural = test_df.iloc[three_distance_indexes, -1].values.tolist()"
      ]
    },
    {
      "cell_type": "code",
      "execution_count": null,
      "metadata": {
        "colab": {
          "base_uri": "https://localhost:8080/"
        },
        "id": "Lmu73ygu0jTH",
        "outputId": "ea088772-be2e-4a26-f5de-003eb0177fd9"
      },
      "outputs": [
        {
          "output_type": "stream",
          "name": "stdout",
          "text": [
            "Number of feminine examples: 13\n",
            "Number of masculine examples: 20\n",
            "Number of takseer examples: 68\n"
          ]
        }
      ],
      "source": [
        "# count the masculine, feminine, and takseer forms based on the word endings\n",
        "feminine_counts = 0\n",
        "masculine_counts = 0\n",
        "takseer_counts = 0\n",
        "\n",
        "# create lists to collect their indexes\n",
        "feminine_indexes = []\n",
        "masculine_indexes = []\n",
        "takseer_indexes = []\n",
        "\n",
        "# go over each word and check whether it is masculine, feminine, or takseer\n",
        "for i, word in enumerate(three_distance_plural):\n",
        "  if word[-2:] == 'ات':\n",
        "    feminine_counts += 1\n",
        "    feminine_indexes.append(i)\n",
        "  elif word[-2:] == 'ين':\n",
        "    masculine_counts += 1\n",
        "    masculine_indexes.append(i)\n",
        "  else:\n",
        "    takseer_counts += 1\n",
        "    takseer_indexes.append(i)\n",
        "\n",
        "print('Number of feminine examples:', feminine_counts)\n",
        "print('Number of masculine examples:', masculine_counts)\n",
        "print('Number of takseer examples:', takseer_counts)"
      ]
    },
    {
      "cell_type": "code",
      "execution_count": null,
      "metadata": {
        "colab": {
          "base_uri": "https://localhost:8080/"
        },
        "id": "qFHAwTRm0jTH",
        "outputId": "0807dac4-7023-4753-aa24-e6ce3803bd9b"
      },
      "outputs": [
        {
          "output_type": "stream",
          "name": "stdout",
          "text": [
            "أعلام is in training set\n",
            "**************************************************\n",
            "1 out of 68 words is/are in the training set\n"
          ]
        }
      ],
      "source": [
        "# retrieving takseer examples\n",
        "takseer_examples = [three_distance_plural[i] for i in takseer_indexes]\n",
        "\n",
        "# ensure all takseer examples are not in the training set\n",
        "counts = 0\n",
        "for word in takseer_examples:\n",
        "  if (word in train_df.iloc[:, -1].values.tolist()):\n",
        "    print(f\"{word} is in training set\")\n",
        "    counts += 1\n",
        "if counts == 0:\n",
        "  print(\"No word in the validation set is in the training set\")\n",
        "else:\n",
        "  print('*'*50)\n",
        "  print(f\"{counts} out of {takseer_counts} words is/are in the training set\")"
      ]
    },
    {
      "cell_type": "code",
      "execution_count": null,
      "metadata": {
        "colab": {
          "base_uri": "https://localhost:8080/"
        },
        "id": "VpNuR4To0jTI",
        "outputId": "5b533e2c-0921-47c3-935d-32e809203531"
      },
      "outputs": [
        {
          "output_type": "stream",
          "name": "stdout",
          "text": [
            "No word in the validation set is in the training set\n"
          ]
        }
      ],
      "source": [
        "# retrieving feminine examples\n",
        "feminine_examples = [three_distance_plural[i] for i in feminine_indexes]\n",
        "\n",
        "# ensure all feminine examples are not in the training set\n",
        "counts = 0\n",
        "for word in feminine_examples:\n",
        "  if (word in train_df.iloc[:, -1].values.tolist()):\n",
        "    print(f\"{word} is in training set\")\n",
        "    counts += 1\n",
        "if counts == 0:\n",
        "  print(\"No word in the validation set is in the training set\")\n",
        "else:\n",
        "  print('*'*50)\n",
        "  print(f\"{counts} out of {feminine_counts} words is/are in the training set\")"
      ]
    },
    {
      "cell_type": "code",
      "execution_count": null,
      "metadata": {
        "colab": {
          "base_uri": "https://localhost:8080/"
        },
        "id": "0qRmnHRg0jTI",
        "outputId": "acaada43-15f8-4f9d-c6d2-c9ecc6d7211e"
      },
      "outputs": [
        {
          "output_type": "stream",
          "name": "stdout",
          "text": [
            "No word in the validation set is in the training set\n"
          ]
        }
      ],
      "source": [
        "# retrieving masculine examples\n",
        "masculine_examples = [three_distance_plural[i] for i in masculine_indexes]\n",
        "\n",
        "# ensure all masculine examples are not in the training set\n",
        "counts = 0\n",
        "for word in masculine_examples:\n",
        "  if (word in train_df.iloc[:, -1].values.tolist()):\n",
        "    print(f\"{word} is in training set\")\n",
        "    counts += 1\n",
        "if counts == 0:\n",
        "  print(\"No word in the validation set is in the training set\")\n",
        "else:\n",
        "  print('*'*50)\n",
        "  print(f\"{counts} out of {masculine_counts} words is/are in the training set\")"
      ]
    },
    {
      "cell_type": "markdown",
      "metadata": {
        "id": "b8S63w9303eK"
      },
      "source": [
        "## Four Levenshtein Distance"
      ]
    },
    {
      "cell_type": "code",
      "execution_count": null,
      "metadata": {
        "id": "aUIjdwSu03eK"
      },
      "outputs": [],
      "source": [
        "# extract a list of the plural forms\n",
        "four_distance_plural = test_df.iloc[four_distance_indexes, -1].values.tolist()"
      ]
    },
    {
      "cell_type": "code",
      "execution_count": null,
      "metadata": {
        "colab": {
          "base_uri": "https://localhost:8080/"
        },
        "id": "bGLg64F303eK",
        "outputId": "ed88c823-1b4f-437b-bcb6-54ac6f433d8e"
      },
      "outputs": [
        {
          "output_type": "stream",
          "name": "stdout",
          "text": [
            "Number of feminine examples: 7\n",
            "Number of masculine examples: 6\n",
            "Number of takseer examples: 27\n"
          ]
        }
      ],
      "source": [
        "# count the masculine, feminine, and takseer forms based on the word endings\n",
        "feminine_counts = 0\n",
        "masculine_counts = 0\n",
        "takseer_counts = 0\n",
        "\n",
        "# create lists to collect their indexes\n",
        "feminine_indexes = []\n",
        "masculine_indexes = []\n",
        "takseer_indexes = []\n",
        "\n",
        "# go over each word and check whether it is masculine, feminine, or takseer\n",
        "for i, word in enumerate(four_distance_plural):\n",
        "  if word[-2:] == 'ات':\n",
        "    feminine_counts += 1\n",
        "    feminine_indexes.append(i)\n",
        "  elif word[-2:] == 'ين':\n",
        "    masculine_counts += 1\n",
        "    masculine_indexes.append(i)\n",
        "  else:\n",
        "    takseer_counts += 1\n",
        "    takseer_indexes.append(i)\n",
        "\n",
        "print('Number of feminine examples:', feminine_counts)\n",
        "print('Number of masculine examples:', masculine_counts)\n",
        "print('Number of takseer examples:', takseer_counts)"
      ]
    },
    {
      "cell_type": "code",
      "execution_count": null,
      "metadata": {
        "colab": {
          "base_uri": "https://localhost:8080/"
        },
        "id": "eicMkxpU03eK",
        "outputId": "ecf64e4a-9932-4ee1-a0d4-c8122e264e56"
      },
      "outputs": [
        {
          "output_type": "stream",
          "name": "stdout",
          "text": [
            "No word in the validation set is in the training set\n"
          ]
        }
      ],
      "source": [
        "# retrieving takseer examples\n",
        "takseer_examples = [four_distance_plural[i] for i in takseer_indexes]\n",
        "\n",
        "# ensure all takseer examples are not in the training set\n",
        "counts = 0\n",
        "for word in takseer_examples:\n",
        "  if (word in train_df.iloc[:, -1].values.tolist()):\n",
        "    print(f\"{word} is in training set\")\n",
        "    counts += 1\n",
        "if counts == 0:\n",
        "  print(\"No word in the validation set is in the training set\")\n",
        "else:\n",
        "  print('*'*50)\n",
        "  print(f\"{counts} out of {takseer_counts} words is/are in the training set\")"
      ]
    },
    {
      "cell_type": "code",
      "execution_count": null,
      "metadata": {
        "colab": {
          "base_uri": "https://localhost:8080/"
        },
        "id": "Y1wUS9T103eL",
        "outputId": "28be3189-20ee-4f42-a9b6-817227c7e058"
      },
      "outputs": [
        {
          "output_type": "stream",
          "name": "stdout",
          "text": [
            "No word in the validation set is in the training set\n"
          ]
        }
      ],
      "source": [
        "# retrieving feminine examples\n",
        "feminine_examples = [four_distance_plural[i] for i in feminine_indexes]\n",
        "\n",
        "# ensure all feminine examples are not in the training set\n",
        "counts = 0\n",
        "for word in feminine_examples:\n",
        "  if (word in train_df.iloc[:, -1].values.tolist()):\n",
        "    print(f\"{word} is in training set\")\n",
        "    counts += 1\n",
        "if counts == 0:\n",
        "  print(\"No word in the validation set is in the training set\")\n",
        "else:\n",
        "  print('*'*50)\n",
        "  print(f\"{counts} out of {feminine_counts} words is/are in the training set\")"
      ]
    },
    {
      "cell_type": "code",
      "execution_count": null,
      "metadata": {
        "colab": {
          "base_uri": "https://localhost:8080/"
        },
        "id": "BIL5_Wzp03eL",
        "outputId": "7963967f-9185-4264-be58-fe60b8613f9a"
      },
      "outputs": [
        {
          "output_type": "stream",
          "name": "stdout",
          "text": [
            "No word in the validation set is in the training set\n"
          ]
        }
      ],
      "source": [
        "# retrieving masculine examples\n",
        "masculine_examples = [four_distance_plural[i] for i in masculine_indexes]\n",
        "\n",
        "# ensure all masculine examples are not in the training set\n",
        "counts = 0\n",
        "for word in masculine_examples:\n",
        "  if (word in train_df.iloc[:, -1].values.tolist()):\n",
        "    print(f\"{word} is in training set\")\n",
        "    counts += 1\n",
        "if counts == 0:\n",
        "  print(\"No word in the validation set is in the training set\")\n",
        "else:\n",
        "  print('*'*50)\n",
        "  print(f\"{counts} out of {masculine_counts} words is/are in the training set\")"
      ]
    },
    {
      "cell_type": "markdown",
      "metadata": {
        "id": "--ewUo5u1TpE"
      },
      "source": [
        "## Five Levenshtein Distance"
      ]
    },
    {
      "cell_type": "code",
      "execution_count": null,
      "metadata": {
        "id": "Xlc76GWs1TpP"
      },
      "outputs": [],
      "source": [
        "# extract a list of the plural forms\n",
        "five_distance_plural = test_df.iloc[five_distance_indexes, -1].values.tolist()"
      ]
    },
    {
      "cell_type": "code",
      "execution_count": null,
      "metadata": {
        "colab": {
          "base_uri": "https://localhost:8080/"
        },
        "id": "OZ2rVLKL1TpP",
        "outputId": "d8d6692e-7612-40d1-e369-1394010e6dbe"
      },
      "outputs": [
        {
          "output_type": "stream",
          "name": "stdout",
          "text": [
            "Number of feminine examples: 1\n",
            "Number of masculine examples: 1\n",
            "Number of takseer examples: 9\n"
          ]
        }
      ],
      "source": [
        "# count the masculine, feminine, and takseer forms based on the word endings\n",
        "feminine_counts = 0\n",
        "masculine_counts = 0\n",
        "takseer_counts = 0\n",
        "\n",
        "# create lists to collect their indexes\n",
        "feminine_indexes = []\n",
        "masculine_indexes = []\n",
        "takseer_indexes = []\n",
        "\n",
        "# go over each word and check whether it is masculine, feminine, or takseer\n",
        "for i, word in enumerate(five_distance_plural):\n",
        "  if word[-2:] == 'ات':\n",
        "    feminine_counts += 1\n",
        "    feminine_indexes.append(i)\n",
        "  elif word[-2:] == 'ين':\n",
        "    masculine_counts += 1\n",
        "    masculine_indexes.append(i)\n",
        "  else:\n",
        "    takseer_counts += 1\n",
        "    takseer_indexes.append(i)\n",
        "\n",
        "print('Number of feminine examples:', feminine_counts)\n",
        "print('Number of masculine examples:', masculine_counts)\n",
        "print('Number of takseer examples:', takseer_counts)"
      ]
    },
    {
      "cell_type": "code",
      "execution_count": null,
      "metadata": {
        "colab": {
          "base_uri": "https://localhost:8080/"
        },
        "id": "xq6bL16L1TpQ",
        "outputId": "bbe2749c-8009-4251-ebe0-ec0cf5ce9ed4"
      },
      "outputs": [
        {
          "output_type": "stream",
          "name": "stdout",
          "text": [
            "No word in the validation set is in the training set\n"
          ]
        }
      ],
      "source": [
        "# retrieving takseer examples\n",
        "takseer_examples = [five_distance_plural[i] for i in takseer_indexes]\n",
        "\n",
        "# ensure all takseer examples are not in the training set\n",
        "counts = 0\n",
        "for word in takseer_examples:\n",
        "  if (word in train_df.iloc[:, -1].values.tolist()):\n",
        "    print(f\"{word} is in training set\")\n",
        "    counts += 1\n",
        "if counts == 0:\n",
        "  print(\"No word in the validation set is in the training set\")\n",
        "else:\n",
        "  print('*'*50)\n",
        "  print(f\"{counts} out of {takseer_counts} words is/are in the training set\")"
      ]
    },
    {
      "cell_type": "code",
      "execution_count": null,
      "metadata": {
        "colab": {
          "base_uri": "https://localhost:8080/"
        },
        "id": "ayXq-nKS1TpQ",
        "outputId": "7d49c284-5af5-4abb-aa98-cd6f0299e7bb"
      },
      "outputs": [
        {
          "output_type": "stream",
          "name": "stdout",
          "text": [
            "No word in the validation set is in the training set\n"
          ]
        }
      ],
      "source": [
        "# retrieving feminine examples\n",
        "feminine_examples = [five_distance_plural[i] for i in feminine_indexes]\n",
        "\n",
        "# ensure all feminine examples are not in the training set\n",
        "counts = 0\n",
        "for word in feminine_examples:\n",
        "  if (word in train_df.iloc[:, -1].values.tolist()):\n",
        "    print(f\"{word} is in training set\")\n",
        "    counts += 1\n",
        "if counts == 0:\n",
        "  print(\"No word in the validation set is in the training set\")\n",
        "else:\n",
        "  print('*'*50)\n",
        "  print(f\"{counts} out of {feminine_counts} words is/are in the training set\")"
      ]
    },
    {
      "cell_type": "code",
      "execution_count": null,
      "metadata": {
        "colab": {
          "base_uri": "https://localhost:8080/"
        },
        "id": "3Wh5nnPx1TpQ",
        "outputId": "77506d2b-555a-4cfe-c722-066f9225dd82"
      },
      "outputs": [
        {
          "output_type": "stream",
          "name": "stdout",
          "text": [
            "No word in the validation set is in the training set\n"
          ]
        }
      ],
      "source": [
        "# retrieving masculine examples\n",
        "masculine_examples = [five_distance_plural[i] for i in masculine_indexes]\n",
        "\n",
        "# ensure all masculine examples are not in the training set\n",
        "counts = 0\n",
        "for word in masculine_examples:\n",
        "  if (word in train_df.iloc[:, -1].values.tolist()):\n",
        "    print(f\"{word} is in training set\")\n",
        "    counts += 1\n",
        "if counts == 0:\n",
        "  print(\"No word in the validation set is in the training set\")\n",
        "else:\n",
        "  print('*'*50)\n",
        "  print(f\"{counts} out of {masculine_counts} words is/are in the training set\")"
      ]
    },
    {
      "cell_type": "markdown",
      "metadata": {
        "id": "cr3ZQELw1hHU"
      },
      "source": [
        "## Seven Levenshtein Distance"
      ]
    },
    {
      "cell_type": "code",
      "execution_count": null,
      "metadata": {
        "id": "WeUsyNBo1hHe"
      },
      "outputs": [],
      "source": [
        "# extract a list of the plural forms\n",
        "seven_distance_plural = test_df.iloc[seven_distance_indexes, -1].values.tolist()"
      ]
    },
    {
      "cell_type": "code",
      "execution_count": null,
      "metadata": {
        "colab": {
          "base_uri": "https://localhost:8080/"
        },
        "id": "NitKBXgM1hHe",
        "outputId": "a687364b-9be7-4324-d854-94dbbb8e7f30"
      },
      "outputs": [
        {
          "output_type": "stream",
          "name": "stdout",
          "text": [
            "Number of feminine examples: 0\n",
            "Number of masculine examples: 1\n",
            "Number of takseer examples: 0\n"
          ]
        }
      ],
      "source": [
        "# count the masculine, feminine, and takseer forms based on the word endings\n",
        "feminine_counts = 0\n",
        "masculine_counts = 0\n",
        "takseer_counts = 0\n",
        "\n",
        "# create lists to collect their indexes\n",
        "feminine_indexes = []\n",
        "masculine_indexes = []\n",
        "takseer_indexes = []\n",
        "\n",
        "# go over each word and check whether it is masculine, feminine, or takseer\n",
        "for i, word in enumerate(seven_distance_plural):\n",
        "  if word[-2:] == 'ات':\n",
        "    feminine_counts += 1\n",
        "    feminine_indexes.append(i)\n",
        "  elif word[-2:] == 'ين':\n",
        "    masculine_counts += 1\n",
        "    masculine_indexes.append(i)\n",
        "  else:\n",
        "    takseer_counts += 1\n",
        "    takseer_indexes.append(i)\n",
        "\n",
        "print('Number of feminine examples:', feminine_counts)\n",
        "print('Number of masculine examples:', masculine_counts)\n",
        "print('Number of takseer examples:', takseer_counts)"
      ]
    },
    {
      "cell_type": "code",
      "execution_count": null,
      "metadata": {
        "colab": {
          "base_uri": "https://localhost:8080/"
        },
        "id": "Yy5L0FF41hHf",
        "outputId": "b6053325-d9ae-4036-c46f-3481003396d6"
      },
      "outputs": [
        {
          "output_type": "stream",
          "name": "stdout",
          "text": [
            "No word in the validation set is in the training set\n"
          ]
        }
      ],
      "source": [
        "# retrieving takseer examples\n",
        "takseer_examples = [seven_distance_plural[i] for i in takseer_indexes]\n",
        "\n",
        "# ensure all takseer examples are not in the training set\n",
        "counts = 0\n",
        "for word in takseer_examples:\n",
        "  if (word in train_df.iloc[:, -1].values.tolist()):\n",
        "    print(f\"{word} is in training set\")\n",
        "    counts += 1\n",
        "if counts == 0:\n",
        "  print(\"No word in the validation set is in the training set\")\n",
        "else:\n",
        "  print('*'*50)\n",
        "  print(f\"{counts} out of {takseer_counts} words is/are in the training set\")"
      ]
    },
    {
      "cell_type": "code",
      "execution_count": null,
      "metadata": {
        "colab": {
          "base_uri": "https://localhost:8080/"
        },
        "id": "QALX_jHJ1hHf",
        "outputId": "aff30f77-a7be-4b34-a517-9ba5ec088316"
      },
      "outputs": [
        {
          "output_type": "stream",
          "name": "stdout",
          "text": [
            "No word in the validation set is in the training set\n"
          ]
        }
      ],
      "source": [
        "# retrieving feminine examples\n",
        "feminine_examples = [seven_distance_plural[i] for i in feminine_indexes]\n",
        "\n",
        "# ensure all feminine examples are not in the training set\n",
        "counts = 0\n",
        "for word in feminine_examples:\n",
        "  if (word in train_df.iloc[:, -1].values.tolist()):\n",
        "    print(f\"{word} is in training set\")\n",
        "    counts += 1\n",
        "if counts == 0:\n",
        "  print(\"No word in the validation set is in the training set\")\n",
        "else:\n",
        "  print('*'*50)\n",
        "  print(f\"{counts} out of {feminine_counts} words is/are in the training set\")"
      ]
    },
    {
      "cell_type": "code",
      "execution_count": null,
      "metadata": {
        "colab": {
          "base_uri": "https://localhost:8080/"
        },
        "id": "OXg_xSvM1hHf",
        "outputId": "bdfd9476-dfe3-4c11-bca0-39a2d3b18290"
      },
      "outputs": [
        {
          "output_type": "stream",
          "name": "stdout",
          "text": [
            "No word in the validation set is in the training set\n"
          ]
        }
      ],
      "source": [
        "# retrieving masculine examples\n",
        "masculine_examples = [seven_distance_plural[i] for i in masculine_indexes]\n",
        "\n",
        "# ensure all masculine examples are not in the training set\n",
        "counts = 0\n",
        "for word in masculine_examples:\n",
        "  if (word in train_df.iloc[:, -1].values.tolist()):\n",
        "    print(f\"{word} is in training set\")\n",
        "    counts += 1\n",
        "if counts == 0:\n",
        "  print(\"No word in the validation set is in the training set\")\n",
        "else:\n",
        "  print('*'*50)\n",
        "  print(f\"{counts} out of {masculine_counts} words is/are in the training set\")"
      ]
    },
    {
      "cell_type": "markdown",
      "metadata": {
        "id": "DDCFpho88JS3"
      },
      "source": [
        "## Visualization"
      ]
    },
    {
      "cell_type": "code",
      "execution_count": null,
      "metadata": {
        "id": "gdzwU3hs8sRk"
      },
      "outputs": [],
      "source": [
        "# create a dictionary that contains the examples of each distance value\n",
        "dict_ = dict()\n",
        "dict_['zero_distance_plural'] = test_df.iloc[zero_distance_indexes, -1].values.tolist()\n",
        "dict_['one_distance_plural'] = test_df.iloc[one_distance_indexes, -1].values.tolist()\n",
        "dict_['two_distance_plural'] = test_df.iloc[two_distance_indexes, -1].values.tolist()\n",
        "dict_['three_distance_plural'] = test_df.iloc[three_distance_indexes, -1].values.tolist()\n",
        "dict_['four_distance_plural'] = test_df.iloc[four_distance_indexes, -1].values.tolist()\n",
        "dict_['five_distance_plural'] = test_df.iloc[five_distance_indexes, -1].values.tolist()\n",
        "dict_['seven_distance_plural'] = test_df.iloc[seven_distance_indexes, -1].values.tolist()\n",
        "\n",
        "# create a list to hold the counts across distances\n",
        "feminine_counts_list = []\n",
        "masculine_counts_list = []\n",
        "takseer_counts_list = []\n",
        "\n",
        "for key in [*dict_]:\n",
        "  # count the masculine, feminine, and takseer forms based on the word endings\n",
        "  feminine_counts = 0\n",
        "  masculine_counts = 0\n",
        "  takseer_counts = 0\n",
        "  # go over each word and check whether it is masculine, feminine, or takseer\n",
        "  for i, word in enumerate(dict_[key]):\n",
        "    if word[-2:] == 'ات':\n",
        "      feminine_counts += 1\n",
        "    elif word[-2:] == 'ين':\n",
        "      masculine_counts += 1\n",
        "    else:\n",
        "      takseer_counts += 1\n",
        "  # append counts for each category\n",
        "  feminine_counts_list.append(feminine_counts)\n",
        "  masculine_counts_list.append(masculine_counts)\n",
        "  takseer_counts_list.append(takseer_counts)"
      ]
    },
    {
      "cell_type": "code",
      "execution_count": null,
      "metadata": {
        "colab": {
          "base_uri": "https://localhost:8080/",
          "height": 608
        },
        "id": "IWBwH-kd8IQM",
        "outputId": "fe7327b4-95a1-4a6f-f675-484edeedd18e"
      },
      "outputs": [
        {
          "output_type": "display_data",
          "data": {
            "text/plain": [
              "<Figure size 1200x700 with 1 Axes>"
            ],
            "image/png": "[encoded data removed]"
          },
          "metadata": {
            "needs_background": "light"
          }
        }
      ],
      "source": [
        "# plot a bar chart showing the distribution of the three classes in \n",
        "# distance value\n",
        "plt.figure(figsize=(12, 7), dpi=100)\n",
        "X = [f'Distance {i}' for i in range(8) if i != 6]\n",
        "X_axis = np.arange(len(X))\n",
        "  \n",
        "plt.bar(X_axis - 0.1, feminine_counts_list, 0.2, label = 'Feminine', color='plum')\n",
        "plt.bar(X_axis + 0.1, masculine_counts_list, 0.2, label = 'Masculine', color='steelblue')\n",
        "plt.bar(X_axis + 0.3, takseer_counts_list, 0.2, label = 'Irregular', color='darkgray')\n",
        "\n",
        "  \n",
        "plt.xticks(X_axis, X)\n",
        "plt.xlabel(\"Distances\")\n",
        "plt.ylabel(\"Number of Words\")\n",
        "# plt.title(\"Number of Words in Each Distance Range\")\n",
        "plt.legend()\n",
        "plt.grid(linestyle='dashed', axis='y')\n",
        "plt.savefig('number of words in each distance range.jpg', dpi=100, bbox_inches='tight')"
      ]
    },
    {
      "cell_type": "code",
      "execution_count": null,
      "metadata": {
        "id": "DoLE7HmKxIbO"
      },
      "outputs": [],
      "source": [
        ""
      ]
    }
  ],
  "metadata": {
    "colab": {
      "collapsed_sections": [],
      "name": "04-b - Error Analysis Test Set.ipynb",
      "provenance": []
    },
    "kernelspec": {
      "display_name": "Python 3 (ipykernel)",
      "language": "python",
      "name": "python3"
    },
    "language_info": {
      "codemirror_mode": {
        "name": "ipython",
        "version": 3
      },
      "file_extension": ".py",
      "mimetype": "text/x-python",
      "name": "python",
      "nbconvert_exporter": "python",
      "pygments_lexer": "ipython3",
      "version": "3.8.10"
    }
  },
  "nbformat": 4,
  "nbformat_minor": 0
}