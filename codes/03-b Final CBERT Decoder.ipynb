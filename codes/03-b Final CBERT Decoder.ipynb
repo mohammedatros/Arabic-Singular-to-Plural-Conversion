{
  "cells": [
    {
      "cell_type": "markdown",
      "metadata": {
        "id": "Rf_dUQL_lcOz"
      },
      "source": [
        "# Imports"
      ]
    },
    {
      "cell_type": "code",
      "execution_count": null,
      "metadata": {
        "colab": {
          "base_uri": "https://localhost:8080/"
        },
        "id": "tytDsTGlCs2q",
        "outputId": "c7036d9d-d575-404a-85a2-23fc44d27edc"
      },
      "outputs": [
        {
          "output_type": "stream",
          "name": "stdout",
          "text": [
            "Looking in indexes: https://pypi.org/simple, https://us-python.pkg.dev/colab-wheels/public/simple/\n",
            "Collecting PyArabic\n",
            "  Downloading PyArabic-0.6.15-py3-none-any.whl (126 kB)\n",
            "\u001b[K     |████████████████████████████████| 126 kB 5.2 MB/s \n",
            "\u001b[?25hRequirement already satisfied: six>=1.14.0 in /usr/local/lib/python3.7/dist-packages (from PyArabic) (1.15.0)\n",
            "Installing collected packages: PyArabic\n",
            "Successfully installed PyArabic-0.6.15\n"
          ]
        }
      ],
      "source": [
        "# install PyArabic library for Arabic preprocessing\n",
        "!pip install PyArabic"
      ]
    },
    {
      "cell_type": "code",
      "execution_count": null,
      "metadata": {
        "colab": {
          "base_uri": "https://localhost:8080/"
        },
        "id": "tB3hTHNrc_vN",
        "outputId": "27d26799-fa80-408f-95c2-b2136d4d04a2"
      },
      "outputs": [
        {
          "output_type": "stream",
          "name": "stdout",
          "text": [
            "Looking in indexes: https://pypi.org/simple, https://us-python.pkg.dev/colab-wheels/public/simple/\n",
            "Collecting tensorflow_addons\n",
            "  Downloading tensorflow_addons-0.17.1-cp37-cp37m-manylinux_2_17_x86_64.manylinux2014_x86_64.whl (1.1 MB)\n",
            "\u001b[K     |████████████████████████████████| 1.1 MB 5.5 MB/s \n",
            "\u001b[?25hRequirement already satisfied: packaging in /usr/local/lib/python3.7/dist-packages (from tensorflow_addons) (21.3)\n",
            "Requirement already satisfied: typeguard>=2.7 in /usr/local/lib/python3.7/dist-packages (from tensorflow_addons) (2.7.1)\n",
            "Requirement already satisfied: pyparsing!=3.0.5,>=2.0.2 in /usr/local/lib/python3.7/dist-packages (from packaging->tensorflow_addons) (3.0.9)\n",
            "Installing collected packages: tensorflow-addons\n",
            "Successfully installed tensorflow-addons-0.17.1\n"
          ]
        }
      ],
      "source": [
        "# install tensorflow_addons for AdamW optimizer\n",
        "!pip install tensorflow_addons"
      ]
    },
    {
      "cell_type": "code",
      "source": [
        "!pip install gdown"
      ],
      "metadata": {
        "colab": {
          "base_uri": "https://localhost:8080/"
        },
        "id": "N10dIx7iCSV5",
        "outputId": "60893f2d-18db-4312-e50a-9cfcb0037f9e"
      },
      "execution_count": null,
      "outputs": [
        {
          "output_type": "stream",
          "name": "stdout",
          "text": [
            "Looking in indexes: https://pypi.org/simple, https://us-python.pkg.dev/colab-wheels/public/simple/\n",
            "Requirement already satisfied: gdown in /usr/local/lib/python3.7/dist-packages (4.4.0)\n",
            "Requirement already satisfied: filelock in /usr/local/lib/python3.7/dist-packages (from gdown) (3.7.1)\n",
            "Requirement already satisfied: beautifulsoup4 in /usr/local/lib/python3.7/dist-packages (from gdown) (4.6.3)\n",
            "Requirement already satisfied: tqdm in /usr/local/lib/python3.7/dist-packages (from gdown) (4.64.0)\n",
            "Requirement already satisfied: six in /usr/local/lib/python3.7/dist-packages (from gdown) (1.15.0)\n",
            "Requirement already satisfied: requests[socks] in /usr/local/lib/python3.7/dist-packages (from gdown) (2.23.0)\n",
            "Requirement already satisfied: idna<3,>=2.5 in /usr/local/lib/python3.7/dist-packages (from requests[socks]->gdown) (2.10)\n",
            "Requirement already satisfied: urllib3!=1.25.0,!=1.25.1,<1.26,>=1.21.1 in /usr/local/lib/python3.7/dist-packages (from requests[socks]->gdown) (1.24.3)\n",
            "Requirement already satisfied: chardet<4,>=3.0.2 in /usr/local/lib/python3.7/dist-packages (from requests[socks]->gdown) (3.0.4)\n",
            "Requirement already satisfied: certifi>=2017.4.17 in /usr/local/lib/python3.7/dist-packages (from requests[socks]->gdown) (2022.6.15)\n",
            "Requirement already satisfied: PySocks!=1.5.7,>=1.5.6 in /usr/local/lib/python3.7/dist-packages (from requests[socks]->gdown) (1.7.1)\n"
          ]
        }
      ]
    },
    {
      "cell_type": "code",
      "execution_count": null,
      "metadata": {
        "id": "Q6nYX2Lsfeki"
      },
      "outputs": [],
      "source": [
        "# Standard libraries imports\n",
        "import io\n",
        "import re\n",
        "import ast\n",
        "import math\n",
        "import gdown\n",
        "import requests\n",
        "import numpy as np\n",
        "import pandas as pd\n",
        "from tqdm import tqdm\n",
        "from lxml import etree\n",
        "import pyarabic.araby as araby\n",
        "\n",
        "import tensorflow as tf\n",
        "import tensorflow_addons as tfa\n",
        "from tensorflow.keras import layers"
      ]
    },
    {
      "cell_type": "code",
      "execution_count": null,
      "metadata": {
        "colab": {
          "base_uri": "https://localhost:8080/",
          "height": 363
        },
        "id": "ipxlWMCgBYSc",
        "outputId": "6dafea74-9b6e-4ee0-c171-24f71577ab5c"
      },
      "outputs": [
        {
          "output_type": "execute_result",
          "data": {
            "text/plain": [
              "  singular   plural\n",
              "0     ساحة    ساحات\n",
              "1      أمر     أمور\n",
              "2      أمة      أمم\n",
              "3     جلسة    جلسات\n",
              "4    ٱتهام  اتهامات\n",
              "5    وزارة   وزارات\n",
              "6     ملفة    ملفات\n",
              "7    مسؤول  مسؤولين\n",
              "8       خط     خطوط\n",
              "9    ولاية   ولايات"
            ],
            "text/html": [
              "\n",
              "  <div id=\"df-704799f6-3675-4b48-888d-7786785572ce\">\n",
              "    <div class=\"colab-df-container\">\n",
              "      <div>\n",
              "<style scoped>\n",
              "    .dataframe tbody tr th:only-of-type {\n",
              "        vertical-align: middle;\n",
              "    }\n",
              "\n",
              "    .dataframe tbody tr th {\n",
              "        vertical-align: top;\n",
              "    }\n",
              "\n",
              "    .dataframe thead th {\n",
              "        text-align: right;\n",
              "    }\n",
              "</style>\n",
              "<table border=\"1\" class=\"dataframe\">\n",
              "  <thead>\n",
              "    <tr style=\"text-align: right;\">\n",
              "      <th></th>\n",
              "      <th>singular</th>\n",
              "      <th>plural</th>\n",
              "    </tr>\n",
              "  </thead>\n",
              "  <tbody>\n",
              "    <tr>\n",
              "      <th>0</th>\n",
              "      <td>ساحة</td>\n",
              "      <td>ساحات</td>\n",
              "    </tr>\n",
              "    <tr>\n",
              "      <th>1</th>\n",
              "      <td>أمر</td>\n",
              "      <td>أمور</td>\n",
              "    </tr>\n",
              "    <tr>\n",
              "      <th>2</th>\n",
              "      <td>أمة</td>\n",
              "      <td>أمم</td>\n",
              "    </tr>\n",
              "    <tr>\n",
              "      <th>3</th>\n",
              "      <td>جلسة</td>\n",
              "      <td>جلسات</td>\n",
              "    </tr>\n",
              "    <tr>\n",
              "      <th>4</th>\n",
              "      <td>ٱتهام</td>\n",
              "      <td>اتهامات</td>\n",
              "    </tr>\n",
              "    <tr>\n",
              "      <th>5</th>\n",
              "      <td>وزارة</td>\n",
              "      <td>وزارات</td>\n",
              "    </tr>\n",
              "    <tr>\n",
              "      <th>6</th>\n",
              "      <td>ملفة</td>\n",
              "      <td>ملفات</td>\n",
              "    </tr>\n",
              "    <tr>\n",
              "      <th>7</th>\n",
              "      <td>مسؤول</td>\n",
              "      <td>مسؤولين</td>\n",
              "    </tr>\n",
              "    <tr>\n",
              "      <th>8</th>\n",
              "      <td>خط</td>\n",
              "      <td>خطوط</td>\n",
              "    </tr>\n",
              "    <tr>\n",
              "      <th>9</th>\n",
              "      <td>ولاية</td>\n",
              "      <td>ولايات</td>\n",
              "    </tr>\n",
              "  </tbody>\n",
              "</table>\n",
              "</div>\n",
              "      <button class=\"colab-df-convert\" onclick=\"convertToInteractive('df-704799f6-3675-4b48-888d-7786785572ce')\"\n",
              "              title=\"Convert this dataframe to an interactive table.\"\n",
              "              style=\"display:none;\">\n",
              "        \n",
              "  <svg xmlns=\"http://www.w3.org/2000/svg\" height=\"24px\"viewBox=\"0 0 24 24\"\n",
              "       width=\"24px\">\n",
              "    <path d=\"M0 0h24v24H0V0z\" fill=\"none\"/>\n",
              "    <path d=\"M18.56 5.44l.94 2.06.94-2.06 2.06-.94-2.06-.94-.94-2.06-.94 2.06-2.06.94zm-11 1L8.5 8.5l.94-2.06 2.06-.94-2.06-.94L8.5 2.5l-.94 2.06-2.06.94zm10 10l.94 2.06.94-2.06 2.06-.94-2.06-.94-.94-2.06-.94 2.06-2.06.94z\"/><path d=\"M17.41 7.96l-1.37-1.37c-.4-.4-.92-.59-1.43-.59-.52 0-1.04.2-1.43.59L10.3 9.45l-7.72 7.72c-.78.78-.78 2.05 0 2.83L4 21.41c.39.39.9.59 1.41.59.51 0 1.02-.2 1.41-.59l7.78-7.78 2.81-2.81c.8-.78.8-2.07 0-2.86zM5.41 20L4 18.59l7.72-7.72 1.47 1.35L5.41 20z\"/>\n",
              "  </svg>\n",
              "      </button>\n",
              "      \n",
              "  <style>\n",
              "    .colab-df-container {\n",
              "      display:flex;\n",
              "      flex-wrap:wrap;\n",
              "      gap: 12px;\n",
              "    }\n",
              "\n",
              "    .colab-df-convert {\n",
              "      background-color: #E8F0FE;\n",
              "      border: none;\n",
              "      border-radius: 50%;\n",
              "      cursor: pointer;\n",
              "      display: none;\n",
              "      fill: #1967D2;\n",
              "      height: 32px;\n",
              "      padding: 0 0 0 0;\n",
              "      width: 32px;\n",
              "    }\n",
              "\n",
              "    .colab-df-convert:hover {\n",
              "      background-color: #E2EBFA;\n",
              "      box-shadow: 0px 1px 2px rgba(60, 64, 67, 0.3), 0px 1px 3px 1px rgba(60, 64, 67, 0.15);\n",
              "      fill: #174EA6;\n",
              "    }\n",
              "\n",
              "    [theme=dark] .colab-df-convert {\n",
              "      background-color: #3B4455;\n",
              "      fill: #D2E3FC;\n",
              "    }\n",
              "\n",
              "    [theme=dark] .colab-df-convert:hover {\n",
              "      background-color: #434B5C;\n",
              "      box-shadow: 0px 1px 3px 1px rgba(0, 0, 0, 0.15);\n",
              "      filter: drop-shadow(0px 1px 2px rgba(0, 0, 0, 0.3));\n",
              "      fill: #FFFFFF;\n",
              "    }\n",
              "  </style>\n",
              "\n",
              "      <script>\n",
              "        const buttonEl =\n",
              "          document.querySelector('#df-704799f6-3675-4b48-888d-7786785572ce button.colab-df-convert');\n",
              "        buttonEl.style.display =\n",
              "          google.colab.kernel.accessAllowed ? 'block' : 'none';\n",
              "\n",
              "        async function convertToInteractive(key) {\n",
              "          const element = document.querySelector('#df-704799f6-3675-4b48-888d-7786785572ce');\n",
              "          const dataTable =\n",
              "            await google.colab.kernel.invokeFunction('convertToInteractive',\n",
              "                                                     [key], {});\n",
              "          if (!dataTable) return;\n",
              "\n",
              "          const docLinkHtml = 'Like what you see? Visit the ' +\n",
              "            '<a target=\"_blank\" href=https://colab.research.google.com/notebooks/data_table.ipynb>data table notebook</a>'\n",
              "            + ' to learn more about interactive tables.';\n",
              "          element.innerHTML = '';\n",
              "          dataTable['output_type'] = 'display_data';\n",
              "          await google.colab.output.renderOutput(dataTable, element);\n",
              "          const docLink = document.createElement('div');\n",
              "          docLink.innerHTML = docLinkHtml;\n",
              "          element.appendChild(docLink);\n",
              "        }\n",
              "      </script>\n",
              "    </div>\n",
              "  </div>\n",
              "  "
            ]
          },
          "metadata": {},
          "execution_count": 5
        }
      ],
      "source": [
        "# read the competition training dataset\n",
        "train_df = pd.read_csv('https://raw.githubusercontent.com/sigmorphon/2022InflectionST/main/part2/ara_1000.train', sep='\\t', header=None)\n",
        "# take only the first and second columns which\n",
        "# contain the sigular and plural forms\n",
        "train_df = train_df.iloc[:, :2]\n",
        "# rename the columns\n",
        "train_df.columns = ['singular', 'plural']\n",
        "# remove the Arabic diacritics from each column\n",
        "for col in train_df.columns:\n",
        "  train_df[col] = train_df[col].apply(lambda x: araby.strip_diacritics(x))\n",
        "\n",
        "# fetch the top 10 rows\n",
        "train_df.head(10)"
      ]
    },
    {
      "cell_type": "code",
      "execution_count": null,
      "metadata": {
        "colab": {
          "base_uri": "https://localhost:8080/",
          "height": 363
        },
        "id": "tEoPasI8MsEj",
        "outputId": "900aed2e-4a08-4449-c14f-a798166aee9e"
      },
      "outputs": [
        {
          "output_type": "execute_result",
          "data": {
            "text/plain": [
              "  singular    plural\n",
              "0     تهمة       تهم\n",
              "1     مانع     موانع\n",
              "2      بعد     أبعاد\n",
              "3    توظيف   توظيفات\n",
              "4      خطر     أخطار\n",
              "5     مسلك     مسالك\n",
              "6   متحالف  متحالفين\n",
              "7      فار     فارين\n",
              "8      بحث     أبحاث\n",
              "9     نزاع    نزاعات"
            ],
            "text/html": [
              "\n",
              "  <div id=\"df-c6679f3a-0612-47fc-81cb-0320ae9be71b\">\n",
              "    <div class=\"colab-df-container\">\n",
              "      <div>\n",
              "<style scoped>\n",
              "    .dataframe tbody tr th:only-of-type {\n",
              "        vertical-align: middle;\n",
              "    }\n",
              "\n",
              "    .dataframe tbody tr th {\n",
              "        vertical-align: top;\n",
              "    }\n",
              "\n",
              "    .dataframe thead th {\n",
              "        text-align: right;\n",
              "    }\n",
              "</style>\n",
              "<table border=\"1\" class=\"dataframe\">\n",
              "  <thead>\n",
              "    <tr style=\"text-align: right;\">\n",
              "      <th></th>\n",
              "      <th>singular</th>\n",
              "      <th>plural</th>\n",
              "    </tr>\n",
              "  </thead>\n",
              "  <tbody>\n",
              "    <tr>\n",
              "      <th>0</th>\n",
              "      <td>تهمة</td>\n",
              "      <td>تهم</td>\n",
              "    </tr>\n",
              "    <tr>\n",
              "      <th>1</th>\n",
              "      <td>مانع</td>\n",
              "      <td>موانع</td>\n",
              "    </tr>\n",
              "    <tr>\n",
              "      <th>2</th>\n",
              "      <td>بعد</td>\n",
              "      <td>أبعاد</td>\n",
              "    </tr>\n",
              "    <tr>\n",
              "      <th>3</th>\n",
              "      <td>توظيف</td>\n",
              "      <td>توظيفات</td>\n",
              "    </tr>\n",
              "    <tr>\n",
              "      <th>4</th>\n",
              "      <td>خطر</td>\n",
              "      <td>أخطار</td>\n",
              "    </tr>\n",
              "    <tr>\n",
              "      <th>5</th>\n",
              "      <td>مسلك</td>\n",
              "      <td>مسالك</td>\n",
              "    </tr>\n",
              "    <tr>\n",
              "      <th>6</th>\n",
              "      <td>متحالف</td>\n",
              "      <td>متحالفين</td>\n",
              "    </tr>\n",
              "    <tr>\n",
              "      <th>7</th>\n",
              "      <td>فار</td>\n",
              "      <td>فارين</td>\n",
              "    </tr>\n",
              "    <tr>\n",
              "      <th>8</th>\n",
              "      <td>بحث</td>\n",
              "      <td>أبحاث</td>\n",
              "    </tr>\n",
              "    <tr>\n",
              "      <th>9</th>\n",
              "      <td>نزاع</td>\n",
              "      <td>نزاعات</td>\n",
              "    </tr>\n",
              "  </tbody>\n",
              "</table>\n",
              "</div>\n",
              "      <button class=\"colab-df-convert\" onclick=\"convertToInteractive('df-c6679f3a-0612-47fc-81cb-0320ae9be71b')\"\n",
              "              title=\"Convert this dataframe to an interactive table.\"\n",
              "              style=\"display:none;\">\n",
              "        \n",
              "  <svg xmlns=\"http://www.w3.org/2000/svg\" height=\"24px\"viewBox=\"0 0 24 24\"\n",
              "       width=\"24px\">\n",
              "    <path d=\"M0 0h24v24H0V0z\" fill=\"none\"/>\n",
              "    <path d=\"M18.56 5.44l.94 2.06.94-2.06 2.06-.94-2.06-.94-.94-2.06-.94 2.06-2.06.94zm-11 1L8.5 8.5l.94-2.06 2.06-.94-2.06-.94L8.5 2.5l-.94 2.06-2.06.94zm10 10l.94 2.06.94-2.06 2.06-.94-2.06-.94-.94-2.06-.94 2.06-2.06.94z\"/><path d=\"M17.41 7.96l-1.37-1.37c-.4-.4-.92-.59-1.43-.59-.52 0-1.04.2-1.43.59L10.3 9.45l-7.72 7.72c-.78.78-.78 2.05 0 2.83L4 21.41c.39.39.9.59 1.41.59.51 0 1.02-.2 1.41-.59l7.78-7.78 2.81-2.81c.8-.78.8-2.07 0-2.86zM5.41 20L4 18.59l7.72-7.72 1.47 1.35L5.41 20z\"/>\n",
              "  </svg>\n",
              "      </button>\n",
              "      \n",
              "  <style>\n",
              "    .colab-df-container {\n",
              "      display:flex;\n",
              "      flex-wrap:wrap;\n",
              "      gap: 12px;\n",
              "    }\n",
              "\n",
              "    .colab-df-convert {\n",
              "      background-color: #E8F0FE;\n",
              "      border: none;\n",
              "      border-radius: 50%;\n",
              "      cursor: pointer;\n",
              "      display: none;\n",
              "      fill: #1967D2;\n",
              "      height: 32px;\n",
              "      padding: 0 0 0 0;\n",
              "      width: 32px;\n",
              "    }\n",
              "\n",
              "    .colab-df-convert:hover {\n",
              "      background-color: #E2EBFA;\n",
              "      box-shadow: 0px 1px 2px rgba(60, 64, 67, 0.3), 0px 1px 3px 1px rgba(60, 64, 67, 0.15);\n",
              "      fill: #174EA6;\n",
              "    }\n",
              "\n",
              "    [theme=dark] .colab-df-convert {\n",
              "      background-color: #3B4455;\n",
              "      fill: #D2E3FC;\n",
              "    }\n",
              "\n",
              "    [theme=dark] .colab-df-convert:hover {\n",
              "      background-color: #434B5C;\n",
              "      box-shadow: 0px 1px 3px 1px rgba(0, 0, 0, 0.15);\n",
              "      filter: drop-shadow(0px 1px 2px rgba(0, 0, 0, 0.3));\n",
              "      fill: #FFFFFF;\n",
              "    }\n",
              "  </style>\n",
              "\n",
              "      <script>\n",
              "        const buttonEl =\n",
              "          document.querySelector('#df-c6679f3a-0612-47fc-81cb-0320ae9be71b button.colab-df-convert');\n",
              "        buttonEl.style.display =\n",
              "          google.colab.kernel.accessAllowed ? 'block' : 'none';\n",
              "\n",
              "        async function convertToInteractive(key) {\n",
              "          const element = document.querySelector('#df-c6679f3a-0612-47fc-81cb-0320ae9be71b');\n",
              "          const dataTable =\n",
              "            await google.colab.kernel.invokeFunction('convertToInteractive',\n",
              "                                                     [key], {});\n",
              "          if (!dataTable) return;\n",
              "\n",
              "          const docLinkHtml = 'Like what you see? Visit the ' +\n",
              "            '<a target=\"_blank\" href=https://colab.research.google.com/notebooks/data_table.ipynb>data table notebook</a>'\n",
              "            + ' to learn more about interactive tables.';\n",
              "          element.innerHTML = '';\n",
              "          dataTable['output_type'] = 'display_data';\n",
              "          await google.colab.output.renderOutput(dataTable, element);\n",
              "          const docLink = document.createElement('div');\n",
              "          docLink.innerHTML = docLinkHtml;\n",
              "          element.appendChild(docLink);\n",
              "        }\n",
              "      </script>\n",
              "    </div>\n",
              "  </div>\n",
              "  "
            ]
          },
          "metadata": {},
          "execution_count": 6
        }
      ],
      "source": [
        "# read the competition validation dataset\n",
        "valid_df = pd.read_csv('https://raw.githubusercontent.com/sigmorphon/2022InflectionST/main/part2/ara.dev', sep='\\t', header=None)\n",
        "# take only the first and second columns which\n",
        "# contain the sigular and plural forms\n",
        "valid_df = valid_df.iloc[:, :2]\n",
        "# rename the columns\n",
        "valid_df.columns = ['singular', 'plural']\n",
        "# remove the Arabic diacritics from each column\n",
        "for col in valid_df.columns:\n",
        "  valid_df[col] = valid_df[col].apply(lambda x: araby.strip_diacritics(x))\n",
        "\n",
        "# fetch the top 10 rows\n",
        "valid_df.head(10)"
      ]
    },
    {
      "cell_type": "code",
      "execution_count": null,
      "metadata": {
        "colab": {
          "base_uri": "https://localhost:8080/",
          "height": 363
        },
        "id": "HolNCK6UT_nc",
        "outputId": "965b9c27-4a71-4b59-f019-63decdfd0b57"
      },
      "outputs": [
        {
          "output_type": "execute_result",
          "data": {
            "text/plain": [
              "  singular    plural\n",
              "0    طربيد  طوربيدات\n",
              "1    مولود    مواليد\n",
              "2    ضروري   ضروريات\n",
              "3     معني    معنيين\n",
              "4     جدار     جدران\n",
              "5    كوليس    كواليس\n",
              "6    حديقة     حدائق\n",
              "7     حياة     حيوات\n",
              "8     دمية       دمى\n",
              "9    تعاقد   تعاقدات"
            ],
            "text/html": [
              "\n",
              "  <div id=\"df-afbdf881-fc6d-4671-a1da-a6067bfaec66\">\n",
              "    <div class=\"colab-df-container\">\n",
              "      <div>\n",
              "<style scoped>\n",
              "    .dataframe tbody tr th:only-of-type {\n",
              "        vertical-align: middle;\n",
              "    }\n",
              "\n",
              "    .dataframe tbody tr th {\n",
              "        vertical-align: top;\n",
              "    }\n",
              "\n",
              "    .dataframe thead th {\n",
              "        text-align: right;\n",
              "    }\n",
              "</style>\n",
              "<table border=\"1\" class=\"dataframe\">\n",
              "  <thead>\n",
              "    <tr style=\"text-align: right;\">\n",
              "      <th></th>\n",
              "      <th>singular</th>\n",
              "      <th>plural</th>\n",
              "    </tr>\n",
              "  </thead>\n",
              "  <tbody>\n",
              "    <tr>\n",
              "      <th>0</th>\n",
              "      <td>طربيد</td>\n",
              "      <td>طوربيدات</td>\n",
              "    </tr>\n",
              "    <tr>\n",
              "      <th>1</th>\n",
              "      <td>مولود</td>\n",
              "      <td>مواليد</td>\n",
              "    </tr>\n",
              "    <tr>\n",
              "      <th>2</th>\n",
              "      <td>ضروري</td>\n",
              "      <td>ضروريات</td>\n",
              "    </tr>\n",
              "    <tr>\n",
              "      <th>3</th>\n",
              "      <td>معني</td>\n",
              "      <td>معنيين</td>\n",
              "    </tr>\n",
              "    <tr>\n",
              "      <th>4</th>\n",
              "      <td>جدار</td>\n",
              "      <td>جدران</td>\n",
              "    </tr>\n",
              "    <tr>\n",
              "      <th>5</th>\n",
              "      <td>كوليس</td>\n",
              "      <td>كواليس</td>\n",
              "    </tr>\n",
              "    <tr>\n",
              "      <th>6</th>\n",
              "      <td>حديقة</td>\n",
              "      <td>حدائق</td>\n",
              "    </tr>\n",
              "    <tr>\n",
              "      <th>7</th>\n",
              "      <td>حياة</td>\n",
              "      <td>حيوات</td>\n",
              "    </tr>\n",
              "    <tr>\n",
              "      <th>8</th>\n",
              "      <td>دمية</td>\n",
              "      <td>دمى</td>\n",
              "    </tr>\n",
              "    <tr>\n",
              "      <th>9</th>\n",
              "      <td>تعاقد</td>\n",
              "      <td>تعاقدات</td>\n",
              "    </tr>\n",
              "  </tbody>\n",
              "</table>\n",
              "</div>\n",
              "      <button class=\"colab-df-convert\" onclick=\"convertToInteractive('df-afbdf881-fc6d-4671-a1da-a6067bfaec66')\"\n",
              "              title=\"Convert this dataframe to an interactive table.\"\n",
              "              style=\"display:none;\">\n",
              "        \n",
              "  <svg xmlns=\"http://www.w3.org/2000/svg\" height=\"24px\"viewBox=\"0 0 24 24\"\n",
              "       width=\"24px\">\n",
              "    <path d=\"M0 0h24v24H0V0z\" fill=\"none\"/>\n",
              "    <path d=\"M18.56 5.44l.94 2.06.94-2.06 2.06-.94-2.06-.94-.94-2.06-.94 2.06-2.06.94zm-11 1L8.5 8.5l.94-2.06 2.06-.94-2.06-.94L8.5 2.5l-.94 2.06-2.06.94zm10 10l.94 2.06.94-2.06 2.06-.94-2.06-.94-.94-2.06-.94 2.06-2.06.94z\"/><path d=\"M17.41 7.96l-1.37-1.37c-.4-.4-.92-.59-1.43-.59-.52 0-1.04.2-1.43.59L10.3 9.45l-7.72 7.72c-.78.78-.78 2.05 0 2.83L4 21.41c.39.39.9.59 1.41.59.51 0 1.02-.2 1.41-.59l7.78-7.78 2.81-2.81c.8-.78.8-2.07 0-2.86zM5.41 20L4 18.59l7.72-7.72 1.47 1.35L5.41 20z\"/>\n",
              "  </svg>\n",
              "      </button>\n",
              "      \n",
              "  <style>\n",
              "    .colab-df-container {\n",
              "      display:flex;\n",
              "      flex-wrap:wrap;\n",
              "      gap: 12px;\n",
              "    }\n",
              "\n",
              "    .colab-df-convert {\n",
              "      background-color: #E8F0FE;\n",
              "      border: none;\n",
              "      border-radius: 50%;\n",
              "      cursor: pointer;\n",
              "      display: none;\n",
              "      fill: #1967D2;\n",
              "      height: 32px;\n",
              "      padding: 0 0 0 0;\n",
              "      width: 32px;\n",
              "    }\n",
              "\n",
              "    .colab-df-convert:hover {\n",
              "      background-color: #E2EBFA;\n",
              "      box-shadow: 0px 1px 2px rgba(60, 64, 67, 0.3), 0px 1px 3px 1px rgba(60, 64, 67, 0.15);\n",
              "      fill: #174EA6;\n",
              "    }\n",
              "\n",
              "    [theme=dark] .colab-df-convert {\n",
              "      background-color: #3B4455;\n",
              "      fill: #D2E3FC;\n",
              "    }\n",
              "\n",
              "    [theme=dark] .colab-df-convert:hover {\n",
              "      background-color: #434B5C;\n",
              "      box-shadow: 0px 1px 3px 1px rgba(0, 0, 0, 0.15);\n",
              "      filter: drop-shadow(0px 1px 2px rgba(0, 0, 0, 0.3));\n",
              "      fill: #FFFFFF;\n",
              "    }\n",
              "  </style>\n",
              "\n",
              "      <script>\n",
              "        const buttonEl =\n",
              "          document.querySelector('#df-afbdf881-fc6d-4671-a1da-a6067bfaec66 button.colab-df-convert');\n",
              "        buttonEl.style.display =\n",
              "          google.colab.kernel.accessAllowed ? 'block' : 'none';\n",
              "\n",
              "        async function convertToInteractive(key) {\n",
              "          const element = document.querySelector('#df-afbdf881-fc6d-4671-a1da-a6067bfaec66');\n",
              "          const dataTable =\n",
              "            await google.colab.kernel.invokeFunction('convertToInteractive',\n",
              "                                                     [key], {});\n",
              "          if (!dataTable) return;\n",
              "\n",
              "          const docLinkHtml = 'Like what you see? Visit the ' +\n",
              "            '<a target=\"_blank\" href=https://colab.research.google.com/notebooks/data_table.ipynb>data table notebook</a>'\n",
              "            + ' to learn more about interactive tables.';\n",
              "          element.innerHTML = '';\n",
              "          dataTable['output_type'] = 'display_data';\n",
              "          await google.colab.output.renderOutput(dataTable, element);\n",
              "          const docLink = document.createElement('div');\n",
              "          docLink.innerHTML = docLinkHtml;\n",
              "          element.appendChild(docLink);\n",
              "        }\n",
              "      </script>\n",
              "    </div>\n",
              "  </div>\n",
              "  "
            ]
          },
          "metadata": {},
          "execution_count": 7
        }
      ],
      "source": [
        "# read the competition validation dataset\n",
        "test_df = pd.read_csv('https://raw.githubusercontent.com/sigmorphon/2022InflectionST/main/part2/ara.gold', sep='\\t', header=None)\n",
        "# take only the first and second columns which\n",
        "# contain the sigular and plural forms\n",
        "test_df = test_df.iloc[:, :2]\n",
        "# rename the columns\n",
        "test_df.columns = ['singular', 'plural']\n",
        "# remove the Arabic diacritics from each column\n",
        "for col in test_df.columns:\n",
        "  test_df[col] = test_df[col].apply(lambda x: araby.strip_diacritics(x))\n",
        "\n",
        "# fetch the top 10 rows\n",
        "test_df.head(10)"
      ]
    },
    {
      "cell_type": "code",
      "execution_count": null,
      "metadata": {
        "colab": {
          "base_uri": "https://localhost:8080/"
        },
        "id": "BjTNtEUBlVw9",
        "outputId": "00f8a978-74ce-4dad-f126-335c6c950152"
      },
      "outputs": [
        {
          "output_type": "stream",
          "name": "stdout",
          "text": [
            "Mounted at /content/drive\n"
          ]
        }
      ],
      "source": [
        "from google.colab import drive\n",
        "drive.mount('/content/drive')"
      ]
    },
    {
      "cell_type": "markdown",
      "metadata": {
        "id": "y6h5SmwUlfc1"
      },
      "source": [
        "# Hardware Detection"
      ]
    },
    {
      "cell_type": "code",
      "execution_count": null,
      "metadata": {
        "colab": {
          "base_uri": "https://localhost:8080/"
        },
        "id": "TPs11Pr_f5qV",
        "outputId": "11e3044d-135c-4001-e712-248ef7a9d1ea"
      },
      "outputs": [
        {
          "output_type": "stream",
          "name": "stdout",
          "text": [
            "Running on single GPU  /device:GPU:0\n",
            "Number of accelerators:  1\n"
          ]
        }
      ],
      "source": [
        "# Detect hardware\n",
        "try:\n",
        "    tpu = tf.distribute.cluster_resolver.TPUClusterResolver() # TPU detection\n",
        "except ValueError:\n",
        "    tpu = None\n",
        "    gpus = tf.config.experimental.list_logical_devices(\"GPU\")\n",
        "    \n",
        "# Select an appropriate distribution strategy\n",
        "if tpu:\n",
        "    tf.config.experimental_connect_to_cluster(tpu)\n",
        "    tf.tpu.experimental.initialize_tpu_system(tpu)\n",
        "    strategy = tf.distribute.experimental.TPUStrategy(tpu) # Going back and forth between TPU and host is expensive. Better to run 128 batches on the TPU before reporting back.\n",
        "    print('Running on TPU ', tpu.cluster_spec().as_dict()['worker'])  \n",
        "elif len(gpus) > 1:\n",
        "    strategy = tf.distribute.MirroredStrategy([gpu.name for gpu in gpus])\n",
        "    print('Running on multiple GPUs ', [gpu.name for gpu in gpus])\n",
        "elif len(gpus) == 1:\n",
        "    strategy = tf.distribute.get_strategy() # default strategy that works on CPU and single GPU\n",
        "    print('Running on single GPU ', gpus[0].name)\n",
        "else:\n",
        "    strategy = tf.distribute.get_strategy() # default strategy that works on CPU and single GPU\n",
        "    print('Running on CPU')\n",
        "print(\"Number of accelerators: \", strategy.num_replicas_in_sync)"
      ]
    },
    {
      "cell_type": "markdown",
      "metadata": {
        "id": "8NOvELLKlinQ"
      },
      "source": [
        "# Configs"
      ]
    },
    {
      "cell_type": "code",
      "execution_count": null,
      "metadata": {
        "id": "NY2Le0HZf2w4"
      },
      "outputs": [],
      "source": [
        "# configurations class\n",
        "class config:\n",
        "\n",
        "    MAXLEN = 11 # maximum length of sequence\n",
        "\n",
        "    # model configs\n",
        "    BATCH_SIZE_PER_REPLICA = 256 # batch size per replica\n",
        "    BATCH_SIZE = BATCH_SIZE_PER_REPLICA * strategy.num_replicas_in_sync # global batch size\n",
        "    EPOCHS = 100 # number of epochs\n",
        "    LEARNING_RATE = 1E-4 # learning rate\n",
        "    LEARTING_RATE_REDUCTION_PATIENCE = 10 # number of epochs to weight before lowering LR\n",
        "    LEARTING_RATE_REDUCTION_FACTOR = 0.2 # LR lowering factor\n",
        "    BUFFER = 1024 # buffer size for shuffling the training set\n",
        "    EMBEDDING_SIZE = 256 # embedding size\n",
        "    NUM_HEADS = 8 # number of heads\n",
        "    NUM_BLOCKS = 4 # number of encoder blocks\n",
        "    KEY_DIM = 128 # dimesion of the key, value, and query\n",
        "    DROPOUT = 0.0 # dopout rate\n",
        "    SKIP_RATIO = 0.0 # skip connection ratio"
      ]
    },
    {
      "cell_type": "markdown",
      "metadata": {
        "id": "EzdOcFqOMUf5"
      },
      "source": [
        "# Dataset"
      ]
    },
    {
      "cell_type": "code",
      "execution_count": null,
      "metadata": {
        "colab": {
          "base_uri": "https://localhost:8080/"
        },
        "id": "QEb7_GE9V0f5",
        "outputId": "f7d791d9-a412-450e-fd8a-c2838387d52f"
      },
      "outputs": [
        {
          "output_type": "stream",
          "name": "stdout",
          "text": [
            "Number of Arabic Characters: 38\n"
          ]
        }
      ],
      "source": [
        "final_unique_char = ['#',\n",
        "                      'أ',\n",
        "                      'ف',\n",
        "                      'ض',\n",
        "                      'ل',\n",
        "                      'ا',\n",
        "                      'ص',\n",
        "                      'ة',\n",
        "                      'ب',\n",
        "                      'ع',\n",
        "                      'د',\n",
        "                      'ر',\n",
        "                      'ي',\n",
        "                      'و',\n",
        "                      'ج',\n",
        "                      'ه',\n",
        "                      'م',\n",
        "                      'ث',\n",
        "                      'ت',\n",
        "                      'ذ',\n",
        "                      'ك',\n",
        "                      'ح',\n",
        "                      'ى',\n",
        "                      'ق',\n",
        "                      'ط',\n",
        "                      'س',\n",
        "                      'ش',\n",
        "                      'ن',\n",
        "                      'خ',\n",
        "                      'غ',\n",
        "                      'ظ',\n",
        "                      'آ',\n",
        "                      'إ',\n",
        "                      'ء',\n",
        "                      'ز',\n",
        "                      'ئ',\n",
        "                      'ؤ',\n",
        "                      '|']\n",
        "\n",
        "# list of all Arabic characters\n",
        "print('Number of Arabic Characters:', len(final_unique_char))\n",
        "\n",
        "# character to index dictionary\n",
        "char_to_index = dict((char, index+3) for (index, char) in enumerate(final_unique_char))\n",
        "# index to character dictionary\n",
        "index_to_char=  dict((index+3, char) for (index, char) in enumerate(final_unique_char))\n",
        "\n",
        "char_to_index['$'] = 0 # pad\n",
        "char_to_index['#'] = 1 # separator\n",
        "char_to_index['_'] = 2 # mask\n",
        "\n",
        "\n",
        "index_to_char[0] = '$' # pad\n",
        "index_to_char[1] = '#' # separator\n",
        "index_to_char[2] = '_' # mask"
      ]
    },
    {
      "cell_type": "code",
      "execution_count": null,
      "metadata": {
        "id": "-uapaRhMUXKz"
      },
      "outputs": [],
      "source": [
        "all_words = train_df.iloc[:, 0].values.tolist() + train_df.iloc[:, 1].values.tolist()+\\\n",
        "            valid_df.iloc[:, 0].values.tolist() + valid_df.iloc[:, 1].values.tolist()+\\\n",
        "            test_df.iloc[:, 0].values.tolist() + test_df.iloc[:, 1].values.tolist()\n",
        "\n",
        "all_chars = []\n",
        "for i in range(len(all_words)):\n",
        "  all_chars.extend(all_words[i])\n",
        "all_chars = list(set(list(all_chars)))"
      ]
    },
    {
      "cell_type": "code",
      "execution_count": null,
      "metadata": {
        "colab": {
          "base_uri": "https://localhost:8080/"
        },
        "id": "16HXXRq_U7JP",
        "outputId": "c9b21cba-5d81-4c8a-8f0c-70bb6baf969f"
      },
      "outputs": [
        {
          "output_type": "stream",
          "name": "stdout",
          "text": [
            "ٱ\n"
          ]
        }
      ],
      "source": [
        "for char in all_chars:\n",
        "  if char not in final_unique_char:\n",
        "    print(char)\n",
        "    new_char = char"
      ]
    },
    {
      "cell_type": "code",
      "execution_count": null,
      "metadata": {
        "id": "c9LsM3XlW_14"
      },
      "outputs": [],
      "source": [
        "char_to_index[new_char] = 8\n",
        "index_to_char[8] = new_char"
      ]
    },
    {
      "cell_type": "code",
      "execution_count": null,
      "metadata": {
        "colab": {
          "base_uri": "https://localhost:8080/"
        },
        "id": "V1ovXyDXGFFZ",
        "outputId": "12ca1d41-dfb8-4e45-e633-28ebe880f459"
      },
      "outputs": [
        {
          "output_type": "stream",
          "name": "stdout",
          "text": [
            "Train Max Length: 11\n",
            "Valid Max Length: 11\n"
          ]
        }
      ],
      "source": [
        "# find maximum token length in both datasets\n",
        "max_len = 0\n",
        "# iterate over each column\n",
        "for i in range(2):\n",
        "  # iterate over each row\n",
        "  for j in range(len(train_df)):\n",
        "    if len(train_df.iloc[j, i]) > max_len:\n",
        "      max_len = len(train_df.iloc[j, i])\n",
        "print('Train Max Length:', max_len)\n",
        "\n",
        "max_len = 0\n",
        "# iterate over each column\n",
        "for i in range(2):\n",
        "  # iterate over each row\n",
        "  for j in range(len(valid_df)):\n",
        "    if len(valid_df.iloc[j, i]) > max_len:\n",
        "      max_len = len(valid_df.iloc[j, i])\n",
        "print('Valid Max Length:', max_len)"
      ]
    },
    {
      "cell_type": "code",
      "execution_count": null,
      "metadata": {
        "id": "YFK6MAjtZfaY"
      },
      "outputs": [],
      "source": [
        "def text_to_index(lists):\n",
        "    # construct a list that includes the character-based tokenized input words\n",
        "    bert_indexed_inputs = []\n",
        "    \n",
        "    # iterate over texts\n",
        "    for text in tqdm(lists):\n",
        "      try:\n",
        "        indexes = []\n",
        "        indexes.append(char_to_index['#']) # special separator token\n",
        "        temp_list = list(text)\n",
        "        temp_list.reverse() # reverse list (Arabic from right to left)\n",
        "        for char in temp_list:\n",
        "          indexes.append(char_to_index[char]) # append index of each character to the list\n",
        "        indexes.append(char_to_index['#']) # special separator token\n",
        "        bert_indexed_inputs.append(indexes)\n",
        "      except: # if the characters are not in the dictionary continue iterating\n",
        "          continue\n",
        "    return bert_indexed_inputs"
      ]
    },
    {
      "cell_type": "code",
      "execution_count": null,
      "metadata": {
        "id": "XZhY_r1CbPQD"
      },
      "outputs": [],
      "source": [
        "def text_to_index_labels(lists):\n",
        "    # construct a list that includes the character-based tokenized input words\n",
        "    bert_indexed_inputs = []\n",
        "    \n",
        "    for text in tqdm(lists):\n",
        "      try:\n",
        "        indexes = []\n",
        "        indexes.append(char_to_index['#']) # special end token\n",
        "        temp_list = list(text)\n",
        "        temp_list.reverse() # reverse list (Arabic from right to left)\n",
        "        for char in temp_list:\n",
        "          indexes.append(char_to_index[char]) # append index of each character to the list\n",
        "        bert_indexed_inputs.append(indexes)\n",
        "      except: # if the characters are not in the dictionary continue iterating\n",
        "          continue\n",
        "    return bert_indexed_inputs"
      ]
    },
    {
      "cell_type": "code",
      "execution_count": null,
      "metadata": {
        "colab": {
          "base_uri": "https://localhost:8080/"
        },
        "id": "G1Km_UWgWZgd",
        "outputId": "c47251fa-2ca5-425e-a13c-0f8f92d4f30c"
      },
      "outputs": [
        {
          "output_type": "stream",
          "name": "stderr",
          "text": [
            "100%|██████████| 1000/1000 [00:00<00:00, 395950.53it/s]\n",
            "100%|██████████| 343/343 [00:00<00:00, 115313.10it/s]\n",
            "100%|██████████| 600/600 [00:00<00:00, 217980.29it/s]\n",
            "100%|██████████| 1000/1000 [00:00<00:00, 311473.64it/s]\n",
            "100%|██████████| 343/343 [00:00<00:00, 260153.03it/s]\n",
            "100%|██████████| 600/600 [00:00<00:00, 295061.84it/s]\n",
            "100%|██████████| 1000/1000 [00:00<00:00, 284668.39it/s]\n",
            "100%|██████████| 343/343 [00:00<00:00, 304604.33it/s]\n",
            "100%|██████████| 600/600 [00:00<00:00, 285132.83it/s]\n"
          ]
        }
      ],
      "source": [
        "# convert text to indexes (encoder part)\n",
        "enc_indexed_text_train = text_to_index(train_df.iloc[:, 0].tolist())\n",
        "enc_indexed_text_valid = text_to_index(valid_df.iloc[:, 0].tolist())\n",
        "enc_indexed_text_test = text_to_index(test_df.iloc[:, 0].tolist())\n",
        "# pad sequences\n",
        "enc_indexed_text_train = tf.keras.preprocessing.sequence.pad_sequences(enc_indexed_text_train, maxlen=config.MAXLEN, padding='pre')\n",
        "enc_indexed_text_valid = tf.keras.preprocessing.sequence.pad_sequences(enc_indexed_text_valid, maxlen=config.MAXLEN, padding='pre')\n",
        "enc_indexed_text_test = tf.keras.preprocessing.sequence.pad_sequences(enc_indexed_text_test, maxlen=config.MAXLEN, padding='pre')\n",
        "# convert text to indexes (decoder part)\n",
        "dec_indexed_text_train = text_to_index(train_df.iloc[:, 1].tolist())\n",
        "dec_indexed_text_valid = text_to_index(valid_df.iloc[:, 1].tolist())\n",
        "dec_indexed_text_test = text_to_index(test_df.iloc[:, 1].tolist())\n",
        "# labels for decoder (no start token)\n",
        "dec_indexed_text_train_labels = text_to_index_labels(train_df.iloc[:, 1].tolist())\n",
        "dec_indexed_text_valid_labels = text_to_index_labels(valid_df.iloc[:, 1].tolist())\n",
        "dec_indexed_text_test_labels = text_to_index_labels(test_df.iloc[:, 1].tolist())\n",
        "# pad sequences\n",
        "dec_indexed_text_train = tf.keras.preprocessing.sequence.pad_sequences(dec_indexed_text_train, maxlen=config.MAXLEN, padding='pre')\n",
        "dec_indexed_text_valid = tf.keras.preprocessing.sequence.pad_sequences(dec_indexed_text_valid, maxlen=config.MAXLEN, padding='pre')\n",
        "dec_indexed_text_test = tf.keras.preprocessing.sequence.pad_sequences(dec_indexed_text_test, maxlen=config.MAXLEN, padding='pre')\n",
        "# pad labels\n",
        "dec_indexed_text_train_labels = tf.keras.preprocessing.sequence.pad_sequences(dec_indexed_text_train_labels, maxlen=config.MAXLEN, padding='pre')\n",
        "dec_indexed_text_valid_labels = tf.keras.preprocessing.sequence.pad_sequences(dec_indexed_text_valid_labels, maxlen=config.MAXLEN, padding='pre')\n",
        "dec_indexed_text_test_labels = tf.keras.preprocessing.sequence.pad_sequences(dec_indexed_text_test_labels, maxlen=config.MAXLEN, padding='pre')"
      ]
    },
    {
      "cell_type": "code",
      "execution_count": null,
      "metadata": {
        "id": "pqzP2h3B8nd6",
        "colab": {
          "base_uri": "https://localhost:8080/"
        },
        "outputId": "b18c9a46-74a1-4b72-cc20-912fb024cd83"
      },
      "outputs": [
        {
          "output_type": "execute_result",
          "data": {
            "text/plain": [
              "(4, 2, 3)"
            ]
          },
          "metadata": {},
          "execution_count": 19
        }
      ],
      "source": [
        "# create a TensorFlow training dataset that performs multiple functions including\n",
        "# shuffling, batching, and prefetching\n",
        "train_ds = tf.data.Dataset.from_tensor_slices((tf.constant(enc_indexed_text_train), tf.constant(dec_indexed_text_train), tf.constant(dec_indexed_text_train_labels)))\n",
        "train_ds = train_ds.shuffle(config.BUFFER).batch(config.BATCH_SIZE, drop_remainder=False).prefetch(-1).cache()\n",
        "\n",
        "# create a TensorFlow validation dataset that performs multiple functions including\n",
        "# batching and prefetching\n",
        "valid_ds = tf.data.Dataset.from_tensor_slices((tf.constant(enc_indexed_text_valid), tf.constant(dec_indexed_text_valid), tf.constant(dec_indexed_text_valid_labels)))\n",
        "valid_ds = valid_ds.batch(config.BATCH_SIZE, drop_remainder=False).prefetch(-1).cache()\n",
        "\n",
        "# create a TensorFlow test dataset that performs multiple functions including\n",
        "# batching and prefetching\n",
        "test_ds = tf.data.Dataset.from_tensor_slices((tf.constant(enc_indexed_text_test), tf.constant(dec_indexed_text_test), tf.constant(dec_indexed_text_test_labels)))\n",
        "test_ds = test_ds.batch(config.BATCH_SIZE, drop_remainder=False).prefetch(-1).cache()\n",
        "\n",
        "len(train_ds), len(valid_ds), len(test_ds)"
      ]
    },
    {
      "cell_type": "markdown",
      "metadata": {
        "id": "KxixXmUyHE5v"
      },
      "source": [
        "# Models"
      ]
    },
    {
      "cell_type": "markdown",
      "metadata": {
        "id": "nyZY2swzlYUP"
      },
      "source": [
        "## Pre-trained CBERT"
      ]
    },
    {
      "cell_type": "markdown",
      "metadata": {
        "id": "G4EyclTVwzSD"
      },
      "source": [
        "Use the TensorFlow functional API to develop the CBERT model."
      ]
    },
    {
      "cell_type": "code",
      "execution_count": null,
      "metadata": {
        "id": "2ath2aA-fk-O"
      },
      "outputs": [],
      "source": [
        "def encoder_block(inputs, num_heads=8, key_dim=64, dropout=0.0, linear_shape=128):\n",
        "  # multi-head attention layer\n",
        "  x = layers.MultiHeadAttention(num_heads=num_heads,\n",
        "                                  key_dim=key_dim,\n",
        "                                  dropout=dropout)(inputs, inputs)\n",
        "  # add & norm\n",
        "  x = layers.Add()([inputs, x])\n",
        "  x1 = layers.LayerNormalization()(x)\n",
        "  # feed-forward\n",
        "  x = layers.Dense(linear_shape, activation='gelu')(x1)\n",
        "  x2 = layers.Dense(inputs.shape[-1], activation='linear')(x)\n",
        "  # add & norm\n",
        "  x = layers.Add()([x1, x2])\n",
        "  x = layers.LayerNormalization()(x)\n",
        "  return x"
      ]
    },
    {
      "cell_type": "code",
      "execution_count": null,
      "metadata": {
        "id": "PkeY5Vpufo3V"
      },
      "outputs": [],
      "source": [
        "with strategy.scope():\n",
        "  # embedding layer that maps each input character index into a vector of the specified length\n",
        "  # in the config class\n",
        "  embedding_layer = layers.Embedding(input_dim=41, output_dim=config.EMBEDDING_SIZE, input_length=config.MAXLEN, mask_zero=True)\n",
        "  # use another trainable embedding layer to learn positional encoding \n",
        "  pos_encoding = layers.Embedding(input_dim=41, output_dim=config.EMBEDDING_SIZE, input_length=config.MAXLEN, mask_zero=False)"
      ]
    },
    {
      "cell_type": "code",
      "execution_count": null,
      "metadata": {
        "id": "f6FNdtPCfs2-"
      },
      "outputs": [],
      "source": [
        "def encoder_model(inputs, num_blocks=4, num_heads=8, key_dim=64, dropout=0.0, skip_ratio=0.0):\n",
        "\n",
        "    # embedding layer for characters\n",
        "    embed = embedding_layer(inputs)\n",
        "    # trainable positional encoding\n",
        "    pos_encod = pos_encoding(tf.range(config.MAXLEN))\n",
        "    # add pos_encod to embeddings\n",
        "    encoded_embed = embed + pos_encod\n",
        "    # multi-head attention\n",
        "    mha = encoder_block(encoded_embed, num_heads=num_heads, key_dim=key_dim, dropout=dropout)\n",
        "    mha = encoder_block(mha, num_heads=num_heads, key_dim=key_dim, dropout=dropout)\n",
        "    mha = encoder_block(mha, num_heads=num_heads, key_dim=key_dim, dropout=dropout)\n",
        "    mha = encoder_block(mha, num_heads=num_heads, key_dim=key_dim, dropout=dropout)\n",
        "    return mha"
      ]
    },
    {
      "cell_type": "code",
      "execution_count": null,
      "metadata": {
        "id": "zRHE4G10ydR0"
      },
      "outputs": [],
      "source": [
        "def final_model():\n",
        "  # the full CBERT model\n",
        "  inputs = layers.Input(shape=(config.MAXLEN,), name='cbert_input')\n",
        "  bert_output = encoder_model(inputs, num_blocks=config.NUM_BLOCKS, \n",
        "                              num_heads=config.NUM_HEADS, key_dim=config.KEY_DIM,\n",
        "                              dropout=config.DROPOUT, skip_ratio=config.SKIP_RATIO)\n",
        "  dense = layers.Dense(41, activation='softmax')(bert_output)\n",
        "\n",
        "  model = tf.keras.Model(inputs=inputs, outputs=dense)\n",
        "  return model"
      ]
    },
    {
      "cell_type": "code",
      "execution_count": null,
      "metadata": {
        "id": "tnDQ01PvluBg",
        "colab": {
          "base_uri": "https://localhost:8080/"
        },
        "outputId": "3ebb6c80-ae03-45db-ac2a-5bdb840787b8"
      },
      "outputs": [
        {
          "output_type": "stream",
          "name": "stderr",
          "text": [
            "Downloading...\n",
            "From: https://drive.google.com/uc?export=download&id=1AhVSq3LUZYlPzemlUJoBSw2-4ZsIl0UK\n",
            "To: /content/final_cbert_best_weights.h5\n",
            "100%|██████████| 18.1M/18.1M [00:00<00:00, 214MB/s]\n"
          ]
        }
      ],
      "source": [
        "# instantiate the model\n",
        "cbert = final_model()\n",
        "# load the pre-trained weights\n",
        "url = 'https://drive.google.com/file/d/1AhVSq3LUZYlPzemlUJoBSw2-4ZsIl0UK/view?usp=sharing'\n",
        "url = 'https://drive.google.com/uc?export=download&id=' + url.split('/')[-2]\n",
        "output = 'final_cbert_best_weights.h5'\n",
        "gdown.download(url, output, quiet=False)\n",
        "cbert.load_weights('/content/final_cbert_best_weights.h5')\n",
        "\n",
        "# define the input as the original CBERT input, and take the contextualized embeddings\n",
        "# from the layer before the head\n",
        "pretrained_encoder = tf.keras.Model(inputs=cbert.input, outputs=cbert.layers[-2].output)\n",
        "# freeze the model weights during fine-tuning\n",
        "pretrained_encoder.trainable = False"
      ]
    },
    {
      "cell_type": "markdown",
      "metadata": {
        "id": "mllS-FqGHv8e"
      },
      "source": [
        "## Full Model"
      ]
    },
    {
      "cell_type": "code",
      "execution_count": null,
      "metadata": {
        "id": "iPjpO-HwmCjq"
      },
      "outputs": [],
      "source": [
        "def main_decoder_block(inputs, cbert_output, \n",
        "                       attention_mask, num_heads=8, key_dim=64, \n",
        "                       dropout=0.0, linear_shape=128):\n",
        "  # multi-head masked self-attention layer\n",
        "  self_att = layers.MultiHeadAttention(num_heads=num_heads,\n",
        "                                       key_dim=key_dim, \n",
        "                                       dropout=dropout)(inputs, inputs, attention_mask=attention_mask)\n",
        "  # feed-forward network\n",
        "  ff = layers.Dense(linear_shape, activation='gelu')(self_att)\n",
        "  ff = layers.Dense(inputs.shape[-1], activation='linear')(ff)\n",
        "  # add & norm\n",
        "  add = layers.Add()([self_att, ff])\n",
        "  self_att_output = layers.LayerNormalization()(add)\n",
        "  \n",
        "  # CBERT-Decoder attention\n",
        "  cbert_dec_att = layers.MultiHeadAttention(num_heads=num_heads,\n",
        "                                            key_dim=key_dim,\n",
        "                                            dropout=dropout)(query=self_att_output, \n",
        "                                                             value=cbert_output, \n",
        "                                                             key=cbert_output)                                     \n",
        "\n",
        "  # add & norm\n",
        "  add = layers.Add()([self_att_output, cbert_dec_att])\n",
        "  norm = layers.LayerNormalization()(add)\n",
        " \n",
        "  # feed-forward network\n",
        "  ff = layers.Dense(linear_shape, activation='gelu')(norm)\n",
        "  ff = layers.Dense(inputs.shape[-1], activation='linear')(ff)\n",
        "  \n",
        "  # add & norm\n",
        "  add = layers.Add()([norm, ff])\n",
        "  norm = layers.LayerNormalization()(add)\n",
        "  return norm"
      ]
    },
    {
      "cell_type": "code",
      "execution_count": null,
      "metadata": {
        "id": "GHYipJPb20fH"
      },
      "outputs": [],
      "source": [
        "def cbert_decoder_model(inputs, cbert_output, attention_mask):\n",
        "  # embed input sequences\n",
        "  embed = embedding_layer(inputs)\n",
        "  # trainable positional encoding\n",
        "  pos_encod = pos_encoding(tf.range(config.MAXLEN))\n",
        "  # add pos_encod to embeddings\n",
        "  embed = embed + pos_encod\n",
        "\n",
        "  main_decoder_output = main_decoder_block(embed, cbert_output, attention_mask)\n",
        "\n",
        "  return main_decoder_output"
      ]
    },
    {
      "cell_type": "code",
      "execution_count": null,
      "metadata": {
        "id": "YUYNtqXKFC93"
      },
      "outputs": [],
      "source": [
        "def final_decoder_output(cbert_inputs, dec_inputs, attention_mask):\n",
        "\n",
        "  cbert_output = pretrained_encoder(cbert_inputs)\n",
        "  x = cbert_decoder_model(dec_inputs, cbert_output, attention_mask)\n",
        "  x = layers.GlobalAveragePooling1D()(x)\n",
        "  main_dec_output = layers.Dense(41, activation='softmax')(x)\n",
        "  return main_dec_output"
      ]
    },
    {
      "cell_type": "code",
      "execution_count": null,
      "metadata": {
        "id": "ocATskZdIJnh"
      },
      "outputs": [],
      "source": [
        "def encoder_decoder_model():\n",
        "  # put it all together\n",
        "  cbert_inputs = layers.Input(shape=(config.MAXLEN,), name='enc_input')\n",
        "  dec_inputs = layers.Input(shape=(config.MAXLEN,), name='dec_input')\n",
        "  attention_mask = layers.Input(shape=(config.NUM_HEADS, config.MAXLEN, config.MAXLEN,), name='att_mask')\n",
        "\n",
        "  main_dec_output = final_decoder_output(cbert_inputs, dec_inputs, attention_mask)\n",
        "\n",
        "  model = tf.keras.Model(inputs=[cbert_inputs, dec_inputs, attention_mask], outputs=main_dec_output)\n",
        "  return model"
      ]
    },
    {
      "cell_type": "code",
      "execution_count": null,
      "metadata": {
        "id": "RKnJZBTW2Xau",
        "colab": {
          "base_uri": "https://localhost:8080/"
        },
        "outputId": "ef5adc98-e6a9-46da-bd70-c428017919d8"
      },
      "outputs": [
        {
          "output_type": "stream",
          "name": "stdout",
          "text": [
            "Model: \"model\"\n",
            "__________________________________________________________________________________________________\n",
            " Layer (type)                   Output Shape         Param #     Connected to                     \n",
            "==================================================================================================\n",
            " dec_input (InputLayer)         [(None, 11)]         0           []                               \n",
            "                                                                                                  \n",
            " embedding (Embedding)          (None, 11, 256)      10496       ['dec_input[0][0]']              \n",
            "                                                                                                  \n",
            " tf.__operators__.add (TFOpLamb  (None, 11, 256)     0           ['embedding[1][0]']              \n",
            " da)                                                                                              \n",
            "                                                                                                  \n",
            " att_mask (InputLayer)          [(None, 8, 11, 11)]  0           []                               \n",
            "                                                                                                  \n",
            " multi_head_attention (MultiHea  (None, 11, 256)     526080      ['tf.__operators__.add[0][0]',   \n",
            " dAttention)                                                      'tf.__operators__.add[0][0]',   \n",
            "                                                                  'att_mask[0][0]']               \n",
            "                                                                                                  \n",
            " dense (Dense)                  (None, 11, 128)      32896       ['multi_head_attention[0][0]']   \n",
            "                                                                                                  \n",
            " dense_1 (Dense)                (None, 11, 256)      33024       ['dense[0][0]']                  \n",
            "                                                                                                  \n",
            " add (Add)                      (None, 11, 256)      0           ['multi_head_attention[0][0]',   \n",
            "                                                                  'dense_1[0][0]']                \n",
            "                                                                                                  \n",
            " enc_input (InputLayer)         [(None, 11)]         0           []                               \n",
            "                                                                                                  \n",
            " layer_normalization (LayerNorm  (None, 11, 256)     512         ['add[0][0]']                    \n",
            " alization)                                                                                       \n",
            "                                                                                                  \n",
            " model_2 (Functional)           (None, 11, 256)      4485888     ['enc_input[0][0]']              \n",
            "                                                                                                  \n",
            " multi_head_attention_1 (MultiH  (None, 11, 256)     526080      ['layer_normalization[0][0]',    \n",
            " eadAttention)                                                    'model_2[0][0]',                \n",
            "                                                                  'model_2[0][0]']                \n",
            "                                                                                                  \n",
            " add_1 (Add)                    (None, 11, 256)      0           ['layer_normalization[0][0]',    \n",
            "                                                                  'multi_head_attention_1[0][0]'] \n",
            "                                                                                                  \n",
            " layer_normalization_1 (LayerNo  (None, 11, 256)     512         ['add_1[0][0]']                  \n",
            " rmalization)                                                                                     \n",
            "                                                                                                  \n",
            " dense_2 (Dense)                (None, 11, 128)      32896       ['layer_normalization_1[0][0]']  \n",
            "                                                                                                  \n",
            " dense_3 (Dense)                (None, 11, 256)      33024       ['dense_2[0][0]']                \n",
            "                                                                                                  \n",
            " add_2 (Add)                    (None, 11, 256)      0           ['layer_normalization_1[0][0]',  \n",
            "                                                                  'dense_3[0][0]']                \n",
            "                                                                                                  \n",
            " layer_normalization_2 (LayerNo  (None, 11, 256)     512         ['add_2[0][0]']                  \n",
            " rmalization)                                                                                     \n",
            "                                                                                                  \n",
            " global_average_pooling1d (Glob  (None, 256)         0           ['layer_normalization_2[0][0]']  \n",
            " alAveragePooling1D)                                                                              \n",
            "                                                                                                  \n",
            " dense_4 (Dense)                (None, 41)           10537       ['global_average_pooling1d[0][0]'\n",
            "                                                                 ]                                \n",
            "                                                                                                  \n",
            "==================================================================================================\n",
            "Total params: 5,681,961\n",
            "Trainable params: 1,196,073\n",
            "Non-trainable params: 4,485,888\n",
            "__________________________________________________________________________________________________\n"
          ]
        }
      ],
      "source": [
        "# clear the session to release all previous states generated by Keras\n",
        "tf.keras.backend.clear_session()\n",
        "# instantiate the model and print the summary\n",
        "model = encoder_decoder_model()\n",
        "model.summary()"
      ]
    },
    {
      "cell_type": "code",
      "execution_count": null,
      "metadata": {
        "colab": {
          "base_uri": "https://localhost:8080/",
          "height": 1000
        },
        "id": "xPm99CCb0nG1",
        "outputId": "76a3d3cb-34f0-4727-b24a-d085bf95d4a6"
      },
      "outputs": [
        {
          "output_type": "execute_result",
          "data": {
            "text/plain": [
              "<IPython.core.display.Image object>"
            ],
            "image/png": "[encoded data removed]"
          },
          "metadata": {},
          "execution_count": 58
        }
      ],
      "source": [
        "# plot the model\n",
        "tf.keras.utils.plot_model(model, show_layer_names=True, show_shapes=True)"
      ]
    },
    {
      "cell_type": "markdown",
      "metadata": {
        "id": "dUS2z4EDlpa5"
      },
      "source": [
        "# Custom Training"
      ]
    },
    {
      "cell_type": "markdown",
      "metadata": {
        "id": "9HjOrzz8rZ6x"
      },
      "source": [
        "## GPU"
      ]
    },
    {
      "cell_type": "code",
      "execution_count": null,
      "metadata": {
        "id": "wJcCo1-r5Pcc"
      },
      "outputs": [],
      "source": [
        "# construct attention masks list\n",
        "# for each position there a mask that prevents the model from \n",
        "# see current and next positions\n",
        "attention_masks = []\n",
        "for i in range(1, config.MAXLEN+1):\n",
        "  # Arabic masking starts from right to left\n",
        "  attention_mask = [0] * (config.MAXLEN - i) + [1] * i\n",
        "  attention_masks.append(attention_mask)"
      ]
    },
    {
      "cell_type": "code",
      "execution_count": null,
      "metadata": {
        "colab": {
          "base_uri": "https://localhost:8080/"
        },
        "id": "pHfBgeq5piI2",
        "outputId": "0bb2bdff-3be2-4681-af59-3a3ab8d7e25d"
      },
      "outputs": [
        {
          "output_type": "execute_result",
          "data": {
            "text/plain": [
              "{0: 0.0,\n",
              " 1: 11.04417670682731,\n",
              " 2: 0.1,\n",
              " 3: 0.1,\n",
              " 4: 76.92307692307692,\n",
              " 5: 87.3015873015873,\n",
              " 6: 261.9047619047619,\n",
              " 7: 49.549549549549546,\n",
              " 8: 10.348071495766698,\n",
              " 9: 132.53012048192772,\n",
              " 10: 297.2972972972973,\n",
              " 11: 61.79775280898876,\n",
              " 12: 63.2183908045977,\n",
              " 13: 66.66666666666667,\n",
              " 14: 35.483870967741936,\n",
              " 15: 26.829268292682926,\n",
              " 16: 42.96875,\n",
              " 17: 119.56521739130434,\n",
              " 18: 148.64864864864865,\n",
              " 19: 26.634382566585955,\n",
              " 20: 478.2608695652174,\n",
              " 21: 17.001545595054097,\n",
              " 22: 647.0588235294117,\n",
              " 23: 139.2405063291139,\n",
              " 24: 91.66666666666667,\n",
              " 25: 1375.0,\n",
              " 26: 69.62025316455696,\n",
              " 27: 132.53012048192772,\n",
              " 28: 72.8476821192053,\n",
              " 29: 161.76470588235293,\n",
              " 30: 32.93413173652694,\n",
              " 31: 229.16666666666666,\n",
              " 32: 423.0769230769231,\n",
              " 33: 733.3333333333334,\n",
              " 34: 785.7142857142857,\n",
              " 35: 323.52941176470586,\n",
              " 36: 289.4736842105263,\n",
              " 37: 244.44444444444446,\n",
              " 38: 220.0,\n",
              " 39: 916.6666666666666,\n",
              " 40: 0.1}"
            ]
          },
          "metadata": {},
          "execution_count": 35
        }
      ],
      "source": [
        "# provide automatic class weights based on the inverse frequency \n",
        "# of each token, the more frequent, the less weight\n",
        "total_num_labels = np.array(dec_indexed_text_train_labels).size\n",
        "auto_weight_dict = dict()\n",
        "for i in range(41):\n",
        "  num_class_examples = (np.array(dec_indexed_text_train_labels) == i).sum()\n",
        "  if num_class_examples != 0:\n",
        "    auto_weight_dict[i] = total_num_labels / num_class_examples\n",
        "  else:\n",
        "    auto_weight_dict[i] = 0.1\n",
        "\n",
        "auto_weight_dict[0] = 0.0 # give 'p' zero weight\n",
        "auto_weight_dict"
      ]
    },
    {
      "cell_type": "markdown",
      "metadata": {
        "id": "20a9TznJ5CxA"
      },
      "source": [
        "#### Case 1: Set CBERT to \"untrainable\" throughout the training process"
      ]
    },
    {
      "cell_type": "code",
      "source": [
        "# clear the session to release all previous states generated by Keras\n",
        "tf.keras.backend.clear_session()\n",
        "# instantiate and compile the model inside the strategy scope defined previous\n",
        "with strategy.scope():\n",
        "  model = encoder_decoder_model()\n",
        "  # use Sparse Categorical Cross-entropy as a loss function as labels are not one-hot encoded\n",
        "  # use AdamW optimizer initially with a weight decay of 0.0\n",
        "  # use the Sparse Categorical Accuracy and top k=5 accuracy metrics to monitor and save the best model weights\n",
        "  metrics = [tf.keras.metrics.SparseCategoricalAccuracy(),\n",
        "             tf.keras.metrics.SparseTopKCategoricalAccuracy(k=5, name='top_k_acc')]\n",
        "  model.compile(loss=tf.keras.losses.SparseCategoricalCrossentropy(from_logits=False),\n",
        "                metrics=metrics,\n",
        "                optimizer=tfa.optimizers.AdamW(learning_rate=config.LEARNING_RATE, weight_decay=0.0))\n",
        "\n",
        "# initialize the best accuracy at - infinity\n",
        "best_result = -np.inf\n",
        "# initialize the epoch of the best result as 0\n",
        "epoch_of_best_result = 0\n",
        "# initialize a variable for the current learning rate\n",
        "current_learning = config.LEARNING_RATE\n",
        "# for each epoch iterate over the whole training and validation sets\n",
        "\n",
        "full_train_losses = []\n",
        "full_train_accs = []\n",
        "full_train_top_k_accs = []\n",
        "\n",
        "full_valid_losses = []\n",
        "full_valid_accs = []\n",
        "full_valid_top_k_accs = []\n",
        "\n",
        "for epoch in range(config.EPOCHS):\n",
        "    \n",
        "  print(f'Epoch: {epoch+1}/{config.EPOCHS}')\n",
        "  # iterate over the training dataset\n",
        "  for batch in tqdm(train_ds, total=len(train_ds)):\n",
        "    enc_inputs, dec_inputs, labels = batch\n",
        "    # create a variable for the number of examples in the current batch\n",
        "    num_examples = len(enc_inputs)\n",
        "    # initialize losses and accuracies list\n",
        "    losses = []\n",
        "    accs = []\n",
        "    top_accs = []\n",
        "    # sequencially predict the label (actual previous token as input)\n",
        "    for i in range(config.MAXLEN):\n",
        "      # extract the current mask from the attention_masks list\n",
        "      # broadcast the mask to the shape of (num_examples, num_heads(8), max_len(17), max_len(17))\n",
        "      current_att_mask = tf.broadcast_to(tf.constant(attention_masks[i]), (num_examples, config.NUM_HEADS, config.MAXLEN, config.MAXLEN))\n",
        "      # train on each batch and pass the class weights\n",
        "      train_results = model.train_on_batch(x=(enc_inputs, dec_inputs, current_att_mask), y=labels[:, -(i+1)], \n",
        "                           class_weight=auto_weight_dict, reset_metrics=True, return_dict=True)\n",
        "      # append the loss value\n",
        "      losses.append(train_results['loss'])\n",
        "      # append the accuracy value\n",
        "      accs.append(train_results['sparse_categorical_accuracy'])\n",
        "      # append the top 5 accuracy value\n",
        "      top_accs.append(train_results['top_k_acc'])\n",
        "  print('Train loss:', np.mean(losses), 'Train accuracy', np.mean(accs), 'Train top 5 accuracy', np.mean(top_accs))\n",
        "\n",
        "  full_train_losses.append(np.mean(losses))\n",
        "  full_train_accs.append(np.mean(accs))\n",
        "  full_train_top_k_accs.append(np.mean(top_accs))\n",
        "\n",
        "\n",
        "  # initialize losses and accuracies list\n",
        "  losses = []\n",
        "  accs = []\n",
        "  top_accs = []\n",
        "  # iterate over the validation dataset\n",
        "  for batch in tqdm(valid_ds, total=len(valid_ds)):\n",
        "    enc_inputs, dec_inputs, labels = batch\n",
        "    # create a variable for the number of examples in the current batch\n",
        "    num_examples = len(enc_inputs)\n",
        "    # create a NumPy array to save the predictions of the previous tokens\n",
        "    # it is initialized with ones where the model will see 1 in the first \n",
        "    # pass which represents the special starting \"s\" token\n",
        "    full_sequence_preds = np.ones((num_examples, config.MAXLEN))\n",
        "    # sequencially predict the label (predicted previous token as input (Auto-Regression))\n",
        "    for i in range(config.MAXLEN):\n",
        "      # extract the current mask from the attention_masks list\n",
        "      # broadcast the mask to the shape of (num_examples, num_heads(8), max_len(17), max_len(17))\n",
        "      current_att_mask = tf.broadcast_to(tf.constant(attention_masks[i]), (num_examples, config.NUM_HEADS, config.MAXLEN, config.MAXLEN))\n",
        "      # evaluate on each batch\n",
        "      valid_results = model.test_on_batch(x=(enc_inputs, full_sequence_preds, current_att_mask), y=labels[:, -(i+1)], reset_metrics=True, return_dict=True)\n",
        "      # predict the tokens of the current position\n",
        "      preds = model.predict_on_batch(x=(enc_inputs, full_sequence_preds, current_att_mask))\n",
        "      # take the argmax value which represents the index of the highest prob character\n",
        "      current_preds = np.argmax(preds, axis=-1)\n",
        "      # populate the current position with the predicted values which will be used in the next \n",
        "      # pass as a decoder input\n",
        "      full_sequence_preds[:, -(i+1)] = current_preds # populate the column of the current timestep with the predicitons\n",
        "        \n",
        "      # append the loss value  \n",
        "      losses.append(valid_results['loss'])\n",
        "      # append the accuracy value\n",
        "      accs.append(valid_results['sparse_categorical_accuracy'])\n",
        "      # append the top 5 accuracy value\n",
        "      top_accs.append(valid_results['top_k_acc'])\n",
        "  print('Valid loss:', np.mean(losses), 'Valid accuracy', np.mean(accs), 'Valid top 5 accuracy', np.mean(top_accs))\n",
        "\n",
        "  full_valid_losses.append(np.mean(losses))\n",
        "  full_valid_accs.append(np.mean(accs))\n",
        "  full_valid_top_k_accs.append(np.mean(top_accs))\n",
        "\n",
        "  mean_acc = np.mean(accs)\n",
        "  # save the weights of the best model based on the validation accuracy\n",
        "  # lower the LR a factor defined in the config class if the validation accuracy \n",
        "  # does not improve for the stated patience in the config class\n",
        "  if mean_acc > best_result:\n",
        "    best_result = mean_acc\n",
        "    epoch_of_best_result = epoch\n",
        "    print('Saving best model wieghts,', 'Accuracy:', mean_acc)\n",
        "    model.save_weights('best_full_model_weights.h5')\n",
        "  else:\n",
        "    print(\"Accuracy didn't improve from:\", best_result)\n",
        "  if epoch - epoch_of_best_result == config.LEARTING_RATE_REDUCTION_PATIENCE:\n",
        "    current_learning = current_learning * config.LEARTING_RATE_REDUCTION_FACTOR\n",
        "    print(\"model didn't improve for 10 epochs---->\", f\"lower learning rate to {current_learning}\")\n",
        "    model.compile(loss=tf.keras.losses.SparseCategoricalCrossentropy(from_logits=False),\n",
        "                metrics=metrics,\n",
        "                optimizer=tf.keras.optimizers.Adam(learning_rate=current_learning))  \n",
        "\n",
        "    "
      ],
      "metadata": {
        "colab": {
          "base_uri": "https://localhost:8080/"
        },
        "id": "N3aRmkq-Davb",
        "outputId": "c20755e1-07b3-45f1-f69e-9064b936a7fe"
      },
      "execution_count": null,
      "outputs": [
        {
          "output_type": "stream",
          "name": "stdout",
          "text": [
            "Epoch: 1/100\n"
          ]
        },
        {
          "output_type": "stream",
          "name": "stderr",
          "text": [
            "100%|██████████| 4/4 [00:12<00:00,  3.14s/it]\n"
          ]
        },
        {
          "output_type": "stream",
          "name": "stdout",
          "text": [
            "Train loss: 130.4424379197034 Train accuracy 0.041144199881025335 Train top 5 accuracy 0.18181818012486806\n"
          ]
        },
        {
          "output_type": "stream",
          "name": "stderr",
          "text": [
            "100%|██████████| 2/2 [00:05<00:00,  2.73s/it]\n"
          ]
        },
        {
          "output_type": "stream",
          "name": "stdout",
          "text": [
            "Valid loss: 4.916950117457997 Valid accuracy 0.007939034734259953 Valid top 5 accuracy 0.08212308924306523\n",
            "Saving best model wieghts, Accuracy: 0.007939034734259953\n",
            "Epoch: 2/100\n"
          ]
        },
        {
          "output_type": "stream",
          "name": "stderr",
          "text": [
            "100%|██████████| 4/4 [00:06<00:00,  1.68s/it]\n"
          ]
        },
        {
          "output_type": "stream",
          "name": "stdout",
          "text": [
            "Train loss: 118.2552912289446 Train accuracy 0.10658307030627673 Train top 5 accuracy 0.3209247672083703\n"
          ]
        },
        {
          "output_type": "stream",
          "name": "stderr",
          "text": [
            "100%|██████████| 2/2 [00:02<00:00,  1.18s/it]\n"
          ]
        },
        {
          "output_type": "stream",
          "name": "stdout",
          "text": [
            "Valid loss: 5.854299653660167 Valid accuracy 0.02338035540147261 Valid top 5 accuracy 0.16256245073269715\n",
            "Saving best model wieghts, Accuracy: 0.02338035540147261\n",
            "Epoch: 3/100\n"
          ]
        },
        {
          "output_type": "stream",
          "name": "stderr",
          "text": [
            "100%|██████████| 4/4 [00:10<00:00,  2.56s/it]\n"
          ]
        },
        {
          "output_type": "stream",
          "name": "stdout",
          "text": [
            "Train loss: 113.61945424025708 Train accuracy 0.15086206687952985 Train top 5 accuracy 0.34404388832097704\n"
          ]
        },
        {
          "output_type": "stream",
          "name": "stderr",
          "text": [
            "100%|██████████| 2/2 [00:01<00:00,  1.15it/s]\n"
          ]
        },
        {
          "output_type": "stream",
          "name": "stdout",
          "text": [
            "Valid loss: 5.386853250590238 Valid accuracy 0.07126763327555223 Valid top 5 accuracy 0.21284368498758835\n",
            "Saving best model wieghts, Accuracy: 0.07126763327555223\n",
            "Epoch: 4/100\n"
          ]
        },
        {
          "output_type": "stream",
          "name": "stderr",
          "text": [
            "100%|██████████| 4/4 [00:03<00:00,  1.25it/s]\n"
          ]
        },
        {
          "output_type": "stream",
          "name": "stdout",
          "text": [
            "Train loss: 114.91037814183669 Train accuracy 0.09482758648862893 Train top 5 accuracy 0.26332288434390316\n"
          ]
        },
        {
          "output_type": "stream",
          "name": "stderr",
          "text": [
            "100%|██████████| 2/2 [00:01<00:00,  1.58it/s]\n"
          ]
        },
        {
          "output_type": "stream",
          "name": "stdout",
          "text": [
            "Valid loss: 5.639935515143654 Valid accuracy 0.052193541418422355 Valid top 5 accuracy 0.23691385848955673\n",
            "Accuracy didn't improve from: 0.07126763327555223\n",
            "Epoch: 5/100\n"
          ]
        },
        {
          "output_type": "stream",
          "name": "stderr",
          "text": [
            "100%|██████████| 4/4 [00:05<00:00,  1.28s/it]\n"
          ]
        },
        {
          "output_type": "stream",
          "name": "stdout",
          "text": [
            "Train loss: 87.14510598507795 Train accuracy 0.1567398139952936 Train top 5 accuracy 0.36755486095154827\n"
          ]
        },
        {
          "output_type": "stream",
          "name": "stderr",
          "text": [
            "100%|██████████| 2/2 [00:01<00:00,  1.57it/s]\n"
          ]
        },
        {
          "output_type": "stream",
          "name": "stdout",
          "text": [
            "Valid loss: 5.170219042084434 Valid accuracy 0.12345097010785883 Valid top 5 accuracy 0.33216594786129217\n",
            "Saving best model wieghts, Accuracy: 0.12345097010785883\n",
            "Epoch: 6/100\n"
          ]
        },
        {
          "output_type": "stream",
          "name": "stderr",
          "text": [
            "100%|██████████| 4/4 [00:05<00:00,  1.28s/it]\n"
          ]
        },
        {
          "output_type": "stream",
          "name": "stdout",
          "text": [
            "Train loss: 68.66917754845186 Train accuracy 0.19866771018132567 Train top 5 accuracy 0.45219436194747686\n"
          ]
        },
        {
          "output_type": "stream",
          "name": "stderr",
          "text": [
            "100%|██████████| 2/2 [00:01<00:00,  1.70it/s]\n"
          ]
        },
        {
          "output_type": "stream",
          "name": "stdout",
          "text": [
            "Valid loss: 5.305924296379089 Valid accuracy 0.1324553449045528 Valid top 5 accuracy 0.333443542603742\n",
            "Saving best model wieghts, Accuracy: 0.1324553449045528\n",
            "Epoch: 7/100\n"
          ]
        },
        {
          "output_type": "stream",
          "name": "stderr",
          "text": [
            "100%|██████████| 4/4 [00:05<00:00,  1.28s/it]\n"
          ]
        },
        {
          "output_type": "stream",
          "name": "stdout",
          "text": [
            "Train loss: 56.05682402036407 Train accuracy 0.21630094187672844 Train top 5 accuracy 0.4706112809309905\n"
          ]
        },
        {
          "output_type": "stream",
          "name": "stderr",
          "text": [
            "100%|██████████| 2/2 [00:01<00:00,  1.58it/s]\n"
          ]
        },
        {
          "output_type": "stream",
          "name": "stdout",
          "text": [
            "Valid loss: 5.226536425677213 Valid accuracy 0.13912086916918104 Valid top 5 accuracy 0.40643571791323746\n",
            "Saving best model wieghts, Accuracy: 0.13912086916918104\n",
            "Epoch: 8/100\n"
          ]
        },
        {
          "output_type": "stream",
          "name": "stderr",
          "text": [
            "100%|██████████| 4/4 [00:02<00:00,  1.57it/s]\n"
          ]
        },
        {
          "output_type": "stream",
          "name": "stdout",
          "text": [
            "Train loss: 57.35085591673851 Train accuracy 0.2731191196309572 Train top 5 accuracy 0.5121473391455683\n"
          ]
        },
        {
          "output_type": "stream",
          "name": "stderr",
          "text": [
            "100%|██████████| 2/2 [00:01<00:00,  1.58it/s]\n"
          ]
        },
        {
          "output_type": "stream",
          "name": "stdout",
          "text": [
            "Valid loss: 5.726058298891241 Valid accuracy 0.1636624876409769 Valid top 5 accuracy 0.34003763527355413\n",
            "Saving best model wieghts, Accuracy: 0.1636624876409769\n",
            "Epoch: 9/100\n"
          ]
        },
        {
          "output_type": "stream",
          "name": "stderr",
          "text": [
            "100%|██████████| 4/4 [00:02<00:00,  1.61it/s]\n"
          ]
        },
        {
          "output_type": "stream",
          "name": "stdout",
          "text": [
            "Train loss: 44.59892947565425 Train accuracy 0.250783700580624 Train top 5 accuracy 0.4925548589619046\n"
          ]
        },
        {
          "output_type": "stream",
          "name": "stderr",
          "text": [
            "100%|██████████| 2/2 [00:00<00:00,  2.21it/s]\n"
          ]
        },
        {
          "output_type": "stream",
          "name": "stdout",
          "text": [
            "Valid loss: 4.983338193459944 Valid accuracy 0.1707749649543654 Valid top 5 accuracy 0.39659458297220146\n",
            "Saving best model wieghts, Accuracy: 0.1707749649543654\n",
            "Epoch: 10/100\n"
          ]
        },
        {
          "output_type": "stream",
          "name": "stderr",
          "text": [
            "100%|██████████| 4/4 [00:02<00:00,  1.57it/s]\n"
          ]
        },
        {
          "output_type": "stream",
          "name": "stdout",
          "text": [
            "Train loss: 49.36098929426887 Train accuracy 0.286442007615485 Train top 5 accuracy 0.5364420016042211\n"
          ]
        },
        {
          "output_type": "stream",
          "name": "stderr",
          "text": [
            "100%|██████████| 2/2 [00:01<00:00,  1.96it/s]\n"
          ]
        },
        {
          "output_type": "stream",
          "name": "stdout",
          "text": [
            "Valid loss: 4.965894514864141 Valid accuracy 0.1802916025573557 Valid top 5 accuracy 0.40292540074072103\n",
            "Saving best model wieghts, Accuracy: 0.1802916025573557\n",
            "Epoch: 11/100\n"
          ]
        },
        {
          "output_type": "stream",
          "name": "stderr",
          "text": [
            "100%|██████████| 4/4 [00:05<00:00,  1.47s/it]\n"
          ]
        },
        {
          "output_type": "stream",
          "name": "stdout",
          "text": [
            "Train loss: 40.47793824022467 Train accuracy 0.2919278990223326 Train top 5 accuracy 0.5227272789925337\n"
          ]
        },
        {
          "output_type": "stream",
          "name": "stderr",
          "text": [
            "100%|██████████| 2/2 [00:01<00:00,  1.44it/s]\n"
          ]
        },
        {
          "output_type": "stream",
          "name": "stdout",
          "text": [
            "Valid loss: 4.6823843555016955 Valid accuracy 0.21570500342006033 Valid top 5 accuracy 0.4583251669325612\n",
            "Saving best model wieghts, Accuracy: 0.21570500342006033\n",
            "Epoch: 12/100\n"
          ]
        },
        {
          "output_type": "stream",
          "name": "stderr",
          "text": [
            "100%|██████████| 4/4 [00:05<00:00,  1.28s/it]\n"
          ]
        },
        {
          "output_type": "stream",
          "name": "stdout",
          "text": [
            "Train loss: 30.3168476738713 Train accuracy 0.33307209801436827 Train top 5 accuracy 0.5411442055112936\n"
          ]
        },
        {
          "output_type": "stream",
          "name": "stderr",
          "text": [
            "100%|██████████| 2/2 [00:01<00:00,  1.57it/s]\n"
          ]
        },
        {
          "output_type": "stream",
          "name": "stdout",
          "text": [
            "Valid loss: 5.024923405864022 Valid accuracy 0.21721117435531181 Valid top 5 accuracy 0.44348182664676145\n",
            "Saving best model wieghts, Accuracy: 0.21721117435531181\n",
            "Epoch: 13/100\n"
          ]
        },
        {
          "output_type": "stream",
          "name": "stderr",
          "text": [
            "100%|██████████| 4/4 [00:05<00:00,  1.28s/it]\n"
          ]
        },
        {
          "output_type": "stream",
          "name": "stdout",
          "text": [
            "Train loss: 26.569464418021116 Train accuracy 0.3867554827593267 Train top 5 accuracy 0.5846395019272511\n"
          ]
        },
        {
          "output_type": "stream",
          "name": "stderr",
          "text": [
            "100%|██████████| 2/2 [00:00<00:00,  2.05it/s]\n"
          ]
        },
        {
          "output_type": "stream",
          "name": "stdout",
          "text": [
            "Valid loss: 5.110254975882444 Valid accuracy 0.1850652267987078 Valid top 5 accuracy 0.4034274565902623\n",
            "Accuracy didn't improve from: 0.21721117435531181\n",
            "Epoch: 14/100\n"
          ]
        },
        {
          "output_type": "stream",
          "name": "stderr",
          "text": [
            "100%|██████████| 4/4 [00:02<00:00,  1.67it/s]\n"
          ]
        },
        {
          "output_type": "stream",
          "name": "stdout",
          "text": [
            "Train loss: 27.265117249705575 Train accuracy 0.3471786868335171 Train top 5 accuracy 0.5583855709145692\n"
          ]
        },
        {
          "output_type": "stream",
          "name": "stderr",
          "text": [
            "100%|██████████| 2/2 [00:01<00:00,  1.58it/s]\n"
          ]
        },
        {
          "output_type": "stream",
          "name": "stdout",
          "text": [
            "Valid loss: 4.871951704675501 Valid accuracy 0.23814655129205098 Valid top 5 accuracy 0.4632253291254694\n",
            "Saving best model wieghts, Accuracy: 0.23814655129205098\n",
            "Epoch: 15/100\n"
          ]
        },
        {
          "output_type": "stream",
          "name": "stderr",
          "text": [
            "100%|██████████| 4/4 [00:02<00:00,  1.57it/s]\n"
          ]
        },
        {
          "output_type": "stream",
          "name": "stdout",
          "text": [
            "Train loss: 26.95375981926918 Train accuracy 0.40086205989461055 Train top 5 accuracy 0.5858150465752591\n"
          ]
        },
        {
          "output_type": "stream",
          "name": "stderr",
          "text": [
            "100%|██████████| 2/2 [00:00<00:00,  2.13it/s]\n"
          ]
        },
        {
          "output_type": "stream",
          "name": "stdout",
          "text": [
            "Valid loss: 4.742814364758405 Valid accuracy 0.2453243388709697 Valid top 5 accuracy 0.42359138280153275\n",
            "Saving best model wieghts, Accuracy: 0.2453243388709697\n",
            "Epoch: 16/100\n"
          ]
        },
        {
          "output_type": "stream",
          "name": "stderr",
          "text": [
            "100%|██████████| 4/4 [00:02<00:00,  1.57it/s]\n"
          ]
        },
        {
          "output_type": "stream",
          "name": "stdout",
          "text": [
            "Train loss: 22.089538690718737 Train accuracy 0.3992946715602143 Train top 5 accuracy 0.5799372969195247\n"
          ]
        },
        {
          "output_type": "stream",
          "name": "stderr",
          "text": [
            "100%|██████████| 2/2 [00:01<00:00,  1.58it/s]\n"
          ]
        },
        {
          "output_type": "stream",
          "name": "stdout",
          "text": [
            "Valid loss: 4.346987087618221 Valid accuracy 0.2496510095555674 Valid top 5 accuracy 0.4714684613387693\n",
            "Saving best model wieghts, Accuracy: 0.2496510095555674\n",
            "Epoch: 17/100\n"
          ]
        },
        {
          "output_type": "stream",
          "name": "stderr",
          "text": [
            "100%|██████████| 4/4 [00:02<00:00,  1.65it/s]\n"
          ]
        },
        {
          "output_type": "stream",
          "name": "stdout",
          "text": [
            "Train loss: 21.895708078687843 Train accuracy 0.38597178539599886 Train top 5 accuracy 0.5658307165246118\n"
          ]
        },
        {
          "output_type": "stream",
          "name": "stderr",
          "text": [
            "100%|██████████| 2/2 [00:00<00:00,  2.17it/s]\n"
          ]
        },
        {
          "output_type": "stream",
          "name": "stdout",
          "text": [
            "Valid loss: 4.217617211016742 Valid accuracy 0.2855868774720214 Valid top 5 accuracy 0.49293650297278707\n",
            "Saving best model wieghts, Accuracy: 0.2855868774720214\n",
            "Epoch: 18/100\n"
          ]
        },
        {
          "output_type": "stream",
          "name": "stderr",
          "text": [
            "100%|██████████| 4/4 [00:02<00:00,  1.57it/s]\n"
          ]
        },
        {
          "output_type": "stream",
          "name": "stdout",
          "text": [
            "Train loss: 24.903107009150766 Train accuracy 0.34874607728455553 Train top 5 accuracy 0.520376176065342\n"
          ]
        },
        {
          "output_type": "stream",
          "name": "stderr",
          "text": [
            "100%|██████████| 2/2 [00:00<00:00,  2.20it/s]\n"
          ]
        },
        {
          "output_type": "stream",
          "name": "stdout",
          "text": [
            "Valid loss: 4.486496965993535 Valid accuracy 0.2540899301794442 Valid top 5 accuracy 0.4679683428257704\n",
            "Accuracy didn't improve from: 0.2855868774720214\n",
            "Epoch: 19/100\n"
          ]
        },
        {
          "output_type": "stream",
          "name": "stderr",
          "text": [
            "100%|██████████| 4/4 [00:02<00:00,  1.58it/s]\n"
          ]
        },
        {
          "output_type": "stream",
          "name": "stdout",
          "text": [
            "Train loss: 17.2782766466791 Train accuracy 0.44004702191291883 Train top 5 accuracy 0.5956112907522104\n"
          ]
        },
        {
          "output_type": "stream",
          "name": "stderr",
          "text": [
            "100%|██████████| 2/2 [00:01<00:00,  1.58it/s]\n"
          ]
        },
        {
          "output_type": "stream",
          "name": "stdout",
          "text": [
            "Valid loss: 4.575564273379066 Valid accuracy 0.31043258580294525 Valid top 5 accuracy 0.5070941068909385\n",
            "Saving best model wieghts, Accuracy: 0.31043258580294525\n",
            "Epoch: 20/100\n"
          ]
        },
        {
          "output_type": "stream",
          "name": "stderr",
          "text": [
            "100%|██████████| 4/4 [00:02<00:00,  1.55it/s]\n"
          ]
        },
        {
          "output_type": "stream",
          "name": "stdout",
          "text": [
            "Train loss: 20.383106605573133 Train accuracy 0.3824451453560455 Train top 5 accuracy 0.5830721031789753\n"
          ]
        },
        {
          "output_type": "stream",
          "name": "stderr",
          "text": [
            "100%|██████████| 2/2 [00:01<00:00,  1.58it/s]\n"
          ]
        },
        {
          "output_type": "stream",
          "name": "stdout",
          "text": [
            "Valid loss: 4.610337866978212 Valid accuracy 0.309165197847919 Valid top 5 accuracy 0.5050042464651845\n",
            "Accuracy didn't improve from: 0.31043258580294525\n",
            "Epoch: 21/100\n"
          ]
        },
        {
          "output_type": "stream",
          "name": "stderr",
          "text": [
            "100%|██████████| 4/4 [00:02<00:00,  1.57it/s]\n"
          ]
        },
        {
          "output_type": "stream",
          "name": "stdout",
          "text": [
            "Train loss: 17.038656418973748 Train accuracy 0.3981191224249249 Train top 5 accuracy 0.5858150511472062\n"
          ]
        },
        {
          "output_type": "stream",
          "name": "stderr",
          "text": [
            "100%|██████████| 2/2 [00:00<00:00,  2.18it/s]\n"
          ]
        },
        {
          "output_type": "stream",
          "name": "stdout",
          "text": [
            "Valid loss: 4.38348483226516 Valid accuracy 0.31656136008148844 Valid top 5 accuracy 0.5196190076795492\n",
            "Saving best model wieghts, Accuracy: 0.31656136008148844\n",
            "Epoch: 22/100\n"
          ]
        },
        {
          "output_type": "stream",
          "name": "stderr",
          "text": [
            "100%|██████████| 4/4 [00:02<00:00,  1.57it/s]\n"
          ]
        },
        {
          "output_type": "stream",
          "name": "stdout",
          "text": [
            "Train loss: 15.867692348631946 Train accuracy 0.4525862134231085 Train top 5 accuracy 0.6018808844753287\n"
          ]
        },
        {
          "output_type": "stream",
          "name": "stderr",
          "text": [
            "100%|██████████| 2/2 [00:00<00:00,  2.21it/s]\n"
          ]
        },
        {
          "output_type": "stream",
          "name": "stdout",
          "text": [
            "Valid loss: 4.451361314816908 Valid accuracy 0.2956606730480086 Valid top 5 accuracy 0.4826586170291359\n",
            "Accuracy didn't improve from: 0.31656136008148844\n",
            "Epoch: 23/100\n"
          ]
        },
        {
          "output_type": "stream",
          "name": "stderr",
          "text": [
            "100%|██████████| 4/4 [00:02<00:00,  1.62it/s]\n"
          ]
        },
        {
          "output_type": "stream",
          "name": "stdout",
          "text": [
            "Train loss: 14.46520949493755 Train accuracy 0.4498432638885623 Train top 5 accuracy 0.5948275932195511\n"
          ]
        },
        {
          "output_type": "stream",
          "name": "stderr",
          "text": [
            "100%|██████████| 2/2 [00:01<00:00,  1.58it/s]\n"
          ]
        },
        {
          "output_type": "stream",
          "name": "stdout",
          "text": [
            "Valid loss: 4.190474800088189 Valid accuracy 0.3217962214892561 Valid top 5 accuracy 0.5185638715259053\n",
            "Saving best model wieghts, Accuracy: 0.3217962214892561\n",
            "Epoch: 24/100\n"
          ]
        },
        {
          "output_type": "stream",
          "name": "stderr",
          "text": [
            "100%|██████████| 4/4 [00:03<00:00,  1.12it/s]\n"
          ]
        },
        {
          "output_type": "stream",
          "name": "stdout",
          "text": [
            "Train loss: 13.899052611806177 Train accuracy 0.4627742958255112 Train top 5 accuracy 0.5995297737588937\n"
          ]
        },
        {
          "output_type": "stream",
          "name": "stderr",
          "text": [
            "100%|██████████| 2/2 [00:01<00:00,  1.93it/s]\n"
          ]
        },
        {
          "output_type": "stream",
          "name": "stdout",
          "text": [
            "Valid loss: 4.412048998204145 Valid accuracy 0.3211064020341093 Valid top 5 accuracy 0.5006673657758669\n",
            "Accuracy didn't improve from: 0.3217962214892561\n",
            "Epoch: 25/100\n"
          ]
        },
        {
          "output_type": "stream",
          "name": "stderr",
          "text": [
            "100%|██████████| 4/4 [00:05<00:00,  1.28s/it]\n"
          ]
        },
        {
          "output_type": "stream",
          "name": "stdout",
          "text": [
            "Train loss: 16.434240861372515 Train accuracy 0.41183385612781753 Train top 5 accuracy 0.5513322867707096\n"
          ]
        },
        {
          "output_type": "stream",
          "name": "stderr",
          "text": [
            "100%|██████████| 2/2 [00:01<00:00,  1.57it/s]\n"
          ]
        },
        {
          "output_type": "stream",
          "name": "stdout",
          "text": [
            "Valid loss: 4.464962143789638 Valid accuracy 0.3247126423838464 Valid top 5 accuracy 0.5071043114770543\n",
            "Saving best model wieghts, Accuracy: 0.3247126423838464\n",
            "Epoch: 26/100\n"
          ]
        },
        {
          "output_type": "stream",
          "name": "stderr",
          "text": [
            "100%|██████████| 4/4 [00:02<00:00,  1.64it/s]\n"
          ]
        },
        {
          "output_type": "stream",
          "name": "stdout",
          "text": [
            "Train loss: 14.279093793847345 Train accuracy 0.4545454524711452 Train top 5 accuracy 0.5897335449064319\n"
          ]
        },
        {
          "output_type": "stream",
          "name": "stderr",
          "text": [
            "100%|██████████| 2/2 [00:00<00:00,  2.18it/s]\n"
          ]
        },
        {
          "output_type": "stream",
          "name": "stdout",
          "text": [
            "Valid loss: 4.707585649056868 Valid accuracy 0.3232983106916601 Valid top 5 accuracy 0.5155005041848529\n",
            "Accuracy didn't improve from: 0.3247126423838464\n",
            "Epoch: 27/100\n"
          ]
        },
        {
          "output_type": "stream",
          "name": "stderr",
          "text": [
            "100%|██████████| 4/4 [00:02<00:00,  1.57it/s]\n"
          ]
        },
        {
          "output_type": "stream",
          "name": "stdout",
          "text": [
            "Train loss: 13.388514627109874 Train accuracy 0.4623824476095086 Train top 5 accuracy 0.6018808750774373\n"
          ]
        },
        {
          "output_type": "stream",
          "name": "stderr",
          "text": [
            "100%|██████████| 2/2 [00:01<00:00,  1.58it/s]\n"
          ]
        },
        {
          "output_type": "stream",
          "name": "stdout",
          "text": [
            "Valid loss: 4.277482468973506 Valid accuracy 0.3012873892757026 Valid top 5 accuracy 0.5040511517700824\n",
            "Accuracy didn't improve from: 0.3247126423838464\n",
            "Epoch: 28/100\n"
          ]
        },
        {
          "output_type": "stream",
          "name": "stderr",
          "text": [
            "100%|██████████| 4/4 [00:02<00:00,  1.57it/s]\n"
          ]
        },
        {
          "output_type": "stream",
          "name": "stdout",
          "text": [
            "Train loss: 16.063085726716302 Train accuracy 0.42750783734531567 Train top 5 accuracy 0.5995297785848379\n"
          ]
        },
        {
          "output_type": "stream",
          "name": "stderr",
          "text": [
            "100%|██████████| 2/2 [00:01<00:00,  1.58it/s]\n"
          ]
        },
        {
          "output_type": "stream",
          "name": "stdout",
          "text": [
            "Valid loss: 4.453511010516774 Valid accuracy 0.3166878907517953 Valid top 5 accuracy 0.5133739068088207\n",
            "Accuracy didn't improve from: 0.3247126423838464\n",
            "Epoch: 29/100\n"
          ]
        },
        {
          "output_type": "stream",
          "name": "stderr",
          "text": [
            "100%|██████████| 4/4 [00:05<00:00,  1.28s/it]\n"
          ]
        },
        {
          "output_type": "stream",
          "name": "stdout",
          "text": [
            "Train loss: 12.077983666550029 Train accuracy 0.48393417094749486 Train top 5 accuracy 0.6054075174880299\n"
          ]
        },
        {
          "output_type": "stream",
          "name": "stderr",
          "text": [
            "100%|██████████| 2/2 [00:01<00:00,  1.91it/s]\n"
          ]
        },
        {
          "output_type": "stream",
          "name": "stdout",
          "text": [
            "Valid loss: 4.503252823244441 Valid accuracy 0.3252106166698716 Valid top 5 accuracy 0.5213741665198044\n",
            "Saving best model wieghts, Accuracy: 0.3252106166698716\n",
            "Epoch: 30/100\n"
          ]
        },
        {
          "output_type": "stream",
          "name": "stderr",
          "text": [
            "100%|██████████| 4/4 [00:02<00:00,  1.66it/s]\n"
          ]
        },
        {
          "output_type": "stream",
          "name": "stdout",
          "text": [
            "Train loss: 10.04336555166678 Train accuracy 0.502351101784205 Train top 5 accuracy 0.6061912187459794\n"
          ]
        },
        {
          "output_type": "stream",
          "name": "stderr",
          "text": [
            "100%|██████████| 2/2 [00:00<00:00,  2.18it/s]\n"
          ]
        },
        {
          "output_type": "stream",
          "name": "stdout",
          "text": [
            "Valid loss: 4.256040360439908 Valid accuracy 0.3644731242886998 Valid top 5 accuracy 0.5345378611236811\n",
            "Saving best model wieghts, Accuracy: 0.3644731242886998\n",
            "Epoch: 31/100\n"
          ]
        },
        {
          "output_type": "stream",
          "name": "stderr",
          "text": [
            "100%|██████████| 4/4 [00:02<00:00,  1.57it/s]\n"
          ]
        },
        {
          "output_type": "stream",
          "name": "stdout",
          "text": [
            "Train loss: 10.742858136242086 Train accuracy 0.48432601780884643 Train top 5 accuracy 0.60344827005809\n"
          ]
        },
        {
          "output_type": "stream",
          "name": "stderr",
          "text": [
            "100%|██████████| 2/2 [00:00<00:00,  2.10it/s]\n"
          ]
        },
        {
          "output_type": "stream",
          "name": "stdout",
          "text": [
            "Valid loss: 4.336954535408453 Valid accuracy 0.3203451538627798 Valid top 5 accuracy 0.5007836977866563\n",
            "Accuracy didn't improve from: 0.3644731242886998\n",
            "Epoch: 32/100\n"
          ]
        },
        {
          "output_type": "stream",
          "name": "stderr",
          "text": [
            "100%|██████████| 4/4 [00:02<00:00,  1.57it/s]\n"
          ]
        },
        {
          "output_type": "stream",
          "name": "stdout",
          "text": [
            "Train loss: 10.37954479726878 Train accuracy 0.4768808812156997 Train top 5 accuracy 0.587382439354604\n"
          ]
        },
        {
          "output_type": "stream",
          "name": "stderr",
          "text": [
            "100%|██████████| 2/2 [00:01<00:00,  1.58it/s]\n"
          ]
        },
        {
          "output_type": "stream",
          "name": "stdout",
          "text": [
            "Valid loss: 4.3988441919738595 Valid accuracy 0.363717996430668 Valid top 5 accuracy 0.535821579566056\n",
            "Accuracy didn't improve from: 0.3644731242886998\n",
            "Epoch: 33/100\n"
          ]
        },
        {
          "output_type": "stream",
          "name": "stderr",
          "text": [
            "100%|██████████| 4/4 [00:02<00:00,  1.66it/s]\n"
          ]
        },
        {
          "output_type": "stream",
          "name": "stdout",
          "text": [
            "Train loss: 9.264992535114288 Train accuracy 0.4855015685104511 Train top 5 accuracy 0.6003134773874824\n"
          ]
        },
        {
          "output_type": "stream",
          "name": "stderr",
          "text": [
            "100%|██████████| 2/2 [00:00<00:00,  2.17it/s]\n"
          ]
        },
        {
          "output_type": "stream",
          "name": "stdout",
          "text": [
            "Valid loss: 4.488676457242533 Valid accuracy 0.3686181606555527 Valid top 5 accuracy 0.5365216003900225\n",
            "Saving best model wieghts, Accuracy: 0.3686181606555527\n",
            "Epoch: 34/100\n"
          ]
        },
        {
          "output_type": "stream",
          "name": "stderr",
          "text": [
            "100%|██████████| 4/4 [00:02<00:00,  1.66it/s]\n"
          ]
        },
        {
          "output_type": "stream",
          "name": "stdout",
          "text": [
            "Train loss: 8.703296786004847 Train accuracy 0.48589342151006515 Train top 5 accuracy 0.6010971741581504\n"
          ]
        },
        {
          "output_type": "stream",
          "name": "stderr",
          "text": [
            "100%|██████████| 2/2 [00:01<00:00,  1.58it/s]\n"
          ]
        },
        {
          "output_type": "stream",
          "name": "stdout",
          "text": [
            "Valid loss: 4.21648905087601 Valid accuracy 0.39092297039248725 Valid top 5 accuracy 0.5473974699323828\n",
            "Saving best model wieghts, Accuracy: 0.39092297039248725\n",
            "Epoch: 35/100\n"
          ]
        },
        {
          "output_type": "stream",
          "name": "stderr",
          "text": [
            "100%|██████████| 4/4 [00:02<00:00,  1.57it/s]\n"
          ]
        },
        {
          "output_type": "stream",
          "name": "stdout",
          "text": [
            "Train loss: 12.657665306871587 Train accuracy 0.4388714745556089 Train top 5 accuracy 0.5842476499012925\n"
          ]
        },
        {
          "output_type": "stream",
          "name": "stderr",
          "text": [
            "100%|██████████| 2/2 [00:01<00:00,  1.58it/s]\n"
          ]
        },
        {
          "output_type": "stream",
          "name": "stdout",
          "text": [
            "Valid loss: 4.416353344917297 Valid accuracy 0.3914046152071519 Valid top 5 accuracy 0.5287703296000307\n",
            "Saving best model wieghts, Accuracy: 0.3914046152071519\n",
            "Epoch: 36/100\n"
          ]
        },
        {
          "output_type": "stream",
          "name": "stderr",
          "text": [
            "100%|██████████| 4/4 [00:02<00:00,  1.59it/s]\n"
          ]
        },
        {
          "output_type": "stream",
          "name": "stdout",
          "text": [
            "Train loss: 8.535810971801931 Train accuracy 0.516849534035745 Train top 5 accuracy 0.6116771152751013\n"
          ]
        },
        {
          "output_type": "stream",
          "name": "stderr",
          "text": [
            "100%|██████████| 2/2 [00:01<00:00,  1.58it/s]\n"
          ]
        },
        {
          "output_type": "stream",
          "name": "stdout",
          "text": [
            "Valid loss: 4.348673874681646 Valid accuracy 0.34136216376315465 Valid top 5 accuracy 0.5321337030353871\n",
            "Accuracy didn't improve from: 0.3914046152071519\n",
            "Epoch: 37/100\n"
          ]
        },
        {
          "output_type": "stream",
          "name": "stderr",
          "text": [
            "100%|██████████| 4/4 [00:02<00:00,  1.57it/s]\n"
          ]
        },
        {
          "output_type": "stream",
          "name": "stdout",
          "text": [
            "Train loss: 8.11429630897262 Train accuracy 0.5227272811515088 Train top 5 accuracy 0.6132445071231235\n"
          ]
        },
        {
          "output_type": "stream",
          "name": "stderr",
          "text": [
            "100%|██████████| 2/2 [00:01<00:00,  1.58it/s]\n"
          ]
        },
        {
          "output_type": "stream",
          "name": "stdout",
          "text": [
            "Valid loss: 4.420958122069186 Valid accuracy 0.34108256531709974 Valid top 5 accuracy 0.5308703956278887\n",
            "Accuracy didn't improve from: 0.3914046152071519\n",
            "Epoch: 38/100\n"
          ]
        },
        {
          "output_type": "stream",
          "name": "stderr",
          "text": [
            "100%|██████████| 4/4 [00:02<00:00,  1.60it/s]\n"
          ]
        },
        {
          "output_type": "stream",
          "name": "stdout",
          "text": [
            "Train loss: 8.451900758526541 Train accuracy 0.49921629912304605 Train top 5 accuracy 0.6050156696953557\n"
          ]
        },
        {
          "output_type": "stream",
          "name": "stderr",
          "text": [
            "100%|██████████| 2/2 [00:00<00:00,  2.19it/s]\n"
          ]
        },
        {
          "output_type": "stream",
          "name": "stdout",
          "text": [
            "Valid loss: 4.260687557133761 Valid accuracy 0.3884167657657103 Valid top 5 accuracy 0.5505730802701279\n",
            "Accuracy didn't improve from: 0.3914046152071519\n",
            "Epoch: 39/100\n"
          ]
        },
        {
          "output_type": "stream",
          "name": "stderr",
          "text": [
            "100%|██████████| 4/4 [00:05<00:00,  1.28s/it]\n"
          ]
        },
        {
          "output_type": "stream",
          "name": "stdout",
          "text": [
            "Train loss: 9.417174379933964 Train accuracy 0.4796238190663809 Train top 5 accuracy 0.587382448329167\n"
          ]
        },
        {
          "output_type": "stream",
          "name": "stderr",
          "text": [
            "100%|██████████| 2/2 [00:01<00:00,  1.57it/s]\n"
          ]
        },
        {
          "output_type": "stream",
          "name": "stdout",
          "text": [
            "Valid loss: 4.550074538046664 Valid accuracy 0.35280131599442527 Valid top 5 accuracy 0.539864567193118\n",
            "Accuracy didn't improve from: 0.3914046152071519\n",
            "Epoch: 40/100\n"
          ]
        },
        {
          "output_type": "stream",
          "name": "stderr",
          "text": [
            "100%|██████████| 4/4 [00:02<00:00,  1.56it/s]\n"
          ]
        },
        {
          "output_type": "stream",
          "name": "stdout",
          "text": [
            "Train loss: 8.85091169313951 Train accuracy 0.5078369913707402 Train top 5 accuracy 0.6069749218665741\n"
          ]
        },
        {
          "output_type": "stream",
          "name": "stderr",
          "text": [
            "100%|██████████| 2/2 [00:00<00:00,  2.11it/s]\n"
          ]
        },
        {
          "output_type": "stream",
          "name": "stdout",
          "text": [
            "Valid loss: 4.721740644086491 Valid accuracy 0.3136490180411122 Valid top 5 accuracy 0.5078655642203309\n",
            "Accuracy didn't improve from: 0.3914046152071519\n",
            "Epoch: 41/100\n"
          ]
        },
        {
          "output_type": "stream",
          "name": "stderr",
          "text": [
            "100%|██████████| 4/4 [00:02<00:00,  1.57it/s]\n"
          ]
        },
        {
          "output_type": "stream",
          "name": "stdout",
          "text": [
            "Train loss: 11.016427835280245 Train accuracy 0.45336990896612406 Train top 5 accuracy 0.5830721000040119\n"
          ]
        },
        {
          "output_type": "stream",
          "name": "stderr",
          "text": [
            "100%|██████████| 2/2 [00:01<00:00,  1.58it/s]\n"
          ]
        },
        {
          "output_type": "stream",
          "name": "stdout",
          "text": [
            "Valid loss: 4.580453008413315 Valid accuracy 0.3788042070174759 Valid top 5 accuracy 0.5431871273639527\n",
            "Accuracy didn't improve from: 0.3914046152071519\n",
            "Epoch: 42/100\n"
          ]
        },
        {
          "output_type": "stream",
          "name": "stderr",
          "text": [
            "100%|██████████| 4/4 [00:02<00:00,  1.57it/s]\n"
          ]
        },
        {
          "output_type": "stream",
          "name": "stdout",
          "text": [
            "Train loss: 8.099504457278686 Train accuracy 0.5097962451506067 Train top 5 accuracy 0.6050156685100361\n"
          ]
        },
        {
          "output_type": "stream",
          "name": "stderr",
          "text": [
            "100%|██████████| 2/2 [00:01<00:00,  1.57it/s]\n"
          ]
        },
        {
          "output_type": "stream",
          "name": "stdout",
          "text": [
            "Valid loss: 4.6873267089778725 Valid accuracy 0.3761816673319448 Valid top 5 accuracy 0.5358215780420736\n",
            "Accuracy didn't improve from: 0.3914046152071519\n",
            "Epoch: 43/100\n"
          ]
        },
        {
          "output_type": "stream",
          "name": "stderr",
          "text": [
            "100%|██████████| 4/4 [00:02<00:00,  1.64it/s]\n"
          ]
        },
        {
          "output_type": "stream",
          "name": "stdout",
          "text": [
            "Train loss: 7.220096333460375 Train accuracy 0.532523515845903 Train top 5 accuracy 0.6101097152991728\n"
          ]
        },
        {
          "output_type": "stream",
          "name": "stderr",
          "text": [
            "100%|██████████| 2/2 [00:00<00:00,  2.15it/s]\n"
          ]
        },
        {
          "output_type": "stream",
          "name": "stdout",
          "text": [
            "Valid loss: 4.560975127599456 Valid accuracy 0.3365885420617732 Valid top 5 accuracy 0.5289682930504734\n",
            "Accuracy didn't improve from: 0.3914046152071519\n",
            "Epoch: 44/100\n"
          ]
        },
        {
          "output_type": "stream",
          "name": "stderr",
          "text": [
            "100%|██████████| 4/4 [00:05<00:00,  1.28s/it]\n"
          ]
        },
        {
          "output_type": "stream",
          "name": "stdout",
          "text": [
            "Train loss: 6.59222853996537 Train accuracy 0.5364420027472079 Train top 5 accuracy 0.6124608106911182\n"
          ]
        },
        {
          "output_type": "stream",
          "name": "stderr",
          "text": [
            "100%|██████████| 2/2 [00:02<00:00,  1.28s/it]\n"
          ]
        },
        {
          "output_type": "stream",
          "name": "stdout",
          "text": [
            "Valid loss: 4.442720808766105 Valid accuracy 0.36189140887422994 Valid top 5 accuracy 0.5412544096735391\n",
            "Accuracy didn't improve from: 0.3914046152071519\n",
            "Epoch: 45/100\n"
          ]
        },
        {
          "output_type": "stream",
          "name": "stderr",
          "text": [
            "100%|██████████| 4/4 [00:04<00:00,  1.19s/it]\n"
          ]
        },
        {
          "output_type": "stream",
          "name": "stdout",
          "text": [
            "Train loss: 6.630970935929906 Train accuracy 0.5376175587404181 Train top 5 accuracy 0.6155956109816377\n"
          ]
        },
        {
          "output_type": "stream",
          "name": "stderr",
          "text": [
            "100%|██████████| 2/2 [00:01<00:00,  1.98it/s]\n"
          ]
        },
        {
          "output_type": "stream",
          "name": "stdout",
          "text": [
            "Valid loss: 4.460500902750275 Valid accuracy 0.3615669073028998 Valid top 5 accuracy 0.5423401550135829\n",
            "Accuracy didn't improve from: 0.3914046152071519\n",
            "model didn't improve for 10 epochs----> lower learning rate to 2e-05\n",
            "Epoch: 46/100\n"
          ]
        },
        {
          "output_type": "stream",
          "name": "stderr",
          "text": [
            "100%|██████████| 4/4 [00:10<00:00,  2.57s/it]\n"
          ]
        },
        {
          "output_type": "stream",
          "name": "stdout",
          "text": [
            "Train loss: 5.7048428004438225 Train accuracy 0.5364420068111609 Train top 5 accuracy 0.6199059520255435\n"
          ]
        },
        {
          "output_type": "stream",
          "name": "stderr",
          "text": [
            "100%|██████████| 2/2 [00:04<00:00,  2.14s/it]\n"
          ]
        },
        {
          "output_type": "stream",
          "name": "stdout",
          "text": [
            "Valid loss: 4.409786340865222 Valid accuracy 0.4005559379742904 Valid top 5 accuracy 0.5551793531260707\n",
            "Saving best model wieghts, Accuracy: 0.4005559379742904\n",
            "Epoch: 47/100\n"
          ]
        },
        {
          "output_type": "stream",
          "name": "stderr",
          "text": [
            "100%|██████████| 4/4 [00:02<00:00,  1.58it/s]\n"
          ]
        },
        {
          "output_type": "stream",
          "name": "stdout",
          "text": [
            "Train loss: 5.438402109525421 Train accuracy 0.5407523519190197 Train top 5 accuracy 0.6246081475507129\n"
          ]
        },
        {
          "output_type": "stream",
          "name": "stderr",
          "text": [
            "100%|██████████| 2/2 [00:00<00:00,  2.02it/s]\n"
          ]
        },
        {
          "output_type": "stream",
          "name": "stdout",
          "text": [
            "Valid loss: 4.391845457933166 Valid accuracy 0.3961272207512097 Valid top 5 accuracy 0.5565896017307584\n",
            "Accuracy didn't improve from: 0.4005559379742904\n",
            "Epoch: 48/100\n"
          ]
        },
        {
          "output_type": "stream",
          "name": "stderr",
          "text": [
            "100%|██████████| 4/4 [00:02<00:00,  1.54it/s]\n"
          ]
        },
        {
          "output_type": "stream",
          "name": "stdout",
          "text": [
            "Train loss: 5.270069856535304 Train accuracy 0.5458463924428956 Train top 5 accuracy 0.6304858909411863\n"
          ]
        },
        {
          "output_type": "stream",
          "name": "stderr",
          "text": [
            "100%|██████████| 2/2 [00:01<00:00,  1.58it/s]\n"
          ]
        },
        {
          "output_type": "stream",
          "name": "stdout",
          "text": [
            "Valid loss: 4.418611999262463 Valid accuracy 0.3882494137029756 Valid top 5 accuracy 0.5571426827121865\n",
            "Accuracy didn't improve from: 0.4005559379742904\n",
            "Epoch: 49/100\n"
          ]
        },
        {
          "output_type": "stream",
          "name": "stderr",
          "text": [
            "100%|██████████| 4/4 [00:02<00:00,  1.58it/s]\n"
          ]
        },
        {
          "output_type": "stream",
          "name": "stdout",
          "text": [
            "Train loss: 5.153260611675003 Train accuracy 0.5458463978614997 Train top 5 accuracy 0.6355799375609918\n"
          ]
        },
        {
          "output_type": "stream",
          "name": "stderr",
          "text": [
            "100%|██████████| 2/2 [00:01<00:00,  1.99it/s]\n"
          ]
        },
        {
          "output_type": "stream",
          "name": "stdout",
          "text": [
            "Valid loss: 4.434869974851608 Valid accuracy 0.38683916509828786 Valid top 5 accuracy 0.5595876613462513\n",
            "Accuracy didn't improve from: 0.4005559379742904\n",
            "Epoch: 50/100\n"
          ]
        },
        {
          "output_type": "stream",
          "name": "stderr",
          "text": [
            "100%|██████████| 4/4 [00:05<00:00,  1.28s/it]\n"
          ]
        },
        {
          "output_type": "stream",
          "name": "stdout",
          "text": [
            "Train loss: 5.058832795782522 Train accuracy 0.5481974922374568 Train top 5 accuracy 0.6391065818342295\n"
          ]
        },
        {
          "output_type": "stream",
          "name": "stderr",
          "text": [
            "100%|██████████| 2/2 [00:01<00:00,  1.57it/s]\n"
          ]
        },
        {
          "output_type": "stream",
          "name": "stdout",
          "text": [
            "Valid loss: 4.451774322173812 Valid accuracy 0.3838819212872874 Valid top 5 accuracy 0.5617081360383467\n",
            "Accuracy didn't improve from: 0.4005559379742904\n",
            "Epoch: 51/100\n"
          ]
        },
        {
          "output_type": "stream",
          "name": "stderr",
          "text": [
            "100%|██████████| 4/4 [00:05<00:00,  1.28s/it]\n"
          ]
        },
        {
          "output_type": "stream",
          "name": "stdout",
          "text": [
            "Train loss: 4.983238860964775 Train accuracy 0.5497648942453618 Train top 5 accuracy 0.6418495293367993\n"
          ]
        },
        {
          "output_type": "stream",
          "name": "stderr",
          "text": [
            "100%|██████████| 2/2 [00:02<00:00,  1.28s/it]\n"
          ]
        },
        {
          "output_type": "stream",
          "name": "stdout",
          "text": [
            "Valid loss: 4.476922690868378 Valid accuracy 0.38196961615573277 Valid top 5 accuracy 0.5638388210738247\n",
            "Accuracy didn't improve from: 0.4005559379742904\n",
            "Epoch: 52/100\n"
          ]
        },
        {
          "output_type": "stream",
          "name": "stderr",
          "text": [
            "100%|██████████| 4/4 [00:05<00:00,  1.28s/it]\n"
          ]
        },
        {
          "output_type": "stream",
          "name": "stdout",
          "text": [
            "Train loss: 4.899161821061915 Train accuracy 0.5501567460173233 Train top 5 accuracy 0.6434169269420884\n"
          ]
        },
        {
          "output_type": "stream",
          "name": "stderr",
          "text": [
            "100%|██████████| 2/2 [00:01<00:00,  1.03it/s]\n"
          ]
        },
        {
          "output_type": "stream",
          "name": "stdout",
          "text": [
            "Valid loss: 4.489177510142326 Valid accuracy 0.38426765156063164 Valid top 5 accuracy 0.5666389146989043\n",
            "Accuracy didn't improve from: 0.4005559379742904\n",
            "Epoch: 53/100\n"
          ]
        },
        {
          "output_type": "stream",
          "name": "stderr",
          "text": [
            "100%|██████████| 4/4 [00:05<00:00,  1.28s/it]\n"
          ]
        },
        {
          "output_type": "stream",
          "name": "stdout",
          "text": [
            "Train loss: 4.783481379801577 Train accuracy 0.5509404414333403 Train top 5 accuracy 0.643808776004748\n"
          ]
        },
        {
          "output_type": "stream",
          "name": "stderr",
          "text": [
            "100%|██████████| 2/2 [00:01<00:00,  1.76it/s]\n"
          ]
        },
        {
          "output_type": "stream",
          "name": "stdout",
          "text": [
            "Valid loss: 4.498703314499422 Valid accuracy 0.39034947990016505 Valid top 5 accuracy 0.5690736862068827\n",
            "Accuracy didn't improve from: 0.4005559379742904\n",
            "Epoch: 54/100\n"
          ]
        },
        {
          "output_type": "stream",
          "name": "stderr",
          "text": [
            "100%|██████████| 4/4 [00:03<00:00,  1.19it/s]\n"
          ]
        },
        {
          "output_type": "stream",
          "name": "stdout",
          "text": [
            "Train loss: 4.667265008796345 Train accuracy 0.5521159863776781 Train top 5 accuracy 0.6449843204834245\n"
          ]
        },
        {
          "output_type": "stream",
          "name": "stderr",
          "text": [
            "100%|██████████| 2/2 [00:01<00:00,  1.57it/s]\n"
          ]
        },
        {
          "output_type": "stream",
          "name": "stdout",
          "text": [
            "Valid loss: 4.525290864435109 Valid accuracy 0.38982701674103737 Valid top 5 accuracy 0.5683838669210672\n",
            "Accuracy didn't improve from: 0.4005559379742904\n",
            "Epoch: 55/100\n"
          ]
        },
        {
          "output_type": "stream",
          "name": "stderr",
          "text": [
            "100%|██████████| 4/4 [00:10<00:00,  2.57s/it]\n"
          ]
        },
        {
          "output_type": "stream",
          "name": "stdout",
          "text": [
            "Train loss: 4.566161074421623 Train accuracy 0.5536833826283162 Train top 5 accuracy 0.6473354168913581\n"
          ]
        },
        {
          "output_type": "stream",
          "name": "stderr",
          "text": [
            "100%|██████████| 2/2 [00:01<00:00,  1.56it/s]\n"
          ]
        },
        {
          "output_type": "stream",
          "name": "stdout",
          "text": [
            "Valid loss: 4.540078312158585 Valid accuracy 0.39105970768088644 Valid top 5 accuracy 0.573116675357927\n",
            "Accuracy didn't improve from: 0.4005559379742904\n",
            "Epoch: 56/100\n"
          ]
        },
        {
          "output_type": "stream",
          "name": "stderr",
          "text": [
            "100%|██████████| 4/4 [00:05<00:00,  1.28s/it]\n"
          ]
        },
        {
          "output_type": "stream",
          "name": "stdout",
          "text": [
            "Train loss: 4.480242604559118 Train accuracy 0.5548589271069928 Train top 5 accuracy 0.6512539156458594\n"
          ]
        },
        {
          "output_type": "stream",
          "name": "stderr",
          "text": [
            "100%|██████████| 2/2 [00:01<00:00,  1.92it/s]\n"
          ]
        },
        {
          "output_type": "stream",
          "name": "stdout",
          "text": [
            "Valid loss: 4.551686262542551 Valid accuracy 0.39299242418598046 Valid top 5 accuracy 0.573639140887694\n",
            "Accuracy didn't improve from: 0.4005559379742904\n",
            "model didn't improve for 10 epochs----> lower learning rate to 4.000000000000001e-06\n",
            "Epoch: 57/100\n"
          ]
        },
        {
          "output_type": "stream",
          "name": "stderr",
          "text": [
            "100%|██████████| 4/4 [00:07<00:00,  1.80s/it]\n"
          ]
        },
        {
          "output_type": "stream",
          "name": "stdout",
          "text": [
            "Train loss: 4.290529106150974 Train accuracy 0.5540752344002778 Train top 5 accuracy 0.6489028185606003\n"
          ]
        },
        {
          "output_type": "stream",
          "name": "stderr",
          "text": [
            "100%|██████████| 2/2 [00:05<00:00,  2.56s/it]\n"
          ]
        },
        {
          "output_type": "stream",
          "name": "stdout",
          "text": [
            "Valid loss: 4.48436307229779 Valid accuracy 0.4029805050654845 Valid top 5 accuracy 0.576982108368115\n",
            "Saving best model wieghts, Accuracy: 0.4029805050654845\n",
            "Epoch: 58/100\n"
          ]
        },
        {
          "output_type": "stream",
          "name": "stderr",
          "text": [
            "100%|██████████| 4/4 [00:02<00:00,  1.49it/s]\n"
          ]
        },
        {
          "output_type": "stream",
          "name": "stdout",
          "text": [
            "Train loss: 4.246873381462964 Train accuracy 0.5540752344002778 Train top 5 accuracy 0.6481191177259792\n"
          ]
        },
        {
          "output_type": "stream",
          "name": "stderr",
          "text": [
            "100%|██████████| 2/2 [00:00<00:00,  2.09it/s]\n"
          ]
        },
        {
          "output_type": "stream",
          "name": "stdout",
          "text": [
            "Valid loss: 4.500851688059893 Valid accuracy 0.4058010031215169 Valid top 5 accuracy 0.5766167911616239\n",
            "Saving best model wieghts, Accuracy: 0.4058010031215169\n",
            "Epoch: 59/100\n"
          ]
        },
        {
          "output_type": "stream",
          "name": "stderr",
          "text": [
            "100%|██████████| 4/4 [00:02<00:00,  1.44it/s]\n"
          ]
        },
        {
          "output_type": "stream",
          "name": "stdout",
          "text": [
            "Train loss: 4.223113549026576 Train accuracy 0.5540752289816737 Train top 5 accuracy 0.6481191177259792\n"
          ]
        },
        {
          "output_type": "stream",
          "name": "stderr",
          "text": [
            "100%|██████████| 2/2 [00:00<00:00,  2.02it/s]\n"
          ]
        },
        {
          "output_type": "stream",
          "name": "stdout",
          "text": [
            "Valid loss: 4.495474082502452 Valid accuracy 0.4057907998900522 Valid top 5 accuracy 0.577149460600181\n",
            "Accuracy didn't improve from: 0.4058010031215169\n",
            "Epoch: 60/100\n"
          ]
        },
        {
          "output_type": "stream",
          "name": "stderr",
          "text": [
            "100%|██████████| 4/4 [00:02<00:00,  1.53it/s]\n"
          ]
        },
        {
          "output_type": "stream",
          "name": "stdout",
          "text": [
            "Train loss: 4.200103423812172 Train accuracy 0.5544670807536353 Train top 5 accuracy 0.6481191177259792\n"
          ]
        },
        {
          "output_type": "stream",
          "name": "stderr",
          "text": [
            "100%|██████████| 2/2 [00:00<00:00,  2.06it/s]\n"
          ]
        },
        {
          "output_type": "stream",
          "name": "stdout",
          "text": [
            "Valid loss: 4.503120632334189 Valid accuracy 0.4054458899931474 Valid top 5 accuracy 0.5768045512112704\n",
            "Accuracy didn't improve from: 0.4058010031215169\n",
            "Epoch: 61/100\n"
          ]
        },
        {
          "output_type": "stream",
          "name": "stderr",
          "text": [
            "100%|██████████| 4/4 [00:05<00:00,  1.28s/it]\n"
          ]
        },
        {
          "output_type": "stream",
          "name": "stdout",
          "text": [
            "Train loss: 4.177539043805816 Train accuracy 0.5544670807536353 Train top 5 accuracy 0.6485109667886387\n"
          ]
        },
        {
          "output_type": "stream",
          "name": "stderr",
          "text": [
            "100%|██████████| 2/2 [00:01<00:00,  1.92it/s]\n"
          ]
        },
        {
          "output_type": "stream",
          "name": "stdout",
          "text": [
            "Valid loss: 4.508136559616435 Valid accuracy 0.4052683331749656 Valid top 5 accuracy 0.5773270170797001\n",
            "Accuracy didn't improve from: 0.4058010031215169\n",
            "Epoch: 62/100\n"
          ]
        },
        {
          "output_type": "stream",
          "name": "stderr",
          "text": [
            "100%|██████████| 4/4 [00:02<00:00,  1.65it/s]\n"
          ]
        },
        {
          "output_type": "stream",
          "name": "stdout",
          "text": [
            "Train loss: 4.1553266454826705 Train accuracy 0.5552507734603502 Train top 5 accuracy 0.6496865153312683\n"
          ]
        },
        {
          "output_type": "stream",
          "name": "stderr",
          "text": [
            "100%|██████████| 2/2 [00:00<00:00,  2.17it/s]\n"
          ]
        },
        {
          "output_type": "stream",
          "name": "stdout",
          "text": [
            "Valid loss: 4.5139565928415815 Valid accuracy 0.4042234027927572 Valid top 5 accuracy 0.5775045738978819\n",
            "Accuracy didn't improve from: 0.4058010031215169\n",
            "Epoch: 63/100\n"
          ]
        },
        {
          "output_type": "stream",
          "name": "stderr",
          "text": [
            "100%|██████████| 4/4 [00:02<00:00,  1.59it/s]\n"
          ]
        },
        {
          "output_type": "stream",
          "name": "stdout",
          "text": [
            "Train loss: 4.133460051634095 Train accuracy 0.5552507734603502 Train top 5 accuracy 0.6500783643939279\n"
          ]
        },
        {
          "output_type": "stream",
          "name": "stderr",
          "text": [
            "100%|██████████| 2/2 [00:01<00:00,  1.58it/s]\n"
          ]
        },
        {
          "output_type": "stream",
          "name": "stdout",
          "text": [
            "Valid loss: 4.524928359822794 Valid accuracy 0.40317846834659576 Valid top 5 accuracy 0.5775147771293466\n",
            "Accuracy didn't improve from: 0.4058010031215169\n",
            "Epoch: 64/100\n"
          ]
        },
        {
          "output_type": "stream",
          "name": "stderr",
          "text": [
            "100%|██████████| 4/4 [00:02<00:00,  1.57it/s]\n"
          ]
        },
        {
          "output_type": "stream",
          "name": "stdout",
          "text": [
            "Train loss: 4.111903403293002 Train accuracy 0.5556426252323118 Train top 5 accuracy 0.6500783643939279\n"
          ]
        },
        {
          "output_type": "stream",
          "name": "stderr",
          "text": [
            "100%|██████████| 2/2 [00:00<00:00,  2.18it/s]\n"
          ]
        },
        {
          "output_type": "stream",
          "name": "stdout",
          "text": [
            "Valid loss: 4.529179340059107 Valid accuracy 0.4033560251647776 Valid top 5 accuracy 0.5773372203111649\n",
            "Accuracy didn't improve from: 0.4058010031215169\n",
            "Epoch: 65/100\n"
          ]
        },
        {
          "output_type": "stream",
          "name": "stderr",
          "text": [
            "100%|██████████| 4/4 [00:02<00:00,  1.65it/s]\n"
          ]
        },
        {
          "output_type": "stream",
          "name": "stdout",
          "text": [
            "Train loss: 4.090624138712883 Train accuracy 0.5560344715856693 Train top 5 accuracy 0.6504702148112383\n"
          ]
        },
        {
          "output_type": "stream",
          "name": "stderr",
          "text": [
            "100%|██████████| 2/2 [00:00<00:00,  2.07it/s]\n"
          ]
        },
        {
          "output_type": "stream",
          "name": "stdout",
          "text": [
            "Valid loss: 4.533132637088949 Valid accuracy 0.40371113880114123 Valid top 5 accuracy 0.5780474475838921\n",
            "Accuracy didn't improve from: 0.4058010031215169\n",
            "Epoch: 66/100\n"
          ]
        },
        {
          "output_type": "stream",
          "name": "stderr",
          "text": [
            "100%|██████████| 4/4 [00:02<00:00,  1.68it/s]\n"
          ]
        },
        {
          "output_type": "stream",
          "name": "stdout",
          "text": [
            "Train loss: 4.069596514105797 Train accuracy 0.5560344715856693 Train top 5 accuracy 0.6504702148112383\n"
          ]
        },
        {
          "output_type": "stream",
          "name": "stderr",
          "text": [
            "100%|██████████| 2/2 [00:01<00:00,  1.58it/s]\n"
          ]
        },
        {
          "output_type": "stream",
          "name": "stdout",
          "text": [
            "Valid loss: 4.537626867944544 Valid accuracy 0.4040662524375049 Valid top 5 accuracy 0.5791025852615183\n",
            "Accuracy didn't improve from: 0.4058010031215169\n",
            "Epoch: 67/100\n"
          ]
        },
        {
          "output_type": "stream",
          "name": "stderr",
          "text": [
            "100%|██████████| 4/4 [00:02<00:00,  1.67it/s]\n"
          ]
        },
        {
          "output_type": "stream",
          "name": "stdout",
          "text": [
            "Train loss: 4.048796493898738 Train accuracy 0.5564263233576309 Train top 5 accuracy 0.6512539170005105\n"
          ]
        },
        {
          "output_type": "stream",
          "name": "stderr",
          "text": [
            "100%|██████████| 2/2 [00:01<00:00,  1.58it/s]\n"
          ]
        },
        {
          "output_type": "stream",
          "name": "stdout",
          "text": [
            "Valid loss: 4.53915186361833 Valid accuracy 0.40527853911573236 Valid top 5 accuracy 0.5789250297979875\n",
            "Accuracy didn't improve from: 0.4058010031215169\n",
            "Epoch: 68/100\n"
          ]
        },
        {
          "output_type": "stream",
          "name": "stderr",
          "text": [
            "100%|██████████| 4/4 [00:02<00:00,  1.57it/s]\n"
          ]
        },
        {
          "output_type": "stream",
          "name": "stdout",
          "text": [
            "Train loss: 4.028207819570195 Train accuracy 0.5568181751295924 Train top 5 accuracy 0.6512539170005105\n"
          ]
        },
        {
          "output_type": "stream",
          "name": "stderr",
          "text": [
            "100%|██████████| 2/2 [00:00<00:00,  2.16it/s]\n"
          ]
        },
        {
          "output_type": "stream",
          "name": "stdout",
          "text": [
            "Valid loss: 4.544703071767634 Valid accuracy 0.40527853911573236 Valid top 5 accuracy 0.5789250297979875\n",
            "Accuracy didn't improve from: 0.4058010031215169\n",
            "model didn't improve for 10 epochs----> lower learning rate to 8.000000000000002e-07\n",
            "Epoch: 69/100\n"
          ]
        },
        {
          "output_type": "stream",
          "name": "stderr",
          "text": [
            "100%|██████████| 4/4 [00:06<00:00,  1.66s/it]\n"
          ]
        },
        {
          "output_type": "stream",
          "name": "stdout",
          "text": [
            "Train loss: 3.9547326510602776 Train accuracy 0.556426334194839 Train top 5 accuracy 0.6508620665831999\n"
          ]
        },
        {
          "output_type": "stream",
          "name": "stderr",
          "text": [
            "100%|██████████| 2/2 [00:05<00:00,  2.55s/it]\n"
          ]
        },
        {
          "output_type": "stream",
          "name": "stdout",
          "text": [
            "Valid loss: 4.553632855415344 Valid accuracy 0.4061765264381062 Valid top 5 accuracy 0.5750698005272583\n",
            "Saving best model wieghts, Accuracy: 0.4061765264381062\n",
            "Epoch: 70/100\n"
          ]
        },
        {
          "output_type": "stream",
          "name": "stderr",
          "text": [
            "100%|██████████| 4/4 [00:02<00:00,  1.57it/s]\n"
          ]
        },
        {
          "output_type": "stream",
          "name": "stdout",
          "text": [
            "Train loss: 3.9523010199720208 Train accuracy 0.5564263287762349 Train top 5 accuracy 0.6508620665831999\n"
          ]
        },
        {
          "output_type": "stream",
          "name": "stderr",
          "text": [
            "100%|██████████| 2/2 [00:01<00:00,  1.58it/s]\n"
          ]
        },
        {
          "output_type": "stream",
          "name": "stdout",
          "text": [
            "Valid loss: 4.556396930055185 Valid accuracy 0.40582141297107394 Valid top 5 accuracy 0.5750698005272583\n",
            "Accuracy didn't improve from: 0.4061765264381062\n",
            "Epoch: 71/100\n"
          ]
        },
        {
          "output_type": "stream",
          "name": "stderr",
          "text": [
            "100%|██████████| 4/4 [00:02<00:00,  1.57it/s]\n"
          ]
        },
        {
          "output_type": "stream",
          "name": "stdout",
          "text": [
            "Train loss: 3.948458244854754 Train accuracy 0.5564263287762349 Train top 5 accuracy 0.6508620665831999\n"
          ]
        },
        {
          "output_type": "stream",
          "name": "stderr",
          "text": [
            "100%|██████████| 2/2 [00:00<00:00,  2.07it/s]\n"
          ]
        },
        {
          "output_type": "stream",
          "name": "stdout",
          "text": [
            "Valid loss: 4.558038181879303 Valid accuracy 0.40582141297107394 Valid top 5 accuracy 0.5750698005272583\n",
            "Accuracy didn't improve from: 0.4061765264381062\n",
            "Epoch: 72/100\n"
          ]
        },
        {
          "output_type": "stream",
          "name": "stderr",
          "text": [
            "100%|██████████| 4/4 [00:02<00:00,  1.64it/s]\n"
          ]
        },
        {
          "output_type": "stream",
          "name": "stdout",
          "text": [
            "Train loss: 3.9444000599059192 Train accuracy 0.5568181805481965 Train top 5 accuracy 0.6508620665831999\n"
          ]
        },
        {
          "output_type": "stream",
          "name": "stderr",
          "text": [
            "100%|██████████| 2/2 [00:01<00:00,  1.58it/s]\n"
          ]
        },
        {
          "output_type": "stream",
          "name": "stdout",
          "text": [
            "Valid loss: 4.5594687190922825 Valid accuracy 0.40582141297107394 Valid top 5 accuracy 0.5750698005272583\n",
            "Accuracy didn't improve from: 0.4061765264381062\n",
            "Epoch: 73/100\n"
          ]
        },
        {
          "output_type": "stream",
          "name": "stderr",
          "text": [
            "100%|██████████| 4/4 [00:02<00:00,  1.57it/s]\n"
          ]
        },
        {
          "output_type": "stream",
          "name": "stdout",
          "text": [
            "Train loss: 3.940282016992569 Train accuracy 0.5568181805481965 Train top 5 accuracy 0.6508620665831999\n"
          ]
        },
        {
          "output_type": "stream",
          "name": "stderr",
          "text": [
            "100%|██████████| 2/2 [00:01<00:00,  1.57it/s]\n"
          ]
        },
        {
          "output_type": "stream",
          "name": "stdout",
          "text": [
            "Valid loss: 4.560821453278715 Valid accuracy 0.40582141297107394 Valid top 5 accuracy 0.5750698005272583\n",
            "Accuracy didn't improve from: 0.4061765264381062\n",
            "Epoch: 74/100\n"
          ]
        },
        {
          "output_type": "stream",
          "name": "stderr",
          "text": [
            "100%|██████████| 4/4 [00:02<00:00,  1.70it/s]\n"
          ]
        },
        {
          "output_type": "stream",
          "name": "stdout",
          "text": [
            "Train loss: 3.9361479458483783 Train accuracy 0.5568181805481965 Train top 5 accuracy 0.6508620665831999\n"
          ]
        },
        {
          "output_type": "stream",
          "name": "stderr",
          "text": [
            "100%|██████████| 2/2 [00:00<00:00,  2.16it/s]\n"
          ]
        },
        {
          "output_type": "stream",
          "name": "stdout",
          "text": [
            "Valid loss: 4.562192430550402 Valid accuracy 0.40582141297107394 Valid top 5 accuracy 0.5750698005272583\n",
            "Accuracy didn't improve from: 0.4061765264381062\n",
            "Epoch: 75/100\n"
          ]
        },
        {
          "output_type": "stream",
          "name": "stderr",
          "text": [
            "100%|██████████| 4/4 [00:02<00:00,  1.60it/s]\n"
          ]
        },
        {
          "output_type": "stream",
          "name": "stdout",
          "text": [
            "Train loss: 3.9320133463902907 Train accuracy 0.5568181805481965 Train top 5 accuracy 0.6508620665831999\n"
          ]
        },
        {
          "output_type": "stream",
          "name": "stderr",
          "text": [
            "100%|██████████| 2/2 [00:01<00:00,  1.57it/s]\n"
          ]
        },
        {
          "output_type": "stream",
          "name": "stdout",
          "text": [
            "Valid loss: 4.563438492742452 Valid accuracy 0.40582141297107394 Valid top 5 accuracy 0.5750698005272583\n",
            "Accuracy didn't improve from: 0.4061765264381062\n",
            "Epoch: 76/100\n"
          ]
        },
        {
          "output_type": "stream",
          "name": "stderr",
          "text": [
            "100%|██████████| 4/4 [00:02<00:00,  1.63it/s]\n"
          ]
        },
        {
          "output_type": "stream",
          "name": "stdout",
          "text": [
            "Train loss: 3.927881133827296 Train accuracy 0.5568181805481965 Train top 5 accuracy 0.6508620665831999\n"
          ]
        },
        {
          "output_type": "stream",
          "name": "stderr",
          "text": [
            "100%|██████████| 2/2 [00:00<00:00,  2.11it/s]\n"
          ]
        },
        {
          "output_type": "stream",
          "name": "stdout",
          "text": [
            "Valid loss: 4.564645731990987 Valid accuracy 0.40582141297107394 Valid top 5 accuracy 0.5750698005272583\n",
            "Accuracy didn't improve from: 0.4061765264381062\n",
            "Epoch: 77/100\n"
          ]
        },
        {
          "output_type": "stream",
          "name": "stderr",
          "text": [
            "100%|██████████| 4/4 [00:02<00:00,  1.55it/s]\n"
          ]
        },
        {
          "output_type": "stream",
          "name": "stdout",
          "text": [
            "Train loss: 3.9237539172172546 Train accuracy 0.5568181805481965 Train top 5 accuracy 0.6508620665831999\n"
          ]
        },
        {
          "output_type": "stream",
          "name": "stderr",
          "text": [
            "100%|██████████| 2/2 [00:00<00:00,  2.15it/s]\n"
          ]
        },
        {
          "output_type": "stream",
          "name": "stdout",
          "text": [
            "Valid loss: 4.565822490236976 Valid accuracy 0.40582141297107394 Valid top 5 accuracy 0.5750698005272583\n",
            "Accuracy didn't improve from: 0.4061765264381062\n",
            "Epoch: 78/100\n"
          ]
        },
        {
          "output_type": "stream",
          "name": "stderr",
          "text": [
            "100%|██████████| 4/4 [00:02<00:00,  1.63it/s]\n"
          ]
        },
        {
          "output_type": "stream",
          "name": "stdout",
          "text": [
            "Train loss: 3.919631627472964 Train accuracy 0.5568181805481965 Train top 5 accuracy 0.6508620665831999\n"
          ]
        },
        {
          "output_type": "stream",
          "name": "stderr",
          "text": [
            "100%|██████████| 2/2 [00:01<00:00,  1.57it/s]\n"
          ]
        },
        {
          "output_type": "stream",
          "name": "stdout",
          "text": [
            "Valid loss: 4.566977247595787 Valid accuracy 0.40582141297107394 Valid top 5 accuracy 0.5748922437090765\n",
            "Accuracy didn't improve from: 0.4061765264381062\n",
            "Epoch: 79/100\n"
          ]
        },
        {
          "output_type": "stream",
          "name": "stderr",
          "text": [
            "100%|██████████| 4/4 [00:02<00:00,  1.62it/s]\n"
          ]
        },
        {
          "output_type": "stream",
          "name": "stdout",
          "text": [
            "Train loss: 3.9155134707689285 Train accuracy 0.5572100323201581 Train top 5 accuracy 0.6512539170005105\n"
          ]
        },
        {
          "output_type": "stream",
          "name": "stderr",
          "text": [
            "100%|██████████| 2/2 [00:01<00:00,  1.58it/s]\n"
          ]
        },
        {
          "output_type": "stream",
          "name": "stdout",
          "text": [
            "Valid loss: 4.568116574124857 Valid accuracy 0.40582141297107394 Valid top 5 accuracy 0.5748922437090765\n",
            "Accuracy didn't improve from: 0.4061765264381062\n",
            "model didn't improve for 10 epochs----> lower learning rate to 1.6000000000000006e-07\n",
            "Epoch: 80/100\n"
          ]
        },
        {
          "output_type": "stream",
          "name": "stderr",
          "text": [
            "100%|██████████| 4/4 [00:10<00:00,  2.56s/it]\n"
          ]
        },
        {
          "output_type": "stream",
          "name": "stdout",
          "text": [
            "Train loss: 3.9030728421427985 Train accuracy 0.557210026901554 Train top 5 accuracy 0.6508620665831999\n"
          ]
        },
        {
          "output_type": "stream",
          "name": "stderr",
          "text": [
            "100%|██████████| 2/2 [00:05<00:00,  2.55s/it]\n"
          ]
        },
        {
          "output_type": "stream",
          "name": "stdout",
          "text": [
            "Valid loss: 4.570158390836283 Valid accuracy 0.4054662993347103 Valid top 5 accuracy 0.5747146868908947\n",
            "Accuracy didn't improve from: 0.4061765264381062\n",
            "Epoch: 81/100\n"
          ]
        },
        {
          "output_type": "stream",
          "name": "stderr",
          "text": [
            "100%|██████████| 4/4 [00:02<00:00,  1.61it/s]\n"
          ]
        },
        {
          "output_type": "stream",
          "name": "stdout",
          "text": [
            "Train loss: 3.90229311179031 Train accuracy 0.557210026901554 Train top 5 accuracy 0.6508620665831999\n"
          ]
        },
        {
          "output_type": "stream",
          "name": "stderr",
          "text": [
            "100%|██████████| 2/2 [00:00<00:00,  2.17it/s]\n"
          ]
        },
        {
          "output_type": "stream",
          "name": "stdout",
          "text": [
            "Valid loss: 4.569997681812807 Valid accuracy 0.40582141297107394 Valid top 5 accuracy 0.5747146868908947\n",
            "Accuracy didn't improve from: 0.4061765264381062\n",
            "Epoch: 82/100\n"
          ]
        },
        {
          "output_type": "stream",
          "name": "stderr",
          "text": [
            "100%|██████████| 4/4 [00:02<00:00,  1.57it/s]\n"
          ]
        },
        {
          "output_type": "stream",
          "name": "stdout",
          "text": [
            "Train loss: 3.901467977599664 Train accuracy 0.557210026901554 Train top 5 accuracy 0.6508620665831999\n"
          ]
        },
        {
          "output_type": "stream",
          "name": "stderr",
          "text": [
            "100%|██████████| 2/2 [00:00<00:00,  2.18it/s]\n"
          ]
        },
        {
          "output_type": "stream",
          "name": "stdout",
          "text": [
            "Valid loss: 4.570353245193308 Valid accuracy 0.40582141297107394 Valid top 5 accuracy 0.5747146868908947\n",
            "Accuracy didn't improve from: 0.4061765264381062\n",
            "Epoch: 83/100\n"
          ]
        },
        {
          "output_type": "stream",
          "name": "stderr",
          "text": [
            "100%|██████████| 4/4 [00:02<00:00,  1.57it/s]\n"
          ]
        },
        {
          "output_type": "stream",
          "name": "stdout",
          "text": [
            "Train loss: 3.900637140328234 Train accuracy 0.557210026901554 Train top 5 accuracy 0.6508620665831999\n"
          ]
        },
        {
          "output_type": "stream",
          "name": "stderr",
          "text": [
            "100%|██████████| 2/2 [00:01<00:00,  1.57it/s]\n"
          ]
        },
        {
          "output_type": "stream",
          "name": "stdout",
          "text": [
            "Valid loss: 4.570685103535652 Valid accuracy 0.40582141297107394 Valid top 5 accuracy 0.5747146868908947\n",
            "Accuracy didn't improve from: 0.4061765264381062\n",
            "Epoch: 84/100\n"
          ]
        },
        {
          "output_type": "stream",
          "name": "stderr",
          "text": [
            "100%|██████████| 4/4 [00:02<00:00,  1.64it/s]\n"
          ]
        },
        {
          "output_type": "stream",
          "name": "stdout",
          "text": [
            "Train loss: 3.8998073122718115 Train accuracy 0.557210026901554 Train top 5 accuracy 0.6508620665831999\n"
          ]
        },
        {
          "output_type": "stream",
          "name": "stderr",
          "text": [
            "100%|██████████| 2/2 [00:01<00:00,  1.58it/s]\n"
          ]
        },
        {
          "output_type": "stream",
          "name": "stdout",
          "text": [
            "Valid loss: 4.570997572757981 Valid accuracy 0.40582141297107394 Valid top 5 accuracy 0.5747146868908947\n",
            "Accuracy didn't improve from: 0.4061765264381062\n",
            "Epoch: 85/100\n"
          ]
        },
        {
          "output_type": "stream",
          "name": "stderr",
          "text": [
            "100%|██████████| 4/4 [00:02<00:00,  1.64it/s]\n"
          ]
        },
        {
          "output_type": "stream",
          "name": "stdout",
          "text": [
            "Train loss: 3.8989785530350427 Train accuracy 0.557210026901554 Train top 5 accuracy 0.6508620665831999\n"
          ]
        },
        {
          "output_type": "stream",
          "name": "stderr",
          "text": [
            "100%|██████████| 2/2 [00:01<00:00,  1.58it/s]\n"
          ]
        },
        {
          "output_type": "stream",
          "name": "stdout",
          "text": [
            "Valid loss: 4.571294221011075 Valid accuracy 0.40582141297107394 Valid top 5 accuracy 0.5747146868908947\n",
            "Accuracy didn't improve from: 0.4061765264381062\n",
            "Epoch: 86/100\n"
          ]
        },
        {
          "output_type": "stream",
          "name": "stderr",
          "text": [
            "100%|██████████| 4/4 [00:02<00:00,  1.57it/s]\n"
          ]
        },
        {
          "output_type": "stream",
          "name": "stdout",
          "text": [
            "Train loss: 3.8981508531353692 Train accuracy 0.557210026901554 Train top 5 accuracy 0.6508620665831999\n"
          ]
        },
        {
          "output_type": "stream",
          "name": "stderr",
          "text": [
            "100%|██████████| 2/2 [00:01<00:00,  1.58it/s]\n"
          ]
        },
        {
          "output_type": "stream",
          "name": "stdout",
          "text": [
            "Valid loss: 4.5715785609050235 Valid accuracy 0.40582141297107394 Valid top 5 accuracy 0.5747146868908947\n",
            "Accuracy didn't improve from: 0.4061765264381062\n",
            "Epoch: 87/100\n"
          ]
        },
        {
          "output_type": "stream",
          "name": "stderr",
          "text": [
            "100%|██████████| 4/4 [00:02<00:00,  1.57it/s]\n"
          ]
        },
        {
          "output_type": "stream",
          "name": "stdout",
          "text": [
            "Train loss: 3.897324315526269 Train accuracy 0.557210026901554 Train top 5 accuracy 0.6508620665831999\n"
          ]
        },
        {
          "output_type": "stream",
          "name": "stderr",
          "text": [
            "100%|██████████| 2/2 [00:00<00:00,  2.16it/s]\n"
          ]
        },
        {
          "output_type": "stream",
          "name": "stdout",
          "text": [
            "Valid loss: 4.571852948177945 Valid accuracy 0.40582141297107394 Valid top 5 accuracy 0.5747146868908947\n",
            "Accuracy didn't improve from: 0.4061765264381062\n",
            "Epoch: 88/100\n"
          ]
        },
        {
          "output_type": "stream",
          "name": "stderr",
          "text": [
            "100%|██████████| 4/4 [00:05<00:00,  1.28s/it]\n"
          ]
        },
        {
          "output_type": "stream",
          "name": "stdout",
          "text": [
            "Train loss: 3.896497516469522 Train accuracy 0.557210026901554 Train top 5 accuracy 0.6508620665831999\n"
          ]
        },
        {
          "output_type": "stream",
          "name": "stderr",
          "text": [
            "100%|██████████| 2/2 [00:00<00:00,  2.09it/s]\n"
          ]
        },
        {
          "output_type": "stream",
          "name": "stdout",
          "text": [
            "Valid loss: 4.5721191587773236 Valid accuracy 0.40582141297107394 Valid top 5 accuracy 0.5748922437090765\n",
            "Accuracy didn't improve from: 0.4061765264381062\n",
            "Epoch: 89/100\n"
          ]
        },
        {
          "output_type": "stream",
          "name": "stderr",
          "text": [
            "100%|██████████| 4/4 [00:02<00:00,  1.68it/s]\n"
          ]
        },
        {
          "output_type": "stream",
          "name": "stdout",
          "text": [
            "Train loss: 3.895671856674281 Train accuracy 0.557210026901554 Train top 5 accuracy 0.6508620665831999\n"
          ]
        },
        {
          "output_type": "stream",
          "name": "stderr",
          "text": [
            "100%|██████████| 2/2 [00:00<00:00,  2.15it/s]\n"
          ]
        },
        {
          "output_type": "stream",
          "name": "stdout",
          "text": [
            "Valid loss: 4.572099043564363 Valid accuracy 0.4054662993347103 Valid top 5 accuracy 0.5747146868908947\n",
            "Accuracy didn't improve from: 0.4061765264381062\n",
            "Epoch: 90/100\n"
          ]
        },
        {
          "output_type": "stream",
          "name": "stderr",
          "text": [
            "100%|██████████| 4/4 [00:02<00:00,  1.58it/s]\n"
          ]
        },
        {
          "output_type": "stream",
          "name": "stdout",
          "text": [
            "Train loss: 3.8948456970128147 Train accuracy 0.557210026901554 Train top 5 accuracy 0.6508620665831999\n"
          ]
        },
        {
          "output_type": "stream",
          "name": "stderr",
          "text": [
            "100%|██████████| 2/2 [00:01<00:00,  1.58it/s]\n"
          ]
        },
        {
          "output_type": "stream",
          "name": "stdout",
          "text": [
            "Valid loss: 4.572353371165016 Valid accuracy 0.4054662993347103 Valid top 5 accuracy 0.5747146868908947\n",
            "Accuracy didn't improve from: 0.4061765264381062\n",
            "Epoch: 91/100\n"
          ]
        },
        {
          "output_type": "stream",
          "name": "stderr",
          "text": [
            "100%|██████████| 4/4 [00:02<00:00,  1.59it/s]\n"
          ]
        },
        {
          "output_type": "stream",
          "name": "stdout",
          "text": [
            "Train loss: 3.894019529223442 Train accuracy 0.557210026901554 Train top 5 accuracy 0.6508620665831999\n"
          ]
        },
        {
          "output_type": "stream",
          "name": "stderr",
          "text": [
            "100%|██████████| 2/2 [00:01<00:00,  1.57it/s]\n"
          ]
        },
        {
          "output_type": "stream",
          "name": "stdout",
          "text": [
            "Valid loss: 4.572603923353282 Valid accuracy 0.4054662993347103 Valid top 5 accuracy 0.5747146868908947\n",
            "Accuracy didn't improve from: 0.4061765264381062\n",
            "Epoch: 92/100\n"
          ]
        },
        {
          "output_type": "stream",
          "name": "stderr",
          "text": [
            "100%|██████████| 4/4 [00:02<00:00,  1.57it/s]\n"
          ]
        },
        {
          "output_type": "stream",
          "name": "stdout",
          "text": [
            "Train loss: 3.893193533474749 Train accuracy 0.557210026901554 Train top 5 accuracy 0.6508620665831999\n"
          ]
        },
        {
          "output_type": "stream",
          "name": "stderr",
          "text": [
            "100%|██████████| 2/2 [00:00<00:00,  2.16it/s]\n"
          ]
        },
        {
          "output_type": "stream",
          "name": "stdout",
          "text": [
            "Valid loss: 4.572850992733782 Valid accuracy 0.4054662993347103 Valid top 5 accuracy 0.5747146868908947\n",
            "Accuracy didn't improve from: 0.4061765264381062\n",
            "Epoch: 93/100\n"
          ]
        },
        {
          "output_type": "stream",
          "name": "stderr",
          "text": [
            "100%|██████████| 4/4 [00:02<00:00,  1.57it/s]\n"
          ]
        },
        {
          "output_type": "stream",
          "name": "stdout",
          "text": [
            "Train loss: 3.892367297952825 Train accuracy 0.557210026901554 Train top 5 accuracy 0.6508620665831999\n"
          ]
        },
        {
          "output_type": "stream",
          "name": "stderr",
          "text": [
            "100%|██████████| 2/2 [00:01<00:00,  1.58it/s]\n"
          ]
        },
        {
          "output_type": "stream",
          "name": "stdout",
          "text": [
            "Valid loss: 4.573095621033148 Valid accuracy 0.4054662993347103 Valid top 5 accuracy 0.5747146868908947\n",
            "Accuracy didn't improve from: 0.4061765264381062\n",
            "Epoch: 94/100\n"
          ]
        },
        {
          "output_type": "stream",
          "name": "stderr",
          "text": [
            "100%|██████████| 4/4 [00:02<00:00,  1.57it/s]\n"
          ]
        },
        {
          "output_type": "stream",
          "name": "stdout",
          "text": [
            "Train loss: 3.8915411233901978 Train accuracy 0.557210026901554 Train top 5 accuracy 0.6508620665831999\n"
          ]
        },
        {
          "output_type": "stream",
          "name": "stderr",
          "text": [
            "100%|██████████| 2/2 [00:00<00:00,  2.16it/s]\n"
          ]
        },
        {
          "output_type": "stream",
          "name": "stdout",
          "text": [
            "Valid loss: 4.57333755357699 Valid accuracy 0.4054662993347103 Valid top 5 accuracy 0.5747146868908947\n",
            "Accuracy didn't improve from: 0.4061765264381062\n",
            "Epoch: 95/100\n"
          ]
        },
        {
          "output_type": "stream",
          "name": "stderr",
          "text": [
            "100%|██████████| 4/4 [00:02<00:00,  1.57it/s]\n"
          ]
        },
        {
          "output_type": "stream",
          "name": "stdout",
          "text": [
            "Train loss: 3.8907156762751667 Train accuracy 0.557210026901554 Train top 5 accuracy 0.6508620665831999\n"
          ]
        },
        {
          "output_type": "stream",
          "name": "stderr",
          "text": [
            "100%|██████████| 2/2 [00:00<00:00,  2.07it/s]\n"
          ]
        },
        {
          "output_type": "stream",
          "name": "stdout",
          "text": [
            "Valid loss: 4.573577347126874 Valid accuracy 0.4054662993347103 Valid top 5 accuracy 0.5747146868908947\n",
            "Accuracy didn't improve from: 0.4061765264381062\n",
            "Epoch: 96/100\n"
          ]
        },
        {
          "output_type": "stream",
          "name": "stderr",
          "text": [
            "100%|██████████| 4/4 [00:02<00:00,  1.65it/s]\n"
          ]
        },
        {
          "output_type": "stream",
          "name": "stdout",
          "text": [
            "Train loss: 3.8898896114392714 Train accuracy 0.557210026901554 Train top 5 accuracy 0.6508620665831999\n"
          ]
        },
        {
          "output_type": "stream",
          "name": "stderr",
          "text": [
            "100%|██████████| 2/2 [00:00<00:00,  2.14it/s]\n"
          ]
        },
        {
          "output_type": "stream",
          "name": "stdout",
          "text": [
            "Valid loss: 4.573759856549176 Valid accuracy 0.4054662993347103 Valid top 5 accuracy 0.5748922437090765\n",
            "Accuracy didn't improve from: 0.4061765264381062\n",
            "Epoch: 97/100\n"
          ]
        },
        {
          "output_type": "stream",
          "name": "stderr",
          "text": [
            "100%|██████████| 4/4 [00:02<00:00,  1.66it/s]\n"
          ]
        },
        {
          "output_type": "stream",
          "name": "stdout",
          "text": [
            "Train loss: 3.8890641277486626 Train accuracy 0.557210026901554 Train top 5 accuracy 0.6508620665831999\n"
          ]
        },
        {
          "output_type": "stream",
          "name": "stderr",
          "text": [
            "100%|██████████| 2/2 [00:01<00:00,  1.57it/s]\n"
          ]
        },
        {
          "output_type": "stream",
          "name": "stdout",
          "text": [
            "Valid loss: 4.573996840552851 Valid accuracy 0.4054662993347103 Valid top 5 accuracy 0.5748922437090765\n",
            "Accuracy didn't improve from: 0.4061765264381062\n",
            "Epoch: 98/100\n"
          ]
        },
        {
          "output_type": "stream",
          "name": "stderr",
          "text": [
            "100%|██████████| 4/4 [00:02<00:00,  1.63it/s]\n"
          ]
        },
        {
          "output_type": "stream",
          "name": "stdout",
          "text": [
            "Train loss: 3.888238327069716 Train accuracy 0.557210026901554 Train top 5 accuracy 0.6508620665831999\n"
          ]
        },
        {
          "output_type": "stream",
          "name": "stderr",
          "text": [
            "100%|██████████| 2/2 [00:00<00:00,  2.15it/s]\n"
          ]
        },
        {
          "output_type": "stream",
          "name": "stdout",
          "text": [
            "Valid loss: 4.574232675812461 Valid accuracy 0.4054662993347103 Valid top 5 accuracy 0.5748922437090765\n",
            "Accuracy didn't improve from: 0.4061765264381062\n",
            "Epoch: 99/100\n"
          ]
        },
        {
          "output_type": "stream",
          "name": "stderr",
          "text": [
            "100%|██████████| 4/4 [00:02<00:00,  1.57it/s]\n"
          ]
        },
        {
          "output_type": "stream",
          "name": "stdout",
          "text": [
            "Train loss: 3.8874130601232704 Train accuracy 0.557210026901554 Train top 5 accuracy 0.6508620665831999\n"
          ]
        },
        {
          "output_type": "stream",
          "name": "stderr",
          "text": [
            "100%|██████████| 2/2 [00:01<00:00,  1.58it/s]\n"
          ]
        },
        {
          "output_type": "stream",
          "name": "stdout",
          "text": [
            "Valid loss: 4.574467902833765 Valid accuracy 0.4054662993347103 Valid top 5 accuracy 0.5748922437090765\n",
            "Accuracy didn't improve from: 0.4061765264381062\n",
            "Epoch: 100/100\n"
          ]
        },
        {
          "output_type": "stream",
          "name": "stderr",
          "text": [
            "100%|██████████| 4/4 [00:02<00:00,  1.57it/s]\n"
          ]
        },
        {
          "output_type": "stream",
          "name": "stdout",
          "text": [
            "Train loss: 3.8865875615315004 Train accuracy 0.557210026901554 Train top 5 accuracy 0.6508620665831999\n"
          ]
        },
        {
          "output_type": "stream",
          "name": "stderr",
          "text": [
            "100%|██████████| 2/2 [00:01<00:00,  1.57it/s]"
          ]
        },
        {
          "output_type": "stream",
          "name": "stdout",
          "text": [
            "Valid loss: 4.574701883576133 Valid accuracy 0.4054662993347103 Valid top 5 accuracy 0.5748922437090765\n",
            "Accuracy didn't improve from: 0.4061765264381062\n"
          ]
        },
        {
          "output_type": "stream",
          "name": "stderr",
          "text": [
            "\n"
          ]
        }
      ]
    },
    {
      "cell_type": "code",
      "source": [
        "# build a dataframe and populate it the training history\n",
        "pd.DataFrame({'full_train_losses':full_train_losses,\n",
        "              'full_train_accs': full_train_accs,\n",
        "              'full_train_top_k_accs': full_train_top_k_accs,\n",
        "              'full_valid_losses':full_valid_losses,\n",
        "              'full_valid_accs': full_valid_accs,\n",
        "              'full_valid_top_k_accs': full_valid_top_k_accs}).to_csv('final_validation_set_train_progress_direct_case_1.csv', index=False)\n",
        "\n",
        "!mv /content/final_validation_set_train_progress_direct_case_1.csv /content/drive/MyDrive/NLP_Course"
      ],
      "metadata": {
        "id": "GLJTZwnCLJvC"
      },
      "execution_count": null,
      "outputs": []
    },
    {
      "cell_type": "markdown",
      "source": [
        "#### Prediction (Validation)"
      ],
      "metadata": {
        "id": "-ABjSWKHHGh3"
      }
    },
    {
      "cell_type": "code",
      "source": [
        "# clear the session to release all previous states generated by Keras\n",
        "tf.keras.backend.clear_session()\n",
        "# instantiate and compile the model inside the strategy scope defined previous\n",
        "with strategy.scope():\n",
        "  model = encoder_decoder_model()\n",
        "  # use Sparse Categorical Cross-entropy as a loss function as labels are not one-hot encoded\n",
        "  # use AdamW optimizer initially with a weight decay of 0.0\n",
        "  # use the Sparse Categorical Accuracy and top k=5 accuracy metrics to monitor and save the best model weights\n",
        "  metrics = [tf.keras.metrics.SparseCategoricalAccuracy(),\n",
        "             tf.keras.metrics.SparseTopKCategoricalAccuracy(k=5, name='top_k_acc')]\n",
        "  model.compile(loss=tf.keras.losses.SparseCategoricalCrossentropy(from_logits=False),\n",
        "                metrics=metrics,\n",
        "                optimizer=tfa.optimizers.AdamW(learning_rate=config.LEARNING_RATE, weight_decay=0.0))\n",
        "  # load_weights of best performing model\n",
        "  model.load_weights('/content/best_full_model_weights.h5')\n",
        "    \n",
        "# iterate over the validation dataset\n",
        "for iteration, batch in enumerate(tqdm(valid_ds, total=len(valid_ds))):\n",
        "  enc_inputs, dec_inputs, labels = batch\n",
        "  # create a variable for the number of examples in the current batch\n",
        "  num_examples = len(enc_inputs)\n",
        "  # create a NumPy array to save the predictions of the previous tokens\n",
        "  # it is initialized with ones where the model will see 1 in the first \n",
        "  # pass which represents the special starting \"s\" token\n",
        "  full_sequence_preds = np.ones((num_examples, config.MAXLEN))\n",
        "  # sequencially predict the label (predicted previous token as input (Auto-Regression))\n",
        "  for i in range(config.MAXLEN):\n",
        "    # extract the current mask from the attention_masks list\n",
        "    # broadcast the mask to the shape of (num_examples, num_heads(8), max_len(17), max_len(17))\n",
        "    current_att_mask = tf.broadcast_to(tf.constant(attention_masks[i]), (num_examples, config.NUM_HEADS, config.MAXLEN, config.MAXLEN))\n",
        "    # evaluate on each batch\n",
        "    valid_results = model.test_on_batch(x=(enc_inputs, full_sequence_preds, current_att_mask), y=labels[:, -(i+1)], reset_metrics=False, return_dict=True)\n",
        "    # predict the tokens of the current position\n",
        "    preds = model.predict_on_batch(x=(enc_inputs, full_sequence_preds, current_att_mask))\n",
        "    # take the argmax value which represents the index of the highest prob character\n",
        "    current_preds = np.argmax(preds, axis=-1)\n",
        "    # populate the current position with the predicted values which will be used in the next \n",
        "    # pass as a decoder input\n",
        "    full_sequence_preds[:, -(i+1)] = current_preds\n",
        "  if iteration == 0:\n",
        "    final_full_sequence_preds = full_sequence_preds\n",
        "  else: # concatenate the preditions to form the final model predictions\n",
        "    final_full_sequence_preds = np.concatenate([final_full_sequence_preds, full_sequence_preds], axis=0)\n",
        "\n",
        "print(valid_results)"
      ],
      "metadata": {
        "colab": {
          "base_uri": "https://localhost:8080/"
        },
        "id": "u5bhqGUxGuKO",
        "outputId": "48e8b72c-3621-4a76-ae37-6f2e17a482fd"
      },
      "execution_count": null,
      "outputs": [
        {
          "output_type": "stream",
          "name": "stderr",
          "text": [
            "100%|██████████| 2/2 [00:03<00:00,  1.89s/it]"
          ]
        },
        {
          "output_type": "stream",
          "name": "stdout",
          "text": [
            "{'loss': 4.5608367919921875, 'sparse_categorical_accuracy': 0.40551286935806274, 'top_k_acc': 0.578849732875824}\n"
          ]
        },
        {
          "output_type": "stream",
          "name": "stderr",
          "text": [
            "\n"
          ]
        }
      ]
    },
    {
      "cell_type": "code",
      "source": [
        "# save the predictions as a NumPy array\n",
        "np.save('final_validation_set_prediction_direct_case_1.npy', final_full_sequence_preds)\n",
        "!mv /content/final_validation_set_prediction_direct_case_1.npy /content/drive/MyDrive/NLP_Course"
      ],
      "metadata": {
        "id": "kNy4w1YOHwq0"
      },
      "execution_count": null,
      "outputs": []
    },
    {
      "cell_type": "markdown",
      "source": [
        "#### Prediction (Test)"
      ],
      "metadata": {
        "id": "PFVudTngHKqB"
      }
    },
    {
      "cell_type": "code",
      "source": [
        "# iterate over the test dataset\n",
        "for iteration, batch in enumerate(tqdm(test_ds, total=len(test_ds))):\n",
        "  enc_inputs, dec_inputs, labels = batch\n",
        "  # create a variable for the number of examples in the current batch\n",
        "  num_examples = len(enc_inputs)\n",
        "  # create a NumPy array to save the predictions of the previous tokens\n",
        "  # it is initialized with ones where the model will see 1 in the first \n",
        "  # pass which represents the special starting \"s\" token\n",
        "  full_sequence_preds = np.ones((num_examples, config.MAXLEN))\n",
        "  # sequencially predict the label (predicted previous token as input (Auto-Regression))\n",
        "  for i in range(config.MAXLEN):\n",
        "    # extract the current mask from the attention_masks list\n",
        "    # broadcast the mask to the shape of (num_examples, num_heads(8), max_len(17), max_len(17))\n",
        "    current_att_mask = tf.broadcast_to(tf.constant(attention_masks[i]), (num_examples, config.NUM_HEADS, config.MAXLEN, config.MAXLEN))\n",
        "    # evaluate on each batch\n",
        "    test_results = model.test_on_batch(x=(enc_inputs, full_sequence_preds, current_att_mask), y=labels[:, -(i+1)], reset_metrics=False, return_dict=True)\n",
        "    # predict the tokens of the current position\n",
        "    preds = model.predict_on_batch(x=(enc_inputs, full_sequence_preds, current_att_mask))\n",
        "    # take the argmax value which represents the index of the highest prob character\n",
        "    current_preds = np.argmax(preds, axis=-1)\n",
        "    # populate the current position with the predicted values which will be used in the next \n",
        "    # pass as a decoder input\n",
        "    full_sequence_preds[:, -(i+1)] = current_preds\n",
        "  if iteration == 0:\n",
        "    final_full_sequence_preds = full_sequence_preds\n",
        "  else: # concatenate the preditions to form the final model predictions\n",
        "    final_full_sequence_preds = np.concatenate([final_full_sequence_preds, full_sequence_preds], axis=0)\n",
        "\n",
        "print(test_results)"
      ],
      "metadata": {
        "colab": {
          "base_uri": "https://localhost:8080/"
        },
        "id": "w89pGCHDGuMo",
        "outputId": "b21adcf1-b81d-4006-a0a3-1d26d4e7f6ca"
      },
      "execution_count": null,
      "outputs": [
        {
          "output_type": "stream",
          "name": "stderr",
          "text": [
            "100%|██████████| 3/3 [00:05<00:00,  1.85s/it]"
          ]
        },
        {
          "output_type": "stream",
          "name": "stdout",
          "text": [
            "{'loss': 4.571964263916016, 'sparse_categorical_accuracy': 0.40017351508140564, 'top_k_acc': 0.5776535272598267}\n"
          ]
        },
        {
          "output_type": "stream",
          "name": "stderr",
          "text": [
            "\n"
          ]
        }
      ]
    },
    {
      "cell_type": "code",
      "source": [
        "# save the predictions as a NumPy array\n",
        "np.save('final_test_set_prediction_direct_case_1.npy', final_full_sequence_preds)\n",
        "!mv /content/final_test_set_prediction_direct_case_1.npy /content/drive/MyDrive/NLP_Course"
      ],
      "metadata": {
        "id": "bW-mj1TXGuO2"
      },
      "execution_count": null,
      "outputs": []
    },
    {
      "cell_type": "markdown",
      "source": [
        "#### Case 2: Set CBERT to \"untrainable\" during the first 50 epochs then set it to \"trainable\""
      ],
      "metadata": {
        "id": "47laJkqgLUsi"
      }
    },
    {
      "cell_type": "code",
      "execution_count": null,
      "metadata": {
        "colab": {
          "base_uri": "https://localhost:8080/"
        },
        "id": "GtV1TK6Oxk74",
        "outputId": "94d905c7-dc8a-42ef-f74f-051ec3e08e6b"
      },
      "outputs": [
        {
          "output_type": "stream",
          "name": "stdout",
          "text": [
            "Epoch: 1/100\n"
          ]
        },
        {
          "output_type": "stream",
          "name": "stderr",
          "text": [
            "100%|██████████| 4/4 [00:10<00:00,  2.56s/it]\n"
          ]
        },
        {
          "output_type": "stream",
          "name": "stdout",
          "text": [
            "Train loss: 129.88573363694277 Train accuracy 0.06739811798218977 Train top 5 accuracy 0.2260971776717766\n"
          ]
        },
        {
          "output_type": "stream",
          "name": "stderr",
          "text": [
            "100%|██████████| 2/2 [00:05<00:00,  2.56s/it]\n"
          ]
        },
        {
          "output_type": "stream",
          "name": "stdout",
          "text": [
            "Valid loss: 4.841657064177773 Valid accuracy 0.013924944468519905 Valid top 5 accuracy 0.18624689802527428\n",
            "Saving best model wieghts, Accuracy: 0.013924944468519905\n",
            "Epoch: 2/100\n"
          ]
        },
        {
          "output_type": "stream",
          "name": "stderr",
          "text": [
            "100%|██████████| 4/4 [00:02<00:00,  1.57it/s]\n"
          ]
        },
        {
          "output_type": "stream",
          "name": "stdout",
          "text": [
            "Train loss: 118.96358433907682 Train accuracy 0.07836990477517247 Train top 5 accuracy 0.2844827626408501\n"
          ]
        },
        {
          "output_type": "stream",
          "name": "stderr",
          "text": [
            "100%|██████████| 2/2 [00:01<00:00,  1.58it/s]\n"
          ]
        },
        {
          "output_type": "stream",
          "name": "stdout",
          "text": [
            "Valid loss: 5.253573081710122 Valid accuracy 0.033972537822344086 Valid top 5 accuracy 0.2184132540767843\n",
            "Saving best model wieghts, Accuracy: 0.033972537822344086\n",
            "Epoch: 3/100\n"
          ]
        },
        {
          "output_type": "stream",
          "name": "stderr",
          "text": [
            "100%|██████████| 4/4 [00:02<00:00,  1.57it/s]\n"
          ]
        },
        {
          "output_type": "stream",
          "name": "stdout",
          "text": [
            "Train loss: 120.49767780845815 Train accuracy 0.042711598417637026 Train top 5 accuracy 0.27037617708133027\n"
          ]
        },
        {
          "output_type": "stream",
          "name": "stderr",
          "text": [
            "100%|██████████| 2/2 [00:00<00:00,  2.09it/s]\n"
          ]
        },
        {
          "output_type": "stream",
          "name": "stdout",
          "text": [
            "Valid loss: 5.325096076185053 Valid accuracy 0.013569830832156267 Valid top 5 accuracy 0.19233485125005245\n",
            "Accuracy didn't improve from: 0.033972537822344086\n",
            "Epoch: 4/100\n"
          ]
        },
        {
          "output_type": "stream",
          "name": "stderr",
          "text": [
            "100%|██████████| 4/4 [00:02<00:00,  1.66it/s]\n"
          ]
        },
        {
          "output_type": "stream",
          "name": "stdout",
          "text": [
            "Train loss: 97.28842941197482 Train accuracy 0.13244514137675817 Train top 5 accuracy 0.33503134607930074\n"
          ]
        },
        {
          "output_type": "stream",
          "name": "stderr",
          "text": [
            "100%|██████████| 2/2 [00:00<00:00,  2.18it/s]\n"
          ]
        },
        {
          "output_type": "stream",
          "name": "stdout",
          "text": [
            "Valid loss: 4.884407661177895 Valid accuracy 0.07047577134587547 Valid top 5 accuracy 0.2895992523567243\n",
            "Saving best model wieghts, Accuracy: 0.07047577134587547\n",
            "Epoch: 5/100\n"
          ]
        },
        {
          "output_type": "stream",
          "name": "stderr",
          "text": [
            "100%|██████████| 4/4 [00:02<00:00,  1.65it/s]\n"
          ]
        },
        {
          "output_type": "stream",
          "name": "stdout",
          "text": [
            "Train loss: 90.11766982078552 Train accuracy 0.14851097428155216 Train top 5 accuracy 0.3667711591432718\n"
          ]
        },
        {
          "output_type": "stream",
          "name": "stderr",
          "text": [
            "100%|██████████| 2/2 [00:00<00:00,  2.11it/s]\n"
          ]
        },
        {
          "output_type": "stream",
          "name": "stdout",
          "text": [
            "Valid loss: 5.921873179349032 Valid accuracy 0.0721350083635612 Valid top 5 accuracy 0.2569716577841477\n",
            "Saving best model wieghts, Accuracy: 0.0721350083635612\n",
            "Epoch: 6/100\n"
          ]
        },
        {
          "output_type": "stream",
          "name": "stderr",
          "text": [
            "100%|██████████| 4/4 [00:02<00:00,  1.64it/s]\n"
          ]
        },
        {
          "output_type": "stream",
          "name": "stdout",
          "text": [
            "Train loss: 70.68732678890228 Train accuracy 0.20650470146740024 Train top 5 accuracy 0.40869905812327156\n"
          ]
        },
        {
          "output_type": "stream",
          "name": "stderr",
          "text": [
            "100%|██████████| 2/2 [00:01<00:00,  1.58it/s]\n"
          ]
        },
        {
          "output_type": "stream",
          "name": "stdout",
          "text": [
            "Valid loss: 5.631504275582054 Valid accuracy 0.08876820416613058 Valid top 5 accuracy 0.3691508297554471\n",
            "Saving best model wieghts, Accuracy: 0.08876820416613058\n",
            "Epoch: 7/100\n"
          ]
        },
        {
          "output_type": "stream",
          "name": "stderr",
          "text": [
            "100%|██████████| 4/4 [00:02<00:00,  1.57it/s]\n"
          ]
        },
        {
          "output_type": "stream",
          "name": "stdout",
          "text": [
            "Train loss: 57.63988829200918 Train accuracy 0.23667711489410562 Train top 5 accuracy 0.4443573678251017\n"
          ]
        },
        {
          "output_type": "stream",
          "name": "stderr",
          "text": [
            "100%|██████████| 2/2 [00:01<00:00,  1.58it/s]\n"
          ]
        },
        {
          "output_type": "stream",
          "name": "stdout",
          "text": [
            "Valid loss: 5.332684755325317 Valid accuracy 0.10017674026841467 Valid top 5 accuracy 0.39216586761176586\n",
            "Saving best model wieghts, Accuracy: 0.10017674026841467\n",
            "Epoch: 8/100\n"
          ]
        },
        {
          "output_type": "stream",
          "name": "stderr",
          "text": [
            "100%|██████████| 4/4 [00:02<00:00,  1.62it/s]\n"
          ]
        },
        {
          "output_type": "stream",
          "name": "stdout",
          "text": [
            "Train loss: 63.47035051746802 Train accuracy 0.19553291590207003 Train top 5 accuracy 0.37970219933512533\n"
          ]
        },
        {
          "output_type": "stream",
          "name": "stderr",
          "text": [
            "100%|██████████| 2/2 [00:01<00:00,  1.58it/s]\n"
          ]
        },
        {
          "output_type": "stream",
          "name": "stdout",
          "text": [
            "Valid loss: 5.083366524089467 Valid accuracy 0.17477713525295258 Valid top 5 accuracy 0.3973252217877995\n",
            "Saving best model wieghts, Accuracy: 0.17477713525295258\n",
            "Epoch: 9/100\n"
          ]
        },
        {
          "output_type": "stream",
          "name": "stderr",
          "text": [
            "100%|██████████| 4/4 [00:02<00:00,  1.57it/s]\n"
          ]
        },
        {
          "output_type": "stream",
          "name": "stdout",
          "text": [
            "Train loss: 39.04886783523993 Train accuracy 0.30054859101602976 Train top 5 accuracy 0.5368338609114289\n"
          ]
        },
        {
          "output_type": "stream",
          "name": "stderr",
          "text": [
            "100%|██████████| 2/2 [00:00<00:00,  2.18it/s]\n"
          ]
        },
        {
          "output_type": "stream",
          "name": "stdout",
          "text": [
            "Valid loss: 4.8316229365088725 Valid accuracy 0.17763845165344802 Valid top 5 accuracy 0.41695647161792626\n",
            "Saving best model wieghts, Accuracy: 0.17763845165344802\n",
            "Epoch: 10/100\n"
          ]
        },
        {
          "output_type": "stream",
          "name": "stderr",
          "text": [
            "100%|██████████| 4/4 [00:02<00:00,  1.57it/s]\n"
          ]
        },
        {
          "output_type": "stream",
          "name": "stdout",
          "text": [
            "Train loss: 40.751518141139634 Train accuracy 0.31700626629489387 Train top 5 accuracy 0.5521159838800404\n"
          ]
        },
        {
          "output_type": "stream",
          "name": "stderr",
          "text": [
            "100%|██████████| 2/2 [00:01<00:00,  1.58it/s]\n"
          ]
        },
        {
          "output_type": "stream",
          "name": "stdout",
          "text": [
            "Valid loss: 4.678720457987352 Valid accuracy 0.1750261245126074 Valid top 5 accuracy 0.4129685854369944\n",
            "Accuracy didn't improve from: 0.17763845165344802\n",
            "Epoch: 11/100\n"
          ]
        },
        {
          "output_type": "stream",
          "name": "stderr",
          "text": [
            "100%|██████████| 4/4 [00:02<00:00,  1.57it/s]\n"
          ]
        },
        {
          "output_type": "stream",
          "name": "stdout",
          "text": [
            "Train loss: 38.79935882308266 Train accuracy 0.2993730445053767 Train top 5 accuracy 0.5274294700304215\n"
          ]
        },
        {
          "output_type": "stream",
          "name": "stderr",
          "text": [
            "100%|██████████| 2/2 [00:00<00:00,  2.16it/s]\n"
          ]
        },
        {
          "output_type": "stream",
          "name": "stdout",
          "text": [
            "Valid loss: 5.0163145227865735 Valid accuracy 0.2288829848508943 Valid top 5 accuracy 0.4254587915810672\n",
            "Saving best model wieghts, Accuracy: 0.2288829848508943\n",
            "Epoch: 12/100\n"
          ]
        },
        {
          "output_type": "stream",
          "name": "stderr",
          "text": [
            "100%|██████████| 4/4 [00:02<00:00,  1.57it/s]\n"
          ]
        },
        {
          "output_type": "stream",
          "name": "stdout",
          "text": [
            "Train loss: 41.62927348234437 Train accuracy 0.3193573691797527 Train top 5 accuracy 0.49804075316272\n"
          ]
        },
        {
          "output_type": "stream",
          "name": "stderr",
          "text": [
            "100%|██████████| 2/2 [00:00<00:00,  2.11it/s]\n"
          ]
        },
        {
          "output_type": "stream",
          "name": "stdout",
          "text": [
            "Valid loss: 5.061954417011955 Valid accuracy 0.2208174162290313 Valid top 5 accuracy 0.45460668494078244\n",
            "Accuracy didn't improve from: 0.2288829848508943\n",
            "Epoch: 13/100\n"
          ]
        },
        {
          "output_type": "stream",
          "name": "stderr",
          "text": [
            "100%|██████████| 4/4 [00:02<00:00,  1.60it/s]\n"
          ]
        },
        {
          "output_type": "stream",
          "name": "stdout",
          "text": [
            "Train loss: 27.902579353614286 Train accuracy 0.37852664321491664 Train top 5 accuracy 0.5623040740293536\n"
          ]
        },
        {
          "output_type": "stream",
          "name": "stderr",
          "text": [
            "100%|██████████| 2/2 [00:01<00:00,  1.58it/s]\n"
          ]
        },
        {
          "output_type": "stream",
          "name": "stdout",
          "text": [
            "Valid loss: 5.056645480069247 Valid accuracy 0.22485019859265198 Valid top 5 accuracy 0.4443798173557628\n",
            "Accuracy didn't improve from: 0.2288829848508943\n",
            "Epoch: 14/100\n"
          ]
        },
        {
          "output_type": "stream",
          "name": "stderr",
          "text": [
            "100%|██████████| 4/4 [00:02<00:00,  1.57it/s]\n"
          ]
        },
        {
          "output_type": "stream",
          "name": "stdout",
          "text": [
            "Train loss: 29.929033114151522 Train accuracy 0.3781347926282747 Train top 5 accuracy 0.5638714729892936\n"
          ]
        },
        {
          "output_type": "stream",
          "name": "stderr",
          "text": [
            "100%|██████████| 2/2 [00:01<00:00,  1.58it/s]\n"
          ]
        },
        {
          "output_type": "stream",
          "name": "stdout",
          "text": [
            "Valid loss: 4.978761247613213 Valid accuracy 0.2104538089849732 Valid top 5 accuracy 0.4487166948277842\n",
            "Accuracy didn't improve from: 0.2288829848508943\n",
            "Epoch: 15/100\n"
          ]
        },
        {
          "output_type": "stream",
          "name": "stderr",
          "text": [
            "100%|██████████| 4/4 [00:02<00:00,  1.67it/s]\n"
          ]
        },
        {
          "output_type": "stream",
          "name": "stdout",
          "text": [
            "Train loss: 21.539972887797788 Train accuracy 0.3965517236343162 Train top 5 accuracy 0.5920846380124037\n"
          ]
        },
        {
          "output_type": "stream",
          "name": "stderr",
          "text": [
            "100%|██████████| 2/2 [00:00<00:00,  2.16it/s]\n"
          ]
        },
        {
          "output_type": "stream",
          "name": "stdout",
          "text": [
            "Valid loss: 4.695172377608039 Valid accuracy 0.257087988440286 Valid top 5 accuracy 0.4584312963892113\n",
            "Saving best model wieghts, Accuracy: 0.257087988440286\n",
            "Epoch: 16/100\n"
          ]
        },
        {
          "output_type": "stream",
          "name": "stderr",
          "text": [
            "100%|██████████| 4/4 [00:02<00:00,  1.57it/s]\n"
          ]
        },
        {
          "output_type": "stream",
          "name": "stdout",
          "text": [
            "Train loss: 23.1723989573392 Train accuracy 0.389106585517187 Train top 5 accuracy 0.58032915529541\n"
          ]
        },
        {
          "output_type": "stream",
          "name": "stderr",
          "text": [
            "100%|██████████| 2/2 [00:01<00:00,  1.58it/s]\n"
          ]
        },
        {
          "output_type": "stream",
          "name": "stdout",
          "text": [
            "Valid loss: 4.68689651651816 Valid accuracy 0.2633024755526673 Valid top 5 accuracy 0.48957313055341894\n",
            "Saving best model wieghts, Accuracy: 0.2633024755526673\n",
            "Epoch: 17/100\n"
          ]
        },
        {
          "output_type": "stream",
          "name": "stderr",
          "text": [
            "100%|██████████| 4/4 [00:02<00:00,  1.52it/s]\n"
          ]
        },
        {
          "output_type": "stream",
          "name": "stdout",
          "text": [
            "Train loss: 23.933456800200723 Train accuracy 0.36010971627282823 Train top 5 accuracy 0.5411442002620209\n"
          ]
        },
        {
          "output_type": "stream",
          "name": "stderr",
          "text": [
            "100%|██████████| 2/2 [00:01<00:00,  1.58it/s]\n"
          ]
        },
        {
          "output_type": "stream",
          "name": "stdout",
          "text": [
            "Valid loss: 4.478212882171977 Valid accuracy 0.2854093192991885 Valid top 5 accuracy 0.48782817426730285\n",
            "Saving best model wieghts, Accuracy: 0.2854093192991885\n",
            "Epoch: 18/100\n"
          ]
        },
        {
          "output_type": "stream",
          "name": "stderr",
          "text": [
            "100%|██████████| 4/4 [00:02<00:00,  1.70it/s]\n"
          ]
        },
        {
          "output_type": "stream",
          "name": "stdout",
          "text": [
            "Train loss: 21.186079583384775 Train accuracy 0.40673981547694316 Train top 5 accuracy 0.5787617518481883\n"
          ]
        },
        {
          "output_type": "stream",
          "name": "stderr",
          "text": [
            "100%|██████████| 2/2 [00:01<00:00,  1.57it/s]\n"
          ]
        },
        {
          "output_type": "stream",
          "name": "stdout",
          "text": [
            "Valid loss: 4.700251590121876 Valid accuracy 0.28187859312377195 Valid top 5 accuracy 0.4776319217952815\n",
            "Accuracy didn't improve from: 0.2854093192991885\n",
            "Epoch: 19/100\n"
          ]
        },
        {
          "output_type": "stream",
          "name": "stderr",
          "text": [
            "100%|██████████| 4/4 [00:02<00:00,  1.56it/s]\n"
          ]
        },
        {
          "output_type": "stream",
          "name": "stdout",
          "text": [
            "Train loss: 16.78031140024012 Train accuracy 0.44670847206461156 Train top 5 accuracy 0.5995297751558776\n"
          ]
        },
        {
          "output_type": "stream",
          "name": "stderr",
          "text": [
            "100%|██████████| 2/2 [00:00<00:00,  2.08it/s]\n"
          ]
        },
        {
          "output_type": "stream",
          "name": "stdout",
          "text": [
            "Valid loss: 4.93440845337781 Valid accuracy 0.27439671297642315 Valid top 5 accuracy 0.4936263176866553\n",
            "Accuracy didn't improve from: 0.2854093192991885\n",
            "Epoch: 20/100\n"
          ]
        },
        {
          "output_type": "stream",
          "name": "stderr",
          "text": [
            "100%|██████████| 4/4 [00:02<00:00,  1.62it/s]\n"
          ]
        },
        {
          "output_type": "stream",
          "name": "stdout",
          "text": [
            "Train loss: 19.320653836835515 Train accuracy 0.4529780685393648 Train top 5 accuracy 0.5787617572667924\n"
          ]
        },
        {
          "output_type": "stream",
          "name": "stderr",
          "text": [
            "100%|██████████| 2/2 [00:00<00:00,  2.17it/s]\n"
          ]
        },
        {
          "output_type": "stream",
          "name": "stdout",
          "text": [
            "Valid loss: 5.009963051839308 Valid accuracy 0.2830459759993987 Valid top 5 accuracy 0.48397294398058543\n",
            "Accuracy didn't improve from: 0.2854093192991885\n",
            "Epoch: 21/100\n"
          ]
        },
        {
          "output_type": "stream",
          "name": "stderr",
          "text": [
            "100%|██████████| 4/4 [00:02<00:00,  1.61it/s]\n"
          ]
        },
        {
          "output_type": "stream",
          "name": "stdout",
          "text": [
            "Train loss: 21.96070842851292 Train accuracy 0.3679467067545788 Train top 5 accuracy 0.5415360486473549\n"
          ]
        },
        {
          "output_type": "stream",
          "name": "stderr",
          "text": [
            "100%|██████████| 2/2 [00:00<00:00,  2.16it/s]\n"
          ]
        },
        {
          "output_type": "stream",
          "name": "stdout",
          "text": [
            "Valid loss: 4.97766203771938 Valid accuracy 0.2939769468185576 Valid top 5 accuracy 0.506079787388444\n",
            "Saving best model wieghts, Accuracy: 0.2939769468185576\n",
            "Epoch: 22/100\n"
          ]
        },
        {
          "output_type": "stream",
          "name": "stderr",
          "text": [
            "100%|██████████| 4/4 [00:02<00:00,  1.40it/s]\n"
          ]
        },
        {
          "output_type": "stream",
          "name": "stdout",
          "text": [
            "Train loss: 18.42004564675418 Train accuracy 0.40478056495670567 Train top 5 accuracy 0.5611285266720436\n"
          ]
        },
        {
          "output_type": "stream",
          "name": "stderr",
          "text": [
            "100%|██████████| 2/2 [00:01<00:00,  1.58it/s]\n"
          ]
        },
        {
          "output_type": "stream",
          "name": "stdout",
          "text": [
            "Valid loss: 4.649587195027959 Valid accuracy 0.33374763144688174 Valid top 5 accuracy 0.5157433697445826\n",
            "Saving best model wieghts, Accuracy: 0.33374763144688174\n",
            "Epoch: 23/100\n"
          ]
        },
        {
          "output_type": "stream",
          "name": "stderr",
          "text": [
            "100%|██████████| 4/4 [00:05<00:00,  1.28s/it]\n"
          ]
        },
        {
          "output_type": "stream",
          "name": "stdout",
          "text": [
            "Train loss: 13.708082570271058 Train accuracy 0.4525862032632259 Train top 5 accuracy 0.5999216355214064\n"
          ]
        },
        {
          "output_type": "stream",
          "name": "stderr",
          "text": [
            "100%|██████████| 2/2 [00:01<00:00,  1.90it/s]\n"
          ]
        },
        {
          "output_type": "stream",
          "name": "stdout",
          "text": [
            "Valid loss: 4.6430849730968475 Valid accuracy 0.3260984038087455 Valid top 5 accuracy 0.5136024823242967\n",
            "Accuracy didn't improve from: 0.33374763144688174\n",
            "Epoch: 24/100\n"
          ]
        },
        {
          "output_type": "stream",
          "name": "stderr",
          "text": [
            "100%|██████████| 4/4 [00:02<00:00,  1.57it/s]\n"
          ]
        },
        {
          "output_type": "stream",
          "name": "stdout",
          "text": [
            "Train loss: 12.840829648754813 Train accuracy 0.45532915161245247 Train top 5 accuracy 0.6061912232332609\n"
          ]
        },
        {
          "output_type": "stream",
          "name": "stderr",
          "text": [
            "100%|██████████| 2/2 [00:01<00:00,  1.58it/s]\n"
          ]
        },
        {
          "output_type": "stream",
          "name": "stdout",
          "text": [
            "Valid loss: 4.61211311546239 Valid accuracy 0.3217105047607964 Valid top 5 accuracy 0.5183659033341841\n",
            "Accuracy didn't improve from: 0.33374763144688174\n",
            "Epoch: 25/100\n"
          ]
        },
        {
          "output_type": "stream",
          "name": "stderr",
          "text": [
            "100%|██████████| 4/4 [00:02<00:00,  1.57it/s]\n"
          ]
        },
        {
          "output_type": "stream",
          "name": "stdout",
          "text": [
            "Train loss: 14.15559241717512 Train accuracy 0.4518025103448467 Train top 5 accuracy 0.5983542289415543\n"
          ]
        },
        {
          "output_type": "stream",
          "name": "stderr",
          "text": [
            "100%|██████████| 2/2 [00:00<00:00,  2.16it/s]\n"
          ]
        },
        {
          "output_type": "stream",
          "name": "stdout",
          "text": [
            "Valid loss: 4.918851846998388 Valid accuracy 0.2958341503346508 Valid top 5 accuracy 0.49485901675441046\n",
            "Accuracy didn't improve from: 0.33374763144688174\n",
            "Epoch: 26/100\n"
          ]
        },
        {
          "output_type": "stream",
          "name": "stderr",
          "text": [
            "100%|██████████| 4/4 [00:02<00:00,  1.57it/s]\n"
          ]
        },
        {
          "output_type": "stream",
          "name": "stdout",
          "text": [
            "Train loss: 12.877824845639141 Train accuracy 0.46394984280182555 Train top 5 accuracy 0.5862068921666254\n"
          ]
        },
        {
          "output_type": "stream",
          "name": "stderr",
          "text": [
            "100%|██████████| 2/2 [00:00<00:00,  2.19it/s]\n"
          ]
        },
        {
          "output_type": "stream",
          "name": "stdout",
          "text": [
            "Valid loss: 4.847869119860909 Valid accuracy 0.32764539342712273 Valid top 5 accuracy 0.5134963569315997\n",
            "Accuracy didn't improve from: 0.33374763144688174\n",
            "Epoch: 27/100\n"
          ]
        },
        {
          "output_type": "stream",
          "name": "stderr",
          "text": [
            "100%|██████████| 4/4 [00:02<00:00,  1.64it/s]\n"
          ]
        },
        {
          "output_type": "stream",
          "name": "stdout",
          "text": [
            "Train loss: 12.94047563997182 Train accuracy 0.4467084704982964 Train top 5 accuracy 0.5799372989515011\n"
          ]
        },
        {
          "output_type": "stream",
          "name": "stderr",
          "text": [
            "100%|██████████| 2/2 [00:01<00:00,  1.57it/s]\n"
          ]
        },
        {
          "output_type": "stream",
          "name": "stdout",
          "text": [
            "Valid loss: 4.73756128820506 Valid accuracy 0.356687156483531 Valid top 5 accuracy 0.528435621241277\n",
            "Saving best model wieghts, Accuracy: 0.356687156483531\n",
            "Epoch: 28/100\n"
          ]
        },
        {
          "output_type": "stream",
          "name": "stderr",
          "text": [
            "100%|██████████| 4/4 [00:02<00:00,  1.65it/s]\n"
          ]
        },
        {
          "output_type": "stream",
          "name": "stdout",
          "text": [
            "Train loss: 14.522776877338236 Train accuracy 0.4486677144992758 Train top 5 accuracy 0.5740595702928576\n"
          ]
        },
        {
          "output_type": "stream",
          "name": "stderr",
          "text": [
            "100%|██████████| 2/2 [00:00<00:00,  2.01it/s]\n"
          ]
        },
        {
          "output_type": "stream",
          "name": "stdout",
          "text": [
            "Valid loss: 4.770841070196846 Valid accuracy 0.3215125406330282 Valid top 5 accuracy 0.5202986195006154\n",
            "Accuracy didn't improve from: 0.356687156483531\n",
            "Epoch: 29/100\n"
          ]
        },
        {
          "output_type": "stream",
          "name": "stderr",
          "text": [
            "100%|██████████| 4/4 [00:02<00:00,  1.67it/s]\n"
          ]
        },
        {
          "output_type": "stream",
          "name": "stdout",
          "text": [
            "Train loss: 15.930461179126393 Train accuracy 0.4157523544166576 Train top 5 accuracy 0.5764106574722312\n"
          ]
        },
        {
          "output_type": "stream",
          "name": "stderr",
          "text": [
            "100%|██████████| 2/2 [00:01<00:00,  1.58it/s]\n"
          ]
        },
        {
          "output_type": "stream",
          "name": "stdout",
          "text": [
            "Valid loss: 4.879473919218237 Valid accuracy 0.3538564555346966 Valid top 5 accuracy 0.5236619968305934\n",
            "Accuracy didn't improve from: 0.356687156483531\n",
            "Epoch: 30/100\n"
          ]
        },
        {
          "output_type": "stream",
          "name": "stderr",
          "text": [
            "100%|██████████| 4/4 [00:02<00:00,  1.57it/s]\n"
          ]
        },
        {
          "output_type": "stream",
          "name": "stdout",
          "text": [
            "Train loss: 10.965818757360632 Train accuracy 0.4690438807857307 Train top 5 accuracy 0.5991379297761754\n"
          ]
        },
        {
          "output_type": "stream",
          "name": "stderr",
          "text": [
            "100%|██████████| 2/2 [00:00<00:00,  2.06it/s]\n"
          ]
        },
        {
          "output_type": "stream",
          "name": "stdout",
          "text": [
            "Valid loss: 4.82717230645093 Valid accuracy 0.3847390941598199 Valid top 5 accuracy 0.5340153928846121\n",
            "Saving best model wieghts, Accuracy: 0.3847390941598199\n",
            "Epoch: 31/100\n"
          ]
        },
        {
          "output_type": "stream",
          "name": "stderr",
          "text": [
            "100%|██████████| 4/4 [00:02<00:00,  1.54it/s]\n"
          ]
        },
        {
          "output_type": "stream",
          "name": "stdout",
          "text": [
            "Train loss: 10.152656595815312 Train accuracy 0.4804075214249844 Train top 5 accuracy 0.6050156792625785\n"
          ]
        },
        {
          "output_type": "stream",
          "name": "stderr",
          "text": [
            "100%|██████████| 2/2 [00:01<00:00,  1.58it/s]\n"
          ]
        },
        {
          "output_type": "stream",
          "name": "stdout",
          "text": [
            "Valid loss: 4.824208458716219 Valid accuracy 0.35881784016435797 Valid top 5 accuracy 0.5368563070554625\n",
            "Accuracy didn't improve from: 0.3847390941598199\n",
            "Epoch: 32/100\n"
          ]
        },
        {
          "output_type": "stream",
          "name": "stderr",
          "text": [
            "100%|██████████| 4/4 [00:02<00:00,  1.55it/s]\n"
          ]
        },
        {
          "output_type": "stream",
          "name": "stdout",
          "text": [
            "Train loss: 9.994147354906255 Train accuracy 0.5105799415402792 Train top 5 accuracy 0.6085423193871975\n"
          ]
        },
        {
          "output_type": "stream",
          "name": "stderr",
          "text": [
            "100%|██████████| 2/2 [00:01<00:00,  1.58it/s]\n"
          ]
        },
        {
          "output_type": "stream",
          "name": "stdout",
          "text": [
            "Valid loss: 5.254099247130481 Valid accuracy 0.29630559428849 Valid top 5 accuracy 0.48036057739095256\n",
            "Accuracy didn't improve from: 0.3847390941598199\n",
            "Epoch: 33/100\n"
          ]
        },
        {
          "output_type": "stream",
          "name": "stderr",
          "text": [
            "100%|██████████| 4/4 [00:02<00:00,  1.38it/s]\n"
          ]
        },
        {
          "output_type": "stream",
          "name": "stdout",
          "text": [
            "Train loss: 8.76266529343345 Train accuracy 0.49725706257264723 Train top 5 accuracy 0.606583073227243\n"
          ]
        },
        {
          "output_type": "stream",
          "name": "stderr",
          "text": [
            "100%|██████████| 2/2 [00:01<00:00,  1.58it/s]\n"
          ]
        },
        {
          "output_type": "stream",
          "name": "stdout",
          "text": [
            "Valid loss: 4.890826776623726 Valid accuracy 0.37102231721986423 Valid top 5 accuracy 0.5401890675791285\n",
            "Accuracy didn't improve from: 0.3847390941598199\n",
            "Epoch: 34/100\n"
          ]
        },
        {
          "output_type": "stream",
          "name": "stderr",
          "text": [
            "100%|██████████| 4/4 [00:02<00:00,  1.59it/s]\n"
          ]
        },
        {
          "output_type": "stream",
          "name": "stdout",
          "text": [
            "Train loss: 9.07914776964621 Train accuracy 0.49216300731694157 Train top 5 accuracy 0.6065830731425773\n"
          ]
        },
        {
          "output_type": "stream",
          "name": "stderr",
          "text": [
            "100%|██████████| 2/2 [00:00<00:00,  2.15it/s]\n"
          ]
        },
        {
          "output_type": "stream",
          "name": "stdout",
          "text": [
            "Valid loss: 4.89291048320857 Valid accuracy 0.34382755258543923 Valid top 5 accuracy 0.5307030386545442\n",
            "Accuracy didn't improve from: 0.3847390941598199\n",
            "Epoch: 35/100\n"
          ]
        },
        {
          "output_type": "stream",
          "name": "stderr",
          "text": [
            "100%|██████████| 4/4 [00:02<00:00,  1.57it/s]\n"
          ]
        },
        {
          "output_type": "stream",
          "name": "stdout",
          "text": [
            "Train loss: 11.436292252757333 Train accuracy 0.4784482709894126 Train top 5 accuracy 0.6030564243820581\n"
          ]
        },
        {
          "output_type": "stream",
          "name": "stderr",
          "text": [
            "100%|██████████| 2/2 [00:00<00:00,  2.14it/s]\n"
          ]
        },
        {
          "output_type": "stream",
          "name": "stdout",
          "text": [
            "Valid loss: 5.030049798163501 Valid accuracy 0.3485909759659659 Valid top 5 accuracy 0.525615122507919\n",
            "Accuracy didn't improve from: 0.3847390941598199\n",
            "Epoch: 36/100\n"
          ]
        },
        {
          "output_type": "stream",
          "name": "stderr",
          "text": [
            "100%|██████████| 4/4 [00:02<00:00,  1.63it/s]\n"
          ]
        },
        {
          "output_type": "stream",
          "name": "stdout",
          "text": [
            "Train loss: 7.956307665868239 Train accuracy 0.5074451402337714 Train top 5 accuracy 0.606191223741255\n"
          ]
        },
        {
          "output_type": "stream",
          "name": "stderr",
          "text": [
            "100%|██████████| 2/2 [00:01<00:00,  1.57it/s]\n"
          ]
        },
        {
          "output_type": "stream",
          "name": "stdout",
          "text": [
            "Valid loss: 5.047580794854597 Valid accuracy 0.3979885063388131 Valid top 5 accuracy 0.5398033412004059\n",
            "Saving best model wieghts, Accuracy: 0.3979885063388131\n",
            "Epoch: 37/100\n"
          ]
        },
        {
          "output_type": "stream",
          "name": "stderr",
          "text": [
            "100%|██████████| 4/4 [00:02<00:00,  1.56it/s]\n"
          ]
        },
        {
          "output_type": "stream",
          "name": "stdout",
          "text": [
            "Train loss: 9.340264301408421 Train accuracy 0.48119122526523744 Train top 5 accuracy 0.5991379301148382\n"
          ]
        },
        {
          "output_type": "stream",
          "name": "stderr",
          "text": [
            "100%|██████████| 2/2 [00:01<00:00,  1.58it/s]\n"
          ]
        },
        {
          "output_type": "stream",
          "name": "stdout",
          "text": [
            "Valid loss: 5.185341301289472 Valid accuracy 0.3801430247046731 Valid top 5 accuracy 0.5359072969718413\n",
            "Accuracy didn't improve from: 0.3979885063388131\n",
            "Epoch: 38/100\n"
          ]
        },
        {
          "output_type": "stream",
          "name": "stderr",
          "text": [
            "100%|██████████| 4/4 [00:02<00:00,  1.61it/s]\n"
          ]
        },
        {
          "output_type": "stream",
          "name": "stdout",
          "text": [
            "Train loss: 7.6234748200936755 Train accuracy 0.5023511003872211 Train top 5 accuracy 0.6057993700219826\n"
          ]
        },
        {
          "output_type": "stream",
          "name": "stderr",
          "text": [
            "100%|██████████| 2/2 [00:01<00:00,  1.58it/s]\n"
          ]
        },
        {
          "output_type": "stream",
          "name": "stdout",
          "text": [
            "Valid loss: 5.063042396848852 Valid accuracy 0.3962639570236206 Valid top 5 accuracy 0.5399911048060114\n",
            "Accuracy didn't improve from: 0.3979885063388131\n",
            "Epoch: 39/100\n"
          ]
        },
        {
          "output_type": "stream",
          "name": "stderr",
          "text": [
            "100%|██████████| 4/4 [00:02<00:00,  1.57it/s]\n"
          ]
        },
        {
          "output_type": "stream",
          "name": "stdout",
          "text": [
            "Train loss: 8.205513497645205 Train accuracy 0.5078369953923605 Train top 5 accuracy 0.6010971782221035\n"
          ]
        },
        {
          "output_type": "stream",
          "name": "stderr",
          "text": [
            "100%|██████████| 2/2 [00:00<00:00,  2.15it/s]\n"
          ]
        },
        {
          "output_type": "stream",
          "name": "stdout",
          "text": [
            "Valid loss: 5.518816540187055 Valid accuracy 0.32950667867606337 Valid top 5 accuracy 0.5092247936197303\n",
            "Accuracy didn't improve from: 0.3979885063388131\n",
            "Epoch: 40/100\n"
          ]
        },
        {
          "output_type": "stream",
          "name": "stderr",
          "text": [
            "100%|██████████| 4/4 [00:02<00:00,  1.57it/s]\n"
          ]
        },
        {
          "output_type": "stream",
          "name": "stdout",
          "text": [
            "Train loss: 9.394724322990937 Train accuracy 0.49804075210439885 Train top 5 accuracy 0.5975705261596225\n"
          ]
        },
        {
          "output_type": "stream",
          "name": "stderr",
          "text": [
            "100%|██████████| 2/2 [00:01<00:00,  1.57it/s]\n"
          ]
        },
        {
          "output_type": "stream",
          "name": "stdout",
          "text": [
            "Valid loss: 5.221954956650734 Valid accuracy 0.37890012663873757 Valid top 5 accuracy 0.533472521907904\n",
            "Accuracy didn't improve from: 0.3979885063388131\n",
            "Epoch: 41/100\n"
          ]
        },
        {
          "output_type": "stream",
          "name": "stderr",
          "text": [
            "100%|██████████| 4/4 [00:02<00:00,  1.57it/s]\n"
          ]
        },
        {
          "output_type": "stream",
          "name": "stdout",
          "text": [
            "Train loss: 7.611325213854963 Train accuracy 0.5246865218505263 Train top 5 accuracy 0.6077586209232156\n"
          ]
        },
        {
          "output_type": "stream",
          "name": "stderr",
          "text": [
            "100%|██████████| 2/2 [00:01<00:00,  1.58it/s]\n"
          ]
        },
        {
          "output_type": "stream",
          "name": "stdout",
          "text": [
            "Valid loss: 5.376561996611682 Valid accuracy 0.3569606386802413 Valid top 5 accuracy 0.531560211696408\n",
            "Accuracy didn't improve from: 0.3979885063388131\n",
            "Epoch: 42/100\n"
          ]
        },
        {
          "output_type": "stream",
          "name": "stderr",
          "text": [
            "100%|██████████| 4/4 [00:02<00:00,  1.57it/s]\n"
          ]
        },
        {
          "output_type": "stream",
          "name": "stdout",
          "text": [
            "Train loss: 9.022534183480523 Train accuracy 0.49921629908071324 Train top 5 accuracy 0.6077586153352802\n"
          ]
        },
        {
          "output_type": "stream",
          "name": "stderr",
          "text": [
            "100%|██████████| 2/2 [00:00<00:00,  2.16it/s]\n"
          ]
        },
        {
          "output_type": "stream",
          "name": "stdout",
          "text": [
            "Valid loss: 5.4587080722505394 Valid accuracy 0.3156225501813672 Valid top 5 accuracy 0.5323765707964246\n",
            "Accuracy didn't improve from: 0.3979885063388131\n",
            "Epoch: 43/100\n"
          ]
        },
        {
          "output_type": "stream",
          "name": "stderr",
          "text": [
            "100%|██████████| 4/4 [00:02<00:00,  1.65it/s]\n"
          ]
        },
        {
          "output_type": "stream",
          "name": "stdout",
          "text": [
            "Train loss: 6.481517107649283 Train accuracy 0.5289968718689951 Train top 5 accuracy 0.607366771352562\n"
          ]
        },
        {
          "output_type": "stream",
          "name": "stderr",
          "text": [
            "100%|██████████| 2/2 [00:01<00:00,  1.58it/s]\n"
          ]
        },
        {
          "output_type": "stream",
          "name": "stdout",
          "text": [
            "Valid loss: 5.254606540907513 Valid accuracy 0.394904731518843 Valid top 5 accuracy 0.5454443410377611\n",
            "Accuracy didn't improve from: 0.3979885063388131\n",
            "Epoch: 44/100\n"
          ]
        },
        {
          "output_type": "stream",
          "name": "stderr",
          "text": [
            "100%|██████████| 4/4 [00:02<00:00,  1.68it/s]\n"
          ]
        },
        {
          "output_type": "stream",
          "name": "stdout",
          "text": [
            "Train loss: 6.554904168302363 Train accuracy 0.5282131722196937 Train top 5 accuracy 0.609717863865874\n"
          ]
        },
        {
          "output_type": "stream",
          "name": "stderr",
          "text": [
            "100%|██████████| 2/2 [00:01<00:00,  1.58it/s]\n"
          ]
        },
        {
          "output_type": "stream",
          "name": "stdout",
          "text": [
            "Valid loss: 5.162484923546964 Valid accuracy 0.3696528844196688 Valid top 5 accuracy 0.5380992047827352\n",
            "Accuracy didn't improve from: 0.3979885063388131\n",
            "Epoch: 45/100\n"
          ]
        },
        {
          "output_type": "stream",
          "name": "stderr",
          "text": [
            "100%|██████████| 4/4 [00:02<00:00,  1.60it/s]\n"
          ]
        },
        {
          "output_type": "stream",
          "name": "stdout",
          "text": [
            "Train loss: 6.043472489172762 Train accuracy 0.5364420018582181 Train top 5 accuracy 0.6105015674097971\n"
          ]
        },
        {
          "output_type": "stream",
          "name": "stderr",
          "text": [
            "100%|██████████| 2/2 [00:00<00:00,  2.16it/s]\n"
          ]
        },
        {
          "output_type": "stream",
          "name": "stdout",
          "text": [
            "Valid loss: 5.133284952152859 Valid accuracy 0.37281829660589044 Valid top 5 accuracy 0.5435116221620278\n",
            "Accuracy didn't improve from: 0.3979885063388131\n",
            "Epoch: 46/100\n"
          ]
        },
        {
          "output_type": "stream",
          "name": "stderr",
          "text": [
            "100%|██████████| 4/4 [00:05<00:00,  1.28s/it]\n"
          ]
        },
        {
          "output_type": "stream",
          "name": "stdout",
          "text": [
            "Train loss: 6.261900729753754 Train accuracy 0.528996866450391 Train top 5 accuracy 0.6085423188792034\n"
          ]
        },
        {
          "output_type": "stream",
          "name": "stderr",
          "text": [
            "100%|██████████| 2/2 [00:01<00:00,  1.57it/s]\n"
          ]
        },
        {
          "output_type": "stream",
          "name": "stdout",
          "text": [
            "Valid loss: 5.234192963350903 Valid accuracy 0.3669895353642377 Valid top 5 accuracy 0.545748430388895\n",
            "Accuracy didn't improve from: 0.3979885063388131\n",
            "model didn't improve for 10 epochs----> lower learning rate to 2e-05\n",
            "Epoch: 47/100\n"
          ]
        },
        {
          "output_type": "stream",
          "name": "stderr",
          "text": [
            "100%|██████████| 4/4 [00:06<00:00,  1.74s/it]\n"
          ]
        },
        {
          "output_type": "stream",
          "name": "stdout",
          "text": [
            "Train loss: 5.398880935528061 Train accuracy 0.5399686461314559 Train top 5 accuracy 0.6093260208991441\n"
          ]
        },
        {
          "output_type": "stream",
          "name": "stderr",
          "text": [
            "100%|██████████| 2/2 [00:03<00:00,  1.78s/it]\n"
          ]
        },
        {
          "output_type": "stream",
          "name": "stdout",
          "text": [
            "Valid loss: 5.326034965840253 Valid accuracy 0.3864738421345299 Valid top 5 accuracy 0.5451198404824192\n",
            "Accuracy didn't improve from: 0.3979885063388131\n",
            "Epoch: 48/100\n"
          ]
        },
        {
          "output_type": "stream",
          "name": "stderr",
          "text": [
            "100%|██████████| 4/4 [00:02<00:00,  1.68it/s]\n"
          ]
        },
        {
          "output_type": "stream",
          "name": "stdout",
          "text": [
            "Train loss: 5.179738563570109 Train accuracy 0.5380094035274603 Train top 5 accuracy 0.6093260208991441\n"
          ]
        },
        {
          "output_type": "stream",
          "name": "stderr",
          "text": [
            "100%|██████████| 2/2 [00:00<00:00,  2.07it/s]\n"
          ]
        },
        {
          "output_type": "stream",
          "name": "stdout",
          "text": [
            "Valid loss: 5.3454927463423125 Valid accuracy 0.3847390944984826 Valid top 5 accuracy 0.5438871486959133\n",
            "Accuracy didn't improve from: 0.3979885063388131\n",
            "Epoch: 49/100\n"
          ]
        },
        {
          "output_type": "stream",
          "name": "stderr",
          "text": [
            "100%|██████████| 4/4 [00:02<00:00,  1.65it/s]\n"
          ]
        },
        {
          "output_type": "stream",
          "name": "stdout",
          "text": [
            "Train loss: 5.053209945559502 Train accuracy 0.5403604979034174 Train top 5 accuracy 0.6093260208991441\n"
          ]
        },
        {
          "output_type": "stream",
          "name": "stderr",
          "text": [
            "100%|██████████| 2/2 [00:00<00:00,  2.17it/s]\n"
          ]
        },
        {
          "output_type": "stream",
          "name": "stdout",
          "text": [
            "Valid loss: 5.3631128235296766 Valid accuracy 0.38663099333643913 Valid top 5 accuracy 0.5442320577461611\n",
            "Accuracy didn't improve from: 0.3979885063388131\n",
            "Epoch: 50/100\n"
          ]
        },
        {
          "output_type": "stream",
          "name": "stderr",
          "text": [
            "100%|██████████| 4/4 [00:02<00:00,  1.57it/s]\n"
          ]
        },
        {
          "output_type": "stream",
          "name": "stdout",
          "text": [
            "Train loss: 4.942998028614304 Train accuracy 0.5419278995726596 Train top 5 accuracy 0.6097178672525015\n"
          ]
        },
        {
          "output_type": "stream",
          "name": "stderr",
          "text": [
            "100%|██████████| 2/2 [00:00<00:00,  2.16it/s]\n"
          ]
        },
        {
          "output_type": "stream",
          "name": "stdout",
          "text": [
            "Valid loss: 5.400060058994726 Valid accuracy 0.38576361824843014 Valid top 5 accuracy 0.5447545236145909\n",
            "Accuracy didn't improve from: 0.3979885063388131\n",
            "**********************************************************************\n",
            "Fine-tuning all layers with LR = 5e-05\n",
            "Epoch: 51/100\n"
          ]
        },
        {
          "output_type": "stream",
          "name": "stderr",
          "text": [
            "100%|██████████| 4/4 [00:10<00:00,  2.63s/it]\n"
          ]
        },
        {
          "output_type": "stream",
          "name": "stdout",
          "text": [
            "Train loss: 24.29889141158624 Train accuracy 0.38362068632109597 Train top 5 accuracy 0.5184169288047336\n"
          ]
        },
        {
          "output_type": "stream",
          "name": "stderr",
          "text": [
            "100%|██████████| 2/2 [00:04<00:00,  2.22s/it]\n"
          ]
        },
        {
          "output_type": "stream",
          "name": "stdout",
          "text": [
            "Valid loss: 5.452819060195576 Valid accuracy 0.3076590265740048 Valid top 5 accuracy 0.5062165316194296\n",
            "Accuracy didn't improve from: 0.3979885063388131\n",
            "Epoch: 52/100\n"
          ]
        },
        {
          "output_type": "stream",
          "name": "stderr",
          "text": [
            "100%|██████████| 4/4 [00:03<00:00,  1.09it/s]\n"
          ]
        },
        {
          "output_type": "stream",
          "name": "stdout",
          "text": [
            "Train loss: 9.142263496463949 Train accuracy 0.4819749134000052 Train top 5 accuracy 0.6003134777261452\n"
          ]
        },
        {
          "output_type": "stream",
          "name": "stderr",
          "text": [
            "100%|██████████| 2/2 [00:01<00:00,  1.58it/s]\n"
          ]
        },
        {
          "output_type": "stream",
          "name": "stdout",
          "text": [
            "Valid loss: 5.338204168460586 Valid accuracy 0.3674303667450493 Valid top 5 accuracy 0.5456525131382726\n",
            "Accuracy didn't improve from: 0.3979885063388131\n",
            "Epoch: 53/100\n"
          ]
        },
        {
          "output_type": "stream",
          "name": "stderr",
          "text": [
            "100%|██████████| 4/4 [00:05<00:00,  1.28s/it]\n"
          ]
        },
        {
          "output_type": "stream",
          "name": "stdout",
          "text": [
            "Train loss: 5.792218108068813 Train accuracy 0.5391849568113685 Train top 5 accuracy 0.6085423188792034\n"
          ]
        },
        {
          "output_type": "stream",
          "name": "stderr",
          "text": [
            "100%|██████████| 2/2 [00:00<00:00,  2.09it/s]\n"
          ]
        },
        {
          "output_type": "stream",
          "name": "stdout",
          "text": [
            "Valid loss: 5.361004811796275 Valid accuracy 0.37469999119639397 Valid top 5 accuracy 0.5452667833729223\n",
            "Accuracy didn't improve from: 0.3979885063388131\n",
            "Epoch: 54/100\n"
          ]
        },
        {
          "output_type": "stream",
          "name": "stderr",
          "text": [
            "100%|██████████| 4/4 [00:05<00:00,  1.28s/it]\n"
          ]
        },
        {
          "output_type": "stream",
          "name": "stdout",
          "text": [
            "Train loss: 4.746989900415594 Train accuracy 0.5431034481152892 Train top 5 accuracy 0.6089341652325608\n"
          ]
        },
        {
          "output_type": "stream",
          "name": "stderr",
          "text": [
            "100%|██████████| 2/2 [00:00<00:00,  2.12it/s]\n"
          ]
        },
        {
          "output_type": "stream",
          "name": "stdout",
          "text": [
            "Valid loss: 5.387889409607107 Valid accuracy 0.39085153727368876 Valid top 5 accuracy 0.5496648897162892\n",
            "Accuracy didn't improve from: 0.3979885063388131\n",
            "Epoch: 55/100\n"
          ]
        },
        {
          "output_type": "stream",
          "name": "stderr",
          "text": [
            "100%|██████████| 4/4 [00:05<00:00,  1.28s/it]\n"
          ]
        },
        {
          "output_type": "stream",
          "name": "stdout",
          "text": [
            "Train loss: 5.466108763759786 Train accuracy 0.5380094053054397 Train top 5 accuracy 0.6065830735659058\n"
          ]
        },
        {
          "output_type": "stream",
          "name": "stderr",
          "text": [
            "100%|██████████| 2/2 [00:00<00:00,  2.13it/s]\n"
          ]
        },
        {
          "output_type": "stream",
          "name": "stdout",
          "text": [
            "Valid loss: 5.376472009853884 Valid accuracy 0.39080051840706304 Valid top 5 accuracy 0.549122013320977\n",
            "Accuracy didn't improve from: 0.3979885063388131\n",
            "Epoch: 56/100\n"
          ]
        },
        {
          "output_type": "stream",
          "name": "stderr",
          "text": [
            "100%|██████████| 4/4 [00:03<00:00,  1.09it/s]\n"
          ]
        },
        {
          "output_type": "stream",
          "name": "stdout",
          "text": [
            "Train loss: 5.648698243905198 Train accuracy 0.5188087757507508 Train top 5 accuracy 0.6034482702274214\n"
          ]
        },
        {
          "output_type": "stream",
          "name": "stderr",
          "text": [
            "100%|██████████| 2/2 [00:00<00:00,  2.07it/s]\n"
          ]
        },
        {
          "output_type": "stream",
          "name": "stdout",
          "text": [
            "Valid loss: 5.463170696388591 Valid accuracy 0.3768510774455287 Valid top 5 accuracy 0.5479301376776262\n",
            "Accuracy didn't improve from: 0.3979885063388131\n",
            "Epoch: 57/100\n"
          ]
        },
        {
          "output_type": "stream",
          "name": "stderr",
          "text": [
            "100%|██████████| 4/4 [00:05<00:00,  1.28s/it]\n"
          ]
        },
        {
          "output_type": "stream",
          "name": "stdout",
          "text": [
            "Train loss: 5.223418937488035 Train accuracy 0.53683385735547 Train top 5 accuracy 0.6112852650271221\n"
          ]
        },
        {
          "output_type": "stream",
          "name": "stderr",
          "text": [
            "100%|██████████| 2/2 [00:01<00:00,  1.57it/s]\n"
          ]
        },
        {
          "output_type": "stream",
          "name": "stdout",
          "text": [
            "Valid loss: 5.277893689545718 Valid accuracy 0.38674732246859506 Valid top 5 accuracy 0.5505118534307588\n",
            "Accuracy didn't improve from: 0.3979885063388131\n",
            "Epoch: 58/100\n"
          ]
        },
        {
          "output_type": "stream",
          "name": "stderr",
          "text": [
            "100%|██████████| 4/4 [00:05<00:00,  1.28s/it]\n"
          ]
        },
        {
          "output_type": "stream",
          "name": "stdout",
          "text": [
            "Train loss: 3.994957769458944 Train accuracy 0.5544670919295062 Train top 5 accuracy 0.6108934186737646\n"
          ]
        },
        {
          "output_type": "stream",
          "name": "stderr",
          "text": [
            "100%|██████████| 2/2 [00:01<00:00,  1.57it/s]\n"
          ]
        },
        {
          "output_type": "stream",
          "name": "stdout",
          "text": [
            "Valid loss: 5.457292808727785 Valid accuracy 0.37931646762246435 Valid top 5 accuracy 0.5475546170703389\n",
            "Accuracy didn't improve from: 0.3979885063388131\n",
            "Epoch: 59/100\n"
          ]
        },
        {
          "output_type": "stream",
          "name": "stderr",
          "text": [
            "100%|██████████| 4/4 [00:05<00:00,  1.28s/it]\n"
          ]
        },
        {
          "output_type": "stream",
          "name": "stdout",
          "text": [
            "Train loss: 4.288127836855975 Train accuracy 0.5521159894256429 Train top 5 accuracy 0.6112852650271221\n"
          ]
        },
        {
          "output_type": "stream",
          "name": "stderr",
          "text": [
            "100%|██████████| 2/2 [00:01<00:00,  1.57it/s]\n"
          ]
        },
        {
          "output_type": "stream",
          "name": "stdout",
          "text": [
            "Valid loss: 5.542509157549251 Valid accuracy 0.36909980716353114 Valid top 5 accuracy 0.5492791616442528\n",
            "Accuracy didn't improve from: 0.3979885063388131\n",
            "Epoch: 60/100\n"
          ]
        },
        {
          "output_type": "stream",
          "name": "stderr",
          "text": [
            "100%|██████████| 4/4 [00:03<00:00,  1.08it/s]\n"
          ]
        },
        {
          "output_type": "stream",
          "name": "stdout",
          "text": [
            "Train loss: 3.4035160798918116 Train accuracy 0.5576018844307824 Train top 5 accuracy 0.6112852650271221\n"
          ]
        },
        {
          "output_type": "stream",
          "name": "stderr",
          "text": [
            "100%|██████████| 2/2 [00:01<00:00,  1.58it/s]\n"
          ]
        },
        {
          "output_type": "stream",
          "name": "stdout",
          "text": [
            "Valid loss: 5.467634129253301 Valid accuracy 0.4040458473292264 Valid top 5 accuracy 0.5513690266419541\n",
            "Saving best model wieghts, Accuracy: 0.4040458473292264\n",
            "Epoch: 61/100\n"
          ]
        },
        {
          "output_type": "stream",
          "name": "stderr",
          "text": [
            "100%|██████████| 4/4 [00:05<00:00,  1.28s/it]\n"
          ]
        },
        {
          "output_type": "stream",
          "name": "stdout",
          "text": [
            "Train loss: 3.8197221329266373 Train accuracy 0.5501567420803688 Train top 5 accuracy 0.6085423161699013\n"
          ]
        },
        {
          "output_type": "stream",
          "name": "stderr",
          "text": [
            "100%|██████████| 2/2 [00:00<00:00,  2.03it/s]\n"
          ]
        },
        {
          "output_type": "stream",
          "name": "stdout",
          "text": [
            "Valid loss: 5.455677163871852 Valid accuracy 0.40349276770244946 Valid top 5 accuracy 0.5473668538033962\n",
            "Accuracy didn't improve from: 0.4040458473292264\n",
            "Epoch: 62/100\n"
          ]
        },
        {
          "output_type": "stream",
          "name": "stderr",
          "text": [
            "100%|██████████| 4/4 [00:03<00:00,  1.08it/s]\n"
          ]
        },
        {
          "output_type": "stream",
          "name": "stdout",
          "text": [
            "Train loss: 3.759011826731942 Train accuracy 0.5407523476434025 Train top 5 accuracy 0.6081504698165439\n"
          ]
        },
        {
          "output_type": "stream",
          "name": "stderr",
          "text": [
            "100%|██████████| 2/2 [00:01<00:00,  1.58it/s]\n"
          ]
        },
        {
          "output_type": "stream",
          "name": "stdout",
          "text": [
            "Valid loss: 5.480140619657257 Valid accuracy 0.3884269683198495 Valid top 5 accuracy 0.5489546590569344\n",
            "Accuracy didn't improve from: 0.4040458473292264\n",
            "Epoch: 63/100\n"
          ]
        },
        {
          "output_type": "stream",
          "name": "stderr",
          "text": [
            "100%|██████████| 4/4 [00:03<00:00,  1.07it/s]\n"
          ]
        },
        {
          "output_type": "stream",
          "name": "stdout",
          "text": [
            "Train loss: 3.403634183786132 Train accuracy 0.544670844196596 Train top 5 accuracy 0.6108934132551606\n"
          ]
        },
        {
          "output_type": "stream",
          "name": "stderr",
          "text": [
            "100%|██████████| 2/2 [00:01<00:00,  1.58it/s]\n"
          ]
        },
        {
          "output_type": "stream",
          "name": "stdout",
          "text": [
            "Valid loss: 5.389450784433972 Valid accuracy 0.39390470036728814 Valid top 5 accuracy 0.5461239560761235\n",
            "Accuracy didn't improve from: 0.4040458473292264\n",
            "Epoch: 64/100\n"
          ]
        },
        {
          "output_type": "stream",
          "name": "stderr",
          "text": [
            "100%|██████████| 4/4 [00:03<00:00,  1.08it/s]\n"
          ]
        },
        {
          "output_type": "stream",
          "name": "stdout",
          "text": [
            "Train loss: 8.131804928183556 Train accuracy 0.5113636374642904 Train top 5 accuracy 0.6101097151298415\n"
          ]
        },
        {
          "output_type": "stream",
          "name": "stderr",
          "text": [
            "100%|██████████| 2/2 [00:01<00:00,  1.57it/s]\n"
          ]
        },
        {
          "output_type": "stream",
          "name": "stdout",
          "text": [
            "Valid loss: 5.5774079425768415 Valid accuracy 0.30311806296760385 Valid top 5 accuracy 0.4882894102483988\n",
            "Accuracy didn't improve from: 0.4040458473292264\n",
            "Epoch: 65/100\n"
          ]
        },
        {
          "output_type": "stream",
          "name": "stderr",
          "text": [
            "100%|██████████| 4/4 [00:03<00:00,  1.08it/s]\n"
          ]
        },
        {
          "output_type": "stream",
          "name": "stdout",
          "text": [
            "Train loss: 13.41163827885281 Train accuracy 0.4729623786935752 Train top 5 accuracy 0.603840124708685\n"
          ]
        },
        {
          "output_type": "stream",
          "name": "stderr",
          "text": [
            "100%|██████████| 2/2 [00:01<00:00,  1.57it/s]\n"
          ]
        },
        {
          "output_type": "stream",
          "name": "stdout",
          "text": [
            "Valid loss: 4.806859848174182 Valid accuracy 0.29584435136480763 Valid top 5 accuracy 0.45386583933776076\n",
            "Accuracy didn't improve from: 0.4040458473292264\n",
            "Epoch: 66/100\n"
          ]
        },
        {
          "output_type": "stream",
          "name": "stderr",
          "text": [
            "100%|██████████| 4/4 [00:03<00:00,  1.08it/s]\n"
          ]
        },
        {
          "output_type": "stream",
          "name": "stdout",
          "text": [
            "Train loss: 7.110886180942709 Train accuracy 0.5317398109896616 Train top 5 accuracy 0.6105015662244775\n"
          ]
        },
        {
          "output_type": "stream",
          "name": "stderr",
          "text": [
            "100%|██████████| 2/2 [00:00<00:00,  2.12it/s]\n"
          ]
        },
        {
          "output_type": "stream",
          "name": "stdout",
          "text": [
            "Valid loss: 5.720260525291616 Valid accuracy 0.3906637762080539 Valid top 5 accuracy 0.5514404567127879\n",
            "Accuracy didn't improve from: 0.4040458473292264\n",
            "Epoch: 67/100\n"
          ]
        },
        {
          "output_type": "stream",
          "name": "stderr",
          "text": [
            "100%|██████████| 4/4 [00:05<00:00,  1.28s/it]\n"
          ]
        },
        {
          "output_type": "stream",
          "name": "stdout",
          "text": [
            "Train loss: 3.56536202268167 Train accuracy 0.5540752418508584 Train top 5 accuracy 0.6108934207057412\n"
          ]
        },
        {
          "output_type": "stream",
          "name": "stderr",
          "text": [
            "100%|██████████| 2/2 [00:00<00:00,  2.14it/s]\n"
          ]
        },
        {
          "output_type": "stream",
          "name": "stdout",
          "text": [
            "Valid loss: 5.576387446035039 Valid accuracy 0.40506016463041306 Valid top 5 accuracy 0.5500302043828097\n",
            "Saving best model wieghts, Accuracy: 0.40506016463041306\n",
            "Epoch: 68/100\n"
          ]
        },
        {
          "output_type": "stream",
          "name": "stderr",
          "text": [
            "100%|██████████| 4/4 [00:05<00:00,  1.28s/it]\n"
          ]
        },
        {
          "output_type": "stream",
          "name": "stdout",
          "text": [
            "Train loss: 2.8831223472952843 Train accuracy 0.5658307178792629 Train top 5 accuracy 0.6116771167990837\n"
          ]
        },
        {
          "output_type": "stream",
          "name": "stderr",
          "text": [
            "100%|██████████| 2/2 [00:01<00:00,  1.58it/s]\n"
          ]
        },
        {
          "output_type": "stream",
          "name": "stdout",
          "text": [
            "Valid loss: 5.602334186434746 Valid accuracy 0.39724358171224594 Valid top 5 accuracy 0.5509179898283698\n",
            "Accuracy didn't improve from: 0.40506016463041306\n",
            "Epoch: 69/100\n"
          ]
        },
        {
          "output_type": "stream",
          "name": "stderr",
          "text": [
            "100%|██████████| 4/4 [00:05<00:00,  1.28s/it]\n"
          ]
        },
        {
          "output_type": "stream",
          "name": "stdout",
          "text": [
            "Train loss: 2.5544949898665603 Train accuracy 0.5717084653336894 Train top 5 accuracy 0.6116771167990837\n"
          ]
        },
        {
          "output_type": "stream",
          "name": "stderr",
          "text": [
            "100%|██████████| 2/2 [00:00<00:00,  2.10it/s]\n"
          ]
        },
        {
          "output_type": "stream",
          "name": "stdout",
          "text": [
            "Valid loss: 5.610049207102168 Valid accuracy 0.40021102875471115 Valid top 5 accuracy 0.5496852953325618\n",
            "Accuracy didn't improve from: 0.40506016463041306\n",
            "Epoch: 70/100\n"
          ]
        },
        {
          "output_type": "stream",
          "name": "stderr",
          "text": [
            "100%|██████████| 4/4 [00:03<00:00,  1.09it/s]\n"
          ]
        },
        {
          "output_type": "stream",
          "name": "stdout",
          "text": [
            "Train loss: 2.32837780023163 Train accuracy 0.5768025085668672 Train top 5 accuracy 0.6116771167990837\n"
          ]
        },
        {
          "output_type": "stream",
          "name": "stderr",
          "text": [
            "100%|██████████| 2/2 [00:00<00:00,  2.09it/s]\n"
          ]
        },
        {
          "output_type": "stream",
          "name": "stdout",
          "text": [
            "Valid loss: 5.64051573655822 Valid accuracy 0.4019661864096468 Valid top 5 accuracy 0.5510751388289712\n",
            "Accuracy didn't improve from: 0.40506016463041306\n",
            "Epoch: 71/100\n"
          ]
        },
        {
          "output_type": "stream",
          "name": "stderr",
          "text": [
            "100%|██████████| 4/4 [00:03<00:00,  1.10it/s]\n"
          ]
        },
        {
          "output_type": "stream",
          "name": "stdout",
          "text": [
            "Train loss: 2.1574318327687005 Train accuracy 0.5803291477601636 Train top 5 accuracy 0.6120689631524411\n"
          ]
        },
        {
          "output_type": "stream",
          "name": "stderr",
          "text": [
            "100%|██████████| 2/2 [00:00<00:00,  2.13it/s]\n"
          ]
        },
        {
          "output_type": "stream",
          "name": "stdout",
          "text": [
            "Valid loss: 5.654579703103412 Valid accuracy 0.4012661637230353 Valid top 5 accuracy 0.550019999796694\n",
            "Accuracy didn't improve from: 0.40506016463041306\n",
            "Epoch: 72/100\n"
          ]
        },
        {
          "output_type": "stream",
          "name": "stderr",
          "text": [
            "100%|██████████| 4/4 [00:05<00:00,  1.28s/it]\n"
          ]
        },
        {
          "output_type": "stream",
          "name": "stdout",
          "text": [
            "Train loss: 2.0090595971454275 Train accuracy 0.5822884012013674 Train top 5 accuracy 0.6120689631524411\n"
          ]
        },
        {
          "output_type": "stream",
          "name": "stderr",
          "text": [
            "100%|██████████| 2/2 [00:01<00:00,  1.57it/s]\n"
          ]
        },
        {
          "output_type": "stream",
          "name": "stdout",
          "text": [
            "Valid loss: 5.665214388207956 Valid accuracy 0.40405605123801663 Valid top 5 accuracy 0.5494873279874976\n",
            "Accuracy didn't improve from: 0.40506016463041306\n",
            "Epoch: 73/100\n"
          ]
        },
        {
          "output_type": "stream",
          "name": "stderr",
          "text": [
            "100%|██████████| 4/4 [00:05<00:00,  1.28s/it]\n"
          ]
        },
        {
          "output_type": "stream",
          "name": "stdout",
          "text": [
            "Train loss: 1.8756753307851879 Train accuracy 0.5850313453173096 Train top 5 accuracy 0.6124608149244026\n"
          ]
        },
        {
          "output_type": "stream",
          "name": "stderr",
          "text": [
            "100%|██████████| 2/2 [00:01<00:00,  1.57it/s]\n"
          ]
        },
        {
          "output_type": "stream",
          "name": "stdout",
          "text": [
            "Valid loss: 5.704942235892469 Valid accuracy 0.40405605123801663 Valid top 5 accuracy 0.5479199317368594\n",
            "Accuracy didn't improve from: 0.40506016463041306\n",
            "Epoch: 74/100\n"
          ]
        },
        {
          "output_type": "stream",
          "name": "stderr",
          "text": [
            "100%|██████████| 4/4 [00:03<00:00,  1.08it/s]\n"
          ]
        },
        {
          "output_type": "stream",
          "name": "stdout",
          "text": [
            "Train loss: 1.7558329613371328 Train accuracy 0.5881661378185857 Train top 5 accuracy 0.6124608149244026\n"
          ]
        },
        {
          "output_type": "stream",
          "name": "stderr",
          "text": [
            "100%|██████████| 2/2 [00:01<00:00,  1.57it/s]\n"
          ]
        },
        {
          "output_type": "stream",
          "name": "stdout",
          "text": [
            "Valid loss: 5.710166404193098 Valid accuracy 0.40965623273090884 Valid top 5 accuracy 0.5491424216465517\n",
            "Saving best model wieghts, Accuracy: 0.40965623273090884\n",
            "Epoch: 75/100\n"
          ]
        },
        {
          "output_type": "stream",
          "name": "stderr",
          "text": [
            "100%|██████████| 4/4 [00:03<00:00,  1.09it/s]\n"
          ]
        },
        {
          "output_type": "stream",
          "name": "stdout",
          "text": [
            "Train loss: 1.6467743441462517 Train accuracy 0.5897335449064319 Train top 5 accuracy 0.6124608149244026\n"
          ]
        },
        {
          "output_type": "stream",
          "name": "stderr",
          "text": [
            "100%|██████████| 2/2 [00:01<00:00,  1.57it/s]\n"
          ]
        },
        {
          "output_type": "stream",
          "name": "stdout",
          "text": [
            "Valid loss: 5.7169846201484855 Valid accuracy 0.4117665079168298 Valid top 5 accuracy 0.5498220331289552\n",
            "Saving best model wieghts, Accuracy: 0.4117665079168298\n",
            "Epoch: 76/100\n"
          ]
        },
        {
          "output_type": "stream",
          "name": "stderr",
          "text": [
            "100%|██████████| 4/4 [00:05<00:00,  1.28s/it]\n"
          ]
        },
        {
          "output_type": "stream",
          "name": "stdout",
          "text": [
            "Train loss: 1.5465518608689308 Train accuracy 0.5920846365730871 Train top 5 accuracy 0.6128526666963642\n"
          ]
        },
        {
          "output_type": "stream",
          "name": "stderr",
          "text": [
            "100%|██████████| 2/2 [00:01<00:00,  1.57it/s]\n"
          ]
        },
        {
          "output_type": "stream",
          "name": "stdout",
          "text": [
            "Valid loss: 5.7363824925639415 Valid accuracy 0.4131665519354018 Valid top 5 accuracy 0.5506894107569348\n",
            "Saving best model wieghts, Accuracy: 0.4131665519354018\n",
            "Epoch: 77/100\n"
          ]
        },
        {
          "output_type": "stream",
          "name": "stderr",
          "text": [
            "100%|██████████| 4/4 [00:05<00:00,  1.28s/it]\n"
          ]
        },
        {
          "output_type": "stream",
          "name": "stdout",
          "text": [
            "Train loss: 1.45500459657474 Train accuracy 0.5936520409516313 Train top 5 accuracy 0.6128526666963642\n"
          ]
        },
        {
          "output_type": "stream",
          "name": "stderr",
          "text": [
            "100%|██████████| 2/2 [00:01<00:00,  1.57it/s]\n"
          ]
        },
        {
          "output_type": "stream",
          "name": "stdout",
          "text": [
            "Valid loss: 5.761539995670319 Valid accuracy 0.414901303127408 Valid top 5 accuracy 0.5506894094022837\n",
            "Saving best model wieghts, Accuracy: 0.414901303127408\n",
            "Epoch: 78/100\n"
          ]
        },
        {
          "output_type": "stream",
          "name": "stderr",
          "text": [
            "100%|██████████| 4/4 [00:05<00:00,  1.28s/it]\n"
          ]
        },
        {
          "output_type": "stream",
          "name": "stdout",
          "text": [
            "Train loss: 1.3716849329119378 Train accuracy 0.5948275854303078 Train top 5 accuracy 0.6128526666963642\n"
          ]
        },
        {
          "output_type": "stream",
          "name": "stderr",
          "text": [
            "100%|██████████| 2/2 [00:01<00:00,  1.57it/s]\n"
          ]
        },
        {
          "output_type": "stream",
          "name": "stdout",
          "text": [
            "Valid loss: 5.799395658753135 Valid accuracy 0.4148808939551765 Valid top 5 accuracy 0.5510343198071826\n",
            "Accuracy didn't improve from: 0.414901303127408\n",
            "Epoch: 79/100\n"
          ]
        },
        {
          "output_type": "stream",
          "name": "stderr",
          "text": [
            "100%|██████████| 4/4 [00:05<00:00,  1.28s/it]\n"
          ]
        },
        {
          "output_type": "stream",
          "name": "stdout",
          "text": [
            "Train loss: 1.2954343997619369 Train accuracy 0.5952194372022693 Train top 5 accuracy 0.6128526666963642\n"
          ]
        },
        {
          "output_type": "stream",
          "name": "stderr",
          "text": [
            "100%|██████████| 2/2 [00:00<00:00,  2.10it/s]\n"
          ]
        },
        {
          "output_type": "stream",
          "name": "stdout",
          "text": [
            "Valid loss: 5.835166564041918 Valid accuracy 0.41505845077335835 Valid top 5 accuracy 0.5503342957659201\n",
            "Saving best model wieghts, Accuracy: 0.41505845077335835\n",
            "Epoch: 80/100\n"
          ]
        },
        {
          "output_type": "stream",
          "name": "stderr",
          "text": [
            "100%|██████████| 4/4 [00:03<00:00,  1.08it/s]\n"
          ]
        },
        {
          "output_type": "stream",
          "name": "stdout",
          "text": [
            "Train loss: 1.225684434514154 Train accuracy 0.5975705315782265 Train top 5 accuracy 0.6128526666963642\n"
          ]
        },
        {
          "output_type": "stream",
          "name": "stderr",
          "text": [
            "100%|██████████| 2/2 [00:00<00:00,  2.12it/s]\n"
          ]
        },
        {
          "output_type": "stream",
          "name": "stdout",
          "text": [
            "Valid loss: 5.863716090267355 Valid accuracy 0.4180360996926373 Valid top 5 accuracy 0.5491118072108789\n",
            "Saving best model wieghts, Accuracy: 0.4180360996926373\n",
            "Epoch: 81/100\n"
          ]
        },
        {
          "output_type": "stream",
          "name": "stderr",
          "text": [
            "100%|██████████| 4/4 [00:03<00:00,  1.07it/s]\n"
          ]
        },
        {
          "output_type": "stream",
          "name": "stdout",
          "text": [
            "Train loss: 1.1621731174263088 Train accuracy 0.597962383350188 Train top 5 accuracy 0.6128526666963642\n"
          ]
        },
        {
          "output_type": "stream",
          "name": "stderr",
          "text": [
            "100%|██████████| 2/2 [00:01<00:00,  1.58it/s]\n"
          ]
        },
        {
          "output_type": "stream",
          "name": "stdout",
          "text": [
            "Valid loss: 5.903077545491132 Valid accuracy 0.4175034266981212 Valid top 5 accuracy 0.547534202310172\n",
            "Accuracy didn't improve from: 0.4180360996926373\n",
            "Epoch: 82/100\n"
          ]
        },
        {
          "output_type": "stream",
          "name": "stderr",
          "text": [
            "100%|██████████| 4/4 [00:03<00:00,  1.08it/s]\n"
          ]
        },
        {
          "output_type": "stream",
          "name": "stdout",
          "text": [
            "Train loss: 1.1045365831391378 Train accuracy 0.5987460814755071 Train top 5 accuracy 0.6128526666963642\n"
          ]
        },
        {
          "output_type": "stream",
          "name": "stderr",
          "text": [
            "100%|██████████| 2/2 [00:00<00:00,  2.12it/s]\n"
          ]
        },
        {
          "output_type": "stream",
          "name": "stdout",
          "text": [
            "Valid loss: 5.942018483172763 Valid accuracy 0.42011576010422275 Valid top 5 accuracy 0.5456014864824035\n",
            "Saving best model wieghts, Accuracy: 0.42011576010422275\n",
            "Epoch: 83/100\n"
          ]
        },
        {
          "output_type": "stream",
          "name": "stderr",
          "text": [
            "100%|██████████| 4/4 [00:03<00:00,  1.08it/s]\n"
          ]
        },
        {
          "output_type": "stream",
          "name": "stdout",
          "text": [
            "Train loss: 1.0529025054790757 Train accuracy 0.5999216259541836 Train top 5 accuracy 0.6128526666963642\n"
          ]
        },
        {
          "output_type": "stream",
          "name": "stderr",
          "text": [
            "100%|██████████| 2/2 [00:01<00:00,  1.57it/s]\n"
          ]
        },
        {
          "output_type": "stream",
          "name": "stdout",
          "text": [
            "Valid loss: 5.969512332569469 Valid accuracy 0.4201259660449895 Valid top 5 accuracy 0.5468239750374447\n",
            "Saving best model wieghts, Accuracy: 0.4201259660449895\n",
            "Epoch: 84/100\n"
          ]
        },
        {
          "output_type": "stream",
          "name": "stderr",
          "text": [
            "100%|██████████| 4/4 [00:03<00:00,  1.07it/s]\n"
          ]
        },
        {
          "output_type": "stream",
          "name": "stdout",
          "text": [
            "Train loss: 1.007322383197871 Train accuracy 0.6010971758514643 Train top 5 accuracy 0.6128526666963642\n"
          ]
        },
        {
          "output_type": "stream",
          "name": "stderr",
          "text": [
            "100%|██████████| 2/2 [00:00<00:00,  2.12it/s]\n"
          ]
        },
        {
          "output_type": "stream",
          "name": "stdout",
          "text": [
            "Valid loss: 6.014676156369123 Valid accuracy 0.4149013019420884 Valid top 5 accuracy 0.5450790229846131\n",
            "Accuracy didn't improve from: 0.4201259660449895\n",
            "Epoch: 85/100\n"
          ]
        },
        {
          "output_type": "stream",
          "name": "stderr",
          "text": [
            "100%|██████████| 4/4 [00:03<00:00,  1.07it/s]\n"
          ]
        },
        {
          "output_type": "stream",
          "name": "stdout",
          "text": [
            "Train loss: 0.9764774804088202 Train accuracy 0.6026645775207065 Train top 5 accuracy 0.6128526666963642\n"
          ]
        },
        {
          "output_type": "stream",
          "name": "stderr",
          "text": [
            "100%|██████████| 2/2 [00:01<00:00,  1.57it/s]\n"
          ]
        },
        {
          "output_type": "stream",
          "name": "stdout",
          "text": [
            "Valid loss: 6.0653603388504544 Valid accuracy 0.41423189436847513 Valid top 5 accuracy 0.5456218980252743\n",
            "Accuracy didn't improve from: 0.4201259660449895\n",
            "Epoch: 86/100\n"
          ]
        },
        {
          "output_type": "stream",
          "name": "stderr",
          "text": [
            "100%|██████████| 4/4 [00:03<00:00,  1.08it/s]\n"
          ]
        },
        {
          "output_type": "stream",
          "name": "stdout",
          "text": [
            "Train loss: 1.3747470345009456 Train accuracy 0.5967868347228928 Train top 5 accuracy 0.6128526666963642\n"
          ]
        },
        {
          "output_type": "stream",
          "name": "stderr",
          "text": [
            "100%|██████████| 2/2 [00:01<00:00,  1.58it/s]\n"
          ]
        },
        {
          "output_type": "stream",
          "name": "stdout",
          "text": [
            "Valid loss: 6.524103682149541 Valid accuracy 0.3513604543087157 Valid top 5 accuracy 0.5287295087155971\n",
            "Accuracy didn't improve from: 0.4201259660449895\n",
            "Epoch: 87/100\n"
          ]
        },
        {
          "output_type": "stream",
          "name": "stderr",
          "text": [
            "100%|██████████| 4/4 [00:05<00:00,  1.28s/it]\n"
          ]
        },
        {
          "output_type": "stream",
          "name": "stdout",
          "text": [
            "Train loss: 2.4556972086429596 Train accuracy 0.5760188095102255 Train top 5 accuracy 0.6120689658617432\n"
          ]
        },
        {
          "output_type": "stream",
          "name": "stderr",
          "text": [
            "100%|██████████| 2/2 [00:01<00:00,  1.57it/s]\n"
          ]
        },
        {
          "output_type": "stream",
          "name": "stdout",
          "text": [
            "Valid loss: 6.1266437064517625 Valid accuracy 0.3979231955652887 Valid top 5 accuracy 0.5436993837356567\n",
            "Accuracy didn't improve from: 0.4201259660449895\n",
            "Epoch: 88/100\n"
          ]
        },
        {
          "output_type": "stream",
          "name": "stderr",
          "text": [
            "100%|██████████| 4/4 [00:05<00:00,  1.28s/it]\n"
          ]
        },
        {
          "output_type": "stream",
          "name": "stdout",
          "text": [
            "Train loss: 6.249630573120984 Train accuracy 0.5156739877367561 Train top 5 accuracy 0.610501569611105\n"
          ]
        },
        {
          "output_type": "stream",
          "name": "stderr",
          "text": [
            "100%|██████████| 2/2 [00:01<00:00,  1.58it/s]\n"
          ]
        },
        {
          "output_type": "stream",
          "name": "stdout",
          "text": [
            "Valid loss: 5.834248685024002 Valid accuracy 0.35360746610571037 Valid top 5 accuracy 0.535790966315703\n",
            "Accuracy didn't improve from: 0.4201259660449895\n",
            "Epoch: 89/100\n"
          ]
        },
        {
          "output_type": "stream",
          "name": "stderr",
          "text": [
            "100%|██████████| 4/4 [00:05<00:00,  1.28s/it]\n"
          ]
        },
        {
          "output_type": "stream",
          "name": "stdout",
          "text": [
            "Train loss: 7.01860957254063 Train accuracy 0.53213166390461 Train top 5 accuracy 0.6077586180445823\n"
          ]
        },
        {
          "output_type": "stream",
          "name": "stderr",
          "text": [
            "100%|██████████| 2/2 [00:00<00:00,  2.12it/s]\n"
          ]
        },
        {
          "output_type": "stream",
          "name": "stdout",
          "text": [
            "Valid loss: 5.836500476707112 Valid accuracy 0.34694806520234456 Valid top 5 accuracy 0.5329908715053038\n",
            "Accuracy didn't improve from: 0.4201259660449895\n",
            "Epoch: 90/100\n"
          ]
        },
        {
          "output_type": "stream",
          "name": "stderr",
          "text": [
            "100%|██████████| 4/4 [00:03<00:00,  1.10it/s]\n"
          ]
        },
        {
          "output_type": "stream",
          "name": "stdout",
          "text": [
            "Train loss: 4.140453577041626 Train accuracy 0.5650470288131725 Train top 5 accuracy 0.6124608149244026\n"
          ]
        },
        {
          "output_type": "stream",
          "name": "stderr",
          "text": [
            "100%|██████████| 2/2 [00:01<00:00,  1.57it/s]\n"
          ]
        },
        {
          "output_type": "stream",
          "name": "stdout",
          "text": [
            "Valid loss: 6.051288841800257 Valid accuracy 0.41422168690372596 Valid top 5 accuracy 0.5521710901097818\n",
            "Accuracy didn't improve from: 0.4201259660449895\n",
            "Epoch: 91/100\n"
          ]
        },
        {
          "output_type": "stream",
          "name": "stderr",
          "text": [
            "100%|██████████| 4/4 [00:03<00:00,  1.09it/s]\n"
          ]
        },
        {
          "output_type": "stream",
          "name": "stdout",
          "text": [
            "Train loss: 1.476498312570832 Train accuracy 0.5932601907883178 Train top 5 accuracy 0.6128526666963642\n"
          ]
        },
        {
          "output_type": "stream",
          "name": "stderr",
          "text": [
            "100%|██████████| 2/2 [00:01<00:00,  1.58it/s]\n"
          ]
        },
        {
          "output_type": "stream",
          "name": "stdout",
          "text": [
            "Valid loss: 6.018982218070463 Valid accuracy 0.4195177812467922 Valid top 5 accuracy 0.5478035976940935\n",
            "Accuracy didn't improve from: 0.4201259660449895\n",
            "Epoch: 92/100\n"
          ]
        },
        {
          "output_type": "stream",
          "name": "stderr",
          "text": [
            "100%|██████████| 4/4 [00:03<00:00,  1.08it/s]\n"
          ]
        },
        {
          "output_type": "stream",
          "name": "stdout",
          "text": [
            "Train loss: 1.1067562103271484 Train accuracy 0.5963949785483155 Train top 5 accuracy 0.6128526666963642\n"
          ]
        },
        {
          "output_type": "stream",
          "name": "stderr",
          "text": [
            "100%|██████████| 2/2 [00:01<00:00,  1.57it/s]\n"
          ]
        },
        {
          "output_type": "stream",
          "name": "stdout",
          "text": [
            "Valid loss: 6.11659933897582 Valid accuracy 0.4135114638642831 Valid top 5 accuracy 0.5501975566148758\n",
            "Accuracy didn't improve from: 0.4201259660449895\n",
            "Epoch: 93/100\n"
          ]
        },
        {
          "output_type": "stream",
          "name": "stderr",
          "text": [
            "100%|██████████| 4/4 [00:05<00:00,  1.28s/it]\n"
          ]
        },
        {
          "output_type": "stream",
          "name": "stdout",
          "text": [
            "Train loss: 1.0055187866091728 Train accuracy 0.5983542212369767 Train top 5 accuracy 0.6128526666963642\n"
          ]
        },
        {
          "output_type": "stream",
          "name": "stderr",
          "text": [
            "100%|██████████| 2/2 [00:00<00:00,  2.10it/s]\n"
          ]
        },
        {
          "output_type": "stream",
          "name": "stdout",
          "text": [
            "Valid loss: 6.092896369370547 Valid accuracy 0.41314614564180374 Valid top 5 accuracy 0.5458504765887152\n",
            "Accuracy didn't improve from: 0.4201259660449895\n",
            "model didn't improve for 10 epochs----> lower learning rate to 4.000000000000001e-06\n",
            "Epoch: 94/100\n"
          ]
        },
        {
          "output_type": "stream",
          "name": "stderr",
          "text": [
            "100%|██████████| 4/4 [00:09<00:00,  2.32s/it]\n"
          ]
        },
        {
          "output_type": "stream",
          "name": "stdout",
          "text": [
            "Train loss: 0.8852926424958489 Train accuracy 0.6010971758514643 Train top 5 accuracy 0.6128526666963642\n"
          ]
        },
        {
          "output_type": "stream",
          "name": "stderr",
          "text": [
            "100%|██████████| 2/2 [00:05<00:00,  2.55s/it]\n"
          ]
        },
        {
          "output_type": "stream",
          "name": "stdout",
          "text": [
            "Valid loss: 6.0489470159465615 Valid accuracy 0.41819324547594244 Valid top 5 accuracy 0.5507506369189783\n",
            "Accuracy didn't improve from: 0.4201259660449895\n",
            "Epoch: 95/100\n"
          ]
        },
        {
          "output_type": "stream",
          "name": "stderr",
          "text": [
            "100%|██████████| 4/4 [00:03<00:00,  1.11it/s]\n"
          ]
        },
        {
          "output_type": "stream",
          "name": "stdout",
          "text": [
            "Train loss: 0.8442795852368529 Train accuracy 0.6007053294981067 Train top 5 accuracy 0.6128526666963642\n"
          ]
        },
        {
          "output_type": "stream",
          "name": "stderr",
          "text": [
            "100%|██████████| 2/2 [00:01<00:00,  1.58it/s]\n"
          ]
        },
        {
          "output_type": "stream",
          "name": "stdout",
          "text": [
            "Valid loss: 6.055761484937235 Valid accuracy 0.41924838366156275 Valid top 5 accuracy 0.5512628992172804\n",
            "Accuracy didn't improve from: 0.4201259660449895\n",
            "Epoch: 96/100\n"
          ]
        },
        {
          "output_type": "stream",
          "name": "stderr",
          "text": [
            "100%|██████████| 4/4 [00:03<00:00,  1.10it/s]\n"
          ]
        },
        {
          "output_type": "stream",
          "name": "stdout",
          "text": [
            "Train loss: 0.8058566274968061 Train accuracy 0.6018808739767834 Train top 5 accuracy 0.6128526666963642\n"
          ]
        },
        {
          "output_type": "stream",
          "name": "stderr",
          "text": [
            "100%|██████████| 2/2 [00:00<00:00,  2.12it/s]\n"
          ]
        },
        {
          "output_type": "stream",
          "name": "stdout",
          "text": [
            "Valid loss: 6.063835129141808 Valid accuracy 0.41908103007484565 Valid top 5 accuracy 0.5496852956712246\n",
            "Accuracy didn't improve from: 0.4201259660449895\n",
            "Epoch: 97/100\n"
          ]
        },
        {
          "output_type": "stream",
          "name": "stderr",
          "text": [
            "100%|██████████| 4/4 [00:03<00:00,  1.10it/s]\n"
          ]
        },
        {
          "output_type": "stream",
          "name": "stdout",
          "text": [
            "Train loss: 0.7728161175142635 Train accuracy 0.6018808739767834 Train top 5 accuracy 0.6128526666963642\n"
          ]
        },
        {
          "output_type": "stream",
          "name": "stderr",
          "text": [
            "100%|██████████| 2/2 [00:01<00:00,  1.57it/s]\n"
          ]
        },
        {
          "output_type": "stream",
          "name": "stdout",
          "text": [
            "Valid loss: 6.069296418265863 Valid accuracy 0.4183708028021184 Valid top 5 accuracy 0.5496852983805266\n",
            "Accuracy didn't improve from: 0.4201259660449895\n",
            "Epoch: 98/100\n"
          ]
        },
        {
          "output_type": "stream",
          "name": "stderr",
          "text": [
            "100%|██████████| 4/4 [00:03<00:00,  1.10it/s]\n"
          ]
        },
        {
          "output_type": "stream",
          "name": "stdout",
          "text": [
            "Train loss: 0.7430725710635836 Train accuracy 0.6030564238740639 Train top 5 accuracy 0.6128526666963642\n"
          ]
        },
        {
          "output_type": "stream",
          "name": "stderr",
          "text": [
            "100%|██████████| 2/2 [00:01<00:00,  1.58it/s]\n"
          ]
        },
        {
          "output_type": "stream",
          "name": "stdout",
          "text": [
            "Valid loss: 6.073483598503199 Valid accuracy 0.418725916438482 Valid top 5 accuracy 0.5493403879756277\n",
            "Accuracy didn't improve from: 0.4201259660449895\n",
            "Epoch: 99/100\n"
          ]
        },
        {
          "output_type": "stream",
          "name": "stderr",
          "text": [
            "100%|██████████| 4/4 [00:03<00:00,  1.11it/s]\n"
          ]
        },
        {
          "output_type": "stream",
          "name": "stdout",
          "text": [
            "Train loss: 0.7157626707445491 Train accuracy 0.6038401274179871 Train top 5 accuracy 0.6128526666963642\n"
          ]
        },
        {
          "output_type": "stream",
          "name": "stderr",
          "text": [
            "100%|██████████| 2/2 [00:01<00:00,  1.58it/s]\n"
          ]
        },
        {
          "output_type": "stream",
          "name": "stdout",
          "text": [
            "Valid loss: 6.089066810228608 Valid accuracy 0.41731566783379426 Valid top 5 accuracy 0.548817920752547\n",
            "Accuracy didn't improve from: 0.4201259660449895\n",
            "Epoch: 100/100\n"
          ]
        },
        {
          "output_type": "stream",
          "name": "stderr",
          "text": [
            "100%|██████████| 4/4 [00:03<00:00,  1.11it/s]\n"
          ]
        },
        {
          "output_type": "stream",
          "name": "stdout",
          "text": [
            "Train loss: 0.6904622512784871 Train accuracy 0.6057993700219826 Train top 5 accuracy 0.6128526666963642\n"
          ]
        },
        {
          "output_type": "stream",
          "name": "stderr",
          "text": [
            "100%|██████████| 2/2 [00:00<00:00,  2.09it/s]"
          ]
        },
        {
          "output_type": "stream",
          "name": "stdout",
          "text": [
            "Valid loss: 6.094649336554787 Valid accuracy 0.4174932246519761 Valid top 5 accuracy 0.5479403398931026\n",
            "Accuracy didn't improve from: 0.4201259660449895\n"
          ]
        },
        {
          "output_type": "stream",
          "name": "stderr",
          "text": [
            "\n"
          ]
        }
      ],
      "source": [
        "# clear the session to release all previous states generated by Keras\n",
        "tf.keras.backend.clear_session()\n",
        "# instantiate and compile the model inside the strategy scope defined previous\n",
        "with strategy.scope():\n",
        "  model = encoder_decoder_model()\n",
        "  # use Sparse Categorical Cross-entropy as a loss function as labels are not one-hot encoded\n",
        "  # use AdamW optimizer initially with a weight decay of 0.0\n",
        "  # use the Sparse Categorical Accuracy and top k=5 accuracy metrics to monitor and save the best model weights\n",
        "  metrics = [tf.keras.metrics.SparseCategoricalAccuracy(),\n",
        "             tf.keras.metrics.SparseTopKCategoricalAccuracy(k=5, name='top_k_acc')]\n",
        "  model.compile(loss=tf.keras.losses.SparseCategoricalCrossentropy(from_logits=False),\n",
        "                metrics=metrics,\n",
        "                optimizer=tfa.optimizers.AdamW(learning_rate=config.LEARNING_RATE, weight_decay=0.0))\n",
        "\n",
        "# initialize the best accuracy at - infinity\n",
        "best_result = -np.inf\n",
        "# initialize the epoch of the best result as 0\n",
        "epoch_of_best_result = 0\n",
        "# initialize a variable for the current learning rate\n",
        "current_learning = config.LEARNING_RATE\n",
        "# for each epoch iterate over the whole training and validation sets\n",
        "for epoch in range(config.EPOCHS):\n",
        "  if epoch == 50:\n",
        "    print('*'*70)\n",
        "    print(f'Fine-tuning all layers with LR = {5e-5}')\n",
        "    model.trainable = True\n",
        "    model.compile(loss=tf.keras.losses.SparseCategoricalCrossentropy(from_logits=False),\n",
        "                  metrics=metrics,\n",
        "                  optimizer=tfa.optimizers.AdamW(learning_rate=5e-5, weight_decay=0.0))\n",
        "    \n",
        "  print(f'Epoch: {epoch+1}/{config.EPOCHS}')\n",
        "  # iterate over the training dataset\n",
        "  for batch in tqdm(train_ds, total=len(train_ds)):\n",
        "    enc_inputs, dec_inputs, labels = batch\n",
        "    # create a variable for the number of examples in the current batch\n",
        "    num_examples = len(enc_inputs)\n",
        "    # initialize losses and accuracies list\n",
        "    losses = []\n",
        "    accs = []\n",
        "    top_accs = []\n",
        "    # sequencially predict the label (actual previous token as input)\n",
        "    for i in range(config.MAXLEN):\n",
        "      # extract the current mask from the attention_masks list\n",
        "      # broadcast the mask to the shape of (num_examples, num_heads(8), max_len(17), max_len(17))\n",
        "      current_att_mask = tf.broadcast_to(tf.constant(attention_masks[i]), (num_examples, config.NUM_HEADS, config.MAXLEN, config.MAXLEN))\n",
        "      # train on each batch and pass the class weights\n",
        "      train_results = model.train_on_batch(x=(enc_inputs, dec_inputs, current_att_mask), y=labels[:, -(i+1)], \n",
        "                           class_weight=auto_weight_dict, reset_metrics=True, return_dict=True)\n",
        "      # append the loss value\n",
        "      losses.append(train_results['loss'])\n",
        "      # append the accuracy value\n",
        "      accs.append(train_results['sparse_categorical_accuracy'])\n",
        "      # append the top 5 accuracy value\n",
        "      top_accs.append(train_results['top_k_acc'])\n",
        "  print('Train loss:', np.mean(losses), 'Train accuracy', np.mean(accs), 'Train top 5 accuracy', np.mean(top_accs))\n",
        "\n",
        "  # initialize losses and accuracies list\n",
        "  losses = []\n",
        "  accs = []\n",
        "  top_accs = []\n",
        "  # iterate over the validation dataset\n",
        "  for batch in tqdm(valid_ds, total=len(valid_ds)):\n",
        "    enc_inputs, dec_inputs, labels = batch\n",
        "    # create a variable for the number of examples in the current batch\n",
        "    num_examples = len(enc_inputs)\n",
        "    # create a NumPy array to save the predictions of the previous tokens\n",
        "    # it is initialized with ones where the model will see 1 in the first \n",
        "    # pass which represents the special starting \"s\" token\n",
        "    full_sequence_preds = np.ones((num_examples, config.MAXLEN))\n",
        "    # sequencially predict the label (predicted previous token as input (Auto-Regression))\n",
        "    for i in range(config.MAXLEN):\n",
        "      # extract the current mask from the attention_masks list\n",
        "      # broadcast the mask to the shape of (num_examples, num_heads(8), max_len(17), max_len(17))\n",
        "      current_att_mask = tf.broadcast_to(tf.constant(attention_masks[i]), (num_examples, config.NUM_HEADS, config.MAXLEN, config.MAXLEN))\n",
        "      # evaluate on each batch\n",
        "      valid_results = model.test_on_batch(x=(enc_inputs, full_sequence_preds, current_att_mask), y=labels[:, -(i+1)], reset_metrics=True, return_dict=True)\n",
        "      # predict the tokens of the current position\n",
        "      preds = model.predict_on_batch(x=(enc_inputs, full_sequence_preds, current_att_mask))\n",
        "      # take the argmax value which represents the index of the highest prob character\n",
        "      current_preds = np.argmax(preds, axis=-1)\n",
        "      # populate the current position with the predicted values which will be used in the next \n",
        "      # pass as a decoder input\n",
        "      full_sequence_preds[:, -(i+1)] = current_preds # populate the column of the current timestep with the predicitons\n",
        "        \n",
        "      # append the loss value  \n",
        "      losses.append(valid_results['loss'])\n",
        "      # append the accuracy value\n",
        "      accs.append(valid_results['sparse_categorical_accuracy'])\n",
        "      # append the top 5 accuracy value\n",
        "      top_accs.append(valid_results['top_k_acc'])\n",
        "  print('Valid loss:', np.mean(losses), 'Valid accuracy', np.mean(accs), 'Valid top 5 accuracy', np.mean(top_accs))\n",
        "\n",
        "  mean_acc = np.mean(accs)\n",
        "  # save the weights of the best model based on the validation accuracy\n",
        "  # lower the LR a factor defined in the config class if the validation accuracy \n",
        "  # does not improve for the stated patience in the config class\n",
        "  if mean_acc > best_result:\n",
        "    best_result = mean_acc\n",
        "    epoch_of_best_result = epoch\n",
        "    print('Saving best model wieghts,', 'Accuracy:', mean_acc)\n",
        "    model.save_weights('best_full_model_weights.h5')\n",
        "  else:\n",
        "    print(\"Accuracy didn't improve from:\", best_result)\n",
        "  if epoch - epoch_of_best_result == config.LEARTING_RATE_REDUCTION_PATIENCE:\n",
        "    current_learning = current_learning * config.LEARTING_RATE_REDUCTION_FACTOR\n",
        "    print(\"model didn't improve for 10 epochs---->\", f\"lower learning rate to {current_learning}\")\n",
        "    model.compile(loss=tf.keras.losses.SparseCategoricalCrossentropy(from_logits=False),\n",
        "                metrics=metrics,\n",
        "                optimizer=tf.keras.optimizers.Adam(learning_rate=current_learning))  \n",
        "\n",
        "    "
      ]
    },
    {
      "cell_type": "code",
      "source": [
        "# build a dataframe and populate it the training history\n",
        "pd.DataFrame({'full_train_losses':full_train_losses,\n",
        "              'full_train_accs': full_train_accs,\n",
        "              'full_train_top_k_accs': full_train_top_k_accs,\n",
        "              'full_valid_losses':full_valid_losses,\n",
        "              'full_valid_accs': full_valid_accs,\n",
        "              'full_valid_top_k_accs': full_valid_top_k_accs}).to_csv('final_validation_set_train_progress_direct_case_2.csv', index=False)\n",
        "\n",
        "!mv /content/final_validation_set_train_progress_direct_case_2.csv /content/drive/MyDrive/NLP_Course"
      ],
      "metadata": {
        "id": "Cp3srvyTLvVP"
      },
      "execution_count": null,
      "outputs": []
    },
    {
      "cell_type": "markdown",
      "source": [
        "#### Prediction (Validation)"
      ],
      "metadata": {
        "id": "5axs7Cs9L6hX"
      }
    },
    {
      "cell_type": "code",
      "source": [
        "# clear the session to release all previous states generated by Keras\n",
        "tf.keras.backend.clear_session()\n",
        "# instantiate and compile the model inside the strategy scope defined previous\n",
        "with strategy.scope():\n",
        "  model = encoder_decoder_model()\n",
        "  # use Sparse Categorical Cross-entropy as a loss function as labels are not one-hot encoded\n",
        "  # use AdamW optimizer initially with a weight decay of 0.0\n",
        "  # use the Sparse Categorical Accuracy and top k=5 accuracy metrics to monitor and save the best model weights\n",
        "  metrics = [tf.keras.metrics.SparseCategoricalAccuracy(),\n",
        "             tf.keras.metrics.SparseTopKCategoricalAccuracy(k=5, name='top_k_acc')]\n",
        "  model.compile(loss=tf.keras.losses.SparseCategoricalCrossentropy(from_logits=False),\n",
        "                metrics=metrics,\n",
        "                optimizer=tfa.optimizers.AdamW(learning_rate=config.LEARNING_RATE, weight_decay=0.0))\n",
        "  # load_weights of best performing model\n",
        "  model.load_weights('/content/best_full_model_weights.h5')\n",
        "    \n",
        "# iterate over the validation dataset\n",
        "for iteration, batch in enumerate(tqdm(valid_ds, total=len(valid_ds))):\n",
        "  enc_inputs, dec_inputs, labels = batch\n",
        "  # create a variable for the number of examples in the current batch\n",
        "  num_examples = len(enc_inputs)\n",
        "  # create a NumPy array to save the predictions of the previous tokens\n",
        "  # it is initialized with ones where the model will see 1 in the first \n",
        "  # pass which represents the special starting \"s\" token\n",
        "  full_sequence_preds = np.ones((num_examples, config.MAXLEN))\n",
        "  # sequencially predict the label (predicted previous token as input (Auto-Regression))\n",
        "  for i in range(config.MAXLEN):\n",
        "    # extract the current mask from the attention_masks list\n",
        "    # broadcast the mask to the shape of (num_examples, num_heads(8), max_len(17), max_len(17))\n",
        "    current_att_mask = tf.broadcast_to(tf.constant(attention_masks[i]), (num_examples, config.NUM_HEADS, config.MAXLEN, config.MAXLEN))\n",
        "    # evaluate on each batch\n",
        "    valid_results = model.test_on_batch(x=(enc_inputs, full_sequence_preds, current_att_mask), y=labels[:, -(i+1)], reset_metrics=False, return_dict=True)\n",
        "    # predict the tokens of the current position\n",
        "    preds = model.predict_on_batch(x=(enc_inputs, full_sequence_preds, current_att_mask))\n",
        "    # take the argmax value which represents the index of the highest prob character\n",
        "    current_preds = np.argmax(preds, axis=-1)\n",
        "    # populate the current position with the predicted values which will be used in the next \n",
        "    # pass as a decoder input\n",
        "    full_sequence_preds[:, -(i+1)] = current_preds\n",
        "  if iteration == 0:\n",
        "    final_full_sequence_preds = full_sequence_preds\n",
        "  else: # concatenate the preditions to form the final model predictions\n",
        "    final_full_sequence_preds = np.concatenate([final_full_sequence_preds, full_sequence_preds], axis=0)\n",
        "\n",
        "print(valid_results)"
      ],
      "metadata": {
        "colab": {
          "base_uri": "https://localhost:8080/"
        },
        "id": "ZdniM77bL0Au",
        "outputId": "f14cefdf-e958-4e28-97db-4693de99958c"
      },
      "execution_count": null,
      "outputs": [
        {
          "output_type": "stream",
          "name": "stderr",
          "text": [
            "100%|██████████| 2/2 [00:03<00:00,  1.87s/it]"
          ]
        },
        {
          "output_type": "stream",
          "name": "stdout",
          "text": [
            "{'loss': 5.988182067871094, 'sparse_categorical_accuracy': 0.41346409916877747, 'top_k_acc': 0.5449244379997253}\n"
          ]
        },
        {
          "output_type": "stream",
          "name": "stderr",
          "text": [
            "\n"
          ]
        }
      ]
    },
    {
      "cell_type": "code",
      "source": [
        "# save the predictions as a NumPy array\n",
        "np.save('final_validation_set_prediction_direct_case_2.npy', final_full_sequence_preds)\n",
        "!mv /content/final_validation_set_prediction_direct_case_2.npy /content/drive/MyDrive/NLP_Course"
      ],
      "metadata": {
        "id": "XbDp_eKrL0DH"
      },
      "execution_count": null,
      "outputs": []
    },
    {
      "cell_type": "markdown",
      "source": [
        "#### Prediction (Test)"
      ],
      "metadata": {
        "id": "UM26C8g4MVVA"
      }
    },
    {
      "cell_type": "code",
      "source": [
        "# iterate over the test dataset\n",
        "for iteration, batch in enumerate(tqdm(test_ds, total=len(test_ds))):\n",
        "  enc_inputs, dec_inputs, labels = batch\n",
        "  # create a variable for the number of examples in the current batch\n",
        "  num_examples = len(enc_inputs)\n",
        "  # create a NumPy array to save the predictions of the previous tokens\n",
        "  # it is initialized with ones where the model will see 1 in the first \n",
        "  # pass which represents the special starting \"s\" token\n",
        "  full_sequence_preds = np.ones((num_examples, config.MAXLEN))\n",
        "  # sequencially predict the label (predicted previous token as input (Auto-Regression))\n",
        "  for i in range(config.MAXLEN):\n",
        "    # extract the current mask from the attention_masks list\n",
        "    # broadcast the mask to the shape of (num_examples, num_heads(8), max_len(17), max_len(17))\n",
        "    current_att_mask = tf.broadcast_to(tf.constant(attention_masks[i]), (num_examples, config.NUM_HEADS, config.MAXLEN, config.MAXLEN))\n",
        "    # evaluate on each batch\n",
        "    test_results = model.test_on_batch(x=(enc_inputs, full_sequence_preds, current_att_mask), y=labels[:, -(i+1)], reset_metrics=False, return_dict=True)\n",
        "    # predict the tokens of the current position\n",
        "    preds = model.predict_on_batch(x=(enc_inputs, full_sequence_preds, current_att_mask))\n",
        "    # take the argmax value which represents the index of the highest prob character\n",
        "    current_preds = np.argmax(preds, axis=-1)\n",
        "    # populate the current position with the predicted values which will be used in the next \n",
        "    # pass as a decoder input\n",
        "    full_sequence_preds[:, -(i+1)] = current_preds\n",
        "  if iteration == 0:\n",
        "    final_full_sequence_preds = full_sequence_preds\n",
        "  else: # concatenate the preditions to form the final model predictions\n",
        "    final_full_sequence_preds = np.concatenate([final_full_sequence_preds, full_sequence_preds], axis=0)\n",
        "\n",
        "print(test_results)"
      ],
      "metadata": {
        "colab": {
          "base_uri": "https://localhost:8080/"
        },
        "id": "un9Cu4_WL0GF",
        "outputId": "878c554b-cf52-4bab-baf2-04a82ed45c64"
      },
      "execution_count": null,
      "outputs": [
        {
          "output_type": "stream",
          "name": "stderr",
          "text": [
            "100%|██████████| 3/3 [00:03<00:00,  1.18s/it]"
          ]
        },
        {
          "output_type": "stream",
          "name": "stdout",
          "text": [
            "{'loss': 5.96613073348999, 'sparse_categorical_accuracy': 0.4138629138469696, 'top_k_acc': 0.5474790334701538}\n"
          ]
        },
        {
          "output_type": "stream",
          "name": "stderr",
          "text": [
            "\n"
          ]
        }
      ]
    },
    {
      "cell_type": "code",
      "source": [
        "# save the predictions as a NumPy array\n",
        "np.save('final_test_set_prediction_direct_case_2.npy', final_full_sequence_preds)\n",
        "!mv /content/final_test_set_prediction_direct_case_2.npy /content/drive/MyDrive/NLP_Course"
      ],
      "metadata": {
        "id": "R6w8RA4HL0JS"
      },
      "execution_count": null,
      "outputs": []
    },
    {
      "cell_type": "markdown",
      "metadata": {
        "id": "e0Fc2e-hMyAR"
      },
      "source": [
        "#### Case 3: Set CBERT to \"untrainable\" throughout the training process and use a weight decay of 1e-4"
      ]
    },
    {
      "cell_type": "code",
      "source": [
        "# clear the session to release all previous states generated by Keras\n",
        "tf.keras.backend.clear_session()\n",
        "# instantiate and compile the model inside the strategy scope defined previous\n",
        "with strategy.scope():\n",
        "  model = encoder_decoder_model()\n",
        "  # use Sparse Categorical Cross-entropy as a loss function as labels are not one-hot encoded\n",
        "  # use AdamW optimizer initially with a weight decay of 0.0\n",
        "  # use the Sparse Categorical Accuracy and top k=5 accuracy metrics to monitor and save the best model weights\n",
        "  metrics = [tf.keras.metrics.SparseCategoricalAccuracy(),\n",
        "             tf.keras.metrics.SparseTopKCategoricalAccuracy(k=5, name='top_k_acc')]\n",
        "  model.compile(loss=tf.keras.losses.SparseCategoricalCrossentropy(from_logits=False),\n",
        "                metrics=metrics,\n",
        "                optimizer=tfa.optimizers.AdamW(learning_rate=config.LEARNING_RATE, weight_decay=3e-4))\n",
        "\n",
        "# initialize the best accuracy at - infinity\n",
        "best_result = -np.inf\n",
        "# initialize the epoch of the best result as 0\n",
        "epoch_of_best_result = 0\n",
        "# initialize a variable for the current learning rate\n",
        "current_learning = config.LEARNING_RATE\n",
        "# for each epoch iterate over the whole training and validation sets\n",
        "\n",
        "full_train_losses = []\n",
        "full_train_accs = []\n",
        "full_train_top_k_accs = []\n",
        "\n",
        "full_valid_losses = []\n",
        "full_valid_accs = []\n",
        "full_valid_top_k_accs = []\n",
        "\n",
        "for epoch in range(config.EPOCHS):\n",
        "    \n",
        "  print(f'Epoch: {epoch+1}/{config.EPOCHS}')\n",
        "  # iterate over the training dataset\n",
        "  for batch in tqdm(train_ds, total=len(train_ds)):\n",
        "    enc_inputs, dec_inputs, labels = batch\n",
        "    # create a variable for the number of examples in the current batch\n",
        "    num_examples = len(enc_inputs)\n",
        "    # initialize losses and accuracies list\n",
        "    losses = []\n",
        "    accs = []\n",
        "    top_accs = []\n",
        "    # sequencially predict the label (actual previous token as input)\n",
        "    for i in range(config.MAXLEN):\n",
        "      # extract the current mask from the attention_masks list\n",
        "      # broadcast the mask to the shape of (num_examples, num_heads(8), max_len(17), max_len(17))\n",
        "      current_att_mask = tf.broadcast_to(tf.constant(attention_masks[i]), (num_examples, config.NUM_HEADS, config.MAXLEN, config.MAXLEN))\n",
        "      # train on each batch and pass the class weights\n",
        "      train_results = model.train_on_batch(x=(enc_inputs, dec_inputs, current_att_mask), y=labels[:, -(i+1)], \n",
        "                           class_weight=auto_weight_dict, reset_metrics=True, return_dict=True)\n",
        "      # append the loss value\n",
        "      losses.append(train_results['loss'])\n",
        "      # append the accuracy value\n",
        "      accs.append(train_results['sparse_categorical_accuracy'])\n",
        "      # append the top 5 accuracy value\n",
        "      top_accs.append(train_results['top_k_acc'])\n",
        "  print('Train loss:', np.mean(losses), 'Train accuracy', np.mean(accs), 'Train top 5 accuracy', np.mean(top_accs))\n",
        "\n",
        "  full_train_losses.append(np.mean(losses))\n",
        "  full_train_accs.append(np.mean(accs))\n",
        "  full_train_top_k_accs.append(np.mean(top_accs))\n",
        "\n",
        "\n",
        "  # initialize losses and accuracies list\n",
        "  losses = []\n",
        "  accs = []\n",
        "  top_accs = []\n",
        "  # iterate over the validation dataset\n",
        "  for batch in tqdm(valid_ds, total=len(valid_ds)):\n",
        "    enc_inputs, dec_inputs, labels = batch\n",
        "    # create a variable for the number of examples in the current batch\n",
        "    num_examples = len(enc_inputs)\n",
        "    # create a NumPy array to save the predictions of the previous tokens\n",
        "    # it is initialized with ones where the model will see 1 in the first \n",
        "    # pass which represents the special starting \"s\" token\n",
        "    full_sequence_preds = np.ones((num_examples, config.MAXLEN))\n",
        "    # sequencially predict the label (predicted previous token as input (Auto-Regression))\n",
        "    for i in range(config.MAXLEN):\n",
        "      # extract the current mask from the attention_masks list\n",
        "      # broadcast the mask to the shape of (num_examples, num_heads(8), max_len(17), max_len(17))\n",
        "      current_att_mask = tf.broadcast_to(tf.constant(attention_masks[i]), (num_examples, config.NUM_HEADS, config.MAXLEN, config.MAXLEN))\n",
        "      # evaluate on each batch\n",
        "      valid_results = model.test_on_batch(x=(enc_inputs, full_sequence_preds, current_att_mask), y=labels[:, -(i+1)], reset_metrics=True, return_dict=True)\n",
        "      # predict the tokens of the current position\n",
        "      preds = model.predict_on_batch(x=(enc_inputs, full_sequence_preds, current_att_mask))\n",
        "      # take the argmax value which represents the index of the highest prob character\n",
        "      current_preds = np.argmax(preds, axis=-1)\n",
        "      # populate the current position with the predicted values which will be used in the next \n",
        "      # pass as a decoder input\n",
        "      full_sequence_preds[:, -(i+1)] = current_preds # populate the column of the current timestep with the predicitons\n",
        "        \n",
        "      # append the loss value  \n",
        "      losses.append(valid_results['loss'])\n",
        "      # append the accuracy value\n",
        "      accs.append(valid_results['sparse_categorical_accuracy'])\n",
        "      # append the top 5 accuracy value\n",
        "      top_accs.append(valid_results['top_k_acc'])\n",
        "  print('Valid loss:', np.mean(losses), 'Valid accuracy', np.mean(accs), 'Valid top 5 accuracy', np.mean(top_accs))\n",
        "\n",
        "  full_valid_losses.append(np.mean(losses))\n",
        "  full_valid_accs.append(np.mean(accs))\n",
        "  full_valid_top_k_accs.append(np.mean(top_accs))\n",
        "\n",
        "  mean_acc = np.mean(accs)\n",
        "  # save the weights of the best model based on the validation accuracy\n",
        "  # lower the LR a factor defined in the config class if the validation accuracy \n",
        "  # does not improve for the stated patience in the config class\n",
        "  if mean_acc > best_result:\n",
        "    best_result = mean_acc\n",
        "    epoch_of_best_result = epoch\n",
        "    print('Saving best model wieghts,', 'Accuracy:', mean_acc)\n",
        "    model.save_weights('best_full_model_weights.h5')\n",
        "  else:\n",
        "    print(\"Accuracy didn't improve from:\", best_result)\n",
        "  if epoch - epoch_of_best_result == config.LEARTING_RATE_REDUCTION_PATIENCE:\n",
        "    current_learning = current_learning * config.LEARTING_RATE_REDUCTION_FACTOR\n",
        "    print(\"model didn't improve for 10 epochs---->\", f\"lower learning rate to {current_learning}\")\n",
        "    model.compile(loss=tf.keras.losses.SparseCategoricalCrossentropy(from_logits=False),\n",
        "                metrics=metrics,\n",
        "                optimizer=tf.keras.optimizers.Adam(learning_rate=current_learning))  \n",
        "\n",
        "    "
      ],
      "metadata": {
        "colab": {
          "base_uri": "https://localhost:8080/"
        },
        "outputId": "839fe509-51a9-4df4-d817-d0add066c95f",
        "id": "TynPZNEyMyAp"
      },
      "execution_count": null,
      "outputs": [
        {
          "output_type": "stream",
          "name": "stdout",
          "text": [
            "Epoch: 1/100\n"
          ]
        },
        {
          "output_type": "stream",
          "name": "stderr",
          "text": [
            "100%|██████████| 4/4 [00:10<00:00,  2.56s/it]\n"
          ]
        },
        {
          "output_type": "stream",
          "name": "stdout",
          "text": [
            "Train loss: 129.9884798906066 Train accuracy 0.10579937124963511 Train top 5 accuracy 0.24608150116083297\n"
          ]
        },
        {
          "output_type": "stream",
          "name": "stderr",
          "text": [
            "100%|██████████| 2/2 [00:03<00:00,  1.87s/it]\n"
          ]
        },
        {
          "output_type": "stream",
          "name": "stdout",
          "text": [
            "Valid loss: 4.381328257647428 Valid accuracy 0.07373301972719756 Valid top 5 accuracy 0.2087700819088654\n",
            "Saving best model wieghts, Accuracy: 0.07373301972719756\n",
            "Epoch: 2/100\n"
          ]
        },
        {
          "output_type": "stream",
          "name": "stderr",
          "text": [
            "100%|██████████| 4/4 [00:02<00:00,  1.59it/s]\n"
          ]
        },
        {
          "output_type": "stream",
          "name": "stdout",
          "text": [
            "Train loss: 116.76446346261285 Train accuracy 0.10070532772012732 Train top 5 accuracy 0.2789968689903617\n"
          ]
        },
        {
          "output_type": "stream",
          "name": "stderr",
          "text": [
            "100%|██████████| 2/2 [00:01<00:00,  1.58it/s]\n"
          ]
        },
        {
          "output_type": "stream",
          "name": "stdout",
          "text": [
            "Valid loss: 4.776478398929942 Valid accuracy 0.08042915690351617 Valid top 5 accuracy 0.24254465323280205\n",
            "Saving best model wieghts, Accuracy: 0.08042915690351617\n",
            "Epoch: 3/100\n"
          ]
        },
        {
          "output_type": "stream",
          "name": "stderr",
          "text": [
            "100%|██████████| 4/4 [00:02<00:00,  1.57it/s]\n"
          ]
        },
        {
          "output_type": "stream",
          "name": "stdout",
          "text": [
            "Train loss: 109.95064213871956 Train accuracy 0.0983542317355221 Train top 5 accuracy 0.26489028106020257\n"
          ]
        },
        {
          "output_type": "stream",
          "name": "stderr",
          "text": [
            "100%|██████████| 2/2 [00:01<00:00,  1.57it/s]\n"
          ]
        },
        {
          "output_type": "stream",
          "name": "stdout",
          "text": [
            "Valid loss: 4.957840583541176 Valid accuracy 0.10796883228150281 Valid top 5 accuracy 0.273417092859745\n",
            "Saving best model wieghts, Accuracy: 0.10796883228150281\n",
            "Epoch: 4/100\n"
          ]
        },
        {
          "output_type": "stream",
          "name": "stderr",
          "text": [
            "100%|██████████| 4/4 [00:02<00:00,  1.67it/s]\n"
          ]
        },
        {
          "output_type": "stream",
          "name": "stdout",
          "text": [
            "Train loss: 99.23274093866348 Train accuracy 0.08385579800233245 Train top 5 accuracy 0.2676332318224013\n"
          ]
        },
        {
          "output_type": "stream",
          "name": "stderr",
          "text": [
            "100%|██████████| 2/2 [00:01<00:00,  1.58it/s]\n"
          ]
        },
        {
          "output_type": "stream",
          "name": "stdout",
          "text": [
            "Valid loss: 5.184712572531267 Valid accuracy 0.07364118014546958 Valid top 5 accuracy 0.25351644053377886\n",
            "Accuracy didn't improve from: 0.10796883228150281\n",
            "Epoch: 5/100\n"
          ]
        },
        {
          "output_type": "stream",
          "name": "stderr",
          "text": [
            "100%|██████████| 4/4 [00:02<00:00,  1.57it/s]\n"
          ]
        },
        {
          "output_type": "stream",
          "name": "stdout",
          "text": [
            "Train loss: 84.70741484381936 Train accuracy 0.1637931034307588 Train top 5 accuracy 0.3800940467044711\n"
          ]
        },
        {
          "output_type": "stream",
          "name": "stderr",
          "text": [
            "100%|██████████| 2/2 [00:00<00:00,  2.20it/s]\n"
          ]
        },
        {
          "output_type": "stream",
          "name": "stdout",
          "text": [
            "Valid loss: 4.793444655158303 Valid accuracy 0.12369995767419989 Valid top 5 accuracy 0.33653751913119445\n",
            "Saving best model wieghts, Accuracy: 0.12369995767419989\n",
            "Epoch: 6/100\n"
          ]
        },
        {
          "output_type": "stream",
          "name": "stderr",
          "text": [
            "100%|██████████| 4/4 [00:02<00:00,  1.57it/s]\n"
          ]
        },
        {
          "output_type": "stream",
          "name": "stdout",
          "text": [
            "Train loss: 64.7737288908525 Train accuracy 0.21434169241481207 Train top 5 accuracy 0.4788401254706762\n"
          ]
        },
        {
          "output_type": "stream",
          "name": "stderr",
          "text": [
            "100%|██████████| 2/2 [00:01<00:00,  1.58it/s]\n"
          ]
        },
        {
          "output_type": "stream",
          "name": "stdout",
          "text": [
            "Valid loss: 4.726078987121582 Valid accuracy 0.14964162134988743 Valid top 5 accuracy 0.3551952711899172\n",
            "Saving best model wieghts, Accuracy: 0.14964162134988743\n",
            "Epoch: 7/100\n"
          ]
        },
        {
          "output_type": "stream",
          "name": "stderr",
          "text": [
            "100%|██████████| 4/4 [00:02<00:00,  1.64it/s]\n"
          ]
        },
        {
          "output_type": "stream",
          "name": "stdout",
          "text": [
            "Train loss: 53.40377218073065 Train accuracy 0.24059561182829467 Train top 5 accuracy 0.4807993687519973\n"
          ]
        },
        {
          "output_type": "stream",
          "name": "stderr",
          "text": [
            "100%|██████████| 2/2 [00:01<00:00,  1.58it/s]\n"
          ]
        },
        {
          "output_type": "stream",
          "name": "stdout",
          "text": [
            "Valid loss: 4.574463345787742 Valid accuracy 0.16963819109580733 Valid top 5 accuracy 0.3891065820035609\n",
            "Saving best model wieghts, Accuracy: 0.16963819109580733\n",
            "Epoch: 8/100\n"
          ]
        },
        {
          "output_type": "stream",
          "name": "stderr",
          "text": [
            "100%|██████████| 4/4 [00:02<00:00,  1.57it/s]\n"
          ]
        },
        {
          "output_type": "stream",
          "name": "stdout",
          "text": [
            "Train loss: 51.030894322828814 Train accuracy 0.25783699115907605 Train top 5 accuracy 0.4862852646461265\n"
          ]
        },
        {
          "output_type": "stream",
          "name": "stderr",
          "text": [
            "100%|██████████| 2/2 [00:00<00:00,  2.21it/s]\n"
          ]
        },
        {
          "output_type": "stream",
          "name": "stdout",
          "text": [
            "Valid loss: 4.239213780923323 Valid accuracy 0.18048956837843766 Valid top 5 accuracy 0.39200871844183316\n",
            "Saving best model wieghts, Accuracy: 0.18048956837843766\n",
            "Epoch: 9/100\n"
          ]
        },
        {
          "output_type": "stream",
          "name": "stderr",
          "text": [
            "100%|██████████| 4/4 [00:02<00:00,  1.61it/s]\n"
          ]
        },
        {
          "output_type": "stream",
          "name": "stdout",
          "text": [
            "Train loss: 54.62574406645515 Train accuracy 0.24960814941335807 Train top 5 accuracy 0.4572883937507868\n"
          ]
        },
        {
          "output_type": "stream",
          "name": "stderr",
          "text": [
            "100%|██████████| 2/2 [00:00<00:00,  2.18it/s]\n"
          ]
        },
        {
          "output_type": "stream",
          "name": "stdout",
          "text": [
            "Valid loss: 4.288783214308999 Valid accuracy 0.17593431506644597 Valid top 5 accuracy 0.44026539559391414\n",
            "Accuracy didn't improve from: 0.18048956837843766\n",
            "Epoch: 10/100\n"
          ]
        },
        {
          "output_type": "stream",
          "name": "stderr",
          "text": [
            "100%|██████████| 4/4 [00:02<00:00,  1.57it/s]\n"
          ]
        },
        {
          "output_type": "stream",
          "name": "stdout",
          "text": [
            "Train loss: 43.588414723222904 Train accuracy 0.24020376458594744 Train top 5 accuracy 0.42476489416069607\n"
          ]
        },
        {
          "output_type": "stream",
          "name": "stderr",
          "text": [
            "100%|██████████| 2/2 [00:01<00:00,  1.58it/s]\n"
          ]
        },
        {
          "output_type": "stream",
          "name": "stdout",
          "text": [
            "Valid loss: 4.104846753857353 Valid accuracy 0.19841056063093923 Valid top 5 accuracy 0.44453696466305037\n",
            "Saving best model wieghts, Accuracy: 0.19841056063093923\n",
            "Epoch: 11/100\n"
          ]
        },
        {
          "output_type": "stream",
          "name": "stderr",
          "text": [
            "100%|██████████| 4/4 [00:02<00:00,  1.68it/s]\n"
          ]
        },
        {
          "output_type": "stream",
          "name": "stdout",
          "text": [
            "Train loss: 36.07788269628178 Train accuracy 0.3275862101634795 Train top 5 accuracy 0.5376175586980853\n"
          ]
        },
        {
          "output_type": "stream",
          "name": "stderr",
          "text": [
            "100%|██████████| 2/2 [00:00<00:00,  2.20it/s]\n"
          ]
        },
        {
          "output_type": "stream",
          "name": "stdout",
          "text": [
            "Valid loss: 4.112119940194217 Valid accuracy 0.22077251462773842 Valid top 5 accuracy 0.43972864509983495\n",
            "Saving best model wieghts, Accuracy: 0.22077251462773842\n",
            "Epoch: 12/100\n"
          ]
        },
        {
          "output_type": "stream",
          "name": "stderr",
          "text": [
            "100%|██████████| 4/4 [00:02<00:00,  1.64it/s]\n"
          ]
        },
        {
          "output_type": "stream",
          "name": "stdout",
          "text": [
            "Train loss: 31.064624228260733 Train accuracy 0.35619122204794124 Train top 5 accuracy 0.5748432645658877\n"
          ]
        },
        {
          "output_type": "stream",
          "name": "stderr",
          "text": [
            "100%|██████████| 2/2 [00:00<00:00,  2.12it/s]\n"
          ]
        },
        {
          "output_type": "stream",
          "name": "stdout",
          "text": [
            "Valid loss: 4.223770818927071 Valid accuracy 0.2041536049748009 Valid top 5 accuracy 0.3967415236613967\n",
            "Accuracy didn't improve from: 0.22077251462773842\n",
            "Epoch: 13/100\n"
          ]
        },
        {
          "output_type": "stream",
          "name": "stderr",
          "text": [
            "100%|██████████| 4/4 [00:02<00:00,  1.67it/s]\n"
          ]
        },
        {
          "output_type": "stream",
          "name": "stdout",
          "text": [
            "Train loss: 36.32198280096054 Train accuracy 0.3115203764543615 Train top 5 accuracy 0.5333072058433159\n"
          ]
        },
        {
          "output_type": "stream",
          "name": "stderr",
          "text": [
            "100%|██████████| 2/2 [00:00<00:00,  2.14it/s]\n"
          ]
        },
        {
          "output_type": "stream",
          "name": "stdout",
          "text": [
            "Valid loss: 4.070723858746615 Valid accuracy 0.22993811981921847 Valid top 5 accuracy 0.4375163284553723\n",
            "Saving best model wieghts, Accuracy: 0.22993811981921847\n",
            "Epoch: 14/100\n"
          ]
        },
        {
          "output_type": "stream",
          "name": "stderr",
          "text": [
            "100%|██████████| 4/4 [00:02<00:00,  1.57it/s]\n"
          ]
        },
        {
          "output_type": "stream",
          "name": "stdout",
          "text": [
            "Train loss: 28.472184945236553 Train accuracy 0.3655956139449369 Train top 5 accuracy 0.5626959246583283\n"
          ]
        },
        {
          "output_type": "stream",
          "name": "stderr",
          "text": [
            "100%|██████████| 2/2 [00:01<00:00,  1.58it/s]\n"
          ]
        },
        {
          "output_type": "stream",
          "name": "stdout",
          "text": [
            "Valid loss: 3.87589448148554 Valid accuracy 0.2466835645450787 Valid top 5 accuracy 0.4418940234251998\n",
            "Saving best model wieghts, Accuracy: 0.2466835645450787\n",
            "Epoch: 15/100\n"
          ]
        },
        {
          "output_type": "stream",
          "name": "stderr",
          "text": [
            "100%|██████████| 4/4 [00:02<00:00,  1.57it/s]\n"
          ]
        },
        {
          "output_type": "stream",
          "name": "stdout",
          "text": [
            "Train loss: 33.88064035502347 Train accuracy 0.39498432319272647 Train top 5 accuracy 0.581504699096761\n"
          ]
        },
        {
          "output_type": "stream",
          "name": "stderr",
          "text": [
            "100%|██████████| 2/2 [00:00<00:00,  2.08it/s]\n"
          ]
        },
        {
          "output_type": "stream",
          "name": "stdout",
          "text": [
            "Valid loss: 4.040990683165464 Valid accuracy 0.22063985670154745 Valid top 5 accuracy 0.41464823281223123\n",
            "Accuracy didn't improve from: 0.2466835645450787\n",
            "Epoch: 16/100\n"
          ]
        },
        {
          "output_type": "stream",
          "name": "stderr",
          "text": [
            "100%|██████████| 4/4 [00:05<00:00,  1.28s/it]\n"
          ]
        },
        {
          "output_type": "stream",
          "name": "stdout",
          "text": [
            "Train loss: 26.12179084257646 Train accuracy 0.3875391843136061 Train top 5 accuracy 0.5709247603927824\n"
          ]
        },
        {
          "output_type": "stream",
          "name": "stderr",
          "text": [
            "100%|██████████| 2/2 [00:01<00:00,  1.58it/s]\n"
          ]
        },
        {
          "output_type": "stream",
          "name": "stdout",
          "text": [
            "Valid loss: 4.001485065980391 Valid accuracy 0.23921188999983398 Valid top 5 accuracy 0.469545942646536\n",
            "Accuracy didn't improve from: 0.2466835645450787\n",
            "Epoch: 17/100\n"
          ]
        },
        {
          "output_type": "stream",
          "name": "stderr",
          "text": [
            "100%|██████████| 4/4 [00:02<00:00,  1.57it/s]\n"
          ]
        },
        {
          "output_type": "stream",
          "name": "stdout",
          "text": [
            "Train loss: 31.83109607479789 Train accuracy 0.36089341494847427 Train top 5 accuracy 0.4855015762996944\n"
          ]
        },
        {
          "output_type": "stream",
          "name": "stderr",
          "text": [
            "100%|██████████| 2/2 [00:01<00:00,  1.57it/s]\n"
          ]
        },
        {
          "output_type": "stream",
          "name": "stdout",
          "text": [
            "Valid loss: 4.084562312472951 Valid accuracy 0.22915237972682173 Valid top 5 accuracy 0.4520494524728168\n",
            "Accuracy didn't improve from: 0.2466835645450787\n",
            "Epoch: 18/100\n"
          ]
        },
        {
          "output_type": "stream",
          "name": "stderr",
          "text": [
            "100%|██████████| 4/4 [00:02<00:00,  1.59it/s]\n"
          ]
        },
        {
          "output_type": "stream",
          "name": "stdout",
          "text": [
            "Train loss: 25.433751686052844 Train accuracy 0.3851880807937546 Train top 5 accuracy 0.5697492132048038\n"
          ]
        },
        {
          "output_type": "stream",
          "name": "stderr",
          "text": [
            "100%|██████████| 2/2 [00:00<00:00,  2.18it/s]\n"
          ]
        },
        {
          "output_type": "stream",
          "name": "stdout",
          "text": [
            "Valid loss: 3.7430619814179162 Valid accuracy 0.25862477313388477 Valid top 5 accuracy 0.45628020489080384\n",
            "Saving best model wieghts, Accuracy: 0.25862477313388477\n",
            "Epoch: 19/100\n"
          ]
        },
        {
          "output_type": "stream",
          "name": "stderr",
          "text": [
            "100%|██████████| 4/4 [00:02<00:00,  1.67it/s]\n"
          ]
        },
        {
          "output_type": "stream",
          "name": "stdout",
          "text": [
            "Train loss: 22.85241187160665 Train accuracy 0.40242946469648316 Train top 5 accuracy 0.5854232028042051\n"
          ]
        },
        {
          "output_type": "stream",
          "name": "stderr",
          "text": [
            "100%|██████████| 2/2 [00:00<00:00,  2.13it/s]\n"
          ]
        },
        {
          "output_type": "stream",
          "name": "stdout",
          "text": [
            "Valid loss: 3.766053091395985 Valid accuracy 0.26786793040280993 Valid top 5 accuracy 0.481654505668716\n",
            "Saving best model wieghts, Accuracy: 0.26786793040280993\n",
            "Epoch: 20/100\n"
          ]
        },
        {
          "output_type": "stream",
          "name": "stderr",
          "text": [
            "100%|██████████| 4/4 [00:05<00:00,  1.28s/it]\n"
          ]
        },
        {
          "output_type": "stream",
          "name": "stdout",
          "text": [
            "Train loss: 30.84397314895283 Train accuracy 0.3691222646950998 Train top 5 accuracy 0.5035266413099386\n"
          ]
        },
        {
          "output_type": "stream",
          "name": "stderr",
          "text": [
            "100%|██████████| 2/2 [00:01<00:00,  1.58it/s]\n"
          ]
        },
        {
          "output_type": "stream",
          "name": "stdout",
          "text": [
            "Valid loss: 3.94799465211955 Valid accuracy 0.26709647730670194 Valid top 5 accuracy 0.4726399235766042\n",
            "Accuracy didn't improve from: 0.26786793040280993\n",
            "Epoch: 21/100\n"
          ]
        },
        {
          "output_type": "stream",
          "name": "stderr",
          "text": [
            "100%|██████████| 4/4 [00:02<00:00,  1.71it/s]\n"
          ]
        },
        {
          "output_type": "stream",
          "name": "stdout",
          "text": [
            "Train loss: 28.24853368238969 Train accuracy 0.3358150523325259 Train top 5 accuracy 0.5203761731020429\n"
          ]
        },
        {
          "output_type": "stream",
          "name": "stderr",
          "text": [
            "100%|██████████| 2/2 [00:01<00:00,  1.58it/s]\n"
          ]
        },
        {
          "output_type": "stream",
          "name": "stdout",
          "text": [
            "Valid loss: 3.6384970247745514 Valid accuracy 0.29225239902734756 Valid top 5 accuracy 0.49295691468498926\n",
            "Saving best model wieghts, Accuracy: 0.29225239902734756\n",
            "Epoch: 22/100\n"
          ]
        },
        {
          "output_type": "stream",
          "name": "stderr",
          "text": [
            "100%|██████████| 4/4 [00:02<00:00,  1.57it/s]\n"
          ]
        },
        {
          "output_type": "stream",
          "name": "stdout",
          "text": [
            "Train loss: 23.852772869847037 Train accuracy 0.4094827590002255 Train top 5 accuracy 0.5885579994117672\n"
          ]
        },
        {
          "output_type": "stream",
          "name": "stderr",
          "text": [
            "100%|██████████| 2/2 [00:01<00:00,  1.58it/s]\n"
          ]
        },
        {
          "output_type": "stream",
          "name": "stdout",
          "text": [
            "Valid loss: 3.7238285649906504 Valid accuracy 0.25811250998892565 Valid top 5 accuracy 0.4303793598982421\n",
            "Accuracy didn't improve from: 0.29225239902734756\n",
            "Epoch: 23/100\n"
          ]
        },
        {
          "output_type": "stream",
          "name": "stderr",
          "text": [
            "100%|██████████| 4/4 [00:02<00:00,  1.56it/s]\n"
          ]
        },
        {
          "output_type": "stream",
          "name": "stdout",
          "text": [
            "Train loss: 21.557211019776084 Train accuracy 0.42829152903604234 Train top 5 accuracy 0.5928683354603973\n"
          ]
        },
        {
          "output_type": "stream",
          "name": "stderr",
          "text": [
            "100%|██████████| 2/2 [00:01<00:00,  1.58it/s]\n"
          ]
        },
        {
          "output_type": "stream",
          "name": "stdout",
          "text": [
            "Valid loss: 3.6733061129396614 Valid accuracy 0.2822235025126826 Valid top 5 accuracy 0.4818116541613232\n",
            "Accuracy didn't improve from: 0.29225239902734756\n",
            "Epoch: 24/100\n"
          ]
        },
        {
          "output_type": "stream",
          "name": "stderr",
          "text": [
            "100%|██████████| 4/4 [00:02<00:00,  1.62it/s]\n"
          ]
        },
        {
          "output_type": "stream",
          "name": "stdout",
          "text": [
            "Train loss: 27.585989242250267 Train accuracy 0.3789184943095527 Train top 5 accuracy 0.5066614396531474\n"
          ]
        },
        {
          "output_type": "stream",
          "name": "stderr",
          "text": [
            "100%|██████████| 2/2 [00:01<00:00,  1.58it/s]\n"
          ]
        },
        {
          "output_type": "stream",
          "name": "stdout",
          "text": [
            "Valid loss: 3.7920465171337128 Valid accuracy 0.28664201159368863 Valid top 5 accuracy 0.4881526739759879\n",
            "Accuracy didn't improve from: 0.29225239902734756\n",
            "Epoch: 25/100\n"
          ]
        },
        {
          "output_type": "stream",
          "name": "stderr",
          "text": [
            "100%|██████████| 4/4 [00:02<00:00,  1.60it/s]\n"
          ]
        },
        {
          "output_type": "stream",
          "name": "stdout",
          "text": [
            "Train loss: 21.688969454982065 Train accuracy 0.3930250842293555 Train top 5 accuracy 0.5795454515821554\n"
          ]
        },
        {
          "output_type": "stream",
          "name": "stderr",
          "text": [
            "100%|██████████| 2/2 [00:01<00:00,  1.58it/s]\n"
          ]
        },
        {
          "output_type": "stream",
          "name": "stdout",
          "text": [
            "Valid loss: 3.5397474982521753 Valid accuracy 0.2930687525394288 Valid top 5 accuracy 0.4930528354915706\n",
            "Saving best model wieghts, Accuracy: 0.2930687525394288\n",
            "Epoch: 26/100\n"
          ]
        },
        {
          "output_type": "stream",
          "name": "stderr",
          "text": [
            "100%|██████████| 4/4 [00:02<00:00,  1.59it/s]\n"
          ]
        },
        {
          "output_type": "stream",
          "name": "stdout",
          "text": [
            "Train loss: 21.95751745592464 Train accuracy 0.41261755412613804 Train top 5 accuracy 0.5885579984804447\n"
          ]
        },
        {
          "output_type": "stream",
          "name": "stderr",
          "text": [
            "100%|██████████| 2/2 [00:01<00:00,  1.58it/s]\n"
          ]
        },
        {
          "output_type": "stream",
          "name": "stdout",
          "text": [
            "Valid loss: 3.551764425906268 Valid accuracy 0.28506441007960925 Valid top 5 accuracy 0.48657507161525165\n",
            "Accuracy didn't improve from: 0.2930687525394288\n",
            "Epoch: 27/100\n"
          ]
        },
        {
          "output_type": "stream",
          "name": "stderr",
          "text": [
            "100%|██████████| 4/4 [00:02<00:00,  1.57it/s]\n"
          ]
        },
        {
          "output_type": "stream",
          "name": "stdout",
          "text": [
            "Train loss: 20.841286025264047 Train accuracy 0.4306426355615258 Train top 5 accuracy 0.5999216316691176\n"
          ]
        },
        {
          "output_type": "stream",
          "name": "stderr",
          "text": [
            "100%|██████████| 2/2 [00:01<00:00,  1.58it/s]\n"
          ]
        },
        {
          "output_type": "stream",
          "name": "stdout",
          "text": [
            "Valid loss: 3.724411181428216 Valid accuracy 0.27143335274674674 Valid top 5 accuracy 0.48092386431314726\n",
            "Accuracy didn't improve from: 0.2930687525394288\n",
            "Epoch: 28/100\n"
          ]
        },
        {
          "output_type": "stream",
          "name": "stderr",
          "text": [
            "100%|██████████| 4/4 [00:02<00:00,  1.57it/s]\n"
          ]
        },
        {
          "output_type": "stream",
          "name": "stdout",
          "text": [
            "Train loss: 19.91695737838745 Train accuracy 0.42554859203201806 Train top 5 accuracy 0.5826802526346662\n"
          ]
        },
        {
          "output_type": "stream",
          "name": "stderr",
          "text": [
            "100%|██████████| 2/2 [00:01<00:00,  1.58it/s]\n"
          ]
        },
        {
          "output_type": "stream",
          "name": "stdout",
          "text": [
            "Valid loss: 3.432402017441663 Valid accuracy 0.3168144275180318 Valid top 5 accuracy 0.5087023231793534\n",
            "Saving best model wieghts, Accuracy: 0.3168144275180318\n",
            "Epoch: 29/100\n"
          ]
        },
        {
          "output_type": "stream",
          "name": "stderr",
          "text": [
            "100%|██████████| 4/4 [00:02<00:00,  1.68it/s]\n"
          ]
        },
        {
          "output_type": "stream",
          "name": "stdout",
          "text": [
            "Train loss: 21.729773898016322 Train accuracy 0.41614420589228923 Train top 5 accuracy 0.5615203761580315\n"
          ]
        },
        {
          "output_type": "stream",
          "name": "stderr",
          "text": [
            "100%|██████████| 2/2 [00:00<00:00,  2.20it/s]\n"
          ]
        },
        {
          "output_type": "stream",
          "name": "stdout",
          "text": [
            "Valid loss: 3.418214586648074 Valid accuracy 0.28580524924803863 Valid top 5 accuracy 0.48836084370586\n",
            "Accuracy didn't improve from: 0.3168144275180318\n",
            "Epoch: 30/100\n"
          ]
        },
        {
          "output_type": "stream",
          "name": "stderr",
          "text": [
            "100%|██████████| 4/4 [00:02<00:00,  1.56it/s]\n"
          ]
        },
        {
          "output_type": "stream",
          "name": "stdout",
          "text": [
            "Train loss: 20.92119651490992 Train accuracy 0.39968652185052633 Train top 5 accuracy 0.5764106540856037\n"
          ]
        },
        {
          "output_type": "stream",
          "name": "stderr",
          "text": [
            "100%|██████████| 2/2 [00:01<00:00,  1.57it/s]\n"
          ]
        },
        {
          "output_type": "stream",
          "name": "stdout",
          "text": [
            "Valid loss: 3.426711020144549 Valid accuracy 0.31508988091214135 Valid top 5 accuracy 0.49789788624779746\n",
            "Accuracy didn't improve from: 0.3168144275180318\n",
            "Epoch: 31/100\n"
          ]
        },
        {
          "output_type": "stream",
          "name": "stderr",
          "text": [
            "100%|██████████| 4/4 [00:02<00:00,  1.67it/s]\n"
          ]
        },
        {
          "output_type": "stream",
          "name": "stdout",
          "text": [
            "Train loss: 22.403466525402937 Train accuracy 0.40517240860076115 Train top 5 accuracy 0.5705329100178047\n"
          ]
        },
        {
          "output_type": "stream",
          "name": "stderr",
          "text": [
            "100%|██████████| 2/2 [00:01<00:00,  1.58it/s]\n"
          ]
        },
        {
          "output_type": "stream",
          "name": "stdout",
          "text": [
            "Valid loss: 3.4010260945016686 Valid accuracy 0.29432185569947417 Valid top 5 accuracy 0.50556752610613\n",
            "Accuracy didn't improve from: 0.3168144275180318\n",
            "Epoch: 32/100\n"
          ]
        },
        {
          "output_type": "stream",
          "name": "stderr",
          "text": [
            "100%|██████████| 4/4 [00:02<00:00,  1.57it/s]\n"
          ]
        },
        {
          "output_type": "stream",
          "name": "stdout",
          "text": [
            "Train loss: 22.796135872602463 Train accuracy 0.42554859330200334 Train top 5 accuracy 0.5850313514979049\n"
          ]
        },
        {
          "output_type": "stream",
          "name": "stderr",
          "text": [
            "100%|██████████| 2/2 [00:00<00:00,  2.12it/s]\n"
          ]
        },
        {
          "output_type": "stream",
          "name": "stdout",
          "text": [
            "Valid loss: 3.6662316105582495 Valid accuracy 0.2816602203317664 Valid top 5 accuracy 0.4635192138904875\n",
            "Accuracy didn't improve from: 0.3168144275180318\n",
            "Epoch: 33/100\n"
          ]
        },
        {
          "output_type": "stream",
          "name": "stderr",
          "text": [
            "100%|██████████| 4/4 [00:02<00:00,  1.63it/s]\n"
          ]
        },
        {
          "output_type": "stream",
          "name": "stdout",
          "text": [
            "Train loss: 21.46161712841554 Train accuracy 0.4314263247969476 Train top 5 accuracy 0.6026645710861142\n"
          ]
        },
        {
          "output_type": "stream",
          "name": "stderr",
          "text": [
            "100%|██████████| 2/2 [00:00<00:00,  2.15it/s]\n"
          ]
        },
        {
          "output_type": "stream",
          "name": "stdout",
          "text": [
            "Valid loss: 3.442005068063736 Valid accuracy 0.2824214674871076 Valid top 5 accuracy 0.47951361452313984\n",
            "Accuracy didn't improve from: 0.3168144275180318\n",
            "Epoch: 34/100\n"
          ]
        },
        {
          "output_type": "stream",
          "name": "stderr",
          "text": [
            "100%|██████████| 4/4 [00:02<00:00,  1.57it/s]\n"
          ]
        },
        {
          "output_type": "stream",
          "name": "stdout",
          "text": [
            "Train loss: 21.82330873608589 Train accuracy 0.45807209801436827 Train top 5 accuracy 0.5983542313968594\n"
          ]
        },
        {
          "output_type": "stream",
          "name": "stderr",
          "text": [
            "100%|██████████| 2/2 [00:00<00:00,  2.16it/s]\n"
          ]
        },
        {
          "output_type": "stream",
          "name": "stdout",
          "text": [
            "Valid loss: 3.5301102101802826 Valid accuracy 0.27268645590679214 Valid top 5 accuracy 0.4468349970199845\n",
            "Accuracy didn't improve from: 0.3168144275180318\n",
            "Epoch: 35/100\n"
          ]
        },
        {
          "output_type": "stream",
          "name": "stderr",
          "text": [
            "100%|██████████| 4/4 [00:02<00:00,  1.72it/s]\n"
          ]
        },
        {
          "output_type": "stream",
          "name": "stdout",
          "text": [
            "Train loss: 21.54603884978728 Train accuracy 0.4259404378773814 Train top 5 accuracy 0.5419279031286185\n"
          ]
        },
        {
          "output_type": "stream",
          "name": "stderr",
          "text": [
            "100%|██████████| 2/2 [00:00<00:00,  2.14it/s]\n"
          ]
        },
        {
          "output_type": "stream",
          "name": "stdout",
          "text": [
            "Valid loss: 3.5567958382042972 Valid accuracy 0.29202382131056354 Valid top 5 accuracy 0.4859056601470167\n",
            "Accuracy didn't improve from: 0.3168144275180318\n",
            "Epoch: 36/100\n"
          ]
        },
        {
          "output_type": "stream",
          "name": "stderr",
          "text": [
            "100%|██████████| 4/4 [00:02<00:00,  1.57it/s]\n"
          ]
        },
        {
          "output_type": "stream",
          "name": "stdout",
          "text": [
            "Train loss: 18.661543334072288 Train accuracy 0.44710031655532395 Train top 5 accuracy 0.6022727247327566\n"
          ]
        },
        {
          "output_type": "stream",
          "name": "stderr",
          "text": [
            "100%|██████████| 2/2 [00:01<00:00,  1.58it/s]\n"
          ]
        },
        {
          "output_type": "stream",
          "name": "stdout",
          "text": [
            "Valid loss: 3.405674259771 Valid accuracy 0.2942606300454248 Valid top 5 accuracy 0.49124665338207374\n",
            "Accuracy didn't improve from: 0.3168144275180318\n",
            "Epoch: 37/100\n"
          ]
        },
        {
          "output_type": "stream",
          "name": "stderr",
          "text": [
            "100%|██████████| 4/4 [00:02<00:00,  1.57it/s]\n"
          ]
        },
        {
          "output_type": "stream",
          "name": "stdout",
          "text": [
            "Train loss: 22.59956472841176 Train accuracy 0.42476488882675767 Train top 5 accuracy 0.5854231960732829\n"
          ]
        },
        {
          "output_type": "stream",
          "name": "stderr",
          "text": [
            "100%|██████████| 2/2 [00:00<00:00,  2.08it/s]\n"
          ]
        },
        {
          "output_type": "stream",
          "name": "stdout",
          "text": [
            "Valid loss: 3.282264606519179 Valid accuracy 0.3016323000192642 Valid top 5 accuracy 0.5041572793640874\n",
            "Accuracy didn't improve from: 0.3168144275180318\n",
            "Epoch: 38/100\n"
          ]
        },
        {
          "output_type": "stream",
          "name": "stderr",
          "text": [
            "100%|██████████| 4/4 [00:02<00:00,  1.64it/s]\n"
          ]
        },
        {
          "output_type": "stream",
          "name": "stdout",
          "text": [
            "Train loss: 21.895074638453398 Train accuracy 0.43534482892772014 Train top 5 accuracy 0.5901253875344992\n"
          ]
        },
        {
          "output_type": "stream",
          "name": "stderr",
          "text": [
            "100%|██████████| 2/2 [00:01<00:00,  1.58it/s]\n"
          ]
        },
        {
          "output_type": "stream",
          "name": "stdout",
          "text": [
            "Valid loss: 3.4526774774898183 Valid accuracy 0.31384698233821173 Valid top 5 accuracy 0.5104574854062363\n",
            "Accuracy didn't improve from: 0.3168144275180318\n",
            "model didn't improve for 10 epochs----> lower learning rate to 2e-05\n",
            "Epoch: 39/100\n"
          ]
        },
        {
          "output_type": "stream",
          "name": "stderr",
          "text": [
            "100%|██████████| 4/4 [00:06<00:00,  1.67s/it]\n"
          ]
        },
        {
          "output_type": "stream",
          "name": "stdout",
          "text": [
            "Train loss: 16.26570125330578 Train accuracy 0.4682601894336668 Train top 5 accuracy 0.6018808783793991\n"
          ]
        },
        {
          "output_type": "stream",
          "name": "stderr",
          "text": [
            "100%|██████████| 2/2 [00:05<00:00,  2.55s/it]\n"
          ]
        },
        {
          "output_type": "stream",
          "name": "stdout",
          "text": [
            "Valid loss: 3.3877915916117756 Valid accuracy 0.335680348967964 Valid top 5 accuracy 0.5313724491067908\n",
            "Saving best model wieghts, Accuracy: 0.335680348967964\n",
            "Epoch: 40/100\n"
          ]
        },
        {
          "output_type": "stream",
          "name": "stderr",
          "text": [
            "100%|██████████| 4/4 [00:02<00:00,  1.45it/s]\n"
          ]
        },
        {
          "output_type": "stream",
          "name": "stdout",
          "text": [
            "Train loss: 15.745179084214298 Train accuracy 0.47452978256412526 Train top 5 accuracy 0.6026645710861142\n"
          ]
        },
        {
          "output_type": "stream",
          "name": "stderr",
          "text": [
            "100%|██████████| 2/2 [00:00<00:00,  2.16it/s]\n"
          ]
        },
        {
          "output_type": "stream",
          "name": "stdout",
          "text": [
            "Valid loss: 3.4240679185498846 Valid accuracy 0.33654772371731023 Valid top 5 accuracy 0.5289172674105926\n",
            "Saving best model wieghts, Accuracy: 0.33654772371731023\n",
            "Epoch: 41/100\n"
          ]
        },
        {
          "output_type": "stream",
          "name": "stderr",
          "text": [
            "100%|██████████| 4/4 [00:02<00:00,  1.67it/s]\n"
          ]
        },
        {
          "output_type": "stream",
          "name": "stdout",
          "text": [
            "Train loss: 15.356423651630228 Train accuracy 0.47570532975210383 Train top 5 accuracy 0.6022727247327566\n"
          ]
        },
        {
          "output_type": "stream",
          "name": "stderr",
          "text": [
            "100%|██████████| 2/2 [00:01<00:00,  1.58it/s]\n"
          ]
        },
        {
          "output_type": "stream",
          "name": "stdout",
          "text": [
            "Valid loss: 3.4434531182050705 Valid accuracy 0.34042335995896295 Valid top 5 accuracy 0.5280396879057992\n",
            "Saving best model wieghts, Accuracy: 0.34042335995896295\n",
            "Epoch: 42/100\n"
          ]
        },
        {
          "output_type": "stream",
          "name": "stderr",
          "text": [
            "100%|██████████| 4/4 [00:02<00:00,  1.67it/s]\n"
          ]
        },
        {
          "output_type": "stream",
          "name": "stdout",
          "text": [
            "Train loss: 15.0081125524911 Train accuracy 0.478840119544078 Train top 5 accuracy 0.6018808729607951\n"
          ]
        },
        {
          "output_type": "stream",
          "name": "stderr",
          "text": [
            "100%|██████████| 2/2 [00:01<00:00,  1.58it/s]\n"
          ]
        },
        {
          "output_type": "stream",
          "name": "stdout",
          "text": [
            "Valid loss: 3.454073330218142 Valid accuracy 0.3476215555247935 Valid top 5 accuracy 0.5301397559656338\n",
            "Saving best model wieghts, Accuracy: 0.3476215555247935\n",
            "Epoch: 43/100\n"
          ]
        },
        {
          "output_type": "stream",
          "name": "stderr",
          "text": [
            "100%|██████████| 4/4 [00:02<00:00,  1.64it/s]\n"
          ]
        },
        {
          "output_type": "stream",
          "name": "stdout",
          "text": [
            "Train loss: 14.695019816810435 Train accuracy 0.4796238254586404 Train top 5 accuracy 0.6014890266074375\n"
          ]
        },
        {
          "output_type": "stream",
          "name": "stderr",
          "text": [
            "100%|██████████| 2/2 [00:01<00:00,  1.58it/s]\n"
          ]
        },
        {
          "output_type": "stream",
          "name": "stdout",
          "text": [
            "Valid loss: 3.470450990579345 Valid accuracy 0.3528768267821182 Valid top 5 accuracy 0.5283743937245824\n",
            "Saving best model wieghts, Accuracy: 0.3528768267821182\n",
            "Epoch: 44/100\n"
          ]
        },
        {
          "output_type": "stream",
          "name": "stderr",
          "text": [
            "100%|██████████| 4/4 [00:02<00:00,  1.69it/s]\n"
          ]
        },
        {
          "output_type": "stream",
          "name": "stdout",
          "text": [
            "Train loss: 14.416486723856492 Train accuracy 0.4815830761905421 Train top 5 accuracy 0.6007053230635144\n"
          ]
        },
        {
          "output_type": "stream",
          "name": "stderr",
          "text": [
            "100%|██████████| 2/2 [00:01<00:00,  1.58it/s]\n"
          ]
        },
        {
          "output_type": "stream",
          "name": "stdout",
          "text": [
            "Valid loss: 3.4891798469153317 Valid accuracy 0.3541197229854085 Valid top 5 accuracy 0.527841723270037\n",
            "Saving best model wieghts, Accuracy: 0.3541197229854085\n",
            "Epoch: 45/100\n"
          ]
        },
        {
          "output_type": "stream",
          "name": "stderr",
          "text": [
            "100%|██████████| 4/4 [00:02<00:00,  1.59it/s]\n"
          ]
        },
        {
          "output_type": "stream",
          "name": "stdout",
          "text": [
            "Train loss: 14.173912487246774 Train accuracy 0.48040752087465743 Train top 5 accuracy 0.6007053230635144\n"
          ]
        },
        {
          "output_type": "stream",
          "name": "stderr",
          "text": [
            "100%|██████████| 2/2 [00:01<00:00,  1.58it/s]\n"
          ]
        },
        {
          "output_type": "stream",
          "name": "stdout",
          "text": [
            "Valid loss: 3.5030653151598843 Valid accuracy 0.35887294076383114 Valid top 5 accuracy 0.5243314066055146\n",
            "Saving best model wieghts, Accuracy: 0.35887294076383114\n",
            "Epoch: 46/100\n"
          ]
        },
        {
          "output_type": "stream",
          "name": "stderr",
          "text": [
            "100%|██████████| 4/4 [00:02<00:00,  1.57it/s]\n"
          ]
        },
        {
          "output_type": "stream",
          "name": "stdout",
          "text": [
            "Train loss: 13.950719012455506 Train accuracy 0.48275862337852066 Train top 5 accuracy 0.5999216249381955\n"
          ]
        },
        {
          "output_type": "stream",
          "name": "stderr",
          "text": [
            "100%|██████████| 2/2 [00:00<00:00,  2.13it/s]\n"
          ]
        },
        {
          "output_type": "stream",
          "name": "stdout",
          "text": [
            "Valid loss: 3.5240670537406746 Valid accuracy 0.3613383297554471 Valid top 5 accuracy 0.5246865202418782\n",
            "Saving best model wieghts, Accuracy: 0.3613383297554471\n",
            "Epoch: 47/100\n"
          ]
        },
        {
          "output_type": "stream",
          "name": "stderr",
          "text": [
            "100%|██████████| 4/4 [00:02<00:00,  1.57it/s]\n"
          ]
        },
        {
          "output_type": "stream",
          "name": "stdout",
          "text": [
            "Train loss: 13.697835859927265 Train accuracy 0.48197491983459756 Train top 5 accuracy 0.600313476710157\n"
          ]
        },
        {
          "output_type": "stream",
          "name": "stderr",
          "text": [
            "100%|██████████| 2/2 [00:01<00:00,  1.58it/s]\n"
          ]
        },
        {
          "output_type": "stream",
          "name": "stdout",
          "text": [
            "Valid loss: 3.546362494880503 Valid accuracy 0.36292613653296774 Valid top 5 accuracy 0.5236415871503678\n",
            "Saving best model wieghts, Accuracy: 0.36292613653296774\n",
            "Epoch: 48/100\n"
          ]
        },
        {
          "output_type": "stream",
          "name": "stderr",
          "text": [
            "100%|██████████| 4/4 [00:02<00:00,  1.62it/s]\n"
          ]
        },
        {
          "output_type": "stream",
          "name": "stdout",
          "text": [
            "Train loss: 13.403544184836475 Train accuracy 0.4827586179599166 Train top 5 accuracy 0.601097174835476\n"
          ]
        },
        {
          "output_type": "stream",
          "name": "stderr",
          "text": [
            "100%|██████████| 2/2 [00:01<00:00,  1.58it/s]\n"
          ]
        },
        {
          "output_type": "stream",
          "name": "stdout",
          "text": [
            "Valid loss: 3.5743068646300924 Valid accuracy 0.35907090743156994 Valid top 5 accuracy 0.5227640076455745\n",
            "Accuracy didn't improve from: 0.36292613653296774\n",
            "Epoch: 49/100\n"
          ]
        },
        {
          "output_type": "stream",
          "name": "stderr",
          "text": [
            "100%|██████████| 4/4 [00:02<00:00,  1.57it/s]\n"
          ]
        },
        {
          "output_type": "stream",
          "name": "stdout",
          "text": [
            "Train loss: 13.114095695994116 Train accuracy 0.487460817549039 Train top 5 accuracy 0.6007053230635144\n"
          ]
        },
        {
          "output_type": "stream",
          "name": "stderr",
          "text": [
            "100%|██████████| 2/2 [00:00<00:00,  2.17it/s]\n"
          ]
        },
        {
          "output_type": "stream",
          "name": "stdout",
          "text": [
            "Valid loss: 3.5857600908387792 Valid accuracy 0.35924846424975176 Valid top 5 accuracy 0.5227640076455745\n",
            "Accuracy didn't improve from: 0.36292613653296774\n",
            "Epoch: 50/100\n"
          ]
        },
        {
          "output_type": "stream",
          "name": "stderr",
          "text": [
            "100%|██████████| 4/4 [00:02<00:00,  1.57it/s]\n"
          ]
        },
        {
          "output_type": "stream",
          "name": "stdout",
          "text": [
            "Train loss: 12.858502087267963 Train accuracy 0.49098745911297476 Train top 5 accuracy 0.6018808783793991\n"
          ]
        },
        {
          "output_type": "stream",
          "name": "stderr",
          "text": [
            "100%|██████████| 2/2 [00:01<00:00,  1.58it/s]\n"
          ]
        },
        {
          "output_type": "stream",
          "name": "stdout",
          "text": [
            "Valid loss: 3.5979277098720726 Valid accuracy 0.35782800970429723 Valid top 5 accuracy 0.5232762689278885\n",
            "Accuracy didn't improve from: 0.36292613653296774\n",
            "Epoch: 51/100\n"
          ]
        },
        {
          "output_type": "stream",
          "name": "stderr",
          "text": [
            "100%|██████████| 4/4 [00:02<00:00,  1.64it/s]\n"
          ]
        },
        {
          "output_type": "stream",
          "name": "stdout",
          "text": [
            "Train loss: 12.669769284400074 Train accuracy 0.49098745369437063 Train top 5 accuracy 0.6026645710861142\n"
          ]
        },
        {
          "output_type": "stream",
          "name": "stderr",
          "text": [
            "100%|██████████| 2/2 [00:01<00:00,  1.58it/s]\n"
          ]
        },
        {
          "output_type": "stream",
          "name": "stdout",
          "text": [
            "Valid loss: 3.6061925061724405 Valid accuracy 0.360115840353749 Valid top 5 accuracy 0.5269641449505632\n",
            "Accuracy didn't improve from: 0.36292613653296774\n",
            "Epoch: 52/100\n"
          ]
        },
        {
          "output_type": "stream",
          "name": "stderr",
          "text": [
            "100%|██████████| 4/4 [00:02<00:00,  1.57it/s]\n"
          ]
        },
        {
          "output_type": "stream",
          "name": "stdout",
          "text": [
            "Train loss: 12.619772014292804 Train accuracy 0.49216301239688287 Train top 5 accuracy 0.6057993744245984\n"
          ]
        },
        {
          "output_type": "stream",
          "name": "stderr",
          "text": [
            "100%|██████████| 2/2 [00:01<00:00,  1.58it/s]\n"
          ]
        },
        {
          "output_type": "stream",
          "name": "stdout",
          "text": [
            "Valid loss: 3.6179894534024326 Valid accuracy 0.3618301838975061 Valid top 5 accuracy 0.529754031280225\n",
            "Accuracy didn't improve from: 0.36292613653296774\n",
            "Epoch: 53/100\n"
          ]
        },
        {
          "output_type": "stream",
          "name": "stderr",
          "text": [
            "100%|██████████| 4/4 [00:02<00:00,  1.67it/s]\n"
          ]
        },
        {
          "output_type": "stream",
          "name": "stdout",
          "text": [
            "Train loss: 12.44069708477367 Train accuracy 0.4937304133887995 Train top 5 accuracy 0.606191220777956\n"
          ]
        },
        {
          "output_type": "stream",
          "name": "stderr",
          "text": [
            "100%|██████████| 2/2 [00:01<00:00,  1.58it/s]\n"
          ]
        },
        {
          "output_type": "stream",
          "name": "stdout",
          "text": [
            "Valid loss: 3.6347846483642403 Valid accuracy 0.3616730362515558 Valid top 5 accuracy 0.5301193481480534\n",
            "Accuracy didn't improve from: 0.36292613653296774\n",
            "Epoch: 54/100\n"
          ]
        },
        {
          "output_type": "stream",
          "name": "stderr",
          "text": [
            "100%|██████████| 4/4 [00:02<00:00,  1.64it/s]\n"
          ]
        },
        {
          "output_type": "stream",
          "name": "stdout",
          "text": [
            "Train loss: 12.04798177968372 Train accuracy 0.49921630026603286 Train top 5 accuracy 0.6046238245273178\n"
          ]
        },
        {
          "output_type": "stream",
          "name": "stderr",
          "text": [
            "100%|██████████| 2/2 [00:00<00:00,  2.14it/s]\n"
          ]
        },
        {
          "output_type": "stream",
          "name": "stdout",
          "text": [
            "Valid loss: 3.6531365269964393 Valid accuracy 0.36924674920737743 Valid top 5 accuracy 0.5271212939511646\n",
            "Saving best model wieghts, Accuracy: 0.36924674920737743\n",
            "Epoch: 55/100\n"
          ]
        },
        {
          "output_type": "stream",
          "name": "stderr",
          "text": [
            "100%|██████████| 4/4 [00:02<00:00,  1.63it/s]\n"
          ]
        },
        {
          "output_type": "stream",
          "name": "stdout",
          "text": [
            "Train loss: 11.90001454949379 Train accuracy 0.4968652036887678 Train top 5 accuracy 0.6022727247327566\n"
          ]
        },
        {
          "output_type": "stream",
          "name": "stderr",
          "text": [
            "100%|██████████| 2/2 [00:00<00:00,  2.11it/s]\n"
          ]
        },
        {
          "output_type": "stream",
          "name": "stdout",
          "text": [
            "Valid loss: 3.649904317476533 Valid accuracy 0.3782205149870027 Valid top 5 accuracy 0.5297642356970094\n",
            "Saving best model wieghts, Accuracy: 0.3782205149870027\n",
            "Epoch: 56/100\n"
          ]
        },
        {
          "output_type": "stream",
          "name": "stderr",
          "text": [
            "100%|██████████| 4/4 [00:02<00:00,  1.57it/s]\n"
          ]
        },
        {
          "output_type": "stream",
          "name": "stdout",
          "text": [
            "Train loss: 12.045732369477099 Train accuracy 0.48628526587377896 Train top 5 accuracy 0.5991379268128764\n"
          ]
        },
        {
          "output_type": "stream",
          "name": "stderr",
          "text": [
            "100%|██████████| 2/2 [00:01<00:00,  1.58it/s]\n"
          ]
        },
        {
          "output_type": "stream",
          "name": "stdout",
          "text": [
            "Valid loss: 3.6674128676002677 Valid accuracy 0.38065529022027145 Valid top 5 accuracy 0.5276641676371748\n",
            "Saving best model wieghts, Accuracy: 0.38065529022027145\n",
            "Epoch: 57/100\n"
          ]
        },
        {
          "output_type": "stream",
          "name": "stderr",
          "text": [
            "100%|██████████| 4/4 [00:02<00:00,  1.57it/s]\n"
          ]
        },
        {
          "output_type": "stream",
          "name": "stdout",
          "text": [
            "Train loss: 11.952924015847119 Train accuracy 0.4819749180566181 Train top 5 accuracy 0.5967868351462212\n"
          ]
        },
        {
          "output_type": "stream",
          "name": "stderr",
          "text": [
            "100%|██████████| 2/2 [00:01<00:00,  1.58it/s]\n"
          ]
        },
        {
          "output_type": "stream",
          "name": "stdout",
          "text": [
            "Valid loss: 3.678961130705747 Valid accuracy 0.38259820927950466 Valid top 5 accuracy 0.5289070653644475\n",
            "Saving best model wieghts, Accuracy: 0.38259820927950466\n",
            "Epoch: 58/100\n"
          ]
        },
        {
          "output_type": "stream",
          "name": "stderr",
          "text": [
            "100%|██████████| 4/4 [00:02<00:00,  1.63it/s]\n"
          ]
        },
        {
          "output_type": "stream",
          "name": "stdout",
          "text": [
            "Train loss: 11.441142472353848 Train accuracy 0.49451410880481655 Train top 5 accuracy 0.6022727247327566\n"
          ]
        },
        {
          "output_type": "stream",
          "name": "stderr",
          "text": [
            "100%|██████████| 2/2 [00:01<00:00,  1.58it/s]\n"
          ]
        },
        {
          "output_type": "stream",
          "name": "stdout",
          "text": [
            "Valid loss: 3.696286300366575 Valid accuracy 0.3755979775027795 Valid top 5 accuracy 0.528207042677836\n",
            "Accuracy didn't improve from: 0.38259820927950466\n",
            "Epoch: 59/100\n"
          ]
        },
        {
          "output_type": "stream",
          "name": "stderr",
          "text": [
            "100%|██████████| 4/4 [00:02<00:00,  1.57it/s]\n"
          ]
        },
        {
          "output_type": "stream",
          "name": "stdout",
          "text": [
            "Train loss: 11.231760217384858 Train accuracy 0.4992163029753349 Train top 5 accuracy 0.6042319727553562\n"
          ]
        },
        {
          "output_type": "stream",
          "name": "stderr",
          "text": [
            "100%|██████████| 2/2 [00:01<00:00,  1.57it/s]\n"
          ]
        },
        {
          "output_type": "stream",
          "name": "stdout",
          "text": [
            "Valid loss: 3.70007542588494 Valid accuracy 0.3764551505446434 Valid top 5 accuracy 0.5296172939918258\n",
            "Accuracy didn't improve from: 0.38259820927950466\n",
            "Epoch: 60/100\n"
          ]
        },
        {
          "output_type": "stream",
          "name": "stderr",
          "text": [
            "100%|██████████| 4/4 [00:02<00:00,  1.68it/s]\n"
          ]
        },
        {
          "output_type": "stream",
          "name": "stdout",
          "text": [
            "Train loss: 11.154432862997055 Train accuracy 0.49882445188069885 Train top 5 accuracy 0.6046238245273178\n"
          ]
        },
        {
          "output_type": "stream",
          "name": "stderr",
          "text": [
            "100%|██████████| 2/2 [00:00<00:00,  2.15it/s]\n"
          ]
        },
        {
          "output_type": "stream",
          "name": "stdout",
          "text": [
            "Valid loss: 3.7146417512135073 Valid accuracy 0.3785960349169644 Valid top 5 accuracy 0.5319255312735384\n",
            "Accuracy didn't improve from: 0.38259820927950466\n",
            "Epoch: 61/100\n"
          ]
        },
        {
          "output_type": "stream",
          "name": "stderr",
          "text": [
            "100%|██████████| 4/4 [00:02<00:00,  1.70it/s]\n"
          ]
        },
        {
          "output_type": "stream",
          "name": "stdout",
          "text": [
            "Train loss: 11.048364516008984 Train accuracy 0.4937304064462131 Train top 5 accuracy 0.6030564282766797\n"
          ]
        },
        {
          "output_type": "stream",
          "name": "stderr",
          "text": [
            "100%|██████████| 2/2 [00:01<00:00,  1.58it/s]\n"
          ]
        },
        {
          "output_type": "stream",
          "name": "stdout",
          "text": [
            "Valid loss: 3.7301454923369666 Valid accuracy 0.37980832159519196 Valid top 5 accuracy 0.5336602811108936\n",
            "Accuracy didn't improve from: 0.38259820927950466\n",
            "Epoch: 62/100\n"
          ]
        },
        {
          "output_type": "stream",
          "name": "stderr",
          "text": [
            "100%|██████████| 4/4 [00:02<00:00,  1.64it/s]\n"
          ]
        },
        {
          "output_type": "stream",
          "name": "stdout",
          "text": [
            "Train loss: 10.809601522304796 Train accuracy 0.49882445780729706 Train top 5 accuracy 0.6022727301513607\n"
          ]
        },
        {
          "output_type": "stream",
          "name": "stderr",
          "text": [
            "100%|██████████| 2/2 [00:00<00:00,  2.16it/s]\n"
          ]
        },
        {
          "output_type": "stream",
          "name": "stdout",
          "text": [
            "Valid loss: 3.7512243674560026 Valid accuracy 0.3796001523733139 Valid top 5 accuracy 0.532072475688024\n",
            "Accuracy didn't improve from: 0.38259820927950466\n",
            "Epoch: 63/100\n"
          ]
        },
        {
          "output_type": "stream",
          "name": "stderr",
          "text": [
            "100%|██████████| 4/4 [00:05<00:00,  1.28s/it]\n"
          ]
        },
        {
          "output_type": "stream",
          "name": "stdout",
          "text": [
            "Train loss: 10.871701793237166 Train accuracy 0.5023510974239219 Train top 5 accuracy 0.6010971775447781\n"
          ]
        },
        {
          "output_type": "stream",
          "name": "stderr",
          "text": [
            "100%|██████████| 2/2 [00:01<00:00,  1.88it/s]\n"
          ]
        },
        {
          "output_type": "stream",
          "name": "stdout",
          "text": [
            "Valid loss: 3.7856725603342056 Valid accuracy 0.3730815671045672 Valid top 5 accuracy 0.5248436677184972\n",
            "Accuracy didn't improve from: 0.38259820927950466\n",
            "Epoch: 64/100\n"
          ]
        },
        {
          "output_type": "stream",
          "name": "stderr",
          "text": [
            "100%|██████████| 4/4 [00:02<00:00,  1.73it/s]\n"
          ]
        },
        {
          "output_type": "stream",
          "name": "stdout",
          "text": [
            "Train loss: 10.98244553127072 Train accuracy 0.5019592510705645 Train top 5 accuracy 0.6022727274420586\n"
          ]
        },
        {
          "output_type": "stream",
          "name": "stderr",
          "text": [
            "100%|██████████| 2/2 [00:00<00:00,  2.12it/s]\n"
          ]
        },
        {
          "output_type": "stream",
          "name": "stdout",
          "text": [
            "Valid loss: 3.8478255475109275 Valid accuracy 0.35988726145164535 Valid top 5 accuracy 0.5195475784553722\n",
            "Accuracy didn't improve from: 0.38259820927950466\n",
            "Epoch: 65/100\n"
          ]
        },
        {
          "output_type": "stream",
          "name": "stderr",
          "text": [
            "100%|██████████| 4/4 [00:02<00:00,  1.57it/s]\n"
          ]
        },
        {
          "output_type": "stream",
          "name": "stdout",
          "text": [
            "Train loss: 10.683176781643521 Train accuracy 0.516457679935477 Train top 5 accuracy 0.6054075226526369\n"
          ]
        },
        {
          "output_type": "stream",
          "name": "stderr",
          "text": [
            "100%|██████████| 2/2 [00:01<00:00,  1.57it/s]\n"
          ]
        },
        {
          "output_type": "stream",
          "name": "stdout",
          "text": [
            "Valid loss: 3.888994578610767 Valid accuracy 0.3548197480426593 Valid top 5 accuracy 0.5183454990725626\n",
            "Accuracy didn't improve from: 0.38259820927950466\n",
            "Epoch: 66/100\n"
          ]
        },
        {
          "output_type": "stream",
          "name": "stderr",
          "text": [
            "100%|██████████| 4/4 [00:02<00:00,  1.57it/s]\n"
          ]
        },
        {
          "output_type": "stream",
          "name": "stdout",
          "text": [
            "Train loss: 10.263721219517969 Train accuracy 0.51528213232417 Train top 5 accuracy 0.606191220777956\n"
          ]
        },
        {
          "output_type": "stream",
          "name": "stderr",
          "text": [
            "100%|██████████| 2/2 [00:01<00:00,  1.57it/s]\n"
          ]
        },
        {
          "output_type": "stream",
          "name": "stdout",
          "text": [
            "Valid loss: 3.8415876803073017 Valid accuracy 0.3694447170604359 Valid top 5 accuracy 0.5281968382610516\n",
            "Accuracy didn't improve from: 0.38259820927950466\n",
            "Epoch: 67/100\n"
          ]
        },
        {
          "output_type": "stream",
          "name": "stderr",
          "text": [
            "100%|██████████| 4/4 [00:02<00:00,  1.57it/s]\n"
          ]
        },
        {
          "output_type": "stream",
          "name": "stdout",
          "text": [
            "Train loss: 9.972224628383463 Train accuracy 0.5078369892964308 Train top 5 accuracy 0.6042319727553562\n"
          ]
        },
        {
          "output_type": "stream",
          "name": "stderr",
          "text": [
            "100%|██████████| 2/2 [00:00<00:00,  2.17it/s]\n"
          ]
        },
        {
          "output_type": "stream",
          "name": "stdout",
          "text": [
            "Valid loss: 3.813882224939086 Valid accuracy 0.3836635488339446 Valid top 5 accuracy 0.533137817951766\n",
            "Saving best model wieghts, Accuracy: 0.3836635488339446\n",
            "Epoch: 68/100\n"
          ]
        },
        {
          "output_type": "stream",
          "name": "stderr",
          "text": [
            "100%|██████████| 4/4 [00:02<00:00,  1.60it/s]\n"
          ]
        },
        {
          "output_type": "stream",
          "name": "stdout",
          "text": [
            "Train loss: 10.072528847239234 Train accuracy 0.49804075189273467 Train top 5 accuracy 0.6022727247327566\n"
          ]
        },
        {
          "output_type": "stream",
          "name": "stderr",
          "text": [
            "100%|██████████| 2/2 [00:01<00:00,  1.58it/s]\n"
          ]
        },
        {
          "output_type": "stream",
          "name": "stdout",
          "text": [
            "Valid loss: 3.844891220331192 Valid accuracy 0.3780939770354466 Valid top 5 accuracy 0.5322500326755372\n",
            "Accuracy didn't improve from: 0.3836635488339446\n",
            "Epoch: 69/100\n"
          ]
        },
        {
          "output_type": "stream",
          "name": "stderr",
          "text": [
            "100%|██████████| 4/4 [00:02<00:00,  1.57it/s]\n"
          ]
        },
        {
          "output_type": "stream",
          "name": "stdout",
          "text": [
            "Train loss: 10.00125553933057 Train accuracy 0.49725705690004607 Train top 5 accuracy 0.6014890266074375\n"
          ]
        },
        {
          "output_type": "stream",
          "name": "stderr",
          "text": [
            "100%|██████████| 2/2 [00:00<00:00,  2.14it/s]\n"
          ]
        },
        {
          "output_type": "stream",
          "name": "stdout",
          "text": [
            "Valid loss: 3.861795524304563 Valid accuracy 0.37896135330877523 Valid top 5 accuracy 0.5299724076281894\n",
            "Accuracy didn't improve from: 0.3836635488339446\n",
            "Epoch: 70/100\n"
          ]
        },
        {
          "output_type": "stream",
          "name": "stderr",
          "text": [
            "100%|██████████| 4/4 [00:02<00:00,  1.57it/s]\n"
          ]
        },
        {
          "output_type": "stream",
          "name": "stdout",
          "text": [
            "Train loss: 9.751767483624546 Train accuracy 0.5097962377423589 Train top 5 accuracy 0.6042319673367522\n"
          ]
        },
        {
          "output_type": "stream",
          "name": "stderr",
          "text": [
            "100%|██████████| 2/2 [00:01<00:00,  1.57it/s]\n"
          ]
        },
        {
          "output_type": "stream",
          "name": "stdout",
          "text": [
            "Valid loss: 3.864120505072854 Valid accuracy 0.3803001765839078 Valid top 5 accuracy 0.5292417698285796\n",
            "Accuracy didn't improve from: 0.3836635488339446\n",
            "Epoch: 71/100\n"
          ]
        },
        {
          "output_type": "stream",
          "name": "stderr",
          "text": [
            "100%|██████████| 4/4 [00:02<00:00,  1.60it/s]\n"
          ]
        },
        {
          "output_type": "stream",
          "name": "stdout",
          "text": [
            "Train loss: 9.738418665799228 Train accuracy 0.5109717849303376 Train top 5 accuracy 0.6046238191087138\n"
          ]
        },
        {
          "output_type": "stream",
          "name": "stderr",
          "text": [
            "100%|██████████| 2/2 [00:01<00:00,  1.58it/s]\n"
          ]
        },
        {
          "output_type": "stream",
          "name": "stdout",
          "text": [
            "Valid loss: 3.913272598927671 Valid accuracy 0.37474080530757253 Valid top 5 accuracy 0.5250518410043283\n",
            "Accuracy didn't improve from: 0.3836635488339446\n",
            "Epoch: 72/100\n"
          ]
        },
        {
          "output_type": "stream",
          "name": "stderr",
          "text": [
            "100%|██████████| 4/4 [00:02<00:00,  1.57it/s]\n"
          ]
        },
        {
          "output_type": "stream",
          "name": "stdout",
          "text": [
            "Train loss: 10.464954116127707 Train accuracy 0.49294670366428117 Train top 5 accuracy 0.6007053257728164\n"
          ]
        },
        {
          "output_type": "stream",
          "name": "stderr",
          "text": [
            "100%|██████████| 2/2 [00:00<00:00,  2.14it/s]\n"
          ]
        },
        {
          "output_type": "stream",
          "name": "stdout",
          "text": [
            "Valid loss: 3.984513521194458 Valid accuracy 0.3649608968672427 Valid top 5 accuracy 0.5213843726299026\n",
            "Accuracy didn't improve from: 0.3836635488339446\n",
            "Epoch: 73/100\n"
          ]
        },
        {
          "output_type": "stream",
          "name": "stderr",
          "text": [
            "100%|██████████| 4/4 [00:02<00:00,  1.57it/s]\n"
          ]
        },
        {
          "output_type": "stream",
          "name": "stdout",
          "text": [
            "Train loss: 9.83792322467674 Train accuracy 0.4984326007013971 Train top 5 accuracy 0.6014890293167396\n"
          ]
        },
        {
          "output_type": "stream",
          "name": "stderr",
          "text": [
            "100%|██████████| 2/2 [00:00<00:00,  2.14it/s]\n"
          ]
        },
        {
          "output_type": "stream",
          "name": "stdout",
          "text": [
            "Valid loss: 3.9128951796076517 Valid accuracy 0.3864942506294359 Valid top 5 accuracy 0.5331480235538699\n",
            "Saving best model wieghts, Accuracy: 0.3864942506294359\n",
            "Epoch: 74/100\n"
          ]
        },
        {
          "output_type": "stream",
          "name": "stderr",
          "text": [
            "100%|██████████| 4/4 [00:02<00:00,  1.57it/s]\n"
          ]
        },
        {
          "output_type": "stream",
          "name": "stdout",
          "text": [
            "Train loss: 9.277890411290256 Train accuracy 0.5101880868050185 Train top 5 accuracy 0.6034482800486413\n"
          ]
        },
        {
          "output_type": "stream",
          "name": "stderr",
          "text": [
            "100%|██████████| 2/2 [00:01<00:00,  1.57it/s]\n"
          ]
        },
        {
          "output_type": "stream",
          "name": "stdout",
          "text": [
            "Valid loss: 3.894424992528829 Valid accuracy 0.3885535071180625 Valid top 5 accuracy 0.5339847860688512\n",
            "Saving best model wieghts, Accuracy: 0.3885535071180625\n",
            "Epoch: 75/100\n"
          ]
        },
        {
          "output_type": "stream",
          "name": "stderr",
          "text": [
            "100%|██████████| 4/4 [00:02<00:00,  1.59it/s]\n"
          ]
        },
        {
          "output_type": "stream",
          "name": "stdout",
          "text": [
            "Train loss: 9.175298016179692 Train accuracy 0.5180250788954172 Train top 5 accuracy 0.6061912153593518\n"
          ]
        },
        {
          "output_type": "stream",
          "name": "stderr",
          "text": [
            "100%|██████████| 2/2 [00:00<00:00,  2.10it/s]\n"
          ]
        },
        {
          "output_type": "stream",
          "name": "stdout",
          "text": [
            "Valid loss: 3.913397967815399 Valid accuracy 0.3769368001005866 Valid top 5 accuracy 0.5301193505186926\n",
            "Accuracy didn't improve from: 0.3885535071180625\n",
            "Epoch: 76/100\n"
          ]
        },
        {
          "output_type": "stream",
          "name": "stderr",
          "text": [
            "100%|██████████| 4/4 [00:02<00:00,  1.57it/s]\n"
          ]
        },
        {
          "output_type": "stream",
          "name": "stdout",
          "text": [
            "Train loss: 9.11205614154989 Train accuracy 0.5215517146174203 Train top 5 accuracy 0.6065830671313134\n"
          ]
        },
        {
          "output_type": "stream",
          "name": "stderr",
          "text": [
            "100%|██████████| 2/2 [00:01<00:00,  1.57it/s]\n"
          ]
        },
        {
          "output_type": "stream",
          "name": "stdout",
          "text": [
            "Valid loss: 3.960405310446566 Valid accuracy 0.3678467043421485 Valid top 5 accuracy 0.5273192599415779\n",
            "Accuracy didn't improve from: 0.3885535071180625\n",
            "Epoch: 77/100\n"
          ]
        },
        {
          "output_type": "stream",
          "name": "stderr",
          "text": [
            "100%|██████████| 4/4 [00:05<00:00,  1.28s/it]\n"
          ]
        },
        {
          "output_type": "stream",
          "name": "stdout",
          "text": [
            "Train loss: 8.946151368997313 Train accuracy 0.5239028229632161 Train top 5 accuracy 0.6061912153593518\n"
          ]
        },
        {
          "output_type": "stream",
          "name": "stderr",
          "text": [
            "100%|██████████| 2/2 [00:01<00:00,  1.58it/s]\n"
          ]
        },
        {
          "output_type": "stream",
          "name": "stdout",
          "text": [
            "Valid loss: 3.983535872264342 Valid accuracy 0.36906919357451523 Valid top 5 accuracy 0.5272988509386778\n",
            "Accuracy didn't improve from: 0.3885535071180625\n",
            "Epoch: 78/100\n"
          ]
        },
        {
          "output_type": "stream",
          "name": "stderr",
          "text": [
            "100%|██████████| 4/4 [00:02<00:00,  1.63it/s]\n"
          ]
        },
        {
          "output_type": "stream",
          "name": "stdout",
          "text": [
            "Train loss: 9.01210026984865 Train accuracy 0.5195924778553572 Train top 5 accuracy 0.6034482719207351\n"
          ]
        },
        {
          "output_type": "stream",
          "name": "stderr",
          "text": [
            "100%|██████████| 2/2 [00:01<00:00,  1.58it/s]\n"
          ]
        },
        {
          "output_type": "stream",
          "name": "stdout",
          "text": [
            "Valid loss: 4.019526633349332 Valid accuracy 0.3603648299520666 Valid top 5 accuracy 0.5225660443644632\n",
            "Accuracy didn't improve from: 0.3885535071180625\n",
            "Epoch: 79/100\n"
          ]
        },
        {
          "output_type": "stream",
          "name": "stderr",
          "text": [
            "100%|██████████| 4/4 [00:02<00:00,  1.56it/s]\n"
          ]
        },
        {
          "output_type": "stream",
          "name": "stdout",
          "text": [
            "Train loss: 9.4097366576845 Train accuracy 0.5066614479503848 Train top 5 accuracy 0.6007053230635144\n"
          ]
        },
        {
          "output_type": "stream",
          "name": "stderr",
          "text": [
            "100%|██████████| 2/2 [00:01<00:00,  1.57it/s]\n"
          ]
        },
        {
          "output_type": "stream",
          "name": "stdout",
          "text": [
            "Valid loss: 4.028821840882301 Valid accuracy 0.37297544442117214 Valid top 5 accuracy 0.5269743456420574\n",
            "Accuracy didn't improve from: 0.3885535071180625\n",
            "Epoch: 80/100\n"
          ]
        },
        {
          "output_type": "stream",
          "name": "stderr",
          "text": [
            "100%|██████████| 4/4 [00:02<00:00,  1.53it/s]\n"
          ]
        },
        {
          "output_type": "stream",
          "name": "stdout",
          "text": [
            "Train loss: 8.592238530516624 Train accuracy 0.515673987228762 Train top 5 accuracy 0.6038401236926968\n"
          ]
        },
        {
          "output_type": "stream",
          "name": "stderr",
          "text": [
            "100%|██████████| 2/2 [00:01<00:00,  1.58it/s]\n"
          ]
        },
        {
          "output_type": "stream",
          "name": "stdout",
          "text": [
            "Valid loss: 3.98055598275228 Valid accuracy 0.3862656762992794 Valid top 5 accuracy 0.5332847555929964\n",
            "Accuracy didn't improve from: 0.3885535071180625\n",
            "Epoch: 81/100\n"
          ]
        },
        {
          "output_type": "stream",
          "name": "stderr",
          "text": [
            "100%|██████████| 4/4 [00:02<00:00,  1.57it/s]\n"
          ]
        },
        {
          "output_type": "stream",
          "name": "stdout",
          "text": [
            "Train loss: 8.525850472125141 Train accuracy 0.5172413780607961 Train top 5 accuracy 0.6050156708806753\n"
          ]
        },
        {
          "output_type": "stream",
          "name": "stderr",
          "text": [
            "100%|██████████| 2/2 [00:01<00:00,  1.58it/s]\n"
          ]
        },
        {
          "output_type": "stream",
          "name": "stdout",
          "text": [
            "Valid loss: 3.988068707964637 Valid accuracy 0.3856268799440427 Valid top 5 accuracy 0.5364807811989025\n",
            "Accuracy didn't improve from: 0.3885535071180625\n",
            "Epoch: 82/100\n"
          ]
        },
        {
          "output_type": "stream",
          "name": "stderr",
          "text": [
            "100%|██████████| 4/4 [00:02<00:00,  1.63it/s]\n"
          ]
        },
        {
          "output_type": "stream",
          "name": "stdout",
          "text": [
            "Train loss: 8.601889393546365 Train accuracy 0.5074451352384958 Train top 5 accuracy 0.6034482722593979\n"
          ]
        },
        {
          "output_type": "stream",
          "name": "stderr",
          "text": [
            "100%|██████████| 2/2 [00:01<00:00,  1.58it/s]\n"
          ]
        },
        {
          "output_type": "stream",
          "name": "stdout",
          "text": [
            "Valid loss: 4.007869937203147 Valid accuracy 0.38565749099308794 Valid top 5 accuracy 0.5363134289668365\n",
            "Accuracy didn't improve from: 0.3885535071180625\n",
            "Epoch: 83/100\n"
          ]
        },
        {
          "output_type": "stream",
          "name": "stderr",
          "text": [
            "100%|██████████| 4/4 [00:02<00:00,  1.62it/s]\n"
          ]
        },
        {
          "output_type": "stream",
          "name": "stdout",
          "text": [
            "Train loss: 8.416370162909681 Train accuracy 0.5090125314891338 Train top 5 accuracy 0.6038401213220574\n"
          ]
        },
        {
          "output_type": "stream",
          "name": "stderr",
          "text": [
            "100%|██████████| 2/2 [00:01<00:00,  1.58it/s]\n"
          ]
        },
        {
          "output_type": "stream",
          "name": "stdout",
          "text": [
            "Valid loss: 4.022736409848386 Valid accuracy 0.3845717392184518 Valid top 5 accuracy 0.5345378618010066\n",
            "Accuracy didn't improve from: 0.3885535071180625\n",
            "Epoch: 84/100\n"
          ]
        },
        {
          "output_type": "stream",
          "name": "stderr",
          "text": [
            "100%|██████████| 4/4 [00:02<00:00,  1.57it/s]\n"
          ]
        },
        {
          "output_type": "stream",
          "name": "stdout",
          "text": [
            "Train loss: 8.336237762462009 Train accuracy 0.5160658254542134 Train top 5 accuracy 0.6038401159034534\n"
          ]
        },
        {
          "output_type": "stream",
          "name": "stderr",
          "text": [
            "100%|██████████| 2/2 [00:00<00:00,  2.13it/s]\n"
          ]
        },
        {
          "output_type": "stream",
          "name": "stdout",
          "text": [
            "Valid loss: 4.038700221614405 Valid accuracy 0.38174103505232115 Valid top 5 accuracy 0.5306418165564537\n",
            "Accuracy didn't improve from: 0.3885535071180625\n",
            "model didn't improve for 10 epochs----> lower learning rate to 4.000000000000001e-06\n",
            "Epoch: 85/100\n"
          ]
        },
        {
          "output_type": "stream",
          "name": "stderr",
          "text": [
            "100%|██████████| 4/4 [00:06<00:00,  1.66s/it]\n"
          ]
        },
        {
          "output_type": "stream",
          "name": "stdout",
          "text": [
            "Train loss: 8.008845462040467 Train accuracy 0.5289968607777898 Train top 5 accuracy 0.6061912156980146\n"
          ]
        },
        {
          "output_type": "stream",
          "name": "stderr",
          "text": [
            "100%|██████████| 2/2 [00:03<00:00,  1.92s/it]\n"
          ]
        },
        {
          "output_type": "stream",
          "name": "stdout",
          "text": [
            "Valid loss: 4.050156918438998 Valid accuracy 0.38176144540987234 Valid top 5 accuracy 0.5343603065068071\n",
            "Accuracy didn't improve from: 0.3885535071180625\n",
            "Epoch: 86/100\n"
          ]
        },
        {
          "output_type": "stream",
          "name": "stderr",
          "text": [
            "100%|██████████| 4/4 [00:02<00:00,  1.57it/s]\n"
          ]
        },
        {
          "output_type": "stream",
          "name": "stdout",
          "text": [
            "Train loss: 7.950372118841518 Train accuracy 0.5289968607777898 Train top 5 accuracy 0.6061912156980146\n"
          ]
        },
        {
          "output_type": "stream",
          "name": "stderr",
          "text": [
            "100%|██████████| 2/2 [00:01<00:00,  1.58it/s]\n"
          ]
        },
        {
          "output_type": "stream",
          "name": "stdout",
          "text": [
            "Valid loss: 4.056256126273762 Valid accuracy 0.38193900222805416 Valid top 5 accuracy 0.534537863324989\n",
            "Accuracy didn't improve from: 0.3885535071180625\n",
            "Epoch: 87/100\n"
          ]
        },
        {
          "output_type": "stream",
          "name": "stderr",
          "text": [
            "100%|██████████| 4/4 [00:02<00:00,  1.64it/s]\n"
          ]
        },
        {
          "output_type": "stream",
          "name": "stdout",
          "text": [
            "Train loss: 7.906582646749237 Train accuracy 0.5289968607777898 Train top 5 accuracy 0.6061912156980146\n"
          ]
        },
        {
          "output_type": "stream",
          "name": "stderr",
          "text": [
            "100%|██████████| 2/2 [00:01<00:00,  1.58it/s]\n"
          ]
        },
        {
          "output_type": "stream",
          "name": "stdout",
          "text": [
            "Valid loss: 4.052471430464224 Valid accuracy 0.38439418663355435 Valid top 5 accuracy 0.5362930223345757\n",
            "Accuracy didn't improve from: 0.3885535071180625\n",
            "Epoch: 88/100\n"
          ]
        },
        {
          "output_type": "stream",
          "name": "stderr",
          "text": [
            "100%|██████████| 4/4 [00:02<00:00,  1.57it/s]\n"
          ]
        },
        {
          "output_type": "stream",
          "name": "stdout",
          "text": [
            "Train loss: 7.869964365254749 Train accuracy 0.5289968607777898 Train top 5 accuracy 0.6065830647606741\n"
          ]
        },
        {
          "output_type": "stream",
          "name": "stderr",
          "text": [
            "100%|██████████| 2/2 [00:00<00:00,  2.14it/s]\n"
          ]
        },
        {
          "output_type": "stream",
          "name": "stdout",
          "text": [
            "Valid loss: 4.051056042313576 Valid accuracy 0.3859615855934945 Valid top 5 accuracy 0.5369930463758382\n",
            "Accuracy didn't improve from: 0.3885535071180625\n",
            "Epoch: 89/100\n"
          ]
        },
        {
          "output_type": "stream",
          "name": "stderr",
          "text": [
            "100%|██████████| 4/4 [00:02<00:00,  1.67it/s]\n"
          ]
        },
        {
          "output_type": "stream",
          "name": "stdout",
          "text": [
            "Train loss: 7.8355701836672695 Train accuracy 0.5293887125497515 Train top 5 accuracy 0.6065830647606741\n"
          ]
        },
        {
          "output_type": "stream",
          "name": "stderr",
          "text": [
            "100%|██████████| 2/2 [00:00<00:00,  2.09it/s]\n"
          ]
        },
        {
          "output_type": "stream",
          "name": "stdout",
          "text": [
            "Valid loss: 4.048237285830758 Valid accuracy 0.38788409683514724 Valid top 5 accuracy 0.5380379767580465\n",
            "Accuracy didn't improve from: 0.3885535071180625\n",
            "Epoch: 90/100\n"
          ]
        },
        {
          "output_type": "stream",
          "name": "stderr",
          "text": [
            "100%|██████████| 4/4 [00:02<00:00,  1.57it/s]\n"
          ]
        },
        {
          "output_type": "stream",
          "name": "stdout",
          "text": [
            "Train loss: 7.80309052223509 Train accuracy 0.529780564321713 Train top 5 accuracy 0.6065830647606741\n"
          ]
        },
        {
          "output_type": "stream",
          "name": "stderr",
          "text": [
            "100%|██████████| 2/2 [00:01<00:00,  1.57it/s]\n"
          ]
        },
        {
          "output_type": "stream",
          "name": "stdout",
          "text": [
            "Valid loss: 4.056262272325429 Valid accuracy 0.3868391623889858 Valid top 5 accuracy 0.5362930223345757\n",
            "Accuracy didn't improve from: 0.3885535071180625\n",
            "Epoch: 91/100\n"
          ]
        },
        {
          "output_type": "stream",
          "name": "stderr",
          "text": [
            "100%|██████████| 4/4 [00:02<00:00,  1.57it/s]\n"
          ]
        },
        {
          "output_type": "stream",
          "name": "stdout",
          "text": [
            "Train loss: 7.77212584966963 Train accuracy 0.5301724160936746 Train top 5 accuracy 0.6065830647606741\n"
          ]
        },
        {
          "output_type": "stream",
          "name": "stderr",
          "text": [
            "100%|██████████| 2/2 [00:00<00:00,  2.13it/s]\n"
          ]
        },
        {
          "output_type": "stream",
          "name": "stdout",
          "text": [
            "Valid loss: 4.062453586946834 Valid accuracy 0.38579423336142843 Valid top 5 accuracy 0.5361154655163939\n",
            "Accuracy didn't improve from: 0.3885535071180625\n",
            "Epoch: 92/100\n"
          ]
        },
        {
          "output_type": "stream",
          "name": "stderr",
          "text": [
            "100%|██████████| 4/4 [00:02<00:00,  1.62it/s]\n"
          ]
        },
        {
          "output_type": "stream",
          "name": "stdout",
          "text": [
            "Train loss: 7.742333020676266 Train accuracy 0.5301724160936746 Train top 5 accuracy 0.6065830647606741\n"
          ]
        },
        {
          "output_type": "stream",
          "name": "stderr",
          "text": [
            "100%|██████████| 2/2 [00:00<00:00,  2.14it/s]\n"
          ]
        },
        {
          "output_type": "stream",
          "name": "stdout",
          "text": [
            "Valid loss: 4.066379627043551 Valid accuracy 0.38579423336142843 Valid top 5 accuracy 0.5361154655163939\n",
            "Accuracy didn't improve from: 0.3885535071180625\n",
            "Epoch: 93/100\n"
          ]
        },
        {
          "output_type": "stream",
          "name": "stderr",
          "text": [
            "100%|██████████| 4/4 [00:02<00:00,  1.67it/s]\n"
          ]
        },
        {
          "output_type": "stream",
          "name": "stdout",
          "text": [
            "Train loss: 7.713457696817138 Train accuracy 0.5301724160936746 Train top 5 accuracy 0.6065830647606741\n"
          ]
        },
        {
          "output_type": "stream",
          "name": "stderr",
          "text": [
            "100%|██████████| 2/2 [00:00<00:00,  2.15it/s]\n"
          ]
        },
        {
          "output_type": "stream",
          "name": "stdout",
          "text": [
            "Valid loss: 4.070303916931152 Valid accuracy 0.38579423336142843 Valid top 5 accuracy 0.5355930010026152\n",
            "Accuracy didn't improve from: 0.3885535071180625\n",
            "Epoch: 94/100\n"
          ]
        },
        {
          "output_type": "stream",
          "name": "stderr",
          "text": [
            "100%|██████████| 4/4 [00:02<00:00,  1.57it/s]\n"
          ]
        },
        {
          "output_type": "stream",
          "name": "stdout",
          "text": [
            "Train loss: 7.6853063540025195 Train accuracy 0.5301724160936746 Train top 5 accuracy 0.6065830647606741\n"
          ]
        },
        {
          "output_type": "stream",
          "name": "stderr",
          "text": [
            "100%|██████████| 2/2 [00:00<00:00,  2.12it/s]\n"
          ]
        },
        {
          "output_type": "stream",
          "name": "stdout",
          "text": [
            "Valid loss: 4.0742151303724805 Valid accuracy 0.38579423336142843 Valid top 5 accuracy 0.5362930223345757\n",
            "Accuracy didn't improve from: 0.3885535071180625\n",
            "Epoch: 95/100\n"
          ]
        },
        {
          "output_type": "stream",
          "name": "stderr",
          "text": [
            "100%|██████████| 4/4 [00:02<00:00,  1.64it/s]\n"
          ]
        },
        {
          "output_type": "stream",
          "name": "stdout",
          "text": [
            "Train loss: 7.657739436084574 Train accuracy 0.5301724160936746 Train top 5 accuracy 0.6065830647606741\n"
          ]
        },
        {
          "output_type": "stream",
          "name": "stderr",
          "text": [
            "100%|██████████| 2/2 [00:01<00:00,  1.57it/s]\n"
          ]
        },
        {
          "output_type": "stream",
          "name": "stdout",
          "text": [
            "Valid loss: 4.077372773127123 Valid accuracy 0.38597179017961025 Valid top 5 accuracy 0.5364705791527574\n",
            "Accuracy didn't improve from: 0.3885535071180625\n",
            "Epoch: 96/100\n"
          ]
        },
        {
          "output_type": "stream",
          "name": "stderr",
          "text": [
            "100%|██████████| 4/4 [00:02<00:00,  1.61it/s]\n"
          ]
        },
        {
          "output_type": "stream",
          "name": "stdout",
          "text": [
            "Train loss: 7.6306510242548855 Train accuracy 0.5309561142189936 Train top 5 accuracy 0.6065830647606741\n"
          ]
        },
        {
          "output_type": "stream",
          "name": "stderr",
          "text": [
            "100%|██████████| 2/2 [00:01<00:00,  1.58it/s]\n"
          ]
        },
        {
          "output_type": "stream",
          "name": "stdout",
          "text": [
            "Valid loss: 4.080492170019583 Valid accuracy 0.3856166765432466 Valid top 5 accuracy 0.5364705791527574\n",
            "Accuracy didn't improve from: 0.3885535071180625\n",
            "Epoch: 97/100\n"
          ]
        },
        {
          "output_type": "stream",
          "name": "stderr",
          "text": [
            "100%|██████████| 4/4 [00:02<00:00,  1.66it/s]\n"
          ]
        },
        {
          "output_type": "stream",
          "name": "stdout",
          "text": [
            "Train loss: 7.603964701294899 Train accuracy 0.5313479605723511 Train top 5 accuracy 0.6065830647606741\n"
          ]
        },
        {
          "output_type": "stream",
          "name": "stderr",
          "text": [
            "100%|██████████| 2/2 [00:01<00:00,  1.57it/s]\n"
          ]
        },
        {
          "output_type": "stream",
          "name": "stdout",
          "text": [
            "Valid loss: 4.083580390973524 Valid accuracy 0.38579423336142843 Valid top 5 accuracy 0.5366481359709393\n",
            "Accuracy didn't improve from: 0.3885535071180625\n",
            "Epoch: 98/100\n"
          ]
        },
        {
          "output_type": "stream",
          "name": "stderr",
          "text": [
            "100%|██████████| 4/4 [00:02<00:00,  1.67it/s]\n"
          ]
        },
        {
          "output_type": "stream",
          "name": "stdout",
          "text": [
            "Train loss: 7.577619564804164 Train accuracy 0.5317398123443127 Train top 5 accuracy 0.6065830647606741\n"
          ]
        },
        {
          "output_type": "stream",
          "name": "stderr",
          "text": [
            "100%|██████████| 2/2 [00:00<00:00,  2.15it/s]\n"
          ]
        },
        {
          "output_type": "stream",
          "name": "stdout",
          "text": [
            "Valid loss: 4.086346909403801 Valid accuracy 0.38597179017961025 Valid top 5 accuracy 0.5364705791527574\n",
            "Accuracy didn't improve from: 0.3885535071180625\n",
            "Epoch: 99/100\n"
          ]
        },
        {
          "output_type": "stream",
          "name": "stderr",
          "text": [
            "100%|██████████| 4/4 [00:02<00:00,  1.57it/s]\n"
          ]
        },
        {
          "output_type": "stream",
          "name": "stdout",
          "text": [
            "Train loss: 7.551570357246832 Train accuracy 0.5313479605723511 Train top 5 accuracy 0.6065830647606741\n"
          ]
        },
        {
          "output_type": "stream",
          "name": "stderr",
          "text": [
            "100%|██████████| 2/2 [00:00<00:00,  2.16it/s]\n"
          ]
        },
        {
          "output_type": "stream",
          "name": "stdout",
          "text": [
            "Valid loss: 4.091054279695857 Valid accuracy 0.3854391197250648 Valid top 5 accuracy 0.5361256687478586\n",
            "Accuracy didn't improve from: 0.3885535071180625\n",
            "Epoch: 100/100\n"
          ]
        },
        {
          "output_type": "stream",
          "name": "stderr",
          "text": [
            "100%|██████████| 4/4 [00:02<00:00,  1.57it/s]\n"
          ]
        },
        {
          "output_type": "stream",
          "name": "stdout",
          "text": [
            "Train loss: 7.525784044103189 Train accuracy 0.5313479605723511 Train top 5 accuracy 0.6065830647606741\n"
          ]
        },
        {
          "output_type": "stream",
          "name": "stderr",
          "text": [
            "100%|██████████| 2/2 [00:01<00:00,  1.58it/s]"
          ]
        },
        {
          "output_type": "stream",
          "name": "stdout",
          "text": [
            "Valid loss: 4.095002458854155 Valid accuracy 0.3854391197250648 Valid top 5 accuracy 0.5361256687478586\n",
            "Accuracy didn't improve from: 0.3885535071180625\n"
          ]
        },
        {
          "output_type": "stream",
          "name": "stderr",
          "text": [
            "\n"
          ]
        }
      ]
    },
    {
      "cell_type": "code",
      "source": [
        "# build a dataframe and populate it the training history\n",
        "pd.DataFrame({'full_train_losses':full_train_losses,\n",
        "              'full_train_accs': full_train_accs,\n",
        "              'full_train_top_k_accs': full_train_top_k_accs,\n",
        "              'full_valid_losses':full_valid_losses,\n",
        "              'full_valid_accs': full_valid_accs,\n",
        "              'full_valid_top_k_accs': full_valid_top_k_accs}).to_csv('final_validation_set_train_progress_direct_case_3.csv', index=False)\n",
        "\n",
        "!mv /content/final_validation_set_train_progress_direct_case_3.csv /content/drive/MyDrive/NLP_Course"
      ],
      "metadata": {
        "id": "rT1sGyvnMyAr"
      },
      "execution_count": null,
      "outputs": []
    },
    {
      "cell_type": "markdown",
      "source": [
        "#### Prediction (Validation)"
      ],
      "metadata": {
        "id": "peUnYVjiMyAr"
      }
    },
    {
      "cell_type": "code",
      "source": [
        "# clear the session to release all previous states generated by Keras\n",
        "tf.keras.backend.clear_session()\n",
        "# instantiate and compile the model inside the strategy scope defined previous\n",
        "with strategy.scope():\n",
        "  model = encoder_decoder_model()\n",
        "  # use Sparse Categorical Cross-entropy as a loss function as labels are not one-hot encoded\n",
        "  # use AdamW optimizer initially with a weight decay of 0.0\n",
        "  # use the Sparse Categorical Accuracy and top k=5 accuracy metrics to monitor and save the best model weights\n",
        "  metrics = [tf.keras.metrics.SparseCategoricalAccuracy(),\n",
        "             tf.keras.metrics.SparseTopKCategoricalAccuracy(k=5, name='top_k_acc')]\n",
        "  model.compile(loss=tf.keras.losses.SparseCategoricalCrossentropy(from_logits=False),\n",
        "                metrics=metrics,\n",
        "                optimizer=tfa.optimizers.AdamW(learning_rate=config.LEARNING_RATE, weight_decay=0.0))\n",
        "  # load_weights of best performing model\n",
        "  model.load_weights('/content/best_full_model_weights.h5')\n",
        "    \n",
        "# iterate over the validation dataset\n",
        "for iteration, batch in enumerate(tqdm(valid_ds, total=len(valid_ds))):\n",
        "  enc_inputs, dec_inputs, labels = batch\n",
        "  # create a variable for the number of examples in the current batch\n",
        "  num_examples = len(enc_inputs)\n",
        "  # create a NumPy array to save the predictions of the previous tokens\n",
        "  # it is initialized with ones where the model will see 1 in the first \n",
        "  # pass which represents the special starting \"s\" token\n",
        "  full_sequence_preds = np.ones((num_examples, config.MAXLEN))\n",
        "  # sequencially predict the label (predicted previous token as input (Auto-Regression))\n",
        "  for i in range(config.MAXLEN):\n",
        "    # extract the current mask from the attention_masks list\n",
        "    # broadcast the mask to the shape of (num_examples, num_heads(8), max_len(17), max_len(17))\n",
        "    current_att_mask = tf.broadcast_to(tf.constant(attention_masks[i]), (num_examples, config.NUM_HEADS, config.MAXLEN, config.MAXLEN))\n",
        "    # evaluate on each batch\n",
        "    valid_results = model.test_on_batch(x=(enc_inputs, full_sequence_preds, current_att_mask), y=labels[:, -(i+1)], reset_metrics=False, return_dict=True)\n",
        "    # predict the tokens of the current position\n",
        "    preds = model.predict_on_batch(x=(enc_inputs, full_sequence_preds, current_att_mask))\n",
        "    # take the argmax value which represents the index of the highest prob character\n",
        "    current_preds = np.argmax(preds, axis=-1)\n",
        "    # populate the current position with the predicted values which will be used in the next \n",
        "    # pass as a decoder input\n",
        "    full_sequence_preds[:, -(i+1)] = current_preds\n",
        "  if iteration == 0:\n",
        "    final_full_sequence_preds = full_sequence_preds\n",
        "  else: # concatenate the preditions to form the final model predictions\n",
        "    final_full_sequence_preds = np.concatenate([final_full_sequence_preds, full_sequence_preds], axis=0)\n",
        "\n",
        "print(valid_results)"
      ],
      "metadata": {
        "colab": {
          "base_uri": "https://localhost:8080/"
        },
        "outputId": "096bbe0d-39bc-4170-97e4-105768531dea",
        "id": "6T4U0tfrMyAr"
      },
      "execution_count": null,
      "outputs": [
        {
          "output_type": "stream",
          "name": "stderr",
          "text": [
            "100%|██████████| 2/2 [00:03<00:00,  1.92s/it]"
          ]
        },
        {
          "output_type": "stream",
          "name": "stdout",
          "text": [
            "{'loss': 3.901850938796997, 'sparse_categorical_accuracy': 0.3858998119831085, 'top_k_acc': 0.5319374799728394}\n"
          ]
        },
        {
          "output_type": "stream",
          "name": "stderr",
          "text": [
            "\n"
          ]
        }
      ]
    },
    {
      "cell_type": "code",
      "source": [
        "# save the predictions as a NumPy array\n",
        "np.save('final_validation_set_prediction_direct_case_3.npy', final_full_sequence_preds)\n",
        "!mv /content/final_validation_set_prediction_direct_case_3.npy /content/drive/MyDrive/NLP_Course"
      ],
      "metadata": {
        "id": "2W8iplZiMyAs"
      },
      "execution_count": null,
      "outputs": []
    },
    {
      "cell_type": "markdown",
      "source": [
        "#### Prediction (Test)"
      ],
      "metadata": {
        "id": "ds9kY-37MyAs"
      }
    },
    {
      "cell_type": "code",
      "source": [
        "# iterate over the test dataset\n",
        "for iteration, batch in enumerate(tqdm(test_ds, total=len(test_ds))):\n",
        "  enc_inputs, dec_inputs, labels = batch\n",
        "  # create a variable for the number of examples in the current batch\n",
        "  num_examples = len(enc_inputs)\n",
        "  # create a NumPy array to save the predictions of the previous tokens\n",
        "  # it is initialized with ones where the model will see 1 in the first \n",
        "  # pass which represents the special starting \"s\" token\n",
        "  full_sequence_preds = np.ones((num_examples, config.MAXLEN))\n",
        "  # sequencially predict the label (predicted previous token as input (Auto-Regression))\n",
        "  for i in range(config.MAXLEN):\n",
        "    # extract the current mask from the attention_masks list\n",
        "    # broadcast the mask to the shape of (num_examples, num_heads(8), max_len(17), max_len(17))\n",
        "    current_att_mask = tf.broadcast_to(tf.constant(attention_masks[i]), (num_examples, config.NUM_HEADS, config.MAXLEN, config.MAXLEN))\n",
        "    # evaluate on each batch\n",
        "    test_results = model.test_on_batch(x=(enc_inputs, full_sequence_preds, current_att_mask), y=labels[:, -(i+1)], reset_metrics=False, return_dict=True)\n",
        "    # predict the tokens of the current position\n",
        "    preds = model.predict_on_batch(x=(enc_inputs, full_sequence_preds, current_att_mask))\n",
        "    # take the argmax value which represents the index of the highest prob character\n",
        "    current_preds = np.argmax(preds, axis=-1)\n",
        "    # populate the current position with the predicted values which will be used in the next \n",
        "    # pass as a decoder input\n",
        "    full_sequence_preds[:, -(i+1)] = current_preds\n",
        "  if iteration == 0:\n",
        "    final_full_sequence_preds = full_sequence_preds\n",
        "  else: # concatenate the preditions to form the final model predictions\n",
        "    final_full_sequence_preds = np.concatenate([final_full_sequence_preds, full_sequence_preds], axis=0)\n",
        "\n",
        "print(test_results)"
      ],
      "metadata": {
        "colab": {
          "base_uri": "https://localhost:8080/"
        },
        "outputId": "0d8a6ba0-345f-4aef-fb81-94781ce47fcd",
        "id": "76Akij97MyAs"
      },
      "execution_count": null,
      "outputs": [
        {
          "output_type": "stream",
          "name": "stderr",
          "text": [
            "100%|██████████| 3/3 [00:03<00:00,  1.29s/it]"
          ]
        },
        {
          "output_type": "stream",
          "name": "stdout",
          "text": [
            "{'loss': 3.9125423431396484, 'sparse_categorical_accuracy': 0.38108551502227783, 'top_k_acc': 0.5282946228981018}\n"
          ]
        },
        {
          "output_type": "stream",
          "name": "stderr",
          "text": [
            "\n"
          ]
        }
      ]
    },
    {
      "cell_type": "code",
      "source": [
        "# save the predictions as a NumPy array\n",
        "np.save('final_test_set_prediction_direct_case_3.npy', final_full_sequence_preds)\n",
        "!mv /content/final_test_set_prediction_direct_case_3.npy /content/drive/MyDrive/NLP_Course"
      ],
      "metadata": {
        "id": "rOXrBOc7MyAs"
      },
      "execution_count": null,
      "outputs": []
    },
    {
      "cell_type": "code",
      "execution_count": null,
      "metadata": {
        "id": "RfUGxOSoIu4-"
      },
      "outputs": [],
      "source": [
        ""
      ]
    }
  ],
  "metadata": {
    "colab": {
      "collapsed_sections": [],
      "name": "03 - Final CBERT Decoder.ipynb",
      "provenance": []
    },
    "gpuClass": "standard",
    "kernelspec": {
      "display_name": "Python 3 (ipykernel)",
      "language": "python",
      "name": "python3"
    },
    "language_info": {
      "codemirror_mode": {
        "name": "ipython",
        "version": 3
      },
      "file_extension": ".py",
      "mimetype": "text/x-python",
      "name": "python",
      "nbconvert_exporter": "python",
      "pygments_lexer": "ipython3",
      "version": "3.8.10"
    }
  },
  "nbformat": 4,
  "nbformat_minor": 0
}
