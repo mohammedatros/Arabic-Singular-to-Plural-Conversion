{
  "cells": [
    {
      "cell_type": "markdown",
      "metadata": {
        "id": "Rf_dUQL_lcOz"
      },
      "source": [
        "# Imports"
      ]
    },
    {
      "cell_type": "code",
      "execution_count": null,
      "metadata": {
        "colab": {
          "base_uri": "https://localhost:8080/"
        },
        "id": "tytDsTGlCs2q",
        "outputId": "ace27c6e-c7e7-43e2-f260-d9e7b29471c0"
      },
      "outputs": [
        {
          "output_type": "stream",
          "name": "stdout",
          "text": [
            "Looking in indexes: https://pypi.org/simple, https://us-python.pkg.dev/colab-wheels/public/simple/\n",
            "Collecting PyArabic\n",
            "  Downloading PyArabic-0.6.14-py3-none-any.whl (126 kB)\n",
            "\u001b[K     |████████████████████████████████| 126 kB 8.7 MB/s \n",
            "\u001b[?25hRequirement already satisfied: six>=1.14.0 in /usr/local/lib/python3.7/dist-packages (from PyArabic) (1.15.0)\n",
            "Installing collected packages: PyArabic\n",
            "Successfully installed PyArabic-0.6.14\n"
          ]
        }
      ],
      "source": [
        "# install PyArabic library for Arabic preprocessing\n",
        "!pip install PyArabic"
      ]
    },
    {
      "cell_type": "code",
      "execution_count": null,
      "metadata": {
        "colab": {
          "base_uri": "https://localhost:8080/"
        },
        "id": "tB3hTHNrc_vN",
        "outputId": "fd71a044-1c20-4118-e0c1-06a6b2a0b74e"
      },
      "outputs": [
        {
          "output_type": "stream",
          "name": "stdout",
          "text": [
            "Looking in indexes: https://pypi.org/simple, https://us-python.pkg.dev/colab-wheels/public/simple/\n",
            "Collecting tensorflow_addons\n",
            "  Downloading tensorflow_addons-0.17.0-cp37-cp37m-manylinux_2_17_x86_64.manylinux2014_x86_64.whl (1.1 MB)\n",
            "\u001b[K     |████████████████████████████████| 1.1 MB 7.0 MB/s \n",
            "\u001b[?25hRequirement already satisfied: typeguard>=2.7 in /usr/local/lib/python3.7/dist-packages (from tensorflow_addons) (2.7.1)\n",
            "Requirement already satisfied: packaging in /usr/local/lib/python3.7/dist-packages (from tensorflow_addons) (21.3)\n",
            "Requirement already satisfied: pyparsing!=3.0.5,>=2.0.2 in /usr/local/lib/python3.7/dist-packages (from packaging->tensorflow_addons) (3.0.9)\n",
            "Installing collected packages: tensorflow-addons\n",
            "Successfully installed tensorflow-addons-0.17.0\n"
          ]
        }
      ],
      "source": [
        "# install tensorflow_addons for AdamW optimizer\n",
        "!pip install tensorflow_addons"
      ]
    },
    {
      "cell_type": "code",
      "execution_count": null,
      "metadata": {
        "id": "Q6nYX2Lsfeki"
      },
      "outputs": [],
      "source": [
        "# Standard libraries imports\n",
        "import io\n",
        "import re\n",
        "import ast\n",
        "import math\n",
        "import pickle\n",
        "import requests\n",
        "import numpy as np\n",
        "import pandas as pd\n",
        "from tqdm import tqdm\n",
        "from lxml import etree\n",
        "import pyarabic.araby as araby\n",
        "\n",
        "import tensorflow as tf\n",
        "import tensorflow_addons as tfa\n",
        "from tensorflow.keras import layers"
      ]
    },
    {
      "cell_type": "code",
      "execution_count": null,
      "metadata": {
        "colab": {
          "base_uri": "https://localhost:8080/",
          "height": 363
        },
        "id": "ipxlWMCgBYSc",
        "outputId": "9a3e9f94-4dbc-4a03-c64f-bf8863485763"
      },
      "outputs": [
        {
          "output_type": "execute_result",
          "data": {
            "text/plain": [
              "  singular   plural\n",
              "0     ساحة    ساحات\n",
              "1      أمر     أمور\n",
              "2      أمة      أمم\n",
              "3     جلسة    جلسات\n",
              "4    ٱتهام  اتهامات\n",
              "5    وزارة   وزارات\n",
              "6     ملفة    ملفات\n",
              "7    مسؤول  مسؤولين\n",
              "8       خط     خطوط\n",
              "9    ولاية   ولايات"
            ],
            "text/html": [
              "\n",
              "  <div id=\"df-9c68e663-1d04-4867-9774-d364bf43bf56\">\n",
              "    <div class=\"colab-df-container\">\n",
              "      <div>\n",
              "<style scoped>\n",
              "    .dataframe tbody tr th:only-of-type {\n",
              "        vertical-align: middle;\n",
              "    }\n",
              "\n",
              "    .dataframe tbody tr th {\n",
              "        vertical-align: top;\n",
              "    }\n",
              "\n",
              "    .dataframe thead th {\n",
              "        text-align: right;\n",
              "    }\n",
              "</style>\n",
              "<table border=\"1\" class=\"dataframe\">\n",
              "  <thead>\n",
              "    <tr style=\"text-align: right;\">\n",
              "      <th></th>\n",
              "      <th>singular</th>\n",
              "      <th>plural</th>\n",
              "    </tr>\n",
              "  </thead>\n",
              "  <tbody>\n",
              "    <tr>\n",
              "      <th>0</th>\n",
              "      <td>ساحة</td>\n",
              "      <td>ساحات</td>\n",
              "    </tr>\n",
              "    <tr>\n",
              "      <th>1</th>\n",
              "      <td>أمر</td>\n",
              "      <td>أمور</td>\n",
              "    </tr>\n",
              "    <tr>\n",
              "      <th>2</th>\n",
              "      <td>أمة</td>\n",
              "      <td>أمم</td>\n",
              "    </tr>\n",
              "    <tr>\n",
              "      <th>3</th>\n",
              "      <td>جلسة</td>\n",
              "      <td>جلسات</td>\n",
              "    </tr>\n",
              "    <tr>\n",
              "      <th>4</th>\n",
              "      <td>ٱتهام</td>\n",
              "      <td>اتهامات</td>\n",
              "    </tr>\n",
              "    <tr>\n",
              "      <th>5</th>\n",
              "      <td>وزارة</td>\n",
              "      <td>وزارات</td>\n",
              "    </tr>\n",
              "    <tr>\n",
              "      <th>6</th>\n",
              "      <td>ملفة</td>\n",
              "      <td>ملفات</td>\n",
              "    </tr>\n",
              "    <tr>\n",
              "      <th>7</th>\n",
              "      <td>مسؤول</td>\n",
              "      <td>مسؤولين</td>\n",
              "    </tr>\n",
              "    <tr>\n",
              "      <th>8</th>\n",
              "      <td>خط</td>\n",
              "      <td>خطوط</td>\n",
              "    </tr>\n",
              "    <tr>\n",
              "      <th>9</th>\n",
              "      <td>ولاية</td>\n",
              "      <td>ولايات</td>\n",
              "    </tr>\n",
              "  </tbody>\n",
              "</table>\n",
              "</div>\n",
              "      <button class=\"colab-df-convert\" onclick=\"convertToInteractive('df-9c68e663-1d04-4867-9774-d364bf43bf56')\"\n",
              "              title=\"Convert this dataframe to an interactive table.\"\n",
              "              style=\"display:none;\">\n",
              "        \n",
              "  <svg xmlns=\"http://www.w3.org/2000/svg\" height=\"24px\"viewBox=\"0 0 24 24\"\n",
              "       width=\"24px\">\n",
              "    <path d=\"M0 0h24v24H0V0z\" fill=\"none\"/>\n",
              "    <path d=\"M18.56 5.44l.94 2.06.94-2.06 2.06-.94-2.06-.94-.94-2.06-.94 2.06-2.06.94zm-11 1L8.5 8.5l.94-2.06 2.06-.94-2.06-.94L8.5 2.5l-.94 2.06-2.06.94zm10 10l.94 2.06.94-2.06 2.06-.94-2.06-.94-.94-2.06-.94 2.06-2.06.94z\"/><path d=\"M17.41 7.96l-1.37-1.37c-.4-.4-.92-.59-1.43-.59-.52 0-1.04.2-1.43.59L10.3 9.45l-7.72 7.72c-.78.78-.78 2.05 0 2.83L4 21.41c.39.39.9.59 1.41.59.51 0 1.02-.2 1.41-.59l7.78-7.78 2.81-2.81c.8-.78.8-2.07 0-2.86zM5.41 20L4 18.59l7.72-7.72 1.47 1.35L5.41 20z\"/>\n",
              "  </svg>\n",
              "      </button>\n",
              "      \n",
              "  <style>\n",
              "    .colab-df-container {\n",
              "      display:flex;\n",
              "      flex-wrap:wrap;\n",
              "      gap: 12px;\n",
              "    }\n",
              "\n",
              "    .colab-df-convert {\n",
              "      background-color: #E8F0FE;\n",
              "      border: none;\n",
              "      border-radius: 50%;\n",
              "      cursor: pointer;\n",
              "      display: none;\n",
              "      fill: #1967D2;\n",
              "      height: 32px;\n",
              "      padding: 0 0 0 0;\n",
              "      width: 32px;\n",
              "    }\n",
              "\n",
              "    .colab-df-convert:hover {\n",
              "      background-color: #E2EBFA;\n",
              "      box-shadow: 0px 1px 2px rgba(60, 64, 67, 0.3), 0px 1px 3px 1px rgba(60, 64, 67, 0.15);\n",
              "      fill: #174EA6;\n",
              "    }\n",
              "\n",
              "    [theme=dark] .colab-df-convert {\n",
              "      background-color: #3B4455;\n",
              "      fill: #D2E3FC;\n",
              "    }\n",
              "\n",
              "    [theme=dark] .colab-df-convert:hover {\n",
              "      background-color: #434B5C;\n",
              "      box-shadow: 0px 1px 3px 1px rgba(0, 0, 0, 0.15);\n",
              "      filter: drop-shadow(0px 1px 2px rgba(0, 0, 0, 0.3));\n",
              "      fill: #FFFFFF;\n",
              "    }\n",
              "  </style>\n",
              "\n",
              "      <script>\n",
              "        const buttonEl =\n",
              "          document.querySelector('#df-9c68e663-1d04-4867-9774-d364bf43bf56 button.colab-df-convert');\n",
              "        buttonEl.style.display =\n",
              "          google.colab.kernel.accessAllowed ? 'block' : 'none';\n",
              "\n",
              "        async function convertToInteractive(key) {\n",
              "          const element = document.querySelector('#df-9c68e663-1d04-4867-9774-d364bf43bf56');\n",
              "          const dataTable =\n",
              "            await google.colab.kernel.invokeFunction('convertToInteractive',\n",
              "                                                     [key], {});\n",
              "          if (!dataTable) return;\n",
              "\n",
              "          const docLinkHtml = 'Like what you see? Visit the ' +\n",
              "            '<a target=\"_blank\" href=https://colab.research.google.com/notebooks/data_table.ipynb>data table notebook</a>'\n",
              "            + ' to learn more about interactive tables.';\n",
              "          element.innerHTML = '';\n",
              "          dataTable['output_type'] = 'display_data';\n",
              "          await google.colab.output.renderOutput(dataTable, element);\n",
              "          const docLink = document.createElement('div');\n",
              "          docLink.innerHTML = docLinkHtml;\n",
              "          element.appendChild(docLink);\n",
              "        }\n",
              "      </script>\n",
              "    </div>\n",
              "  </div>\n",
              "  "
            ]
          },
          "metadata": {},
          "execution_count": 4
        }
      ],
      "source": [
        "# read the competition training dataset\n",
        "train_df = pd.read_csv('https://raw.githubusercontent.com/sigmorphon/2022InflectionST/main/part2/ara_1000.train', sep='\\t', header=None)\n",
        "# take only the first and second columns which\n",
        "# contain the sigular and plural forms\n",
        "train_df = train_df.iloc[:, :2]\n",
        "# rename the columns\n",
        "train_df.columns = ['singular', 'plural']\n",
        "# remove the Arabic diacritics from each column\n",
        "for col in train_df.columns:\n",
        "  train_df[col] = train_df[col].apply(lambda x: araby.strip_diacritics(x))\n",
        "\n",
        "# fetch the top 10 rows\n",
        "train_df.head(10)"
      ]
    },
    {
      "cell_type": "code",
      "execution_count": null,
      "metadata": {
        "colab": {
          "base_uri": "https://localhost:8080/",
          "height": 363
        },
        "id": "tEoPasI8MsEj",
        "outputId": "3862e153-f67d-40a2-d554-78f440525d75"
      },
      "outputs": [
        {
          "output_type": "execute_result",
          "data": {
            "text/plain": [
              "  singular    plural\n",
              "0     تهمة       تهم\n",
              "1     مانع     موانع\n",
              "2      بعد     أبعاد\n",
              "3    توظيف   توظيفات\n",
              "4      خطر     أخطار\n",
              "5     مسلك     مسالك\n",
              "6   متحالف  متحالفين\n",
              "7      فار     فارين\n",
              "8      بحث     أبحاث\n",
              "9     نزاع    نزاعات"
            ],
            "text/html": [
              "\n",
              "  <div id=\"df-4069b77e-fd12-4ccb-b7c5-1b9e3682c201\">\n",
              "    <div class=\"colab-df-container\">\n",
              "      <div>\n",
              "<style scoped>\n",
              "    .dataframe tbody tr th:only-of-type {\n",
              "        vertical-align: middle;\n",
              "    }\n",
              "\n",
              "    .dataframe tbody tr th {\n",
              "        vertical-align: top;\n",
              "    }\n",
              "\n",
              "    .dataframe thead th {\n",
              "        text-align: right;\n",
              "    }\n",
              "</style>\n",
              "<table border=\"1\" class=\"dataframe\">\n",
              "  <thead>\n",
              "    <tr style=\"text-align: right;\">\n",
              "      <th></th>\n",
              "      <th>singular</th>\n",
              "      <th>plural</th>\n",
              "    </tr>\n",
              "  </thead>\n",
              "  <tbody>\n",
              "    <tr>\n",
              "      <th>0</th>\n",
              "      <td>تهمة</td>\n",
              "      <td>تهم</td>\n",
              "    </tr>\n",
              "    <tr>\n",
              "      <th>1</th>\n",
              "      <td>مانع</td>\n",
              "      <td>موانع</td>\n",
              "    </tr>\n",
              "    <tr>\n",
              "      <th>2</th>\n",
              "      <td>بعد</td>\n",
              "      <td>أبعاد</td>\n",
              "    </tr>\n",
              "    <tr>\n",
              "      <th>3</th>\n",
              "      <td>توظيف</td>\n",
              "      <td>توظيفات</td>\n",
              "    </tr>\n",
              "    <tr>\n",
              "      <th>4</th>\n",
              "      <td>خطر</td>\n",
              "      <td>أخطار</td>\n",
              "    </tr>\n",
              "    <tr>\n",
              "      <th>5</th>\n",
              "      <td>مسلك</td>\n",
              "      <td>مسالك</td>\n",
              "    </tr>\n",
              "    <tr>\n",
              "      <th>6</th>\n",
              "      <td>متحالف</td>\n",
              "      <td>متحالفين</td>\n",
              "    </tr>\n",
              "    <tr>\n",
              "      <th>7</th>\n",
              "      <td>فار</td>\n",
              "      <td>فارين</td>\n",
              "    </tr>\n",
              "    <tr>\n",
              "      <th>8</th>\n",
              "      <td>بحث</td>\n",
              "      <td>أبحاث</td>\n",
              "    </tr>\n",
              "    <tr>\n",
              "      <th>9</th>\n",
              "      <td>نزاع</td>\n",
              "      <td>نزاعات</td>\n",
              "    </tr>\n",
              "  </tbody>\n",
              "</table>\n",
              "</div>\n",
              "      <button class=\"colab-df-convert\" onclick=\"convertToInteractive('df-4069b77e-fd12-4ccb-b7c5-1b9e3682c201')\"\n",
              "              title=\"Convert this dataframe to an interactive table.\"\n",
              "              style=\"display:none;\">\n",
              "        \n",
              "  <svg xmlns=\"http://www.w3.org/2000/svg\" height=\"24px\"viewBox=\"0 0 24 24\"\n",
              "       width=\"24px\">\n",
              "    <path d=\"M0 0h24v24H0V0z\" fill=\"none\"/>\n",
              "    <path d=\"M18.56 5.44l.94 2.06.94-2.06 2.06-.94-2.06-.94-.94-2.06-.94 2.06-2.06.94zm-11 1L8.5 8.5l.94-2.06 2.06-.94-2.06-.94L8.5 2.5l-.94 2.06-2.06.94zm10 10l.94 2.06.94-2.06 2.06-.94-2.06-.94-.94-2.06-.94 2.06-2.06.94z\"/><path d=\"M17.41 7.96l-1.37-1.37c-.4-.4-.92-.59-1.43-.59-.52 0-1.04.2-1.43.59L10.3 9.45l-7.72 7.72c-.78.78-.78 2.05 0 2.83L4 21.41c.39.39.9.59 1.41.59.51 0 1.02-.2 1.41-.59l7.78-7.78 2.81-2.81c.8-.78.8-2.07 0-2.86zM5.41 20L4 18.59l7.72-7.72 1.47 1.35L5.41 20z\"/>\n",
              "  </svg>\n",
              "      </button>\n",
              "      \n",
              "  <style>\n",
              "    .colab-df-container {\n",
              "      display:flex;\n",
              "      flex-wrap:wrap;\n",
              "      gap: 12px;\n",
              "    }\n",
              "\n",
              "    .colab-df-convert {\n",
              "      background-color: #E8F0FE;\n",
              "      border: none;\n",
              "      border-radius: 50%;\n",
              "      cursor: pointer;\n",
              "      display: none;\n",
              "      fill: #1967D2;\n",
              "      height: 32px;\n",
              "      padding: 0 0 0 0;\n",
              "      width: 32px;\n",
              "    }\n",
              "\n",
              "    .colab-df-convert:hover {\n",
              "      background-color: #E2EBFA;\n",
              "      box-shadow: 0px 1px 2px rgba(60, 64, 67, 0.3), 0px 1px 3px 1px rgba(60, 64, 67, 0.15);\n",
              "      fill: #174EA6;\n",
              "    }\n",
              "\n",
              "    [theme=dark] .colab-df-convert {\n",
              "      background-color: #3B4455;\n",
              "      fill: #D2E3FC;\n",
              "    }\n",
              "\n",
              "    [theme=dark] .colab-df-convert:hover {\n",
              "      background-color: #434B5C;\n",
              "      box-shadow: 0px 1px 3px 1px rgba(0, 0, 0, 0.15);\n",
              "      filter: drop-shadow(0px 1px 2px rgba(0, 0, 0, 0.3));\n",
              "      fill: #FFFFFF;\n",
              "    }\n",
              "  </style>\n",
              "\n",
              "      <script>\n",
              "        const buttonEl =\n",
              "          document.querySelector('#df-4069b77e-fd12-4ccb-b7c5-1b9e3682c201 button.colab-df-convert');\n",
              "        buttonEl.style.display =\n",
              "          google.colab.kernel.accessAllowed ? 'block' : 'none';\n",
              "\n",
              "        async function convertToInteractive(key) {\n",
              "          const element = document.querySelector('#df-4069b77e-fd12-4ccb-b7c5-1b9e3682c201');\n",
              "          const dataTable =\n",
              "            await google.colab.kernel.invokeFunction('convertToInteractive',\n",
              "                                                     [key], {});\n",
              "          if (!dataTable) return;\n",
              "\n",
              "          const docLinkHtml = 'Like what you see? Visit the ' +\n",
              "            '<a target=\"_blank\" href=https://colab.research.google.com/notebooks/data_table.ipynb>data table notebook</a>'\n",
              "            + ' to learn more about interactive tables.';\n",
              "          element.innerHTML = '';\n",
              "          dataTable['output_type'] = 'display_data';\n",
              "          await google.colab.output.renderOutput(dataTable, element);\n",
              "          const docLink = document.createElement('div');\n",
              "          docLink.innerHTML = docLinkHtml;\n",
              "          element.appendChild(docLink);\n",
              "        }\n",
              "      </script>\n",
              "    </div>\n",
              "  </div>\n",
              "  "
            ]
          },
          "metadata": {},
          "execution_count": 5
        }
      ],
      "source": [
        "# read the competition validation dataset\n",
        "valid_df = pd.read_csv('https://raw.githubusercontent.com/sigmorphon/2022InflectionST/main/part2/ara.dev', sep='\\t', header=None)\n",
        "# take only the first and second columns which\n",
        "# contain the sigular and plural forms\n",
        "valid_df = valid_df.iloc[:, :2]\n",
        "# rename the columns\n",
        "valid_df.columns = ['singular', 'plural']\n",
        "# remove the Arabic diacritics from each column\n",
        "for col in valid_df.columns:\n",
        "  valid_df[col] = valid_df[col].apply(lambda x: araby.strip_diacritics(x))\n",
        "\n",
        "# fetch the top 10 rows\n",
        "valid_df.head(10)"
      ]
    },
    {
      "cell_type": "code",
      "execution_count": null,
      "metadata": {
        "colab": {
          "base_uri": "https://localhost:8080/"
        },
        "id": "BjTNtEUBlVw9",
        "outputId": "b177a625-69a2-4fa5-db42-84fcf4383a6d"
      },
      "outputs": [
        {
          "name": "stdout",
          "output_type": "stream",
          "text": [
            "Mounted at /content/drive\n"
          ]
        }
      ],
      "source": [
        "# from google.colab import drive\n",
        "# drive.mount('/content/drive')"
      ]
    },
    {
      "cell_type": "markdown",
      "metadata": {
        "id": "y6h5SmwUlfc1"
      },
      "source": [
        "# Hardware Detection"
      ]
    },
    {
      "cell_type": "code",
      "execution_count": null,
      "metadata": {
        "colab": {
          "base_uri": "https://localhost:8080/"
        },
        "id": "TPs11Pr_f5qV",
        "outputId": "f755ac3b-2d42-4b66-e6ac-a2c922020d4f"
      },
      "outputs": [
        {
          "output_type": "stream",
          "name": "stdout",
          "text": [
            "Running on CPU\n",
            "Number of accelerators:  1\n"
          ]
        }
      ],
      "source": [
        "# Detect hardware\n",
        "try:\n",
        "    tpu = tf.distribute.cluster_resolver.TPUClusterResolver() # TPU detection\n",
        "except ValueError:\n",
        "    tpu = None\n",
        "    gpus = tf.config.experimental.list_logical_devices(\"GPU\")\n",
        "    \n",
        "# Select an appropriate distribution strategy\n",
        "if tpu:\n",
        "    tf.config.experimental_connect_to_cluster(tpu)\n",
        "    tf.tpu.experimental.initialize_tpu_system(tpu)\n",
        "    strategy = tf.distribute.experimental.TPUStrategy(tpu) # Going back and forth between TPU and host is expensive. Better to run 128 batches on the TPU before reporting back.\n",
        "    print('Running on TPU ', tpu.cluster_spec().as_dict()['worker'])  \n",
        "elif len(gpus) > 1:\n",
        "    strategy = tf.distribute.MirroredStrategy([gpu.name for gpu in gpus])\n",
        "    print('Running on multiple GPUs ', [gpu.name for gpu in gpus])\n",
        "elif len(gpus) == 1:\n",
        "    strategy = tf.distribute.get_strategy() # default strategy that works on CPU and single GPU\n",
        "    print('Running on single GPU ', gpus[0].name)\n",
        "else:\n",
        "    strategy = tf.distribute.get_strategy() # default strategy that works on CPU and single GPU\n",
        "    print('Running on CPU')\n",
        "print(\"Number of accelerators: \", strategy.num_replicas_in_sync)"
      ]
    },
    {
      "cell_type": "markdown",
      "metadata": {
        "id": "8NOvELLKlinQ"
      },
      "source": [
        "# Configs"
      ]
    },
    {
      "cell_type": "code",
      "execution_count": null,
      "metadata": {
        "id": "NY2Le0HZf2w4"
      },
      "outputs": [],
      "source": [
        "class config:\n",
        "\n",
        "  MAXLEN = 17 # maximum length of sequence\n",
        "\n",
        "  # model configs\n",
        "  BATCH_SIZE_PER_REPLICA = 256 # batch size per replica\n",
        "  BATCH_SIZE = BATCH_SIZE_PER_REPLICA * strategy.num_replicas_in_sync # global batch size\n",
        "  EPOCHS = 100 # number of epochs\n",
        "  LEARNING_RATE = 1E-4 # learning rate\n",
        "  LEARTING_RATE_REDUCTION_PATIENCE = 10 # number of epochs to weight before lowering LR\n",
        "  LEARTING_RATE_REDUCTION_FACTOR = 0.2 # LR lowering factor\n",
        "  BUFFER = 1024 # buffer size for shuffling the training set\n",
        "  EMBEDDING_SIZE = 256 # embedding size\n",
        "  NUM_HEADS = 8 # number of heads\n",
        "  NUM_BLOCKS = 4 # number of encoder blocks\n",
        "  KEY_DIM = 64 # dimesion of the key, value, and query\n",
        "  DROPOUT = 0.0 # dopout rate\n",
        "  SKIP_RATIO = 0.0 # skip connection ratio"
      ]
    },
    {
      "cell_type": "markdown",
      "metadata": {
        "id": "EzdOcFqOMUf5"
      },
      "source": [
        "# Dataset"
      ]
    },
    {
      "cell_type": "code",
      "execution_count": null,
      "metadata": {
        "colab": {
          "base_uri": "https://localhost:8080/"
        },
        "id": "QEb7_GE9V0f5",
        "outputId": "d96181ba-40e2-47fa-fc2d-cc4e5bc58f87"
      },
      "outputs": [
        {
          "output_type": "stream",
          "name": "stdout",
          "text": [
            "Number of Arabic Characters: 38\n"
          ]
        }
      ],
      "source": [
        "# list of all Arabic characters\n",
        "chars = list('اٱبتةثجحخدذرزسشصضطظعغفقكلمنهويءآأؤإئىی')\n",
        "print('Number of Arabic Characters:', len(chars))\n",
        "\n",
        "# character to index dictionary\n",
        "char_to_index = dict((char, index+3) for (index, char) in enumerate(chars))\n",
        "# index to character dictionary\n",
        "index_to_char=  dict((index+3, char) for (index, char) in enumerate(chars))\n",
        "\n",
        "char_to_index['p'] = 0 # pad\n",
        "char_to_index['s'] = 1 # separator\n",
        "char_to_index['_'] = 2 # mask\n",
        "\n",
        "\n",
        "index_to_char[0] = 'p' # pad\n",
        "index_to_char[1] = 's' # separator\n",
        "index_to_char[2] = '_' # mask\n",
        "\n",
        "# additional char_to_index and index_to_char extracted manually as shown in next \n",
        "# cells. They were extracted and then saved into a CSV file\n",
        "df = pd.read_csv('https://drive.google.com/uc?export=download&id=1lQFU7XFy82-1dE5kPK7yDLpJ6tleycCC')\n",
        "chars_2 = df['char'].values.tolist()\n",
        "indexes_2 = df['value'].values.tolist()\n",
        "del df\n",
        "\n",
        "# additional character to index dictionary\n",
        "char_to_index_2 = dict(zip(chars_2, indexes_2))\n",
        "# additional index to character dictionary\n",
        "index_to_char_2 = dict(zip(indexes_2, chars_2))"
      ]
    },
    {
      "cell_type": "code",
      "execution_count": null,
      "metadata": {
        "colab": {
          "base_uri": "https://localhost:8080/"
        },
        "id": "V1ovXyDXGFFZ",
        "outputId": "6049036f-740b-470e-e610-cb26dfca6496"
      },
      "outputs": [
        {
          "output_type": "stream",
          "name": "stdout",
          "text": [
            "Train Max Length: 11\n",
            "Valid Max Length: 11\n"
          ]
        }
      ],
      "source": [
        "# find maximum token length in both datasets\n",
        "max_len = 0\n",
        "# iterate over each column\n",
        "for i in range(2):\n",
        "  # iterate over each row\n",
        "  for j in range(len(train_df)):\n",
        "    if len(train_df.iloc[j, i]) > max_len:\n",
        "      max_len = len(train_df.iloc[j, i])\n",
        "print('Train Max Length:', max_len)\n",
        "\n",
        "max_len = 0\n",
        "# iterate over each column\n",
        "for i in range(2):\n",
        "  # iterate over each row\n",
        "  for j in range(len(valid_df)):\n",
        "    if len(valid_df.iloc[j, i]) > max_len:\n",
        "      max_len = len(valid_df.iloc[j, i])\n",
        "print('Valid Max Length:', max_len)"
      ]
    },
    {
      "cell_type": "code",
      "execution_count": null,
      "metadata": {
        "id": "YFK6MAjtZfaY"
      },
      "outputs": [],
      "source": [
        "def text_to_index(lists):\n",
        "    # construct a list that includes the character-based tokenized input words\n",
        "    bert_indexed_inputs = []\n",
        "    \n",
        "    # iterate over texts\n",
        "    for text in tqdm(lists):\n",
        "      try:\n",
        "        indexes = []\n",
        "        indexes.append(char_to_index['s']) # special separator token\n",
        "        temp_list = list(text)\n",
        "        temp_list.reverse() # reverse list (Arabic from right to left)\n",
        "        for char in temp_list:\n",
        "          indexes.append(char_to_index[char]) # append index of each character to the list\n",
        "        indexes.append(char_to_index['s']) # special separator token\n",
        "        bert_indexed_inputs.append(indexes)\n",
        "      except: # if the characters are not in the dictionary continue iterating\n",
        "          continue\n",
        "    return bert_indexed_inputs"
      ]
    },
    {
      "cell_type": "code",
      "execution_count": null,
      "metadata": {
        "id": "XZhY_r1CbPQD"
      },
      "outputs": [],
      "source": [
        "def text_to_index_labels(lists):\n",
        "    # construct a list that includes the character-based tokenized input words\n",
        "    bert_indexed_inputs = []\n",
        "    \n",
        "    for text in tqdm(lists):\n",
        "      try:\n",
        "        indexes = []\n",
        "        indexes.append(char_to_index['s']) # special end token\n",
        "        temp_list = list(text)\n",
        "        temp_list.reverse() # reverse list (Arabic from right to left)\n",
        "        for char in temp_list:\n",
        "          indexes.append(char_to_index[char]) # append index of each character to the list\n",
        "        bert_indexed_inputs.append(indexes)\n",
        "      except: # if the characters are not in the dictionary continue iterating\n",
        "          continue\n",
        "    return bert_indexed_inputs"
      ]
    },
    {
      "cell_type": "code",
      "execution_count": null,
      "metadata": {
        "colab": {
          "base_uri": "https://localhost:8080/"
        },
        "id": "G1Km_UWgWZgd",
        "outputId": "bd9852c0-a929-405f-a9ce-b0fa16d8b69d"
      },
      "outputs": [
        {
          "output_type": "stream",
          "name": "stderr",
          "text": [
            "100%|██████████| 1000/1000 [00:00<00:00, 195629.85it/s]\n",
            "100%|██████████| 343/343 [00:00<00:00, 214915.79it/s]\n",
            "100%|██████████| 1000/1000 [00:00<00:00, 302947.20it/s]\n",
            "100%|██████████| 343/343 [00:00<00:00, 222528.43it/s]\n",
            "100%|██████████| 1000/1000 [00:00<00:00, 240885.83it/s]\n",
            "100%|██████████| 343/343 [00:00<00:00, 198653.17it/s]\n"
          ]
        }
      ],
      "source": [
        "# convert text to indexes (encoder part)\n",
        "enc_indexed_text_train = text_to_index(train_df.iloc[:, 0].tolist())\n",
        "enc_indexed_text_valid = text_to_index(valid_df.iloc[:, 0].tolist())\n",
        "# pad sequences\n",
        "enc_indexed_text_train = tf.keras.preprocessing.sequence.pad_sequences(enc_indexed_text_train, maxlen=config.MAXLEN, padding='pre')\n",
        "enc_indexed_text_valid = tf.keras.preprocessing.sequence.pad_sequences(enc_indexed_text_valid, maxlen=config.MAXLEN, padding='pre')\n",
        "\n",
        "# convert text to indexes (decoder part)\n",
        "dec_indexed_text_train = text_to_index(train_df.iloc[:, 1].tolist())\n",
        "dec_indexed_text_valid = text_to_index(valid_df.iloc[:, 1].tolist())\n",
        "# labels for decoder (no start token)\n",
        "dec_indexed_text_train_labels = text_to_index_labels(train_df.iloc[:, 1].tolist())\n",
        "dec_indexed_text_valid_labels = text_to_index_labels(valid_df.iloc[:, 1].tolist())\n",
        "# pad sequences\n",
        "dec_indexed_text_train = tf.keras.preprocessing.sequence.pad_sequences(dec_indexed_text_train, maxlen=config.MAXLEN, padding='pre')\n",
        "dec_indexed_text_valid = tf.keras.preprocessing.sequence.pad_sequences(dec_indexed_text_valid, maxlen=config.MAXLEN, padding='pre')\n",
        "# pad labels\n",
        "dec_indexed_text_train_labels = tf.keras.preprocessing.sequence.pad_sequences(dec_indexed_text_train_labels, maxlen=config.MAXLEN, padding='pre')\n",
        "dec_indexed_text_valid_labels = tf.keras.preprocessing.sequence.pad_sequences(dec_indexed_text_valid_labels, maxlen=config.MAXLEN, padding='pre')"
      ]
    },
    {
      "cell_type": "code",
      "execution_count": null,
      "metadata": {
        "id": "pqzP2h3B8nd6"
      },
      "outputs": [],
      "source": [
        "# create a TensorFlow training dataset that performs multiple functions including\n",
        "# shuffling, batching, and prefetching\n",
        "train_ds = tf.data.Dataset.from_tensor_slices((tf.constant(enc_indexed_text_train), tf.constant(dec_indexed_text_train), tf.constant(dec_indexed_text_train_labels)))\n",
        "train_ds = train_ds.shuffle(config.BUFFER).batch(config.BATCH_SIZE, drop_remainder=False).prefetch(-1).cache()\n",
        "\n",
        "# create a TensorFlow validation dataset that performs multiple functions including\n",
        "# batching and prefetching\n",
        "valid_ds = tf.data.Dataset.from_tensor_slices((tf.constant(enc_indexed_text_valid), tf.constant(dec_indexed_text_valid), tf.constant(dec_indexed_text_valid_labels)))\n",
        "valid_ds = valid_ds.batch(config.BATCH_SIZE, drop_remainder=False).prefetch(-1).cache()"
      ]
    },
    {
      "cell_type": "markdown",
      "metadata": {
        "id": "KxixXmUyHE5v"
      },
      "source": [
        "# Models"
      ]
    },
    {
      "cell_type": "markdown",
      "metadata": {
        "id": "nyZY2swzlYUP"
      },
      "source": [
        "## Pre-trained CBERT"
      ]
    },
    {
      "cell_type": "markdown",
      "metadata": {
        "id": "7EjIAuXzAICE"
      },
      "source": [
        "Use the TensorFlow functional API to develop the CBERT model."
      ]
    },
    {
      "cell_type": "code",
      "execution_count": null,
      "metadata": {
        "id": "2ath2aA-fk-O"
      },
      "outputs": [],
      "source": [
        "def encoder_block(inputs, num_heads=8, key_dim=64, dropout=0.0, linear_shape=128):\n",
        "  # multi-head attention layer\n",
        "  x = layers.MultiHeadAttention(num_heads=num_heads,\n",
        "                                  key_dim=key_dim,\n",
        "                                  dropout=dropout)(inputs, inputs)\n",
        "  # add & norm\n",
        "  x = layers.Add()([inputs, x])\n",
        "  x1 = layers.LayerNormalization()(x)\n",
        "  # feed-forward\n",
        "  x = layers.Dense(linear_shape, activation='gelu')(x1)\n",
        "  x2 = layers.Dense(inputs.shape[-1], activation='linear')(x)\n",
        "  # add & norm\n",
        "  x = layers.Add()([x1, x2])\n",
        "  x = layers.LayerNormalization()(x)\n",
        "  return x"
      ]
    },
    {
      "cell_type": "code",
      "execution_count": null,
      "metadata": {
        "id": "PkeY5Vpufo3V"
      },
      "outputs": [],
      "source": [
        "with strategy.scope():\n",
        "  # embedding layer that maps each input character index into a vector of the specified length\n",
        "  # in the config class\n",
        "  embedding_layer = layers.Embedding(input_dim=len(chars)+3, output_dim=config.EMBEDDING_SIZE, input_length=config.MAXLEN, mask_zero=True)\n",
        "  # use another trainable embedding layer to learn positional encoding \n",
        "  pos_encoding = layers.Embedding(input_dim=config.MAXLEN+1, output_dim=config.EMBEDDING_SIZE, input_length=config.MAXLEN, mask_zero=False)"
      ]
    },
    {
      "cell_type": "code",
      "execution_count": null,
      "metadata": {
        "id": "f6FNdtPCfs2-"
      },
      "outputs": [],
      "source": [
        "def encoder_model(inputs, num_blocks=4, num_heads=8, key_dim=64, dropout=0.0, skip_ratio=0.0):\n",
        "\n",
        "  # embedding layer for characters\n",
        "  embed = embedding_layer(inputs)\n",
        "  # trainable positional encoding\n",
        "  pos_encod = pos_encoding(tf.range(config.MAXLEN))\n",
        "  # add pos_encod to embeddings\n",
        "  encoded_embed = embed + pos_encod\n",
        "  # multi-head attention\n",
        "  mha = encoder_block(encoded_embed, num_heads=num_heads, key_dim=key_dim, dropout=dropout)\n",
        "  mha = skip_ratio * encoded_embed + (1 - skip_ratio) * mha # skip connection to preserve signal\n",
        "  # repeated blocks\n",
        "  block_outputs = dict()\n",
        "  for i in range(1, num_blocks):\n",
        "    x = mha\n",
        "    block_outputs[f'x{i}'] = x\n",
        "    mha = encoder_block(encoded_embed, num_heads=num_heads, key_dim=key_dim, dropout=dropout, linear_shape=128)\n",
        "    mha = skip_ratio * x + (1 - skip_ratio) * mha # skip connection to preserve signal\n",
        "  block_outputs[f'x{i+1}'] = mha\n",
        "  return block_outputs"
      ]
    },
    {
      "cell_type": "code",
      "execution_count": null,
      "metadata": {
        "id": "zRHE4G10ydR0"
      },
      "outputs": [],
      "source": [
        "def final_model():\n",
        "  # the full CBERT model\n",
        "  inputs = layers.Input(shape=(config.MAXLEN,), name='cbert_input')\n",
        "  bert_output = encoder_model(inputs, num_blocks=config.NUM_BLOCKS, \n",
        "                              num_heads=config.NUM_HEADS, key_dim=config.KEY_DIM,\n",
        "                              dropout=config.DROPOUT, skip_ratio=config.SKIP_RATIO)\n",
        "  final_encoder_name = [*bert_output][-1]\n",
        "  dense = layers.Dense(len(chars)+3, activation='softmax')(bert_output[final_encoder_name])\n",
        "\n",
        "  model = tf.keras.Model(inputs=inputs, outputs=dense)\n",
        "  return model"
      ]
    },
    {
      "cell_type": "code",
      "source": [
        "url = 'https://drive.google.com/uc?export=download&id=1Qus-FZGOscfRDqCyKW2bftCT5tVOLZhK'\n",
        "r = requests.get(url, allow_redirects=True)\n",
        "open('best_pre_trained_weights.h5', 'wb').write(r.content)"
      ],
      "metadata": {
        "colab": {
          "base_uri": "https://localhost:8080/"
        },
        "id": "CDDUSk1gA5EB",
        "outputId": "28e6516f-f5b5-4eb2-cc0d-0337bcefe069"
      },
      "execution_count": null,
      "outputs": [
        {
          "output_type": "execute_result",
          "data": {
            "text/plain": [
              "9691816"
            ]
          },
          "metadata": {},
          "execution_count": 18
        }
      ]
    },
    {
      "cell_type": "code",
      "execution_count": null,
      "metadata": {
        "id": "tnDQ01PvluBg"
      },
      "outputs": [],
      "source": [
        "# instantiate the model\n",
        "cbert = final_model()\n",
        "# load the pre-trained weights\n",
        "cbert.load_weights('/content/best_pre_trained_weights.h5')\n",
        "# define the input as the original CBERT input, and take the contextualized embeddings\n",
        "# from the layer before the head\n",
        "pretrained_encoder = tf.keras.Model(inputs=cbert.input, outputs=cbert.layers[-2].output)\n",
        "# freeze the model weights during fine-tuning\n",
        "pretrained_encoder.trainable = False"
      ]
    },
    {
      "cell_type": "markdown",
      "metadata": {
        "id": "mllS-FqGHv8e"
      },
      "source": [
        "## Full Model"
      ]
    },
    {
      "cell_type": "code",
      "execution_count": null,
      "metadata": {
        "id": "iPjpO-HwmCjq"
      },
      "outputs": [],
      "source": [
        "def main_encoder_block(inputs, cbert_output, num_heads=8, key_dim=64, dropout=0.0, linear_shape=128):\n",
        "  # multi-head self-attention layer\n",
        "  self_att = layers.MultiHeadAttention(num_heads=num_heads,\n",
        "                                       key_dim=key_dim, \n",
        "                                       dropout=dropout)(inputs, inputs)\n",
        "  # CBERT-Encoder attention\n",
        "  cbert_enc_att = layers.MultiHeadAttention(num_heads=num_heads,\n",
        "                                            key_dim=key_dim,\n",
        "                                            dropout=dropout)(query=inputs, value=cbert_output, key=cbert_output)\n",
        "  \n",
        "  # Drop Net (mean of both MHA layers)\n",
        "  drop_net = tf.math.reduce_mean([self_att, cbert_enc_att], axis=0)\n",
        "  # add & norm\n",
        "  add = layers.Add(name='encoder_add')([inputs, drop_net])\n",
        "  norm = layers.LayerNormalization()(add)\n",
        "\n",
        "  # feed-forward network\n",
        "  ff = layers.Dense(linear_shape, activation='gelu')(norm)\n",
        "  ff = layers.Dense(inputs.shape[-1], activation='linear')(ff)\n",
        "  \n",
        "  # add & norm\n",
        "  add = layers.Add()([norm, ff])\n",
        "  norm = layers.LayerNormalization()(add)\n",
        "  return norm"
      ]
    },
    {
      "cell_type": "code",
      "execution_count": null,
      "metadata": {
        "id": "GHYipJPb20fH"
      },
      "outputs": [],
      "source": [
        "def cbert_encoder_model(inputs, cbert_output):\n",
        "  # embed input sequences\n",
        "  embed = embedding_layer(inputs)\n",
        "  # trainable positional encoding\n",
        "  pos_encod = pos_encoding(tf.range(config.MAXLEN))\n",
        "  # add pos_encod to embeddings\n",
        "  embed = embed + pos_encod\n",
        "\n",
        "  main_encoder_output = main_encoder_block(embed, cbert_output)\n",
        "\n",
        "  return main_encoder_output"
      ]
    },
    {
      "cell_type": "code",
      "execution_count": null,
      "metadata": {
        "id": "YUYNtqXKFC93"
      },
      "outputs": [],
      "source": [
        "def main_decoder_block(inputs, cbert_output, main_encoder_output, \n",
        "                       attention_mask, num_heads=8, key_dim=64, \n",
        "                       dropout=0.0, linear_shape=128):\n",
        "  # multi-head masked self-attention layer\n",
        "  self_att = layers.MultiHeadAttention(num_heads=num_heads,\n",
        "                                       key_dim=key_dim, \n",
        "                                       dropout=dropout)(inputs, inputs, attention_mask=attention_mask)\n",
        "  # feed-forward network\n",
        "  ff = layers.Dense(linear_shape, activation='gelu')(self_att)\n",
        "  ff = layers.Dense(inputs.shape[-1], activation='linear')(ff)\n",
        "  # add & norm\n",
        "  add = layers.Add()([self_att, ff])\n",
        "  self_att_output = layers.LayerNormalization()(add)\n",
        "  \n",
        "  # CBERT-Decoder attention\n",
        "  cbert_dec_att = layers.MultiHeadAttention(num_heads=num_heads,\n",
        "                                            key_dim=key_dim,\n",
        "                                            dropout=dropout)(query=self_att_output, \n",
        "                                                             value=cbert_output, \n",
        "                                                             key=cbert_output)\n",
        "  # Encoder-Decoder Attention\n",
        "  enc_dec_att = layers.MultiHeadAttention(num_heads=num_heads,\n",
        "                                          key_dim=key_dim,\n",
        "                                          dropout=dropout)(query=self_att_output, value=main_encoder_output, key=main_encoder_output)                                      \n",
        "\n",
        "  # Drop Net (mean of both MHA layers)\n",
        "  drop_net = tf.math.reduce_mean([cbert_dec_att, enc_dec_att], axis=0)\n",
        "  # add & norm\n",
        "  add = layers.Add()([self_att_output, drop_net])\n",
        "  norm = layers.LayerNormalization()(add)\n",
        " \n",
        "  # feed-forward network\n",
        "  ff = layers.Dense(linear_shape, activation='gelu')(norm)\n",
        "  ff = layers.Dense(inputs.shape[-1], activation='linear')(ff)\n",
        "  \n",
        "  # add & norm\n",
        "  add = layers.Add()([norm, ff])\n",
        "  norm = layers.LayerNormalization()(add)\n",
        "  return norm"
      ]
    },
    {
      "cell_type": "code",
      "execution_count": null,
      "metadata": {
        "id": "ocATskZdIJnh"
      },
      "outputs": [],
      "source": [
        "def cbert_decoder_model(inputs, cbert_output, main_encoder_output, attention_mask):\n",
        "  # embed input sequences\n",
        "  embed = embedding_layer(inputs)\n",
        "  # trainable positional encoding\n",
        "  pos_encod = pos_encoding(tf.range(config.MAXLEN))\n",
        "  # add pos_encod to embeddings\n",
        "  embed = embed + pos_encod\n",
        "\n",
        "  main_decoder_output = main_decoder_block(embed, cbert_output, main_encoder_output, attention_mask)\n",
        "\n",
        "  return main_decoder_output"
      ]
    },
    {
      "cell_type": "code",
      "execution_count": null,
      "metadata": {
        "id": "RKnJZBTW2Xau"
      },
      "outputs": [],
      "source": [
        "def final_decoder_output(enc_inputs, dec_inputs, attention_mask):\n",
        "\n",
        "  cbert_output = pretrained_encoder(enc_inputs)\n",
        "  x = cbert_encoder_model(enc_inputs, cbert_output)\n",
        "  x = cbert_decoder_model(dec_inputs, cbert_output, x, attention_mask)\n",
        "  x = layers.GlobalAveragePooling1D()(x)\n",
        "  main_dec_output = layers.Dense(len(chars)+3, activation='softmax')(x)\n",
        "  return main_dec_output"
      ]
    },
    {
      "cell_type": "code",
      "execution_count": null,
      "metadata": {
        "id": "bHuTuJoZI_Yu"
      },
      "outputs": [],
      "source": [
        "def encoder_decoder_model():\n",
        "  # put it all together\n",
        "  enc_inputs = layers.Input(shape=(config.MAXLEN,), name='enc_input')\n",
        "  dec_inputs = layers.Input(shape=(config.MAXLEN,), name='dec_input')\n",
        "  attention_mask = layers.Input(shape=(config.NUM_HEADS, config.MAXLEN, config.MAXLEN,), name='att_mask')\n",
        "\n",
        "  main_dec_output = final_decoder_output(enc_inputs, dec_inputs, attention_mask)\n",
        "\n",
        "  model = tf.keras.Model(inputs=[enc_inputs, dec_inputs, attention_mask], outputs=main_dec_output)\n",
        "  return model"
      ]
    },
    {
      "cell_type": "code",
      "execution_count": null,
      "metadata": {
        "colab": {
          "base_uri": "https://localhost:8080/"
        },
        "id": "xPm99CCb0nG1",
        "outputId": "8cd58dcd-4078-417e-b136-a6e02e84fa04"
      },
      "outputs": [
        {
          "output_type": "stream",
          "name": "stdout",
          "text": [
            "Model: \"model\"\n",
            "__________________________________________________________________________________________________\n",
            " Layer (type)                   Output Shape         Param #     Connected to                     \n",
            "==================================================================================================\n",
            " dec_input (InputLayer)         [(None, 17)]         0           []                               \n",
            "                                                                                                  \n",
            " enc_input (InputLayer)         [(None, 17)]         0           []                               \n",
            "                                                                                                  \n",
            " embedding (Embedding)          (None, 17, 256)      10496       ['enc_input[0][0]',              \n",
            "                                                                  'dec_input[0][0]']              \n",
            "                                                                                                  \n",
            " model_1 (Functional)           (None, 17, 256)      2382592     ['enc_input[0][0]']              \n",
            "                                                                                                  \n",
            " tf.__operators__.add (TFOpLamb  (None, 17, 256)     0           ['embedding[1][0]']              \n",
            " da)                                                                                              \n",
            "                                                                                                  \n",
            " multi_head_attention (MultiHea  (None, 17, 256)     526080      ['tf.__operators__.add[0][0]',   \n",
            " dAttention)                                                      'tf.__operators__.add[0][0]']   \n",
            "                                                                                                  \n",
            " multi_head_attention_1 (MultiH  (None, 17, 256)     526080      ['tf.__operators__.add[0][0]',   \n",
            " eadAttention)                                                    'model_1[0][0]',                \n",
            "                                                                  'model_1[0][0]']                \n",
            "                                                                                                  \n",
            " tf.math.reduce_mean (TFOpLambd  (None, 17, 256)     0           ['multi_head_attention[0][0]',   \n",
            " a)                                                               'multi_head_attention_1[0][0]'] \n",
            "                                                                                                  \n",
            " tf.__operators__.add_1 (TFOpLa  (None, 17, 256)     0           ['embedding[2][0]']              \n",
            " mbda)                                                                                            \n",
            "                                                                                                  \n",
            " att_mask (InputLayer)          [(None, 8, 17, 17)]  0           []                               \n",
            "                                                                                                  \n",
            " encoder_add (Add)              (None, 17, 256)      0           ['tf.__operators__.add[0][0]',   \n",
            "                                                                  'tf.math.reduce_mean[0][0]']    \n",
            "                                                                                                  \n",
            " multi_head_attention_2 (MultiH  (None, 17, 256)     526080      ['tf.__operators__.add_1[0][0]', \n",
            " eadAttention)                                                    'tf.__operators__.add_1[0][0]', \n",
            "                                                                  'att_mask[0][0]']               \n",
            "                                                                                                  \n",
            " layer_normalization (LayerNorm  (None, 17, 256)     512         ['encoder_add[0][0]']            \n",
            " alization)                                                                                       \n",
            "                                                                                                  \n",
            " dense_2 (Dense)                (None, 17, 128)      32896       ['multi_head_attention_2[0][0]'] \n",
            "                                                                                                  \n",
            " dense (Dense)                  (None, 17, 128)      32896       ['layer_normalization[0][0]']    \n",
            "                                                                                                  \n",
            " dense_3 (Dense)                (None, 17, 256)      33024       ['dense_2[0][0]']                \n",
            "                                                                                                  \n",
            " dense_1 (Dense)                (None, 17, 256)      33024       ['dense[0][0]']                  \n",
            "                                                                                                  \n",
            " add_1 (Add)                    (None, 17, 256)      0           ['multi_head_attention_2[0][0]', \n",
            "                                                                  'dense_3[0][0]']                \n",
            "                                                                                                  \n",
            " add (Add)                      (None, 17, 256)      0           ['layer_normalization[0][0]',    \n",
            "                                                                  'dense_1[0][0]']                \n",
            "                                                                                                  \n",
            " layer_normalization_2 (LayerNo  (None, 17, 256)     512         ['add_1[0][0]']                  \n",
            " rmalization)                                                                                     \n",
            "                                                                                                  \n",
            " layer_normalization_1 (LayerNo  (None, 17, 256)     512         ['add[0][0]']                    \n",
            " rmalization)                                                                                     \n",
            "                                                                                                  \n",
            " multi_head_attention_3 (MultiH  (None, 17, 256)     526080      ['layer_normalization_2[0][0]',  \n",
            " eadAttention)                                                    'model_1[0][0]',                \n",
            "                                                                  'model_1[0][0]']                \n",
            "                                                                                                  \n",
            " multi_head_attention_4 (MultiH  (None, 17, 256)     526080      ['layer_normalization_2[0][0]',  \n",
            " eadAttention)                                                    'layer_normalization_1[0][0]',  \n",
            "                                                                  'layer_normalization_1[0][0]']  \n",
            "                                                                                                  \n",
            " tf.math.reduce_mean_1 (TFOpLam  (None, 17, 256)     0           ['multi_head_attention_3[0][0]', \n",
            " bda)                                                             'multi_head_attention_4[0][0]'] \n",
            "                                                                                                  \n",
            " add_2 (Add)                    (None, 17, 256)      0           ['layer_normalization_2[0][0]',  \n",
            "                                                                  'tf.math.reduce_mean_1[0][0]']  \n",
            "                                                                                                  \n",
            " layer_normalization_3 (LayerNo  (None, 17, 256)     512         ['add_2[0][0]']                  \n",
            " rmalization)                                                                                     \n",
            "                                                                                                  \n",
            " dense_4 (Dense)                (None, 17, 128)      32896       ['layer_normalization_3[0][0]']  \n",
            "                                                                                                  \n",
            " dense_5 (Dense)                (None, 17, 256)      33024       ['dense_4[0][0]']                \n",
            "                                                                                                  \n",
            " add_3 (Add)                    (None, 17, 256)      0           ['layer_normalization_3[0][0]',  \n",
            "                                                                  'dense_5[0][0]']                \n",
            "                                                                                                  \n",
            " layer_normalization_4 (LayerNo  (None, 17, 256)     512         ['add_3[0][0]']                  \n",
            " rmalization)                                                                                     \n",
            "                                                                                                  \n",
            " global_average_pooling1d (Glob  (None, 256)         0           ['layer_normalization_4[0][0]']  \n",
            " alAveragePooling1D)                                                                              \n",
            "                                                                                                  \n",
            " dense_6 (Dense)                (None, 41)           10537       ['global_average_pooling1d[0][0]'\n",
            "                                                                 ]                                \n",
            "                                                                                                  \n",
            "==================================================================================================\n",
            "Total params: 5,223,849\n",
            "Trainable params: 2,841,257\n",
            "Non-trainable params: 2,382,592\n",
            "__________________________________________________________________________________________________\n"
          ]
        }
      ],
      "source": [
        "# clear the session to release all previous states generated by Keras\n",
        "tf.keras.backend.clear_session()\n",
        "# instantiate the model and print the summary\n",
        "model = encoder_decoder_model()\n",
        "model.summary()"
      ]
    },
    {
      "cell_type": "code",
      "execution_count": null,
      "metadata": {
        "colab": {
          "base_uri": "https://localhost:8080/",
          "height": 1000
        },
        "id": "bWM0aTY2gk-5",
        "outputId": "22169770-4136-467e-be5b-832954b2a4fb"
      },
      "outputs": [
        {
          "output_type": "execute_result",
          "data": {
            "text/plain": [
              "<IPython.core.display.Image object>"
            ],
            "image/png": "[encoded data removed]"
          },
          "metadata": {},
          "execution_count": 27
        }
      ],
      "source": [
        "# plot the model\n",
        "tf.keras.utils.plot_model(model, show_layer_names=True, show_shapes=True)"
      ]
    },
    {
      "cell_type": "markdown",
      "metadata": {
        "id": "dUS2z4EDlpa5"
      },
      "source": [
        "# Custom Training"
      ]
    },
    {
      "cell_type": "markdown",
      "metadata": {
        "id": "9HjOrzz8rZ6x"
      },
      "source": [
        "## GPU"
      ]
    },
    {
      "cell_type": "code",
      "execution_count": null,
      "metadata": {
        "id": "wJcCo1-r5Pcc"
      },
      "outputs": [],
      "source": [
        "# construct attention masks list\n",
        "# for each position there a mask that prevents the model from \n",
        "# see current and next positions\n",
        "attention_masks = []\n",
        "for i in range(1, config.MAXLEN+1):\n",
        "  # Arabic masking starts from right to left\n",
        "  attention_mask = [0] * (config.MAXLEN - i) + [1] * i\n",
        "  attention_masks.append(attention_mask)"
      ]
    },
    {
      "cell_type": "code",
      "execution_count": null,
      "metadata": {
        "colab": {
          "base_uri": "https://localhost:8080/"
        },
        "id": "pHfBgeq5piI2",
        "outputId": "680e1be7-09c4-474d-b2ff-9f5b08051d8e"
      },
      "outputs": [
        {
          "output_type": "execute_result",
          "data": {
            "text/plain": [
              "{0: 0.0,\n",
              " 1: 17.0,\n",
              " 2: 0.1,\n",
              " 3: 15.992474129821261,\n",
              " 4: 0.1,\n",
              " 5: 95.50561797752809,\n",
              " 6: 26.27511591962906,\n",
              " 7: 459.4594594594595,\n",
              " 8: 739.1304347826087,\n",
              " 9: 184.7826086956522,\n",
              " 10: 141.66666666666666,\n",
              " 11: 354.1666666666667,\n",
              " 12: 103.03030303030303,\n",
              " 13: 1000.0,\n",
              " 14: 54.83870967741935,\n",
              " 15: 377.77777777777777,\n",
              " 16: 112.58278145695364,\n",
              " 17: 250.0,\n",
              " 18: 204.81927710843374,\n",
              " 19: 404.76190476190476,\n",
              " 20: 204.81927710843374,\n",
              " 21: 1133.3333333333333,\n",
              " 22: 97.70114942528735,\n",
              " 23: 653.8461538461538,\n",
              " 24: 134.9206349206349,\n",
              " 25: 107.59493670886076,\n",
              " 26: 215.18987341772151,\n",
              " 27: 76.57657657657657,\n",
              " 28: 41.16222760290557,\n",
              " 29: 50.89820359281437,\n",
              " 30: 229.72972972972974,\n",
              " 31: 66.40625,\n",
              " 32: 41.46341463414634,\n",
              " 33: 447.36842105263156,\n",
              " 34: 1214.2857142857142,\n",
              " 35: 118.88111888111888,\n",
              " 36: 1416.6666666666667,\n",
              " 37: 500.0,\n",
              " 38: 340.0,\n",
              " 39: 2125.0,\n",
              " 40: 0.1}"
            ]
          },
          "metadata": {},
          "execution_count": 29
        }
      ],
      "source": [
        "# provide automatic class weights based on the inverse frequency \n",
        "# of each token, the more frequent, the less weight\n",
        "total_num_labels = np.array(dec_indexed_text_train_labels).size\n",
        "auto_weight_dict = dict()\n",
        "for i in range(len(chars)+3):\n",
        "  num_class_examples = (np.array(dec_indexed_text_train_labels) == i).sum()\n",
        "  if num_class_examples != 0:\n",
        "    auto_weight_dict[i] = total_num_labels / num_class_examples\n",
        "  else:\n",
        "    auto_weight_dict[i] = 0.1\n",
        "\n",
        "auto_weight_dict[0] = 0.0 # give 'p' zero weight\n",
        "auto_weight_dict"
      ]
    },
    {
      "cell_type": "code",
      "execution_count": null,
      "metadata": {
        "id": "HhqIxXrsw-hG"
      },
      "outputs": [],
      "source": [
        "# !mv /content/best_full_model_weights.h5 /content/drive/MyDrive/NLP_Course"
      ]
    },
    {
      "cell_type": "code",
      "execution_count": null,
      "metadata": {
        "colab": {
          "base_uri": "https://localhost:8080/"
        },
        "id": "ZFfqU57b_STF",
        "outputId": "0ec4bcc4-7544-4d77-b090-88aa093aac29"
      },
      "outputs": [
        {
          "output_type": "stream",
          "name": "stdout",
          "text": [
            "Epoch: 1/100\n"
          ]
        },
        {
          "output_type": "stream",
          "name": "stderr",
          "text": [
            "100%|██████████| 4/4 [00:16<00:00,  4.16s/it]\n"
          ]
        },
        {
          "output_type": "stream",
          "name": "stdout",
          "text": [
            "Train loss: 127.97184275528964 Train accuracy 0.02129817406153854 Train top 5 accuracy 0.11916835644446752\n"
          ]
        },
        {
          "output_type": "stream",
          "name": "stderr",
          "text": [
            "100%|██████████| 2/2 [00:10<00:00,  5.11s/it]\n"
          ]
        },
        {
          "output_type": "stream",
          "name": "stdout",
          "text": [
            "Valid loss: 5.164077099631815 Valid accuracy 0.01639885488240158 Valid top 5 accuracy 0.12076888967524557\n",
            "Saving best model wieghts, Accuracy: 0.01639885488240158\n",
            "Epoch: 2/100\n"
          ]
        },
        {
          "output_type": "stream",
          "name": "stderr",
          "text": [
            "100%|██████████| 4/4 [00:05<00:00,  1.35s/it]\n"
          ]
        },
        {
          "output_type": "stream",
          "name": "stdout",
          "text": [
            "Train loss: 121.33309630260749 Train accuracy 0.04361054712139508 Train top 5 accuracy 0.16227180801112862\n"
          ]
        },
        {
          "output_type": "stream",
          "name": "stderr",
          "text": [
            "100%|██████████| 2/2 [00:02<00:00,  1.27s/it]\n"
          ]
        },
        {
          "output_type": "stream",
          "name": "stdout",
          "text": [
            "Valid loss: 5.767270228442023 Valid accuracy 0.0344127685050754 Valid top 5 accuracy 0.16092878470526023\n",
            "Saving best model wieghts, Accuracy: 0.0344127685050754\n",
            "Epoch: 3/100\n"
          ]
        },
        {
          "output_type": "stream",
          "name": "stderr",
          "text": [
            "100%|██████████| 4/4 [00:05<00:00,  1.31s/it]\n"
          ]
        },
        {
          "output_type": "stream",
          "name": "stdout",
          "text": [
            "Train loss: 118.08847816551433 Train accuracy 0.04056795152342495 Train top 5 accuracy 0.15111561892006328\n"
          ]
        },
        {
          "output_type": "stream",
          "name": "stderr",
          "text": [
            "100%|██████████| 2/2 [00:02<00:00,  1.27s/it]\n"
          ]
        },
        {
          "output_type": "stream",
          "name": "stdout",
          "text": [
            "Valid loss: 6.172510034897748 Valid accuracy 0.03206875427242588 Valid top 5 accuracy 0.14232457527781234\n",
            "Accuracy didn't improve from: 0.0344127685050754\n",
            "Epoch: 4/100\n"
          ]
        },
        {
          "output_type": "stream",
          "name": "stderr",
          "text": [
            "100%|██████████| 4/4 [00:05<00:00,  1.31s/it]\n"
          ]
        },
        {
          "output_type": "stream",
          "name": "stdout",
          "text": [
            "Train loss: 111.2662624699228 Train accuracy 0.062373224728028566 Train top 5 accuracy 0.18230223332476966\n"
          ]
        },
        {
          "output_type": "stream",
          "name": "stderr",
          "text": [
            "100%|██████████| 2/2 [00:02<00:00,  1.27s/it]\n"
          ]
        },
        {
          "output_type": "stream",
          "name": "stdout",
          "text": [
            "Valid loss: 6.004818705951466 Valid accuracy 0.058525080518687475 Valid top 5 accuracy 0.1658030134790084\n",
            "Saving best model wieghts, Accuracy: 0.058525080518687475\n",
            "Epoch: 5/100\n"
          ]
        },
        {
          "output_type": "stream",
          "name": "stderr",
          "text": [
            "100%|██████████| 4/4 [00:05<00:00,  1.29s/it]\n"
          ]
        },
        {
          "output_type": "stream",
          "name": "stdout",
          "text": [
            "Train loss: 103.44240155991386 Train accuracy 0.09051723942598876 Train top 5 accuracy 0.23047667308984435\n"
          ]
        },
        {
          "output_type": "stream",
          "name": "stderr",
          "text": [
            "100%|██████████| 2/2 [00:02<00:00,  1.27s/it]\n"
          ]
        },
        {
          "output_type": "stream",
          "name": "stdout",
          "text": [
            "Valid loss: 6.782060111270232 Valid accuracy 0.03344743063344675 Valid top 5 accuracy 0.1358511348200195\n",
            "Accuracy didn't improve from: 0.058525080518687475\n",
            "Epoch: 6/100\n"
          ]
        },
        {
          "output_type": "stream",
          "name": "stderr",
          "text": [
            "100%|██████████| 4/4 [00:10<00:00,  2.56s/it]\n"
          ]
        },
        {
          "output_type": "stream",
          "name": "stdout",
          "text": [
            "Train loss: 83.69470385944142 Train accuracy 0.09406693756361217 Train top 5 accuracy 0.2122210941880065\n"
          ]
        },
        {
          "output_type": "stream",
          "name": "stderr",
          "text": [
            "100%|██████████| 2/2 [00:02<00:00,  1.28s/it]\n"
          ]
        },
        {
          "output_type": "stream",
          "name": "stdout",
          "text": [
            "Valid loss: 6.27731509068433 Valid accuracy 0.08805965796551284 Valid top 5 accuracy 0.15968480618561015\n",
            "Saving best model wieghts, Accuracy: 0.08805965796551284\n",
            "Epoch: 7/100\n"
          ]
        },
        {
          "output_type": "stream",
          "name": "stderr",
          "text": [
            "100%|██████████| 4/4 [00:05<00:00,  1.33s/it]\n"
          ]
        },
        {
          "output_type": "stream",
          "name": "stdout",
          "text": [
            "Train loss: 78.24000861714867 Train accuracy 0.10167342838009491 Train top 5 accuracy 0.27053752305972223\n"
          ]
        },
        {
          "output_type": "stream",
          "name": "stderr",
          "text": [
            "100%|██████████| 2/2 [00:01<00:00,  1.04it/s]\n"
          ]
        },
        {
          "output_type": "stream",
          "name": "stdout",
          "text": [
            "Valid loss: 6.138708303956425 Valid accuracy 0.07455285474219743 Valid top 5 accuracy 0.19434980226351933\n",
            "Accuracy didn't improve from: 0.08805965796551284\n",
            "Epoch: 8/100\n"
          ]
        },
        {
          "output_type": "stream",
          "name": "stderr",
          "text": [
            "100%|██████████| 4/4 [00:05<00:00,  1.34s/it]\n"
          ]
        },
        {
          "output_type": "stream",
          "name": "stdout",
          "text": [
            "Train loss: 56.105520251919245 Train accuracy 0.13209939085166245 Train top 5 accuracy 0.2707910742062856\n"
          ]
        },
        {
          "output_type": "stream",
          "name": "stderr",
          "text": [
            "100%|██████████| 2/2 [00:02<00:00,  1.27s/it]\n"
          ]
        },
        {
          "output_type": "stream",
          "name": "stdout",
          "text": [
            "Valid loss: 6.201694222057567 Valid accuracy 0.11369855077389408 Valid top 5 accuracy 0.24328357211368926\n",
            "Saving best model wieghts, Accuracy: 0.11369855077389408\n",
            "Epoch: 9/100\n"
          ]
        },
        {
          "output_type": "stream",
          "name": "stderr",
          "text": [
            "100%|██████████| 4/4 [00:10<00:00,  2.56s/it]\n"
          ]
        },
        {
          "output_type": "stream",
          "name": "stdout",
          "text": [
            "Train loss: 56.83695651853786 Train accuracy 0.15618661084376714 Train top 5 accuracy 0.3204868144958335\n"
          ]
        },
        {
          "output_type": "stream",
          "name": "stderr",
          "text": [
            "100%|██████████| 2/2 [00:01<00:00,  1.01it/s]\n"
          ]
        },
        {
          "output_type": "stream",
          "name": "stdout",
          "text": [
            "Valid loss: 6.654431735768037 Valid accuracy 0.08684869351632454 Valid top 5 accuracy 0.20435445054489024\n",
            "Accuracy didn't improve from: 0.11369855077389408\n",
            "Epoch: 10/100\n"
          ]
        },
        {
          "output_type": "stream",
          "name": "stderr",
          "text": [
            "100%|██████████| 4/4 [00:10<00:00,  2.56s/it]\n"
          ]
        },
        {
          "output_type": "stream",
          "name": "stdout",
          "text": [
            "Train loss: 47.16320315704626 Train accuracy 0.18458417964660945 Train top 5 accuracy 0.3364604456788477\n"
          ]
        },
        {
          "output_type": "stream",
          "name": "stderr",
          "text": [
            "100%|██████████| 2/2 [00:02<00:00,  1.28s/it]\n"
          ]
        },
        {
          "output_type": "stream",
          "name": "stdout",
          "text": [
            "Valid loss: 6.1833730515311744 Valid accuracy 0.11215876557809465 Valid top 5 accuracy 0.2748439086272436\n",
            "Accuracy didn't improve from: 0.11369855077389408\n",
            "Epoch: 11/100\n"
          ]
        },
        {
          "output_type": "stream",
          "name": "stderr",
          "text": [
            "100%|██████████| 4/4 [00:05<00:00,  1.31s/it]\n"
          ]
        },
        {
          "output_type": "stream",
          "name": "stdout",
          "text": [
            "Train loss: 36.50747117750785 Train accuracy 0.21069979873102376 Train top 5 accuracy 0.3600405733484556\n"
          ]
        },
        {
          "output_type": "stream",
          "name": "stderr",
          "text": [
            "100%|██████████| 2/2 [00:02<00:00,  1.27s/it]\n"
          ]
        },
        {
          "output_type": "stream",
          "name": "stdout",
          "text": [
            "Valid loss: 6.939499297562768 Valid accuracy 0.11146942602799219 Valid top 5 accuracy 0.24032945755650015\n",
            "Accuracy didn't improve from: 0.11369855077389408\n",
            "Epoch: 12/100\n"
          ]
        },
        {
          "output_type": "stream",
          "name": "stderr",
          "text": [
            "100%|██████████| 4/4 [00:10<00:00,  2.56s/it]\n"
          ]
        },
        {
          "output_type": "stream",
          "name": "stdout",
          "text": [
            "Train loss: 35.86845402331913 Train accuracy 0.20436105400543003 Train top 5 accuracy 0.3453346883658977\n"
          ]
        },
        {
          "output_type": "stream",
          "name": "stderr",
          "text": [
            "100%|██████████| 2/2 [00:02<00:00,  1.27s/it]\n"
          ]
        },
        {
          "output_type": "stream",
          "name": "stdout",
          "text": [
            "Valid loss: 6.753849627340541 Valid accuracy 0.16312093265792904 Valid top 5 accuracy 0.32387275971910534\n",
            "Saving best model wieghts, Accuracy: 0.16312093265792904\n",
            "Epoch: 13/100\n"
          ]
        },
        {
          "output_type": "stream",
          "name": "stderr",
          "text": [
            "100%|██████████| 4/4 [00:05<00:00,  1.33s/it]\n"
          ]
        },
        {
          "output_type": "stream",
          "name": "stdout",
          "text": [
            "Train loss: 29.252053278334 Train accuracy 0.21450304119464228 Train top 5 accuracy 0.3635902631041758\n"
          ]
        },
        {
          "output_type": "stream",
          "name": "stderr",
          "text": [
            "100%|██████████| 2/2 [00:02<00:00,  1.27s/it]\n"
          ]
        },
        {
          "output_type": "stream",
          "name": "stdout",
          "text": [
            "Valid loss: 6.283108912846622 Valid accuracy 0.16476240348728263 Valid top 5 accuracy 0.3413544835194069\n",
            "Saving best model wieghts, Accuracy: 0.16476240348728263\n",
            "Epoch: 14/100\n"
          ]
        },
        {
          "output_type": "stream",
          "name": "stderr",
          "text": [
            "100%|██████████| 4/4 [00:05<00:00,  1.31s/it]\n"
          ]
        },
        {
          "output_type": "stream",
          "name": "stdout",
          "text": [
            "Train loss: 29.597666549332 Train accuracy 0.20943205085966518 Train top 5 accuracy 0.35167342670919266\n"
          ]
        },
        {
          "output_type": "stream",
          "name": "stderr",
          "text": [
            "100%|██████████| 2/2 [00:02<00:00,  1.27s/it]\n"
          ]
        },
        {
          "output_type": "stream",
          "name": "stdout",
          "text": [
            "Valid loss: 6.500302330536001 Valid accuracy 0.17823355086147785 Valid top 5 accuracy 0.3334733131615555\n",
            "Saving best model wieghts, Accuracy: 0.17823355086147785\n",
            "Epoch: 15/100\n"
          ]
        },
        {
          "output_type": "stream",
          "name": "stderr",
          "text": [
            "100%|██████████| 4/4 [00:05<00:00,  1.33s/it]\n"
          ]
        },
        {
          "output_type": "stream",
          "name": "stdout",
          "text": [
            "Train loss: 33.31182384841583 Train accuracy 0.18661257367142858 Train top 5 accuracy 0.35116632485433535\n"
          ]
        },
        {
          "output_type": "stream",
          "name": "stderr",
          "text": [
            "100%|██████████| 2/2 [00:01<00:00,  1.06it/s]\n"
          ]
        },
        {
          "output_type": "stream",
          "name": "stdout",
          "text": [
            "Valid loss: 6.511090855388081 Valid accuracy 0.17670036918100188 Valid top 5 accuracy 0.32488035717431235\n",
            "Accuracy didn't improve from: 0.17823355086147785\n",
            "Epoch: 16/100\n"
          ]
        },
        {
          "output_type": "stream",
          "name": "stderr",
          "text": [
            "100%|██████████| 4/4 [00:10<00:00,  2.56s/it]\n"
          ]
        },
        {
          "output_type": "stream",
          "name": "stdout",
          "text": [
            "Train loss: 19.500879012486514 Train accuracy 0.24543610957505949 Train top 5 accuracy 0.3841277920257519\n"
          ]
        },
        {
          "output_type": "stream",
          "name": "stderr",
          "text": [
            "100%|██████████| 2/2 [00:01<00:00,  1.01it/s]\n"
          ]
        },
        {
          "output_type": "stream",
          "name": "stdout",
          "text": [
            "Valid loss: 6.070344944210613 Valid accuracy 0.21654860697248401 Valid top 5 accuracy 0.35525877675151124\n",
            "Saving best model wieghts, Accuracy: 0.21654860697248401\n",
            "Epoch: 17/100\n"
          ]
        },
        {
          "output_type": "stream",
          "name": "stderr",
          "text": [
            "100%|██████████| 4/4 [00:10<00:00,  2.56s/it]\n"
          ]
        },
        {
          "output_type": "stream",
          "name": "stdout",
          "text": [
            "Train loss: 19.665140213335263 Train accuracy 0.2449290045427487 Train top 5 accuracy 0.36967545906629634\n"
          ]
        },
        {
          "output_type": "stream",
          "name": "stderr",
          "text": [
            "100%|██████████| 2/2 [00:01<00:00,  1.01it/s]\n"
          ]
        },
        {
          "output_type": "stream",
          "name": "stdout",
          "text": [
            "Valid loss: 6.129207959946464 Valid accuracy 0.2032187609549831 Valid top 5 accuracy 0.3443350124665919\n",
            "Accuracy didn't improve from: 0.21654860697248401\n",
            "Epoch: 18/100\n"
          ]
        },
        {
          "output_type": "stream",
          "name": "stderr",
          "text": [
            "100%|██████████| 4/4 [00:05<00:00,  1.35s/it]\n"
          ]
        },
        {
          "output_type": "stream",
          "name": "stdout",
          "text": [
            "Train loss: 22.123834820354688 Train accuracy 0.2342799188952674 Train top 5 accuracy 0.37322515199947004\n"
          ]
        },
        {
          "output_type": "stream",
          "name": "stderr",
          "text": [
            "100%|██████████| 2/2 [00:02<00:00,  1.27s/it]\n"
          ]
        },
        {
          "output_type": "stream",
          "name": "stdout",
          "text": [
            "Valid loss: 6.76735510896234 Valid accuracy 0.1811546526630135 Valid top 5 accuracy 0.33100516414817643\n",
            "Accuracy didn't improve from: 0.21654860697248401\n",
            "Epoch: 19/100\n"
          ]
        },
        {
          "output_type": "stream",
          "name": "stderr",
          "text": [
            "100%|██████████| 4/4 [00:05<00:00,  1.36s/it]\n"
          ]
        },
        {
          "output_type": "stream",
          "name": "stdout",
          "text": [
            "Train loss: 24.29247241686372 Train accuracy 0.21348884400418577 Train top 5 accuracy 0.34153144132784186\n"
          ]
        },
        {
          "output_type": "stream",
          "name": "stderr",
          "text": [
            "100%|██████████| 2/2 [00:02<00:00,  1.27s/it]\n"
          ]
        },
        {
          "output_type": "stream",
          "name": "stdout",
          "text": [
            "Valid loss: 6.262900458539233 Valid accuracy 0.197153375538833 Valid top 5 accuracy 0.3581178149975398\n",
            "Accuracy didn't improve from: 0.21654860697248401\n",
            "Epoch: 20/100\n"
          ]
        },
        {
          "output_type": "stream",
          "name": "stderr",
          "text": [
            "100%|██████████| 4/4 [00:05<00:00,  1.34s/it]\n"
          ]
        },
        {
          "output_type": "stream",
          "name": "stdout",
          "text": [
            "Train loss: 23.448644939590903 Train accuracy 0.2641987834290108 Train top 5 accuracy 0.37905679418541055\n"
          ]
        },
        {
          "output_type": "stream",
          "name": "stderr",
          "text": [
            "100%|██████████| 2/2 [00:01<00:00,  1.06it/s]\n"
          ]
        },
        {
          "output_type": "stream",
          "name": "stdout",
          "text": [
            "Valid loss: 6.356188164037817 Valid accuracy 0.18233920776230447 Valid top 5 accuracy 0.31993349455296993\n",
            "Accuracy didn't improve from: 0.21654860697248401\n",
            "Epoch: 21/100\n"
          ]
        },
        {
          "output_type": "stream",
          "name": "stderr",
          "text": [
            "100%|██████████| 4/4 [00:05<00:00,  1.45s/it]\n"
          ]
        },
        {
          "output_type": "stream",
          "name": "stdout",
          "text": [
            "Train loss: 16.808546101345737 Train accuracy 0.2634381324819782 Train top 5 accuracy 0.3818458422251484\n"
          ]
        },
        {
          "output_type": "stream",
          "name": "stderr",
          "text": [
            "100%|██████████| 2/2 [00:01<00:00,  1.03it/s]\n"
          ]
        },
        {
          "output_type": "stream",
          "name": "stdout",
          "text": [
            "Valid loss: 6.289570711114827 Valid accuracy 0.19553435550016515 Valid top 5 accuracy 0.33359480452011614\n",
            "Accuracy didn't improve from: 0.21654860697248401\n",
            "Epoch: 22/100\n"
          ]
        },
        {
          "output_type": "stream",
          "name": "stderr",
          "text": [
            "100%|██████████| 4/4 [00:10<00:00,  2.56s/it]\n"
          ]
        },
        {
          "output_type": "stream",
          "name": "stdout",
          "text": [
            "Train loss: 15.139001474660986 Train accuracy 0.28600405994802713 Train top 5 accuracy 0.3904665316838552\n"
          ]
        },
        {
          "output_type": "stream",
          "name": "stderr",
          "text": [
            "100%|██████████| 2/2 [00:02<00:00,  1.27s/it]\n"
          ]
        },
        {
          "output_type": "stream",
          "name": "stdout",
          "text": [
            "Valid loss: 6.327130774364752 Valid accuracy 0.18997078958679647 Valid top 5 accuracy 0.3328367980087505\n",
            "Accuracy didn't improve from: 0.21654860697248401\n",
            "Epoch: 23/100\n"
          ]
        },
        {
          "output_type": "stream",
          "name": "stderr",
          "text": [
            "100%|██████████| 4/4 [00:05<00:00,  1.35s/it]\n"
          ]
        },
        {
          "output_type": "stream",
          "name": "stdout",
          "text": [
            "Train loss: 16.292107920436298 Train accuracy 0.2639452334602966 Train top 5 accuracy 0.38311359445180965\n"
          ]
        },
        {
          "output_type": "stream",
          "name": "stderr",
          "text": [
            "100%|██████████| 2/2 [00:01<00:00,  1.07it/s]\n"
          ]
        },
        {
          "output_type": "stream",
          "name": "stdout",
          "text": [
            "Valid loss: 6.677127673345454 Valid accuracy 0.1825795515495188 Valid top 5 accuracy 0.3327417177531649\n",
            "Accuracy didn't improve from: 0.21654860697248401\n",
            "Epoch: 24/100\n"
          ]
        },
        {
          "output_type": "stream",
          "name": "stderr",
          "text": [
            "100%|██████████| 4/4 [00:10<00:00,  2.56s/it]\n"
          ]
        },
        {
          "output_type": "stream",
          "name": "stdout",
          "text": [
            "Train loss: 12.949638363193063 Train accuracy 0.2776369188145241 Train top 5 accuracy 0.38970588218859015\n"
          ]
        },
        {
          "output_type": "stream",
          "name": "stderr",
          "text": [
            "100%|██████████| 2/2 [00:01<00:00,  1.01it/s]\n"
          ]
        },
        {
          "output_type": "stream",
          "name": "stdout",
          "text": [
            "Valid loss: 6.341454336748404 Valid accuracy 0.24485901502125404 Valid top 5 accuracy 0.36751500067903714\n",
            "Saving best model wieghts, Accuracy: 0.24485901502125404\n",
            "Epoch: 25/100\n"
          ]
        },
        {
          "output_type": "stream",
          "name": "stderr",
          "text": [
            "100%|██████████| 4/4 [00:10<00:00,  2.56s/it]\n"
          ]
        },
        {
          "output_type": "stream",
          "name": "stdout",
          "text": [
            "Train loss: 16.35349565569092 Train accuracy 0.2479716059203972 Train top 5 accuracy 0.3630831613588859\n"
          ]
        },
        {
          "output_type": "stream",
          "name": "stderr",
          "text": [
            "100%|██████████| 2/2 [00:01<00:00,  1.01it/s]\n"
          ]
        },
        {
          "output_type": "stream",
          "name": "stdout",
          "text": [
            "Valid loss: 6.510765829507043 Valid accuracy 0.20294672316488097 Valid top 5 accuracy 0.3538734995047836\n",
            "Accuracy didn't improve from: 0.24485901502125404\n",
            "Epoch: 26/100\n"
          ]
        },
        {
          "output_type": "stream",
          "name": "stderr",
          "text": [
            "100%|██████████| 4/4 [00:05<00:00,  1.34s/it]\n"
          ]
        },
        {
          "output_type": "stream",
          "name": "stdout",
          "text": [
            "Train loss: 12.2254159450531 Train accuracy 0.32175456464071484 Train top 5 accuracy 0.39579107464455504\n"
          ]
        },
        {
          "output_type": "stream",
          "name": "stderr",
          "text": [
            "100%|██████████| 2/2 [00:02<00:00,  1.27s/it]\n"
          ]
        },
        {
          "output_type": "stream",
          "name": "stdout",
          "text": [
            "Valid loss: 6.347281368339763 Valid accuracy 0.21366316025309703 Valid top 5 accuracy 0.347167637966135\n",
            "Accuracy didn't improve from: 0.24485901502125404\n",
            "Epoch: 27/100\n"
          ]
        },
        {
          "output_type": "stream",
          "name": "stderr",
          "text": [
            "100%|██████████| 4/4 [00:05<00:00,  1.36s/it]\n"
          ]
        },
        {
          "output_type": "stream",
          "name": "stdout",
          "text": [
            "Train loss: 11.893744659774443 Train accuracy 0.2976673408685362 Train top 5 accuracy 0.3935091283501071\n"
          ]
        },
        {
          "output_type": "stream",
          "name": "stderr",
          "text": [
            "100%|██████████| 2/2 [00:02<00:00,  1.28s/it]\n"
          ]
        },
        {
          "output_type": "stream",
          "name": "stdout",
          "text": [
            "Valid loss: 6.467278533122119 Valid accuracy 0.2254400137154495 Valid top 5 accuracy 0.3400022174943896\n",
            "Accuracy didn't improve from: 0.24485901502125404\n",
            "Epoch: 28/100\n"
          ]
        },
        {
          "output_type": "stream",
          "name": "stderr",
          "text": [
            "100%|██████████| 4/4 [00:10<00:00,  2.56s/it]\n"
          ]
        },
        {
          "output_type": "stream",
          "name": "stdout",
          "text": [
            "Train loss: 10.506075650453568 Train accuracy 0.3108519248335677 Train top 5 accuracy 0.39300202605698037\n"
          ]
        },
        {
          "output_type": "stream",
          "name": "stderr",
          "text": [
            "100%|██████████| 2/2 [00:02<00:00,  1.01s/it]\n"
          ]
        },
        {
          "output_type": "stream",
          "name": "stdout",
          "text": [
            "Valid loss: 6.453602410414639 Valid accuracy 0.21938783478210955 Valid top 5 accuracy 0.3606942494345062\n",
            "Accuracy didn't improve from: 0.24485901502125404\n",
            "Epoch: 29/100\n"
          ]
        },
        {
          "output_type": "stream",
          "name": "stderr",
          "text": [
            "100%|██████████| 4/4 [00:10<00:00,  2.56s/it]\n"
          ]
        },
        {
          "output_type": "stream",
          "name": "stdout",
          "text": [
            "Train loss: 12.087583387599272 Train accuracy 0.3111054794041111 Train top 5 accuracy 0.38488844108274756\n"
          ]
        },
        {
          "output_type": "stream",
          "name": "stderr",
          "text": [
            "100%|██████████| 2/2 [00:02<00:00,  1.27s/it]\n"
          ]
        },
        {
          "output_type": "stream",
          "name": "stdout",
          "text": [
            "Valid loss: 5.975155148436041 Valid accuracy 0.223848725833437 Valid top 5 accuracy 0.36253248439992175\n",
            "Accuracy didn't improve from: 0.24485901502125404\n",
            "Epoch: 30/100\n"
          ]
        },
        {
          "output_type": "stream",
          "name": "stderr",
          "text": [
            "100%|██████████| 4/4 [00:10<00:00,  2.56s/it]\n"
          ]
        },
        {
          "output_type": "stream",
          "name": "stdout",
          "text": [
            "Train loss: 9.502548529821283 Train accuracy 0.3255578112678931 Train top 5 accuracy 0.3970588233650607\n"
          ]
        },
        {
          "output_type": "stream",
          "name": "stderr",
          "text": [
            "100%|██████████| 2/2 [00:02<00:00,  1.27s/it]\n"
          ]
        },
        {
          "output_type": "stream",
          "name": "stdout",
          "text": [
            "Valid loss: 6.2257858041454766 Valid accuracy 0.21495995955432162 Valid top 5 accuracy 0.3563350440167329\n",
            "Accuracy didn't improve from: 0.24485901502125404\n",
            "Epoch: 31/100\n"
          ]
        },
        {
          "output_type": "stream",
          "name": "stderr",
          "text": [
            "100%|██████████| 4/4 [00:10<00:00,  2.56s/it]\n"
          ]
        },
        {
          "output_type": "stream",
          "name": "stdout",
          "text": [
            "Train loss: 9.70585536255556 Train accuracy 0.3138945224311422 Train top 5 accuracy 0.3983265720855664\n"
          ]
        },
        {
          "output_type": "stream",
          "name": "stderr",
          "text": [
            "100%|██████████| 2/2 [00:02<00:00,  1.28s/it]\n"
          ]
        },
        {
          "output_type": "stream",
          "name": "stdout",
          "text": [
            "Valid loss: 6.628015016808229 Valid accuracy 0.20781038854928577 Valid top 5 accuracy 0.3417942326735048\n",
            "Accuracy didn't improve from: 0.24485901502125404\n",
            "Epoch: 32/100\n"
          ]
        },
        {
          "output_type": "stream",
          "name": "stderr",
          "text": [
            "100%|██████████| 4/4 [00:05<00:00,  1.32s/it]\n"
          ]
        },
        {
          "output_type": "stream",
          "name": "stdout",
          "text": [
            "Train loss: 9.973901647855254 Train accuracy 0.3012170401018332 Train top 5 accuracy 0.385141987408347\n"
          ]
        },
        {
          "output_type": "stream",
          "name": "stderr",
          "text": [
            "100%|██████████| 2/2 [00:02<00:00,  1.27s/it]\n"
          ]
        },
        {
          "output_type": "stream",
          "name": "stdout",
          "text": [
            "Valid loss: 6.26087771180798 Valid accuracy 0.25034070814795356 Valid top 5 accuracy 0.36875237929908666\n",
            "Saving best model wieghts, Accuracy: 0.25034070814795356\n",
            "Epoch: 33/100\n"
          ]
        },
        {
          "output_type": "stream",
          "name": "stderr",
          "text": [
            "100%|██████████| 4/4 [00:05<00:00,  1.34s/it]\n"
          ]
        },
        {
          "output_type": "stream",
          "name": "stdout",
          "text": [
            "Train loss: 8.019884151570936 Train accuracy 0.3126267730532324 Train top 5 accuracy 0.39274847491041703\n"
          ]
        },
        {
          "output_type": "stream",
          "name": "stderr",
          "text": [
            "100%|██████████| 2/2 [00:02<00:00,  1.27s/it]\n"
          ]
        },
        {
          "output_type": "stream",
          "name": "stdout",
          "text": [
            "Valid loss: 6.234700359842357 Valid accuracy 0.25327501588446255 Valid top 5 accuracy 0.36807624491698604\n",
            "Saving best model wieghts, Accuracy: 0.25327501588446255\n",
            "Epoch: 34/100\n"
          ]
        },
        {
          "output_type": "stream",
          "name": "stderr",
          "text": [
            "100%|██████████| 4/4 [00:10<00:00,  2.56s/it]\n"
          ]
        },
        {
          "output_type": "stream",
          "name": "stdout",
          "text": [
            "Train loss: 6.440454232342103 Train accuracy 0.33189655281603336 Train top 5 accuracy 0.3968052722184974\n"
          ]
        },
        {
          "output_type": "stream",
          "name": "stderr",
          "text": [
            "100%|██████████| 2/2 [00:02<00:00,  1.00s/it]\n"
          ]
        },
        {
          "output_type": "stream",
          "name": "stdout",
          "text": [
            "Valid loss: 6.275198974153575 Valid accuracy 0.2534427309737486 Valid top 5 accuracy 0.36388475075364113\n",
            "Saving best model wieghts, Accuracy: 0.2534427309737486\n",
            "Epoch: 35/100\n"
          ]
        },
        {
          "output_type": "stream",
          "name": "stderr",
          "text": [
            "100%|██████████| 4/4 [00:05<00:00,  1.33s/it]\n"
          ]
        },
        {
          "output_type": "stream",
          "name": "stdout",
          "text": [
            "Train loss: 7.621799030724694 Train accuracy 0.3154158220242928 Train top 5 accuracy 0.39325557369738817\n"
          ]
        },
        {
          "output_type": "stream",
          "name": "stderr",
          "text": [
            "100%|██████████| 2/2 [00:02<00:00,  1.27s/it]\n"
          ]
        },
        {
          "output_type": "stream",
          "name": "stdout",
          "text": [
            "Valid loss: 6.605189958039452 Valid accuracy 0.23075795381823005 Valid top 5 accuracy 0.3577203236739425\n",
            "Accuracy didn't improve from: 0.2534427309737486\n",
            "Epoch: 36/100\n"
          ]
        },
        {
          "output_type": "stream",
          "name": "stderr",
          "text": [
            "100%|██████████| 4/4 [00:05<00:00,  1.34s/it]\n"
          ]
        },
        {
          "output_type": "stream",
          "name": "stdout",
          "text": [
            "Train loss: 10.321926809409085 Train accuracy 0.2920892545405556 Train top 5 accuracy 0.39401622713707823\n"
          ]
        },
        {
          "output_type": "stream",
          "name": "stderr",
          "text": [
            "100%|██████████| 2/2 [00:02<00:00,  1.27s/it]\n"
          ]
        },
        {
          "output_type": "stream",
          "name": "stdout",
          "text": [
            "Valid loss: 6.6226348824360795 Valid accuracy 0.23149615591939757 Valid top 5 accuracy 0.35078468283309655\n",
            "Accuracy didn't improve from: 0.2534427309737486\n",
            "Epoch: 37/100\n"
          ]
        },
        {
          "output_type": "stream",
          "name": "stderr",
          "text": [
            "100%|██████████| 4/4 [00:05<00:00,  1.38s/it]\n"
          ]
        },
        {
          "output_type": "stream",
          "name": "stdout",
          "text": [
            "Train loss: 8.497015781262341 Train accuracy 0.304766733363709 Train top 5 accuracy 0.3940162236309227\n"
          ]
        },
        {
          "output_type": "stream",
          "name": "stderr",
          "text": [
            "100%|██████████| 2/2 [00:01<00:00,  1.04it/s]\n"
          ]
        },
        {
          "output_type": "stream",
          "name": "stdout",
          "text": [
            "Valid loss: 6.498488421825802 Valid accuracy 0.25760781315757947 Valid top 5 accuracy 0.369792987647302\n",
            "Saving best model wieghts, Accuracy: 0.25760781315757947\n",
            "Epoch: 38/100\n"
          ]
        },
        {
          "output_type": "stream",
          "name": "stderr",
          "text": [
            "100%|██████████| 4/4 [00:05<00:00,  1.38s/it]\n"
          ]
        },
        {
          "output_type": "stream",
          "name": "stdout",
          "text": [
            "Train loss: 7.029054752167533 Train accuracy 0.3324036511647351 Train top 5 accuracy 0.3968052722184974\n"
          ]
        },
        {
          "output_type": "stream",
          "name": "stderr",
          "text": [
            "100%|██████████| 2/2 [00:01<00:00,  1.05it/s]\n"
          ]
        },
        {
          "output_type": "stream",
          "name": "stdout",
          "text": [
            "Valid loss: 6.360583336037748 Valid accuracy 0.2538296574836268 Valid top 5 accuracy 0.3646823766038698\n",
            "Accuracy didn't improve from: 0.25760781315757947\n",
            "Epoch: 39/100\n"
          ]
        },
        {
          "output_type": "stream",
          "name": "stderr",
          "text": [
            "100%|██████████| 4/4 [00:05<00:00,  1.34s/it]\n"
          ]
        },
        {
          "output_type": "stream",
          "name": "stdout",
          "text": [
            "Train loss: 5.841348092345631 Train accuracy 0.3392494931981406 Train top 5 accuracy 0.39781946979243965\n"
          ]
        },
        {
          "output_type": "stream",
          "name": "stderr",
          "text": [
            "100%|██████████| 2/2 [00:01<00:00,  1.05it/s]\n"
          ]
        },
        {
          "output_type": "stream",
          "name": "stdout",
          "text": [
            "Valid loss: 6.1896933974588615 Valid accuracy 0.24687156683820136 Valid top 5 accuracy 0.36365497276625214\n",
            "Accuracy didn't improve from: 0.25760781315757947\n",
            "Epoch: 40/100\n"
          ]
        },
        {
          "output_type": "stream",
          "name": "stderr",
          "text": [
            "100%|██████████| 4/4 [00:05<00:00,  1.33s/it]\n"
          ]
        },
        {
          "output_type": "stream",
          "name": "stdout",
          "text": [
            "Train loss: 5.710895122850642 Train accuracy 0.3296146022210665 Train top 5 accuracy 0.39756592215203185\n"
          ]
        },
        {
          "output_type": "stream",
          "name": "stderr",
          "text": [
            "100%|██████████| 2/2 [00:01<00:00,  1.06it/s]\n"
          ]
        },
        {
          "output_type": "stream",
          "name": "stdout",
          "text": [
            "Valid loss: 6.47977290258688 Valid accuracy 0.22470181281952298 Valid top 5 accuracy 0.3483852051636752\n",
            "Accuracy didn't improve from: 0.25760781315757947\n",
            "Epoch: 41/100\n"
          ]
        },
        {
          "output_type": "stream",
          "name": "stderr",
          "text": [
            "100%|██████████| 4/4 [00:05<00:00,  1.33s/it]\n"
          ]
        },
        {
          "output_type": "stream",
          "name": "stdout",
          "text": [
            "Train loss: 9.931283497635055 Train accuracy 0.3055273845024845 Train top 5 accuracy 0.39300202386563315\n"
          ]
        },
        {
          "output_type": "stream",
          "name": "stderr",
          "text": [
            "100%|██████████| 2/2 [00:02<00:00,  1.28s/it]\n"
          ]
        },
        {
          "output_type": "stream",
          "name": "stdout",
          "text": [
            "Valid loss: 6.953847506467034 Valid accuracy 0.21444757775787046 Valid top 5 accuracy 0.34542448380414176\n",
            "Accuracy didn't improve from: 0.25760781315757947\n",
            "Epoch: 42/100\n"
          ]
        },
        {
          "output_type": "stream",
          "name": "stderr",
          "text": [
            "100%|██████████| 4/4 [00:10<00:00,  2.56s/it]\n"
          ]
        },
        {
          "output_type": "stream",
          "name": "stdout",
          "text": [
            "Train loss: 26.998451070750463 Train accuracy 0.2685091295553481 Train top 5 accuracy 0.38767748134320273\n"
          ]
        },
        {
          "output_type": "stream",
          "name": "stderr",
          "text": [
            "100%|██████████| 2/2 [00:02<00:00,  1.28s/it]\n"
          ]
        },
        {
          "output_type": "stream",
          "name": "stdout",
          "text": [
            "Valid loss: 7.630982041358948 Valid accuracy 0.09843538734404479 Valid top 5 accuracy 0.2545520089128438\n",
            "Accuracy didn't improve from: 0.25760781315757947\n",
            "Epoch: 43/100\n"
          ]
        },
        {
          "output_type": "stream",
          "name": "stderr",
          "text": [
            "100%|██████████| 4/4 [00:05<00:00,  1.35s/it]\n"
          ]
        },
        {
          "output_type": "stream",
          "name": "stdout",
          "text": [
            "Train loss: 20.53058402722373 Train accuracy 0.27383366703767986 Train top 5 accuracy 0.3782961437040392\n"
          ]
        },
        {
          "output_type": "stream",
          "name": "stderr",
          "text": [
            "100%|██████████| 2/2 [00:02<00:00,  1.27s/it]\n"
          ]
        },
        {
          "output_type": "stream",
          "name": "stdout",
          "text": [
            "Valid loss: 6.347500043756821 Valid accuracy 0.18137519039651928 Valid top 5 accuracy 0.3384399820557412\n",
            "Accuracy didn't improve from: 0.25760781315757947\n",
            "Epoch: 44/100\n"
          ]
        },
        {
          "output_type": "stream",
          "name": "stderr",
          "text": [
            "100%|██████████| 4/4 [00:10<00:00,  2.56s/it]\n"
          ]
        },
        {
          "output_type": "stream",
          "name": "stdout",
          "text": [
            "Train loss: 6.808073739795124 Train accuracy 0.33671399167574506 Train top 5 accuracy 0.3973123674993129\n"
          ]
        },
        {
          "output_type": "stream",
          "name": "stderr",
          "text": [
            "100%|██████████| 2/2 [00:01<00:00,  1.00it/s]\n"
          ]
        },
        {
          "output_type": "stream",
          "name": "stdout",
          "text": [
            "Valid loss: 6.499850827981444 Valid accuracy 0.2213237948496552 Valid top 5 accuracy 0.3639930369442\n",
            "Accuracy didn't improve from: 0.25760781315757947\n",
            "Epoch: 45/100\n"
          ]
        },
        {
          "output_type": "stream",
          "name": "stderr",
          "text": [
            "100%|██████████| 4/4 [00:10<00:00,  2.56s/it]\n"
          ]
        },
        {
          "output_type": "stream",
          "name": "stdout",
          "text": [
            "Train loss: 5.319743694627986 Train accuracy 0.3552231205462971 Train top 5 accuracy 0.39858012323212977\n"
          ]
        },
        {
          "output_type": "stream",
          "name": "stderr",
          "text": [
            "100%|██████████| 2/2 [00:01<00:00,  1.01it/s]\n"
          ]
        },
        {
          "output_type": "stream",
          "name": "stdout",
          "text": [
            "Valid loss: 6.536847185562639 Valid accuracy 0.21606923847952308 Valid top 5 accuracy 0.3628639502122122\n",
            "Accuracy didn't improve from: 0.25760781315757947\n",
            "Epoch: 46/100\n"
          ]
        },
        {
          "output_type": "stream",
          "name": "stderr",
          "text": [
            "100%|██████████| 4/4 [00:05<00:00,  1.34s/it]\n"
          ]
        },
        {
          "output_type": "stream",
          "name": "stdout",
          "text": [
            "Train loss: 6.4084592584301445 Train accuracy 0.34026369164862175 Train top 5 accuracy 0.3983265720855664\n"
          ]
        },
        {
          "output_type": "stream",
          "name": "stderr",
          "text": [
            "100%|██████████| 2/2 [00:02<00:00,  1.27s/it]\n"
          ]
        },
        {
          "output_type": "stream",
          "name": "stdout",
          "text": [
            "Valid loss: 6.643222961355658 Valid accuracy 0.19326693422215827 Valid top 5 accuracy 0.3504598217413706\n",
            "Accuracy didn't improve from: 0.25760781315757947\n",
            "Epoch: 47/100\n"
          ]
        },
        {
          "output_type": "stream",
          "name": "stderr",
          "text": [
            "100%|██████████| 4/4 [00:05<00:00,  1.36s/it]\n"
          ]
        },
        {
          "output_type": "stream",
          "name": "stdout",
          "text": [
            "Train loss: 4.777216421330676 Train accuracy 0.3524340745609473 Train top 5 accuracy 0.3990872220191009\n"
          ]
        },
        {
          "output_type": "stream",
          "name": "stderr",
          "text": [
            "100%|██████████| 2/2 [00:02<00:00,  1.27s/it]\n"
          ]
        },
        {
          "output_type": "stream",
          "name": "stdout",
          "text": [
            "Valid loss: 6.643133770017063 Valid accuracy 0.23572726646328673 Valid top 5 accuracy 0.36490555337684993\n",
            "Accuracy didn't improve from: 0.25760781315757947\n",
            "model didn't improve for 10 epochs----> lower learning rate to 2e-05\n",
            "Epoch: 48/100\n"
          ]
        },
        {
          "output_type": "stream",
          "name": "stderr",
          "text": [
            "100%|██████████| 4/4 [00:11<00:00,  2.80s/it]\n"
          ]
        },
        {
          "output_type": "stream",
          "name": "stdout",
          "text": [
            "Train loss: 3.962093710022814 Train accuracy 0.36080121824189143 Train top 5 accuracy 0.39858012323212977\n"
          ]
        },
        {
          "output_type": "stream",
          "name": "stderr",
          "text": [
            "100%|██████████| 2/2 [00:10<00:00,  5.11s/it]\n"
          ]
        },
        {
          "output_type": "stream",
          "name": "stdout",
          "text": [
            "Valid loss: 6.517228695399621 Valid accuracy 0.23663978015675263 Valid top 5 accuracy 0.36160676553845406\n",
            "Accuracy didn't improve from: 0.25760781315757947\n",
            "Epoch: 49/100\n"
          ]
        },
        {
          "output_type": "stream",
          "name": "stderr",
          "text": [
            "100%|██████████| 4/4 [00:05<00:00,  1.33s/it]\n"
          ]
        },
        {
          "output_type": "stream",
          "name": "stdout",
          "text": [
            "Train loss: 3.6982387558502308 Train accuracy 0.3656186602242729 Train top 5 accuracy 0.3990872220191009\n"
          ]
        },
        {
          "output_type": "stream",
          "name": "stderr",
          "text": [
            "100%|██████████| 2/2 [00:01<00:00,  1.07it/s]\n"
          ]
        },
        {
          "output_type": "stream",
          "name": "stdout",
          "text": [
            "Valid loss: 6.491478489602313 Valid accuracy 0.23802506036179907 Valid top 5 accuracy 0.36240439138868275\n",
            "Accuracy didn't improve from: 0.25760781315757947\n",
            "Epoch: 50/100\n"
          ]
        },
        {
          "output_type": "stream",
          "name": "stderr",
          "text": [
            "100%|██████████| 4/4 [00:05<00:00,  1.30s/it]\n"
          ]
        },
        {
          "output_type": "stream",
          "name": "stdout",
          "text": [
            "Train loss: 3.536490136209656 Train accuracy 0.3658722096177585 Train top 5 accuracy 0.3990872220191009\n"
          ]
        },
        {
          "output_type": "stream",
          "name": "stderr",
          "text": [
            "100%|██████████| 2/2 [00:01<00:00,  1.05it/s]\n"
          ]
        },
        {
          "output_type": "stream",
          "name": "stdout",
          "text": [
            "Valid loss: 6.429177393808084 Valid accuracy 0.23632152279948487 Valid top 5 accuracy 0.3610389199765289\n",
            "Accuracy didn't improve from: 0.25760781315757947\n",
            "Epoch: 51/100\n"
          ]
        },
        {
          "output_type": "stream",
          "name": "stderr",
          "text": [
            "100%|██████████| 4/4 [00:05<00:00,  1.31s/it]\n"
          ]
        },
        {
          "output_type": "stream",
          "name": "stdout",
          "text": [
            "Train loss: 3.531979501247406 Train accuracy 0.3648580120438162 Train top 5 accuracy 0.3990872220191009\n"
          ]
        },
        {
          "output_type": "stream",
          "name": "stderr",
          "text": [
            "100%|██████████| 2/2 [00:01<00:00,  1.04it/s]\n"
          ]
        },
        {
          "output_type": "stream",
          "name": "stdout",
          "text": [
            "Valid loss: 6.4153974967844345 Valid accuracy 0.24233804577413728 Valid top 5 accuracy 0.361944832455586\n",
            "Accuracy didn't improve from: 0.25760781315757947\n",
            "Epoch: 52/100\n"
          ]
        },
        {
          "output_type": "stream",
          "name": "stderr",
          "text": [
            "100%|██████████| 4/4 [00:10<00:00,  2.56s/it]\n"
          ]
        },
        {
          "output_type": "stream",
          "name": "stdout",
          "text": [
            "Train loss: 3.2321264533435596 Train accuracy 0.3666328563738395 Train top 5 accuracy 0.3990872220191009\n"
          ]
        },
        {
          "output_type": "stream",
          "name": "stderr",
          "text": [
            "100%|██████████| 2/2 [00:01<00:00,  1.02it/s]\n"
          ]
        },
        {
          "output_type": "stream",
          "name": "stdout",
          "text": [
            "Valid loss: 6.533536100212266 Valid accuracy 0.25109871367321296 Valid top 5 accuracy 0.36501384088221717\n",
            "Accuracy didn't improve from: 0.25760781315757947\n",
            "Epoch: 53/100\n"
          ]
        },
        {
          "output_type": "stream",
          "name": "stderr",
          "text": [
            "100%|██████████| 4/4 [00:10<00:00,  2.56s/it]\n"
          ]
        },
        {
          "output_type": "stream",
          "name": "stdout",
          "text": [
            "Train loss: 3.1603841264458263 Train accuracy 0.36587220863165226 Train top 5 accuracy 0.3990872220191009\n"
          ]
        },
        {
          "output_type": "stream",
          "name": "stderr",
          "text": [
            "100%|██████████| 2/2 [00:01<00:00,  1.00it/s]\n"
          ]
        },
        {
          "output_type": "stream",
          "name": "stdout",
          "text": [
            "Valid loss: 6.583328791400966 Valid accuracy 0.24656915511278546 Valid top 5 accuracy 0.36284413889927025\n",
            "Accuracy didn't improve from: 0.25760781315757947\n",
            "Epoch: 54/100\n"
          ]
        },
        {
          "output_type": "stream",
          "name": "stderr",
          "text": [
            "100%|██████████| 4/4 [00:05<00:00,  1.31s/it]\n"
          ]
        },
        {
          "output_type": "stream",
          "name": "stdout",
          "text": [
            "Train loss: 3.078034880406716 Train accuracy 0.3666328563738395 Train top 5 accuracy 0.3990872220191009\n"
          ]
        },
        {
          "output_type": "stream",
          "name": "stderr",
          "text": [
            "100%|██████████| 2/2 [00:02<00:00,  1.27s/it]\n"
          ]
        },
        {
          "output_type": "stream",
          "name": "stdout",
          "text": [
            "Valid loss: 6.602331051055123 Valid accuracy 0.24271572972921765 Valid top 5 accuracy 0.363175603615887\n",
            "Accuracy didn't improve from: 0.25760781315757947\n",
            "Epoch: 55/100\n"
          ]
        },
        {
          "output_type": "stream",
          "name": "stderr",
          "text": [
            "100%|██████████| 4/4 [00:05<00:00,  1.33s/it]\n"
          ]
        },
        {
          "output_type": "stream",
          "name": "stdout",
          "text": [
            "Train loss: 3.0198777712443294 Train accuracy 0.3696754561079776 Train top 5 accuracy 0.3990872220191009\n"
          ]
        },
        {
          "output_type": "stream",
          "name": "stderr",
          "text": [
            "100%|██████████| 2/2 [00:02<00:00,  1.27s/it]\n"
          ]
        },
        {
          "output_type": "stream",
          "name": "stdout",
          "text": [
            "Valid loss: 6.67589794011677 Valid accuracy 0.23109602205017032 Valid top 5 accuracy 0.3595321477555177\n",
            "Accuracy didn't improve from: 0.25760781315757947\n",
            "Epoch: 56/100\n"
          ]
        },
        {
          "output_type": "stream",
          "name": "stderr",
          "text": [
            "100%|██████████| 4/4 [00:05<00:00,  1.31s/it]\n"
          ]
        },
        {
          "output_type": "stream",
          "name": "stdout",
          "text": [
            "Train loss: 3.1881668484386276 Train accuracy 0.3719574057990137 Train top 5 accuracy 0.3990872220191009\n"
          ]
        },
        {
          "output_type": "stream",
          "name": "stderr",
          "text": [
            "100%|██████████| 2/2 [00:02<00:00,  1.28s/it]\n"
          ]
        },
        {
          "output_type": "stream",
          "name": "stdout",
          "text": [
            "Valid loss: 6.700613366330371 Valid accuracy 0.23406334539108417 Valid top 5 accuracy 0.35909239958752603\n",
            "Accuracy didn't improve from: 0.25760781315757947\n",
            "Epoch: 57/100\n"
          ]
        },
        {
          "output_type": "stream",
          "name": "stderr",
          "text": [
            "100%|██████████| 4/4 [00:05<00:00,  1.32s/it]\n"
          ]
        },
        {
          "output_type": "stream",
          "name": "stdout",
          "text": [
            "Train loss: 2.7074416367446674 Train accuracy 0.37373225166298013 Train top 5 accuracy 0.3990872220191009\n"
          ]
        },
        {
          "output_type": "stream",
          "name": "stderr",
          "text": [
            "100%|██████████| 2/2 [00:01<00:00,  1.04it/s]\n"
          ]
        },
        {
          "output_type": "stream",
          "name": "stdout",
          "text": [
            "Valid loss: 6.498609560377457 Valid accuracy 0.24897523695493445 Valid top 5 accuracy 0.3638715460239088\n",
            "Accuracy didn't improve from: 0.25760781315757947\n",
            "Epoch: 58/100\n"
          ]
        },
        {
          "output_type": "stream",
          "name": "stderr",
          "text": [
            "100%|██████████| 4/4 [00:10<00:00,  2.56s/it]\n"
          ]
        },
        {
          "output_type": "stream",
          "name": "stdout",
          "text": [
            "Train loss: 2.8122961976948906 Train accuracy 0.37068965543499766 Train top 5 accuracy 0.3990872220191009\n"
          ]
        },
        {
          "output_type": "stream",
          "name": "stderr",
          "text": [
            "100%|██████████| 2/2 [00:01<00:00,  1.00it/s]\n"
          ]
        },
        {
          "output_type": "stream",
          "name": "stdout",
          "text": [
            "Valid loss: 6.578077258432613 Valid accuracy 0.25153846721000533 Valid top 5 accuracy 0.36262756618945036\n",
            "Accuracy didn't improve from: 0.25760781315757947\n",
            "Epoch: 59/100\n"
          ]
        },
        {
          "output_type": "stream",
          "name": "stderr",
          "text": [
            "100%|██████████| 4/4 [00:05<00:00,  1.31s/it]\n"
          ]
        },
        {
          "output_type": "stream",
          "name": "stdout",
          "text": [
            "Train loss: 2.361103805110735 Train accuracy 0.37373225210124955 Train top 5 accuracy 0.3990872220191009\n"
          ]
        },
        {
          "output_type": "stream",
          "name": "stderr",
          "text": [
            "100%|██████████| 2/2 [00:02<00:00,  1.27s/it]\n"
          ]
        },
        {
          "output_type": "stream",
          "name": "stdout",
          "text": [
            "Valid loss: 6.659867386607563 Valid accuracy 0.250320898478522 Valid top 5 accuracy 0.3622828989344485\n",
            "Accuracy didn't improve from: 0.25760781315757947\n",
            "Epoch: 60/100\n"
          ]
        },
        {
          "output_type": "stream",
          "name": "stderr",
          "text": [
            "100%|██████████| 4/4 [00:10<00:00,  2.56s/it]\n"
          ]
        },
        {
          "output_type": "stream",
          "name": "stdout",
          "text": [
            "Train loss: 2.361938988461214 Train accuracy 0.37373224990990234 Train top 5 accuracy 0.3990872220191009\n"
          ]
        },
        {
          "output_type": "stream",
          "name": "stderr",
          "text": [
            "100%|██████████| 2/2 [00:01<00:00,  1.01it/s]\n"
          ]
        },
        {
          "output_type": "stream",
          "name": "stdout",
          "text": [
            "Valid loss: 6.666923681602759 Valid accuracy 0.24932650805396192 Valid top 5 accuracy 0.362844140652348\n",
            "Accuracy didn't improve from: 0.25760781315757947\n",
            "Epoch: 61/100\n"
          ]
        },
        {
          "output_type": "stream",
          "name": "stderr",
          "text": [
            "100%|██████████| 4/4 [00:10<00:00,  2.56s/it]\n"
          ]
        },
        {
          "output_type": "stream",
          "name": "stdout",
          "text": [
            "Train loss: 2.265750712769873 Train accuracy 0.3744928985286285 Train top 5 accuracy 0.3990872220191009\n"
          ]
        },
        {
          "output_type": "stream",
          "name": "stderr",
          "text": [
            "100%|██████████| 2/2 [00:02<00:00,  1.01s/it]\n"
          ]
        },
        {
          "output_type": "stream",
          "name": "stdout",
          "text": [
            "Valid loss: 6.649812510784934 Valid accuracy 0.2549719497123185 Valid top 5 accuracy 0.36126209576340285\n",
            "Accuracy didn't improve from: 0.25760781315757947\n",
            "Epoch: 62/100\n"
          ]
        },
        {
          "output_type": "stream",
          "name": "stderr",
          "text": [
            "100%|██████████| 4/4 [00:05<00:00,  1.30s/it]\n"
          ]
        },
        {
          "output_type": "stream",
          "name": "stdout",
          "text": [
            "Train loss: 2.190360266934423 Train accuracy 0.376774848329232 Train top 5 accuracy 0.3990872220191009\n"
          ]
        },
        {
          "output_type": "stream",
          "name": "stderr",
          "text": [
            "100%|██████████| 2/2 [00:02<00:00,  1.27s/it]\n"
          ]
        },
        {
          "output_type": "stream",
          "name": "stdout",
          "text": [
            "Valid loss: 6.606626108288765 Valid accuracy 0.25359327488524075 Valid top 5 accuracy 0.36057275917161913\n",
            "Accuracy didn't improve from: 0.25760781315757947\n",
            "Epoch: 63/100\n"
          ]
        },
        {
          "output_type": "stream",
          "name": "stderr",
          "text": [
            "100%|██████████| 4/4 [00:05<00:00,  1.30s/it]\n"
          ]
        },
        {
          "output_type": "stream",
          "name": "stdout",
          "text": [
            "Train loss: 2.242570500163471 Train accuracy 0.3777890472179827 Train top 5 accuracy 0.3990872220191009\n"
          ]
        },
        {
          "output_type": "stream",
          "name": "stderr",
          "text": [
            "100%|██████████| 2/2 [00:01<00:00,  1.04it/s]\n"
          ]
        },
        {
          "output_type": "stream",
          "name": "stdout",
          "text": [
            "Valid loss: 6.569809860166381 Valid accuracy 0.24508879563825972 Valid top 5 accuracy 0.36147866945932894\n",
            "Accuracy didn't improve from: 0.25760781315757947\n",
            "Epoch: 64/100\n"
          ]
        },
        {
          "output_type": "stream",
          "name": "stderr",
          "text": [
            "100%|██████████| 4/4 [00:05<00:00,  1.32s/it]\n"
          ]
        },
        {
          "output_type": "stream",
          "name": "stdout",
          "text": [
            "Train loss: 2.261670426410787 Train accuracy 0.3793103488381295 Train top 5 accuracy 0.3990872220191009\n"
          ]
        },
        {
          "output_type": "stream",
          "name": "stderr",
          "text": [
            "100%|██████████| 2/2 [00:01<00:00,  1.05it/s]\n"
          ]
        },
        {
          "output_type": "stream",
          "name": "stdout",
          "text": [
            "Valid loss: 6.589899715255289 Valid accuracy 0.24198677357943618 Valid top 5 accuracy 0.3604578682604958\n",
            "Accuracy didn't improve from: 0.25760781315757947\n",
            "Epoch: 65/100\n"
          ]
        },
        {
          "output_type": "stream",
          "name": "stderr",
          "text": [
            "100%|██████████| 4/4 [00:05<00:00,  1.32s/it]\n"
          ]
        },
        {
          "output_type": "stream",
          "name": "stdout",
          "text": [
            "Train loss: 2.258467024740051 Train accuracy 0.38083163851543383 Train top 5 accuracy 0.3990872220191009\n"
          ]
        },
        {
          "output_type": "stream",
          "name": "stderr",
          "text": [
            "100%|██████████| 2/2 [00:01<00:00,  1.06it/s]\n"
          ]
        },
        {
          "output_type": "stream",
          "name": "stdout",
          "text": [
            "Valid loss: 6.839673166765886 Valid accuracy 0.23611155031796763 Valid top 5 accuracy 0.35728057364330573\n",
            "Accuracy didn't improve from: 0.25760781315757947\n",
            "Epoch: 66/100\n"
          ]
        },
        {
          "output_type": "stream",
          "name": "stderr",
          "text": [
            "100%|██████████| 4/4 [00:05<00:00,  1.31s/it]\n"
          ]
        },
        {
          "output_type": "stream",
          "name": "stdout",
          "text": [
            "Train loss: 2.492903994725031 Train accuracy 0.3760141987243996 Train top 5 accuracy 0.3990872220191009\n"
          ]
        },
        {
          "output_type": "stream",
          "name": "stderr",
          "text": [
            "100%|██████████| 2/2 [00:01<00:00,  1.05it/s]\n"
          ]
        },
        {
          "output_type": "stream",
          "name": "stdout",
          "text": [
            "Valid loss: 6.905668590875233 Valid accuracy 0.24825948761666522 Valid top 5 accuracy 0.3612488898284295\n",
            "Accuracy didn't improve from: 0.25760781315757947\n",
            "Epoch: 67/100\n"
          ]
        },
        {
          "output_type": "stream",
          "name": "stderr",
          "text": [
            "100%|██████████| 4/4 [00:10<00:00,  2.56s/it]\n"
          ]
        },
        {
          "output_type": "stream",
          "name": "stdout",
          "text": [
            "Train loss: 1.8427077917491688 Train accuracy 0.378296141512692 Train top 5 accuracy 0.3990872220191009\n"
          ]
        },
        {
          "output_type": "stream",
          "name": "stderr",
          "text": [
            "100%|██████████| 2/2 [00:02<00:00,  1.28s/it]\n"
          ]
        },
        {
          "output_type": "stream",
          "name": "stdout",
          "text": [
            "Valid loss: 6.835427633979741 Valid accuracy 0.2566754876033348 Valid top 5 accuracy 0.3623779798474382\n",
            "Accuracy didn't improve from: 0.25760781315757947\n",
            "Epoch: 68/100\n"
          ]
        },
        {
          "output_type": "stream",
          "name": "stderr",
          "text": [
            "100%|██████████| 4/4 [00:05<00:00,  1.32s/it]\n"
          ]
        },
        {
          "output_type": "stream",
          "name": "stdout",
          "text": [
            "Train loss: 1.9495364760651308 Train accuracy 0.3739858050008907 Train top 5 accuracy 0.3990872220191009\n"
          ]
        },
        {
          "output_type": "stream",
          "name": "stderr",
          "text": [
            "100%|██████████| 2/2 [00:01<00:00,  1.07it/s]\n"
          ]
        },
        {
          "output_type": "stream",
          "name": "stdout",
          "text": [
            "Valid loss: 6.776687146986232 Valid accuracy 0.25723673074561004 Valid top 5 accuracy 0.36262096563244567\n",
            "Accuracy didn't improve from: 0.25760781315757947\n",
            "Epoch: 69/100\n"
          ]
        },
        {
          "output_type": "stream",
          "name": "stderr",
          "text": [
            "100%|██████████| 4/4 [00:05<00:00,  1.32s/it]\n"
          ]
        },
        {
          "output_type": "stream",
          "name": "stdout",
          "text": [
            "Train loss: 1.8222984377952183 Train accuracy 0.37702839772271757 Train top 5 accuracy 0.3990872220191009\n"
          ]
        },
        {
          "output_type": "stream",
          "name": "stderr",
          "text": [
            "100%|██████████| 2/2 [00:01<00:00,  1.04it/s]\n"
          ]
        },
        {
          "output_type": "stream",
          "name": "stdout",
          "text": [
            "Valid loss: 6.750618747052024 Valid accuracy 0.26117863604689345 Valid top 5 accuracy 0.36396662660819645\n",
            "Saving best model wieghts, Accuracy: 0.26117863604689345\n",
            "Epoch: 70/100\n"
          ]
        },
        {
          "output_type": "stream",
          "name": "stderr",
          "text": [
            "100%|██████████| 4/4 [00:05<00:00,  1.31s/it]\n"
          ]
        },
        {
          "output_type": "stream",
          "name": "stdout",
          "text": [
            "Train loss: 1.6525905496057343 Train accuracy 0.3820993911803645 Train top 5 accuracy 0.3990872220191009\n"
          ]
        },
        {
          "output_type": "stream",
          "name": "stderr",
          "text": [
            "100%|██████████| 2/2 [00:01<00:00,  1.02it/s]\n"
          ]
        },
        {
          "output_type": "stream",
          "name": "stdout",
          "text": [
            "Valid loss: 6.756056733867702 Valid accuracy 0.2573516196845209 Valid top 5 accuracy 0.3623911846867379\n",
            "Accuracy didn't improve from: 0.26117863604689345\n",
            "Epoch: 71/100\n"
          ]
        },
        {
          "output_type": "stream",
          "name": "stderr",
          "text": [
            "100%|██████████| 4/4 [00:10<00:00,  2.56s/it]\n"
          ]
        },
        {
          "output_type": "stream",
          "name": "stdout",
          "text": [
            "Train loss: 1.5656753721482612 Train accuracy 0.38438133747481246 Train top 5 accuracy 0.3990872220191009\n"
          ]
        },
        {
          "output_type": "stream",
          "name": "stderr",
          "text": [
            "100%|██████████| 2/2 [00:02<00:00,  1.27s/it]\n"
          ]
        },
        {
          "output_type": "stream",
          "name": "stdout",
          "text": [
            "Valid loss: 6.779560822774382 Valid accuracy 0.25574316292562904 Valid top 5 accuracy 0.3612488907049684\n",
            "Accuracy didn't improve from: 0.26117863604689345\n",
            "Epoch: 72/100\n"
          ]
        },
        {
          "output_type": "stream",
          "name": "stderr",
          "text": [
            "100%|██████████| 4/4 [00:05<00:00,  1.33s/it]\n"
          ]
        },
        {
          "output_type": "stream",
          "name": "stdout",
          "text": [
            "Train loss: 1.5593051524723278 Train accuracy 0.3853955350487548 Train top 5 accuracy 0.3990872220191009\n"
          ]
        },
        {
          "output_type": "stream",
          "name": "stderr",
          "text": [
            "100%|██████████| 2/2 [00:02<00:00,  1.28s/it]\n"
          ]
        },
        {
          "output_type": "stream",
          "name": "stdout",
          "text": [
            "Valid loss: 6.827606118777219 Valid accuracy 0.2547091554631205 Valid top 5 accuracy 0.36214159648208055\n",
            "Accuracy didn't improve from: 0.26117863604689345\n",
            "Epoch: 73/100\n"
          ]
        },
        {
          "output_type": "stream",
          "name": "stderr",
          "text": [
            "100%|██████████| 4/4 [00:10<00:00,  2.56s/it]\n"
          ]
        },
        {
          "output_type": "stream",
          "name": "stdout",
          "text": [
            "Train loss: 1.7689747389625101 Train accuracy 0.3810851896619972 Train top 5 accuracy 0.3990872220191009\n"
          ]
        },
        {
          "output_type": "stream",
          "name": "stderr",
          "text": [
            "100%|██████████| 2/2 [00:02<00:00,  1.28s/it]\n"
          ]
        },
        {
          "output_type": "stream",
          "name": "stdout",
          "text": [
            "Valid loss: 6.986982982824831 Valid accuracy 0.2488827965057948 Valid top 5 accuracy 0.36010659617536206\n",
            "Accuracy didn't improve from: 0.26117863604689345\n",
            "Epoch: 74/100\n"
          ]
        },
        {
          "output_type": "stream",
          "name": "stderr",
          "text": [
            "100%|██████████| 4/4 [00:10<00:00,  2.56s/it]\n"
          ]
        },
        {
          "output_type": "stream",
          "name": "stdout",
          "text": [
            "Train loss: 4.2221491123166155 Train accuracy 0.34330628795877977 Train top 5 accuracy 0.3990872220191009\n"
          ]
        },
        {
          "output_type": "stream",
          "name": "stderr",
          "text": [
            "100%|██████████| 2/2 [00:02<00:00,  1.04s/it]\n"
          ]
        },
        {
          "output_type": "stream",
          "name": "stdout",
          "text": [
            "Valid loss: 7.312617266002824 Valid accuracy 0.25273358230205145 Valid top 5 accuracy 0.3577269272988333\n",
            "Accuracy didn't improve from: 0.26117863604689345\n",
            "Epoch: 75/100\n"
          ]
        },
        {
          "output_type": "stream",
          "name": "stderr",
          "text": [
            "100%|██████████| 4/4 [00:05<00:00,  1.30s/it]\n"
          ]
        },
        {
          "output_type": "stream",
          "name": "stdout",
          "text": [
            "Train loss: 1.709156702108243 Train accuracy 0.38083164169288736 Train top 5 accuracy 0.39934076965950865\n"
          ]
        },
        {
          "output_type": "stream",
          "name": "stderr",
          "text": [
            "100%|██████████| 2/2 [00:01<00:00,  1.03it/s]\n"
          ]
        },
        {
          "output_type": "stream",
          "name": "stdout",
          "text": [
            "Valid loss: 6.994192976285429 Valid accuracy 0.2604140255819349 Valid top 5 accuracy 0.3627358554478954\n",
            "Accuracy didn't improve from: 0.26117863604689345\n",
            "Epoch: 76/100\n"
          ]
        },
        {
          "output_type": "stream",
          "name": "stderr",
          "text": [
            "100%|██████████| 4/4 [00:05<00:00,  1.32s/it]\n"
          ]
        },
        {
          "output_type": "stream",
          "name": "stdout",
          "text": [
            "Train loss: 1.4273064870606451 Train accuracy 0.3851419909145026 Train top 5 accuracy 0.39934076965950865\n"
          ]
        },
        {
          "output_type": "stream",
          "name": "stderr",
          "text": [
            "100%|██████████| 2/2 [00:02<00:00,  1.27s/it]\n"
          ]
        },
        {
          "output_type": "stream",
          "name": "stdout",
          "text": [
            "Valid loss: 6.9412218779325485 Valid accuracy 0.2599478628048125 Valid top 5 accuracy 0.3622630890458822\n",
            "Accuracy didn't improve from: 0.26117863604689345\n",
            "Epoch: 77/100\n"
          ]
        },
        {
          "output_type": "stream",
          "name": "stderr",
          "text": [
            "100%|██████████| 4/4 [00:05<00:00,  1.32s/it]\n"
          ]
        },
        {
          "output_type": "stream",
          "name": "stdout",
          "text": [
            "Train loss: 1.3628220231655765 Train accuracy 0.38615618848844485 Train top 5 accuracy 0.39934076965950865\n"
          ]
        },
        {
          "output_type": "stream",
          "name": "stderr",
          "text": [
            "100%|██████████| 2/2 [00:02<00:00,  1.27s/it]\n"
          ]
        },
        {
          "output_type": "stream",
          "name": "stdout",
          "text": [
            "Valid loss: 6.9182980893289345 Valid accuracy 0.2594949078253087 Valid top 5 accuracy 0.3613637803012834\n",
            "Accuracy didn't improve from: 0.26117863604689345\n",
            "Epoch: 78/100\n"
          ]
        },
        {
          "output_type": "stream",
          "name": "stderr",
          "text": [
            "100%|██████████| 4/4 [00:05<00:00,  1.36s/it]\n"
          ]
        },
        {
          "output_type": "stream",
          "name": "stdout",
          "text": [
            "Train loss: 1.3117196380215532 Train accuracy 0.38666328376926046 Train top 5 accuracy 0.39934076965950865\n"
          ]
        },
        {
          "output_type": "stream",
          "name": "stderr",
          "text": [
            "100%|██████████| 2/2 [00:02<00:00,  1.27s/it]\n"
          ]
        },
        {
          "output_type": "stream",
          "name": "stdout",
          "text": [
            "Valid loss: 6.905721186715014 Valid accuracy 0.26050250177436013 Valid top 5 accuracy 0.3616952452370349\n",
            "Accuracy didn't improve from: 0.26117863604689345\n",
            "Epoch: 79/100\n"
          ]
        },
        {
          "output_type": "stream",
          "name": "stderr",
          "text": [
            "100%|██████████| 4/4 [00:05<00:00,  1.34s/it]\n"
          ]
        },
        {
          "output_type": "stream",
          "name": "stdout",
          "text": [
            "Train loss: 1.2683849724776604 Train accuracy 0.3869168349158238 Train top 5 accuracy 0.39934076965950865\n"
          ]
        },
        {
          "output_type": "stream",
          "name": "stderr",
          "text": [
            "100%|██████████| 2/2 [00:01<00:00,  1.05it/s]\n"
          ]
        },
        {
          "output_type": "stream",
          "name": "stdout",
          "text": [
            "Valid loss: 6.90026910164777 Valid accuracy 0.26164479685180325 Valid top 5 accuracy 0.3610191129367141\n",
            "Saving best model wieghts, Accuracy: 0.26164479685180325\n",
            "Epoch: 80/100\n"
          ]
        },
        {
          "output_type": "stream",
          "name": "stderr",
          "text": [
            "100%|██████████| 4/4 [00:05<00:00,  1.33s/it]\n"
          ]
        },
        {
          "output_type": "stream",
          "name": "stdout",
          "text": [
            "Train loss: 1.2317160766790896 Train accuracy 0.38666328376926046 Train top 5 accuracy 0.39934076965950865\n"
          ]
        },
        {
          "output_type": "stream",
          "name": "stderr",
          "text": [
            "100%|██████████| 2/2 [00:02<00:00,  1.27s/it]\n"
          ]
        },
        {
          "output_type": "stream",
          "name": "stdout",
          "text": [
            "Valid loss: 6.9178520458586075 Valid accuracy 0.25937341460410285 Valid top 5 accuracy 0.36011980419211526\n",
            "Accuracy didn't improve from: 0.26164479685180325\n",
            "Epoch: 81/100\n"
          ]
        },
        {
          "output_type": "stream",
          "name": "stderr",
          "text": [
            "100%|██████████| 4/4 [00:05<00:00,  1.35s/it]\n"
          ]
        },
        {
          "output_type": "stream",
          "name": "stdout",
          "text": [
            "Train loss: 1.2150347193374353 Train accuracy 0.38640973262269707 Train top 5 accuracy 0.39934076965950865\n"
          ]
        },
        {
          "output_type": "stream",
          "name": "stderr",
          "text": [
            "100%|██████████| 2/2 [00:01<00:00,  1.04it/s]\n"
          ]
        },
        {
          "output_type": "stream",
          "name": "stdout",
          "text": [
            "Valid loss: 6.903860669802217 Valid accuracy 0.25827734040863376 Valid top 5 accuracy 0.35945027310620337\n",
            "Accuracy didn't improve from: 0.26164479685180325\n",
            "Epoch: 82/100\n"
          ]
        },
        {
          "output_type": "stream",
          "name": "stderr",
          "text": [
            "100%|██████████| 4/4 [00:10<00:00,  2.56s/it]\n"
          ]
        },
        {
          "output_type": "stream",
          "name": "stdout",
          "text": [
            "Train loss: 1.3155351785175942 Train accuracy 0.38286004111389904 Train top 5 accuracy 0.39934076965950865\n"
          ]
        },
        {
          "output_type": "stream",
          "name": "stderr",
          "text": [
            "100%|██████████| 2/2 [00:02<00:00,  1.02s/it]\n"
          ]
        },
        {
          "output_type": "stream",
          "name": "stdout",
          "text": [
            "Valid loss: 6.879636207047631 Valid accuracy 0.2555041400825276 Valid top 5 accuracy 0.36070745668428783\n",
            "Accuracy didn't improve from: 0.26164479685180325\n",
            "Epoch: 83/100\n"
          ]
        },
        {
          "output_type": "stream",
          "name": "stderr",
          "text": [
            "100%|██████████| 4/4 [00:05<00:00,  1.35s/it]\n"
          ]
        },
        {
          "output_type": "stream",
          "name": "stdout",
          "text": [
            "Train loss: 1.5741475494030643 Train accuracy 0.3760141969713218 Train top 5 accuracy 0.39934076965950865\n"
          ]
        },
        {
          "output_type": "stream",
          "name": "stderr",
          "text": [
            "100%|██████████| 2/2 [00:01<00:00,  1.06it/s]\n"
          ]
        },
        {
          "output_type": "stream",
          "name": "stdout",
          "text": [
            "Valid loss: 6.889425065587549 Valid accuracy 0.2556190314319204 Valid top 5 accuracy 0.3611538105589502\n",
            "Accuracy didn't improve from: 0.26164479685180325\n",
            "Epoch: 84/100\n"
          ]
        },
        {
          "output_type": "stream",
          "name": "stderr",
          "text": [
            "100%|██████████| 4/4 [00:10<00:00,  2.56s/it]\n"
          ]
        },
        {
          "output_type": "stream",
          "name": "stdout",
          "text": [
            "Train loss: 1.15333288316341 Train accuracy 0.38767748134320273 Train top 5 accuracy 0.39934076965950865\n"
          ]
        },
        {
          "output_type": "stream",
          "name": "stderr",
          "text": [
            "100%|██████████| 2/2 [00:02<00:00,  1.27s/it]\n"
          ]
        },
        {
          "output_type": "stream",
          "name": "stdout",
          "text": [
            "Valid loss: 6.9485893591361885 Valid accuracy 0.26425424700274186 Valid top 5 accuracy 0.36055955312707844\n",
            "Saving best model wieghts, Accuracy: 0.26425424700274186\n",
            "Epoch: 85/100\n"
          ]
        },
        {
          "output_type": "stream",
          "name": "stderr",
          "text": [
            "100%|██████████| 4/4 [00:05<00:00,  1.38s/it]\n"
          ]
        },
        {
          "output_type": "stream",
          "name": "stdout",
          "text": [
            "Train loss: 1.3022562721196342 Train accuracy 0.390720083268688 Train top 5 accuracy 0.39934076965950865\n"
          ]
        },
        {
          "output_type": "stream",
          "name": "stderr",
          "text": [
            "100%|██████████| 2/2 [00:01<00:00,  1.05it/s]\n"
          ]
        },
        {
          "output_type": "stream",
          "name": "stdout",
          "text": [
            "Valid loss: 7.124832807218327 Valid accuracy 0.23454931542715607 Valid top 5 accuracy 0.3516905953121536\n",
            "Accuracy didn't improve from: 0.26425424700274186\n",
            "Epoch: 86/100\n"
          ]
        },
        {
          "output_type": "stream",
          "name": "stderr",
          "text": [
            "100%|██████████| 4/4 [00:05<00:00,  1.33s/it]\n"
          ]
        },
        {
          "output_type": "stream",
          "name": "stdout",
          "text": [
            "Train loss: 1.4980082632425953 Train accuracy 0.3856490861953181 Train top 5 accuracy 0.39959432080607205\n"
          ]
        },
        {
          "output_type": "stream",
          "name": "stderr",
          "text": [
            "100%|██████████| 2/2 [00:01<00:00,  1.05it/s]\n"
          ]
        },
        {
          "output_type": "stream",
          "name": "stdout",
          "text": [
            "Valid loss: 7.283444544848273 Valid accuracy 0.2454598772832576 Valid top 5 accuracy 0.3546447158955476\n",
            "Accuracy didn't improve from: 0.26425424700274186\n",
            "Epoch: 87/100\n"
          ]
        },
        {
          "output_type": "stream",
          "name": "stderr",
          "text": [
            "100%|██████████| 4/4 [00:10<00:00,  2.56s/it]\n"
          ]
        },
        {
          "output_type": "stream",
          "name": "stdout",
          "text": [
            "Train loss: 1.0097987347227686 Train accuracy 0.3899594276376507 Train top 5 accuracy 0.39934076965950865\n"
          ]
        },
        {
          "output_type": "stream",
          "name": "stderr",
          "text": [
            "100%|██████████| 2/2 [00:02<00:00,  1.28s/it]\n"
          ]
        },
        {
          "output_type": "stream",
          "name": "stdout",
          "text": [
            "Valid loss: 7.069405612700126 Valid accuracy 0.26304988442536664 Valid top 5 accuracy 0.3609042213681866\n",
            "Accuracy didn't improve from: 0.26425424700274186\n",
            "Epoch: 88/100\n"
          ]
        },
        {
          "output_type": "stream",
          "name": "stderr",
          "text": [
            "100%|██████████| 4/4 [00:05<00:00,  1.31s/it]\n"
          ]
        },
        {
          "output_type": "stream",
          "name": "stdout",
          "text": [
            "Train loss: 1.0823817014255945 Train accuracy 0.3856490897014737 Train top 5 accuracy 0.39934076965950865\n"
          ]
        },
        {
          "output_type": "stream",
          "name": "stderr",
          "text": [
            "100%|██████████| 2/2 [00:01<00:00,  1.06it/s]\n"
          ]
        },
        {
          "output_type": "stream",
          "name": "stdout",
          "text": [
            "Valid loss: 7.123964166816543 Valid accuracy 0.264185577411862 Valid top 5 accuracy 0.3603495826177737\n",
            "Accuracy didn't improve from: 0.26425424700274186\n",
            "Epoch: 89/100\n"
          ]
        },
        {
          "output_type": "stream",
          "name": "stderr",
          "text": [
            "100%|██████████| 4/4 [00:05<00:00,  1.36s/it]\n"
          ]
        },
        {
          "output_type": "stream",
          "name": "stdout",
          "text": [
            "Train loss: 0.9952598766368979 Train accuracy 0.38793103248976607 Train top 5 accuracy 0.39934076965950865\n"
          ]
        },
        {
          "output_type": "stream",
          "name": "stderr",
          "text": [
            "100%|██████████| 2/2 [00:01<00:00,  1.05it/s]\n"
          ]
        },
        {
          "output_type": "stream",
          "name": "stdout",
          "text": [
            "Valid loss: 7.112678092192201 Valid accuracy 0.261710826855372 Valid top 5 accuracy 0.3601198006859597\n",
            "Accuracy didn't improve from: 0.26425424700274186\n",
            "Epoch: 90/100\n"
          ]
        },
        {
          "output_type": "stream",
          "name": "stderr",
          "text": [
            "100%|██████████| 4/4 [00:10<00:00,  2.56s/it]\n"
          ]
        },
        {
          "output_type": "stream",
          "name": "stdout",
          "text": [
            "Train loss: 0.9123175082837834 Train accuracy 0.39021297878421407 Train top 5 accuracy 0.39934076965950865\n"
          ]
        },
        {
          "output_type": "stream",
          "name": "stderr",
          "text": [
            "100%|██████████| 2/2 [00:01<00:00,  1.02it/s]\n"
          ]
        },
        {
          "output_type": "stream",
          "name": "stdout",
          "text": [
            "Valid loss: 7.021929289488232 Valid accuracy 0.2607983133810408 Valid top 5 accuracy 0.36021488324245987\n",
            "Accuracy didn't improve from: 0.26425424700274186\n",
            "Epoch: 91/100\n"
          ]
        },
        {
          "output_type": "stream",
          "name": "stderr",
          "text": [
            "100%|██████████| 4/4 [00:05<00:00,  1.30s/it]\n"
          ]
        },
        {
          "output_type": "stream",
          "name": "stdout",
          "text": [
            "Train loss: 0.8832087116863798 Train accuracy 0.3919878262916909 Train top 5 accuracy 0.39934076965950865\n"
          ]
        },
        {
          "output_type": "stream",
          "name": "stderr",
          "text": [
            "100%|██████████| 2/2 [00:02<00:00,  1.27s/it]\n"
          ]
        },
        {
          "output_type": "stream",
          "name": "stdout",
          "text": [
            "Valid loss: 7.016379387063139 Valid accuracy 0.2580607689040549 Valid top 5 accuracy 0.35918748148662205\n",
            "Accuracy didn't improve from: 0.26425424700274186\n",
            "Epoch: 92/100\n"
          ]
        },
        {
          "output_type": "stream",
          "name": "stderr",
          "text": [
            "100%|██████████| 4/4 [00:05<00:00,  1.31s/it]\n"
          ]
        },
        {
          "output_type": "stream",
          "name": "stdout",
          "text": [
            "Train loss: 0.8637961839490077 Train accuracy 0.3937626759905149 Train top 5 accuracy 0.39934076965950865\n"
          ]
        },
        {
          "output_type": "stream",
          "name": "stderr",
          "text": [
            "100%|██████████| 2/2 [00:01<00:00,  1.06it/s]\n"
          ]
        },
        {
          "output_type": "stream",
          "name": "stdout",
          "text": [
            "Valid loss: 7.036232638008454 Valid accuracy 0.25478178843417587 Valid top 5 accuracy 0.3578286112888771\n",
            "Accuracy didn't improve from: 0.26425424700274186\n",
            "Epoch: 93/100\n"
          ]
        },
        {
          "output_type": "stream",
          "name": "stderr",
          "text": [
            "100%|██████████| 4/4 [00:10<00:00,  2.56s/it]\n"
          ]
        },
        {
          "output_type": "stream",
          "name": "stdout",
          "text": [
            "Train loss: 0.8595709227682913 Train accuracy 0.3942697782836416 Train top 5 accuracy 0.39934076965950865\n"
          ]
        },
        {
          "output_type": "stream",
          "name": "stderr",
          "text": [
            "100%|██████████| 2/2 [00:02<00:00,  1.00s/it]\n"
          ]
        },
        {
          "output_type": "stream",
          "name": "stdout",
          "text": [
            "Valid loss: 7.076580582296147 Valid accuracy 0.250380323980661 Valid top 5 accuracy 0.35760543604984\n",
            "Accuracy didn't improve from: 0.26425424700274186\n",
            "Epoch: 94/100\n"
          ]
        },
        {
          "output_type": "stream",
          "name": "stderr",
          "text": [
            "100%|██████████| 4/4 [00:05<00:00,  1.31s/it]\n"
          ]
        },
        {
          "output_type": "stream",
          "name": "stdout",
          "text": [
            "Train loss: 0.8504443536786472 Train accuracy 0.39477687707061276 Train top 5 accuracy 0.39934076965950865\n"
          ]
        },
        {
          "output_type": "stream",
          "name": "stderr",
          "text": [
            "100%|██████████| 2/2 [00:02<00:00,  1.27s/it]\n"
          ]
        },
        {
          "output_type": "stream",
          "name": "stdout",
          "text": [
            "Valid loss: 7.07576679920449 Valid accuracy 0.2465070894754985 Valid top 5 accuracy 0.35771372092559056\n",
            "Accuracy didn't improve from: 0.26425424700274186\n",
            "model didn't improve for 10 epochs----> lower learning rate to 4.000000000000001e-06\n",
            "Epoch: 95/100\n"
          ]
        },
        {
          "output_type": "stream",
          "name": "stderr",
          "text": [
            "100%|██████████| 4/4 [00:20<00:00,  5.12s/it]\n"
          ]
        },
        {
          "output_type": "stream",
          "name": "stdout",
          "text": [
            "Train loss: 0.7535577836062979 Train accuracy 0.3937626737991677 Train top 5 accuracy 0.39934076965950865\n"
          ]
        },
        {
          "output_type": "stream",
          "name": "stderr",
          "text": [
            "100%|██████████| 2/2 [00:10<00:00,  5.11s/it]\n"
          ]
        },
        {
          "output_type": "stream",
          "name": "stdout",
          "text": [
            "Valid loss: 7.1135798385914635 Valid accuracy 0.25988579486661095 Valid top 5 accuracy 0.35976853123044267\n",
            "Accuracy didn't improve from: 0.26425424700274186\n",
            "Epoch: 96/100\n"
          ]
        },
        {
          "output_type": "stream",
          "name": "stderr",
          "text": [
            "100%|██████████| 4/4 [00:05<00:00,  1.37s/it]\n"
          ]
        },
        {
          "output_type": "stream",
          "name": "stdout",
          "text": [
            "Train loss: 0.7449733397430357 Train accuracy 0.3942697725861388 Train top 5 accuracy 0.39934076965950865\n"
          ]
        },
        {
          "output_type": "stream",
          "name": "stderr",
          "text": [
            "100%|██████████| 2/2 [00:02<00:00,  1.28s/it]\n"
          ]
        },
        {
          "output_type": "stream",
          "name": "stdout",
          "text": [
            "Valid loss: 7.1005629152059555 Valid accuracy 0.25988579486661095 Valid top 5 accuracy 0.3599917085512596\n",
            "Accuracy didn't improve from: 0.26425424700274186\n",
            "Epoch: 97/100\n"
          ]
        },
        {
          "output_type": "stream",
          "name": "stderr",
          "text": [
            "100%|██████████| 4/4 [00:05<00:00,  1.33s/it]\n"
          ]
        },
        {
          "output_type": "stream",
          "name": "stdout",
          "text": [
            "Train loss: 0.7364472214351682 Train accuracy 0.39477687137310996 Train top 5 accuracy 0.39934076965950865\n"
          ]
        },
        {
          "output_type": "stream",
          "name": "stderr",
          "text": [
            "100%|██████████| 2/2 [00:02<00:00,  1.27s/it]\n"
          ]
        },
        {
          "output_type": "stream",
          "name": "stdout",
          "text": [
            "Valid loss: 7.088545949143522 Valid accuracy 0.26056192979654846 Valid top 5 accuracy 0.36044466440730233\n",
            "Accuracy didn't improve from: 0.26425424700274186\n",
            "Epoch: 98/100\n"
          ]
        },
        {
          "output_type": "stream",
          "name": "stderr",
          "text": [
            "100%|██████████| 4/4 [00:05<00:00,  1.34s/it]\n"
          ]
        },
        {
          "output_type": "stream",
          "name": "stdout",
          "text": [
            "Train loss: 0.7275668966638691 Train accuracy 0.39477687137310996 Train top 5 accuracy 0.39959432080607205\n"
          ]
        },
        {
          "output_type": "stream",
          "name": "stderr",
          "text": [
            "100%|██████████| 2/2 [00:02<00:00,  1.28s/it]\n"
          ]
        },
        {
          "output_type": "stream",
          "name": "stdout",
          "text": [
            "Valid loss: 7.081634412793552 Valid accuracy 0.2600006845724933 Valid top 5 accuracy 0.36033637679236774\n",
            "Accuracy didn't improve from: 0.26425424700274186\n",
            "Epoch: 99/100\n"
          ]
        },
        {
          "output_type": "stream",
          "name": "stderr",
          "text": [
            "100%|██████████| 4/4 [00:05<00:00,  1.33s/it]\n"
          ]
        },
        {
          "output_type": "stream",
          "name": "stdout",
          "text": [
            "Train loss: 0.7185013476101791 Train accuracy 0.3952839723514283 Train top 5 accuracy 0.39959432080607205\n"
          ]
        },
        {
          "output_type": "stream",
          "name": "stderr",
          "text": [
            "100%|██████████| 2/2 [00:01<00:00,  1.04it/s]\n"
          ]
        },
        {
          "output_type": "stream",
          "name": "stdout",
          "text": [
            "Valid loss: 7.079237974741879 Valid accuracy 0.2600006845724933 Valid top 5 accuracy 0.36033637679236774\n",
            "Accuracy didn't improve from: 0.26425424700274186\n",
            "Epoch: 100/100\n"
          ]
        },
        {
          "output_type": "stream",
          "name": "stderr",
          "text": [
            "100%|██████████| 4/4 [00:05<00:00,  1.33s/it]\n"
          ]
        },
        {
          "output_type": "stream",
          "name": "stdout",
          "text": [
            "Train loss: 0.709389507989673 Train accuracy 0.3952839723514283 Train top 5 accuracy 0.39959432080607205\n"
          ]
        },
        {
          "output_type": "stream",
          "name": "stderr",
          "text": [
            "100%|██████████| 2/2 [00:01<00:00,  1.03it/s]"
          ]
        },
        {
          "output_type": "stream",
          "name": "stdout",
          "text": [
            "Valid loss: 7.078135088086128 Valid accuracy 0.2596626192988718 Valid top 5 accuracy 0.3599983115187463\n",
            "Accuracy didn't improve from: 0.26425424700274186\n"
          ]
        },
        {
          "output_type": "stream",
          "name": "stderr",
          "text": [
            "\n"
          ]
        }
      ],
      "source": [
        "# clear the session to release all previous states generated by Keras\n",
        "tf.keras.backend.clear_session()\n",
        "# instantiate and compile the model inside the strategy scope defined previous\n",
        "with strategy.scope():\n",
        "  model = encoder_decoder_model()\n",
        "  # use Sparse Categorical Cross-entropy as a loss function as labels are not one-hot encoded\n",
        "  # use AdamW optimizer initially with a weight decay of 0.0\n",
        "  # use the Sparse Categorical Accuracy and top k=5 accuracy metrics to monitor and save the best model weights\n",
        "  metrics = [tf.keras.metrics.SparseCategoricalAccuracy(),\n",
        "             tf.keras.metrics.SparseTopKCategoricalAccuracy(k=5, name='top_k_acc')]\n",
        "  model.compile(loss=tf.keras.losses.SparseCategoricalCrossentropy(from_logits=False),\n",
        "                metrics=metrics,\n",
        "                optimizer=tfa.optimizers.AdamW(learning_rate=config.LEARNING_RATE, weight_decay=0.0))\n",
        "\n",
        "# initialize the best accuracy at - infinity\n",
        "best_result = -np.inf\n",
        "# initialize the epoch of the best result as 0\n",
        "epoch_of_best_result = 0\n",
        "# initialize a variable for the current learning rate\n",
        "current_learning = config.LEARNING_RATE\n",
        "# for each epoch iterate over the whole training and validation sets\n",
        "for epoch in range(config.EPOCHS):\n",
        "  print(f'Epoch: {epoch+1}/{config.EPOCHS}')\n",
        "  # iterate over the training dataset\n",
        "  for batch in tqdm(train_ds, total=len(train_ds)):\n",
        "    enc_inputs, dec_inputs, labels = batch\n",
        "    # create a variable for the number of examples in the current batch\n",
        "    num_examples = len(enc_inputs)\n",
        "    # initialize losses and accuracies list\n",
        "    losses = []\n",
        "    accs = []\n",
        "    top_accs = []\n",
        "    # sequencially predict the label (actual previous token as input)\n",
        "    for i in range(config.MAXLEN):\n",
        "      # extract the current mask from the attention_masks list\n",
        "      # broadcast the mask to the shape of (num_examples, num_heads(8), max_len(17), max_len(17))\n",
        "      current_att_mask = tf.broadcast_to(tf.constant(attention_masks[i]), (num_examples, config.NUM_HEADS, config.MAXLEN, config.MAXLEN))\n",
        "      # train on each batch and pass the class weights\n",
        "      train_results = model.train_on_batch(x=(enc_inputs, dec_inputs, current_att_mask), y=labels[:, -(i+1)], \n",
        "                           class_weight=auto_weight_dict, reset_metrics=True, return_dict=True)\n",
        "      # append the loss value\n",
        "      losses.append(train_results['loss'])\n",
        "      # append the accuracy value\n",
        "      accs.append(train_results['sparse_categorical_accuracy'])\n",
        "      # append the top 5 accuracy value\n",
        "      top_accs.append(train_results['top_k_acc'])\n",
        "  print('Train loss:', np.mean(losses), 'Train accuracy', np.mean(accs), 'Train top 5 accuracy', np.mean(top_accs))\n",
        "\n",
        "  # initialize losses and accuracies list\n",
        "  losses = []\n",
        "  accs = []\n",
        "  top_accs = []\n",
        "  # iterate over the validation dataset\n",
        "  for batch in tqdm(valid_ds, total=len(valid_ds)):\n",
        "    enc_inputs, dec_inputs, labels = batch\n",
        "    # create a variable for the number of examples in the current batch\n",
        "    num_examples = len(enc_inputs)\n",
        "    # create a NumPy array to save the predictions of the previous tokens\n",
        "    # it is initialized with ones where the model will see 1 in the first \n",
        "    # pass which represents the special starting \"s\" token\n",
        "    full_sequence_preds = np.ones((num_examples, config.MAXLEN))\n",
        "    # sequencially predict the label (predicted previous token as input (Auto-Regression))\n",
        "    for i in range(config.MAXLEN):\n",
        "      # extract the current mask from the attention_masks list\n",
        "      # broadcast the mask to the shape of (num_examples, num_heads(8), max_len(17), max_len(17))\n",
        "      current_att_mask = tf.broadcast_to(tf.constant(attention_masks[i]), (num_examples, config.NUM_HEADS, config.MAXLEN, config.MAXLEN))\n",
        "      # evaluate on each batch\n",
        "      valid_results = model.test_on_batch(x=(enc_inputs, full_sequence_preds, current_att_mask), y=labels[:, -(i+1)], reset_metrics=True, return_dict=True)\n",
        "      # predict the tokens of the current position\n",
        "      preds = model.predict_on_batch(x=(enc_inputs, full_sequence_preds, current_att_mask))\n",
        "      # take the argmax value which represents the index of the highest prob character\n",
        "      current_preds = np.argmax(preds, axis=-1)\n",
        "      # populate the current position with the predicted values which will be used in the next \n",
        "      # pass as a decoder input\n",
        "      full_sequence_preds[:, -(i+1)] = current_preds # populate the column of the current timestep with the predicitons\n",
        "        \n",
        "      # append the loss value  \n",
        "      losses.append(valid_results['loss'])\n",
        "      # append the accuracy value\n",
        "      accs.append(valid_results['sparse_categorical_accuracy'])\n",
        "      # append the top 5 accuracy value\n",
        "      top_accs.append(valid_results['top_k_acc'])\n",
        "  print('Valid loss:', np.mean(losses), 'Valid accuracy', np.mean(accs), 'Valid top 5 accuracy', np.mean(top_accs))\n",
        "\n",
        "  mean_acc = np.mean(accs)\n",
        "  # save the weights of the best model based on the validation accuracy\n",
        "  # lower the LR a factor defined in the config class if the validation accuracy \n",
        "  # does not improve for the stated patience in the config class\n",
        "  if mean_acc > best_result:\n",
        "    best_result = mean_acc\n",
        "    epoch_of_best_result = epoch\n",
        "    print('Saving best model wieghts,', 'Accuracy:', mean_acc)\n",
        "    model.save_weights('best_full_model_weights.h5')\n",
        "  else:\n",
        "    print(\"Accuracy didn't improve from:\", best_result)\n",
        "  if epoch - epoch_of_best_result == config.LEARTING_RATE_REDUCTION_PATIENCE:\n",
        "    current_learning = current_learning * config.LEARTING_RATE_REDUCTION_FACTOR\n",
        "    print(\"model didn't improve for 10 epochs---->\", f\"lower learning rate to {current_learning}\")\n",
        "    model.compile(loss=tf.keras.losses.SparseCategoricalCrossentropy(from_logits=False),\n",
        "                metrics=metrics,\n",
        "                optimizer=tf.keras.optimizers.Adam(learning_rate=current_learning))  \n",
        "\n",
        "    "
      ]
    },
    {
      "cell_type": "markdown",
      "metadata": {
        "id": "MJvy76RW8sZ-"
      },
      "source": [
        "## Prediction"
      ]
    },
    {
      "cell_type": "code",
      "execution_count": null,
      "metadata": {
        "id": "fO-1ia8U4sPe"
      },
      "outputs": [],
      "source": [
        "# construct attention masks list\n",
        "# for each position there a mask that prevents the model from \n",
        "# see current and next positions\n",
        "attention_masks = []\n",
        "for i in range(1, config.MAXLEN+1):\n",
        "  # Arabic masking starts from right to left\n",
        "  attention_mask = [0] * (config.MAXLEN - i) + [1] * i\n",
        "  attention_masks.append(attention_mask)"
      ]
    },
    {
      "cell_type": "code",
      "source": [
        "# define the loss object (SparseCategoricalCrossentropy)\n",
        "loss_object = tf.keras.losses.SparseCategoricalCrossentropy(from_logits=False)\n",
        "\n",
        "def gradients(enc_inputs, full_sequence_preds, current_att_mask, y):\n",
        "  '''\n",
        "  Inputs: \n",
        "      enc_inputs: array of the inputs to the encoder and CBERT (only one sample (batched))\n",
        "      full_sequence_preds: array of the inputs to the decoder (only one sample (batched))\n",
        "      current_att_mask: array of the mask to be used in the decoder (only one sample (batched))\n",
        "\n",
        "  Returns:\n",
        "      input_ids: an array of the ids inputted to CBERT, encoder, and decoder\n",
        "      grads: gradients retrieved by the backporpagation with respect to the embeddings of the input_ids\n",
        "  '''\n",
        "\n",
        "  # tape the forward pass and loss computation\n",
        "  with tf.GradientTape() as tape:\n",
        "    preds = model((enc_inputs, full_sequence_preds, current_att_mask), training=False)\n",
        "    loss = loss_object(y, preds)\n",
        "\n",
        "  # compute the gradients with respect to the model's trainable weights\n",
        "  gradients = tape.gradient(loss, model.trainable_weights)\n",
        "\n",
        "  # extract the input_ids\n",
        "  decoder_input_ids = gradients[0].indices.numpy()[:17]\n",
        "  encoder_input_ids = gradients[0].indices.numpy()[17:17*2]\n",
        "  cbert_input_ids = gradients[0].indices.numpy()[17*2:17*3]\n",
        "\n",
        "  # extract the gradients with respect to the embeddings\n",
        "  decoder_grads = gradients[0].values.numpy()[:17, :]\n",
        "  encoder_grads = gradients[0].values.numpy()[17:17*2, :]\n",
        "  cbert_grads = gradients[0].values.numpy()[17*2:17*3, :]\n",
        "\n",
        "  # build a dictionary with the input_ids and gradients for each of the parts in the model\n",
        "  input_ids = {'cbert_input_ids': cbert_input_ids, 'encoder_input_ids': encoder_input_ids, 'decoder_input_ids': decoder_input_ids}\n",
        "  grads = {'cbert_grads': cbert_grads, 'encoder_grads': encoder_grads, 'decoder_grads': decoder_grads}\n",
        "\n",
        "  return (input_ids, grads)"
      ],
      "metadata": {
        "id": "R_XJ9pyFnaOf"
      },
      "execution_count": null,
      "outputs": []
    },
    {
      "cell_type": "code",
      "execution_count": null,
      "metadata": {
        "colab": {
          "base_uri": "https://localhost:8080/"
        },
        "id": "7_3dfPim8q8P",
        "outputId": "00653b59-80c8-4ae2-ea93-cec9920e8e9a"
      },
      "outputs": [
        {
          "output_type": "stream",
          "name": "stderr",
          "text": [
            "100%|██████████| 343/343 [16:21<00:00,  2.86s/it]\n"
          ]
        }
      ],
      "source": [
        "# unbatch the validation dataset and re-batch it with a batch size of 1\n",
        "valid_ds = valid_ds.unbatch().batch(1)\n",
        "\n",
        "# clear the session to release all previous states generated by Keras\n",
        "tf.keras.backend.clear_session()\n",
        "# instantiate and compile the model inside the strategy scope defined previous\n",
        "with strategy.scope():\n",
        "  model = encoder_decoder_model()\n",
        "  model.trainable = True # <<<<<<<<<<<<<<<\n",
        "  # use Sparse Categorical Cross-entropy as a loss function as labels are not one-hot encoded\n",
        "  # use AdamW optimizer initially with a weight decay of 0.0\n",
        "  # use the Sparse Categorical Accuracy and top k=5 accuracy metrics to monitor and save the best model weights\n",
        "  metrics = [tf.keras.metrics.SparseCategoricalAccuracy(),\n",
        "             tf.keras.metrics.SparseTopKCategoricalAccuracy(k=5, name='top_k_acc')]\n",
        "  model.compile(loss=tf.keras.losses.SparseCategoricalCrossentropy(from_logits=False),\n",
        "                metrics=metrics,\n",
        "                optimizer=tfa.optimizers.AdamW(learning_rate=config.LEARNING_RATE, weight_decay=0.0))\n",
        "  # load_weights of best performing model\n",
        "  model.load_weights('/content/best_full_model_weights.h5')\n",
        "\n",
        "# create a dictionary to hold the gradienst of all samples\n",
        "all_examples_dict = dict() \n",
        "# iterate over the validation dataset\n",
        "for iteration, batch in enumerate(tqdm(valid_ds, total=len(valid_df))):\n",
        "  # for each sample create a dictionary to hold the gradients of all passes\n",
        "  all_examples_dict[f'example_{iteration}'] = dict()\n",
        "  enc_inputs, dec_inputs, labels = batch\n",
        "  # create a variable for the number of examples in the current batch\n",
        "  num_examples = len(enc_inputs)\n",
        "  # create a NumPy array to save the predictions of the previous tokens\n",
        "  # it is initialized with ones where the model will see 1 in the first \n",
        "  # pass which represents the special starting \"s\" token\n",
        "  full_sequence_preds = np.ones((num_examples, config.MAXLEN))\n",
        "  # sequencially predict the label (predicted previous token as input (Auto-Regression))\n",
        "  for i in range(config.MAXLEN):\n",
        "    # extract the current mask from the attention_masks list\n",
        "    # broadcast the mask to the shape of (num_examples, num_heads(8), max_len(17), max_len(17))\n",
        "    current_att_mask = tf.broadcast_to(tf.constant(attention_masks[i]), (num_examples, config.NUM_HEADS, config.MAXLEN, config.MAXLEN))\n",
        "    # evaluate on each batch\n",
        "    \n",
        "    # interpretibility part\n",
        "    y = labels[:, -(i+1)] # extract the labels of the current pass\n",
        "    # use the gradients function to extract the gradiens w.r.t. the inputs to CBERT, encoder, and decoder\n",
        "    input_ids, grads = gradients(enc_inputs, full_sequence_preds, current_att_mask, y)\n",
        "    all_examples_dict[f'example_{iteration}'][f'pass_{i}'] = (input_ids, grads)\n",
        "\n",
        "    valid_results = model.test_on_batch(x=(enc_inputs, full_sequence_preds, current_att_mask), y=labels[:, -(i+1)], reset_metrics=False, return_dict=True)\n",
        "    # predict the tokens of the current position\n",
        "    preds = model.predict_on_batch(x=(enc_inputs, full_sequence_preds, current_att_mask))\n",
        "    # take the argmax value which represents the index of the highest prob character\n",
        "    current_preds = np.argmax(preds, axis=-1)\n",
        "    # populate the current position with the predicted values which will be used in the next \n",
        "    # pass as a decoder input\n",
        "    full_sequence_preds[:, -(i+1)] = current_preds\n",
        "\n",
        "  if iteration == 0:\n",
        "    final_full_sequence_preds = full_sequence_preds\n",
        "  else: # concatenate the preditions to form the final model predictions\n",
        "    final_full_sequence_preds = np.concatenate([final_full_sequence_preds, full_sequence_preds], axis=0)"
      ]
    },
    {
      "cell_type": "code",
      "source": [
        "# save the gradients dictionary into a pickle file\n",
        "with open('interpritibility_grads.pkl', 'wb') as f:\n",
        "  pickle.dump(all_examples_dict, f)\n",
        "\n",
        "# !mv /content/interpritibility_grads.pkl /content/drive/MyDrive/NLP_Course"
      ],
      "metadata": {
        "id": "xYMxc59PWA2n"
      },
      "execution_count": null,
      "outputs": []
    },
    {
      "cell_type": "code",
      "execution_count": null,
      "metadata": {
        "id": "l1IUXFTRgbNi"
      },
      "outputs": [],
      "source": [
        "# save the predictions as a NumPy array\n",
        "np.save('validation_set_prediction_with_interpretibility.npy', final_full_sequence_preds)\n",
        "# !mv /content/validation_set_prediction_with_interpretibility.npy /content/drive/MyDrive/NLP_Course"
      ]
    },
    {
      "cell_type": "code",
      "source": [
        ""
      ],
      "metadata": {
        "id": "0MQlIBGTrR8M"
      },
      "execution_count": null,
      "outputs": []
    }
  ],
  "metadata": {
    "colab": {
      "collapsed_sections": [],
      "name": "05 Encoder Decoder Model with Interpretability.ipynb",
      "provenance": []
    },
    "kernelspec": {
      "display_name": "Python 3 (ipykernel)",
      "language": "python",
      "name": "python3"
    },
    "language_info": {
      "codemirror_mode": {
        "name": "ipython",
        "version": 3
      },
      "file_extension": ".py",
      "mimetype": "text/x-python",
      "name": "python",
      "nbconvert_exporter": "python",
      "pygments_lexer": "ipython3",
      "version": "3.8.10"
    }
  },
  "nbformat": 4,
  "nbformat_minor": 0
}
