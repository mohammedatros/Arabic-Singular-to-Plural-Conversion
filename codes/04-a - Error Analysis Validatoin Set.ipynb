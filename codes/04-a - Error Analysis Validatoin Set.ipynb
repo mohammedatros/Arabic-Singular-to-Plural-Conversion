{
  "cells": [
    {
      "cell_type": "code",
      "execution_count": 1,
      "metadata": {
        "colab": {
          "base_uri": "https://localhost:8080/"
        },
        "id": "TxARKGBw5Jt6",
        "outputId": "4a632993-ae8c-4ea0-e5cd-1c7b55b01d52"
      },
      "outputs": [
        {
          "output_type": "stream",
          "name": "stdout",
          "text": [
            "Looking in indexes: https://pypi.org/simple, https://us-python.pkg.dev/colab-wheels/public/simple/\n",
            "Collecting PyArabic\n",
            "  Downloading PyArabic-0.6.15-py3-none-any.whl (126 kB)\n",
            "\u001b[K     |████████████████████████████████| 126 kB 5.7 MB/s \n",
            "\u001b[?25hRequirement already satisfied: six>=1.14.0 in /usr/local/lib/python3.7/dist-packages (from PyArabic) (1.15.0)\n",
            "Installing collected packages: PyArabic\n",
            "Successfully installed PyArabic-0.6.15\n"
          ]
        }
      ],
      "source": [
        "# install PyArabic library for Arabic preprocessing\n",
        "!pip install PyArabic"
      ]
    },
    {
      "cell_type": "code",
      "execution_count": 2,
      "metadata": {
        "id": "lVoQGZH0x1uR"
      },
      "outputs": [],
      "source": [
        "# Standard libraries imports\n",
        "import requests\n",
        "import numpy as np\n",
        "import pandas as pd\n",
        "from scipy import stats\n",
        "import pyarabic.araby as araby\n",
        "\n",
        "import seaborn as sns\n",
        "import matplotlib.pyplot as plt\n",
        "%matplotlib inline"
      ]
    },
    {
      "cell_type": "code",
      "execution_count": null,
      "metadata": {
        "colab": {
          "base_uri": "https://localhost:8080/"
        },
        "id": "ZCybjAyYyTWY",
        "outputId": "b26595e8-1ee6-4cff-ee5d-a5ac097630c3"
      },
      "outputs": [
        {
          "name": "stdout",
          "output_type": "stream",
          "text": [
            "Mounted at /content/drive\n"
          ]
        }
      ],
      "source": [
        "# from google.colab import drive\n",
        "# drive.mount('/content/drive')"
      ]
    },
    {
      "cell_type": "code",
      "execution_count": 3,
      "metadata": {
        "colab": {
          "base_uri": "https://localhost:8080/"
        },
        "id": "apgoaIXXzjIJ",
        "outputId": "2164b91f-885d-426a-c2fc-162ac1a529f8"
      },
      "outputs": [
        {
          "output_type": "stream",
          "name": "stdout",
          "text": [
            "Number of Arabic Characters: 38\n"
          ]
        }
      ],
      "source": [
        "# list of all Arabic characters\n",
        "chars = list('اٱبتةثجحخدذرزسشصضطظعغفقكلمنهويءآأؤإئىی')\n",
        "print('Number of Arabic Characters:', len(chars))\n",
        "\n",
        "# character to index dictionary\n",
        "char_to_index = dict((char, index+3) for (index, char) in enumerate(chars))\n",
        "# index to character dictionary\n",
        "index_to_char=  dict((index+3, char) for (index, char) in enumerate(chars))\n",
        "\n",
        "char_to_index['p'] = 0 # pad\n",
        "char_to_index['s'] = 1 # separator\n",
        "char_to_index['_'] = 2 # mask\n",
        "\n",
        "\n",
        "index_to_char[0] = 'p' # pad\n",
        "index_to_char[1] = 's' # separator\n",
        "index_to_char[2] = '_' # mask\n",
        "\n",
        "# additional char_to_index and index_to_char extracted manually as shown in next \n",
        "# cells. They were extracted and then saved into a CSV file\n",
        "df = pd.read_csv('https://drive.google.com/uc?export=download&id=1lQFU7XFy82-1dE5kPK7yDLpJ6tleycCC')\n",
        "chars_2 = df['char'].values.tolist()\n",
        "indexes_2 = df['value'].values.tolist()\n",
        "del df\n",
        "\n",
        "# additional character to index dictionary\n",
        "char_to_index_2 = dict(zip(chars_2, indexes_2))\n",
        "# additional index to character dictionary\n",
        "index_to_char_2 = dict(zip(indexes_2, chars_2))"
      ]
    },
    {
      "cell_type": "code",
      "execution_count": 4,
      "metadata": {
        "colab": {
          "base_uri": "https://localhost:8080/",
          "height": 363
        },
        "id": "7G-BpYJRwBKS",
        "outputId": "59ceed40-77a1-4e92-af0c-7c4d0c885094"
      },
      "outputs": [
        {
          "output_type": "execute_result",
          "data": {
            "text/plain": [
              "  singular   plural\n",
              "0     ساحة    ساحات\n",
              "1      أمر     أمور\n",
              "2      أمة      أمم\n",
              "3     جلسة    جلسات\n",
              "4    ٱتهام  اتهامات\n",
              "5    وزارة   وزارات\n",
              "6     ملفة    ملفات\n",
              "7    مسؤول  مسؤولين\n",
              "8       خط     خطوط\n",
              "9    ولاية   ولايات"
            ],
            "text/html": [
              "\n",
              "  <div id=\"df-04a786bb-c138-4689-a117-aa2ca9f2aac5\">\n",
              "    <div class=\"colab-df-container\">\n",
              "      <div>\n",
              "<style scoped>\n",
              "    .dataframe tbody tr th:only-of-type {\n",
              "        vertical-align: middle;\n",
              "    }\n",
              "\n",
              "    .dataframe tbody tr th {\n",
              "        vertical-align: top;\n",
              "    }\n",
              "\n",
              "    .dataframe thead th {\n",
              "        text-align: right;\n",
              "    }\n",
              "</style>\n",
              "<table border=\"1\" class=\"dataframe\">\n",
              "  <thead>\n",
              "    <tr style=\"text-align: right;\">\n",
              "      <th></th>\n",
              "      <th>singular</th>\n",
              "      <th>plural</th>\n",
              "    </tr>\n",
              "  </thead>\n",
              "  <tbody>\n",
              "    <tr>\n",
              "      <th>0</th>\n",
              "      <td>ساحة</td>\n",
              "      <td>ساحات</td>\n",
              "    </tr>\n",
              "    <tr>\n",
              "      <th>1</th>\n",
              "      <td>أمر</td>\n",
              "      <td>أمور</td>\n",
              "    </tr>\n",
              "    <tr>\n",
              "      <th>2</th>\n",
              "      <td>أمة</td>\n",
              "      <td>أمم</td>\n",
              "    </tr>\n",
              "    <tr>\n",
              "      <th>3</th>\n",
              "      <td>جلسة</td>\n",
              "      <td>جلسات</td>\n",
              "    </tr>\n",
              "    <tr>\n",
              "      <th>4</th>\n",
              "      <td>ٱتهام</td>\n",
              "      <td>اتهامات</td>\n",
              "    </tr>\n",
              "    <tr>\n",
              "      <th>5</th>\n",
              "      <td>وزارة</td>\n",
              "      <td>وزارات</td>\n",
              "    </tr>\n",
              "    <tr>\n",
              "      <th>6</th>\n",
              "      <td>ملفة</td>\n",
              "      <td>ملفات</td>\n",
              "    </tr>\n",
              "    <tr>\n",
              "      <th>7</th>\n",
              "      <td>مسؤول</td>\n",
              "      <td>مسؤولين</td>\n",
              "    </tr>\n",
              "    <tr>\n",
              "      <th>8</th>\n",
              "      <td>خط</td>\n",
              "      <td>خطوط</td>\n",
              "    </tr>\n",
              "    <tr>\n",
              "      <th>9</th>\n",
              "      <td>ولاية</td>\n",
              "      <td>ولايات</td>\n",
              "    </tr>\n",
              "  </tbody>\n",
              "</table>\n",
              "</div>\n",
              "      <button class=\"colab-df-convert\" onclick=\"convertToInteractive('df-04a786bb-c138-4689-a117-aa2ca9f2aac5')\"\n",
              "              title=\"Convert this dataframe to an interactive table.\"\n",
              "              style=\"display:none;\">\n",
              "        \n",
              "  <svg xmlns=\"http://www.w3.org/2000/svg\" height=\"24px\"viewBox=\"0 0 24 24\"\n",
              "       width=\"24px\">\n",
              "    <path d=\"M0 0h24v24H0V0z\" fill=\"none\"/>\n",
              "    <path d=\"M18.56 5.44l.94 2.06.94-2.06 2.06-.94-2.06-.94-.94-2.06-.94 2.06-2.06.94zm-11 1L8.5 8.5l.94-2.06 2.06-.94-2.06-.94L8.5 2.5l-.94 2.06-2.06.94zm10 10l.94 2.06.94-2.06 2.06-.94-2.06-.94-.94-2.06-.94 2.06-2.06.94z\"/><path d=\"M17.41 7.96l-1.37-1.37c-.4-.4-.92-.59-1.43-.59-.52 0-1.04.2-1.43.59L10.3 9.45l-7.72 7.72c-.78.78-.78 2.05 0 2.83L4 21.41c.39.39.9.59 1.41.59.51 0 1.02-.2 1.41-.59l7.78-7.78 2.81-2.81c.8-.78.8-2.07 0-2.86zM5.41 20L4 18.59l7.72-7.72 1.47 1.35L5.41 20z\"/>\n",
              "  </svg>\n",
              "      </button>\n",
              "      \n",
              "  <style>\n",
              "    .colab-df-container {\n",
              "      display:flex;\n",
              "      flex-wrap:wrap;\n",
              "      gap: 12px;\n",
              "    }\n",
              "\n",
              "    .colab-df-convert {\n",
              "      background-color: #E8F0FE;\n",
              "      border: none;\n",
              "      border-radius: 50%;\n",
              "      cursor: pointer;\n",
              "      display: none;\n",
              "      fill: #1967D2;\n",
              "      height: 32px;\n",
              "      padding: 0 0 0 0;\n",
              "      width: 32px;\n",
              "    }\n",
              "\n",
              "    .colab-df-convert:hover {\n",
              "      background-color: #E2EBFA;\n",
              "      box-shadow: 0px 1px 2px rgba(60, 64, 67, 0.3), 0px 1px 3px 1px rgba(60, 64, 67, 0.15);\n",
              "      fill: #174EA6;\n",
              "    }\n",
              "\n",
              "    [theme=dark] .colab-df-convert {\n",
              "      background-color: #3B4455;\n",
              "      fill: #D2E3FC;\n",
              "    }\n",
              "\n",
              "    [theme=dark] .colab-df-convert:hover {\n",
              "      background-color: #434B5C;\n",
              "      box-shadow: 0px 1px 3px 1px rgba(0, 0, 0, 0.15);\n",
              "      filter: drop-shadow(0px 1px 2px rgba(0, 0, 0, 0.3));\n",
              "      fill: #FFFFFF;\n",
              "    }\n",
              "  </style>\n",
              "\n",
              "      <script>\n",
              "        const buttonEl =\n",
              "          document.querySelector('#df-04a786bb-c138-4689-a117-aa2ca9f2aac5 button.colab-df-convert');\n",
              "        buttonEl.style.display =\n",
              "          google.colab.kernel.accessAllowed ? 'block' : 'none';\n",
              "\n",
              "        async function convertToInteractive(key) {\n",
              "          const element = document.querySelector('#df-04a786bb-c138-4689-a117-aa2ca9f2aac5');\n",
              "          const dataTable =\n",
              "            await google.colab.kernel.invokeFunction('convertToInteractive',\n",
              "                                                     [key], {});\n",
              "          if (!dataTable) return;\n",
              "\n",
              "          const docLinkHtml = 'Like what you see? Visit the ' +\n",
              "            '<a target=\"_blank\" href=https://colab.research.google.com/notebooks/data_table.ipynb>data table notebook</a>'\n",
              "            + ' to learn more about interactive tables.';\n",
              "          element.innerHTML = '';\n",
              "          dataTable['output_type'] = 'display_data';\n",
              "          await google.colab.output.renderOutput(dataTable, element);\n",
              "          const docLink = document.createElement('div');\n",
              "          docLink.innerHTML = docLinkHtml;\n",
              "          element.appendChild(docLink);\n",
              "        }\n",
              "      </script>\n",
              "    </div>\n",
              "  </div>\n",
              "  "
            ]
          },
          "metadata": {},
          "execution_count": 4
        }
      ],
      "source": [
        "# read the competition training dataset\n",
        "train_df = pd.read_csv('https://raw.githubusercontent.com/sigmorphon/2022InflectionST/main/part2/ara_1000.train', sep='\\t', header=None)\n",
        "# take only the first and second columns which\n",
        "# contain the sigular and plural forms\n",
        "train_df = train_df.iloc[:, :2]\n",
        "# rename the columns\n",
        "train_df.columns = ['singular', 'plural']\n",
        "# remove the Arabic diacritics from each column\n",
        "for col in train_df.columns:\n",
        "  train_df[col] = train_df[col].apply(lambda x: araby.strip_diacritics(x))\n",
        "\n",
        "# fetch the top 10 rows\n",
        "train_df.head(10)"
      ]
    },
    {
      "cell_type": "code",
      "execution_count": 5,
      "metadata": {
        "colab": {
          "base_uri": "https://localhost:8080/",
          "height": 363
        },
        "id": "GYHHVti3zNeM",
        "outputId": "0dc0ee7d-bb82-4cf1-cdb3-5fb1f4113df5"
      },
      "outputs": [
        {
          "output_type": "execute_result",
          "data": {
            "text/plain": [
              "  singular    plural\n",
              "0     تهمة       تهم\n",
              "1     مانع     موانع\n",
              "2      بعد     أبعاد\n",
              "3    توظيف   توظيفات\n",
              "4      خطر     أخطار\n",
              "5     مسلك     مسالك\n",
              "6   متحالف  متحالفين\n",
              "7      فار     فارين\n",
              "8      بحث     أبحاث\n",
              "9     نزاع    نزاعات"
            ],
            "text/html": [
              "\n",
              "  <div id=\"df-6c083087-0f6d-4f31-a032-759750d89358\">\n",
              "    <div class=\"colab-df-container\">\n",
              "      <div>\n",
              "<style scoped>\n",
              "    .dataframe tbody tr th:only-of-type {\n",
              "        vertical-align: middle;\n",
              "    }\n",
              "\n",
              "    .dataframe tbody tr th {\n",
              "        vertical-align: top;\n",
              "    }\n",
              "\n",
              "    .dataframe thead th {\n",
              "        text-align: right;\n",
              "    }\n",
              "</style>\n",
              "<table border=\"1\" class=\"dataframe\">\n",
              "  <thead>\n",
              "    <tr style=\"text-align: right;\">\n",
              "      <th></th>\n",
              "      <th>singular</th>\n",
              "      <th>plural</th>\n",
              "    </tr>\n",
              "  </thead>\n",
              "  <tbody>\n",
              "    <tr>\n",
              "      <th>0</th>\n",
              "      <td>تهمة</td>\n",
              "      <td>تهم</td>\n",
              "    </tr>\n",
              "    <tr>\n",
              "      <th>1</th>\n",
              "      <td>مانع</td>\n",
              "      <td>موانع</td>\n",
              "    </tr>\n",
              "    <tr>\n",
              "      <th>2</th>\n",
              "      <td>بعد</td>\n",
              "      <td>أبعاد</td>\n",
              "    </tr>\n",
              "    <tr>\n",
              "      <th>3</th>\n",
              "      <td>توظيف</td>\n",
              "      <td>توظيفات</td>\n",
              "    </tr>\n",
              "    <tr>\n",
              "      <th>4</th>\n",
              "      <td>خطر</td>\n",
              "      <td>أخطار</td>\n",
              "    </tr>\n",
              "    <tr>\n",
              "      <th>5</th>\n",
              "      <td>مسلك</td>\n",
              "      <td>مسالك</td>\n",
              "    </tr>\n",
              "    <tr>\n",
              "      <th>6</th>\n",
              "      <td>متحالف</td>\n",
              "      <td>متحالفين</td>\n",
              "    </tr>\n",
              "    <tr>\n",
              "      <th>7</th>\n",
              "      <td>فار</td>\n",
              "      <td>فارين</td>\n",
              "    </tr>\n",
              "    <tr>\n",
              "      <th>8</th>\n",
              "      <td>بحث</td>\n",
              "      <td>أبحاث</td>\n",
              "    </tr>\n",
              "    <tr>\n",
              "      <th>9</th>\n",
              "      <td>نزاع</td>\n",
              "      <td>نزاعات</td>\n",
              "    </tr>\n",
              "  </tbody>\n",
              "</table>\n",
              "</div>\n",
              "      <button class=\"colab-df-convert\" onclick=\"convertToInteractive('df-6c083087-0f6d-4f31-a032-759750d89358')\"\n",
              "              title=\"Convert this dataframe to an interactive table.\"\n",
              "              style=\"display:none;\">\n",
              "        \n",
              "  <svg xmlns=\"http://www.w3.org/2000/svg\" height=\"24px\"viewBox=\"0 0 24 24\"\n",
              "       width=\"24px\">\n",
              "    <path d=\"M0 0h24v24H0V0z\" fill=\"none\"/>\n",
              "    <path d=\"M18.56 5.44l.94 2.06.94-2.06 2.06-.94-2.06-.94-.94-2.06-.94 2.06-2.06.94zm-11 1L8.5 8.5l.94-2.06 2.06-.94-2.06-.94L8.5 2.5l-.94 2.06-2.06.94zm10 10l.94 2.06.94-2.06 2.06-.94-2.06-.94-.94-2.06-.94 2.06-2.06.94z\"/><path d=\"M17.41 7.96l-1.37-1.37c-.4-.4-.92-.59-1.43-.59-.52 0-1.04.2-1.43.59L10.3 9.45l-7.72 7.72c-.78.78-.78 2.05 0 2.83L4 21.41c.39.39.9.59 1.41.59.51 0 1.02-.2 1.41-.59l7.78-7.78 2.81-2.81c.8-.78.8-2.07 0-2.86zM5.41 20L4 18.59l7.72-7.72 1.47 1.35L5.41 20z\"/>\n",
              "  </svg>\n",
              "      </button>\n",
              "      \n",
              "  <style>\n",
              "    .colab-df-container {\n",
              "      display:flex;\n",
              "      flex-wrap:wrap;\n",
              "      gap: 12px;\n",
              "    }\n",
              "\n",
              "    .colab-df-convert {\n",
              "      background-color: #E8F0FE;\n",
              "      border: none;\n",
              "      border-radius: 50%;\n",
              "      cursor: pointer;\n",
              "      display: none;\n",
              "      fill: #1967D2;\n",
              "      height: 32px;\n",
              "      padding: 0 0 0 0;\n",
              "      width: 32px;\n",
              "    }\n",
              "\n",
              "    .colab-df-convert:hover {\n",
              "      background-color: #E2EBFA;\n",
              "      box-shadow: 0px 1px 2px rgba(60, 64, 67, 0.3), 0px 1px 3px 1px rgba(60, 64, 67, 0.15);\n",
              "      fill: #174EA6;\n",
              "    }\n",
              "\n",
              "    [theme=dark] .colab-df-convert {\n",
              "      background-color: #3B4455;\n",
              "      fill: #D2E3FC;\n",
              "    }\n",
              "\n",
              "    [theme=dark] .colab-df-convert:hover {\n",
              "      background-color: #434B5C;\n",
              "      box-shadow: 0px 1px 3px 1px rgba(0, 0, 0, 0.15);\n",
              "      filter: drop-shadow(0px 1px 2px rgba(0, 0, 0, 0.3));\n",
              "      fill: #FFFFFF;\n",
              "    }\n",
              "  </style>\n",
              "\n",
              "      <script>\n",
              "        const buttonEl =\n",
              "          document.querySelector('#df-6c083087-0f6d-4f31-a032-759750d89358 button.colab-df-convert');\n",
              "        buttonEl.style.display =\n",
              "          google.colab.kernel.accessAllowed ? 'block' : 'none';\n",
              "\n",
              "        async function convertToInteractive(key) {\n",
              "          const element = document.querySelector('#df-6c083087-0f6d-4f31-a032-759750d89358');\n",
              "          const dataTable =\n",
              "            await google.colab.kernel.invokeFunction('convertToInteractive',\n",
              "                                                     [key], {});\n",
              "          if (!dataTable) return;\n",
              "\n",
              "          const docLinkHtml = 'Like what you see? Visit the ' +\n",
              "            '<a target=\"_blank\" href=https://colab.research.google.com/notebooks/data_table.ipynb>data table notebook</a>'\n",
              "            + ' to learn more about interactive tables.';\n",
              "          element.innerHTML = '';\n",
              "          dataTable['output_type'] = 'display_data';\n",
              "          await google.colab.output.renderOutput(dataTable, element);\n",
              "          const docLink = document.createElement('div');\n",
              "          docLink.innerHTML = docLinkHtml;\n",
              "          element.appendChild(docLink);\n",
              "        }\n",
              "      </script>\n",
              "    </div>\n",
              "  </div>\n",
              "  "
            ]
          },
          "metadata": {},
          "execution_count": 5
        }
      ],
      "source": [
        "# read the competition validation dataset\n",
        "valid_df = pd.read_csv('https://raw.githubusercontent.com/sigmorphon/2022InflectionST/main/part2/ara.dev', sep='\\t', header=None)\n",
        "# take only the first and second columns which\n",
        "# contain the sigular and plural forms\n",
        "valid_df = valid_df.iloc[:, :2]\n",
        "# rename the columns\n",
        "valid_df.columns = ['singular', 'plural']\n",
        "# remove the Arabic diacritics from each column\n",
        "for col in valid_df.columns:\n",
        "  valid_df[col] = valid_df[col].apply(lambda x: araby.strip_diacritics(x))\n",
        "\n",
        "# fetch the top 10 rows\n",
        "valid_df.head(10)"
      ]
    },
    {
      "cell_type": "markdown",
      "metadata": {
        "id": "XTo4mqT9rHp5"
      },
      "source": [
        "# Helper Functions"
      ]
    },
    {
      "cell_type": "code",
      "execution_count": 6,
      "metadata": {
        "id": "-jcCv_yBzB15"
      },
      "outputs": [],
      "source": [
        "def indexes_to_word(example):\n",
        "  '''\n",
        "  Args: an array of indexes\n",
        "  Returns: a list of characters\n",
        "  '''\n",
        "  example = example.tolist()\n",
        "  list_of_chars = [index_to_char[idx] for idx in example]\n",
        "  return list_of_chars"
      ]
    },
    {
      "cell_type": "code",
      "execution_count": 7,
      "metadata": {
        "id": "W0hLRMfcLBp8"
      },
      "outputs": [],
      "source": [
        "def final_prediction_as_chars(index, return_gold=False):\n",
        "  '''\n",
        "  Args: index in the preditions array, int\n",
        "  Returns: a list of characters of the predictions from the start to the first 's' character\n",
        "  '''\n",
        "  # extract the predictions\n",
        "  example = preds[index]\n",
        "  # flip the predictions (Arabic)\n",
        "  flipped_example = np.flip(example)\n",
        "  # find the position of the first separator index, which is 1\n",
        "  first_separator_index = np.where(flipped_example == 1)[0][0]\n",
        "  # limit the returned sequence to the first separator\n",
        "  predicted_flipped_example = flipped_example[:first_separator_index]\n",
        "  # convert the array into a list\n",
        "  example = np.int32(predicted_flipped_example).tolist()\n",
        "  # convert indexes into characters\n",
        "  pred_chars = [index_to_char[i] for i in example]\n",
        "  # if gold is required, return it\n",
        "  if return_gold:\n",
        "    gold = list(valid_df.iloc[index, 1])\n",
        "    return pred_chars, gold\n",
        "  return pred_chars"
      ]
    },
    {
      "cell_type": "code",
      "execution_count": 8,
      "metadata": {
        "id": "kHctn34LLT1T"
      },
      "outputs": [],
      "source": [
        "def final_prediction_as_indexes(index, return_gold=False):\n",
        "  '''\n",
        "  Args: index in the preditions array, int\n",
        "  Returns: a list of indexes of the predictions from the start to the index of the first 's' character\n",
        "  '''\n",
        "  # extract the predictions\n",
        "  example = preds[index]\n",
        "  # flip the predictions (Arabic)\n",
        "  flipped_example = np.flip(example)\n",
        "  # find the position of the first separator index, which is 1\n",
        "  first_separator_index = np.where(flipped_example == 1)[0][0]\n",
        "  # limit the returned sequence to the first separator\n",
        "  predicted_flipped_example = flipped_example[:first_separator_index]\n",
        "  # convert the array into a list\n",
        "  pred_indexes = np.int32(predicted_flipped_example).tolist()\n",
        "  # if gold is required, return it\n",
        "  if return_gold:\n",
        "    gold = [char_to_index[char] for char in list(valid_df.iloc[index, 1])]\n",
        "    return pred_indexes, gold\n",
        "  return pred_indexes"
      ]
    },
    {
      "cell_type": "code",
      "execution_count": 9,
      "metadata": {
        "id": "iJOKh_6CLxCf"
      },
      "outputs": [],
      "source": [
        "def arabic_leven_dis(gold, pred, return_matrix=False):\n",
        "  '''\n",
        "  Levenshtein distance\n",
        "  Args:\n",
        "    gold: list of indexes of the gold characters\n",
        "    pred: list of indexes of the predicted characters\n",
        "  Returns:\n",
        "    Levenshtein distance\n",
        "  '''\n",
        "\n",
        "  # construct a matrix of the correct size\n",
        "  sol = np.zeros((len(pred), len(gold)))\n",
        "\n",
        "  # first row and column\n",
        "  sol[0, :] = np.flip([i for i in range(len(gold))])\n",
        "  sol[:, -1] = [i for i in range(len(pred))]\n",
        "\n",
        "  # fill in the rest\n",
        "  # through every column\n",
        "  for c in reversed(range(len(gold) - 1)):\n",
        "    # through every row\n",
        "    for r in range(1, len(pred)):\n",
        "\n",
        "      # in case not the same corresponding letters, take the minimum value of the above right corner three values (Arabic) + 1 \n",
        "      if gold[c] != pred[-(r+1)]:\n",
        "        sol[r, c] = min(sol[r-1, c+1], sol[r-1, c], sol[r, c+1]) + 1\n",
        "      # in case the corresponding letters are the same, take the upper diagonal value\n",
        "      else:\n",
        "        sol[r, c] = sol[r-1, c+1]\n",
        "\n",
        "  # if the full matrix is required\n",
        "  if return_matrix: \n",
        "    return sol\n",
        "  # if only the minimum number of edits is required\n",
        "  return sol[-1, 0]"
      ]
    },
    {
      "cell_type": "code",
      "execution_count": 10,
      "metadata": {
        "id": "_pFCPjtqrE_3"
      },
      "outputs": [],
      "source": [
        "# load the predictions\n",
        "url = 'https://drive.google.com/uc?export=download&id=1VbSc6ptY_v4M0g5_XexihuYgvM4D5xTl'\n",
        "r = requests.get(url, allow_redirects=True)\n",
        "open('validation_set_prediction_2.npy', 'wb').write(r.content)\n",
        "# read the predictions NumPy array\n",
        "with open('/content/validation_set_prediction_2.npy', 'rb') as f:\n",
        "  preds = np.load(f)"
      ]
    },
    {
      "cell_type": "code",
      "execution_count": 11,
      "metadata": {
        "id": "jhksQjDTpV1u"
      },
      "outputs": [],
      "source": [
        "# construct a distances list\n",
        "distances = []\n",
        "# iterate over each plural example in the validation set\n",
        "for i in range(len(valid_df)):\n",
        "  # extract the final predicted indexes alongside with the ground truth ones\n",
        "  pred, gold = final_prediction_as_indexes(i, True)\n",
        "  gold = gold + [-1] # add -1 for the '#' in the Levenshtein distance\n",
        "  pred = pred + [-1] # add -1 for the '#' in the Levenshtein distance\n",
        "  # calculate the minimum edits required\n",
        "  dist = arabic_leven_dis(gold, pred)\n",
        "  # append the distance to the distances list\n",
        "  distances.append(dist)\n",
        "\n",
        "# convert the distances list into a NumPy array\n",
        "distances = np.array(distances)"
      ]
    },
    {
      "cell_type": "code",
      "execution_count": 12,
      "metadata": {
        "colab": {
          "base_uri": "https://localhost:8080/"
        },
        "id": "chGdjnWn2W3i",
        "outputId": "e942a953-6ffb-4ead-d564-33c7d851a761"
      },
      "outputs": [
        {
          "output_type": "execute_result",
          "data": {
            "text/plain": [
              "DescribeResult(nobs=343, minmax=(0.0, 7.0), mean=1.629737609329446, variance=1.888820691183742, skewness=0.30677260472592827, kurtosis=-0.5883381593958732)"
            ]
          },
          "metadata": {},
          "execution_count": 12
        }
      ],
      "source": [
        "# print the statistics of the distances array\n",
        "statistics = stats.describe(distances)\n",
        "statistics"
      ]
    },
    {
      "cell_type": "code",
      "execution_count": 13,
      "metadata": {
        "colab": {
          "base_uri": "https://localhost:8080/",
          "height": 300
        },
        "id": "ALHVOH2QzsmN",
        "outputId": "ce95388c-60d6-4471-a83f-e1444e3b6c6d"
      },
      "outputs": [
        {
          "output_type": "execute_result",
          "data": {
            "text/plain": [
              "             dist\n",
              "count  343.000000\n",
              "mean     1.629738\n",
              "std      1.374344\n",
              "min      0.000000\n",
              "25%      0.000000\n",
              "50%      2.000000\n",
              "75%      3.000000\n",
              "max      7.000000"
            ],
            "text/html": [
              "\n",
              "  <div id=\"df-587b3cd6-577b-4bdf-a977-a38e32bb8d56\">\n",
              "    <div class=\"colab-df-container\">\n",
              "      <div>\n",
              "<style scoped>\n",
              "    .dataframe tbody tr th:only-of-type {\n",
              "        vertical-align: middle;\n",
              "    }\n",
              "\n",
              "    .dataframe tbody tr th {\n",
              "        vertical-align: top;\n",
              "    }\n",
              "\n",
              "    .dataframe thead th {\n",
              "        text-align: right;\n",
              "    }\n",
              "</style>\n",
              "<table border=\"1\" class=\"dataframe\">\n",
              "  <thead>\n",
              "    <tr style=\"text-align: right;\">\n",
              "      <th></th>\n",
              "      <th>dist</th>\n",
              "    </tr>\n",
              "  </thead>\n",
              "  <tbody>\n",
              "    <tr>\n",
              "      <th>count</th>\n",
              "      <td>343.000000</td>\n",
              "    </tr>\n",
              "    <tr>\n",
              "      <th>mean</th>\n",
              "      <td>1.629738</td>\n",
              "    </tr>\n",
              "    <tr>\n",
              "      <th>std</th>\n",
              "      <td>1.374344</td>\n",
              "    </tr>\n",
              "    <tr>\n",
              "      <th>min</th>\n",
              "      <td>0.000000</td>\n",
              "    </tr>\n",
              "    <tr>\n",
              "      <th>25%</th>\n",
              "      <td>0.000000</td>\n",
              "    </tr>\n",
              "    <tr>\n",
              "      <th>50%</th>\n",
              "      <td>2.000000</td>\n",
              "    </tr>\n",
              "    <tr>\n",
              "      <th>75%</th>\n",
              "      <td>3.000000</td>\n",
              "    </tr>\n",
              "    <tr>\n",
              "      <th>max</th>\n",
              "      <td>7.000000</td>\n",
              "    </tr>\n",
              "  </tbody>\n",
              "</table>\n",
              "</div>\n",
              "      <button class=\"colab-df-convert\" onclick=\"convertToInteractive('df-587b3cd6-577b-4bdf-a977-a38e32bb8d56')\"\n",
              "              title=\"Convert this dataframe to an interactive table.\"\n",
              "              style=\"display:none;\">\n",
              "        \n",
              "  <svg xmlns=\"http://www.w3.org/2000/svg\" height=\"24px\"viewBox=\"0 0 24 24\"\n",
              "       width=\"24px\">\n",
              "    <path d=\"M0 0h24v24H0V0z\" fill=\"none\"/>\n",
              "    <path d=\"M18.56 5.44l.94 2.06.94-2.06 2.06-.94-2.06-.94-.94-2.06-.94 2.06-2.06.94zm-11 1L8.5 8.5l.94-2.06 2.06-.94-2.06-.94L8.5 2.5l-.94 2.06-2.06.94zm10 10l.94 2.06.94-2.06 2.06-.94-2.06-.94-.94-2.06-.94 2.06-2.06.94z\"/><path d=\"M17.41 7.96l-1.37-1.37c-.4-.4-.92-.59-1.43-.59-.52 0-1.04.2-1.43.59L10.3 9.45l-7.72 7.72c-.78.78-.78 2.05 0 2.83L4 21.41c.39.39.9.59 1.41.59.51 0 1.02-.2 1.41-.59l7.78-7.78 2.81-2.81c.8-.78.8-2.07 0-2.86zM5.41 20L4 18.59l7.72-7.72 1.47 1.35L5.41 20z\"/>\n",
              "  </svg>\n",
              "      </button>\n",
              "      \n",
              "  <style>\n",
              "    .colab-df-container {\n",
              "      display:flex;\n",
              "      flex-wrap:wrap;\n",
              "      gap: 12px;\n",
              "    }\n",
              "\n",
              "    .colab-df-convert {\n",
              "      background-color: #E8F0FE;\n",
              "      border: none;\n",
              "      border-radius: 50%;\n",
              "      cursor: pointer;\n",
              "      display: none;\n",
              "      fill: #1967D2;\n",
              "      height: 32px;\n",
              "      padding: 0 0 0 0;\n",
              "      width: 32px;\n",
              "    }\n",
              "\n",
              "    .colab-df-convert:hover {\n",
              "      background-color: #E2EBFA;\n",
              "      box-shadow: 0px 1px 2px rgba(60, 64, 67, 0.3), 0px 1px 3px 1px rgba(60, 64, 67, 0.15);\n",
              "      fill: #174EA6;\n",
              "    }\n",
              "\n",
              "    [theme=dark] .colab-df-convert {\n",
              "      background-color: #3B4455;\n",
              "      fill: #D2E3FC;\n",
              "    }\n",
              "\n",
              "    [theme=dark] .colab-df-convert:hover {\n",
              "      background-color: #434B5C;\n",
              "      box-shadow: 0px 1px 3px 1px rgba(0, 0, 0, 0.15);\n",
              "      filter: drop-shadow(0px 1px 2px rgba(0, 0, 0, 0.3));\n",
              "      fill: #FFFFFF;\n",
              "    }\n",
              "  </style>\n",
              "\n",
              "      <script>\n",
              "        const buttonEl =\n",
              "          document.querySelector('#df-587b3cd6-577b-4bdf-a977-a38e32bb8d56 button.colab-df-convert');\n",
              "        buttonEl.style.display =\n",
              "          google.colab.kernel.accessAllowed ? 'block' : 'none';\n",
              "\n",
              "        async function convertToInteractive(key) {\n",
              "          const element = document.querySelector('#df-587b3cd6-577b-4bdf-a977-a38e32bb8d56');\n",
              "          const dataTable =\n",
              "            await google.colab.kernel.invokeFunction('convertToInteractive',\n",
              "                                                     [key], {});\n",
              "          if (!dataTable) return;\n",
              "\n",
              "          const docLinkHtml = 'Like what you see? Visit the ' +\n",
              "            '<a target=\"_blank\" href=https://colab.research.google.com/notebooks/data_table.ipynb>data table notebook</a>'\n",
              "            + ' to learn more about interactive tables.';\n",
              "          element.innerHTML = '';\n",
              "          dataTable['output_type'] = 'display_data';\n",
              "          await google.colab.output.renderOutput(dataTable, element);\n",
              "          const docLink = document.createElement('div');\n",
              "          docLink.innerHTML = docLinkHtml;\n",
              "          element.appendChild(docLink);\n",
              "        }\n",
              "      </script>\n",
              "    </div>\n",
              "  </div>\n",
              "  "
            ]
          },
          "metadata": {},
          "execution_count": 13
        }
      ],
      "source": [
        "# display additional statistics using Pandas methods\n",
        "pd.DataFrame({'dist': distances}).describe()"
      ]
    },
    {
      "cell_type": "code",
      "execution_count": 14,
      "metadata": {
        "colab": {
          "base_uri": "https://localhost:8080/",
          "height": 588
        },
        "id": "X-Fw2OnMvGiO",
        "outputId": "9321ee79-b9a2-49ed-dd5d-f5ffc408e977"
      },
      "outputs": [
        {
          "output_type": "stream",
          "name": "stderr",
          "text": [
            "/usr/local/lib/python3.7/dist-packages/seaborn/_decorators.py:43: FutureWarning: Pass the following variable as a keyword arg: x. From version 0.12, the only valid positional argument will be `data`, and passing other arguments without an explicit keyword will result in an error or misinterpretation.\n",
            "  FutureWarning\n"
          ]
        },
        {
          "output_type": "display_data",
          "data": {
            "text/plain": [
              "<Figure size 1200x600 with 2 Axes>"
            ],
            "image/png": "[encoded data removed]"
          },
          "metadata": {
            "needs_background": "light"
          }
        }
      ],
      "source": [
        "plt.figure(figsize=(12, 6), dpi=100)\n",
        "plt.subplot(1, 2, 1)\n",
        "# plot a figure showing the frequencies of each distance value\n",
        "sns.countplot(np.int32(distances), palette=\"Set2\")\n",
        "# plt.box(False)\n",
        "plt.xlabel('Levenshtein Distance')\n",
        "plt.ylabel('Frequency')\n",
        "plt.title('')\n",
        "plt.grid(linestyle='dashed', alpha=1, axis='y')\n",
        "plt.subplot(1, 2, 2)\n",
        "# plot a box plot that shows the distribution of distances\n",
        "sns.boxplot(y=distances, color='darkgrey')\n",
        "plt.ylabel('Levenshtein Distance')\n",
        "# plt.box(False)\n",
        "plt.grid(linestyle='dashed', alpha=1, axis='y')\n",
        "plt.savefig('frequency.jpg', dpi=100, bbox_inches='tight');"
      ]
    },
    {
      "cell_type": "code",
      "execution_count": 15,
      "metadata": {
        "colab": {
          "base_uri": "https://localhost:8080/"
        },
        "id": "7prwOTG2EwXT",
        "outputId": "e4ac6888-0c2c-4016-a541-bfd9d8f0b413"
      },
      "outputs": [
        {
          "output_type": "stream",
          "name": "stdout",
          "text": [
            "Number of feminine examples: 146\n",
            "Number of masculine examples: 50\n",
            "Number of takseer examples: 147\n"
          ]
        }
      ],
      "source": [
        "# the whole dataset\n",
        "# count the masculine, feminine, and takseer forms based on the word endings\n",
        "feminine_counts = 0\n",
        "masculine_counts = 0\n",
        "takseer_counts = 0\n",
        "\n",
        "# create lists to collect their indexes\n",
        "feminine_indexes = []\n",
        "masculine_indexes = []\n",
        "takseer_indexes = []\n",
        "\n",
        "# go over each word and check whether it is masculine, feminine, or takseer\n",
        "for i, word in enumerate(valid_df.iloc[:, -1].values.tolist()):\n",
        "  if word[-2:] == 'ات':\n",
        "    feminine_counts += 1\n",
        "    feminine_indexes.append(i)\n",
        "  elif word[-2:] == 'ين':\n",
        "    masculine_counts += 1\n",
        "    masculine_indexes.append(i)\n",
        "  else:\n",
        "    takseer_counts += 1\n",
        "    takseer_indexes.append(i)\n",
        "\n",
        "print('Number of feminine examples:', feminine_counts)\n",
        "print('Number of masculine examples:', masculine_counts)\n",
        "print('Number of takseer examples:', takseer_counts)"
      ]
    },
    {
      "cell_type": "markdown",
      "metadata": {
        "id": "5troyB9ls4l2"
      },
      "source": [
        "# Intensive Study"
      ]
    },
    {
      "cell_type": "code",
      "execution_count": 16,
      "metadata": {
        "colab": {
          "base_uri": "https://localhost:8080/",
          "height": 269
        },
        "id": "xfGbK-nNs3qJ",
        "outputId": "2e4378b5-4108-4d6a-99fd-3fc236848b99"
      },
      "outputs": [
        {
          "output_type": "display_data",
          "data": {
            "text/plain": [
              "   Distance  Counts\n",
              "0         0     109\n",
              "1         1      43\n",
              "2         2      88\n",
              "3         3      78\n",
              "4         4      21\n",
              "5         5       3\n",
              "6         7       1"
            ],
            "text/html": [
              "\n",
              "  <div id=\"df-e4755541-85d4-43bd-8119-2aa8bc69fa05\">\n",
              "    <div class=\"colab-df-container\">\n",
              "      <div>\n",
              "<style scoped>\n",
              "    .dataframe tbody tr th:only-of-type {\n",
              "        vertical-align: middle;\n",
              "    }\n",
              "\n",
              "    .dataframe tbody tr th {\n",
              "        vertical-align: top;\n",
              "    }\n",
              "\n",
              "    .dataframe thead th {\n",
              "        text-align: right;\n",
              "    }\n",
              "</style>\n",
              "<table border=\"1\" class=\"dataframe\">\n",
              "  <thead>\n",
              "    <tr style=\"text-align: right;\">\n",
              "      <th></th>\n",
              "      <th>Distance</th>\n",
              "      <th>Counts</th>\n",
              "    </tr>\n",
              "  </thead>\n",
              "  <tbody>\n",
              "    <tr>\n",
              "      <th>0</th>\n",
              "      <td>0</td>\n",
              "      <td>109</td>\n",
              "    </tr>\n",
              "    <tr>\n",
              "      <th>1</th>\n",
              "      <td>1</td>\n",
              "      <td>43</td>\n",
              "    </tr>\n",
              "    <tr>\n",
              "      <th>2</th>\n",
              "      <td>2</td>\n",
              "      <td>88</td>\n",
              "    </tr>\n",
              "    <tr>\n",
              "      <th>3</th>\n",
              "      <td>3</td>\n",
              "      <td>78</td>\n",
              "    </tr>\n",
              "    <tr>\n",
              "      <th>4</th>\n",
              "      <td>4</td>\n",
              "      <td>21</td>\n",
              "    </tr>\n",
              "    <tr>\n",
              "      <th>5</th>\n",
              "      <td>5</td>\n",
              "      <td>3</td>\n",
              "    </tr>\n",
              "    <tr>\n",
              "      <th>6</th>\n",
              "      <td>7</td>\n",
              "      <td>1</td>\n",
              "    </tr>\n",
              "  </tbody>\n",
              "</table>\n",
              "</div>\n",
              "      <button class=\"colab-df-convert\" onclick=\"convertToInteractive('df-e4755541-85d4-43bd-8119-2aa8bc69fa05')\"\n",
              "              title=\"Convert this dataframe to an interactive table.\"\n",
              "              style=\"display:none;\">\n",
              "        \n",
              "  <svg xmlns=\"http://www.w3.org/2000/svg\" height=\"24px\"viewBox=\"0 0 24 24\"\n",
              "       width=\"24px\">\n",
              "    <path d=\"M0 0h24v24H0V0z\" fill=\"none\"/>\n",
              "    <path d=\"M18.56 5.44l.94 2.06.94-2.06 2.06-.94-2.06-.94-.94-2.06-.94 2.06-2.06.94zm-11 1L8.5 8.5l.94-2.06 2.06-.94-2.06-.94L8.5 2.5l-.94 2.06-2.06.94zm10 10l.94 2.06.94-2.06 2.06-.94-2.06-.94-.94-2.06-.94 2.06-2.06.94z\"/><path d=\"M17.41 7.96l-1.37-1.37c-.4-.4-.92-.59-1.43-.59-.52 0-1.04.2-1.43.59L10.3 9.45l-7.72 7.72c-.78.78-.78 2.05 0 2.83L4 21.41c.39.39.9.59 1.41.59.51 0 1.02-.2 1.41-.59l7.78-7.78 2.81-2.81c.8-.78.8-2.07 0-2.86zM5.41 20L4 18.59l7.72-7.72 1.47 1.35L5.41 20z\"/>\n",
              "  </svg>\n",
              "      </button>\n",
              "      \n",
              "  <style>\n",
              "    .colab-df-container {\n",
              "      display:flex;\n",
              "      flex-wrap:wrap;\n",
              "      gap: 12px;\n",
              "    }\n",
              "\n",
              "    .colab-df-convert {\n",
              "      background-color: #E8F0FE;\n",
              "      border: none;\n",
              "      border-radius: 50%;\n",
              "      cursor: pointer;\n",
              "      display: none;\n",
              "      fill: #1967D2;\n",
              "      height: 32px;\n",
              "      padding: 0 0 0 0;\n",
              "      width: 32px;\n",
              "    }\n",
              "\n",
              "    .colab-df-convert:hover {\n",
              "      background-color: #E2EBFA;\n",
              "      box-shadow: 0px 1px 2px rgba(60, 64, 67, 0.3), 0px 1px 3px 1px rgba(60, 64, 67, 0.15);\n",
              "      fill: #174EA6;\n",
              "    }\n",
              "\n",
              "    [theme=dark] .colab-df-convert {\n",
              "      background-color: #3B4455;\n",
              "      fill: #D2E3FC;\n",
              "    }\n",
              "\n",
              "    [theme=dark] .colab-df-convert:hover {\n",
              "      background-color: #434B5C;\n",
              "      box-shadow: 0px 1px 3px 1px rgba(0, 0, 0, 0.15);\n",
              "      filter: drop-shadow(0px 1px 2px rgba(0, 0, 0, 0.3));\n",
              "      fill: #FFFFFF;\n",
              "    }\n",
              "  </style>\n",
              "\n",
              "      <script>\n",
              "        const buttonEl =\n",
              "          document.querySelector('#df-e4755541-85d4-43bd-8119-2aa8bc69fa05 button.colab-df-convert');\n",
              "        buttonEl.style.display =\n",
              "          google.colab.kernel.accessAllowed ? 'block' : 'none';\n",
              "\n",
              "        async function convertToInteractive(key) {\n",
              "          const element = document.querySelector('#df-e4755541-85d4-43bd-8119-2aa8bc69fa05');\n",
              "          const dataTable =\n",
              "            await google.colab.kernel.invokeFunction('convertToInteractive',\n",
              "                                                     [key], {});\n",
              "          if (!dataTable) return;\n",
              "\n",
              "          const docLinkHtml = 'Like what you see? Visit the ' +\n",
              "            '<a target=\"_blank\" href=https://colab.research.google.com/notebooks/data_table.ipynb>data table notebook</a>'\n",
              "            + ' to learn more about interactive tables.';\n",
              "          element.innerHTML = '';\n",
              "          dataTable['output_type'] = 'display_data';\n",
              "          await google.colab.output.renderOutput(dataTable, element);\n",
              "          const docLink = document.createElement('div');\n",
              "          docLink.innerHTML = docLinkHtml;\n",
              "          element.appendChild(docLink);\n",
              "        }\n",
              "      </script>\n",
              "    </div>\n",
              "  </div>\n",
              "  "
            ]
          },
          "metadata": {}
        }
      ],
      "source": [
        "# print(count of each Levenshtein distance)\n",
        "dists = np.unique(np.int32(distances), return_counts=True)[0]\n",
        "couts = np.unique(np.int32(distances), return_counts=True)[1]\n",
        "display(pd.DataFrame({'Distance': dists, 'Counts': couts}))"
      ]
    },
    {
      "cell_type": "code",
      "execution_count": 17,
      "metadata": {
        "id": "TrrLyiFts7uJ"
      },
      "outputs": [],
      "source": [
        "# group by each distance value\n",
        "zero_distance_indexes = np.where(distances==0)[0]\n",
        "one_distance_indexes = np.where(distances==1)[0]\n",
        "two_distance_indexes = np.where(distances==2)[0]\n",
        "three_distance_indexes = np.where(distances==3)[0]\n",
        "four_distance_indexes = np.where(distances==4)[0]\n",
        "five_distance_indexes = np.where(distances==5)[0]\n",
        "six_distance_indexes = np.where(distances==6)[0] # empty list (no examples lie in this range)\n",
        "seven_distance_indexes = np.where(distances==7)[0]"
      ]
    },
    {
      "cell_type": "markdown",
      "metadata": {
        "id": "7eVn4CSyzDkg"
      },
      "source": [
        "## Zero Levenshtein Distance (Perfect Match) "
      ]
    },
    {
      "cell_type": "code",
      "execution_count": 18,
      "metadata": {
        "id": "Dh31VsHUs7we"
      },
      "outputs": [],
      "source": [
        "# extract a list of the plural forms\n",
        "zero_distance_plural = valid_df.iloc[zero_distance_indexes, -1].values.tolist()"
      ]
    },
    {
      "cell_type": "code",
      "execution_count": 19,
      "metadata": {
        "colab": {
          "base_uri": "https://localhost:8080/"
        },
        "id": "w0grLslls7y6",
        "outputId": "0f1e377a-f94e-43c0-a090-08d65a7cef07"
      },
      "outputs": [
        {
          "output_type": "stream",
          "name": "stdout",
          "text": [
            "Number of feminine examples: 68\n",
            "Number of masculine examples: 17\n",
            "Number of takseer examples: 24\n"
          ]
        }
      ],
      "source": [
        "# count the masculine, feminine, and takseer forms based on the word endings\n",
        "feminine_counts = 0\n",
        "masculine_counts = 0\n",
        "takseer_counts = 0\n",
        "\n",
        "# create lists to collect their indexes\n",
        "feminine_indexes = []\n",
        "masculine_indexes = []\n",
        "takseer_indexes = []\n",
        "\n",
        "# go over each word and check whether it is masculine, feminine, or takseer\n",
        "for i, word in enumerate(zero_distance_plural):\n",
        "  if word[-2:] == 'ات':\n",
        "    feminine_counts += 1\n",
        "    feminine_indexes.append(i)\n",
        "  elif word[-2:] == 'ين':\n",
        "    masculine_counts += 1\n",
        "    masculine_indexes.append(i)\n",
        "  else:\n",
        "    takseer_counts += 1\n",
        "    takseer_indexes.append(i)\n",
        "\n",
        "print('Number of feminine examples:', feminine_counts)\n",
        "print('Number of masculine examples:', masculine_counts)\n",
        "print('Number of takseer examples:', takseer_counts)"
      ]
    },
    {
      "cell_type": "code",
      "execution_count": 20,
      "metadata": {
        "colab": {
          "base_uri": "https://localhost:8080/"
        },
        "id": "48zzvBKys71J",
        "outputId": "89a4dcf4-b20c-4622-c320-c074efe8053a"
      },
      "outputs": [
        {
          "output_type": "stream",
          "name": "stdout",
          "text": [
            "No word in the validation set is in the training set\n"
          ]
        }
      ],
      "source": [
        "# retrieving takseer examples\n",
        "takseer_examples = [zero_distance_plural[i] for i in takseer_indexes]\n",
        "\n",
        "# ensure all takseer examples are not in the training set\n",
        "counts = 0\n",
        "for word in takseer_examples:\n",
        "  if (word in train_df.iloc[:, -1].values.tolist()):\n",
        "    print(f\"{word} is in training set\")\n",
        "    counts += 1\n",
        "if counts == 0:\n",
        "  print(\"No word in the validation set is in the training set\")\n",
        "else:\n",
        "  print('*'*50)\n",
        "  print(f\"{counts} out of {takseer_counts} words is/are in the training set\")"
      ]
    },
    {
      "cell_type": "code",
      "execution_count": 21,
      "metadata": {
        "colab": {
          "base_uri": "https://localhost:8080/"
        },
        "id": "NHt6Bguhxkvv",
        "outputId": "e4ee2b8a-a75a-40c6-af88-c56721fee489"
      },
      "outputs": [
        {
          "output_type": "stream",
          "name": "stdout",
          "text": [
            "مشاركات is in training set\n",
            "مستوطنات is in training set\n",
            "**************************************************\n",
            "2 out of 68 words is/are in the training set\n"
          ]
        }
      ],
      "source": [
        "# retrieving feminine examples\n",
        "feminine_examples = [zero_distance_plural[i] for i in feminine_indexes]\n",
        "\n",
        "# ensure all feminine examples are not in the training set\n",
        "counts = 0\n",
        "for word in feminine_examples:\n",
        "  if (word in train_df.iloc[:, -1].values.tolist()):\n",
        "    print(f\"{word} is in training set\")\n",
        "    counts += 1\n",
        "if counts == 0:\n",
        "  print(\"No word in the validation set is in the training set\")\n",
        "else:\n",
        "  print('*'*50)\n",
        "  print(f\"{counts} out of {feminine_counts} words is/are in the training set\")"
      ]
    },
    {
      "cell_type": "code",
      "execution_count": 22,
      "metadata": {
        "colab": {
          "base_uri": "https://localhost:8080/"
        },
        "id": "pj6VWunWxkx2",
        "outputId": "93b405e7-29aa-4df9-d687-b9d3c659f3bc"
      },
      "outputs": [
        {
          "output_type": "stream",
          "name": "stdout",
          "text": [
            "مستخدمين is in training set\n",
            "**************************************************\n",
            "1 out of 17 words is/are in the training set\n"
          ]
        }
      ],
      "source": [
        "# retrieving masculine examples\n",
        "masculine_examples = [zero_distance_plural[i] for i in masculine_indexes]\n",
        "\n",
        "# ensure all masculine examples are not in the training set\n",
        "counts = 0\n",
        "for word in masculine_examples:\n",
        "  if (word in train_df.iloc[:, -1].values.tolist()):\n",
        "    print(f\"{word} is in training set\")\n",
        "    counts += 1\n",
        "if counts == 0:\n",
        "  print(\"No word in the validation set is in the training set\")\n",
        "else:\n",
        "  print('*'*50)\n",
        "  print(f\"{counts} out of {masculine_counts} words is/are in the training set\")"
      ]
    },
    {
      "cell_type": "markdown",
      "metadata": {
        "id": "4QgeEZs5zwoo"
      },
      "source": [
        "## One Levenshtein Distance"
      ]
    },
    {
      "cell_type": "code",
      "execution_count": 23,
      "metadata": {
        "id": "2bZoZ9dpz6po"
      },
      "outputs": [],
      "source": [
        "# extract a list of the plural forms\n",
        "one_distance_plural = valid_df.iloc[one_distance_indexes, -1].values.tolist()"
      ]
    },
    {
      "cell_type": "code",
      "execution_count": 24,
      "metadata": {
        "colab": {
          "base_uri": "https://localhost:8080/"
        },
        "id": "ylKy6fu8z19K",
        "outputId": "4d6877a4-f8cf-41ed-8419-5ea5874d14ce"
      },
      "outputs": [
        {
          "output_type": "stream",
          "name": "stdout",
          "text": [
            "Number of feminine examples: 19\n",
            "Number of masculine examples: 8\n",
            "Number of takseer examples: 16\n"
          ]
        }
      ],
      "source": [
        "# count the masculine, feminine, and takseer forms based on the word endings\n",
        "feminine_counts = 0\n",
        "masculine_counts = 0\n",
        "takseer_counts = 0\n",
        "\n",
        "# create lists to collect their indexes\n",
        "feminine_indexes = []\n",
        "masculine_indexes = []\n",
        "takseer_indexes = []\n",
        "\n",
        "# go over each word and check whether it is masculine, feminine, or takseer\n",
        "for i, word in enumerate(one_distance_plural):\n",
        "  if word[-2:] == 'ات':\n",
        "    feminine_counts += 1\n",
        "    feminine_indexes.append(i)\n",
        "  elif word[-2:] == 'ين':\n",
        "    masculine_counts += 1\n",
        "    masculine_indexes.append(i)\n",
        "  else:\n",
        "    takseer_counts += 1\n",
        "    takseer_indexes.append(i)\n",
        "\n",
        "print('Number of feminine examples:', feminine_counts)\n",
        "print('Number of masculine examples:', masculine_counts)\n",
        "print('Number of takseer examples:', takseer_counts)"
      ]
    },
    {
      "cell_type": "code",
      "execution_count": 25,
      "metadata": {
        "colab": {
          "base_uri": "https://localhost:8080/"
        },
        "id": "HmGjZia7z19L",
        "outputId": "d381e13b-a66b-4d8f-e33a-d739d8a195c7"
      },
      "outputs": [
        {
          "output_type": "stream",
          "name": "stdout",
          "text": [
            "No word in the validation set is in the training set\n"
          ]
        }
      ],
      "source": [
        "# retrieving takseer examples\n",
        "takseer_examples = [one_distance_plural[i] for i in takseer_indexes]\n",
        "\n",
        "# ensure all takseer examples are not in the training set\n",
        "counts = 0\n",
        "for word in takseer_examples:\n",
        "  if (word in train_df.iloc[:, -1].values.tolist()):\n",
        "    print(f\"{word} is in training set\")\n",
        "    counts += 1\n",
        "if counts == 0:\n",
        "  print(\"No word in the validation set is in the training set\")\n",
        "else:\n",
        "  print('*'*50)\n",
        "  print(f\"{counts} out of {takseer_counts} words is/are in the training set\")"
      ]
    },
    {
      "cell_type": "code",
      "execution_count": 26,
      "metadata": {
        "colab": {
          "base_uri": "https://localhost:8080/"
        },
        "id": "9eFjs8Ghz19L",
        "outputId": "67b2048c-f440-4cb4-dd3c-7bae9082456d"
      },
      "outputs": [
        {
          "output_type": "stream",
          "name": "stdout",
          "text": [
            "No word in the validation set is in the training set\n"
          ]
        }
      ],
      "source": [
        "# retrieving feminine examples\n",
        "feminine_examples = [one_distance_plural[i] for i in feminine_indexes]\n",
        "\n",
        "# ensure all feminine examples are not in the training set\n",
        "counts = 0\n",
        "for word in feminine_examples:\n",
        "  if (word in train_df.iloc[:, -1].values.tolist()):\n",
        "    print(f\"{word} is in training set\")\n",
        "    counts += 1\n",
        "if counts == 0:\n",
        "  print(\"No word in the validation set is in the training set\")\n",
        "else:\n",
        "  print('*'*50)\n",
        "  print(f\"{counts} out of {feminine_counts} words is/are in the training set\")"
      ]
    },
    {
      "cell_type": "code",
      "execution_count": 27,
      "metadata": {
        "colab": {
          "base_uri": "https://localhost:8080/"
        },
        "id": "C03LM1dtz19L",
        "outputId": "f32d9bf1-4b12-42e1-81b0-f5a3377d2afe"
      },
      "outputs": [
        {
          "output_type": "stream",
          "name": "stdout",
          "text": [
            "No word in the validation set is in the training set\n"
          ]
        }
      ],
      "source": [
        "# retrieving masculine examples\n",
        "masculine_examples = [one_distance_plural[i] for i in masculine_indexes]\n",
        "\n",
        "# ensure all masculine examples are not in the training set\n",
        "counts = 0\n",
        "for word in masculine_examples:\n",
        "  if (word in train_df.iloc[:, -1].values.tolist()):\n",
        "    print(f\"{word} is in training set\")\n",
        "    counts += 1\n",
        "if counts == 0:\n",
        "  print(\"No word in the validation set is in the training set\")\n",
        "else:\n",
        "  print('*'*50)\n",
        "  print(f\"{counts} out of {masculine_counts} words is/are in the training set\")"
      ]
    },
    {
      "cell_type": "markdown",
      "metadata": {
        "id": "sNxkWXs90UIJ"
      },
      "source": [
        "## Two Levenshtein Distance"
      ]
    },
    {
      "cell_type": "code",
      "execution_count": 28,
      "metadata": {
        "id": "uKMBr39S0UIK"
      },
      "outputs": [],
      "source": [
        "# extract a list of the plural forms\n",
        "two_distance_plural = valid_df.iloc[two_distance_indexes, -1].values.tolist()"
      ]
    },
    {
      "cell_type": "code",
      "execution_count": 29,
      "metadata": {
        "colab": {
          "base_uri": "https://localhost:8080/"
        },
        "id": "1f6OANmf0UIL",
        "outputId": "73eae240-16cb-4cca-9cd8-fa05f76be66b"
      },
      "outputs": [
        {
          "output_type": "stream",
          "name": "stdout",
          "text": [
            "Number of feminine examples: 35\n",
            "Number of masculine examples: 10\n",
            "Number of takseer examples: 43\n"
          ]
        }
      ],
      "source": [
        "# count the masculine, feminine, and takseer forms based on the word endings\n",
        "feminine_counts = 0\n",
        "masculine_counts = 0\n",
        "takseer_counts = 0\n",
        "\n",
        "# create lists to collect their indexes\n",
        "feminine_indexes = []\n",
        "masculine_indexes = []\n",
        "takseer_indexes = []\n",
        "\n",
        "# go over each word and check whether it is masculine, feminine, or takseer\n",
        "for i, word in enumerate(two_distance_plural):\n",
        "  if word[-2:] == 'ات':\n",
        "    feminine_counts += 1\n",
        "    feminine_indexes.append(i)\n",
        "  elif word[-2:] == 'ين':\n",
        "    masculine_counts += 1\n",
        "    masculine_indexes.append(i)\n",
        "  else:\n",
        "    takseer_counts += 1\n",
        "    takseer_indexes.append(i)\n",
        "\n",
        "print('Number of feminine examples:', feminine_counts)\n",
        "print('Number of masculine examples:', masculine_counts)\n",
        "print('Number of takseer examples:', takseer_counts)"
      ]
    },
    {
      "cell_type": "code",
      "execution_count": 30,
      "metadata": {
        "colab": {
          "base_uri": "https://localhost:8080/"
        },
        "id": "sF6iUdzO0UIM",
        "outputId": "cdebeb48-6643-4aa0-d11e-9573f545f69f"
      },
      "outputs": [
        {
          "output_type": "stream",
          "name": "stdout",
          "text": [
            "No word in the validation set is in the training set\n"
          ]
        }
      ],
      "source": [
        "# retrieving takseer examples\n",
        "takseer_examples = [two_distance_plural[i] for i in takseer_indexes]\n",
        "\n",
        "# ensure all takseer examples are not in the training set\n",
        "counts = 0\n",
        "for word in takseer_examples:\n",
        "  if (word in train_df.iloc[:, -1].values.tolist()):\n",
        "    print(f\"{word} is in training set\")\n",
        "    counts += 1\n",
        "if counts == 0:\n",
        "  print(\"No word in the validation set is in the training set\")\n",
        "else:\n",
        "  print('*'*50)\n",
        "  print(f\"{counts} out of {takseer_counts} words is/are in the training set\")"
      ]
    },
    {
      "cell_type": "code",
      "execution_count": 31,
      "metadata": {
        "colab": {
          "base_uri": "https://localhost:8080/"
        },
        "id": "aRvkNU2b0UIN",
        "outputId": "bc0526ce-c78e-4416-8780-4c3b3b9c3bd8"
      },
      "outputs": [
        {
          "output_type": "stream",
          "name": "stdout",
          "text": [
            "مجريات is in training set\n",
            "**************************************************\n",
            "1 out of 35 words is/are in the training set\n"
          ]
        }
      ],
      "source": [
        "# retrieving feminine examples\n",
        "feminine_examples = [two_distance_plural[i] for i in feminine_indexes]\n",
        "\n",
        "# ensure all feminine examples are not in the training set\n",
        "counts = 0\n",
        "for word in feminine_examples:\n",
        "  if (word in train_df.iloc[:, -1].values.tolist()):\n",
        "    print(f\"{word} is in training set\")\n",
        "    counts += 1\n",
        "if counts == 0:\n",
        "  print(\"No word in the validation set is in the training set\")\n",
        "else:\n",
        "  print('*'*50)\n",
        "  print(f\"{counts} out of {feminine_counts} words is/are in the training set\")"
      ]
    },
    {
      "cell_type": "code",
      "execution_count": 32,
      "metadata": {
        "colab": {
          "base_uri": "https://localhost:8080/"
        },
        "id": "fQ3pUCna0UIO",
        "outputId": "d465b3b4-25d5-4793-ec64-0536fe9ad8be"
      },
      "outputs": [
        {
          "output_type": "stream",
          "name": "stdout",
          "text": [
            "No word in the validation set is in the training set\n"
          ]
        }
      ],
      "source": [
        "# retrieving masculine examples\n",
        "masculine_examples = [two_distance_plural[i] for i in masculine_indexes]\n",
        "\n",
        "# ensure all masculine examples are not in the training set\n",
        "counts = 0\n",
        "for word in masculine_examples:\n",
        "  if (word in train_df.iloc[:, -1].values.tolist()):\n",
        "    print(f\"{word} is in training set\")\n",
        "    counts += 1\n",
        "if counts == 0:\n",
        "  print(\"No word in the validation set is in the training set\")\n",
        "else:\n",
        "  print('*'*50)\n",
        "  print(f\"{counts} out of {masculine_counts} words is/are in the training set\")"
      ]
    },
    {
      "cell_type": "markdown",
      "metadata": {
        "id": "9HR3FycN0jTG"
      },
      "source": [
        "## Three Levenshtein Distance"
      ]
    },
    {
      "cell_type": "code",
      "execution_count": 33,
      "metadata": {
        "id": "JKIwBaji0jTH"
      },
      "outputs": [],
      "source": [
        "# extract a list of the plural forms\n",
        "three_distance_plural = valid_df.iloc[three_distance_indexes, -1].values.tolist()"
      ]
    },
    {
      "cell_type": "code",
      "execution_count": 34,
      "metadata": {
        "colab": {
          "base_uri": "https://localhost:8080/"
        },
        "id": "Lmu73ygu0jTH",
        "outputId": "28497067-6042-48d3-d182-8633c5b8275e"
      },
      "outputs": [
        {
          "output_type": "stream",
          "name": "stdout",
          "text": [
            "Number of feminine examples: 20\n",
            "Number of masculine examples: 11\n",
            "Number of takseer examples: 47\n"
          ]
        }
      ],
      "source": [
        "# count the masculine, feminine, and takseer forms based on the word endings\n",
        "feminine_counts = 0\n",
        "masculine_counts = 0\n",
        "takseer_counts = 0\n",
        "\n",
        "# create lists to collect their indexes\n",
        "feminine_indexes = []\n",
        "masculine_indexes = []\n",
        "takseer_indexes = []\n",
        "\n",
        "# go over each word and check whether it is masculine, feminine, or takseer\n",
        "for i, word in enumerate(three_distance_plural):\n",
        "  if word[-2:] == 'ات':\n",
        "    feminine_counts += 1\n",
        "    feminine_indexes.append(i)\n",
        "  elif word[-2:] == 'ين':\n",
        "    masculine_counts += 1\n",
        "    masculine_indexes.append(i)\n",
        "  else:\n",
        "    takseer_counts += 1\n",
        "    takseer_indexes.append(i)\n",
        "\n",
        "print('Number of feminine examples:', feminine_counts)\n",
        "print('Number of masculine examples:', masculine_counts)\n",
        "print('Number of takseer examples:', takseer_counts)"
      ]
    },
    {
      "cell_type": "code",
      "execution_count": 35,
      "metadata": {
        "colab": {
          "base_uri": "https://localhost:8080/"
        },
        "id": "qFHAwTRm0jTH",
        "outputId": "e13303e7-5581-44b9-8899-3f0e0197900f"
      },
      "outputs": [
        {
          "output_type": "stream",
          "name": "stdout",
          "text": [
            "No word in the validation set is in the training set\n"
          ]
        }
      ],
      "source": [
        "# retrieving takseer examples\n",
        "takseer_examples = [three_distance_plural[i] for i in takseer_indexes]\n",
        "\n",
        "# ensure all takseer examples are not in the training set\n",
        "counts = 0\n",
        "for word in takseer_examples:\n",
        "  if (word in train_df.iloc[:, -1].values.tolist()):\n",
        "    print(f\"{word} is in training set\")\n",
        "    counts += 1\n",
        "if counts == 0:\n",
        "  print(\"No word in the validation set is in the training set\")\n",
        "else:\n",
        "  print('*'*50)\n",
        "  print(f\"{counts} out of {takseer_counts} words is/are in the training set\")"
      ]
    },
    {
      "cell_type": "code",
      "execution_count": 36,
      "metadata": {
        "colab": {
          "base_uri": "https://localhost:8080/"
        },
        "id": "VpNuR4To0jTI",
        "outputId": "ecf53b38-dd0d-4bd7-b9de-39ff7c5b059b"
      },
      "outputs": [
        {
          "output_type": "stream",
          "name": "stdout",
          "text": [
            "No word in the validation set is in the training set\n"
          ]
        }
      ],
      "source": [
        "# retrieving feminine examples\n",
        "feminine_examples = [three_distance_plural[i] for i in feminine_indexes]\n",
        "\n",
        "# ensure all feminine examples are not in the training set\n",
        "counts = 0\n",
        "for word in feminine_examples:\n",
        "  if (word in train_df.iloc[:, -1].values.tolist()):\n",
        "    print(f\"{word} is in training set\")\n",
        "    counts += 1\n",
        "if counts == 0:\n",
        "  print(\"No word in the validation set is in the training set\")\n",
        "else:\n",
        "  print('*'*50)\n",
        "  print(f\"{counts} out of {feminine_counts} words is/are in the training set\")"
      ]
    },
    {
      "cell_type": "code",
      "execution_count": 37,
      "metadata": {
        "colab": {
          "base_uri": "https://localhost:8080/"
        },
        "id": "0qRmnHRg0jTI",
        "outputId": "5d8fbcf9-4e91-4fd8-b830-90a80669ec3e"
      },
      "outputs": [
        {
          "output_type": "stream",
          "name": "stdout",
          "text": [
            "No word in the validation set is in the training set\n"
          ]
        }
      ],
      "source": [
        "# retrieving masculine examples\n",
        "masculine_examples = [three_distance_plural[i] for i in masculine_indexes]\n",
        "\n",
        "# ensure all masculine examples are not in the training set\n",
        "counts = 0\n",
        "for word in masculine_examples:\n",
        "  if (word in train_df.iloc[:, -1].values.tolist()):\n",
        "    print(f\"{word} is in training set\")\n",
        "    counts += 1\n",
        "if counts == 0:\n",
        "  print(\"No word in the validation set is in the training set\")\n",
        "else:\n",
        "  print('*'*50)\n",
        "  print(f\"{counts} out of {masculine_counts} words is/are in the training set\")"
      ]
    },
    {
      "cell_type": "markdown",
      "metadata": {
        "id": "b8S63w9303eK"
      },
      "source": [
        "## Four Levenshtein Distance"
      ]
    },
    {
      "cell_type": "code",
      "execution_count": 38,
      "metadata": {
        "id": "aUIjdwSu03eK"
      },
      "outputs": [],
      "source": [
        "# extract a list of the plural forms\n",
        "four_distance_plural = valid_df.iloc[four_distance_indexes, -1].values.tolist()"
      ]
    },
    {
      "cell_type": "code",
      "execution_count": 39,
      "metadata": {
        "colab": {
          "base_uri": "https://localhost:8080/"
        },
        "id": "bGLg64F303eK",
        "outputId": "37226191-134e-476c-872c-991cf34b22b3"
      },
      "outputs": [
        {
          "output_type": "stream",
          "name": "stdout",
          "text": [
            "Number of feminine examples: 4\n",
            "Number of masculine examples: 4\n",
            "Number of takseer examples: 13\n"
          ]
        }
      ],
      "source": [
        "# count the masculine, feminine, and takseer forms based on the word endings\n",
        "feminine_counts = 0\n",
        "masculine_counts = 0\n",
        "takseer_counts = 0\n",
        "\n",
        "# create lists to collect their indexes\n",
        "feminine_indexes = []\n",
        "masculine_indexes = []\n",
        "takseer_indexes = []\n",
        "\n",
        "# go over each word and check whether it is masculine, feminine, or takseer\n",
        "for i, word in enumerate(four_distance_plural):\n",
        "  if word[-2:] == 'ات':\n",
        "    feminine_counts += 1\n",
        "    feminine_indexes.append(i)\n",
        "  elif word[-2:] == 'ين':\n",
        "    masculine_counts += 1\n",
        "    masculine_indexes.append(i)\n",
        "  else:\n",
        "    takseer_counts += 1\n",
        "    takseer_indexes.append(i)\n",
        "\n",
        "print('Number of feminine examples:', feminine_counts)\n",
        "print('Number of masculine examples:', masculine_counts)\n",
        "print('Number of takseer examples:', takseer_counts)"
      ]
    },
    {
      "cell_type": "code",
      "execution_count": 40,
      "metadata": {
        "colab": {
          "base_uri": "https://localhost:8080/"
        },
        "id": "eicMkxpU03eK",
        "outputId": "dc52ade2-49c4-4c99-c648-27f9412b2235"
      },
      "outputs": [
        {
          "output_type": "stream",
          "name": "stdout",
          "text": [
            "No word in the validation set is in the training set\n"
          ]
        }
      ],
      "source": [
        "# retrieving takseer examples\n",
        "takseer_examples = [four_distance_plural[i] for i in takseer_indexes]\n",
        "\n",
        "# ensure all takseer examples are not in the training set\n",
        "counts = 0\n",
        "for word in takseer_examples:\n",
        "  if (word in train_df.iloc[:, -1].values.tolist()):\n",
        "    print(f\"{word} is in training set\")\n",
        "    counts += 1\n",
        "if counts == 0:\n",
        "  print(\"No word in the validation set is in the training set\")\n",
        "else:\n",
        "  print('*'*50)\n",
        "  print(f\"{counts} out of {takseer_counts} words is/are in the training set\")"
      ]
    },
    {
      "cell_type": "code",
      "execution_count": 41,
      "metadata": {
        "colab": {
          "base_uri": "https://localhost:8080/"
        },
        "id": "Y1wUS9T103eL",
        "outputId": "5dfa45b8-7e64-4bdc-d24e-c9eddf3ee909"
      },
      "outputs": [
        {
          "output_type": "stream",
          "name": "stdout",
          "text": [
            "No word in the validation set is in the training set\n"
          ]
        }
      ],
      "source": [
        "# retrieving feminine examples\n",
        "feminine_examples = [four_distance_plural[i] for i in feminine_indexes]\n",
        "\n",
        "# ensure all feminine examples are not in the training set\n",
        "counts = 0\n",
        "for word in feminine_examples:\n",
        "  if (word in train_df.iloc[:, -1].values.tolist()):\n",
        "    print(f\"{word} is in training set\")\n",
        "    counts += 1\n",
        "if counts == 0:\n",
        "  print(\"No word in the validation set is in the training set\")\n",
        "else:\n",
        "  print('*'*50)\n",
        "  print(f\"{counts} out of {feminine_counts} words is/are in the training set\")"
      ]
    },
    {
      "cell_type": "code",
      "execution_count": 42,
      "metadata": {
        "colab": {
          "base_uri": "https://localhost:8080/"
        },
        "id": "BIL5_Wzp03eL",
        "outputId": "d4913606-b43f-4fdb-b72c-5f68e18d9cc6"
      },
      "outputs": [
        {
          "output_type": "stream",
          "name": "stdout",
          "text": [
            "No word in the validation set is in the training set\n"
          ]
        }
      ],
      "source": [
        "# retrieving masculine examples\n",
        "masculine_examples = [four_distance_plural[i] for i in masculine_indexes]\n",
        "\n",
        "# ensure all masculine examples are not in the training set\n",
        "counts = 0\n",
        "for word in masculine_examples:\n",
        "  if (word in train_df.iloc[:, -1].values.tolist()):\n",
        "    print(f\"{word} is in training set\")\n",
        "    counts += 1\n",
        "if counts == 0:\n",
        "  print(\"No word in the validation set is in the training set\")\n",
        "else:\n",
        "  print('*'*50)\n",
        "  print(f\"{counts} out of {masculine_counts} words is/are in the training set\")"
      ]
    },
    {
      "cell_type": "markdown",
      "metadata": {
        "id": "--ewUo5u1TpE"
      },
      "source": [
        "## Five Levenshtein Distance"
      ]
    },
    {
      "cell_type": "code",
      "execution_count": 43,
      "metadata": {
        "id": "Xlc76GWs1TpP"
      },
      "outputs": [],
      "source": [
        "# extract a list of the plural forms\n",
        "five_distance_plural = valid_df.iloc[five_distance_indexes, -1].values.tolist()"
      ]
    },
    {
      "cell_type": "code",
      "execution_count": 44,
      "metadata": {
        "colab": {
          "base_uri": "https://localhost:8080/"
        },
        "id": "OZ2rVLKL1TpP",
        "outputId": "9023ead1-30f6-4ec6-9b84-911975f372ec"
      },
      "outputs": [
        {
          "output_type": "stream",
          "name": "stdout",
          "text": [
            "Number of feminine examples: 0\n",
            "Number of masculine examples: 0\n",
            "Number of takseer examples: 3\n"
          ]
        }
      ],
      "source": [
        "# count the masculine, feminine, and takseer forms based on the word endings\n",
        "feminine_counts = 0\n",
        "masculine_counts = 0\n",
        "takseer_counts = 0\n",
        "\n",
        "# create lists to collect their indexes\n",
        "feminine_indexes = []\n",
        "masculine_indexes = []\n",
        "takseer_indexes = []\n",
        "\n",
        "# go over each word and check whether it is masculine, feminine, or takseer\n",
        "for i, word in enumerate(five_distance_plural):\n",
        "  if word[-2:] == 'ات':\n",
        "    feminine_counts += 1\n",
        "    feminine_indexes.append(i)\n",
        "  elif word[-2:] == 'ين':\n",
        "    masculine_counts += 1\n",
        "    masculine_indexes.append(i)\n",
        "  else:\n",
        "    takseer_counts += 1\n",
        "    takseer_indexes.append(i)\n",
        "\n",
        "print('Number of feminine examples:', feminine_counts)\n",
        "print('Number of masculine examples:', masculine_counts)\n",
        "print('Number of takseer examples:', takseer_counts)"
      ]
    },
    {
      "cell_type": "code",
      "execution_count": 45,
      "metadata": {
        "colab": {
          "base_uri": "https://localhost:8080/"
        },
        "id": "xq6bL16L1TpQ",
        "outputId": "053d593d-559e-4e19-c856-4cf1e936802b"
      },
      "outputs": [
        {
          "output_type": "stream",
          "name": "stdout",
          "text": [
            "No word in the validation set is in the training set\n"
          ]
        }
      ],
      "source": [
        "# retrieving takseer examples\n",
        "takseer_examples = [five_distance_plural[i] for i in takseer_indexes]\n",
        "\n",
        "# ensure all takseer examples are not in the training set\n",
        "counts = 0\n",
        "for word in takseer_examples:\n",
        "  if (word in train_df.iloc[:, -1].values.tolist()):\n",
        "    print(f\"{word} is in training set\")\n",
        "    counts += 1\n",
        "if counts == 0:\n",
        "  print(\"No word in the validation set is in the training set\")\n",
        "else:\n",
        "  print('*'*50)\n",
        "  print(f\"{counts} out of {takseer_counts} words is/are in the training set\")"
      ]
    },
    {
      "cell_type": "code",
      "execution_count": 46,
      "metadata": {
        "colab": {
          "base_uri": "https://localhost:8080/"
        },
        "id": "ayXq-nKS1TpQ",
        "outputId": "a8105bb9-38e9-46c3-8f17-467813dc9244"
      },
      "outputs": [
        {
          "output_type": "stream",
          "name": "stdout",
          "text": [
            "No word in the validation set is in the training set\n"
          ]
        }
      ],
      "source": [
        "# retrieving feminine examples\n",
        "feminine_examples = [five_distance_plural[i] for i in feminine_indexes]\n",
        "\n",
        "# ensure all feminine examples are not in the training set\n",
        "counts = 0\n",
        "for word in feminine_examples:\n",
        "  if (word in train_df.iloc[:, -1].values.tolist()):\n",
        "    print(f\"{word} is in training set\")\n",
        "    counts += 1\n",
        "if counts == 0:\n",
        "  print(\"No word in the validation set is in the training set\")\n",
        "else:\n",
        "  print('*'*50)\n",
        "  print(f\"{counts} out of {feminine_counts} words is/are in the training set\")"
      ]
    },
    {
      "cell_type": "code",
      "execution_count": 47,
      "metadata": {
        "colab": {
          "base_uri": "https://localhost:8080/"
        },
        "id": "3Wh5nnPx1TpQ",
        "outputId": "e5557aa7-d9b0-4d51-ce42-5b9c9a8cb9f4"
      },
      "outputs": [
        {
          "output_type": "stream",
          "name": "stdout",
          "text": [
            "No word in the validation set is in the training set\n"
          ]
        }
      ],
      "source": [
        "# retrieving masculine examples\n",
        "masculine_examples = [five_distance_plural[i] for i in masculine_indexes]\n",
        "\n",
        "# ensure all masculine examples are not in the training set\n",
        "counts = 0\n",
        "for word in masculine_examples:\n",
        "  if (word in train_df.iloc[:, -1].values.tolist()):\n",
        "    print(f\"{word} is in training set\")\n",
        "    counts += 1\n",
        "if counts == 0:\n",
        "  print(\"No word in the validation set is in the training set\")\n",
        "else:\n",
        "  print('*'*50)\n",
        "  print(f\"{counts} out of {masculine_counts} words is/are in the training set\")"
      ]
    },
    {
      "cell_type": "markdown",
      "metadata": {
        "id": "cr3ZQELw1hHU"
      },
      "source": [
        "## Seven Levenshtein Distance"
      ]
    },
    {
      "cell_type": "code",
      "execution_count": 48,
      "metadata": {
        "id": "WeUsyNBo1hHe"
      },
      "outputs": [],
      "source": [
        "# extract a list of the plural forms\n",
        "seven_distance_plural = valid_df.iloc[seven_distance_indexes, -1].values.tolist()"
      ]
    },
    {
      "cell_type": "code",
      "execution_count": 49,
      "metadata": {
        "colab": {
          "base_uri": "https://localhost:8080/"
        },
        "id": "NitKBXgM1hHe",
        "outputId": "0a86b731-fd33-43bc-b918-d97ac3dba379"
      },
      "outputs": [
        {
          "output_type": "stream",
          "name": "stdout",
          "text": [
            "Number of feminine examples: 0\n",
            "Number of masculine examples: 0\n",
            "Number of takseer examples: 1\n"
          ]
        }
      ],
      "source": [
        "# count the masculine, feminine, and takseer forms based on the word endings\n",
        "feminine_counts = 0\n",
        "masculine_counts = 0\n",
        "takseer_counts = 0\n",
        "\n",
        "# create lists to collect their indexes\n",
        "feminine_indexes = []\n",
        "masculine_indexes = []\n",
        "takseer_indexes = []\n",
        "\n",
        "# go over each word and check whether it is masculine, feminine, or takseer\n",
        "for i, word in enumerate(seven_distance_plural):\n",
        "  if word[-2:] == 'ات':\n",
        "    feminine_counts += 1\n",
        "    feminine_indexes.append(i)\n",
        "  elif word[-2:] == 'ين':\n",
        "    masculine_counts += 1\n",
        "    masculine_indexes.append(i)\n",
        "  else:\n",
        "    takseer_counts += 1\n",
        "    takseer_indexes.append(i)\n",
        "\n",
        "print('Number of feminine examples:', feminine_counts)\n",
        "print('Number of masculine examples:', masculine_counts)\n",
        "print('Number of takseer examples:', takseer_counts)"
      ]
    },
    {
      "cell_type": "code",
      "execution_count": 50,
      "metadata": {
        "colab": {
          "base_uri": "https://localhost:8080/"
        },
        "id": "Yy5L0FF41hHf",
        "outputId": "a896354b-c91d-4d82-f65c-1ff3556c412e"
      },
      "outputs": [
        {
          "output_type": "stream",
          "name": "stdout",
          "text": [
            "No word in the validation set is in the training set\n"
          ]
        }
      ],
      "source": [
        "# retrieving takseer examples\n",
        "takseer_examples = [seven_distance_plural[i] for i in takseer_indexes]\n",
        "\n",
        "# ensure all takseer examples are not in the training set\n",
        "counts = 0\n",
        "for word in takseer_examples:\n",
        "  if (word in train_df.iloc[:, -1].values.tolist()):\n",
        "    print(f\"{word} is in training set\")\n",
        "    counts += 1\n",
        "if counts == 0:\n",
        "  print(\"No word in the validation set is in the training set\")\n",
        "else:\n",
        "  print('*'*50)\n",
        "  print(f\"{counts} out of {takseer_counts} words is/are in the training set\")"
      ]
    },
    {
      "cell_type": "code",
      "execution_count": 51,
      "metadata": {
        "colab": {
          "base_uri": "https://localhost:8080/"
        },
        "id": "QALX_jHJ1hHf",
        "outputId": "353842e5-54da-4547-b86f-835adc59b495"
      },
      "outputs": [
        {
          "output_type": "stream",
          "name": "stdout",
          "text": [
            "No word in the validation set is in the training set\n"
          ]
        }
      ],
      "source": [
        "# retrieving feminine examples\n",
        "feminine_examples = [seven_distance_plural[i] for i in feminine_indexes]\n",
        "\n",
        "# ensure all feminine examples are not in the training set\n",
        "counts = 0\n",
        "for word in feminine_examples:\n",
        "  if (word in train_df.iloc[:, -1].values.tolist()):\n",
        "    print(f\"{word} is in training set\")\n",
        "    counts += 1\n",
        "if counts == 0:\n",
        "  print(\"No word in the validation set is in the training set\")\n",
        "else:\n",
        "  print('*'*50)\n",
        "  print(f\"{counts} out of {feminine_counts} words is/are in the training set\")"
      ]
    },
    {
      "cell_type": "code",
      "execution_count": 52,
      "metadata": {
        "colab": {
          "base_uri": "https://localhost:8080/"
        },
        "id": "OXg_xSvM1hHf",
        "outputId": "f01462e7-6534-40bc-def2-537b2c7ed866"
      },
      "outputs": [
        {
          "output_type": "stream",
          "name": "stdout",
          "text": [
            "No word in the validation set is in the training set\n"
          ]
        }
      ],
      "source": [
        "# retrieving masculine examples\n",
        "masculine_examples = [seven_distance_plural[i] for i in masculine_indexes]\n",
        "\n",
        "# ensure all masculine examples are not in the training set\n",
        "counts = 0\n",
        "for word in masculine_examples:\n",
        "  if (word in train_df.iloc[:, -1].values.tolist()):\n",
        "    print(f\"{word} is in training set\")\n",
        "    counts += 1\n",
        "if counts == 0:\n",
        "  print(\"No word in the validation set is in the training set\")\n",
        "else:\n",
        "  print('*'*50)\n",
        "  print(f\"{counts} out of {masculine_counts} words is/are in the training set\")"
      ]
    },
    {
      "cell_type": "markdown",
      "metadata": {
        "id": "DDCFpho88JS3"
      },
      "source": [
        "## Visualization"
      ]
    },
    {
      "cell_type": "code",
      "execution_count": 53,
      "metadata": {
        "id": "gdzwU3hs8sRk"
      },
      "outputs": [],
      "source": [
        "# create a dictionary that contains the examples of each distance value\n",
        "dict_ = dict()\n",
        "dict_['zero_distance_plural'] = valid_df.iloc[zero_distance_indexes, -1].values.tolist()\n",
        "dict_['one_distance_plural'] = valid_df.iloc[one_distance_indexes, -1].values.tolist()\n",
        "dict_['two_distance_plural'] = valid_df.iloc[two_distance_indexes, -1].values.tolist()\n",
        "dict_['three_distance_plural'] = valid_df.iloc[three_distance_indexes, -1].values.tolist()\n",
        "dict_['four_distance_plural'] = valid_df.iloc[four_distance_indexes, -1].values.tolist()\n",
        "dict_['five_distance_plural'] = valid_df.iloc[five_distance_indexes, -1].values.tolist()\n",
        "dict_['seven_distance_plural'] = valid_df.iloc[seven_distance_indexes, -1].values.tolist()\n",
        "\n",
        "# create a list to hold the counts across distances\n",
        "feminine_counts_list = []\n",
        "masculine_counts_list = []\n",
        "takseer_counts_list = []\n",
        "\n",
        "for key in [*dict_]:\n",
        "  # count the masculine, feminine, and takseer forms based on the word endings\n",
        "  feminine_counts = 0\n",
        "  masculine_counts = 0\n",
        "  takseer_counts = 0\n",
        "  # go over each word and check whether it is masculine, feminine, or takseer\n",
        "  for i, word in enumerate(dict_[key]):\n",
        "    if word[-2:] == 'ات':\n",
        "      feminine_counts += 1\n",
        "    elif word[-2:] == 'ين':\n",
        "      masculine_counts += 1\n",
        "    else:\n",
        "      takseer_counts += 1\n",
        "  # append counts for each category\n",
        "  feminine_counts_list.append(feminine_counts)\n",
        "  masculine_counts_list.append(masculine_counts)\n",
        "  takseer_counts_list.append(takseer_counts)"
      ]
    },
    {
      "cell_type": "code",
      "execution_count": 54,
      "metadata": {
        "colab": {
          "base_uri": "https://localhost:8080/",
          "height": 608
        },
        "id": "IWBwH-kd8IQM",
        "outputId": "9d3e6b04-0745-480d-9069-1ed80a0bdcde"
      },
      "outputs": [
        {
          "output_type": "display_data",
          "data": {
            "text/plain": [
              "<Figure size 1200x700 with 1 Axes>"
            ],
            "image/png": "[encoded data removed]"
          },
          "metadata": {
            "needs_background": "light"
          }
        }
      ],
      "source": [
        "# plot a bar chart showing the distribution of the three classes in \n",
        "# distance value\n",
        "plt.figure(figsize=(12, 7), dpi=100)\n",
        "X = [f'Distance {i}' for i in range(8) if i != 6]\n",
        "X_axis = np.arange(len(X))\n",
        "  \n",
        "plt.bar(X_axis - 0.1, feminine_counts_list, 0.2, label = 'Feminine', color='plum')\n",
        "plt.bar(X_axis + 0.1, masculine_counts_list, 0.2, label = 'Masculine', color='steelblue')\n",
        "plt.bar(X_axis + 0.3, takseer_counts_list, 0.2, label = 'Irregular', color='darkgray')\n",
        "\n",
        "  \n",
        "plt.xticks(X_axis, X)\n",
        "plt.xlabel(\"Distances\")\n",
        "plt.ylabel(\"Number of Words\")\n",
        "# plt.title(\"Number of Words in Each Distance Range\")\n",
        "plt.legend()\n",
        "plt.grid(linestyle='dashed', axis='y')\n",
        "plt.savefig('number of words in each distance range.jpg', dpi=100, bbox_inches='tight')"
      ]
    },
    {
      "cell_type": "markdown",
      "metadata": {
        "id": "sYbquIa1roTl"
      },
      "source": [
        "# Model Progress "
      ]
    },
    {
      "cell_type": "code",
      "execution_count": 55,
      "metadata": {
        "colab": {
          "base_uri": "https://localhost:8080/",
          "height": 424
        },
        "id": "8YcLVUglrakD",
        "outputId": "c317b6d6-122c-451a-8a67-0fc3993d0c2a"
      },
      "outputs": [
        {
          "output_type": "execute_result",
          "data": {
            "text/plain": [
              "    Train Loss  Train Accuracy  Train Top 5 Accuracy  Valid Loss  \\\n",
              "0   129.729332        0.003550              0.095588    5.439922   \n",
              "1   124.469086        0.021552              0.132860    6.240949   \n",
              "2   119.895061        0.063387              0.174442    6.868495   \n",
              "3   118.806897        0.034990              0.110294    6.378825   \n",
              "4   105.124122        0.056288              0.159990    6.440104   \n",
              "..         ...             ...                   ...         ...   \n",
              "95    0.989303        0.381592              0.391734    7.552056   \n",
              "96    0.978107        0.382099              0.391734    7.554486   \n",
              "97    0.967148        0.382099              0.391734    7.557542   \n",
              "98    0.956402        0.382099              0.391734    7.562794   \n",
              "99    0.945849        0.382606              0.391734    7.566761   \n",
              "\n",
              "    Valid Accuracy  Valid Top 5 Accuracy  \n",
              "0         0.036625              0.143230  \n",
              "1         0.061702              0.131164  \n",
              "2         0.064656              0.118113  \n",
              "3         0.106891              0.203718  \n",
              "4         0.074484              0.208504  \n",
              "..             ...                   ...  \n",
              "95        0.266240              0.359112  \n",
              "96        0.266240              0.359112  \n",
              "97        0.266011              0.359112  \n",
              "98        0.265896              0.358997  \n",
              "99        0.265896              0.358997  \n",
              "\n",
              "[100 rows x 6 columns]"
            ],
            "text/html": [
              "\n",
              "  <div id=\"df-37c63282-f6d2-4d2a-b46f-8e3f4942b725\">\n",
              "    <div class=\"colab-df-container\">\n",
              "      <div>\n",
              "<style scoped>\n",
              "    .dataframe tbody tr th:only-of-type {\n",
              "        vertical-align: middle;\n",
              "    }\n",
              "\n",
              "    .dataframe tbody tr th {\n",
              "        vertical-align: top;\n",
              "    }\n",
              "\n",
              "    .dataframe thead th {\n",
              "        text-align: right;\n",
              "    }\n",
              "</style>\n",
              "<table border=\"1\" class=\"dataframe\">\n",
              "  <thead>\n",
              "    <tr style=\"text-align: right;\">\n",
              "      <th></th>\n",
              "      <th>Train Loss</th>\n",
              "      <th>Train Accuracy</th>\n",
              "      <th>Train Top 5 Accuracy</th>\n",
              "      <th>Valid Loss</th>\n",
              "      <th>Valid Accuracy</th>\n",
              "      <th>Valid Top 5 Accuracy</th>\n",
              "    </tr>\n",
              "  </thead>\n",
              "  <tbody>\n",
              "    <tr>\n",
              "      <th>0</th>\n",
              "      <td>129.729332</td>\n",
              "      <td>0.003550</td>\n",
              "      <td>0.095588</td>\n",
              "      <td>5.439922</td>\n",
              "      <td>0.036625</td>\n",
              "      <td>0.143230</td>\n",
              "    </tr>\n",
              "    <tr>\n",
              "      <th>1</th>\n",
              "      <td>124.469086</td>\n",
              "      <td>0.021552</td>\n",
              "      <td>0.132860</td>\n",
              "      <td>6.240949</td>\n",
              "      <td>0.061702</td>\n",
              "      <td>0.131164</td>\n",
              "    </tr>\n",
              "    <tr>\n",
              "      <th>2</th>\n",
              "      <td>119.895061</td>\n",
              "      <td>0.063387</td>\n",
              "      <td>0.174442</td>\n",
              "      <td>6.868495</td>\n",
              "      <td>0.064656</td>\n",
              "      <td>0.118113</td>\n",
              "    </tr>\n",
              "    <tr>\n",
              "      <th>3</th>\n",
              "      <td>118.806897</td>\n",
              "      <td>0.034990</td>\n",
              "      <td>0.110294</td>\n",
              "      <td>6.378825</td>\n",
              "      <td>0.106891</td>\n",
              "      <td>0.203718</td>\n",
              "    </tr>\n",
              "    <tr>\n",
              "      <th>4</th>\n",
              "      <td>105.124122</td>\n",
              "      <td>0.056288</td>\n",
              "      <td>0.159990</td>\n",
              "      <td>6.440104</td>\n",
              "      <td>0.074484</td>\n",
              "      <td>0.208504</td>\n",
              "    </tr>\n",
              "    <tr>\n",
              "      <th>...</th>\n",
              "      <td>...</td>\n",
              "      <td>...</td>\n",
              "      <td>...</td>\n",
              "      <td>...</td>\n",
              "      <td>...</td>\n",
              "      <td>...</td>\n",
              "    </tr>\n",
              "    <tr>\n",
              "      <th>95</th>\n",
              "      <td>0.989303</td>\n",
              "      <td>0.381592</td>\n",
              "      <td>0.391734</td>\n",
              "      <td>7.552056</td>\n",
              "      <td>0.266240</td>\n",
              "      <td>0.359112</td>\n",
              "    </tr>\n",
              "    <tr>\n",
              "      <th>96</th>\n",
              "      <td>0.978107</td>\n",
              "      <td>0.382099</td>\n",
              "      <td>0.391734</td>\n",
              "      <td>7.554486</td>\n",
              "      <td>0.266240</td>\n",
              "      <td>0.359112</td>\n",
              "    </tr>\n",
              "    <tr>\n",
              "      <th>97</th>\n",
              "      <td>0.967148</td>\n",
              "      <td>0.382099</td>\n",
              "      <td>0.391734</td>\n",
              "      <td>7.557542</td>\n",
              "      <td>0.266011</td>\n",
              "      <td>0.359112</td>\n",
              "    </tr>\n",
              "    <tr>\n",
              "      <th>98</th>\n",
              "      <td>0.956402</td>\n",
              "      <td>0.382099</td>\n",
              "      <td>0.391734</td>\n",
              "      <td>7.562794</td>\n",
              "      <td>0.265896</td>\n",
              "      <td>0.358997</td>\n",
              "    </tr>\n",
              "    <tr>\n",
              "      <th>99</th>\n",
              "      <td>0.945849</td>\n",
              "      <td>0.382606</td>\n",
              "      <td>0.391734</td>\n",
              "      <td>7.566761</td>\n",
              "      <td>0.265896</td>\n",
              "      <td>0.358997</td>\n",
              "    </tr>\n",
              "  </tbody>\n",
              "</table>\n",
              "<p>100 rows × 6 columns</p>\n",
              "</div>\n",
              "      <button class=\"colab-df-convert\" onclick=\"convertToInteractive('df-37c63282-f6d2-4d2a-b46f-8e3f4942b725')\"\n",
              "              title=\"Convert this dataframe to an interactive table.\"\n",
              "              style=\"display:none;\">\n",
              "        \n",
              "  <svg xmlns=\"http://www.w3.org/2000/svg\" height=\"24px\"viewBox=\"0 0 24 24\"\n",
              "       width=\"24px\">\n",
              "    <path d=\"M0 0h24v24H0V0z\" fill=\"none\"/>\n",
              "    <path d=\"M18.56 5.44l.94 2.06.94-2.06 2.06-.94-2.06-.94-.94-2.06-.94 2.06-2.06.94zm-11 1L8.5 8.5l.94-2.06 2.06-.94-2.06-.94L8.5 2.5l-.94 2.06-2.06.94zm10 10l.94 2.06.94-2.06 2.06-.94-2.06-.94-.94-2.06-.94 2.06-2.06.94z\"/><path d=\"M17.41 7.96l-1.37-1.37c-.4-.4-.92-.59-1.43-.59-.52 0-1.04.2-1.43.59L10.3 9.45l-7.72 7.72c-.78.78-.78 2.05 0 2.83L4 21.41c.39.39.9.59 1.41.59.51 0 1.02-.2 1.41-.59l7.78-7.78 2.81-2.81c.8-.78.8-2.07 0-2.86zM5.41 20L4 18.59l7.72-7.72 1.47 1.35L5.41 20z\"/>\n",
              "  </svg>\n",
              "      </button>\n",
              "      \n",
              "  <style>\n",
              "    .colab-df-container {\n",
              "      display:flex;\n",
              "      flex-wrap:wrap;\n",
              "      gap: 12px;\n",
              "    }\n",
              "\n",
              "    .colab-df-convert {\n",
              "      background-color: #E8F0FE;\n",
              "      border: none;\n",
              "      border-radius: 50%;\n",
              "      cursor: pointer;\n",
              "      display: none;\n",
              "      fill: #1967D2;\n",
              "      height: 32px;\n",
              "      padding: 0 0 0 0;\n",
              "      width: 32px;\n",
              "    }\n",
              "\n",
              "    .colab-df-convert:hover {\n",
              "      background-color: #E2EBFA;\n",
              "      box-shadow: 0px 1px 2px rgba(60, 64, 67, 0.3), 0px 1px 3px 1px rgba(60, 64, 67, 0.15);\n",
              "      fill: #174EA6;\n",
              "    }\n",
              "\n",
              "    [theme=dark] .colab-df-convert {\n",
              "      background-color: #3B4455;\n",
              "      fill: #D2E3FC;\n",
              "    }\n",
              "\n",
              "    [theme=dark] .colab-df-convert:hover {\n",
              "      background-color: #434B5C;\n",
              "      box-shadow: 0px 1px 3px 1px rgba(0, 0, 0, 0.15);\n",
              "      filter: drop-shadow(0px 1px 2px rgba(0, 0, 0, 0.3));\n",
              "      fill: #FFFFFF;\n",
              "    }\n",
              "  </style>\n",
              "\n",
              "      <script>\n",
              "        const buttonEl =\n",
              "          document.querySelector('#df-37c63282-f6d2-4d2a-b46f-8e3f4942b725 button.colab-df-convert');\n",
              "        buttonEl.style.display =\n",
              "          google.colab.kernel.accessAllowed ? 'block' : 'none';\n",
              "\n",
              "        async function convertToInteractive(key) {\n",
              "          const element = document.querySelector('#df-37c63282-f6d2-4d2a-b46f-8e3f4942b725');\n",
              "          const dataTable =\n",
              "            await google.colab.kernel.invokeFunction('convertToInteractive',\n",
              "                                                     [key], {});\n",
              "          if (!dataTable) return;\n",
              "\n",
              "          const docLinkHtml = 'Like what you see? Visit the ' +\n",
              "            '<a target=\"_blank\" href=https://colab.research.google.com/notebooks/data_table.ipynb>data table notebook</a>'\n",
              "            + ' to learn more about interactive tables.';\n",
              "          element.innerHTML = '';\n",
              "          dataTable['output_type'] = 'display_data';\n",
              "          await google.colab.output.renderOutput(dataTable, element);\n",
              "          const docLink = document.createElement('div');\n",
              "          docLink.innerHTML = docLinkHtml;\n",
              "          element.appendChild(docLink);\n",
              "        }\n",
              "      </script>\n",
              "    </div>\n",
              "  </div>\n",
              "  "
            ]
          },
          "metadata": {},
          "execution_count": 55
        }
      ],
      "source": [
        "# read the saved training progress dataset\n",
        "df = pd.read_csv('https://drive.google.com/uc?export=download&id=16IkBKrjzTvzAS4hNCmkoRCm284GIwWEG')\n",
        "cols = df.columns.tolist()\n",
        "# rename the columns\n",
        "cols = ['Train Loss', 'Train Accuracy', 'Train Top 5 Accuracy',\n",
        "        'Valid Loss', 'Valid Accuracy', 'Valid Top 5 Accuracy']\n",
        "df.columns = cols\n",
        "df"
      ]
    },
    {
      "cell_type": "code",
      "execution_count": 56,
      "metadata": {
        "colab": {
          "base_uri": "https://localhost:8080/",
          "height": 986
        },
        "id": "DGBSY9-I3mI9",
        "outputId": "efc4247d-ee88-4400-8d8c-19d20972c5c2"
      },
      "outputs": [
        {
          "output_type": "display_data",
          "data": {
            "text/plain": [
              "<Figure size 1200x1200 with 3 Axes>"
            ],
            "image/png": "[encoded data removed]"
          },
          "metadata": {
            "needs_background": "light"
          }
        }
      ],
      "source": [
        "# plot loss vs epochs\n",
        "plt.figure(figsize=(12, 12), dpi=100)\n",
        "grid = plt.GridSpec(2, 4, wspace=1, hspace=0.5)\n",
        "plt.subplot(grid[0, ::])\n",
        "plt.plot(np.arange(1, 101), df['Train Loss'])\n",
        "plt.plot(np.arange(1, 101), df['Valid Loss'])\n",
        "plt.grid(linestyle='dashed')\n",
        "plt.ylabel('Loss')\n",
        "plt.xlabel('Epochs')\n",
        "plt.legend(['Train', 'Validation'], loc='upper right')\n",
        "plt.subplot(grid[1, :2])\n",
        "# plot accuracy vs epochs\n",
        "plt.plot(np.arange(1, 101), df['Train Accuracy'])\n",
        "plt.plot(np.arange(1, 101), df['Valid Accuracy'])\n",
        "plt.grid(linestyle='dashed')\n",
        "plt.ylabel('Top 1 Accuracy')\n",
        "plt.xlabel('Epochs')\n",
        "plt.legend(['Train', 'Validation'], loc='lower right')\n",
        "plt.subplot(grid[1, 2:])\n",
        "# plot top 5 accuracy vs epochs\n",
        "plt.plot(np.arange(1, 101), df['Train Top 5 Accuracy'])\n",
        "plt.plot(np.arange(1, 101), df['Valid Top 5 Accuracy'])\n",
        "plt.grid(linestyle='dashed')\n",
        "plt.ylabel('Top 5 Accuracy')\n",
        "plt.xlabel('Epochs')\n",
        "plt.legend(['Train', 'Validation'], loc='lower right')\n",
        "# save figures\n",
        "plt.savefig('metrics.jpg', dpi=100, bbox_inches='tight');"
      ]
    },
    {
      "cell_type": "code",
      "execution_count": null,
      "metadata": {
        "id": "DoLE7HmKxIbO"
      },
      "outputs": [],
      "source": [
        ""
      ]
    }
  ],
  "metadata": {
    "colab": {
      "collapsed_sections": [],
      "name": "04-a - Error Analysis Validatoin Set.ipynb",
      "provenance": []
    },
    "kernelspec": {
      "display_name": "Python 3 (ipykernel)",
      "language": "python",
      "name": "python3"
    },
    "language_info": {
      "codemirror_mode": {
        "name": "ipython",
        "version": 3
      },
      "file_extension": ".py",
      "mimetype": "text/x-python",
      "name": "python",
      "nbconvert_exporter": "python",
      "pygments_lexer": "ipython3",
      "version": "3.8.10"
    }
  },
  "nbformat": 4,
  "nbformat_minor": 0
}