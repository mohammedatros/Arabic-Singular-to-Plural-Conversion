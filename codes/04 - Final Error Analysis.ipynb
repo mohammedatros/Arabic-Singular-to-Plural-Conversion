{
  "cells": [
    {
      "cell_type": "code",
      "execution_count": 1,
      "metadata": {
        "colab": {
          "base_uri": "https://localhost:8080/"
        },
        "id": "TxARKGBw5Jt6",
        "outputId": "4c4fd7bd-9d9b-4502-b5c2-5a64daac4af8"
      },
      "outputs": [
        {
          "output_type": "stream",
          "name": "stdout",
          "text": [
            "Looking in indexes: https://pypi.org/simple, https://us-python.pkg.dev/colab-wheels/public/simple/\n",
            "Requirement already satisfied: PyArabic in /usr/local/lib/python3.7/dist-packages (0.6.15)\n",
            "Requirement already satisfied: six>=1.14.0 in /usr/local/lib/python3.7/dist-packages (from PyArabic) (1.15.0)\n"
          ]
        }
      ],
      "source": [
        "# install PyArabic library for Arabic preprocessing\n",
        "!pip install PyArabic"
      ]
    },
    {
      "cell_type": "code",
      "source": [
        "!pip install gdown"
      ],
      "metadata": {
        "colab": {
          "base_uri": "https://localhost:8080/"
        },
        "id": "X1FGqfpnfsqi",
        "outputId": "93b9938d-35c2-40ae-fda1-4e443bdc5a21"
      },
      "execution_count": 2,
      "outputs": [
        {
          "output_type": "stream",
          "name": "stdout",
          "text": [
            "Looking in indexes: https://pypi.org/simple, https://us-python.pkg.dev/colab-wheels/public/simple/\n",
            "Requirement already satisfied: gdown in /usr/local/lib/python3.7/dist-packages (4.4.0)\n",
            "Requirement already satisfied: six in /usr/local/lib/python3.7/dist-packages (from gdown) (1.15.0)\n",
            "Requirement already satisfied: filelock in /usr/local/lib/python3.7/dist-packages (from gdown) (3.7.1)\n",
            "Requirement already satisfied: beautifulsoup4 in /usr/local/lib/python3.7/dist-packages (from gdown) (4.6.3)\n",
            "Requirement already satisfied: tqdm in /usr/local/lib/python3.7/dist-packages (from gdown) (4.64.0)\n",
            "Requirement already satisfied: requests[socks] in /usr/local/lib/python3.7/dist-packages (from gdown) (2.23.0)\n",
            "Requirement already satisfied: certifi>=2017.4.17 in /usr/local/lib/python3.7/dist-packages (from requests[socks]->gdown) (2022.6.15)\n",
            "Requirement already satisfied: idna<3,>=2.5 in /usr/local/lib/python3.7/dist-packages (from requests[socks]->gdown) (2.10)\n",
            "Requirement already satisfied: chardet<4,>=3.0.2 in /usr/local/lib/python3.7/dist-packages (from requests[socks]->gdown) (3.0.4)\n",
            "Requirement already satisfied: urllib3!=1.25.0,!=1.25.1,<1.26,>=1.21.1 in /usr/local/lib/python3.7/dist-packages (from requests[socks]->gdown) (1.24.3)\n",
            "Requirement already satisfied: PySocks!=1.5.7,>=1.5.6 in /usr/local/lib/python3.7/dist-packages (from requests[socks]->gdown) (1.7.1)\n"
          ]
        }
      ]
    },
    {
      "cell_type": "code",
      "execution_count": 3,
      "metadata": {
        "id": "lVoQGZH0x1uR"
      },
      "outputs": [],
      "source": [
        "# Standard libraries imports\n",
        "import gdown\n",
        "import requests\n",
        "import numpy as np\n",
        "import pandas as pd\n",
        "from scipy import stats\n",
        "import pyarabic.araby as araby\n",
        "\n",
        "import seaborn as sns\n",
        "import matplotlib.pyplot as plt\n",
        "%matplotlib inline"
      ]
    },
    {
      "cell_type": "code",
      "execution_count": 4,
      "metadata": {
        "id": "ZCybjAyYyTWY"
      },
      "outputs": [],
      "source": [
        "# from google.colab import drive\n",
        "# drive.mount('/content/drive')"
      ]
    },
    {
      "cell_type": "code",
      "execution_count": 5,
      "metadata": {
        "colab": {
          "base_uri": "https://localhost:8080/"
        },
        "id": "apgoaIXXzjIJ",
        "outputId": "e39fc0fb-1560-4e7f-fbf9-3944b8edfc9b"
      },
      "outputs": [
        {
          "output_type": "stream",
          "name": "stdout",
          "text": [
            "Number of Arabic Characters: 38\n"
          ]
        }
      ],
      "source": [
        "final_unique_char = ['#',\n",
        "                      'أ',\n",
        "                      'ف',\n",
        "                      'ض',\n",
        "                      'ل',\n",
        "                      'ا',\n",
        "                      'ص',\n",
        "                      'ة',\n",
        "                      'ب',\n",
        "                      'ع',\n",
        "                      'د',\n",
        "                      'ر',\n",
        "                      'ي',\n",
        "                      'و',\n",
        "                      'ج',\n",
        "                      'ه',\n",
        "                      'م',\n",
        "                      'ث',\n",
        "                      'ت',\n",
        "                      'ذ',\n",
        "                      'ك',\n",
        "                      'ح',\n",
        "                      'ى',\n",
        "                      'ق',\n",
        "                      'ط',\n",
        "                      'س',\n",
        "                      'ش',\n",
        "                      'ن',\n",
        "                      'خ',\n",
        "                      'غ',\n",
        "                      'ظ',\n",
        "                      'آ',\n",
        "                      'إ',\n",
        "                      'ء',\n",
        "                      'ز',\n",
        "                      'ئ',\n",
        "                      'ؤ',\n",
        "                      '|']\n",
        "\n",
        "# list of all Arabic characters\n",
        "print('Number of Arabic Characters:', len(final_unique_char))\n",
        "\n",
        "# character to index dictionary\n",
        "char_to_index = dict((char, index+3) for (index, char) in enumerate(final_unique_char))\n",
        "# index to character dictionary\n",
        "index_to_char=  dict((index+3, char) for (index, char) in enumerate(final_unique_char))\n",
        "\n",
        "char_to_index['$'] = 0 # pad\n",
        "char_to_index['#'] = 1 # separator\n",
        "char_to_index['_'] = 2 # mask\n",
        "\n",
        "\n",
        "index_to_char[0] = '$' # pad\n",
        "index_to_char[1] = '#' # separator\n",
        "index_to_char[2] = '_' # mask"
      ]
    },
    {
      "cell_type": "code",
      "source": [
        "# read the competition training dataset\n",
        "train_df = pd.read_csv('https://raw.githubusercontent.com/sigmorphon/2022InflectionST/main/part2/ara_1000.train', sep='\\t', header=None)\n",
        "# take only the first and second columns which\n",
        "# contain the sigular and plural forms\n",
        "train_df = train_df.iloc[:, :2]\n",
        "# rename the columns\n",
        "train_df.columns = ['singular', 'plural']\n",
        "# remove the Arabic diacritics from each column\n",
        "for col in train_df.columns:\n",
        "  train_df[col] = train_df[col].apply(lambda x: araby.strip_diacritics(x))\n",
        "\n",
        "# fetch the top 10 rows\n",
        "train_df.head(10)"
      ],
      "metadata": {
        "colab": {
          "base_uri": "https://localhost:8080/",
          "height": 363
        },
        "id": "L1HqNQZTP5wj",
        "outputId": "1aa1ce20-bec4-4724-c851-35f4813e0bb5"
      },
      "execution_count": 6,
      "outputs": [
        {
          "output_type": "execute_result",
          "data": {
            "text/plain": [
              "  singular   plural\n",
              "0     ساحة    ساحات\n",
              "1      أمر     أمور\n",
              "2      أمة      أمم\n",
              "3     جلسة    جلسات\n",
              "4    ٱتهام  اتهامات\n",
              "5    وزارة   وزارات\n",
              "6     ملفة    ملفات\n",
              "7    مسؤول  مسؤولين\n",
              "8       خط     خطوط\n",
              "9    ولاية   ولايات"
            ],
            "text/html": [
              "\n",
              "  <div id=\"df-e2f34b0d-775a-401e-8d0c-409d26fe644b\">\n",
              "    <div class=\"colab-df-container\">\n",
              "      <div>\n",
              "<style scoped>\n",
              "    .dataframe tbody tr th:only-of-type {\n",
              "        vertical-align: middle;\n",
              "    }\n",
              "\n",
              "    .dataframe tbody tr th {\n",
              "        vertical-align: top;\n",
              "    }\n",
              "\n",
              "    .dataframe thead th {\n",
              "        text-align: right;\n",
              "    }\n",
              "</style>\n",
              "<table border=\"1\" class=\"dataframe\">\n",
              "  <thead>\n",
              "    <tr style=\"text-align: right;\">\n",
              "      <th></th>\n",
              "      <th>singular</th>\n",
              "      <th>plural</th>\n",
              "    </tr>\n",
              "  </thead>\n",
              "  <tbody>\n",
              "    <tr>\n",
              "      <th>0</th>\n",
              "      <td>ساحة</td>\n",
              "      <td>ساحات</td>\n",
              "    </tr>\n",
              "    <tr>\n",
              "      <th>1</th>\n",
              "      <td>أمر</td>\n",
              "      <td>أمور</td>\n",
              "    </tr>\n",
              "    <tr>\n",
              "      <th>2</th>\n",
              "      <td>أمة</td>\n",
              "      <td>أمم</td>\n",
              "    </tr>\n",
              "    <tr>\n",
              "      <th>3</th>\n",
              "      <td>جلسة</td>\n",
              "      <td>جلسات</td>\n",
              "    </tr>\n",
              "    <tr>\n",
              "      <th>4</th>\n",
              "      <td>ٱتهام</td>\n",
              "      <td>اتهامات</td>\n",
              "    </tr>\n",
              "    <tr>\n",
              "      <th>5</th>\n",
              "      <td>وزارة</td>\n",
              "      <td>وزارات</td>\n",
              "    </tr>\n",
              "    <tr>\n",
              "      <th>6</th>\n",
              "      <td>ملفة</td>\n",
              "      <td>ملفات</td>\n",
              "    </tr>\n",
              "    <tr>\n",
              "      <th>7</th>\n",
              "      <td>مسؤول</td>\n",
              "      <td>مسؤولين</td>\n",
              "    </tr>\n",
              "    <tr>\n",
              "      <th>8</th>\n",
              "      <td>خط</td>\n",
              "      <td>خطوط</td>\n",
              "    </tr>\n",
              "    <tr>\n",
              "      <th>9</th>\n",
              "      <td>ولاية</td>\n",
              "      <td>ولايات</td>\n",
              "    </tr>\n",
              "  </tbody>\n",
              "</table>\n",
              "</div>\n",
              "      <button class=\"colab-df-convert\" onclick=\"convertToInteractive('df-e2f34b0d-775a-401e-8d0c-409d26fe644b')\"\n",
              "              title=\"Convert this dataframe to an interactive table.\"\n",
              "              style=\"display:none;\">\n",
              "        \n",
              "  <svg xmlns=\"http://www.w3.org/2000/svg\" height=\"24px\"viewBox=\"0 0 24 24\"\n",
              "       width=\"24px\">\n",
              "    <path d=\"M0 0h24v24H0V0z\" fill=\"none\"/>\n",
              "    <path d=\"M18.56 5.44l.94 2.06.94-2.06 2.06-.94-2.06-.94-.94-2.06-.94 2.06-2.06.94zm-11 1L8.5 8.5l.94-2.06 2.06-.94-2.06-.94L8.5 2.5l-.94 2.06-2.06.94zm10 10l.94 2.06.94-2.06 2.06-.94-2.06-.94-.94-2.06-.94 2.06-2.06.94z\"/><path d=\"M17.41 7.96l-1.37-1.37c-.4-.4-.92-.59-1.43-.59-.52 0-1.04.2-1.43.59L10.3 9.45l-7.72 7.72c-.78.78-.78 2.05 0 2.83L4 21.41c.39.39.9.59 1.41.59.51 0 1.02-.2 1.41-.59l7.78-7.78 2.81-2.81c.8-.78.8-2.07 0-2.86zM5.41 20L4 18.59l7.72-7.72 1.47 1.35L5.41 20z\"/>\n",
              "  </svg>\n",
              "      </button>\n",
              "      \n",
              "  <style>\n",
              "    .colab-df-container {\n",
              "      display:flex;\n",
              "      flex-wrap:wrap;\n",
              "      gap: 12px;\n",
              "    }\n",
              "\n",
              "    .colab-df-convert {\n",
              "      background-color: #E8F0FE;\n",
              "      border: none;\n",
              "      border-radius: 50%;\n",
              "      cursor: pointer;\n",
              "      display: none;\n",
              "      fill: #1967D2;\n",
              "      height: 32px;\n",
              "      padding: 0 0 0 0;\n",
              "      width: 32px;\n",
              "    }\n",
              "\n",
              "    .colab-df-convert:hover {\n",
              "      background-color: #E2EBFA;\n",
              "      box-shadow: 0px 1px 2px rgba(60, 64, 67, 0.3), 0px 1px 3px 1px rgba(60, 64, 67, 0.15);\n",
              "      fill: #174EA6;\n",
              "    }\n",
              "\n",
              "    [theme=dark] .colab-df-convert {\n",
              "      background-color: #3B4455;\n",
              "      fill: #D2E3FC;\n",
              "    }\n",
              "\n",
              "    [theme=dark] .colab-df-convert:hover {\n",
              "      background-color: #434B5C;\n",
              "      box-shadow: 0px 1px 3px 1px rgba(0, 0, 0, 0.15);\n",
              "      filter: drop-shadow(0px 1px 2px rgba(0, 0, 0, 0.3));\n",
              "      fill: #FFFFFF;\n",
              "    }\n",
              "  </style>\n",
              "\n",
              "      <script>\n",
              "        const buttonEl =\n",
              "          document.querySelector('#df-e2f34b0d-775a-401e-8d0c-409d26fe644b button.colab-df-convert');\n",
              "        buttonEl.style.display =\n",
              "          google.colab.kernel.accessAllowed ? 'block' : 'none';\n",
              "\n",
              "        async function convertToInteractive(key) {\n",
              "          const element = document.querySelector('#df-e2f34b0d-775a-401e-8d0c-409d26fe644b');\n",
              "          const dataTable =\n",
              "            await google.colab.kernel.invokeFunction('convertToInteractive',\n",
              "                                                     [key], {});\n",
              "          if (!dataTable) return;\n",
              "\n",
              "          const docLinkHtml = 'Like what you see? Visit the ' +\n",
              "            '<a target=\"_blank\" href=https://colab.research.google.com/notebooks/data_table.ipynb>data table notebook</a>'\n",
              "            + ' to learn more about interactive tables.';\n",
              "          element.innerHTML = '';\n",
              "          dataTable['output_type'] = 'display_data';\n",
              "          await google.colab.output.renderOutput(dataTable, element);\n",
              "          const docLink = document.createElement('div');\n",
              "          docLink.innerHTML = docLinkHtml;\n",
              "          element.appendChild(docLink);\n",
              "        }\n",
              "      </script>\n",
              "    </div>\n",
              "  </div>\n",
              "  "
            ]
          },
          "metadata": {},
          "execution_count": 6
        }
      ]
    },
    {
      "cell_type": "code",
      "source": [
        "# read the competition validation dataset\n",
        "valid_df = pd.read_csv('https://raw.githubusercontent.com/sigmorphon/2022InflectionST/main/part2/ara.dev', sep='\\t', header=None)\n",
        "# take only the first and second columns which\n",
        "# contain the sigular and plural forms\n",
        "valid_df = valid_df.iloc[:, :2]\n",
        "# rename the columns\n",
        "valid_df.columns = ['singular', 'plural']\n",
        "# remove the Arabic diacritics from each column\n",
        "for col in valid_df.columns:\n",
        "  valid_df[col] = valid_df[col].apply(lambda x: araby.strip_diacritics(x))\n",
        "\n",
        "# fetch the top 10 rows\n",
        "valid_df.head(10)"
      ],
      "metadata": {
        "colab": {
          "base_uri": "https://localhost:8080/",
          "height": 363
        },
        "id": "XlDl_DDAajkr",
        "outputId": "b1537dea-f70a-46a4-fd50-c883529d49ff"
      },
      "execution_count": 7,
      "outputs": [
        {
          "output_type": "execute_result",
          "data": {
            "text/plain": [
              "  singular    plural\n",
              "0     تهمة       تهم\n",
              "1     مانع     موانع\n",
              "2      بعد     أبعاد\n",
              "3    توظيف   توظيفات\n",
              "4      خطر     أخطار\n",
              "5     مسلك     مسالك\n",
              "6   متحالف  متحالفين\n",
              "7      فار     فارين\n",
              "8      بحث     أبحاث\n",
              "9     نزاع    نزاعات"
            ],
            "text/html": [
              "\n",
              "  <div id=\"df-e0c69532-23de-47ef-9996-790596b518ac\">\n",
              "    <div class=\"colab-df-container\">\n",
              "      <div>\n",
              "<style scoped>\n",
              "    .dataframe tbody tr th:only-of-type {\n",
              "        vertical-align: middle;\n",
              "    }\n",
              "\n",
              "    .dataframe tbody tr th {\n",
              "        vertical-align: top;\n",
              "    }\n",
              "\n",
              "    .dataframe thead th {\n",
              "        text-align: right;\n",
              "    }\n",
              "</style>\n",
              "<table border=\"1\" class=\"dataframe\">\n",
              "  <thead>\n",
              "    <tr style=\"text-align: right;\">\n",
              "      <th></th>\n",
              "      <th>singular</th>\n",
              "      <th>plural</th>\n",
              "    </tr>\n",
              "  </thead>\n",
              "  <tbody>\n",
              "    <tr>\n",
              "      <th>0</th>\n",
              "      <td>تهمة</td>\n",
              "      <td>تهم</td>\n",
              "    </tr>\n",
              "    <tr>\n",
              "      <th>1</th>\n",
              "      <td>مانع</td>\n",
              "      <td>موانع</td>\n",
              "    </tr>\n",
              "    <tr>\n",
              "      <th>2</th>\n",
              "      <td>بعد</td>\n",
              "      <td>أبعاد</td>\n",
              "    </tr>\n",
              "    <tr>\n",
              "      <th>3</th>\n",
              "      <td>توظيف</td>\n",
              "      <td>توظيفات</td>\n",
              "    </tr>\n",
              "    <tr>\n",
              "      <th>4</th>\n",
              "      <td>خطر</td>\n",
              "      <td>أخطار</td>\n",
              "    </tr>\n",
              "    <tr>\n",
              "      <th>5</th>\n",
              "      <td>مسلك</td>\n",
              "      <td>مسالك</td>\n",
              "    </tr>\n",
              "    <tr>\n",
              "      <th>6</th>\n",
              "      <td>متحالف</td>\n",
              "      <td>متحالفين</td>\n",
              "    </tr>\n",
              "    <tr>\n",
              "      <th>7</th>\n",
              "      <td>فار</td>\n",
              "      <td>فارين</td>\n",
              "    </tr>\n",
              "    <tr>\n",
              "      <th>8</th>\n",
              "      <td>بحث</td>\n",
              "      <td>أبحاث</td>\n",
              "    </tr>\n",
              "    <tr>\n",
              "      <th>9</th>\n",
              "      <td>نزاع</td>\n",
              "      <td>نزاعات</td>\n",
              "    </tr>\n",
              "  </tbody>\n",
              "</table>\n",
              "</div>\n",
              "      <button class=\"colab-df-convert\" onclick=\"convertToInteractive('df-e0c69532-23de-47ef-9996-790596b518ac')\"\n",
              "              title=\"Convert this dataframe to an interactive table.\"\n",
              "              style=\"display:none;\">\n",
              "        \n",
              "  <svg xmlns=\"http://www.w3.org/2000/svg\" height=\"24px\"viewBox=\"0 0 24 24\"\n",
              "       width=\"24px\">\n",
              "    <path d=\"M0 0h24v24H0V0z\" fill=\"none\"/>\n",
              "    <path d=\"M18.56 5.44l.94 2.06.94-2.06 2.06-.94-2.06-.94-.94-2.06-.94 2.06-2.06.94zm-11 1L8.5 8.5l.94-2.06 2.06-.94-2.06-.94L8.5 2.5l-.94 2.06-2.06.94zm10 10l.94 2.06.94-2.06 2.06-.94-2.06-.94-.94-2.06-.94 2.06-2.06.94z\"/><path d=\"M17.41 7.96l-1.37-1.37c-.4-.4-.92-.59-1.43-.59-.52 0-1.04.2-1.43.59L10.3 9.45l-7.72 7.72c-.78.78-.78 2.05 0 2.83L4 21.41c.39.39.9.59 1.41.59.51 0 1.02-.2 1.41-.59l7.78-7.78 2.81-2.81c.8-.78.8-2.07 0-2.86zM5.41 20L4 18.59l7.72-7.72 1.47 1.35L5.41 20z\"/>\n",
              "  </svg>\n",
              "      </button>\n",
              "      \n",
              "  <style>\n",
              "    .colab-df-container {\n",
              "      display:flex;\n",
              "      flex-wrap:wrap;\n",
              "      gap: 12px;\n",
              "    }\n",
              "\n",
              "    .colab-df-convert {\n",
              "      background-color: #E8F0FE;\n",
              "      border: none;\n",
              "      border-radius: 50%;\n",
              "      cursor: pointer;\n",
              "      display: none;\n",
              "      fill: #1967D2;\n",
              "      height: 32px;\n",
              "      padding: 0 0 0 0;\n",
              "      width: 32px;\n",
              "    }\n",
              "\n",
              "    .colab-df-convert:hover {\n",
              "      background-color: #E2EBFA;\n",
              "      box-shadow: 0px 1px 2px rgba(60, 64, 67, 0.3), 0px 1px 3px 1px rgba(60, 64, 67, 0.15);\n",
              "      fill: #174EA6;\n",
              "    }\n",
              "\n",
              "    [theme=dark] .colab-df-convert {\n",
              "      background-color: #3B4455;\n",
              "      fill: #D2E3FC;\n",
              "    }\n",
              "\n",
              "    [theme=dark] .colab-df-convert:hover {\n",
              "      background-color: #434B5C;\n",
              "      box-shadow: 0px 1px 3px 1px rgba(0, 0, 0, 0.15);\n",
              "      filter: drop-shadow(0px 1px 2px rgba(0, 0, 0, 0.3));\n",
              "      fill: #FFFFFF;\n",
              "    }\n",
              "  </style>\n",
              "\n",
              "      <script>\n",
              "        const buttonEl =\n",
              "          document.querySelector('#df-e0c69532-23de-47ef-9996-790596b518ac button.colab-df-convert');\n",
              "        buttonEl.style.display =\n",
              "          google.colab.kernel.accessAllowed ? 'block' : 'none';\n",
              "\n",
              "        async function convertToInteractive(key) {\n",
              "          const element = document.querySelector('#df-e0c69532-23de-47ef-9996-790596b518ac');\n",
              "          const dataTable =\n",
              "            await google.colab.kernel.invokeFunction('convertToInteractive',\n",
              "                                                     [key], {});\n",
              "          if (!dataTable) return;\n",
              "\n",
              "          const docLinkHtml = 'Like what you see? Visit the ' +\n",
              "            '<a target=\"_blank\" href=https://colab.research.google.com/notebooks/data_table.ipynb>data table notebook</a>'\n",
              "            + ' to learn more about interactive tables.';\n",
              "          element.innerHTML = '';\n",
              "          dataTable['output_type'] = 'display_data';\n",
              "          await google.colab.output.renderOutput(dataTable, element);\n",
              "          const docLink = document.createElement('div');\n",
              "          docLink.innerHTML = docLinkHtml;\n",
              "          element.appendChild(docLink);\n",
              "        }\n",
              "      </script>\n",
              "    </div>\n",
              "  </div>\n",
              "  "
            ]
          },
          "metadata": {},
          "execution_count": 7
        }
      ]
    },
    {
      "cell_type": "code",
      "source": [
        "# read the competition test dataset\n",
        "test_df = pd.read_csv('https://raw.githubusercontent.com/sigmorphon/2022InflectionST/main/part2/ara.gold', sep='\\t', header=None)\n",
        "# take only the first and second columns which\n",
        "# contain the sigular and plural forms\n",
        "test_df = test_df.iloc[:, :2]\n",
        "# rename the columns\n",
        "test_df.columns = ['singular', 'plural']\n",
        "# remove the Arabic diacritics from each column\n",
        "for col in test_df.columns:\n",
        "  test_df[col] = test_df[col].apply(lambda x: araby.strip_diacritics(x))\n",
        "\n",
        "# fetch the top 10 rows\n",
        "test_df.head(10)"
      ],
      "metadata": {
        "colab": {
          "base_uri": "https://localhost:8080/",
          "height": 363
        },
        "id": "8z7AKcjhOs8X",
        "outputId": "64070f85-7978-4e4a-f960-945a07e9abc7"
      },
      "execution_count": 8,
      "outputs": [
        {
          "output_type": "execute_result",
          "data": {
            "text/plain": [
              "  singular    plural\n",
              "0    طربيد  طوربيدات\n",
              "1    مولود    مواليد\n",
              "2    ضروري   ضروريات\n",
              "3     معني    معنيين\n",
              "4     جدار     جدران\n",
              "5    كوليس    كواليس\n",
              "6    حديقة     حدائق\n",
              "7     حياة     حيوات\n",
              "8     دمية       دمى\n",
              "9    تعاقد   تعاقدات"
            ],
            "text/html": [
              "\n",
              "  <div id=\"df-f2eabc30-c366-4ccf-a960-53e340ec5eca\">\n",
              "    <div class=\"colab-df-container\">\n",
              "      <div>\n",
              "<style scoped>\n",
              "    .dataframe tbody tr th:only-of-type {\n",
              "        vertical-align: middle;\n",
              "    }\n",
              "\n",
              "    .dataframe tbody tr th {\n",
              "        vertical-align: top;\n",
              "    }\n",
              "\n",
              "    .dataframe thead th {\n",
              "        text-align: right;\n",
              "    }\n",
              "</style>\n",
              "<table border=\"1\" class=\"dataframe\">\n",
              "  <thead>\n",
              "    <tr style=\"text-align: right;\">\n",
              "      <th></th>\n",
              "      <th>singular</th>\n",
              "      <th>plural</th>\n",
              "    </tr>\n",
              "  </thead>\n",
              "  <tbody>\n",
              "    <tr>\n",
              "      <th>0</th>\n",
              "      <td>طربيد</td>\n",
              "      <td>طوربيدات</td>\n",
              "    </tr>\n",
              "    <tr>\n",
              "      <th>1</th>\n",
              "      <td>مولود</td>\n",
              "      <td>مواليد</td>\n",
              "    </tr>\n",
              "    <tr>\n",
              "      <th>2</th>\n",
              "      <td>ضروري</td>\n",
              "      <td>ضروريات</td>\n",
              "    </tr>\n",
              "    <tr>\n",
              "      <th>3</th>\n",
              "      <td>معني</td>\n",
              "      <td>معنيين</td>\n",
              "    </tr>\n",
              "    <tr>\n",
              "      <th>4</th>\n",
              "      <td>جدار</td>\n",
              "      <td>جدران</td>\n",
              "    </tr>\n",
              "    <tr>\n",
              "      <th>5</th>\n",
              "      <td>كوليس</td>\n",
              "      <td>كواليس</td>\n",
              "    </tr>\n",
              "    <tr>\n",
              "      <th>6</th>\n",
              "      <td>حديقة</td>\n",
              "      <td>حدائق</td>\n",
              "    </tr>\n",
              "    <tr>\n",
              "      <th>7</th>\n",
              "      <td>حياة</td>\n",
              "      <td>حيوات</td>\n",
              "    </tr>\n",
              "    <tr>\n",
              "      <th>8</th>\n",
              "      <td>دمية</td>\n",
              "      <td>دمى</td>\n",
              "    </tr>\n",
              "    <tr>\n",
              "      <th>9</th>\n",
              "      <td>تعاقد</td>\n",
              "      <td>تعاقدات</td>\n",
              "    </tr>\n",
              "  </tbody>\n",
              "</table>\n",
              "</div>\n",
              "      <button class=\"colab-df-convert\" onclick=\"convertToInteractive('df-f2eabc30-c366-4ccf-a960-53e340ec5eca')\"\n",
              "              title=\"Convert this dataframe to an interactive table.\"\n",
              "              style=\"display:none;\">\n",
              "        \n",
              "  <svg xmlns=\"http://www.w3.org/2000/svg\" height=\"24px\"viewBox=\"0 0 24 24\"\n",
              "       width=\"24px\">\n",
              "    <path d=\"M0 0h24v24H0V0z\" fill=\"none\"/>\n",
              "    <path d=\"M18.56 5.44l.94 2.06.94-2.06 2.06-.94-2.06-.94-.94-2.06-.94 2.06-2.06.94zm-11 1L8.5 8.5l.94-2.06 2.06-.94-2.06-.94L8.5 2.5l-.94 2.06-2.06.94zm10 10l.94 2.06.94-2.06 2.06-.94-2.06-.94-.94-2.06-.94 2.06-2.06.94z\"/><path d=\"M17.41 7.96l-1.37-1.37c-.4-.4-.92-.59-1.43-.59-.52 0-1.04.2-1.43.59L10.3 9.45l-7.72 7.72c-.78.78-.78 2.05 0 2.83L4 21.41c.39.39.9.59 1.41.59.51 0 1.02-.2 1.41-.59l7.78-7.78 2.81-2.81c.8-.78.8-2.07 0-2.86zM5.41 20L4 18.59l7.72-7.72 1.47 1.35L5.41 20z\"/>\n",
              "  </svg>\n",
              "      </button>\n",
              "      \n",
              "  <style>\n",
              "    .colab-df-container {\n",
              "      display:flex;\n",
              "      flex-wrap:wrap;\n",
              "      gap: 12px;\n",
              "    }\n",
              "\n",
              "    .colab-df-convert {\n",
              "      background-color: #E8F0FE;\n",
              "      border: none;\n",
              "      border-radius: 50%;\n",
              "      cursor: pointer;\n",
              "      display: none;\n",
              "      fill: #1967D2;\n",
              "      height: 32px;\n",
              "      padding: 0 0 0 0;\n",
              "      width: 32px;\n",
              "    }\n",
              "\n",
              "    .colab-df-convert:hover {\n",
              "      background-color: #E2EBFA;\n",
              "      box-shadow: 0px 1px 2px rgba(60, 64, 67, 0.3), 0px 1px 3px 1px rgba(60, 64, 67, 0.15);\n",
              "      fill: #174EA6;\n",
              "    }\n",
              "\n",
              "    [theme=dark] .colab-df-convert {\n",
              "      background-color: #3B4455;\n",
              "      fill: #D2E3FC;\n",
              "    }\n",
              "\n",
              "    [theme=dark] .colab-df-convert:hover {\n",
              "      background-color: #434B5C;\n",
              "      box-shadow: 0px 1px 3px 1px rgba(0, 0, 0, 0.15);\n",
              "      filter: drop-shadow(0px 1px 2px rgba(0, 0, 0, 0.3));\n",
              "      fill: #FFFFFF;\n",
              "    }\n",
              "  </style>\n",
              "\n",
              "      <script>\n",
              "        const buttonEl =\n",
              "          document.querySelector('#df-f2eabc30-c366-4ccf-a960-53e340ec5eca button.colab-df-convert');\n",
              "        buttonEl.style.display =\n",
              "          google.colab.kernel.accessAllowed ? 'block' : 'none';\n",
              "\n",
              "        async function convertToInteractive(key) {\n",
              "          const element = document.querySelector('#df-f2eabc30-c366-4ccf-a960-53e340ec5eca');\n",
              "          const dataTable =\n",
              "            await google.colab.kernel.invokeFunction('convertToInteractive',\n",
              "                                                     [key], {});\n",
              "          if (!dataTable) return;\n",
              "\n",
              "          const docLinkHtml = 'Like what you see? Visit the ' +\n",
              "            '<a target=\"_blank\" href=https://colab.research.google.com/notebooks/data_table.ipynb>data table notebook</a>'\n",
              "            + ' to learn more about interactive tables.';\n",
              "          element.innerHTML = '';\n",
              "          dataTable['output_type'] = 'display_data';\n",
              "          await google.colab.output.renderOutput(dataTable, element);\n",
              "          const docLink = document.createElement('div');\n",
              "          docLink.innerHTML = docLinkHtml;\n",
              "          element.appendChild(docLink);\n",
              "        }\n",
              "      </script>\n",
              "    </div>\n",
              "  </div>\n",
              "  "
            ]
          },
          "metadata": {},
          "execution_count": 8
        }
      ]
    },
    {
      "cell_type": "code",
      "source": [
        "# load the predictions\n",
        "valid_urls = ['https://drive.google.com/file/d/1jZVF6TU8VsxdRf640lLBJCclASgSaugr/view?usp=sharing',\n",
        "              'https://drive.google.com/file/d/1-NSTbyIFYyRclO-Ap33euNdP5eGMUmkx/view?usp=sharing',\n",
        "              'https://drive.google.com/file/d/1-0nkMgfR7KM8t152TusbZAmbBl8ZsYhy/view?usp=sharing',\n",
        "              'https://drive.google.com/file/d/1-3aPnNJugZdszfQ8_GiWhvo1QZcY9ha0/view?usp=sharing',\n",
        "              'https://drive.google.com/file/d/1-9zBJfwe8INRB2L88gb10tBw_uNvl4dt/view?usp=sharing',\n",
        "              'https://drive.google.com/file/d/1-UmFAZNH09M1oRPlkYJDjgNTwj6hdKJ4/view?usp=sharing']\n",
        "\n",
        "valid_preds = dict()\n",
        "for i in range(6):\n",
        "  url = 'https://drive.google.com/uc?export=download&id=' + valid_urls[i].split('/')[-2]\n",
        "  output = 'array.npy'\n",
        "  gdown.download(url, output, quiet=False)\n",
        "  if i < 3:\n",
        "    valid_preds[f'fused_case_{i+1}'] = np.load('array.npy')\n",
        "  else:\n",
        "    valid_preds[f'direct_case_{i-2}'] = np.load('array.npy')"
      ],
      "metadata": {
        "colab": {
          "base_uri": "https://localhost:8080/"
        },
        "id": "JND8b_bDk4OK",
        "outputId": "1bcee0c9-0eb9-469f-c121-1187d66ee1c0"
      },
      "execution_count": 9,
      "outputs": [
        {
          "output_type": "stream",
          "name": "stderr",
          "text": [
            "Downloading...\n",
            "From: https://drive.google.com/uc?export=download&id=1jZVF6TU8VsxdRf640lLBJCclASgSaugr\n",
            "To: /content/array.npy\n",
            "100%|██████████| 30.3k/30.3k [00:00<00:00, 15.1MB/s]\n",
            "Downloading...\n",
            "From: https://drive.google.com/uc?export=download&id=1-NSTbyIFYyRclO-Ap33euNdP5eGMUmkx\n",
            "To: /content/array.npy\n",
            "100%|██████████| 30.3k/30.3k [00:00<00:00, 20.1MB/s]\n",
            "Downloading...\n",
            "From: https://drive.google.com/uc?export=download&id=1-0nkMgfR7KM8t152TusbZAmbBl8ZsYhy\n",
            "To: /content/array.npy\n",
            "100%|██████████| 30.3k/30.3k [00:00<00:00, 35.4MB/s]\n",
            "Downloading...\n",
            "From: https://drive.google.com/uc?export=download&id=1-3aPnNJugZdszfQ8_GiWhvo1QZcY9ha0\n",
            "To: /content/array.npy\n",
            "100%|██████████| 30.3k/30.3k [00:00<00:00, 7.50MB/s]\n",
            "Downloading...\n",
            "From: https://drive.google.com/uc?export=download&id=1-9zBJfwe8INRB2L88gb10tBw_uNvl4dt\n",
            "To: /content/array.npy\n",
            "100%|██████████| 30.3k/30.3k [00:00<00:00, 26.8MB/s]\n",
            "Downloading...\n",
            "From: https://drive.google.com/uc?export=download&id=1-UmFAZNH09M1oRPlkYJDjgNTwj6hdKJ4\n",
            "To: /content/array.npy\n",
            "100%|██████████| 30.3k/30.3k [00:00<00:00, 36.1MB/s]\n"
          ]
        }
      ]
    },
    {
      "cell_type": "code",
      "source": [
        "# load the predictions\n",
        "test_urls  = ['https://drive.google.com/file/d/1-7u5Vah7l-8YMmq2zlXKG0W24pxW5VoL/view?usp=sharing',\n",
        "              'https://drive.google.com/file/d/1-ODA83AELLp0GynjjVlPc1dKcsqplgy6/view?usp=sharing',\n",
        "              'https://drive.google.com/file/d/1-ODA83AELLp0GynjjVlPc1dKcsqplgy6/view?usp=sharing',\n",
        "              'https://drive.google.com/file/d/1-5qFdu8HPv7fhLzXtFlbIGMqE8TEY8nM/view?usp=sharing',\n",
        "              'https://drive.google.com/file/d/1-LkUEcnklNrBhTfwXsSpoXOxPWPOqVmh/view?usp=sharing',\n",
        "              'https://drive.google.com/file/d/1-VJ7OBYqcndGAkPK6elD0nr4uTF9o1YA/view?usp=sharing']\n",
        "\n",
        "test_preds = dict()\n",
        "for i in range(6):\n",
        "  url = 'https://drive.google.com/uc?export=download&id=' + test_urls[i].split('/')[-2]\n",
        "  output = 'array.npy'\n",
        "  gdown.download(url, output, quiet=False)\n",
        "  if i < 3:\n",
        "    test_preds[f'fused_case_{i+1}'] = np.load('array.npy')\n",
        "  else:\n",
        "    test_preds[f'direct_case_{i-2}'] = np.load('array.npy')"
      ],
      "metadata": {
        "colab": {
          "base_uri": "https://localhost:8080/"
        },
        "id": "gzQREac8k5sp",
        "outputId": "c94bc276-76c1-4d5c-83f7-5efe5d107e83"
      },
      "execution_count": 10,
      "outputs": [
        {
          "output_type": "stream",
          "name": "stderr",
          "text": [
            "Downloading...\n",
            "From: https://drive.google.com/uc?export=download&id=1-7u5Vah7l-8YMmq2zlXKG0W24pxW5VoL\n",
            "To: /content/array.npy\n",
            "100%|██████████| 52.9k/52.9k [00:00<00:00, 75.2MB/s]\n",
            "Downloading...\n",
            "From: https://drive.google.com/uc?export=download&id=1-ODA83AELLp0GynjjVlPc1dKcsqplgy6\n",
            "To: /content/array.npy\n",
            "100%|██████████| 52.9k/52.9k [00:00<00:00, 22.4MB/s]\n",
            "Downloading...\n",
            "From: https://drive.google.com/uc?export=download&id=1-ODA83AELLp0GynjjVlPc1dKcsqplgy6\n",
            "To: /content/array.npy\n",
            "100%|██████████| 52.9k/52.9k [00:00<00:00, 53.0MB/s]\n",
            "Downloading...\n",
            "From: https://drive.google.com/uc?export=download&id=1-5qFdu8HPv7fhLzXtFlbIGMqE8TEY8nM\n",
            "To: /content/array.npy\n",
            "100%|██████████| 52.9k/52.9k [00:00<00:00, 57.1MB/s]\n",
            "Downloading...\n",
            "From: https://drive.google.com/uc?export=download&id=1-LkUEcnklNrBhTfwXsSpoXOxPWPOqVmh\n",
            "To: /content/array.npy\n",
            "100%|██████████| 52.9k/52.9k [00:00<00:00, 12.3MB/s]\n",
            "Downloading...\n",
            "From: https://drive.google.com/uc?export=download&id=1-VJ7OBYqcndGAkPK6elD0nr4uTF9o1YA\n",
            "To: /content/array.npy\n",
            "100%|██████████| 52.9k/52.9k [00:00<00:00, 50.2MB/s]\n"
          ]
        }
      ]
    },
    {
      "cell_type": "markdown",
      "metadata": {
        "id": "XTo4mqT9rHp5"
      },
      "source": [
        "# Helper Functions"
      ]
    },
    {
      "cell_type": "code",
      "execution_count": 11,
      "metadata": {
        "id": "-jcCv_yBzB15"
      },
      "outputs": [],
      "source": [
        "def indexes_to_word(example):\n",
        "  '''\n",
        "  Args: an array of indexes\n",
        "  Returns: a list of characters\n",
        "  '''\n",
        "  example = example.tolist()\n",
        "  list_of_chars = [index_to_char[idx] for idx in example]\n",
        "  return list_of_chars"
      ]
    },
    {
      "cell_type": "code",
      "execution_count": 12,
      "metadata": {
        "id": "W0hLRMfcLBp8"
      },
      "outputs": [],
      "source": [
        "def final_prediction_as_chars(index, split, fused, case, return_gold=False):\n",
        "  '''\n",
        "  Args: index in the preditions array, int\n",
        "  Returns: a list of characters of the predictions from the start to the first 's' character\n",
        "  '''\n",
        "  if split == 'test':\n",
        "    split_preds = test_preds\n",
        "  elif split == 'valid':\n",
        "    split_preds = valid_preds\n",
        "\n",
        "  if fused:\n",
        "    arch = 'fused'\n",
        "  else:\n",
        "    arch = 'direct'\n",
        "\n",
        "  key = arch + '_' + 'case_' + str(case)\n",
        "  preds = split_preds[key]\n",
        "\n",
        "  # extract the predictions\n",
        "  example = preds[index]\n",
        "  # flip the predictions (Arabic)\n",
        "  flipped_example = np.flip(example)\n",
        "  try:\n",
        "    # find the position of the first separator index, which is 1\n",
        "    first_separator_index = np.where(flipped_example == 1)[0][0]\n",
        "    # limit the returned sequence to the first separator\n",
        "    predicted_flipped_example = flipped_example[:first_separator_index]\n",
        "  except:\n",
        "    predicted_flipped_example = flipped_example\n",
        "  # convert the array into a list\n",
        "  example = np.int32(predicted_flipped_example).tolist()\n",
        "  # convert indexes into characters\n",
        "  pred_chars = [index_to_char[i] for i in example]\n",
        "  # if gold is required, return it\n",
        "  if split == 'test':\n",
        "    if return_gold:\n",
        "      gold = list(test_df.iloc[index, 1])\n",
        "      return pred_chars, gold\n",
        "    return pred_chars\n",
        "\n",
        "  elif split == 'valid':\n",
        "    if return_gold:\n",
        "      gold = list(valid_df.iloc[index, 1])\n",
        "      return pred_chars, gold\n",
        "    return pred_chars"
      ]
    },
    {
      "cell_type": "code",
      "execution_count": 13,
      "metadata": {
        "id": "kHctn34LLT1T"
      },
      "outputs": [],
      "source": [
        "def final_prediction_as_indexes(index, split, fused, case, return_gold=False):\n",
        "  '''\n",
        "  Args: index in the preditions array, int\n",
        "  Returns: a list of indexes of the predictions from the start to the index of the first 's' character\n",
        "  '''\n",
        "  if split == 'test':\n",
        "    split_preds = test_preds\n",
        "  elif split == 'valid':\n",
        "    split_preds = valid_preds\n",
        "\n",
        "  if fused:\n",
        "    arch = 'fused'\n",
        "  else:\n",
        "    arch = 'direct'\n",
        "\n",
        "  key = arch + '_' + 'case_' + str(case)\n",
        "  preds = split_preds[key]\n",
        "\n",
        "  # extract the predictions\n",
        "  example = preds[index]\n",
        "  # flip the predictions (Arabic)\n",
        "  flipped_example = np.flip(example)\n",
        "  try:\n",
        "    # find the position of the first separator index, which is 1\n",
        "    first_separator_index = np.where(flipped_example == 1)[0][0]\n",
        "    # limit the returned sequence to the first separator\n",
        "    predicted_flipped_example = flipped_example[:first_separator_index]\n",
        "  except:\n",
        "    predicted_flipped_example = flipped_example\n",
        "  # convert the array into a list\n",
        "  pred_indexes = np.int32(predicted_flipped_example).tolist()\n",
        "  # if gold is required, return it\n",
        "  if split == 'test':\n",
        "    if return_gold:\n",
        "      gold = [char_to_index[char] for char in list(test_df.iloc[index, 1])]\n",
        "      return pred_indexes, gold\n",
        "    return pred_indexes\n",
        "\n",
        "  elif split == 'valid':\n",
        "    if return_gold:\n",
        "      gold = [char_to_index[char] for char in list(valid_df.iloc[index, 1])]\n",
        "      return pred_indexes, gold\n",
        "    return pred_indexes"
      ]
    },
    {
      "cell_type": "code",
      "execution_count": 14,
      "metadata": {
        "id": "iJOKh_6CLxCf"
      },
      "outputs": [],
      "source": [
        "def arabic_leven_dis(gold, pred, return_matrix=False):\n",
        "  '''\n",
        "  Levenshtein distance\n",
        "  Args:\n",
        "    gold: list of indexes of the gold characters\n",
        "    pred: list of indexes of the predicted characters\n",
        "  Returns:\n",
        "    Levenshtein distance\n",
        "  '''\n",
        "\n",
        "  # construct a matrix of the correct size\n",
        "  sol = np.zeros((len(pred), len(gold)))\n",
        "\n",
        "  # first row and column\n",
        "  sol[0, :] = np.flip([i for i in range(len(gold))])\n",
        "  sol[:, -1] = [i for i in range(len(pred))]\n",
        "\n",
        "  # fill in the rest\n",
        "  # through every column\n",
        "  for c in reversed(range(len(gold) - 1)):\n",
        "    # through every row\n",
        "    for r in range(1, len(pred)):\n",
        "\n",
        "      # in case not the same corresponding letters, take the minimum value of the above right corner three values (Arabic) + 1 \n",
        "      if gold[c] != pred[-(r+1)]:\n",
        "        sol[r, c] = min(sol[r-1, c+1], sol[r-1, c], sol[r, c+1]) + 1\n",
        "      # in case the corresponding letters are the same, take the upper diagonal value\n",
        "      else:\n",
        "        sol[r, c] = sol[r-1, c+1]\n",
        "\n",
        "  # if the full matrix is required\n",
        "  if return_matrix: \n",
        "    return sol\n",
        "  # if only the minimum number of edits is required\n",
        "  return sol[-1, 0]"
      ]
    },
    {
      "cell_type": "code",
      "source": [
        "def distances_arr(split, fused, case):\n",
        "  # construct a distances list\n",
        "  distances = []\n",
        "  # iterate over each plural example in the validation set\n",
        "  if split == 'test':\n",
        "    df = test_df.copy()\n",
        "  elif split == 'valid':\n",
        "    df = valid_df.copy()\n",
        "  for i in range(len(df)):\n",
        "    # extract the final predicted indexes alongside with the ground truth ones\n",
        "    pred, gold = final_prediction_as_indexes(i, split, fused, case, True)\n",
        "    gold = gold + [-1] # add -1 for the '#' in the Levenshtein distance\n",
        "    pred = pred + [-1] # add -1 for the '#' in the Levenshtein distance\n",
        "    # calculate the minimum edits required\n",
        "    dist = arabic_leven_dis(gold, pred)\n",
        "    # append the distance to the distances list\n",
        "    distances.append(dist)\n",
        "\n",
        "  # convert the distances list into a NumPy array\n",
        "  distances = np.array(distances)\n",
        "  return distances"
      ],
      "metadata": {
        "id": "RZyHso7WbbJ7"
      },
      "execution_count": 15,
      "outputs": []
    },
    {
      "cell_type": "code",
      "execution_count": 16,
      "metadata": {
        "colab": {
          "base_uri": "https://localhost:8080/"
        },
        "id": "chGdjnWn2W3i",
        "outputId": "14ec42b5-b999-4531-a9a3-ed4bb4e8f193"
      },
      "outputs": [
        {
          "output_type": "execute_result",
          "data": {
            "text/plain": [
              "DescribeResult(nobs=343, minmax=(0.0, 5.0), mean=1.5568513119533527, variance=1.8966122789968118, skewness=0.2580563204394911, kurtosis=-1.122904544312929)"
            ]
          },
          "metadata": {},
          "execution_count": 16
        }
      ],
      "source": [
        "# print the statistics of the distances array\n",
        "distances = distances_arr(split='valid', fused=True, case=1)\n",
        "statistics = stats.describe(distances)\n",
        "statistics"
      ]
    },
    {
      "cell_type": "code",
      "source": [
        "def pure_count_plot(distances, loc, title):\n",
        "  plt.subplot(2, 6, loc)\n",
        "  # plot a figure showing the frequencies of each distance value\n",
        "  sns.countplot(np.int32(distances), palette=\"colorblind\")\n",
        "  # plt.box(False)\n",
        "  plt.xlabel('Levenshtein Distance')\n",
        "  plt.ylabel('Frequency')\n",
        "  plt.title(title)\n",
        "  plt.grid(linestyle='dashed', alpha=1, axis='y')"
      ],
      "metadata": {
        "id": "mXksDGJ5DQo8"
      },
      "execution_count": 17,
      "outputs": []
    },
    {
      "cell_type": "code",
      "source": [
        "plt.figure(figsize=(30, 12), dpi=100)\n",
        "\n",
        "distances = distances_arr(split='valid', fused=True, case=1)\n",
        "pure_count_plot(distances, 1, 'Validation Fused Case 1')\n",
        "\n",
        "distances = distances_arr(split='valid', fused=True, case=2)\n",
        "pure_count_plot(distances, 2, 'Validation Fused Case 2')\n",
        "\n",
        "distances = distances_arr(split='valid', fused=True, case=3)\n",
        "pure_count_plot(distances, 3, 'Validation Fused Case 3')\n",
        "\n",
        "distances = distances_arr(split='valid', fused=False, case=1)\n",
        "pure_count_plot(distances, 4, 'Validation Direct Case 1')\n",
        "\n",
        "distances = distances_arr(split='valid', fused=False, case=2)\n",
        "pure_count_plot(distances, 5, 'Validation Direct Case 2')\n",
        "\n",
        "distances = distances_arr(split='valid', fused=False, case=3)\n",
        "pure_count_plot(distances, 6, 'Validation Direct Case 3')\n",
        "\n",
        "\n",
        "distances = distances_arr(split='test', fused=True, case=1)\n",
        "pure_count_plot(distances, 7, 'Test Fused Case 1')\n",
        "\n",
        "distances = distances_arr(split='test', fused=True, case=2)\n",
        "pure_count_plot(distances, 8, 'Test Fused Case 2')\n",
        "\n",
        "distances = distances_arr(split='test', fused=True, case=3)\n",
        "pure_count_plot(distances, 9, 'Test Fused Case 3')\n",
        "\n",
        "distances = distances_arr(split='test', fused=False, case=1)\n",
        "pure_count_plot(distances, 10, 'Test Direct Case 1')\n",
        "\n",
        "distances = distances_arr(split='test', fused=False, case=2)\n",
        "pure_count_plot(distances, 11, 'Test Direct Case 2')\n",
        "\n",
        "distances = distances_arr(split='test', fused=False, case=3)\n",
        "pure_count_plot(distances, 12, 'Test Direct Case 3')\n",
        "\n",
        "plt.savefig('Validation-Test-Plots.png', dpi=100, bbox_inches='tight')\n",
        "plt.show()"
      ],
      "metadata": {
        "colab": {
          "base_uri": "https://localhost:8080/",
          "height": 1000
        },
        "id": "R3x71U1jAv4M",
        "outputId": "1098ebed-00e7-4553-9176-6ee00a87c909"
      },
      "execution_count": 18,
      "outputs": [
        {
          "output_type": "stream",
          "name": "stderr",
          "text": [
            "/usr/local/lib/python3.7/dist-packages/seaborn/_decorators.py:43: FutureWarning: Pass the following variable as a keyword arg: x. From version 0.12, the only valid positional argument will be `data`, and passing other arguments without an explicit keyword will result in an error or misinterpretation.\n",
            "  FutureWarning\n",
            "/usr/local/lib/python3.7/dist-packages/seaborn/_decorators.py:43: FutureWarning: Pass the following variable as a keyword arg: x. From version 0.12, the only valid positional argument will be `data`, and passing other arguments without an explicit keyword will result in an error or misinterpretation.\n",
            "  FutureWarning\n",
            "/usr/local/lib/python3.7/dist-packages/seaborn/_decorators.py:43: FutureWarning: Pass the following variable as a keyword arg: x. From version 0.12, the only valid positional argument will be `data`, and passing other arguments without an explicit keyword will result in an error or misinterpretation.\n",
            "  FutureWarning\n",
            "/usr/local/lib/python3.7/dist-packages/seaborn/_decorators.py:43: FutureWarning: Pass the following variable as a keyword arg: x. From version 0.12, the only valid positional argument will be `data`, and passing other arguments without an explicit keyword will result in an error or misinterpretation.\n",
            "  FutureWarning\n",
            "/usr/local/lib/python3.7/dist-packages/seaborn/_decorators.py:43: FutureWarning: Pass the following variable as a keyword arg: x. From version 0.12, the only valid positional argument will be `data`, and passing other arguments without an explicit keyword will result in an error or misinterpretation.\n",
            "  FutureWarning\n",
            "/usr/local/lib/python3.7/dist-packages/seaborn/_decorators.py:43: FutureWarning: Pass the following variable as a keyword arg: x. From version 0.12, the only valid positional argument will be `data`, and passing other arguments without an explicit keyword will result in an error or misinterpretation.\n",
            "  FutureWarning\n",
            "/usr/local/lib/python3.7/dist-packages/seaborn/_decorators.py:43: FutureWarning: Pass the following variable as a keyword arg: x. From version 0.12, the only valid positional argument will be `data`, and passing other arguments without an explicit keyword will result in an error or misinterpretation.\n",
            "  FutureWarning\n",
            "/usr/local/lib/python3.7/dist-packages/seaborn/_decorators.py:43: FutureWarning: Pass the following variable as a keyword arg: x. From version 0.12, the only valid positional argument will be `data`, and passing other arguments without an explicit keyword will result in an error or misinterpretation.\n",
            "  FutureWarning\n",
            "/usr/local/lib/python3.7/dist-packages/seaborn/_decorators.py:43: FutureWarning: Pass the following variable as a keyword arg: x. From version 0.12, the only valid positional argument will be `data`, and passing other arguments without an explicit keyword will result in an error or misinterpretation.\n",
            "  FutureWarning\n",
            "/usr/local/lib/python3.7/dist-packages/seaborn/_decorators.py:43: FutureWarning: Pass the following variable as a keyword arg: x. From version 0.12, the only valid positional argument will be `data`, and passing other arguments without an explicit keyword will result in an error or misinterpretation.\n",
            "  FutureWarning\n",
            "/usr/local/lib/python3.7/dist-packages/seaborn/_decorators.py:43: FutureWarning: Pass the following variable as a keyword arg: x. From version 0.12, the only valid positional argument will be `data`, and passing other arguments without an explicit keyword will result in an error or misinterpretation.\n",
            "  FutureWarning\n",
            "/usr/local/lib/python3.7/dist-packages/seaborn/_decorators.py:43: FutureWarning: Pass the following variable as a keyword arg: x. From version 0.12, the only valid positional argument will be `data`, and passing other arguments without an explicit keyword will result in an error or misinterpretation.\n",
            "  FutureWarning\n"
          ]
        },
        {
          "output_type": "display_data",
          "data": {
            "text/plain": [
              "<Figure size 3000x1200 with 12 Axes>"
            ],
            "image/png": "[encoded data removed]"
          },
          "metadata": {
            "needs_background": "light"
          }
        }
      ]
    },
    {
      "cell_type": "code",
      "source": [
        "valid_preds['fused_case_2']"
      ],
      "metadata": {
        "colab": {
          "base_uri": "https://localhost:8080/"
        },
        "id": "c56NH6dTay7I",
        "outputId": "1f964a97-4e92-49ae-f5a8-903e14b76ce3"
      },
      "execution_count": 19,
      "outputs": [
        {
          "output_type": "execute_result",
          "data": {
            "text/plain": [
              "array([[21.,  1.,  1., ..., 19., 18., 21.],\n",
              "       [ 1.,  1.,  1., ..., 30.,  8., 19.],\n",
              "       [ 1.,  1.,  1., ..., 13., 12., 11.],\n",
              "       ...,\n",
              "       [ 1.,  1.,  1., ...,  8., 30., 11.],\n",
              "       [ 1.,  1.,  1., ..., 30., 17.,  4.],\n",
              "       [ 1.,  1.,  1., ..., 21., 24.,  8.]])"
            ]
          },
          "metadata": {},
          "execution_count": 19
        }
      ]
    },
    {
      "cell_type": "code",
      "source": [
        "# the whole dataset\n",
        "# count the masculine, feminine, and takseer forms based on the word endings\n",
        "feminine_counts = 0\n",
        "masculine_counts = 0\n",
        "takseer_counts = 0\n",
        "\n",
        "# create lists to collect their indexes\n",
        "feminine_indexes = []\n",
        "masculine_indexes = []\n",
        "takseer_indexes = []\n",
        "\n",
        "# go over each word and check whether it is masculine, feminine, or takseer\n",
        "for i, word in enumerate(valid_df.iloc[:, -1].values.tolist()):\n",
        "  if word[-2:] == 'ات':\n",
        "    feminine_counts += 1\n",
        "    feminine_indexes.append(i)\n",
        "  elif word[-2:] == 'ين':\n",
        "    masculine_counts += 1\n",
        "    masculine_indexes.append(i)\n",
        "  else:\n",
        "    takseer_counts += 1\n",
        "    takseer_indexes.append(i)\n",
        "\n",
        "print('Number of feminine examples:', feminine_counts)\n",
        "print('Number of masculine examples:', masculine_counts)\n",
        "print('Number of takseer examples:', takseer_counts)"
      ],
      "metadata": {
        "colab": {
          "base_uri": "https://localhost:8080/"
        },
        "id": "fDNBJKQ7bdaj",
        "outputId": "b1281b70-d39d-4856-aac7-133020086a7c"
      },
      "execution_count": 20,
      "outputs": [
        {
          "output_type": "stream",
          "name": "stdout",
          "text": [
            "Number of feminine examples: 146\n",
            "Number of masculine examples: 50\n",
            "Number of takseer examples: 147\n"
          ]
        }
      ]
    },
    {
      "cell_type": "code",
      "execution_count": 21,
      "metadata": {
        "colab": {
          "base_uri": "https://localhost:8080/"
        },
        "id": "7prwOTG2EwXT",
        "outputId": "5cf17842-35e3-4b45-f8a0-23291f12907b"
      },
      "outputs": [
        {
          "output_type": "stream",
          "name": "stdout",
          "text": [
            "Number of feminine examples: 256\n",
            "Number of masculine examples: 64\n",
            "Number of takseer examples: 280\n"
          ]
        }
      ],
      "source": [
        "# the whole dataset\n",
        "# count the masculine, feminine, and takseer forms based on the word endings\n",
        "feminine_counts = 0\n",
        "masculine_counts = 0\n",
        "takseer_counts = 0\n",
        "\n",
        "# create lists to collect their indexes\n",
        "feminine_indexes = []\n",
        "masculine_indexes = []\n",
        "takseer_indexes = []\n",
        "\n",
        "# go over each word and check whether it is masculine, feminine, or takseer\n",
        "for i, word in enumerate(test_df.iloc[:, -1].values.tolist()):\n",
        "  if word[-2:] == 'ات':\n",
        "    feminine_counts += 1\n",
        "    feminine_indexes.append(i)\n",
        "  elif word[-2:] == 'ين':\n",
        "    masculine_counts += 1\n",
        "    masculine_indexes.append(i)\n",
        "  else:\n",
        "    takseer_counts += 1\n",
        "    takseer_indexes.append(i)\n",
        "\n",
        "print('Number of feminine examples:', feminine_counts)\n",
        "print('Number of masculine examples:', masculine_counts)\n",
        "print('Number of takseer examples:', takseer_counts)"
      ]
    },
    {
      "cell_type": "markdown",
      "metadata": {
        "id": "5troyB9ls4l2"
      },
      "source": [
        "# Intensive Study"
      ]
    },
    {
      "cell_type": "markdown",
      "source": [
        "## Validatoin Set"
      ],
      "metadata": {
        "id": "Ht1H6TXLddxs"
      }
    },
    {
      "cell_type": "code",
      "source": [
        "# print(count of each Levenshtein distance)\n",
        "dists = np.unique(np.int32(distances_arr(split='valid', fused=True, case=2)), return_counts=True)[0]\n",
        "couts = np.unique(np.int32(distances_arr(split='valid', fused=True, case=2)), return_counts=True)[1]\n",
        "display(pd.DataFrame({'Distance': dists, 'Counts': couts}))"
      ],
      "metadata": {
        "colab": {
          "base_uri": "https://localhost:8080/",
          "height": 238
        },
        "id": "3lfOedQGbko9",
        "outputId": "62168cc6-3dfe-477e-bdcb-6449f627b278"
      },
      "execution_count": 22,
      "outputs": [
        {
          "output_type": "display_data",
          "data": {
            "text/plain": [
              "   Distance  Counts\n",
              "0         0     126\n",
              "1         1      29\n",
              "2         2      97\n",
              "3         3      63\n",
              "4         4      27\n",
              "5         5       1"
            ],
            "text/html": [
              "\n",
              "  <div id=\"df-d8d2c6fb-33ad-4090-a9ab-1bae861a208e\">\n",
              "    <div class=\"colab-df-container\">\n",
              "      <div>\n",
              "<style scoped>\n",
              "    .dataframe tbody tr th:only-of-type {\n",
              "        vertical-align: middle;\n",
              "    }\n",
              "\n",
              "    .dataframe tbody tr th {\n",
              "        vertical-align: top;\n",
              "    }\n",
              "\n",
              "    .dataframe thead th {\n",
              "        text-align: right;\n",
              "    }\n",
              "</style>\n",
              "<table border=\"1\" class=\"dataframe\">\n",
              "  <thead>\n",
              "    <tr style=\"text-align: right;\">\n",
              "      <th></th>\n",
              "      <th>Distance</th>\n",
              "      <th>Counts</th>\n",
              "    </tr>\n",
              "  </thead>\n",
              "  <tbody>\n",
              "    <tr>\n",
              "      <th>0</th>\n",
              "      <td>0</td>\n",
              "      <td>126</td>\n",
              "    </tr>\n",
              "    <tr>\n",
              "      <th>1</th>\n",
              "      <td>1</td>\n",
              "      <td>29</td>\n",
              "    </tr>\n",
              "    <tr>\n",
              "      <th>2</th>\n",
              "      <td>2</td>\n",
              "      <td>97</td>\n",
              "    </tr>\n",
              "    <tr>\n",
              "      <th>3</th>\n",
              "      <td>3</td>\n",
              "      <td>63</td>\n",
              "    </tr>\n",
              "    <tr>\n",
              "      <th>4</th>\n",
              "      <td>4</td>\n",
              "      <td>27</td>\n",
              "    </tr>\n",
              "    <tr>\n",
              "      <th>5</th>\n",
              "      <td>5</td>\n",
              "      <td>1</td>\n",
              "    </tr>\n",
              "  </tbody>\n",
              "</table>\n",
              "</div>\n",
              "      <button class=\"colab-df-convert\" onclick=\"convertToInteractive('df-d8d2c6fb-33ad-4090-a9ab-1bae861a208e')\"\n",
              "              title=\"Convert this dataframe to an interactive table.\"\n",
              "              style=\"display:none;\">\n",
              "        \n",
              "  <svg xmlns=\"http://www.w3.org/2000/svg\" height=\"24px\"viewBox=\"0 0 24 24\"\n",
              "       width=\"24px\">\n",
              "    <path d=\"M0 0h24v24H0V0z\" fill=\"none\"/>\n",
              "    <path d=\"M18.56 5.44l.94 2.06.94-2.06 2.06-.94-2.06-.94-.94-2.06-.94 2.06-2.06.94zm-11 1L8.5 8.5l.94-2.06 2.06-.94-2.06-.94L8.5 2.5l-.94 2.06-2.06.94zm10 10l.94 2.06.94-2.06 2.06-.94-2.06-.94-.94-2.06-.94 2.06-2.06.94z\"/><path d=\"M17.41 7.96l-1.37-1.37c-.4-.4-.92-.59-1.43-.59-.52 0-1.04.2-1.43.59L10.3 9.45l-7.72 7.72c-.78.78-.78 2.05 0 2.83L4 21.41c.39.39.9.59 1.41.59.51 0 1.02-.2 1.41-.59l7.78-7.78 2.81-2.81c.8-.78.8-2.07 0-2.86zM5.41 20L4 18.59l7.72-7.72 1.47 1.35L5.41 20z\"/>\n",
              "  </svg>\n",
              "      </button>\n",
              "      \n",
              "  <style>\n",
              "    .colab-df-container {\n",
              "      display:flex;\n",
              "      flex-wrap:wrap;\n",
              "      gap: 12px;\n",
              "    }\n",
              "\n",
              "    .colab-df-convert {\n",
              "      background-color: #E8F0FE;\n",
              "      border: none;\n",
              "      border-radius: 50%;\n",
              "      cursor: pointer;\n",
              "      display: none;\n",
              "      fill: #1967D2;\n",
              "      height: 32px;\n",
              "      padding: 0 0 0 0;\n",
              "      width: 32px;\n",
              "    }\n",
              "\n",
              "    .colab-df-convert:hover {\n",
              "      background-color: #E2EBFA;\n",
              "      box-shadow: 0px 1px 2px rgba(60, 64, 67, 0.3), 0px 1px 3px 1px rgba(60, 64, 67, 0.15);\n",
              "      fill: #174EA6;\n",
              "    }\n",
              "\n",
              "    [theme=dark] .colab-df-convert {\n",
              "      background-color: #3B4455;\n",
              "      fill: #D2E3FC;\n",
              "    }\n",
              "\n",
              "    [theme=dark] .colab-df-convert:hover {\n",
              "      background-color: #434B5C;\n",
              "      box-shadow: 0px 1px 3px 1px rgba(0, 0, 0, 0.15);\n",
              "      filter: drop-shadow(0px 1px 2px rgba(0, 0, 0, 0.3));\n",
              "      fill: #FFFFFF;\n",
              "    }\n",
              "  </style>\n",
              "\n",
              "      <script>\n",
              "        const buttonEl =\n",
              "          document.querySelector('#df-d8d2c6fb-33ad-4090-a9ab-1bae861a208e button.colab-df-convert');\n",
              "        buttonEl.style.display =\n",
              "          google.colab.kernel.accessAllowed ? 'block' : 'none';\n",
              "\n",
              "        async function convertToInteractive(key) {\n",
              "          const element = document.querySelector('#df-d8d2c6fb-33ad-4090-a9ab-1bae861a208e');\n",
              "          const dataTable =\n",
              "            await google.colab.kernel.invokeFunction('convertToInteractive',\n",
              "                                                     [key], {});\n",
              "          if (!dataTable) return;\n",
              "\n",
              "          const docLinkHtml = 'Like what you see? Visit the ' +\n",
              "            '<a target=\"_blank\" href=https://colab.research.google.com/notebooks/data_table.ipynb>data table notebook</a>'\n",
              "            + ' to learn more about interactive tables.';\n",
              "          element.innerHTML = '';\n",
              "          dataTable['output_type'] = 'display_data';\n",
              "          await google.colab.output.renderOutput(dataTable, element);\n",
              "          const docLink = document.createElement('div');\n",
              "          docLink.innerHTML = docLinkHtml;\n",
              "          element.appendChild(docLink);\n",
              "        }\n",
              "      </script>\n",
              "    </div>\n",
              "  </div>\n",
              "  "
            ]
          },
          "metadata": {}
        }
      ]
    },
    {
      "cell_type": "code",
      "source": [
        "distances = distances_arr(split='valid', fused=True, case=2)"
      ],
      "metadata": {
        "id": "8mHFfhw2eqkG"
      },
      "execution_count": 23,
      "outputs": []
    },
    {
      "cell_type": "code",
      "source": [
        "# group by each distance value\n",
        "zero_distance_indexes = np.where(distances==0)[0]\n",
        "one_distance_indexes = np.where(distances==1)[0]\n",
        "two_distance_indexes = np.where(distances==2)[0]\n",
        "three_distance_indexes = np.where(distances==3)[0]\n",
        "four_distance_indexes = np.where(distances==4)[0]\n",
        "five_distance_indexes = np.where(distances==5)[0]"
      ],
      "metadata": {
        "id": "dSqeN316dlsM"
      },
      "execution_count": 24,
      "outputs": []
    },
    {
      "cell_type": "markdown",
      "source": [
        "## Zero Levenshtein Distance (Perfect Match) "
      ],
      "metadata": {
        "id": "ORnkhmx1dtW5"
      }
    },
    {
      "cell_type": "code",
      "source": [
        "# extract a list of the plural forms\n",
        "zero_distance_plural = valid_df.iloc[zero_distance_indexes, -1].values.tolist()"
      ],
      "metadata": {
        "id": "2YSCDHpDdly2"
      },
      "execution_count": 25,
      "outputs": []
    },
    {
      "cell_type": "code",
      "source": [
        "# count the masculine, feminine, and takseer forms based on the word endings\n",
        "feminine_counts = 0\n",
        "masculine_counts = 0\n",
        "takseer_counts = 0\n",
        "\n",
        "# create lists to collect their indexes\n",
        "feminine_indexes = []\n",
        "masculine_indexes = []\n",
        "takseer_indexes = []\n",
        "\n",
        "# go over each word and check whether it is masculine, feminine, or takseer\n",
        "for i, word in enumerate(zero_distance_plural):\n",
        "  if word[-2:] == 'ات':\n",
        "    feminine_counts += 1\n",
        "    feminine_indexes.append(i)\n",
        "  elif word[-2:] == 'ين':\n",
        "    masculine_counts += 1\n",
        "    masculine_indexes.append(i)\n",
        "  else:\n",
        "    takseer_counts += 1\n",
        "    takseer_indexes.append(i)\n",
        "\n",
        "print('Number of feminine examples:', feminine_counts)\n",
        "print('Number of masculine examples:', masculine_counts)\n",
        "print('Number of takseer examples:', takseer_counts)"
      ],
      "metadata": {
        "colab": {
          "base_uri": "https://localhost:8080/"
        },
        "id": "qFU4LKEqdl45",
        "outputId": "a24971fc-8cfd-4e31-d5d9-dc6445344172"
      },
      "execution_count": 26,
      "outputs": [
        {
          "output_type": "stream",
          "name": "stdout",
          "text": [
            "Number of feminine examples: 80\n",
            "Number of masculine examples: 16\n",
            "Number of takseer examples: 30\n"
          ]
        }
      ]
    },
    {
      "cell_type": "code",
      "source": [
        "# retrieving takseer examples\n",
        "takseer_examples = [zero_distance_plural[i] for i in takseer_indexes]\n",
        "\n",
        "# ensure all takseer examples are not in the training set\n",
        "counts = 0\n",
        "for word in takseer_examples:\n",
        "  if (word in train_df.iloc[:, -1].values.tolist()):\n",
        "    print(f\"{word} is in training set\")\n",
        "    counts += 1\n",
        "if counts == 0:\n",
        "  print(\"No word in the validation set is in the training set\")\n",
        "else:\n",
        "  print('*'*50)\n",
        "  print(f\"{counts} out of {takseer_counts} words is/are in the training set\")"
      ],
      "metadata": {
        "colab": {
          "base_uri": "https://localhost:8080/"
        },
        "id": "ArWjrBd-d5MQ",
        "outputId": "2d46fd97-f948-4698-dba0-ba5a570cfa74"
      },
      "execution_count": 27,
      "outputs": [
        {
          "output_type": "stream",
          "name": "stdout",
          "text": [
            "No word in the validation set is in the training set\n"
          ]
        }
      ]
    },
    {
      "cell_type": "code",
      "source": [
        "# retrieving feminine examples\n",
        "feminine_examples = [zero_distance_plural[i] for i in feminine_indexes]\n",
        "\n",
        "# ensure all feminine examples are not in the training set\n",
        "counts = 0\n",
        "for word in feminine_examples:\n",
        "  if (word in train_df.iloc[:, -1].values.tolist()):\n",
        "    print(f\"{word} is in training set\")\n",
        "    counts += 1\n",
        "if counts == 0:\n",
        "  print(\"No word in the validation set is in the training set\")\n",
        "else:\n",
        "  print('*'*50)\n",
        "  print(f\"{counts} out of {feminine_counts} words is/are in the training set\")"
      ],
      "metadata": {
        "colab": {
          "base_uri": "https://localhost:8080/"
        },
        "id": "XFpg4ehRd5Or",
        "outputId": "8d2a13d4-22ea-48ff-f57c-851220b880e8"
      },
      "execution_count": 28,
      "outputs": [
        {
          "output_type": "stream",
          "name": "stdout",
          "text": [
            "No word in the validation set is in the training set\n"
          ]
        }
      ]
    },
    {
      "cell_type": "code",
      "source": [
        "# retrieving masculine examples\n",
        "masculine_examples = [zero_distance_plural[i] for i in masculine_indexes]\n",
        "\n",
        "# ensure all masculine examples are not in the training set\n",
        "counts = 0\n",
        "for word in masculine_examples:\n",
        "  if (word in train_df.iloc[:, -1].values.tolist()):\n",
        "    print(f\"{word} is in training set\")\n",
        "    counts += 1\n",
        "if counts == 0:\n",
        "  print(\"No word in the validation set is in the training set\")\n",
        "else:\n",
        "  print('*'*50)\n",
        "  print(f\"{counts} out of {masculine_counts} words is/are in the training set\")"
      ],
      "metadata": {
        "colab": {
          "base_uri": "https://localhost:8080/"
        },
        "id": "3Rslwxh8d5RG",
        "outputId": "3c110226-9bdc-4dbe-85a3-f557a041eb0f"
      },
      "execution_count": 29,
      "outputs": [
        {
          "output_type": "stream",
          "name": "stdout",
          "text": [
            "مستخدمين is in training set\n",
            "**************************************************\n",
            "1 out of 16 words is/are in the training set\n"
          ]
        }
      ]
    },
    {
      "cell_type": "markdown",
      "source": [
        "## One Levenshtein Distance"
      ],
      "metadata": {
        "id": "8R5u955OeCae"
      }
    },
    {
      "cell_type": "code",
      "execution_count": 30,
      "metadata": {
        "id": "L_M6Szy3eOUo"
      },
      "outputs": [],
      "source": [
        "# extract a list of the plural forms\n",
        "one_distance_plural = valid_df.iloc[one_distance_indexes, -1].values.tolist()"
      ]
    },
    {
      "cell_type": "code",
      "execution_count": 31,
      "metadata": {
        "colab": {
          "base_uri": "https://localhost:8080/"
        },
        "outputId": "9810170c-0ac2-47b6-a2c4-8ebbdd0e223c",
        "id": "hBgh56EAeOVB"
      },
      "outputs": [
        {
          "output_type": "stream",
          "name": "stdout",
          "text": [
            "Number of feminine examples: 10\n",
            "Number of masculine examples: 9\n",
            "Number of takseer examples: 10\n"
          ]
        }
      ],
      "source": [
        "# count the masculine, feminine, and takseer forms based on the word endings\n",
        "feminine_counts = 0\n",
        "masculine_counts = 0\n",
        "takseer_counts = 0\n",
        "\n",
        "# create lists to collect their indexes\n",
        "feminine_indexes = []\n",
        "masculine_indexes = []\n",
        "takseer_indexes = []\n",
        "\n",
        "# go over each word and check whether it is masculine, feminine, or takseer\n",
        "for i, word in enumerate(one_distance_plural):\n",
        "  if word[-2:] == 'ات':\n",
        "    feminine_counts += 1\n",
        "    feminine_indexes.append(i)\n",
        "  elif word[-2:] == 'ين':\n",
        "    masculine_counts += 1\n",
        "    masculine_indexes.append(i)\n",
        "  else:\n",
        "    takseer_counts += 1\n",
        "    takseer_indexes.append(i)\n",
        "\n",
        "print('Number of feminine examples:', feminine_counts)\n",
        "print('Number of masculine examples:', masculine_counts)\n",
        "print('Number of takseer examples:', takseer_counts)"
      ]
    },
    {
      "cell_type": "code",
      "execution_count": 32,
      "metadata": {
        "colab": {
          "base_uri": "https://localhost:8080/"
        },
        "outputId": "b5c2ceef-6f43-49a9-8b3f-8de27009c4cf",
        "id": "Hubjc16leOVC"
      },
      "outputs": [
        {
          "output_type": "stream",
          "name": "stdout",
          "text": [
            "No word in the validation set is in the training set\n"
          ]
        }
      ],
      "source": [
        "# retrieving takseer examples\n",
        "takseer_examples = [one_distance_plural[i] for i in takseer_indexes]\n",
        "\n",
        "# ensure all takseer examples are not in the training set\n",
        "counts = 0\n",
        "for word in takseer_examples:\n",
        "  if (word in train_df.iloc[:, -1].values.tolist()):\n",
        "    print(f\"{word} is in training set\")\n",
        "    counts += 1\n",
        "if counts == 0:\n",
        "  print(\"No word in the validation set is in the training set\")\n",
        "else:\n",
        "  print('*'*50)\n",
        "  print(f\"{counts} out of {takseer_counts} words is/are in the training set\")"
      ]
    },
    {
      "cell_type": "code",
      "execution_count": 33,
      "metadata": {
        "colab": {
          "base_uri": "https://localhost:8080/"
        },
        "outputId": "b607a69f-53d2-48d5-a3b8-5fb6d01d75c9",
        "id": "mTuCcNaseOVC"
      },
      "outputs": [
        {
          "output_type": "stream",
          "name": "stdout",
          "text": [
            "No word in the validation set is in the training set\n"
          ]
        }
      ],
      "source": [
        "# retrieving feminine examples\n",
        "feminine_examples = [one_distance_plural[i] for i in feminine_indexes]\n",
        "\n",
        "# ensure all feminine examples are not in the training set\n",
        "counts = 0\n",
        "for word in feminine_examples:\n",
        "  if (word in train_df.iloc[:, -1].values.tolist()):\n",
        "    print(f\"{word} is in training set\")\n",
        "    counts += 1\n",
        "if counts == 0:\n",
        "  print(\"No word in the validation set is in the training set\")\n",
        "else:\n",
        "  print('*'*50)\n",
        "  print(f\"{counts} out of {feminine_counts} words is/are in the training set\")"
      ]
    },
    {
      "cell_type": "code",
      "execution_count": 34,
      "metadata": {
        "colab": {
          "base_uri": "https://localhost:8080/"
        },
        "outputId": "5ec28ca0-4e91-423f-d729-509aece09a3c",
        "id": "yp3gnMuheOVC"
      },
      "outputs": [
        {
          "output_type": "stream",
          "name": "stdout",
          "text": [
            "No word in the validation set is in the training set\n"
          ]
        }
      ],
      "source": [
        "# retrieving masculine examples\n",
        "masculine_examples = [one_distance_plural[i] for i in masculine_indexes]\n",
        "\n",
        "# ensure all masculine examples are not in the training set\n",
        "counts = 0\n",
        "for word in masculine_examples:\n",
        "  if (word in train_df.iloc[:, -1].values.tolist()):\n",
        "    print(f\"{word} is in training set\")\n",
        "    counts += 1\n",
        "if counts == 0:\n",
        "  print(\"No word in the validation set is in the training set\")\n",
        "else:\n",
        "  print('*'*50)\n",
        "  print(f\"{counts} out of {masculine_counts} words is/are in the training set\")"
      ]
    },
    {
      "cell_type": "markdown",
      "metadata": {
        "id": "_aVC19o0eOVD"
      },
      "source": [
        "## Two Levenshtein Distance"
      ]
    },
    {
      "cell_type": "code",
      "execution_count": 35,
      "metadata": {
        "id": "kMKjbOSteOVD"
      },
      "outputs": [],
      "source": [
        "# extract a list of the plural forms\n",
        "two_distance_plural = valid_df.iloc[two_distance_indexes, -1].values.tolist()"
      ]
    },
    {
      "cell_type": "code",
      "execution_count": 36,
      "metadata": {
        "colab": {
          "base_uri": "https://localhost:8080/"
        },
        "outputId": "dae22510-1d40-4211-9cfa-61be55f55745",
        "id": "tsBXrhcTeOVD"
      },
      "outputs": [
        {
          "output_type": "stream",
          "name": "stdout",
          "text": [
            "Number of feminine examples: 34\n",
            "Number of masculine examples: 15\n",
            "Number of takseer examples: 48\n"
          ]
        }
      ],
      "source": [
        "# count the masculine, feminine, and takseer forms based on the word endings\n",
        "feminine_counts = 0\n",
        "masculine_counts = 0\n",
        "takseer_counts = 0\n",
        "\n",
        "# create lists to collect their indexes\n",
        "feminine_indexes = []\n",
        "masculine_indexes = []\n",
        "takseer_indexes = []\n",
        "\n",
        "# go over each word and check whether it is masculine, feminine, or takseer\n",
        "for i, word in enumerate(two_distance_plural):\n",
        "  if word[-2:] == 'ات':\n",
        "    feminine_counts += 1\n",
        "    feminine_indexes.append(i)\n",
        "  elif word[-2:] == 'ين':\n",
        "    masculine_counts += 1\n",
        "    masculine_indexes.append(i)\n",
        "  else:\n",
        "    takseer_counts += 1\n",
        "    takseer_indexes.append(i)\n",
        "\n",
        "print('Number of feminine examples:', feminine_counts)\n",
        "print('Number of masculine examples:', masculine_counts)\n",
        "print('Number of takseer examples:', takseer_counts)"
      ]
    },
    {
      "cell_type": "code",
      "execution_count": 37,
      "metadata": {
        "colab": {
          "base_uri": "https://localhost:8080/"
        },
        "outputId": "91c68754-2cee-411a-8347-ebbe83577267",
        "id": "1DE1hXKEeOVE"
      },
      "outputs": [
        {
          "output_type": "stream",
          "name": "stdout",
          "text": [
            "No word in the validation set is in the training set\n"
          ]
        }
      ],
      "source": [
        "# retrieving takseer examples\n",
        "takseer_examples = [two_distance_plural[i] for i in takseer_indexes]\n",
        "\n",
        "# ensure all takseer examples are not in the training set\n",
        "counts = 0\n",
        "for word in takseer_examples:\n",
        "  if (word in train_df.iloc[:, -1].values.tolist()):\n",
        "    print(f\"{word} is in training set\")\n",
        "    counts += 1\n",
        "if counts == 0:\n",
        "  print(\"No word in the validation set is in the training set\")\n",
        "else:\n",
        "  print('*'*50)\n",
        "  print(f\"{counts} out of {takseer_counts} words is/are in the training set\")"
      ]
    },
    {
      "cell_type": "code",
      "execution_count": 38,
      "metadata": {
        "colab": {
          "base_uri": "https://localhost:8080/"
        },
        "outputId": "75d884c8-ee73-4427-a9a6-3b088d8f072c",
        "id": "vevLaRpceOVE"
      },
      "outputs": [
        {
          "output_type": "stream",
          "name": "stdout",
          "text": [
            "مشاركات is in training set\n",
            "مجريات is in training set\n",
            "مستوطنات is in training set\n",
            "**************************************************\n",
            "3 out of 34 words is/are in the training set\n"
          ]
        }
      ],
      "source": [
        "# retrieving feminine examples\n",
        "feminine_examples = [two_distance_plural[i] for i in feminine_indexes]\n",
        "\n",
        "# ensure all feminine examples are not in the training set\n",
        "counts = 0\n",
        "for word in feminine_examples:\n",
        "  if (word in train_df.iloc[:, -1].values.tolist()):\n",
        "    print(f\"{word} is in training set\")\n",
        "    counts += 1\n",
        "if counts == 0:\n",
        "  print(\"No word in the validation set is in the training set\")\n",
        "else:\n",
        "  print('*'*50)\n",
        "  print(f\"{counts} out of {feminine_counts} words is/are in the training set\")"
      ]
    },
    {
      "cell_type": "code",
      "execution_count": 39,
      "metadata": {
        "colab": {
          "base_uri": "https://localhost:8080/"
        },
        "outputId": "43ddebd8-653c-4455-b586-05d0fb2a409f",
        "id": "73TZgO7BeOVE"
      },
      "outputs": [
        {
          "output_type": "stream",
          "name": "stdout",
          "text": [
            "No word in the validation set is in the training set\n"
          ]
        }
      ],
      "source": [
        "# retrieving masculine examples\n",
        "masculine_examples = [two_distance_plural[i] for i in masculine_indexes]\n",
        "\n",
        "# ensure all masculine examples are not in the training set\n",
        "counts = 0\n",
        "for word in masculine_examples:\n",
        "  if (word in train_df.iloc[:, -1].values.tolist()):\n",
        "    print(f\"{word} is in training set\")\n",
        "    counts += 1\n",
        "if counts == 0:\n",
        "  print(\"No word in the validation set is in the training set\")\n",
        "else:\n",
        "  print('*'*50)\n",
        "  print(f\"{counts} out of {masculine_counts} words is/are in the training set\")"
      ]
    },
    {
      "cell_type": "markdown",
      "metadata": {
        "id": "kMtWgzlBeOVF"
      },
      "source": [
        "## Three Levenshtein Distance"
      ]
    },
    {
      "cell_type": "code",
      "execution_count": 40,
      "metadata": {
        "id": "_E8F1wDjeOVF"
      },
      "outputs": [],
      "source": [
        "# extract a list of the plural forms\n",
        "three_distance_plural = valid_df.iloc[three_distance_indexes, -1].values.tolist()"
      ]
    },
    {
      "cell_type": "code",
      "execution_count": 41,
      "metadata": {
        "colab": {
          "base_uri": "https://localhost:8080/"
        },
        "outputId": "7cd58b0e-9209-413c-b612-bcb0d34280bb",
        "id": "5QS3P9XVeOVF"
      },
      "outputs": [
        {
          "output_type": "stream",
          "name": "stdout",
          "text": [
            "Number of feminine examples: 13\n",
            "Number of masculine examples: 7\n",
            "Number of takseer examples: 43\n"
          ]
        }
      ],
      "source": [
        "# count the masculine, feminine, and takseer forms based on the word endings\n",
        "feminine_counts = 0\n",
        "masculine_counts = 0\n",
        "takseer_counts = 0\n",
        "\n",
        "# create lists to collect their indexes\n",
        "feminine_indexes = []\n",
        "masculine_indexes = []\n",
        "takseer_indexes = []\n",
        "\n",
        "# go over each word and check whether it is masculine, feminine, or takseer\n",
        "for i, word in enumerate(three_distance_plural):\n",
        "  if word[-2:] == 'ات':\n",
        "    feminine_counts += 1\n",
        "    feminine_indexes.append(i)\n",
        "  elif word[-2:] == 'ين':\n",
        "    masculine_counts += 1\n",
        "    masculine_indexes.append(i)\n",
        "  else:\n",
        "    takseer_counts += 1\n",
        "    takseer_indexes.append(i)\n",
        "\n",
        "print('Number of feminine examples:', feminine_counts)\n",
        "print('Number of masculine examples:', masculine_counts)\n",
        "print('Number of takseer examples:', takseer_counts)"
      ]
    },
    {
      "cell_type": "code",
      "execution_count": 42,
      "metadata": {
        "colab": {
          "base_uri": "https://localhost:8080/"
        },
        "outputId": "fa4cc5e8-ea7b-49a9-aa0a-204d22883aee",
        "id": "xli-UmPjeOVF"
      },
      "outputs": [
        {
          "output_type": "stream",
          "name": "stdout",
          "text": [
            "No word in the validation set is in the training set\n"
          ]
        }
      ],
      "source": [
        "# retrieving takseer examples\n",
        "takseer_examples = [three_distance_plural[i] for i in takseer_indexes]\n",
        "\n",
        "# ensure all takseer examples are not in the training set\n",
        "counts = 0\n",
        "for word in takseer_examples:\n",
        "  if (word in train_df.iloc[:, -1].values.tolist()):\n",
        "    print(f\"{word} is in training set\")\n",
        "    counts += 1\n",
        "if counts == 0:\n",
        "  print(\"No word in the validation set is in the training set\")\n",
        "else:\n",
        "  print('*'*50)\n",
        "  print(f\"{counts} out of {takseer_counts} words is/are in the training set\")"
      ]
    },
    {
      "cell_type": "code",
      "execution_count": 43,
      "metadata": {
        "colab": {
          "base_uri": "https://localhost:8080/"
        },
        "outputId": "3e06b985-44f6-47ec-f8b1-a7918d0f02f6",
        "id": "yIjpa0DCeOVG"
      },
      "outputs": [
        {
          "output_type": "stream",
          "name": "stdout",
          "text": [
            "No word in the validation set is in the training set\n"
          ]
        }
      ],
      "source": [
        "# retrieving feminine examples\n",
        "feminine_examples = [three_distance_plural[i] for i in feminine_indexes]\n",
        "\n",
        "# ensure all feminine examples are not in the training set\n",
        "counts = 0\n",
        "for word in feminine_examples:\n",
        "  if (word in train_df.iloc[:, -1].values.tolist()):\n",
        "    print(f\"{word} is in training set\")\n",
        "    counts += 1\n",
        "if counts == 0:\n",
        "  print(\"No word in the validation set is in the training set\")\n",
        "else:\n",
        "  print('*'*50)\n",
        "  print(f\"{counts} out of {feminine_counts} words is/are in the training set\")"
      ]
    },
    {
      "cell_type": "code",
      "execution_count": 44,
      "metadata": {
        "colab": {
          "base_uri": "https://localhost:8080/"
        },
        "outputId": "4b94353d-2463-422a-f95b-530a1028aaab",
        "id": "frf3VNHoeOVG"
      },
      "outputs": [
        {
          "output_type": "stream",
          "name": "stdout",
          "text": [
            "No word in the validation set is in the training set\n"
          ]
        }
      ],
      "source": [
        "# retrieving masculine examples\n",
        "masculine_examples = [three_distance_plural[i] for i in masculine_indexes]\n",
        "\n",
        "# ensure all masculine examples are not in the training set\n",
        "counts = 0\n",
        "for word in masculine_examples:\n",
        "  if (word in train_df.iloc[:, -1].values.tolist()):\n",
        "    print(f\"{word} is in training set\")\n",
        "    counts += 1\n",
        "if counts == 0:\n",
        "  print(\"No word in the validation set is in the training set\")\n",
        "else:\n",
        "  print('*'*50)\n",
        "  print(f\"{counts} out of {masculine_counts} words is/are in the training set\")"
      ]
    },
    {
      "cell_type": "markdown",
      "metadata": {
        "id": "xY2lesTneOVG"
      },
      "source": [
        "## Four Levenshtein Distance"
      ]
    },
    {
      "cell_type": "code",
      "execution_count": 45,
      "metadata": {
        "id": "yxDj4vt0eOVG"
      },
      "outputs": [],
      "source": [
        "# extract a list of the plural forms\n",
        "four_distance_plural = valid_df.iloc[four_distance_indexes, -1].values.tolist()"
      ]
    },
    {
      "cell_type": "code",
      "execution_count": 46,
      "metadata": {
        "colab": {
          "base_uri": "https://localhost:8080/"
        },
        "outputId": "0351f1fa-69b2-4170-8c3c-d7da865557bb",
        "id": "NyWqVu3ueOVH"
      },
      "outputs": [
        {
          "output_type": "stream",
          "name": "stdout",
          "text": [
            "Number of feminine examples: 9\n",
            "Number of masculine examples: 2\n",
            "Number of takseer examples: 16\n"
          ]
        }
      ],
      "source": [
        "# count the masculine, feminine, and takseer forms based on the word endings\n",
        "feminine_counts = 0\n",
        "masculine_counts = 0\n",
        "takseer_counts = 0\n",
        "\n",
        "# create lists to collect their indexes\n",
        "feminine_indexes = []\n",
        "masculine_indexes = []\n",
        "takseer_indexes = []\n",
        "\n",
        "# go over each word and check whether it is masculine, feminine, or takseer\n",
        "for i, word in enumerate(four_distance_plural):\n",
        "  if word[-2:] == 'ات':\n",
        "    feminine_counts += 1\n",
        "    feminine_indexes.append(i)\n",
        "  elif word[-2:] == 'ين':\n",
        "    masculine_counts += 1\n",
        "    masculine_indexes.append(i)\n",
        "  else:\n",
        "    takseer_counts += 1\n",
        "    takseer_indexes.append(i)\n",
        "\n",
        "print('Number of feminine examples:', feminine_counts)\n",
        "print('Number of masculine examples:', masculine_counts)\n",
        "print('Number of takseer examples:', takseer_counts)"
      ]
    },
    {
      "cell_type": "code",
      "execution_count": 47,
      "metadata": {
        "colab": {
          "base_uri": "https://localhost:8080/"
        },
        "outputId": "55a29462-c7b9-4dde-883f-657c6da3fb6f",
        "id": "0YikwRdeeOVH"
      },
      "outputs": [
        {
          "output_type": "stream",
          "name": "stdout",
          "text": [
            "No word in the validation set is in the training set\n"
          ]
        }
      ],
      "source": [
        "# retrieving takseer examples\n",
        "takseer_examples = [four_distance_plural[i] for i in takseer_indexes]\n",
        "\n",
        "# ensure all takseer examples are not in the training set\n",
        "counts = 0\n",
        "for word in takseer_examples:\n",
        "  if (word in train_df.iloc[:, -1].values.tolist()):\n",
        "    print(f\"{word} is in training set\")\n",
        "    counts += 1\n",
        "if counts == 0:\n",
        "  print(\"No word in the validation set is in the training set\")\n",
        "else:\n",
        "  print('*'*50)\n",
        "  print(f\"{counts} out of {takseer_counts} words is/are in the training set\")"
      ]
    },
    {
      "cell_type": "code",
      "execution_count": 48,
      "metadata": {
        "colab": {
          "base_uri": "https://localhost:8080/"
        },
        "outputId": "c989d8c4-b122-49ab-9387-742d4059eb95",
        "id": "DWxovBx4eOVH"
      },
      "outputs": [
        {
          "output_type": "stream",
          "name": "stdout",
          "text": [
            "No word in the validation set is in the training set\n"
          ]
        }
      ],
      "source": [
        "# retrieving feminine examples\n",
        "feminine_examples = [four_distance_plural[i] for i in feminine_indexes]\n",
        "\n",
        "# ensure all feminine examples are not in the training set\n",
        "counts = 0\n",
        "for word in feminine_examples:\n",
        "  if (word in train_df.iloc[:, -1].values.tolist()):\n",
        "    print(f\"{word} is in training set\")\n",
        "    counts += 1\n",
        "if counts == 0:\n",
        "  print(\"No word in the validation set is in the training set\")\n",
        "else:\n",
        "  print('*'*50)\n",
        "  print(f\"{counts} out of {feminine_counts} words is/are in the training set\")"
      ]
    },
    {
      "cell_type": "code",
      "execution_count": 49,
      "metadata": {
        "colab": {
          "base_uri": "https://localhost:8080/"
        },
        "outputId": "9fafd4bc-a555-4c1a-9fce-6c3dac2a8dbf",
        "id": "8iAydyIkeOVI"
      },
      "outputs": [
        {
          "output_type": "stream",
          "name": "stdout",
          "text": [
            "No word in the validation set is in the training set\n"
          ]
        }
      ],
      "source": [
        "# retrieving masculine examples\n",
        "masculine_examples = [four_distance_plural[i] for i in masculine_indexes]\n",
        "\n",
        "# ensure all masculine examples are not in the training set\n",
        "counts = 0\n",
        "for word in masculine_examples:\n",
        "  if (word in train_df.iloc[:, -1].values.tolist()):\n",
        "    print(f\"{word} is in training set\")\n",
        "    counts += 1\n",
        "if counts == 0:\n",
        "  print(\"No word in the validation set is in the training set\")\n",
        "else:\n",
        "  print('*'*50)\n",
        "  print(f\"{counts} out of {masculine_counts} words is/are in the training set\")"
      ]
    },
    {
      "cell_type": "markdown",
      "metadata": {
        "id": "j9PFRzCPeOVI"
      },
      "source": [
        "## Five Levenshtein Distance"
      ]
    },
    {
      "cell_type": "code",
      "execution_count": 50,
      "metadata": {
        "id": "sWAPW-AOeOVI"
      },
      "outputs": [],
      "source": [
        "# extract a list of the plural forms\n",
        "five_distance_plural = valid_df.iloc[five_distance_indexes, -1].values.tolist()"
      ]
    },
    {
      "cell_type": "code",
      "execution_count": 51,
      "metadata": {
        "colab": {
          "base_uri": "https://localhost:8080/"
        },
        "outputId": "c658a52b-fb81-4dde-bfaa-d78e950c791d",
        "id": "5g17YY4eeOVI"
      },
      "outputs": [
        {
          "output_type": "stream",
          "name": "stdout",
          "text": [
            "Number of feminine examples: 0\n",
            "Number of masculine examples: 1\n",
            "Number of takseer examples: 0\n"
          ]
        }
      ],
      "source": [
        "# count the masculine, feminine, and takseer forms based on the word endings\n",
        "feminine_counts = 0\n",
        "masculine_counts = 0\n",
        "takseer_counts = 0\n",
        "\n",
        "# create lists to collect their indexes\n",
        "feminine_indexes = []\n",
        "masculine_indexes = []\n",
        "takseer_indexes = []\n",
        "\n",
        "# go over each word and check whether it is masculine, feminine, or takseer\n",
        "for i, word in enumerate(five_distance_plural):\n",
        "  if word[-2:] == 'ات':\n",
        "    feminine_counts += 1\n",
        "    feminine_indexes.append(i)\n",
        "  elif word[-2:] == 'ين':\n",
        "    masculine_counts += 1\n",
        "    masculine_indexes.append(i)\n",
        "  else:\n",
        "    takseer_counts += 1\n",
        "    takseer_indexes.append(i)\n",
        "\n",
        "print('Number of feminine examples:', feminine_counts)\n",
        "print('Number of masculine examples:', masculine_counts)\n",
        "print('Number of takseer examples:', takseer_counts)"
      ]
    },
    {
      "cell_type": "code",
      "execution_count": 52,
      "metadata": {
        "colab": {
          "base_uri": "https://localhost:8080/"
        },
        "outputId": "3f624773-83bf-4740-97c0-3053a31e36a1",
        "id": "z_3uzlzQeOVJ"
      },
      "outputs": [
        {
          "output_type": "stream",
          "name": "stdout",
          "text": [
            "No word in the validation set is in the training set\n"
          ]
        }
      ],
      "source": [
        "# retrieving takseer examples\n",
        "takseer_examples = [five_distance_plural[i] for i in takseer_indexes]\n",
        "\n",
        "# ensure all takseer examples are not in the training set\n",
        "counts = 0\n",
        "for word in takseer_examples:\n",
        "  if (word in train_df.iloc[:, -1].values.tolist()):\n",
        "    print(f\"{word} is in training set\")\n",
        "    counts += 1\n",
        "if counts == 0:\n",
        "  print(\"No word in the validation set is in the training set\")\n",
        "else:\n",
        "  print('*'*50)\n",
        "  print(f\"{counts} out of {takseer_counts} words is/are in the training set\")"
      ]
    },
    {
      "cell_type": "code",
      "execution_count": 53,
      "metadata": {
        "colab": {
          "base_uri": "https://localhost:8080/"
        },
        "outputId": "a354a7c7-a47f-46a3-b278-d4f851a7a0bb",
        "id": "1ixOuBsueOVJ"
      },
      "outputs": [
        {
          "output_type": "stream",
          "name": "stdout",
          "text": [
            "No word in the validation set is in the training set\n"
          ]
        }
      ],
      "source": [
        "# retrieving feminine examples\n",
        "feminine_examples = [five_distance_plural[i] for i in feminine_indexes]\n",
        "\n",
        "# ensure all feminine examples are not in the training set\n",
        "counts = 0\n",
        "for word in feminine_examples:\n",
        "  if (word in train_df.iloc[:, -1].values.tolist()):\n",
        "    print(f\"{word} is in training set\")\n",
        "    counts += 1\n",
        "if counts == 0:\n",
        "  print(\"No word in the validation set is in the training set\")\n",
        "else:\n",
        "  print('*'*50)\n",
        "  print(f\"{counts} out of {feminine_counts} words is/are in the training set\")"
      ]
    },
    {
      "cell_type": "code",
      "execution_count": 54,
      "metadata": {
        "colab": {
          "base_uri": "https://localhost:8080/"
        },
        "outputId": "f951af40-08f9-4777-aa6c-be78b3311d54",
        "id": "kR7qtlJheOVJ"
      },
      "outputs": [
        {
          "output_type": "stream",
          "name": "stdout",
          "text": [
            "No word in the validation set is in the training set\n"
          ]
        }
      ],
      "source": [
        "# retrieving masculine examples\n",
        "masculine_examples = [five_distance_plural[i] for i in masculine_indexes]\n",
        "\n",
        "# ensure all masculine examples are not in the training set\n",
        "counts = 0\n",
        "for word in masculine_examples:\n",
        "  if (word in train_df.iloc[:, -1].values.tolist()):\n",
        "    print(f\"{word} is in training set\")\n",
        "    counts += 1\n",
        "if counts == 0:\n",
        "  print(\"No word in the validation set is in the training set\")\n",
        "else:\n",
        "  print('*'*50)\n",
        "  print(f\"{counts} out of {masculine_counts} words is/are in the training set\")"
      ]
    },
    {
      "cell_type": "code",
      "execution_count": 55,
      "metadata": {
        "id": "a_DYGvLrgUGD"
      },
      "outputs": [],
      "source": [
        "# create a dictionary that contains the examples of each distance value\n",
        "dict_ = dict()\n",
        "dict_['zero_distance_plural'] = valid_df.iloc[zero_distance_indexes, -1].values.tolist()\n",
        "dict_['one_distance_plural'] = valid_df.iloc[one_distance_indexes, -1].values.tolist()\n",
        "dict_['two_distance_plural'] = valid_df.iloc[two_distance_indexes, -1].values.tolist()\n",
        "dict_['three_distance_plural'] = valid_df.iloc[three_distance_indexes, -1].values.tolist()\n",
        "dict_['four_distance_plural'] = valid_df.iloc[four_distance_indexes, -1].values.tolist()\n",
        "dict_['five_distance_plural'] = valid_df.iloc[five_distance_indexes, -1].values.tolist()\n",
        "\n",
        "# create a list to hold the counts across distances\n",
        "valid_feminine_counts_list = []\n",
        "valid_masculine_counts_list = []\n",
        "valid_takseer_counts_list = []\n",
        "\n",
        "for key in [*dict_]:\n",
        "  # count the masculine, feminine, and takseer forms based on the word endings\n",
        "  feminine_counts = 0\n",
        "  masculine_counts = 0\n",
        "  takseer_counts = 0\n",
        "  # go over each word and check whether it is masculine, feminine, or takseer\n",
        "  for i, word in enumerate(dict_[key]):\n",
        "    if word[-2:] == 'ات':\n",
        "      feminine_counts += 1\n",
        "    elif word[-2:] == 'ين':\n",
        "      masculine_counts += 1\n",
        "    else:\n",
        "      takseer_counts += 1\n",
        "  # append counts for each category\n",
        "  valid_feminine_counts_list.append(feminine_counts)\n",
        "  valid_masculine_counts_list.append(masculine_counts)\n",
        "  valid_takseer_counts_list.append(takseer_counts)"
      ]
    },
    {
      "cell_type": "markdown",
      "source": [
        "## Test Set"
      ],
      "metadata": {
        "id": "nffrJSJGjbDa"
      }
    },
    {
      "cell_type": "code",
      "execution_count": 56,
      "metadata": {
        "colab": {
          "base_uri": "https://localhost:8080/",
          "height": 238
        },
        "id": "xfGbK-nNs3qJ",
        "outputId": "2d7406eb-a770-40a1-b859-55027ce63af6"
      },
      "outputs": [
        {
          "output_type": "display_data",
          "data": {
            "text/plain": [
              "   Distance  Counts\n",
              "0         0     224\n",
              "1         1      63\n",
              "2         2     164\n",
              "3         3     101\n",
              "4         4      41\n",
              "5         5       7"
            ],
            "text/html": [
              "\n",
              "  <div id=\"df-0bb786cd-f0ee-44c8-b008-16eecea112fa\">\n",
              "    <div class=\"colab-df-container\">\n",
              "      <div>\n",
              "<style scoped>\n",
              "    .dataframe tbody tr th:only-of-type {\n",
              "        vertical-align: middle;\n",
              "    }\n",
              "\n",
              "    .dataframe tbody tr th {\n",
              "        vertical-align: top;\n",
              "    }\n",
              "\n",
              "    .dataframe thead th {\n",
              "        text-align: right;\n",
              "    }\n",
              "</style>\n",
              "<table border=\"1\" class=\"dataframe\">\n",
              "  <thead>\n",
              "    <tr style=\"text-align: right;\">\n",
              "      <th></th>\n",
              "      <th>Distance</th>\n",
              "      <th>Counts</th>\n",
              "    </tr>\n",
              "  </thead>\n",
              "  <tbody>\n",
              "    <tr>\n",
              "      <th>0</th>\n",
              "      <td>0</td>\n",
              "      <td>224</td>\n",
              "    </tr>\n",
              "    <tr>\n",
              "      <th>1</th>\n",
              "      <td>1</td>\n",
              "      <td>63</td>\n",
              "    </tr>\n",
              "    <tr>\n",
              "      <th>2</th>\n",
              "      <td>2</td>\n",
              "      <td>164</td>\n",
              "    </tr>\n",
              "    <tr>\n",
              "      <th>3</th>\n",
              "      <td>3</td>\n",
              "      <td>101</td>\n",
              "    </tr>\n",
              "    <tr>\n",
              "      <th>4</th>\n",
              "      <td>4</td>\n",
              "      <td>41</td>\n",
              "    </tr>\n",
              "    <tr>\n",
              "      <th>5</th>\n",
              "      <td>5</td>\n",
              "      <td>7</td>\n",
              "    </tr>\n",
              "  </tbody>\n",
              "</table>\n",
              "</div>\n",
              "      <button class=\"colab-df-convert\" onclick=\"convertToInteractive('df-0bb786cd-f0ee-44c8-b008-16eecea112fa')\"\n",
              "              title=\"Convert this dataframe to an interactive table.\"\n",
              "              style=\"display:none;\">\n",
              "        \n",
              "  <svg xmlns=\"http://www.w3.org/2000/svg\" height=\"24px\"viewBox=\"0 0 24 24\"\n",
              "       width=\"24px\">\n",
              "    <path d=\"M0 0h24v24H0V0z\" fill=\"none\"/>\n",
              "    <path d=\"M18.56 5.44l.94 2.06.94-2.06 2.06-.94-2.06-.94-.94-2.06-.94 2.06-2.06.94zm-11 1L8.5 8.5l.94-2.06 2.06-.94-2.06-.94L8.5 2.5l-.94 2.06-2.06.94zm10 10l.94 2.06.94-2.06 2.06-.94-2.06-.94-.94-2.06-.94 2.06-2.06.94z\"/><path d=\"M17.41 7.96l-1.37-1.37c-.4-.4-.92-.59-1.43-.59-.52 0-1.04.2-1.43.59L10.3 9.45l-7.72 7.72c-.78.78-.78 2.05 0 2.83L4 21.41c.39.39.9.59 1.41.59.51 0 1.02-.2 1.41-.59l7.78-7.78 2.81-2.81c.8-.78.8-2.07 0-2.86zM5.41 20L4 18.59l7.72-7.72 1.47 1.35L5.41 20z\"/>\n",
              "  </svg>\n",
              "      </button>\n",
              "      \n",
              "  <style>\n",
              "    .colab-df-container {\n",
              "      display:flex;\n",
              "      flex-wrap:wrap;\n",
              "      gap: 12px;\n",
              "    }\n",
              "\n",
              "    .colab-df-convert {\n",
              "      background-color: #E8F0FE;\n",
              "      border: none;\n",
              "      border-radius: 50%;\n",
              "      cursor: pointer;\n",
              "      display: none;\n",
              "      fill: #1967D2;\n",
              "      height: 32px;\n",
              "      padding: 0 0 0 0;\n",
              "      width: 32px;\n",
              "    }\n",
              "\n",
              "    .colab-df-convert:hover {\n",
              "      background-color: #E2EBFA;\n",
              "      box-shadow: 0px 1px 2px rgba(60, 64, 67, 0.3), 0px 1px 3px 1px rgba(60, 64, 67, 0.15);\n",
              "      fill: #174EA6;\n",
              "    }\n",
              "\n",
              "    [theme=dark] .colab-df-convert {\n",
              "      background-color: #3B4455;\n",
              "      fill: #D2E3FC;\n",
              "    }\n",
              "\n",
              "    [theme=dark] .colab-df-convert:hover {\n",
              "      background-color: #434B5C;\n",
              "      box-shadow: 0px 1px 3px 1px rgba(0, 0, 0, 0.15);\n",
              "      filter: drop-shadow(0px 1px 2px rgba(0, 0, 0, 0.3));\n",
              "      fill: #FFFFFF;\n",
              "    }\n",
              "  </style>\n",
              "\n",
              "      <script>\n",
              "        const buttonEl =\n",
              "          document.querySelector('#df-0bb786cd-f0ee-44c8-b008-16eecea112fa button.colab-df-convert');\n",
              "        buttonEl.style.display =\n",
              "          google.colab.kernel.accessAllowed ? 'block' : 'none';\n",
              "\n",
              "        async function convertToInteractive(key) {\n",
              "          const element = document.querySelector('#df-0bb786cd-f0ee-44c8-b008-16eecea112fa');\n",
              "          const dataTable =\n",
              "            await google.colab.kernel.invokeFunction('convertToInteractive',\n",
              "                                                     [key], {});\n",
              "          if (!dataTable) return;\n",
              "\n",
              "          const docLinkHtml = 'Like what you see? Visit the ' +\n",
              "            '<a target=\"_blank\" href=https://colab.research.google.com/notebooks/data_table.ipynb>data table notebook</a>'\n",
              "            + ' to learn more about interactive tables.';\n",
              "          element.innerHTML = '';\n",
              "          dataTable['output_type'] = 'display_data';\n",
              "          await google.colab.output.renderOutput(dataTable, element);\n",
              "          const docLink = document.createElement('div');\n",
              "          docLink.innerHTML = docLinkHtml;\n",
              "          element.appendChild(docLink);\n",
              "        }\n",
              "      </script>\n",
              "    </div>\n",
              "  </div>\n",
              "  "
            ]
          },
          "metadata": {}
        }
      ],
      "source": [
        "# print(count of each Levenshtein distance)\n",
        "dists = np.unique(np.int32(distances_arr(split='test', fused=True, case=2)), return_counts=True)[0]\n",
        "couts = np.unique(np.int32(distances_arr(split='test', fused=True, case=2)), return_counts=True)[1]\n",
        "display(pd.DataFrame({'Distance': dists, 'Counts': couts}))"
      ]
    },
    {
      "cell_type": "code",
      "source": [
        "distances = distances_arr(split='test', fused=True, case=2)"
      ],
      "metadata": {
        "id": "Ia71wTDZhPYP"
      },
      "execution_count": 57,
      "outputs": []
    },
    {
      "cell_type": "code",
      "execution_count": 58,
      "metadata": {
        "id": "TrrLyiFts7uJ"
      },
      "outputs": [],
      "source": [
        "# group by each distance value\n",
        "zero_distance_indexes = np.where(distances==0)[0]\n",
        "one_distance_indexes = np.where(distances==1)[0]\n",
        "two_distance_indexes = np.where(distances==2)[0]\n",
        "three_distance_indexes = np.where(distances==3)[0]\n",
        "four_distance_indexes = np.where(distances==4)[0]\n",
        "five_distance_indexes = np.where(distances==5)[0]"
      ]
    },
    {
      "cell_type": "markdown",
      "metadata": {
        "id": "7eVn4CSyzDkg"
      },
      "source": [
        "## Zero Levenshtein Distance (Perfect Match) "
      ]
    },
    {
      "cell_type": "code",
      "execution_count": 59,
      "metadata": {
        "id": "Dh31VsHUs7we"
      },
      "outputs": [],
      "source": [
        "# extract a list of the plural forms\n",
        "zero_distance_plural = test_df.iloc[zero_distance_indexes, -1].values.tolist()"
      ]
    },
    {
      "cell_type": "code",
      "execution_count": 60,
      "metadata": {
        "colab": {
          "base_uri": "https://localhost:8080/"
        },
        "id": "w0grLslls7y6",
        "outputId": "5c2f6eaf-502b-47df-c6dc-e9ddb6a714e7"
      },
      "outputs": [
        {
          "output_type": "stream",
          "name": "stdout",
          "text": [
            "Number of feminine examples: 160\n",
            "Number of masculine examples: 19\n",
            "Number of takseer examples: 45\n"
          ]
        }
      ],
      "source": [
        "# count the masculine, feminine, and takseer forms based on the word endings\n",
        "feminine_counts = 0\n",
        "masculine_counts = 0\n",
        "takseer_counts = 0\n",
        "\n",
        "# create lists to collect their indexes\n",
        "feminine_indexes = []\n",
        "masculine_indexes = []\n",
        "takseer_indexes = []\n",
        "\n",
        "# go over each word and check whether it is masculine, feminine, or takseer\n",
        "for i, word in enumerate(zero_distance_plural):\n",
        "  if word[-2:] == 'ات':\n",
        "    feminine_counts += 1\n",
        "    feminine_indexes.append(i)\n",
        "  elif word[-2:] == 'ين':\n",
        "    masculine_counts += 1\n",
        "    masculine_indexes.append(i)\n",
        "  else:\n",
        "    takseer_counts += 1\n",
        "    takseer_indexes.append(i)\n",
        "\n",
        "print('Number of feminine examples:', feminine_counts)\n",
        "print('Number of masculine examples:', masculine_counts)\n",
        "print('Number of takseer examples:', takseer_counts)"
      ]
    },
    {
      "cell_type": "code",
      "execution_count": 61,
      "metadata": {
        "colab": {
          "base_uri": "https://localhost:8080/"
        },
        "id": "48zzvBKys71J",
        "outputId": "ed993008-d019-4b1d-d879-bd9b8edf482f"
      },
      "outputs": [
        {
          "output_type": "stream",
          "name": "stdout",
          "text": [
            "No word in the validation set is in the training set\n"
          ]
        }
      ],
      "source": [
        "# retrieving takseer examples\n",
        "takseer_examples = [zero_distance_plural[i] for i in takseer_indexes]\n",
        "\n",
        "# ensure all takseer examples are not in the training set\n",
        "counts = 0\n",
        "for word in takseer_examples:\n",
        "  if (word in train_df.iloc[:, -1].values.tolist()):\n",
        "    print(f\"{word} is in training set\")\n",
        "    counts += 1\n",
        "if counts == 0:\n",
        "  print(\"No word in the validation set is in the training set\")\n",
        "else:\n",
        "  print('*'*50)\n",
        "  print(f\"{counts} out of {takseer_counts} words is/are in the training set\")"
      ]
    },
    {
      "cell_type": "code",
      "execution_count": 62,
      "metadata": {
        "colab": {
          "base_uri": "https://localhost:8080/"
        },
        "id": "NHt6Bguhxkvv",
        "outputId": "8967ee0b-07e8-4568-d316-0fa17de61fec"
      },
      "outputs": [
        {
          "output_type": "stream",
          "name": "stdout",
          "text": [
            "تقنيات is in training set\n",
            "تشكيلات is in training set\n",
            "مجتمعات is in training set\n",
            "مساعدات is in training set\n",
            "مقررات is in training set\n",
            "**************************************************\n",
            "5 out of 160 words is/are in the training set\n"
          ]
        }
      ],
      "source": [
        "# retrieving feminine examples\n",
        "feminine_examples = [zero_distance_plural[i] for i in feminine_indexes]\n",
        "\n",
        "# ensure all feminine examples are not in the training set\n",
        "counts = 0\n",
        "for word in feminine_examples:\n",
        "  if (word in train_df.iloc[:, -1].values.tolist()):\n",
        "    print(f\"{word} is in training set\")\n",
        "    counts += 1\n",
        "if counts == 0:\n",
        "  print(\"No word in the validation set is in the training set\")\n",
        "else:\n",
        "  print('*'*50)\n",
        "  print(f\"{counts} out of {feminine_counts} words is/are in the training set\")"
      ]
    },
    {
      "cell_type": "code",
      "execution_count": 63,
      "metadata": {
        "colab": {
          "base_uri": "https://localhost:8080/"
        },
        "id": "pj6VWunWxkx2",
        "outputId": "a7355aa3-8e62-4c63-9e0e-45502da6d50a"
      },
      "outputs": [
        {
          "output_type": "stream",
          "name": "stdout",
          "text": [
            "متهمين is in training set\n",
            "**************************************************\n",
            "1 out of 19 words is/are in the training set\n"
          ]
        }
      ],
      "source": [
        "# retrieving masculine examples\n",
        "masculine_examples = [zero_distance_plural[i] for i in masculine_indexes]\n",
        "\n",
        "# ensure all masculine examples are not in the training set\n",
        "counts = 0\n",
        "for word in masculine_examples:\n",
        "  if (word in train_df.iloc[:, -1].values.tolist()):\n",
        "    print(f\"{word} is in training set\")\n",
        "    counts += 1\n",
        "if counts == 0:\n",
        "  print(\"No word in the validation set is in the training set\")\n",
        "else:\n",
        "  print('*'*50)\n",
        "  print(f\"{counts} out of {masculine_counts} words is/are in the training set\")"
      ]
    },
    {
      "cell_type": "markdown",
      "metadata": {
        "id": "4QgeEZs5zwoo"
      },
      "source": [
        "## One Levenshtein Distance"
      ]
    },
    {
      "cell_type": "code",
      "execution_count": 64,
      "metadata": {
        "id": "2bZoZ9dpz6po"
      },
      "outputs": [],
      "source": [
        "# extract a list of the plural forms\n",
        "one_distance_plural = test_df.iloc[one_distance_indexes, -1].values.tolist()"
      ]
    },
    {
      "cell_type": "code",
      "execution_count": 65,
      "metadata": {
        "colab": {
          "base_uri": "https://localhost:8080/"
        },
        "id": "ylKy6fu8z19K",
        "outputId": "59d0ce3a-1cec-4b4e-b59e-6dd39cd9053c"
      },
      "outputs": [
        {
          "output_type": "stream",
          "name": "stdout",
          "text": [
            "Number of feminine examples: 29\n",
            "Number of masculine examples: 5\n",
            "Number of takseer examples: 29\n"
          ]
        }
      ],
      "source": [
        "# count the masculine, feminine, and takseer forms based on the word endings\n",
        "feminine_counts = 0\n",
        "masculine_counts = 0\n",
        "takseer_counts = 0\n",
        "\n",
        "# create lists to collect their indexes\n",
        "feminine_indexes = []\n",
        "masculine_indexes = []\n",
        "takseer_indexes = []\n",
        "\n",
        "# go over each word and check whether it is masculine, feminine, or takseer\n",
        "for i, word in enumerate(one_distance_plural):\n",
        "  if word[-2:] == 'ات':\n",
        "    feminine_counts += 1\n",
        "    feminine_indexes.append(i)\n",
        "  elif word[-2:] == 'ين':\n",
        "    masculine_counts += 1\n",
        "    masculine_indexes.append(i)\n",
        "  else:\n",
        "    takseer_counts += 1\n",
        "    takseer_indexes.append(i)\n",
        "\n",
        "print('Number of feminine examples:', feminine_counts)\n",
        "print('Number of masculine examples:', masculine_counts)\n",
        "print('Number of takseer examples:', takseer_counts)"
      ]
    },
    {
      "cell_type": "code",
      "execution_count": 66,
      "metadata": {
        "colab": {
          "base_uri": "https://localhost:8080/"
        },
        "id": "HmGjZia7z19L",
        "outputId": "52978b99-a9a9-4cff-d24e-206aa2d7e60f"
      },
      "outputs": [
        {
          "output_type": "stream",
          "name": "stdout",
          "text": [
            "منشآت is in training set\n",
            "**************************************************\n",
            "1 out of 29 words is/are in the training set\n"
          ]
        }
      ],
      "source": [
        "# retrieving takseer examples\n",
        "takseer_examples = [one_distance_plural[i] for i in takseer_indexes]\n",
        "\n",
        "# ensure all takseer examples are not in the training set\n",
        "counts = 0\n",
        "for word in takseer_examples:\n",
        "  if (word in train_df.iloc[:, -1].values.tolist()):\n",
        "    print(f\"{word} is in training set\")\n",
        "    counts += 1\n",
        "if counts == 0:\n",
        "  print(\"No word in the validation set is in the training set\")\n",
        "else:\n",
        "  print('*'*50)\n",
        "  print(f\"{counts} out of {takseer_counts} words is/are in the training set\")"
      ]
    },
    {
      "cell_type": "code",
      "execution_count": 67,
      "metadata": {
        "colab": {
          "base_uri": "https://localhost:8080/"
        },
        "id": "9eFjs8Ghz19L",
        "outputId": "25f8c82d-78a3-44d9-ce1a-abefc77d06de"
      },
      "outputs": [
        {
          "output_type": "stream",
          "name": "stdout",
          "text": [
            "إستراتيجيات is in training set\n",
            "**************************************************\n",
            "1 out of 29 words is/are in the training set\n"
          ]
        }
      ],
      "source": [
        "# retrieving feminine examples\n",
        "feminine_examples = [one_distance_plural[i] for i in feminine_indexes]\n",
        "\n",
        "# ensure all feminine examples are not in the training set\n",
        "counts = 0\n",
        "for word in feminine_examples:\n",
        "  if (word in train_df.iloc[:, -1].values.tolist()):\n",
        "    print(f\"{word} is in training set\")\n",
        "    counts += 1\n",
        "if counts == 0:\n",
        "  print(\"No word in the validation set is in the training set\")\n",
        "else:\n",
        "  print('*'*50)\n",
        "  print(f\"{counts} out of {feminine_counts} words is/are in the training set\")"
      ]
    },
    {
      "cell_type": "code",
      "execution_count": 68,
      "metadata": {
        "colab": {
          "base_uri": "https://localhost:8080/"
        },
        "id": "C03LM1dtz19L",
        "outputId": "4617f07e-919e-4f83-fafe-73d3f7e2d3ca"
      },
      "outputs": [
        {
          "output_type": "stream",
          "name": "stdout",
          "text": [
            "No word in the validation set is in the training set\n"
          ]
        }
      ],
      "source": [
        "# retrieving masculine examples\n",
        "masculine_examples = [one_distance_plural[i] for i in masculine_indexes]\n",
        "\n",
        "# ensure all masculine examples are not in the training set\n",
        "counts = 0\n",
        "for word in masculine_examples:\n",
        "  if (word in train_df.iloc[:, -1].values.tolist()):\n",
        "    print(f\"{word} is in training set\")\n",
        "    counts += 1\n",
        "if counts == 0:\n",
        "  print(\"No word in the validation set is in the training set\")\n",
        "else:\n",
        "  print('*'*50)\n",
        "  print(f\"{counts} out of {masculine_counts} words is/are in the training set\")"
      ]
    },
    {
      "cell_type": "markdown",
      "metadata": {
        "id": "sNxkWXs90UIJ"
      },
      "source": [
        "## Two Levenshtein Distance"
      ]
    },
    {
      "cell_type": "code",
      "execution_count": 69,
      "metadata": {
        "id": "uKMBr39S0UIK"
      },
      "outputs": [],
      "source": [
        "# extract a list of the plural forms\n",
        "two_distance_plural = test_df.iloc[two_distance_indexes, -1].values.tolist()"
      ]
    },
    {
      "cell_type": "code",
      "execution_count": 70,
      "metadata": {
        "colab": {
          "base_uri": "https://localhost:8080/"
        },
        "id": "1f6OANmf0UIL",
        "outputId": "0d95c0b0-8ffd-4adf-f806-21128da1187d"
      },
      "outputs": [
        {
          "output_type": "stream",
          "name": "stdout",
          "text": [
            "Number of feminine examples: 35\n",
            "Number of masculine examples: 23\n",
            "Number of takseer examples: 106\n"
          ]
        }
      ],
      "source": [
        "# count the masculine, feminine, and takseer forms based on the word endings\n",
        "feminine_counts = 0\n",
        "masculine_counts = 0\n",
        "takseer_counts = 0\n",
        "\n",
        "# create lists to collect their indexes\n",
        "feminine_indexes = []\n",
        "masculine_indexes = []\n",
        "takseer_indexes = []\n",
        "\n",
        "# go over each word and check whether it is masculine, feminine, or takseer\n",
        "for i, word in enumerate(two_distance_plural):\n",
        "  if word[-2:] == 'ات':\n",
        "    feminine_counts += 1\n",
        "    feminine_indexes.append(i)\n",
        "  elif word[-2:] == 'ين':\n",
        "    masculine_counts += 1\n",
        "    masculine_indexes.append(i)\n",
        "  else:\n",
        "    takseer_counts += 1\n",
        "    takseer_indexes.append(i)\n",
        "\n",
        "print('Number of feminine examples:', feminine_counts)\n",
        "print('Number of masculine examples:', masculine_counts)\n",
        "print('Number of takseer examples:', takseer_counts)"
      ]
    },
    {
      "cell_type": "code",
      "execution_count": 71,
      "metadata": {
        "colab": {
          "base_uri": "https://localhost:8080/"
        },
        "id": "sF6iUdzO0UIM",
        "outputId": "a02ee12b-db5e-48e4-e0cf-265dd5a96d9b"
      },
      "outputs": [
        {
          "output_type": "stream",
          "name": "stdout",
          "text": [
            "عموم is in training set\n",
            "أعلام is in training set\n",
            "**************************************************\n",
            "2 out of 106 words is/are in the training set\n"
          ]
        }
      ],
      "source": [
        "# retrieving takseer examples\n",
        "takseer_examples = [two_distance_plural[i] for i in takseer_indexes]\n",
        "\n",
        "# ensure all takseer examples are not in the training set\n",
        "counts = 0\n",
        "for word in takseer_examples:\n",
        "  if (word in train_df.iloc[:, -1].values.tolist()):\n",
        "    print(f\"{word} is in training set\")\n",
        "    counts += 1\n",
        "if counts == 0:\n",
        "  print(\"No word in the validation set is in the training set\")\n",
        "else:\n",
        "  print('*'*50)\n",
        "  print(f\"{counts} out of {takseer_counts} words is/are in the training set\")"
      ]
    },
    {
      "cell_type": "code",
      "execution_count": 72,
      "metadata": {
        "colab": {
          "base_uri": "https://localhost:8080/"
        },
        "id": "aRvkNU2b0UIN",
        "outputId": "6076d464-c5d5-4cd4-f668-0eb930f514a3"
      },
      "outputs": [
        {
          "output_type": "stream",
          "name": "stdout",
          "text": [
            "ضمانات is in training set\n",
            "تقديمات is in training set\n",
            "**************************************************\n",
            "2 out of 35 words is/are in the training set\n"
          ]
        }
      ],
      "source": [
        "# retrieving feminine examples\n",
        "feminine_examples = [two_distance_plural[i] for i in feminine_indexes]\n",
        "\n",
        "# ensure all feminine examples are not in the training set\n",
        "counts = 0\n",
        "for word in feminine_examples:\n",
        "  if (word in train_df.iloc[:, -1].values.tolist()):\n",
        "    print(f\"{word} is in training set\")\n",
        "    counts += 1\n",
        "if counts == 0:\n",
        "  print(\"No word in the validation set is in the training set\")\n",
        "else:\n",
        "  print('*'*50)\n",
        "  print(f\"{counts} out of {feminine_counts} words is/are in the training set\")"
      ]
    },
    {
      "cell_type": "code",
      "execution_count": 73,
      "metadata": {
        "colab": {
          "base_uri": "https://localhost:8080/"
        },
        "id": "fQ3pUCna0UIO",
        "outputId": "620b7bf1-2446-4e02-fa28-a852b6feb746"
      },
      "outputs": [
        {
          "output_type": "stream",
          "name": "stdout",
          "text": [
            "No word in the validation set is in the training set\n"
          ]
        }
      ],
      "source": [
        "# retrieving masculine examples\n",
        "masculine_examples = [two_distance_plural[i] for i in masculine_indexes]\n",
        "\n",
        "# ensure all masculine examples are not in the training set\n",
        "counts = 0\n",
        "for word in masculine_examples:\n",
        "  if (word in train_df.iloc[:, -1].values.tolist()):\n",
        "    print(f\"{word} is in training set\")\n",
        "    counts += 1\n",
        "if counts == 0:\n",
        "  print(\"No word in the validation set is in the training set\")\n",
        "else:\n",
        "  print('*'*50)\n",
        "  print(f\"{counts} out of {masculine_counts} words is/are in the training set\")"
      ]
    },
    {
      "cell_type": "markdown",
      "metadata": {
        "id": "9HR3FycN0jTG"
      },
      "source": [
        "## Three Levenshtein Distance"
      ]
    },
    {
      "cell_type": "code",
      "execution_count": 74,
      "metadata": {
        "id": "JKIwBaji0jTH"
      },
      "outputs": [],
      "source": [
        "# extract a list of the plural forms\n",
        "three_distance_plural = test_df.iloc[three_distance_indexes, -1].values.tolist()"
      ]
    },
    {
      "cell_type": "code",
      "execution_count": 75,
      "metadata": {
        "colab": {
          "base_uri": "https://localhost:8080/"
        },
        "id": "Lmu73ygu0jTH",
        "outputId": "38cd2ae1-8aea-4c2f-ceb7-7f3331a2d4bd"
      },
      "outputs": [
        {
          "output_type": "stream",
          "name": "stdout",
          "text": [
            "Number of feminine examples: 21\n",
            "Number of masculine examples: 11\n",
            "Number of takseer examples: 69\n"
          ]
        }
      ],
      "source": [
        "# count the masculine, feminine, and takseer forms based on the word endings\n",
        "feminine_counts = 0\n",
        "masculine_counts = 0\n",
        "takseer_counts = 0\n",
        "\n",
        "# create lists to collect their indexes\n",
        "feminine_indexes = []\n",
        "masculine_indexes = []\n",
        "takseer_indexes = []\n",
        "\n",
        "# go over each word and check whether it is masculine, feminine, or takseer\n",
        "for i, word in enumerate(three_distance_plural):\n",
        "  if word[-2:] == 'ات':\n",
        "    feminine_counts += 1\n",
        "    feminine_indexes.append(i)\n",
        "  elif word[-2:] == 'ين':\n",
        "    masculine_counts += 1\n",
        "    masculine_indexes.append(i)\n",
        "  else:\n",
        "    takseer_counts += 1\n",
        "    takseer_indexes.append(i)\n",
        "\n",
        "print('Number of feminine examples:', feminine_counts)\n",
        "print('Number of masculine examples:', masculine_counts)\n",
        "print('Number of takseer examples:', takseer_counts)"
      ]
    },
    {
      "cell_type": "code",
      "execution_count": 76,
      "metadata": {
        "colab": {
          "base_uri": "https://localhost:8080/"
        },
        "id": "qFHAwTRm0jTH",
        "outputId": "db423890-e705-4d2f-af1d-ee200c62d322"
      },
      "outputs": [
        {
          "output_type": "stream",
          "name": "stdout",
          "text": [
            "No word in the validation set is in the training set\n"
          ]
        }
      ],
      "source": [
        "# retrieving takseer examples\n",
        "takseer_examples = [three_distance_plural[i] for i in takseer_indexes]\n",
        "\n",
        "# ensure all takseer examples are not in the training set\n",
        "counts = 0\n",
        "for word in takseer_examples:\n",
        "  if (word in train_df.iloc[:, -1].values.tolist()):\n",
        "    print(f\"{word} is in training set\")\n",
        "    counts += 1\n",
        "if counts == 0:\n",
        "  print(\"No word in the validation set is in the training set\")\n",
        "else:\n",
        "  print('*'*50)\n",
        "  print(f\"{counts} out of {takseer_counts} words is/are in the training set\")"
      ]
    },
    {
      "cell_type": "code",
      "execution_count": 77,
      "metadata": {
        "colab": {
          "base_uri": "https://localhost:8080/"
        },
        "id": "VpNuR4To0jTI",
        "outputId": "c6c14a90-e8e2-483b-cb1c-b67ad5a06db2"
      },
      "outputs": [
        {
          "output_type": "stream",
          "name": "stdout",
          "text": [
            "لوحات is in training set\n",
            "**************************************************\n",
            "1 out of 21 words is/are in the training set\n"
          ]
        }
      ],
      "source": [
        "# retrieving feminine examples\n",
        "feminine_examples = [three_distance_plural[i] for i in feminine_indexes]\n",
        "\n",
        "# ensure all feminine examples are not in the training set\n",
        "counts = 0\n",
        "for word in feminine_examples:\n",
        "  if (word in train_df.iloc[:, -1].values.tolist()):\n",
        "    print(f\"{word} is in training set\")\n",
        "    counts += 1\n",
        "if counts == 0:\n",
        "  print(\"No word in the validation set is in the training set\")\n",
        "else:\n",
        "  print('*'*50)\n",
        "  print(f\"{counts} out of {feminine_counts} words is/are in the training set\")"
      ]
    },
    {
      "cell_type": "code",
      "execution_count": 78,
      "metadata": {
        "colab": {
          "base_uri": "https://localhost:8080/"
        },
        "id": "0qRmnHRg0jTI",
        "outputId": "55268a72-86d7-47d4-dcb7-092164fd6dc5"
      },
      "outputs": [
        {
          "output_type": "stream",
          "name": "stdout",
          "text": [
            "No word in the validation set is in the training set\n"
          ]
        }
      ],
      "source": [
        "# retrieving masculine examples\n",
        "masculine_examples = [three_distance_plural[i] for i in masculine_indexes]\n",
        "\n",
        "# ensure all masculine examples are not in the training set\n",
        "counts = 0\n",
        "for word in masculine_examples:\n",
        "  if (word in train_df.iloc[:, -1].values.tolist()):\n",
        "    print(f\"{word} is in training set\")\n",
        "    counts += 1\n",
        "if counts == 0:\n",
        "  print(\"No word in the validation set is in the training set\")\n",
        "else:\n",
        "  print('*'*50)\n",
        "  print(f\"{counts} out of {masculine_counts} words is/are in the training set\")"
      ]
    },
    {
      "cell_type": "markdown",
      "metadata": {
        "id": "b8S63w9303eK"
      },
      "source": [
        "## Four Levenshtein Distance"
      ]
    },
    {
      "cell_type": "code",
      "execution_count": 79,
      "metadata": {
        "id": "aUIjdwSu03eK"
      },
      "outputs": [],
      "source": [
        "# extract a list of the plural forms\n",
        "four_distance_plural = test_df.iloc[four_distance_indexes, -1].values.tolist()"
      ]
    },
    {
      "cell_type": "code",
      "execution_count": 80,
      "metadata": {
        "colab": {
          "base_uri": "https://localhost:8080/"
        },
        "id": "bGLg64F303eK",
        "outputId": "7672d139-c1c4-48a0-e074-6eeeadffe1c0"
      },
      "outputs": [
        {
          "output_type": "stream",
          "name": "stdout",
          "text": [
            "Number of feminine examples: 9\n",
            "Number of masculine examples: 4\n",
            "Number of takseer examples: 28\n"
          ]
        }
      ],
      "source": [
        "# count the masculine, feminine, and takseer forms based on the word endings\n",
        "feminine_counts = 0\n",
        "masculine_counts = 0\n",
        "takseer_counts = 0\n",
        "\n",
        "# create lists to collect their indexes\n",
        "feminine_indexes = []\n",
        "masculine_indexes = []\n",
        "takseer_indexes = []\n",
        "\n",
        "# go over each word and check whether it is masculine, feminine, or takseer\n",
        "for i, word in enumerate(four_distance_plural):\n",
        "  if word[-2:] == 'ات':\n",
        "    feminine_counts += 1\n",
        "    feminine_indexes.append(i)\n",
        "  elif word[-2:] == 'ين':\n",
        "    masculine_counts += 1\n",
        "    masculine_indexes.append(i)\n",
        "  else:\n",
        "    takseer_counts += 1\n",
        "    takseer_indexes.append(i)\n",
        "\n",
        "print('Number of feminine examples:', feminine_counts)\n",
        "print('Number of masculine examples:', masculine_counts)\n",
        "print('Number of takseer examples:', takseer_counts)"
      ]
    },
    {
      "cell_type": "code",
      "execution_count": 81,
      "metadata": {
        "colab": {
          "base_uri": "https://localhost:8080/"
        },
        "id": "eicMkxpU03eK",
        "outputId": "5f983e8d-4299-49da-81c5-e78a61a3ee02"
      },
      "outputs": [
        {
          "output_type": "stream",
          "name": "stdout",
          "text": [
            "No word in the validation set is in the training set\n"
          ]
        }
      ],
      "source": [
        "# retrieving takseer examples\n",
        "takseer_examples = [four_distance_plural[i] for i in takseer_indexes]\n",
        "\n",
        "# ensure all takseer examples are not in the training set\n",
        "counts = 0\n",
        "for word in takseer_examples:\n",
        "  if (word in train_df.iloc[:, -1].values.tolist()):\n",
        "    print(f\"{word} is in training set\")\n",
        "    counts += 1\n",
        "if counts == 0:\n",
        "  print(\"No word in the validation set is in the training set\")\n",
        "else:\n",
        "  print('*'*50)\n",
        "  print(f\"{counts} out of {takseer_counts} words is/are in the training set\")"
      ]
    },
    {
      "cell_type": "code",
      "execution_count": 82,
      "metadata": {
        "colab": {
          "base_uri": "https://localhost:8080/"
        },
        "id": "Y1wUS9T103eL",
        "outputId": "231dca5f-787a-434f-99a4-6f4331eab755"
      },
      "outputs": [
        {
          "output_type": "stream",
          "name": "stdout",
          "text": [
            "No word in the validation set is in the training set\n"
          ]
        }
      ],
      "source": [
        "# retrieving feminine examples\n",
        "feminine_examples = [four_distance_plural[i] for i in feminine_indexes]\n",
        "\n",
        "# ensure all feminine examples are not in the training set\n",
        "counts = 0\n",
        "for word in feminine_examples:\n",
        "  if (word in train_df.iloc[:, -1].values.tolist()):\n",
        "    print(f\"{word} is in training set\")\n",
        "    counts += 1\n",
        "if counts == 0:\n",
        "  print(\"No word in the validation set is in the training set\")\n",
        "else:\n",
        "  print('*'*50)\n",
        "  print(f\"{counts} out of {feminine_counts} words is/are in the training set\")"
      ]
    },
    {
      "cell_type": "code",
      "execution_count": 83,
      "metadata": {
        "colab": {
          "base_uri": "https://localhost:8080/"
        },
        "id": "BIL5_Wzp03eL",
        "outputId": "0f14cd0e-d600-42cf-a1e2-c06f44e65a93"
      },
      "outputs": [
        {
          "output_type": "stream",
          "name": "stdout",
          "text": [
            "No word in the validation set is in the training set\n"
          ]
        }
      ],
      "source": [
        "# retrieving masculine examples\n",
        "masculine_examples = [four_distance_plural[i] for i in masculine_indexes]\n",
        "\n",
        "# ensure all masculine examples are not in the training set\n",
        "counts = 0\n",
        "for word in masculine_examples:\n",
        "  if (word in train_df.iloc[:, -1].values.tolist()):\n",
        "    print(f\"{word} is in training set\")\n",
        "    counts += 1\n",
        "if counts == 0:\n",
        "  print(\"No word in the validation set is in the training set\")\n",
        "else:\n",
        "  print('*'*50)\n",
        "  print(f\"{counts} out of {masculine_counts} words is/are in the training set\")"
      ]
    },
    {
      "cell_type": "markdown",
      "metadata": {
        "id": "--ewUo5u1TpE"
      },
      "source": [
        "## Five Levenshtein Distance"
      ]
    },
    {
      "cell_type": "code",
      "execution_count": 84,
      "metadata": {
        "id": "Xlc76GWs1TpP"
      },
      "outputs": [],
      "source": [
        "# extract a list of the plural forms\n",
        "five_distance_plural = test_df.iloc[five_distance_indexes, -1].values.tolist()"
      ]
    },
    {
      "cell_type": "code",
      "execution_count": 85,
      "metadata": {
        "colab": {
          "base_uri": "https://localhost:8080/"
        },
        "id": "OZ2rVLKL1TpP",
        "outputId": "bf50ad76-64e7-41e4-aea4-bb59fa4540b3"
      },
      "outputs": [
        {
          "output_type": "stream",
          "name": "stdout",
          "text": [
            "Number of feminine examples: 2\n",
            "Number of masculine examples: 2\n",
            "Number of takseer examples: 3\n"
          ]
        }
      ],
      "source": [
        "# count the masculine, feminine, and takseer forms based on the word endings\n",
        "feminine_counts = 0\n",
        "masculine_counts = 0\n",
        "takseer_counts = 0\n",
        "\n",
        "# create lists to collect their indexes\n",
        "feminine_indexes = []\n",
        "masculine_indexes = []\n",
        "takseer_indexes = []\n",
        "\n",
        "# go over each word and check whether it is masculine, feminine, or takseer\n",
        "for i, word in enumerate(five_distance_plural):\n",
        "  if word[-2:] == 'ات':\n",
        "    feminine_counts += 1\n",
        "    feminine_indexes.append(i)\n",
        "  elif word[-2:] == 'ين':\n",
        "    masculine_counts += 1\n",
        "    masculine_indexes.append(i)\n",
        "  else:\n",
        "    takseer_counts += 1\n",
        "    takseer_indexes.append(i)\n",
        "\n",
        "print('Number of feminine examples:', feminine_counts)\n",
        "print('Number of masculine examples:', masculine_counts)\n",
        "print('Number of takseer examples:', takseer_counts)"
      ]
    },
    {
      "cell_type": "code",
      "execution_count": 86,
      "metadata": {
        "colab": {
          "base_uri": "https://localhost:8080/"
        },
        "id": "xq6bL16L1TpQ",
        "outputId": "d1be2d7e-7771-4281-e718-3cdc344a2c7f"
      },
      "outputs": [
        {
          "output_type": "stream",
          "name": "stdout",
          "text": [
            "No word in the validation set is in the training set\n"
          ]
        }
      ],
      "source": [
        "# retrieving takseer examples\n",
        "takseer_examples = [five_distance_plural[i] for i in takseer_indexes]\n",
        "\n",
        "# ensure all takseer examples are not in the training set\n",
        "counts = 0\n",
        "for word in takseer_examples:\n",
        "  if (word in train_df.iloc[:, -1].values.tolist()):\n",
        "    print(f\"{word} is in training set\")\n",
        "    counts += 1\n",
        "if counts == 0:\n",
        "  print(\"No word in the validation set is in the training set\")\n",
        "else:\n",
        "  print('*'*50)\n",
        "  print(f\"{counts} out of {takseer_counts} words is/are in the training set\")"
      ]
    },
    {
      "cell_type": "code",
      "execution_count": 87,
      "metadata": {
        "colab": {
          "base_uri": "https://localhost:8080/"
        },
        "id": "ayXq-nKS1TpQ",
        "outputId": "d687e8ed-377e-46fa-8451-4161e155effb"
      },
      "outputs": [
        {
          "output_type": "stream",
          "name": "stdout",
          "text": [
            "No word in the validation set is in the training set\n"
          ]
        }
      ],
      "source": [
        "# retrieving feminine examples\n",
        "feminine_examples = [five_distance_plural[i] for i in feminine_indexes]\n",
        "\n",
        "# ensure all feminine examples are not in the training set\n",
        "counts = 0\n",
        "for word in feminine_examples:\n",
        "  if (word in train_df.iloc[:, -1].values.tolist()):\n",
        "    print(f\"{word} is in training set\")\n",
        "    counts += 1\n",
        "if counts == 0:\n",
        "  print(\"No word in the validation set is in the training set\")\n",
        "else:\n",
        "  print('*'*50)\n",
        "  print(f\"{counts} out of {feminine_counts} words is/are in the training set\")"
      ]
    },
    {
      "cell_type": "code",
      "execution_count": 88,
      "metadata": {
        "colab": {
          "base_uri": "https://localhost:8080/"
        },
        "id": "3Wh5nnPx1TpQ",
        "outputId": "be5ce3d2-585e-4a7c-8327-5b93a49a54ed"
      },
      "outputs": [
        {
          "output_type": "stream",
          "name": "stdout",
          "text": [
            "No word in the validation set is in the training set\n"
          ]
        }
      ],
      "source": [
        "# retrieving masculine examples\n",
        "masculine_examples = [five_distance_plural[i] for i in masculine_indexes]\n",
        "\n",
        "# ensure all masculine examples are not in the training set\n",
        "counts = 0\n",
        "for word in masculine_examples:\n",
        "  if (word in train_df.iloc[:, -1].values.tolist()):\n",
        "    print(f\"{word} is in training set\")\n",
        "    counts += 1\n",
        "if counts == 0:\n",
        "  print(\"No word in the validation set is in the training set\")\n",
        "else:\n",
        "  print('*'*50)\n",
        "  print(f\"{counts} out of {masculine_counts} words is/are in the training set\")"
      ]
    },
    {
      "cell_type": "markdown",
      "metadata": {
        "id": "DDCFpho88JS3"
      },
      "source": [
        "## Visualization"
      ]
    },
    {
      "cell_type": "code",
      "execution_count": 89,
      "metadata": {
        "id": "gdzwU3hs8sRk"
      },
      "outputs": [],
      "source": [
        "# create a dictionary that contains the examples of each distance value\n",
        "dict_ = dict()\n",
        "dict_['zero_distance_plural'] = test_df.iloc[zero_distance_indexes, -1].values.tolist()\n",
        "dict_['one_distance_plural'] = test_df.iloc[one_distance_indexes, -1].values.tolist()\n",
        "dict_['two_distance_plural'] = test_df.iloc[two_distance_indexes, -1].values.tolist()\n",
        "dict_['three_distance_plural'] = test_df.iloc[three_distance_indexes, -1].values.tolist()\n",
        "dict_['four_distance_plural'] = test_df.iloc[four_distance_indexes, -1].values.tolist()\n",
        "dict_['five_distance_plural'] = test_df.iloc[five_distance_indexes, -1].values.tolist()\n",
        "\n",
        "# create a list to hold the counts across distances\n",
        "test_feminine_counts_list = []\n",
        "test_masculine_counts_list = []\n",
        "test_takseer_counts_list = []\n",
        "\n",
        "for key in [*dict_]:\n",
        "  # count the masculine, feminine, and takseer forms based on the word endings\n",
        "  feminine_counts = 0\n",
        "  masculine_counts = 0\n",
        "  takseer_counts = 0\n",
        "  # go over each word and check whether it is masculine, feminine, or takseer\n",
        "  for i, word in enumerate(dict_[key]):\n",
        "    if word[-2:] == 'ات':\n",
        "      feminine_counts += 1\n",
        "    elif word[-2:] == 'ين':\n",
        "      masculine_counts += 1\n",
        "    else:\n",
        "      takseer_counts += 1\n",
        "  # append counts for each category\n",
        "  test_feminine_counts_list.append(feminine_counts)\n",
        "  test_masculine_counts_list.append(masculine_counts)\n",
        "  test_takseer_counts_list.append(takseer_counts)"
      ]
    },
    {
      "cell_type": "markdown",
      "source": [
        "### Plot Valid + Test"
      ],
      "metadata": {
        "id": "8myMcza3hx47"
      }
    },
    {
      "cell_type": "code",
      "source": [
        "# plot a bar chart showing the distribution of the three classes in \n",
        "# distance value\n",
        "plt.figure(figsize=(16, 6), dpi=100)\n",
        "\n",
        "plt.subplot(1, 2, 1)\n",
        "X = list(range(6))\n",
        "X_axis = np.arange(len(X))\n",
        "  \n",
        "plt.bar(X_axis - 0.1, valid_feminine_counts_list, 0.2, label = 'Feminine', color='blue') # plum\n",
        "plt.bar(X_axis + 0.1, valid_masculine_counts_list, 0.2, label = 'Masculine', color='green') # steelblue\n",
        "plt.bar(X_axis + 0.3, valid_takseer_counts_list, 0.2, label = 'Irregular', color='orange') # darkgray\n",
        "\n",
        "  \n",
        "plt.xticks(X_axis, X)\n",
        "plt.xlabel(\"Levenshtein Distance\")\n",
        "plt.ylabel(\"Number of Words\")\n",
        "# plt.title(\"Number of Words in Each Distance Range\")\n",
        "plt.legend()\n",
        "plt.grid(linestyle='dashed', axis='y')\n",
        "plt.title('Validation Set')\n",
        "\n",
        "plt.subplot(1, 2, 2)\n",
        "X = list(range(6))\n",
        "X_axis = np.arange(len(X))\n",
        "  \n",
        "plt.bar(X_axis - 0.1, test_feminine_counts_list, 0.2, label = 'Feminine', color='blue')\n",
        "plt.bar(X_axis + 0.1, test_masculine_counts_list, 0.2, label = 'Masculine', color='green')\n",
        "plt.bar(X_axis + 0.3, test_takseer_counts_list, 0.2, label = 'Irregular', color='orange')\n",
        "\n",
        "  \n",
        "plt.xticks(X_axis, X)\n",
        "plt.xlabel(\"Levenshtein Distance\")\n",
        "plt.ylabel(\"Number of Words\")\n",
        "# plt.title(\"Number of Words in Each Distance Range\")\n",
        "plt.legend()\n",
        "plt.grid(linestyle='dashed', axis='y')\n",
        "plt.title('Test Set')\n",
        "plt.savefig('distance grouped by gender.png', dpi=100, bbox_inches='tight')"
      ],
      "metadata": {
        "colab": {
          "base_uri": "https://localhost:8080/",
          "height": 555
        },
        "id": "vd2wWd8lh2cJ",
        "outputId": "881d1f28-6068-4dde-91bc-fec7cc77b726"
      },
      "execution_count": 93,
      "outputs": [
        {
          "output_type": "display_data",
          "data": {
            "text/plain": [
              "<Figure size 1600x600 with 2 Axes>"
            ],
            "image/png": "[encoded data removed]"
          },
          "metadata": {
            "needs_background": "light"
          }
        }
      ]
    },
    {
      "cell_type": "markdown",
      "source": [
        "# Training Progress"
      ],
      "metadata": {
        "id": "U3RP3_3bZUt6"
      }
    },
    {
      "cell_type": "code",
      "source": [
        "# read the saved training progress dataset\n",
        "df = pd.read_csv('https://drive.google.com/uc?export=download&id=1-Hmh01q3QrUWQYaGirDJqJ0w-jBK5HJA')\n",
        "cols = df.columns.tolist()\n",
        "# rename the columns\n",
        "cols = ['Train Loss', 'Train Accuracy', 'Train Top 5 Accuracy',\n",
        "        'Valid Loss', 'Valid Accuracy', 'Valid Top 5 Accuracy']\n",
        "df.columns = cols\n",
        "df"
      ],
      "metadata": {
        "colab": {
          "base_uri": "https://localhost:8080/",
          "height": 424
        },
        "id": "K0tnqQfZiPMx",
        "outputId": "86fdfd60-9d26-4e2f-aa87-e74ca2ff9d70"
      },
      "execution_count": 94,
      "outputs": [
        {
          "output_type": "execute_result",
          "data": {
            "text/plain": [
              "    Train Loss  Train Accuracy  Train Top 5 Accuracy  Valid Loss  \\\n",
              "0   133.087745        0.059561              0.217868    4.527369   \n",
              "1   119.402622        0.084639              0.260972    5.136552   \n",
              "2   118.809530        0.096003              0.246082    5.127438   \n",
              "3   102.824297        0.139107              0.331897    5.043379   \n",
              "4    92.043885        0.158699              0.351881    5.024953   \n",
              "..         ...             ...                   ...         ...   \n",
              "95    1.144705        0.581113              0.601097    5.713322   \n",
              "96    1.133310        0.581505              0.601097    5.716127   \n",
              "97    1.122079        0.581897              0.601097    5.722394   \n",
              "98    1.110998        0.582680              0.601097    5.725244   \n",
              "99    1.100058        0.583072              0.601097    5.736572   \n",
              "\n",
              "    Valid Accuracy  Valid Top 5 Accuracy  \n",
              "0         0.071998              0.209542  \n",
              "1         0.023244              0.202156  \n",
              "2         0.071947              0.242712  \n",
              "3         0.110622              0.290107  \n",
              "4         0.109689              0.326109  \n",
              "..             ...                   ...  \n",
              "95        0.409236              0.551075  \n",
              "96        0.409758              0.551253  \n",
              "97        0.409581              0.551430  \n",
              "98        0.409758              0.551608  \n",
              "99        0.409581              0.551608  \n",
              "\n",
              "[100 rows x 6 columns]"
            ],
            "text/html": [
              "\n",
              "  <div id=\"df-b507c6e3-ebf0-432c-a99f-784f204a2701\">\n",
              "    <div class=\"colab-df-container\">\n",
              "      <div>\n",
              "<style scoped>\n",
              "    .dataframe tbody tr th:only-of-type {\n",
              "        vertical-align: middle;\n",
              "    }\n",
              "\n",
              "    .dataframe tbody tr th {\n",
              "        vertical-align: top;\n",
              "    }\n",
              "\n",
              "    .dataframe thead th {\n",
              "        text-align: right;\n",
              "    }\n",
              "</style>\n",
              "<table border=\"1\" class=\"dataframe\">\n",
              "  <thead>\n",
              "    <tr style=\"text-align: right;\">\n",
              "      <th></th>\n",
              "      <th>Train Loss</th>\n",
              "      <th>Train Accuracy</th>\n",
              "      <th>Train Top 5 Accuracy</th>\n",
              "      <th>Valid Loss</th>\n",
              "      <th>Valid Accuracy</th>\n",
              "      <th>Valid Top 5 Accuracy</th>\n",
              "    </tr>\n",
              "  </thead>\n",
              "  <tbody>\n",
              "    <tr>\n",
              "      <th>0</th>\n",
              "      <td>133.087745</td>\n",
              "      <td>0.059561</td>\n",
              "      <td>0.217868</td>\n",
              "      <td>4.527369</td>\n",
              "      <td>0.071998</td>\n",
              "      <td>0.209542</td>\n",
              "    </tr>\n",
              "    <tr>\n",
              "      <th>1</th>\n",
              "      <td>119.402622</td>\n",
              "      <td>0.084639</td>\n",
              "      <td>0.260972</td>\n",
              "      <td>5.136552</td>\n",
              "      <td>0.023244</td>\n",
              "      <td>0.202156</td>\n",
              "    </tr>\n",
              "    <tr>\n",
              "      <th>2</th>\n",
              "      <td>118.809530</td>\n",
              "      <td>0.096003</td>\n",
              "      <td>0.246082</td>\n",
              "      <td>5.127438</td>\n",
              "      <td>0.071947</td>\n",
              "      <td>0.242712</td>\n",
              "    </tr>\n",
              "    <tr>\n",
              "      <th>3</th>\n",
              "      <td>102.824297</td>\n",
              "      <td>0.139107</td>\n",
              "      <td>0.331897</td>\n",
              "      <td>5.043379</td>\n",
              "      <td>0.110622</td>\n",
              "      <td>0.290107</td>\n",
              "    </tr>\n",
              "    <tr>\n",
              "      <th>4</th>\n",
              "      <td>92.043885</td>\n",
              "      <td>0.158699</td>\n",
              "      <td>0.351881</td>\n",
              "      <td>5.024953</td>\n",
              "      <td>0.109689</td>\n",
              "      <td>0.326109</td>\n",
              "    </tr>\n",
              "    <tr>\n",
              "      <th>...</th>\n",
              "      <td>...</td>\n",
              "      <td>...</td>\n",
              "      <td>...</td>\n",
              "      <td>...</td>\n",
              "      <td>...</td>\n",
              "      <td>...</td>\n",
              "    </tr>\n",
              "    <tr>\n",
              "      <th>95</th>\n",
              "      <td>1.144705</td>\n",
              "      <td>0.581113</td>\n",
              "      <td>0.601097</td>\n",
              "      <td>5.713322</td>\n",
              "      <td>0.409236</td>\n",
              "      <td>0.551075</td>\n",
              "    </tr>\n",
              "    <tr>\n",
              "      <th>96</th>\n",
              "      <td>1.133310</td>\n",
              "      <td>0.581505</td>\n",
              "      <td>0.601097</td>\n",
              "      <td>5.716127</td>\n",
              "      <td>0.409758</td>\n",
              "      <td>0.551253</td>\n",
              "    </tr>\n",
              "    <tr>\n",
              "      <th>97</th>\n",
              "      <td>1.122079</td>\n",
              "      <td>0.581897</td>\n",
              "      <td>0.601097</td>\n",
              "      <td>5.722394</td>\n",
              "      <td>0.409581</td>\n",
              "      <td>0.551430</td>\n",
              "    </tr>\n",
              "    <tr>\n",
              "      <th>98</th>\n",
              "      <td>1.110998</td>\n",
              "      <td>0.582680</td>\n",
              "      <td>0.601097</td>\n",
              "      <td>5.725244</td>\n",
              "      <td>0.409758</td>\n",
              "      <td>0.551608</td>\n",
              "    </tr>\n",
              "    <tr>\n",
              "      <th>99</th>\n",
              "      <td>1.100058</td>\n",
              "      <td>0.583072</td>\n",
              "      <td>0.601097</td>\n",
              "      <td>5.736572</td>\n",
              "      <td>0.409581</td>\n",
              "      <td>0.551608</td>\n",
              "    </tr>\n",
              "  </tbody>\n",
              "</table>\n",
              "<p>100 rows × 6 columns</p>\n",
              "</div>\n",
              "      <button class=\"colab-df-convert\" onclick=\"convertToInteractive('df-b507c6e3-ebf0-432c-a99f-784f204a2701')\"\n",
              "              title=\"Convert this dataframe to an interactive table.\"\n",
              "              style=\"display:none;\">\n",
              "        \n",
              "  <svg xmlns=\"http://www.w3.org/2000/svg\" height=\"24px\"viewBox=\"0 0 24 24\"\n",
              "       width=\"24px\">\n",
              "    <path d=\"M0 0h24v24H0V0z\" fill=\"none\"/>\n",
              "    <path d=\"M18.56 5.44l.94 2.06.94-2.06 2.06-.94-2.06-.94-.94-2.06-.94 2.06-2.06.94zm-11 1L8.5 8.5l.94-2.06 2.06-.94-2.06-.94L8.5 2.5l-.94 2.06-2.06.94zm10 10l.94 2.06.94-2.06 2.06-.94-2.06-.94-.94-2.06-.94 2.06-2.06.94z\"/><path d=\"M17.41 7.96l-1.37-1.37c-.4-.4-.92-.59-1.43-.59-.52 0-1.04.2-1.43.59L10.3 9.45l-7.72 7.72c-.78.78-.78 2.05 0 2.83L4 21.41c.39.39.9.59 1.41.59.51 0 1.02-.2 1.41-.59l7.78-7.78 2.81-2.81c.8-.78.8-2.07 0-2.86zM5.41 20L4 18.59l7.72-7.72 1.47 1.35L5.41 20z\"/>\n",
              "  </svg>\n",
              "      </button>\n",
              "      \n",
              "  <style>\n",
              "    .colab-df-container {\n",
              "      display:flex;\n",
              "      flex-wrap:wrap;\n",
              "      gap: 12px;\n",
              "    }\n",
              "\n",
              "    .colab-df-convert {\n",
              "      background-color: #E8F0FE;\n",
              "      border: none;\n",
              "      border-radius: 50%;\n",
              "      cursor: pointer;\n",
              "      display: none;\n",
              "      fill: #1967D2;\n",
              "      height: 32px;\n",
              "      padding: 0 0 0 0;\n",
              "      width: 32px;\n",
              "    }\n",
              "\n",
              "    .colab-df-convert:hover {\n",
              "      background-color: #E2EBFA;\n",
              "      box-shadow: 0px 1px 2px rgba(60, 64, 67, 0.3), 0px 1px 3px 1px rgba(60, 64, 67, 0.15);\n",
              "      fill: #174EA6;\n",
              "    }\n",
              "\n",
              "    [theme=dark] .colab-df-convert {\n",
              "      background-color: #3B4455;\n",
              "      fill: #D2E3FC;\n",
              "    }\n",
              "\n",
              "    [theme=dark] .colab-df-convert:hover {\n",
              "      background-color: #434B5C;\n",
              "      box-shadow: 0px 1px 3px 1px rgba(0, 0, 0, 0.15);\n",
              "      filter: drop-shadow(0px 1px 2px rgba(0, 0, 0, 0.3));\n",
              "      fill: #FFFFFF;\n",
              "    }\n",
              "  </style>\n",
              "\n",
              "      <script>\n",
              "        const buttonEl =\n",
              "          document.querySelector('#df-b507c6e3-ebf0-432c-a99f-784f204a2701 button.colab-df-convert');\n",
              "        buttonEl.style.display =\n",
              "          google.colab.kernel.accessAllowed ? 'block' : 'none';\n",
              "\n",
              "        async function convertToInteractive(key) {\n",
              "          const element = document.querySelector('#df-b507c6e3-ebf0-432c-a99f-784f204a2701');\n",
              "          const dataTable =\n",
              "            await google.colab.kernel.invokeFunction('convertToInteractive',\n",
              "                                                     [key], {});\n",
              "          if (!dataTable) return;\n",
              "\n",
              "          const docLinkHtml = 'Like what you see? Visit the ' +\n",
              "            '<a target=\"_blank\" href=https://colab.research.google.com/notebooks/data_table.ipynb>data table notebook</a>'\n",
              "            + ' to learn more about interactive tables.';\n",
              "          element.innerHTML = '';\n",
              "          dataTable['output_type'] = 'display_data';\n",
              "          await google.colab.output.renderOutput(dataTable, element);\n",
              "          const docLink = document.createElement('div');\n",
              "          docLink.innerHTML = docLinkHtml;\n",
              "          element.appendChild(docLink);\n",
              "        }\n",
              "      </script>\n",
              "    </div>\n",
              "  </div>\n",
              "  "
            ]
          },
          "metadata": {},
          "execution_count": 94
        }
      ]
    },
    {
      "cell_type": "code",
      "source": [
        "# plot loss vs epochs\n",
        "plt.figure(figsize=(12, 12), dpi=100)\n",
        "grid = plt.GridSpec(2, 4, wspace=1, hspace=0.5)\n",
        "plt.subplot(grid[0, ::])\n",
        "plt.plot(np.arange(1, 101), df['Train Loss'])\n",
        "plt.plot(np.arange(1, 101), df['Valid Loss'])\n",
        "plt.grid(linestyle='dashed')\n",
        "plt.ylabel('Loss')\n",
        "plt.xlabel('Epochs')\n",
        "plt.legend(['Train', 'Validation'], loc='upper right')\n",
        "plt.subplot(grid[1, :2])\n",
        "# plot accuracy vs epochs\n",
        "plt.plot(np.arange(1, 101), df['Train Accuracy'])\n",
        "plt.plot(np.arange(1, 101), df['Valid Accuracy'])\n",
        "plt.grid(linestyle='dashed')\n",
        "plt.ylabel('Top 1 Accuracy')\n",
        "plt.xlabel('Epochs')\n",
        "plt.legend(['Train', 'Validation'], loc='lower right')\n",
        "plt.subplot(grid[1, 2:])\n",
        "# plot top 5 accuracy vs epochs\n",
        "plt.plot(np.arange(1, 101), df['Train Top 5 Accuracy'])\n",
        "plt.plot(np.arange(1, 101), df['Valid Top 5 Accuracy'])\n",
        "plt.grid(linestyle='dashed')\n",
        "plt.ylabel('Top 5 Accuracy')\n",
        "plt.xlabel('Epochs')\n",
        "plt.legend(['Train', 'Validation'], loc='lower right')\n",
        "# save figures\n",
        "plt.savefig('metrics.png', dpi=100, bbox_inches='tight');"
      ],
      "metadata": {
        "colab": {
          "base_uri": "https://localhost:8080/",
          "height": 986
        },
        "id": "RXez9u0WZXG4",
        "outputId": "4d2a0460-2508-4ad4-a6e6-a127fd244616"
      },
      "execution_count": 95,
      "outputs": [
        {
          "output_type": "display_data",
          "data": {
            "text/plain": [
              "<Figure size 1200x1200 with 3 Axes>"
            ],
            "image/png": "[encoded data removed]"
          },
          "metadata": {
            "needs_background": "light"
          }
        }
      ]
    },
    {
      "cell_type": "code",
      "source": [
        ""
      ],
      "metadata": {
        "id": "YnvzSN5kZXMb"
      },
      "execution_count": 92,
      "outputs": []
    }
  ],
  "metadata": {
    "colab": {
      "collapsed_sections": [],
      "name": "04 - Final Error Analysis.ipynb",
      "provenance": []
    },
    "kernelspec": {
      "display_name": "Python 3 (ipykernel)",
      "language": "python",
      "name": "python3"
    },
    "language_info": {
      "codemirror_mode": {
        "name": "ipython",
        "version": 3
      },
      "file_extension": ".py",
      "mimetype": "text/x-python",
      "name": "python",
      "nbconvert_exporter": "python",
      "pygments_lexer": "ipython3",
      "version": "3.8.10"
    }
  },
  "nbformat": 4,
  "nbformat_minor": 0
}
