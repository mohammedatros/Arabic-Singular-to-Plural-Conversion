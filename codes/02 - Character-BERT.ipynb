{
 "cells": [
  {
   "cell_type": "markdown",
   "metadata": {
    "id": "Rf_dUQL_lcOz"
   },
   "source": [
    "# Imports"
   ]
  },
  {
   "cell_type": "code",
   "execution_count": null,
   "metadata": {
    "colab": {
     "base_uri": "https://localhost:8080/"
    },
    "id": "tytDsTGlCs2q",
    "outputId": "92cce238-3e49-4242-f466-f90b1a13bfd7"
   },
   "outputs": [
    {
     "name": "stdout",
     "output_type": "stream",
     "text": [
      "Collecting PyArabic\n",
      "  Downloading PyArabic-0.6.14-py3-none-any.whl (126 kB)\n",
      "\u001b[?25l\r",
      "\u001b[K     |██▋                             | 10 kB 19.5 MB/s eta 0:00:01\r",
      "\u001b[K     |█████▏                          | 20 kB 11.2 MB/s eta 0:00:01\r",
      "\u001b[K     |███████▉                        | 30 kB 9.3 MB/s eta 0:00:01\r",
      "\u001b[K     |██████████▍                     | 40 kB 8.6 MB/s eta 0:00:01\r",
      "\u001b[K     |█████████████                   | 51 kB 4.3 MB/s eta 0:00:01\r",
      "\u001b[K     |███████████████▋                | 61 kB 5.1 MB/s eta 0:00:01\r",
      "\u001b[K     |██████████████████▏             | 71 kB 5.6 MB/s eta 0:00:01\r",
      "\u001b[K     |████████████████████▊           | 81 kB 5.8 MB/s eta 0:00:01\r",
      "\u001b[K     |███████████████████████▍        | 92 kB 6.4 MB/s eta 0:00:01\r",
      "\u001b[K     |██████████████████████████      | 102 kB 5.1 MB/s eta 0:00:01\r",
      "\u001b[K     |████████████████████████████▌   | 112 kB 5.1 MB/s eta 0:00:01\r",
      "\u001b[K     |███████████████████████████████▏| 122 kB 5.1 MB/s eta 0:00:01\r",
      "\u001b[K     |████████████████████████████████| 126 kB 5.1 MB/s \n",
      "\u001b[?25hRequirement already satisfied: six>=1.14.0 in /usr/local/lib/python3.7/dist-packages (from PyArabic) (1.15.0)\n",
      "Installing collected packages: PyArabic\n",
      "Successfully installed PyArabic-0.6.14\n"
     ]
    }
   ],
   "source": [
    "# install PyArabic library for Arabic preprocessing\n",
    "!pip install PyArabic"
   ]
  },
  {
   "cell_type": "code",
   "execution_count": null,
   "metadata": {
    "colab": {
     "base_uri": "https://localhost:8080/"
    },
    "id": "tB3hTHNrc_vN",
    "outputId": "e03946be-d4d9-459e-cbf7-d10048763667"
   },
   "outputs": [
    {
     "name": "stdout",
     "output_type": "stream",
     "text": [
      "Collecting tensorflow_addons\n",
      "  Downloading tensorflow_addons-0.16.1-cp37-cp37m-manylinux_2_12_x86_64.manylinux2010_x86_64.whl (1.1 MB)\n",
      "\u001b[?25l\r",
      "\u001b[K     |▎                               | 10 kB 16.3 MB/s eta 0:00:01\r",
      "\u001b[K     |▋                               | 20 kB 11.7 MB/s eta 0:00:01\r",
      "\u001b[K     |▉                               | 30 kB 9.4 MB/s eta 0:00:01\r",
      "\u001b[K     |█▏                              | 40 kB 8.4 MB/s eta 0:00:01\r",
      "\u001b[K     |█▌                              | 51 kB 4.3 MB/s eta 0:00:01\r",
      "\u001b[K     |█▊                              | 61 kB 5.0 MB/s eta 0:00:01\r",
      "\u001b[K     |██                              | 71 kB 5.7 MB/s eta 0:00:01\r",
      "\u001b[K     |██▍                             | 81 kB 4.2 MB/s eta 0:00:01\r",
      "\u001b[K     |██▋                             | 92 kB 4.7 MB/s eta 0:00:01\r",
      "\u001b[K     |███                             | 102 kB 5.1 MB/s eta 0:00:01\r",
      "\u001b[K     |███▏                            | 112 kB 5.1 MB/s eta 0:00:01\r",
      "\u001b[K     |███▌                            | 122 kB 5.1 MB/s eta 0:00:01\r",
      "\u001b[K     |███▉                            | 133 kB 5.1 MB/s eta 0:00:01\r",
      "\u001b[K     |████                            | 143 kB 5.1 MB/s eta 0:00:01\r",
      "\u001b[K     |████▍                           | 153 kB 5.1 MB/s eta 0:00:01\r",
      "\u001b[K     |████▊                           | 163 kB 5.1 MB/s eta 0:00:01\r",
      "\u001b[K     |█████                           | 174 kB 5.1 MB/s eta 0:00:01\r",
      "\u001b[K     |█████▎                          | 184 kB 5.1 MB/s eta 0:00:01\r",
      "\u001b[K     |█████▌                          | 194 kB 5.1 MB/s eta 0:00:01\r",
      "\u001b[K     |█████▉                          | 204 kB 5.1 MB/s eta 0:00:01\r",
      "\u001b[K     |██████▏                         | 215 kB 5.1 MB/s eta 0:00:01\r",
      "\u001b[K     |██████▍                         | 225 kB 5.1 MB/s eta 0:00:01\r",
      "\u001b[K     |██████▊                         | 235 kB 5.1 MB/s eta 0:00:01\r",
      "\u001b[K     |███████                         | 245 kB 5.1 MB/s eta 0:00:01\r",
      "\u001b[K     |███████▎                        | 256 kB 5.1 MB/s eta 0:00:01\r",
      "\u001b[K     |███████▋                        | 266 kB 5.1 MB/s eta 0:00:01\r",
      "\u001b[K     |███████▉                        | 276 kB 5.1 MB/s eta 0:00:01\r",
      "\u001b[K     |████████▏                       | 286 kB 5.1 MB/s eta 0:00:01\r",
      "\u001b[K     |████████▌                       | 296 kB 5.1 MB/s eta 0:00:01\r",
      "\u001b[K     |████████▊                       | 307 kB 5.1 MB/s eta 0:00:01\r",
      "\u001b[K     |█████████                       | 317 kB 5.1 MB/s eta 0:00:01\r",
      "\u001b[K     |█████████▍                      | 327 kB 5.1 MB/s eta 0:00:01\r",
      "\u001b[K     |█████████▋                      | 337 kB 5.1 MB/s eta 0:00:01\r",
      "\u001b[K     |██████████                      | 348 kB 5.1 MB/s eta 0:00:01\r",
      "\u001b[K     |██████████▏                     | 358 kB 5.1 MB/s eta 0:00:01\r",
      "\u001b[K     |██████████▌                     | 368 kB 5.1 MB/s eta 0:00:01\r",
      "\u001b[K     |██████████▉                     | 378 kB 5.1 MB/s eta 0:00:01\r",
      "\u001b[K     |███████████                     | 389 kB 5.1 MB/s eta 0:00:01\r",
      "\u001b[K     |███████████▍                    | 399 kB 5.1 MB/s eta 0:00:01\r",
      "\u001b[K     |███████████▊                    | 409 kB 5.1 MB/s eta 0:00:01\r",
      "\u001b[K     |████████████                    | 419 kB 5.1 MB/s eta 0:00:01\r",
      "\u001b[K     |████████████▎                   | 430 kB 5.1 MB/s eta 0:00:01\r",
      "\u001b[K     |████████████▌                   | 440 kB 5.1 MB/s eta 0:00:01\r",
      "\u001b[K     |████████████▉                   | 450 kB 5.1 MB/s eta 0:00:01\r",
      "\u001b[K     |█████████████▏                  | 460 kB 5.1 MB/s eta 0:00:01\r",
      "\u001b[K     |█████████████▍                  | 471 kB 5.1 MB/s eta 0:00:01\r",
      "\u001b[K     |█████████████▊                  | 481 kB 5.1 MB/s eta 0:00:01\r",
      "\u001b[K     |██████████████                  | 491 kB 5.1 MB/s eta 0:00:01\r",
      "\u001b[K     |██████████████▎                 | 501 kB 5.1 MB/s eta 0:00:01\r",
      "\u001b[K     |██████████████▋                 | 512 kB 5.1 MB/s eta 0:00:01\r",
      "\u001b[K     |██████████████▉                 | 522 kB 5.1 MB/s eta 0:00:01\r",
      "\u001b[K     |███████████████▏                | 532 kB 5.1 MB/s eta 0:00:01\r",
      "\u001b[K     |███████████████▌                | 542 kB 5.1 MB/s eta 0:00:01\r",
      "\u001b[K     |███████████████▊                | 552 kB 5.1 MB/s eta 0:00:01\r",
      "\u001b[K     |████████████████                | 563 kB 5.1 MB/s eta 0:00:01\r",
      "\u001b[K     |████████████████▍               | 573 kB 5.1 MB/s eta 0:00:01\r",
      "\u001b[K     |████████████████▋               | 583 kB 5.1 MB/s eta 0:00:01\r",
      "\u001b[K     |█████████████████               | 593 kB 5.1 MB/s eta 0:00:01\r",
      "\u001b[K     |█████████████████▏              | 604 kB 5.1 MB/s eta 0:00:01\r",
      "\u001b[K     |█████████████████▌              | 614 kB 5.1 MB/s eta 0:00:01\r",
      "\u001b[K     |█████████████████▉              | 624 kB 5.1 MB/s eta 0:00:01\r",
      "\u001b[K     |██████████████████              | 634 kB 5.1 MB/s eta 0:00:01\r",
      "\u001b[K     |██████████████████▍             | 645 kB 5.1 MB/s eta 0:00:01\r",
      "\u001b[K     |██████████████████▊             | 655 kB 5.1 MB/s eta 0:00:01\r",
      "\u001b[K     |███████████████████             | 665 kB 5.1 MB/s eta 0:00:01\r",
      "\u001b[K     |███████████████████▎            | 675 kB 5.1 MB/s eta 0:00:01\r",
      "\u001b[K     |███████████████████▌            | 686 kB 5.1 MB/s eta 0:00:01\r",
      "\u001b[K     |███████████████████▉            | 696 kB 5.1 MB/s eta 0:00:01\r",
      "\u001b[K     |████████████████████▏           | 706 kB 5.1 MB/s eta 0:00:01\r",
      "\u001b[K     |████████████████████▍           | 716 kB 5.1 MB/s eta 0:00:01\r",
      "\u001b[K     |████████████████████▊           | 727 kB 5.1 MB/s eta 0:00:01\r",
      "\u001b[K     |█████████████████████           | 737 kB 5.1 MB/s eta 0:00:01\r",
      "\u001b[K     |█████████████████████▎          | 747 kB 5.1 MB/s eta 0:00:01\r",
      "\u001b[K     |█████████████████████▋          | 757 kB 5.1 MB/s eta 0:00:01\r",
      "\u001b[K     |█████████████████████▉          | 768 kB 5.1 MB/s eta 0:00:01\r",
      "\u001b[K     |██████████████████████▏         | 778 kB 5.1 MB/s eta 0:00:01\r",
      "\u001b[K     |██████████████████████▌         | 788 kB 5.1 MB/s eta 0:00:01\r",
      "\u001b[K     |██████████████████████▊         | 798 kB 5.1 MB/s eta 0:00:01\r",
      "\u001b[K     |███████████████████████         | 808 kB 5.1 MB/s eta 0:00:01\r",
      "\u001b[K     |███████████████████████▍        | 819 kB 5.1 MB/s eta 0:00:01\r",
      "\u001b[K     |███████████████████████▋        | 829 kB 5.1 MB/s eta 0:00:01\r",
      "\u001b[K     |████████████████████████        | 839 kB 5.1 MB/s eta 0:00:01\r",
      "\u001b[K     |████████████████████████▏       | 849 kB 5.1 MB/s eta 0:00:01\r",
      "\u001b[K     |████████████████████████▌       | 860 kB 5.1 MB/s eta 0:00:01\r",
      "\u001b[K     |████████████████████████▉       | 870 kB 5.1 MB/s eta 0:00:01\r",
      "\u001b[K     |█████████████████████████       | 880 kB 5.1 MB/s eta 0:00:01\r",
      "\u001b[K     |█████████████████████████▍      | 890 kB 5.1 MB/s eta 0:00:01\r",
      "\u001b[K     |█████████████████████████▊      | 901 kB 5.1 MB/s eta 0:00:01\r",
      "\u001b[K     |██████████████████████████      | 911 kB 5.1 MB/s eta 0:00:01\r",
      "\u001b[K     |██████████████████████████▎     | 921 kB 5.1 MB/s eta 0:00:01\r",
      "\u001b[K     |██████████████████████████▌     | 931 kB 5.1 MB/s eta 0:00:01\r",
      "\u001b[K     |██████████████████████████▉     | 942 kB 5.1 MB/s eta 0:00:01\r",
      "\u001b[K     |███████████████████████████▏    | 952 kB 5.1 MB/s eta 0:00:01\r",
      "\u001b[K     |███████████████████████████▍    | 962 kB 5.1 MB/s eta 0:00:01\r",
      "\u001b[K     |███████████████████████████▊    | 972 kB 5.1 MB/s eta 0:00:01\r",
      "\u001b[K     |████████████████████████████    | 983 kB 5.1 MB/s eta 0:00:01\r",
      "\u001b[K     |████████████████████████████▎   | 993 kB 5.1 MB/s eta 0:00:01\r",
      "\u001b[K     |████████████████████████████▋   | 1.0 MB 5.1 MB/s eta 0:00:01\r",
      "\u001b[K     |████████████████████████████▉   | 1.0 MB 5.1 MB/s eta 0:00:01\r",
      "\u001b[K     |█████████████████████████████▏  | 1.0 MB 5.1 MB/s eta 0:00:01\r",
      "\u001b[K     |█████████████████████████████▌  | 1.0 MB 5.1 MB/s eta 0:00:01\r",
      "\u001b[K     |█████████████████████████████▊  | 1.0 MB 5.1 MB/s eta 0:00:01\r",
      "\u001b[K     |██████████████████████████████  | 1.1 MB 5.1 MB/s eta 0:00:01\r",
      "\u001b[K     |██████████████████████████████▍ | 1.1 MB 5.1 MB/s eta 0:00:01\r",
      "\u001b[K     |██████████████████████████████▋ | 1.1 MB 5.1 MB/s eta 0:00:01\r",
      "\u001b[K     |███████████████████████████████ | 1.1 MB 5.1 MB/s eta 0:00:01\r",
      "\u001b[K     |███████████████████████████████▏| 1.1 MB 5.1 MB/s eta 0:00:01\r",
      "\u001b[K     |███████████████████████████████▌| 1.1 MB 5.1 MB/s eta 0:00:01\r",
      "\u001b[K     |███████████████████████████████▉| 1.1 MB 5.1 MB/s eta 0:00:01\r",
      "\u001b[K     |████████████████████████████████| 1.1 MB 5.1 MB/s \n",
      "\u001b[?25hRequirement already satisfied: typeguard>=2.7 in /usr/local/lib/python3.7/dist-packages (from tensorflow_addons) (2.7.1)\n",
      "Installing collected packages: tensorflow-addons\n",
      "Successfully installed tensorflow-addons-0.16.1\n"
     ]
    }
   ],
   "source": [
    "# install tensorflow_addons for AdamW optimizer\n",
    "!pip install tensorflow_addons"
   ]
  },
  {
   "cell_type": "code",
   "execution_count": null,
   "metadata": {
    "id": "Q6nYX2Lsfeki"
   },
   "outputs": [],
   "source": [
    "# Standard libraries imports\n",
    "import io\n",
    "import re\n",
    "import ast\n",
    "import math\n",
    "import requests\n",
    "import numpy as np\n",
    "import pandas as pd\n",
    "from tqdm import tqdm\n",
    "from lxml import etree\n",
    "import pyarabic.araby as araby\n",
    "\n",
    "import tensorflow as tf\n",
    "import tensorflow_addons as tfa\n",
    "from tensorflow.keras import layers"
   ]
  },
  {
   "cell_type": "markdown",
   "metadata": {
    "id": "y6h5SmwUlfc1"
   },
   "source": [
    "# Hardware Detection"
   ]
  },
  {
   "cell_type": "code",
   "execution_count": null,
   "metadata": {
    "colab": {
     "base_uri": "https://localhost:8080/"
    },
    "id": "TPs11Pr_f5qV",
    "outputId": "7297fd25-f704-425f-d1e3-768f24efaff0"
   },
   "outputs": [
    {
     "name": "stdout",
     "output_type": "stream",
     "text": [
      "INFO:tensorflow:Deallocate tpu buffers before initializing tpu system.\n"
     ]
    },
    {
     "name": "stderr",
     "output_type": "stream",
     "text": [
      "INFO:tensorflow:Deallocate tpu buffers before initializing tpu system.\n"
     ]
    },
    {
     "name": "stdout",
     "output_type": "stream",
     "text": [
      "INFO:tensorflow:Initializing the TPU system: grpc://10.3.48.146:8470\n"
     ]
    },
    {
     "name": "stderr",
     "output_type": "stream",
     "text": [
      "INFO:tensorflow:Initializing the TPU system: grpc://10.3.48.146:8470\n"
     ]
    },
    {
     "name": "stdout",
     "output_type": "stream",
     "text": [
      "INFO:tensorflow:Finished initializing TPU system.\n"
     ]
    },
    {
     "name": "stderr",
     "output_type": "stream",
     "text": [
      "INFO:tensorflow:Finished initializing TPU system.\n",
      "WARNING:absl:`tf.distribute.experimental.TPUStrategy` is deprecated, please use  the non experimental symbol `tf.distribute.TPUStrategy` instead.\n"
     ]
    },
    {
     "name": "stdout",
     "output_type": "stream",
     "text": [
      "INFO:tensorflow:Found TPU system:\n"
     ]
    },
    {
     "name": "stderr",
     "output_type": "stream",
     "text": [
      "INFO:tensorflow:Found TPU system:\n"
     ]
    },
    {
     "name": "stdout",
     "output_type": "stream",
     "text": [
      "INFO:tensorflow:*** Num TPU Cores: 8\n"
     ]
    },
    {
     "name": "stderr",
     "output_type": "stream",
     "text": [
      "INFO:tensorflow:*** Num TPU Cores: 8\n"
     ]
    },
    {
     "name": "stdout",
     "output_type": "stream",
     "text": [
      "INFO:tensorflow:*** Num TPU Workers: 1\n"
     ]
    },
    {
     "name": "stderr",
     "output_type": "stream",
     "text": [
      "INFO:tensorflow:*** Num TPU Workers: 1\n"
     ]
    },
    {
     "name": "stdout",
     "output_type": "stream",
     "text": [
      "INFO:tensorflow:*** Num TPU Cores Per Worker: 8\n"
     ]
    },
    {
     "name": "stderr",
     "output_type": "stream",
     "text": [
      "INFO:tensorflow:*** Num TPU Cores Per Worker: 8\n"
     ]
    },
    {
     "name": "stdout",
     "output_type": "stream",
     "text": [
      "INFO:tensorflow:*** Available Device: _DeviceAttributes(/job:localhost/replica:0/task:0/device:CPU:0, CPU, 0, 0)\n"
     ]
    },
    {
     "name": "stderr",
     "output_type": "stream",
     "text": [
      "INFO:tensorflow:*** Available Device: _DeviceAttributes(/job:localhost/replica:0/task:0/device:CPU:0, CPU, 0, 0)\n"
     ]
    },
    {
     "name": "stdout",
     "output_type": "stream",
     "text": [
      "INFO:tensorflow:*** Available Device: _DeviceAttributes(/job:worker/replica:0/task:0/device:CPU:0, CPU, 0, 0)\n"
     ]
    },
    {
     "name": "stderr",
     "output_type": "stream",
     "text": [
      "INFO:tensorflow:*** Available Device: _DeviceAttributes(/job:worker/replica:0/task:0/device:CPU:0, CPU, 0, 0)\n"
     ]
    },
    {
     "name": "stdout",
     "output_type": "stream",
     "text": [
      "INFO:tensorflow:*** Available Device: _DeviceAttributes(/job:worker/replica:0/task:0/device:TPU:0, TPU, 0, 0)\n"
     ]
    },
    {
     "name": "stderr",
     "output_type": "stream",
     "text": [
      "INFO:tensorflow:*** Available Device: _DeviceAttributes(/job:worker/replica:0/task:0/device:TPU:0, TPU, 0, 0)\n"
     ]
    },
    {
     "name": "stdout",
     "output_type": "stream",
     "text": [
      "INFO:tensorflow:*** Available Device: _DeviceAttributes(/job:worker/replica:0/task:0/device:TPU:1, TPU, 0, 0)\n"
     ]
    },
    {
     "name": "stderr",
     "output_type": "stream",
     "text": [
      "INFO:tensorflow:*** Available Device: _DeviceAttributes(/job:worker/replica:0/task:0/device:TPU:1, TPU, 0, 0)\n"
     ]
    },
    {
     "name": "stdout",
     "output_type": "stream",
     "text": [
      "INFO:tensorflow:*** Available Device: _DeviceAttributes(/job:worker/replica:0/task:0/device:TPU:2, TPU, 0, 0)\n"
     ]
    },
    {
     "name": "stderr",
     "output_type": "stream",
     "text": [
      "INFO:tensorflow:*** Available Device: _DeviceAttributes(/job:worker/replica:0/task:0/device:TPU:2, TPU, 0, 0)\n"
     ]
    },
    {
     "name": "stdout",
     "output_type": "stream",
     "text": [
      "INFO:tensorflow:*** Available Device: _DeviceAttributes(/job:worker/replica:0/task:0/device:TPU:3, TPU, 0, 0)\n"
     ]
    },
    {
     "name": "stderr",
     "output_type": "stream",
     "text": [
      "INFO:tensorflow:*** Available Device: _DeviceAttributes(/job:worker/replica:0/task:0/device:TPU:3, TPU, 0, 0)\n"
     ]
    },
    {
     "name": "stdout",
     "output_type": "stream",
     "text": [
      "INFO:tensorflow:*** Available Device: _DeviceAttributes(/job:worker/replica:0/task:0/device:TPU:4, TPU, 0, 0)\n"
     ]
    },
    {
     "name": "stderr",
     "output_type": "stream",
     "text": [
      "INFO:tensorflow:*** Available Device: _DeviceAttributes(/job:worker/replica:0/task:0/device:TPU:4, TPU, 0, 0)\n"
     ]
    },
    {
     "name": "stdout",
     "output_type": "stream",
     "text": [
      "INFO:tensorflow:*** Available Device: _DeviceAttributes(/job:worker/replica:0/task:0/device:TPU:5, TPU, 0, 0)\n"
     ]
    },
    {
     "name": "stderr",
     "output_type": "stream",
     "text": [
      "INFO:tensorflow:*** Available Device: _DeviceAttributes(/job:worker/replica:0/task:0/device:TPU:5, TPU, 0, 0)\n"
     ]
    },
    {
     "name": "stdout",
     "output_type": "stream",
     "text": [
      "INFO:tensorflow:*** Available Device: _DeviceAttributes(/job:worker/replica:0/task:0/device:TPU:6, TPU, 0, 0)\n"
     ]
    },
    {
     "name": "stderr",
     "output_type": "stream",
     "text": [
      "INFO:tensorflow:*** Available Device: _DeviceAttributes(/job:worker/replica:0/task:0/device:TPU:6, TPU, 0, 0)\n"
     ]
    },
    {
     "name": "stdout",
     "output_type": "stream",
     "text": [
      "INFO:tensorflow:*** Available Device: _DeviceAttributes(/job:worker/replica:0/task:0/device:TPU:7, TPU, 0, 0)\n"
     ]
    },
    {
     "name": "stderr",
     "output_type": "stream",
     "text": [
      "INFO:tensorflow:*** Available Device: _DeviceAttributes(/job:worker/replica:0/task:0/device:TPU:7, TPU, 0, 0)\n"
     ]
    },
    {
     "name": "stdout",
     "output_type": "stream",
     "text": [
      "INFO:tensorflow:*** Available Device: _DeviceAttributes(/job:worker/replica:0/task:0/device:TPU_SYSTEM:0, TPU_SYSTEM, 0, 0)\n"
     ]
    },
    {
     "name": "stderr",
     "output_type": "stream",
     "text": [
      "INFO:tensorflow:*** Available Device: _DeviceAttributes(/job:worker/replica:0/task:0/device:TPU_SYSTEM:0, TPU_SYSTEM, 0, 0)\n"
     ]
    },
    {
     "name": "stdout",
     "output_type": "stream",
     "text": [
      "INFO:tensorflow:*** Available Device: _DeviceAttributes(/job:worker/replica:0/task:0/device:XLA_CPU:0, XLA_CPU, 0, 0)\n"
     ]
    },
    {
     "name": "stderr",
     "output_type": "stream",
     "text": [
      "INFO:tensorflow:*** Available Device: _DeviceAttributes(/job:worker/replica:0/task:0/device:XLA_CPU:0, XLA_CPU, 0, 0)\n"
     ]
    },
    {
     "name": "stdout",
     "output_type": "stream",
     "text": [
      "Running on TPU  ['10.3.48.146:8470']\n",
      "Number of accelerators:  8\n"
     ]
    }
   ],
   "source": [
    "# Detect hardware\n",
    "try:\n",
    "    tpu = tf.distribute.cluster_resolver.TPUClusterResolver() # TPU detection\n",
    "except ValueError:\n",
    "    tpu = None\n",
    "    gpus = tf.config.experimental.list_logical_devices(\"GPU\")\n",
    "    \n",
    "# Select an appropriate distribution strategy\n",
    "if tpu:\n",
    "    tf.config.experimental_connect_to_cluster(tpu)\n",
    "    tf.tpu.experimental.initialize_tpu_system(tpu)\n",
    "    strategy = tf.distribute.experimental.TPUStrategy(tpu) # Going back and forth between TPU and host is expensive. Better to run 128 batches on the TPU before reporting back.\n",
    "    print('Running on TPU ', tpu.cluster_spec().as_dict()['worker'])  \n",
    "elif len(gpus) > 1:\n",
    "    strategy = tf.distribute.MirroredStrategy([gpu.name for gpu in gpus])\n",
    "    print('Running on multiple GPUs ', [gpu.name for gpu in gpus])\n",
    "elif len(gpus) == 1:\n",
    "    strategy = tf.distribute.get_strategy() # default strategy that works on CPU and single GPU\n",
    "    print('Running on single GPU ', gpus[0].name)\n",
    "else:\n",
    "    strategy = tf.distribute.get_strategy() # default strategy that works on CPU and single GPU\n",
    "    print('Running on CPU')\n",
    "print(\"Number of accelerators: \", strategy.num_replicas_in_sync)"
   ]
  },
  {
   "cell_type": "markdown",
   "metadata": {
    "id": "8NOvELLKlinQ"
   },
   "source": [
    "# Configs"
   ]
  },
  {
   "cell_type": "code",
   "execution_count": null,
   "metadata": {
    "id": "NY2Le0HZf2w4"
   },
   "outputs": [],
   "source": [
    "# configurations class\n",
    "class config:\n",
    "\n",
    "  MAXLEN = 17 # maximum length of sequence\n",
    "\n",
    "  # model configs\n",
    "  BATCH_SIZE_PER_REPLICA = 256 # batch size per replica\n",
    "  BATCH_SIZE = BATCH_SIZE_PER_REPLICA * strategy.num_replicas_in_sync # global batch size\n",
    "  EPOCHS = 100 # number of epochs\n",
    "  LEARNING_RATE = 1E-4 # learning rate\n",
    "  BUFFER = 1024 # buffer size for shuffling the training set\n",
    "  EMBEDDING_SIZE = 256 # embedding size\n",
    "  NUM_HEADS = 8 # number of heads\n",
    "  NUM_BLOCKS = 4 # number of encoder blocks\n",
    "  KEY_DIM = 64 # dimesion of the key, value, and query\n",
    "  DROPOUT = 0.0 # dopout rate\n",
    "  SKIP_RATIO = 0.0 # skip connection ratio"
   ]
  },
  {
   "cell_type": "markdown",
   "metadata": {
    "id": "EzdOcFqOMUf5"
   },
   "source": [
    "# Dataset"
   ]
  },
  {
   "cell_type": "code",
   "execution_count": null,
   "metadata": {
    "colab": {
     "base_uri": "https://localhost:8080/"
    },
    "id": "XiGxDZY40x0r",
    "outputId": "39080377-b644-4cf1-b990-2ca164c4c0cf"
   },
   "outputs": [
    {
     "name": "stdout",
     "output_type": "stream",
     "text": [
      "Mounted at /content/drive\n"
     ]
    }
   ],
   "source": [
    "# from google.colab import drive\n",
    "# drive.mount('/content/drive')"
   ]
  },
  {
   "cell_type": "code",
   "execution_count": null,
   "metadata": {
    "colab": {
     "base_uri": "https://localhost:8080/"
    },
    "id": "QEb7_GE9V0f5",
    "outputId": "1edb66df-3d98-4656-940c-9a58f576a4c3"
   },
   "outputs": [
    {
     "name": "stdout",
     "output_type": "stream",
     "text": [
      "Number of Arabic Characters: 38\n"
     ]
    }
   ],
   "source": [
    "# list of all Arabic characters\n",
    "chars = list('اٱبتةثجحخدذرزسشصضطظعغفقكلمنهويءآأؤإئىی')\n",
    "print('Number of Arabic Characters:', len(chars))\n",
    "\n",
    "# character to index dictionary\n",
    "char_to_index = dict((char, index+3) for (index, char) in enumerate(chars))\n",
    "# index to character dictionary\n",
    "index_to_char=  dict((index+3, char) for (index, char) in enumerate(chars))\n",
    "\n",
    "char_to_index['p'] = 0 # pad\n",
    "char_to_index['s'] = 1 # separator\n",
    "char_to_index['_'] = 2 # mask\n",
    "\n",
    "\n",
    "index_to_char[0] = 'p' # pad\n",
    "index_to_char[1] = 's' # separator\n",
    "index_to_char[2] = '_' # mask\n",
    "\n",
    "# additional char_to_index and index_to_char extracted manually as shown in next \n",
    "# cells. They were extracted and then saved into a CSV file\n",
    "df = pd.read_csv('https://drive.google.com/uc?export=download&id=1lQFU7XFy82-1dE5kPK7yDLpJ6tleycCC')\n",
    "chars_2 = df['char'].values.tolist()\n",
    "indexes_2 = df['value'].values.tolist()\n",
    "del df\n",
    "\n",
    "# additional character to index dictionary\n",
    "char_to_index_2 = dict(zip(chars_2, indexes_2))\n",
    "# additional index to character dictionary\n",
    "index_to_char_2 = dict(zip(indexes_2, chars_2))"
   ]
  },
  {
   "cell_type": "code",
   "execution_count": null,
   "metadata": {
    "id": "HtXPA48lLs3l"
   },
   "outputs": [],
   "source": [
    "# read the prepared pre-trainig datasets\n",
    "train_df = pd.read_csv('https://drive.google.com/uc?export=download&id=1zu7Ohjgsodw3ffJVpAHDZfj2UIWT39QE')\n",
    "valid_df = pd.read_csv('https://drive.google.com/uc?export=download&id=1-1RggfVygU5svgMeZjgfK1Su_-AXZ_6V')"
   ]
  },
  {
   "cell_type": "code",
   "execution_count": null,
   "metadata": {
    "colab": {
     "base_uri": "https://localhost:8080/"
    },
    "id": "GoYnCOHENXfK",
    "outputId": "8c3ac904-f1e0-46a0-dd7d-0a1d2516da2e"
   },
   "outputs": [
    {
     "name": "stderr",
     "output_type": "stream",
     "text": [
      "100%|██████████| 11176/11176 [00:02<00:00, 4653.01it/s]\n",
      "100%|██████████| 1242/1242 [00:00<00:00, 4521.76it/s]\n"
     ]
    }
   ],
   "source": [
    "# create lists to fill with the indexes\n",
    "# parsed from the datasaets\n",
    "train_masked_labels, train_true_labels, train_masks = [], [], []\n",
    "valid_masked_labels, valid_true_labels, valid_masks = [], [], []\n",
    "\n",
    "# iterate over the training dataset and fill the three \n",
    "# lists with the true indexes, masked indexes, and masks\n",
    "for i in tqdm(range(len(train_df))):\n",
    "  train_masked_labels.append(ast.literal_eval(train_df.iloc[i, 0]))\n",
    "  train_true_labels.append(ast.literal_eval(train_df.iloc[i, 1]))\n",
    "  train_masks.append(ast.literal_eval(train_df.iloc[i, 2]))\n",
    "\n",
    "# iterate over the validation dataset and fill the three \n",
    "# lists with the true indexes, masked indexes, and masks\n",
    "for i in tqdm(range(len(valid_df))):\n",
    "  valid_masked_labels.append(ast.literal_eval(valid_df.iloc[i, 0]))\n",
    "  valid_true_labels.append(ast.literal_eval(valid_df.iloc[i, 1]))\n",
    "  valid_masks.append(ast.literal_eval(valid_df.iloc[i, 2]))\n",
    "\n",
    "# delete the training and validation sets and keep only the lists\n",
    "del train_df, valid_df"
   ]
  },
  {
   "cell_type": "code",
   "execution_count": null,
   "metadata": {
    "id": "pqzP2h3B8nd6"
   },
   "outputs": [],
   "source": [
    "# create a TensorFlow training dataset that performs multiple functions including\n",
    "# shuffling, batching, and prefetching\n",
    "train_ds = tf.data.Dataset.from_tensor_slices((tf.constant(train_masked_labels), tf.constant(train_true_labels), tf.constant(train_masks)))\n",
    "train_ds = train_ds.shuffle(config.BUFFER).batch(config.BATCH_SIZE, drop_remainder=False).prefetch(-1)\n",
    "\n",
    "# create a TensorFlow validation dataset that performs multiple functions including\n",
    "# batching and prefetching\n",
    "valid_ds = tf.data.Dataset.from_tensor_slices((tf.constant(valid_masked_labels), tf.constant(valid_true_labels), tf.constant(valid_masks)))\n",
    "valid_ds = valid_ds.batch(config.BATCH_SIZE, drop_remainder=False).prefetch(-1)"
   ]
  },
  {
   "cell_type": "markdown",
   "metadata": {
    "id": "KxixXmUyHE5v"
   },
   "source": [
    "# Models"
   ]
  },
  {
   "cell_type": "markdown",
   "metadata": {
    "id": "nyZY2swzlYUP"
   },
   "source": [
    "## Transformer"
   ]
  },
  {
   "cell_type": "markdown",
   "metadata": {},
   "source": [
    "Use the TensorFlow functional API to develop the CBERT model."
   ]
  },
  {
   "cell_type": "code",
   "execution_count": null,
   "metadata": {
    "id": "2ath2aA-fk-O"
   },
   "outputs": [],
   "source": [
    "def encoder_block(inputs, num_heads=8, key_dim=64, dropout=0.0, linear_shape=128):\n",
    "  # multi-head attention layer\n",
    "  x = layers.MultiHeadAttention(num_heads=num_heads,\n",
    "                                  key_dim=key_dim,\n",
    "                                  dropout=dropout)(inputs, inputs)\n",
    "  # add & norm\n",
    "  x = layers.Add()([inputs, x])\n",
    "  x1 = layers.LayerNormalization()(x)\n",
    "  # feed-forward\n",
    "  x = layers.Dense(linear_shape, activation='gelu')(x1)\n",
    "  x2 = layers.Dense(inputs.shape[-1], activation='linear')(x)\n",
    "  # add & norm\n",
    "  x = layers.Add()([x1, x2])\n",
    "  x = layers.LayerNormalization()(x)\n",
    "  return x"
   ]
  },
  {
   "cell_type": "code",
   "execution_count": null,
   "metadata": {
    "id": "f6FNdtPCfs2-"
   },
   "outputs": [],
   "source": [
    "def encoder_model(inputs, num_blocks=4, num_heads=8, key_dim=64, dropout=0.0, skip_ratio=0.0):\n",
    "  \n",
    "  # embedding layer that maps each input character index into a vector of the specified length\n",
    "  # in the config class\n",
    "  embedding_layer = layers.Embedding(input_dim=len(chars)+3, output_dim=config.EMBEDDING_SIZE, input_length=config.MAXLEN, mask_zero=True)\n",
    "  # use another trainable embedding layer to learn positional encoding \n",
    "  pos_encoding = layers.Embedding(input_dim=config.MAXLEN+1, output_dim=config.EMBEDDING_SIZE, input_length=config.MAXLEN, mask_zero=False)\n",
    "\n",
    "  # embedding layer for characters\n",
    "  embed = embedding_layer(inputs)\n",
    "  # trainable positional encoding\n",
    "  pos_encod = pos_encoding(tf.range(config.MAXLEN))\n",
    "  # add pos_encod to embeddings\n",
    "  encoded_embed = embed + pos_encod\n",
    "  # multi-head attention\n",
    "  mha = encoder_block(encoded_embed, num_heads=num_heads, key_dim=key_dim, dropout=dropout)\n",
    "  mha = skip_ratio * encoded_embed + (1 - skip_ratio) * mha # skip connection to preserve signal\n",
    "  # repeated blocks\n",
    "  block_outputs = dict()\n",
    "  for i in range(1, num_blocks):\n",
    "    x = mha\n",
    "    block_outputs[f'x{i}'] = x\n",
    "    mha = encoder_block(encoded_embed, num_heads=num_heads, key_dim=key_dim, dropout=dropout, linear_shape=128)\n",
    "    mha = skip_ratio * x + (1 - skip_ratio) * mha # skip connection to preserve signal\n",
    "  block_outputs[f'x{i+1}'] = mha\n",
    "  return block_outputs"
   ]
  },
  {
   "cell_type": "code",
   "execution_count": null,
   "metadata": {
    "id": "zRHE4G10ydR0"
   },
   "outputs": [],
   "source": [
    "def cbert_model():\n",
    "  # the full CBERT model\n",
    "  inputs = layers.Input(shape=(config.MAXLEN,), name='cbert_input')\n",
    "  bert_output = encoder_model(inputs, num_blocks=config.NUM_BLOCKS, \n",
    "                              num_heads=config.NUM_HEADS, key_dim=config.KEY_DIM,\n",
    "                              dropout=config.DROPOUT, skip_ratio=config.SKIP_RATIO)\n",
    "  final_encoder_name = [*bert_output][-1]\n",
    "  dense = layers.Dense(len(chars)+3, activation='softmax')(bert_output[final_encoder_name])\n",
    "\n",
    "  model = tf.keras.Model(inputs=inputs, outputs=dense)\n",
    "  return model"
   ]
  },
  {
   "cell_type": "code",
   "execution_count": null,
   "metadata": {
    "colab": {
     "base_uri": "https://localhost:8080/"
    },
    "id": "nCUwXJHXznhB",
    "outputId": "34d04d41-40d3-4f74-e870-a7c8f3bab03d"
   },
   "outputs": [
    {
     "name": "stdout",
     "output_type": "stream",
     "text": [
      "Model: \"model\"\n",
      "__________________________________________________________________________________________________\n",
      " Layer (type)                   Output Shape         Param #     Connected to                     \n",
      "==================================================================================================\n",
      " cbert_input (InputLayer)       [(None, 17)]         0           []                               \n",
      "                                                                                                  \n",
      " embedding (Embedding)          (None, 17, 256)      10496       ['cbert_input[0][0]']            \n",
      "                                                                                                  \n",
      " tf.__operators__.add (TFOpLamb  (None, 17, 256)     0           ['embedding[0][0]']              \n",
      " da)                                                                                              \n",
      "                                                                                                  \n",
      " multi_head_attention (MultiHea  (None, 17, 256)     526080      ['tf.__operators__.add[0][0]',   \n",
      " dAttention)                                                      'tf.__operators__.add[0][0]']   \n",
      "                                                                                                  \n",
      " add (Add)                      (None, 17, 256)      0           ['tf.__operators__.add[0][0]',   \n",
      "                                                                  'multi_head_attention[0][0]']   \n",
      "                                                                                                  \n",
      " layer_normalization (LayerNorm  (None, 17, 256)     512         ['add[0][0]']                    \n",
      " alization)                                                                                       \n",
      "                                                                                                  \n",
      " multi_head_attention_1 (MultiH  (None, 17, 256)     526080      ['tf.__operators__.add[0][0]',   \n",
      " eadAttention)                                                    'tf.__operators__.add[0][0]']   \n",
      "                                                                                                  \n",
      " dense (Dense)                  (None, 17, 128)      32896       ['layer_normalization[0][0]']    \n",
      "                                                                                                  \n",
      " add_2 (Add)                    (None, 17, 256)      0           ['tf.__operators__.add[0][0]',   \n",
      "                                                                  'multi_head_attention_1[0][0]'] \n",
      "                                                                                                  \n",
      " dense_1 (Dense)                (None, 17, 256)      33024       ['dense[0][0]']                  \n",
      "                                                                                                  \n",
      " layer_normalization_2 (LayerNo  (None, 17, 256)     512         ['add_2[0][0]']                  \n",
      " rmalization)                                                                                     \n",
      "                                                                                                  \n",
      " multi_head_attention_2 (MultiH  (None, 17, 256)     526080      ['tf.__operators__.add[0][0]',   \n",
      " eadAttention)                                                    'tf.__operators__.add[0][0]']   \n",
      "                                                                                                  \n",
      " add_1 (Add)                    (None, 17, 256)      0           ['layer_normalization[0][0]',    \n",
      "                                                                  'dense_1[0][0]']                \n",
      "                                                                                                  \n",
      " dense_2 (Dense)                (None, 17, 128)      32896       ['layer_normalization_2[0][0]']  \n",
      "                                                                                                  \n",
      " add_4 (Add)                    (None, 17, 256)      0           ['tf.__operators__.add[0][0]',   \n",
      "                                                                  'multi_head_attention_2[0][0]'] \n",
      "                                                                                                  \n",
      " layer_normalization_1 (LayerNo  (None, 17, 256)     512         ['add_1[0][0]']                  \n",
      " rmalization)                                                                                     \n",
      "                                                                                                  \n",
      " dense_3 (Dense)                (None, 17, 256)      33024       ['dense_2[0][0]']                \n",
      "                                                                                                  \n",
      " layer_normalization_4 (LayerNo  (None, 17, 256)     512         ['add_4[0][0]']                  \n",
      " rmalization)                                                                                     \n",
      "                                                                                                  \n",
      " multi_head_attention_3 (MultiH  (None, 17, 256)     526080      ['tf.__operators__.add[0][0]',   \n",
      " eadAttention)                                                    'tf.__operators__.add[0][0]']   \n",
      "                                                                                                  \n",
      " tf.math.multiply (TFOpLambda)  (None, 17, 256)      0           ['tf.__operators__.add[0][0]']   \n",
      "                                                                                                  \n",
      " tf.math.multiply_1 (TFOpLambda  (None, 17, 256)     0           ['layer_normalization_1[0][0]']  \n",
      " )                                                                                                \n",
      "                                                                                                  \n",
      " add_3 (Add)                    (None, 17, 256)      0           ['layer_normalization_2[0][0]',  \n",
      "                                                                  'dense_3[0][0]']                \n",
      "                                                                                                  \n",
      " dense_4 (Dense)                (None, 17, 128)      32896       ['layer_normalization_4[0][0]']  \n",
      "                                                                                                  \n",
      " add_6 (Add)                    (None, 17, 256)      0           ['tf.__operators__.add[0][0]',   \n",
      "                                                                  'multi_head_attention_3[0][0]'] \n",
      "                                                                                                  \n",
      " tf.__operators__.add_1 (TFOpLa  (None, 17, 256)     0           ['tf.math.multiply[0][0]',       \n",
      " mbda)                                                            'tf.math.multiply_1[0][0]']     \n",
      "                                                                                                  \n",
      " layer_normalization_3 (LayerNo  (None, 17, 256)     512         ['add_3[0][0]']                  \n",
      " rmalization)                                                                                     \n",
      "                                                                                                  \n",
      " dense_5 (Dense)                (None, 17, 256)      33024       ['dense_4[0][0]']                \n",
      "                                                                                                  \n",
      " layer_normalization_6 (LayerNo  (None, 17, 256)     512         ['add_6[0][0]']                  \n",
      " rmalization)                                                                                     \n",
      "                                                                                                  \n",
      " tf.math.multiply_2 (TFOpLambda  (None, 17, 256)     0           ['tf.__operators__.add_1[0][0]'] \n",
      " )                                                                                                \n",
      "                                                                                                  \n",
      " tf.math.multiply_3 (TFOpLambda  (None, 17, 256)     0           ['layer_normalization_3[0][0]']  \n",
      " )                                                                                                \n",
      "                                                                                                  \n",
      " add_5 (Add)                    (None, 17, 256)      0           ['layer_normalization_4[0][0]',  \n",
      "                                                                  'dense_5[0][0]']                \n",
      "                                                                                                  \n",
      " dense_6 (Dense)                (None, 17, 128)      32896       ['layer_normalization_6[0][0]']  \n",
      "                                                                                                  \n",
      " tf.__operators__.add_2 (TFOpLa  (None, 17, 256)     0           ['tf.math.multiply_2[0][0]',     \n",
      " mbda)                                                            'tf.math.multiply_3[0][0]']     \n",
      "                                                                                                  \n",
      " layer_normalization_5 (LayerNo  (None, 17, 256)     512         ['add_5[0][0]']                  \n",
      " rmalization)                                                                                     \n",
      "                                                                                                  \n",
      " dense_7 (Dense)                (None, 17, 256)      33024       ['dense_6[0][0]']                \n",
      "                                                                                                  \n",
      " tf.math.multiply_4 (TFOpLambda  (None, 17, 256)     0           ['tf.__operators__.add_2[0][0]'] \n",
      " )                                                                                                \n",
      "                                                                                                  \n",
      " tf.math.multiply_5 (TFOpLambda  (None, 17, 256)     0           ['layer_normalization_5[0][0]']  \n",
      " )                                                                                                \n",
      "                                                                                                  \n",
      " add_7 (Add)                    (None, 17, 256)      0           ['layer_normalization_6[0][0]',  \n",
      "                                                                  'dense_7[0][0]']                \n",
      "                                                                                                  \n",
      " tf.__operators__.add_3 (TFOpLa  (None, 17, 256)     0           ['tf.math.multiply_4[0][0]',     \n",
      " mbda)                                                            'tf.math.multiply_5[0][0]']     \n",
      "                                                                                                  \n",
      " layer_normalization_7 (LayerNo  (None, 17, 256)     512         ['add_7[0][0]']                  \n",
      " rmalization)                                                                                     \n",
      "                                                                                                  \n",
      " tf.math.multiply_6 (TFOpLambda  (None, 17, 256)     0           ['tf.__operators__.add_3[0][0]'] \n",
      " )                                                                                                \n",
      "                                                                                                  \n",
      " tf.math.multiply_7 (TFOpLambda  (None, 17, 256)     0           ['layer_normalization_7[0][0]']  \n",
      " )                                                                                                \n",
      "                                                                                                  \n",
      " tf.__operators__.add_4 (TFOpLa  (None, 17, 256)     0           ['tf.math.multiply_6[0][0]',     \n",
      " mbda)                                                            'tf.math.multiply_7[0][0]']     \n",
      "                                                                                                  \n",
      " dense_8 (Dense)                (None, 17, 41)       10537       ['tf.__operators__.add_4[0][0]'] \n",
      "                                                                                                  \n",
      "==================================================================================================\n",
      "Total params: 2,393,129\n",
      "Trainable params: 2,393,129\n",
      "Non-trainable params: 0\n",
      "__________________________________________________________________________________________________\n"
     ]
    }
   ],
   "source": [
    "# instantiate the model and print the summary\n",
    "cbert = cbert_model()\n",
    "cbert.summary()"
   ]
  },
  {
   "cell_type": "markdown",
   "metadata": {
    "id": "IwJ9mz_BHI37"
   },
   "source": [
    "## LSTM"
   ]
  },
  {
   "cell_type": "markdown",
   "metadata": {},
   "source": [
    "We investigate the performance of LSTM layers in this task"
   ]
  },
  {
   "cell_type": "code",
   "execution_count": null,
   "metadata": {
    "id": "t_zIeqCNGdzm"
   },
   "outputs": [],
   "source": [
    "def lstm_model():\n",
    "  # LSTM-based model with straightforward connections\n",
    "  inputs = layers.Input(shape=(config.MAXLEN,), name='cbert_input')\n",
    "  embed = layers.Embedding(input_dim=len(chars)+3, output_dim=config.EMBEDDING_SIZE, input_length=config.MAXLEN, mask_zero=True)(inputs)\n",
    "  lstm1 = layers.Bidirectional(layers.LSTM(256, return_sequences=True))(embed)\n",
    "  lstm2 = layers.Bidirectional(layers.LSTM(256, return_sequences=True))(lstm1)\n",
    "  lstm3 = layers.Bidirectional(layers.LSTM(128, return_sequences=True))(lstm2)\n",
    "  lstm4 = layers.Bidirectional(layers.LSTM(128, return_sequences=True))(lstm3)\n",
    "  output = layers.Dense(len(chars)+3, activation='softmax')(lstm4)\n",
    "  model = tf.keras.Model(inputs=inputs, outputs=output)\n",
    "  return model"
   ]
  },
  {
   "cell_type": "code",
   "execution_count": null,
   "metadata": {
    "colab": {
     "base_uri": "https://localhost:8080/"
    },
    "id": "k8Y81kPtm7df",
    "outputId": "00b33d99-5179-4523-a59b-354be16f7bd1"
   },
   "outputs": [
    {
     "name": "stdout",
     "output_type": "stream",
     "text": [
      "Model: \"model_1\"\n",
      "_________________________________________________________________\n",
      " Layer (type)                Output Shape              Param #   \n",
      "=================================================================\n",
      " cbert_input (InputLayer)    [(None, 17)]              0         \n",
      "                                                                 \n",
      " embedding_2 (Embedding)     (None, 17, 256)           10496     \n",
      "                                                                 \n",
      " bidirectional (Bidirectiona  (None, 17, 512)          1050624   \n",
      " l)                                                              \n",
      "                                                                 \n",
      " bidirectional_1 (Bidirectio  (None, 17, 512)          1574912   \n",
      " nal)                                                            \n",
      "                                                                 \n",
      " bidirectional_2 (Bidirectio  (None, 17, 256)          656384    \n",
      " nal)                                                            \n",
      "                                                                 \n",
      " bidirectional_3 (Bidirectio  (None, 17, 256)          394240    \n",
      " nal)                                                            \n",
      "                                                                 \n",
      " dense_9 (Dense)             (None, 17, 41)            10537     \n",
      "                                                                 \n",
      "=================================================================\n",
      "Total params: 3,697,193\n",
      "Trainable params: 3,697,193\n",
      "Non-trainable params: 0\n",
      "_________________________________________________________________\n"
     ]
    }
   ],
   "source": [
    "# instantiate the model and print the summary\n",
    "model = lstm_model()\n",
    "model.summary()"
   ]
  },
  {
   "cell_type": "markdown",
   "metadata": {
    "id": "dUS2z4EDlpa5"
   },
   "source": [
    "# Custom Training"
   ]
  },
  {
   "cell_type": "markdown",
   "metadata": {
    "id": "5pe92SVoreOY"
   },
   "source": [
    "## TPU"
   ]
  },
  {
   "cell_type": "markdown",
   "metadata": {
    "id": "WCPBQxXNkWny"
   },
   "source": [
    "## Transformer"
   ]
  },
  {
   "cell_type": "code",
   "execution_count": null,
   "metadata": {
    "colab": {
     "base_uri": "https://localhost:8080/"
    },
    "id": "_hliqhK4EX5-",
    "outputId": "14fad887-57fc-42b2-d27e-921b3e716d7b"
   },
   "outputs": [
    {
     "name": "stdout",
     "output_type": "stream",
     "text": [
      "Epoch: 1/100\n"
     ]
    },
    {
     "name": "stderr",
     "output_type": "stream",
     "text": [
      "100%|██████████| 6/6 [00:35<00:00,  5.91s/it]\n"
     ]
    },
    {
     "name": "stdout",
     "output_type": "stream",
     "text": [
      "Train loss: 0.9946330984433492 Train accuracy 0.05352939541141192\n"
     ]
    },
    {
     "name": "stderr",
     "output_type": "stream",
     "text": [
      "100%|██████████| 1/1 [00:05<00:00,  5.01s/it]\n"
     ]
    },
    {
     "name": "stdout",
     "output_type": "stream",
     "text": [
      "new model weights saved\n",
      "accuracy improved to 0.1101638674736023\n",
      "Valid loss: 0.9218062162399292 Valid accuracy 0.1101638674736023\n",
      "Epoch: 2/100\n"
     ]
    },
    {
     "name": "stderr",
     "output_type": "stream",
     "text": [
      "100%|██████████| 6/6 [00:03<00:00,  1.54it/s]\n"
     ]
    },
    {
     "name": "stdout",
     "output_type": "stream",
     "text": [
      "Train loss: 0.8859356045722961 Train accuracy 0.17103533570965132\n"
     ]
    },
    {
     "name": "stderr",
     "output_type": "stream",
     "text": [
      "100%|██████████| 1/1 [00:00<00:00,  1.64it/s]\n"
     ]
    },
    {
     "name": "stdout",
     "output_type": "stream",
     "text": [
      "new model weights saved\n",
      "accuracy improved to 0.27072083950042725\n",
      "Valid loss: 0.8349823951721191 Valid accuracy 0.27072083950042725\n",
      "Epoch: 3/100\n"
     ]
    },
    {
     "name": "stderr",
     "output_type": "stream",
     "text": [
      "100%|██████████| 6/6 [00:03<00:00,  1.68it/s]\n"
     ]
    },
    {
     "name": "stdout",
     "output_type": "stream",
     "text": [
      "Train loss: 0.8122537930806478 Train accuracy 0.28531410296758014\n"
     ]
    },
    {
     "name": "stderr",
     "output_type": "stream",
     "text": [
      "100%|██████████| 1/1 [00:00<00:00,  1.55it/s]\n"
     ]
    },
    {
     "name": "stdout",
     "output_type": "stream",
     "text": [
      "new model weights saved\n",
      "accuracy improved to 0.3090839982032776\n",
      "Valid loss: 0.7808036208152771 Valid accuracy 0.3090839982032776\n",
      "Epoch: 4/100\n"
     ]
    },
    {
     "name": "stderr",
     "output_type": "stream",
     "text": [
      "100%|██████████| 6/6 [00:03<00:00,  1.71it/s]\n"
     ]
    },
    {
     "name": "stdout",
     "output_type": "stream",
     "text": [
      "Train loss: 0.7636617918809255 Train accuracy 0.33451872567335766\n"
     ]
    },
    {
     "name": "stderr",
     "output_type": "stream",
     "text": [
      "100%|██████████| 1/1 [00:00<00:00,  1.69it/s]\n"
     ]
    },
    {
     "name": "stdout",
     "output_type": "stream",
     "text": [
      "new model weights saved\n",
      "accuracy improved to 0.37681156396865845\n",
      "Valid loss: 0.7419915199279785 Valid accuracy 0.37681156396865845\n",
      "Epoch: 5/100\n"
     ]
    },
    {
     "name": "stderr",
     "output_type": "stream",
     "text": [
      "100%|██████████| 6/6 [00:03<00:00,  1.67it/s]\n"
     ]
    },
    {
     "name": "stdout",
     "output_type": "stream",
     "text": [
      "Train loss: 0.7289776603380839 Train accuracy 0.41232151289780933\n"
     ]
    },
    {
     "name": "stderr",
     "output_type": "stream",
     "text": [
      "100%|██████████| 1/1 [00:01<00:00,  1.07s/it]\n"
     ]
    },
    {
     "name": "stdout",
     "output_type": "stream",
     "text": [
      "new model weights saved\n",
      "accuracy improved to 0.45472195744514465\n",
      "Valid loss: 0.7110316753387451 Valid accuracy 0.45472195744514465\n",
      "Epoch: 6/100\n"
     ]
    },
    {
     "name": "stderr",
     "output_type": "stream",
     "text": [
      "100%|██████████| 6/6 [00:03<00:00,  1.71it/s]\n"
     ]
    },
    {
     "name": "stdout",
     "output_type": "stream",
     "text": [
      "Train loss: 0.701112816731135 Train accuracy 0.4843551168839137\n"
     ]
    },
    {
     "name": "stderr",
     "output_type": "stream",
     "text": [
      "100%|██████████| 1/1 [00:00<00:00,  1.73it/s]\n"
     ]
    },
    {
     "name": "stdout",
     "output_type": "stream",
     "text": [
      "new model weights saved\n",
      "accuracy improved to 0.5470777153968811\n",
      "Valid loss: 0.6875680088996887 Valid accuracy 0.5470777153968811\n",
      "Epoch: 7/100\n"
     ]
    },
    {
     "name": "stderr",
     "output_type": "stream",
     "text": [
      "100%|██████████| 6/6 [00:03<00:00,  1.73it/s]\n"
     ]
    },
    {
     "name": "stdout",
     "output_type": "stream",
     "text": [
      "Train loss: 0.6800337632497152 Train accuracy 0.579393208026886\n"
     ]
    },
    {
     "name": "stderr",
     "output_type": "stream",
     "text": [
      "100%|██████████| 1/1 [00:00<00:00,  1.73it/s]\n"
     ]
    },
    {
     "name": "stdout",
     "output_type": "stream",
     "text": [
      "new model weights saved\n",
      "accuracy improved to 0.6134318113327026\n",
      "Valid loss: 0.6708219051361084 Valid accuracy 0.6134318113327026\n",
      "Epoch: 8/100\n"
     ]
    },
    {
     "name": "stderr",
     "output_type": "stream",
     "text": [
      "100%|██████████| 6/6 [00:03<00:00,  1.73it/s]\n"
     ]
    },
    {
     "name": "stdout",
     "output_type": "stream",
     "text": [
      "Train loss: 0.6640155216058096 Train accuracy 0.6308209498723348\n"
     ]
    },
    {
     "name": "stderr",
     "output_type": "stream",
     "text": [
      "100%|██████████| 1/1 [00:00<00:00,  1.81it/s]\n"
     ]
    },
    {
     "name": "stdout",
     "output_type": "stream",
     "text": [
      "new model weights saved\n",
      "accuracy improved to 0.6620725393295288\n",
      "Valid loss: 0.6581626534461975 Valid accuracy 0.6620725393295288\n",
      "Epoch: 9/100\n"
     ]
    },
    {
     "name": "stderr",
     "output_type": "stream",
     "text": [
      "100%|██████████| 6/6 [00:03<00:00,  1.73it/s]\n"
     ]
    },
    {
     "name": "stdout",
     "output_type": "stream",
     "text": [
      "Train loss: 0.6518380045890808 Train accuracy 0.6747025648752848\n"
     ]
    },
    {
     "name": "stderr",
     "output_type": "stream",
     "text": [
      "100%|██████████| 1/1 [00:00<00:00,  1.73it/s]\n"
     ]
    },
    {
     "name": "stdout",
     "output_type": "stream",
     "text": [
      "new model weights saved\n",
      "accuracy improved to 0.6995831727981567\n",
      "Valid loss: 0.6483466625213623 Valid accuracy 0.6995831727981567\n",
      "Epoch: 10/100\n"
     ]
    },
    {
     "name": "stderr",
     "output_type": "stream",
     "text": [
      "100%|██████████| 6/6 [00:03<00:00,  1.55it/s]\n"
     ]
    },
    {
     "name": "stdout",
     "output_type": "stream",
     "text": [
      "Train loss: 0.642628808816274 Train accuracy 0.7130630413691202\n"
     ]
    },
    {
     "name": "stderr",
     "output_type": "stream",
     "text": [
      "100%|██████████| 1/1 [00:00<00:00,  1.69it/s]\n"
     ]
    },
    {
     "name": "stdout",
     "output_type": "stream",
     "text": [
      "new model weights saved\n",
      "accuracy improved to 0.7275267243385315\n",
      "Valid loss: 0.640585720539093 Valid accuracy 0.7275267243385315\n",
      "Epoch: 11/100\n"
     ]
    },
    {
     "name": "stderr",
     "output_type": "stream",
     "text": [
      "100%|██████████| 6/6 [00:03<00:00,  1.70it/s]\n"
     ]
    },
    {
     "name": "stdout",
     "output_type": "stream",
     "text": [
      "Train loss: 0.6349615355332693 Train accuracy 0.7366450826327006\n"
     ]
    },
    {
     "name": "stderr",
     "output_type": "stream",
     "text": [
      "100%|██████████| 1/1 [00:00<00:00,  1.74it/s]\n"
     ]
    },
    {
     "name": "stdout",
     "output_type": "stream",
     "text": [
      "new model weights saved\n",
      "accuracy improved to 0.7456663250923157\n",
      "Valid loss: 0.634162425994873 Valid accuracy 0.7456663250923157\n",
      "Epoch: 12/100\n"
     ]
    },
    {
     "name": "stderr",
     "output_type": "stream",
     "text": [
      "100%|██████████| 6/6 [00:03<00:00,  1.74it/s]\n"
     ]
    },
    {
     "name": "stdout",
     "output_type": "stream",
     "text": [
      "Train loss: 0.628923217455546 Train accuracy 0.7512348095575968\n"
     ]
    },
    {
     "name": "stderr",
     "output_type": "stream",
     "text": [
      "100%|██████████| 1/1 [00:00<00:00,  1.74it/s]\n"
     ]
    },
    {
     "name": "stdout",
     "output_type": "stream",
     "text": [
      "new model weights saved\n",
      "accuracy improved to 0.7555176019668579\n",
      "Valid loss: 0.6288980841636658 Valid accuracy 0.7555176019668579\n",
      "Epoch: 13/100\n"
     ]
    },
    {
     "name": "stderr",
     "output_type": "stream",
     "text": [
      "100%|██████████| 6/6 [00:03<00:00,  1.76it/s]\n"
     ]
    },
    {
     "name": "stdout",
     "output_type": "stream",
     "text": [
      "Train loss: 0.623466283082962 Train accuracy 0.7621153394381205\n"
     ]
    },
    {
     "name": "stderr",
     "output_type": "stream",
     "text": [
      "100%|██████████| 1/1 [00:00<00:00,  1.78it/s]\n"
     ]
    },
    {
     "name": "stdout",
     "output_type": "stream",
     "text": [
      "new model weights saved\n",
      "accuracy improved to 0.7656056880950928\n",
      "Valid loss: 0.6246042251586914 Valid accuracy 0.7656056880950928\n",
      "Epoch: 14/100\n"
     ]
    },
    {
     "name": "stderr",
     "output_type": "stream",
     "text": [
      "100%|██████████| 6/6 [00:03<00:00,  1.54it/s]\n"
     ]
    },
    {
     "name": "stdout",
     "output_type": "stream",
     "text": [
      "Train loss: 0.619867225488027 Train accuracy 0.769702156384786\n"
     ]
    },
    {
     "name": "stderr",
     "output_type": "stream",
     "text": [
      "100%|██████████| 1/1 [00:00<00:00,  1.85it/s]\n"
     ]
    },
    {
     "name": "stdout",
     "output_type": "stream",
     "text": [
      "new model weights saved\n",
      "accuracy improved to 0.7702471613883972\n",
      "Valid loss: 0.6210025548934937 Valid accuracy 0.7702471613883972\n",
      "Epoch: 15/100\n"
     ]
    },
    {
     "name": "stderr",
     "output_type": "stream",
     "text": [
      "100%|██████████| 6/6 [00:03<00:00,  1.76it/s]\n"
     ]
    },
    {
     "name": "stdout",
     "output_type": "stream",
     "text": [
      "Train loss: 0.6155583560466766 Train accuracy 0.7743757764498392\n"
     ]
    },
    {
     "name": "stderr",
     "output_type": "stream",
     "text": [
      "100%|██████████| 1/1 [00:00<00:00,  1.82it/s]\n"
     ]
    },
    {
     "name": "stdout",
     "output_type": "stream",
     "text": [
      "new model weights saved\n",
      "accuracy improved to 0.7750307321548462\n",
      "Valid loss: 0.6179603338241577 Valid accuracy 0.7750307321548462\n",
      "Epoch: 16/100\n"
     ]
    },
    {
     "name": "stderr",
     "output_type": "stream",
     "text": [
      "100%|██████████| 6/6 [00:03<00:00,  1.78it/s]\n"
     ]
    },
    {
     "name": "stdout",
     "output_type": "stream",
     "text": [
      "Train loss: 0.6123446921507517 Train accuracy 0.7785076896349589\n"
     ]
    },
    {
     "name": "stderr",
     "output_type": "stream",
     "text": [
      "100%|██████████| 1/1 [00:00<00:00,  1.80it/s]\n"
     ]
    },
    {
     "name": "stdout",
     "output_type": "stream",
     "text": [
      "new model weights saved\n",
      "accuracy improved to 0.7796722054481506\n",
      "Valid loss: 0.6153596639633179 Valid accuracy 0.7796722054481506\n",
      "Epoch: 17/100\n"
     ]
    },
    {
     "name": "stderr",
     "output_type": "stream",
     "text": [
      "100%|██████████| 6/6 [00:03<00:00,  1.51it/s]\n"
     ]
    },
    {
     "name": "stdout",
     "output_type": "stream",
     "text": [
      "Train loss: 0.6104063292344412 Train accuracy 0.7821239332358042\n"
     ]
    },
    {
     "name": "stderr",
     "output_type": "stream",
     "text": [
      "100%|██████████| 1/1 [00:00<00:00,  1.74it/s]\n"
     ]
    },
    {
     "name": "stdout",
     "output_type": "stream",
     "text": [
      "new model weights saved\n",
      "accuracy improved to 0.7827507257461548\n",
      "Valid loss: 0.6129616498947144 Valid accuracy 0.7827507257461548\n",
      "Epoch: 18/100\n"
     ]
    },
    {
     "name": "stderr",
     "output_type": "stream",
     "text": [
      "100%|██████████| 6/6 [00:03<00:00,  1.71it/s]\n"
     ]
    },
    {
     "name": "stdout",
     "output_type": "stream",
     "text": [
      "Train loss: 0.6076500515143076 Train accuracy 0.7855975925922394\n"
     ]
    },
    {
     "name": "stderr",
     "output_type": "stream",
     "text": [
      "100%|██████████| 1/1 [00:00<00:00,  1.71it/s]\n"
     ]
    },
    {
     "name": "stdout",
     "output_type": "stream",
     "text": [
      "new model weights saved\n",
      "accuracy improved to 0.785923957824707\n",
      "Valid loss: 0.6108455657958984 Valid accuracy 0.785923957824707\n",
      "Epoch: 19/100\n"
     ]
    },
    {
     "name": "stderr",
     "output_type": "stream",
     "text": [
      "100%|██████████| 6/6 [00:03<00:00,  1.77it/s]\n"
     ]
    },
    {
     "name": "stdout",
     "output_type": "stream",
     "text": [
      "Train loss: 0.6049498617649078 Train accuracy 0.7893708745638529\n"
     ]
    },
    {
     "name": "stderr",
     "output_type": "stream",
     "text": [
      "100%|██████████| 1/1 [00:00<00:00,  1.80it/s]\n"
     ]
    },
    {
     "name": "stdout",
     "output_type": "stream",
     "text": [
      "new model weights saved\n",
      "accuracy improved to 0.7891445755958557\n",
      "Valid loss: 0.6088618636131287 Valid accuracy 0.7891445755958557\n",
      "Epoch: 20/100\n"
     ]
    },
    {
     "name": "stderr",
     "output_type": "stream",
     "text": [
      "100%|██████████| 6/6 [00:03<00:00,  1.76it/s]\n"
     ]
    },
    {
     "name": "stdout",
     "output_type": "stream",
     "text": [
      "Train loss: 0.6031540632247925 Train accuracy 0.7920634150505066\n"
     ]
    },
    {
     "name": "stderr",
     "output_type": "stream",
     "text": [
      "100%|██████████| 1/1 [00:00<00:00,  1.85it/s]\n"
     ]
    },
    {
     "name": "stdout",
     "output_type": "stream",
     "text": [
      "new model weights saved\n",
      "accuracy improved to 0.7919862866401672\n",
      "Valid loss: 0.6072369813919067 Valid accuracy 0.7919862866401672\n",
      "Epoch: 21/100\n"
     ]
    },
    {
     "name": "stderr",
     "output_type": "stream",
     "text": [
      "100%|██████████| 6/6 [00:03<00:00,  1.54it/s]\n"
     ]
    },
    {
     "name": "stdout",
     "output_type": "stream",
     "text": [
      "Train loss: 0.6012481252352396 Train accuracy 0.7945160369078318\n"
     ]
    },
    {
     "name": "stderr",
     "output_type": "stream",
     "text": [
      "100%|██████████| 1/1 [00:00<00:00,  1.81it/s]\n"
     ]
    },
    {
     "name": "stdout",
     "output_type": "stream",
     "text": [
      "new model weights saved\n",
      "accuracy improved to 0.7943543791770935\n",
      "Valid loss: 0.6055896878242493 Valid accuracy 0.7943543791770935\n",
      "Epoch: 22/100\n"
     ]
    },
    {
     "name": "stderr",
     "output_type": "stream",
     "text": [
      "100%|██████████| 6/6 [00:03<00:00,  1.76it/s]\n"
     ]
    },
    {
     "name": "stdout",
     "output_type": "stream",
     "text": [
      "Train loss: 0.6001278162002563 Train accuracy 0.7964842518170675\n"
     ]
    },
    {
     "name": "stderr",
     "output_type": "stream",
     "text": [
      "100%|██████████| 1/1 [00:00<00:00,  1.81it/s]\n"
     ]
    },
    {
     "name": "stdout",
     "output_type": "stream",
     "text": [
      "new model weights saved\n",
      "accuracy improved to 0.7966751456260681\n",
      "Valid loss: 0.6042640805244446 Valid accuracy 0.7966751456260681\n",
      "Epoch: 23/100\n"
     ]
    },
    {
     "name": "stderr",
     "output_type": "stream",
     "text": [
      "100%|██████████| 6/6 [00:03<00:00,  1.77it/s]\n"
     ]
    },
    {
     "name": "stdout",
     "output_type": "stream",
     "text": [
      "Train loss: 0.5981359481811523 Train accuracy 0.7990707159042358\n"
     ]
    },
    {
     "name": "stderr",
     "output_type": "stream",
     "text": [
      "100%|██████████| 1/1 [00:00<00:00,  1.72it/s]\n"
     ]
    },
    {
     "name": "stdout",
     "output_type": "stream",
     "text": [
      "new model weights saved\n",
      "accuracy improved to 0.7983328104019165\n",
      "Valid loss: 0.6031275987625122 Valid accuracy 0.7983328104019165\n",
      "Epoch: 24/100\n"
     ]
    },
    {
     "name": "stderr",
     "output_type": "stream",
     "text": [
      "100%|██████████| 6/6 [00:03<00:00,  1.73it/s]\n"
     ]
    },
    {
     "name": "stdout",
     "output_type": "stream",
     "text": [
      "Train loss: 0.5969691773255666 Train accuracy 0.7997747361660004\n"
     ]
    },
    {
     "name": "stderr",
     "output_type": "stream",
     "text": [
      "100%|██████████| 1/1 [00:01<00:00,  1.10s/it]\n"
     ]
    },
    {
     "name": "stdout",
     "output_type": "stream",
     "text": [
      "new model weights saved\n",
      "accuracy improved to 0.8009850978851318\n",
      "Valid loss: 0.6020347476005554 Valid accuracy 0.8009850978851318\n",
      "Epoch: 25/100\n"
     ]
    },
    {
     "name": "stderr",
     "output_type": "stream",
     "text": [
      "100%|██████████| 6/6 [00:03<00:00,  1.70it/s]\n"
     ]
    },
    {
     "name": "stdout",
     "output_type": "stream",
     "text": [
      "Train loss: 0.5959201951821645 Train accuracy 0.8022820850213369\n"
     ]
    },
    {
     "name": "stderr",
     "output_type": "stream",
     "text": [
      "100%|██████████| 1/1 [00:00<00:00,  1.71it/s]\n"
     ]
    },
    {
     "name": "stdout",
     "output_type": "stream",
     "text": [
      "new model weights saved\n",
      "accuracy improved to 0.8010798096656799\n",
      "Valid loss: 0.6010624170303345 Valid accuracy 0.8010798096656799\n",
      "Epoch: 26/100\n"
     ]
    },
    {
     "name": "stderr",
     "output_type": "stream",
     "text": [
      "100%|██████████| 6/6 [00:03<00:00,  1.70it/s]\n"
     ]
    },
    {
     "name": "stdout",
     "output_type": "stream",
     "text": [
      "Train loss: 0.5943728586037954 Train accuracy 0.8026417891184489\n"
     ]
    },
    {
     "name": "stderr",
     "output_type": "stream",
     "text": [
      "100%|██████████| 1/1 [00:00<00:00,  1.72it/s]\n"
     ]
    },
    {
     "name": "stdout",
     "output_type": "stream",
     "text": [
      "new model weights saved\n",
      "accuracy improved to 0.8039215207099915\n",
      "Valid loss: 0.6003641486167908 Valid accuracy 0.8039215207099915\n",
      "Epoch: 27/100\n"
     ]
    },
    {
     "name": "stderr",
     "output_type": "stream",
     "text": [
      "100%|██████████| 6/6 [00:03<00:00,  1.75it/s]\n"
     ]
    },
    {
     "name": "stdout",
     "output_type": "stream",
     "text": [
      "Train loss: 0.5938966870307922 Train accuracy 0.8041756351788839\n"
     ]
    },
    {
     "name": "stderr",
     "output_type": "stream",
     "text": [
      "100%|██████████| 1/1 [00:00<00:00,  1.71it/s]\n"
     ]
    },
    {
     "name": "stdout",
     "output_type": "stream",
     "text": [
      "accuracy didn't improve from 0.8039215207099915\n",
      "Valid loss: 0.5995751023292542 Valid accuracy 0.803874135017395\n",
      "Epoch: 28/100\n"
     ]
    },
    {
     "name": "stderr",
     "output_type": "stream",
     "text": [
      "100%|██████████| 6/6 [00:03<00:00,  1.50it/s]\n"
     ]
    },
    {
     "name": "stdout",
     "output_type": "stream",
     "text": [
      "Train loss: 0.5925396780172983 Train accuracy 0.8056293229262034\n"
     ]
    },
    {
     "name": "stderr",
     "output_type": "stream",
     "text": [
      "100%|██████████| 1/1 [00:00<00:00,  1.71it/s]\n"
     ]
    },
    {
     "name": "stdout",
     "output_type": "stream",
     "text": [
      "new model weights saved\n",
      "accuracy improved to 0.8053897023200989\n",
      "Valid loss: 0.5989591479301453 Valid accuracy 0.8053897023200989\n",
      "Epoch: 29/100\n"
     ]
    },
    {
     "name": "stderr",
     "output_type": "stream",
     "text": [
      "100%|██████████| 6/6 [00:03<00:00,  1.68it/s]\n"
     ]
    },
    {
     "name": "stdout",
     "output_type": "stream",
     "text": [
      "Train loss: 0.5923872689406077 Train accuracy 0.8062801162401835\n"
     ]
    },
    {
     "name": "stderr",
     "output_type": "stream",
     "text": [
      "100%|██████████| 1/1 [00:00<00:00,  1.66it/s]\n"
     ]
    },
    {
     "name": "stdout",
     "output_type": "stream",
     "text": [
      "new model weights saved\n",
      "accuracy improved to 0.8060054183006287\n",
      "Valid loss: 0.5983552932739258 Valid accuracy 0.8060054183006287\n",
      "Epoch: 30/100\n"
     ]
    },
    {
     "name": "stderr",
     "output_type": "stream",
     "text": [
      "100%|██████████| 6/6 [00:03<00:00,  1.68it/s]\n"
     ]
    },
    {
     "name": "stdout",
     "output_type": "stream",
     "text": [
      "Train loss: 0.5914411147435507 Train accuracy 0.8068129618962606\n"
     ]
    },
    {
     "name": "stderr",
     "output_type": "stream",
     "text": [
      "100%|██████████| 1/1 [00:00<00:00,  1.69it/s]\n"
     ]
    },
    {
     "name": "stdout",
     "output_type": "stream",
     "text": [
      "new model weights saved\n",
      "accuracy improved to 0.8090366125106812\n",
      "Valid loss: 0.5978626608848572 Valid accuracy 0.8090366125106812\n",
      "Epoch: 31/100\n"
     ]
    },
    {
     "name": "stderr",
     "output_type": "stream",
     "text": [
      "100%|██████████| 6/6 [00:03<00:00,  1.69it/s]\n"
     ]
    },
    {
     "name": "stdout",
     "output_type": "stream",
     "text": [
      "Train loss: 0.5905640224615732 Train accuracy 0.8083206713199615\n"
     ]
    },
    {
     "name": "stderr",
     "output_type": "stream",
     "text": [
      "100%|██████████| 1/1 [00:01<00:00,  1.10s/it]\n"
     ]
    },
    {
     "name": "stdout",
     "output_type": "stream",
     "text": [
      "accuracy didn't improve from 0.8090366125106812\n",
      "Valid loss: 0.5973262786865234 Valid accuracy 0.8076157569885254\n",
      "Epoch: 32/100\n"
     ]
    },
    {
     "name": "stderr",
     "output_type": "stream",
     "text": [
      "100%|██████████| 6/6 [00:03<00:00,  1.69it/s]\n"
     ]
    },
    {
     "name": "stdout",
     "output_type": "stream",
     "text": [
      "Train loss: 0.5900065799554189 Train accuracy 0.808219333489736\n"
     ]
    },
    {
     "name": "stderr",
     "output_type": "stream",
     "text": [
      "100%|██████████| 1/1 [00:00<00:00,  1.75it/s]\n"
     ]
    },
    {
     "name": "stdout",
     "output_type": "stream",
     "text": [
      "new model weights saved\n",
      "accuracy improved to 0.8101732730865479\n",
      "Valid loss: 0.5968198776245117 Valid accuracy 0.8101732730865479\n",
      "Epoch: 33/100\n"
     ]
    },
    {
     "name": "stderr",
     "output_type": "stream",
     "text": [
      "100%|██████████| 6/6 [00:03<00:00,  1.64it/s]\n"
     ]
    },
    {
     "name": "stdout",
     "output_type": "stream",
     "text": [
      "Train loss: 0.5893960297107697 Train accuracy 0.8086357712745667\n"
     ]
    },
    {
     "name": "stderr",
     "output_type": "stream",
     "text": [
      "100%|██████████| 1/1 [00:00<00:00,  1.68it/s]\n"
     ]
    },
    {
     "name": "stdout",
     "output_type": "stream",
     "text": [
      "new model weights saved\n",
      "accuracy improved to 0.8105995655059814\n",
      "Valid loss: 0.5964325666427612 Valid accuracy 0.8105995655059814\n",
      "Epoch: 34/100\n"
     ]
    },
    {
     "name": "stderr",
     "output_type": "stream",
     "text": [
      "100%|██████████| 6/6 [00:03<00:00,  1.61it/s]\n"
     ]
    },
    {
     "name": "stdout",
     "output_type": "stream",
     "text": [
      "Train loss: 0.5885610977808634 Train accuracy 0.8098396062850952\n"
     ]
    },
    {
     "name": "stderr",
     "output_type": "stream",
     "text": [
      "100%|██████████| 1/1 [00:00<00:00,  1.73it/s]\n"
     ]
    },
    {
     "name": "stdout",
     "output_type": "stream",
     "text": [
      "new model weights saved\n",
      "accuracy improved to 0.8107416033744812\n",
      "Valid loss: 0.5960790514945984 Valid accuracy 0.8107416033744812\n",
      "Epoch: 35/100\n"
     ]
    },
    {
     "name": "stderr",
     "output_type": "stream",
     "text": [
      "100%|██████████| 6/6 [00:03<00:00,  1.63it/s]\n"
     ]
    },
    {
     "name": "stdout",
     "output_type": "stream",
     "text": [
      "Train loss: 0.5880041718482971 Train accuracy 0.8100516696770986\n"
     ]
    },
    {
     "name": "stderr",
     "output_type": "stream",
     "text": [
      "100%|██████████| 1/1 [00:00<00:00,  1.62it/s]\n"
     ]
    },
    {
     "name": "stdout",
     "output_type": "stream",
     "text": [
      "new model weights saved\n",
      "accuracy improved to 0.8118309378623962\n",
      "Valid loss: 0.595818817615509 Valid accuracy 0.8118309378623962\n",
      "Epoch: 36/100\n"
     ]
    },
    {
     "name": "stderr",
     "output_type": "stream",
     "text": [
      "100%|██████████| 6/6 [00:03<00:00,  1.61it/s]\n"
     ]
    },
    {
     "name": "stdout",
     "output_type": "stream",
     "text": [
      "Train loss: 0.5874846378962199 Train accuracy 0.809961716334025\n"
     ]
    },
    {
     "name": "stderr",
     "output_type": "stream",
     "text": [
      "100%|██████████| 1/1 [00:00<00:00,  1.59it/s]\n"
     ]
    },
    {
     "name": "stdout",
     "output_type": "stream",
     "text": [
      "new model weights saved\n",
      "accuracy improved to 0.8123993277549744\n",
      "Valid loss: 0.5954002141952515 Valid accuracy 0.8123993277549744\n",
      "Epoch: 37/100\n"
     ]
    },
    {
     "name": "stderr",
     "output_type": "stream",
     "text": [
      "100%|██████████| 6/6 [00:04<00:00,  1.40it/s]\n"
     ]
    },
    {
     "name": "stdout",
     "output_type": "stream",
     "text": [
      "Train loss: 0.5870323777198792 Train accuracy 0.8104119797547659\n"
     ]
    },
    {
     "name": "stderr",
     "output_type": "stream",
     "text": [
      "100%|██████████| 1/1 [00:00<00:00,  1.66it/s]\n"
     ]
    },
    {
     "name": "stdout",
     "output_type": "stream",
     "text": [
      "accuracy didn't improve from 0.8123993277549744\n",
      "Valid loss: 0.5950915217399597 Valid accuracy 0.8123993277549744\n",
      "Epoch: 38/100\n"
     ]
    },
    {
     "name": "stderr",
     "output_type": "stream",
     "text": [
      "100%|██████████| 6/6 [00:03<00:00,  1.62it/s]\n"
     ]
    },
    {
     "name": "stdout",
     "output_type": "stream",
     "text": [
      "Train loss: 0.5870089034239451 Train accuracy 0.8106406033039093\n"
     ]
    },
    {
     "name": "stderr",
     "output_type": "stream",
     "text": [
      "100%|██████████| 1/1 [00:00<00:00,  1.58it/s]\n"
     ]
    },
    {
     "name": "stdout",
     "output_type": "stream",
     "text": [
      "new model weights saved\n",
      "accuracy improved to 0.8129202723503113\n",
      "Valid loss: 0.5948101282119751 Valid accuracy 0.8129202723503113\n",
      "Epoch: 39/100\n"
     ]
    },
    {
     "name": "stderr",
     "output_type": "stream",
     "text": [
      "100%|██████████| 6/6 [00:03<00:00,  1.66it/s]\n"
     ]
    },
    {
     "name": "stdout",
     "output_type": "stream",
     "text": [
      "Train loss: 0.5864635407924652 Train accuracy 0.8115385671456655\n"
     ]
    },
    {
     "name": "stderr",
     "output_type": "stream",
     "text": [
      "100%|██████████| 1/1 [00:00<00:00,  1.62it/s]\n"
     ]
    },
    {
     "name": "stdout",
     "output_type": "stream",
     "text": [
      "new model weights saved\n",
      "accuracy improved to 0.8132991790771484\n",
      "Valid loss: 0.5945394039154053 Valid accuracy 0.8132991790771484\n",
      "Epoch: 40/100\n"
     ]
    },
    {
     "name": "stderr",
     "output_type": "stream",
     "text": [
      "100%|██████████| 6/6 [00:03<00:00,  1.55it/s]\n"
     ]
    },
    {
     "name": "stdout",
     "output_type": "stream",
     "text": [
      "Train loss: 0.5860034624735514 Train accuracy 0.8119768897692362\n"
     ]
    },
    {
     "name": "stderr",
     "output_type": "stream",
     "text": [
      "100%|██████████| 1/1 [00:00<00:00,  1.48it/s]\n"
     ]
    },
    {
     "name": "stdout",
     "output_type": "stream",
     "text": [
      "new model weights saved\n",
      "accuracy improved to 0.8143885135650635\n",
      "Valid loss: 0.5943736433982849 Valid accuracy 0.8143885135650635\n",
      "Epoch: 41/100\n"
     ]
    },
    {
     "name": "stderr",
     "output_type": "stream",
     "text": [
      "100%|██████████| 6/6 [00:04<00:00,  1.39it/s]\n"
     ]
    },
    {
     "name": "stdout",
     "output_type": "stream",
     "text": [
      "Train loss: 0.5851413806279501 Train accuracy 0.812444269657135\n"
     ]
    },
    {
     "name": "stderr",
     "output_type": "stream",
     "text": [
      "100%|██████████| 1/1 [00:00<00:00,  1.60it/s]\n"
     ]
    },
    {
     "name": "stdout",
     "output_type": "stream",
     "text": [
      "accuracy didn't improve from 0.8143885135650635\n",
      "Valid loss: 0.5941457748413086 Valid accuracy 0.8138201832771301\n",
      "Epoch: 42/100\n"
     ]
    },
    {
     "name": "stderr",
     "output_type": "stream",
     "text": [
      "100%|██████████| 6/6 [00:03<00:00,  1.63it/s]\n"
     ]
    },
    {
     "name": "stdout",
     "output_type": "stream",
     "text": [
      "Train loss: 0.5847591658433279 Train accuracy 0.8121528327465057\n"
     ]
    },
    {
     "name": "stderr",
     "output_type": "stream",
     "text": [
      "100%|██████████| 1/1 [00:00<00:00,  1.66it/s]\n"
     ]
    },
    {
     "name": "stdout",
     "output_type": "stream",
     "text": [
      "new model weights saved\n",
      "accuracy improved to 0.8150989413261414\n",
      "Valid loss: 0.5938700437545776 Valid accuracy 0.8150989413261414\n",
      "Epoch: 43/100\n"
     ]
    },
    {
     "name": "stderr",
     "output_type": "stream",
     "text": [
      "100%|██████████| 6/6 [00:03<00:00,  1.64it/s]\n"
     ]
    },
    {
     "name": "stdout",
     "output_type": "stream",
     "text": [
      "Train loss: 0.5845906734466553 Train accuracy 0.8129986623922983\n"
     ]
    },
    {
     "name": "stderr",
     "output_type": "stream",
     "text": [
      "100%|██████████| 1/1 [00:00<00:00,  1.59it/s]\n"
     ]
    },
    {
     "name": "stdout",
     "output_type": "stream",
     "text": [
      "new model weights saved\n",
      "accuracy improved to 0.8155251741409302\n",
      "Valid loss: 0.5937370657920837 Valid accuracy 0.8155251741409302\n",
      "Epoch: 44/100\n"
     ]
    },
    {
     "name": "stderr",
     "output_type": "stream",
     "text": [
      "100%|██████████| 6/6 [00:04<00:00,  1.40it/s]\n"
     ]
    },
    {
     "name": "stdout",
     "output_type": "stream",
     "text": [
      "Train loss: 0.5846267839272817 Train accuracy 0.8134962419668833\n"
     ]
    },
    {
     "name": "stderr",
     "output_type": "stream",
     "text": [
      "100%|██████████| 1/1 [00:00<00:00,  1.65it/s]\n"
     ]
    },
    {
     "name": "stdout",
     "output_type": "stream",
     "text": [
      "accuracy didn't improve from 0.8155251741409302\n",
      "Valid loss: 0.5934956669807434 Valid accuracy 0.814246416091919\n",
      "Epoch: 45/100\n"
     ]
    },
    {
     "name": "stderr",
     "output_type": "stream",
     "text": [
      "100%|██████████| 6/6 [00:03<00:00,  1.65it/s]\n"
     ]
    },
    {
     "name": "stdout",
     "output_type": "stream",
     "text": [
      "Train loss: 0.5838361978530884 Train accuracy 0.8138891458511353\n"
     ]
    },
    {
     "name": "stderr",
     "output_type": "stream",
     "text": [
      "100%|██████████| 1/1 [00:00<00:00,  1.61it/s]\n"
     ]
    },
    {
     "name": "stdout",
     "output_type": "stream",
     "text": [
      "new model weights saved\n",
      "accuracy improved to 0.8168039321899414\n",
      "Valid loss: 0.5932764410972595 Valid accuracy 0.8168039321899414\n",
      "Epoch: 46/100\n"
     ]
    },
    {
     "name": "stderr",
     "output_type": "stream",
     "text": [
      "100%|██████████| 6/6 [00:03<00:00,  1.74it/s]\n"
     ]
    },
    {
     "name": "stdout",
     "output_type": "stream",
     "text": [
      "Train loss: 0.583786278963089 Train accuracy 0.8140661815802256\n"
     ]
    },
    {
     "name": "stderr",
     "output_type": "stream",
     "text": [
      "100%|██████████| 1/1 [00:00<00:00,  1.76it/s]\n"
     ]
    },
    {
     "name": "stdout",
     "output_type": "stream",
     "text": [
      "accuracy didn't improve from 0.8168039321899414\n",
      "Valid loss: 0.5931763648986816 Valid accuracy 0.8167092204093933\n",
      "Epoch: 47/100\n"
     ]
    },
    {
     "name": "stderr",
     "output_type": "stream",
     "text": [
      "100%|██████████| 6/6 [00:03<00:00,  1.72it/s]\n"
     ]
    },
    {
     "name": "stdout",
     "output_type": "stream",
     "text": [
      "Train loss: 0.5834100345770518 Train accuracy 0.8146296441555023\n"
     ]
    },
    {
     "name": "stderr",
     "output_type": "stream",
     "text": [
      "100%|██████████| 1/1 [00:00<00:00,  1.77it/s]\n"
     ]
    },
    {
     "name": "stdout",
     "output_type": "stream",
     "text": [
      "accuracy didn't improve from 0.8168039321899414\n",
      "Valid loss: 0.5930085182189941 Valid accuracy 0.8163303136825562\n",
      "Epoch: 48/100\n"
     ]
    },
    {
     "name": "stderr",
     "output_type": "stream",
     "text": [
      "100%|██████████| 6/6 [00:03<00:00,  1.73it/s]\n"
     ]
    },
    {
     "name": "stdout",
     "output_type": "stream",
     "text": [
      "Train loss: 0.5833912591139475 Train accuracy 0.8148190180460612\n"
     ]
    },
    {
     "name": "stderr",
     "output_type": "stream",
     "text": [
      "100%|██████████| 1/1 [00:00<00:00,  1.75it/s]\n"
     ]
    },
    {
     "name": "stdout",
     "output_type": "stream",
     "text": [
      "new model weights saved\n",
      "accuracy improved to 0.8169934153556824\n",
      "Valid loss: 0.5928016304969788 Valid accuracy 0.8169934153556824\n",
      "Epoch: 49/100\n"
     ]
    },
    {
     "name": "stderr",
     "output_type": "stream",
     "text": [
      "100%|██████████| 6/6 [00:03<00:00,  1.72it/s]\n"
     ]
    },
    {
     "name": "stdout",
     "output_type": "stream",
     "text": [
      "Train loss: 0.5825810432434082 Train accuracy 0.8149891893068949\n"
     ]
    },
    {
     "name": "stderr",
     "output_type": "stream",
     "text": [
      "100%|██████████| 1/1 [00:01<00:00,  1.08s/it]\n"
     ]
    },
    {
     "name": "stdout",
     "output_type": "stream",
     "text": [
      "accuracy didn't improve from 0.8169934153556824\n",
      "Valid loss: 0.5927156209945679 Valid accuracy 0.8158093690872192\n",
      "Epoch: 50/100\n"
     ]
    },
    {
     "name": "stderr",
     "output_type": "stream",
     "text": [
      "100%|██████████| 6/6 [00:03<00:00,  1.71it/s]\n"
     ]
    },
    {
     "name": "stdout",
     "output_type": "stream",
     "text": [
      "Train loss: 0.5825975437959036 Train accuracy 0.815448135137558\n"
     ]
    },
    {
     "name": "stderr",
     "output_type": "stream",
     "text": [
      "100%|██████████| 1/1 [00:00<00:00,  1.73it/s]\n"
     ]
    },
    {
     "name": "stdout",
     "output_type": "stream",
     "text": [
      "accuracy didn't improve from 0.8169934153556824\n",
      "Valid loss: 0.5924872159957886 Valid accuracy 0.8165671229362488\n",
      "Epoch: 51/100\n"
     ]
    },
    {
     "name": "stderr",
     "output_type": "stream",
     "text": [
      "100%|██████████| 6/6 [00:03<00:00,  1.71it/s]\n"
     ]
    },
    {
     "name": "stdout",
     "output_type": "stream",
     "text": [
      "Train loss: 0.5822148025035858 Train accuracy 0.8148055970668793\n"
     ]
    },
    {
     "name": "stderr",
     "output_type": "stream",
     "text": [
      "100%|██████████| 1/1 [00:00<00:00,  1.74it/s]\n"
     ]
    },
    {
     "name": "stdout",
     "output_type": "stream",
     "text": [
      "new model weights saved\n",
      "accuracy improved to 0.8182247877120972\n",
      "Valid loss: 0.5924761295318604 Valid accuracy 0.8182247877120972\n",
      "Epoch: 52/100\n"
     ]
    },
    {
     "name": "stderr",
     "output_type": "stream",
     "text": [
      "100%|██████████| 6/6 [00:03<00:00,  1.71it/s]\n"
     ]
    },
    {
     "name": "stdout",
     "output_type": "stream",
     "text": [
      "Train loss: 0.581968754529953 Train accuracy 0.815703809261322\n"
     ]
    },
    {
     "name": "stderr",
     "output_type": "stream",
     "text": [
      "100%|██████████| 1/1 [00:00<00:00,  1.69it/s]\n"
     ]
    },
    {
     "name": "stdout",
     "output_type": "stream",
     "text": [
      "accuracy didn't improve from 0.8182247877120972\n",
      "Valid loss: 0.5923464894294739 Valid accuracy 0.8174670338630676\n",
      "Epoch: 53/100\n"
     ]
    },
    {
     "name": "stderr",
     "output_type": "stream",
     "text": [
      "100%|██████████| 6/6 [00:03<00:00,  1.73it/s]\n"
     ]
    },
    {
     "name": "stdout",
     "output_type": "stream",
     "text": [
      "Train loss: 0.5815790692965189 Train accuracy 0.8162121474742889\n"
     ]
    },
    {
     "name": "stderr",
     "output_type": "stream",
     "text": [
      "100%|██████████| 1/1 [00:00<00:00,  1.75it/s]\n"
     ]
    },
    {
     "name": "stdout",
     "output_type": "stream",
     "text": [
      "accuracy didn't improve from 0.8182247877120972\n",
      "Valid loss: 0.5921794772148132 Valid accuracy 0.8172775506973267\n",
      "Epoch: 54/100\n"
     ]
    },
    {
     "name": "stderr",
     "output_type": "stream",
     "text": [
      "100%|██████████| 6/6 [00:04<00:00,  1.49it/s]\n"
     ]
    },
    {
     "name": "stdout",
     "output_type": "stream",
     "text": [
      "Train loss: 0.5815461575984955 Train accuracy 0.8161989748477936\n"
     ]
    },
    {
     "name": "stderr",
     "output_type": "stream",
     "text": [
      "100%|██████████| 1/1 [00:00<00:00,  1.76it/s]\n"
     ]
    },
    {
     "name": "stdout",
     "output_type": "stream",
     "text": [
      "accuracy didn't improve from 0.8182247877120972\n",
      "Valid loss: 0.5920767784118652 Valid accuracy 0.817040741443634\n",
      "Epoch: 55/100\n"
     ]
    },
    {
     "name": "stderr",
     "output_type": "stream",
     "text": [
      "100%|██████████| 6/6 [00:03<00:00,  1.71it/s]\n"
     ]
    },
    {
     "name": "stdout",
     "output_type": "stream",
     "text": [
      "Train loss: 0.5810007254282633 Train accuracy 0.8156119187672933\n"
     ]
    },
    {
     "name": "stderr",
     "output_type": "stream",
     "text": [
      "100%|██████████| 1/1 [00:00<00:00,  1.72it/s]\n"
     ]
    },
    {
     "name": "stdout",
     "output_type": "stream",
     "text": [
      "accuracy didn't improve from 0.8182247877120972\n",
      "Valid loss: 0.5919758677482605 Valid accuracy 0.8176091313362122\n",
      "Epoch: 56/100\n"
     ]
    },
    {
     "name": "stderr",
     "output_type": "stream",
     "text": [
      "100%|██████████| 6/6 [00:03<00:00,  1.71it/s]\n"
     ]
    },
    {
     "name": "stdout",
     "output_type": "stream",
     "text": [
      "Train loss: 0.5812966227531433 Train accuracy 0.8161676228046417\n"
     ]
    },
    {
     "name": "stderr",
     "output_type": "stream",
     "text": [
      "100%|██████████| 1/1 [00:00<00:00,  1.76it/s]\n"
     ]
    },
    {
     "name": "stdout",
     "output_type": "stream",
     "text": [
      "accuracy didn't improve from 0.8182247877120972\n",
      "Valid loss: 0.5918663144111633 Valid accuracy 0.8181774616241455\n",
      "Epoch: 57/100\n"
     ]
    },
    {
     "name": "stderr",
     "output_type": "stream",
     "text": [
      "100%|██████████| 6/6 [00:03<00:00,  1.52it/s]\n"
     ]
    },
    {
     "name": "stdout",
     "output_type": "stream",
     "text": [
      "Train loss: 0.5809199710687002 Train accuracy 0.815876970688502\n"
     ]
    },
    {
     "name": "stderr",
     "output_type": "stream",
     "text": [
      "100%|██████████| 1/1 [00:00<00:00,  1.75it/s]\n"
     ]
    },
    {
     "name": "stdout",
     "output_type": "stream",
     "text": [
      "new model weights saved\n",
      "accuracy improved to 0.8184615969657898\n",
      "Valid loss: 0.5917527079582214 Valid accuracy 0.8184615969657898\n",
      "Epoch: 58/100\n"
     ]
    },
    {
     "name": "stderr",
     "output_type": "stream",
     "text": [
      "100%|██████████| 6/6 [00:03<00:00,  1.70it/s]\n"
     ]
    },
    {
     "name": "stdout",
     "output_type": "stream",
     "text": [
      "Train loss: 0.5809222062428793 Train accuracy 0.8169077833493551\n"
     ]
    },
    {
     "name": "stderr",
     "output_type": "stream",
     "text": [
      "100%|██████████| 1/1 [00:00<00:00,  1.68it/s]\n"
     ]
    },
    {
     "name": "stdout",
     "output_type": "stream",
     "text": [
      "accuracy didn't improve from 0.8184615969657898\n",
      "Valid loss: 0.5916284918785095 Valid accuracy 0.8167092204093933\n",
      "Epoch: 59/100\n"
     ]
    },
    {
     "name": "stderr",
     "output_type": "stream",
     "text": [
      "100%|██████████| 6/6 [00:03<00:00,  1.73it/s]\n"
     ]
    },
    {
     "name": "stdout",
     "output_type": "stream",
     "text": [
      "Train loss: 0.5807791352272034 Train accuracy 0.8157462378342947\n"
     ]
    },
    {
     "name": "stderr",
     "output_type": "stream",
     "text": [
      "100%|██████████| 1/1 [00:00<00:00,  1.74it/s]\n"
     ]
    },
    {
     "name": "stdout",
     "output_type": "stream",
     "text": [
      "new model weights saved\n",
      "accuracy improved to 0.8188878893852234\n",
      "Valid loss: 0.5915987491607666 Valid accuracy 0.8188878893852234\n",
      "Epoch: 60/100\n"
     ]
    },
    {
     "name": "stderr",
     "output_type": "stream",
     "text": [
      "100%|██████████| 6/6 [00:03<00:00,  1.74it/s]\n"
     ]
    },
    {
     "name": "stdout",
     "output_type": "stream",
     "text": [
      "Train loss: 0.5803042153517405 Train accuracy 0.817030519247055\n"
     ]
    },
    {
     "name": "stderr",
     "output_type": "stream",
     "text": [
      "100%|██████████| 1/1 [00:00<00:00,  1.76it/s]\n"
     ]
    },
    {
     "name": "stdout",
     "output_type": "stream",
     "text": [
      "accuracy didn't improve from 0.8188878893852234\n",
      "Valid loss: 0.5914384126663208 Valid accuracy 0.8179879784584045\n",
      "Epoch: 61/100\n"
     ]
    },
    {
     "name": "stderr",
     "output_type": "stream",
     "text": [
      "100%|██████████| 6/6 [00:03<00:00,  1.51it/s]\n"
     ]
    },
    {
     "name": "stdout",
     "output_type": "stream",
     "text": [
      "Train loss: 0.5799386401971182 Train accuracy 0.8170791765054067\n"
     ]
    },
    {
     "name": "stderr",
     "output_type": "stream",
     "text": [
      "100%|██████████| 1/1 [00:00<00:00,  1.82it/s]\n"
     ]
    },
    {
     "name": "stdout",
     "output_type": "stream",
     "text": [
      "accuracy didn't improve from 0.8188878893852234\n",
      "Valid loss: 0.5914096236228943 Valid accuracy 0.8178459405899048\n",
      "Epoch: 62/100\n"
     ]
    },
    {
     "name": "stderr",
     "output_type": "stream",
     "text": [
      "100%|██████████| 6/6 [00:03<00:00,  1.76it/s]\n"
     ]
    },
    {
     "name": "stdout",
     "output_type": "stream",
     "text": [
      "Train loss: 0.5801626046498617 Train accuracy 0.8166163464387258\n"
     ]
    },
    {
     "name": "stderr",
     "output_type": "stream",
     "text": [
      "100%|██████████| 1/1 [00:00<00:00,  1.70it/s]\n"
     ]
    },
    {
     "name": "stdout",
     "output_type": "stream",
     "text": [
      "new model weights saved\n",
      "accuracy improved to 0.8191720843315125\n",
      "Valid loss: 0.5913631319999695 Valid accuracy 0.8191720843315125\n",
      "Epoch: 63/100\n"
     ]
    },
    {
     "name": "stderr",
     "output_type": "stream",
     "text": [
      "100%|██████████| 6/6 [00:03<00:00,  1.74it/s]\n"
     ]
    },
    {
     "name": "stdout",
     "output_type": "stream",
     "text": [
      "Train loss: 0.5794447660446167 Train accuracy 0.8172085086504618\n"
     ]
    },
    {
     "name": "stderr",
     "output_type": "stream",
     "text": [
      "100%|██████████| 1/1 [00:00<00:00,  1.71it/s]\n"
     ]
    },
    {
     "name": "stdout",
     "output_type": "stream",
     "text": [
      "accuracy didn't improve from 0.8191720843315125\n",
      "Valid loss: 0.5911902785301208 Valid accuracy 0.8184142708778381\n",
      "Epoch: 64/100\n"
     ]
    },
    {
     "name": "stderr",
     "output_type": "stream",
     "text": [
      "100%|██████████| 6/6 [00:03<00:00,  1.50it/s]\n"
     ]
    },
    {
     "name": "stdout",
     "output_type": "stream",
     "text": [
      "Train loss: 0.5796465277671814 Train accuracy 0.8167764047781626\n"
     ]
    },
    {
     "name": "stderr",
     "output_type": "stream",
     "text": [
      "100%|██████████| 1/1 [00:00<00:00,  1.70it/s]\n"
     ]
    },
    {
     "name": "stdout",
     "output_type": "stream",
     "text": [
      "accuracy didn't improve from 0.8191720843315125\n",
      "Valid loss: 0.5911186933517456 Valid accuracy 0.8172775506973267\n",
      "Epoch: 65/100\n"
     ]
    },
    {
     "name": "stderr",
     "output_type": "stream",
     "text": [
      "100%|██████████| 6/6 [00:03<00:00,  1.69it/s]\n"
     ]
    },
    {
     "name": "stdout",
     "output_type": "stream",
     "text": [
      "Train loss: 0.5793836812178293 Train accuracy 0.8171144525210062\n"
     ]
    },
    {
     "name": "stderr",
     "output_type": "stream",
     "text": [
      "100%|██████████| 1/1 [00:00<00:00,  1.76it/s]\n"
     ]
    },
    {
     "name": "stdout",
     "output_type": "stream",
     "text": [
      "accuracy didn't improve from 0.8191720843315125\n",
      "Valid loss: 0.5910456776618958 Valid accuracy 0.817230224609375\n",
      "Epoch: 66/100\n"
     ]
    },
    {
     "name": "stderr",
     "output_type": "stream",
     "text": [
      "100%|██████████| 6/6 [00:03<00:00,  1.74it/s]\n"
     ]
    },
    {
     "name": "stdout",
     "output_type": "stream",
     "text": [
      "Train loss: 0.578758974870046 Train accuracy 0.8168743054072062\n"
     ]
    },
    {
     "name": "stderr",
     "output_type": "stream",
     "text": [
      "100%|██████████| 1/1 [00:00<00:00,  1.72it/s]\n"
     ]
    },
    {
     "name": "stdout",
     "output_type": "stream",
     "text": [
      "accuracy didn't improve from 0.8191720843315125\n",
      "Valid loss: 0.5909969210624695 Valid accuracy 0.8189826011657715\n",
      "Epoch: 67/100\n"
     ]
    },
    {
     "name": "stderr",
     "output_type": "stream",
     "text": [
      "100%|██████████| 6/6 [00:03<00:00,  1.74it/s]\n"
     ]
    },
    {
     "name": "stdout",
     "output_type": "stream",
     "text": [
      "Train loss: 0.5789675811926523 Train accuracy 0.8173747857411703\n"
     ]
    },
    {
     "name": "stderr",
     "output_type": "stream",
     "text": [
      "100%|██████████| 1/1 [00:00<00:00,  1.71it/s]\n"
     ]
    },
    {
     "name": "stdout",
     "output_type": "stream",
     "text": [
      "new model weights saved\n",
      "accuracy improved to 0.8195509314537048\n",
      "Valid loss: 0.5910289883613586 Valid accuracy 0.8195509314537048\n",
      "Epoch: 68/100\n"
     ]
    },
    {
     "name": "stderr",
     "output_type": "stream",
     "text": [
      "100%|██████████| 6/6 [00:04<00:00,  1.45it/s]\n"
     ]
    },
    {
     "name": "stdout",
     "output_type": "stream",
     "text": [
      "Train loss: 0.5789609352747599 Train accuracy 0.8174478610356649\n"
     ]
    },
    {
     "name": "stderr",
     "output_type": "stream",
     "text": [
      "100%|██████████| 1/1 [00:00<00:00,  1.60it/s]\n"
     ]
    },
    {
     "name": "stdout",
     "output_type": "stream",
     "text": [
      "accuracy didn't improve from 0.8195509314537048\n",
      "Valid loss: 0.5908340811729431 Valid accuracy 0.8187931776046753\n",
      "Epoch: 69/100\n"
     ]
    },
    {
     "name": "stderr",
     "output_type": "stream",
     "text": [
      "100%|██████████| 6/6 [00:03<00:00,  1.63it/s]\n"
     ]
    },
    {
     "name": "stdout",
     "output_type": "stream",
     "text": [
      "Train loss: 0.5787532230218252 Train accuracy 0.818193127711614\n"
     ]
    },
    {
     "name": "stderr",
     "output_type": "stream",
     "text": [
      "100%|██████████| 1/1 [00:00<00:00,  1.68it/s]\n"
     ]
    },
    {
     "name": "stdout",
     "output_type": "stream",
     "text": [
      "accuracy didn't improve from 0.8195509314537048\n",
      "Valid loss: 0.5907493829727173 Valid accuracy 0.8176091313362122\n",
      "Epoch: 70/100\n"
     ]
    },
    {
     "name": "stderr",
     "output_type": "stream",
     "text": [
      "100%|██████████| 6/6 [00:03<00:00,  1.67it/s]\n"
     ]
    },
    {
     "name": "stdout",
     "output_type": "stream",
     "text": [
      "Train loss: 0.5789131025473276 Train accuracy 0.8173691729704539\n"
     ]
    },
    {
     "name": "stderr",
     "output_type": "stream",
     "text": [
      "100%|██████████| 1/1 [00:00<00:00,  1.65it/s]\n"
     ]
    },
    {
     "name": "stdout",
     "output_type": "stream",
     "text": [
      "accuracy didn't improve from 0.8195509314537048\n",
      "Valid loss: 0.5907662510871887 Valid accuracy 0.8192667961120605\n",
      "Epoch: 71/100\n"
     ]
    },
    {
     "name": "stderr",
     "output_type": "stream",
     "text": [
      "100%|██████████| 6/6 [00:04<00:00,  1.47it/s]\n"
     ]
    },
    {
     "name": "stdout",
     "output_type": "stream",
     "text": [
      "Train loss: 0.5783270200093588 Train accuracy 0.8173182904720306\n"
     ]
    },
    {
     "name": "stderr",
     "output_type": "stream",
     "text": [
      "100%|██████████| 1/1 [00:00<00:00,  1.65it/s]\n"
     ]
    },
    {
     "name": "stdout",
     "output_type": "stream",
     "text": [
      "new model weights saved\n",
      "accuracy improved to 0.8198825120925903\n",
      "Valid loss: 0.5906510949134827 Valid accuracy 0.8198825120925903\n",
      "Epoch: 72/100\n"
     ]
    },
    {
     "name": "stderr",
     "output_type": "stream",
     "text": [
      "100%|██████████| 6/6 [00:03<00:00,  1.64it/s]\n"
     ]
    },
    {
     "name": "stdout",
     "output_type": "stream",
     "text": [
      "Train loss: 0.5777555803457896 Train accuracy 0.8181528250376383\n"
     ]
    },
    {
     "name": "stderr",
     "output_type": "stream",
     "text": [
      "100%|██████████| 1/1 [00:00<00:00,  1.71it/s]\n"
     ]
    },
    {
     "name": "stdout",
     "output_type": "stream",
     "text": [
      "accuracy didn't improve from 0.8198825120925903\n",
      "Valid loss: 0.5905517935752869 Valid accuracy 0.8177985548973083\n",
      "Epoch: 73/100\n"
     ]
    },
    {
     "name": "stderr",
     "output_type": "stream",
     "text": [
      "100%|██████████| 6/6 [00:03<00:00,  1.73it/s]\n"
     ]
    },
    {
     "name": "stdout",
     "output_type": "stream",
     "text": [
      "Train loss: 0.5776491761207581 Train accuracy 0.8181764483451843\n"
     ]
    },
    {
     "name": "stderr",
     "output_type": "stream",
     "text": [
      "100%|██████████| 1/1 [00:00<00:00,  1.68it/s]\n"
     ]
    },
    {
     "name": "stdout",
     "output_type": "stream",
     "text": [
      "accuracy didn't improve from 0.8198825120925903\n",
      "Valid loss: 0.5905279517173767 Valid accuracy 0.819124698638916\n",
      "Epoch: 74/100\n"
     ]
    },
    {
     "name": "stderr",
     "output_type": "stream",
     "text": [
      "100%|██████████| 6/6 [00:03<00:00,  1.67it/s]\n"
     ]
    },
    {
     "name": "stdout",
     "output_type": "stream",
     "text": [
      "Train loss: 0.5776658554871877 Train accuracy 0.8171773354212443\n"
     ]
    },
    {
     "name": "stderr",
     "output_type": "stream",
     "text": [
      "100%|██████████| 1/1 [00:00<00:00,  1.65it/s]\n"
     ]
    },
    {
     "name": "stdout",
     "output_type": "stream",
     "text": [
      "new model weights saved\n",
      "accuracy improved to 0.8211612701416016\n",
      "Valid loss: 0.5906462669372559 Valid accuracy 0.8211612701416016\n",
      "Epoch: 75/100\n"
     ]
    },
    {
     "name": "stderr",
     "output_type": "stream",
     "text": [
      "100%|██████████| 6/6 [00:04<00:00,  1.42it/s]\n"
     ]
    },
    {
     "name": "stdout",
     "output_type": "stream",
     "text": [
      "Train loss: 0.5781434178352356 Train accuracy 0.8183974623680115\n"
     ]
    },
    {
     "name": "stderr",
     "output_type": "stream",
     "text": [
      "100%|██████████| 1/1 [00:00<00:00,  1.62it/s]\n"
     ]
    },
    {
     "name": "stdout",
     "output_type": "stream",
     "text": [
      "accuracy didn't improve from 0.8211612701416016\n",
      "Valid loss: 0.5904038548469543 Valid accuracy 0.8185563683509827\n",
      "Epoch: 76/100\n"
     ]
    },
    {
     "name": "stderr",
     "output_type": "stream",
     "text": [
      "100%|██████████| 6/6 [00:03<00:00,  1.69it/s]\n"
     ]
    },
    {
     "name": "stdout",
     "output_type": "stream",
     "text": [
      "Train loss: 0.5770882368087769 Train accuracy 0.8183998763561249\n"
     ]
    },
    {
     "name": "stderr",
     "output_type": "stream",
     "text": [
      "100%|██████████| 1/1 [00:00<00:00,  1.65it/s]\n"
     ]
    },
    {
     "name": "stdout",
     "output_type": "stream",
     "text": [
      "accuracy didn't improve from 0.8211612701416016\n",
      "Valid loss: 0.5903386473655701 Valid accuracy 0.8181300759315491\n",
      "Epoch: 77/100\n"
     ]
    },
    {
     "name": "stderr",
     "output_type": "stream",
     "text": [
      "100%|██████████| 6/6 [00:03<00:00,  1.67it/s]\n"
     ]
    },
    {
     "name": "stdout",
     "output_type": "stream",
     "text": [
      "Train loss: 0.5770189762115479 Train accuracy 0.8175280590852102\n"
     ]
    },
    {
     "name": "stderr",
     "output_type": "stream",
     "text": [
      "100%|██████████| 1/1 [00:00<00:00,  1.60it/s]\n"
     ]
    },
    {
     "name": "stdout",
     "output_type": "stream",
     "text": [
      "accuracy didn't improve from 0.8211612701416016\n",
      "Valid loss: 0.5903586745262146 Valid accuracy 0.8201666474342346\n",
      "Epoch: 78/100\n"
     ]
    },
    {
     "name": "stderr",
     "output_type": "stream",
     "text": [
      "100%|██████████| 6/6 [00:03<00:00,  1.68it/s]\n"
     ]
    },
    {
     "name": "stdout",
     "output_type": "stream",
     "text": [
      "Train loss: 0.576998213926951 Train accuracy 0.8178116679191589\n"
     ]
    },
    {
     "name": "stderr",
     "output_type": "stream",
     "text": [
      "100%|██████████| 1/1 [00:00<00:00,  1.72it/s]\n"
     ]
    },
    {
     "name": "stdout",
     "output_type": "stream",
     "text": [
      "accuracy didn't improve from 0.8211612701416016\n",
      "Valid loss: 0.5903377532958984 Valid accuracy 0.8209244608879089\n",
      "Epoch: 79/100\n"
     ]
    },
    {
     "name": "stderr",
     "output_type": "stream",
     "text": [
      "100%|██████████| 6/6 [00:03<00:00,  1.72it/s]\n"
     ]
    },
    {
     "name": "stdout",
     "output_type": "stream",
     "text": [
      "Train loss: 0.5767969290415446 Train accuracy 0.8184635738531748\n"
     ]
    },
    {
     "name": "stderr",
     "output_type": "stream",
     "text": [
      "100%|██████████| 1/1 [00:01<00:00,  1.13s/it]\n"
     ]
    },
    {
     "name": "stdout",
     "output_type": "stream",
     "text": [
      "accuracy didn't improve from 0.8211612701416016\n",
      "Valid loss: 0.5902162790298462 Valid accuracy 0.8184615969657898\n",
      "Epoch: 80/100\n"
     ]
    },
    {
     "name": "stderr",
     "output_type": "stream",
     "text": [
      "100%|██████████| 6/6 [00:03<00:00,  1.64it/s]\n"
     ]
    },
    {
     "name": "stdout",
     "output_type": "stream",
     "text": [
      "Train loss: 0.5765035847822825 Train accuracy 0.8180735011895498\n"
     ]
    },
    {
     "name": "stderr",
     "output_type": "stream",
     "text": [
      "100%|██████████| 1/1 [00:00<00:00,  1.49it/s]\n"
     ]
    },
    {
     "name": "stdout",
     "output_type": "stream",
     "text": [
      "accuracy didn't improve from 0.8211612701416016\n",
      "Valid loss: 0.5901964902877808 Valid accuracy 0.8186510801315308\n",
      "Epoch: 81/100\n"
     ]
    },
    {
     "name": "stderr",
     "output_type": "stream",
     "text": [
      "100%|██████████| 6/6 [00:03<00:00,  1.57it/s]\n"
     ]
    },
    {
     "name": "stdout",
     "output_type": "stream",
     "text": [
      "Train loss: 0.576649675766627 Train accuracy 0.8173470397790273\n"
     ]
    },
    {
     "name": "stderr",
     "output_type": "stream",
     "text": [
      "100%|██████████| 1/1 [00:00<00:00,  1.65it/s]\n"
     ]
    },
    {
     "name": "stdout",
     "output_type": "stream",
     "text": [
      "accuracy didn't improve from 0.8211612701416016\n",
      "Valid loss: 0.5901364684104919 Valid accuracy 0.8200245499610901\n",
      "Epoch: 82/100\n"
     ]
    },
    {
     "name": "stderr",
     "output_type": "stream",
     "text": [
      "100%|██████████| 6/6 [00:03<00:00,  1.64it/s]\n"
     ]
    },
    {
     "name": "stdout",
     "output_type": "stream",
     "text": [
      "Train loss: 0.5762511392434438 Train accuracy 0.818436861038208\n"
     ]
    },
    {
     "name": "stderr",
     "output_type": "stream",
     "text": [
      "100%|██████████| 1/1 [00:00<00:00,  1.57it/s]\n"
     ]
    },
    {
     "name": "stdout",
     "output_type": "stream",
     "text": [
      "accuracy didn't improve from 0.8211612701416016\n",
      "Valid loss: 0.5901026129722595 Valid accuracy 0.8195509314537048\n",
      "Epoch: 83/100\n"
     ]
    },
    {
     "name": "stderr",
     "output_type": "stream",
     "text": [
      "100%|██████████| 6/6 [00:04<00:00,  1.39it/s]\n"
     ]
    },
    {
     "name": "stdout",
     "output_type": "stream",
     "text": [
      "Train loss: 0.5760260224342346 Train accuracy 0.8180722693602244\n"
     ]
    },
    {
     "name": "stderr",
     "output_type": "stream",
     "text": [
      "100%|██████████| 1/1 [00:00<00:00,  1.63it/s]\n"
     ]
    },
    {
     "name": "stdout",
     "output_type": "stream",
     "text": [
      "accuracy didn't improve from 0.8211612701416016\n",
      "Valid loss: 0.5900821089744568 Valid accuracy 0.8195036053657532\n",
      "Epoch: 84/100\n"
     ]
    },
    {
     "name": "stderr",
     "output_type": "stream",
     "text": [
      "100%|██████████| 6/6 [00:03<00:00,  1.61it/s]\n"
     ]
    },
    {
     "name": "stdout",
     "output_type": "stream",
     "text": [
      "Train loss: 0.5759759644667307 Train accuracy 0.8183207015196482\n"
     ]
    },
    {
     "name": "stderr",
     "output_type": "stream",
     "text": [
      "100%|██████████| 1/1 [00:00<00:00,  1.60it/s]\n"
     ]
    },
    {
     "name": "stdout",
     "output_type": "stream",
     "text": [
      "accuracy didn't improve from 0.8211612701416016\n",
      "Valid loss: 0.5900270342826843 Valid accuracy 0.8206402659416199\n",
      "Epoch: 85/100\n"
     ]
    },
    {
     "name": "stderr",
     "output_type": "stream",
     "text": [
      "100%|██████████| 6/6 [00:03<00:00,  1.58it/s]\n"
     ]
    },
    {
     "name": "stdout",
     "output_type": "stream",
     "text": [
      "Train loss: 0.5757792294025421 Train accuracy 0.8179642558097839\n"
     ]
    },
    {
     "name": "stderr",
     "output_type": "stream",
     "text": [
      "100%|██████████| 1/1 [00:00<00:00,  1.61it/s]\n"
     ]
    },
    {
     "name": "stdout",
     "output_type": "stream",
     "text": [
      "accuracy didn't improve from 0.8211612701416016\n",
      "Valid loss: 0.5900548696517944 Valid accuracy 0.8207823634147644\n",
      "Epoch: 86/100\n"
     ]
    },
    {
     "name": "stderr",
     "output_type": "stream",
     "text": [
      "100%|██████████| 6/6 [00:04<00:00,  1.40it/s]\n"
     ]
    },
    {
     "name": "stdout",
     "output_type": "stream",
     "text": [
      "Train loss: 0.5759201347827911 Train accuracy 0.818536380926768\n"
     ]
    },
    {
     "name": "stderr",
     "output_type": "stream",
     "text": [
      "100%|██████████| 1/1 [00:00<00:00,  1.55it/s]\n"
     ]
    },
    {
     "name": "stdout",
     "output_type": "stream",
     "text": [
      "accuracy didn't improve from 0.8211612701416016\n",
      "Valid loss: 0.5899863839149475 Valid accuracy 0.819124698638916\n",
      "Epoch: 87/100\n"
     ]
    },
    {
     "name": "stderr",
     "output_type": "stream",
     "text": [
      "100%|██████████| 6/6 [00:03<00:00,  1.59it/s]\n"
     ]
    },
    {
     "name": "stdout",
     "output_type": "stream",
     "text": [
      "Train loss: 0.5758728881676992 Train accuracy 0.8187859853108724\n"
     ]
    },
    {
     "name": "stderr",
     "output_type": "stream",
     "text": [
      "100%|██████████| 1/1 [00:00<00:00,  1.56it/s]\n"
     ]
    },
    {
     "name": "stdout",
     "output_type": "stream",
     "text": [
      "accuracy didn't improve from 0.8211612701416016\n",
      "Valid loss: 0.5899465680122375 Valid accuracy 0.8194562196731567\n",
      "Epoch: 88/100\n"
     ]
    },
    {
     "name": "stderr",
     "output_type": "stream",
     "text": [
      "100%|██████████| 6/6 [00:03<00:00,  1.56it/s]\n"
     ]
    },
    {
     "name": "stdout",
     "output_type": "stream",
     "text": [
      "Train loss: 0.5755075613657633 Train accuracy 0.8185245792071024\n"
     ]
    },
    {
     "name": "stderr",
     "output_type": "stream",
     "text": [
      "100%|██████████| 1/1 [00:00<00:00,  1.57it/s]\n"
     ]
    },
    {
     "name": "stdout",
     "output_type": "stream",
     "text": [
      "accuracy didn't improve from 0.8211612701416016\n",
      "Valid loss: 0.58998042345047 Valid accuracy 0.8208297491073608\n",
      "Epoch: 89/100\n"
     ]
    },
    {
     "name": "stderr",
     "output_type": "stream",
     "text": [
      "100%|██████████| 6/6 [00:03<00:00,  1.58it/s]\n"
     ]
    },
    {
     "name": "stdout",
     "output_type": "stream",
     "text": [
      "Train loss: 0.5753565828005472 Train accuracy 0.8183272580305735\n"
     ]
    },
    {
     "name": "stderr",
     "output_type": "stream",
     "text": [
      "100%|██████████| 1/1 [00:00<00:00,  1.60it/s]\n"
     ]
    },
    {
     "name": "stdout",
     "output_type": "stream",
     "text": [
      "accuracy didn't improve from 0.8211612701416016\n",
      "Valid loss: 0.5899236798286438 Valid accuracy 0.8200245499610901\n",
      "Epoch: 90/100\n"
     ]
    },
    {
     "name": "stderr",
     "output_type": "stream",
     "text": [
      "100%|██████████| 6/6 [00:04<00:00,  1.43it/s]\n"
     ]
    },
    {
     "name": "stdout",
     "output_type": "stream",
     "text": [
      "Train loss: 0.5754149258136749 Train accuracy 0.8186847766240438\n"
     ]
    },
    {
     "name": "stderr",
     "output_type": "stream",
     "text": [
      "100%|██████████| 1/1 [00:00<00:00,  1.57it/s]\n"
     ]
    },
    {
     "name": "stdout",
     "output_type": "stream",
     "text": [
      "accuracy didn't improve from 0.8211612701416016\n",
      "Valid loss: 0.5899038910865784 Valid accuracy 0.8197877407073975\n",
      "Epoch: 91/100\n"
     ]
    },
    {
     "name": "stderr",
     "output_type": "stream",
     "text": [
      "100%|██████████| 6/6 [00:03<00:00,  1.65it/s]\n"
     ]
    },
    {
     "name": "stdout",
     "output_type": "stream",
     "text": [
      "Train loss: 0.5753908753395081 Train accuracy 0.8185184101263682\n"
     ]
    },
    {
     "name": "stderr",
     "output_type": "stream",
     "text": [
      "100%|██████████| 1/1 [00:00<00:00,  1.61it/s]\n"
     ]
    },
    {
     "name": "stdout",
     "output_type": "stream",
     "text": [
      "accuracy didn't improve from 0.8211612701416016\n",
      "Valid loss: 0.5899078845977783 Valid accuracy 0.8206876516342163\n",
      "Epoch: 92/100\n"
     ]
    },
    {
     "name": "stderr",
     "output_type": "stream",
     "text": [
      "100%|██████████| 6/6 [00:03<00:00,  1.63it/s]\n"
     ]
    },
    {
     "name": "stdout",
     "output_type": "stream",
     "text": [
      "Train loss: 0.5745589733123779 Train accuracy 0.8186710576216379\n"
     ]
    },
    {
     "name": "stderr",
     "output_type": "stream",
     "text": [
      "100%|██████████| 1/1 [00:00<00:00,  1.72it/s]\n"
     ]
    },
    {
     "name": "stdout",
     "output_type": "stream",
     "text": [
      "accuracy didn't improve from 0.8211612701416016\n",
      "Valid loss: 0.5897924900054932 Valid accuracy 0.818840503692627\n",
      "Epoch: 93/100\n"
     ]
    },
    {
     "name": "stderr",
     "output_type": "stream",
     "text": [
      "100%|██████████| 6/6 [00:03<00:00,  1.62it/s]\n"
     ]
    },
    {
     "name": "stdout",
     "output_type": "stream",
     "text": [
      "Train loss: 0.5744903087615967 Train accuracy 0.8183709581693014\n"
     ]
    },
    {
     "name": "stderr",
     "output_type": "stream",
     "text": [
      "100%|██████████| 1/1 [00:00<00:00,  1.62it/s]\n"
     ]
    },
    {
     "name": "stdout",
     "output_type": "stream",
     "text": [
      "accuracy didn't improve from 0.8211612701416016\n",
      "Valid loss: 0.5898154973983765 Valid accuracy 0.8195509314537048\n",
      "Epoch: 94/100\n"
     ]
    },
    {
     "name": "stderr",
     "output_type": "stream",
     "text": [
      "100%|██████████| 6/6 [00:04<00:00,  1.42it/s]\n"
     ]
    },
    {
     "name": "stdout",
     "output_type": "stream",
     "text": [
      "Train loss: 0.5749216874440511 Train accuracy 0.8183089991410574\n"
     ]
    },
    {
     "name": "stderr",
     "output_type": "stream",
     "text": [
      "100%|██████████| 1/1 [00:00<00:00,  1.59it/s]\n"
     ]
    },
    {
     "name": "stdout",
     "output_type": "stream",
     "text": [
      "accuracy didn't improve from 0.8211612701416016\n",
      "Valid loss: 0.5897748470306396 Valid accuracy 0.8211138844490051\n",
      "Epoch: 95/100\n"
     ]
    },
    {
     "name": "stderr",
     "output_type": "stream",
     "text": [
      "100%|██████████| 6/6 [00:03<00:00,  1.58it/s]\n"
     ]
    },
    {
     "name": "stdout",
     "output_type": "stream",
     "text": [
      "Train loss: 0.5748100280761719 Train accuracy 0.8190830250581106\n"
     ]
    },
    {
     "name": "stderr",
     "output_type": "stream",
     "text": [
      "100%|██████████| 1/1 [00:00<00:00,  1.56it/s]\n"
     ]
    },
    {
     "name": "stdout",
     "output_type": "stream",
     "text": [
      "accuracy didn't improve from 0.8211612701416016\n",
      "Valid loss: 0.5898184180259705 Valid accuracy 0.8200245499610901\n",
      "Epoch: 96/100\n"
     ]
    },
    {
     "name": "stderr",
     "output_type": "stream",
     "text": [
      "100%|██████████| 6/6 [00:03<00:00,  1.56it/s]\n"
     ]
    },
    {
     "name": "stdout",
     "output_type": "stream",
     "text": [
      "Train loss: 0.574307898680369 Train accuracy 0.8187739551067352\n"
     ]
    },
    {
     "name": "stderr",
     "output_type": "stream",
     "text": [
      "100%|██████████| 1/1 [00:00<00:00,  1.61it/s]\n"
     ]
    },
    {
     "name": "stdout",
     "output_type": "stream",
     "text": [
      "accuracy didn't improve from 0.8211612701416016\n",
      "Valid loss: 0.5896745324134827 Valid accuracy 0.819929838180542\n",
      "Epoch: 97/100\n"
     ]
    },
    {
     "name": "stderr",
     "output_type": "stream",
     "text": [
      "100%|██████████| 6/6 [00:03<00:00,  1.62it/s]\n"
     ]
    },
    {
     "name": "stdout",
     "output_type": "stream",
     "text": [
      "Train loss: 0.5745932559172312 Train accuracy 0.8186067044734955\n"
     ]
    },
    {
     "name": "stderr",
     "output_type": "stream",
     "text": [
      "100%|██████████| 1/1 [00:00<00:00,  1.60it/s]\n"
     ]
    },
    {
     "name": "stdout",
     "output_type": "stream",
     "text": [
      "accuracy didn't improve from 0.8211612701416016\n",
      "Valid loss: 0.5897281765937805 Valid accuracy 0.8208297491073608\n",
      "Epoch: 98/100\n"
     ]
    },
    {
     "name": "stderr",
     "output_type": "stream",
     "text": [
      "100%|██████████| 6/6 [00:04<00:00,  1.39it/s]\n"
     ]
    },
    {
     "name": "stdout",
     "output_type": "stream",
     "text": [
      "Train loss: 0.5738829374313354 Train accuracy 0.8187415699164072\n"
     ]
    },
    {
     "name": "stderr",
     "output_type": "stream",
     "text": [
      "100%|██████████| 1/1 [00:00<00:00,  1.56it/s]\n"
     ]
    },
    {
     "name": "stdout",
     "output_type": "stream",
     "text": [
      "accuracy didn't improve from 0.8211612701416016\n",
      "Valid loss: 0.5896614193916321 Valid accuracy 0.8197404146194458\n",
      "Epoch: 99/100\n"
     ]
    },
    {
     "name": "stderr",
     "output_type": "stream",
     "text": [
      "100%|██████████| 6/6 [00:03<00:00,  1.58it/s]\n"
     ]
    },
    {
     "name": "stdout",
     "output_type": "stream",
     "text": [
      "Train loss: 0.574230800072352 Train accuracy 0.8185553153355917\n"
     ]
    },
    {
     "name": "stderr",
     "output_type": "stream",
     "text": [
      "100%|██████████| 1/1 [00:00<00:00,  1.64it/s]\n"
     ]
    },
    {
     "name": "stdout",
     "output_type": "stream",
     "text": [
      "accuracy didn't improve from 0.8211612701416016\n",
      "Valid loss: 0.5895759463310242 Valid accuracy 0.8194562196731567\n",
      "Epoch: 100/100\n"
     ]
    },
    {
     "name": "stderr",
     "output_type": "stream",
     "text": [
      "100%|██████████| 6/6 [00:03<00:00,  1.53it/s]\n"
     ]
    },
    {
     "name": "stdout",
     "output_type": "stream",
     "text": [
      "Train loss: 0.5744477013746897 Train accuracy 0.8179977536201477\n"
     ]
    },
    {
     "name": "stderr",
     "output_type": "stream",
     "text": [
      "100%|██████████| 1/1 [00:00<00:00,  1.55it/s]"
     ]
    },
    {
     "name": "stdout",
     "output_type": "stream",
     "text": [
      "accuracy didn't improve from 0.8211612701416016\n",
      "Valid loss: 0.5895949006080627 Valid accuracy 0.820214033126831\n"
     ]
    },
    {
     "name": "stderr",
     "output_type": "stream",
     "text": [
      "\n"
     ]
    }
   ],
   "source": [
    "# 8 heads 4 blocks Adam optimizer\n",
    "\n",
    "# clear the session to release all previous states generated by Keras\n",
    "tf.keras.backend.clear_session()\n",
    "# instantiate and compile the model inside the strategy scope defined previous\n",
    "with strategy.scope():\n",
    "  model = cbert_model()\n",
    "  # use Sparse Categorical Cross-entropy as a loss function as labels are not one-hot encoded\n",
    "  # use AdamW optimizer initially with a weight decay of 0.0\n",
    "  # use the Sparse Categorical Accuracy metric to monitor and save the best model weights\n",
    "  model.compile(loss=tf.keras.losses.SparseCategoricalCrossentropy(from_logits=False),\n",
    "                optimizer=tfa.optimizers.AdamW(learning_rate=config.LEARNING_RATE, weight_decay=0.0),\n",
    "                metrics=tf.keras.metrics.SparseCategoricalAccuracy())\n",
    "\n",
    "# initialize the best accuracy at - infinity\n",
    "best_acc = -np.inf\n",
    "# define number of steps per training epoch\n",
    "train_steps = (len(train_masked_labels)//config.BATCH_SIZE) + 1\n",
    "# define number of steps per evaluation epoch\n",
    "valid_steps = (len(valid_masked_labels)//config.BATCH_SIZE) + 1\n",
    "\n",
    "# for each epoch iterate over the whole training and validation sets\n",
    "for epoch in range(config.EPOCHS):\n",
    "  print(f'Epoch: {epoch+1}/{config.EPOCHS}')\n",
    "  \n",
    "  # initialize losses and accuracies list\n",
    "  losses = []\n",
    "  accs = []\n",
    "  # iterate over the training dataset\n",
    "  for step, (x, y, mask) in enumerate(tqdm(train_ds, total=train_steps)):\n",
    "    # stop when hitting the number of steps per epoch\n",
    "    if step == train_steps:\n",
    "      break\n",
    "    # train on each batch and pass the sample weights which gives weights to\n",
    "    # the masked tokens only\n",
    "    train_results = model.train_on_batch(x=x, y=y, sample_weight=mask,\n",
    "                                         reset_metrics=True, return_dict=True)\n",
    "    # append the loss value \n",
    "    losses.append(train_results['loss'])\n",
    "    # append the accuracy value\n",
    "    accs.append(train_results['sparse_categorical_accuracy'])\n",
    "    \n",
    "  print('Train loss:', np.mean(losses), 'Train accuracy', np.mean(accs))\n",
    "  \n",
    "  # initialize losses and accuracies list\n",
    "  losses = []\n",
    "  accs = []\n",
    "  # iterate over the validation dataset\n",
    "  for step, (x, y, mask) in enumerate(tqdm(valid_ds, total=valid_steps)):\n",
    "    # stop when hitting the number of steps per epoch\n",
    "    if step == valid_steps:\n",
    "      break\n",
    "    # evaluate on each batch and pass the sample weights which gives weights to\n",
    "    # the masked tokens only\n",
    "    valid_results = model.test_on_batch(x=x, y=y, sample_weight=mask,\n",
    "                                         reset_metrics=True, return_dict=True)\n",
    "    # append the loss value \n",
    "    losses.append(valid_results['loss'])\n",
    "    # append the accuracy value\n",
    "    accs.append(valid_results['sparse_categorical_accuracy'])\n",
    "  # monitor the accuracy metric and save model weights whenever there is an improvement\n",
    "  if np.mean(accs) > best_acc:\n",
    "    best_acc = np.mean(accs)\n",
    "    model.save_weights('best_pre_trained_weights.h5')\n",
    "    print('new model weights saved')\n",
    "    print('accuracy improved to', best_acc)\n",
    "  else:\n",
    "    print(\"accuracy didn't improve from\", best_acc)\n",
    "  print('Valid loss:', np.mean(losses), 'Valid accuracy', np.mean(accs))"
   ]
  },
  {
   "cell_type": "code",
   "execution_count": null,
   "metadata": {
    "id": "X8pCxsCaZfVQ"
   },
   "outputs": [],
   "source": [
    "# !mv /content/best_pre_trained_weights.h5 /content/drive/MyDrive/NLP_Course"
   ]
  },
  {
   "cell_type": "markdown",
   "metadata": {
    "id": "Mo36oSf_kO6e"
   },
   "source": [
    "## LSTM"
   ]
  },
  {
   "cell_type": "code",
   "execution_count": null,
   "metadata": {
    "colab": {
     "base_uri": "https://localhost:8080/"
    },
    "id": "bFw8AQhkgmA2",
    "outputId": "72fe4015-c595-4fb8-cde6-554c317e20e2"
   },
   "outputs": [
    {
     "name": "stdout",
     "output_type": "stream",
     "text": [
      "Epoch: 1/100\n"
     ]
    },
    {
     "name": "stderr",
     "output_type": "stream",
     "text": [
      "100%|██████████| 6/6 [00:58<00:00,  9.77s/it]\n"
     ]
    },
    {
     "name": "stdout",
     "output_type": "stream",
     "text": [
      "Train loss: 0.8726251522699991 Train accuracy 0.10984216847767432\n"
     ]
    },
    {
     "name": "stderr",
     "output_type": "stream",
     "text": [
      "100%|██████████| 1/1 [00:12<00:00, 12.69s/it]\n"
     ]
    },
    {
     "name": "stdout",
     "output_type": "stream",
     "text": [
      "new model weights saved\n",
      "accuracy improved to 0.16273561120033264\n",
      "Valid loss: 0.8706112504005432 Valid accuracy 0.16273561120033264\n",
      "Epoch: 2/100\n"
     ]
    },
    {
     "name": "stderr",
     "output_type": "stream",
     "text": [
      "100%|██████████| 6/6 [00:04<00:00,  1.43it/s]\n"
     ]
    },
    {
     "name": "stdout",
     "output_type": "stream",
     "text": [
      "Train loss: 0.8684415916601816 Train accuracy 0.16254233568906784\n"
     ]
    },
    {
     "name": "stderr",
     "output_type": "stream",
     "text": [
      "100%|██████████| 1/1 [00:00<00:00,  1.84it/s]\n"
     ]
    },
    {
     "name": "stdout",
     "output_type": "stream",
     "text": [
      "new model weights saved\n",
      "accuracy improved to 0.1630197912454605\n",
      "Valid loss: 0.864382266998291 Valid accuracy 0.1630197912454605\n",
      "Epoch: 3/100\n"
     ]
    },
    {
     "name": "stderr",
     "output_type": "stream",
     "text": [
      "100%|██████████| 6/6 [00:03<00:00,  1.73it/s]\n"
     ]
    },
    {
     "name": "stdout",
     "output_type": "stream",
     "text": [
      "Train loss: 0.859091987212499 Train accuracy 0.16303098698457083\n"
     ]
    },
    {
     "name": "stderr",
     "output_type": "stream",
     "text": [
      "100%|██████████| 1/1 [00:00<00:00,  1.73it/s]\n"
     ]
    },
    {
     "name": "stdout",
     "output_type": "stream",
     "text": [
      "accuracy didn't improve from 0.1630197912454605\n",
      "Valid loss: 0.8489538431167603 Valid accuracy 0.1630197912454605\n",
      "Epoch: 4/100\n"
     ]
    },
    {
     "name": "stderr",
     "output_type": "stream",
     "text": [
      "100%|██████████| 6/6 [00:03<00:00,  1.73it/s]\n"
     ]
    },
    {
     "name": "stdout",
     "output_type": "stream",
     "text": [
      "Train loss: 0.8353269298871359 Train accuracy 0.16298549125591913\n"
     ]
    },
    {
     "name": "stderr",
     "output_type": "stream",
     "text": [
      "100%|██████████| 1/1 [00:00<00:00,  1.66it/s]\n"
     ]
    },
    {
     "name": "stdout",
     "output_type": "stream",
     "text": [
      "accuracy didn't improve from 0.1630197912454605\n",
      "Valid loss: 0.8100270628929138 Valid accuracy 0.1630197912454605\n",
      "Epoch: 5/100\n"
     ]
    },
    {
     "name": "stderr",
     "output_type": "stream",
     "text": [
      "100%|██████████| 6/6 [00:03<00:00,  1.75it/s]\n"
     ]
    },
    {
     "name": "stdout",
     "output_type": "stream",
     "text": [
      "Train loss: 0.7864470382531484 Train accuracy 0.16286037117242813\n"
     ]
    },
    {
     "name": "stderr",
     "output_type": "stream",
     "text": [
      "100%|██████████| 1/1 [00:00<00:00,  1.80it/s]\n"
     ]
    },
    {
     "name": "stdout",
     "output_type": "stream",
     "text": [
      "accuracy didn't improve from 0.1630197912454605\n",
      "Valid loss: 0.7630230188369751 Valid accuracy 0.1630197912454605\n",
      "Epoch: 6/100\n"
     ]
    },
    {
     "name": "stderr",
     "output_type": "stream",
     "text": [
      "100%|██████████| 6/6 [00:04<00:00,  1.49it/s]\n"
     ]
    },
    {
     "name": "stdout",
     "output_type": "stream",
     "text": [
      "Train loss: 0.7596275309721628 Train accuracy 0.162786436577638\n"
     ]
    },
    {
     "name": "stderr",
     "output_type": "stream",
     "text": [
      "100%|██████████| 1/1 [00:00<00:00,  1.74it/s]\n"
     ]
    },
    {
     "name": "stdout",
     "output_type": "stream",
     "text": [
      "accuracy didn't improve from 0.1630197912454605\n",
      "Valid loss: 0.7523787617683411 Valid accuracy 0.1630197912454605\n",
      "Epoch: 7/100\n"
     ]
    },
    {
     "name": "stderr",
     "output_type": "stream",
     "text": [
      "100%|██████████| 6/6 [00:03<00:00,  1.73it/s]\n"
     ]
    },
    {
     "name": "stdout",
     "output_type": "stream",
     "text": [
      "Train loss: 0.7448605100313822 Train accuracy 0.16288880755503973\n"
     ]
    },
    {
     "name": "stderr",
     "output_type": "stream",
     "text": [
      "100%|██████████| 1/1 [00:00<00:00,  1.75it/s]\n"
     ]
    },
    {
     "name": "stdout",
     "output_type": "stream",
     "text": [
      "accuracy didn't improve from 0.1630197912454605\n",
      "Valid loss: 0.7426561117172241 Valid accuracy 0.1630197912454605\n",
      "Epoch: 8/100\n"
     ]
    },
    {
     "name": "stderr",
     "output_type": "stream",
     "text": [
      "100%|██████████| 6/6 [00:03<00:00,  1.74it/s]\n"
     ]
    },
    {
     "name": "stdout",
     "output_type": "stream",
     "text": [
      "Train loss: 0.739789734284083 Train accuracy 0.1629058693846067\n"
     ]
    },
    {
     "name": "stderr",
     "output_type": "stream",
     "text": [
      "100%|██████████| 1/1 [00:00<00:00,  1.80it/s]\n"
     ]
    },
    {
     "name": "stdout",
     "output_type": "stream",
     "text": [
      "accuracy didn't improve from 0.1630197912454605\n",
      "Valid loss: 0.737870454788208 Valid accuracy 0.1630197912454605\n",
      "Epoch: 9/100\n"
     ]
    },
    {
     "name": "stderr",
     "output_type": "stream",
     "text": [
      "100%|██████████| 6/6 [00:03<00:00,  1.75it/s]\n"
     ]
    },
    {
     "name": "stdout",
     "output_type": "stream",
     "text": [
      "Train loss: 0.7349741458892822 Train accuracy 0.1629570573568344\n"
     ]
    },
    {
     "name": "stderr",
     "output_type": "stream",
     "text": [
      "100%|██████████| 1/1 [00:00<00:00,  1.82it/s]\n"
     ]
    },
    {
     "name": "stdout",
     "output_type": "stream",
     "text": [
      "accuracy didn't improve from 0.1630197912454605\n",
      "Valid loss: 0.7333598136901855 Valid accuracy 0.1630197912454605\n",
      "Epoch: 10/100\n"
     ]
    },
    {
     "name": "stderr",
     "output_type": "stream",
     "text": [
      "100%|██████████| 6/6 [00:03<00:00,  1.76it/s]\n"
     ]
    },
    {
     "name": "stdout",
     "output_type": "stream",
     "text": [
      "Train loss: 0.731642872095108 Train accuracy 0.16292861849069595\n"
     ]
    },
    {
     "name": "stderr",
     "output_type": "stream",
     "text": [
      "100%|██████████| 1/1 [00:00<00:00,  1.86it/s]\n"
     ]
    },
    {
     "name": "stdout",
     "output_type": "stream",
     "text": [
      "accuracy didn't improve from 0.1630197912454605\n",
      "Valid loss: 0.7316851615905762 Valid accuracy 0.1630197912454605\n",
      "Epoch: 11/100\n"
     ]
    },
    {
     "name": "stderr",
     "output_type": "stream",
     "text": [
      "100%|██████████| 6/6 [00:04<00:00,  1.21it/s]\n"
     ]
    },
    {
     "name": "stdout",
     "output_type": "stream",
     "text": [
      "Train loss: 0.7300414741039276 Train accuracy 0.162911556661129\n"
     ]
    },
    {
     "name": "stderr",
     "output_type": "stream",
     "text": [
      "100%|██████████| 1/1 [00:00<00:00,  1.74it/s]\n"
     ]
    },
    {
     "name": "stdout",
     "output_type": "stream",
     "text": [
      "accuracy didn't improve from 0.1630197912454605\n",
      "Valid loss: 0.7303772568702698 Valid accuracy 0.1630197912454605\n",
      "Epoch: 12/100\n"
     ]
    },
    {
     "name": "stderr",
     "output_type": "stream",
     "text": [
      "100%|██████████| 6/6 [00:03<00:00,  1.78it/s]\n"
     ]
    },
    {
     "name": "stdout",
     "output_type": "stream",
     "text": [
      "Train loss: 0.7284011344114939 Train accuracy 0.162911556661129\n"
     ]
    },
    {
     "name": "stderr",
     "output_type": "stream",
     "text": [
      "100%|██████████| 1/1 [00:00<00:00,  1.83it/s]\n"
     ]
    },
    {
     "name": "stdout",
     "output_type": "stream",
     "text": [
      "accuracy didn't improve from 0.1630197912454605\n",
      "Valid loss: 0.7296263575553894 Valid accuracy 0.1630197912454605\n",
      "Epoch: 13/100\n"
     ]
    },
    {
     "name": "stderr",
     "output_type": "stream",
     "text": [
      "100%|██████████| 6/6 [00:03<00:00,  1.77it/s]\n"
     ]
    },
    {
     "name": "stdout",
     "output_type": "stream",
     "text": [
      "Train loss: 0.7276503046353658 Train accuracy 0.162786436577638\n"
     ]
    },
    {
     "name": "stderr",
     "output_type": "stream",
     "text": [
      "100%|██████████| 1/1 [00:00<00:00,  1.79it/s]\n"
     ]
    },
    {
     "name": "stdout",
     "output_type": "stream",
     "text": [
      "accuracy didn't improve from 0.1630197912454605\n",
      "Valid loss: 0.7288073301315308 Valid accuracy 0.1630197912454605\n",
      "Epoch: 14/100\n"
     ]
    },
    {
     "name": "stderr",
     "output_type": "stream",
     "text": [
      "100%|██████████| 6/6 [00:03<00:00,  1.74it/s]\n"
     ]
    },
    {
     "name": "stdout",
     "output_type": "stream",
     "text": [
      "Train loss: 0.7273566524187723 Train accuracy 0.1629741167028745\n"
     ]
    },
    {
     "name": "stderr",
     "output_type": "stream",
     "text": [
      "100%|██████████| 1/1 [00:00<00:00,  1.75it/s]\n"
     ]
    },
    {
     "name": "stdout",
     "output_type": "stream",
     "text": [
      "accuracy didn't improve from 0.1630197912454605\n",
      "Valid loss: 0.7281885147094727 Valid accuracy 0.1630197912454605\n",
      "Epoch: 15/100\n"
     ]
    },
    {
     "name": "stderr",
     "output_type": "stream",
     "text": [
      "100%|██████████| 6/6 [00:03<00:00,  1.74it/s]\n"
     ]
    },
    {
     "name": "stdout",
     "output_type": "stream",
     "text": [
      "Train loss: 0.7269929349422455 Train accuracy 0.16293999056021372\n"
     ]
    },
    {
     "name": "stderr",
     "output_type": "stream",
     "text": [
      "100%|██████████| 1/1 [00:00<00:00,  1.80it/s]\n"
     ]
    },
    {
     "name": "stdout",
     "output_type": "stream",
     "text": [
      "accuracy didn't improve from 0.1630197912454605\n",
      "Valid loss: 0.7278345227241516 Valid accuracy 0.1630197912454605\n",
      "Epoch: 16/100\n"
     ]
    },
    {
     "name": "stderr",
     "output_type": "stream",
     "text": [
      "100%|██████████| 6/6 [00:03<00:00,  1.80it/s]\n"
     ]
    },
    {
     "name": "stdout",
     "output_type": "stream",
     "text": [
      "Train loss: 0.7262620727221171 Train accuracy 0.16289449483156204\n"
     ]
    },
    {
     "name": "stderr",
     "output_type": "stream",
     "text": [
      "100%|██████████| 1/1 [00:00<00:00,  1.80it/s]\n"
     ]
    },
    {
     "name": "stdout",
     "output_type": "stream",
     "text": [
      "accuracy didn't improve from 0.1630197912454605\n",
      "Valid loss: 0.7275289297103882 Valid accuracy 0.1630197912454605\n",
      "Epoch: 17/100\n"
     ]
    },
    {
     "name": "stderr",
     "output_type": "stream",
     "text": [
      "100%|██████████| 6/6 [00:03<00:00,  1.78it/s]\n"
     ]
    },
    {
     "name": "stdout",
     "output_type": "stream",
     "text": [
      "Train loss: 0.7259643177191416 Train accuracy 0.16292293121417364\n"
     ]
    },
    {
     "name": "stderr",
     "output_type": "stream",
     "text": [
      "100%|██████████| 1/1 [00:00<00:00,  1.75it/s]\n"
     ]
    },
    {
     "name": "stdout",
     "output_type": "stream",
     "text": [
      "accuracy didn't improve from 0.1630197912454605\n",
      "Valid loss: 0.7272589802742004 Valid accuracy 0.1630197912454605\n",
      "Epoch: 18/100\n"
     ]
    },
    {
     "name": "stderr",
     "output_type": "stream",
     "text": [
      "100%|██████████| 6/6 [00:03<00:00,  1.78it/s]\n"
     ]
    },
    {
     "name": "stdout",
     "output_type": "stream",
     "text": [
      "Train loss: 0.7257046699523926 Train accuracy 0.162860373655955\n"
     ]
    },
    {
     "name": "stderr",
     "output_type": "stream",
     "text": [
      "100%|██████████| 1/1 [00:00<00:00,  1.78it/s]\n"
     ]
    },
    {
     "name": "stdout",
     "output_type": "stream",
     "text": [
      "accuracy didn't improve from 0.1630197912454605\n",
      "Valid loss: 0.727005660533905 Valid accuracy 0.1630197912454605\n",
      "Epoch: 19/100\n"
     ]
    },
    {
     "name": "stderr",
     "output_type": "stream",
     "text": [
      "100%|██████████| 6/6 [00:03<00:00,  1.80it/s]\n"
     ]
    },
    {
     "name": "stdout",
     "output_type": "stream",
     "text": [
      "Train loss: 0.7257393002510071 Train accuracy 0.16304236153761545\n"
     ]
    },
    {
     "name": "stderr",
     "output_type": "stream",
     "text": [
      "100%|██████████| 1/1 [00:00<00:00,  1.79it/s]\n"
     ]
    },
    {
     "name": "stdout",
     "output_type": "stream",
     "text": [
      "accuracy didn't improve from 0.1630197912454605\n",
      "Valid loss: 0.7267975211143494 Valid accuracy 0.1630197912454605\n",
      "Epoch: 20/100\n"
     ]
    },
    {
     "name": "stderr",
     "output_type": "stream",
     "text": [
      "100%|██████████| 6/6 [00:04<00:00,  1.23it/s]\n"
     ]
    },
    {
     "name": "stdout",
     "output_type": "stream",
     "text": [
      "Train loss: 0.7245461245377859 Train accuracy 0.16285468141237894\n"
     ]
    },
    {
     "name": "stderr",
     "output_type": "stream",
     "text": [
      "100%|██████████| 1/1 [00:00<00:00,  1.75it/s]\n"
     ]
    },
    {
     "name": "stdout",
     "output_type": "stream",
     "text": [
      "accuracy didn't improve from 0.1630197912454605\n",
      "Valid loss: 0.7266473174095154 Valid accuracy 0.1630197912454605\n",
      "Epoch: 21/100\n"
     ]
    },
    {
     "name": "stderr",
     "output_type": "stream",
     "text": [
      "100%|██████████| 6/6 [00:03<00:00,  1.73it/s]\n"
     ]
    },
    {
     "name": "stdout",
     "output_type": "stream",
     "text": [
      "Train loss: 0.7251047591368357 Train accuracy 0.16300824036200842\n"
     ]
    },
    {
     "name": "stderr",
     "output_type": "stream",
     "text": [
      "100%|██████████| 1/1 [00:00<00:00,  1.72it/s]\n"
     ]
    },
    {
     "name": "stdout",
     "output_type": "stream",
     "text": [
      "accuracy didn't improve from 0.1630197912454605\n",
      "Valid loss: 0.7265052199363708 Valid accuracy 0.1630197912454605\n",
      "Epoch: 22/100\n"
     ]
    },
    {
     "name": "stderr",
     "output_type": "stream",
     "text": [
      "100%|██████████| 6/6 [00:03<00:00,  1.74it/s]\n"
     ]
    },
    {
     "name": "stdout",
     "output_type": "stream",
     "text": [
      "Train loss: 0.7251265446345011 Train accuracy 0.16296842445929846\n"
     ]
    },
    {
     "name": "stderr",
     "output_type": "stream",
     "text": [
      "100%|██████████| 1/1 [00:00<00:00,  1.83it/s]\n"
     ]
    },
    {
     "name": "stdout",
     "output_type": "stream",
     "text": [
      "accuracy didn't improve from 0.1630197912454605\n",
      "Valid loss: 0.7263724207878113 Valid accuracy 0.1630197912454605\n",
      "Epoch: 23/100\n"
     ]
    },
    {
     "name": "stderr",
     "output_type": "stream",
     "text": [
      "100%|██████████| 6/6 [00:03<00:00,  1.76it/s]\n"
     ]
    },
    {
     "name": "stdout",
     "output_type": "stream",
     "text": [
      "Train loss: 0.7249392569065094 Train accuracy 0.1629399930437406\n"
     ]
    },
    {
     "name": "stderr",
     "output_type": "stream",
     "text": [
      "100%|██████████| 1/1 [00:00<00:00,  1.80it/s]\n"
     ]
    },
    {
     "name": "stdout",
     "output_type": "stream",
     "text": [
      "accuracy didn't improve from 0.1630197912454605\n",
      "Valid loss: 0.7262701988220215 Valid accuracy 0.1630197912454605\n",
      "Epoch: 24/100\n"
     ]
    },
    {
     "name": "stderr",
     "output_type": "stream",
     "text": [
      "100%|██████████| 6/6 [00:03<00:00,  1.78it/s]\n"
     ]
    },
    {
     "name": "stdout",
     "output_type": "stream",
     "text": [
      "Train loss: 0.7242454787095388 Train accuracy 0.16284330934286118\n"
     ]
    },
    {
     "name": "stderr",
     "output_type": "stream",
     "text": [
      "100%|██████████| 1/1 [00:00<00:00,  1.83it/s]\n"
     ]
    },
    {
     "name": "stdout",
     "output_type": "stream",
     "text": [
      "accuracy didn't improve from 0.1630197912454605\n",
      "Valid loss: 0.7260558605194092 Valid accuracy 0.1630197912454605\n",
      "Epoch: 25/100\n"
     ]
    },
    {
     "name": "stderr",
     "output_type": "stream",
     "text": [
      "100%|██████████| 6/6 [00:03<00:00,  1.78it/s]\n"
     ]
    },
    {
     "name": "stdout",
     "output_type": "stream",
     "text": [
      "Train loss: 0.7238753835360209 Train accuracy 0.1629058693846067\n"
     ]
    },
    {
     "name": "stderr",
     "output_type": "stream",
     "text": [
      "100%|██████████| 1/1 [00:00<00:00,  1.82it/s]\n"
     ]
    },
    {
     "name": "stdout",
     "output_type": "stream",
     "text": [
      "accuracy didn't improve from 0.1630197912454605\n",
      "Valid loss: 0.7259463667869568 Valid accuracy 0.1630197912454605\n",
      "Epoch: 26/100\n"
     ]
    },
    {
     "name": "stderr",
     "output_type": "stream",
     "text": [
      "100%|██████████| 6/6 [00:03<00:00,  1.80it/s]\n"
     ]
    },
    {
     "name": "stdout",
     "output_type": "stream",
     "text": [
      "Train loss: 0.7243059972922007 Train accuracy 0.16290018210808435\n"
     ]
    },
    {
     "name": "stderr",
     "output_type": "stream",
     "text": [
      "100%|██████████| 1/1 [00:00<00:00,  1.84it/s]\n"
     ]
    },
    {
     "name": "stdout",
     "output_type": "stream",
     "text": [
      "accuracy didn't improve from 0.1630197912454605\n",
      "Valid loss: 0.7258946299552917 Valid accuracy 0.1630197912454605\n",
      "Epoch: 27/100\n"
     ]
    },
    {
     "name": "stderr",
     "output_type": "stream",
     "text": [
      "100%|██████████| 6/6 [00:03<00:00,  1.81it/s]\n"
     ]
    },
    {
     "name": "stdout",
     "output_type": "stream",
     "text": [
      "Train loss: 0.7237703700860342 Train accuracy 0.1628035008907318\n"
     ]
    },
    {
     "name": "stderr",
     "output_type": "stream",
     "text": [
      "100%|██████████| 1/1 [00:00<00:00,  1.86it/s]\n"
     ]
    },
    {
     "name": "stdout",
     "output_type": "stream",
     "text": [
      "accuracy didn't improve from 0.1630197912454605\n",
      "Valid loss: 0.7257452011108398 Valid accuracy 0.1630197912454605\n",
      "Epoch: 28/100\n"
     ]
    },
    {
     "name": "stderr",
     "output_type": "stream",
     "text": [
      "100%|██████████| 6/6 [00:03<00:00,  1.75it/s]\n"
     ]
    },
    {
     "name": "stdout",
     "output_type": "stream",
     "text": [
      "Train loss: 0.7243931293487549 Train accuracy 0.1631049190958341\n"
     ]
    },
    {
     "name": "stderr",
     "output_type": "stream",
     "text": [
      "100%|██████████| 1/1 [00:00<00:00,  1.83it/s]\n"
     ]
    },
    {
     "name": "stdout",
     "output_type": "stream",
     "text": [
      "accuracy didn't improve from 0.1630197912454605\n",
      "Valid loss: 0.7256426215171814 Valid accuracy 0.1630197912454605\n",
      "Epoch: 29/100\n"
     ]
    },
    {
     "name": "stderr",
     "output_type": "stream",
     "text": [
      "100%|██████████| 6/6 [00:03<00:00,  1.75it/s]\n"
     ]
    },
    {
     "name": "stdout",
     "output_type": "stream",
     "text": [
      "Train loss: 0.723453422387441 Train accuracy 0.16311629861593246\n"
     ]
    },
    {
     "name": "stderr",
     "output_type": "stream",
     "text": [
      "100%|██████████| 1/1 [00:02<00:00,  2.10s/it]\n"
     ]
    },
    {
     "name": "stdout",
     "output_type": "stream",
     "text": [
      "accuracy didn't improve from 0.1630197912454605\n",
      "Valid loss: 0.7254806756973267 Valid accuracy 0.1630197912454605\n",
      "Epoch: 30/100\n"
     ]
    },
    {
     "name": "stderr",
     "output_type": "stream",
     "text": [
      "100%|██████████| 6/6 [00:03<00:00,  1.67it/s]\n"
     ]
    },
    {
     "name": "stdout",
     "output_type": "stream",
     "text": [
      "Train loss: 0.7235504786173502 Train accuracy 0.16285468141237894\n"
     ]
    },
    {
     "name": "stderr",
     "output_type": "stream",
     "text": [
      "100%|██████████| 1/1 [00:00<00:00,  1.73it/s]\n"
     ]
    },
    {
     "name": "stdout",
     "output_type": "stream",
     "text": [
      "accuracy didn't improve from 0.1630197912454605\n",
      "Valid loss: 0.7251935005187988 Valid accuracy 0.1630197912454605\n",
      "Epoch: 31/100\n"
     ]
    },
    {
     "name": "stderr",
     "output_type": "stream",
     "text": [
      "100%|██████████| 6/6 [00:03<00:00,  1.52it/s]\n"
     ]
    },
    {
     "name": "stdout",
     "output_type": "stream",
     "text": [
      "Train loss: 0.7231286068757375 Train accuracy 0.1629172439376513\n"
     ]
    },
    {
     "name": "stderr",
     "output_type": "stream",
     "text": [
      "100%|██████████| 1/1 [00:00<00:00,  1.52it/s]\n"
     ]
    },
    {
     "name": "stdout",
     "output_type": "stream",
     "text": [
      "accuracy didn't improve from 0.1630197912454605\n",
      "Valid loss: 0.7248021364212036 Valid accuracy 0.1630197912454605\n",
      "Epoch: 32/100\n"
     ]
    },
    {
     "name": "stderr",
     "output_type": "stream",
     "text": [
      "100%|██████████| 6/6 [00:04<00:00,  1.49it/s]\n"
     ]
    },
    {
     "name": "stdout",
     "output_type": "stream",
     "text": [
      "Train loss: 0.7228967050711314 Train accuracy 0.16284899661938348\n"
     ]
    },
    {
     "name": "stderr",
     "output_type": "stream",
     "text": [
      "100%|██████████| 1/1 [00:00<00:00,  1.69it/s]\n"
     ]
    },
    {
     "name": "stdout",
     "output_type": "stream",
     "text": [
      "accuracy didn't improve from 0.1630197912454605\n",
      "Valid loss: 0.7243279218673706 Valid accuracy 0.1630197912454605\n",
      "Epoch: 33/100\n"
     ]
    },
    {
     "name": "stderr",
     "output_type": "stream",
     "text": [
      "100%|██████████| 6/6 [00:03<00:00,  1.80it/s]\n"
     ]
    },
    {
     "name": "stdout",
     "output_type": "stream",
     "text": [
      "Train loss: 0.7226709127426147 Train accuracy 0.16292292873064676\n"
     ]
    },
    {
     "name": "stderr",
     "output_type": "stream",
     "text": [
      "100%|██████████| 1/1 [00:00<00:00,  1.83it/s]\n"
     ]
    },
    {
     "name": "stdout",
     "output_type": "stream",
     "text": [
      "accuracy didn't improve from 0.1630197912454605\n",
      "Valid loss: 0.7233957052230835 Valid accuracy 0.1630197912454605\n",
      "Epoch: 34/100\n"
     ]
    },
    {
     "name": "stderr",
     "output_type": "stream",
     "text": [
      "100%|██████████| 6/6 [00:03<00:00,  1.84it/s]\n"
     ]
    },
    {
     "name": "stdout",
     "output_type": "stream",
     "text": [
      "Train loss: 0.7213591635227203 Train accuracy 0.1627636874715487\n"
     ]
    },
    {
     "name": "stderr",
     "output_type": "stream",
     "text": [
      "100%|██████████| 1/1 [00:00<00:00,  1.82it/s]\n"
     ]
    },
    {
     "name": "stdout",
     "output_type": "stream",
     "text": [
      "accuracy didn't improve from 0.1630197912454605\n",
      "Valid loss: 0.7224509119987488 Valid accuracy 0.1630197912454605\n",
      "Epoch: 35/100\n"
     ]
    },
    {
     "name": "stderr",
     "output_type": "stream",
     "text": [
      "100%|██████████| 6/6 [00:03<00:00,  1.75it/s]\n"
     ]
    },
    {
     "name": "stdout",
     "output_type": "stream",
     "text": [
      "Train loss: 0.7202618221441904 Train accuracy 0.16280713925758997\n"
     ]
    },
    {
     "name": "stderr",
     "output_type": "stream",
     "text": [
      "100%|██████████| 1/1 [00:00<00:00,  1.82it/s]\n"
     ]
    },
    {
     "name": "stdout",
     "output_type": "stream",
     "text": [
      "accuracy didn't improve from 0.1630197912454605\n",
      "Valid loss: 0.7209165096282959 Valid accuracy 0.16245144605636597\n",
      "Epoch: 36/100\n"
     ]
    },
    {
     "name": "stderr",
     "output_type": "stream",
     "text": [
      "100%|██████████| 6/6 [00:03<00:00,  1.75it/s]\n"
     ]
    },
    {
     "name": "stdout",
     "output_type": "stream",
     "text": [
      "Train loss: 0.7190169195334116 Train accuracy 0.16023648530244827\n"
     ]
    },
    {
     "name": "stderr",
     "output_type": "stream",
     "text": [
      "100%|██████████| 1/1 [00:00<00:00,  1.80it/s]\n"
     ]
    },
    {
     "name": "stdout",
     "output_type": "stream",
     "text": [
      "accuracy didn't improve from 0.1630197912454605\n",
      "Valid loss: 0.7198180556297302 Valid accuracy 0.15889929234981537\n",
      "Epoch: 37/100\n"
     ]
    },
    {
     "name": "stderr",
     "output_type": "stream",
     "text": [
      "100%|██████████| 6/6 [00:03<00:00,  1.75it/s]\n"
     ]
    },
    {
     "name": "stdout",
     "output_type": "stream",
     "text": [
      "Train loss: 0.717603882153829 Train accuracy 0.15250286708275476\n"
     ]
    },
    {
     "name": "stderr",
     "output_type": "stream",
     "text": [
      "100%|██████████| 1/1 [00:00<00:00,  1.88it/s]\n"
     ]
    },
    {
     "name": "stdout",
     "output_type": "stream",
     "text": [
      "accuracy didn't improve from 0.1630197912454605\n",
      "Valid loss: 0.7187902927398682 Valid accuracy 0.142654150724411\n",
      "Epoch: 38/100\n"
     ]
    },
    {
     "name": "stderr",
     "output_type": "stream",
     "text": [
      "100%|██████████| 6/6 [00:03<00:00,  1.79it/s]\n"
     ]
    },
    {
     "name": "stdout",
     "output_type": "stream",
     "text": [
      "Train loss: 0.7169213692347208 Train accuracy 0.1418115794658661\n"
     ]
    },
    {
     "name": "stderr",
     "output_type": "stream",
     "text": [
      "100%|██████████| 1/1 [00:00<00:00,  1.74it/s]\n"
     ]
    },
    {
     "name": "stdout",
     "output_type": "stream",
     "text": [
      "accuracy didn't improve from 0.1630197912454605\n",
      "Valid loss: 0.7185760140419006 Valid accuracy 0.14090175926685333\n",
      "Epoch: 39/100\n"
     ]
    },
    {
     "name": "stderr",
     "output_type": "stream",
     "text": [
      "100%|██████████| 6/6 [00:04<00:00,  1.26it/s]\n"
     ]
    },
    {
     "name": "stdout",
     "output_type": "stream",
     "text": [
      "Train loss: 0.7165164351463318 Train accuracy 0.1371904214223226\n"
     ]
    },
    {
     "name": "stderr",
     "output_type": "stream",
     "text": [
      "100%|██████████| 1/1 [00:00<00:00,  1.87it/s]\n"
     ]
    },
    {
     "name": "stdout",
     "output_type": "stream",
     "text": [
      "accuracy didn't improve from 0.1630197912454605\n",
      "Valid loss: 0.7196382284164429 Valid accuracy 0.14701144397258759\n",
      "Epoch: 40/100\n"
     ]
    },
    {
     "name": "stderr",
     "output_type": "stream",
     "text": [
      "100%|██████████| 6/6 [00:03<00:00,  1.74it/s]\n"
     ]
    },
    {
     "name": "stdout",
     "output_type": "stream",
     "text": [
      "Train loss: 0.715841939051946 Train accuracy 0.14024706681569418\n"
     ]
    },
    {
     "name": "stderr",
     "output_type": "stream",
     "text": [
      "100%|██████████| 1/1 [00:00<00:00,  1.74it/s]\n"
     ]
    },
    {
     "name": "stdout",
     "output_type": "stream",
     "text": [
      "accuracy didn't improve from 0.1630197912454605\n",
      "Valid loss: 0.7176933884620667 Valid accuracy 0.13895992934703827\n",
      "Epoch: 41/100\n"
     ]
    },
    {
     "name": "stderr",
     "output_type": "stream",
     "text": [
      "100%|██████████| 6/6 [00:03<00:00,  1.79it/s]\n"
     ]
    },
    {
     "name": "stdout",
     "output_type": "stream",
     "text": [
      "Train loss: 0.7153724928696951 Train accuracy 0.13380612432956696\n"
     ]
    },
    {
     "name": "stderr",
     "output_type": "stream",
     "text": [
      "100%|██████████| 1/1 [00:00<00:00,  1.77it/s]\n"
     ]
    },
    {
     "name": "stdout",
     "output_type": "stream",
     "text": [
      "accuracy didn't improve from 0.1630197912454605\n",
      "Valid loss: 0.7172355055809021 Valid accuracy 0.13114520907402039\n",
      "Epoch: 42/100\n"
     ]
    },
    {
     "name": "stderr",
     "output_type": "stream",
     "text": [
      "100%|██████████| 6/6 [00:03<00:00,  1.74it/s]\n"
     ]
    },
    {
     "name": "stdout",
     "output_type": "stream",
     "text": [
      "Train loss: 0.7152249018351237 Train accuracy 0.1340780903895696\n"
     ]
    },
    {
     "name": "stderr",
     "output_type": "stream",
     "text": [
      "100%|██████████| 1/1 [00:00<00:00,  1.81it/s]\n"
     ]
    },
    {
     "name": "stdout",
     "output_type": "stream",
     "text": [
      "accuracy didn't improve from 0.1630197912454605\n",
      "Valid loss: 0.7172731757164001 Valid accuracy 0.1381547749042511\n",
      "Epoch: 43/100\n"
     ]
    },
    {
     "name": "stderr",
     "output_type": "stream",
     "text": [
      "100%|██████████| 6/6 [00:03<00:00,  1.76it/s]\n"
     ]
    },
    {
     "name": "stdout",
     "output_type": "stream",
     "text": [
      "Train loss: 0.7148683269818624 Train accuracy 0.13463874906301498\n"
     ]
    },
    {
     "name": "stderr",
     "output_type": "stream",
     "text": [
      "100%|██████████| 1/1 [00:00<00:00,  1.77it/s]\n"
     ]
    },
    {
     "name": "stdout",
     "output_type": "stream",
     "text": [
      "accuracy didn't improve from 0.1630197912454605\n",
      "Valid loss: 0.7167195677757263 Valid accuracy 0.13024532794952393\n",
      "Epoch: 44/100\n"
     ]
    },
    {
     "name": "stderr",
     "output_type": "stream",
     "text": [
      "100%|██████████| 6/6 [00:03<00:00,  1.78it/s]\n"
     ]
    },
    {
     "name": "stdout",
     "output_type": "stream",
     "text": [
      "Train loss: 0.7142190237840017 Train accuracy 0.13252682983875275\n"
     ]
    },
    {
     "name": "stderr",
     "output_type": "stream",
     "text": [
      "100%|██████████| 1/1 [00:00<00:00,  1.83it/s]\n"
     ]
    },
    {
     "name": "stdout",
     "output_type": "stream",
     "text": [
      "accuracy didn't improve from 0.1630197912454605\n",
      "Valid loss: 0.7163902521133423 Valid accuracy 0.13327649235725403\n",
      "Epoch: 45/100\n"
     ]
    },
    {
     "name": "stderr",
     "output_type": "stream",
     "text": [
      "100%|██████████| 6/6 [00:03<00:00,  1.78it/s]\n"
     ]
    },
    {
     "name": "stdout",
     "output_type": "stream",
     "text": [
      "Train loss: 0.7138095597426096 Train accuracy 0.1334268401066462\n"
     ]
    },
    {
     "name": "stderr",
     "output_type": "stream",
     "text": [
      "100%|██████████| 1/1 [00:00<00:00,  1.77it/s]\n"
     ]
    },
    {
     "name": "stdout",
     "output_type": "stream",
     "text": [
      "accuracy didn't improve from 0.1630197912454605\n",
      "Valid loss: 0.716206431388855 Valid accuracy 0.13180826604366302\n",
      "Epoch: 46/100\n"
     ]
    },
    {
     "name": "stderr",
     "output_type": "stream",
     "text": [
      "100%|██████████| 6/6 [00:03<00:00,  1.76it/s]\n"
     ]
    },
    {
     "name": "stdout",
     "output_type": "stream",
     "text": [
      "Train loss: 0.7135907212893168 Train accuracy 0.13094390680392584\n"
     ]
    },
    {
     "name": "stderr",
     "output_type": "stream",
     "text": [
      "100%|██████████| 1/1 [00:00<00:00,  1.83it/s]\n"
     ]
    },
    {
     "name": "stdout",
     "output_type": "stream",
     "text": [
      "accuracy didn't improve from 0.1630197912454605\n",
      "Valid loss: 0.7158945202827454 Valid accuracy 0.128445565700531\n",
      "Epoch: 47/100\n"
     ]
    },
    {
     "name": "stderr",
     "output_type": "stream",
     "text": [
      "100%|██████████| 6/6 [00:03<00:00,  1.81it/s]\n"
     ]
    },
    {
     "name": "stdout",
     "output_type": "stream",
     "text": [
      "Train loss: 0.7133407791455587 Train accuracy 0.1301220009724299\n"
     ]
    },
    {
     "name": "stderr",
     "output_type": "stream",
     "text": [
      "100%|██████████| 1/1 [00:00<00:00,  1.86it/s]\n"
     ]
    },
    {
     "name": "stdout",
     "output_type": "stream",
     "text": [
      "accuracy didn't improve from 0.1630197912454605\n",
      "Valid loss: 0.7158932685852051 Valid accuracy 0.13507623970508575\n",
      "Epoch: 48/100\n"
     ]
    },
    {
     "name": "stderr",
     "output_type": "stream",
     "text": [
      "100%|██████████| 6/6 [00:03<00:00,  1.83it/s]\n"
     ]
    },
    {
     "name": "stdout",
     "output_type": "stream",
     "text": [
      "Train loss: 0.713177224000295 Train accuracy 0.13158917675415674\n"
     ]
    },
    {
     "name": "stderr",
     "output_type": "stream",
     "text": [
      "100%|██████████| 1/1 [00:00<00:00,  1.83it/s]\n"
     ]
    },
    {
     "name": "stdout",
     "output_type": "stream",
     "text": [
      "accuracy didn't improve from 0.1630197912454605\n",
      "Valid loss: 0.7153194546699524 Valid accuracy 0.12981906533241272\n",
      "Epoch: 49/100\n"
     ]
    },
    {
     "name": "stderr",
     "output_type": "stream",
     "text": [
      "100%|██████████| 6/6 [00:04<00:00,  1.24it/s]\n"
     ]
    },
    {
     "name": "stdout",
     "output_type": "stream",
     "text": [
      "Train loss: 0.7125093539555868 Train accuracy 0.12932350238164267\n"
     ]
    },
    {
     "name": "stderr",
     "output_type": "stream",
     "text": [
      "100%|██████████| 1/1 [00:00<00:00,  1.75it/s]\n"
     ]
    },
    {
     "name": "stdout",
     "output_type": "stream",
     "text": [
      "accuracy didn't improve from 0.1630197912454605\n",
      "Valid loss: 0.7149028182029724 Valid accuracy 0.129913792014122\n",
      "Epoch: 50/100\n"
     ]
    },
    {
     "name": "stderr",
     "output_type": "stream",
     "text": [
      "100%|██████████| 6/6 [00:03<00:00,  1.78it/s]\n"
     ]
    },
    {
     "name": "stdout",
     "output_type": "stream",
     "text": [
      "Train loss: 0.7119313975175222 Train accuracy 0.12942219028870264\n"
     ]
    },
    {
     "name": "stderr",
     "output_type": "stream",
     "text": [
      "100%|██████████| 1/1 [00:00<00:00,  1.81it/s]\n"
     ]
    },
    {
     "name": "stdout",
     "output_type": "stream",
     "text": [
      "accuracy didn't improve from 0.1630197912454605\n",
      "Valid loss: 0.7145379781723022 Valid accuracy 0.1293928176164627\n",
      "Epoch: 51/100\n"
     ]
    },
    {
     "name": "stderr",
     "output_type": "stream",
     "text": [
      "100%|██████████| 6/6 [00:03<00:00,  1.75it/s]\n"
     ]
    },
    {
     "name": "stdout",
     "output_type": "stream",
     "text": [
      "Train loss: 0.7115408480167389 Train accuracy 0.12817967931429544\n"
     ]
    },
    {
     "name": "stderr",
     "output_type": "stream",
     "text": [
      "100%|██████████| 1/1 [00:00<00:00,  1.83it/s]\n"
     ]
    },
    {
     "name": "stdout",
     "output_type": "stream",
     "text": [
      "accuracy didn't improve from 0.1630197912454605\n",
      "Valid loss: 0.7141991853713989 Valid accuracy 0.12996114790439606\n",
      "Epoch: 52/100\n"
     ]
    },
    {
     "name": "stderr",
     "output_type": "stream",
     "text": [
      "100%|██████████| 6/6 [00:03<00:00,  1.80it/s]\n"
     ]
    },
    {
     "name": "stdout",
     "output_type": "stream",
     "text": [
      "Train loss: 0.710820476214091 Train accuracy 0.12773979951937994\n"
     ]
    },
    {
     "name": "stderr",
     "output_type": "stream",
     "text": [
      "100%|██████████| 1/1 [00:00<00:00,  1.84it/s]\n"
     ]
    },
    {
     "name": "stdout",
     "output_type": "stream",
     "text": [
      "accuracy didn't improve from 0.1630197912454605\n",
      "Valid loss: 0.7138332724571228 Valid accuracy 0.1274036020040512\n",
      "Epoch: 53/100\n"
     ]
    },
    {
     "name": "stderr",
     "output_type": "stream",
     "text": [
      "100%|██████████| 6/6 [00:03<00:00,  1.75it/s]\n"
     ]
    },
    {
     "name": "stdout",
     "output_type": "stream",
     "text": [
      "Train loss: 0.7108639975388845 Train accuracy 0.1267120105524858\n"
     ]
    },
    {
     "name": "stderr",
     "output_type": "stream",
     "text": [
      "100%|██████████| 1/1 [00:00<00:00,  1.85it/s]\n"
     ]
    },
    {
     "name": "stdout",
     "output_type": "stream",
     "text": [
      "accuracy didn't improve from 0.1630197912454605\n",
      "Valid loss: 0.713621199131012 Valid accuracy 0.12863501906394958\n",
      "Epoch: 54/100\n"
     ]
    },
    {
     "name": "stderr",
     "output_type": "stream",
     "text": [
      "100%|██████████| 6/6 [00:03<00:00,  1.79it/s]\n"
     ]
    },
    {
     "name": "stdout",
     "output_type": "stream",
     "text": [
      "Train loss: 0.710373173157374 Train accuracy 0.1260738161702951\n"
     ]
    },
    {
     "name": "stderr",
     "output_type": "stream",
     "text": [
      "100%|██████████| 1/1 [00:00<00:00,  1.81it/s]\n"
     ]
    },
    {
     "name": "stdout",
     "output_type": "stream",
     "text": [
      "accuracy didn't improve from 0.1630197912454605\n",
      "Valid loss: 0.7131272554397583 Valid accuracy 0.12555649876594543\n",
      "Epoch: 55/100\n"
     ]
    },
    {
     "name": "stderr",
     "output_type": "stream",
     "text": [
      "100%|██████████| 6/6 [00:03<00:00,  1.76it/s]\n"
     ]
    },
    {
     "name": "stdout",
     "output_type": "stream",
     "text": [
      "Train loss: 0.7097818851470947 Train accuracy 0.1251873088379701\n"
     ]
    },
    {
     "name": "stderr",
     "output_type": "stream",
     "text": [
      "100%|██████████| 1/1 [00:00<00:00,  1.76it/s]\n"
     ]
    },
    {
     "name": "stdout",
     "output_type": "stream",
     "text": [
      "accuracy didn't improve from 0.1630197912454605\n",
      "Valid loss: 0.712874174118042 Valid accuracy 0.1223832443356514\n",
      "Epoch: 56/100\n"
     ]
    },
    {
     "name": "stderr",
     "output_type": "stream",
     "text": [
      "100%|██████████| 6/6 [00:03<00:00,  1.78it/s]\n"
     ]
    },
    {
     "name": "stdout",
     "output_type": "stream",
     "text": [
      "Train loss: 0.7096888820330302 Train accuracy 0.12356661756833394\n"
     ]
    },
    {
     "name": "stderr",
     "output_type": "stream",
     "text": [
      "100%|██████████| 1/1 [00:00<00:00,  1.80it/s]\n"
     ]
    },
    {
     "name": "stdout",
     "output_type": "stream",
     "text": [
      "accuracy didn't improve from 0.1630197912454605\n",
      "Valid loss: 0.712489902973175 Valid accuracy 0.12361465394496918\n",
      "Epoch: 57/100\n"
     ]
    },
    {
     "name": "stderr",
     "output_type": "stream",
     "text": [
      "100%|██████████| 6/6 [00:03<00:00,  1.80it/s]\n"
     ]
    },
    {
     "name": "stdout",
     "output_type": "stream",
     "text": [
      "Train loss: 0.7087721029917399 Train accuracy 0.12233057245612144\n"
     ]
    },
    {
     "name": "stderr",
     "output_type": "stream",
     "text": [
      "100%|██████████| 1/1 [00:00<00:00,  1.82it/s]\n"
     ]
    },
    {
     "name": "stdout",
     "output_type": "stream",
     "text": [
      "accuracy didn't improve from 0.1630197912454605\n",
      "Valid loss: 0.712083101272583 Valid accuracy 0.12157808989286423\n",
      "Epoch: 58/100\n"
     ]
    },
    {
     "name": "stderr",
     "output_type": "stream",
     "text": [
      "100%|██████████| 6/6 [00:04<00:00,  1.25it/s]\n"
     ]
    },
    {
     "name": "stdout",
     "output_type": "stream",
     "text": [
      "Train loss: 0.7084629734357198 Train accuracy 0.12109444662928581\n"
     ]
    },
    {
     "name": "stderr",
     "output_type": "stream",
     "text": [
      "100%|██████████| 1/1 [00:00<00:00,  1.73it/s]\n"
     ]
    },
    {
     "name": "stdout",
     "output_type": "stream",
     "text": [
      "accuracy didn't improve from 0.1630197912454605\n",
      "Valid loss: 0.7118964791297913 Valid accuracy 0.12304630875587463\n",
      "Epoch: 59/100\n"
     ]
    },
    {
     "name": "stderr",
     "output_type": "stream",
     "text": [
      "100%|██████████| 6/6 [00:03<00:00,  1.75it/s]\n"
     ]
    },
    {
     "name": "stdout",
     "output_type": "stream",
     "text": [
      "Train loss: 0.708153118689855 Train accuracy 0.11965746308366458\n"
     ]
    },
    {
     "name": "stderr",
     "output_type": "stream",
     "text": [
      "100%|██████████| 1/1 [00:00<00:00,  1.85it/s]\n"
     ]
    },
    {
     "name": "stdout",
     "output_type": "stream",
     "text": [
      "accuracy didn't improve from 0.1630197912454605\n",
      "Valid loss: 0.7114990949630737 Valid accuracy 0.12025195360183716\n",
      "Epoch: 60/100\n"
     ]
    },
    {
     "name": "stderr",
     "output_type": "stream",
     "text": [
      "100%|██████████| 6/6 [00:03<00:00,  1.78it/s]\n"
     ]
    },
    {
     "name": "stdout",
     "output_type": "stream",
     "text": [
      "Train loss: 0.708213597536087 Train accuracy 0.1183319774766763\n"
     ]
    },
    {
     "name": "stderr",
     "output_type": "stream",
     "text": [
      "100%|██████████| 1/1 [00:00<00:00,  1.77it/s]\n"
     ]
    },
    {
     "name": "stdout",
     "output_type": "stream",
     "text": [
      "accuracy didn't improve from 0.1630197912454605\n",
      "Valid loss: 0.7112596035003662 Valid accuracy 0.12091502547264099\n",
      "Epoch: 61/100\n"
     ]
    },
    {
     "name": "stderr",
     "output_type": "stream",
     "text": [
      "100%|██████████| 6/6 [00:03<00:00,  1.76it/s]\n"
     ]
    },
    {
     "name": "stdout",
     "output_type": "stream",
     "text": [
      "Train loss: 0.7076203326384226 Train accuracy 0.11819826687375705\n"
     ]
    },
    {
     "name": "stderr",
     "output_type": "stream",
     "text": [
      "100%|██████████| 1/1 [00:00<00:00,  1.77it/s]\n"
     ]
    },
    {
     "name": "stdout",
     "output_type": "stream",
     "text": [
      "accuracy didn't improve from 0.1630197912454605\n",
      "Valid loss: 0.7110916972160339 Valid accuracy 0.11461588740348816\n",
      "Epoch: 62/100\n"
     ]
    },
    {
     "name": "stderr",
     "output_type": "stream",
     "text": [
      "100%|██████████| 6/6 [00:03<00:00,  1.78it/s]\n"
     ]
    },
    {
     "name": "stdout",
     "output_type": "stream",
     "text": [
      "Train loss: 0.7074993948141733 Train accuracy 0.11686692883570989\n"
     ]
    },
    {
     "name": "stderr",
     "output_type": "stream",
     "text": [
      "100%|██████████| 1/1 [00:00<00:00,  1.74it/s]\n"
     ]
    },
    {
     "name": "stdout",
     "output_type": "stream",
     "text": [
      "accuracy didn't improve from 0.1630197912454605\n",
      "Valid loss: 0.7107076048851013 Valid accuracy 0.12044140696525574\n",
      "Epoch: 63/100\n"
     ]
    },
    {
     "name": "stderr",
     "output_type": "stream",
     "text": [
      "100%|██████████| 6/6 [00:03<00:00,  1.74it/s]\n"
     ]
    },
    {
     "name": "stdout",
     "output_type": "stream",
     "text": [
      "Train loss: 0.7070226271947225 Train accuracy 0.11761792749166489\n"
     ]
    },
    {
     "name": "stderr",
     "output_type": "stream",
     "text": [
      "100%|██████████| 1/1 [00:00<00:00,  1.72it/s]\n"
     ]
    },
    {
     "name": "stdout",
     "output_type": "stream",
     "text": [
      "accuracy didn't improve from 0.1630197912454605\n",
      "Valid loss: 0.7105104923248291 Valid accuracy 0.12138864398002625\n",
      "Epoch: 64/100\n"
     ]
    },
    {
     "name": "stderr",
     "output_type": "stream",
     "text": [
      "100%|██████████| 6/6 [00:03<00:00,  1.76it/s]\n"
     ]
    },
    {
     "name": "stdout",
     "output_type": "stream",
     "text": [
      "Train loss: 0.7065979242324829 Train accuracy 0.11578799535830815\n"
     ]
    },
    {
     "name": "stderr",
     "output_type": "stream",
     "text": [
      "100%|██████████| 1/1 [00:00<00:00,  1.78it/s]\n"
     ]
    },
    {
     "name": "stdout",
     "output_type": "stream",
     "text": [
      "accuracy didn't improve from 0.1630197912454605\n",
      "Valid loss: 0.7102382779121399 Valid accuracy 0.11385809630155563\n",
      "Epoch: 65/100\n"
     ]
    },
    {
     "name": "stderr",
     "output_type": "stream",
     "text": [
      "100%|██████████| 6/6 [00:03<00:00,  1.77it/s]\n"
     ]
    },
    {
     "name": "stdout",
     "output_type": "stream",
     "text": [
      "Train loss: 0.7062853078047434 Train accuracy 0.11487051472067833\n"
     ]
    },
    {
     "name": "stderr",
     "output_type": "stream",
     "text": [
      "100%|██████████| 1/1 [00:00<00:00,  1.69it/s]\n"
     ]
    },
    {
     "name": "stdout",
     "output_type": "stream",
     "text": [
      "accuracy didn't improve from 0.1630197912454605\n",
      "Valid loss: 0.7097683548927307 Valid accuracy 0.11632091552019119\n",
      "Epoch: 66/100\n"
     ]
    },
    {
     "name": "stderr",
     "output_type": "stream",
     "text": [
      "100%|██████████| 6/6 [00:04<00:00,  1.24it/s]\n"
     ]
    },
    {
     "name": "stdout",
     "output_type": "stream",
     "text": [
      "Train loss: 0.7059751351674398 Train accuracy 0.11477780217925708\n"
     ]
    },
    {
     "name": "stderr",
     "output_type": "stream",
     "text": [
      "100%|██████████| 1/1 [00:00<00:00,  1.76it/s]\n"
     ]
    },
    {
     "name": "stdout",
     "output_type": "stream",
     "text": [
      "accuracy didn't improve from 0.1630197912454605\n",
      "Valid loss: 0.7096612453460693 Valid accuracy 0.1167471706867218\n",
      "Epoch: 67/100\n"
     ]
    },
    {
     "name": "stderr",
     "output_type": "stream",
     "text": [
      "100%|██████████| 6/6 [00:03<00:00,  1.77it/s]\n"
     ]
    },
    {
     "name": "stdout",
     "output_type": "stream",
     "text": [
      "Train loss: 0.7062956690788269 Train accuracy 0.11466139803330104\n"
     ]
    },
    {
     "name": "stderr",
     "output_type": "stream",
     "text": [
      "100%|██████████| 1/1 [00:00<00:00,  1.78it/s]\n"
     ]
    },
    {
     "name": "stdout",
     "output_type": "stream",
     "text": [
      "accuracy didn't improve from 0.1630197912454605\n",
      "Valid loss: 0.7092006802558899 Valid accuracy 0.11347919702529907\n",
      "Epoch: 68/100\n"
     ]
    },
    {
     "name": "stderr",
     "output_type": "stream",
     "text": [
      "100%|██████████| 6/6 [00:03<00:00,  1.79it/s]\n"
     ]
    },
    {
     "name": "stdout",
     "output_type": "stream",
     "text": [
      "Train loss: 0.7054588695367178 Train accuracy 0.1124536581337452\n"
     ]
    },
    {
     "name": "stderr",
     "output_type": "stream",
     "text": [
      "100%|██████████| 1/1 [00:00<00:00,  1.72it/s]\n"
     ]
    },
    {
     "name": "stdout",
     "output_type": "stream",
     "text": [
      "accuracy didn't improve from 0.1630197912454605\n",
      "Valid loss: 0.7089817523956299 Valid accuracy 0.11508950591087341\n",
      "Epoch: 69/100\n"
     ]
    },
    {
     "name": "stderr",
     "output_type": "stream",
     "text": [
      "100%|██████████| 6/6 [00:03<00:00,  1.75it/s]\n"
     ]
    },
    {
     "name": "stdout",
     "output_type": "stream",
     "text": [
      "Train loss: 0.7053971489270529 Train accuracy 0.1131332591176033\n"
     ]
    },
    {
     "name": "stderr",
     "output_type": "stream",
     "text": [
      "100%|██████████| 1/1 [00:00<00:00,  1.76it/s]\n"
     ]
    },
    {
     "name": "stdout",
     "output_type": "stream",
     "text": [
      "accuracy didn't improve from 0.1630197912454605\n",
      "Valid loss: 0.708560585975647 Valid accuracy 0.11381073296070099\n",
      "Epoch: 70/100\n"
     ]
    },
    {
     "name": "stderr",
     "output_type": "stream",
     "text": [
      "100%|██████████| 6/6 [00:03<00:00,  1.70it/s]\n"
     ]
    },
    {
     "name": "stdout",
     "output_type": "stream",
     "text": [
      "Train loss: 0.7043039997418722 Train accuracy 0.11206300184130669\n"
     ]
    },
    {
     "name": "stderr",
     "output_type": "stream",
     "text": [
      "100%|██████████| 1/1 [00:00<00:00,  1.78it/s]\n"
     ]
    },
    {
     "name": "stdout",
     "output_type": "stream",
     "text": [
      "accuracy didn't improve from 0.1630197912454605\n",
      "Valid loss: 0.7082384824752808 Valid accuracy 0.11224778741598129\n",
      "Epoch: 71/100\n"
     ]
    },
    {
     "name": "stderr",
     "output_type": "stream",
     "text": [
      "100%|██████████| 6/6 [00:03<00:00,  1.74it/s]\n"
     ]
    },
    {
     "name": "stdout",
     "output_type": "stream",
     "text": [
      "Train loss: 0.7041515211264292 Train accuracy 0.11179521183172862\n"
     ]
    },
    {
     "name": "stderr",
     "output_type": "stream",
     "text": [
      "100%|██████████| 1/1 [00:00<00:00,  1.85it/s]\n"
     ]
    },
    {
     "name": "stdout",
     "output_type": "stream",
     "text": [
      "accuracy didn't improve from 0.1630197912454605\n",
      "Valid loss: 0.7081852555274963 Valid accuracy 0.11257932335138321\n",
      "Epoch: 72/100\n"
     ]
    },
    {
     "name": "stderr",
     "output_type": "stream",
     "text": [
      "100%|██████████| 6/6 [00:03<00:00,  1.80it/s]\n"
     ]
    },
    {
     "name": "stdout",
     "output_type": "stream",
     "text": [
      "Train loss: 0.70387730995814 Train accuracy 0.110275582720836\n"
     ]
    },
    {
     "name": "stderr",
     "output_type": "stream",
     "text": [
      "100%|██████████| 1/1 [00:00<00:00,  1.81it/s]\n"
     ]
    },
    {
     "name": "stdout",
     "output_type": "stream",
     "text": [
      "accuracy didn't improve from 0.1630197912454605\n",
      "Valid loss: 0.7077621817588806 Valid accuracy 0.11035331338644028\n",
      "Epoch: 73/100\n"
     ]
    },
    {
     "name": "stderr",
     "output_type": "stream",
     "text": [
      "100%|██████████| 6/6 [00:03<00:00,  1.72it/s]\n"
     ]
    },
    {
     "name": "stdout",
     "output_type": "stream",
     "text": [
      "Train loss: 0.7033755481243134 Train accuracy 0.1100001409649849\n"
     ]
    },
    {
     "name": "stderr",
     "output_type": "stream",
     "text": [
      "100%|██████████| 1/1 [00:00<00:00,  1.82it/s]\n"
     ]
    },
    {
     "name": "stdout",
     "output_type": "stream",
     "text": [
      "accuracy didn't improve from 0.1630197912454605\n",
      "Valid loss: 0.7074358463287354 Valid accuracy 0.11295821517705917\n",
      "Epoch: 74/100\n"
     ]
    },
    {
     "name": "stderr",
     "output_type": "stream",
     "text": [
      "100%|██████████| 6/6 [00:03<00:00,  1.75it/s]\n"
     ]
    },
    {
     "name": "stdout",
     "output_type": "stream",
     "text": [
      "Train loss: 0.7034490903218588 Train accuracy 0.1094108410179615\n"
     ]
    },
    {
     "name": "stderr",
     "output_type": "stream",
     "text": [
      "100%|██████████| 1/1 [00:00<00:00,  1.75it/s]\n"
     ]
    },
    {
     "name": "stdout",
     "output_type": "stream",
     "text": [
      "accuracy didn't improve from 0.1630197912454605\n",
      "Valid loss: 0.7073227763175964 Valid accuracy 0.11096901446580887\n",
      "Epoch: 75/100\n"
     ]
    },
    {
     "name": "stderr",
     "output_type": "stream",
     "text": [
      "100%|██████████| 6/6 [00:03<00:00,  1.76it/s]\n"
     ]
    },
    {
     "name": "stdout",
     "output_type": "stream",
     "text": [
      "Train loss: 0.7029441992441813 Train accuracy 0.10834540923436482\n"
     ]
    },
    {
     "name": "stderr",
     "output_type": "stream",
     "text": [
      "100%|██████████| 1/1 [00:00<00:00,  1.74it/s]\n"
     ]
    },
    {
     "name": "stdout",
     "output_type": "stream",
     "text": [
      "accuracy didn't improve from 0.1630197912454605\n",
      "Valid loss: 0.7069074511528015 Valid accuracy 0.10798521339893341\n",
      "Epoch: 76/100\n"
     ]
    },
    {
     "name": "stderr",
     "output_type": "stream",
     "text": [
      "100%|██████████| 6/6 [00:03<00:00,  1.78it/s]\n"
     ]
    },
    {
     "name": "stdout",
     "output_type": "stream",
     "text": [
      "Train loss: 0.7027328411738077 Train accuracy 0.10768986741701762\n"
     ]
    },
    {
     "name": "stderr",
     "output_type": "stream",
     "text": [
      "100%|██████████| 1/1 [00:00<00:00,  1.85it/s]\n"
     ]
    },
    {
     "name": "stdout",
     "output_type": "stream",
     "text": [
      "accuracy didn't improve from 0.1630197912454605\n",
      "Valid loss: 0.7068284153938293 Valid accuracy 0.10950079560279846\n",
      "Epoch: 77/100\n"
     ]
    },
    {
     "name": "stderr",
     "output_type": "stream",
     "text": [
      "100%|██████████| 6/6 [00:04<00:00,  1.25it/s]\n"
     ]
    },
    {
     "name": "stdout",
     "output_type": "stream",
     "text": [
      "Train loss: 0.7028660873572031 Train accuracy 0.10834868376453717\n"
     ]
    },
    {
     "name": "stderr",
     "output_type": "stream",
     "text": [
      "100%|██████████| 1/1 [00:00<00:00,  1.80it/s]\n"
     ]
    },
    {
     "name": "stdout",
     "output_type": "stream",
     "text": [
      "accuracy didn't improve from 0.1630197912454605\n",
      "Valid loss: 0.7066994309425354 Valid accuracy 0.10741687566041946\n",
      "Epoch: 78/100\n"
     ]
    },
    {
     "name": "stderr",
     "output_type": "stream",
     "text": [
      "100%|██████████| 6/6 [00:03<00:00,  1.74it/s]\n"
     ]
    },
    {
     "name": "stdout",
     "output_type": "stream",
     "text": [
      "Train loss: 0.7022826274236044 Train accuracy 0.10656821976105373\n"
     ]
    },
    {
     "name": "stderr",
     "output_type": "stream",
     "text": [
      "100%|██████████| 1/1 [00:00<00:00,  1.79it/s]\n"
     ]
    },
    {
     "name": "stdout",
     "output_type": "stream",
     "text": [
      "accuracy didn't improve from 0.1630197912454605\n",
      "Valid loss: 0.7062573432922363 Valid accuracy 0.10708533972501755\n",
      "Epoch: 79/100\n"
     ]
    },
    {
     "name": "stderr",
     "output_type": "stream",
     "text": [
      "100%|██████████| 6/6 [00:03<00:00,  1.72it/s]\n"
     ]
    },
    {
     "name": "stdout",
     "output_type": "stream",
     "text": [
      "Train loss: 0.7022645870844523 Train accuracy 0.10674828911821048\n"
     ]
    },
    {
     "name": "stderr",
     "output_type": "stream",
     "text": [
      "100%|██████████| 1/1 [00:00<00:00,  1.75it/s]\n"
     ]
    },
    {
     "name": "stdout",
     "output_type": "stream",
     "text": [
      "accuracy didn't improve from 0.1630197912454605\n",
      "Valid loss: 0.7063278555870056 Valid accuracy 0.10722742229700089\n",
      "Epoch: 80/100\n"
     ]
    },
    {
     "name": "stderr",
     "output_type": "stream",
     "text": [
      "100%|██████████| 6/6 [00:03<00:00,  1.80it/s]\n"
     ]
    },
    {
     "name": "stdout",
     "output_type": "stream",
     "text": [
      "Train loss: 0.7022875944773356 Train accuracy 0.10706517721215884\n"
     ]
    },
    {
     "name": "stderr",
     "output_type": "stream",
     "text": [
      "100%|██████████| 1/1 [00:00<00:00,  1.74it/s]\n"
     ]
    },
    {
     "name": "stdout",
     "output_type": "stream",
     "text": [
      "accuracy didn't improve from 0.1630197912454605\n",
      "Valid loss: 0.7061837911605835 Valid accuracy 0.10632754862308502\n",
      "Epoch: 81/100\n"
     ]
    },
    {
     "name": "stderr",
     "output_type": "stream",
     "text": [
      "100%|██████████| 6/6 [00:03<00:00,  1.75it/s]\n"
     ]
    },
    {
     "name": "stdout",
     "output_type": "stream",
     "text": [
      "Train loss: 0.7017249464988708 Train accuracy 0.10556678101420403\n"
     ]
    },
    {
     "name": "stderr",
     "output_type": "stream",
     "text": [
      "100%|██████████| 1/1 [00:00<00:00,  1.83it/s]\n"
     ]
    },
    {
     "name": "stdout",
     "output_type": "stream",
     "text": [
      "accuracy didn't improve from 0.1630197912454605\n",
      "Valid loss: 0.7062879204750061 Valid accuracy 0.10343846678733826\n",
      "Epoch: 82/100\n"
     ]
    },
    {
     "name": "stderr",
     "output_type": "stream",
     "text": [
      "100%|██████████| 6/6 [00:03<00:00,  1.83it/s]\n"
     ]
    },
    {
     "name": "stdout",
     "output_type": "stream",
     "text": [
      "Train loss: 0.7018356819947561 Train accuracy 0.10573158909877141\n"
     ]
    },
    {
     "name": "stderr",
     "output_type": "stream",
     "text": [
      "100%|██████████| 1/1 [00:00<00:00,  1.80it/s]\n"
     ]
    },
    {
     "name": "stdout",
     "output_type": "stream",
     "text": [
      "accuracy didn't improve from 0.1630197912454605\n",
      "Valid loss: 0.706129252910614 Valid accuracy 0.10514350235462189\n",
      "Epoch: 83/100\n"
     ]
    },
    {
     "name": "stderr",
     "output_type": "stream",
     "text": [
      "100%|██████████| 6/6 [00:03<00:00,  1.74it/s]\n"
     ]
    },
    {
     "name": "stdout",
     "output_type": "stream",
     "text": [
      "Train loss: 0.7014362812042236 Train accuracy 0.10544939711689949\n"
     ]
    },
    {
     "name": "stderr",
     "output_type": "stream",
     "text": [
      "100%|██████████| 1/1 [00:00<00:00,  1.79it/s]\n"
     ]
    },
    {
     "name": "stdout",
     "output_type": "stream",
     "text": [
      "accuracy didn't improve from 0.1630197912454605\n",
      "Valid loss: 0.7059212923049927 Valid accuracy 0.1060907393693924\n",
      "Epoch: 84/100\n"
     ]
    },
    {
     "name": "stderr",
     "output_type": "stream",
     "text": [
      "100%|██████████| 6/6 [00:03<00:00,  1.76it/s]\n"
     ]
    },
    {
     "name": "stdout",
     "output_type": "stream",
     "text": [
      "Train loss: 0.7010143796602885 Train accuracy 0.10618190094828606\n"
     ]
    },
    {
     "name": "stderr",
     "output_type": "stream",
     "text": [
      "100%|██████████| 1/1 [00:00<00:00,  1.81it/s]\n"
     ]
    },
    {
     "name": "stdout",
     "output_type": "stream",
     "text": [
      "accuracy didn't improve from 0.1630197912454605\n",
      "Valid loss: 0.7056100964546204 Valid accuracy 0.10732214897871017\n",
      "Epoch: 85/100\n"
     ]
    },
    {
     "name": "stderr",
     "output_type": "stream",
     "text": [
      "100%|██████████| 6/6 [00:03<00:00,  1.76it/s]\n"
     ]
    },
    {
     "name": "stdout",
     "output_type": "stream",
     "text": [
      "Train loss: 0.7010649542013804 Train accuracy 0.10580396776398023\n"
     ]
    },
    {
     "name": "stderr",
     "output_type": "stream",
     "text": [
      "100%|██████████| 1/1 [00:00<00:00,  1.82it/s]\n"
     ]
    },
    {
     "name": "stdout",
     "output_type": "stream",
     "text": [
      "accuracy didn't improve from 0.1630197912454605\n",
      "Valid loss: 0.7055308222770691 Valid accuracy 0.10722742229700089\n",
      "Epoch: 86/100\n"
     ]
    },
    {
     "name": "stderr",
     "output_type": "stream",
     "text": [
      "100%|██████████| 6/6 [00:03<00:00,  1.78it/s]\n"
     ]
    },
    {
     "name": "stdout",
     "output_type": "stream",
     "text": [
      "Train loss: 0.7004667520523071 Train accuracy 0.10605919609467189\n"
     ]
    },
    {
     "name": "stderr",
     "output_type": "stream",
     "text": [
      "100%|██████████| 1/1 [00:00<00:00,  1.74it/s]\n"
     ]
    },
    {
     "name": "stdout",
     "output_type": "stream",
     "text": [
      "accuracy didn't improve from 0.1630197912454605\n",
      "Valid loss: 0.7052101492881775 Valid accuracy 0.10476460307836533\n",
      "Epoch: 87/100\n"
     ]
    },
    {
     "name": "stderr",
     "output_type": "stream",
     "text": [
      "100%|██████████| 6/6 [00:04<00:00,  1.22it/s]\n"
     ]
    },
    {
     "name": "stdout",
     "output_type": "stream",
     "text": [
      "Train loss: 0.7004495660463969 Train accuracy 0.10495350634058316\n"
     ]
    },
    {
     "name": "stderr",
     "output_type": "stream",
     "text": [
      "100%|██████████| 1/1 [00:00<00:00,  1.86it/s]\n"
     ]
    },
    {
     "name": "stdout",
     "output_type": "stream",
     "text": [
      "accuracy didn't improve from 0.1630197912454605\n",
      "Valid loss: 0.7049055695533752 Valid accuracy 0.10429098457098007\n",
      "Epoch: 88/100\n"
     ]
    },
    {
     "name": "stderr",
     "output_type": "stream",
     "text": [
      "100%|██████████| 6/6 [00:03<00:00,  1.75it/s]\n"
     ]
    },
    {
     "name": "stdout",
     "output_type": "stream",
     "text": [
      "Train loss: 0.6999967992305756 Train accuracy 0.10541285822788875\n"
     ]
    },
    {
     "name": "stderr",
     "output_type": "stream",
     "text": [
      "100%|██████████| 1/1 [00:00<00:00,  1.76it/s]\n"
     ]
    },
    {
     "name": "stdout",
     "output_type": "stream",
     "text": [
      "accuracy didn't improve from 0.1630197912454605\n",
      "Valid loss: 0.7048245668411255 Valid accuracy 0.10377000272274017\n",
      "Epoch: 89/100\n"
     ]
    },
    {
     "name": "stderr",
     "output_type": "stream",
     "text": [
      "100%|██████████| 6/6 [00:03<00:00,  1.75it/s]\n"
     ]
    },
    {
     "name": "stdout",
     "output_type": "stream",
     "text": [
      "Train loss: 0.6999667584896088 Train accuracy 0.10582606121897697\n"
     ]
    },
    {
     "name": "stderr",
     "output_type": "stream",
     "text": [
      "100%|██████████| 1/1 [00:00<00:00,  1.74it/s]\n"
     ]
    },
    {
     "name": "stdout",
     "output_type": "stream",
     "text": [
      "accuracy didn't improve from 0.1630197912454605\n",
      "Valid loss: 0.7050917148590088 Valid accuracy 0.10523822158575058\n",
      "Epoch: 90/100\n"
     ]
    },
    {
     "name": "stderr",
     "output_type": "stream",
     "text": [
      "100%|██████████| 6/6 [00:03<00:00,  1.72it/s]\n"
     ]
    },
    {
     "name": "stdout",
     "output_type": "stream",
     "text": [
      "Train loss: 0.7000920176506042 Train accuracy 0.10533434400955836\n"
     ]
    },
    {
     "name": "stderr",
     "output_type": "stream",
     "text": [
      "100%|██████████| 1/1 [00:00<00:00,  1.72it/s]\n"
     ]
    },
    {
     "name": "stdout",
     "output_type": "stream",
     "text": [
      "accuracy didn't improve from 0.1630197912454605\n",
      "Valid loss: 0.7048652172088623 Valid accuracy 0.10424362123012543\n",
      "Epoch: 91/100\n"
     ]
    },
    {
     "name": "stderr",
     "output_type": "stream",
     "text": [
      "100%|██████████| 6/6 [00:03<00:00,  1.74it/s]\n"
     ]
    },
    {
     "name": "stdout",
     "output_type": "stream",
     "text": [
      "Train loss: 0.6997433801492056 Train accuracy 0.10535451397299767\n"
     ]
    },
    {
     "name": "stderr",
     "output_type": "stream",
     "text": [
      "100%|██████████| 1/1 [00:00<00:00,  1.82it/s]\n"
     ]
    },
    {
     "name": "stdout",
     "output_type": "stream",
     "text": [
      "accuracy didn't improve from 0.1630197912454605\n",
      "Valid loss: 0.7049970626831055 Valid accuracy 0.10457515716552734\n",
      "Epoch: 92/100\n"
     ]
    },
    {
     "name": "stderr",
     "output_type": "stream",
     "text": [
      "100%|██████████| 6/6 [00:03<00:00,  1.75it/s]\n"
     ]
    },
    {
     "name": "stdout",
     "output_type": "stream",
     "text": [
      "Train loss: 0.7000573476155599 Train accuracy 0.10547828301787376\n"
     ]
    },
    {
     "name": "stderr",
     "output_type": "stream",
     "text": [
      "100%|██████████| 1/1 [00:00<00:00,  1.62it/s]\n"
     ]
    },
    {
     "name": "stdout",
     "output_type": "stream",
     "text": [
      "accuracy didn't improve from 0.1630197912454605\n",
      "Valid loss: 0.7052099108695984 Valid accuracy 0.10168607532978058\n",
      "Epoch: 93/100\n"
     ]
    },
    {
     "name": "stderr",
     "output_type": "stream",
     "text": [
      "100%|██████████| 6/6 [00:03<00:00,  1.71it/s]\n"
     ]
    },
    {
     "name": "stdout",
     "output_type": "stream",
     "text": [
      "Train loss: 0.699630598227183 Train accuracy 0.10643872370322545\n"
     ]
    },
    {
     "name": "stderr",
     "output_type": "stream",
     "text": [
      "100%|██████████| 1/1 [00:00<00:00,  1.70it/s]\n"
     ]
    },
    {
     "name": "stdout",
     "output_type": "stream",
     "text": [
      "accuracy didn't improve from 0.1630197912454605\n",
      "Valid loss: 0.7046093940734863 Valid accuracy 0.10334374755620956\n",
      "Epoch: 94/100\n"
     ]
    },
    {
     "name": "stderr",
     "output_type": "stream",
     "text": [
      "100%|██████████| 6/6 [00:03<00:00,  1.70it/s]\n"
     ]
    },
    {
     "name": "stdout",
     "output_type": "stream",
     "text": [
      "Train loss: 0.6989488701025645 Train accuracy 0.10562897225220998\n"
     ]
    },
    {
     "name": "stderr",
     "output_type": "stream",
     "text": [
      "100%|██████████| 1/1 [00:00<00:00,  1.71it/s]\n"
     ]
    },
    {
     "name": "stdout",
     "output_type": "stream",
     "text": [
      "accuracy didn't improve from 0.1630197912454605\n",
      "Valid loss: 0.7039870619773865 Valid accuracy 0.10656435787677765\n",
      "Epoch: 95/100\n"
     ]
    },
    {
     "name": "stderr",
     "output_type": "stream",
     "text": [
      "100%|██████████| 6/6 [00:03<00:00,  1.75it/s]\n"
     ]
    },
    {
     "name": "stdout",
     "output_type": "stream",
     "text": [
      "Train loss: 0.6991487046082815 Train accuracy 0.1064767340819041\n"
     ]
    },
    {
     "name": "stderr",
     "output_type": "stream",
     "text": [
      "100%|██████████| 1/1 [00:00<00:00,  1.79it/s]\n"
     ]
    },
    {
     "name": "stdout",
     "output_type": "stream",
     "text": [
      "accuracy didn't improve from 0.1630197912454605\n",
      "Valid loss: 0.7037855982780457 Valid accuracy 0.1059960126876831\n",
      "Epoch: 96/100\n"
     ]
    },
    {
     "name": "stderr",
     "output_type": "stream",
     "text": [
      "100%|██████████| 6/6 [00:03<00:00,  1.78it/s]\n"
     ]
    },
    {
     "name": "stdout",
     "output_type": "stream",
     "text": [
      "Train loss: 0.6988886892795563 Train accuracy 0.10809402788678805\n"
     ]
    },
    {
     "name": "stderr",
     "output_type": "stream",
     "text": [
      "100%|██████████| 1/1 [00:00<00:00,  1.75it/s]\n"
     ]
    },
    {
     "name": "stdout",
     "output_type": "stream",
     "text": [
      "accuracy didn't improve from 0.1630197912454605\n",
      "Valid loss: 0.7037167549133301 Valid accuracy 0.10628018528223038\n",
      "Epoch: 97/100\n"
     ]
    },
    {
     "name": "stderr",
     "output_type": "stream",
     "text": [
      "100%|██████████| 6/6 [00:03<00:00,  1.73it/s]\n"
     ]
    },
    {
     "name": "stdout",
     "output_type": "stream",
     "text": [
      "Train loss: 0.6983245809872946 Train accuracy 0.10760267948110898\n"
     ]
    },
    {
     "name": "stderr",
     "output_type": "stream",
     "text": [
      "100%|██████████| 1/1 [00:00<00:00,  1.79it/s]\n"
     ]
    },
    {
     "name": "stdout",
     "output_type": "stream",
     "text": [
      "accuracy didn't improve from 0.1630197912454605\n",
      "Valid loss: 0.7039681673049927 Valid accuracy 0.10500141233205795\n",
      "Epoch: 98/100\n"
     ]
    },
    {
     "name": "stderr",
     "output_type": "stream",
     "text": [
      "100%|██████████| 6/6 [00:04<00:00,  1.21it/s]\n"
     ]
    },
    {
     "name": "stdout",
     "output_type": "stream",
     "text": [
      "Train loss: 0.6988826096057892 Train accuracy 0.10862338915467262\n"
     ]
    },
    {
     "name": "stderr",
     "output_type": "stream",
     "text": [
      "100%|██████████| 1/1 [00:00<00:00,  1.77it/s]\n"
     ]
    },
    {
     "name": "stdout",
     "output_type": "stream",
     "text": [
      "accuracy didn't improve from 0.1630197912454605\n",
      "Valid loss: 0.7044227123260498 Valid accuracy 0.10514350235462189\n",
      "Epoch: 99/100\n"
     ]
    },
    {
     "name": "stderr",
     "output_type": "stream",
     "text": [
      "100%|██████████| 6/6 [00:03<00:00,  1.75it/s]\n"
     ]
    },
    {
     "name": "stdout",
     "output_type": "stream",
     "text": [
      "Train loss: 0.6983237465222677 Train accuracy 0.10923347373803456\n"
     ]
    },
    {
     "name": "stderr",
     "output_type": "stream",
     "text": [
      "100%|██████████| 1/1 [00:00<00:00,  1.78it/s]\n"
     ]
    },
    {
     "name": "stdout",
     "output_type": "stream",
     "text": [
      "accuracy didn't improve from 0.1630197912454605\n",
      "Valid loss: 0.704608142375946 Valid accuracy 0.10466987639665604\n",
      "Epoch: 100/100\n"
     ]
    },
    {
     "name": "stderr",
     "output_type": "stream",
     "text": [
      "100%|██████████| 6/6 [00:03<00:00,  1.71it/s]\n"
     ]
    },
    {
     "name": "stdout",
     "output_type": "stream",
     "text": [
      "Train loss: 0.69801464676857 Train accuracy 0.10953203216195107\n"
     ]
    },
    {
     "name": "stderr",
     "output_type": "stream",
     "text": [
      "100%|██████████| 1/1 [00:00<00:00,  1.74it/s]"
     ]
    },
    {
     "name": "stdout",
     "output_type": "stream",
     "text": [
      "accuracy didn't improve from 0.1630197912454605\n",
      "Valid loss: 0.7040518522262573 Valid accuracy 0.10542766749858856\n"
     ]
    },
    {
     "name": "stderr",
     "output_type": "stream",
     "text": [
      "\n"
     ]
    }
   ],
   "source": [
    "# LSTM Adam optimizer\n",
    "\n",
    "# clear the session to release all previous states generated by Keras\n",
    "tf.keras.backend.clear_session()\n",
    "# instantiate and compile the model inside the strategy scope defined previous\n",
    "with strategy.scope():\n",
    "  model = lstm_model()\n",
    "  # use Sparse Categorical Cross-entropy as a loss function as labels are not one-hot encoded\n",
    "  # use AdamW optimizer initially with a weight decay of 0.0\n",
    "  # use the Sparse Categorical Accuracy metric to monitor and save the best model weights\n",
    "  model.compile(loss=tf.keras.losses.SparseCategoricalCrossentropy(from_logits=False),\n",
    "                optimizer=tfa.optimizers.AdamW(learning_rate=config.LEARNING_RATE, weight_decay=0.0),\n",
    "                metrics=tf.keras.metrics.SparseCategoricalAccuracy())\n",
    "\n",
    "# initialize the best accuracy at - infinity\n",
    "best_acc = -np.inf\n",
    "# define number of steps per training epoch\n",
    "train_steps = (len(train_masked_labels)//config.BATCH_SIZE) + 1\n",
    "# define number of steps per evaluation epoch\n",
    "valid_steps = (len(valid_masked_labels)//config.BATCH_SIZE) + 1\n",
    "\n",
    "# for each epoch iterate over the whole training and validation sets\n",
    "for epoch in range(config.EPOCHS):\n",
    "  print(f'Epoch: {epoch+1}/{config.EPOCHS}')\n",
    "  \n",
    "  # initialize losses and accuracies list\n",
    "  losses = []\n",
    "  accs = []\n",
    "  # iterate over the training dataset\n",
    "  for step, (x, y, mask) in enumerate(tqdm(train_ds, total=train_steps)):\n",
    "    # stop when hitting the number of steps per epoch\n",
    "    if step == train_steps:\n",
    "      break\n",
    "    # train on each batch and pass the sample weights which gives weights to\n",
    "    # the masked tokens only\n",
    "    train_results = model.train_on_batch(x=x, y=y, sample_weight=mask,\n",
    "                                         reset_metrics=True, return_dict=True)\n",
    "    # append the loss value \n",
    "    losses.append(train_results['loss'])\n",
    "    # append the accuracy value\n",
    "    accs.append(train_results['sparse_categorical_accuracy'])\n",
    "    \n",
    "  print('Train loss:', np.mean(losses), 'Train accuracy', np.mean(accs))\n",
    "  \n",
    "  # initialize losses and accuracies list\n",
    "  losses = []\n",
    "  accs = []\n",
    "  # iterate over the validation dataset\n",
    "  for step, (x, y, mask) in enumerate(tqdm(valid_ds, total=valid_steps)):\n",
    "    # stop when hitting the number of steps per epoch\n",
    "    if step == valid_steps:\n",
    "      break\n",
    "    # evaluate on each batch and pass the sample weights which gives weights to\n",
    "    # the masked tokens only\n",
    "    valid_results = model.test_on_batch(x=x, y=y, sample_weight=mask,\n",
    "                                         reset_metrics=True, return_dict=True)\n",
    "    # append the loss value \n",
    "    losses.append(valid_results['loss'])\n",
    "    # append the accuracy value\n",
    "    accs.append(valid_results['sparse_categorical_accuracy'])\n",
    "  # monitor the accuracy metric and save model weights whenever there is an improvement\n",
    "  if np.mean(accs) > best_acc:\n",
    "    best_acc = np.mean(accs)\n",
    "    model.save_weights('best_pre_trained_weights.h5')\n",
    "    print('new model weights saved')\n",
    "    print('accuracy improved to', best_acc)\n",
    "  else:\n",
    "    print(\"accuracy didn't improve from\", best_acc)\n",
    "  print('Valid loss:', np.mean(losses), 'Valid accuracy', np.mean(accs))"
   ]
  },
  {
   "cell_type": "code",
   "execution_count": null,
   "metadata": {
    "id": "7N8R8N28tYK9"
   },
   "outputs": [],
   "source": []
  }
 ],
 "metadata": {
  "accelerator": "TPU",
  "colab": {
   "collapsed_sections": [],
   "name": "Character-BERT.ipynb",
   "provenance": []
  },
  "kernelspec": {
   "display_name": "Python 3 (ipykernel)",
   "language": "python",
   "name": "python3"
  },
  "language_info": {
   "codemirror_mode": {
    "name": "ipython",
    "version": 3
   },
   "file_extension": ".py",
   "mimetype": "text/x-python",
   "name": "python",
   "nbconvert_exporter": "python",
   "pygments_lexer": "ipython3",
   "version": "3.8.10"
  }
 },
 "nbformat": 4,
 "nbformat_minor": 1
}
